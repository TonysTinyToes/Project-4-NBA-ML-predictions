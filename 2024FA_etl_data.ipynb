{
 "cells": [
  {
   "cell_type": "code",
   "execution_count": 20,
   "id": "b161a41e",
   "metadata": {},
   "outputs": [],
   "source": [
    "import pandas as pd\n",
    "import json\n",
    "from nba_api.stats.endpoints import playercareerstats"
   ]
  },
  {
   "cell_type": "code",
   "execution_count": 21,
   "id": "f21d6bcc",
   "metadata": {},
   "outputs": [],
   "source": [
    "player_ids = [\n",
    "    '1627783', '1627741', '1626224', '1626220', '202699', '202691', '203925', '202694',\n",
    "    '1629001', '202330', '1630223', '1630161', '1628420', '1628365', '1629652', '1630230',\n",
    "    '201144', '203482', '200768', '203926', '1627788', '1629018', '1628380', '1626166',\n",
    "    '203493', '203915', '201942', '1629659', '202692', '203920', '200752', '1629020',\n",
    "    '1629162', '1628960', '202685', '203496', '1628392', '201587', '1628370', '1627863',\n",
    "    '1626145', '200765', '201988', '1629643', '1627745', '203914', '203937', '1626153',\n",
    "    '203083', '203490', '1630176', '1628436', '201935', '203488', '1629048', '1629676',\n",
    "    '1629632', '1627752', '201976', '201599', '203469', '203458', '1628970', '1629022',\n",
    "    '203200', '203486', '1627736', '1628961', '1628988', '203914', '1629234', '203967',\n",
    "    '1629626', '1629647', '202083', '203457', '202066'\n",
    "]"
   ]
  },
  {
   "cell_type": "code",
   "execution_count": 22,
   "id": "5369fb20",
   "metadata": {},
   "outputs": [],
   "source": [
    "# Loop through each player ID\n",
    "for player_id in player_ids:\n",
    "    career = playercareerstats.PlayerCareerStats(player_id=player_id)\n",
    "    career_json = career.get_json()\n",
    "    career_data = json.loads(career_json)\n",
    "\n",
    "    career_summary_data = career_data['resultSets'][0]\n",
    "    regular_season_data = career_data['resultSets'][1]\n",
    "    playoff_data = career_data['resultSets'][2]\n",
    "\n",
    "    career_summary_df = pd.DataFrame(data=career_summary_data['rowSet'], columns=career_summary_data['headers'])\n",
    "    regular_season_df = pd.DataFrame(data=regular_season_data['rowSet'], columns=regular_season_data['headers'])\n",
    "    playoff_df = pd.DataFrame(data=playoff_data['rowSet'], columns=playoff_data['headers'])\n",
    "    \n",
    "    # Save DataFrames as CSV files\n",
    "    career_summary_df.to_csv(f'career_summary_{player_id}.csv', index=False)\n",
    "    regular_season_df.to_csv(f'regular_season_{player_id}.csv', index=False)\n",
    "    playoff_df.to_csv(f'playoff_{player_id}.csv', index=False)"
   ]
  },
  {
   "cell_type": "code",
   "execution_count": 16,
   "id": "14e641d3",
   "metadata": {},
   "outputs": [
    {
     "name": "stdout",
     "output_type": "stream",
     "text": [
      "DataFrames saved as CSV files for Player ID 202699\n"
     ]
    }
   ],
   "source": [
    "print(f\"DataFrames saved as CSV files for Player ID {202699}\")"
   ]
  },
  {
   "cell_type": "code",
   "execution_count": 5,
   "id": "70542a8b",
   "metadata": {},
   "outputs": [],
   "source": []
  },
  {
   "cell_type": "code",
   "execution_count": 6,
   "id": "3051aea8",
   "metadata": {},
   "outputs": [
    {
     "name": "stdout",
     "output_type": "stream",
     "text": [
      "Career Summary DataFrame:\n",
      "   PLAYER_ID SEASON_ID LEAGUE_ID     TEAM_ID TEAM_ABBREVIATION  PLAYER_AGE  \\\n",
      "0    1627783   2016-17        00  1610612761               TOR        23.0   \n",
      "1    1627783   2017-18        00  1610612761               TOR        24.0   \n",
      "2    1627783   2018-19        00  1610612761               TOR        25.0   \n",
      "3    1627783   2019-20        00  1610612761               TOR        26.0   \n",
      "4    1627783   2020-21        00  1610612761               TOR        27.0   \n",
      "5    1627783   2021-22        00  1610612761               TOR        28.0   \n",
      "6    1627783   2022-23        00  1610612761               TOR        29.0   \n",
      "\n",
      "   GP  GS     MIN  FGM  ...  FT_PCT  OREB  DREB  REB  AST  STL  BLK  TOV   PF  \\\n",
      "0  55  38   859.0  103  ...   0.688    64   121  185   17   26   45   33  109   \n",
      "1  81   5  1679.0  253  ...   0.621    79   285  364  159   62   42   67  166   \n",
      "2  80  79  2548.0  519  ...   0.785   124   425  549  248   73   52  154  241   \n",
      "3  60  60  2110.0  500  ...   0.792    64   375  439  207   61   53  148  170   \n",
      "4  56  56  2006.0  437  ...   0.827    95   310  405  250   64   37  130  174   \n",
      "5  68  68  2578.0  596  ...   0.749   128   452  580  360   85   42  181  225   \n",
      "6  71  71  2652.0  630  ...   0.774   131   425  556  415   65   36  169  228   \n",
      "\n",
      "    PTS  \n",
      "0   229  \n",
      "1   589  \n",
      "2  1354  \n",
      "3  1371  \n",
      "4  1196  \n",
      "5  1551  \n",
      "6  1720  \n",
      "\n",
      "[7 rows x 27 columns]\n",
      "\n",
      "Regular Season DataFrame:\n",
      "   PLAYER_ID LEAGUE_ID  Team_ID   GP   GS      MIN   FGM   FGA    FG_PCT  \\\n",
      "0    1627783        00        0  471  377  14432.0  3038  6233  0.487405   \n",
      "\n",
      "   FG3M  ...    FT_PCT  OREB  DREB   REB   AST  STL  BLK  TOV    PF   PTS  \n",
      "0   481  ...  0.773695   685  2393  3078  1656  436  307  882  1313  8010  \n",
      "\n",
      "[1 rows x 24 columns]\n",
      "\n",
      "Playoff DataFrame:\n",
      "   PLAYER_ID SEASON_ID LEAGUE_ID     TEAM_ID TEAM_ABBREVIATION  PLAYER_AGE  \\\n",
      "0    1627783   2016-17        00  1610612761               TOR        23.0   \n",
      "1    1627783   2017-18        00  1610612761               TOR        24.0   \n",
      "2    1627783   2018-19        00  1610612761               TOR        25.0   \n",
      "3    1627783   2019-20        00  1610612761               TOR        26.0   \n",
      "4    1627783   2021-22        00  1610612761               TOR        28.0   \n",
      "\n",
      "   GP  GS    MIN  FGM  ...  FT_PCT  OREB  DREB  REB  AST  STL  BLK  TOV  PF  \\\n",
      "0   2   0   10.0    0  ...   0.000     2     1    3    1    1    0    0   1   \n",
      "1  10   0  179.0   25  ...   0.650     9    27   36    8    1    6    7  27   \n",
      "2  24  24  891.0  180  ...   0.759    40   131  171   66   24   17   33  67   \n",
      "3  11  11  418.0   72  ...   0.717    14    69   83   42   12    4   22  33   \n",
      "4   6   6  260.0   51  ...   0.861     8    35   43   35    7    6   13  24   \n",
      "\n",
      "   PTS  \n",
      "0    0  \n",
      "1   66  \n",
      "2  455  \n",
      "3  187  \n",
      "4  137  \n",
      "\n",
      "[5 rows x 27 columns]\n"
     ]
    }
   ],
   "source": []
  },
  {
   "cell_type": "code",
   "execution_count": 14,
   "id": "2200c83f",
   "metadata": {},
   "outputs": [],
   "source": [
    "\n"
   ]
  },
  {
   "cell_type": "code",
   "execution_count": 15,
   "id": "3c9450a1",
   "metadata": {},
   "outputs": [
    {
     "name": "stdout",
     "output_type": "stream",
     "text": [
      "   PLAYER_ID SEASON_ID LEAGUE_ID     TEAM_ID TEAM_ABBREVIATION  PLAYER_AGE  \\\n",
      "0    1627783   2016-17        00  1610612761               TOR        23.0   \n",
      "1    1627783   2017-18        00  1610612761               TOR        24.0   \n",
      "2    1627783   2018-19        00  1610612761               TOR        25.0   \n",
      "3    1627783   2019-20        00  1610612761               TOR        26.0   \n",
      "4    1627783   2020-21        00  1610612761               TOR        27.0   \n",
      "\n",
      "   GP  GS     MIN  FGM  ...  FT_PCT  OREB  DREB  REB  AST  STL  BLK  TOV   PF  \\\n",
      "0  55  38   859.0  103  ...   0.688    64   121  185   17   26   45   33  109   \n",
      "1  81   5  1679.0  253  ...   0.621    79   285  364  159   62   42   67  166   \n",
      "2  80  79  2548.0  519  ...   0.785   124   425  549  248   73   52  154  241   \n",
      "3  60  60  2110.0  500  ...   0.792    64   375  439  207   61   53  148  170   \n",
      "4  56  56  2006.0  437  ...   0.827    95   310  405  250   64   37  130  174   \n",
      "\n",
      "    PTS  \n",
      "0   229  \n",
      "1   589  \n",
      "2  1354  \n",
      "3  1371  \n",
      "4  1196  \n",
      "\n",
      "[5 rows x 27 columns]\n"
     ]
    }
   ],
   "source": []
  },
  {
   "cell_type": "code",
   "execution_count": null,
   "id": "7d497778",
   "metadata": {},
   "outputs": [],
   "source": []
  },
  {
   "cell_type": "code",
   "execution_count": null,
   "id": "32ab1965",
   "metadata": {},
   "outputs": [],
   "source": []
  }
 ],
 "metadata": {
  "kernelspec": {
   "display_name": "PythonData",
   "language": "python",
   "name": "pythondata"
  },
  "language_info": {
   "codemirror_mode": {
    "name": "ipython",
    "version": 3
   },
   "file_extension": ".py",
   "mimetype": "text/x-python",
   "name": "python",
   "nbconvert_exporter": "python",
   "pygments_lexer": "ipython3",
   "version": "3.7.7"
  }
 },
 "nbformat": 4,
 "nbformat_minor": 5
}
