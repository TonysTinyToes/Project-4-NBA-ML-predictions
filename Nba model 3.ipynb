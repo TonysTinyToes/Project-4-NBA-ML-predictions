{
 "cells": [
  {
   "cell_type": "code",
   "execution_count": 104,
   "metadata": {},
   "outputs": [],
   "source": [
    "# Import required libraries and dependencies\n",
    "import pandas as pd\n",
    "import sqlite3 as sqlite\n",
    "import hvplot.pandas\n",
    "from sklearn.cluster import KMeans\n",
    "from sklearn.decomposition import PCA\n",
    "from sklearn.preprocessing import StandardScaler"
   ]
  },
  {
   "cell_type": "code",
   "execution_count": 105,
   "metadata": {},
   "outputs": [
    {
     "data": {
      "text/html": [
       "<div>\n",
       "<style scoped>\n",
       "    .dataframe tbody tr th:only-of-type {\n",
       "        vertical-align: middle;\n",
       "    }\n",
       "\n",
       "    .dataframe tbody tr th {\n",
       "        vertical-align: top;\n",
       "    }\n",
       "\n",
       "    .dataframe thead th {\n",
       "        text-align: right;\n",
       "    }\n",
       "</style>\n",
       "<table border=\"1\" class=\"dataframe\">\n",
       "  <thead>\n",
       "    <tr style=\"text-align: right;\">\n",
       "      <th></th>\n",
       "      <th>PLAYER_ID</th>\n",
       "      <th>SEASON_ID</th>\n",
       "      <th>LEAGUE_ID</th>\n",
       "      <th>TEAM_ID</th>\n",
       "      <th>TEAM_ABBREVIATION</th>\n",
       "      <th>PLAYER_AGE</th>\n",
       "      <th>GP</th>\n",
       "      <th>GS</th>\n",
       "      <th>MIN</th>\n",
       "      <th>FGM</th>\n",
       "      <th>...</th>\n",
       "      <th>DREB</th>\n",
       "      <th>REB</th>\n",
       "      <th>AST</th>\n",
       "      <th>STL</th>\n",
       "      <th>BLK</th>\n",
       "      <th>TOV</th>\n",
       "      <th>PF</th>\n",
       "      <th>PTS</th>\n",
       "      <th>Player_Name</th>\n",
       "      <th>Salary</th>\n",
       "    </tr>\n",
       "  </thead>\n",
       "  <tbody>\n",
       "    <tr>\n",
       "      <th>0</th>\n",
       "      <td>1627783</td>\n",
       "      <td>2016-17</td>\n",
       "      <td>0</td>\n",
       "      <td>1610612761</td>\n",
       "      <td>TOR</td>\n",
       "      <td>23</td>\n",
       "      <td>55</td>\n",
       "      <td>38</td>\n",
       "      <td>859</td>\n",
       "      <td>103</td>\n",
       "      <td>...</td>\n",
       "      <td>121</td>\n",
       "      <td>185</td>\n",
       "      <td>17</td>\n",
       "      <td>26</td>\n",
       "      <td>45</td>\n",
       "      <td>33</td>\n",
       "      <td>109</td>\n",
       "      <td>229</td>\n",
       "      <td>Pascal Siakam</td>\n",
       "      <td>1196040.0</td>\n",
       "    </tr>\n",
       "    <tr>\n",
       "      <th>1</th>\n",
       "      <td>1627783</td>\n",
       "      <td>2017-18</td>\n",
       "      <td>0</td>\n",
       "      <td>1610612761</td>\n",
       "      <td>TOR</td>\n",
       "      <td>24</td>\n",
       "      <td>81</td>\n",
       "      <td>5</td>\n",
       "      <td>1679</td>\n",
       "      <td>253</td>\n",
       "      <td>...</td>\n",
       "      <td>285</td>\n",
       "      <td>364</td>\n",
       "      <td>159</td>\n",
       "      <td>62</td>\n",
       "      <td>42</td>\n",
       "      <td>67</td>\n",
       "      <td>166</td>\n",
       "      <td>589</td>\n",
       "      <td>Pascal Siakam</td>\n",
       "      <td>1312611.0</td>\n",
       "    </tr>\n",
       "    <tr>\n",
       "      <th>2</th>\n",
       "      <td>1627783</td>\n",
       "      <td>2018-19</td>\n",
       "      <td>0</td>\n",
       "      <td>1610612761</td>\n",
       "      <td>TOR</td>\n",
       "      <td>25</td>\n",
       "      <td>80</td>\n",
       "      <td>79</td>\n",
       "      <td>2548</td>\n",
       "      <td>519</td>\n",
       "      <td>...</td>\n",
       "      <td>425</td>\n",
       "      <td>549</td>\n",
       "      <td>248</td>\n",
       "      <td>73</td>\n",
       "      <td>52</td>\n",
       "      <td>154</td>\n",
       "      <td>241</td>\n",
       "      <td>1354</td>\n",
       "      <td>Pascal Siakam</td>\n",
       "      <td>1544951.0</td>\n",
       "    </tr>\n",
       "    <tr>\n",
       "      <th>3</th>\n",
       "      <td>1627783</td>\n",
       "      <td>2019-20</td>\n",
       "      <td>0</td>\n",
       "      <td>1610612761</td>\n",
       "      <td>TOR</td>\n",
       "      <td>26</td>\n",
       "      <td>60</td>\n",
       "      <td>60</td>\n",
       "      <td>2110</td>\n",
       "      <td>500</td>\n",
       "      <td>...</td>\n",
       "      <td>375</td>\n",
       "      <td>439</td>\n",
       "      <td>207</td>\n",
       "      <td>61</td>\n",
       "      <td>53</td>\n",
       "      <td>148</td>\n",
       "      <td>170</td>\n",
       "      <td>1371</td>\n",
       "      <td>Pascal Siakam</td>\n",
       "      <td>2204849.0</td>\n",
       "    </tr>\n",
       "    <tr>\n",
       "      <th>4</th>\n",
       "      <td>1627783</td>\n",
       "      <td>2020-21</td>\n",
       "      <td>0</td>\n",
       "      <td>1610612761</td>\n",
       "      <td>TOR</td>\n",
       "      <td>27</td>\n",
       "      <td>56</td>\n",
       "      <td>56</td>\n",
       "      <td>2006</td>\n",
       "      <td>437</td>\n",
       "      <td>...</td>\n",
       "      <td>310</td>\n",
       "      <td>405</td>\n",
       "      <td>250</td>\n",
       "      <td>64</td>\n",
       "      <td>37</td>\n",
       "      <td>130</td>\n",
       "      <td>174</td>\n",
       "      <td>1196</td>\n",
       "      <td>Pascal Siakam</td>\n",
       "      <td>30559200.0</td>\n",
       "    </tr>\n",
       "  </tbody>\n",
       "</table>\n",
       "<p>5 rows × 29 columns</p>\n",
       "</div>"
      ],
      "text/plain": [
       "   PLAYER_ID SEASON_ID  LEAGUE_ID     TEAM_ID TEAM_ABBREVIATION  PLAYER_AGE  \\\n",
       "0    1627783   2016-17          0  1610612761               TOR          23   \n",
       "1    1627783   2017-18          0  1610612761               TOR          24   \n",
       "2    1627783   2018-19          0  1610612761               TOR          25   \n",
       "3    1627783   2019-20          0  1610612761               TOR          26   \n",
       "4    1627783   2020-21          0  1610612761               TOR          27   \n",
       "\n",
       "   GP  GS   MIN  FGM  ...  DREB  REB  AST  STL  BLK  TOV   PF   PTS  \\\n",
       "0  55  38   859  103  ...   121  185   17   26   45   33  109   229   \n",
       "1  81   5  1679  253  ...   285  364  159   62   42   67  166   589   \n",
       "2  80  79  2548  519  ...   425  549  248   73   52  154  241  1354   \n",
       "3  60  60  2110  500  ...   375  439  207   61   53  148  170  1371   \n",
       "4  56  56  2006  437  ...   310  405  250   64   37  130  174  1196   \n",
       "\n",
       "     Player_Name      Salary  \n",
       "0  Pascal Siakam   1196040.0  \n",
       "1  Pascal Siakam   1312611.0  \n",
       "2  Pascal Siakam   1544951.0  \n",
       "3  Pascal Siakam   2204849.0  \n",
       "4  Pascal Siakam  30559200.0  \n",
       "\n",
       "[5 rows x 29 columns]"
      ]
     },
     "execution_count": 105,
     "metadata": {},
     "output_type": "execute_result"
    }
   ],
   "source": [
    "# conn = sqlite3.connect('test_database') \n",
    "          \n",
    "# sql_query = pd.read_sql_query ('''\n",
    "#                                SELECT\n",
    "#                                *\n",
    "#                                FROM products\n",
    "#                                ''', conn)\n",
    "\n",
    "# df = pd.DataFrame(sql_query, columns = ['product_id', 'product_name', 'price'])\n",
    "# print (df)\n",
    "\n",
    "# Load the data into a Pandas DataFrame\n",
    "df_player_data = pd.read_csv(\n",
    "    \"Resources/freeagent_2024_salary.csv\")\n",
    "\n",
    "# Display sample data\n",
    "df_player_data.head()"
   ]
  },
  {
   "cell_type": "code",
   "execution_count": 106,
   "metadata": {},
   "outputs": [
    {
     "data": {
      "text/html": [
       "<div>\n",
       "<style scoped>\n",
       "    .dataframe tbody tr th:only-of-type {\n",
       "        vertical-align: middle;\n",
       "    }\n",
       "\n",
       "    .dataframe tbody tr th {\n",
       "        vertical-align: top;\n",
       "    }\n",
       "\n",
       "    .dataframe thead th {\n",
       "        text-align: right;\n",
       "    }\n",
       "</style>\n",
       "<table border=\"1\" class=\"dataframe\">\n",
       "  <thead>\n",
       "    <tr style=\"text-align: right;\">\n",
       "      <th></th>\n",
       "      <th>PLAYER_ID</th>\n",
       "      <th>LEAGUE_ID</th>\n",
       "      <th>TEAM_ID</th>\n",
       "      <th>PLAYER_AGE</th>\n",
       "      <th>GP</th>\n",
       "      <th>GS</th>\n",
       "      <th>MIN</th>\n",
       "      <th>FGM</th>\n",
       "      <th>FGA</th>\n",
       "      <th>FG_PCT</th>\n",
       "      <th>...</th>\n",
       "      <th>OREB</th>\n",
       "      <th>DREB</th>\n",
       "      <th>REB</th>\n",
       "      <th>AST</th>\n",
       "      <th>STL</th>\n",
       "      <th>BLK</th>\n",
       "      <th>TOV</th>\n",
       "      <th>PF</th>\n",
       "      <th>PTS</th>\n",
       "      <th>Salary</th>\n",
       "    </tr>\n",
       "  </thead>\n",
       "  <tbody>\n",
       "    <tr>\n",
       "      <th>count</th>\n",
       "      <td>7.660000e+02</td>\n",
       "      <td>766.0</td>\n",
       "      <td>7.660000e+02</td>\n",
       "      <td>766.000000</td>\n",
       "      <td>766.000000</td>\n",
       "      <td>766.000000</td>\n",
       "      <td>766.000000</td>\n",
       "      <td>766.000000</td>\n",
       "      <td>766.000000</td>\n",
       "      <td>766.000000</td>\n",
       "      <td>...</td>\n",
       "      <td>766.000000</td>\n",
       "      <td>766.000000</td>\n",
       "      <td>766.000000</td>\n",
       "      <td>766.000000</td>\n",
       "      <td>766.000000</td>\n",
       "      <td>766.000000</td>\n",
       "      <td>766.000000</td>\n",
       "      <td>766.000000</td>\n",
       "      <td>766.000000</td>\n",
       "      <td>7.660000e+02</td>\n",
       "    </tr>\n",
       "    <tr>\n",
       "      <th>mean</th>\n",
       "      <td>6.678555e+05</td>\n",
       "      <td>0.0</td>\n",
       "      <td>1.448710e+09</td>\n",
       "      <td>26.321149</td>\n",
       "      <td>52.648825</td>\n",
       "      <td>30.450392</td>\n",
       "      <td>1344.070496</td>\n",
       "      <td>215.740209</td>\n",
       "      <td>472.194517</td>\n",
       "      <td>0.456825</td>\n",
       "      <td>...</td>\n",
       "      <td>53.127937</td>\n",
       "      <td>185.093995</td>\n",
       "      <td>238.221932</td>\n",
       "      <td>138.248042</td>\n",
       "      <td>45.330287</td>\n",
       "      <td>24.936031</td>\n",
       "      <td>74.789817</td>\n",
       "      <td>107.283290</td>\n",
       "      <td>594.339426</td>\n",
       "      <td>7.361134e+06</td>\n",
       "    </tr>\n",
       "    <tr>\n",
       "      <th>std</th>\n",
       "      <td>6.689011e+05</td>\n",
       "      <td>0.0</td>\n",
       "      <td>4.846196e+08</td>\n",
       "      <td>3.822362</td>\n",
       "      <td>23.029238</td>\n",
       "      <td>28.234027</td>\n",
       "      <td>809.791364</td>\n",
       "      <td>157.941270</td>\n",
       "      <td>343.680027</td>\n",
       "      <td>0.090007</td>\n",
       "      <td>...</td>\n",
       "      <td>59.906937</td>\n",
       "      <td>142.857931</td>\n",
       "      <td>195.365246</td>\n",
       "      <td>136.306032</td>\n",
       "      <td>33.607800</td>\n",
       "      <td>25.429946</td>\n",
       "      <td>59.698186</td>\n",
       "      <td>65.001071</td>\n",
       "      <td>449.777327</td>\n",
       "      <td>8.320708e+06</td>\n",
       "    </tr>\n",
       "    <tr>\n",
       "      <th>min</th>\n",
       "      <td>2.007520e+05</td>\n",
       "      <td>0.0</td>\n",
       "      <td>0.000000e+00</td>\n",
       "      <td>19.000000</td>\n",
       "      <td>1.000000</td>\n",
       "      <td>0.000000</td>\n",
       "      <td>3.000000</td>\n",
       "      <td>0.000000</td>\n",
       "      <td>1.000000</td>\n",
       "      <td>0.000000</td>\n",
       "      <td>...</td>\n",
       "      <td>0.000000</td>\n",
       "      <td>0.000000</td>\n",
       "      <td>0.000000</td>\n",
       "      <td>0.000000</td>\n",
       "      <td>0.000000</td>\n",
       "      <td>0.000000</td>\n",
       "      <td>0.000000</td>\n",
       "      <td>0.000000</td>\n",
       "      <td>0.000000</td>\n",
       "      <td>2.691700e+04</td>\n",
       "    </tr>\n",
       "    <tr>\n",
       "      <th>25%</th>\n",
       "      <td>2.020660e+05</td>\n",
       "      <td>0.0</td>\n",
       "      <td>1.610613e+09</td>\n",
       "      <td>23.000000</td>\n",
       "      <td>36.000000</td>\n",
       "      <td>3.000000</td>\n",
       "      <td>633.500000</td>\n",
       "      <td>88.000000</td>\n",
       "      <td>194.250000</td>\n",
       "      <td>0.412000</td>\n",
       "      <td>...</td>\n",
       "      <td>18.000000</td>\n",
       "      <td>77.250000</td>\n",
       "      <td>102.250000</td>\n",
       "      <td>43.250000</td>\n",
       "      <td>18.000000</td>\n",
       "      <td>8.000000</td>\n",
       "      <td>31.000000</td>\n",
       "      <td>55.250000</td>\n",
       "      <td>235.250000</td>\n",
       "      <td>1.725084e+06</td>\n",
       "    </tr>\n",
       "    <tr>\n",
       "      <th>50%</th>\n",
       "      <td>2.034860e+05</td>\n",
       "      <td>0.0</td>\n",
       "      <td>1.610613e+09</td>\n",
       "      <td>26.000000</td>\n",
       "      <td>58.000000</td>\n",
       "      <td>21.500000</td>\n",
       "      <td>1355.500000</td>\n",
       "      <td>192.000000</td>\n",
       "      <td>424.500000</td>\n",
       "      <td>0.444000</td>\n",
       "      <td>...</td>\n",
       "      <td>35.000000</td>\n",
       "      <td>160.000000</td>\n",
       "      <td>201.500000</td>\n",
       "      <td>99.000000</td>\n",
       "      <td>40.000000</td>\n",
       "      <td>18.000000</td>\n",
       "      <td>61.000000</td>\n",
       "      <td>104.000000</td>\n",
       "      <td>520.500000</td>\n",
       "      <td>3.954754e+06</td>\n",
       "    </tr>\n",
       "    <tr>\n",
       "      <th>75%</th>\n",
       "      <td>1.627741e+06</td>\n",
       "      <td>0.0</td>\n",
       "      <td>1.610613e+09</td>\n",
       "      <td>29.000000</td>\n",
       "      <td>72.000000</td>\n",
       "      <td>56.000000</td>\n",
       "      <td>1974.250000</td>\n",
       "      <td>303.750000</td>\n",
       "      <td>674.500000</td>\n",
       "      <td>0.486750</td>\n",
       "      <td>...</td>\n",
       "      <td>66.000000</td>\n",
       "      <td>260.000000</td>\n",
       "      <td>328.000000</td>\n",
       "      <td>184.750000</td>\n",
       "      <td>65.000000</td>\n",
       "      <td>33.000000</td>\n",
       "      <td>104.750000</td>\n",
       "      <td>156.000000</td>\n",
       "      <td>846.000000</td>\n",
       "      <td>1.006275e+07</td>\n",
       "    </tr>\n",
       "    <tr>\n",
       "      <th>max</th>\n",
       "      <td>1.630230e+06</td>\n",
       "      <td>0.0</td>\n",
       "      <td>1.610613e+09</td>\n",
       "      <td>37.000000</td>\n",
       "      <td>82.000000</td>\n",
       "      <td>82.000000</td>\n",
       "      <td>3175.000000</td>\n",
       "      <td>843.000000</td>\n",
       "      <td>1909.000000</td>\n",
       "      <td>1.000000</td>\n",
       "      <td>...</td>\n",
       "      <td>440.000000</td>\n",
       "      <td>848.000000</td>\n",
       "      <td>1247.000000</td>\n",
       "      <td>907.000000</td>\n",
       "      <td>189.000000</td>\n",
       "      <td>203.000000</td>\n",
       "      <td>464.000000</td>\n",
       "      <td>285.000000</td>\n",
       "      <td>2818.000000</td>\n",
       "      <td>4.431084e+07</td>\n",
       "    </tr>\n",
       "  </tbody>\n",
       "</table>\n",
       "<p>8 rows × 26 columns</p>\n",
       "</div>"
      ],
      "text/plain": [
       "          PLAYER_ID  LEAGUE_ID       TEAM_ID  PLAYER_AGE          GP  \\\n",
       "count  7.660000e+02      766.0  7.660000e+02  766.000000  766.000000   \n",
       "mean   6.678555e+05        0.0  1.448710e+09   26.321149   52.648825   \n",
       "std    6.689011e+05        0.0  4.846196e+08    3.822362   23.029238   \n",
       "min    2.007520e+05        0.0  0.000000e+00   19.000000    1.000000   \n",
       "25%    2.020660e+05        0.0  1.610613e+09   23.000000   36.000000   \n",
       "50%    2.034860e+05        0.0  1.610613e+09   26.000000   58.000000   \n",
       "75%    1.627741e+06        0.0  1.610613e+09   29.000000   72.000000   \n",
       "max    1.630230e+06        0.0  1.610613e+09   37.000000   82.000000   \n",
       "\n",
       "               GS          MIN         FGM          FGA      FG_PCT  ...  \\\n",
       "count  766.000000   766.000000  766.000000   766.000000  766.000000  ...   \n",
       "mean    30.450392  1344.070496  215.740209   472.194517    0.456825  ...   \n",
       "std     28.234027   809.791364  157.941270   343.680027    0.090007  ...   \n",
       "min      0.000000     3.000000    0.000000     1.000000    0.000000  ...   \n",
       "25%      3.000000   633.500000   88.000000   194.250000    0.412000  ...   \n",
       "50%     21.500000  1355.500000  192.000000   424.500000    0.444000  ...   \n",
       "75%     56.000000  1974.250000  303.750000   674.500000    0.486750  ...   \n",
       "max     82.000000  3175.000000  843.000000  1909.000000    1.000000  ...   \n",
       "\n",
       "             OREB        DREB          REB         AST         STL  \\\n",
       "count  766.000000  766.000000   766.000000  766.000000  766.000000   \n",
       "mean    53.127937  185.093995   238.221932  138.248042   45.330287   \n",
       "std     59.906937  142.857931   195.365246  136.306032   33.607800   \n",
       "min      0.000000    0.000000     0.000000    0.000000    0.000000   \n",
       "25%     18.000000   77.250000   102.250000   43.250000   18.000000   \n",
       "50%     35.000000  160.000000   201.500000   99.000000   40.000000   \n",
       "75%     66.000000  260.000000   328.000000  184.750000   65.000000   \n",
       "max    440.000000  848.000000  1247.000000  907.000000  189.000000   \n",
       "\n",
       "              BLK         TOV          PF          PTS        Salary  \n",
       "count  766.000000  766.000000  766.000000   766.000000  7.660000e+02  \n",
       "mean    24.936031   74.789817  107.283290   594.339426  7.361134e+06  \n",
       "std     25.429946   59.698186   65.001071   449.777327  8.320708e+06  \n",
       "min      0.000000    0.000000    0.000000     0.000000  2.691700e+04  \n",
       "25%      8.000000   31.000000   55.250000   235.250000  1.725084e+06  \n",
       "50%     18.000000   61.000000  104.000000   520.500000  3.954754e+06  \n",
       "75%     33.000000  104.750000  156.000000   846.000000  1.006275e+07  \n",
       "max    203.000000  464.000000  285.000000  2818.000000  4.431084e+07  \n",
       "\n",
       "[8 rows x 26 columns]"
      ]
     },
     "execution_count": 106,
     "metadata": {},
     "output_type": "execute_result"
    }
   ],
   "source": [
    "# Generate summary statistics\n",
    "df_player_data.describe()"
   ]
  },
  {
   "cell_type": "code",
   "execution_count": 107,
   "metadata": {},
   "outputs": [
    {
     "data": {},
     "metadata": {},
     "output_type": "display_data"
    },
    {
     "data": {
      "application/vnd.holoviews_exec.v0+json": "",
      "text/html": [
       "<div id='21916'>\n",
       "  <div class=\"bk-root\" id=\"d3ad3cbf-fea5-4309-95d8-a9bb38e55520\" data-root-id=\"21916\"></div>\n",
       "</div>\n",
       "<script type=\"application/javascript\">(function(root) {\n",
       "  function embed_document(root) {\n",
       "    var docs_json = {\"2001a82b-581f-4340-b1f0-b57709827d98\":{\"defs\":[{\"extends\":null,\"module\":null,\"name\":\"ReactiveHTML1\",\"overrides\":[],\"properties\":[]},{\"extends\":null,\"module\":null,\"name\":\"FlexBox1\",\"overrides\":[],\"properties\":[{\"default\":\"flex-start\",\"kind\":null,\"name\":\"align_content\"},{\"default\":\"flex-start\",\"kind\":null,\"name\":\"align_items\"},{\"default\":\"row\",\"kind\":null,\"name\":\"flex_direction\"},{\"default\":\"wrap\",\"kind\":null,\"name\":\"flex_wrap\"},{\"default\":\"flex-start\",\"kind\":null,\"name\":\"justify_content\"}]},{\"extends\":null,\"module\":null,\"name\":\"GridStack1\",\"overrides\":[],\"properties\":[{\"default\":\"warn\",\"kind\":null,\"name\":\"mode\"},{\"default\":null,\"kind\":null,\"name\":\"ncols\"},{\"default\":null,\"kind\":null,\"name\":\"nrows\"},{\"default\":true,\"kind\":null,\"name\":\"allow_resize\"},{\"default\":true,\"kind\":null,\"name\":\"allow_drag\"},{\"default\":[],\"kind\":null,\"name\":\"state\"}]},{\"extends\":null,\"module\":null,\"name\":\"click1\",\"overrides\":[],\"properties\":[{\"default\":\"\",\"kind\":null,\"name\":\"terminal_output\"},{\"default\":\"\",\"kind\":null,\"name\":\"debug_name\"},{\"default\":0,\"kind\":null,\"name\":\"clears\"}]},{\"extends\":null,\"module\":null,\"name\":\"NotificationAreaBase1\",\"overrides\":[],\"properties\":[{\"default\":\"bottom-right\",\"kind\":null,\"name\":\"position\"},{\"default\":0,\"kind\":null,\"name\":\"_clear\"}]},{\"extends\":null,\"module\":null,\"name\":\"NotificationArea1\",\"overrides\":[],\"properties\":[{\"default\":[],\"kind\":null,\"name\":\"notifications\"},{\"default\":\"bottom-right\",\"kind\":null,\"name\":\"position\"},{\"default\":0,\"kind\":null,\"name\":\"_clear\"},{\"default\":[{\"background\":\"#ffc107\",\"icon\":{\"className\":\"fas fa-exclamation-triangle\",\"color\":\"white\",\"tagName\":\"i\"},\"type\":\"warning\"},{\"background\":\"#007bff\",\"icon\":{\"className\":\"fas fa-info-circle\",\"color\":\"white\",\"tagName\":\"i\"},\"type\":\"info\"}],\"kind\":null,\"name\":\"types\"}]},{\"extends\":null,\"module\":null,\"name\":\"Notification\",\"overrides\":[],\"properties\":[{\"default\":null,\"kind\":null,\"name\":\"background\"},{\"default\":3000,\"kind\":null,\"name\":\"duration\"},{\"default\":null,\"kind\":null,\"name\":\"icon\"},{\"default\":\"\",\"kind\":null,\"name\":\"message\"},{\"default\":null,\"kind\":null,\"name\":\"notification_type\"},{\"default\":false,\"kind\":null,\"name\":\"_destroyed\"}]},{\"extends\":null,\"module\":null,\"name\":\"TemplateActions1\",\"overrides\":[],\"properties\":[{\"default\":0,\"kind\":null,\"name\":\"open_modal\"},{\"default\":0,\"kind\":null,\"name\":\"close_modal\"}]},{\"extends\":null,\"module\":null,\"name\":\"MaterialTemplateActions1\",\"overrides\":[],\"properties\":[{\"default\":0,\"kind\":null,\"name\":\"open_modal\"},{\"default\":0,\"kind\":null,\"name\":\"close_modal\"}]}],\"roots\":{\"references\":[{\"attributes\":{\"data\":{\"Variable\":[\"FG3A\",\"FG3A\",\"FG3A\",\"FG3A\",\"FG3A\",\"FG3A\",\"FG3A\",\"FG3A\",\"FG3A\",\"FG3A\",\"FG3A\",\"FG3A\",\"FG3A\",\"FG3A\",\"FG3A\",\"FG3A\",\"FG3A\",\"FG3A\",\"FG3A\",\"FG3A\",\"FG3A\",\"FG3A\",\"FG3A\",\"FG3A\",\"FG3A\",\"FG3A\",\"FG3A\",\"FG3A\",\"FG3A\",\"FG3A\",\"FG3A\",\"FG3A\",\"FG3A\",\"FG3A\",\"FG3A\",\"FG3A\",\"FG3A\",\"FG3A\",\"FG3A\",\"FG3A\",\"FG3A\",\"FG3A\",\"FG3A\",\"FG3A\",\"FG3A\",\"FG3A\",\"FG3A\",\"FG3A\",\"FG3A\",\"FG3A\",\"FG3A\",\"FG3A\",\"FG3A\",\"FG3A\",\"FG3A\",\"FG3A\",\"FG3A\",\"FG3A\",\"FG3A\",\"FG3A\",\"FG3A\",\"FG3A\",\"FG3A\",\"FG3A\",\"FG3A\",\"FG3A\",\"FG3A\",\"FG3A\",\"FG3A\",\"FG3A\",\"FG3A\",\"FG3A\",\"FG3A\",\"FG3A\",\"FG3A\",\"FG3A\",\"FG3A\",\"FG3A\",\"FG3A\",\"FG3A\",\"FG3A\",\"FG3A\",\"FG3A\",\"FG3A\",\"FG3A\",\"FG3A\",\"FG3A\",\"FG3A\",\"FG3A\",\"FG3A\",\"FG3A\",\"FG3A\",\"FG3A\",\"FG3A\",\"FG3A\",\"FG3A\",\"FG3A\",\"FG3A\",\"FG3A\",\"FG3A\",\"FG3A\",\"FG3A\",\"FG3A\",\"FG3A\",\"FG3A\",\"FG3A\",\"FG3A\",\"FG3A\",\"FG3A\",\"FG3A\",\"FG3A\",\"FG3A\",\"FG3A\",\"FG3A\",\"FG3A\",\"FG3A\",\"FG3A\",\"FG3A\",\"FG3A\",\"FG3A\",\"FG3A\",\"FG3A\",\"FG3A\",\"FG3A\",\"FG3A\",\"FG3A\",\"FG3A\",\"FG3A\",\"FG3A\",\"FG3A\",\"FG3A\",\"FG3A\",\"FG3A\",\"FG3A\",\"FG3A\",\"FG3A\",\"FG3A\",\"FG3A\",\"FG3A\",\"FG3A\",\"FG3A\",\"FG3A\",\"FG3A\",\"FG3A\",\"FG3A\",\"FG3A\",\"FG3A\",\"FG3A\",\"FG3A\",\"FG3A\",\"FG3A\",\"FG3A\",\"FG3A\",\"FG3A\",\"FG3A\",\"FG3A\",\"FG3A\",\"FG3A\",\"FG3A\",\"FG3A\",\"FG3A\",\"FG3A\",\"FG3A\",\"FG3A\",\"FG3A\",\"FG3A\",\"FG3A\",\"FG3A\",\"FG3A\",\"FG3A\",\"FG3A\",\"FG3A\",\"FG3A\",\"FG3A\",\"FG3A\",\"FG3A\",\"FG3A\",\"FG3A\",\"FG3A\",\"FG3A\",\"FG3A\",\"FG3A\",\"FG3A\",\"FG3A\",\"FG3A\",\"FG3A\",\"FG3A\",\"FG3A\",\"FG3A\",\"FG3A\",\"FG3A\",\"FG3A\",\"FG3A\",\"FG3A\",\"FG3A\",\"FG3A\",\"FG3A\",\"FG3A\",\"FG3A\",\"FG3A\",\"FG3A\",\"FG3A\",\"FG3A\",\"FG3A\",\"FG3A\",\"FG3A\",\"FG3A\",\"FG3A\",\"FG3A\",\"FG3A\",\"FG3A\",\"FG3A\",\"FG3A\",\"FG3A\",\"FG3A\",\"FG3A\",\"FG3A\",\"FG3A\",\"FG3A\",\"FG3A\",\"FG3A\",\"FG3A\",\"FG3A\",\"FG3A\",\"FG3A\",\"FG3A\",\"FG3A\",\"FG3A\",\"FG3A\",\"FG3A\",\"FG3A\",\"FG3A\",\"FG3A\",\"FG3A\",\"FG3A\",\"FG3A\",\"FG3A\",\"FG3A\",\"FG3A\",\"FG3A\",\"FG3A\",\"FG3A\",\"FG3A\",\"FG3A\",\"FG3A\",\"FG3A\",\"FG3A\",\"FG3A\",\"FG3A\",\"FG3A\",\"FG3A\",\"FG3A\",\"FG3A\",\"FG3A\",\"FG3A\",\"FG3A\",\"FG3A\",\"FG3A\",\"FG3A\",\"FG3A\",\"FG3A\",\"FG3A\",\"FG3A\",\"FG3A\",\"FG3A\",\"FG3A\",\"FG3A\",\"FG3A\",\"FG3A\",\"FG3A\",\"FG3A\",\"FG3A\",\"FG3A\",\"FG3A\",\"FG3A\",\"FG3A\",\"FG3A\",\"FG3A\",\"FG3A\",\"FG3A\",\"FG3A\",\"FG3A\",\"FG3A\",\"FG3A\",\"FG3A\",\"FG3A\",\"FG3A\",\"FG3A\",\"FG3A\",\"FG3A\",\"FG3A\",\"FG3A\",\"FG3A\",\"FG3A\",\"FG3A\",\"FG3A\",\"FG3A\",\"FG3A\",\"FG3A\",\"FG3A\",\"FG3A\",\"FG3A\",\"FG3A\",\"FG3A\",\"FG3A\",\"FG3A\",\"FG3A\",\"FG3A\",\"FG3A\",\"FG3A\",\"FG3A\",\"FG3A\",\"FG3A\",\"FG3A\",\"FG3A\",\"FG3A\",\"FG3A\",\"FG3A\",\"FG3A\",\"FG3A\",\"FG3A\",\"FG3A\",\"FG3A\",\"FG3A\",\"FG3A\",\"FG3A\",\"FG3A\",\"FG3A\",\"FG3A\",\"FG3A\",\"FG3A\",\"FG3A\",\"FG3A\",\"FG3A\",\"FG3A\",\"FG3A\",\"FG3A\",\"FG3A\",\"FG3A\",\"FG3A\",\"FG3A\",\"FG3A\",\"FG3A\",\"FG3A\",\"FG3A\",\"FG3A\",\"FG3A\",\"FG3A\",\"FG3A\",\"FG3A\",\"FG3A\",\"FG3A\",\"FG3A\",\"FG3A\",\"FG3A\",\"FG3A\",\"FG3A\",\"FG3A\",\"FG3A\",\"FG3A\",\"FG3A\",\"FG3A\",\"FG3A\",\"FG3A\",\"FG3A\",\"FG3A\",\"FG3A\",\"FG3A\",\"FG3A\",\"FG3A\",\"FG3A\",\"FG3A\",\"FG3A\",\"FG3A\",\"FG3A\",\"FG3A\",\"FG3A\",\"FG3A\",\"FG3A\",\"FG3A\",\"FG3A\",\"FG3A\",\"FG3A\",\"FG3A\",\"FG3A\",\"FG3A\",\"FG3A\",\"FG3A\",\"FG3A\",\"FG3A\",\"FG3A\",\"FG3A\",\"FG3A\",\"FG3A\",\"FG3A\",\"FG3A\",\"FG3A\",\"FG3A\",\"FG3A\",\"FG3A\",\"FG3A\",\"FG3A\",\"FG3A\",\"FG3A\",\"FG3A\",\"FG3A\",\"FG3A\",\"FG3A\",\"FG3A\",\"FG3A\",\"FG3A\",\"FG3A\",\"FG3A\",\"FG3A\",\"FG3A\",\"FG3A\",\"FG3A\",\"FG3A\",\"FG3A\",\"FG3A\",\"FG3A\",\"FG3A\",\"FG3A\",\"FG3A\",\"FG3A\",\"FG3A\",\"FG3A\",\"FG3A\",\"FG3A\",\"FG3A\",\"FG3A\",\"FG3A\",\"FG3A\",\"FG3A\",\"FG3A\",\"FG3A\",\"FG3A\",\"FG3A\",\"FG3A\",\"FG3A\",\"FG3A\",\"FG3A\",\"FG3A\",\"FG3A\",\"FG3A\",\"FG3A\",\"FG3A\",\"FG3A\",\"FG3A\",\"FG3A\",\"FG3A\",\"FG3A\",\"FG3A\",\"FG3A\",\"FG3A\",\"FG3A\",\"FG3A\",\"FG3A\",\"FG3A\",\"FG3A\",\"FG3A\",\"FG3A\",\"FG3A\",\"FG3A\",\"FG3A\",\"FG3A\",\"FG3A\",\"FG3A\",\"FG3A\",\"FG3A\",\"FG3A\",\"FG3A\",\"FG3A\",\"FG3A\",\"FG3A\",\"FG3A\",\"FG3A\",\"FG3A\",\"FG3A\",\"FG3A\",\"FG3A\",\"FG3A\",\"FG3A\",\"FG3A\",\"FG3A\",\"FG3A\",\"FG3A\",\"FG3A\",\"FG3A\",\"FG3A\",\"FG3A\",\"FG3A\",\"FG3A\",\"FG3A\",\"FG3A\",\"FG3A\",\"FG3A\",\"FG3A\",\"FG3A\",\"FG3A\",\"FG3A\",\"FG3A\",\"FG3A\",\"FG3A\",\"FG3A\",\"FG3A\",\"FG3A\",\"FG3A\",\"FG3A\",\"FG3A\",\"FG3A\",\"FG3A\",\"FG3A\",\"FG3A\",\"FG3A\",\"FG3A\",\"FG3A\",\"FG3A\",\"FG3A\",\"FG3A\",\"FG3A\",\"FG3A\",\"FG3A\",\"FG3A\",\"FG3A\",\"FG3A\",\"FG3A\",\"FG3A\",\"FG3A\",\"FG3A\",\"FG3A\",\"FG3A\",\"FG3A\",\"FG3A\",\"FG3A\",\"FG3A\",\"FG3A\",\"FG3A\",\"FG3A\",\"FG3A\",\"FG3A\",\"FG3A\",\"FG3A\",\"FG3A\",\"FG3A\",\"FG3A\",\"FG3A\",\"FG3A\",\"FG3A\",\"FG3A\",\"FG3A\",\"FG3A\",\"FG3A\",\"FG3A\",\"FG3A\",\"FG3A\",\"FG3A\",\"FG3A\",\"FG3A\",\"FG3A\",\"FG3A\",\"FG3A\",\"FG3A\",\"FG3A\",\"FG3A\",\"FG3A\",\"FG3A\",\"FG3A\",\"FG3A\",\"FG3A\",\"FG3A\",\"FG3A\",\"FG3A\",\"FG3A\",\"FG3A\",\"FG3A\",\"FG3A\",\"FG3A\",\"FG3A\",\"FG3A\",\"FG3A\",\"FG3A\",\"FG3A\",\"FG3A\",\"FG3A\",\"FG3A\",\"FG3A\",\"FG3A\",\"FG3A\",\"FG3A\",\"FG3A\",\"FG3A\",\"FG3A\",\"FG3A\",\"FG3A\",\"FG3A\",\"FG3A\",\"FG3A\",\"FG3A\",\"FG3A\",\"FG3A\",\"FG3A\",\"FG3A\",\"FG3A\",\"FG3A\",\"FG3A\",\"FG3A\",\"FG3A\",\"FG3A\",\"FG3A\",\"FG3A\",\"FG3A\",\"FG3A\",\"FG3A\",\"FG3A\",\"FG3A\",\"FG3A\",\"FG3A\",\"FG3A\",\"FG3A\",\"FG3A\",\"FG3A\",\"FG3A\",\"FG3A\",\"FG3A\",\"FG3A\",\"FG3A\",\"FG3A\",\"FG3A\",\"FG3A\",\"FG3A\",\"FG3A\",\"FG3A\",\"FG3A\",\"FG3A\",\"FG3A\",\"FG3A\",\"FG3A\",\"FG3A\",\"FG3A\",\"FG3A\",\"FG3A\",\"FG3A\",\"FG3A\",\"FG3A\",\"FG3A\",\"FG3A\",\"FG3A\",\"FG3A\",\"FG3A\",\"FG3A\",\"FG3A\",\"FG3A\",\"FG3A\",\"FG3A\",\"FG3A\",\"FG3A\",\"FG3A\",\"FG3A\",\"FG3A\",\"FG3A\",\"FG3A\",\"FG3A\",\"FG3A\",\"FG3A\",\"FG3A\",\"FG3A\",\"FG3A\",\"FG3A\",\"FG3A\",\"FG3A\",\"FG3A\",\"FG3A\",\"FG3A\",\"FG3A\",\"FG3A\",\"FG3A\",\"FG3A\",\"FG3A\",\"FG3A\",\"FG3A\",\"FG3A\",\"FG3A\",\"FG3A\",\"FG3A\",\"FG3A\",\"FG3A\",\"FG3A\",\"FG3A\",\"FG3A\",\"FG3A\",\"FG3A\",\"FG3A\",\"FG3A\",\"FG3A\",\"FG3A\",\"FG3A\",\"FG3A\",\"FG3A\",\"FG3A\",\"FG3A\",\"FG3A\",\"FG3A\",\"FG3A\",\"FG3A\",\"FG3A\",\"FG3A\",\"FG3A\",\"FG3A\",\"FG3A\",\"FG3A\",\"FG3A\",\"FG3A\",\"FG3A\",\"FG3A\",\"FG3A\",\"FG3A\",\"FG3A\",\"FG3A\",\"FG3A\",\"FG3A\",\"FG3A\",\"FG3A\",\"FG3A\",\"FG3A\",\"FG3A\",\"FG3A\",\"FG3A\",\"FG3A\",\"FG3A\",\"FG3A\",\"FG3A\",\"FG3A\",\"FG3A\",\"FG3A\",\"FG3A\",\"FG3A\",\"FG3A\",\"FG3A\",\"FG3A\",\"FG3A\",\"FG3A\",\"FG3A\",\"FG3A\",\"FG3A\",\"FG3A\",\"FG3A\",\"FG3A\",\"FG3A\",\"FG3A\",\"FG3A\",\"FG3A\",\"FG3A\",\"FG3A\",\"FG3A\",\"FG3A\",\"FG3A\",\"FG3A\",\"FG3A\",\"FG3A\",\"FG3A\",\"FG3A\",\"FG3A\",\"FG3A\",\"FG3A\",\"FG3A\"],\"index\":[0,1,2,3,4,5,6,7,8,9,10,11,12,13,14,15,16,17,18,19,20,21,22,23,24,25,26,27,28,29,30,31,32,33,34,35,36,37,38,39,40,41,42,43,44,45,46,47,48,49,50,51,52,53,54,55,56,57,58,59,60,61,62,63,64,65,66,67,68,69,70,71,72,73,74,75,76,77,78,79,80,81,82,83,84,85,86,87,88,89,90,91,92,93,94,95,96,97,98,99,100,101,102,103,104,105,106,107,108,109,110,111,112,113,114,115,116,117,118,119,120,121,122,123,124,125,126,127,128,129,130,131,132,133,134,135,136,137,138,139,140,141,142,143,144,145,146,147,148,149,150,151,152,153,154,155,156,157,158,159,160,161,162,163,164,165,166,167,168,169,170,171,172,173,174,175,176,177,178,179,180,181,182,183,184,185,186,187,188,189,190,191,192,193,194,195,196,197,198,199,200,201,202,203,204,205,206,207,208,209,210,211,212,213,214,215,216,217,218,219,220,221,222,223,224,225,226,227,228,229,230,231,232,233,234,235,236,237,238,239,240,241,242,243,244,245,246,247,248,249,250,251,252,253,254,255,256,257,258,259,260,261,262,263,264,265,266,267,268,269,270,271,272,273,274,275,276,277,278,279,280,281,282,283,284,285,286,287,288,289,290,291,292,293,294,295,296,297,298,299,300,301,302,303,304,305,306,307,308,309,310,311,312,313,314,315,316,317,318,319,320,321,322,323,324,325,326,327,328,329,330,331,332,333,334,335,336,337,338,339,340,341,342,343,344,345,346,347,348,349,350,351,352,353,354,355,356,357,358,359,360,361,362,363,364,365,366,367,368,369,370,371,372,373,374,375,376,377,378,379,380,381,382,383,384,385,386,387,388,389,390,391,392,393,394,395,396,397,398,399,400,401,402,403,404,405,406,407,408,409,410,411,412,413,414,415,416,417,418,419,420,421,422,423,424,425,426,427,428,429,430,431,432,433,434,435,436,437,438,439,440,441,442,443,444,445,446,447,448,449,450,451,452,453,454,455,456,457,458,459,460,461,462,463,464,465,466,467,468,469,470,471,472,473,474,475,476,477,478,479,480,481,482,483,484,485,486,487,488,489,490,491,492,493,494,495,496,497,498,499,500,501,502,503,504,505,506,507,508,509,510,511,512,513,514,515,516,517,518,519,520,521,522,523,524,525,526,527,528,529,530,531,532,533,534,535,536,537,538,539,540,541,542,543,544,545,546,547,548,549,550,551,552,553,554,555,556,557,558,559,560,561,562,563,564,565,566,567,568,569,570,571,572,573,574,575,576,577,578,579,580,581,582,583,584,585,586,587,588,589,590,591,592,593,594,595,596,597,598,599,600,601,602,603,604,605,606,607,608,609,610,611,612,613,614,615,616,617,618,619,620,621,622,623,624,625,626,627,628,629,630,631,632,633,634,635,636,637,638,639,640,641,642,643,644,645,646,647,648,649,650,651,652,653,654,655,656,657,658,659,660,661,662,663,664,665,666,667,668,669,670,671,672,673,674,675,676,677,678,679,680,681,682,683,684,685,686,687,688,689,690,691,692,693,694,695,696,697,698,699,700,701,702,703,704,705,706,707,708,709,710,711,712,713,714,715,716,717,718,719,720,721,722,723,724,725,726,727,728,729,730,731,732,733,734,735,736,737,738,739,740,741,742,743,744,745,746,747,748,749,750,751,752,753,754,755,756,757,758,759,760,761,762,763,764,765],\"value\":[7,132,214,365,246,218,287,241,138,379,408,651,688,721,495,221,716,677,87,374,321,324,359,312,118,176,244,278,306,419,23,21,87,108,126,239,151,88,239,314,276,169,445,258,135,393,357,208,275,324,268,526,535,545,650,647,520,599,296,731,84,4,221,358,386,406,444,88,333,17,194,39,233,260,313,298,357,234,389,264,84,348,296,275,308,95,140,211,372,403,74,159,246,280,330,410,374,1,231,222,205,220,160,36,1,227,172,134,314,204,1,14,135,16,17,87,101,329,391,409,83,105,218,91,217,212,217,159,293,291,277,215,419,77,426,256,335,414,213,138,351,114,175,210,192,280,319,234,243,125,368,119,236,8,140,69,29,98,136,343,211,279,500,391,547,468,596,453,466,331,382,310,41,259,150,58,208,137,79,216,206,294,286,256,298,17,144,356,269,266,46,21,268,305,124,429,545,450,113,121,19,41,147,111,52,34,86,91,59,25,84,29,166,211,185,73,39,7,46,53,73,281,294,99,393,111,398,392,397,65,10,101,433,370,400,7,226,104,330,341,149,490,16,52,92,120,210,88,139,124,287,45,35,74,142,142,13,131,182,203,45,92,143,68,79,76,142,43,119,6,168,224,77,301,246,389,239,0,1,1,21,31,52,14,2,143,387,242,202,144,173,129,131,260,59,138,197,220,215,113,118,184,220,278,203,130,1,0,1,1,5,14,57,33,90,76,92,85,78,99,141,274,389,366,0,1,1,0,2,74,30,18,48,91,57,158,109,11,446,482,412,550,77,148,225,312,168,480,356,230,109,339,136,6,5,0,6,6,30,37,168,132,342,274,444,402,309,399,405,274,298,49,272,270,317,243,330,204,212,442,398,58,178,355,156,34,1,82,117,110,53,73,129,126,124,140,205,326,29,19,48,80,43,42,50,90,32,54,86,170,133,150,142,125,45,44,89,30,58,88,4,133,56,130,318,182,320,355,414,404,403,429,568,134,141,371,86,0,0,0,9,1,0,4,5,29,3,14,17,103,297,255,394,242,210,75,66,141,302,218,11,37,40,57,34,85,261,109,105,13,30,153,90,78,168,127,89,83,172,116,119,2,2,2,6,7,11,38,21,14,35,8,0,8,2,1,3,3,21,104,267,341,313,176,80,256,62,95,9,104,216,17,7,0,0,0,0,79,193,108,23,36,59,1,0,4,5,13,248,324,292,486,483,555,657,756,722,1028,843,72,262,334,307,141,448,418,3,22,39,110,167,199,57,256,143,184,163,142,65,207,42,79,80,14,12,26,0,109,99,60,376,454,353,344,102,457,315,431,37,118,155,229,194,96,255,323,310,288,60,282,206,141,242,158,81,239,0,2,1,1,0,0,4,1,2,0,0,0,0,0,1,0,0,0,1,1,1,10,1,3,22,75,28,4,2,0,3,7,12,3,204,56,3,59,6,19,25,21,2,200,300,290,465,13,101,282,353,249,16,109,45,60,105,273,449,270,195,465,331,453,336,146,482,87,56,143,3,3,4,5,1,6,1,10,5,7,2,0,0,0,28,82,405,161,115,276,321,637,471,187,658,0,0,0,127,221,182,67,36,103,88,0,1,2,8,15,23,18,341,399,70,253,323,235,135,69,46,115,9,24,4,113,141,286,269,45,8,53,165,378,337,425,511,445,525,479,402,263,10,130,403,297,197,157,124,12,2,23,37,1,10,26,37,80,29,88,258,220,227,210,54,264,386,200,185,26]},\"selected\":{\"id\":\"22313\"},\"selection_policy\":{\"id\":\"22349\"}},\"id\":\"22312\",\"type\":\"ColumnDataSource\"},{\"attributes\":{},\"id\":\"21982\",\"type\":\"Selection\"},{\"attributes\":{},\"id\":\"22127\",\"type\":\"UnionRenderers\"},{\"attributes\":{\"coordinates\":null,\"data_source\":{\"id\":\"22102\"},\"glyph\":{\"id\":\"22105\"},\"group\":null,\"hover_glyph\":null,\"muted_glyph\":{\"id\":\"22107\"},\"nonselection_glyph\":{\"id\":\"22106\"},\"selection_glyph\":{\"id\":\"22131\"},\"view\":{\"id\":\"22109\"}},\"id\":\"22108\",\"type\":\"GlyphRenderer\"},{\"attributes\":{},\"id\":\"22193\",\"type\":\"UnionRenderers\"},{\"attributes\":{\"end\":765.0,\"reset_end\":765.0,\"reset_start\":0.0,\"tags\":[[[\"index\",\"index\",null]]]},\"id\":\"21917\",\"type\":\"Range1d\"},{\"attributes\":{\"line_color\":\"#9467bd\",\"line_width\":2,\"tags\":[\"apply_ranges\"],\"x\":{\"field\":\"index\"},\"y\":{\"field\":\"value\"}},\"id\":\"22135\",\"type\":\"Line\"},{\"attributes\":{},\"id\":\"22043\",\"type\":\"UnionRenderers\"},{\"attributes\":{\"line_color\":\"#8b8b8b\",\"line_width\":2,\"tags\":[\"apply_ranges\"],\"x\":{\"field\":\"index\"},\"y\":{\"field\":\"value\"}},\"id\":\"22077\",\"type\":\"Line\"},{\"attributes\":{\"source\":{\"id\":\"22102\"}},\"id\":\"22109\",\"type\":\"CDSView\"},{\"attributes\":{\"label\":{\"value\":\"TEAM_ID\"},\"renderers\":[{\"id\":\"22030\"}]},\"id\":\"22046\",\"type\":\"LegendItem\"},{\"attributes\":{\"source\":{\"id\":\"22048\"}},\"id\":\"22055\",\"type\":\"CDSView\"},{\"attributes\":{\"data\":{\"Variable\":[\"OREB\",\"OREB\",\"OREB\",\"OREB\",\"OREB\",\"OREB\",\"OREB\",\"OREB\",\"OREB\",\"OREB\",\"OREB\",\"OREB\",\"OREB\",\"OREB\",\"OREB\",\"OREB\",\"OREB\",\"OREB\",\"OREB\",\"OREB\",\"OREB\",\"OREB\",\"OREB\",\"OREB\",\"OREB\",\"OREB\",\"OREB\",\"OREB\",\"OREB\",\"OREB\",\"OREB\",\"OREB\",\"OREB\",\"OREB\",\"OREB\",\"OREB\",\"OREB\",\"OREB\",\"OREB\",\"OREB\",\"OREB\",\"OREB\",\"OREB\",\"OREB\",\"OREB\",\"OREB\",\"OREB\",\"OREB\",\"OREB\",\"OREB\",\"OREB\",\"OREB\",\"OREB\",\"OREB\",\"OREB\",\"OREB\",\"OREB\",\"OREB\",\"OREB\",\"OREB\",\"OREB\",\"OREB\",\"OREB\",\"OREB\",\"OREB\",\"OREB\",\"OREB\",\"OREB\",\"OREB\",\"OREB\",\"OREB\",\"OREB\",\"OREB\",\"OREB\",\"OREB\",\"OREB\",\"OREB\",\"OREB\",\"OREB\",\"OREB\",\"OREB\",\"OREB\",\"OREB\",\"OREB\",\"OREB\",\"OREB\",\"OREB\",\"OREB\",\"OREB\",\"OREB\",\"OREB\",\"OREB\",\"OREB\",\"OREB\",\"OREB\",\"OREB\",\"OREB\",\"OREB\",\"OREB\",\"OREB\",\"OREB\",\"OREB\",\"OREB\",\"OREB\",\"OREB\",\"OREB\",\"OREB\",\"OREB\",\"OREB\",\"OREB\",\"OREB\",\"OREB\",\"OREB\",\"OREB\",\"OREB\",\"OREB\",\"OREB\",\"OREB\",\"OREB\",\"OREB\",\"OREB\",\"OREB\",\"OREB\",\"OREB\",\"OREB\",\"OREB\",\"OREB\",\"OREB\",\"OREB\",\"OREB\",\"OREB\",\"OREB\",\"OREB\",\"OREB\",\"OREB\",\"OREB\",\"OREB\",\"OREB\",\"OREB\",\"OREB\",\"OREB\",\"OREB\",\"OREB\",\"OREB\",\"OREB\",\"OREB\",\"OREB\",\"OREB\",\"OREB\",\"OREB\",\"OREB\",\"OREB\",\"OREB\",\"OREB\",\"OREB\",\"OREB\",\"OREB\",\"OREB\",\"OREB\",\"OREB\",\"OREB\",\"OREB\",\"OREB\",\"OREB\",\"OREB\",\"OREB\",\"OREB\",\"OREB\",\"OREB\",\"OREB\",\"OREB\",\"OREB\",\"OREB\",\"OREB\",\"OREB\",\"OREB\",\"OREB\",\"OREB\",\"OREB\",\"OREB\",\"OREB\",\"OREB\",\"OREB\",\"OREB\",\"OREB\",\"OREB\",\"OREB\",\"OREB\",\"OREB\",\"OREB\",\"OREB\",\"OREB\",\"OREB\",\"OREB\",\"OREB\",\"OREB\",\"OREB\",\"OREB\",\"OREB\",\"OREB\",\"OREB\",\"OREB\",\"OREB\",\"OREB\",\"OREB\",\"OREB\",\"OREB\",\"OREB\",\"OREB\",\"OREB\",\"OREB\",\"OREB\",\"OREB\",\"OREB\",\"OREB\",\"OREB\",\"OREB\",\"OREB\",\"OREB\",\"OREB\",\"OREB\",\"OREB\",\"OREB\",\"OREB\",\"OREB\",\"OREB\",\"OREB\",\"OREB\",\"OREB\",\"OREB\",\"OREB\",\"OREB\",\"OREB\",\"OREB\",\"OREB\",\"OREB\",\"OREB\",\"OREB\",\"OREB\",\"OREB\",\"OREB\",\"OREB\",\"OREB\",\"OREB\",\"OREB\",\"OREB\",\"OREB\",\"OREB\",\"OREB\",\"OREB\",\"OREB\",\"OREB\",\"OREB\",\"OREB\",\"OREB\",\"OREB\",\"OREB\",\"OREB\",\"OREB\",\"OREB\",\"OREB\",\"OREB\",\"OREB\",\"OREB\",\"OREB\",\"OREB\",\"OREB\",\"OREB\",\"OREB\",\"OREB\",\"OREB\",\"OREB\",\"OREB\",\"OREB\",\"OREB\",\"OREB\",\"OREB\",\"OREB\",\"OREB\",\"OREB\",\"OREB\",\"OREB\",\"OREB\",\"OREB\",\"OREB\",\"OREB\",\"OREB\",\"OREB\",\"OREB\",\"OREB\",\"OREB\",\"OREB\",\"OREB\",\"OREB\",\"OREB\",\"OREB\",\"OREB\",\"OREB\",\"OREB\",\"OREB\",\"OREB\",\"OREB\",\"OREB\",\"OREB\",\"OREB\",\"OREB\",\"OREB\",\"OREB\",\"OREB\",\"OREB\",\"OREB\",\"OREB\",\"OREB\",\"OREB\",\"OREB\",\"OREB\",\"OREB\",\"OREB\",\"OREB\",\"OREB\",\"OREB\",\"OREB\",\"OREB\",\"OREB\",\"OREB\",\"OREB\",\"OREB\",\"OREB\",\"OREB\",\"OREB\",\"OREB\",\"OREB\",\"OREB\",\"OREB\",\"OREB\",\"OREB\",\"OREB\",\"OREB\",\"OREB\",\"OREB\",\"OREB\",\"OREB\",\"OREB\",\"OREB\",\"OREB\",\"OREB\",\"OREB\",\"OREB\",\"OREB\",\"OREB\",\"OREB\",\"OREB\",\"OREB\",\"OREB\",\"OREB\",\"OREB\",\"OREB\",\"OREB\",\"OREB\",\"OREB\",\"OREB\",\"OREB\",\"OREB\",\"OREB\",\"OREB\",\"OREB\",\"OREB\",\"OREB\",\"OREB\",\"OREB\",\"OREB\",\"OREB\",\"OREB\",\"OREB\",\"OREB\",\"OREB\",\"OREB\",\"OREB\",\"OREB\",\"OREB\",\"OREB\",\"OREB\",\"OREB\",\"OREB\",\"OREB\",\"OREB\",\"OREB\",\"OREB\",\"OREB\",\"OREB\",\"OREB\",\"OREB\",\"OREB\",\"OREB\",\"OREB\",\"OREB\",\"OREB\",\"OREB\",\"OREB\",\"OREB\",\"OREB\",\"OREB\",\"OREB\",\"OREB\",\"OREB\",\"OREB\",\"OREB\",\"OREB\",\"OREB\",\"OREB\",\"OREB\",\"OREB\",\"OREB\",\"OREB\",\"OREB\",\"OREB\",\"OREB\",\"OREB\",\"OREB\",\"OREB\",\"OREB\",\"OREB\",\"OREB\",\"OREB\",\"OREB\",\"OREB\",\"OREB\",\"OREB\",\"OREB\",\"OREB\",\"OREB\",\"OREB\",\"OREB\",\"OREB\",\"OREB\",\"OREB\",\"OREB\",\"OREB\",\"OREB\",\"OREB\",\"OREB\",\"OREB\",\"OREB\",\"OREB\",\"OREB\",\"OREB\",\"OREB\",\"OREB\",\"OREB\",\"OREB\",\"OREB\",\"OREB\",\"OREB\",\"OREB\",\"OREB\",\"OREB\",\"OREB\",\"OREB\",\"OREB\",\"OREB\",\"OREB\",\"OREB\",\"OREB\",\"OREB\",\"OREB\",\"OREB\",\"OREB\",\"OREB\",\"OREB\",\"OREB\",\"OREB\",\"OREB\",\"OREB\",\"OREB\",\"OREB\",\"OREB\",\"OREB\",\"OREB\",\"OREB\",\"OREB\",\"OREB\",\"OREB\",\"OREB\",\"OREB\",\"OREB\",\"OREB\",\"OREB\",\"OREB\",\"OREB\",\"OREB\",\"OREB\",\"OREB\",\"OREB\",\"OREB\",\"OREB\",\"OREB\",\"OREB\",\"OREB\",\"OREB\",\"OREB\",\"OREB\",\"OREB\",\"OREB\",\"OREB\",\"OREB\",\"OREB\",\"OREB\",\"OREB\",\"OREB\",\"OREB\",\"OREB\",\"OREB\",\"OREB\",\"OREB\",\"OREB\",\"OREB\",\"OREB\",\"OREB\",\"OREB\",\"OREB\",\"OREB\",\"OREB\",\"OREB\",\"OREB\",\"OREB\",\"OREB\",\"OREB\",\"OREB\",\"OREB\",\"OREB\",\"OREB\",\"OREB\",\"OREB\",\"OREB\",\"OREB\",\"OREB\",\"OREB\",\"OREB\",\"OREB\",\"OREB\",\"OREB\",\"OREB\",\"OREB\",\"OREB\",\"OREB\",\"OREB\",\"OREB\",\"OREB\",\"OREB\",\"OREB\",\"OREB\",\"OREB\",\"OREB\",\"OREB\",\"OREB\",\"OREB\",\"OREB\",\"OREB\",\"OREB\",\"OREB\",\"OREB\",\"OREB\",\"OREB\",\"OREB\",\"OREB\",\"OREB\",\"OREB\",\"OREB\",\"OREB\",\"OREB\",\"OREB\",\"OREB\",\"OREB\",\"OREB\",\"OREB\",\"OREB\",\"OREB\",\"OREB\",\"OREB\",\"OREB\",\"OREB\",\"OREB\",\"OREB\",\"OREB\",\"OREB\",\"OREB\",\"OREB\",\"OREB\",\"OREB\",\"OREB\",\"OREB\",\"OREB\",\"OREB\",\"OREB\",\"OREB\",\"OREB\",\"OREB\",\"OREB\",\"OREB\",\"OREB\",\"OREB\",\"OREB\",\"OREB\",\"OREB\",\"OREB\",\"OREB\",\"OREB\",\"OREB\",\"OREB\",\"OREB\",\"OREB\",\"OREB\",\"OREB\",\"OREB\",\"OREB\",\"OREB\",\"OREB\",\"OREB\",\"OREB\",\"OREB\",\"OREB\",\"OREB\",\"OREB\",\"OREB\",\"OREB\",\"OREB\",\"OREB\",\"OREB\",\"OREB\",\"OREB\",\"OREB\",\"OREB\",\"OREB\",\"OREB\",\"OREB\",\"OREB\",\"OREB\",\"OREB\",\"OREB\",\"OREB\",\"OREB\",\"OREB\",\"OREB\",\"OREB\",\"OREB\",\"OREB\",\"OREB\",\"OREB\",\"OREB\",\"OREB\",\"OREB\",\"OREB\",\"OREB\",\"OREB\",\"OREB\",\"OREB\",\"OREB\",\"OREB\",\"OREB\",\"OREB\",\"OREB\",\"OREB\",\"OREB\",\"OREB\",\"OREB\",\"OREB\",\"OREB\",\"OREB\",\"OREB\",\"OREB\",\"OREB\",\"OREB\",\"OREB\",\"OREB\",\"OREB\",\"OREB\",\"OREB\",\"OREB\",\"OREB\",\"OREB\",\"OREB\",\"OREB\",\"OREB\",\"OREB\",\"OREB\",\"OREB\",\"OREB\",\"OREB\",\"OREB\",\"OREB\",\"OREB\",\"OREB\",\"OREB\",\"OREB\",\"OREB\",\"OREB\",\"OREB\",\"OREB\",\"OREB\",\"OREB\",\"OREB\",\"OREB\",\"OREB\",\"OREB\",\"OREB\",\"OREB\",\"OREB\",\"OREB\",\"OREB\",\"OREB\",\"OREB\",\"OREB\",\"OREB\",\"OREB\",\"OREB\",\"OREB\",\"OREB\",\"OREB\",\"OREB\",\"OREB\",\"OREB\",\"OREB\",\"OREB\",\"OREB\",\"OREB\",\"OREB\",\"OREB\",\"OREB\",\"OREB\",\"OREB\",\"OREB\",\"OREB\",\"OREB\",\"OREB\",\"OREB\",\"OREB\",\"OREB\",\"OREB\",\"OREB\",\"OREB\",\"OREB\",\"OREB\",\"OREB\",\"OREB\",\"OREB\",\"OREB\",\"OREB\",\"OREB\",\"OREB\",\"OREB\",\"OREB\",\"OREB\",\"OREB\",\"OREB\",\"OREB\",\"OREB\",\"OREB\",\"OREB\",\"OREB\",\"OREB\",\"OREB\",\"OREB\",\"OREB\",\"OREB\",\"OREB\",\"OREB\"],\"index\":[0,1,2,3,4,5,6,7,8,9,10,11,12,13,14,15,16,17,18,19,20,21,22,23,24,25,26,27,28,29,30,31,32,33,34,35,36,37,38,39,40,41,42,43,44,45,46,47,48,49,50,51,52,53,54,55,56,57,58,59,60,61,62,63,64,65,66,67,68,69,70,71,72,73,74,75,76,77,78,79,80,81,82,83,84,85,86,87,88,89,90,91,92,93,94,95,96,97,98,99,100,101,102,103,104,105,106,107,108,109,110,111,112,113,114,115,116,117,118,119,120,121,122,123,124,125,126,127,128,129,130,131,132,133,134,135,136,137,138,139,140,141,142,143,144,145,146,147,148,149,150,151,152,153,154,155,156,157,158,159,160,161,162,163,164,165,166,167,168,169,170,171,172,173,174,175,176,177,178,179,180,181,182,183,184,185,186,187,188,189,190,191,192,193,194,195,196,197,198,199,200,201,202,203,204,205,206,207,208,209,210,211,212,213,214,215,216,217,218,219,220,221,222,223,224,225,226,227,228,229,230,231,232,233,234,235,236,237,238,239,240,241,242,243,244,245,246,247,248,249,250,251,252,253,254,255,256,257,258,259,260,261,262,263,264,265,266,267,268,269,270,271,272,273,274,275,276,277,278,279,280,281,282,283,284,285,286,287,288,289,290,291,292,293,294,295,296,297,298,299,300,301,302,303,304,305,306,307,308,309,310,311,312,313,314,315,316,317,318,319,320,321,322,323,324,325,326,327,328,329,330,331,332,333,334,335,336,337,338,339,340,341,342,343,344,345,346,347,348,349,350,351,352,353,354,355,356,357,358,359,360,361,362,363,364,365,366,367,368,369,370,371,372,373,374,375,376,377,378,379,380,381,382,383,384,385,386,387,388,389,390,391,392,393,394,395,396,397,398,399,400,401,402,403,404,405,406,407,408,409,410,411,412,413,414,415,416,417,418,419,420,421,422,423,424,425,426,427,428,429,430,431,432,433,434,435,436,437,438,439,440,441,442,443,444,445,446,447,448,449,450,451,452,453,454,455,456,457,458,459,460,461,462,463,464,465,466,467,468,469,470,471,472,473,474,475,476,477,478,479,480,481,482,483,484,485,486,487,488,489,490,491,492,493,494,495,496,497,498,499,500,501,502,503,504,505,506,507,508,509,510,511,512,513,514,515,516,517,518,519,520,521,522,523,524,525,526,527,528,529,530,531,532,533,534,535,536,537,538,539,540,541,542,543,544,545,546,547,548,549,550,551,552,553,554,555,556,557,558,559,560,561,562,563,564,565,566,567,568,569,570,571,572,573,574,575,576,577,578,579,580,581,582,583,584,585,586,587,588,589,590,591,592,593,594,595,596,597,598,599,600,601,602,603,604,605,606,607,608,609,610,611,612,613,614,615,616,617,618,619,620,621,622,623,624,625,626,627,628,629,630,631,632,633,634,635,636,637,638,639,640,641,642,643,644,645,646,647,648,649,650,651,652,653,654,655,656,657,658,659,660,661,662,663,664,665,666,667,668,669,670,671,672,673,674,675,676,677,678,679,680,681,682,683,684,685,686,687,688,689,690,691,692,693,694,695,696,697,698,699,700,701,702,703,704,705,706,707,708,709,710,711,712,713,714,715,716,717,718,719,720,721,722,723,724,725,726,727,728,729,730,731,732,733,734,735,736,737,738,739,740,741,742,743,744,745,746,747,748,749,750,751,752,753,754,755,756,757,758,759,760,761,762,763,764,765],\"value\":[64,79,124,64,95,128,131,19,16,35,55,106,57,29,43,23,66,67,19,45,39,38,25,25,25,22,27,88,64,55,30,17,56,73,88,73,71,25,96,63,36,22,58,37,32,69,69,62,77,67,24,32,38,27,35,49,31,37,15,39,7,0,16,51,52,64,43,5,23,5,63,17,80,84,73,91,77,43,76,48,11,59,35,26,29,25,43,30,64,69,41,59,51,62,54,61,49,0,51,55,37,38,33,3,0,35,24,11,27,26,11,26,41,5,4,69,24,38,38,128,15,38,48,21,25,30,32,22,43,41,29,26,31,0,40,33,36,47,17,16,33,140,92,72,73,89,72,44,44,43,87,54,82,12,41,13,13,26,91,89,37,56,88,54,55,48,66,41,32,35,33,43,6,37,14,6,20,33,7,40,17,26,60,18,23,2,16,18,17,22,6,1,25,21,6,27,26,30,45,109,25,46,116,9,2,1,3,18,10,3,13,4,16,24,12,11,0,1,1,14,13,27,20,2,22,13,16,33,32,4,4,27,40,26,32,0,36,9,45,19,9,28,66,75,40,48,51,41,64,70,59,54,44,40,56,34,2,25,37,41,57,37,59,19,16,17,19,2,26,2,30,37,11,48,21,47,19,70,79,91,117,57,174,122,8,93,140,109,115,82,130,56,43,99,29,84,113,98,103,35,76,63,61,42,55,33,7,3,0,3,118,215,121,49,170,7,21,22,15,3,8,19,32,61,121,226,215,184,226,183,54,52,106,213,253,226,225,2,65,65,92,55,7,21,28,36,27,63,61,41,18,59,31,21,29,40,25,65,117,209,84,32,109,81,97,116,62,55,46,57,71,25,50,29,62,8,16,27,14,37,32,13,25,57,18,4,0,14,18,9,7,10,16,23,9,21,17,28,74,78,100,100,87,62,43,22,25,48,73,77,73,31,34,23,4,14,18,10,5,15,1,19,4,9,34,21,27,24,26,24,22,18,18,8,42,47,26,9,5,31,74,7,8,21,36,75,18,24,42,21,54,48,37,41,26,13,8,21,36,21,5,25,33,84,48,58,52,69,66,8,16,45,39,29,68,70,37,28,65,50,58,169,440,437,395,345,399,423,226,24,250,101,65,166,136,93,229,138,21,70,97,118,103,40,14,54,13,28,0,28,86,6,6,3,5,8,3,11,28,22,1,13,14,2,1,10,13,86,47,42,30,62,61,75,63,95,41,66,70,5,30,35,42,13,55,40,17,52,38,76,56,51,6,57,16,19,21,23,14,37,25,60,79,25,36,61,0,89,75,21,28,28,17,16,25,50,22,50,2,17,19,26,15,45,72,67,73,95,16,76,57,29,62,24,20,44,72,122,207,202,210,331,397,267,298,329,161,64,225,141,117,51,32,83,52,118,97,138,135,67,110,160,119,50,25,39,142,178,156,175,158,69,31,100,0,78,78,52,24,67,88,81,90,0,23,14,18,14,0,12,4,8,12,27,31,19,27,46,32,32,18,11,29,2,3,5,99,175,201,120,50,170,132,165,98,145,176,187,42,229,5,14,35,9,9,18,28,26,27,8,35,0,2,4,5,22,15,9,15,24,25,6,28,74,64,66,130,132,112,154,21,105,126,100,46,39,14,53,5,0,4,69,30,51,71,29,5,34,50,48,56,35,51,38,27,18,28,20,1,11,32,22,20,30,34,2,1,3,6,1,0,0,1,29,21,24,36,32,22,18,10,28,29,29,29,5]},\"selected\":{\"id\":\"22543\"},\"selection_policy\":{\"id\":\"22589\"}},\"id\":\"22542\",\"type\":\"ColumnDataSource\"},{\"attributes\":{\"line_color\":\"#e5ae38\",\"line_width\":2,\"tags\":[\"apply_ranges\"],\"x\":{\"field\":\"index\"},\"y\":{\"field\":\"value\"}},\"id\":\"22047\",\"type\":\"Line\"},{\"attributes\":{\"line_alpha\":0.1,\"line_color\":\"#fc4f30\",\"line_width\":2,\"tags\":[\"apply_ranges\"],\"x\":{\"field\":\"index\"},\"y\":{\"field\":\"value\"}},\"id\":\"22006\",\"type\":\"Line\"},{\"attributes\":{\"line_alpha\":0.1,\"line_color\":\"#fc4f30\",\"line_width\":2,\"tags\":[\"apply_ranges\"],\"x\":{\"field\":\"index\"},\"y\":{\"field\":\"value\"}},\"id\":\"22402\",\"type\":\"Line\"},{\"attributes\":{\"line_alpha\":0.1,\"line_color\":\"#e5ae38\",\"line_width\":2,\"tags\":[\"apply_ranges\"],\"x\":{\"field\":\"index\"},\"y\":{\"field\":\"value\"}},\"id\":\"22028\",\"type\":\"Line\"},{\"attributes\":{\"label\":{\"value\":\"PLAYER_ID\"},\"renderers\":[{\"id\":\"21987\"}]},\"id\":\"22000\",\"type\":\"LegendItem\"},{\"attributes\":{\"line_alpha\":0.2,\"line_color\":\"#8b8b8b\",\"line_width\":2,\"tags\":[\"apply_ranges\"],\"x\":{\"field\":\"index\"},\"y\":{\"field\":\"value\"}},\"id\":\"22079\",\"type\":\"Line\"},{\"attributes\":{},\"id\":\"22267\",\"type\":\"UnionRenderers\"},{\"attributes\":{},\"id\":\"22537\",\"type\":\"UnionRenderers\"},{\"attributes\":{},\"id\":\"22133\",\"type\":\"Selection\"},{\"attributes\":{\"data\":{\"Variable\":[\"PLAYER_ID\",\"PLAYER_ID\",\"PLAYER_ID\",\"PLAYER_ID\",\"PLAYER_ID\",\"PLAYER_ID\",\"PLAYER_ID\",\"PLAYER_ID\",\"PLAYER_ID\",\"PLAYER_ID\",\"PLAYER_ID\",\"PLAYER_ID\",\"PLAYER_ID\",\"PLAYER_ID\",\"PLAYER_ID\",\"PLAYER_ID\",\"PLAYER_ID\",\"PLAYER_ID\",\"PLAYER_ID\",\"PLAYER_ID\",\"PLAYER_ID\",\"PLAYER_ID\",\"PLAYER_ID\",\"PLAYER_ID\",\"PLAYER_ID\",\"PLAYER_ID\",\"PLAYER_ID\",\"PLAYER_ID\",\"PLAYER_ID\",\"PLAYER_ID\",\"PLAYER_ID\",\"PLAYER_ID\",\"PLAYER_ID\",\"PLAYER_ID\",\"PLAYER_ID\",\"PLAYER_ID\",\"PLAYER_ID\",\"PLAYER_ID\",\"PLAYER_ID\",\"PLAYER_ID\",\"PLAYER_ID\",\"PLAYER_ID\",\"PLAYER_ID\",\"PLAYER_ID\",\"PLAYER_ID\",\"PLAYER_ID\",\"PLAYER_ID\",\"PLAYER_ID\",\"PLAYER_ID\",\"PLAYER_ID\",\"PLAYER_ID\",\"PLAYER_ID\",\"PLAYER_ID\",\"PLAYER_ID\",\"PLAYER_ID\",\"PLAYER_ID\",\"PLAYER_ID\",\"PLAYER_ID\",\"PLAYER_ID\",\"PLAYER_ID\",\"PLAYER_ID\",\"PLAYER_ID\",\"PLAYER_ID\",\"PLAYER_ID\",\"PLAYER_ID\",\"PLAYER_ID\",\"PLAYER_ID\",\"PLAYER_ID\",\"PLAYER_ID\",\"PLAYER_ID\",\"PLAYER_ID\",\"PLAYER_ID\",\"PLAYER_ID\",\"PLAYER_ID\",\"PLAYER_ID\",\"PLAYER_ID\",\"PLAYER_ID\",\"PLAYER_ID\",\"PLAYER_ID\",\"PLAYER_ID\",\"PLAYER_ID\",\"PLAYER_ID\",\"PLAYER_ID\",\"PLAYER_ID\",\"PLAYER_ID\",\"PLAYER_ID\",\"PLAYER_ID\",\"PLAYER_ID\",\"PLAYER_ID\",\"PLAYER_ID\",\"PLAYER_ID\",\"PLAYER_ID\",\"PLAYER_ID\",\"PLAYER_ID\",\"PLAYER_ID\",\"PLAYER_ID\",\"PLAYER_ID\",\"PLAYER_ID\",\"PLAYER_ID\",\"PLAYER_ID\",\"PLAYER_ID\",\"PLAYER_ID\",\"PLAYER_ID\",\"PLAYER_ID\",\"PLAYER_ID\",\"PLAYER_ID\",\"PLAYER_ID\",\"PLAYER_ID\",\"PLAYER_ID\",\"PLAYER_ID\",\"PLAYER_ID\",\"PLAYER_ID\",\"PLAYER_ID\",\"PLAYER_ID\",\"PLAYER_ID\",\"PLAYER_ID\",\"PLAYER_ID\",\"PLAYER_ID\",\"PLAYER_ID\",\"PLAYER_ID\",\"PLAYER_ID\",\"PLAYER_ID\",\"PLAYER_ID\",\"PLAYER_ID\",\"PLAYER_ID\",\"PLAYER_ID\",\"PLAYER_ID\",\"PLAYER_ID\",\"PLAYER_ID\",\"PLAYER_ID\",\"PLAYER_ID\",\"PLAYER_ID\",\"PLAYER_ID\",\"PLAYER_ID\",\"PLAYER_ID\",\"PLAYER_ID\",\"PLAYER_ID\",\"PLAYER_ID\",\"PLAYER_ID\",\"PLAYER_ID\",\"PLAYER_ID\",\"PLAYER_ID\",\"PLAYER_ID\",\"PLAYER_ID\",\"PLAYER_ID\",\"PLAYER_ID\",\"PLAYER_ID\",\"PLAYER_ID\",\"PLAYER_ID\",\"PLAYER_ID\",\"PLAYER_ID\",\"PLAYER_ID\",\"PLAYER_ID\",\"PLAYER_ID\",\"PLAYER_ID\",\"PLAYER_ID\",\"PLAYER_ID\",\"PLAYER_ID\",\"PLAYER_ID\",\"PLAYER_ID\",\"PLAYER_ID\",\"PLAYER_ID\",\"PLAYER_ID\",\"PLAYER_ID\",\"PLAYER_ID\",\"PLAYER_ID\",\"PLAYER_ID\",\"PLAYER_ID\",\"PLAYER_ID\",\"PLAYER_ID\",\"PLAYER_ID\",\"PLAYER_ID\",\"PLAYER_ID\",\"PLAYER_ID\",\"PLAYER_ID\",\"PLAYER_ID\",\"PLAYER_ID\",\"PLAYER_ID\",\"PLAYER_ID\",\"PLAYER_ID\",\"PLAYER_ID\",\"PLAYER_ID\",\"PLAYER_ID\",\"PLAYER_ID\",\"PLAYER_ID\",\"PLAYER_ID\",\"PLAYER_ID\",\"PLAYER_ID\",\"PLAYER_ID\",\"PLAYER_ID\",\"PLAYER_ID\",\"PLAYER_ID\",\"PLAYER_ID\",\"PLAYER_ID\",\"PLAYER_ID\",\"PLAYER_ID\",\"PLAYER_ID\",\"PLAYER_ID\",\"PLAYER_ID\",\"PLAYER_ID\",\"PLAYER_ID\",\"PLAYER_ID\",\"PLAYER_ID\",\"PLAYER_ID\",\"PLAYER_ID\",\"PLAYER_ID\",\"PLAYER_ID\",\"PLAYER_ID\",\"PLAYER_ID\",\"PLAYER_ID\",\"PLAYER_ID\",\"PLAYER_ID\",\"PLAYER_ID\",\"PLAYER_ID\",\"PLAYER_ID\",\"PLAYER_ID\",\"PLAYER_ID\",\"PLAYER_ID\",\"PLAYER_ID\",\"PLAYER_ID\",\"PLAYER_ID\",\"PLAYER_ID\",\"PLAYER_ID\",\"PLAYER_ID\",\"PLAYER_ID\",\"PLAYER_ID\",\"PLAYER_ID\",\"PLAYER_ID\",\"PLAYER_ID\",\"PLAYER_ID\",\"PLAYER_ID\",\"PLAYER_ID\",\"PLAYER_ID\",\"PLAYER_ID\",\"PLAYER_ID\",\"PLAYER_ID\",\"PLAYER_ID\",\"PLAYER_ID\",\"PLAYER_ID\",\"PLAYER_ID\",\"PLAYER_ID\",\"PLAYER_ID\",\"PLAYER_ID\",\"PLAYER_ID\",\"PLAYER_ID\",\"PLAYER_ID\",\"PLAYER_ID\",\"PLAYER_ID\",\"PLAYER_ID\",\"PLAYER_ID\",\"PLAYER_ID\",\"PLAYER_ID\",\"PLAYER_ID\",\"PLAYER_ID\",\"PLAYER_ID\",\"PLAYER_ID\",\"PLAYER_ID\",\"PLAYER_ID\",\"PLAYER_ID\",\"PLAYER_ID\",\"PLAYER_ID\",\"PLAYER_ID\",\"PLAYER_ID\",\"PLAYER_ID\",\"PLAYER_ID\",\"PLAYER_ID\",\"PLAYER_ID\",\"PLAYER_ID\",\"PLAYER_ID\",\"PLAYER_ID\",\"PLAYER_ID\",\"PLAYER_ID\",\"PLAYER_ID\",\"PLAYER_ID\",\"PLAYER_ID\",\"PLAYER_ID\",\"PLAYER_ID\",\"PLAYER_ID\",\"PLAYER_ID\",\"PLAYER_ID\",\"PLAYER_ID\",\"PLAYER_ID\",\"PLAYER_ID\",\"PLAYER_ID\",\"PLAYER_ID\",\"PLAYER_ID\",\"PLAYER_ID\",\"PLAYER_ID\",\"PLAYER_ID\",\"PLAYER_ID\",\"PLAYER_ID\",\"PLAYER_ID\",\"PLAYER_ID\",\"PLAYER_ID\",\"PLAYER_ID\",\"PLAYER_ID\",\"PLAYER_ID\",\"PLAYER_ID\",\"PLAYER_ID\",\"PLAYER_ID\",\"PLAYER_ID\",\"PLAYER_ID\",\"PLAYER_ID\",\"PLAYER_ID\",\"PLAYER_ID\",\"PLAYER_ID\",\"PLAYER_ID\",\"PLAYER_ID\",\"PLAYER_ID\",\"PLAYER_ID\",\"PLAYER_ID\",\"PLAYER_ID\",\"PLAYER_ID\",\"PLAYER_ID\",\"PLAYER_ID\",\"PLAYER_ID\",\"PLAYER_ID\",\"PLAYER_ID\",\"PLAYER_ID\",\"PLAYER_ID\",\"PLAYER_ID\",\"PLAYER_ID\",\"PLAYER_ID\",\"PLAYER_ID\",\"PLAYER_ID\",\"PLAYER_ID\",\"PLAYER_ID\",\"PLAYER_ID\",\"PLAYER_ID\",\"PLAYER_ID\",\"PLAYER_ID\",\"PLAYER_ID\",\"PLAYER_ID\",\"PLAYER_ID\",\"PLAYER_ID\",\"PLAYER_ID\",\"PLAYER_ID\",\"PLAYER_ID\",\"PLAYER_ID\",\"PLAYER_ID\",\"PLAYER_ID\",\"PLAYER_ID\",\"PLAYER_ID\",\"PLAYER_ID\",\"PLAYER_ID\",\"PLAYER_ID\",\"PLAYER_ID\",\"PLAYER_ID\",\"PLAYER_ID\",\"PLAYER_ID\",\"PLAYER_ID\",\"PLAYER_ID\",\"PLAYER_ID\",\"PLAYER_ID\",\"PLAYER_ID\",\"PLAYER_ID\",\"PLAYER_ID\",\"PLAYER_ID\",\"PLAYER_ID\",\"PLAYER_ID\",\"PLAYER_ID\",\"PLAYER_ID\",\"PLAYER_ID\",\"PLAYER_ID\",\"PLAYER_ID\",\"PLAYER_ID\",\"PLAYER_ID\",\"PLAYER_ID\",\"PLAYER_ID\",\"PLAYER_ID\",\"PLAYER_ID\",\"PLAYER_ID\",\"PLAYER_ID\",\"PLAYER_ID\",\"PLAYER_ID\",\"PLAYER_ID\",\"PLAYER_ID\",\"PLAYER_ID\",\"PLAYER_ID\",\"PLAYER_ID\",\"PLAYER_ID\",\"PLAYER_ID\",\"PLAYER_ID\",\"PLAYER_ID\",\"PLAYER_ID\",\"PLAYER_ID\",\"PLAYER_ID\",\"PLAYER_ID\",\"PLAYER_ID\",\"PLAYER_ID\",\"PLAYER_ID\",\"PLAYER_ID\",\"PLAYER_ID\",\"PLAYER_ID\",\"PLAYER_ID\",\"PLAYER_ID\",\"PLAYER_ID\",\"PLAYER_ID\",\"PLAYER_ID\",\"PLAYER_ID\",\"PLAYER_ID\",\"PLAYER_ID\",\"PLAYER_ID\",\"PLAYER_ID\",\"PLAYER_ID\",\"PLAYER_ID\",\"PLAYER_ID\",\"PLAYER_ID\",\"PLAYER_ID\",\"PLAYER_ID\",\"PLAYER_ID\",\"PLAYER_ID\",\"PLAYER_ID\",\"PLAYER_ID\",\"PLAYER_ID\",\"PLAYER_ID\",\"PLAYER_ID\",\"PLAYER_ID\",\"PLAYER_ID\",\"PLAYER_ID\",\"PLAYER_ID\",\"PLAYER_ID\",\"PLAYER_ID\",\"PLAYER_ID\",\"PLAYER_ID\",\"PLAYER_ID\",\"PLAYER_ID\",\"PLAYER_ID\",\"PLAYER_ID\",\"PLAYER_ID\",\"PLAYER_ID\",\"PLAYER_ID\",\"PLAYER_ID\",\"PLAYER_ID\",\"PLAYER_ID\",\"PLAYER_ID\",\"PLAYER_ID\",\"PLAYER_ID\",\"PLAYER_ID\",\"PLAYER_ID\",\"PLAYER_ID\",\"PLAYER_ID\",\"PLAYER_ID\",\"PLAYER_ID\",\"PLAYER_ID\",\"PLAYER_ID\",\"PLAYER_ID\",\"PLAYER_ID\",\"PLAYER_ID\",\"PLAYER_ID\",\"PLAYER_ID\",\"PLAYER_ID\",\"PLAYER_ID\",\"PLAYER_ID\",\"PLAYER_ID\",\"PLAYER_ID\",\"PLAYER_ID\",\"PLAYER_ID\",\"PLAYER_ID\",\"PLAYER_ID\",\"PLAYER_ID\",\"PLAYER_ID\",\"PLAYER_ID\",\"PLAYER_ID\",\"PLAYER_ID\",\"PLAYER_ID\",\"PLAYER_ID\",\"PLAYER_ID\",\"PLAYER_ID\",\"PLAYER_ID\",\"PLAYER_ID\",\"PLAYER_ID\",\"PLAYER_ID\",\"PLAYER_ID\",\"PLAYER_ID\",\"PLAYER_ID\",\"PLAYER_ID\",\"PLAYER_ID\",\"PLAYER_ID\",\"PLAYER_ID\",\"PLAYER_ID\",\"PLAYER_ID\",\"PLAYER_ID\",\"PLAYER_ID\",\"PLAYER_ID\",\"PLAYER_ID\",\"PLAYER_ID\",\"PLAYER_ID\",\"PLAYER_ID\",\"PLAYER_ID\",\"PLAYER_ID\",\"PLAYER_ID\",\"PLAYER_ID\",\"PLAYER_ID\",\"PLAYER_ID\",\"PLAYER_ID\",\"PLAYER_ID\",\"PLAYER_ID\",\"PLAYER_ID\",\"PLAYER_ID\",\"PLAYER_ID\",\"PLAYER_ID\",\"PLAYER_ID\",\"PLAYER_ID\",\"PLAYER_ID\",\"PLAYER_ID\",\"PLAYER_ID\",\"PLAYER_ID\",\"PLAYER_ID\",\"PLAYER_ID\",\"PLAYER_ID\",\"PLAYER_ID\",\"PLAYER_ID\",\"PLAYER_ID\",\"PLAYER_ID\",\"PLAYER_ID\",\"PLAYER_ID\",\"PLAYER_ID\",\"PLAYER_ID\",\"PLAYER_ID\",\"PLAYER_ID\",\"PLAYER_ID\",\"PLAYER_ID\",\"PLAYER_ID\",\"PLAYER_ID\",\"PLAYER_ID\",\"PLAYER_ID\",\"PLAYER_ID\",\"PLAYER_ID\",\"PLAYER_ID\",\"PLAYER_ID\",\"PLAYER_ID\",\"PLAYER_ID\",\"PLAYER_ID\",\"PLAYER_ID\",\"PLAYER_ID\",\"PLAYER_ID\",\"PLAYER_ID\",\"PLAYER_ID\",\"PLAYER_ID\",\"PLAYER_ID\",\"PLAYER_ID\",\"PLAYER_ID\",\"PLAYER_ID\",\"PLAYER_ID\",\"PLAYER_ID\",\"PLAYER_ID\",\"PLAYER_ID\",\"PLAYER_ID\",\"PLAYER_ID\",\"PLAYER_ID\",\"PLAYER_ID\",\"PLAYER_ID\",\"PLAYER_ID\",\"PLAYER_ID\",\"PLAYER_ID\",\"PLAYER_ID\",\"PLAYER_ID\",\"PLAYER_ID\",\"PLAYER_ID\",\"PLAYER_ID\",\"PLAYER_ID\",\"PLAYER_ID\",\"PLAYER_ID\",\"PLAYER_ID\",\"PLAYER_ID\",\"PLAYER_ID\",\"PLAYER_ID\",\"PLAYER_ID\",\"PLAYER_ID\",\"PLAYER_ID\",\"PLAYER_ID\",\"PLAYER_ID\",\"PLAYER_ID\",\"PLAYER_ID\",\"PLAYER_ID\",\"PLAYER_ID\",\"PLAYER_ID\",\"PLAYER_ID\",\"PLAYER_ID\",\"PLAYER_ID\",\"PLAYER_ID\",\"PLAYER_ID\",\"PLAYER_ID\",\"PLAYER_ID\",\"PLAYER_ID\",\"PLAYER_ID\",\"PLAYER_ID\",\"PLAYER_ID\",\"PLAYER_ID\",\"PLAYER_ID\",\"PLAYER_ID\",\"PLAYER_ID\",\"PLAYER_ID\",\"PLAYER_ID\",\"PLAYER_ID\",\"PLAYER_ID\",\"PLAYER_ID\",\"PLAYER_ID\",\"PLAYER_ID\",\"PLAYER_ID\",\"PLAYER_ID\",\"PLAYER_ID\",\"PLAYER_ID\",\"PLAYER_ID\",\"PLAYER_ID\",\"PLAYER_ID\",\"PLAYER_ID\",\"PLAYER_ID\",\"PLAYER_ID\",\"PLAYER_ID\",\"PLAYER_ID\",\"PLAYER_ID\",\"PLAYER_ID\",\"PLAYER_ID\",\"PLAYER_ID\",\"PLAYER_ID\",\"PLAYER_ID\",\"PLAYER_ID\",\"PLAYER_ID\",\"PLAYER_ID\",\"PLAYER_ID\",\"PLAYER_ID\",\"PLAYER_ID\",\"PLAYER_ID\",\"PLAYER_ID\",\"PLAYER_ID\",\"PLAYER_ID\",\"PLAYER_ID\",\"PLAYER_ID\",\"PLAYER_ID\",\"PLAYER_ID\",\"PLAYER_ID\",\"PLAYER_ID\",\"PLAYER_ID\",\"PLAYER_ID\",\"PLAYER_ID\",\"PLAYER_ID\",\"PLAYER_ID\",\"PLAYER_ID\",\"PLAYER_ID\",\"PLAYER_ID\",\"PLAYER_ID\",\"PLAYER_ID\",\"PLAYER_ID\",\"PLAYER_ID\",\"PLAYER_ID\",\"PLAYER_ID\",\"PLAYER_ID\",\"PLAYER_ID\",\"PLAYER_ID\",\"PLAYER_ID\",\"PLAYER_ID\",\"PLAYER_ID\",\"PLAYER_ID\",\"PLAYER_ID\",\"PLAYER_ID\",\"PLAYER_ID\",\"PLAYER_ID\",\"PLAYER_ID\",\"PLAYER_ID\",\"PLAYER_ID\",\"PLAYER_ID\",\"PLAYER_ID\",\"PLAYER_ID\",\"PLAYER_ID\",\"PLAYER_ID\",\"PLAYER_ID\",\"PLAYER_ID\",\"PLAYER_ID\",\"PLAYER_ID\",\"PLAYER_ID\",\"PLAYER_ID\",\"PLAYER_ID\",\"PLAYER_ID\",\"PLAYER_ID\",\"PLAYER_ID\",\"PLAYER_ID\",\"PLAYER_ID\",\"PLAYER_ID\",\"PLAYER_ID\",\"PLAYER_ID\",\"PLAYER_ID\",\"PLAYER_ID\",\"PLAYER_ID\",\"PLAYER_ID\",\"PLAYER_ID\",\"PLAYER_ID\",\"PLAYER_ID\",\"PLAYER_ID\",\"PLAYER_ID\",\"PLAYER_ID\",\"PLAYER_ID\",\"PLAYER_ID\",\"PLAYER_ID\",\"PLAYER_ID\",\"PLAYER_ID\",\"PLAYER_ID\",\"PLAYER_ID\",\"PLAYER_ID\",\"PLAYER_ID\",\"PLAYER_ID\",\"PLAYER_ID\",\"PLAYER_ID\",\"PLAYER_ID\",\"PLAYER_ID\",\"PLAYER_ID\",\"PLAYER_ID\",\"PLAYER_ID\",\"PLAYER_ID\",\"PLAYER_ID\",\"PLAYER_ID\",\"PLAYER_ID\",\"PLAYER_ID\",\"PLAYER_ID\",\"PLAYER_ID\",\"PLAYER_ID\",\"PLAYER_ID\",\"PLAYER_ID\",\"PLAYER_ID\",\"PLAYER_ID\",\"PLAYER_ID\",\"PLAYER_ID\",\"PLAYER_ID\",\"PLAYER_ID\",\"PLAYER_ID\",\"PLAYER_ID\",\"PLAYER_ID\",\"PLAYER_ID\",\"PLAYER_ID\",\"PLAYER_ID\",\"PLAYER_ID\",\"PLAYER_ID\",\"PLAYER_ID\",\"PLAYER_ID\",\"PLAYER_ID\",\"PLAYER_ID\",\"PLAYER_ID\",\"PLAYER_ID\",\"PLAYER_ID\",\"PLAYER_ID\",\"PLAYER_ID\",\"PLAYER_ID\",\"PLAYER_ID\",\"PLAYER_ID\",\"PLAYER_ID\",\"PLAYER_ID\",\"PLAYER_ID\",\"PLAYER_ID\",\"PLAYER_ID\",\"PLAYER_ID\",\"PLAYER_ID\",\"PLAYER_ID\",\"PLAYER_ID\",\"PLAYER_ID\",\"PLAYER_ID\",\"PLAYER_ID\",\"PLAYER_ID\",\"PLAYER_ID\",\"PLAYER_ID\",\"PLAYER_ID\",\"PLAYER_ID\",\"PLAYER_ID\",\"PLAYER_ID\",\"PLAYER_ID\",\"PLAYER_ID\"],\"index\":[0,1,2,3,4,5,6,7,8,9,10,11,12,13,14,15,16,17,18,19,20,21,22,23,24,25,26,27,28,29,30,31,32,33,34,35,36,37,38,39,40,41,42,43,44,45,46,47,48,49,50,51,52,53,54,55,56,57,58,59,60,61,62,63,64,65,66,67,68,69,70,71,72,73,74,75,76,77,78,79,80,81,82,83,84,85,86,87,88,89,90,91,92,93,94,95,96,97,98,99,100,101,102,103,104,105,106,107,108,109,110,111,112,113,114,115,116,117,118,119,120,121,122,123,124,125,126,127,128,129,130,131,132,133,134,135,136,137,138,139,140,141,142,143,144,145,146,147,148,149,150,151,152,153,154,155,156,157,158,159,160,161,162,163,164,165,166,167,168,169,170,171,172,173,174,175,176,177,178,179,180,181,182,183,184,185,186,187,188,189,190,191,192,193,194,195,196,197,198,199,200,201,202,203,204,205,206,207,208,209,210,211,212,213,214,215,216,217,218,219,220,221,222,223,224,225,226,227,228,229,230,231,232,233,234,235,236,237,238,239,240,241,242,243,244,245,246,247,248,249,250,251,252,253,254,255,256,257,258,259,260,261,262,263,264,265,266,267,268,269,270,271,272,273,274,275,276,277,278,279,280,281,282,283,284,285,286,287,288,289,290,291,292,293,294,295,296,297,298,299,300,301,302,303,304,305,306,307,308,309,310,311,312,313,314,315,316,317,318,319,320,321,322,323,324,325,326,327,328,329,330,331,332,333,334,335,336,337,338,339,340,341,342,343,344,345,346,347,348,349,350,351,352,353,354,355,356,357,358,359,360,361,362,363,364,365,366,367,368,369,370,371,372,373,374,375,376,377,378,379,380,381,382,383,384,385,386,387,388,389,390,391,392,393,394,395,396,397,398,399,400,401,402,403,404,405,406,407,408,409,410,411,412,413,414,415,416,417,418,419,420,421,422,423,424,425,426,427,428,429,430,431,432,433,434,435,436,437,438,439,440,441,442,443,444,445,446,447,448,449,450,451,452,453,454,455,456,457,458,459,460,461,462,463,464,465,466,467,468,469,470,471,472,473,474,475,476,477,478,479,480,481,482,483,484,485,486,487,488,489,490,491,492,493,494,495,496,497,498,499,500,501,502,503,504,505,506,507,508,509,510,511,512,513,514,515,516,517,518,519,520,521,522,523,524,525,526,527,528,529,530,531,532,533,534,535,536,537,538,539,540,541,542,543,544,545,546,547,548,549,550,551,552,553,554,555,556,557,558,559,560,561,562,563,564,565,566,567,568,569,570,571,572,573,574,575,576,577,578,579,580,581,582,583,584,585,586,587,588,589,590,591,592,593,594,595,596,597,598,599,600,601,602,603,604,605,606,607,608,609,610,611,612,613,614,615,616,617,618,619,620,621,622,623,624,625,626,627,628,629,630,631,632,633,634,635,636,637,638,639,640,641,642,643,644,645,646,647,648,649,650,651,652,653,654,655,656,657,658,659,660,661,662,663,664,665,666,667,668,669,670,671,672,673,674,675,676,677,678,679,680,681,682,683,684,685,686,687,688,689,690,691,692,693,694,695,696,697,698,699,700,701,702,703,704,705,706,707,708,709,710,711,712,713,714,715,716,717,718,719,720,721,722,723,724,725,726,727,728,729,730,731,732,733,734,735,736,737,738,739,740,741,742,743,744,745,746,747,748,749,750,751,752,753,754,755,756,757,758,759,760,761,762,763,764,765],\"value\":[1627783,1627783,1627783,1627783,1627783,1627783,1627783,1627741,1627741,1627741,1627741,1627741,1627741,1627741,1627741,1627741,1627741,1627741,1626224,1626224,1626224,1626224,1626224,1626224,1626220,1626220,1626220,1626220,1626220,1626220,202699,202699,202699,202699,202699,202699,202699,202699,202699,202699,202699,202699,202699,202699,202699,202699,202699,202699,202699,202699,202691,202691,202691,202691,202691,202691,202691,202691,202691,202691,203925,203925,203925,203925,203925,203925,203925,203925,203925,202694,202694,202694,202694,202694,202694,202694,202694,202694,202694,202694,202694,202694,202694,202694,202694,1629001,1629001,1629001,1629001,1629001,202330,202330,202330,202330,202330,202330,202330,202330,202330,202330,202330,202330,202330,1630223,1628420,1628420,1628420,1628420,1628420,1628420,1628365,1628365,1628365,1628365,1628365,1628365,1629652,1629652,1629652,1629652,1630230,1630230,1630230,201144,201144,201144,201144,201144,201144,201144,201144,201144,201144,201144,201144,201144,201144,201144,201144,201144,201144,203482,203482,203482,203482,203482,203482,203482,203482,203482,203482,203482,203482,200768,200768,200768,200768,200768,200768,200768,200768,200768,200768,200768,200768,200768,200768,200768,200768,200768,200768,200768,203926,203926,203926,203926,203926,203926,203926,203926,203926,203926,203926,203926,203926,1627788,1627788,1627788,1627788,1627788,1627788,1629018,1629018,1629018,1629018,1629018,1629018,1629018,1628380,1628380,1628380,1628380,1628380,1626166,1626166,1626166,1626166,1626166,1626166,1626166,1626166,1626166,1626166,1626166,1626166,203493,203493,203493,203493,203493,203493,203493,203493,203493,203493,203493,203493,203493,203493,203915,203915,203915,203915,203915,203915,203915,203915,203915,203915,203915,203915,203915,201942,201942,201942,201942,201942,201942,201942,201942,201942,201942,201942,201942,201942,201942,1629659,1629659,1629659,1629659,202692,202692,202692,202692,202692,202692,202692,202692,202692,202692,202692,202692,202692,202692,202692,202692,202692,203920,203920,203920,203920,203920,203920,203920,203920,200752,200752,200752,200752,200752,200752,200752,200752,200752,200752,200752,200752,200752,200752,200752,200752,200752,200752,200752,200752,200752,1629020,1629020,1629020,1629020,1629020,1629020,1629020,1629020,1629020,1629162,1629162,1629162,1629162,1628960,1628960,1628960,1628960,1628960,202685,202685,202685,202685,202685,202685,202685,202685,202685,202685,202685,202685,202685,203496,203496,203496,203496,203496,203496,203496,203496,203496,203496,203496,203496,203496,203496,203496,203496,1628392,1628392,1628392,1628392,1628392,1628392,1628392,201587,201587,201587,201587,201587,201587,201587,201587,201587,201587,201587,201587,201587,201587,201587,1628370,1628370,1628370,1628370,1628370,1628370,1627863,1627863,1627863,1627863,1627863,1627863,1627863,1627863,1627863,1626145,1626145,1626145,1626145,1626145,1626145,1626145,1626145,200765,200765,200765,200765,200765,200765,200765,200765,200765,200765,200765,200765,200765,200765,200765,200765,200765,200765,200765,200765,200765,200765,201988,201988,201988,201988,201988,201988,201988,201988,201988,201988,201988,201988,201988,201988,1629643,1629643,1629643,1627745,1627745,1627745,1627745,1627745,1627745,1627745,1627745,1627745,1627745,1627745,1627745,203914,203914,203914,203914,203914,203914,203914,203914,203914,203914,203914,203937,203937,203937,203937,203937,203937,203937,203937,203937,1626153,1626153,1626153,1626153,1626153,1626153,1626153,1626153,1626153,1626153,1626153,1626153,203083,203083,203083,203083,203083,203083,203083,203083,203083,203083,203083,203083,203083,203083,203083,203083,203083,203490,203490,203490,203490,203490,203490,203490,203490,203490,203490,203490,203490,203490,203490,1630176,1630176,1630176,1630176,1630176,1628436,1628436,1628436,1628436,1628436,1628436,1628436,1628436,1628436,1628436,1628436,201935,201935,201935,201935,201935,201935,201935,201935,201935,201935,201935,201935,201935,201935,201935,201935,201935,201935,203488,203488,203488,203488,203488,203488,203488,203488,203488,203488,203488,203488,203488,203488,1629048,1629048,1629048,1629048,1629048,1629048,1629676,1629676,1629676,1629676,1629632,1629632,1629632,1629632,1627752,1627752,1627752,1627752,1627752,1627752,1627752,1627752,1627752,201976,201976,201976,201976,201976,201976,201976,201976,201976,201976,201976,201976,201976,201599,201599,201599,201599,201599,201599,201599,201599,201599,201599,201599,201599,201599,201599,201599,201599,201599,201599,201599,203469,203469,203469,203469,203469,203469,203469,203469,203469,203469,203458,203458,203458,203458,203458,203458,203458,203458,203458,203458,203458,203458,203458,203458,1628970,1628970,1628970,1628970,1629022,1629022,1629022,1629022,1629022,203200,203200,203200,203200,203200,203200,203200,203200,203200,203200,203200,203200,203200,203200,203200,203200,203200,203200,203486,203486,203486,203486,203486,203486,203486,203486,203486,203486,203486,203486,203486,203486,1627736,1627736,1627736,1627736,1627736,1627736,1627736,1627736,1627736,1627736,1627736,1628961,1628961,1628961,1628988,1628988,1628988,1628988,1628988,1628988,1628988,1629234,1629234,1629234,1629234,1629234,1629234,1629234,203967,203967,203967,203967,203967,203967,203967,203967,203967,203967,1629626,1629626,1629626,1629626,1629647,1629647,1629647,1629647,1629647,1629647,202083,202083,202083,202083,202083,202083,202083,202083,202083,202083,202083,202083,202083,202083,202083,202083,202083,202066,202066,202066,202066,202066,202066,202066,202066,202066,202066,202066,202066,202066,202066,202066,202066,202066,202066,202066,202066,202066]},\"selected\":{\"id\":\"21982\"},\"selection_policy\":{\"id\":\"21996\"}},\"id\":\"21981\",\"type\":\"ColumnDataSource\"},{\"attributes\":{\"label\":{\"value\":\"FG_PCT\"},\"renderers\":[{\"id\":\"22240\"}]},\"id\":\"22270\",\"type\":\"LegendItem\"},{\"attributes\":{\"label\":{\"value\":\"FT_PCT\"},\"renderers\":[{\"id\":\"22498\"}]},\"id\":\"22540\",\"type\":\"LegendItem\"},{\"attributes\":{\"line_alpha\":0.2,\"line_color\":\"#30a2da\",\"line_width\":2,\"tags\":[\"apply_ranges\"],\"x\":{\"field\":\"index\"},\"y\":{\"field\":\"value\"}},\"id\":\"21986\",\"type\":\"Line\"},{\"attributes\":{\"line_alpha\":0.1,\"line_color\":\"#8b8b8b\",\"line_width\":2,\"tags\":[\"apply_ranges\"],\"x\":{\"field\":\"index\"},\"y\":{\"field\":\"value\"}},\"id\":\"22078\",\"type\":\"Line\"},{\"attributes\":{\"line_color\":\"#17becf\",\"line_width\":2,\"tags\":[\"apply_ranges\"],\"x\":{\"field\":\"index\"},\"y\":{\"field\":\"value\"}},\"id\":\"22597\",\"type\":\"Line\"},{\"attributes\":{},\"id\":\"22649\",\"type\":\"Selection\"},{\"attributes\":{\"line_color\":\"#30a2da\",\"line_width\":2,\"tags\":[\"apply_ranges\"],\"x\":{\"field\":\"index\"},\"y\":{\"field\":\"value\"}},\"id\":\"22001\",\"type\":\"Line\"},{\"attributes\":{\"line_alpha\":0.2,\"line_color\":\"#e5ae38\",\"line_width\":2,\"tags\":[\"apply_ranges\"],\"x\":{\"field\":\"index\"},\"y\":{\"field\":\"value\"}},\"id\":\"22029\",\"type\":\"Line\"},{\"attributes\":{\"line_color\":\"#e377c2\",\"line_width\":2,\"tags\":[\"apply_ranges\"],\"x\":{\"field\":\"index\"},\"y\":{\"field\":\"value\"}},\"id\":\"22271\",\"type\":\"Line\"},{\"attributes\":{\"line_color\":\"#6d904f\",\"line_width\":2,\"tags\":[\"apply_ranges\"],\"x\":{\"field\":\"index\"},\"y\":{\"field\":\"value\"}},\"id\":\"22541\",\"type\":\"Line\"},{\"attributes\":{\"label\":{\"value\":\"FGM\"},\"renderers\":[{\"id\":\"22170\"}]},\"id\":\"22196\",\"type\":\"LegendItem\"},{\"attributes\":{\"below\":[{\"id\":\"21954\"}],\"center\":[{\"id\":\"21957\"},{\"id\":\"21961\"}],\"height\":400,\"left\":[{\"id\":\"21958\"}],\"margin\":[5,5,5,5],\"min_border_bottom\":10,\"min_border_left\":10,\"min_border_right\":10,\"min_border_top\":10,\"output_backend\":\"webgl\",\"renderers\":[{\"id\":\"21987\"},{\"id\":\"22008\"},{\"id\":\"22030\"},{\"id\":\"22054\"},{\"id\":\"22080\"},{\"id\":\"22108\"},{\"id\":\"22138\"},{\"id\":\"22170\"},{\"id\":\"22204\"},{\"id\":\"22240\"},{\"id\":\"22278\"},{\"id\":\"22318\"},{\"id\":\"22360\"},{\"id\":\"22404\"},{\"id\":\"22450\"},{\"id\":\"22498\"},{\"id\":\"22548\"},{\"id\":\"22600\"},{\"id\":\"22654\"},{\"id\":\"22710\"},{\"id\":\"22768\"},{\"id\":\"22828\"},{\"id\":\"22890\"},{\"id\":\"22954\"},{\"id\":\"23020\"},{\"id\":\"23088\"}],\"right\":[{\"id\":\"21999\"}],\"sizing_mode\":\"fixed\",\"title\":{\"id\":\"21946\"},\"toolbar\":{\"id\":\"21968\"},\"width\":800,\"x_range\":{\"id\":\"21917\"},\"x_scale\":{\"id\":\"21950\"},\"y_range\":{\"id\":\"21918\"},\"y_scale\":{\"id\":\"21952\"}},\"id\":\"21945\",\"subtype\":\"Figure\",\"type\":\"Plot\"},{\"attributes\":{\"line_color\":\"#1f77b4\",\"line_width\":2,\"tags\":[\"apply_ranges\"],\"x\":{\"field\":\"index\"},\"y\":{\"field\":\"value\"}},\"id\":\"22201\",\"type\":\"Line\"},{\"attributes\":{\"click_policy\":\"mute\",\"coordinates\":null,\"group\":null,\"items\":[{\"id\":\"22000\"},{\"id\":\"22022\"},{\"id\":\"22046\"},{\"id\":\"22072\"},{\"id\":\"22100\"},{\"id\":\"22130\"},{\"id\":\"22162\"},{\"id\":\"22196\"},{\"id\":\"22232\"},{\"id\":\"22270\"},{\"id\":\"22310\"},{\"id\":\"22352\"},{\"id\":\"22396\"},{\"id\":\"22442\"},{\"id\":\"22490\"},{\"id\":\"22540\"},{\"id\":\"22592\"},{\"id\":\"22646\"},{\"id\":\"22702\"},{\"id\":\"22760\"},{\"id\":\"22820\"},{\"id\":\"22882\"},{\"id\":\"22946\"},{\"id\":\"23012\"},{\"id\":\"23080\"},{\"id\":\"23150\"}],\"location\":[0,0],\"title\":\"Variable\"},\"id\":\"21999\",\"type\":\"Legend\"},{\"attributes\":{\"source\":{\"id\":\"22024\"}},\"id\":\"22031\",\"type\":\"CDSView\"},{\"attributes\":{},\"id\":\"22103\",\"type\":\"Selection\"},{\"attributes\":{\"line_alpha\":0.1,\"line_color\":\"#17becf\",\"line_width\":2,\"tags\":[\"apply_ranges\"],\"x\":{\"field\":\"index\"},\"y\":{\"field\":\"value\"}},\"id\":\"22598\",\"type\":\"Line\"},{\"attributes\":{\"line_color\":\"#e5ae38\",\"line_width\":2,\"tags\":[\"apply_ranges\"],\"x\":{\"field\":\"index\"},\"y\":{\"field\":\"value\"}},\"id\":\"22447\",\"type\":\"Line\"},{\"attributes\":{\"line_alpha\":0.2,\"line_color\":\"#17becf\",\"line_width\":2,\"tags\":[\"apply_ranges\"],\"x\":{\"field\":\"index\"},\"y\":{\"field\":\"value\"}},\"id\":\"22599\",\"type\":\"Line\"},{\"attributes\":{},\"id\":\"21996\",\"type\":\"UnionRenderers\"},{\"attributes\":{},\"id\":\"22349\",\"type\":\"UnionRenderers\"},{\"attributes\":{\"line_color\":\"#30a2da\",\"line_width\":2,\"tags\":[\"apply_ranges\"],\"x\":{\"field\":\"index\"},\"y\":{\"field\":\"value\"}},\"id\":\"21984\",\"type\":\"Line\"},{\"attributes\":{},\"id\":\"22355\",\"type\":\"Selection\"},{\"attributes\":{\"coordinates\":null,\"data_source\":{\"id\":\"22002\"},\"glyph\":{\"id\":\"22005\"},\"group\":null,\"hover_glyph\":null,\"muted_glyph\":{\"id\":\"22007\"},\"nonselection_glyph\":{\"id\":\"22006\"},\"selection_glyph\":{\"id\":\"22023\"},\"view\":{\"id\":\"22009\"}},\"id\":\"22008\",\"type\":\"GlyphRenderer\"},{\"attributes\":{},\"id\":\"22229\",\"type\":\"UnionRenderers\"},{\"attributes\":{},\"id\":\"22273\",\"type\":\"Selection\"},{\"attributes\":{},\"id\":\"22543\",\"type\":\"Selection\"},{\"attributes\":{},\"id\":\"22003\",\"type\":\"Selection\"},{\"attributes\":{\"coordinates\":null,\"data_source\":{\"id\":\"22074\"},\"glyph\":{\"id\":\"22077\"},\"group\":null,\"hover_glyph\":null,\"muted_glyph\":{\"id\":\"22079\"},\"nonselection_glyph\":{\"id\":\"22078\"},\"selection_glyph\":{\"id\":\"22101\"},\"view\":{\"id\":\"22081\"}},\"id\":\"22080\",\"type\":\"GlyphRenderer\"},{\"attributes\":{\"data\":{\"Variable\":[\"BLK\",\"BLK\",\"BLK\",\"BLK\",\"BLK\",\"BLK\",\"BLK\",\"BLK\",\"BLK\",\"BLK\",\"BLK\",\"BLK\",\"BLK\",\"BLK\",\"BLK\",\"BLK\",\"BLK\",\"BLK\",\"BLK\",\"BLK\",\"BLK\",\"BLK\",\"BLK\",\"BLK\",\"BLK\",\"BLK\",\"BLK\",\"BLK\",\"BLK\",\"BLK\",\"BLK\",\"BLK\",\"BLK\",\"BLK\",\"BLK\",\"BLK\",\"BLK\",\"BLK\",\"BLK\",\"BLK\",\"BLK\",\"BLK\",\"BLK\",\"BLK\",\"BLK\",\"BLK\",\"BLK\",\"BLK\",\"BLK\",\"BLK\",\"BLK\",\"BLK\",\"BLK\",\"BLK\",\"BLK\",\"BLK\",\"BLK\",\"BLK\",\"BLK\",\"BLK\",\"BLK\",\"BLK\",\"BLK\",\"BLK\",\"BLK\",\"BLK\",\"BLK\",\"BLK\",\"BLK\",\"BLK\",\"BLK\",\"BLK\",\"BLK\",\"BLK\",\"BLK\",\"BLK\",\"BLK\",\"BLK\",\"BLK\",\"BLK\",\"BLK\",\"BLK\",\"BLK\",\"BLK\",\"BLK\",\"BLK\",\"BLK\",\"BLK\",\"BLK\",\"BLK\",\"BLK\",\"BLK\",\"BLK\",\"BLK\",\"BLK\",\"BLK\",\"BLK\",\"BLK\",\"BLK\",\"BLK\",\"BLK\",\"BLK\",\"BLK\",\"BLK\",\"BLK\",\"BLK\",\"BLK\",\"BLK\",\"BLK\",\"BLK\",\"BLK\",\"BLK\",\"BLK\",\"BLK\",\"BLK\",\"BLK\",\"BLK\",\"BLK\",\"BLK\",\"BLK\",\"BLK\",\"BLK\",\"BLK\",\"BLK\",\"BLK\",\"BLK\",\"BLK\",\"BLK\",\"BLK\",\"BLK\",\"BLK\",\"BLK\",\"BLK\",\"BLK\",\"BLK\",\"BLK\",\"BLK\",\"BLK\",\"BLK\",\"BLK\",\"BLK\",\"BLK\",\"BLK\",\"BLK\",\"BLK\",\"BLK\",\"BLK\",\"BLK\",\"BLK\",\"BLK\",\"BLK\",\"BLK\",\"BLK\",\"BLK\",\"BLK\",\"BLK\",\"BLK\",\"BLK\",\"BLK\",\"BLK\",\"BLK\",\"BLK\",\"BLK\",\"BLK\",\"BLK\",\"BLK\",\"BLK\",\"BLK\",\"BLK\",\"BLK\",\"BLK\",\"BLK\",\"BLK\",\"BLK\",\"BLK\",\"BLK\",\"BLK\",\"BLK\",\"BLK\",\"BLK\",\"BLK\",\"BLK\",\"BLK\",\"BLK\",\"BLK\",\"BLK\",\"BLK\",\"BLK\",\"BLK\",\"BLK\",\"BLK\",\"BLK\",\"BLK\",\"BLK\",\"BLK\",\"BLK\",\"BLK\",\"BLK\",\"BLK\",\"BLK\",\"BLK\",\"BLK\",\"BLK\",\"BLK\",\"BLK\",\"BLK\",\"BLK\",\"BLK\",\"BLK\",\"BLK\",\"BLK\",\"BLK\",\"BLK\",\"BLK\",\"BLK\",\"BLK\",\"BLK\",\"BLK\",\"BLK\",\"BLK\",\"BLK\",\"BLK\",\"BLK\",\"BLK\",\"BLK\",\"BLK\",\"BLK\",\"BLK\",\"BLK\",\"BLK\",\"BLK\",\"BLK\",\"BLK\",\"BLK\",\"BLK\",\"BLK\",\"BLK\",\"BLK\",\"BLK\",\"BLK\",\"BLK\",\"BLK\",\"BLK\",\"BLK\",\"BLK\",\"BLK\",\"BLK\",\"BLK\",\"BLK\",\"BLK\",\"BLK\",\"BLK\",\"BLK\",\"BLK\",\"BLK\",\"BLK\",\"BLK\",\"BLK\",\"BLK\",\"BLK\",\"BLK\",\"BLK\",\"BLK\",\"BLK\",\"BLK\",\"BLK\",\"BLK\",\"BLK\",\"BLK\",\"BLK\",\"BLK\",\"BLK\",\"BLK\",\"BLK\",\"BLK\",\"BLK\",\"BLK\",\"BLK\",\"BLK\",\"BLK\",\"BLK\",\"BLK\",\"BLK\",\"BLK\",\"BLK\",\"BLK\",\"BLK\",\"BLK\",\"BLK\",\"BLK\",\"BLK\",\"BLK\",\"BLK\",\"BLK\",\"BLK\",\"BLK\",\"BLK\",\"BLK\",\"BLK\",\"BLK\",\"BLK\",\"BLK\",\"BLK\",\"BLK\",\"BLK\",\"BLK\",\"BLK\",\"BLK\",\"BLK\",\"BLK\",\"BLK\",\"BLK\",\"BLK\",\"BLK\",\"BLK\",\"BLK\",\"BLK\",\"BLK\",\"BLK\",\"BLK\",\"BLK\",\"BLK\",\"BLK\",\"BLK\",\"BLK\",\"BLK\",\"BLK\",\"BLK\",\"BLK\",\"BLK\",\"BLK\",\"BLK\",\"BLK\",\"BLK\",\"BLK\",\"BLK\",\"BLK\",\"BLK\",\"BLK\",\"BLK\",\"BLK\",\"BLK\",\"BLK\",\"BLK\",\"BLK\",\"BLK\",\"BLK\",\"BLK\",\"BLK\",\"BLK\",\"BLK\",\"BLK\",\"BLK\",\"BLK\",\"BLK\",\"BLK\",\"BLK\",\"BLK\",\"BLK\",\"BLK\",\"BLK\",\"BLK\",\"BLK\",\"BLK\",\"BLK\",\"BLK\",\"BLK\",\"BLK\",\"BLK\",\"BLK\",\"BLK\",\"BLK\",\"BLK\",\"BLK\",\"BLK\",\"BLK\",\"BLK\",\"BLK\",\"BLK\",\"BLK\",\"BLK\",\"BLK\",\"BLK\",\"BLK\",\"BLK\",\"BLK\",\"BLK\",\"BLK\",\"BLK\",\"BLK\",\"BLK\",\"BLK\",\"BLK\",\"BLK\",\"BLK\",\"BLK\",\"BLK\",\"BLK\",\"BLK\",\"BLK\",\"BLK\",\"BLK\",\"BLK\",\"BLK\",\"BLK\",\"BLK\",\"BLK\",\"BLK\",\"BLK\",\"BLK\",\"BLK\",\"BLK\",\"BLK\",\"BLK\",\"BLK\",\"BLK\",\"BLK\",\"BLK\",\"BLK\",\"BLK\",\"BLK\",\"BLK\",\"BLK\",\"BLK\",\"BLK\",\"BLK\",\"BLK\",\"BLK\",\"BLK\",\"BLK\",\"BLK\",\"BLK\",\"BLK\",\"BLK\",\"BLK\",\"BLK\",\"BLK\",\"BLK\",\"BLK\",\"BLK\",\"BLK\",\"BLK\",\"BLK\",\"BLK\",\"BLK\",\"BLK\",\"BLK\",\"BLK\",\"BLK\",\"BLK\",\"BLK\",\"BLK\",\"BLK\",\"BLK\",\"BLK\",\"BLK\",\"BLK\",\"BLK\",\"BLK\",\"BLK\",\"BLK\",\"BLK\",\"BLK\",\"BLK\",\"BLK\",\"BLK\",\"BLK\",\"BLK\",\"BLK\",\"BLK\",\"BLK\",\"BLK\",\"BLK\",\"BLK\",\"BLK\",\"BLK\",\"BLK\",\"BLK\",\"BLK\",\"BLK\",\"BLK\",\"BLK\",\"BLK\",\"BLK\",\"BLK\",\"BLK\",\"BLK\",\"BLK\",\"BLK\",\"BLK\",\"BLK\",\"BLK\",\"BLK\",\"BLK\",\"BLK\",\"BLK\",\"BLK\",\"BLK\",\"BLK\",\"BLK\",\"BLK\",\"BLK\",\"BLK\",\"BLK\",\"BLK\",\"BLK\",\"BLK\",\"BLK\",\"BLK\",\"BLK\",\"BLK\",\"BLK\",\"BLK\",\"BLK\",\"BLK\",\"BLK\",\"BLK\",\"BLK\",\"BLK\",\"BLK\",\"BLK\",\"BLK\",\"BLK\",\"BLK\",\"BLK\",\"BLK\",\"BLK\",\"BLK\",\"BLK\",\"BLK\",\"BLK\",\"BLK\",\"BLK\",\"BLK\",\"BLK\",\"BLK\",\"BLK\",\"BLK\",\"BLK\",\"BLK\",\"BLK\",\"BLK\",\"BLK\",\"BLK\",\"BLK\",\"BLK\",\"BLK\",\"BLK\",\"BLK\",\"BLK\",\"BLK\",\"BLK\",\"BLK\",\"BLK\",\"BLK\",\"BLK\",\"BLK\",\"BLK\",\"BLK\",\"BLK\",\"BLK\",\"BLK\",\"BLK\",\"BLK\",\"BLK\",\"BLK\",\"BLK\",\"BLK\",\"BLK\",\"BLK\",\"BLK\",\"BLK\",\"BLK\",\"BLK\",\"BLK\",\"BLK\",\"BLK\",\"BLK\",\"BLK\",\"BLK\",\"BLK\",\"BLK\",\"BLK\",\"BLK\",\"BLK\",\"BLK\",\"BLK\",\"BLK\",\"BLK\",\"BLK\",\"BLK\",\"BLK\",\"BLK\",\"BLK\",\"BLK\",\"BLK\",\"BLK\",\"BLK\",\"BLK\",\"BLK\",\"BLK\",\"BLK\",\"BLK\",\"BLK\",\"BLK\",\"BLK\",\"BLK\",\"BLK\",\"BLK\",\"BLK\",\"BLK\",\"BLK\",\"BLK\",\"BLK\",\"BLK\",\"BLK\",\"BLK\",\"BLK\",\"BLK\",\"BLK\",\"BLK\",\"BLK\",\"BLK\",\"BLK\",\"BLK\",\"BLK\",\"BLK\",\"BLK\",\"BLK\",\"BLK\",\"BLK\",\"BLK\",\"BLK\",\"BLK\",\"BLK\",\"BLK\",\"BLK\",\"BLK\",\"BLK\",\"BLK\",\"BLK\",\"BLK\",\"BLK\",\"BLK\",\"BLK\",\"BLK\",\"BLK\",\"BLK\",\"BLK\",\"BLK\",\"BLK\",\"BLK\",\"BLK\",\"BLK\",\"BLK\",\"BLK\",\"BLK\",\"BLK\",\"BLK\",\"BLK\",\"BLK\",\"BLK\",\"BLK\",\"BLK\",\"BLK\",\"BLK\",\"BLK\",\"BLK\",\"BLK\",\"BLK\",\"BLK\",\"BLK\",\"BLK\",\"BLK\",\"BLK\",\"BLK\",\"BLK\",\"BLK\",\"BLK\",\"BLK\",\"BLK\",\"BLK\",\"BLK\",\"BLK\",\"BLK\",\"BLK\",\"BLK\",\"BLK\",\"BLK\",\"BLK\",\"BLK\",\"BLK\",\"BLK\",\"BLK\",\"BLK\",\"BLK\",\"BLK\",\"BLK\",\"BLK\",\"BLK\",\"BLK\",\"BLK\",\"BLK\",\"BLK\",\"BLK\",\"BLK\",\"BLK\",\"BLK\",\"BLK\",\"BLK\",\"BLK\",\"BLK\",\"BLK\",\"BLK\",\"BLK\",\"BLK\",\"BLK\",\"BLK\",\"BLK\",\"BLK\",\"BLK\",\"BLK\",\"BLK\",\"BLK\",\"BLK\",\"BLK\",\"BLK\",\"BLK\",\"BLK\",\"BLK\",\"BLK\",\"BLK\",\"BLK\",\"BLK\",\"BLK\",\"BLK\",\"BLK\",\"BLK\",\"BLK\",\"BLK\",\"BLK\",\"BLK\",\"BLK\",\"BLK\",\"BLK\",\"BLK\",\"BLK\",\"BLK\",\"BLK\",\"BLK\",\"BLK\",\"BLK\",\"BLK\",\"BLK\",\"BLK\",\"BLK\",\"BLK\",\"BLK\",\"BLK\",\"BLK\",\"BLK\",\"BLK\",\"BLK\",\"BLK\",\"BLK\",\"BLK\"],\"index\":[0,1,2,3,4,5,6,7,8,9,10,11,12,13,14,15,16,17,18,19,20,21,22,23,24,25,26,27,28,29,30,31,32,33,34,35,36,37,38,39,40,41,42,43,44,45,46,47,48,49,50,51,52,53,54,55,56,57,58,59,60,61,62,63,64,65,66,67,68,69,70,71,72,73,74,75,76,77,78,79,80,81,82,83,84,85,86,87,88,89,90,91,92,93,94,95,96,97,98,99,100,101,102,103,104,105,106,107,108,109,110,111,112,113,114,115,116,117,118,119,120,121,122,123,124,125,126,127,128,129,130,131,132,133,134,135,136,137,138,139,140,141,142,143,144,145,146,147,148,149,150,151,152,153,154,155,156,157,158,159,160,161,162,163,164,165,166,167,168,169,170,171,172,173,174,175,176,177,178,179,180,181,182,183,184,185,186,187,188,189,190,191,192,193,194,195,196,197,198,199,200,201,202,203,204,205,206,207,208,209,210,211,212,213,214,215,216,217,218,219,220,221,222,223,224,225,226,227,228,229,230,231,232,233,234,235,236,237,238,239,240,241,242,243,244,245,246,247,248,249,250,251,252,253,254,255,256,257,258,259,260,261,262,263,264,265,266,267,268,269,270,271,272,273,274,275,276,277,278,279,280,281,282,283,284,285,286,287,288,289,290,291,292,293,294,295,296,297,298,299,300,301,302,303,304,305,306,307,308,309,310,311,312,313,314,315,316,317,318,319,320,321,322,323,324,325,326,327,328,329,330,331,332,333,334,335,336,337,338,339,340,341,342,343,344,345,346,347,348,349,350,351,352,353,354,355,356,357,358,359,360,361,362,363,364,365,366,367,368,369,370,371,372,373,374,375,376,377,378,379,380,381,382,383,384,385,386,387,388,389,390,391,392,393,394,395,396,397,398,399,400,401,402,403,404,405,406,407,408,409,410,411,412,413,414,415,416,417,418,419,420,421,422,423,424,425,426,427,428,429,430,431,432,433,434,435,436,437,438,439,440,441,442,443,444,445,446,447,448,449,450,451,452,453,454,455,456,457,458,459,460,461,462,463,464,465,466,467,468,469,470,471,472,473,474,475,476,477,478,479,480,481,482,483,484,485,486,487,488,489,490,491,492,493,494,495,496,497,498,499,500,501,502,503,504,505,506,507,508,509,510,511,512,513,514,515,516,517,518,519,520,521,522,523,524,525,526,527,528,529,530,531,532,533,534,535,536,537,538,539,540,541,542,543,544,545,546,547,548,549,550,551,552,553,554,555,556,557,558,559,560,561,562,563,564,565,566,567,568,569,570,571,572,573,574,575,576,577,578,579,580,581,582,583,584,585,586,587,588,589,590,591,592,593,594,595,596,597,598,599,600,601,602,603,604,605,606,607,608,609,610,611,612,613,614,615,616,617,618,619,620,621,622,623,624,625,626,627,628,629,630,631,632,633,634,635,636,637,638,639,640,641,642,643,644,645,646,647,648,649,650,651,652,653,654,655,656,657,658,659,660,661,662,663,664,665,666,667,668,669,670,671,672,673,674,675,676,677,678,679,680,681,682,683,684,685,686,687,688,689,690,691,692,693,694,695,696,697,698,699,700,701,702,703,704,705,706,707,708,709,710,711,712,713,714,715,716,717,718,719,720,721,722,723,724,725,726,727,728,729,730,731,732,733,734,735,736,737,738,739,740,741,742,743,744,745,746,747,748,749,750,751,752,753,754,755,756,757,758,759,760,761,762,763,764,765],\"value\":[45,42,52,53,37,42,36,7,2,9,22,33,17,30,15,10,25,26,3,11,16,9,10,11,16,24,32,32,32,49,7,7,37,44,24,36,28,12,40,39,15,20,35,24,13,37,40,51,43,40,20,45,37,60,49,40,34,47,17,29,2,0,8,20,17,17,14,2,13,2,16,4,20,18,16,23,25,12,25,17,13,30,15,18,21,23,20,31,39,41,19,41,38,40,30,27,20,0,23,22,14,22,12,0,0,4,17,13,14,13,4,5,11,2,5,26,4,19,18,23,10,8,14,2,8,12,18,11,24,13,14,16,19,3,22,5,9,21,10,4,14,27,39,33,29,35,37,23,26,16,42,19,37,1,22,8,9,17,9,23,14,24,15,13,34,19,19,31,26,14,17,21,1,6,4,1,5,12,4,16,8,5,6,6,6,1,2,16,9,9,3,2,16,6,4,10,19,14,31,66,5,23,49,6,4,0,4,9,6,3,9,2,16,17,8,1,2,2,4,2,3,13,5,7,12,3,11,14,13,6,0,23,23,17,21,1,7,6,13,16,8,24,18,31,17,24,28,11,21,13,22,36,20,15,24,36,1,21,29,29,5,13,14,5,4,5,8,4,16,1,21,17,0,17,14,26,8,21,29,23,28,22,50,26,5,74,79,59,64,58,55,31,22,53,23,33,56,41,51,26,38,34,33,40,19,18,1,1,0,1,46,46,15,6,21,4,6,10,4,6,2,8,18,14,78,71,95,80,63,69,23,30,53,76,57,60,52,0,31,40,69,72,23,24,47,45,48,93,84,63,28,91,33,12,12,20,19,39,77,64,40,25,49,60,83,57,40,43,29,23,43,8,37,42,44,9,19,16,4,29,20,6,11,34,16,5,0,12,17,9,3,5,6,5,6,6,2,6,8,13,11,11,11,3,9,2,3,4,7,10,11,10,7,2,2,2,4,5,1,6,0,1,1,4,9,2,6,3,11,10,6,3,17,3,22,42,11,4,3,25,40,5,7,17,29,47,12,9,21,7,18,8,15,19,14,4,7,11,9,12,7,29,26,60,37,37,57,45,63,3,11,33,15,15,30,22,19,11,30,19,17,95,131,153,112,89,127,138,82,11,93,29,20,49,45,23,68,27,1,30,32,42,41,22,9,31,6,4,0,4,29,0,5,0,1,1,2,16,42,26,7,25,32,1,0,2,3,46,20,24,15,38,29,60,51,38,50,58,60,6,27,33,31,5,36,31,10,19,27,41,27,27,11,38,12,11,26,19,5,24,37,60,42,10,16,26,0,37,34,7,6,15,11,6,27,42,19,25,8,15,23,23,15,21,23,23,26,25,5,43,25,28,52,25,16,41,59,62,142,134,112,203,183,177,134,70,53,20,73,52,65,26,9,35,23,41,49,63,58,21,41,25,17,6,4,18,105,62,98,61,69,33,15,48,6,58,64,25,11,49,48,52,67,3,14,15,19,17,6,12,4,15,19,31,31,21,15,36,46,41,18,15,33,10,9,19,55,63,85,63,29,92,81,76,38,50,52,35,12,47,0,7,10,6,2,8,7,12,8,1,9,0,0,4,13,16,13,9,0,9,12,5,17,49,30,10,40,102,30,20,3,6,9,16,4,5,2,7,6,10,2,85,41,25,70,29,5,34,15,9,15,18,14,10,17,15,16,12,1,4,17,9,17,8,13,4,0,2,6,1,1,4,6,17,11,9,18,28,27,25,5,30,29,30,23,2]},\"selected\":{\"id\":\"22823\"},\"selection_policy\":{\"id\":\"22879\"}},\"id\":\"22822\",\"type\":\"ColumnDataSource\"},{\"attributes\":{\"coordinates\":null,\"data_source\":{\"id\":\"22398\"},\"glyph\":{\"id\":\"22401\"},\"group\":null,\"hover_glyph\":null,\"muted_glyph\":{\"id\":\"22403\"},\"nonselection_glyph\":{\"id\":\"22402\"},\"selection_glyph\":{\"id\":\"22443\"},\"view\":{\"id\":\"22405\"}},\"id\":\"22404\",\"type\":\"GlyphRenderer\"},{\"attributes\":{\"line_color\":\"#fc4f30\",\"line_width\":2,\"tags\":[\"apply_ranges\"],\"x\":{\"field\":\"index\"},\"y\":{\"field\":\"value\"}},\"id\":\"22005\",\"type\":\"Line\"},{\"attributes\":{\"data\":{\"Variable\":[\"FGM\",\"FGM\",\"FGM\",\"FGM\",\"FGM\",\"FGM\",\"FGM\",\"FGM\",\"FGM\",\"FGM\",\"FGM\",\"FGM\",\"FGM\",\"FGM\",\"FGM\",\"FGM\",\"FGM\",\"FGM\",\"FGM\",\"FGM\",\"FGM\",\"FGM\",\"FGM\",\"FGM\",\"FGM\",\"FGM\",\"FGM\",\"FGM\",\"FGM\",\"FGM\",\"FGM\",\"FGM\",\"FGM\",\"FGM\",\"FGM\",\"FGM\",\"FGM\",\"FGM\",\"FGM\",\"FGM\",\"FGM\",\"FGM\",\"FGM\",\"FGM\",\"FGM\",\"FGM\",\"FGM\",\"FGM\",\"FGM\",\"FGM\",\"FGM\",\"FGM\",\"FGM\",\"FGM\",\"FGM\",\"FGM\",\"FGM\",\"FGM\",\"FGM\",\"FGM\",\"FGM\",\"FGM\",\"FGM\",\"FGM\",\"FGM\",\"FGM\",\"FGM\",\"FGM\",\"FGM\",\"FGM\",\"FGM\",\"FGM\",\"FGM\",\"FGM\",\"FGM\",\"FGM\",\"FGM\",\"FGM\",\"FGM\",\"FGM\",\"FGM\",\"FGM\",\"FGM\",\"FGM\",\"FGM\",\"FGM\",\"FGM\",\"FGM\",\"FGM\",\"FGM\",\"FGM\",\"FGM\",\"FGM\",\"FGM\",\"FGM\",\"FGM\",\"FGM\",\"FGM\",\"FGM\",\"FGM\",\"FGM\",\"FGM\",\"FGM\",\"FGM\",\"FGM\",\"FGM\",\"FGM\",\"FGM\",\"FGM\",\"FGM\",\"FGM\",\"FGM\",\"FGM\",\"FGM\",\"FGM\",\"FGM\",\"FGM\",\"FGM\",\"FGM\",\"FGM\",\"FGM\",\"FGM\",\"FGM\",\"FGM\",\"FGM\",\"FGM\",\"FGM\",\"FGM\",\"FGM\",\"FGM\",\"FGM\",\"FGM\",\"FGM\",\"FGM\",\"FGM\",\"FGM\",\"FGM\",\"FGM\",\"FGM\",\"FGM\",\"FGM\",\"FGM\",\"FGM\",\"FGM\",\"FGM\",\"FGM\",\"FGM\",\"FGM\",\"FGM\",\"FGM\",\"FGM\",\"FGM\",\"FGM\",\"FGM\",\"FGM\",\"FGM\",\"FGM\",\"FGM\",\"FGM\",\"FGM\",\"FGM\",\"FGM\",\"FGM\",\"FGM\",\"FGM\",\"FGM\",\"FGM\",\"FGM\",\"FGM\",\"FGM\",\"FGM\",\"FGM\",\"FGM\",\"FGM\",\"FGM\",\"FGM\",\"FGM\",\"FGM\",\"FGM\",\"FGM\",\"FGM\",\"FGM\",\"FGM\",\"FGM\",\"FGM\",\"FGM\",\"FGM\",\"FGM\",\"FGM\",\"FGM\",\"FGM\",\"FGM\",\"FGM\",\"FGM\",\"FGM\",\"FGM\",\"FGM\",\"FGM\",\"FGM\",\"FGM\",\"FGM\",\"FGM\",\"FGM\",\"FGM\",\"FGM\",\"FGM\",\"FGM\",\"FGM\",\"FGM\",\"FGM\",\"FGM\",\"FGM\",\"FGM\",\"FGM\",\"FGM\",\"FGM\",\"FGM\",\"FGM\",\"FGM\",\"FGM\",\"FGM\",\"FGM\",\"FGM\",\"FGM\",\"FGM\",\"FGM\",\"FGM\",\"FGM\",\"FGM\",\"FGM\",\"FGM\",\"FGM\",\"FGM\",\"FGM\",\"FGM\",\"FGM\",\"FGM\",\"FGM\",\"FGM\",\"FGM\",\"FGM\",\"FGM\",\"FGM\",\"FGM\",\"FGM\",\"FGM\",\"FGM\",\"FGM\",\"FGM\",\"FGM\",\"FGM\",\"FGM\",\"FGM\",\"FGM\",\"FGM\",\"FGM\",\"FGM\",\"FGM\",\"FGM\",\"FGM\",\"FGM\",\"FGM\",\"FGM\",\"FGM\",\"FGM\",\"FGM\",\"FGM\",\"FGM\",\"FGM\",\"FGM\",\"FGM\",\"FGM\",\"FGM\",\"FGM\",\"FGM\",\"FGM\",\"FGM\",\"FGM\",\"FGM\",\"FGM\",\"FGM\",\"FGM\",\"FGM\",\"FGM\",\"FGM\",\"FGM\",\"FGM\",\"FGM\",\"FGM\",\"FGM\",\"FGM\",\"FGM\",\"FGM\",\"FGM\",\"FGM\",\"FGM\",\"FGM\",\"FGM\",\"FGM\",\"FGM\",\"FGM\",\"FGM\",\"FGM\",\"FGM\",\"FGM\",\"FGM\",\"FGM\",\"FGM\",\"FGM\",\"FGM\",\"FGM\",\"FGM\",\"FGM\",\"FGM\",\"FGM\",\"FGM\",\"FGM\",\"FGM\",\"FGM\",\"FGM\",\"FGM\",\"FGM\",\"FGM\",\"FGM\",\"FGM\",\"FGM\",\"FGM\",\"FGM\",\"FGM\",\"FGM\",\"FGM\",\"FGM\",\"FGM\",\"FGM\",\"FGM\",\"FGM\",\"FGM\",\"FGM\",\"FGM\",\"FGM\",\"FGM\",\"FGM\",\"FGM\",\"FGM\",\"FGM\",\"FGM\",\"FGM\",\"FGM\",\"FGM\",\"FGM\",\"FGM\",\"FGM\",\"FGM\",\"FGM\",\"FGM\",\"FGM\",\"FGM\",\"FGM\",\"FGM\",\"FGM\",\"FGM\",\"FGM\",\"FGM\",\"FGM\",\"FGM\",\"FGM\",\"FGM\",\"FGM\",\"FGM\",\"FGM\",\"FGM\",\"FGM\",\"FGM\",\"FGM\",\"FGM\",\"FGM\",\"FGM\",\"FGM\",\"FGM\",\"FGM\",\"FGM\",\"FGM\",\"FGM\",\"FGM\",\"FGM\",\"FGM\",\"FGM\",\"FGM\",\"FGM\",\"FGM\",\"FGM\",\"FGM\",\"FGM\",\"FGM\",\"FGM\",\"FGM\",\"FGM\",\"FGM\",\"FGM\",\"FGM\",\"FGM\",\"FGM\",\"FGM\",\"FGM\",\"FGM\",\"FGM\",\"FGM\",\"FGM\",\"FGM\",\"FGM\",\"FGM\",\"FGM\",\"FGM\",\"FGM\",\"FGM\",\"FGM\",\"FGM\",\"FGM\",\"FGM\",\"FGM\",\"FGM\",\"FGM\",\"FGM\",\"FGM\",\"FGM\",\"FGM\",\"FGM\",\"FGM\",\"FGM\",\"FGM\",\"FGM\",\"FGM\",\"FGM\",\"FGM\",\"FGM\",\"FGM\",\"FGM\",\"FGM\",\"FGM\",\"FGM\",\"FGM\",\"FGM\",\"FGM\",\"FGM\",\"FGM\",\"FGM\",\"FGM\",\"FGM\",\"FGM\",\"FGM\",\"FGM\",\"FGM\",\"FGM\",\"FGM\",\"FGM\",\"FGM\",\"FGM\",\"FGM\",\"FGM\",\"FGM\",\"FGM\",\"FGM\",\"FGM\",\"FGM\",\"FGM\",\"FGM\",\"FGM\",\"FGM\",\"FGM\",\"FGM\",\"FGM\",\"FGM\",\"FGM\",\"FGM\",\"FGM\",\"FGM\",\"FGM\",\"FGM\",\"FGM\",\"FGM\",\"FGM\",\"FGM\",\"FGM\",\"FGM\",\"FGM\",\"FGM\",\"FGM\",\"FGM\",\"FGM\",\"FGM\",\"FGM\",\"FGM\",\"FGM\",\"FGM\",\"FGM\",\"FGM\",\"FGM\",\"FGM\",\"FGM\",\"FGM\",\"FGM\",\"FGM\",\"FGM\",\"FGM\",\"FGM\",\"FGM\",\"FGM\",\"FGM\",\"FGM\",\"FGM\",\"FGM\",\"FGM\",\"FGM\",\"FGM\",\"FGM\",\"FGM\",\"FGM\",\"FGM\",\"FGM\",\"FGM\",\"FGM\",\"FGM\",\"FGM\",\"FGM\",\"FGM\",\"FGM\",\"FGM\",\"FGM\",\"FGM\",\"FGM\",\"FGM\",\"FGM\",\"FGM\",\"FGM\",\"FGM\",\"FGM\",\"FGM\",\"FGM\",\"FGM\",\"FGM\",\"FGM\",\"FGM\",\"FGM\",\"FGM\",\"FGM\",\"FGM\",\"FGM\",\"FGM\",\"FGM\",\"FGM\",\"FGM\",\"FGM\",\"FGM\",\"FGM\",\"FGM\",\"FGM\",\"FGM\",\"FGM\",\"FGM\",\"FGM\",\"FGM\",\"FGM\",\"FGM\",\"FGM\",\"FGM\",\"FGM\",\"FGM\",\"FGM\",\"FGM\",\"FGM\",\"FGM\",\"FGM\",\"FGM\",\"FGM\",\"FGM\",\"FGM\",\"FGM\",\"FGM\",\"FGM\",\"FGM\",\"FGM\",\"FGM\",\"FGM\",\"FGM\",\"FGM\",\"FGM\",\"FGM\",\"FGM\",\"FGM\",\"FGM\",\"FGM\",\"FGM\",\"FGM\",\"FGM\",\"FGM\",\"FGM\",\"FGM\",\"FGM\",\"FGM\",\"FGM\",\"FGM\",\"FGM\",\"FGM\",\"FGM\",\"FGM\",\"FGM\",\"FGM\",\"FGM\",\"FGM\",\"FGM\",\"FGM\",\"FGM\",\"FGM\",\"FGM\",\"FGM\",\"FGM\",\"FGM\",\"FGM\",\"FGM\",\"FGM\",\"FGM\",\"FGM\",\"FGM\",\"FGM\",\"FGM\",\"FGM\",\"FGM\",\"FGM\",\"FGM\",\"FGM\",\"FGM\",\"FGM\",\"FGM\",\"FGM\",\"FGM\",\"FGM\",\"FGM\",\"FGM\",\"FGM\",\"FGM\",\"FGM\",\"FGM\",\"FGM\",\"FGM\",\"FGM\",\"FGM\",\"FGM\",\"FGM\",\"FGM\",\"FGM\",\"FGM\",\"FGM\",\"FGM\",\"FGM\",\"FGM\",\"FGM\",\"FGM\",\"FGM\",\"FGM\",\"FGM\",\"FGM\",\"FGM\",\"FGM\",\"FGM\",\"FGM\",\"FGM\",\"FGM\",\"FGM\",\"FGM\",\"FGM\",\"FGM\",\"FGM\",\"FGM\",\"FGM\",\"FGM\",\"FGM\",\"FGM\",\"FGM\",\"FGM\",\"FGM\",\"FGM\",\"FGM\",\"FGM\",\"FGM\",\"FGM\",\"FGM\",\"FGM\",\"FGM\",\"FGM\",\"FGM\",\"FGM\",\"FGM\",\"FGM\",\"FGM\",\"FGM\",\"FGM\",\"FGM\",\"FGM\",\"FGM\",\"FGM\",\"FGM\",\"FGM\",\"FGM\",\"FGM\",\"FGM\",\"FGM\",\"FGM\",\"FGM\",\"FGM\",\"FGM\",\"FGM\",\"FGM\",\"FGM\",\"FGM\",\"FGM\",\"FGM\",\"FGM\",\"FGM\",\"FGM\",\"FGM\",\"FGM\",\"FGM\",\"FGM\",\"FGM\",\"FGM\",\"FGM\",\"FGM\",\"FGM\",\"FGM\",\"FGM\",\"FGM\",\"FGM\",\"FGM\",\"FGM\",\"FGM\",\"FGM\",\"FGM\",\"FGM\",\"FGM\",\"FGM\",\"FGM\",\"FGM\",\"FGM\",\"FGM\",\"FGM\",\"FGM\",\"FGM\",\"FGM\",\"FGM\",\"FGM\",\"FGM\",\"FGM\",\"FGM\",\"FGM\",\"FGM\",\"FGM\",\"FGM\",\"FGM\",\"FGM\",\"FGM\",\"FGM\",\"FGM\",\"FGM\",\"FGM\",\"FGM\",\"FGM\"],\"index\":[0,1,2,3,4,5,6,7,8,9,10,11,12,13,14,15,16,17,18,19,20,21,22,23,24,25,26,27,28,29,30,31,32,33,34,35,36,37,38,39,40,41,42,43,44,45,46,47,48,49,50,51,52,53,54,55,56,57,58,59,60,61,62,63,64,65,66,67,68,69,70,71,72,73,74,75,76,77,78,79,80,81,82,83,84,85,86,87,88,89,90,91,92,93,94,95,96,97,98,99,100,101,102,103,104,105,106,107,108,109,110,111,112,113,114,115,116,117,118,119,120,121,122,123,124,125,126,127,128,129,130,131,132,133,134,135,136,137,138,139,140,141,142,143,144,145,146,147,148,149,150,151,152,153,154,155,156,157,158,159,160,161,162,163,164,165,166,167,168,169,170,171,172,173,174,175,176,177,178,179,180,181,182,183,184,185,186,187,188,189,190,191,192,193,194,195,196,197,198,199,200,201,202,203,204,205,206,207,208,209,210,211,212,213,214,215,216,217,218,219,220,221,222,223,224,225,226,227,228,229,230,231,232,233,234,235,236,237,238,239,240,241,242,243,244,245,246,247,248,249,250,251,252,253,254,255,256,257,258,259,260,261,262,263,264,265,266,267,268,269,270,271,272,273,274,275,276,277,278,279,280,281,282,283,284,285,286,287,288,289,290,291,292,293,294,295,296,297,298,299,300,301,302,303,304,305,306,307,308,309,310,311,312,313,314,315,316,317,318,319,320,321,322,323,324,325,326,327,328,329,330,331,332,333,334,335,336,337,338,339,340,341,342,343,344,345,346,347,348,349,350,351,352,353,354,355,356,357,358,359,360,361,362,363,364,365,366,367,368,369,370,371,372,373,374,375,376,377,378,379,380,381,382,383,384,385,386,387,388,389,390,391,392,393,394,395,396,397,398,399,400,401,402,403,404,405,406,407,408,409,410,411,412,413,414,415,416,417,418,419,420,421,422,423,424,425,426,427,428,429,430,431,432,433,434,435,436,437,438,439,440,441,442,443,444,445,446,447,448,449,450,451,452,453,454,455,456,457,458,459,460,461,462,463,464,465,466,467,468,469,470,471,472,473,474,475,476,477,478,479,480,481,482,483,484,485,486,487,488,489,490,491,492,493,494,495,496,497,498,499,500,501,502,503,504,505,506,507,508,509,510,511,512,513,514,515,516,517,518,519,520,521,522,523,524,525,526,527,528,529,530,531,532,533,534,535,536,537,538,539,540,541,542,543,544,545,546,547,548,549,550,551,552,553,554,555,556,557,558,559,560,561,562,563,564,565,566,567,568,569,570,571,572,573,574,575,576,577,578,579,580,581,582,583,584,585,586,587,588,589,590,591,592,593,594,595,596,597,598,599,600,601,602,603,604,605,606,607,608,609,610,611,612,613,614,615,616,617,618,619,620,621,622,623,624,625,626,627,628,629,630,631,632,633,634,635,636,637,638,639,640,641,642,643,644,645,646,647,648,649,650,651,652,653,654,655,656,657,658,659,660,661,662,663,664,665,666,667,668,669,670,671,672,673,674,675,676,677,678,679,680,681,682,683,684,685,686,687,688,689,690,691,692,693,694,695,696,697,698,699,700,701,702,703,704,705,706,707,708,709,710,711,712,713,714,715,716,717,718,719,720,721,722,723,724,725,726,727,728,729,730,731,732,733,734,735,736,737,738,739,740,741,742,743,744,745,746,747,748,749,750,751,752,753,754,755,756,757,758,759,760,761,762,763,764,765],\"value\":[103,253,519,500,437,596,630,185,142,327,416,623,498,403,265,181,446,475,90,360,266,219,247,239,120,163,158,175,203,229,79,53,180,233,332,442,251,166,417,511,320,242,562,424,187,611,553,473,493,423,318,508,559,602,651,644,575,655,246,546,48,1,154,305,374,381,357,56,201,16,171,51,222,288,331,410,421,262,377,281,74,355,276,300,274,100,161,172,281,277,142,267,336,426,484,521,545,1,296,350,311,283,276,36,4,346,260,186,374,247,45,65,359,41,83,349,86,247,293,339,82,109,247,189,323,369,423,296,414,463,393,294,464,64,490,232,284,344,153,108,261,234,251,253,260,316,261,184,162,175,337,128,278,14,256,112,77,189,184,345,210,250,457,430,512,426,403,304,334,260,276,196,43,291,166,56,222,151,86,237,207,267,354,215,239,8,98,242,170,182,48,16,196,217,103,320,450,405,115,189,32,76,284,114,43,21,64,87,69,27,96,33,191,240,188,43,23,1,24,43,54,267,182,63,245,90,248,201,192,51,19,134,324,366,424,6,185,121,306,316,144,460,255,539,381,548,604,409,614,721,645,631,557,455,774,657,14,224,224,257,153,163,380,121,137,99,170,47,136,9,192,244,77,321,210,285,200,68,91,73,94,95,189,97,19,321,625,572,600,409,485,281,240,521,130,407,537,508,466,201,253,376,266,264,157,109,9,5,0,5,143,212,173,74,247,87,100,88,61,67,117,173,255,245,204,359,373,303,391,390,149,152,301,432,440,510,446,6,299,274,292,345,50,106,156,216,89,305,204,128,81,209,102,20,44,41,53,94,229,175,161,139,367,289,352,381,240,372,393,270,253,28,191,179,160,153,227,212,173,391,357,56,118,230,110,25,0,55,80,93,56,75,150,185,197,178,249,311,188,351,383,459,318,256,225,141,81,194,275,355,229,231,175,137,44,51,95,23,45,68,10,135,63,113,309,128,260,273,280,282,258,252,324,86,135,216,43,8,11,53,121,8,16,46,70,175,20,35,55,66,359,320,440,270,218,69,69,138,240,138,31,138,93,231,150,157,308,209,252,36,49,201,127,115,242,190,136,104,240,122,138,208,479,494,552,483,466,561,360,58,418,180,102,282,128,119,247,166,33,176,339,414,445,202,97,299,62,89,9,98,193,15,18,3,4,7,2,49,107,82,9,35,44,1,0,12,13,113,233,298,309,585,549,647,710,674,651,843,672,60,282,342,292,115,407,371,31,83,76,170,143,109,36,145,77,119,113,89,42,131,70,83,131,27,42,69,0,207,166,67,312,375,279,263,114,415,262,278,30,101,131,177,177,79,199,204,258,228,48,194,147,93,177,97,47,144,93,144,234,206,314,348,379,357,412,373,208,78,286,191,190,60,32,92,88,172,172,231,253,85,190,251,181,51,37,33,179,264,230,214,320,142,35,177,5,166,171,94,16,237,319,313,596,16,152,256,311,236,16,91,24,64,88,233,290,151,149,300,208,258,190,71,261,48,29,77,199,280,267,235,99,334,221,262,177,234,205,265,64,329,33,73,349,117,110,227,264,332,265,105,370,0,3,3,105,233,170,100,51,151,92,15,43,116,84,137,221,214,381,403,48,256,304,256,153,76,51,127,14,25,15,261,125,273,274,71,12,83,273,440,314,352,445,337,331,333,283,194,4,81,279,167,89,87,58,13,3,28,44,1,7,12,20,105,51,68,201,183,199,166,42,208,222,158,111,18]},\"selected\":{\"id\":\"22165\"},\"selection_policy\":{\"id\":\"22193\"}},\"id\":\"22164\",\"type\":\"ColumnDataSource\"},{\"attributes\":{},\"id\":\"22393\",\"type\":\"UnionRenderers\"},{\"attributes\":{\"coordinates\":null,\"data_source\":{\"id\":\"22312\"},\"glyph\":{\"id\":\"22315\"},\"group\":null,\"hover_glyph\":null,\"muted_glyph\":{\"id\":\"22317\"},\"nonselection_glyph\":{\"id\":\"22316\"},\"selection_glyph\":{\"id\":\"22353\"},\"view\":{\"id\":\"22319\"}},\"id\":\"22318\",\"type\":\"GlyphRenderer\"},{\"attributes\":{\"label\":{\"value\":\"FG3_PCT\"},\"renderers\":[{\"id\":\"22360\"}]},\"id\":\"22396\",\"type\":\"LegendItem\"},{\"attributes\":{},\"id\":\"22019\",\"type\":\"UnionRenderers\"},{\"attributes\":{\"line_color\":\"#30a2da\",\"line_width\":2,\"tags\":[\"apply_ranges\"],\"x\":{\"field\":\"index\"},\"y\":{\"field\":\"value\"}},\"id\":\"22397\",\"type\":\"Line\"},{\"attributes\":{\"line_alpha\":0.1,\"line_color\":\"#e5ae38\",\"line_width\":2,\"tags\":[\"apply_ranges\"],\"x\":{\"field\":\"index\"},\"y\":{\"field\":\"value\"}},\"id\":\"22448\",\"type\":\"Line\"},{\"attributes\":{\"label\":{\"value\":\"FG3A\"},\"renderers\":[{\"id\":\"22318\"}]},\"id\":\"22352\",\"type\":\"LegendItem\"},{\"attributes\":{\"label\":{\"value\":\"FTM\"},\"renderers\":[{\"id\":\"22404\"}]},\"id\":\"22442\",\"type\":\"LegendItem\"},{\"attributes\":{\"label\":{\"value\":\"FG3M\"},\"renderers\":[{\"id\":\"22278\"}]},\"id\":\"22310\",\"type\":\"LegendItem\"},{\"attributes\":{\"label\":{\"value\":\"GS\"},\"renderers\":[{\"id\":\"22108\"}]},\"id\":\"22130\",\"type\":\"LegendItem\"},{\"attributes\":{\"coordinates\":null,\"data_source\":{\"id\":\"22492\"},\"glyph\":{\"id\":\"22495\"},\"group\":null,\"hover_glyph\":null,\"muted_glyph\":{\"id\":\"22497\"},\"nonselection_glyph\":{\"id\":\"22496\"},\"selection_glyph\":{\"id\":\"22541\"},\"view\":{\"id\":\"22499\"}},\"id\":\"22498\",\"type\":\"GlyphRenderer\"},{\"attributes\":{},\"id\":\"22399\",\"type\":\"Selection\"},{\"attributes\":{\"line_color\":\"#17becf\",\"line_width\":2,\"tags\":[\"apply_ranges\"],\"x\":{\"field\":\"index\"},\"y\":{\"field\":\"value\"}},\"id\":\"22131\",\"type\":\"Line\"},{\"attributes\":{\"source\":{\"id\":\"22492\"}},\"id\":\"22499\",\"type\":\"CDSView\"},{\"attributes\":{\"source\":{\"id\":\"22074\"}},\"id\":\"22081\",\"type\":\"CDSView\"},{\"attributes\":{\"data\":{\"Variable\":[\"FTA\",\"FTA\",\"FTA\",\"FTA\",\"FTA\",\"FTA\",\"FTA\",\"FTA\",\"FTA\",\"FTA\",\"FTA\",\"FTA\",\"FTA\",\"FTA\",\"FTA\",\"FTA\",\"FTA\",\"FTA\",\"FTA\",\"FTA\",\"FTA\",\"FTA\",\"FTA\",\"FTA\",\"FTA\",\"FTA\",\"FTA\",\"FTA\",\"FTA\",\"FTA\",\"FTA\",\"FTA\",\"FTA\",\"FTA\",\"FTA\",\"FTA\",\"FTA\",\"FTA\",\"FTA\",\"FTA\",\"FTA\",\"FTA\",\"FTA\",\"FTA\",\"FTA\",\"FTA\",\"FTA\",\"FTA\",\"FTA\",\"FTA\",\"FTA\",\"FTA\",\"FTA\",\"FTA\",\"FTA\",\"FTA\",\"FTA\",\"FTA\",\"FTA\",\"FTA\",\"FTA\",\"FTA\",\"FTA\",\"FTA\",\"FTA\",\"FTA\",\"FTA\",\"FTA\",\"FTA\",\"FTA\",\"FTA\",\"FTA\",\"FTA\",\"FTA\",\"FTA\",\"FTA\",\"FTA\",\"FTA\",\"FTA\",\"FTA\",\"FTA\",\"FTA\",\"FTA\",\"FTA\",\"FTA\",\"FTA\",\"FTA\",\"FTA\",\"FTA\",\"FTA\",\"FTA\",\"FTA\",\"FTA\",\"FTA\",\"FTA\",\"FTA\",\"FTA\",\"FTA\",\"FTA\",\"FTA\",\"FTA\",\"FTA\",\"FTA\",\"FTA\",\"FTA\",\"FTA\",\"FTA\",\"FTA\",\"FTA\",\"FTA\",\"FTA\",\"FTA\",\"FTA\",\"FTA\",\"FTA\",\"FTA\",\"FTA\",\"FTA\",\"FTA\",\"FTA\",\"FTA\",\"FTA\",\"FTA\",\"FTA\",\"FTA\",\"FTA\",\"FTA\",\"FTA\",\"FTA\",\"FTA\",\"FTA\",\"FTA\",\"FTA\",\"FTA\",\"FTA\",\"FTA\",\"FTA\",\"FTA\",\"FTA\",\"FTA\",\"FTA\",\"FTA\",\"FTA\",\"FTA\",\"FTA\",\"FTA\",\"FTA\",\"FTA\",\"FTA\",\"FTA\",\"FTA\",\"FTA\",\"FTA\",\"FTA\",\"FTA\",\"FTA\",\"FTA\",\"FTA\",\"FTA\",\"FTA\",\"FTA\",\"FTA\",\"FTA\",\"FTA\",\"FTA\",\"FTA\",\"FTA\",\"FTA\",\"FTA\",\"FTA\",\"FTA\",\"FTA\",\"FTA\",\"FTA\",\"FTA\",\"FTA\",\"FTA\",\"FTA\",\"FTA\",\"FTA\",\"FTA\",\"FTA\",\"FTA\",\"FTA\",\"FTA\",\"FTA\",\"FTA\",\"FTA\",\"FTA\",\"FTA\",\"FTA\",\"FTA\",\"FTA\",\"FTA\",\"FTA\",\"FTA\",\"FTA\",\"FTA\",\"FTA\",\"FTA\",\"FTA\",\"FTA\",\"FTA\",\"FTA\",\"FTA\",\"FTA\",\"FTA\",\"FTA\",\"FTA\",\"FTA\",\"FTA\",\"FTA\",\"FTA\",\"FTA\",\"FTA\",\"FTA\",\"FTA\",\"FTA\",\"FTA\",\"FTA\",\"FTA\",\"FTA\",\"FTA\",\"FTA\",\"FTA\",\"FTA\",\"FTA\",\"FTA\",\"FTA\",\"FTA\",\"FTA\",\"FTA\",\"FTA\",\"FTA\",\"FTA\",\"FTA\",\"FTA\",\"FTA\",\"FTA\",\"FTA\",\"FTA\",\"FTA\",\"FTA\",\"FTA\",\"FTA\",\"FTA\",\"FTA\",\"FTA\",\"FTA\",\"FTA\",\"FTA\",\"FTA\",\"FTA\",\"FTA\",\"FTA\",\"FTA\",\"FTA\",\"FTA\",\"FTA\",\"FTA\",\"FTA\",\"FTA\",\"FTA\",\"FTA\",\"FTA\",\"FTA\",\"FTA\",\"FTA\",\"FTA\",\"FTA\",\"FTA\",\"FTA\",\"FTA\",\"FTA\",\"FTA\",\"FTA\",\"FTA\",\"FTA\",\"FTA\",\"FTA\",\"FTA\",\"FTA\",\"FTA\",\"FTA\",\"FTA\",\"FTA\",\"FTA\",\"FTA\",\"FTA\",\"FTA\",\"FTA\",\"FTA\",\"FTA\",\"FTA\",\"FTA\",\"FTA\",\"FTA\",\"FTA\",\"FTA\",\"FTA\",\"FTA\",\"FTA\",\"FTA\",\"FTA\",\"FTA\",\"FTA\",\"FTA\",\"FTA\",\"FTA\",\"FTA\",\"FTA\",\"FTA\",\"FTA\",\"FTA\",\"FTA\",\"FTA\",\"FTA\",\"FTA\",\"FTA\",\"FTA\",\"FTA\",\"FTA\",\"FTA\",\"FTA\",\"FTA\",\"FTA\",\"FTA\",\"FTA\",\"FTA\",\"FTA\",\"FTA\",\"FTA\",\"FTA\",\"FTA\",\"FTA\",\"FTA\",\"FTA\",\"FTA\",\"FTA\",\"FTA\",\"FTA\",\"FTA\",\"FTA\",\"FTA\",\"FTA\",\"FTA\",\"FTA\",\"FTA\",\"FTA\",\"FTA\",\"FTA\",\"FTA\",\"FTA\",\"FTA\",\"FTA\",\"FTA\",\"FTA\",\"FTA\",\"FTA\",\"FTA\",\"FTA\",\"FTA\",\"FTA\",\"FTA\",\"FTA\",\"FTA\",\"FTA\",\"FTA\",\"FTA\",\"FTA\",\"FTA\",\"FTA\",\"FTA\",\"FTA\",\"FTA\",\"FTA\",\"FTA\",\"FTA\",\"FTA\",\"FTA\",\"FTA\",\"FTA\",\"FTA\",\"FTA\",\"FTA\",\"FTA\",\"FTA\",\"FTA\",\"FTA\",\"FTA\",\"FTA\",\"FTA\",\"FTA\",\"FTA\",\"FTA\",\"FTA\",\"FTA\",\"FTA\",\"FTA\",\"FTA\",\"FTA\",\"FTA\",\"FTA\",\"FTA\",\"FTA\",\"FTA\",\"FTA\",\"FTA\",\"FTA\",\"FTA\",\"FTA\",\"FTA\",\"FTA\",\"FTA\",\"FTA\",\"FTA\",\"FTA\",\"FTA\",\"FTA\",\"FTA\",\"FTA\",\"FTA\",\"FTA\",\"FTA\",\"FTA\",\"FTA\",\"FTA\",\"FTA\",\"FTA\",\"FTA\",\"FTA\",\"FTA\",\"FTA\",\"FTA\",\"FTA\",\"FTA\",\"FTA\",\"FTA\",\"FTA\",\"FTA\",\"FTA\",\"FTA\",\"FTA\",\"FTA\",\"FTA\",\"FTA\",\"FTA\",\"FTA\",\"FTA\",\"FTA\",\"FTA\",\"FTA\",\"FTA\",\"FTA\",\"FTA\",\"FTA\",\"FTA\",\"FTA\",\"FTA\",\"FTA\",\"FTA\",\"FTA\",\"FTA\",\"FTA\",\"FTA\",\"FTA\",\"FTA\",\"FTA\",\"FTA\",\"FTA\",\"FTA\",\"FTA\",\"FTA\",\"FTA\",\"FTA\",\"FTA\",\"FTA\",\"FTA\",\"FTA\",\"FTA\",\"FTA\",\"FTA\",\"FTA\",\"FTA\",\"FTA\",\"FTA\",\"FTA\",\"FTA\",\"FTA\",\"FTA\",\"FTA\",\"FTA\",\"FTA\",\"FTA\",\"FTA\",\"FTA\",\"FTA\",\"FTA\",\"FTA\",\"FTA\",\"FTA\",\"FTA\",\"FTA\",\"FTA\",\"FTA\",\"FTA\",\"FTA\",\"FTA\",\"FTA\",\"FTA\",\"FTA\",\"FTA\",\"FTA\",\"FTA\",\"FTA\",\"FTA\",\"FTA\",\"FTA\",\"FTA\",\"FTA\",\"FTA\",\"FTA\",\"FTA\",\"FTA\",\"FTA\",\"FTA\",\"FTA\",\"FTA\",\"FTA\",\"FTA\",\"FTA\",\"FTA\",\"FTA\",\"FTA\",\"FTA\",\"FTA\",\"FTA\",\"FTA\",\"FTA\",\"FTA\",\"FTA\",\"FTA\",\"FTA\",\"FTA\",\"FTA\",\"FTA\",\"FTA\",\"FTA\",\"FTA\",\"FTA\",\"FTA\",\"FTA\",\"FTA\",\"FTA\",\"FTA\",\"FTA\",\"FTA\",\"FTA\",\"FTA\",\"FTA\",\"FTA\",\"FTA\",\"FTA\",\"FTA\",\"FTA\",\"FTA\",\"FTA\",\"FTA\",\"FTA\",\"FTA\",\"FTA\",\"FTA\",\"FTA\",\"FTA\",\"FTA\",\"FTA\",\"FTA\",\"FTA\",\"FTA\",\"FTA\",\"FTA\",\"FTA\",\"FTA\",\"FTA\",\"FTA\",\"FTA\",\"FTA\",\"FTA\",\"FTA\",\"FTA\",\"FTA\",\"FTA\",\"FTA\",\"FTA\",\"FTA\",\"FTA\",\"FTA\",\"FTA\",\"FTA\",\"FTA\",\"FTA\",\"FTA\",\"FTA\",\"FTA\",\"FTA\",\"FTA\",\"FTA\",\"FTA\",\"FTA\",\"FTA\",\"FTA\",\"FTA\",\"FTA\",\"FTA\",\"FTA\",\"FTA\",\"FTA\",\"FTA\",\"FTA\",\"FTA\",\"FTA\",\"FTA\",\"FTA\",\"FTA\",\"FTA\",\"FTA\",\"FTA\",\"FTA\",\"FTA\",\"FTA\",\"FTA\",\"FTA\",\"FTA\",\"FTA\",\"FTA\",\"FTA\",\"FTA\",\"FTA\",\"FTA\",\"FTA\",\"FTA\",\"FTA\",\"FTA\",\"FTA\",\"FTA\",\"FTA\",\"FTA\",\"FTA\",\"FTA\",\"FTA\",\"FTA\",\"FTA\",\"FTA\",\"FTA\",\"FTA\",\"FTA\",\"FTA\",\"FTA\",\"FTA\",\"FTA\",\"FTA\",\"FTA\",\"FTA\",\"FTA\",\"FTA\",\"FTA\",\"FTA\",\"FTA\",\"FTA\",\"FTA\",\"FTA\",\"FTA\",\"FTA\",\"FTA\",\"FTA\",\"FTA\",\"FTA\",\"FTA\",\"FTA\",\"FTA\",\"FTA\",\"FTA\",\"FTA\",\"FTA\",\"FTA\",\"FTA\",\"FTA\",\"FTA\",\"FTA\",\"FTA\",\"FTA\",\"FTA\",\"FTA\",\"FTA\",\"FTA\",\"FTA\",\"FTA\",\"FTA\",\"FTA\",\"FTA\",\"FTA\",\"FTA\",\"FTA\",\"FTA\",\"FTA\",\"FTA\",\"FTA\",\"FTA\",\"FTA\",\"FTA\",\"FTA\",\"FTA\",\"FTA\",\"FTA\",\"FTA\",\"FTA\",\"FTA\",\"FTA\",\"FTA\",\"FTA\",\"FTA\",\"FTA\",\"FTA\",\"FTA\",\"FTA\",\"FTA\",\"FTA\",\"FTA\",\"FTA\",\"FTA\",\"FTA\",\"FTA\",\"FTA\",\"FTA\",\"FTA\",\"FTA\",\"FTA\",\"FTA\",\"FTA\",\"FTA\",\"FTA\",\"FTA\",\"FTA\",\"FTA\",\"FTA\",\"FTA\",\"FTA\",\"FTA\",\"FTA\",\"FTA\",\"FTA\",\"FTA\",\"FTA\",\"FTA\",\"FTA\",\"FTA\",\"FTA\",\"FTA\",\"FTA\",\"FTA\",\"FTA\",\"FTA\",\"FTA\",\"FTA\",\"FTA\",\"FTA\"],\"index\":[0,1,2,3,4,5,6,7,8,9,10,11,12,13,14,15,16,17,18,19,20,21,22,23,24,25,26,27,28,29,30,31,32,33,34,35,36,37,38,39,40,41,42,43,44,45,46,47,48,49,50,51,52,53,54,55,56,57,58,59,60,61,62,63,64,65,66,67,68,69,70,71,72,73,74,75,76,77,78,79,80,81,82,83,84,85,86,87,88,89,90,91,92,93,94,95,96,97,98,99,100,101,102,103,104,105,106,107,108,109,110,111,112,113,114,115,116,117,118,119,120,121,122,123,124,125,126,127,128,129,130,131,132,133,134,135,136,137,138,139,140,141,142,143,144,145,146,147,148,149,150,151,152,153,154,155,156,157,158,159,160,161,162,163,164,165,166,167,168,169,170,171,172,173,174,175,176,177,178,179,180,181,182,183,184,185,186,187,188,189,190,191,192,193,194,195,196,197,198,199,200,201,202,203,204,205,206,207,208,209,210,211,212,213,214,215,216,217,218,219,220,221,222,223,224,225,226,227,228,229,230,231,232,233,234,235,236,237,238,239,240,241,242,243,244,245,246,247,248,249,250,251,252,253,254,255,256,257,258,259,260,261,262,263,264,265,266,267,268,269,270,271,272,273,274,275,276,277,278,279,280,281,282,283,284,285,286,287,288,289,290,291,292,293,294,295,296,297,298,299,300,301,302,303,304,305,306,307,308,309,310,311,312,313,314,315,316,317,318,319,320,321,322,323,324,325,326,327,328,329,330,331,332,333,334,335,336,337,338,339,340,341,342,343,344,345,346,347,348,349,350,351,352,353,354,355,356,357,358,359,360,361,362,363,364,365,366,367,368,369,370,371,372,373,374,375,376,377,378,379,380,381,382,383,384,385,386,387,388,389,390,391,392,393,394,395,396,397,398,399,400,401,402,403,404,405,406,407,408,409,410,411,412,413,414,415,416,417,418,419,420,421,422,423,424,425,426,427,428,429,430,431,432,433,434,435,436,437,438,439,440,441,442,443,444,445,446,447,448,449,450,451,452,453,454,455,456,457,458,459,460,461,462,463,464,465,466,467,468,469,470,471,472,473,474,475,476,477,478,479,480,481,482,483,484,485,486,487,488,489,490,491,492,493,494,495,496,497,498,499,500,501,502,503,504,505,506,507,508,509,510,511,512,513,514,515,516,517,518,519,520,521,522,523,524,525,526,527,528,529,530,531,532,533,534,535,536,537,538,539,540,541,542,543,544,545,546,547,548,549,550,551,552,553,554,555,556,557,558,559,560,561,562,563,564,565,566,567,568,569,570,571,572,573,574,575,576,577,578,579,580,581,582,583,584,585,586,587,588,589,590,591,592,593,594,595,596,597,598,599,600,601,602,603,604,605,606,607,608,609,610,611,612,613,614,615,616,617,618,619,620,621,622,623,624,625,626,627,628,629,630,631,632,633,634,635,636,637,638,639,640,641,642,643,644,645,646,647,648,649,650,651,652,653,654,655,656,657,658,659,660,661,662,663,664,665,666,667,668,669,670,671,672,673,674,675,676,677,678,679,680,681,682,683,684,685,686,687,688,689,690,691,692,693,694,695,696,697,698,699,700,701,702,703,704,705,706,707,708,709,710,711,712,713,714,715,716,717,718,719,720,721,722,723,724,725,726,727,728,729,730,731,732,733,734,735,736,737,738,739,740,741,742,743,744,745,746,747,748,749,750,751,752,753,754,755,756,757,758,759,760,761,762,763,764,765],\"value\":[32,87,302,303,301,379,474,33,43,76,81,193,136,104,92,35,127,129,46,181,94,95,131,108,76,42,55,46,56,69,54,26,111,137,244,245,153,90,243,226,136,80,216,219,88,307,216,204,202,129,91,157,185,256,221,218,98,158,51,132,15,0,49,104,133,89,63,6,28,8,75,42,117,159,113,271,185,154,173,198,22,220,89,148,87,28,121,51,120,87,97,232,294,381,462,477,429,0,187,145,185,149,159,9,2,81,89,73,84,77,21,37,159,19,31,143,53,164,191,259,75,93,175,123,197,187,247,158,282,276,249,229,368,66,406,139,142,162,96,73,169,122,136,128,123,174,185,100,40,135,175,89,232,28,348,161,65,226,260,251,198,239,385,312,491,365,261,194,343,160,174,135,15,84,67,17,84,53,28,81,79,58,98,51,70,4,44,102,82,84,36,7,45,75,31,106,204,205,42,126,8,65,142,24,4,4,8,16,25,16,41,7,56,89,64,9,5,4,9,15,7,49,64,21,85,21,55,48,37,34,33,159,268,356,446,6,143,109,252,207,123,330,194,402,331,427,630,434,653,647,559,441,451,440,593,523,4,129,125,168,143,129,373,129,141,78,124,38,98,5,141,224,41,265,118,264,188,61,83,101,85,44,129,71,5,209,316,344,400,241,263,156,139,295,88,299,387,393,254,138,145,147,136,102,79,49,10,0,2,2,102,131,102,37,139,39,30,40,18,60,45,91,74,126,185,260,276,213,217,211,94,91,185,200,203,289,224,0,217,177,174,136,23,66,89,94,30,124,62,36,33,69,40,14,28,36,35,71,132,71,52,51,164,159,210,203,98,192,284,130,89,10,58,38,48,38,102,100,72,117,207,31,71,90,63,19,0,39,58,60,39,43,81,69,58,45,66,100,184,175,268,282,132,181,93,67,36,42,78,150,50,46,36,41,2,15,17,2,24,26,7,47,15,19,82,40,58,80,118,103,112,78,59,30,40,65,21,10,5,37,84,11,12,35,58,131,20,9,29,47,133,134,162,144,92,30,48,78,95,30,14,83,57,146,64,78,184,105,136,35,55,117,61,89,150,100,90,36,126,63,60,159,328,365,586,355,395,412,255,39,294,129,76,205,82,82,164,125,12,79,126,119,128,64,32,96,27,37,5,42,61,8,11,3,10,13,2,11,46,28,4,2,6,3,0,3,6,39,240,343,369,792,665,824,837,881,727,858,800,60,263,323,350,186,536,361,14,25,39,64,62,77,8,85,22,36,57,39,13,52,33,61,94,24,18,42,0,117,116,41,129,142,91,70,94,180,116,89,27,49,76,82,77,41,102,60,88,95,17,123,47,45,133,50,15,65,109,128,217,141,249,374,471,619,425,312,198,66,264,122,92,26,14,40,48,200,164,232,196,85,141,179,119,49,35,31,104,239,208,231,216,81,24,105,6,110,116,63,16,77,131,113,333,10,61,70,148,106,8,45,10,27,37,80,164,46,60,106,67,85,41,21,62,0,8,8,195,317,335,224,76,300,179,198,155,169,171,256,57,313,10,33,66,38,28,66,80,60,44,21,65,4,2,13,50,87,83,35,33,68,32,13,26,106,79,51,130,125,220,207,30,120,150,128,99,44,32,76,10,15,5,108,62,178,170,65,5,70,193,315,171,187,301,145,146,179,101,110,5,48,163,68,41,28,28,24,5,21,50,2,4,11,17,37,43,48,125,74,78,76,31,107,87,50,41,4]},\"selected\":{\"id\":\"22445\"},\"selection_policy\":{\"id\":\"22487\"}},\"id\":\"22444\",\"type\":\"ColumnDataSource\"},{\"attributes\":{\"data\":{\"Variable\":[\"PF\",\"PF\",\"PF\",\"PF\",\"PF\",\"PF\",\"PF\",\"PF\",\"PF\",\"PF\",\"PF\",\"PF\",\"PF\",\"PF\",\"PF\",\"PF\",\"PF\",\"PF\",\"PF\",\"PF\",\"PF\",\"PF\",\"PF\",\"PF\",\"PF\",\"PF\",\"PF\",\"PF\",\"PF\",\"PF\",\"PF\",\"PF\",\"PF\",\"PF\",\"PF\",\"PF\",\"PF\",\"PF\",\"PF\",\"PF\",\"PF\",\"PF\",\"PF\",\"PF\",\"PF\",\"PF\",\"PF\",\"PF\",\"PF\",\"PF\",\"PF\",\"PF\",\"PF\",\"PF\",\"PF\",\"PF\",\"PF\",\"PF\",\"PF\",\"PF\",\"PF\",\"PF\",\"PF\",\"PF\",\"PF\",\"PF\",\"PF\",\"PF\",\"PF\",\"PF\",\"PF\",\"PF\",\"PF\",\"PF\",\"PF\",\"PF\",\"PF\",\"PF\",\"PF\",\"PF\",\"PF\",\"PF\",\"PF\",\"PF\",\"PF\",\"PF\",\"PF\",\"PF\",\"PF\",\"PF\",\"PF\",\"PF\",\"PF\",\"PF\",\"PF\",\"PF\",\"PF\",\"PF\",\"PF\",\"PF\",\"PF\",\"PF\",\"PF\",\"PF\",\"PF\",\"PF\",\"PF\",\"PF\",\"PF\",\"PF\",\"PF\",\"PF\",\"PF\",\"PF\",\"PF\",\"PF\",\"PF\",\"PF\",\"PF\",\"PF\",\"PF\",\"PF\",\"PF\",\"PF\",\"PF\",\"PF\",\"PF\",\"PF\",\"PF\",\"PF\",\"PF\",\"PF\",\"PF\",\"PF\",\"PF\",\"PF\",\"PF\",\"PF\",\"PF\",\"PF\",\"PF\",\"PF\",\"PF\",\"PF\",\"PF\",\"PF\",\"PF\",\"PF\",\"PF\",\"PF\",\"PF\",\"PF\",\"PF\",\"PF\",\"PF\",\"PF\",\"PF\",\"PF\",\"PF\",\"PF\",\"PF\",\"PF\",\"PF\",\"PF\",\"PF\",\"PF\",\"PF\",\"PF\",\"PF\",\"PF\",\"PF\",\"PF\",\"PF\",\"PF\",\"PF\",\"PF\",\"PF\",\"PF\",\"PF\",\"PF\",\"PF\",\"PF\",\"PF\",\"PF\",\"PF\",\"PF\",\"PF\",\"PF\",\"PF\",\"PF\",\"PF\",\"PF\",\"PF\",\"PF\",\"PF\",\"PF\",\"PF\",\"PF\",\"PF\",\"PF\",\"PF\",\"PF\",\"PF\",\"PF\",\"PF\",\"PF\",\"PF\",\"PF\",\"PF\",\"PF\",\"PF\",\"PF\",\"PF\",\"PF\",\"PF\",\"PF\",\"PF\",\"PF\",\"PF\",\"PF\",\"PF\",\"PF\",\"PF\",\"PF\",\"PF\",\"PF\",\"PF\",\"PF\",\"PF\",\"PF\",\"PF\",\"PF\",\"PF\",\"PF\",\"PF\",\"PF\",\"PF\",\"PF\",\"PF\",\"PF\",\"PF\",\"PF\",\"PF\",\"PF\",\"PF\",\"PF\",\"PF\",\"PF\",\"PF\",\"PF\",\"PF\",\"PF\",\"PF\",\"PF\",\"PF\",\"PF\",\"PF\",\"PF\",\"PF\",\"PF\",\"PF\",\"PF\",\"PF\",\"PF\",\"PF\",\"PF\",\"PF\",\"PF\",\"PF\",\"PF\",\"PF\",\"PF\",\"PF\",\"PF\",\"PF\",\"PF\",\"PF\",\"PF\",\"PF\",\"PF\",\"PF\",\"PF\",\"PF\",\"PF\",\"PF\",\"PF\",\"PF\",\"PF\",\"PF\",\"PF\",\"PF\",\"PF\",\"PF\",\"PF\",\"PF\",\"PF\",\"PF\",\"PF\",\"PF\",\"PF\",\"PF\",\"PF\",\"PF\",\"PF\",\"PF\",\"PF\",\"PF\",\"PF\",\"PF\",\"PF\",\"PF\",\"PF\",\"PF\",\"PF\",\"PF\",\"PF\",\"PF\",\"PF\",\"PF\",\"PF\",\"PF\",\"PF\",\"PF\",\"PF\",\"PF\",\"PF\",\"PF\",\"PF\",\"PF\",\"PF\",\"PF\",\"PF\",\"PF\",\"PF\",\"PF\",\"PF\",\"PF\",\"PF\",\"PF\",\"PF\",\"PF\",\"PF\",\"PF\",\"PF\",\"PF\",\"PF\",\"PF\",\"PF\",\"PF\",\"PF\",\"PF\",\"PF\",\"PF\",\"PF\",\"PF\",\"PF\",\"PF\",\"PF\",\"PF\",\"PF\",\"PF\",\"PF\",\"PF\",\"PF\",\"PF\",\"PF\",\"PF\",\"PF\",\"PF\",\"PF\",\"PF\",\"PF\",\"PF\",\"PF\",\"PF\",\"PF\",\"PF\",\"PF\",\"PF\",\"PF\",\"PF\",\"PF\",\"PF\",\"PF\",\"PF\",\"PF\",\"PF\",\"PF\",\"PF\",\"PF\",\"PF\",\"PF\",\"PF\",\"PF\",\"PF\",\"PF\",\"PF\",\"PF\",\"PF\",\"PF\",\"PF\",\"PF\",\"PF\",\"PF\",\"PF\",\"PF\",\"PF\",\"PF\",\"PF\",\"PF\",\"PF\",\"PF\",\"PF\",\"PF\",\"PF\",\"PF\",\"PF\",\"PF\",\"PF\",\"PF\",\"PF\",\"PF\",\"PF\",\"PF\",\"PF\",\"PF\",\"PF\",\"PF\",\"PF\",\"PF\",\"PF\",\"PF\",\"PF\",\"PF\",\"PF\",\"PF\",\"PF\",\"PF\",\"PF\",\"PF\",\"PF\",\"PF\",\"PF\",\"PF\",\"PF\",\"PF\",\"PF\",\"PF\",\"PF\",\"PF\",\"PF\",\"PF\",\"PF\",\"PF\",\"PF\",\"PF\",\"PF\",\"PF\",\"PF\",\"PF\",\"PF\",\"PF\",\"PF\",\"PF\",\"PF\",\"PF\",\"PF\",\"PF\",\"PF\",\"PF\",\"PF\",\"PF\",\"PF\",\"PF\",\"PF\",\"PF\",\"PF\",\"PF\",\"PF\",\"PF\",\"PF\",\"PF\",\"PF\",\"PF\",\"PF\",\"PF\",\"PF\",\"PF\",\"PF\",\"PF\",\"PF\",\"PF\",\"PF\",\"PF\",\"PF\",\"PF\",\"PF\",\"PF\",\"PF\",\"PF\",\"PF\",\"PF\",\"PF\",\"PF\",\"PF\",\"PF\",\"PF\",\"PF\",\"PF\",\"PF\",\"PF\",\"PF\",\"PF\",\"PF\",\"PF\",\"PF\",\"PF\",\"PF\",\"PF\",\"PF\",\"PF\",\"PF\",\"PF\",\"PF\",\"PF\",\"PF\",\"PF\",\"PF\",\"PF\",\"PF\",\"PF\",\"PF\",\"PF\",\"PF\",\"PF\",\"PF\",\"PF\",\"PF\",\"PF\",\"PF\",\"PF\",\"PF\",\"PF\",\"PF\",\"PF\",\"PF\",\"PF\",\"PF\",\"PF\",\"PF\",\"PF\",\"PF\",\"PF\",\"PF\",\"PF\",\"PF\",\"PF\",\"PF\",\"PF\",\"PF\",\"PF\",\"PF\",\"PF\",\"PF\",\"PF\",\"PF\",\"PF\",\"PF\",\"PF\",\"PF\",\"PF\",\"PF\",\"PF\",\"PF\",\"PF\",\"PF\",\"PF\",\"PF\",\"PF\",\"PF\",\"PF\",\"PF\",\"PF\",\"PF\",\"PF\",\"PF\",\"PF\",\"PF\",\"PF\",\"PF\",\"PF\",\"PF\",\"PF\",\"PF\",\"PF\",\"PF\",\"PF\",\"PF\",\"PF\",\"PF\",\"PF\",\"PF\",\"PF\",\"PF\",\"PF\",\"PF\",\"PF\",\"PF\",\"PF\",\"PF\",\"PF\",\"PF\",\"PF\",\"PF\",\"PF\",\"PF\",\"PF\",\"PF\",\"PF\",\"PF\",\"PF\",\"PF\",\"PF\",\"PF\",\"PF\",\"PF\",\"PF\",\"PF\",\"PF\",\"PF\",\"PF\",\"PF\",\"PF\",\"PF\",\"PF\",\"PF\",\"PF\",\"PF\",\"PF\",\"PF\",\"PF\",\"PF\",\"PF\",\"PF\",\"PF\",\"PF\",\"PF\",\"PF\",\"PF\",\"PF\",\"PF\",\"PF\",\"PF\",\"PF\",\"PF\",\"PF\",\"PF\",\"PF\",\"PF\",\"PF\",\"PF\",\"PF\",\"PF\",\"PF\",\"PF\",\"PF\",\"PF\",\"PF\",\"PF\",\"PF\",\"PF\",\"PF\",\"PF\",\"PF\",\"PF\",\"PF\",\"PF\",\"PF\",\"PF\",\"PF\",\"PF\",\"PF\",\"PF\",\"PF\",\"PF\",\"PF\",\"PF\",\"PF\",\"PF\",\"PF\",\"PF\",\"PF\",\"PF\",\"PF\",\"PF\",\"PF\",\"PF\",\"PF\",\"PF\",\"PF\",\"PF\",\"PF\",\"PF\",\"PF\",\"PF\",\"PF\",\"PF\",\"PF\",\"PF\",\"PF\",\"PF\",\"PF\",\"PF\",\"PF\",\"PF\",\"PF\",\"PF\",\"PF\",\"PF\",\"PF\",\"PF\",\"PF\",\"PF\",\"PF\",\"PF\",\"PF\",\"PF\",\"PF\",\"PF\",\"PF\",\"PF\",\"PF\",\"PF\",\"PF\",\"PF\",\"PF\",\"PF\",\"PF\",\"PF\",\"PF\",\"PF\",\"PF\",\"PF\",\"PF\",\"PF\",\"PF\",\"PF\",\"PF\",\"PF\",\"PF\",\"PF\",\"PF\",\"PF\",\"PF\",\"PF\",\"PF\",\"PF\",\"PF\",\"PF\",\"PF\",\"PF\",\"PF\",\"PF\",\"PF\",\"PF\",\"PF\"],\"index\":[0,1,2,3,4,5,6,7,8,9,10,11,12,13,14,15,16,17,18,19,20,21,22,23,24,25,26,27,28,29,30,31,32,33,34,35,36,37,38,39,40,41,42,43,44,45,46,47,48,49,50,51,52,53,54,55,56,57,58,59,60,61,62,63,64,65,66,67,68,69,70,71,72,73,74,75,76,77,78,79,80,81,82,83,84,85,86,87,88,89,90,91,92,93,94,95,96,97,98,99,100,101,102,103,104,105,106,107,108,109,110,111,112,113,114,115,116,117,118,119,120,121,122,123,124,125,126,127,128,129,130,131,132,133,134,135,136,137,138,139,140,141,142,143,144,145,146,147,148,149,150,151,152,153,154,155,156,157,158,159,160,161,162,163,164,165,166,167,168,169,170,171,172,173,174,175,176,177,178,179,180,181,182,183,184,185,186,187,188,189,190,191,192,193,194,195,196,197,198,199,200,201,202,203,204,205,206,207,208,209,210,211,212,213,214,215,216,217,218,219,220,221,222,223,224,225,226,227,228,229,230,231,232,233,234,235,236,237,238,239,240,241,242,243,244,245,246,247,248,249,250,251,252,253,254,255,256,257,258,259,260,261,262,263,264,265,266,267,268,269,270,271,272,273,274,275,276,277,278,279,280,281,282,283,284,285,286,287,288,289,290,291,292,293,294,295,296,297,298,299,300,301,302,303,304,305,306,307,308,309,310,311,312,313,314,315,316,317,318,319,320,321,322,323,324,325,326,327,328,329,330,331,332,333,334,335,336,337,338,339,340,341,342,343,344,345,346,347,348,349,350,351,352,353,354,355,356,357,358,359,360,361,362,363,364,365,366,367,368,369,370,371,372,373,374,375,376,377,378,379,380,381,382,383,384,385,386,387,388,389,390,391,392,393,394,395,396,397,398,399,400,401,402,403,404,405,406,407,408,409,410,411,412,413,414,415,416,417,418,419,420,421,422,423,424,425,426,427,428,429,430,431,432,433,434,435,436,437,438,439,440,441,442,443,444,445,446,447,448,449,450,451,452,453,454,455,456,457,458,459,460,461,462,463,464,465,466,467,468,469,470,471,472,473,474,475,476,477,478,479,480,481,482,483,484,485,486,487,488,489,490,491,492,493,494,495,496,497,498,499,500,501,502,503,504,505,506,507,508,509,510,511,512,513,514,515,516,517,518,519,520,521,522,523,524,525,526,527,528,529,530,531,532,533,534,535,536,537,538,539,540,541,542,543,544,545,546,547,548,549,550,551,552,553,554,555,556,557,558,559,560,561,562,563,564,565,566,567,568,569,570,571,572,573,574,575,576,577,578,579,580,581,582,583,584,585,586,587,588,589,590,591,592,593,594,595,596,597,598,599,600,601,602,603,604,605,606,607,608,609,610,611,612,613,614,615,616,617,618,619,620,621,622,623,624,625,626,627,628,629,630,631,632,633,634,635,636,637,638,639,640,641,642,643,644,645,646,647,648,649,650,651,652,653,654,655,656,657,658,659,660,661,662,663,664,665,666,667,668,669,670,671,672,673,674,675,676,677,678,679,680,681,682,683,684,685,686,687,688,689,690,691,692,693,694,695,696,697,698,699,700,701,702,703,704,705,706,707,708,709,710,711,712,713,714,715,716,717,718,719,720,721,722,723,724,725,726,727,728,729,730,731,732,733,734,735,736,737,738,739,740,741,742,743,744,745,746,747,748,749,750,751,752,753,754,755,756,757,758,759,760,761,762,763,764,765],\"value\":[109,166,241,170,174,225,228,81,34,115,148,202,165,175,113,71,184,156,78,195,160,119,127,122,105,172,202,182,183,239,45,31,89,120,143,134,91,62,153,133,91,73,164,123,61,184,165,119,164,149,155,237,234,122,152,139,117,157,54,130,62,1,121,153,182,159,141,31,140,12,120,40,160,157,188,170,168,100,181,128,52,180,117,115,136,113,109,85,128,191,106,106,125,155,131,183,117,1,104,96,74,85,70,15,1,102,73,48,92,75,22,52,142,18,22,131,97,134,149,243,58,69,113,85,146,178,182,133,171,141,139,100,126,24,123,104,98,142,94,45,139,227,213,163,207,222,183,173,123,84,207,100,232,20,185,89,57,146,173,207,133,218,267,212,211,170,192,166,190,143,177,143,29,127,57,22,79,73,49,122,104,117,117,79,118,12,62,98,64,58,18,4,90,63,29,92,144,102,133,174,36,67,199,80,38,14,52,44,49,15,64,20,97,119,88,26,17,2,19,29,22,70,79,30,109,56,146,111,166,53,20,119,186,187,180,4,107,43,150,124,63,187,176,217,162,173,197,122,167,134,151,177,180,128,178,186,10,127,148,108,84,114,190,64,71,50,75,22,62,7,91,107,21,128,102,215,98,56,72,91,67,46,113,104,24,192,230,221,201,131,138,87,95,182,47,124,171,157,184,79,98,159,103,115,95,68,8,6,0,6,123,181,133,57,190,31,44,54,28,47,53,71,96,117,188,249,222,158,216,192,82,64,146,185,179,247,245,3,189,232,203,238,45,81,126,148,72,220,195,132,58,190,86,56,41,59,45,104,167,213,139,83,194,105,139,156,106,114,109,72,140,41,102,80,149,60,106,74,47,138,125,23,80,132,67,16,0,35,51,69,33,50,110,78,44,31,32,32,181,187,193,198,120,99,96,65,42,111,153,175,144,119,100,58,25,28,53,25,31,56,6,63,14,55,114,58,102,109,128,129,105,81,112,32,48,95,40,15,14,63,149,19,22,36,77,130,17,38,55,71,143,92,119,113,116,37,34,71,112,93,28,97,63,114,112,111,120,108,146,7,31,81,53,50,103,93,45,30,75,56,59,144,273,285,245,237,250,272,176,25,201,69,80,149,121,71,192,117,26,97,163,193,151,79,29,108,31,37,4,41,83,7,13,1,3,4,5,28,41,54,1,19,20,1,1,7,9,81,200,207,150,178,177,208,229,215,169,244,227,14,85,99,105,48,153,112,29,52,72,97,80,112,18,130,58,54,58,70,28,98,65,94,107,34,30,64,1,162,109,53,117,179,137,122,96,168,141,159,21,54,75,116,123,83,174,182,234,222,34,265,156,108,174,124,63,187,96,152,255,189,192,264,245,207,212,203,125,42,167,114,116,50,21,71,71,170,156,204,189,81,164,140,121,56,33,68,213,230,242,158,200,93,34,127,10,117,127,100,28,111,132,143,193,7,78,101,98,71,7,54,21,40,61,109,134,79,85,164,137,135,105,49,154,37,31,68,171,207,253,149,77,226,184,252,143,186,224,161,56,217,10,36,116,50,27,77,62,88,75,32,107,0,2,8,71,120,94,60,32,92,79,11,37,88,61,61,122,169,162,160,39,143,182,156,95,69,30,99,11,14,4,92,55,60,68,35,9,44,152,195,148,172,176,132,179,161,140,102,2,56,160,103,80,87,71,16,1,25,42,2,8,14,24,94,72,76,195,141,135,134,70,204,108,126,81,15]},\"selected\":{\"id\":\"22949\"},\"selection_policy\":{\"id\":\"23009\"}},\"id\":\"22948\",\"type\":\"ColumnDataSource\"},{\"attributes\":{\"data\":{\"Variable\":[\"FG_PCT\",\"FG_PCT\",\"FG_PCT\",\"FG_PCT\",\"FG_PCT\",\"FG_PCT\",\"FG_PCT\",\"FG_PCT\",\"FG_PCT\",\"FG_PCT\",\"FG_PCT\",\"FG_PCT\",\"FG_PCT\",\"FG_PCT\",\"FG_PCT\",\"FG_PCT\",\"FG_PCT\",\"FG_PCT\",\"FG_PCT\",\"FG_PCT\",\"FG_PCT\",\"FG_PCT\",\"FG_PCT\",\"FG_PCT\",\"FG_PCT\",\"FG_PCT\",\"FG_PCT\",\"FG_PCT\",\"FG_PCT\",\"FG_PCT\",\"FG_PCT\",\"FG_PCT\",\"FG_PCT\",\"FG_PCT\",\"FG_PCT\",\"FG_PCT\",\"FG_PCT\",\"FG_PCT\",\"FG_PCT\",\"FG_PCT\",\"FG_PCT\",\"FG_PCT\",\"FG_PCT\",\"FG_PCT\",\"FG_PCT\",\"FG_PCT\",\"FG_PCT\",\"FG_PCT\",\"FG_PCT\",\"FG_PCT\",\"FG_PCT\",\"FG_PCT\",\"FG_PCT\",\"FG_PCT\",\"FG_PCT\",\"FG_PCT\",\"FG_PCT\",\"FG_PCT\",\"FG_PCT\",\"FG_PCT\",\"FG_PCT\",\"FG_PCT\",\"FG_PCT\",\"FG_PCT\",\"FG_PCT\",\"FG_PCT\",\"FG_PCT\",\"FG_PCT\",\"FG_PCT\",\"FG_PCT\",\"FG_PCT\",\"FG_PCT\",\"FG_PCT\",\"FG_PCT\",\"FG_PCT\",\"FG_PCT\",\"FG_PCT\",\"FG_PCT\",\"FG_PCT\",\"FG_PCT\",\"FG_PCT\",\"FG_PCT\",\"FG_PCT\",\"FG_PCT\",\"FG_PCT\",\"FG_PCT\",\"FG_PCT\",\"FG_PCT\",\"FG_PCT\",\"FG_PCT\",\"FG_PCT\",\"FG_PCT\",\"FG_PCT\",\"FG_PCT\",\"FG_PCT\",\"FG_PCT\",\"FG_PCT\",\"FG_PCT\",\"FG_PCT\",\"FG_PCT\",\"FG_PCT\",\"FG_PCT\",\"FG_PCT\",\"FG_PCT\",\"FG_PCT\",\"FG_PCT\",\"FG_PCT\",\"FG_PCT\",\"FG_PCT\",\"FG_PCT\",\"FG_PCT\",\"FG_PCT\",\"FG_PCT\",\"FG_PCT\",\"FG_PCT\",\"FG_PCT\",\"FG_PCT\",\"FG_PCT\",\"FG_PCT\",\"FG_PCT\",\"FG_PCT\",\"FG_PCT\",\"FG_PCT\",\"FG_PCT\",\"FG_PCT\",\"FG_PCT\",\"FG_PCT\",\"FG_PCT\",\"FG_PCT\",\"FG_PCT\",\"FG_PCT\",\"FG_PCT\",\"FG_PCT\",\"FG_PCT\",\"FG_PCT\",\"FG_PCT\",\"FG_PCT\",\"FG_PCT\",\"FG_PCT\",\"FG_PCT\",\"FG_PCT\",\"FG_PCT\",\"FG_PCT\",\"FG_PCT\",\"FG_PCT\",\"FG_PCT\",\"FG_PCT\",\"FG_PCT\",\"FG_PCT\",\"FG_PCT\",\"FG_PCT\",\"FG_PCT\",\"FG_PCT\",\"FG_PCT\",\"FG_PCT\",\"FG_PCT\",\"FG_PCT\",\"FG_PCT\",\"FG_PCT\",\"FG_PCT\",\"FG_PCT\",\"FG_PCT\",\"FG_PCT\",\"FG_PCT\",\"FG_PCT\",\"FG_PCT\",\"FG_PCT\",\"FG_PCT\",\"FG_PCT\",\"FG_PCT\",\"FG_PCT\",\"FG_PCT\",\"FG_PCT\",\"FG_PCT\",\"FG_PCT\",\"FG_PCT\",\"FG_PCT\",\"FG_PCT\",\"FG_PCT\",\"FG_PCT\",\"FG_PCT\",\"FG_PCT\",\"FG_PCT\",\"FG_PCT\",\"FG_PCT\",\"FG_PCT\",\"FG_PCT\",\"FG_PCT\",\"FG_PCT\",\"FG_PCT\",\"FG_PCT\",\"FG_PCT\",\"FG_PCT\",\"FG_PCT\",\"FG_PCT\",\"FG_PCT\",\"FG_PCT\",\"FG_PCT\",\"FG_PCT\",\"FG_PCT\",\"FG_PCT\",\"FG_PCT\",\"FG_PCT\",\"FG_PCT\",\"FG_PCT\",\"FG_PCT\",\"FG_PCT\",\"FG_PCT\",\"FG_PCT\",\"FG_PCT\",\"FG_PCT\",\"FG_PCT\",\"FG_PCT\",\"FG_PCT\",\"FG_PCT\",\"FG_PCT\",\"FG_PCT\",\"FG_PCT\",\"FG_PCT\",\"FG_PCT\",\"FG_PCT\",\"FG_PCT\",\"FG_PCT\",\"FG_PCT\",\"FG_PCT\",\"FG_PCT\",\"FG_PCT\",\"FG_PCT\",\"FG_PCT\",\"FG_PCT\",\"FG_PCT\",\"FG_PCT\",\"FG_PCT\",\"FG_PCT\",\"FG_PCT\",\"FG_PCT\",\"FG_PCT\",\"FG_PCT\",\"FG_PCT\",\"FG_PCT\",\"FG_PCT\",\"FG_PCT\",\"FG_PCT\",\"FG_PCT\",\"FG_PCT\",\"FG_PCT\",\"FG_PCT\",\"FG_PCT\",\"FG_PCT\",\"FG_PCT\",\"FG_PCT\",\"FG_PCT\",\"FG_PCT\",\"FG_PCT\",\"FG_PCT\",\"FG_PCT\",\"FG_PCT\",\"FG_PCT\",\"FG_PCT\",\"FG_PCT\",\"FG_PCT\",\"FG_PCT\",\"FG_PCT\",\"FG_PCT\",\"FG_PCT\",\"FG_PCT\",\"FG_PCT\",\"FG_PCT\",\"FG_PCT\",\"FG_PCT\",\"FG_PCT\",\"FG_PCT\",\"FG_PCT\",\"FG_PCT\",\"FG_PCT\",\"FG_PCT\",\"FG_PCT\",\"FG_PCT\",\"FG_PCT\",\"FG_PCT\",\"FG_PCT\",\"FG_PCT\",\"FG_PCT\",\"FG_PCT\",\"FG_PCT\",\"FG_PCT\",\"FG_PCT\",\"FG_PCT\",\"FG_PCT\",\"FG_PCT\",\"FG_PCT\",\"FG_PCT\",\"FG_PCT\",\"FG_PCT\",\"FG_PCT\",\"FG_PCT\",\"FG_PCT\",\"FG_PCT\",\"FG_PCT\",\"FG_PCT\",\"FG_PCT\",\"FG_PCT\",\"FG_PCT\",\"FG_PCT\",\"FG_PCT\",\"FG_PCT\",\"FG_PCT\",\"FG_PCT\",\"FG_PCT\",\"FG_PCT\",\"FG_PCT\",\"FG_PCT\",\"FG_PCT\",\"FG_PCT\",\"FG_PCT\",\"FG_PCT\",\"FG_PCT\",\"FG_PCT\",\"FG_PCT\",\"FG_PCT\",\"FG_PCT\",\"FG_PCT\",\"FG_PCT\",\"FG_PCT\",\"FG_PCT\",\"FG_PCT\",\"FG_PCT\",\"FG_PCT\",\"FG_PCT\",\"FG_PCT\",\"FG_PCT\",\"FG_PCT\",\"FG_PCT\",\"FG_PCT\",\"FG_PCT\",\"FG_PCT\",\"FG_PCT\",\"FG_PCT\",\"FG_PCT\",\"FG_PCT\",\"FG_PCT\",\"FG_PCT\",\"FG_PCT\",\"FG_PCT\",\"FG_PCT\",\"FG_PCT\",\"FG_PCT\",\"FG_PCT\",\"FG_PCT\",\"FG_PCT\",\"FG_PCT\",\"FG_PCT\",\"FG_PCT\",\"FG_PCT\",\"FG_PCT\",\"FG_PCT\",\"FG_PCT\",\"FG_PCT\",\"FG_PCT\",\"FG_PCT\",\"FG_PCT\",\"FG_PCT\",\"FG_PCT\",\"FG_PCT\",\"FG_PCT\",\"FG_PCT\",\"FG_PCT\",\"FG_PCT\",\"FG_PCT\",\"FG_PCT\",\"FG_PCT\",\"FG_PCT\",\"FG_PCT\",\"FG_PCT\",\"FG_PCT\",\"FG_PCT\",\"FG_PCT\",\"FG_PCT\",\"FG_PCT\",\"FG_PCT\",\"FG_PCT\",\"FG_PCT\",\"FG_PCT\",\"FG_PCT\",\"FG_PCT\",\"FG_PCT\",\"FG_PCT\",\"FG_PCT\",\"FG_PCT\",\"FG_PCT\",\"FG_PCT\",\"FG_PCT\",\"FG_PCT\",\"FG_PCT\",\"FG_PCT\",\"FG_PCT\",\"FG_PCT\",\"FG_PCT\",\"FG_PCT\",\"FG_PCT\",\"FG_PCT\",\"FG_PCT\",\"FG_PCT\",\"FG_PCT\",\"FG_PCT\",\"FG_PCT\",\"FG_PCT\",\"FG_PCT\",\"FG_PCT\",\"FG_PCT\",\"FG_PCT\",\"FG_PCT\",\"FG_PCT\",\"FG_PCT\",\"FG_PCT\",\"FG_PCT\",\"FG_PCT\",\"FG_PCT\",\"FG_PCT\",\"FG_PCT\",\"FG_PCT\",\"FG_PCT\",\"FG_PCT\",\"FG_PCT\",\"FG_PCT\",\"FG_PCT\",\"FG_PCT\",\"FG_PCT\",\"FG_PCT\",\"FG_PCT\",\"FG_PCT\",\"FG_PCT\",\"FG_PCT\",\"FG_PCT\",\"FG_PCT\",\"FG_PCT\",\"FG_PCT\",\"FG_PCT\",\"FG_PCT\",\"FG_PCT\",\"FG_PCT\",\"FG_PCT\",\"FG_PCT\",\"FG_PCT\",\"FG_PCT\",\"FG_PCT\",\"FG_PCT\",\"FG_PCT\",\"FG_PCT\",\"FG_PCT\",\"FG_PCT\",\"FG_PCT\",\"FG_PCT\",\"FG_PCT\",\"FG_PCT\",\"FG_PCT\",\"FG_PCT\",\"FG_PCT\",\"FG_PCT\",\"FG_PCT\",\"FG_PCT\",\"FG_PCT\",\"FG_PCT\",\"FG_PCT\",\"FG_PCT\",\"FG_PCT\",\"FG_PCT\",\"FG_PCT\",\"FG_PCT\",\"FG_PCT\",\"FG_PCT\",\"FG_PCT\",\"FG_PCT\",\"FG_PCT\",\"FG_PCT\",\"FG_PCT\",\"FG_PCT\",\"FG_PCT\",\"FG_PCT\",\"FG_PCT\",\"FG_PCT\",\"FG_PCT\",\"FG_PCT\",\"FG_PCT\",\"FG_PCT\",\"FG_PCT\",\"FG_PCT\",\"FG_PCT\",\"FG_PCT\",\"FG_PCT\",\"FG_PCT\",\"FG_PCT\",\"FG_PCT\",\"FG_PCT\",\"FG_PCT\",\"FG_PCT\",\"FG_PCT\",\"FG_PCT\",\"FG_PCT\",\"FG_PCT\",\"FG_PCT\",\"FG_PCT\",\"FG_PCT\",\"FG_PCT\",\"FG_PCT\",\"FG_PCT\",\"FG_PCT\",\"FG_PCT\",\"FG_PCT\",\"FG_PCT\",\"FG_PCT\",\"FG_PCT\",\"FG_PCT\",\"FG_PCT\",\"FG_PCT\",\"FG_PCT\",\"FG_PCT\",\"FG_PCT\",\"FG_PCT\",\"FG_PCT\",\"FG_PCT\",\"FG_PCT\",\"FG_PCT\",\"FG_PCT\",\"FG_PCT\",\"FG_PCT\",\"FG_PCT\",\"FG_PCT\",\"FG_PCT\",\"FG_PCT\",\"FG_PCT\",\"FG_PCT\",\"FG_PCT\",\"FG_PCT\",\"FG_PCT\",\"FG_PCT\",\"FG_PCT\",\"FG_PCT\",\"FG_PCT\",\"FG_PCT\",\"FG_PCT\",\"FG_PCT\",\"FG_PCT\",\"FG_PCT\",\"FG_PCT\",\"FG_PCT\",\"FG_PCT\",\"FG_PCT\",\"FG_PCT\",\"FG_PCT\",\"FG_PCT\",\"FG_PCT\",\"FG_PCT\",\"FG_PCT\",\"FG_PCT\",\"FG_PCT\",\"FG_PCT\",\"FG_PCT\",\"FG_PCT\",\"FG_PCT\",\"FG_PCT\",\"FG_PCT\",\"FG_PCT\",\"FG_PCT\",\"FG_PCT\",\"FG_PCT\",\"FG_PCT\",\"FG_PCT\",\"FG_PCT\",\"FG_PCT\",\"FG_PCT\",\"FG_PCT\",\"FG_PCT\",\"FG_PCT\",\"FG_PCT\",\"FG_PCT\",\"FG_PCT\",\"FG_PCT\",\"FG_PCT\",\"FG_PCT\",\"FG_PCT\",\"FG_PCT\",\"FG_PCT\",\"FG_PCT\",\"FG_PCT\",\"FG_PCT\",\"FG_PCT\",\"FG_PCT\",\"FG_PCT\",\"FG_PCT\",\"FG_PCT\",\"FG_PCT\",\"FG_PCT\",\"FG_PCT\",\"FG_PCT\",\"FG_PCT\",\"FG_PCT\",\"FG_PCT\",\"FG_PCT\",\"FG_PCT\",\"FG_PCT\",\"FG_PCT\",\"FG_PCT\",\"FG_PCT\",\"FG_PCT\",\"FG_PCT\",\"FG_PCT\",\"FG_PCT\",\"FG_PCT\",\"FG_PCT\",\"FG_PCT\",\"FG_PCT\",\"FG_PCT\",\"FG_PCT\",\"FG_PCT\",\"FG_PCT\",\"FG_PCT\",\"FG_PCT\",\"FG_PCT\",\"FG_PCT\",\"FG_PCT\",\"FG_PCT\",\"FG_PCT\",\"FG_PCT\",\"FG_PCT\",\"FG_PCT\",\"FG_PCT\",\"FG_PCT\",\"FG_PCT\",\"FG_PCT\",\"FG_PCT\",\"FG_PCT\",\"FG_PCT\",\"FG_PCT\",\"FG_PCT\",\"FG_PCT\",\"FG_PCT\",\"FG_PCT\",\"FG_PCT\",\"FG_PCT\",\"FG_PCT\",\"FG_PCT\",\"FG_PCT\",\"FG_PCT\",\"FG_PCT\",\"FG_PCT\",\"FG_PCT\",\"FG_PCT\",\"FG_PCT\",\"FG_PCT\",\"FG_PCT\",\"FG_PCT\",\"FG_PCT\",\"FG_PCT\",\"FG_PCT\",\"FG_PCT\",\"FG_PCT\",\"FG_PCT\",\"FG_PCT\",\"FG_PCT\",\"FG_PCT\",\"FG_PCT\",\"FG_PCT\",\"FG_PCT\",\"FG_PCT\",\"FG_PCT\",\"FG_PCT\",\"FG_PCT\",\"FG_PCT\",\"FG_PCT\",\"FG_PCT\",\"FG_PCT\",\"FG_PCT\",\"FG_PCT\",\"FG_PCT\",\"FG_PCT\",\"FG_PCT\",\"FG_PCT\",\"FG_PCT\",\"FG_PCT\",\"FG_PCT\",\"FG_PCT\",\"FG_PCT\",\"FG_PCT\",\"FG_PCT\",\"FG_PCT\",\"FG_PCT\",\"FG_PCT\",\"FG_PCT\",\"FG_PCT\",\"FG_PCT\",\"FG_PCT\",\"FG_PCT\",\"FG_PCT\",\"FG_PCT\",\"FG_PCT\",\"FG_PCT\",\"FG_PCT\",\"FG_PCT\",\"FG_PCT\",\"FG_PCT\",\"FG_PCT\",\"FG_PCT\",\"FG_PCT\",\"FG_PCT\",\"FG_PCT\",\"FG_PCT\",\"FG_PCT\",\"FG_PCT\",\"FG_PCT\",\"FG_PCT\",\"FG_PCT\",\"FG_PCT\",\"FG_PCT\",\"FG_PCT\",\"FG_PCT\",\"FG_PCT\",\"FG_PCT\",\"FG_PCT\",\"FG_PCT\",\"FG_PCT\",\"FG_PCT\",\"FG_PCT\",\"FG_PCT\",\"FG_PCT\",\"FG_PCT\",\"FG_PCT\",\"FG_PCT\",\"FG_PCT\",\"FG_PCT\",\"FG_PCT\",\"FG_PCT\",\"FG_PCT\",\"FG_PCT\",\"FG_PCT\",\"FG_PCT\",\"FG_PCT\",\"FG_PCT\",\"FG_PCT\",\"FG_PCT\",\"FG_PCT\",\"FG_PCT\",\"FG_PCT\",\"FG_PCT\",\"FG_PCT\",\"FG_PCT\",\"FG_PCT\",\"FG_PCT\",\"FG_PCT\",\"FG_PCT\",\"FG_PCT\",\"FG_PCT\",\"FG_PCT\",\"FG_PCT\",\"FG_PCT\",\"FG_PCT\",\"FG_PCT\",\"FG_PCT\",\"FG_PCT\",\"FG_PCT\",\"FG_PCT\",\"FG_PCT\",\"FG_PCT\",\"FG_PCT\",\"FG_PCT\",\"FG_PCT\"],\"index\":[0,1,2,3,4,5,6,7,8,9,10,11,12,13,14,15,16,17,18,19,20,21,22,23,24,25,26,27,28,29,30,31,32,33,34,35,36,37,38,39,40,41,42,43,44,45,46,47,48,49,50,51,52,53,54,55,56,57,58,59,60,61,62,63,64,65,66,67,68,69,70,71,72,73,74,75,76,77,78,79,80,81,82,83,84,85,86,87,88,89,90,91,92,93,94,95,96,97,98,99,100,101,102,103,104,105,106,107,108,109,110,111,112,113,114,115,116,117,118,119,120,121,122,123,124,125,126,127,128,129,130,131,132,133,134,135,136,137,138,139,140,141,142,143,144,145,146,147,148,149,150,151,152,153,154,155,156,157,158,159,160,161,162,163,164,165,166,167,168,169,170,171,172,173,174,175,176,177,178,179,180,181,182,183,184,185,186,187,188,189,190,191,192,193,194,195,196,197,198,199,200,201,202,203,204,205,206,207,208,209,210,211,212,213,214,215,216,217,218,219,220,221,222,223,224,225,226,227,228,229,230,231,232,233,234,235,236,237,238,239,240,241,242,243,244,245,246,247,248,249,250,251,252,253,254,255,256,257,258,259,260,261,262,263,264,265,266,267,268,269,270,271,272,273,274,275,276,277,278,279,280,281,282,283,284,285,286,287,288,289,290,291,292,293,294,295,296,297,298,299,300,301,302,303,304,305,306,307,308,309,310,311,312,313,314,315,316,317,318,319,320,321,322,323,324,325,326,327,328,329,330,331,332,333,334,335,336,337,338,339,340,341,342,343,344,345,346,347,348,349,350,351,352,353,354,355,356,357,358,359,360,361,362,363,364,365,366,367,368,369,370,371,372,373,374,375,376,377,378,379,380,381,382,383,384,385,386,387,388,389,390,391,392,393,394,395,396,397,398,399,400,401,402,403,404,405,406,407,408,409,410,411,412,413,414,415,416,417,418,419,420,421,422,423,424,425,426,427,428,429,430,431,432,433,434,435,436,437,438,439,440,441,442,443,444,445,446,447,448,449,450,451,452,453,454,455,456,457,458,459,460,461,462,463,464,465,466,467,468,469,470,471,472,473,474,475,476,477,478,479,480,481,482,483,484,485,486,487,488,489,490,491,492,493,494,495,496,497,498,499,500,501,502,503,504,505,506,507,508,509,510,511,512,513,514,515,516,517,518,519,520,521,522,523,524,525,526,527,528,529,530,531,532,533,534,535,536,537,538,539,540,541,542,543,544,545,546,547,548,549,550,551,552,553,554,555,556,557,558,559,560,561,562,563,564,565,566,567,568,569,570,571,572,573,574,575,576,577,578,579,580,581,582,583,584,585,586,587,588,589,590,591,592,593,594,595,596,597,598,599,600,601,602,603,604,605,606,607,608,609,610,611,612,613,614,615,616,617,618,619,620,621,622,623,624,625,626,627,628,629,630,631,632,633,634,635,636,637,638,639,640,641,642,643,644,645,646,647,648,649,650,651,652,653,654,655,656,657,658,659,660,661,662,663,664,665,666,667,668,669,670,671,672,673,674,675,676,677,678,679,680,681,682,683,684,685,686,687,688,689,690,691,692,693,694,695,696,697,698,699,700,701,702,703,704,705,706,707,708,709,710,711,712,713,714,715,716,717,718,719,720,721,722,723,724,725,726,727,728,729,730,731,732,733,734,735,736,737,738,739,740,741,742,743,744,745,746,747,748,749,750,751,752,753,754,755,756,757,758,759,760,761,762,763,764,765],\"value\":{\"__ndarray__\":\"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\",\"dtype\":\"float64\",\"order\":\"little\",\"shape\":[766]}},\"selected\":{\"id\":\"22235\"},\"selection_policy\":{\"id\":\"22267\"}},\"id\":\"22234\",\"type\":\"ColumnDataSource\"},{\"attributes\":{\"line_color\":\"#fc4f30\",\"line_width\":2,\"tags\":[\"apply_ranges\"],\"x\":{\"field\":\"index\"},\"y\":{\"field\":\"value\"}},\"id\":\"22401\",\"type\":\"Line\"},{\"attributes\":{\"line_alpha\":0.2,\"line_color\":\"#d62728\",\"line_width\":2,\"tags\":[\"apply_ranges\"],\"x\":{\"field\":\"index\"},\"y\":{\"field\":\"value\"}},\"id\":\"22169\",\"type\":\"Line\"},{\"attributes\":{\"coordinates\":null,\"data_source\":{\"id\":\"22704\"},\"glyph\":{\"id\":\"22707\"},\"group\":null,\"hover_glyph\":null,\"muted_glyph\":{\"id\":\"22709\"},\"nonselection_glyph\":{\"id\":\"22708\"},\"selection_glyph\":{\"id\":\"22761\"},\"view\":{\"id\":\"22711\"}},\"id\":\"22710\",\"type\":\"GlyphRenderer\"},{\"attributes\":{\"line_alpha\":0.1,\"line_color\":\"#e377c2\",\"line_width\":2,\"tags\":[\"apply_ranges\"],\"x\":{\"field\":\"index\"},\"y\":{\"field\":\"value\"}},\"id\":\"22826\",\"type\":\"Line\"},{\"attributes\":{\"source\":{\"id\":\"23014\"}},\"id\":\"23021\",\"type\":\"CDSView\"},{\"attributes\":{\"data\":{\"Variable\":[\"Salary\",\"Salary\",\"Salary\",\"Salary\",\"Salary\",\"Salary\",\"Salary\",\"Salary\",\"Salary\",\"Salary\",\"Salary\",\"Salary\",\"Salary\",\"Salary\",\"Salary\",\"Salary\",\"Salary\",\"Salary\",\"Salary\",\"Salary\",\"Salary\",\"Salary\",\"Salary\",\"Salary\",\"Salary\",\"Salary\",\"Salary\",\"Salary\",\"Salary\",\"Salary\",\"Salary\",\"Salary\",\"Salary\",\"Salary\",\"Salary\",\"Salary\",\"Salary\",\"Salary\",\"Salary\",\"Salary\",\"Salary\",\"Salary\",\"Salary\",\"Salary\",\"Salary\",\"Salary\",\"Salary\",\"Salary\",\"Salary\",\"Salary\",\"Salary\",\"Salary\",\"Salary\",\"Salary\",\"Salary\",\"Salary\",\"Salary\",\"Salary\",\"Salary\",\"Salary\",\"Salary\",\"Salary\",\"Salary\",\"Salary\",\"Salary\",\"Salary\",\"Salary\",\"Salary\",\"Salary\",\"Salary\",\"Salary\",\"Salary\",\"Salary\",\"Salary\",\"Salary\",\"Salary\",\"Salary\",\"Salary\",\"Salary\",\"Salary\",\"Salary\",\"Salary\",\"Salary\",\"Salary\",\"Salary\",\"Salary\",\"Salary\",\"Salary\",\"Salary\",\"Salary\",\"Salary\",\"Salary\",\"Salary\",\"Salary\",\"Salary\",\"Salary\",\"Salary\",\"Salary\",\"Salary\",\"Salary\",\"Salary\",\"Salary\",\"Salary\",\"Salary\",\"Salary\",\"Salary\",\"Salary\",\"Salary\",\"Salary\",\"Salary\",\"Salary\",\"Salary\",\"Salary\",\"Salary\",\"Salary\",\"Salary\",\"Salary\",\"Salary\",\"Salary\",\"Salary\",\"Salary\",\"Salary\",\"Salary\",\"Salary\",\"Salary\",\"Salary\",\"Salary\",\"Salary\",\"Salary\",\"Salary\",\"Salary\",\"Salary\",\"Salary\",\"Salary\",\"Salary\",\"Salary\",\"Salary\",\"Salary\",\"Salary\",\"Salary\",\"Salary\",\"Salary\",\"Salary\",\"Salary\",\"Salary\",\"Salary\",\"Salary\",\"Salary\",\"Salary\",\"Salary\",\"Salary\",\"Salary\",\"Salary\",\"Salary\",\"Salary\",\"Salary\",\"Salary\",\"Salary\",\"Salary\",\"Salary\",\"Salary\",\"Salary\",\"Salary\",\"Salary\",\"Salary\",\"Salary\",\"Salary\",\"Salary\",\"Salary\",\"Salary\",\"Salary\",\"Salary\",\"Salary\",\"Salary\",\"Salary\",\"Salary\",\"Salary\",\"Salary\",\"Salary\",\"Salary\",\"Salary\",\"Salary\",\"Salary\",\"Salary\",\"Salary\",\"Salary\",\"Salary\",\"Salary\",\"Salary\",\"Salary\",\"Salary\",\"Salary\",\"Salary\",\"Salary\",\"Salary\",\"Salary\",\"Salary\",\"Salary\",\"Salary\",\"Salary\",\"Salary\",\"Salary\",\"Salary\",\"Salary\",\"Salary\",\"Salary\",\"Salary\",\"Salary\",\"Salary\",\"Salary\",\"Salary\",\"Salary\",\"Salary\",\"Salary\",\"Salary\",\"Salary\",\"Salary\",\"Salary\",\"Salary\",\"Salary\",\"Salary\",\"Salary\",\"Salary\",\"Salary\",\"Salary\",\"Salary\",\"Salary\",\"Salary\",\"Salary\",\"Salary\",\"Salary\",\"Salary\",\"Salary\",\"Salary\",\"Salary\",\"Salary\",\"Salary\",\"Salary\",\"Salary\",\"Salary\",\"Salary\",\"Salary\",\"Salary\",\"Salary\",\"Salary\",\"Salary\",\"Salary\",\"Salary\",\"Salary\",\"Salary\",\"Salary\",\"Salary\",\"Salary\",\"Salary\",\"Salary\",\"Salary\",\"Salary\",\"Salary\",\"Salary\",\"Salary\",\"Salary\",\"Salary\",\"Salary\",\"Salary\",\"Salary\",\"Salary\",\"Salary\",\"Salary\",\"Salary\",\"Salary\",\"Salary\",\"Salary\",\"Salary\",\"Salary\",\"Salary\",\"Salary\",\"Salary\",\"Salary\",\"Salary\",\"Salary\",\"Salary\",\"Salary\",\"Salary\",\"Salary\",\"Salary\",\"Salary\",\"Salary\",\"Salary\",\"Salary\",\"Salary\",\"Salary\",\"Salary\",\"Salary\",\"Salary\",\"Salary\",\"Salary\",\"Salary\",\"Salary\",\"Salary\",\"Salary\",\"Salary\",\"Salary\",\"Salary\",\"Salary\",\"Salary\",\"Salary\",\"Salary\",\"Salary\",\"Salary\",\"Salary\",\"Salary\",\"Salary\",\"Salary\",\"Salary\",\"Salary\",\"Salary\",\"Salary\",\"Salary\",\"Salary\",\"Salary\",\"Salary\",\"Salary\",\"Salary\",\"Salary\",\"Salary\",\"Salary\",\"Salary\",\"Salary\",\"Salary\",\"Salary\",\"Salary\",\"Salary\",\"Salary\",\"Salary\",\"Salary\",\"Salary\",\"Salary\",\"Salary\",\"Salary\",\"Salary\",\"Salary\",\"Salary\",\"Salary\",\"Salary\",\"Salary\",\"Salary\",\"Salary\",\"Salary\",\"Salary\",\"Salary\",\"Salary\",\"Salary\",\"Salary\",\"Salary\",\"Salary\",\"Salary\",\"Salary\",\"Salary\",\"Salary\",\"Salary\",\"Salary\",\"Salary\",\"Salary\",\"Salary\",\"Salary\",\"Salary\",\"Salary\",\"Salary\",\"Salary\",\"Salary\",\"Salary\",\"Salary\",\"Salary\",\"Salary\",\"Salary\",\"Salary\",\"Salary\",\"Salary\",\"Salary\",\"Salary\",\"Salary\",\"Salary\",\"Salary\",\"Salary\",\"Salary\",\"Salary\",\"Salary\",\"Salary\",\"Salary\",\"Salary\",\"Salary\",\"Salary\",\"Salary\",\"Salary\",\"Salary\",\"Salary\",\"Salary\",\"Salary\",\"Salary\",\"Salary\",\"Salary\",\"Salary\",\"Salary\",\"Salary\",\"Salary\",\"Salary\",\"Salary\",\"Salary\",\"Salary\",\"Salary\",\"Salary\",\"Salary\",\"Salary\",\"Salary\",\"Salary\",\"Salary\",\"Salary\",\"Salary\",\"Salary\",\"Salary\",\"Salary\",\"Salary\",\"Salary\",\"Salary\",\"Salary\",\"Salary\",\"Salary\",\"Salary\",\"Salary\",\"Salary\",\"Salary\",\"Salary\",\"Salary\",\"Salary\",\"Salary\",\"Salary\",\"Salary\",\"Salary\",\"Salary\",\"Salary\",\"Salary\",\"Salary\",\"Salary\",\"Salary\",\"Salary\",\"Salary\",\"Salary\",\"Salary\",\"Salary\",\"Salary\",\"Salary\",\"Salary\",\"Salary\",\"Salary\",\"Salary\",\"Salary\",\"Salary\",\"Salary\",\"Salary\",\"Salary\",\"Salary\",\"Salary\",\"Salary\",\"Salary\",\"Salary\",\"Salary\",\"Salary\",\"Salary\",\"Salary\",\"Salary\",\"Salary\",\"Salary\",\"Salary\",\"Salary\",\"Salary\",\"Salary\",\"Salary\",\"Salary\",\"Salary\",\"Salary\",\"Salary\",\"Salary\",\"Salary\",\"Salary\",\"Salary\",\"Salary\",\"Salary\",\"Salary\",\"Salary\",\"Salary\",\"Salary\",\"Salary\",\"Salary\",\"Salary\",\"Salary\",\"Salary\",\"Salary\",\"Salary\",\"Salary\",\"Salary\",\"Salary\",\"Salary\",\"Salary\",\"Salary\",\"Salary\",\"Salary\",\"Salary\",\"Salary\",\"Salary\",\"Salary\",\"Salary\",\"Salary\",\"Salary\",\"Salary\",\"Salary\",\"Salary\",\"Salary\",\"Salary\",\"Salary\",\"Salary\",\"Salary\",\"Salary\",\"Salary\",\"Salary\",\"Salary\",\"Salary\",\"Salary\",\"Salary\",\"Salary\",\"Salary\",\"Salary\",\"Salary\",\"Salary\",\"Salary\",\"Salary\",\"Salary\",\"Salary\",\"Salary\",\"Salary\",\"Salary\",\"Salary\",\"Salary\",\"Salary\",\"Salary\",\"Salary\",\"Salary\",\"Salary\",\"Salary\",\"Salary\",\"Salary\",\"Salary\",\"Salary\",\"Salary\",\"Salary\",\"Salary\",\"Salary\",\"Salary\",\"Salary\",\"Salary\",\"Salary\",\"Salary\",\"Salary\",\"Salary\",\"Salary\",\"Salary\",\"Salary\",\"Salary\",\"Salary\",\"Salary\",\"Salary\",\"Salary\",\"Salary\",\"Salary\",\"Salary\",\"Salary\",\"Salary\",\"Salary\",\"Salary\",\"Salary\",\"Salary\",\"Salary\",\"Salary\",\"Salary\",\"Salary\",\"Salary\",\"Salary\",\"Salary\",\"Salary\",\"Salary\",\"Salary\",\"Salary\",\"Salary\",\"Salary\",\"Salary\",\"Salary\",\"Salary\",\"Salary\",\"Salary\",\"Salary\",\"Salary\",\"Salary\",\"Salary\",\"Salary\",\"Salary\",\"Salary\",\"Salary\",\"Salary\",\"Salary\",\"Salary\",\"Salary\",\"Salary\",\"Salary\",\"Salary\",\"Salary\",\"Salary\",\"Salary\",\"Salary\",\"Salary\",\"Salary\",\"Salary\",\"Salary\",\"Salary\",\"Salary\",\"Salary\",\"Salary\",\"Salary\",\"Salary\",\"Salary\",\"Salary\",\"Salary\",\"Salary\",\"Salary\",\"Salary\",\"Salary\",\"Salary\",\"Salary\",\"Salary\",\"Salary\",\"Salary\",\"Salary\",\"Salary\",\"Salary\",\"Salary\",\"Salary\",\"Salary\",\"Salary\",\"Salary\",\"Salary\",\"Salary\",\"Salary\",\"Salary\",\"Salary\",\"Salary\",\"Salary\",\"Salary\",\"Salary\",\"Salary\",\"Salary\",\"Salary\",\"Salary\",\"Salary\",\"Salary\",\"Salary\",\"Salary\",\"Salary\",\"Salary\",\"Salary\",\"Salary\",\"Salary\",\"Salary\",\"Salary\",\"Salary\",\"Salary\",\"Salary\",\"Salary\",\"Salary\",\"Salary\",\"Salary\",\"Salary\",\"Salary\",\"Salary\",\"Salary\",\"Salary\",\"Salary\",\"Salary\",\"Salary\",\"Salary\",\"Salary\",\"Salary\",\"Salary\",\"Salary\",\"Salary\",\"Salary\",\"Salary\",\"Salary\",\"Salary\",\"Salary\",\"Salary\",\"Salary\",\"Salary\",\"Salary\",\"Salary\",\"Salary\",\"Salary\",\"Salary\",\"Salary\",\"Salary\",\"Salary\",\"Salary\",\"Salary\",\"Salary\",\"Salary\",\"Salary\",\"Salary\",\"Salary\",\"Salary\",\"Salary\",\"Salary\",\"Salary\",\"Salary\",\"Salary\",\"Salary\",\"Salary\",\"Salary\",\"Salary\",\"Salary\",\"Salary\",\"Salary\",\"Salary\",\"Salary\",\"Salary\",\"Salary\",\"Salary\",\"Salary\",\"Salary\",\"Salary\",\"Salary\",\"Salary\",\"Salary\",\"Salary\",\"Salary\",\"Salary\",\"Salary\",\"Salary\",\"Salary\",\"Salary\",\"Salary\",\"Salary\",\"Salary\",\"Salary\",\"Salary\",\"Salary\",\"Salary\",\"Salary\",\"Salary\",\"Salary\",\"Salary\",\"Salary\",\"Salary\",\"Salary\",\"Salary\",\"Salary\",\"Salary\",\"Salary\",\"Salary\",\"Salary\"],\"index\":[0,1,2,3,4,5,6,7,8,9,10,11,12,13,14,15,16,17,18,19,20,21,22,23,24,25,26,27,28,29,30,31,32,33,34,35,36,37,38,39,40,41,42,43,44,45,46,47,48,49,50,51,52,53,54,55,56,57,58,59,60,61,62,63,64,65,66,67,68,69,70,71,72,73,74,75,76,77,78,79,80,81,82,83,84,85,86,87,88,89,90,91,92,93,94,95,96,97,98,99,100,101,102,103,104,105,106,107,108,109,110,111,112,113,114,115,116,117,118,119,120,121,122,123,124,125,126,127,128,129,130,131,132,133,134,135,136,137,138,139,140,141,142,143,144,145,146,147,148,149,150,151,152,153,154,155,156,157,158,159,160,161,162,163,164,165,166,167,168,169,170,171,172,173,174,175,176,177,178,179,180,181,182,183,184,185,186,187,188,189,190,191,192,193,194,195,196,197,198,199,200,201,202,203,204,205,206,207,208,209,210,211,212,213,214,215,216,217,218,219,220,221,222,223,224,225,226,227,228,229,230,231,232,233,234,235,236,237,238,239,240,241,242,243,244,245,246,247,248,249,250,251,252,253,254,255,256,257,258,259,260,261,262,263,264,265,266,267,268,269,270,271,272,273,274,275,276,277,278,279,280,281,282,283,284,285,286,287,288,289,290,291,292,293,294,295,296,297,298,299,300,301,302,303,304,305,306,307,308,309,310,311,312,313,314,315,316,317,318,319,320,321,322,323,324,325,326,327,328,329,330,331,332,333,334,335,336,337,338,339,340,341,342,343,344,345,346,347,348,349,350,351,352,353,354,355,356,357,358,359,360,361,362,363,364,365,366,367,368,369,370,371,372,373,374,375,376,377,378,379,380,381,382,383,384,385,386,387,388,389,390,391,392,393,394,395,396,397,398,399,400,401,402,403,404,405,406,407,408,409,410,411,412,413,414,415,416,417,418,419,420,421,422,423,424,425,426,427,428,429,430,431,432,433,434,435,436,437,438,439,440,441,442,443,444,445,446,447,448,449,450,451,452,453,454,455,456,457,458,459,460,461,462,463,464,465,466,467,468,469,470,471,472,473,474,475,476,477,478,479,480,481,482,483,484,485,486,487,488,489,490,491,492,493,494,495,496,497,498,499,500,501,502,503,504,505,506,507,508,509,510,511,512,513,514,515,516,517,518,519,520,521,522,523,524,525,526,527,528,529,530,531,532,533,534,535,536,537,538,539,540,541,542,543,544,545,546,547,548,549,550,551,552,553,554,555,556,557,558,559,560,561,562,563,564,565,566,567,568,569,570,571,572,573,574,575,576,577,578,579,580,581,582,583,584,585,586,587,588,589,590,591,592,593,594,595,596,597,598,599,600,601,602,603,604,605,606,607,608,609,610,611,612,613,614,615,616,617,618,619,620,621,622,623,624,625,626,627,628,629,630,631,632,633,634,635,636,637,638,639,640,641,642,643,644,645,646,647,648,649,650,651,652,653,654,655,656,657,658,659,660,661,662,663,664,665,666,667,668,669,670,671,672,673,674,675,676,677,678,679,680,681,682,683,684,685,686,687,688,689,690,691,692,693,694,695,696,697,698,699,700,701,702,703,704,705,706,707,708,709,710,711,712,713,714,715,716,717,718,719,720,721,722,723,724,725,726,727,728,729,730,731,732,733,734,735,736,737,738,739,740,741,742,743,744,745,746,747,748,749,750,751,752,753,754,755,756,757,758,759,760,761,762,763,764,765],\"value\":{\"__ndarray__\":\"AAAAAAhAMkEAAAAAYwc0QQAAAAD3kjdBAAAAgFjSQEEAAAAAviR9QQAAAACaeX9BAAAAADvngEEAAAAAiWowQQAAAIBDoEJBAAAAAKwKTEEAAAAA0D9NQQAAAMCRYlFBAAAAwJFiUUEAAACwpNB3QQAAACAdAXZBAAAAoKIqYEEAAACgl9drQQAAAGBZMnRBAAAAgFQaREEAAAAA7CtFQQAAAIAjy0RBAAAAgLDcYEEAAACAtQZfQQAAAAAKVFxBAAAAAP7jKEEAAAAAwgc1QQAAAAAzJzdBAAAAAGQ2YEEAAAAA4MhgQQAAAAAwjGFBAAAAALCjNUEAAAAAAEM3QQAAAAAAQzdBAAAAAABDN0EAAAAAcJY3QQAAAACZKUJBAAAAAICEbkEAAAAAgIRuQQAAAAA4Z3BBAAAAADhncEEAAAAAgIRuQQAAAACAhG5BAAAAAICEbkEAAAAAkDpsQQAAAACQOmxBAAAAAJA6bEEAAAAApzl/QQAAABAyYoBBAAAAcAkqgUEAAADQ4PGBQQAAAABcOUBBAAAAANhwQUEAAAAAMK9BQQAAAACUd0dBAAAAAFyQbUEAAADggshvQQAAAGAWAHFBAAAAUOsbckEAAACAURyCQQAAAIAQXINBAAAAAB4BK0EAAAAABsopQQAAAACe6y1BAAAAAFFCN0EAAABABcpfQQAAAAALa1tBAAAAoGCnbkEAAABwlY1wQQAAAJB6x3FBAAAAAH5kNkEAAAAA0BI9QQAAAADQEj1BAAAAANASPUEAAAAA+FI+QQAAAIB6dEZBAAAAANASU0EAAAAAmqRRQQAAAADQElNBAAAAAAaBVEEAAACAdNJqQQAAAMCjDVNBAAAAoKJLYUEAAAAgcWNsQQAAAGDQzm1BAAAAoC86b0EAAAAAEPYsQQAAAACUnjVBAAAAALBBYkEAAAAAy8tgQQAAAACkeF9BAAAAADD6QUEAAAAAxBs/QQAAAABsrERBAAAAgItWSkEAAAAAMiBsQQAAAEA0ZG1BAAAAgDaobkEAAADAyVl8QQAAAHCtxH1BAAAAEJg8fUEAAAAAAi57QQAAAIDoiXxBAAAAgIeufEEAAAAAnSk3QQAAAAAHlzRBAAAAAEe4NkEAAAAAO006QQAAAAA7TTpBAAAA4NXgYEEAAAAAkWdhQQAAAACQzVpBAAAAgI19VEEAAACg/2xhQQAAACBXcGdBAAAAAKR4b0EAAAAApHhvQQAAAACc6CNBAAAAAJ0pN0EAAAAAXTM7QQAAAAC5dT1BAAAAAABM/UAAAAAAnSk3QQAAAABdMztBAAAAAATESUEAAAAAyLJLQQAAAACMoU1BAAAAwNu9UkEAAAAAyUxUQQAAAIDeoVxBAAAAIDhnYEEAAAAAOZVgQQAAAEDZSWJBAAAAQIRPeUEAAAAAezV7QQAAALBxG31BAAAA8FERfUEAAACgr3OAQQAAAAD0BnRBAAAAAByhdUEAAABAGlZdQQAAAOAql2xBAAAAADhPPkEAAAAAcKw/QQAAAADUhEBBAAAAAP+aR0EAAAAg4OZmQQAAAOCGJmdBAAAA4OWmZkEAAACA+GpSQQAAAEA4fF5BAAAAQKZCZ0EAAADAYWxoQQAAAMBhbGhBAAAAABDgLkEAAAAAwJgwQQAAAAAAwTFBAAAAAADBMUEAAAAANQ0/QQAAAAA871VBAAAAQJSnUUEAAAAAPO9VQQAAAAB0sFdBAAAAAGDjZkEAAAAAYONmQQAAAABg42ZBAAAAgL1fe0EAAAAAZi9/QQAAACCHdIBBAAAAAEoWfUEAAAAA7Lt5QQAAAGBRBXtBAAAAYFEFe0EAAAAAJGFBQQAAAABMKUJBAAAAALDxQkEAAAAArPc6QQAAAABo1yVBAAAAADrlMUEAAAAAOuUxQQAAAAA65TFBAAAAgHX5W0EAAAAA3jlaQQAAAEB1+VtBAAAAAN45akEAAAAA3jlqQQAAAABAXjZBAAAAAOCMOkEAAAAAVLo4QQAAAADs5TpBAAAAgB+pUUEAAAAA0BJTQQAAAACAlilBAAAAAKtENEEAAAAAdWM5QQAAAAARLDBBAAAAAMhuIkEAAAAAXfJuQQAAAADAenBBAAAAACxTR0EAAAAAvK9LQQAAAAAKVE5BAAAAwIufVEEAAAAA8LNaQQAAAACQ2D5BAAAAAPaUIkEAAAAAZfE2QQAAAACYz0BBAAAAgJ/lSEEAAAAAMJ31QAAAAAAwnfVAAAAAAIBPAkEAAAAAAPYHQQAAAACzKj5BAAAAAKjLWEEAAAAAYONWQQAAAABIiDFBAAAAAFBSMkEAAAAAWBwzQQAAAACONUFBAAAAANASQ0EAAAAAJpYrQQAAAACNWjhBAAAAADicTEEAAAAAkAVQQQAAAABAMGJBAAAAABAZY0EAAAAA4AFkQQAAAADgAWRBAAAAAOABZEEAAAAAwFwlQQAAAAAGyilBAAAAAAbKKUEAAAAAIC0mQQAAAABRQjdBAAAAABxFOUEAAADA2/ZiQQAAAADM2GVBAAAAwBp1XkEAAAAgQJxlQQAAAEBQMF5BAAAA4FMZZkEAAABwy/txQQAAAABIakFBAAAAALy4QkEAAACAkh5AQQAAAAC9g0lBAAAAAKweYkEAAAAApENjQQAAAAAOXGNBAAAAQIRPeUEAAABwdHR6QQAAAHB0dHpBAAAAMC3NeEEAAABwdHR6QQAAAACoy3hBAAAAAAoJekEAAAAAbLMpQQAAAACdKTdBAAAAAKweYkEAAAAAxJFjQQAAAACfzzhBAAAAAFwbQEEAAAAAyMxAQQAAAAB6JkdBAAAAgNcMYkEAAADgP15jQQAAAECor2RBAAAAAH6FUEEAAAAAUetEQQAAAED6BlFBAAAAAGKTJ0EAAAAAkGY1QQAAAACQZjVBAAAAAGDjVkEAAAAAQDBiQQAAAAAQGWNBAAAAABAZY0EAAAAAAGroQAAAAAD+4yhBAAAAAMIHNUEAAAAAKnVFQQAAAADaukNBAAAAANz3GUEAAAAALDlYQQAAAICpP0FBAAAAAHkbQUEAAAAATGVCQQAAAADkrUNBAAAAgDIISUEAAADAdPJpQQAAAGC8E2dBAAAAYLwTZ0EAAABgvBNnQQAAAEBfZW9BAAAAQGoPcUEAAADgJGxyQQAAAKAzqGdBAAAAoGpuaUEAAAAAfghgQQAAAABkPWNBAAAAwLbhakEAAAAAFKhrQQAAAAD0d1ZBAAAAAI2XV0EAAAAAjZdXQQAAAACNl1dBAAAAAICWKUEAAAAAlJ41QQAAAAB1YzlBAAAAAHVjOUEAAAAAgIROQQAAAADAelBBAAAAAECzUUEAAAAAQLNRQQAAAABAs1FBAAAAAICEPkEAAAAAwHpAQQAAAABAs0FBAAAAAECzQUEAAACAXWBBQQAAAABUa0NBAAAAgFPvTkEAAAAA6QVhQQAAAABkNmBBAAAAABi/SUEAAAAAlOdKQQAAAABMEExBAAAAgEDHUUEAAADAeG5rQQAAAEAofW1BAAAAwOd0VkEAAADgY1FkQQAAAAA4nGxBAAAAADicbEEAAAAA8LNqQQAAAAC8CWxBAAAAAJ9wbUEAAAAAEOsdQQAAAACATwJBAAAAAICELkEAAAAAgIQuQQAAAAAg/y5BAAAA4F7Zb0EAAAAgwCNhQQAAAABbjTZBAAAAgHkyTUEAAACAVtFZQQAAACDtJmdBAAAAwI19UkEAAAAAzgFfQQAAAICdeWdBAAAAgCJNZkEAAACAIk1mQQAAAACAlilBAAAAAJSeNUEAAAAA/vMhQQAAAACqgC9BAAAAAMFiOkEAAADgq+NgQQAAAEAMQ19BAAAAAADCL0EAAAAAKBIxQQAAAACVeDpBAAAAAKWlZEEAAABAQotlQQAAACA6I2hBAAAAYNcIaUEAAADQG+dzQQAAAPA9ZXVBAAAAAGDjdkEAAADwadt2QQAAACCx5GBBAAAAILHkYEEAAADAmq5kQQAAAEAsVmZBAAAAANAoRkEAAAAAXE1KQQAAAIA40ExBAAAAwGVkVEEAAAAASE07QQAAAGAbEWJBAAAAAN6VIEEAAAAAGN0UQQAAAAAQAktBAAAAAMRbTEEAAAAA6is1QQAAAAC+RS5BAAAAABA2+0AAAAAAlFFPQQAAAIA6cVBBAAAAACCQM0EAAAAAIHE0QQAAAACWczZBAAAAgIqlQkEAAADg+Y1gQQAAAOA+0WBBAAAAgPfzX0EAAAAAOJxsQQAAAABA7ztBAAAAAPgHPkEAAAAAHBBAQQAAAIB8IkZBAAAAAAT2VkEAAACA2p5fQQAAAABK4WBBAAAAoDhtYkEAAABgTm5lQQAAAID2/mpBAAAAgMc4bEEAAACguUBqQQAAAMAmEWdBAAAAAMXVaUEAAAAAyFpSQQAAAABS42FBAAAAAICEXkEAAAAAgIReQQAAAACAhF5BAAAAAICEXkEAAAAAgIReQQAAAACAhF5BAAAAANDtG0EAAAAA1pksQQAAAAAo9g9BAAAAAMCOMEEAAAAAfk0xQQAAAIAcUE1BAAAAgCFOS0EAAAAAIk5LQQAAAMCVb2RBAAAAoBwSZkEAAAAgWTlmQQAAAEA80WlBAAAAAPR3VkEAAAAAJrdYQQAAAABssylBAAAAAJ0pN0EAAAAAXTM7QQAAAABo4DFBAAAAAGMHNEEAAAAA95I3QQAAAICvfEBBAAAAAAr3J0EAAAAAcAz9QAAAAABwDP1AAAAAAHAM/UAAAAAAcAz9QAAAAABoDA1BAAAAALMqPkEAAAAAksgnQQAAAACAhC5BAAAAABDkL0EAAAAAEOQvQQAAAACWczZBAAAAAGDjVkEAAAAAYONWQQAAAACCqGFBAAAAgIiKYkEAAAAAgctCQQAAAACBy0JBAAAAAIHLQkEAAAAAMLAwQQAAAABgcDFBAAAAAJAwMkEAAAAAjGpAQQAAAAA9e2BBAAAAAFA5YEEAAACAKSFiQQAAAMAf9GJBAAAAAFm/YEEAAAAA8Ac3QQAAAABAEThBAAAAAJAaOUEAAAAAaI4rQQAAAACO7jhBAAAAYLXwYEEAAACAGe1IQQAAAECD3lVBAAAAgD1DYEEAAACA88VdQQAAAIAMQ19BAAAAgAxDX0EAAAAAMPpBQQAAAABgyUJBAAAAAFSYQ0EAAAAAzfZIQQAAAOCYF3VBAAAAIJGsdkEAAABwiUF4QQAAAOD/NGFBAAAAQDM9b0EAAABgf6l6QQAAAABQPyhBAAAAANTZKEEAAAAAFzg4QQAAAAAAakhBAAAAAICiSUEAAAAAgKJJQQAAAACAoklBAAAAALxRUEEAAAAAtA1RQQAAAACsyVFBAAAAQNd7VkEAAAAgKKB3QQAAAKB/8GFBAAAAgKGsb0EAAABgKV14QQAAAADMuWNBAAAAYHtOcUEAAACARDtCQQAAAABg41ZBAAAAAFgIWEEAAAAAWAhYQQAAAAA2MlBBAAAAABDkL0EAAAAAxRA3QQAAAIClekZBAAAAALTQUUEAAAAAPLU4QQAAAACIKkFBAAAAAIgqQUEAAAAA3IMiQQAAAADcgyJBAAAAAPAa+UAAAAAA8Br5QAAAAACPRkBBAAAAAHxpQkEAAAAAfGlCQQAAAAB8aUJBAAAAAEjuTkEAAAAAomtQQQAAAADWkFFBAAAAQAA0VkEAAABAECJqQQAAAIDRF2xBAAAAwJINbkEAAABAhE95QQAAAHAI/XpBAAAA4DUDfUEAAADA9jaCQQAAAMD2NoJBAAAAQACsg0EAAABAAKyDQQAAAEAArINBAAAAwAkhhUEAAADACSGFQQAAAACkeH9BAAAAAPi1A0EAAAAAxOooQQAAAACY6CxBAAAAACD/LkEAAAAA0BJTQQAAAADQElNBAAAAADL0PkEAAAAADWtBQQAAAADws0pBAAAAAPCzSkEAAAAA8LNKQQAAAADws0pBAAAAAPCzSkEAAAAA8LNKQQAAAAB8fUVBAAAAAGiQRkEAAAAAkKNHQQAAAMCmLVJBAAAAAKquIkEAAAAAmYg/QQAAAAA8dyVBAAAAAIRPKEEAAAAAnSk3QQAAAABdMztBAAAAQND6UkEAAAAAEkJVQQAAAADwRFZBAAAAwDBIXEEAAAAA5K9BQQAAAACQe0JBAAAAADxHQ0EAAAAAtedIQQAAAKA5XWNBAAAAgOEAQEEAAADg7G5pQQAAAAAG1FtBAAAAAAbUW0EAAAAAEBMoQQAAAACALBFBAAAAABATKEEAAAAAVu4rQQAAAIB1vlhBAAAAAGDjVkEAAABASghVQQAAAMA0LVNBAAAAYGcTZkEAAACgam5pQQAAAGCrUGtBAAAAQEpjYEEAAACAu9BQQQAAAADgyCBBAAAAAEh5JkEAAAAA6hIqQQAAAICVOWNBAAAAIA4XZEEAAADAhvRkQQAAAID/0WVBAAAAAL6YckEAAACwZi90QQAAAODql3VBAAAAACPWdUEAAADA/9hiQQAAAMA/ymNBAAAAQPMKXkEAAACAjSdEQQAAAADOESJBAAAAADoEPEEAAAAAEGNIQQAAAAAQY0hBAAAAAEhtTUEAAAAAMMBOQQAAAACqCVBBAAAAQKpJVEEAAADAqQBoQQAAAECDzWlBAAAAALfgaUEAAABANmdtQQAAAIBEO0JBAAAAAOSzJkEAAAAAuKVKQQAAAADA2EtBAAAAAMgLTUEAAABAkWZSQQAAAADn8k9BAAAAAAyYUEEAAAAA7iI1QQAAAAC5L0NBAAAAACg6QUEAAAAA2+c5QQAAAAAQeUxBAAAAAITlTUEAAAAAEGNIQQAAAAAQY0hBAAAAAPh2SEEAAAAAWNxKQQAAAAA4BE5BAAAAQG2uVEEAAAAA1PtBQQAAAACQD0VBAAAAAHAQRkEAAAAApvdQQQAAAAAmt1hBAAAAAAAg50AAAAAAxOooQQAAAACgtBJBAAAAAEiOI0EAAAAAIP8uQQAAAEA2m1FBAAAAABpVQkEAAAAAMz0+QQAAAMBRDFFBAAAAAFTSVUEAAACAsRBAQQAAAICYwk1BAAAAgKa6T0EAAACARUdAQQAAAADwBClBAAAAABBjSEEAAAAAEGNIQQAAAAAQY0hBAAAAANDQM0EAAAAAGLU0QQAAAABgmTVBAAAAAJKpKEEAAAAACTM3QQAAAAAByGpBAAAAAIajaEEAAAAAgRtpQQAAAACAhF5BAAAAAMcKX0EAAAAAymw5QQAAAIDSDUZBAAAAwEh+VUEAAAAA0BJTQQAAAAC41DhBAAAAACDzOUEAAAAAEBE7QQAAAABh10RBAAAA4JybaUEAAACAU3NrQQAAAGDee21BAAAAgKysREEAAACArKxEQQAAAICsrERBAAAAgKysREEAAAAABI9SQQAAAAAQvFVBAAAAACTFVkEAAAAAmCw9QQAAAABwFUFBAAAAAFTlQUEAAAAAX5g0QQAAAABUEkRBAAAAAC8IPkEAAAAAO+dBQQAAAABUujhBAAAAAArHMUEAAAAAxD0iQQAAAABAQ/hAAAAAAEBD+EAAAAAAQEP4QAAAAAAvCD5BAAAAAOSvQUEAAAAAkHtCQQAAAAArjkBBAAAAAIjIFUEAAAAAtedIQQAAAACapGFBAAAAAEY7YEEAAACAV+dHQQAAAEDES1dBAAAAgKysREEAAAAAAGg/QQAAAAC6QiZBAAAAAF6LMUEAAAAA5JkQQQAAAADgyEBBAAAAANxNQkEAAAAASCxDQQAAAACkEDZBAAAAgAiBRUEAAACACIFFQQAAAADQ7RtBAAAAAJmtY0EAAAAArK9OQQAAAACGeVRBAAAAAALjVUEAAAAAfkxXQQAAAIB5S29BAAAA4P5ZcEEAAADwQA5xQQAAAKDpeGVBAAAAADkYXEEAAAAAZoMmQQAAAAA0WEJBAAAAACykS0EAAAAAZeI9QQAAAIB9K0ZBAAAAgH0rRkEAAAAAQEnaQAAAAAAg6uxAAAAAAADl5UAAAAAAAOXlQAAAAAAA5eVAAAAAAADb+kAAAAAA8LPzQAAAAAAA5eVAAAAAAB58IUEAAAAABvUrQQAAAAC48C1BAAAAADrLMEEAAAAAgIReQQAAAACAhF5BAAAAAHG5RUEAAACAx6dTQQAAAMBRDFFBAAAAAEYvUkEAAAAA7LpSQQAAAACrqlNBAAAAAKuqU0E=\",\"dtype\":\"float64\",\"order\":\"little\",\"shape\":[766]}},\"selected\":{\"id\":\"23083\"},\"selection_policy\":{\"id\":\"23147\"}},\"id\":\"23082\",\"type\":\"ColumnDataSource\"},{\"attributes\":{},\"id\":\"22757\",\"type\":\"UnionRenderers\"},{\"attributes\":{\"line_alpha\":0.2,\"line_color\":\"#e377c2\",\"line_width\":2,\"tags\":[\"apply_ranges\"],\"x\":{\"field\":\"index\"},\"y\":{\"field\":\"value\"}},\"id\":\"22827\",\"type\":\"Line\"},{\"attributes\":{},\"id\":\"22307\",\"type\":\"UnionRenderers\"},{\"attributes\":{},\"id\":\"22763\",\"type\":\"Selection\"},{\"attributes\":{\"line_color\":\"#e377c2\",\"line_width\":2,\"tags\":[\"apply_ranges\"],\"x\":{\"field\":\"index\"},\"y\":{\"field\":\"value\"}},\"id\":\"22825\",\"type\":\"Line\"},{\"attributes\":{\"source\":{\"id\":\"22704\"}},\"id\":\"22711\",\"type\":\"CDSView\"},{\"attributes\":{\"source\":{\"id\":\"21981\"}},\"id\":\"21988\",\"type\":\"CDSView\"},{\"attributes\":{\"source\":{\"id\":\"22444\"}},\"id\":\"22451\",\"type\":\"CDSView\"},{\"attributes\":{},\"id\":\"21959\",\"type\":\"BasicTicker\"},{\"attributes\":{},\"id\":\"22487\",\"type\":\"UnionRenderers\"},{\"attributes\":{},\"id\":\"21955\",\"type\":\"BasicTicker\"},{\"attributes\":{\"axis\":{\"id\":\"21954\"},\"coordinates\":null,\"grid_line_color\":null,\"group\":null,\"ticker\":null},\"id\":\"21957\",\"type\":\"Grid\"},{\"attributes\":{},\"id\":\"21950\",\"type\":\"LinearScale\"},{\"attributes\":{\"coordinates\":null,\"group\":null,\"text_color\":\"black\",\"text_font_size\":\"12pt\"},\"id\":\"21946\",\"type\":\"Title\"},{\"attributes\":{\"label\":{\"value\":\"FTA\"},\"renderers\":[{\"id\":\"22450\"}]},\"id\":\"22490\",\"type\":\"LegendItem\"},{\"attributes\":{},\"id\":\"22025\",\"type\":\"Selection\"},{\"attributes\":{\"data\":{\"Variable\":[\"GS\",\"GS\",\"GS\",\"GS\",\"GS\",\"GS\",\"GS\",\"GS\",\"GS\",\"GS\",\"GS\",\"GS\",\"GS\",\"GS\",\"GS\",\"GS\",\"GS\",\"GS\",\"GS\",\"GS\",\"GS\",\"GS\",\"GS\",\"GS\",\"GS\",\"GS\",\"GS\",\"GS\",\"GS\",\"GS\",\"GS\",\"GS\",\"GS\",\"GS\",\"GS\",\"GS\",\"GS\",\"GS\",\"GS\",\"GS\",\"GS\",\"GS\",\"GS\",\"GS\",\"GS\",\"GS\",\"GS\",\"GS\",\"GS\",\"GS\",\"GS\",\"GS\",\"GS\",\"GS\",\"GS\",\"GS\",\"GS\",\"GS\",\"GS\",\"GS\",\"GS\",\"GS\",\"GS\",\"GS\",\"GS\",\"GS\",\"GS\",\"GS\",\"GS\",\"GS\",\"GS\",\"GS\",\"GS\",\"GS\",\"GS\",\"GS\",\"GS\",\"GS\",\"GS\",\"GS\",\"GS\",\"GS\",\"GS\",\"GS\",\"GS\",\"GS\",\"GS\",\"GS\",\"GS\",\"GS\",\"GS\",\"GS\",\"GS\",\"GS\",\"GS\",\"GS\",\"GS\",\"GS\",\"GS\",\"GS\",\"GS\",\"GS\",\"GS\",\"GS\",\"GS\",\"GS\",\"GS\",\"GS\",\"GS\",\"GS\",\"GS\",\"GS\",\"GS\",\"GS\",\"GS\",\"GS\",\"GS\",\"GS\",\"GS\",\"GS\",\"GS\",\"GS\",\"GS\",\"GS\",\"GS\",\"GS\",\"GS\",\"GS\",\"GS\",\"GS\",\"GS\",\"GS\",\"GS\",\"GS\",\"GS\",\"GS\",\"GS\",\"GS\",\"GS\",\"GS\",\"GS\",\"GS\",\"GS\",\"GS\",\"GS\",\"GS\",\"GS\",\"GS\",\"GS\",\"GS\",\"GS\",\"GS\",\"GS\",\"GS\",\"GS\",\"GS\",\"GS\",\"GS\",\"GS\",\"GS\",\"GS\",\"GS\",\"GS\",\"GS\",\"GS\",\"GS\",\"GS\",\"GS\",\"GS\",\"GS\",\"GS\",\"GS\",\"GS\",\"GS\",\"GS\",\"GS\",\"GS\",\"GS\",\"GS\",\"GS\",\"GS\",\"GS\",\"GS\",\"GS\",\"GS\",\"GS\",\"GS\",\"GS\",\"GS\",\"GS\",\"GS\",\"GS\",\"GS\",\"GS\",\"GS\",\"GS\",\"GS\",\"GS\",\"GS\",\"GS\",\"GS\",\"GS\",\"GS\",\"GS\",\"GS\",\"GS\",\"GS\",\"GS\",\"GS\",\"GS\",\"GS\",\"GS\",\"GS\",\"GS\",\"GS\",\"GS\",\"GS\",\"GS\",\"GS\",\"GS\",\"GS\",\"GS\",\"GS\",\"GS\",\"GS\",\"GS\",\"GS\",\"GS\",\"GS\",\"GS\",\"GS\",\"GS\",\"GS\",\"GS\",\"GS\",\"GS\",\"GS\",\"GS\",\"GS\",\"GS\",\"GS\",\"GS\",\"GS\",\"GS\",\"GS\",\"GS\",\"GS\",\"GS\",\"GS\",\"GS\",\"GS\",\"GS\",\"GS\",\"GS\",\"GS\",\"GS\",\"GS\",\"GS\",\"GS\",\"GS\",\"GS\",\"GS\",\"GS\",\"GS\",\"GS\",\"GS\",\"GS\",\"GS\",\"GS\",\"GS\",\"GS\",\"GS\",\"GS\",\"GS\",\"GS\",\"GS\",\"GS\",\"GS\",\"GS\",\"GS\",\"GS\",\"GS\",\"GS\",\"GS\",\"GS\",\"GS\",\"GS\",\"GS\",\"GS\",\"GS\",\"GS\",\"GS\",\"GS\",\"GS\",\"GS\",\"GS\",\"GS\",\"GS\",\"GS\",\"GS\",\"GS\",\"GS\",\"GS\",\"GS\",\"GS\",\"GS\",\"GS\",\"GS\",\"GS\",\"GS\",\"GS\",\"GS\",\"GS\",\"GS\",\"GS\",\"GS\",\"GS\",\"GS\",\"GS\",\"GS\",\"GS\",\"GS\",\"GS\",\"GS\",\"GS\",\"GS\",\"GS\",\"GS\",\"GS\",\"GS\",\"GS\",\"GS\",\"GS\",\"GS\",\"GS\",\"GS\",\"GS\",\"GS\",\"GS\",\"GS\",\"GS\",\"GS\",\"GS\",\"GS\",\"GS\",\"GS\",\"GS\",\"GS\",\"GS\",\"GS\",\"GS\",\"GS\",\"GS\",\"GS\",\"GS\",\"GS\",\"GS\",\"GS\",\"GS\",\"GS\",\"GS\",\"GS\",\"GS\",\"GS\",\"GS\",\"GS\",\"GS\",\"GS\",\"GS\",\"GS\",\"GS\",\"GS\",\"GS\",\"GS\",\"GS\",\"GS\",\"GS\",\"GS\",\"GS\",\"GS\",\"GS\",\"GS\",\"GS\",\"GS\",\"GS\",\"GS\",\"GS\",\"GS\",\"GS\",\"GS\",\"GS\",\"GS\",\"GS\",\"GS\",\"GS\",\"GS\",\"GS\",\"GS\",\"GS\",\"GS\",\"GS\",\"GS\",\"GS\",\"GS\",\"GS\",\"GS\",\"GS\",\"GS\",\"GS\",\"GS\",\"GS\",\"GS\",\"GS\",\"GS\",\"GS\",\"GS\",\"GS\",\"GS\",\"GS\",\"GS\",\"GS\",\"GS\",\"GS\",\"GS\",\"GS\",\"GS\",\"GS\",\"GS\",\"GS\",\"GS\",\"GS\",\"GS\",\"GS\",\"GS\",\"GS\",\"GS\",\"GS\",\"GS\",\"GS\",\"GS\",\"GS\",\"GS\",\"GS\",\"GS\",\"GS\",\"GS\",\"GS\",\"GS\",\"GS\",\"GS\",\"GS\",\"GS\",\"GS\",\"GS\",\"GS\",\"GS\",\"GS\",\"GS\",\"GS\",\"GS\",\"GS\",\"GS\",\"GS\",\"GS\",\"GS\",\"GS\",\"GS\",\"GS\",\"GS\",\"GS\",\"GS\",\"GS\",\"GS\",\"GS\",\"GS\",\"GS\",\"GS\",\"GS\",\"GS\",\"GS\",\"GS\",\"GS\",\"GS\",\"GS\",\"GS\",\"GS\",\"GS\",\"GS\",\"GS\",\"GS\",\"GS\",\"GS\",\"GS\",\"GS\",\"GS\",\"GS\",\"GS\",\"GS\",\"GS\",\"GS\",\"GS\",\"GS\",\"GS\",\"GS\",\"GS\",\"GS\",\"GS\",\"GS\",\"GS\",\"GS\",\"GS\",\"GS\",\"GS\",\"GS\",\"GS\",\"GS\",\"GS\",\"GS\",\"GS\",\"GS\",\"GS\",\"GS\",\"GS\",\"GS\",\"GS\",\"GS\",\"GS\",\"GS\",\"GS\",\"GS\",\"GS\",\"GS\",\"GS\",\"GS\",\"GS\",\"GS\",\"GS\",\"GS\",\"GS\",\"GS\",\"GS\",\"GS\",\"GS\",\"GS\",\"GS\",\"GS\",\"GS\",\"GS\",\"GS\",\"GS\",\"GS\",\"GS\",\"GS\",\"GS\",\"GS\",\"GS\",\"GS\",\"GS\",\"GS\",\"GS\",\"GS\",\"GS\",\"GS\",\"GS\",\"GS\",\"GS\",\"GS\",\"GS\",\"GS\",\"GS\",\"GS\",\"GS\",\"GS\",\"GS\",\"GS\",\"GS\",\"GS\",\"GS\",\"GS\",\"GS\",\"GS\",\"GS\",\"GS\",\"GS\",\"GS\",\"GS\",\"GS\",\"GS\",\"GS\",\"GS\",\"GS\",\"GS\",\"GS\",\"GS\",\"GS\",\"GS\",\"GS\",\"GS\",\"GS\",\"GS\",\"GS\",\"GS\",\"GS\",\"GS\",\"GS\",\"GS\",\"GS\",\"GS\",\"GS\",\"GS\",\"GS\",\"GS\",\"GS\",\"GS\",\"GS\",\"GS\",\"GS\",\"GS\",\"GS\",\"GS\",\"GS\",\"GS\",\"GS\",\"GS\",\"GS\",\"GS\",\"GS\",\"GS\",\"GS\",\"GS\",\"GS\",\"GS\",\"GS\",\"GS\",\"GS\",\"GS\",\"GS\",\"GS\",\"GS\",\"GS\",\"GS\",\"GS\",\"GS\",\"GS\",\"GS\",\"GS\",\"GS\",\"GS\",\"GS\",\"GS\",\"GS\",\"GS\",\"GS\",\"GS\",\"GS\",\"GS\",\"GS\",\"GS\",\"GS\",\"GS\",\"GS\",\"GS\",\"GS\",\"GS\",\"GS\",\"GS\",\"GS\",\"GS\",\"GS\",\"GS\",\"GS\",\"GS\",\"GS\",\"GS\",\"GS\",\"GS\",\"GS\",\"GS\",\"GS\",\"GS\",\"GS\",\"GS\",\"GS\",\"GS\",\"GS\",\"GS\",\"GS\",\"GS\",\"GS\",\"GS\",\"GS\",\"GS\",\"GS\",\"GS\",\"GS\",\"GS\",\"GS\",\"GS\",\"GS\",\"GS\",\"GS\",\"GS\",\"GS\",\"GS\",\"GS\",\"GS\",\"GS\",\"GS\",\"GS\",\"GS\",\"GS\",\"GS\",\"GS\",\"GS\",\"GS\",\"GS\",\"GS\",\"GS\",\"GS\",\"GS\",\"GS\",\"GS\",\"GS\",\"GS\",\"GS\",\"GS\",\"GS\",\"GS\",\"GS\",\"GS\",\"GS\",\"GS\",\"GS\",\"GS\",\"GS\",\"GS\",\"GS\",\"GS\",\"GS\",\"GS\",\"GS\",\"GS\",\"GS\",\"GS\",\"GS\",\"GS\",\"GS\",\"GS\",\"GS\",\"GS\",\"GS\",\"GS\",\"GS\",\"GS\",\"GS\",\"GS\",\"GS\",\"GS\",\"GS\",\"GS\",\"GS\",\"GS\",\"GS\",\"GS\",\"GS\",\"GS\"],\"index\":[0,1,2,3,4,5,6,7,8,9,10,11,12,13,14,15,16,17,18,19,20,21,22,23,24,25,26,27,28,29,30,31,32,33,34,35,36,37,38,39,40,41,42,43,44,45,46,47,48,49,50,51,52,53,54,55,56,57,58,59,60,61,62,63,64,65,66,67,68,69,70,71,72,73,74,75,76,77,78,79,80,81,82,83,84,85,86,87,88,89,90,91,92,93,94,95,96,97,98,99,100,101,102,103,104,105,106,107,108,109,110,111,112,113,114,115,116,117,118,119,120,121,122,123,124,125,126,127,128,129,130,131,132,133,134,135,136,137,138,139,140,141,142,143,144,145,146,147,148,149,150,151,152,153,154,155,156,157,158,159,160,161,162,163,164,165,166,167,168,169,170,171,172,173,174,175,176,177,178,179,180,181,182,183,184,185,186,187,188,189,190,191,192,193,194,195,196,197,198,199,200,201,202,203,204,205,206,207,208,209,210,211,212,213,214,215,216,217,218,219,220,221,222,223,224,225,226,227,228,229,230,231,232,233,234,235,236,237,238,239,240,241,242,243,244,245,246,247,248,249,250,251,252,253,254,255,256,257,258,259,260,261,262,263,264,265,266,267,268,269,270,271,272,273,274,275,276,277,278,279,280,281,282,283,284,285,286,287,288,289,290,291,292,293,294,295,296,297,298,299,300,301,302,303,304,305,306,307,308,309,310,311,312,313,314,315,316,317,318,319,320,321,322,323,324,325,326,327,328,329,330,331,332,333,334,335,336,337,338,339,340,341,342,343,344,345,346,347,348,349,350,351,352,353,354,355,356,357,358,359,360,361,362,363,364,365,366,367,368,369,370,371,372,373,374,375,376,377,378,379,380,381,382,383,384,385,386,387,388,389,390,391,392,393,394,395,396,397,398,399,400,401,402,403,404,405,406,407,408,409,410,411,412,413,414,415,416,417,418,419,420,421,422,423,424,425,426,427,428,429,430,431,432,433,434,435,436,437,438,439,440,441,442,443,444,445,446,447,448,449,450,451,452,453,454,455,456,457,458,459,460,461,462,463,464,465,466,467,468,469,470,471,472,473,474,475,476,477,478,479,480,481,482,483,484,485,486,487,488,489,490,491,492,493,494,495,496,497,498,499,500,501,502,503,504,505,506,507,508,509,510,511,512,513,514,515,516,517,518,519,520,521,522,523,524,525,526,527,528,529,530,531,532,533,534,535,536,537,538,539,540,541,542,543,544,545,546,547,548,549,550,551,552,553,554,555,556,557,558,559,560,561,562,563,564,565,566,567,568,569,570,571,572,573,574,575,576,577,578,579,580,581,582,583,584,585,586,587,588,589,590,591,592,593,594,595,596,597,598,599,600,601,602,603,604,605,606,607,608,609,610,611,612,613,614,615,616,617,618,619,620,621,622,623,624,625,626,627,628,629,630,631,632,633,634,635,636,637,638,639,640,641,642,643,644,645,646,647,648,649,650,651,652,653,654,655,656,657,658,659,660,661,662,663,664,665,666,667,668,669,670,671,672,673,674,675,676,677,678,679,680,681,682,683,684,685,686,687,688,689,690,691,692,693,694,695,696,697,698,699,700,701,702,703,704,705,706,707,708,709,710,711,712,713,714,715,716,717,718,719,720,721,722,723,724,725,726,727,728,729,730,731,732,733,734,735,736,737,738,739,740,741,742,743,744,745,746,747,748,749,750,751,752,753,754,755,756,757,758,759,760,761,762,763,764,765],\"value\":[38,5,79,60,56,68,71,37,18,55,13,82,44,71,6,26,32,73,12,75,65,26,3,2,4,16,62,71,77,53,9,14,20,34,36,63,49,25,74,48,48,32,80,55,27,82,72,62,73,74,29,82,81,77,80,78,73,78,32,69,1,0,11,14,76,69,65,14,33,0,17,6,23,1,35,80,79,21,53,43,19,62,29,54,65,31,8,1,15,58,17,58,27,77,76,80,73,1,18,52,44,48,50,2,0,6,12,13,74,61,0,15,60,8,3,60,28,52,51,73,10,4,21,46,61,80,81,61,80,73,70,56,68,12,70,41,51,72,42,24,66,9,13,8,6,22,36,9,38,24,62,1,68,0,9,21,0,21,0,71,38,52,79,70,77,60,78,65,58,46,63,44,0,4,4,1,5,1,3,4,1,0,29,51,0,0,7,12,11,19,0,1,8,23,15,38,69,44,1,0,11,4,26,1,0,0,0,14,12,1,13,0,1,12,15,0,2,0,2,0,5,52,44,16,60,19,64,37,55,1,0,18,58,4,49,3,44,7,51,53,26,79,65,82,63,82,79,60,78,74,80,77,68,61,76,74,1,4,19,20,0,0,12,27,3,0,1,0,24,0,24,18,1,19,5,44,8,0,1,24,5,17,22,28,0,43,81,78,80,54,65,42,32,74,18,55,73,67,70,30,6,51,5,1,1,0,0,0,0,0,30,67,41,24,65,2,2,3,0,2,0,38,61,70,57,81,80,59,80,77,10,17,27,70,61,74,79,0,49,49,67,80,13,22,35,47,21,68,70,40,2,42,0,0,2,0,2,2,0,8,76,25,67,34,73,82,71,70,77,64,72,3,38,54,19,0,0,1,0,37,0,3,13,52,23,1,0,6,7,5,0,0,11,23,6,9,23,22,25,77,80,81,68,53,38,30,22,46,68,72,42,63,29,3,2,1,3,0,1,1,0,0,3,2,2,0,3,8,36,1,1,1,48,2,19,20,8,0,0,22,27,0,6,4,10,15,1,0,1,6,76,56,65,48,55,19,19,38,30,42,8,11,14,67,40,28,69,11,46,1,0,4,2,11,13,5,31,8,39,8,14,10,81,82,81,81,78,79,48,8,56,25,21,46,12,24,36,0,0,13,73,80,77,28,15,43,9,6,0,6,15,2,4,1,0,1,0,1,18,14,0,2,2,0,0,0,0,0,0,5,2,78,73,81,82,81,72,78,68,8,35,43,44,21,65,58,0,8,0,3,7,6,4,10,2,0,0,5,4,9,2,3,16,0,1,1,0,34,28,2,1,54,17,2,10,82,47,61,4,6,10,8,4,0,55,55,63,67,11,49,50,34,54,45,22,67,13,12,66,66,82,82,82,77,81,77,50,19,69,6,43,19,1,20,8,3,45,60,58,0,47,39,21,0,2,3,44,46,34,13,31,9,3,12,2,40,42,10,2,25,64,19,80,0,12,38,6,32,0,4,1,4,5,4,72,38,39,77,6,52,40,25,65,0,2,2,22,45,82,54,10,64,26,17,1,56,73,56,4,60,1,0,18,0,14,14,36,18,13,14,27,0,0,0,0,33,8,14,1,15,6,0,3,3,9,22,31,28,36,73,13,28,41,51,4,12,0,12,0,2,0,33,9,55,53,1,0,1,48,69,53,69,82,60,78,73,63,44,1,23,68,67,10,14,0,0,0,4,4,0,0,0,0,36,0,18,43,20,35,49,6,55,35,25,16,0]},\"selected\":{\"id\":\"22103\"},\"selection_policy\":{\"id\":\"22127\"}},\"id\":\"22102\",\"type\":\"ColumnDataSource\"},{\"attributes\":{\"line_color\":\"#e5ae38\",\"line_width\":2,\"tags\":[\"apply_ranges\"],\"x\":{\"field\":\"index\"},\"y\":{\"field\":\"value\"}},\"id\":\"22491\",\"type\":\"Line\"},{\"attributes\":{},\"id\":\"22885\",\"type\":\"Selection\"},{\"attributes\":{},\"id\":\"21952\",\"type\":\"LinearScale\"},{\"attributes\":{\"line_alpha\":0.1,\"line_color\":\"#30a2da\",\"line_width\":2,\"tags\":[\"apply_ranges\"],\"x\":{\"field\":\"index\"},\"y\":{\"field\":\"value\"}},\"id\":\"22358\",\"type\":\"Line\"},{\"attributes\":{\"line_alpha\":0.2,\"line_color\":\"#30a2da\",\"line_width\":2,\"tags\":[\"apply_ranges\"],\"x\":{\"field\":\"index\"},\"y\":{\"field\":\"value\"}},\"id\":\"23019\",\"type\":\"Line\"},{\"attributes\":{\"coordinates\":null,\"data_source\":{\"id\":\"22884\"},\"glyph\":{\"id\":\"22887\"},\"group\":null,\"hover_glyph\":null,\"muted_glyph\":{\"id\":\"22889\"},\"nonselection_glyph\":{\"id\":\"22888\"},\"selection_glyph\":{\"id\":\"22947\"},\"view\":{\"id\":\"22891\"}},\"id\":\"22890\",\"type\":\"GlyphRenderer\"},{\"attributes\":{\"axis_label\":\"\",\"coordinates\":null,\"formatter\":{\"id\":\"21979\"},\"group\":null,\"major_label_policy\":{\"id\":\"21980\"},\"ticker\":{\"id\":\"21959\"}},\"id\":\"21958\",\"type\":\"LinearAxis\"},{\"attributes\":{\"coordinates\":null,\"data_source\":{\"id\":\"22354\"},\"glyph\":{\"id\":\"22357\"},\"group\":null,\"hover_glyph\":null,\"muted_glyph\":{\"id\":\"22359\"},\"nonselection_glyph\":{\"id\":\"22358\"},\"selection_glyph\":{\"id\":\"22397\"},\"view\":{\"id\":\"22361\"}},\"id\":\"22360\",\"type\":\"GlyphRenderer\"},{\"attributes\":{\"axis_label\":\"\",\"coordinates\":null,\"formatter\":{\"id\":\"21976\"},\"group\":null,\"major_label_orientation\":1.5707963267948966,\"major_label_policy\":{\"id\":\"21977\"},\"ticker\":{\"id\":\"21955\"}},\"id\":\"21954\",\"type\":\"LinearAxis\"},{\"attributes\":{},\"id\":\"22879\",\"type\":\"UnionRenderers\"},{\"attributes\":{\"line_color\":\"#bcbd22\",\"line_width\":2,\"tags\":[\"apply_ranges\"],\"x\":{\"field\":\"index\"},\"y\":{\"field\":\"value\"}},\"id\":\"22353\",\"type\":\"Line\"},{\"attributes\":{\"label\":{\"value\":\"BLK\"},\"renderers\":[{\"id\":\"22828\"}]},\"id\":\"22882\",\"type\":\"LegendItem\"},{\"attributes\":{\"axis\":{\"id\":\"21958\"},\"coordinates\":null,\"dimension\":1,\"grid_line_color\":null,\"group\":null,\"ticker\":null},\"id\":\"21961\",\"type\":\"Grid\"},{\"attributes\":{},\"id\":\"22493\",\"type\":\"Selection\"},{\"attributes\":{\"line_color\":\"#e377c2\",\"line_width\":2,\"tags\":[\"apply_ranges\"],\"x\":{\"field\":\"index\"},\"y\":{\"field\":\"value\"}},\"id\":\"22883\",\"type\":\"Line\"},{\"attributes\":{},\"id\":\"22595\",\"type\":\"Selection\"},{\"attributes\":{\"data\":{\"Variable\":[\"DREB\",\"DREB\",\"DREB\",\"DREB\",\"DREB\",\"DREB\",\"DREB\",\"DREB\",\"DREB\",\"DREB\",\"DREB\",\"DREB\",\"DREB\",\"DREB\",\"DREB\",\"DREB\",\"DREB\",\"DREB\",\"DREB\",\"DREB\",\"DREB\",\"DREB\",\"DREB\",\"DREB\",\"DREB\",\"DREB\",\"DREB\",\"DREB\",\"DREB\",\"DREB\",\"DREB\",\"DREB\",\"DREB\",\"DREB\",\"DREB\",\"DREB\",\"DREB\",\"DREB\",\"DREB\",\"DREB\",\"DREB\",\"DREB\",\"DREB\",\"DREB\",\"DREB\",\"DREB\",\"DREB\",\"DREB\",\"DREB\",\"DREB\",\"DREB\",\"DREB\",\"DREB\",\"DREB\",\"DREB\",\"DREB\",\"DREB\",\"DREB\",\"DREB\",\"DREB\",\"DREB\",\"DREB\",\"DREB\",\"DREB\",\"DREB\",\"DREB\",\"DREB\",\"DREB\",\"DREB\",\"DREB\",\"DREB\",\"DREB\",\"DREB\",\"DREB\",\"DREB\",\"DREB\",\"DREB\",\"DREB\",\"DREB\",\"DREB\",\"DREB\",\"DREB\",\"DREB\",\"DREB\",\"DREB\",\"DREB\",\"DREB\",\"DREB\",\"DREB\",\"DREB\",\"DREB\",\"DREB\",\"DREB\",\"DREB\",\"DREB\",\"DREB\",\"DREB\",\"DREB\",\"DREB\",\"DREB\",\"DREB\",\"DREB\",\"DREB\",\"DREB\",\"DREB\",\"DREB\",\"DREB\",\"DREB\",\"DREB\",\"DREB\",\"DREB\",\"DREB\",\"DREB\",\"DREB\",\"DREB\",\"DREB\",\"DREB\",\"DREB\",\"DREB\",\"DREB\",\"DREB\",\"DREB\",\"DREB\",\"DREB\",\"DREB\",\"DREB\",\"DREB\",\"DREB\",\"DREB\",\"DREB\",\"DREB\",\"DREB\",\"DREB\",\"DREB\",\"DREB\",\"DREB\",\"DREB\",\"DREB\",\"DREB\",\"DREB\",\"DREB\",\"DREB\",\"DREB\",\"DREB\",\"DREB\",\"DREB\",\"DREB\",\"DREB\",\"DREB\",\"DREB\",\"DREB\",\"DREB\",\"DREB\",\"DREB\",\"DREB\",\"DREB\",\"DREB\",\"DREB\",\"DREB\",\"DREB\",\"DREB\",\"DREB\",\"DREB\",\"DREB\",\"DREB\",\"DREB\",\"DREB\",\"DREB\",\"DREB\",\"DREB\",\"DREB\",\"DREB\",\"DREB\",\"DREB\",\"DREB\",\"DREB\",\"DREB\",\"DREB\",\"DREB\",\"DREB\",\"DREB\",\"DREB\",\"DREB\",\"DREB\",\"DREB\",\"DREB\",\"DREB\",\"DREB\",\"DREB\",\"DREB\",\"DREB\",\"DREB\",\"DREB\",\"DREB\",\"DREB\",\"DREB\",\"DREB\",\"DREB\",\"DREB\",\"DREB\",\"DREB\",\"DREB\",\"DREB\",\"DREB\",\"DREB\",\"DREB\",\"DREB\",\"DREB\",\"DREB\",\"DREB\",\"DREB\",\"DREB\",\"DREB\",\"DREB\",\"DREB\",\"DREB\",\"DREB\",\"DREB\",\"DREB\",\"DREB\",\"DREB\",\"DREB\",\"DREB\",\"DREB\",\"DREB\",\"DREB\",\"DREB\",\"DREB\",\"DREB\",\"DREB\",\"DREB\",\"DREB\",\"DREB\",\"DREB\",\"DREB\",\"DREB\",\"DREB\",\"DREB\",\"DREB\",\"DREB\",\"DREB\",\"DREB\",\"DREB\",\"DREB\",\"DREB\",\"DREB\",\"DREB\",\"DREB\",\"DREB\",\"DREB\",\"DREB\",\"DREB\",\"DREB\",\"DREB\",\"DREB\",\"DREB\",\"DREB\",\"DREB\",\"DREB\",\"DREB\",\"DREB\",\"DREB\",\"DREB\",\"DREB\",\"DREB\",\"DREB\",\"DREB\",\"DREB\",\"DREB\",\"DREB\",\"DREB\",\"DREB\",\"DREB\",\"DREB\",\"DREB\",\"DREB\",\"DREB\",\"DREB\",\"DREB\",\"DREB\",\"DREB\",\"DREB\",\"DREB\",\"DREB\",\"DREB\",\"DREB\",\"DREB\",\"DREB\",\"DREB\",\"DREB\",\"DREB\",\"DREB\",\"DREB\",\"DREB\",\"DREB\",\"DREB\",\"DREB\",\"DREB\",\"DREB\",\"DREB\",\"DREB\",\"DREB\",\"DREB\",\"DREB\",\"DREB\",\"DREB\",\"DREB\",\"DREB\",\"DREB\",\"DREB\",\"DREB\",\"DREB\",\"DREB\",\"DREB\",\"DREB\",\"DREB\",\"DREB\",\"DREB\",\"DREB\",\"DREB\",\"DREB\",\"DREB\",\"DREB\",\"DREB\",\"DREB\",\"DREB\",\"DREB\",\"DREB\",\"DREB\",\"DREB\",\"DREB\",\"DREB\",\"DREB\",\"DREB\",\"DREB\",\"DREB\",\"DREB\",\"DREB\",\"DREB\",\"DREB\",\"DREB\",\"DREB\",\"DREB\",\"DREB\",\"DREB\",\"DREB\",\"DREB\",\"DREB\",\"DREB\",\"DREB\",\"DREB\",\"DREB\",\"DREB\",\"DREB\",\"DREB\",\"DREB\",\"DREB\",\"DREB\",\"DREB\",\"DREB\",\"DREB\",\"DREB\",\"DREB\",\"DREB\",\"DREB\",\"DREB\",\"DREB\",\"DREB\",\"DREB\",\"DREB\",\"DREB\",\"DREB\",\"DREB\",\"DREB\",\"DREB\",\"DREB\",\"DREB\",\"DREB\",\"DREB\",\"DREB\",\"DREB\",\"DREB\",\"DREB\",\"DREB\",\"DREB\",\"DREB\",\"DREB\",\"DREB\",\"DREB\",\"DREB\",\"DREB\",\"DREB\",\"DREB\",\"DREB\",\"DREB\",\"DREB\",\"DREB\",\"DREB\",\"DREB\",\"DREB\",\"DREB\",\"DREB\",\"DREB\",\"DREB\",\"DREB\",\"DREB\",\"DREB\",\"DREB\",\"DREB\",\"DREB\",\"DREB\",\"DREB\",\"DREB\",\"DREB\",\"DREB\",\"DREB\",\"DREB\",\"DREB\",\"DREB\",\"DREB\",\"DREB\",\"DREB\",\"DREB\",\"DREB\",\"DREB\",\"DREB\",\"DREB\",\"DREB\",\"DREB\",\"DREB\",\"DREB\",\"DREB\",\"DREB\",\"DREB\",\"DREB\",\"DREB\",\"DREB\",\"DREB\",\"DREB\",\"DREB\",\"DREB\",\"DREB\",\"DREB\",\"DREB\",\"DREB\",\"DREB\",\"DREB\",\"DREB\",\"DREB\",\"DREB\",\"DREB\",\"DREB\",\"DREB\",\"DREB\",\"DREB\",\"DREB\",\"DREB\",\"DREB\",\"DREB\",\"DREB\",\"DREB\",\"DREB\",\"DREB\",\"DREB\",\"DREB\",\"DREB\",\"DREB\",\"DREB\",\"DREB\",\"DREB\",\"DREB\",\"DREB\",\"DREB\",\"DREB\",\"DREB\",\"DREB\",\"DREB\",\"DREB\",\"DREB\",\"DREB\",\"DREB\",\"DREB\",\"DREB\",\"DREB\",\"DREB\",\"DREB\",\"DREB\",\"DREB\",\"DREB\",\"DREB\",\"DREB\",\"DREB\",\"DREB\",\"DREB\",\"DREB\",\"DREB\",\"DREB\",\"DREB\",\"DREB\",\"DREB\",\"DREB\",\"DREB\",\"DREB\",\"DREB\",\"DREB\",\"DREB\",\"DREB\",\"DREB\",\"DREB\",\"DREB\",\"DREB\",\"DREB\",\"DREB\",\"DREB\",\"DREB\",\"DREB\",\"DREB\",\"DREB\",\"DREB\",\"DREB\",\"DREB\",\"DREB\",\"DREB\",\"DREB\",\"DREB\",\"DREB\",\"DREB\",\"DREB\",\"DREB\",\"DREB\",\"DREB\",\"DREB\",\"DREB\",\"DREB\",\"DREB\",\"DREB\",\"DREB\",\"DREB\",\"DREB\",\"DREB\",\"DREB\",\"DREB\",\"DREB\",\"DREB\",\"DREB\",\"DREB\",\"DREB\",\"DREB\",\"DREB\",\"DREB\",\"DREB\",\"DREB\",\"DREB\",\"DREB\",\"DREB\",\"DREB\",\"DREB\",\"DREB\",\"DREB\",\"DREB\",\"DREB\",\"DREB\",\"DREB\",\"DREB\",\"DREB\",\"DREB\",\"DREB\",\"DREB\",\"DREB\",\"DREB\",\"DREB\",\"DREB\",\"DREB\",\"DREB\",\"DREB\",\"DREB\",\"DREB\",\"DREB\",\"DREB\",\"DREB\",\"DREB\",\"DREB\",\"DREB\",\"DREB\",\"DREB\",\"DREB\",\"DREB\",\"DREB\",\"DREB\",\"DREB\",\"DREB\",\"DREB\",\"DREB\",\"DREB\",\"DREB\",\"DREB\",\"DREB\",\"DREB\",\"DREB\",\"DREB\",\"DREB\",\"DREB\",\"DREB\",\"DREB\",\"DREB\",\"DREB\",\"DREB\",\"DREB\",\"DREB\",\"DREB\",\"DREB\",\"DREB\",\"DREB\",\"DREB\",\"DREB\",\"DREB\",\"DREB\",\"DREB\",\"DREB\",\"DREB\",\"DREB\",\"DREB\",\"DREB\",\"DREB\",\"DREB\",\"DREB\",\"DREB\",\"DREB\",\"DREB\",\"DREB\",\"DREB\",\"DREB\",\"DREB\",\"DREB\",\"DREB\",\"DREB\",\"DREB\",\"DREB\",\"DREB\",\"DREB\",\"DREB\",\"DREB\",\"DREB\",\"DREB\",\"DREB\",\"DREB\",\"DREB\",\"DREB\",\"DREB\",\"DREB\",\"DREB\",\"DREB\",\"DREB\",\"DREB\",\"DREB\",\"DREB\",\"DREB\",\"DREB\",\"DREB\",\"DREB\",\"DREB\",\"DREB\",\"DREB\",\"DREB\",\"DREB\",\"DREB\",\"DREB\",\"DREB\",\"DREB\",\"DREB\",\"DREB\",\"DREB\",\"DREB\",\"DREB\",\"DREB\",\"DREB\",\"DREB\",\"DREB\",\"DREB\",\"DREB\",\"DREB\",\"DREB\",\"DREB\",\"DREB\",\"DREB\",\"DREB\",\"DREB\",\"DREB\",\"DREB\",\"DREB\",\"DREB\",\"DREB\",\"DREB\",\"DREB\",\"DREB\",\"DREB\",\"DREB\",\"DREB\",\"DREB\",\"DREB\",\"DREB\",\"DREB\",\"DREB\",\"DREB\",\"DREB\",\"DREB\",\"DREB\",\"DREB\",\"DREB\",\"DREB\",\"DREB\",\"DREB\",\"DREB\",\"DREB\",\"DREB\",\"DREB\",\"DREB\",\"DREB\",\"DREB\",\"DREB\",\"DREB\",\"DREB\",\"DREB\",\"DREB\",\"DREB\",\"DREB\",\"DREB\",\"DREB\",\"DREB\",\"DREB\",\"DREB\",\"DREB\",\"DREB\",\"DREB\",\"DREB\",\"DREB\",\"DREB\",\"DREB\",\"DREB\",\"DREB\",\"DREB\",\"DREB\",\"DREB\",\"DREB\",\"DREB\",\"DREB\",\"DREB\",\"DREB\",\"DREB\",\"DREB\",\"DREB\",\"DREB\",\"DREB\",\"DREB\",\"DREB\",\"DREB\",\"DREB\",\"DREB\",\"DREB\",\"DREB\",\"DREB\",\"DREB\",\"DREB\",\"DREB\",\"DREB\",\"DREB\"],\"index\":[0,1,2,3,4,5,6,7,8,9,10,11,12,13,14,15,16,17,18,19,20,21,22,23,24,25,26,27,28,29,30,31,32,33,34,35,36,37,38,39,40,41,42,43,44,45,46,47,48,49,50,51,52,53,54,55,56,57,58,59,60,61,62,63,64,65,66,67,68,69,70,71,72,73,74,75,76,77,78,79,80,81,82,83,84,85,86,87,88,89,90,91,92,93,94,95,96,97,98,99,100,101,102,103,104,105,106,107,108,109,110,111,112,113,114,115,116,117,118,119,120,121,122,123,124,125,126,127,128,129,130,131,132,133,134,135,136,137,138,139,140,141,142,143,144,145,146,147,148,149,150,151,152,153,154,155,156,157,158,159,160,161,162,163,164,165,166,167,168,169,170,171,172,173,174,175,176,177,178,179,180,181,182,183,184,185,186,187,188,189,190,191,192,193,194,195,196,197,198,199,200,201,202,203,204,205,206,207,208,209,210,211,212,213,214,215,216,217,218,219,220,221,222,223,224,225,226,227,228,229,230,231,232,233,234,235,236,237,238,239,240,241,242,243,244,245,246,247,248,249,250,251,252,253,254,255,256,257,258,259,260,261,262,263,264,265,266,267,268,269,270,271,272,273,274,275,276,277,278,279,280,281,282,283,284,285,286,287,288,289,290,291,292,293,294,295,296,297,298,299,300,301,302,303,304,305,306,307,308,309,310,311,312,313,314,315,316,317,318,319,320,321,322,323,324,325,326,327,328,329,330,331,332,333,334,335,336,337,338,339,340,341,342,343,344,345,346,347,348,349,350,351,352,353,354,355,356,357,358,359,360,361,362,363,364,365,366,367,368,369,370,371,372,373,374,375,376,377,378,379,380,381,382,383,384,385,386,387,388,389,390,391,392,393,394,395,396,397,398,399,400,401,402,403,404,405,406,407,408,409,410,411,412,413,414,415,416,417,418,419,420,421,422,423,424,425,426,427,428,429,430,431,432,433,434,435,436,437,438,439,440,441,442,443,444,445,446,447,448,449,450,451,452,453,454,455,456,457,458,459,460,461,462,463,464,465,466,467,468,469,470,471,472,473,474,475,476,477,478,479,480,481,482,483,484,485,486,487,488,489,490,491,492,493,494,495,496,497,498,499,500,501,502,503,504,505,506,507,508,509,510,511,512,513,514,515,516,517,518,519,520,521,522,523,524,525,526,527,528,529,530,531,532,533,534,535,536,537,538,539,540,541,542,543,544,545,546,547,548,549,550,551,552,553,554,555,556,557,558,559,560,561,562,563,564,565,566,567,568,569,570,571,572,573,574,575,576,577,578,579,580,581,582,583,584,585,586,587,588,589,590,591,592,593,594,595,596,597,598,599,600,601,602,603,604,605,606,607,608,609,610,611,612,613,614,615,616,617,618,619,620,621,622,623,624,625,626,627,628,629,630,631,632,633,634,635,636,637,638,639,640,641,642,643,644,645,646,647,648,649,650,651,652,653,654,655,656,657,658,659,660,661,662,663,664,665,666,667,668,669,670,671,672,673,674,675,676,677,678,679,680,681,682,683,684,685,686,687,688,689,690,691,692,693,694,695,696,697,698,699,700,701,702,703,704,705,706,707,708,709,710,711,712,713,714,715,716,717,718,719,720,721,722,723,724,725,726,727,728,729,730,731,732,733,734,735,736,737,738,739,740,741,742,743,744,745,746,747,748,749,750,751,752,753,754,755,756,757,758,759,760,761,762,763,764,765],\"value\":[121,285,425,375,310,452,425,147,87,234,252,306,271,305,178,109,287,333,101,312,192,163,121,151,211,263,362,397,304,329,71,40,174,214,336,357,271,143,414,353,208,171,379,395,181,576,426,357,419,357,137,274,211,220,271,236,246,262,110,247,34,3,131,209,239,234,205,51,141,11,156,41,197,235,312,313,289,246,382,185,67,252,199,213,229,109,177,131,264,243,98,171,174,329,319,336,345,1,271,293,221,186,182,15,2,159,113,85,199,184,32,44,197,20,45,165,57,151,174,216,133,104,231,118,251,161,215,134,182,172,180,138,210,27,199,118,141,170,90,59,149,225,211,209,288,342,303,261,217,185,402,123,338,19,209,98,65,163,156,220,176,265,281,274,310,238,368,271,260,212,249,182,37,158,116,43,159,101,59,160,92,148,161,97,115,9,91,150,96,153,36,10,75,70,55,125,165,143,176,215,44,107,286,76,29,16,45,51,43,16,59,27,128,151,94,43,40,9,49,54,51,127,103,48,151,55,207,208,251,44,13,137,219,140,189,13,171,63,234,144,98,242,157,240,171,272,292,236,285,316,256,408,331,219,336,309,5,144,156,169,75,108,198,95,93,103,173,25,160,20,205,189,45,234,206,350,139,110,111,129,126,87,213,117,17,255,359,328,357,254,287,193,169,362,104,220,324,301,353,155,215,407,301,261,187,130,16,5,1,6,250,409,288,124,412,42,87,72,47,20,77,141,190,176,251,488,478,363,533,477,162,151,313,575,523,617,579,3,251,354,344,378,60,105,165,251,149,400,405,233,99,332,135,26,61,45,71,116,215,327,136,109,252,190,315,495,354,373,435,249,319,75,266,225,237,58,121,130,87,219,171,63,115,210,114,39,0,54,93,85,40,57,116,111,94,119,159,172,218,244,316,260,210,195,169,142,140,160,300,358,282,232,209,119,51,41,92,39,54,93,1,32,24,41,135,54,131,117,128,158,86,98,138,36,139,300,70,14,9,44,132,11,18,56,85,171,37,43,80,43,166,130,139,119,137,34,24,58,86,77,67,219,175,312,203,227,344,299,302,29,32,153,86,112,198,210,127,77,204,170,122,288,631,667,803,770,848,809,549,65,614,236,149,385,297,154,451,306,36,151,294,396,389,191,69,260,35,110,14,124,276,13,21,2,2,4,8,53,107,62,14,39,53,1,0,15,16,111,197,213,222,317,283,384,438,564,348,452,376,36,277,313,309,136,445,314,35,67,79,164,174,149,38,187,92,113,108,112,54,166,81,90,98,24,52,76,2,252,142,86,202,256,165,196,132,339,177,331,32,91,123,148,117,64,124,170,177,298,29,312,209,90,178,116,87,203,165,230,368,344,384,783,829,792,816,842,525,152,677,420,310,121,60,181,150,235,265,317,270,110,223,251,209,75,39,60,312,416,354,343,266,161,60,221,11,171,182,109,36,256,274,316,469,17,116,141,163,95,14,61,23,55,78,198,260,150,127,277,206,224,117,44,161,21,29,50,209,337,427,312,123,435,268,359,219,374,389,354,117,471,12,57,165,68,62,130,134,201,170,78,248,1,1,15,62,134,74,58,40,98,49,28,57,167,132,120,252,286,401,366,65,266,331,306,144,103,51,154,14,24,16,336,216,345,365,93,11,104,141,210,168,156,238,184,211,241,170,82,2,54,138,144,73,62,79,12,2,11,25,1,6,15,22,94,47,66,176,152,130,134,54,188,189,131,114,12]},\"selected\":{\"id\":\"22595\"},\"selection_policy\":{\"id\":\"22643\"}},\"id\":\"22594\",\"type\":\"ColumnDataSource\"},{\"attributes\":{\"line_alpha\":0.1,\"line_color\":\"#9467bd\",\"line_width\":2,\"tags\":[\"apply_ranges\"],\"x\":{\"field\":\"index\"},\"y\":{\"field\":\"value\"}},\"id\":\"22652\",\"type\":\"Line\"},{\"attributes\":{\"line_alpha\":0.1,\"line_color\":\"#8b8b8b\",\"line_width\":2,\"tags\":[\"apply_ranges\"],\"x\":{\"field\":\"index\"},\"y\":{\"field\":\"value\"}},\"id\":\"22546\",\"type\":\"Line\"},{\"attributes\":{},\"id\":\"21980\",\"type\":\"AllLabels\"},{\"attributes\":{\"line_alpha\":0.1,\"line_color\":\"#30a2da\",\"line_width\":2,\"tags\":[\"apply_ranges\"],\"x\":{\"field\":\"index\"},\"y\":{\"field\":\"value\"}},\"id\":\"23018\",\"type\":\"Line\"},{\"attributes\":{},\"id\":\"21962\",\"type\":\"SaveTool\"},{\"attributes\":{\"line_color\":\"#e5ae38\",\"line_width\":2,\"tags\":[\"apply_ranges\"],\"x\":{\"field\":\"index\"},\"y\":{\"field\":\"value\"}},\"id\":\"22027\",\"type\":\"Line\"},{\"attributes\":{\"line_color\":\"#bcbd22\",\"line_width\":2,\"tags\":[\"apply_ranges\"],\"x\":{\"field\":\"index\"},\"y\":{\"field\":\"value\"}},\"id\":\"22951\",\"type\":\"Line\"},{\"attributes\":{},\"id\":\"21963\",\"type\":\"PanTool\"},{\"attributes\":{},\"id\":\"21966\",\"type\":\"ResetTool\"},{\"attributes\":{\"data\":{\"Variable\":[\"STL\",\"STL\",\"STL\",\"STL\",\"STL\",\"STL\",\"STL\",\"STL\",\"STL\",\"STL\",\"STL\",\"STL\",\"STL\",\"STL\",\"STL\",\"STL\",\"STL\",\"STL\",\"STL\",\"STL\",\"STL\",\"STL\",\"STL\",\"STL\",\"STL\",\"STL\",\"STL\",\"STL\",\"STL\",\"STL\",\"STL\",\"STL\",\"STL\",\"STL\",\"STL\",\"STL\",\"STL\",\"STL\",\"STL\",\"STL\",\"STL\",\"STL\",\"STL\",\"STL\",\"STL\",\"STL\",\"STL\",\"STL\",\"STL\",\"STL\",\"STL\",\"STL\",\"STL\",\"STL\",\"STL\",\"STL\",\"STL\",\"STL\",\"STL\",\"STL\",\"STL\",\"STL\",\"STL\",\"STL\",\"STL\",\"STL\",\"STL\",\"STL\",\"STL\",\"STL\",\"STL\",\"STL\",\"STL\",\"STL\",\"STL\",\"STL\",\"STL\",\"STL\",\"STL\",\"STL\",\"STL\",\"STL\",\"STL\",\"STL\",\"STL\",\"STL\",\"STL\",\"STL\",\"STL\",\"STL\",\"STL\",\"STL\",\"STL\",\"STL\",\"STL\",\"STL\",\"STL\",\"STL\",\"STL\",\"STL\",\"STL\",\"STL\",\"STL\",\"STL\",\"STL\",\"STL\",\"STL\",\"STL\",\"STL\",\"STL\",\"STL\",\"STL\",\"STL\",\"STL\",\"STL\",\"STL\",\"STL\",\"STL\",\"STL\",\"STL\",\"STL\",\"STL\",\"STL\",\"STL\",\"STL\",\"STL\",\"STL\",\"STL\",\"STL\",\"STL\",\"STL\",\"STL\",\"STL\",\"STL\",\"STL\",\"STL\",\"STL\",\"STL\",\"STL\",\"STL\",\"STL\",\"STL\",\"STL\",\"STL\",\"STL\",\"STL\",\"STL\",\"STL\",\"STL\",\"STL\",\"STL\",\"STL\",\"STL\",\"STL\",\"STL\",\"STL\",\"STL\",\"STL\",\"STL\",\"STL\",\"STL\",\"STL\",\"STL\",\"STL\",\"STL\",\"STL\",\"STL\",\"STL\",\"STL\",\"STL\",\"STL\",\"STL\",\"STL\",\"STL\",\"STL\",\"STL\",\"STL\",\"STL\",\"STL\",\"STL\",\"STL\",\"STL\",\"STL\",\"STL\",\"STL\",\"STL\",\"STL\",\"STL\",\"STL\",\"STL\",\"STL\",\"STL\",\"STL\",\"STL\",\"STL\",\"STL\",\"STL\",\"STL\",\"STL\",\"STL\",\"STL\",\"STL\",\"STL\",\"STL\",\"STL\",\"STL\",\"STL\",\"STL\",\"STL\",\"STL\",\"STL\",\"STL\",\"STL\",\"STL\",\"STL\",\"STL\",\"STL\",\"STL\",\"STL\",\"STL\",\"STL\",\"STL\",\"STL\",\"STL\",\"STL\",\"STL\",\"STL\",\"STL\",\"STL\",\"STL\",\"STL\",\"STL\",\"STL\",\"STL\",\"STL\",\"STL\",\"STL\",\"STL\",\"STL\",\"STL\",\"STL\",\"STL\",\"STL\",\"STL\",\"STL\",\"STL\",\"STL\",\"STL\",\"STL\",\"STL\",\"STL\",\"STL\",\"STL\",\"STL\",\"STL\",\"STL\",\"STL\",\"STL\",\"STL\",\"STL\",\"STL\",\"STL\",\"STL\",\"STL\",\"STL\",\"STL\",\"STL\",\"STL\",\"STL\",\"STL\",\"STL\",\"STL\",\"STL\",\"STL\",\"STL\",\"STL\",\"STL\",\"STL\",\"STL\",\"STL\",\"STL\",\"STL\",\"STL\",\"STL\",\"STL\",\"STL\",\"STL\",\"STL\",\"STL\",\"STL\",\"STL\",\"STL\",\"STL\",\"STL\",\"STL\",\"STL\",\"STL\",\"STL\",\"STL\",\"STL\",\"STL\",\"STL\",\"STL\",\"STL\",\"STL\",\"STL\",\"STL\",\"STL\",\"STL\",\"STL\",\"STL\",\"STL\",\"STL\",\"STL\",\"STL\",\"STL\",\"STL\",\"STL\",\"STL\",\"STL\",\"STL\",\"STL\",\"STL\",\"STL\",\"STL\",\"STL\",\"STL\",\"STL\",\"STL\",\"STL\",\"STL\",\"STL\",\"STL\",\"STL\",\"STL\",\"STL\",\"STL\",\"STL\",\"STL\",\"STL\",\"STL\",\"STL\",\"STL\",\"STL\",\"STL\",\"STL\",\"STL\",\"STL\",\"STL\",\"STL\",\"STL\",\"STL\",\"STL\",\"STL\",\"STL\",\"STL\",\"STL\",\"STL\",\"STL\",\"STL\",\"STL\",\"STL\",\"STL\",\"STL\",\"STL\",\"STL\",\"STL\",\"STL\",\"STL\",\"STL\",\"STL\",\"STL\",\"STL\",\"STL\",\"STL\",\"STL\",\"STL\",\"STL\",\"STL\",\"STL\",\"STL\",\"STL\",\"STL\",\"STL\",\"STL\",\"STL\",\"STL\",\"STL\",\"STL\",\"STL\",\"STL\",\"STL\",\"STL\",\"STL\",\"STL\",\"STL\",\"STL\",\"STL\",\"STL\",\"STL\",\"STL\",\"STL\",\"STL\",\"STL\",\"STL\",\"STL\",\"STL\",\"STL\",\"STL\",\"STL\",\"STL\",\"STL\",\"STL\",\"STL\",\"STL\",\"STL\",\"STL\",\"STL\",\"STL\",\"STL\",\"STL\",\"STL\",\"STL\",\"STL\",\"STL\",\"STL\",\"STL\",\"STL\",\"STL\",\"STL\",\"STL\",\"STL\",\"STL\",\"STL\",\"STL\",\"STL\",\"STL\",\"STL\",\"STL\",\"STL\",\"STL\",\"STL\",\"STL\",\"STL\",\"STL\",\"STL\",\"STL\",\"STL\",\"STL\",\"STL\",\"STL\",\"STL\",\"STL\",\"STL\",\"STL\",\"STL\",\"STL\",\"STL\",\"STL\",\"STL\",\"STL\",\"STL\",\"STL\",\"STL\",\"STL\",\"STL\",\"STL\",\"STL\",\"STL\",\"STL\",\"STL\",\"STL\",\"STL\",\"STL\",\"STL\",\"STL\",\"STL\",\"STL\",\"STL\",\"STL\",\"STL\",\"STL\",\"STL\",\"STL\",\"STL\",\"STL\",\"STL\",\"STL\",\"STL\",\"STL\",\"STL\",\"STL\",\"STL\",\"STL\",\"STL\",\"STL\",\"STL\",\"STL\",\"STL\",\"STL\",\"STL\",\"STL\",\"STL\",\"STL\",\"STL\",\"STL\",\"STL\",\"STL\",\"STL\",\"STL\",\"STL\",\"STL\",\"STL\",\"STL\",\"STL\",\"STL\",\"STL\",\"STL\",\"STL\",\"STL\",\"STL\",\"STL\",\"STL\",\"STL\",\"STL\",\"STL\",\"STL\",\"STL\",\"STL\",\"STL\",\"STL\",\"STL\",\"STL\",\"STL\",\"STL\",\"STL\",\"STL\",\"STL\",\"STL\",\"STL\",\"STL\",\"STL\",\"STL\",\"STL\",\"STL\",\"STL\",\"STL\",\"STL\",\"STL\",\"STL\",\"STL\",\"STL\",\"STL\",\"STL\",\"STL\",\"STL\",\"STL\",\"STL\",\"STL\",\"STL\",\"STL\",\"STL\",\"STL\",\"STL\",\"STL\",\"STL\",\"STL\",\"STL\",\"STL\",\"STL\",\"STL\",\"STL\",\"STL\",\"STL\",\"STL\",\"STL\",\"STL\",\"STL\",\"STL\",\"STL\",\"STL\",\"STL\",\"STL\",\"STL\",\"STL\",\"STL\",\"STL\",\"STL\",\"STL\",\"STL\",\"STL\",\"STL\",\"STL\",\"STL\",\"STL\",\"STL\",\"STL\",\"STL\",\"STL\",\"STL\",\"STL\",\"STL\",\"STL\",\"STL\",\"STL\",\"STL\",\"STL\",\"STL\",\"STL\",\"STL\",\"STL\",\"STL\",\"STL\",\"STL\",\"STL\",\"STL\",\"STL\",\"STL\",\"STL\",\"STL\",\"STL\",\"STL\",\"STL\",\"STL\",\"STL\",\"STL\",\"STL\",\"STL\",\"STL\",\"STL\",\"STL\",\"STL\",\"STL\",\"STL\",\"STL\",\"STL\",\"STL\",\"STL\",\"STL\",\"STL\",\"STL\",\"STL\",\"STL\",\"STL\",\"STL\",\"STL\",\"STL\",\"STL\",\"STL\",\"STL\",\"STL\",\"STL\",\"STL\",\"STL\",\"STL\",\"STL\",\"STL\",\"STL\",\"STL\",\"STL\",\"STL\",\"STL\",\"STL\",\"STL\",\"STL\",\"STL\",\"STL\",\"STL\",\"STL\",\"STL\",\"STL\",\"STL\",\"STL\",\"STL\",\"STL\",\"STL\",\"STL\",\"STL\",\"STL\",\"STL\",\"STL\",\"STL\",\"STL\",\"STL\",\"STL\",\"STL\",\"STL\",\"STL\",\"STL\",\"STL\",\"STL\",\"STL\",\"STL\",\"STL\",\"STL\",\"STL\",\"STL\",\"STL\",\"STL\",\"STL\",\"STL\",\"STL\",\"STL\",\"STL\",\"STL\",\"STL\",\"STL\",\"STL\",\"STL\",\"STL\",\"STL\",\"STL\",\"STL\",\"STL\",\"STL\",\"STL\",\"STL\",\"STL\",\"STL\",\"STL\",\"STL\",\"STL\",\"STL\",\"STL\",\"STL\",\"STL\",\"STL\",\"STL\",\"STL\",\"STL\",\"STL\",\"STL\",\"STL\",\"STL\",\"STL\",\"STL\",\"STL\",\"STL\",\"STL\",\"STL\",\"STL\",\"STL\",\"STL\",\"STL\",\"STL\",\"STL\",\"STL\",\"STL\",\"STL\",\"STL\",\"STL\",\"STL\",\"STL\",\"STL\",\"STL\",\"STL\",\"STL\",\"STL\",\"STL\",\"STL\",\"STL\",\"STL\",\"STL\",\"STL\",\"STL\",\"STL\"],\"index\":[0,1,2,3,4,5,6,7,8,9,10,11,12,13,14,15,16,17,18,19,20,21,22,23,24,25,26,27,28,29,30,31,32,33,34,35,36,37,38,39,40,41,42,43,44,45,46,47,48,49,50,51,52,53,54,55,56,57,58,59,60,61,62,63,64,65,66,67,68,69,70,71,72,73,74,75,76,77,78,79,80,81,82,83,84,85,86,87,88,89,90,91,92,93,94,95,96,97,98,99,100,101,102,103,104,105,106,107,108,109,110,111,112,113,114,115,116,117,118,119,120,121,122,123,124,125,126,127,128,129,130,131,132,133,134,135,136,137,138,139,140,141,142,143,144,145,146,147,148,149,150,151,152,153,154,155,156,157,158,159,160,161,162,163,164,165,166,167,168,169,170,171,172,173,174,175,176,177,178,179,180,181,182,183,184,185,186,187,188,189,190,191,192,193,194,195,196,197,198,199,200,201,202,203,204,205,206,207,208,209,210,211,212,213,214,215,216,217,218,219,220,221,222,223,224,225,226,227,228,229,230,231,232,233,234,235,236,237,238,239,240,241,242,243,244,245,246,247,248,249,250,251,252,253,254,255,256,257,258,259,260,261,262,263,264,265,266,267,268,269,270,271,272,273,274,275,276,277,278,279,280,281,282,283,284,285,286,287,288,289,290,291,292,293,294,295,296,297,298,299,300,301,302,303,304,305,306,307,308,309,310,311,312,313,314,315,316,317,318,319,320,321,322,323,324,325,326,327,328,329,330,331,332,333,334,335,336,337,338,339,340,341,342,343,344,345,346,347,348,349,350,351,352,353,354,355,356,357,358,359,360,361,362,363,364,365,366,367,368,369,370,371,372,373,374,375,376,377,378,379,380,381,382,383,384,385,386,387,388,389,390,391,392,393,394,395,396,397,398,399,400,401,402,403,404,405,406,407,408,409,410,411,412,413,414,415,416,417,418,419,420,421,422,423,424,425,426,427,428,429,430,431,432,433,434,435,436,437,438,439,440,441,442,443,444,445,446,447,448,449,450,451,452,453,454,455,456,457,458,459,460,461,462,463,464,465,466,467,468,469,470,471,472,473,474,475,476,477,478,479,480,481,482,483,484,485,486,487,488,489,490,491,492,493,494,495,496,497,498,499,500,501,502,503,504,505,506,507,508,509,510,511,512,513,514,515,516,517,518,519,520,521,522,523,524,525,526,527,528,529,530,531,532,533,534,535,536,537,538,539,540,541,542,543,544,545,546,547,548,549,550,551,552,553,554,555,556,557,558,559,560,561,562,563,564,565,566,567,568,569,570,571,572,573,574,575,576,577,578,579,580,581,582,583,584,585,586,587,588,589,590,591,592,593,594,595,596,597,598,599,600,601,602,603,604,605,606,607,608,609,610,611,612,613,614,615,616,617,618,619,620,621,622,623,624,625,626,627,628,629,630,631,632,633,634,635,636,637,638,639,640,641,642,643,644,645,646,647,648,649,650,651,652,653,654,655,656,657,658,659,660,661,662,663,664,665,666,667,668,669,670,671,672,673,674,675,676,677,678,679,680,681,682,683,684,685,686,687,688,689,690,691,692,693,694,695,696,697,698,699,700,701,702,703,704,705,706,707,708,709,710,711,712,713,714,715,716,717,718,719,720,721,722,723,724,725,726,727,728,729,730,731,732,733,734,735,736,737,738,739,740,741,742,743,744,745,746,747,748,749,750,751,752,753,754,755,756,757,758,759,760,761,762,763,764,765],\"value\":[26,62,73,61,64,85,65,18,20,38,85,58,66,63,48,25,73,92,22,60,54,53,52,35,36,54,59,57,86,65,13,8,24,32,41,69,47,18,65,60,34,37,71,40,11,51,53,55,47,68,49,86,74,87,60,66,55,84,16,49,7,0,30,35,38,41,46,7,34,2,27,18,45,72,63,67,52,35,43,34,13,47,34,28,42,68,77,60,104,126,30,53,58,110,108,95,73,0,62,38,52,47,42,8,3,73,55,34,56,43,12,17,90,8,20,87,31,45,46,75,26,33,54,44,90,109,144,136,174,110,89,67,92,12,94,36,70,96,44,29,73,35,64,52,44,62,53,45,40,39,79,31,60,14,92,48,21,69,60,102,73,94,121,109,158,88,85,91,82,45,67,57,4,14,11,2,13,10,9,19,18,12,20,13,13,2,29,41,49,33,10,1,48,37,19,56,122,104,17,25,5,13,37,36,10,4,14,26,20,8,28,8,36,40,33,9,9,1,10,10,18,47,24,16,40,25,52,41,54,19,3,44,68,40,40,2,27,17,44,39,28,67,43,85,48,76,86,73,81,78,85,86,70,56,68,83,8,63,59,41,27,35,69,17,18,18,37,6,25,8,39,50,12,62,31,85,38,15,18,20,32,16,48,30,5,71,111,98,118,91,95,56,57,113,28,67,95,71,100,44,46,54,35,45,25,19,6,3,0,3,64,99,53,30,83,34,51,57,32,6,10,46,46,62,17,24,33,25,37,29,13,6,19,30,35,41,20,2,97,105,127,137,24,50,74,80,35,115,101,74,29,103,38,7,9,11,8,19,50,53,50,24,68,57,91,75,78,65,86,65,71,17,69,58,54,20,37,25,19,61,49,7,21,67,20,5,0,16,21,14,31,48,95,81,59,64,66,83,128,129,149,189,153,95,70,40,37,54,91,141,99,70,57,40,19,18,37,12,18,30,0,27,10,26,68,28,59,65,55,49,53,42,51,15,48,97,19,1,1,12,26,1,1,9,11,26,3,5,8,39,97,71,122,55,76,17,11,28,59,45,15,60,51,115,54,54,84,77,78,8,27,72,46,42,88,85,58,43,101,93,92,59,101,73,119,124,114,136,97,12,109,40,23,63,56,22,78,45,8,44,105,116,116,64,18,82,15,12,4,16,68,11,1,1,1,2,2,6,27,11,2,2,4,0,0,3,3,11,80,92,62,142,115,154,139,121,126,158,125,7,46,53,56,26,82,71,3,16,13,30,31,18,4,22,9,8,18,11,4,15,10,9,21,9,7,16,0,52,36,18,49,38,29,54,43,85,53,57,8,20,28,47,28,37,77,59,94,99,19,67,54,29,67,40,23,63,11,16,41,30,48,80,81,51,51,39,33,9,42,18,17,10,2,12,12,40,34,57,62,14,38,40,27,8,3,4,34,38,38,27,27,20,3,23,1,19,20,13,4,55,40,44,74,7,32,29,44,30,3,40,13,19,32,65,80,67,54,121,87,74,36,21,57,5,14,19,49,65,68,50,19,69,49,66,33,43,61,35,11,46,7,15,55,31,9,40,30,43,44,21,65,2,0,2,21,55,46,24,18,42,37,2,5,18,13,18,31,40,57,51,4,41,45,37,30,13,7,20,2,3,1,30,23,29,58,19,3,22,64,102,96,90,76,77,78,77,76,33,1,20,54,38,38,23,20,4,1,8,13,1,1,9,11,50,35,42,69,84,57,50,26,76,49,43,43,9]},\"selected\":{\"id\":\"22763\"},\"selection_policy\":{\"id\":\"22817\"}},\"id\":\"22762\",\"type\":\"ColumnDataSource\"},{\"attributes\":{\"source\":{\"id\":\"22884\"}},\"id\":\"22891\",\"type\":\"CDSView\"},{\"attributes\":{},\"id\":\"21964\",\"type\":\"WheelZoomTool\"},{\"attributes\":{\"overlay\":{\"id\":\"21967\"}},\"id\":\"21965\",\"type\":\"BoxZoomTool\"},{\"attributes\":{\"label\":{\"value\":\"AST\"},\"renderers\":[{\"id\":\"22710\"}]},\"id\":\"22760\",\"type\":\"LegendItem\"},{\"attributes\":{\"line_alpha\":0.2,\"line_color\":\"#9467bd\",\"line_width\":2,\"tags\":[\"apply_ranges\"],\"x\":{\"field\":\"index\"},\"y\":{\"field\":\"value\"}},\"id\":\"22653\",\"type\":\"Line\"},{\"attributes\":{\"coordinates\":null,\"data_source\":{\"id\":\"23014\"},\"glyph\":{\"id\":\"23017\"},\"group\":null,\"hover_glyph\":null,\"muted_glyph\":{\"id\":\"23019\"},\"nonselection_glyph\":{\"id\":\"23018\"},\"selection_glyph\":{\"id\":\"23081\"},\"view\":{\"id\":\"23021\"}},\"id\":\"23020\",\"type\":\"GlyphRenderer\"},{\"attributes\":{\"line_color\":\"#30a2da\",\"line_width\":2,\"tags\":[\"apply_ranges\"],\"x\":{\"field\":\"index\"},\"y\":{\"field\":\"value\"}},\"id\":\"22357\",\"type\":\"Line\"},{\"attributes\":{\"line_color\":\"#d62728\",\"line_width\":2,\"tags\":[\"apply_ranges\"],\"x\":{\"field\":\"index\"},\"y\":{\"field\":\"value\"}},\"id\":\"22761\",\"type\":\"Line\"},{\"attributes\":{\"coordinates\":null,\"data_source\":{\"id\":\"21981\"},\"glyph\":{\"id\":\"21984\"},\"group\":null,\"hover_glyph\":null,\"muted_glyph\":{\"id\":\"21986\"},\"nonselection_glyph\":{\"id\":\"21985\"},\"selection_glyph\":{\"id\":\"22001\"},\"view\":{\"id\":\"21988\"}},\"id\":\"21987\",\"type\":\"GlyphRenderer\"},{\"attributes\":{\"bottom_units\":\"screen\",\"coordinates\":null,\"fill_alpha\":0.5,\"fill_color\":\"lightgrey\",\"group\":null,\"left_units\":\"screen\",\"level\":\"overlay\",\"line_alpha\":1.0,\"line_color\":\"black\",\"line_dash\":[4,4],\"line_width\":2,\"right_units\":\"screen\",\"syncable\":false,\"top_units\":\"screen\"},\"id\":\"21967\",\"type\":\"BoxAnnotation\"},{\"attributes\":{\"line_alpha\":0.1,\"line_color\":\"#bcbd22\",\"line_width\":2,\"tags\":[\"apply_ranges\"],\"x\":{\"field\":\"index\"},\"y\":{\"field\":\"value\"}},\"id\":\"22952\",\"type\":\"Line\"},{\"attributes\":{\"data\":{\"Variable\":[\"PLAYER_AGE\",\"PLAYER_AGE\",\"PLAYER_AGE\",\"PLAYER_AGE\",\"PLAYER_AGE\",\"PLAYER_AGE\",\"PLAYER_AGE\",\"PLAYER_AGE\",\"PLAYER_AGE\",\"PLAYER_AGE\",\"PLAYER_AGE\",\"PLAYER_AGE\",\"PLAYER_AGE\",\"PLAYER_AGE\",\"PLAYER_AGE\",\"PLAYER_AGE\",\"PLAYER_AGE\",\"PLAYER_AGE\",\"PLAYER_AGE\",\"PLAYER_AGE\",\"PLAYER_AGE\",\"PLAYER_AGE\",\"PLAYER_AGE\",\"PLAYER_AGE\",\"PLAYER_AGE\",\"PLAYER_AGE\",\"PLAYER_AGE\",\"PLAYER_AGE\",\"PLAYER_AGE\",\"PLAYER_AGE\",\"PLAYER_AGE\",\"PLAYER_AGE\",\"PLAYER_AGE\",\"PLAYER_AGE\",\"PLAYER_AGE\",\"PLAYER_AGE\",\"PLAYER_AGE\",\"PLAYER_AGE\",\"PLAYER_AGE\",\"PLAYER_AGE\",\"PLAYER_AGE\",\"PLAYER_AGE\",\"PLAYER_AGE\",\"PLAYER_AGE\",\"PLAYER_AGE\",\"PLAYER_AGE\",\"PLAYER_AGE\",\"PLAYER_AGE\",\"PLAYER_AGE\",\"PLAYER_AGE\",\"PLAYER_AGE\",\"PLAYER_AGE\",\"PLAYER_AGE\",\"PLAYER_AGE\",\"PLAYER_AGE\",\"PLAYER_AGE\",\"PLAYER_AGE\",\"PLAYER_AGE\",\"PLAYER_AGE\",\"PLAYER_AGE\",\"PLAYER_AGE\",\"PLAYER_AGE\",\"PLAYER_AGE\",\"PLAYER_AGE\",\"PLAYER_AGE\",\"PLAYER_AGE\",\"PLAYER_AGE\",\"PLAYER_AGE\",\"PLAYER_AGE\",\"PLAYER_AGE\",\"PLAYER_AGE\",\"PLAYER_AGE\",\"PLAYER_AGE\",\"PLAYER_AGE\",\"PLAYER_AGE\",\"PLAYER_AGE\",\"PLAYER_AGE\",\"PLAYER_AGE\",\"PLAYER_AGE\",\"PLAYER_AGE\",\"PLAYER_AGE\",\"PLAYER_AGE\",\"PLAYER_AGE\",\"PLAYER_AGE\",\"PLAYER_AGE\",\"PLAYER_AGE\",\"PLAYER_AGE\",\"PLAYER_AGE\",\"PLAYER_AGE\",\"PLAYER_AGE\",\"PLAYER_AGE\",\"PLAYER_AGE\",\"PLAYER_AGE\",\"PLAYER_AGE\",\"PLAYER_AGE\",\"PLAYER_AGE\",\"PLAYER_AGE\",\"PLAYER_AGE\",\"PLAYER_AGE\",\"PLAYER_AGE\",\"PLAYER_AGE\",\"PLAYER_AGE\",\"PLAYER_AGE\",\"PLAYER_AGE\",\"PLAYER_AGE\",\"PLAYER_AGE\",\"PLAYER_AGE\",\"PLAYER_AGE\",\"PLAYER_AGE\",\"PLAYER_AGE\",\"PLAYER_AGE\",\"PLAYER_AGE\",\"PLAYER_AGE\",\"PLAYER_AGE\",\"PLAYER_AGE\",\"PLAYER_AGE\",\"PLAYER_AGE\",\"PLAYER_AGE\",\"PLAYER_AGE\",\"PLAYER_AGE\",\"PLAYER_AGE\",\"PLAYER_AGE\",\"PLAYER_AGE\",\"PLAYER_AGE\",\"PLAYER_AGE\",\"PLAYER_AGE\",\"PLAYER_AGE\",\"PLAYER_AGE\",\"PLAYER_AGE\",\"PLAYER_AGE\",\"PLAYER_AGE\",\"PLAYER_AGE\",\"PLAYER_AGE\",\"PLAYER_AGE\",\"PLAYER_AGE\",\"PLAYER_AGE\",\"PLAYER_AGE\",\"PLAYER_AGE\",\"PLAYER_AGE\",\"PLAYER_AGE\",\"PLAYER_AGE\",\"PLAYER_AGE\",\"PLAYER_AGE\",\"PLAYER_AGE\",\"PLAYER_AGE\",\"PLAYER_AGE\",\"PLAYER_AGE\",\"PLAYER_AGE\",\"PLAYER_AGE\",\"PLAYER_AGE\",\"PLAYER_AGE\",\"PLAYER_AGE\",\"PLAYER_AGE\",\"PLAYER_AGE\",\"PLAYER_AGE\",\"PLAYER_AGE\",\"PLAYER_AGE\",\"PLAYER_AGE\",\"PLAYER_AGE\",\"PLAYER_AGE\",\"PLAYER_AGE\",\"PLAYER_AGE\",\"PLAYER_AGE\",\"PLAYER_AGE\",\"PLAYER_AGE\",\"PLAYER_AGE\",\"PLAYER_AGE\",\"PLAYER_AGE\",\"PLAYER_AGE\",\"PLAYER_AGE\",\"PLAYER_AGE\",\"PLAYER_AGE\",\"PLAYER_AGE\",\"PLAYER_AGE\",\"PLAYER_AGE\",\"PLAYER_AGE\",\"PLAYER_AGE\",\"PLAYER_AGE\",\"PLAYER_AGE\",\"PLAYER_AGE\",\"PLAYER_AGE\",\"PLAYER_AGE\",\"PLAYER_AGE\",\"PLAYER_AGE\",\"PLAYER_AGE\",\"PLAYER_AGE\",\"PLAYER_AGE\",\"PLAYER_AGE\",\"PLAYER_AGE\",\"PLAYER_AGE\",\"PLAYER_AGE\",\"PLAYER_AGE\",\"PLAYER_AGE\",\"PLAYER_AGE\",\"PLAYER_AGE\",\"PLAYER_AGE\",\"PLAYER_AGE\",\"PLAYER_AGE\",\"PLAYER_AGE\",\"PLAYER_AGE\",\"PLAYER_AGE\",\"PLAYER_AGE\",\"PLAYER_AGE\",\"PLAYER_AGE\",\"PLAYER_AGE\",\"PLAYER_AGE\",\"PLAYER_AGE\",\"PLAYER_AGE\",\"PLAYER_AGE\",\"PLAYER_AGE\",\"PLAYER_AGE\",\"PLAYER_AGE\",\"PLAYER_AGE\",\"PLAYER_AGE\",\"PLAYER_AGE\",\"PLAYER_AGE\",\"PLAYER_AGE\",\"PLAYER_AGE\",\"PLAYER_AGE\",\"PLAYER_AGE\",\"PLAYER_AGE\",\"PLAYER_AGE\",\"PLAYER_AGE\",\"PLAYER_AGE\",\"PLAYER_AGE\",\"PLAYER_AGE\",\"PLAYER_AGE\",\"PLAYER_AGE\",\"PLAYER_AGE\",\"PLAYER_AGE\",\"PLAYER_AGE\",\"PLAYER_AGE\",\"PLAYER_AGE\",\"PLAYER_AGE\",\"PLAYER_AGE\",\"PLAYER_AGE\",\"PLAYER_AGE\",\"PLAYER_AGE\",\"PLAYER_AGE\",\"PLAYER_AGE\",\"PLAYER_AGE\",\"PLAYER_AGE\",\"PLAYER_AGE\",\"PLAYER_AGE\",\"PLAYER_AGE\",\"PLAYER_AGE\",\"PLAYER_AGE\",\"PLAYER_AGE\",\"PLAYER_AGE\",\"PLAYER_AGE\",\"PLAYER_AGE\",\"PLAYER_AGE\",\"PLAYER_AGE\",\"PLAYER_AGE\",\"PLAYER_AGE\",\"PLAYER_AGE\",\"PLAYER_AGE\",\"PLAYER_AGE\",\"PLAYER_AGE\",\"PLAYER_AGE\",\"PLAYER_AGE\",\"PLAYER_AGE\",\"PLAYER_AGE\",\"PLAYER_AGE\",\"PLAYER_AGE\",\"PLAYER_AGE\",\"PLAYER_AGE\",\"PLAYER_AGE\",\"PLAYER_AGE\",\"PLAYER_AGE\",\"PLAYER_AGE\",\"PLAYER_AGE\",\"PLAYER_AGE\",\"PLAYER_AGE\",\"PLAYER_AGE\",\"PLAYER_AGE\",\"PLAYER_AGE\",\"PLAYER_AGE\",\"PLAYER_AGE\",\"PLAYER_AGE\",\"PLAYER_AGE\",\"PLAYER_AGE\",\"PLAYER_AGE\",\"PLAYER_AGE\",\"PLAYER_AGE\",\"PLAYER_AGE\",\"PLAYER_AGE\",\"PLAYER_AGE\",\"PLAYER_AGE\",\"PLAYER_AGE\",\"PLAYER_AGE\",\"PLAYER_AGE\",\"PLAYER_AGE\",\"PLAYER_AGE\",\"PLAYER_AGE\",\"PLAYER_AGE\",\"PLAYER_AGE\",\"PLAYER_AGE\",\"PLAYER_AGE\",\"PLAYER_AGE\",\"PLAYER_AGE\",\"PLAYER_AGE\",\"PLAYER_AGE\",\"PLAYER_AGE\",\"PLAYER_AGE\",\"PLAYER_AGE\",\"PLAYER_AGE\",\"PLAYER_AGE\",\"PLAYER_AGE\",\"PLAYER_AGE\",\"PLAYER_AGE\",\"PLAYER_AGE\",\"PLAYER_AGE\",\"PLAYER_AGE\",\"PLAYER_AGE\",\"PLAYER_AGE\",\"PLAYER_AGE\",\"PLAYER_AGE\",\"PLAYER_AGE\",\"PLAYER_AGE\",\"PLAYER_AGE\",\"PLAYER_AGE\",\"PLAYER_AGE\",\"PLAYER_AGE\",\"PLAYER_AGE\",\"PLAYER_AGE\",\"PLAYER_AGE\",\"PLAYER_AGE\",\"PLAYER_AGE\",\"PLAYER_AGE\",\"PLAYER_AGE\",\"PLAYER_AGE\",\"PLAYER_AGE\",\"PLAYER_AGE\",\"PLAYER_AGE\",\"PLAYER_AGE\",\"PLAYER_AGE\",\"PLAYER_AGE\",\"PLAYER_AGE\",\"PLAYER_AGE\",\"PLAYER_AGE\",\"PLAYER_AGE\",\"PLAYER_AGE\",\"PLAYER_AGE\",\"PLAYER_AGE\",\"PLAYER_AGE\",\"PLAYER_AGE\",\"PLAYER_AGE\",\"PLAYER_AGE\",\"PLAYER_AGE\",\"PLAYER_AGE\",\"PLAYER_AGE\",\"PLAYER_AGE\",\"PLAYER_AGE\",\"PLAYER_AGE\",\"PLAYER_AGE\",\"PLAYER_AGE\",\"PLAYER_AGE\",\"PLAYER_AGE\",\"PLAYER_AGE\",\"PLAYER_AGE\",\"PLAYER_AGE\",\"PLAYER_AGE\",\"PLAYER_AGE\",\"PLAYER_AGE\",\"PLAYER_AGE\",\"PLAYER_AGE\",\"PLAYER_AGE\",\"PLAYER_AGE\",\"PLAYER_AGE\",\"PLAYER_AGE\",\"PLAYER_AGE\",\"PLAYER_AGE\",\"PLAYER_AGE\",\"PLAYER_AGE\",\"PLAYER_AGE\",\"PLAYER_AGE\",\"PLAYER_AGE\",\"PLAYER_AGE\",\"PLAYER_AGE\",\"PLAYER_AGE\",\"PLAYER_AGE\",\"PLAYER_AGE\",\"PLAYER_AGE\",\"PLAYER_AGE\",\"PLAYER_AGE\",\"PLAYER_AGE\",\"PLAYER_AGE\",\"PLAYER_AGE\",\"PLAYER_AGE\",\"PLAYER_AGE\",\"PLAYER_AGE\",\"PLAYER_AGE\",\"PLAYER_AGE\",\"PLAYER_AGE\",\"PLAYER_AGE\",\"PLAYER_AGE\",\"PLAYER_AGE\",\"PLAYER_AGE\",\"PLAYER_AGE\",\"PLAYER_AGE\",\"PLAYER_AGE\",\"PLAYER_AGE\",\"PLAYER_AGE\",\"PLAYER_AGE\",\"PLAYER_AGE\",\"PLAYER_AGE\",\"PLAYER_AGE\",\"PLAYER_AGE\",\"PLAYER_AGE\",\"PLAYER_AGE\",\"PLAYER_AGE\",\"PLAYER_AGE\",\"PLAYER_AGE\",\"PLAYER_AGE\",\"PLAYER_AGE\",\"PLAYER_AGE\",\"PLAYER_AGE\",\"PLAYER_AGE\",\"PLAYER_AGE\",\"PLAYER_AGE\",\"PLAYER_AGE\",\"PLAYER_AGE\",\"PLAYER_AGE\",\"PLAYER_AGE\",\"PLAYER_AGE\",\"PLAYER_AGE\",\"PLAYER_AGE\",\"PLAYER_AGE\",\"PLAYER_AGE\",\"PLAYER_AGE\",\"PLAYER_AGE\",\"PLAYER_AGE\",\"PLAYER_AGE\",\"PLAYER_AGE\",\"PLAYER_AGE\",\"PLAYER_AGE\",\"PLAYER_AGE\",\"PLAYER_AGE\",\"PLAYER_AGE\",\"PLAYER_AGE\",\"PLAYER_AGE\",\"PLAYER_AGE\",\"PLAYER_AGE\",\"PLAYER_AGE\",\"PLAYER_AGE\",\"PLAYER_AGE\",\"PLAYER_AGE\",\"PLAYER_AGE\",\"PLAYER_AGE\",\"PLAYER_AGE\",\"PLAYER_AGE\",\"PLAYER_AGE\",\"PLAYER_AGE\",\"PLAYER_AGE\",\"PLAYER_AGE\",\"PLAYER_AGE\",\"PLAYER_AGE\",\"PLAYER_AGE\",\"PLAYER_AGE\",\"PLAYER_AGE\",\"PLAYER_AGE\",\"PLAYER_AGE\",\"PLAYER_AGE\",\"PLAYER_AGE\",\"PLAYER_AGE\",\"PLAYER_AGE\",\"PLAYER_AGE\",\"PLAYER_AGE\",\"PLAYER_AGE\",\"PLAYER_AGE\",\"PLAYER_AGE\",\"PLAYER_AGE\",\"PLAYER_AGE\",\"PLAYER_AGE\",\"PLAYER_AGE\",\"PLAYER_AGE\",\"PLAYER_AGE\",\"PLAYER_AGE\",\"PLAYER_AGE\",\"PLAYER_AGE\",\"PLAYER_AGE\",\"PLAYER_AGE\",\"PLAYER_AGE\",\"PLAYER_AGE\",\"PLAYER_AGE\",\"PLAYER_AGE\",\"PLAYER_AGE\",\"PLAYER_AGE\",\"PLAYER_AGE\",\"PLAYER_AGE\",\"PLAYER_AGE\",\"PLAYER_AGE\",\"PLAYER_AGE\",\"PLAYER_AGE\",\"PLAYER_AGE\",\"PLAYER_AGE\",\"PLAYER_AGE\",\"PLAYER_AGE\",\"PLAYER_AGE\",\"PLAYER_AGE\",\"PLAYER_AGE\",\"PLAYER_AGE\",\"PLAYER_AGE\",\"PLAYER_AGE\",\"PLAYER_AGE\",\"PLAYER_AGE\",\"PLAYER_AGE\",\"PLAYER_AGE\",\"PLAYER_AGE\",\"PLAYER_AGE\",\"PLAYER_AGE\",\"PLAYER_AGE\",\"PLAYER_AGE\",\"PLAYER_AGE\",\"PLAYER_AGE\",\"PLAYER_AGE\",\"PLAYER_AGE\",\"PLAYER_AGE\",\"PLAYER_AGE\",\"PLAYER_AGE\",\"PLAYER_AGE\",\"PLAYER_AGE\",\"PLAYER_AGE\",\"PLAYER_AGE\",\"PLAYER_AGE\",\"PLAYER_AGE\",\"PLAYER_AGE\",\"PLAYER_AGE\",\"PLAYER_AGE\",\"PLAYER_AGE\",\"PLAYER_AGE\",\"PLAYER_AGE\",\"PLAYER_AGE\",\"PLAYER_AGE\",\"PLAYER_AGE\",\"PLAYER_AGE\",\"PLAYER_AGE\",\"PLAYER_AGE\",\"PLAYER_AGE\",\"PLAYER_AGE\",\"PLAYER_AGE\",\"PLAYER_AGE\",\"PLAYER_AGE\",\"PLAYER_AGE\",\"PLAYER_AGE\",\"PLAYER_AGE\",\"PLAYER_AGE\",\"PLAYER_AGE\",\"PLAYER_AGE\",\"PLAYER_AGE\",\"PLAYER_AGE\",\"PLAYER_AGE\",\"PLAYER_AGE\",\"PLAYER_AGE\",\"PLAYER_AGE\",\"PLAYER_AGE\",\"PLAYER_AGE\",\"PLAYER_AGE\",\"PLAYER_AGE\",\"PLAYER_AGE\",\"PLAYER_AGE\",\"PLAYER_AGE\",\"PLAYER_AGE\",\"PLAYER_AGE\",\"PLAYER_AGE\",\"PLAYER_AGE\",\"PLAYER_AGE\",\"PLAYER_AGE\",\"PLAYER_AGE\",\"PLAYER_AGE\",\"PLAYER_AGE\",\"PLAYER_AGE\",\"PLAYER_AGE\",\"PLAYER_AGE\",\"PLAYER_AGE\",\"PLAYER_AGE\",\"PLAYER_AGE\",\"PLAYER_AGE\",\"PLAYER_AGE\",\"PLAYER_AGE\",\"PLAYER_AGE\",\"PLAYER_AGE\",\"PLAYER_AGE\",\"PLAYER_AGE\",\"PLAYER_AGE\",\"PLAYER_AGE\",\"PLAYER_AGE\",\"PLAYER_AGE\",\"PLAYER_AGE\",\"PLAYER_AGE\",\"PLAYER_AGE\",\"PLAYER_AGE\",\"PLAYER_AGE\",\"PLAYER_AGE\",\"PLAYER_AGE\",\"PLAYER_AGE\",\"PLAYER_AGE\",\"PLAYER_AGE\",\"PLAYER_AGE\",\"PLAYER_AGE\",\"PLAYER_AGE\",\"PLAYER_AGE\",\"PLAYER_AGE\",\"PLAYER_AGE\",\"PLAYER_AGE\",\"PLAYER_AGE\",\"PLAYER_AGE\",\"PLAYER_AGE\",\"PLAYER_AGE\",\"PLAYER_AGE\",\"PLAYER_AGE\",\"PLAYER_AGE\",\"PLAYER_AGE\",\"PLAYER_AGE\",\"PLAYER_AGE\",\"PLAYER_AGE\",\"PLAYER_AGE\",\"PLAYER_AGE\",\"PLAYER_AGE\",\"PLAYER_AGE\",\"PLAYER_AGE\",\"PLAYER_AGE\",\"PLAYER_AGE\",\"PLAYER_AGE\",\"PLAYER_AGE\",\"PLAYER_AGE\",\"PLAYER_AGE\",\"PLAYER_AGE\",\"PLAYER_AGE\",\"PLAYER_AGE\",\"PLAYER_AGE\",\"PLAYER_AGE\",\"PLAYER_AGE\",\"PLAYER_AGE\",\"PLAYER_AGE\",\"PLAYER_AGE\",\"PLAYER_AGE\",\"PLAYER_AGE\",\"PLAYER_AGE\",\"PLAYER_AGE\",\"PLAYER_AGE\",\"PLAYER_AGE\",\"PLAYER_AGE\",\"PLAYER_AGE\",\"PLAYER_AGE\",\"PLAYER_AGE\",\"PLAYER_AGE\",\"PLAYER_AGE\",\"PLAYER_AGE\",\"PLAYER_AGE\",\"PLAYER_AGE\",\"PLAYER_AGE\",\"PLAYER_AGE\",\"PLAYER_AGE\",\"PLAYER_AGE\",\"PLAYER_AGE\",\"PLAYER_AGE\",\"PLAYER_AGE\",\"PLAYER_AGE\",\"PLAYER_AGE\",\"PLAYER_AGE\",\"PLAYER_AGE\",\"PLAYER_AGE\",\"PLAYER_AGE\",\"PLAYER_AGE\",\"PLAYER_AGE\",\"PLAYER_AGE\",\"PLAYER_AGE\",\"PLAYER_AGE\",\"PLAYER_AGE\",\"PLAYER_AGE\",\"PLAYER_AGE\",\"PLAYER_AGE\",\"PLAYER_AGE\",\"PLAYER_AGE\",\"PLAYER_AGE\",\"PLAYER_AGE\",\"PLAYER_AGE\",\"PLAYER_AGE\",\"PLAYER_AGE\",\"PLAYER_AGE\",\"PLAYER_AGE\",\"PLAYER_AGE\",\"PLAYER_AGE\",\"PLAYER_AGE\",\"PLAYER_AGE\",\"PLAYER_AGE\",\"PLAYER_AGE\",\"PLAYER_AGE\",\"PLAYER_AGE\",\"PLAYER_AGE\",\"PLAYER_AGE\",\"PLAYER_AGE\",\"PLAYER_AGE\",\"PLAYER_AGE\",\"PLAYER_AGE\",\"PLAYER_AGE\",\"PLAYER_AGE\",\"PLAYER_AGE\",\"PLAYER_AGE\",\"PLAYER_AGE\",\"PLAYER_AGE\",\"PLAYER_AGE\",\"PLAYER_AGE\",\"PLAYER_AGE\",\"PLAYER_AGE\",\"PLAYER_AGE\",\"PLAYER_AGE\",\"PLAYER_AGE\",\"PLAYER_AGE\",\"PLAYER_AGE\",\"PLAYER_AGE\",\"PLAYER_AGE\",\"PLAYER_AGE\",\"PLAYER_AGE\",\"PLAYER_AGE\",\"PLAYER_AGE\",\"PLAYER_AGE\",\"PLAYER_AGE\",\"PLAYER_AGE\",\"PLAYER_AGE\",\"PLAYER_AGE\",\"PLAYER_AGE\",\"PLAYER_AGE\",\"PLAYER_AGE\",\"PLAYER_AGE\",\"PLAYER_AGE\",\"PLAYER_AGE\",\"PLAYER_AGE\",\"PLAYER_AGE\",\"PLAYER_AGE\",\"PLAYER_AGE\",\"PLAYER_AGE\",\"PLAYER_AGE\",\"PLAYER_AGE\",\"PLAYER_AGE\",\"PLAYER_AGE\",\"PLAYER_AGE\",\"PLAYER_AGE\",\"PLAYER_AGE\",\"PLAYER_AGE\",\"PLAYER_AGE\",\"PLAYER_AGE\",\"PLAYER_AGE\",\"PLAYER_AGE\",\"PLAYER_AGE\",\"PLAYER_AGE\",\"PLAYER_AGE\",\"PLAYER_AGE\",\"PLAYER_AGE\",\"PLAYER_AGE\",\"PLAYER_AGE\",\"PLAYER_AGE\",\"PLAYER_AGE\",\"PLAYER_AGE\",\"PLAYER_AGE\",\"PLAYER_AGE\",\"PLAYER_AGE\",\"PLAYER_AGE\",\"PLAYER_AGE\",\"PLAYER_AGE\",\"PLAYER_AGE\",\"PLAYER_AGE\",\"PLAYER_AGE\",\"PLAYER_AGE\"],\"index\":[0,1,2,3,4,5,6,7,8,9,10,11,12,13,14,15,16,17,18,19,20,21,22,23,24,25,26,27,28,29,30,31,32,33,34,35,36,37,38,39,40,41,42,43,44,45,46,47,48,49,50,51,52,53,54,55,56,57,58,59,60,61,62,63,64,65,66,67,68,69,70,71,72,73,74,75,76,77,78,79,80,81,82,83,84,85,86,87,88,89,90,91,92,93,94,95,96,97,98,99,100,101,102,103,104,105,106,107,108,109,110,111,112,113,114,115,116,117,118,119,120,121,122,123,124,125,126,127,128,129,130,131,132,133,134,135,136,137,138,139,140,141,142,143,144,145,146,147,148,149,150,151,152,153,154,155,156,157,158,159,160,161,162,163,164,165,166,167,168,169,170,171,172,173,174,175,176,177,178,179,180,181,182,183,184,185,186,187,188,189,190,191,192,193,194,195,196,197,198,199,200,201,202,203,204,205,206,207,208,209,210,211,212,213,214,215,216,217,218,219,220,221,222,223,224,225,226,227,228,229,230,231,232,233,234,235,236,237,238,239,240,241,242,243,244,245,246,247,248,249,250,251,252,253,254,255,256,257,258,259,260,261,262,263,264,265,266,267,268,269,270,271,272,273,274,275,276,277,278,279,280,281,282,283,284,285,286,287,288,289,290,291,292,293,294,295,296,297,298,299,300,301,302,303,304,305,306,307,308,309,310,311,312,313,314,315,316,317,318,319,320,321,322,323,324,325,326,327,328,329,330,331,332,333,334,335,336,337,338,339,340,341,342,343,344,345,346,347,348,349,350,351,352,353,354,355,356,357,358,359,360,361,362,363,364,365,366,367,368,369,370,371,372,373,374,375,376,377,378,379,380,381,382,383,384,385,386,387,388,389,390,391,392,393,394,395,396,397,398,399,400,401,402,403,404,405,406,407,408,409,410,411,412,413,414,415,416,417,418,419,420,421,422,423,424,425,426,427,428,429,430,431,432,433,434,435,436,437,438,439,440,441,442,443,444,445,446,447,448,449,450,451,452,453,454,455,456,457,458,459,460,461,462,463,464,465,466,467,468,469,470,471,472,473,474,475,476,477,478,479,480,481,482,483,484,485,486,487,488,489,490,491,492,493,494,495,496,497,498,499,500,501,502,503,504,505,506,507,508,509,510,511,512,513,514,515,516,517,518,519,520,521,522,523,524,525,526,527,528,529,530,531,532,533,534,535,536,537,538,539,540,541,542,543,544,545,546,547,548,549,550,551,552,553,554,555,556,557,558,559,560,561,562,563,564,565,566,567,568,569,570,571,572,573,574,575,576,577,578,579,580,581,582,583,584,585,586,587,588,589,590,591,592,593,594,595,596,597,598,599,600,601,602,603,604,605,606,607,608,609,610,611,612,613,614,615,616,617,618,619,620,621,622,623,624,625,626,627,628,629,630,631,632,633,634,635,636,637,638,639,640,641,642,643,644,645,646,647,648,649,650,651,652,653,654,655,656,657,658,659,660,661,662,663,664,665,666,667,668,669,670,671,672,673,674,675,676,677,678,679,680,681,682,683,684,685,686,687,688,689,690,691,692,693,694,695,696,697,698,699,700,701,702,703,704,705,706,707,708,709,710,711,712,713,714,715,716,717,718,719,720,721,722,723,724,725,726,727,728,729,730,731,732,733,734,735,736,737,738,739,740,741,742,743,744,745,746,747,748,749,750,751,752,753,754,755,756,757,758,759,760,761,762,763,764,765],\"value\":[23,24,25,26,27,28,29,24,24,24,25,26,27,28,29,29,29,30,23,24,25,26,27,28,25,26,27,28,29,30,19,20,20,20,21,22,23,23,23,24,25,25,25,26,26,26,27,28,29,30,22,23,24,25,26,27,28,29,32,33,23,24,25,26,27,28,29,30,31,22,23,23,23,24,25,26,27,28,29,30,30,30,31,32,33,21,22,23,24,25,21,22,23,24,25,26,27,28,29,30,31,32,33,22,23,24,25,26,27,28,20,21,22,23,24,25,21,22,23,24,23,24,25,20,21,22,23,24,25,26,27,28,29,30,31,32,33,34,35,35,35,23,24,25,26,27,28,29,30,30,30,31,32,21,22,23,23,23,24,25,26,27,28,29,30,31,32,33,34,35,36,37,23,24,25,25,25,26,26,26,27,28,29,30,31,20,21,22,23,24,25,20,21,22,22,22,23,24,20,21,22,24,25,21,22,22,22,23,24,24,24,25,26,27,28,23,24,24,24,25,26,27,28,28,28,29,30,31,32,22,23,24,25,26,27,28,29,29,29,30,30,30,20,21,22,23,24,25,26,27,28,29,30,31,32,33,19,20,21,22,20,21,22,23,24,25,26,27,27,27,27,28,28,28,29,30,31,25,26,27,28,28,28,29,30,20,21,22,23,24,25,26,26,26,27,27,27,28,29,30,31,32,33,34,35,36,20,21,21,21,22,23,24,24,24,24,25,26,27,23,24,25,26,27,21,22,23,24,25,26,27,27,27,28,29,30,31,23,24,25,26,27,28,28,28,29,29,29,30,31,31,31,32,21,22,23,23,23,24,25,20,21,22,23,24,25,26,27,28,29,30,31,32,33,34,20,21,22,23,24,25,25,26,27,28,29,29,29,29,30,20,21,22,23,24,25,26,27,21,22,23,24,25,26,27,28,29,29,29,30,31,32,33,34,35,35,35,36,36,36,21,22,23,24,25,26,27,28,29,30,31,32,33,34,22,23,24,22,23,24,25,26,26,26,26,27,28,28,28,20,21,22,23,24,25,26,26,26,27,28,21,22,23,24,25,26,27,28,29,24,25,26,27,27,27,28,29,29,29,30,31,19,20,21,22,23,24,25,26,26,26,27,27,27,28,28,28,29,21,22,23,24,25,26,26,26,27,28,28,28,29,30,20,21,21,21,22,22,23,24,25,25,25,26,26,26,26,27,20,21,22,23,24,25,26,27,28,29,30,31,31,31,32,32,32,33,22,23,24,25,26,27,27,27,28,29,30,31,31,31,20,21,22,23,23,23,22,23,24,25,20,21,22,23,23,24,25,26,27,27,27,28,29,24,25,26,27,28,29,30,31,32,33,34,34,34,20,21,22,23,24,25,26,27,28,29,30,30,30,31,32,33,33,33,34,21,22,23,24,25,26,27,28,29,30,21,22,23,24,25,26,27,27,27,28,28,28,29,30,21,22,23,24,20,21,22,23,24,24,26,27,27,27,28,29,30,30,30,31,32,33,33,33,34,34,34,24,25,26,27,27,27,28,29,30,31,32,33,33,33,20,21,22,23,23,23,24,25,26,26,26,21,22,23,22,23,24,25,25,25,26,22,23,24,25,25,25,26,23,24,25,25,25,26,27,29,29,29,20,21,22,23,20,21,22,23,23,23,23,24,25,26,27,28,29,30,31,32,32,32,32,33,34,35,36,24,24,24,24,25,25,25,25,27,28,29,30,31,32,33,33,33,34,35,36,37]},\"selected\":{\"id\":\"22049\"},\"selection_policy\":{\"id\":\"22069\"}},\"id\":\"22048\",\"type\":\"ColumnDataSource\"},{\"attributes\":{\"active_drag\":{\"id\":\"21963\"},\"active_scroll\":{\"id\":\"21964\"},\"tools\":[{\"id\":\"21919\"},{\"id\":\"21962\"},{\"id\":\"21963\"},{\"id\":\"21964\"},{\"id\":\"21965\"},{\"id\":\"21966\"}]},\"id\":\"21968\",\"type\":\"Toolbar\"},{\"attributes\":{\"line_color\":\"#d62728\",\"line_width\":2,\"tags\":[\"apply_ranges\"],\"x\":{\"field\":\"index\"},\"y\":{\"field\":\"value\"}},\"id\":\"22707\",\"type\":\"Line\"},{\"attributes\":{\"label\":{\"value\":\"DREB\"},\"renderers\":[{\"id\":\"22600\"}]},\"id\":\"22646\",\"type\":\"LegendItem\"},{\"attributes\":{\"line_alpha\":0.2,\"line_color\":\"#6d904f\",\"line_width\":2,\"tags\":[\"apply_ranges\"],\"x\":{\"field\":\"index\"},\"y\":{\"field\":\"value\"}},\"id\":\"22053\",\"type\":\"Line\"},{\"attributes\":{\"line_alpha\":0.1,\"line_color\":\"#8c564b\",\"line_width\":2,\"tags\":[\"apply_ranges\"],\"x\":{\"field\":\"index\"},\"y\":{\"field\":\"value\"}},\"id\":\"22888\",\"type\":\"Line\"},{\"attributes\":{\"line_color\":\"#17becf\",\"line_width\":2,\"tags\":[\"apply_ranges\"],\"x\":{\"field\":\"index\"},\"y\":{\"field\":\"value\"}},\"id\":\"22105\",\"type\":\"Line\"},{\"attributes\":{},\"id\":\"22069\",\"type\":\"UnionRenderers\"},{\"attributes\":{\"line_alpha\":0.1,\"line_color\":\"#d62728\",\"line_width\":2,\"tags\":[\"apply_ranges\"],\"x\":{\"field\":\"index\"},\"y\":{\"field\":\"value\"}},\"id\":\"22708\",\"type\":\"Line\"},{\"attributes\":{},\"id\":\"22445\",\"type\":\"Selection\"},{\"attributes\":{\"line_color\":\"#17becf\",\"line_width\":2,\"tags\":[\"apply_ranges\"],\"x\":{\"field\":\"index\"},\"y\":{\"field\":\"value\"}},\"id\":\"22647\",\"type\":\"Line\"},{\"attributes\":{\"label\":{\"value\":\"PLAYER_AGE\"},\"renderers\":[{\"id\":\"22054\"}]},\"id\":\"22072\",\"type\":\"LegendItem\"},{\"attributes\":{},\"id\":\"22049\",\"type\":\"Selection\"},{\"attributes\":{\"source\":{\"id\":\"22132\"}},\"id\":\"22139\",\"type\":\"CDSView\"},{\"attributes\":{\"data\":{\"Variable\":[\"GP\",\"GP\",\"GP\",\"GP\",\"GP\",\"GP\",\"GP\",\"GP\",\"GP\",\"GP\",\"GP\",\"GP\",\"GP\",\"GP\",\"GP\",\"GP\",\"GP\",\"GP\",\"GP\",\"GP\",\"GP\",\"GP\",\"GP\",\"GP\",\"GP\",\"GP\",\"GP\",\"GP\",\"GP\",\"GP\",\"GP\",\"GP\",\"GP\",\"GP\",\"GP\",\"GP\",\"GP\",\"GP\",\"GP\",\"GP\",\"GP\",\"GP\",\"GP\",\"GP\",\"GP\",\"GP\",\"GP\",\"GP\",\"GP\",\"GP\",\"GP\",\"GP\",\"GP\",\"GP\",\"GP\",\"GP\",\"GP\",\"GP\",\"GP\",\"GP\",\"GP\",\"GP\",\"GP\",\"GP\",\"GP\",\"GP\",\"GP\",\"GP\",\"GP\",\"GP\",\"GP\",\"GP\",\"GP\",\"GP\",\"GP\",\"GP\",\"GP\",\"GP\",\"GP\",\"GP\",\"GP\",\"GP\",\"GP\",\"GP\",\"GP\",\"GP\",\"GP\",\"GP\",\"GP\",\"GP\",\"GP\",\"GP\",\"GP\",\"GP\",\"GP\",\"GP\",\"GP\",\"GP\",\"GP\",\"GP\",\"GP\",\"GP\",\"GP\",\"GP\",\"GP\",\"GP\",\"GP\",\"GP\",\"GP\",\"GP\",\"GP\",\"GP\",\"GP\",\"GP\",\"GP\",\"GP\",\"GP\",\"GP\",\"GP\",\"GP\",\"GP\",\"GP\",\"GP\",\"GP\",\"GP\",\"GP\",\"GP\",\"GP\",\"GP\",\"GP\",\"GP\",\"GP\",\"GP\",\"GP\",\"GP\",\"GP\",\"GP\",\"GP\",\"GP\",\"GP\",\"GP\",\"GP\",\"GP\",\"GP\",\"GP\",\"GP\",\"GP\",\"GP\",\"GP\",\"GP\",\"GP\",\"GP\",\"GP\",\"GP\",\"GP\",\"GP\",\"GP\",\"GP\",\"GP\",\"GP\",\"GP\",\"GP\",\"GP\",\"GP\",\"GP\",\"GP\",\"GP\",\"GP\",\"GP\",\"GP\",\"GP\",\"GP\",\"GP\",\"GP\",\"GP\",\"GP\",\"GP\",\"GP\",\"GP\",\"GP\",\"GP\",\"GP\",\"GP\",\"GP\",\"GP\",\"GP\",\"GP\",\"GP\",\"GP\",\"GP\",\"GP\",\"GP\",\"GP\",\"GP\",\"GP\",\"GP\",\"GP\",\"GP\",\"GP\",\"GP\",\"GP\",\"GP\",\"GP\",\"GP\",\"GP\",\"GP\",\"GP\",\"GP\",\"GP\",\"GP\",\"GP\",\"GP\",\"GP\",\"GP\",\"GP\",\"GP\",\"GP\",\"GP\",\"GP\",\"GP\",\"GP\",\"GP\",\"GP\",\"GP\",\"GP\",\"GP\",\"GP\",\"GP\",\"GP\",\"GP\",\"GP\",\"GP\",\"GP\",\"GP\",\"GP\",\"GP\",\"GP\",\"GP\",\"GP\",\"GP\",\"GP\",\"GP\",\"GP\",\"GP\",\"GP\",\"GP\",\"GP\",\"GP\",\"GP\",\"GP\",\"GP\",\"GP\",\"GP\",\"GP\",\"GP\",\"GP\",\"GP\",\"GP\",\"GP\",\"GP\",\"GP\",\"GP\",\"GP\",\"GP\",\"GP\",\"GP\",\"GP\",\"GP\",\"GP\",\"GP\",\"GP\",\"GP\",\"GP\",\"GP\",\"GP\",\"GP\",\"GP\",\"GP\",\"GP\",\"GP\",\"GP\",\"GP\",\"GP\",\"GP\",\"GP\",\"GP\",\"GP\",\"GP\",\"GP\",\"GP\",\"GP\",\"GP\",\"GP\",\"GP\",\"GP\",\"GP\",\"GP\",\"GP\",\"GP\",\"GP\",\"GP\",\"GP\",\"GP\",\"GP\",\"GP\",\"GP\",\"GP\",\"GP\",\"GP\",\"GP\",\"GP\",\"GP\",\"GP\",\"GP\",\"GP\",\"GP\",\"GP\",\"GP\",\"GP\",\"GP\",\"GP\",\"GP\",\"GP\",\"GP\",\"GP\",\"GP\",\"GP\",\"GP\",\"GP\",\"GP\",\"GP\",\"GP\",\"GP\",\"GP\",\"GP\",\"GP\",\"GP\",\"GP\",\"GP\",\"GP\",\"GP\",\"GP\",\"GP\",\"GP\",\"GP\",\"GP\",\"GP\",\"GP\",\"GP\",\"GP\",\"GP\",\"GP\",\"GP\",\"GP\",\"GP\",\"GP\",\"GP\",\"GP\",\"GP\",\"GP\",\"GP\",\"GP\",\"GP\",\"GP\",\"GP\",\"GP\",\"GP\",\"GP\",\"GP\",\"GP\",\"GP\",\"GP\",\"GP\",\"GP\",\"GP\",\"GP\",\"GP\",\"GP\",\"GP\",\"GP\",\"GP\",\"GP\",\"GP\",\"GP\",\"GP\",\"GP\",\"GP\",\"GP\",\"GP\",\"GP\",\"GP\",\"GP\",\"GP\",\"GP\",\"GP\",\"GP\",\"GP\",\"GP\",\"GP\",\"GP\",\"GP\",\"GP\",\"GP\",\"GP\",\"GP\",\"GP\",\"GP\",\"GP\",\"GP\",\"GP\",\"GP\",\"GP\",\"GP\",\"GP\",\"GP\",\"GP\",\"GP\",\"GP\",\"GP\",\"GP\",\"GP\",\"GP\",\"GP\",\"GP\",\"GP\",\"GP\",\"GP\",\"GP\",\"GP\",\"GP\",\"GP\",\"GP\",\"GP\",\"GP\",\"GP\",\"GP\",\"GP\",\"GP\",\"GP\",\"GP\",\"GP\",\"GP\",\"GP\",\"GP\",\"GP\",\"GP\",\"GP\",\"GP\",\"GP\",\"GP\",\"GP\",\"GP\",\"GP\",\"GP\",\"GP\",\"GP\",\"GP\",\"GP\",\"GP\",\"GP\",\"GP\",\"GP\",\"GP\",\"GP\",\"GP\",\"GP\",\"GP\",\"GP\",\"GP\",\"GP\",\"GP\",\"GP\",\"GP\",\"GP\",\"GP\",\"GP\",\"GP\",\"GP\",\"GP\",\"GP\",\"GP\",\"GP\",\"GP\",\"GP\",\"GP\",\"GP\",\"GP\",\"GP\",\"GP\",\"GP\",\"GP\",\"GP\",\"GP\",\"GP\",\"GP\",\"GP\",\"GP\",\"GP\",\"GP\",\"GP\",\"GP\",\"GP\",\"GP\",\"GP\",\"GP\",\"GP\",\"GP\",\"GP\",\"GP\",\"GP\",\"GP\",\"GP\",\"GP\",\"GP\",\"GP\",\"GP\",\"GP\",\"GP\",\"GP\",\"GP\",\"GP\",\"GP\",\"GP\",\"GP\",\"GP\",\"GP\",\"GP\",\"GP\",\"GP\",\"GP\",\"GP\",\"GP\",\"GP\",\"GP\",\"GP\",\"GP\",\"GP\",\"GP\",\"GP\",\"GP\",\"GP\",\"GP\",\"GP\",\"GP\",\"GP\",\"GP\",\"GP\",\"GP\",\"GP\",\"GP\",\"GP\",\"GP\",\"GP\",\"GP\",\"GP\",\"GP\",\"GP\",\"GP\",\"GP\",\"GP\",\"GP\",\"GP\",\"GP\",\"GP\",\"GP\",\"GP\",\"GP\",\"GP\",\"GP\",\"GP\",\"GP\",\"GP\",\"GP\",\"GP\",\"GP\",\"GP\",\"GP\",\"GP\",\"GP\",\"GP\",\"GP\",\"GP\",\"GP\",\"GP\",\"GP\",\"GP\",\"GP\",\"GP\",\"GP\",\"GP\",\"GP\",\"GP\",\"GP\",\"GP\",\"GP\",\"GP\",\"GP\",\"GP\",\"GP\",\"GP\",\"GP\",\"GP\",\"GP\",\"GP\",\"GP\",\"GP\",\"GP\",\"GP\",\"GP\",\"GP\",\"GP\",\"GP\",\"GP\",\"GP\",\"GP\",\"GP\",\"GP\",\"GP\",\"GP\",\"GP\",\"GP\",\"GP\",\"GP\",\"GP\",\"GP\",\"GP\",\"GP\",\"GP\",\"GP\",\"GP\",\"GP\",\"GP\",\"GP\",\"GP\",\"GP\",\"GP\",\"GP\",\"GP\",\"GP\",\"GP\",\"GP\",\"GP\",\"GP\",\"GP\",\"GP\",\"GP\",\"GP\",\"GP\",\"GP\",\"GP\",\"GP\",\"GP\",\"GP\",\"GP\",\"GP\",\"GP\",\"GP\",\"GP\",\"GP\",\"GP\",\"GP\",\"GP\",\"GP\",\"GP\",\"GP\",\"GP\",\"GP\",\"GP\",\"GP\",\"GP\",\"GP\",\"GP\",\"GP\",\"GP\",\"GP\",\"GP\",\"GP\",\"GP\",\"GP\",\"GP\",\"GP\",\"GP\",\"GP\",\"GP\",\"GP\",\"GP\",\"GP\",\"GP\",\"GP\",\"GP\",\"GP\",\"GP\",\"GP\",\"GP\",\"GP\",\"GP\",\"GP\",\"GP\",\"GP\",\"GP\",\"GP\",\"GP\",\"GP\",\"GP\",\"GP\",\"GP\",\"GP\",\"GP\",\"GP\",\"GP\",\"GP\",\"GP\",\"GP\",\"GP\",\"GP\",\"GP\",\"GP\",\"GP\",\"GP\",\"GP\",\"GP\",\"GP\",\"GP\",\"GP\",\"GP\",\"GP\",\"GP\",\"GP\",\"GP\",\"GP\",\"GP\",\"GP\",\"GP\",\"GP\",\"GP\",\"GP\",\"GP\",\"GP\",\"GP\",\"GP\",\"GP\",\"GP\",\"GP\",\"GP\",\"GP\",\"GP\",\"GP\",\"GP\",\"GP\",\"GP\",\"GP\",\"GP\",\"GP\",\"GP\",\"GP\",\"GP\",\"GP\",\"GP\",\"GP\",\"GP\",\"GP\",\"GP\",\"GP\",\"GP\",\"GP\",\"GP\"],\"index\":[0,1,2,3,4,5,6,7,8,9,10,11,12,13,14,15,16,17,18,19,20,21,22,23,24,25,26,27,28,29,30,31,32,33,34,35,36,37,38,39,40,41,42,43,44,45,46,47,48,49,50,51,52,53,54,55,56,57,58,59,60,61,62,63,64,65,66,67,68,69,70,71,72,73,74,75,76,77,78,79,80,81,82,83,84,85,86,87,88,89,90,91,92,93,94,95,96,97,98,99,100,101,102,103,104,105,106,107,108,109,110,111,112,113,114,115,116,117,118,119,120,121,122,123,124,125,126,127,128,129,130,131,132,133,134,135,136,137,138,139,140,141,142,143,144,145,146,147,148,149,150,151,152,153,154,155,156,157,158,159,160,161,162,163,164,165,166,167,168,169,170,171,172,173,174,175,176,177,178,179,180,181,182,183,184,185,186,187,188,189,190,191,192,193,194,195,196,197,198,199,200,201,202,203,204,205,206,207,208,209,210,211,212,213,214,215,216,217,218,219,220,221,222,223,224,225,226,227,228,229,230,231,232,233,234,235,236,237,238,239,240,241,242,243,244,245,246,247,248,249,250,251,252,253,254,255,256,257,258,259,260,261,262,263,264,265,266,267,268,269,270,271,272,273,274,275,276,277,278,279,280,281,282,283,284,285,286,287,288,289,290,291,292,293,294,295,296,297,298,299,300,301,302,303,304,305,306,307,308,309,310,311,312,313,314,315,316,317,318,319,320,321,322,323,324,325,326,327,328,329,330,331,332,333,334,335,336,337,338,339,340,341,342,343,344,345,346,347,348,349,350,351,352,353,354,355,356,357,358,359,360,361,362,363,364,365,366,367,368,369,370,371,372,373,374,375,376,377,378,379,380,381,382,383,384,385,386,387,388,389,390,391,392,393,394,395,396,397,398,399,400,401,402,403,404,405,406,407,408,409,410,411,412,413,414,415,416,417,418,419,420,421,422,423,424,425,426,427,428,429,430,431,432,433,434,435,436,437,438,439,440,441,442,443,444,445,446,447,448,449,450,451,452,453,454,455,456,457,458,459,460,461,462,463,464,465,466,467,468,469,470,471,472,473,474,475,476,477,478,479,480,481,482,483,484,485,486,487,488,489,490,491,492,493,494,495,496,497,498,499,500,501,502,503,504,505,506,507,508,509,510,511,512,513,514,515,516,517,518,519,520,521,522,523,524,525,526,527,528,529,530,531,532,533,534,535,536,537,538,539,540,541,542,543,544,545,546,547,548,549,550,551,552,553,554,555,556,557,558,559,560,561,562,563,564,565,566,567,568,569,570,571,572,573,574,575,576,577,578,579,580,581,582,583,584,585,586,587,588,589,590,591,592,593,594,595,596,597,598,599,600,601,602,603,604,605,606,607,608,609,610,611,612,613,614,615,616,617,618,619,620,621,622,623,624,625,626,627,628,629,630,631,632,633,634,635,636,637,638,639,640,641,642,643,644,645,646,647,648,649,650,651,652,653,654,655,656,657,658,659,660,661,662,663,664,665,666,667,668,669,670,671,672,673,674,675,676,677,678,679,680,681,682,683,684,685,686,687,688,689,690,691,692,693,694,695,696,697,698,699,700,701,702,703,704,705,706,707,708,709,710,711,712,713,714,715,716,717,718,719,720,721,722,723,724,725,726,727,728,729,730,731,732,733,734,735,736,737,738,739,740,741,742,743,744,745,746,747,748,749,750,751,752,753,754,755,756,757,758,759,760,761,762,763,764,765],\"value\":[55,81,80,60,56,68,71,57,25,82,80,82,72,71,55,26,81,80,61,76,65,59,66,77,69,82,71,71,77,76,42,28,27,55,61,68,49,27,76,82,48,32,80,55,27,82,72,62,73,74,66,82,81,77,80,78,73,78,32,69,51,5,52,78,76,69,69,14,74,17,54,23,77,82,81,80,79,54,75,43,19,62,57,54,65,50,60,52,73,77,72,66,72,77,76,80,73,1,72,52,44,49,50,13,3,82,73,47,75,62,14,19,72,8,18,60,36,52,51,74,32,55,77,53,82,80,81,62,80,73,70,56,69,12,70,47,51,72,43,24,67,70,64,69,75,76,79,67,43,27,70,40,68,10,82,49,28,77,68,75,47,68,79,70,77,60,78,65,58,46,63,55,36,81,44,22,66,55,26,81,77,69,66,51,64,14,48,72,55,67,37,15,61,41,17,58,70,66,66,77,11,28,63,57,20,11,31,25,31,9,40,8,60,58,48,43,25,11,36,37,31,62,44,19,63,29,65,68,78,34,12,59,80,68,64,3,44,23,67,53,26,79,77,82,63,82,79,60,78,74,80,77,68,61,76,74,6,65,60,65,59,64,78,27,31,42,64,17,34,13,64,48,18,66,49,81,51,42,50,48,48,19,67,55,20,78,81,79,80,54,65,42,33,75,18,55,73,68,70,30,57,69,67,63,55,56,17,9,2,11,64,74,52,26,78,30,51,62,43,38,38,50,66,72,62,81,80,60,80,77,30,19,49,70,62,74,79,7,70,67,67,80,13,22,35,48,22,70,70,48,23,71,48,28,23,30,16,46,68,82,79,37,80,59,73,82,71,70,77,64,75,22,67,59,78,63,73,55,42,76,77,23,39,63,36,16,1,25,42,56,37,60,82,68,65,70,73,80,78,77,80,81,68,53,38,30,22,46,68,72,69,65,46,48,27,18,45,18,21,39,10,64,16,58,81,51,81,80,82,82,66,68,81,40,45,70,27,10,15,24,55,14,8,17,39,56,22,19,41,55,76,57,67,57,56,19,20,39,61,48,33,78,72,74,43,67,69,69,69,27,27,69,49,26,75,73,36,27,63,77,50,60,81,82,81,81,78,79,49,8,57,25,21,46,49,24,73,67,37,74,75,80,77,41,15,56,14,25,3,28,63,8,19,4,3,7,11,20,46,36,13,18,31,2,1,12,15,69,76,82,62,78,73,81,82,81,72,78,68,8,36,44,44,21,65,58,20,40,60,70,53,47,17,64,47,35,43,43,20,63,54,45,50,21,17,38,3,61,45,42,65,69,61,74,59,82,55,64,12,29,41,69,54,41,56,56,71,67,11,78,51,37,58,45,22,67,53,70,80,66,82,82,82,77,81,77,50,19,69,56,57,32,16,48,39,82,62,73,62,33,49,58,48,27,15,42,69,78,77,69,77,40,15,55,7,57,64,39,26,80,65,66,80,17,61,60,70,56,9,59,26,27,53,82,72,38,44,82,73,72,49,25,74,28,18,46,70,82,82,54,27,81,74,82,61,56,73,56,23,79,22,62,81,41,14,55,37,79,55,26,81,2,5,15,50,66,66,41,22,63,63,23,22,54,49,22,71,78,81,78,13,68,81,66,50,37,20,57,7,32,14,70,61,55,69,36,7,43,82,82,66,69,82,60,78,73,63,44,2,23,69,67,58,49,52,9,5,13,27,3,9,12,24,51,75,52,80,65,65,49,26,75,62,56,59,25]},\"selected\":{\"id\":\"22075\"},\"selection_policy\":{\"id\":\"22097\"}},\"id\":\"22074\",\"type\":\"ColumnDataSource\"},{\"attributes\":{\"line_color\":\"#6d904f\",\"line_width\":2,\"tags\":[\"apply_ranges\"],\"x\":{\"field\":\"index\"},\"y\":{\"field\":\"value\"}},\"id\":\"22073\",\"type\":\"Line\"},{\"attributes\":{\"data\":{\"Variable\":[\"PTS\",\"PTS\",\"PTS\",\"PTS\",\"PTS\",\"PTS\",\"PTS\",\"PTS\",\"PTS\",\"PTS\",\"PTS\",\"PTS\",\"PTS\",\"PTS\",\"PTS\",\"PTS\",\"PTS\",\"PTS\",\"PTS\",\"PTS\",\"PTS\",\"PTS\",\"PTS\",\"PTS\",\"PTS\",\"PTS\",\"PTS\",\"PTS\",\"PTS\",\"PTS\",\"PTS\",\"PTS\",\"PTS\",\"PTS\",\"PTS\",\"PTS\",\"PTS\",\"PTS\",\"PTS\",\"PTS\",\"PTS\",\"PTS\",\"PTS\",\"PTS\",\"PTS\",\"PTS\",\"PTS\",\"PTS\",\"PTS\",\"PTS\",\"PTS\",\"PTS\",\"PTS\",\"PTS\",\"PTS\",\"PTS\",\"PTS\",\"PTS\",\"PTS\",\"PTS\",\"PTS\",\"PTS\",\"PTS\",\"PTS\",\"PTS\",\"PTS\",\"PTS\",\"PTS\",\"PTS\",\"PTS\",\"PTS\",\"PTS\",\"PTS\",\"PTS\",\"PTS\",\"PTS\",\"PTS\",\"PTS\",\"PTS\",\"PTS\",\"PTS\",\"PTS\",\"PTS\",\"PTS\",\"PTS\",\"PTS\",\"PTS\",\"PTS\",\"PTS\",\"PTS\",\"PTS\",\"PTS\",\"PTS\",\"PTS\",\"PTS\",\"PTS\",\"PTS\",\"PTS\",\"PTS\",\"PTS\",\"PTS\",\"PTS\",\"PTS\",\"PTS\",\"PTS\",\"PTS\",\"PTS\",\"PTS\",\"PTS\",\"PTS\",\"PTS\",\"PTS\",\"PTS\",\"PTS\",\"PTS\",\"PTS\",\"PTS\",\"PTS\",\"PTS\",\"PTS\",\"PTS\",\"PTS\",\"PTS\",\"PTS\",\"PTS\",\"PTS\",\"PTS\",\"PTS\",\"PTS\",\"PTS\",\"PTS\",\"PTS\",\"PTS\",\"PTS\",\"PTS\",\"PTS\",\"PTS\",\"PTS\",\"PTS\",\"PTS\",\"PTS\",\"PTS\",\"PTS\",\"PTS\",\"PTS\",\"PTS\",\"PTS\",\"PTS\",\"PTS\",\"PTS\",\"PTS\",\"PTS\",\"PTS\",\"PTS\",\"PTS\",\"PTS\",\"PTS\",\"PTS\",\"PTS\",\"PTS\",\"PTS\",\"PTS\",\"PTS\",\"PTS\",\"PTS\",\"PTS\",\"PTS\",\"PTS\",\"PTS\",\"PTS\",\"PTS\",\"PTS\",\"PTS\",\"PTS\",\"PTS\",\"PTS\",\"PTS\",\"PTS\",\"PTS\",\"PTS\",\"PTS\",\"PTS\",\"PTS\",\"PTS\",\"PTS\",\"PTS\",\"PTS\",\"PTS\",\"PTS\",\"PTS\",\"PTS\",\"PTS\",\"PTS\",\"PTS\",\"PTS\",\"PTS\",\"PTS\",\"PTS\",\"PTS\",\"PTS\",\"PTS\",\"PTS\",\"PTS\",\"PTS\",\"PTS\",\"PTS\",\"PTS\",\"PTS\",\"PTS\",\"PTS\",\"PTS\",\"PTS\",\"PTS\",\"PTS\",\"PTS\",\"PTS\",\"PTS\",\"PTS\",\"PTS\",\"PTS\",\"PTS\",\"PTS\",\"PTS\",\"PTS\",\"PTS\",\"PTS\",\"PTS\",\"PTS\",\"PTS\",\"PTS\",\"PTS\",\"PTS\",\"PTS\",\"PTS\",\"PTS\",\"PTS\",\"PTS\",\"PTS\",\"PTS\",\"PTS\",\"PTS\",\"PTS\",\"PTS\",\"PTS\",\"PTS\",\"PTS\",\"PTS\",\"PTS\",\"PTS\",\"PTS\",\"PTS\",\"PTS\",\"PTS\",\"PTS\",\"PTS\",\"PTS\",\"PTS\",\"PTS\",\"PTS\",\"PTS\",\"PTS\",\"PTS\",\"PTS\",\"PTS\",\"PTS\",\"PTS\",\"PTS\",\"PTS\",\"PTS\",\"PTS\",\"PTS\",\"PTS\",\"PTS\",\"PTS\",\"PTS\",\"PTS\",\"PTS\",\"PTS\",\"PTS\",\"PTS\",\"PTS\",\"PTS\",\"PTS\",\"PTS\",\"PTS\",\"PTS\",\"PTS\",\"PTS\",\"PTS\",\"PTS\",\"PTS\",\"PTS\",\"PTS\",\"PTS\",\"PTS\",\"PTS\",\"PTS\",\"PTS\",\"PTS\",\"PTS\",\"PTS\",\"PTS\",\"PTS\",\"PTS\",\"PTS\",\"PTS\",\"PTS\",\"PTS\",\"PTS\",\"PTS\",\"PTS\",\"PTS\",\"PTS\",\"PTS\",\"PTS\",\"PTS\",\"PTS\",\"PTS\",\"PTS\",\"PTS\",\"PTS\",\"PTS\",\"PTS\",\"PTS\",\"PTS\",\"PTS\",\"PTS\",\"PTS\",\"PTS\",\"PTS\",\"PTS\",\"PTS\",\"PTS\",\"PTS\",\"PTS\",\"PTS\",\"PTS\",\"PTS\",\"PTS\",\"PTS\",\"PTS\",\"PTS\",\"PTS\",\"PTS\",\"PTS\",\"PTS\",\"PTS\",\"PTS\",\"PTS\",\"PTS\",\"PTS\",\"PTS\",\"PTS\",\"PTS\",\"PTS\",\"PTS\",\"PTS\",\"PTS\",\"PTS\",\"PTS\",\"PTS\",\"PTS\",\"PTS\",\"PTS\",\"PTS\",\"PTS\",\"PTS\",\"PTS\",\"PTS\",\"PTS\",\"PTS\",\"PTS\",\"PTS\",\"PTS\",\"PTS\",\"PTS\",\"PTS\",\"PTS\",\"PTS\",\"PTS\",\"PTS\",\"PTS\",\"PTS\",\"PTS\",\"PTS\",\"PTS\",\"PTS\",\"PTS\",\"PTS\",\"PTS\",\"PTS\",\"PTS\",\"PTS\",\"PTS\",\"PTS\",\"PTS\",\"PTS\",\"PTS\",\"PTS\",\"PTS\",\"PTS\",\"PTS\",\"PTS\",\"PTS\",\"PTS\",\"PTS\",\"PTS\",\"PTS\",\"PTS\",\"PTS\",\"PTS\",\"PTS\",\"PTS\",\"PTS\",\"PTS\",\"PTS\",\"PTS\",\"PTS\",\"PTS\",\"PTS\",\"PTS\",\"PTS\",\"PTS\",\"PTS\",\"PTS\",\"PTS\",\"PTS\",\"PTS\",\"PTS\",\"PTS\",\"PTS\",\"PTS\",\"PTS\",\"PTS\",\"PTS\",\"PTS\",\"PTS\",\"PTS\",\"PTS\",\"PTS\",\"PTS\",\"PTS\",\"PTS\",\"PTS\",\"PTS\",\"PTS\",\"PTS\",\"PTS\",\"PTS\",\"PTS\",\"PTS\",\"PTS\",\"PTS\",\"PTS\",\"PTS\",\"PTS\",\"PTS\",\"PTS\",\"PTS\",\"PTS\",\"PTS\",\"PTS\",\"PTS\",\"PTS\",\"PTS\",\"PTS\",\"PTS\",\"PTS\",\"PTS\",\"PTS\",\"PTS\",\"PTS\",\"PTS\",\"PTS\",\"PTS\",\"PTS\",\"PTS\",\"PTS\",\"PTS\",\"PTS\",\"PTS\",\"PTS\",\"PTS\",\"PTS\",\"PTS\",\"PTS\",\"PTS\",\"PTS\",\"PTS\",\"PTS\",\"PTS\",\"PTS\",\"PTS\",\"PTS\",\"PTS\",\"PTS\",\"PTS\",\"PTS\",\"PTS\",\"PTS\",\"PTS\",\"PTS\",\"PTS\",\"PTS\",\"PTS\",\"PTS\",\"PTS\",\"PTS\",\"PTS\",\"PTS\",\"PTS\",\"PTS\",\"PTS\",\"PTS\",\"PTS\",\"PTS\",\"PTS\",\"PTS\",\"PTS\",\"PTS\",\"PTS\",\"PTS\",\"PTS\",\"PTS\",\"PTS\",\"PTS\",\"PTS\",\"PTS\",\"PTS\",\"PTS\",\"PTS\",\"PTS\",\"PTS\",\"PTS\",\"PTS\",\"PTS\",\"PTS\",\"PTS\",\"PTS\",\"PTS\",\"PTS\",\"PTS\",\"PTS\",\"PTS\",\"PTS\",\"PTS\",\"PTS\",\"PTS\",\"PTS\",\"PTS\",\"PTS\",\"PTS\",\"PTS\",\"PTS\",\"PTS\",\"PTS\",\"PTS\",\"PTS\",\"PTS\",\"PTS\",\"PTS\",\"PTS\",\"PTS\",\"PTS\",\"PTS\",\"PTS\",\"PTS\",\"PTS\",\"PTS\",\"PTS\",\"PTS\",\"PTS\",\"PTS\",\"PTS\",\"PTS\",\"PTS\",\"PTS\",\"PTS\",\"PTS\",\"PTS\",\"PTS\",\"PTS\",\"PTS\",\"PTS\",\"PTS\",\"PTS\",\"PTS\",\"PTS\",\"PTS\",\"PTS\",\"PTS\",\"PTS\",\"PTS\",\"PTS\",\"PTS\",\"PTS\",\"PTS\",\"PTS\",\"PTS\",\"PTS\",\"PTS\",\"PTS\",\"PTS\",\"PTS\",\"PTS\",\"PTS\",\"PTS\",\"PTS\",\"PTS\",\"PTS\",\"PTS\",\"PTS\",\"PTS\",\"PTS\",\"PTS\",\"PTS\",\"PTS\",\"PTS\",\"PTS\",\"PTS\",\"PTS\",\"PTS\",\"PTS\",\"PTS\",\"PTS\",\"PTS\",\"PTS\",\"PTS\",\"PTS\",\"PTS\",\"PTS\",\"PTS\",\"PTS\",\"PTS\",\"PTS\",\"PTS\",\"PTS\",\"PTS\",\"PTS\",\"PTS\",\"PTS\",\"PTS\",\"PTS\",\"PTS\",\"PTS\",\"PTS\",\"PTS\",\"PTS\",\"PTS\",\"PTS\",\"PTS\",\"PTS\",\"PTS\",\"PTS\",\"PTS\",\"PTS\",\"PTS\",\"PTS\",\"PTS\",\"PTS\",\"PTS\",\"PTS\",\"PTS\",\"PTS\",\"PTS\",\"PTS\",\"PTS\",\"PTS\",\"PTS\",\"PTS\",\"PTS\",\"PTS\",\"PTS\",\"PTS\",\"PTS\",\"PTS\",\"PTS\",\"PTS\",\"PTS\",\"PTS\",\"PTS\",\"PTS\",\"PTS\",\"PTS\",\"PTS\",\"PTS\",\"PTS\",\"PTS\",\"PTS\",\"PTS\",\"PTS\",\"PTS\",\"PTS\",\"PTS\",\"PTS\",\"PTS\",\"PTS\",\"PTS\",\"PTS\",\"PTS\",\"PTS\",\"PTS\",\"PTS\",\"PTS\",\"PTS\",\"PTS\",\"PTS\",\"PTS\",\"PTS\",\"PTS\",\"PTS\",\"PTS\",\"PTS\",\"PTS\",\"PTS\",\"PTS\",\"PTS\",\"PTS\",\"PTS\",\"PTS\",\"PTS\",\"PTS\",\"PTS\",\"PTS\",\"PTS\",\"PTS\",\"PTS\",\"PTS\",\"PTS\",\"PTS\",\"PTS\",\"PTS\",\"PTS\",\"PTS\",\"PTS\",\"PTS\",\"PTS\",\"PTS\",\"PTS\",\"PTS\",\"PTS\",\"PTS\",\"PTS\",\"PTS\",\"PTS\",\"PTS\",\"PTS\",\"PTS\",\"PTS\",\"PTS\",\"PTS\",\"PTS\",\"PTS\",\"PTS\",\"PTS\",\"PTS\",\"PTS\",\"PTS\",\"PTS\",\"PTS\",\"PTS\",\"PTS\",\"PTS\",\"PTS\",\"PTS\",\"PTS\"],\"index\":[0,1,2,3,4,5,6,7,8,9,10,11,12,13,14,15,16,17,18,19,20,21,22,23,24,25,26,27,28,29,30,31,32,33,34,35,36,37,38,39,40,41,42,43,44,45,46,47,48,49,50,51,52,53,54,55,56,57,58,59,60,61,62,63,64,65,66,67,68,69,70,71,72,73,74,75,76,77,78,79,80,81,82,83,84,85,86,87,88,89,90,91,92,93,94,95,96,97,98,99,100,101,102,103,104,105,106,107,108,109,110,111,112,113,114,115,116,117,118,119,120,121,122,123,124,125,126,127,128,129,130,131,132,133,134,135,136,137,138,139,140,141,142,143,144,145,146,147,148,149,150,151,152,153,154,155,156,157,158,159,160,161,162,163,164,165,166,167,168,169,170,171,172,173,174,175,176,177,178,179,180,181,182,183,184,185,186,187,188,189,190,191,192,193,194,195,196,197,198,199,200,201,202,203,204,205,206,207,208,209,210,211,212,213,214,215,216,217,218,219,220,221,222,223,224,225,226,227,228,229,230,231,232,233,234,235,236,237,238,239,240,241,242,243,244,245,246,247,248,249,250,251,252,253,254,255,256,257,258,259,260,261,262,263,264,265,266,267,268,269,270,271,272,273,274,275,276,277,278,279,280,281,282,283,284,285,286,287,288,289,290,291,292,293,294,295,296,297,298,299,300,301,302,303,304,305,306,307,308,309,310,311,312,313,314,315,316,317,318,319,320,321,322,323,324,325,326,327,328,329,330,331,332,333,334,335,336,337,338,339,340,341,342,343,344,345,346,347,348,349,350,351,352,353,354,355,356,357,358,359,360,361,362,363,364,365,366,367,368,369,370,371,372,373,374,375,376,377,378,379,380,381,382,383,384,385,386,387,388,389,390,391,392,393,394,395,396,397,398,399,400,401,402,403,404,405,406,407,408,409,410,411,412,413,414,415,416,417,418,419,420,421,422,423,424,425,426,427,428,429,430,431,432,433,434,435,436,437,438,439,440,441,442,443,444,445,446,447,448,449,450,451,452,453,454,455,456,457,458,459,460,461,462,463,464,465,466,467,468,469,470,471,472,473,474,475,476,477,478,479,480,481,482,483,484,485,486,487,488,489,490,491,492,493,494,495,496,497,498,499,500,501,502,503,504,505,506,507,508,509,510,511,512,513,514,515,516,517,518,519,520,521,522,523,524,525,526,527,528,529,530,531,532,533,534,535,536,537,538,539,540,541,542,543,544,545,546,547,548,549,550,551,552,553,554,555,556,557,558,559,560,561,562,563,564,565,566,567,568,569,570,571,572,573,574,575,576,577,578,579,580,581,582,583,584,585,586,587,588,589,590,591,592,593,594,595,596,597,598,599,600,601,602,603,604,605,606,607,608,609,610,611,612,613,614,615,616,617,618,619,620,621,622,623,624,625,626,627,628,629,630,631,632,633,634,635,636,637,638,639,640,641,642,643,644,645,646,647,648,649,650,651,652,653,654,655,656,657,658,659,660,661,662,663,664,665,666,667,668,669,670,671,672,673,674,675,676,677,678,679,680,681,682,683,684,685,686,687,688,689,690,691,692,693,694,695,696,697,698,699,700,701,702,703,704,705,706,707,708,709,710,711,712,713,714,715,716,717,718,719,720,721,722,723,724,725,726,727,728,729,730,731,732,733,734,735,736,737,738,739,740,741,742,743,744,745,746,747,748,749,750,751,752,753,754,755,756,757,758,759,760,761,762,763,764,765],\"value\":[229,589,1354,1371,1196,1551,1720,488,378,866,1079,1695,1382,1176,792,473,1265,1344,238,991,718,613,709,669,343,426,450,496,570,671,208,136,467,603,893,1164,669,447,1116,1321,868,618,1486,1152,492,1644,1411,1210,1257,1085,826,1359,1488,1668,1771,1742,1461,1680,652,1509,136,3,428,846,1041,998,974,158,562,40,465,131,596,796,845,1131,1105,734,1046,841,192,1033,765,830,728,250,455,472,791,780,388,782,1017,1248,1463,1578,1601,2,825,909,863,778,733,96,10,851,660,481,945,636,100,155,870,103,195,837,244,729,877,1013,246,313,698,498,895,959,1107,788,1168,1256,1107,857,1415,205,1478,675,827,986,461,337,798,607,656,687,678,872,787,549,432,513,945,365,847,56,791,370,214,584,620,1011,670,791,1417,1244,1634,1344,1267,926,1126,791,844,615,109,764,447,145,592,395,235,630,564,710,899,578,654,23,279,704,501,509,140,40,541,613,275,888,1283,1148,292,512,77,218,731,283,106,54,160,221,176,74,250,87,505,626,493,115,65,4,69,122,141,698,534,177,711,234,709,583,561,145,58,432,1007,1143,1318,20,556,363,919,940,429,1369,662,1410,1054,1485,1791,1204,1830,2020,1840,1635,1504,1316,2118,1816,34,585,597,698,425,451,1089,374,412,283,494,143,396,22,561,773,220,993,623,944,652,178,240,212,255,227,482,247,43,846,1632,1493,1567,1069,1232,723,643,1366,350,1107,1457,1432,1204,562,655,946,726,716,446,293,24,10,2,12,344,512,432,187,619,229,256,233,161,211,330,532,733,750,554,916,963,768,959,980,384,379,763,1044,1058,1314,1115,16,943,858,864,1009,147,318,465,615,255,870,593,365,239,604,288,53,107,104,132,236,563,406,426,375,990,818,1047,1070,664,1046,1164,740,699,79,540,491,478,421,653,564,490,1048,1041,152,366,662,315,77,0,171,248,268,156,209,416,468,484,442,632,823,501,814,953,1110,721,630,522,350,182,426,608,859,538,537,424,342,106,136,242,55,131,186,26,353,165,294,826,351,690,759,819,811,767,736,923,246,349,605,128,19,25,130,306,22,43,118,183,454,55,87,142,188,932,851,1170,737,581,184,204,388,679,397,74,350,246,585,346,390,854,521,647,103,150,555,337,316,653,504,374,271,645,342,369,476,1095,1130,1314,1105,1171,1370,870,140,1010,437,250,687,298,282,580,399,78,445,871,1075,1134,518,262,780,167,247,24,271,515,44,46,8,12,20,6,134,322,215,26,80,106,4,0,26,30,261,753,998,1044,2023,1851,2217,2376,2356,2191,2818,2335,198,885,1083,990,442,1432,1216,76,197,195,435,405,349,100,449,226,339,344,265,118,383,172,231,349,69,98,167,0,533,454,172,859,1041,772,715,335,1158,742,773,97,292,389,502,493,228,573,568,700,639,134,596,405,278,533,288,127,415,228,336,566,486,724,856,946,980,1029,927,551,207,758,465,426,132,74,206,199,490,472,638,639,233,497,642,451,140,98,86,432,703,613,587,854,349,89,438,16,407,423,235,43,597,843,840,1613,45,389,669,849,654,42,254,63,176,239,629,876,440,417,857,603,756,541,208,749,126,79,205,520,717,749,597,245,842,524,637,437,581,477,685,172,857,83,196,917,325,290,615,724,953,736,289,1025,2,7,12,294,627,475,251,149,400,247,41,107,311,228,318,546,518,1040,1141,144,714,858,704,437,215,147,362,40,69,33,634,342,754,745,196,28,224,769,1300,904,1022,1343,956,977,986,802,575,14,251,840,494,279,249,179,45,11,80,136,2,17,38,57,262,138,204,582,506,547,463,123,586,641,423,309,50]},\"selected\":{\"id\":\"23015\"},\"selection_policy\":{\"id\":\"23077\"}},\"id\":\"23014\",\"type\":\"ColumnDataSource\"},{\"attributes\":{},\"id\":\"21976\",\"type\":\"BasicTickFormatter\"},{\"attributes\":{\"line_alpha\":0.1,\"line_color\":\"#17becf\",\"line_width\":2,\"tags\":[\"apply_ranges\"],\"x\":{\"field\":\"index\"},\"y\":{\"field\":\"value\"}},\"id\":\"22106\",\"type\":\"Line\"},{\"attributes\":{\"line_color\":\"#8b8b8b\",\"line_width\":2,\"tags\":[\"apply_ranges\"],\"x\":{\"field\":\"index\"},\"y\":{\"field\":\"value\"}},\"id\":\"22593\",\"type\":\"Line\"},{\"attributes\":{\"callback\":null,\"renderers\":[{\"id\":\"21987\"},{\"id\":\"22008\"},{\"id\":\"22030\"},{\"id\":\"22054\"},{\"id\":\"22080\"},{\"id\":\"22108\"},{\"id\":\"22138\"},{\"id\":\"22170\"},{\"id\":\"22204\"},{\"id\":\"22240\"},{\"id\":\"22278\"},{\"id\":\"22318\"},{\"id\":\"22360\"},{\"id\":\"22404\"},{\"id\":\"22450\"},{\"id\":\"22498\"},{\"id\":\"22548\"},{\"id\":\"22600\"},{\"id\":\"22654\"},{\"id\":\"22710\"},{\"id\":\"22768\"},{\"id\":\"22828\"},{\"id\":\"22890\"},{\"id\":\"22954\"},{\"id\":\"23020\"},{\"id\":\"23088\"}],\"tags\":[\"hv_created\"],\"tooltips\":[[\"Variable\",\"@{Variable}\"],[\"index\",\"@{index}\"],[\"value\",\"@{value}\"]]},\"id\":\"21919\",\"type\":\"HoverTool\"},{\"attributes\":{\"coordinates\":null,\"data_source\":{\"id\":\"22648\"},\"glyph\":{\"id\":\"22651\"},\"group\":null,\"hover_glyph\":null,\"muted_glyph\":{\"id\":\"22653\"},\"nonselection_glyph\":{\"id\":\"22652\"},\"selection_glyph\":{\"id\":\"22703\"},\"view\":{\"id\":\"22655\"}},\"id\":\"22654\",\"type\":\"GlyphRenderer\"},{\"attributes\":{\"data\":{\"Variable\":[\"LEAGUE_ID\",\"LEAGUE_ID\",\"LEAGUE_ID\",\"LEAGUE_ID\",\"LEAGUE_ID\",\"LEAGUE_ID\",\"LEAGUE_ID\",\"LEAGUE_ID\",\"LEAGUE_ID\",\"LEAGUE_ID\",\"LEAGUE_ID\",\"LEAGUE_ID\",\"LEAGUE_ID\",\"LEAGUE_ID\",\"LEAGUE_ID\",\"LEAGUE_ID\",\"LEAGUE_ID\",\"LEAGUE_ID\",\"LEAGUE_ID\",\"LEAGUE_ID\",\"LEAGUE_ID\",\"LEAGUE_ID\",\"LEAGUE_ID\",\"LEAGUE_ID\",\"LEAGUE_ID\",\"LEAGUE_ID\",\"LEAGUE_ID\",\"LEAGUE_ID\",\"LEAGUE_ID\",\"LEAGUE_ID\",\"LEAGUE_ID\",\"LEAGUE_ID\",\"LEAGUE_ID\",\"LEAGUE_ID\",\"LEAGUE_ID\",\"LEAGUE_ID\",\"LEAGUE_ID\",\"LEAGUE_ID\",\"LEAGUE_ID\",\"LEAGUE_ID\",\"LEAGUE_ID\",\"LEAGUE_ID\",\"LEAGUE_ID\",\"LEAGUE_ID\",\"LEAGUE_ID\",\"LEAGUE_ID\",\"LEAGUE_ID\",\"LEAGUE_ID\",\"LEAGUE_ID\",\"LEAGUE_ID\",\"LEAGUE_ID\",\"LEAGUE_ID\",\"LEAGUE_ID\",\"LEAGUE_ID\",\"LEAGUE_ID\",\"LEAGUE_ID\",\"LEAGUE_ID\",\"LEAGUE_ID\",\"LEAGUE_ID\",\"LEAGUE_ID\",\"LEAGUE_ID\",\"LEAGUE_ID\",\"LEAGUE_ID\",\"LEAGUE_ID\",\"LEAGUE_ID\",\"LEAGUE_ID\",\"LEAGUE_ID\",\"LEAGUE_ID\",\"LEAGUE_ID\",\"LEAGUE_ID\",\"LEAGUE_ID\",\"LEAGUE_ID\",\"LEAGUE_ID\",\"LEAGUE_ID\",\"LEAGUE_ID\",\"LEAGUE_ID\",\"LEAGUE_ID\",\"LEAGUE_ID\",\"LEAGUE_ID\",\"LEAGUE_ID\",\"LEAGUE_ID\",\"LEAGUE_ID\",\"LEAGUE_ID\",\"LEAGUE_ID\",\"LEAGUE_ID\",\"LEAGUE_ID\",\"LEAGUE_ID\",\"LEAGUE_ID\",\"LEAGUE_ID\",\"LEAGUE_ID\",\"LEAGUE_ID\",\"LEAGUE_ID\",\"LEAGUE_ID\",\"LEAGUE_ID\",\"LEAGUE_ID\",\"LEAGUE_ID\",\"LEAGUE_ID\",\"LEAGUE_ID\",\"LEAGUE_ID\",\"LEAGUE_ID\",\"LEAGUE_ID\",\"LEAGUE_ID\",\"LEAGUE_ID\",\"LEAGUE_ID\",\"LEAGUE_ID\",\"LEAGUE_ID\",\"LEAGUE_ID\",\"LEAGUE_ID\",\"LEAGUE_ID\",\"LEAGUE_ID\",\"LEAGUE_ID\",\"LEAGUE_ID\",\"LEAGUE_ID\",\"LEAGUE_ID\",\"LEAGUE_ID\",\"LEAGUE_ID\",\"LEAGUE_ID\",\"LEAGUE_ID\",\"LEAGUE_ID\",\"LEAGUE_ID\",\"LEAGUE_ID\",\"LEAGUE_ID\",\"LEAGUE_ID\",\"LEAGUE_ID\",\"LEAGUE_ID\",\"LEAGUE_ID\",\"LEAGUE_ID\",\"LEAGUE_ID\",\"LEAGUE_ID\",\"LEAGUE_ID\",\"LEAGUE_ID\",\"LEAGUE_ID\",\"LEAGUE_ID\",\"LEAGUE_ID\",\"LEAGUE_ID\",\"LEAGUE_ID\",\"LEAGUE_ID\",\"LEAGUE_ID\",\"LEAGUE_ID\",\"LEAGUE_ID\",\"LEAGUE_ID\",\"LEAGUE_ID\",\"LEAGUE_ID\",\"LEAGUE_ID\",\"LEAGUE_ID\",\"LEAGUE_ID\",\"LEAGUE_ID\",\"LEAGUE_ID\",\"LEAGUE_ID\",\"LEAGUE_ID\",\"LEAGUE_ID\",\"LEAGUE_ID\",\"LEAGUE_ID\",\"LEAGUE_ID\",\"LEAGUE_ID\",\"LEAGUE_ID\",\"LEAGUE_ID\",\"LEAGUE_ID\",\"LEAGUE_ID\",\"LEAGUE_ID\",\"LEAGUE_ID\",\"LEAGUE_ID\",\"LEAGUE_ID\",\"LEAGUE_ID\",\"LEAGUE_ID\",\"LEAGUE_ID\",\"LEAGUE_ID\",\"LEAGUE_ID\",\"LEAGUE_ID\",\"LEAGUE_ID\",\"LEAGUE_ID\",\"LEAGUE_ID\",\"LEAGUE_ID\",\"LEAGUE_ID\",\"LEAGUE_ID\",\"LEAGUE_ID\",\"LEAGUE_ID\",\"LEAGUE_ID\",\"LEAGUE_ID\",\"LEAGUE_ID\",\"LEAGUE_ID\",\"LEAGUE_ID\",\"LEAGUE_ID\",\"LEAGUE_ID\",\"LEAGUE_ID\",\"LEAGUE_ID\",\"LEAGUE_ID\",\"LEAGUE_ID\",\"LEAGUE_ID\",\"LEAGUE_ID\",\"LEAGUE_ID\",\"LEAGUE_ID\",\"LEAGUE_ID\",\"LEAGUE_ID\",\"LEAGUE_ID\",\"LEAGUE_ID\",\"LEAGUE_ID\",\"LEAGUE_ID\",\"LEAGUE_ID\",\"LEAGUE_ID\",\"LEAGUE_ID\",\"LEAGUE_ID\",\"LEAGUE_ID\",\"LEAGUE_ID\",\"LEAGUE_ID\",\"LEAGUE_ID\",\"LEAGUE_ID\",\"LEAGUE_ID\",\"LEAGUE_ID\",\"LEAGUE_ID\",\"LEAGUE_ID\",\"LEAGUE_ID\",\"LEAGUE_ID\",\"LEAGUE_ID\",\"LEAGUE_ID\",\"LEAGUE_ID\",\"LEAGUE_ID\",\"LEAGUE_ID\",\"LEAGUE_ID\",\"LEAGUE_ID\",\"LEAGUE_ID\",\"LEAGUE_ID\",\"LEAGUE_ID\",\"LEAGUE_ID\",\"LEAGUE_ID\",\"LEAGUE_ID\",\"LEAGUE_ID\",\"LEAGUE_ID\",\"LEAGUE_ID\",\"LEAGUE_ID\",\"LEAGUE_ID\",\"LEAGUE_ID\",\"LEAGUE_ID\",\"LEAGUE_ID\",\"LEAGUE_ID\",\"LEAGUE_ID\",\"LEAGUE_ID\",\"LEAGUE_ID\",\"LEAGUE_ID\",\"LEAGUE_ID\",\"LEAGUE_ID\",\"LEAGUE_ID\",\"LEAGUE_ID\",\"LEAGUE_ID\",\"LEAGUE_ID\",\"LEAGUE_ID\",\"LEAGUE_ID\",\"LEAGUE_ID\",\"LEAGUE_ID\",\"LEAGUE_ID\",\"LEAGUE_ID\",\"LEAGUE_ID\",\"LEAGUE_ID\",\"LEAGUE_ID\",\"LEAGUE_ID\",\"LEAGUE_ID\",\"LEAGUE_ID\",\"LEAGUE_ID\",\"LEAGUE_ID\",\"LEAGUE_ID\",\"LEAGUE_ID\",\"LEAGUE_ID\",\"LEAGUE_ID\",\"LEAGUE_ID\",\"LEAGUE_ID\",\"LEAGUE_ID\",\"LEAGUE_ID\",\"LEAGUE_ID\",\"LEAGUE_ID\",\"LEAGUE_ID\",\"LEAGUE_ID\",\"LEAGUE_ID\",\"LEAGUE_ID\",\"LEAGUE_ID\",\"LEAGUE_ID\",\"LEAGUE_ID\",\"LEAGUE_ID\",\"LEAGUE_ID\",\"LEAGUE_ID\",\"LEAGUE_ID\",\"LEAGUE_ID\",\"LEAGUE_ID\",\"LEAGUE_ID\",\"LEAGUE_ID\",\"LEAGUE_ID\",\"LEAGUE_ID\",\"LEAGUE_ID\",\"LEAGUE_ID\",\"LEAGUE_ID\",\"LEAGUE_ID\",\"LEAGUE_ID\",\"LEAGUE_ID\",\"LEAGUE_ID\",\"LEAGUE_ID\",\"LEAGUE_ID\",\"LEAGUE_ID\",\"LEAGUE_ID\",\"LEAGUE_ID\",\"LEAGUE_ID\",\"LEAGUE_ID\",\"LEAGUE_ID\",\"LEAGUE_ID\",\"LEAGUE_ID\",\"LEAGUE_ID\",\"LEAGUE_ID\",\"LEAGUE_ID\",\"LEAGUE_ID\",\"LEAGUE_ID\",\"LEAGUE_ID\",\"LEAGUE_ID\",\"LEAGUE_ID\",\"LEAGUE_ID\",\"LEAGUE_ID\",\"LEAGUE_ID\",\"LEAGUE_ID\",\"LEAGUE_ID\",\"LEAGUE_ID\",\"LEAGUE_ID\",\"LEAGUE_ID\",\"LEAGUE_ID\",\"LEAGUE_ID\",\"LEAGUE_ID\",\"LEAGUE_ID\",\"LEAGUE_ID\",\"LEAGUE_ID\",\"LEAGUE_ID\",\"LEAGUE_ID\",\"LEAGUE_ID\",\"LEAGUE_ID\",\"LEAGUE_ID\",\"LEAGUE_ID\",\"LEAGUE_ID\",\"LEAGUE_ID\",\"LEAGUE_ID\",\"LEAGUE_ID\",\"LEAGUE_ID\",\"LEAGUE_ID\",\"LEAGUE_ID\",\"LEAGUE_ID\",\"LEAGUE_ID\",\"LEAGUE_ID\",\"LEAGUE_ID\",\"LEAGUE_ID\",\"LEAGUE_ID\",\"LEAGUE_ID\",\"LEAGUE_ID\",\"LEAGUE_ID\",\"LEAGUE_ID\",\"LEAGUE_ID\",\"LEAGUE_ID\",\"LEAGUE_ID\",\"LEAGUE_ID\",\"LEAGUE_ID\",\"LEAGUE_ID\",\"LEAGUE_ID\",\"LEAGUE_ID\",\"LEAGUE_ID\",\"LEAGUE_ID\",\"LEAGUE_ID\",\"LEAGUE_ID\",\"LEAGUE_ID\",\"LEAGUE_ID\",\"LEAGUE_ID\",\"LEAGUE_ID\",\"LEAGUE_ID\",\"LEAGUE_ID\",\"LEAGUE_ID\",\"LEAGUE_ID\",\"LEAGUE_ID\",\"LEAGUE_ID\",\"LEAGUE_ID\",\"LEAGUE_ID\",\"LEAGUE_ID\",\"LEAGUE_ID\",\"LEAGUE_ID\",\"LEAGUE_ID\",\"LEAGUE_ID\",\"LEAGUE_ID\",\"LEAGUE_ID\",\"LEAGUE_ID\",\"LEAGUE_ID\",\"LEAGUE_ID\",\"LEAGUE_ID\",\"LEAGUE_ID\",\"LEAGUE_ID\",\"LEAGUE_ID\",\"LEAGUE_ID\",\"LEAGUE_ID\",\"LEAGUE_ID\",\"LEAGUE_ID\",\"LEAGUE_ID\",\"LEAGUE_ID\",\"LEAGUE_ID\",\"LEAGUE_ID\",\"LEAGUE_ID\",\"LEAGUE_ID\",\"LEAGUE_ID\",\"LEAGUE_ID\",\"LEAGUE_ID\",\"LEAGUE_ID\",\"LEAGUE_ID\",\"LEAGUE_ID\",\"LEAGUE_ID\",\"LEAGUE_ID\",\"LEAGUE_ID\",\"LEAGUE_ID\",\"LEAGUE_ID\",\"LEAGUE_ID\",\"LEAGUE_ID\",\"LEAGUE_ID\",\"LEAGUE_ID\",\"LEAGUE_ID\",\"LEAGUE_ID\",\"LEAGUE_ID\",\"LEAGUE_ID\",\"LEAGUE_ID\",\"LEAGUE_ID\",\"LEAGUE_ID\",\"LEAGUE_ID\",\"LEAGUE_ID\",\"LEAGUE_ID\",\"LEAGUE_ID\",\"LEAGUE_ID\",\"LEAGUE_ID\",\"LEAGUE_ID\",\"LEAGUE_ID\",\"LEAGUE_ID\",\"LEAGUE_ID\",\"LEAGUE_ID\",\"LEAGUE_ID\",\"LEAGUE_ID\",\"LEAGUE_ID\",\"LEAGUE_ID\",\"LEAGUE_ID\",\"LEAGUE_ID\",\"LEAGUE_ID\",\"LEAGUE_ID\",\"LEAGUE_ID\",\"LEAGUE_ID\",\"LEAGUE_ID\",\"LEAGUE_ID\",\"LEAGUE_ID\",\"LEAGUE_ID\",\"LEAGUE_ID\",\"LEAGUE_ID\",\"LEAGUE_ID\",\"LEAGUE_ID\",\"LEAGUE_ID\",\"LEAGUE_ID\",\"LEAGUE_ID\",\"LEAGUE_ID\",\"LEAGUE_ID\",\"LEAGUE_ID\",\"LEAGUE_ID\",\"LEAGUE_ID\",\"LEAGUE_ID\",\"LEAGUE_ID\",\"LEAGUE_ID\",\"LEAGUE_ID\",\"LEAGUE_ID\",\"LEAGUE_ID\",\"LEAGUE_ID\",\"LEAGUE_ID\",\"LEAGUE_ID\",\"LEAGUE_ID\",\"LEAGUE_ID\",\"LEAGUE_ID\",\"LEAGUE_ID\",\"LEAGUE_ID\",\"LEAGUE_ID\",\"LEAGUE_ID\",\"LEAGUE_ID\",\"LEAGUE_ID\",\"LEAGUE_ID\",\"LEAGUE_ID\",\"LEAGUE_ID\",\"LEAGUE_ID\",\"LEAGUE_ID\",\"LEAGUE_ID\",\"LEAGUE_ID\",\"LEAGUE_ID\",\"LEAGUE_ID\",\"LEAGUE_ID\",\"LEAGUE_ID\",\"LEAGUE_ID\",\"LEAGUE_ID\",\"LEAGUE_ID\",\"LEAGUE_ID\",\"LEAGUE_ID\",\"LEAGUE_ID\",\"LEAGUE_ID\",\"LEAGUE_ID\",\"LEAGUE_ID\",\"LEAGUE_ID\",\"LEAGUE_ID\",\"LEAGUE_ID\",\"LEAGUE_ID\",\"LEAGUE_ID\",\"LEAGUE_ID\",\"LEAGUE_ID\",\"LEAGUE_ID\",\"LEAGUE_ID\",\"LEAGUE_ID\",\"LEAGUE_ID\",\"LEAGUE_ID\",\"LEAGUE_ID\",\"LEAGUE_ID\",\"LEAGUE_ID\",\"LEAGUE_ID\",\"LEAGUE_ID\",\"LEAGUE_ID\",\"LEAGUE_ID\",\"LEAGUE_ID\",\"LEAGUE_ID\",\"LEAGUE_ID\",\"LEAGUE_ID\",\"LEAGUE_ID\",\"LEAGUE_ID\",\"LEAGUE_ID\",\"LEAGUE_ID\",\"LEAGUE_ID\",\"LEAGUE_ID\",\"LEAGUE_ID\",\"LEAGUE_ID\",\"LEAGUE_ID\",\"LEAGUE_ID\",\"LEAGUE_ID\",\"LEAGUE_ID\",\"LEAGUE_ID\",\"LEAGUE_ID\",\"LEAGUE_ID\",\"LEAGUE_ID\",\"LEAGUE_ID\",\"LEAGUE_ID\",\"LEAGUE_ID\",\"LEAGUE_ID\",\"LEAGUE_ID\",\"LEAGUE_ID\",\"LEAGUE_ID\",\"LEAGUE_ID\",\"LEAGUE_ID\",\"LEAGUE_ID\",\"LEAGUE_ID\",\"LEAGUE_ID\",\"LEAGUE_ID\",\"LEAGUE_ID\",\"LEAGUE_ID\",\"LEAGUE_ID\",\"LEAGUE_ID\",\"LEAGUE_ID\",\"LEAGUE_ID\",\"LEAGUE_ID\",\"LEAGUE_ID\",\"LEAGUE_ID\",\"LEAGUE_ID\",\"LEAGUE_ID\",\"LEAGUE_ID\",\"LEAGUE_ID\",\"LEAGUE_ID\",\"LEAGUE_ID\",\"LEAGUE_ID\",\"LEAGUE_ID\",\"LEAGUE_ID\",\"LEAGUE_ID\",\"LEAGUE_ID\",\"LEAGUE_ID\",\"LEAGUE_ID\",\"LEAGUE_ID\",\"LEAGUE_ID\",\"LEAGUE_ID\",\"LEAGUE_ID\",\"LEAGUE_ID\",\"LEAGUE_ID\",\"LEAGUE_ID\",\"LEAGUE_ID\",\"LEAGUE_ID\",\"LEAGUE_ID\",\"LEAGUE_ID\",\"LEAGUE_ID\",\"LEAGUE_ID\",\"LEAGUE_ID\",\"LEAGUE_ID\",\"LEAGUE_ID\",\"LEAGUE_ID\",\"LEAGUE_ID\",\"LEAGUE_ID\",\"LEAGUE_ID\",\"LEAGUE_ID\",\"LEAGUE_ID\",\"LEAGUE_ID\",\"LEAGUE_ID\",\"LEAGUE_ID\",\"LEAGUE_ID\",\"LEAGUE_ID\",\"LEAGUE_ID\",\"LEAGUE_ID\",\"LEAGUE_ID\",\"LEAGUE_ID\",\"LEAGUE_ID\",\"LEAGUE_ID\",\"LEAGUE_ID\",\"LEAGUE_ID\",\"LEAGUE_ID\",\"LEAGUE_ID\",\"LEAGUE_ID\",\"LEAGUE_ID\",\"LEAGUE_ID\",\"LEAGUE_ID\",\"LEAGUE_ID\",\"LEAGUE_ID\",\"LEAGUE_ID\",\"LEAGUE_ID\",\"LEAGUE_ID\",\"LEAGUE_ID\",\"LEAGUE_ID\",\"LEAGUE_ID\",\"LEAGUE_ID\",\"LEAGUE_ID\",\"LEAGUE_ID\",\"LEAGUE_ID\",\"LEAGUE_ID\",\"LEAGUE_ID\",\"LEAGUE_ID\",\"LEAGUE_ID\",\"LEAGUE_ID\",\"LEAGUE_ID\",\"LEAGUE_ID\",\"LEAGUE_ID\",\"LEAGUE_ID\",\"LEAGUE_ID\",\"LEAGUE_ID\",\"LEAGUE_ID\",\"LEAGUE_ID\",\"LEAGUE_ID\",\"LEAGUE_ID\",\"LEAGUE_ID\",\"LEAGUE_ID\",\"LEAGUE_ID\",\"LEAGUE_ID\",\"LEAGUE_ID\",\"LEAGUE_ID\",\"LEAGUE_ID\",\"LEAGUE_ID\",\"LEAGUE_ID\",\"LEAGUE_ID\",\"LEAGUE_ID\",\"LEAGUE_ID\",\"LEAGUE_ID\",\"LEAGUE_ID\",\"LEAGUE_ID\",\"LEAGUE_ID\",\"LEAGUE_ID\",\"LEAGUE_ID\",\"LEAGUE_ID\",\"LEAGUE_ID\",\"LEAGUE_ID\",\"LEAGUE_ID\",\"LEAGUE_ID\",\"LEAGUE_ID\",\"LEAGUE_ID\",\"LEAGUE_ID\",\"LEAGUE_ID\",\"LEAGUE_ID\",\"LEAGUE_ID\",\"LEAGUE_ID\",\"LEAGUE_ID\",\"LEAGUE_ID\",\"LEAGUE_ID\",\"LEAGUE_ID\",\"LEAGUE_ID\",\"LEAGUE_ID\",\"LEAGUE_ID\",\"LEAGUE_ID\",\"LEAGUE_ID\",\"LEAGUE_ID\",\"LEAGUE_ID\",\"LEAGUE_ID\",\"LEAGUE_ID\",\"LEAGUE_ID\",\"LEAGUE_ID\",\"LEAGUE_ID\",\"LEAGUE_ID\",\"LEAGUE_ID\",\"LEAGUE_ID\",\"LEAGUE_ID\",\"LEAGUE_ID\",\"LEAGUE_ID\",\"LEAGUE_ID\",\"LEAGUE_ID\",\"LEAGUE_ID\",\"LEAGUE_ID\",\"LEAGUE_ID\",\"LEAGUE_ID\",\"LEAGUE_ID\",\"LEAGUE_ID\",\"LEAGUE_ID\",\"LEAGUE_ID\",\"LEAGUE_ID\",\"LEAGUE_ID\",\"LEAGUE_ID\",\"LEAGUE_ID\",\"LEAGUE_ID\",\"LEAGUE_ID\",\"LEAGUE_ID\",\"LEAGUE_ID\",\"LEAGUE_ID\",\"LEAGUE_ID\",\"LEAGUE_ID\",\"LEAGUE_ID\",\"LEAGUE_ID\",\"LEAGUE_ID\",\"LEAGUE_ID\",\"LEAGUE_ID\",\"LEAGUE_ID\",\"LEAGUE_ID\",\"LEAGUE_ID\",\"LEAGUE_ID\",\"LEAGUE_ID\",\"LEAGUE_ID\",\"LEAGUE_ID\",\"LEAGUE_ID\",\"LEAGUE_ID\",\"LEAGUE_ID\",\"LEAGUE_ID\",\"LEAGUE_ID\",\"LEAGUE_ID\",\"LEAGUE_ID\",\"LEAGUE_ID\",\"LEAGUE_ID\",\"LEAGUE_ID\",\"LEAGUE_ID\",\"LEAGUE_ID\",\"LEAGUE_ID\",\"LEAGUE_ID\",\"LEAGUE_ID\",\"LEAGUE_ID\",\"LEAGUE_ID\",\"LEAGUE_ID\",\"LEAGUE_ID\",\"LEAGUE_ID\",\"LEAGUE_ID\",\"LEAGUE_ID\",\"LEAGUE_ID\",\"LEAGUE_ID\",\"LEAGUE_ID\",\"LEAGUE_ID\",\"LEAGUE_ID\",\"LEAGUE_ID\",\"LEAGUE_ID\",\"LEAGUE_ID\",\"LEAGUE_ID\",\"LEAGUE_ID\",\"LEAGUE_ID\",\"LEAGUE_ID\",\"LEAGUE_ID\",\"LEAGUE_ID\",\"LEAGUE_ID\",\"LEAGUE_ID\",\"LEAGUE_ID\",\"LEAGUE_ID\",\"LEAGUE_ID\",\"LEAGUE_ID\",\"LEAGUE_ID\",\"LEAGUE_ID\",\"LEAGUE_ID\",\"LEAGUE_ID\"],\"index\":[0,1,2,3,4,5,6,7,8,9,10,11,12,13,14,15,16,17,18,19,20,21,22,23,24,25,26,27,28,29,30,31,32,33,34,35,36,37,38,39,40,41,42,43,44,45,46,47,48,49,50,51,52,53,54,55,56,57,58,59,60,61,62,63,64,65,66,67,68,69,70,71,72,73,74,75,76,77,78,79,80,81,82,83,84,85,86,87,88,89,90,91,92,93,94,95,96,97,98,99,100,101,102,103,104,105,106,107,108,109,110,111,112,113,114,115,116,117,118,119,120,121,122,123,124,125,126,127,128,129,130,131,132,133,134,135,136,137,138,139,140,141,142,143,144,145,146,147,148,149,150,151,152,153,154,155,156,157,158,159,160,161,162,163,164,165,166,167,168,169,170,171,172,173,174,175,176,177,178,179,180,181,182,183,184,185,186,187,188,189,190,191,192,193,194,195,196,197,198,199,200,201,202,203,204,205,206,207,208,209,210,211,212,213,214,215,216,217,218,219,220,221,222,223,224,225,226,227,228,229,230,231,232,233,234,235,236,237,238,239,240,241,242,243,244,245,246,247,248,249,250,251,252,253,254,255,256,257,258,259,260,261,262,263,264,265,266,267,268,269,270,271,272,273,274,275,276,277,278,279,280,281,282,283,284,285,286,287,288,289,290,291,292,293,294,295,296,297,298,299,300,301,302,303,304,305,306,307,308,309,310,311,312,313,314,315,316,317,318,319,320,321,322,323,324,325,326,327,328,329,330,331,332,333,334,335,336,337,338,339,340,341,342,343,344,345,346,347,348,349,350,351,352,353,354,355,356,357,358,359,360,361,362,363,364,365,366,367,368,369,370,371,372,373,374,375,376,377,378,379,380,381,382,383,384,385,386,387,388,389,390,391,392,393,394,395,396,397,398,399,400,401,402,403,404,405,406,407,408,409,410,411,412,413,414,415,416,417,418,419,420,421,422,423,424,425,426,427,428,429,430,431,432,433,434,435,436,437,438,439,440,441,442,443,444,445,446,447,448,449,450,451,452,453,454,455,456,457,458,459,460,461,462,463,464,465,466,467,468,469,470,471,472,473,474,475,476,477,478,479,480,481,482,483,484,485,486,487,488,489,490,491,492,493,494,495,496,497,498,499,500,501,502,503,504,505,506,507,508,509,510,511,512,513,514,515,516,517,518,519,520,521,522,523,524,525,526,527,528,529,530,531,532,533,534,535,536,537,538,539,540,541,542,543,544,545,546,547,548,549,550,551,552,553,554,555,556,557,558,559,560,561,562,563,564,565,566,567,568,569,570,571,572,573,574,575,576,577,578,579,580,581,582,583,584,585,586,587,588,589,590,591,592,593,594,595,596,597,598,599,600,601,602,603,604,605,606,607,608,609,610,611,612,613,614,615,616,617,618,619,620,621,622,623,624,625,626,627,628,629,630,631,632,633,634,635,636,637,638,639,640,641,642,643,644,645,646,647,648,649,650,651,652,653,654,655,656,657,658,659,660,661,662,663,664,665,666,667,668,669,670,671,672,673,674,675,676,677,678,679,680,681,682,683,684,685,686,687,688,689,690,691,692,693,694,695,696,697,698,699,700,701,702,703,704,705,706,707,708,709,710,711,712,713,714,715,716,717,718,719,720,721,722,723,724,725,726,727,728,729,730,731,732,733,734,735,736,737,738,739,740,741,742,743,744,745,746,747,748,749,750,751,752,753,754,755,756,757,758,759,760,761,762,763,764,765],\"value\":[0,0,0,0,0,0,0,0,0,0,0,0,0,0,0,0,0,0,0,0,0,0,0,0,0,0,0,0,0,0,0,0,0,0,0,0,0,0,0,0,0,0,0,0,0,0,0,0,0,0,0,0,0,0,0,0,0,0,0,0,0,0,0,0,0,0,0,0,0,0,0,0,0,0,0,0,0,0,0,0,0,0,0,0,0,0,0,0,0,0,0,0,0,0,0,0,0,0,0,0,0,0,0,0,0,0,0,0,0,0,0,0,0,0,0,0,0,0,0,0,0,0,0,0,0,0,0,0,0,0,0,0,0,0,0,0,0,0,0,0,0,0,0,0,0,0,0,0,0,0,0,0,0,0,0,0,0,0,0,0,0,0,0,0,0,0,0,0,0,0,0,0,0,0,0,0,0,0,0,0,0,0,0,0,0,0,0,0,0,0,0,0,0,0,0,0,0,0,0,0,0,0,0,0,0,0,0,0,0,0,0,0,0,0,0,0,0,0,0,0,0,0,0,0,0,0,0,0,0,0,0,0,0,0,0,0,0,0,0,0,0,0,0,0,0,0,0,0,0,0,0,0,0,0,0,0,0,0,0,0,0,0,0,0,0,0,0,0,0,0,0,0,0,0,0,0,0,0,0,0,0,0,0,0,0,0,0,0,0,0,0,0,0,0,0,0,0,0,0,0,0,0,0,0,0,0,0,0,0,0,0,0,0,0,0,0,0,0,0,0,0,0,0,0,0,0,0,0,0,0,0,0,0,0,0,0,0,0,0,0,0,0,0,0,0,0,0,0,0,0,0,0,0,0,0,0,0,0,0,0,0,0,0,0,0,0,0,0,0,0,0,0,0,0,0,0,0,0,0,0,0,0,0,0,0,0,0,0,0,0,0,0,0,0,0,0,0,0,0,0,0,0,0,0,0,0,0,0,0,0,0,0,0,0,0,0,0,0,0,0,0,0,0,0,0,0,0,0,0,0,0,0,0,0,0,0,0,0,0,0,0,0,0,0,0,0,0,0,0,0,0,0,0,0,0,0,0,0,0,0,0,0,0,0,0,0,0,0,0,0,0,0,0,0,0,0,0,0,0,0,0,0,0,0,0,0,0,0,0,0,0,0,0,0,0,0,0,0,0,0,0,0,0,0,0,0,0,0,0,0,0,0,0,0,0,0,0,0,0,0,0,0,0,0,0,0,0,0,0,0,0,0,0,0,0,0,0,0,0,0,0,0,0,0,0,0,0,0,0,0,0,0,0,0,0,0,0,0,0,0,0,0,0,0,0,0,0,0,0,0,0,0,0,0,0,0,0,0,0,0,0,0,0,0,0,0,0,0,0,0,0,0,0,0,0,0,0,0,0,0,0,0,0,0,0,0,0,0,0,0,0,0,0,0,0,0,0,0,0,0,0,0,0,0,0,0,0,0,0,0,0,0,0,0,0,0,0,0,0,0,0,0,0,0,0,0,0,0,0,0,0,0,0,0,0,0,0,0,0,0,0,0,0,0,0,0,0,0,0,0,0,0,0,0,0,0,0,0,0,0,0,0,0,0,0,0,0,0,0,0,0,0,0,0,0,0,0,0,0,0,0,0,0,0,0,0,0,0,0,0,0,0,0,0,0,0,0,0,0,0,0,0,0,0,0,0,0,0,0,0,0,0,0,0,0,0,0,0,0,0,0,0,0,0,0,0,0,0,0,0,0,0,0,0,0,0,0,0,0,0,0,0,0,0,0,0]},\"selected\":{\"id\":\"22003\"},\"selection_policy\":{\"id\":\"22019\"}},\"id\":\"22002\",\"type\":\"ColumnDataSource\"},{\"attributes\":{\"source\":{\"id\":\"22648\"}},\"id\":\"22655\",\"type\":\"CDSView\"},{\"attributes\":{},\"id\":\"23009\",\"type\":\"UnionRenderers\"},{\"attributes\":{\"end\":1771674042.6,\"reset_end\":1771674042.6,\"reset_start\":-161061276.60000002,\"start\":-161061276.60000002,\"tags\":[[[\"value\",\"value\",null]]]},\"id\":\"21918\",\"type\":\"Range1d\"},{\"attributes\":{\"coordinates\":null,\"data_source\":{\"id\":\"22024\"},\"glyph\":{\"id\":\"22027\"},\"group\":null,\"hover_glyph\":null,\"muted_glyph\":{\"id\":\"22029\"},\"nonselection_glyph\":{\"id\":\"22028\"},\"selection_glyph\":{\"id\":\"22047\"},\"view\":{\"id\":\"22031\"}},\"id\":\"22030\",\"type\":\"GlyphRenderer\"},{\"attributes\":{\"line_alpha\":0.2,\"line_color\":\"#1f77b4\",\"line_width\":2,\"tags\":[\"apply_ranges\"],\"x\":{\"field\":\"index\"},\"y\":{\"field\":\"value\"}},\"id\":\"22767\",\"type\":\"Line\"},{\"attributes\":{\"line_color\":\"#8b8b8b\",\"line_width\":2,\"tags\":[\"apply_ranges\"],\"x\":{\"field\":\"index\"},\"y\":{\"field\":\"value\"}},\"id\":\"22101\",\"type\":\"Line\"},{\"attributes\":{\"line_alpha\":0.2,\"line_color\":\"#d62728\",\"line_width\":2,\"tags\":[\"apply_ranges\"],\"x\":{\"field\":\"index\"},\"y\":{\"field\":\"value\"}},\"id\":\"22709\",\"type\":\"Line\"},{\"attributes\":{\"coordinates\":null,\"data_source\":{\"id\":\"22048\"},\"glyph\":{\"id\":\"22051\"},\"group\":null,\"hover_glyph\":null,\"muted_glyph\":{\"id\":\"22053\"},\"nonselection_glyph\":{\"id\":\"22052\"},\"selection_glyph\":{\"id\":\"22073\"},\"view\":{\"id\":\"22055\"}},\"id\":\"22054\",\"type\":\"GlyphRenderer\"},{\"attributes\":{\"source\":{\"id\":\"22762\"}},\"id\":\"22769\",\"type\":\"CDSView\"},{\"attributes\":{\"line_color\":\"#9467bd\",\"line_width\":2,\"tags\":[\"apply_ranges\"],\"x\":{\"field\":\"index\"},\"y\":{\"field\":\"value\"}},\"id\":\"22703\",\"type\":\"Line\"},{\"attributes\":{\"label\":{\"value\":\"PF\"},\"renderers\":[{\"id\":\"22954\"}]},\"id\":\"23012\",\"type\":\"LegendItem\"},{\"attributes\":{\"line_alpha\":0.1,\"line_color\":\"#9467bd\",\"line_width\":2,\"tags\":[\"apply_ranges\"],\"x\":{\"field\":\"index\"},\"y\":{\"field\":\"value\"}},\"id\":\"22136\",\"type\":\"Line\"},{\"attributes\":{\"source\":{\"id\":\"23082\"}},\"id\":\"23089\",\"type\":\"CDSView\"},{\"attributes\":{\"coordinates\":null,\"data_source\":{\"id\":\"22762\"},\"glyph\":{\"id\":\"22765\"},\"group\":null,\"hover_glyph\":null,\"muted_glyph\":{\"id\":\"22767\"},\"nonselection_glyph\":{\"id\":\"22766\"},\"selection_glyph\":{\"id\":\"22821\"},\"view\":{\"id\":\"22769\"}},\"id\":\"22768\",\"type\":\"GlyphRenderer\"},{\"attributes\":{\"line_alpha\":0.2,\"line_color\":\"#17becf\",\"line_width\":2,\"tags\":[\"apply_ranges\"],\"x\":{\"field\":\"index\"},\"y\":{\"field\":\"value\"}},\"id\":\"22107\",\"type\":\"Line\"},{\"attributes\":{\"coordinates\":null,\"data_source\":{\"id\":\"22132\"},\"glyph\":{\"id\":\"22135\"},\"group\":null,\"hover_glyph\":null,\"muted_glyph\":{\"id\":\"22137\"},\"nonselection_glyph\":{\"id\":\"22136\"},\"selection_glyph\":{\"id\":\"22163\"},\"view\":{\"id\":\"22139\"}},\"id\":\"22138\",\"type\":\"GlyphRenderer\"},{\"attributes\":{\"children\":[{\"id\":\"21945\"}],\"height\":400,\"margin\":[0,0,0,0],\"name\":\"Row17903\",\"sizing_mode\":\"fixed\",\"tags\":[\"embedded\"],\"width\":800},\"id\":\"21916\",\"type\":\"Row\"},{\"attributes\":{\"line_color\":\"#bcbd22\",\"line_width\":2,\"tags\":[\"apply_ranges\"],\"x\":{\"field\":\"index\"},\"y\":{\"field\":\"value\"}},\"id\":\"23013\",\"type\":\"Line\"},{\"attributes\":{\"data\":{\"Variable\":[\"TOV\",\"TOV\",\"TOV\",\"TOV\",\"TOV\",\"TOV\",\"TOV\",\"TOV\",\"TOV\",\"TOV\",\"TOV\",\"TOV\",\"TOV\",\"TOV\",\"TOV\",\"TOV\",\"TOV\",\"TOV\",\"TOV\",\"TOV\",\"TOV\",\"TOV\",\"TOV\",\"TOV\",\"TOV\",\"TOV\",\"TOV\",\"TOV\",\"TOV\",\"TOV\",\"TOV\",\"TOV\",\"TOV\",\"TOV\",\"TOV\",\"TOV\",\"TOV\",\"TOV\",\"TOV\",\"TOV\",\"TOV\",\"TOV\",\"TOV\",\"TOV\",\"TOV\",\"TOV\",\"TOV\",\"TOV\",\"TOV\",\"TOV\",\"TOV\",\"TOV\",\"TOV\",\"TOV\",\"TOV\",\"TOV\",\"TOV\",\"TOV\",\"TOV\",\"TOV\",\"TOV\",\"TOV\",\"TOV\",\"TOV\",\"TOV\",\"TOV\",\"TOV\",\"TOV\",\"TOV\",\"TOV\",\"TOV\",\"TOV\",\"TOV\",\"TOV\",\"TOV\",\"TOV\",\"TOV\",\"TOV\",\"TOV\",\"TOV\",\"TOV\",\"TOV\",\"TOV\",\"TOV\",\"TOV\",\"TOV\",\"TOV\",\"TOV\",\"TOV\",\"TOV\",\"TOV\",\"TOV\",\"TOV\",\"TOV\",\"TOV\",\"TOV\",\"TOV\",\"TOV\",\"TOV\",\"TOV\",\"TOV\",\"TOV\",\"TOV\",\"TOV\",\"TOV\",\"TOV\",\"TOV\",\"TOV\",\"TOV\",\"TOV\",\"TOV\",\"TOV\",\"TOV\",\"TOV\",\"TOV\",\"TOV\",\"TOV\",\"TOV\",\"TOV\",\"TOV\",\"TOV\",\"TOV\",\"TOV\",\"TOV\",\"TOV\",\"TOV\",\"TOV\",\"TOV\",\"TOV\",\"TOV\",\"TOV\",\"TOV\",\"TOV\",\"TOV\",\"TOV\",\"TOV\",\"TOV\",\"TOV\",\"TOV\",\"TOV\",\"TOV\",\"TOV\",\"TOV\",\"TOV\",\"TOV\",\"TOV\",\"TOV\",\"TOV\",\"TOV\",\"TOV\",\"TOV\",\"TOV\",\"TOV\",\"TOV\",\"TOV\",\"TOV\",\"TOV\",\"TOV\",\"TOV\",\"TOV\",\"TOV\",\"TOV\",\"TOV\",\"TOV\",\"TOV\",\"TOV\",\"TOV\",\"TOV\",\"TOV\",\"TOV\",\"TOV\",\"TOV\",\"TOV\",\"TOV\",\"TOV\",\"TOV\",\"TOV\",\"TOV\",\"TOV\",\"TOV\",\"TOV\",\"TOV\",\"TOV\",\"TOV\",\"TOV\",\"TOV\",\"TOV\",\"TOV\",\"TOV\",\"TOV\",\"TOV\",\"TOV\",\"TOV\",\"TOV\",\"TOV\",\"TOV\",\"TOV\",\"TOV\",\"TOV\",\"TOV\",\"TOV\",\"TOV\",\"TOV\",\"TOV\",\"TOV\",\"TOV\",\"TOV\",\"TOV\",\"TOV\",\"TOV\",\"TOV\",\"TOV\",\"TOV\",\"TOV\",\"TOV\",\"TOV\",\"TOV\",\"TOV\",\"TOV\",\"TOV\",\"TOV\",\"TOV\",\"TOV\",\"TOV\",\"TOV\",\"TOV\",\"TOV\",\"TOV\",\"TOV\",\"TOV\",\"TOV\",\"TOV\",\"TOV\",\"TOV\",\"TOV\",\"TOV\",\"TOV\",\"TOV\",\"TOV\",\"TOV\",\"TOV\",\"TOV\",\"TOV\",\"TOV\",\"TOV\",\"TOV\",\"TOV\",\"TOV\",\"TOV\",\"TOV\",\"TOV\",\"TOV\",\"TOV\",\"TOV\",\"TOV\",\"TOV\",\"TOV\",\"TOV\",\"TOV\",\"TOV\",\"TOV\",\"TOV\",\"TOV\",\"TOV\",\"TOV\",\"TOV\",\"TOV\",\"TOV\",\"TOV\",\"TOV\",\"TOV\",\"TOV\",\"TOV\",\"TOV\",\"TOV\",\"TOV\",\"TOV\",\"TOV\",\"TOV\",\"TOV\",\"TOV\",\"TOV\",\"TOV\",\"TOV\",\"TOV\",\"TOV\",\"TOV\",\"TOV\",\"TOV\",\"TOV\",\"TOV\",\"TOV\",\"TOV\",\"TOV\",\"TOV\",\"TOV\",\"TOV\",\"TOV\",\"TOV\",\"TOV\",\"TOV\",\"TOV\",\"TOV\",\"TOV\",\"TOV\",\"TOV\",\"TOV\",\"TOV\",\"TOV\",\"TOV\",\"TOV\",\"TOV\",\"TOV\",\"TOV\",\"TOV\",\"TOV\",\"TOV\",\"TOV\",\"TOV\",\"TOV\",\"TOV\",\"TOV\",\"TOV\",\"TOV\",\"TOV\",\"TOV\",\"TOV\",\"TOV\",\"TOV\",\"TOV\",\"TOV\",\"TOV\",\"TOV\",\"TOV\",\"TOV\",\"TOV\",\"TOV\",\"TOV\",\"TOV\",\"TOV\",\"TOV\",\"TOV\",\"TOV\",\"TOV\",\"TOV\",\"TOV\",\"TOV\",\"TOV\",\"TOV\",\"TOV\",\"TOV\",\"TOV\",\"TOV\",\"TOV\",\"TOV\",\"TOV\",\"TOV\",\"TOV\",\"TOV\",\"TOV\",\"TOV\",\"TOV\",\"TOV\",\"TOV\",\"TOV\",\"TOV\",\"TOV\",\"TOV\",\"TOV\",\"TOV\",\"TOV\",\"TOV\",\"TOV\",\"TOV\",\"TOV\",\"TOV\",\"TOV\",\"TOV\",\"TOV\",\"TOV\",\"TOV\",\"TOV\",\"TOV\",\"TOV\",\"TOV\",\"TOV\",\"TOV\",\"TOV\",\"TOV\",\"TOV\",\"TOV\",\"TOV\",\"TOV\",\"TOV\",\"TOV\",\"TOV\",\"TOV\",\"TOV\",\"TOV\",\"TOV\",\"TOV\",\"TOV\",\"TOV\",\"TOV\",\"TOV\",\"TOV\",\"TOV\",\"TOV\",\"TOV\",\"TOV\",\"TOV\",\"TOV\",\"TOV\",\"TOV\",\"TOV\",\"TOV\",\"TOV\",\"TOV\",\"TOV\",\"TOV\",\"TOV\",\"TOV\",\"TOV\",\"TOV\",\"TOV\",\"TOV\",\"TOV\",\"TOV\",\"TOV\",\"TOV\",\"TOV\",\"TOV\",\"TOV\",\"TOV\",\"TOV\",\"TOV\",\"TOV\",\"TOV\",\"TOV\",\"TOV\",\"TOV\",\"TOV\",\"TOV\",\"TOV\",\"TOV\",\"TOV\",\"TOV\",\"TOV\",\"TOV\",\"TOV\",\"TOV\",\"TOV\",\"TOV\",\"TOV\",\"TOV\",\"TOV\",\"TOV\",\"TOV\",\"TOV\",\"TOV\",\"TOV\",\"TOV\",\"TOV\",\"TOV\",\"TOV\",\"TOV\",\"TOV\",\"TOV\",\"TOV\",\"TOV\",\"TOV\",\"TOV\",\"TOV\",\"TOV\",\"TOV\",\"TOV\",\"TOV\",\"TOV\",\"TOV\",\"TOV\",\"TOV\",\"TOV\",\"TOV\",\"TOV\",\"TOV\",\"TOV\",\"TOV\",\"TOV\",\"TOV\",\"TOV\",\"TOV\",\"TOV\",\"TOV\",\"TOV\",\"TOV\",\"TOV\",\"TOV\",\"TOV\",\"TOV\",\"TOV\",\"TOV\",\"TOV\",\"TOV\",\"TOV\",\"TOV\",\"TOV\",\"TOV\",\"TOV\",\"TOV\",\"TOV\",\"TOV\",\"TOV\",\"TOV\",\"TOV\",\"TOV\",\"TOV\",\"TOV\",\"TOV\",\"TOV\",\"TOV\",\"TOV\",\"TOV\",\"TOV\",\"TOV\",\"TOV\",\"TOV\",\"TOV\",\"TOV\",\"TOV\",\"TOV\",\"TOV\",\"TOV\",\"TOV\",\"TOV\",\"TOV\",\"TOV\",\"TOV\",\"TOV\",\"TOV\",\"TOV\",\"TOV\",\"TOV\",\"TOV\",\"TOV\",\"TOV\",\"TOV\",\"TOV\",\"TOV\",\"TOV\",\"TOV\",\"TOV\",\"TOV\",\"TOV\",\"TOV\",\"TOV\",\"TOV\",\"TOV\",\"TOV\",\"TOV\",\"TOV\",\"TOV\",\"TOV\",\"TOV\",\"TOV\",\"TOV\",\"TOV\",\"TOV\",\"TOV\",\"TOV\",\"TOV\",\"TOV\",\"TOV\",\"TOV\",\"TOV\",\"TOV\",\"TOV\",\"TOV\",\"TOV\",\"TOV\",\"TOV\",\"TOV\",\"TOV\",\"TOV\",\"TOV\",\"TOV\",\"TOV\",\"TOV\",\"TOV\",\"TOV\",\"TOV\",\"TOV\",\"TOV\",\"TOV\",\"TOV\",\"TOV\",\"TOV\",\"TOV\",\"TOV\",\"TOV\",\"TOV\",\"TOV\",\"TOV\",\"TOV\",\"TOV\",\"TOV\",\"TOV\",\"TOV\",\"TOV\",\"TOV\",\"TOV\",\"TOV\",\"TOV\",\"TOV\",\"TOV\",\"TOV\",\"TOV\",\"TOV\",\"TOV\",\"TOV\",\"TOV\",\"TOV\",\"TOV\",\"TOV\",\"TOV\",\"TOV\",\"TOV\",\"TOV\",\"TOV\",\"TOV\",\"TOV\",\"TOV\",\"TOV\",\"TOV\",\"TOV\",\"TOV\",\"TOV\",\"TOV\",\"TOV\",\"TOV\",\"TOV\",\"TOV\",\"TOV\",\"TOV\",\"TOV\",\"TOV\",\"TOV\",\"TOV\",\"TOV\",\"TOV\",\"TOV\",\"TOV\",\"TOV\",\"TOV\",\"TOV\",\"TOV\",\"TOV\",\"TOV\",\"TOV\",\"TOV\",\"TOV\",\"TOV\",\"TOV\",\"TOV\",\"TOV\",\"TOV\",\"TOV\",\"TOV\",\"TOV\",\"TOV\",\"TOV\",\"TOV\",\"TOV\",\"TOV\",\"TOV\",\"TOV\",\"TOV\",\"TOV\",\"TOV\",\"TOV\",\"TOV\",\"TOV\",\"TOV\",\"TOV\",\"TOV\",\"TOV\",\"TOV\",\"TOV\",\"TOV\",\"TOV\",\"TOV\",\"TOV\",\"TOV\",\"TOV\",\"TOV\",\"TOV\",\"TOV\",\"TOV\",\"TOV\",\"TOV\",\"TOV\",\"TOV\",\"TOV\",\"TOV\",\"TOV\",\"TOV\",\"TOV\",\"TOV\",\"TOV\",\"TOV\",\"TOV\",\"TOV\",\"TOV\",\"TOV\",\"TOV\",\"TOV\",\"TOV\",\"TOV\",\"TOV\",\"TOV\",\"TOV\",\"TOV\",\"TOV\",\"TOV\",\"TOV\",\"TOV\",\"TOV\",\"TOV\",\"TOV\",\"TOV\",\"TOV\",\"TOV\",\"TOV\",\"TOV\",\"TOV\",\"TOV\",\"TOV\",\"TOV\",\"TOV\",\"TOV\",\"TOV\",\"TOV\",\"TOV\",\"TOV\",\"TOV\",\"TOV\",\"TOV\",\"TOV\",\"TOV\",\"TOV\",\"TOV\",\"TOV\",\"TOV\",\"TOV\",\"TOV\",\"TOV\",\"TOV\",\"TOV\",\"TOV\",\"TOV\",\"TOV\",\"TOV\",\"TOV\",\"TOV\",\"TOV\",\"TOV\",\"TOV\"],\"index\":[0,1,2,3,4,5,6,7,8,9,10,11,12,13,14,15,16,17,18,19,20,21,22,23,24,25,26,27,28,29,30,31,32,33,34,35,36,37,38,39,40,41,42,43,44,45,46,47,48,49,50,51,52,53,54,55,56,57,58,59,60,61,62,63,64,65,66,67,68,69,70,71,72,73,74,75,76,77,78,79,80,81,82,83,84,85,86,87,88,89,90,91,92,93,94,95,96,97,98,99,100,101,102,103,104,105,106,107,108,109,110,111,112,113,114,115,116,117,118,119,120,121,122,123,124,125,126,127,128,129,130,131,132,133,134,135,136,137,138,139,140,141,142,143,144,145,146,147,148,149,150,151,152,153,154,155,156,157,158,159,160,161,162,163,164,165,166,167,168,169,170,171,172,173,174,175,176,177,178,179,180,181,182,183,184,185,186,187,188,189,190,191,192,193,194,195,196,197,198,199,200,201,202,203,204,205,206,207,208,209,210,211,212,213,214,215,216,217,218,219,220,221,222,223,224,225,226,227,228,229,230,231,232,233,234,235,236,237,238,239,240,241,242,243,244,245,246,247,248,249,250,251,252,253,254,255,256,257,258,259,260,261,262,263,264,265,266,267,268,269,270,271,272,273,274,275,276,277,278,279,280,281,282,283,284,285,286,287,288,289,290,291,292,293,294,295,296,297,298,299,300,301,302,303,304,305,306,307,308,309,310,311,312,313,314,315,316,317,318,319,320,321,322,323,324,325,326,327,328,329,330,331,332,333,334,335,336,337,338,339,340,341,342,343,344,345,346,347,348,349,350,351,352,353,354,355,356,357,358,359,360,361,362,363,364,365,366,367,368,369,370,371,372,373,374,375,376,377,378,379,380,381,382,383,384,385,386,387,388,389,390,391,392,393,394,395,396,397,398,399,400,401,402,403,404,405,406,407,408,409,410,411,412,413,414,415,416,417,418,419,420,421,422,423,424,425,426,427,428,429,430,431,432,433,434,435,436,437,438,439,440,441,442,443,444,445,446,447,448,449,450,451,452,453,454,455,456,457,458,459,460,461,462,463,464,465,466,467,468,469,470,471,472,473,474,475,476,477,478,479,480,481,482,483,484,485,486,487,488,489,490,491,492,493,494,495,496,497,498,499,500,501,502,503,504,505,506,507,508,509,510,511,512,513,514,515,516,517,518,519,520,521,522,523,524,525,526,527,528,529,530,531,532,533,534,535,536,537,538,539,540,541,542,543,544,545,546,547,548,549,550,551,552,553,554,555,556,557,558,559,560,561,562,563,564,565,566,567,568,569,570,571,572,573,574,575,576,577,578,579,580,581,582,583,584,585,586,587,588,589,590,591,592,593,594,595,596,597,598,599,600,601,602,603,604,605,606,607,608,609,610,611,612,613,614,615,616,617,618,619,620,621,622,623,624,625,626,627,628,629,630,631,632,633,634,635,636,637,638,639,640,641,642,643,644,645,646,647,648,649,650,651,652,653,654,655,656,657,658,659,660,661,662,663,664,665,666,667,668,669,670,671,672,673,674,675,676,677,678,679,680,681,682,683,684,685,686,687,688,689,690,691,692,693,694,695,696,697,698,699,700,701,702,703,704,705,706,707,708,709,710,711,712,713,714,715,716,717,718,719,720,721,722,723,724,725,726,727,728,729,730,731,732,733,734,735,736,737,738,739,740,741,742,743,744,745,746,747,748,749,750,751,752,753,754,755,756,757,758,759,760,761,762,763,764,765],\"value\":[33,67,154,148,130,181,169,48,53,101,124,146,168,130,90,63,153,139,32,114,91,80,67,52,55,70,61,83,79,114,31,18,48,66,78,115,78,30,108,96,51,54,105,109,42,151,104,107,116,89,103,157,135,149,138,128,128,115,43,123,27,1,55,91,121,104,62,16,41,4,53,24,77,95,73,140,87,65,92,73,24,97,57,69,56,75,84,66,112,102,70,109,120,212,206,202,140,0,105,96,91,81,99,14,1,52,53,34,78,60,17,25,147,18,40,139,22,79,88,92,38,46,97,89,143,170,176,125,189,150,156,84,156,18,130,92,99,123,74,29,103,106,98,74,96,147,114,71,55,71,126,58,168,12,127,79,38,117,116,158,130,157,194,173,225,173,183,182,178,126,168,103,17,53,32,6,38,34,22,56,42,42,53,43,58,2,25,59,46,48,24,4,21,31,12,43,73,55,58,77,14,45,129,44,16,13,29,36,34,11,45,11,60,103,81,13,6,2,8,8,10,47,54,11,65,19,45,40,36,33,7,66,128,152,174,5,73,31,104,90,55,145,62,144,123,151,176,137,175,180,175,199,164,119,181,153,6,105,82,126,51,74,149,52,51,35,60,15,46,4,65,76,15,91,49,91,58,21,20,31,23,21,44,29,8,140,190,203,169,135,161,104,94,198,59,165,224,183,139,74,78,114,88,65,47,37,8,7,0,7,53,73,68,29,97,31,51,38,33,33,33,48,43,72,94,136,109,85,106,115,39,51,90,127,100,179,159,1,128,143,131,126,22,25,47,73,30,103,64,58,17,75,32,13,16,21,23,44,84,66,50,27,83,90,190,208,132,205,194,131,117,22,53,40,50,49,86,77,55,122,146,11,35,54,36,18,0,15,33,26,33,38,59,47,55,48,46,74,137,147,209,246,234,193,148,99,75,135,210,278,169,151,127,91,39,40,79,34,34,68,4,62,26,39,63,35,76,101,106,93,54,66,73,30,38,57,17,6,4,16,28,6,5,15,26,59,9,14,23,38,98,76,119,68,60,14,23,37,61,28,10,59,39,94,58,66,86,71,103,16,25,78,37,40,77,73,48,35,83,45,44,57,110,120,155,152,200,175,174,29,203,81,43,124,79,36,115,75,14,52,70,44,75,40,25,65,11,25,0,25,37,4,5,1,2,3,2,12,25,14,1,6,7,0,0,0,0,25,106,106,137,295,265,321,374,464,315,387,308,34,143,177,212,72,284,195,12,21,27,55,42,43,5,48,17,21,14,14,9,23,28,17,46,12,10,22,1,113,43,31,109,156,70,74,61,191,100,127,11,36,47,53,69,44,66,83,91,100,25,85,66,34,73,42,18,60,41,75,101,74,100,123,109,107,115,137,111,42,153,74,85,21,16,37,48,87,62,68,65,33,62,75,51,19,14,26,74,145,102,78,97,39,16,55,8,47,55,43,16,50,95,106,150,4,44,65,71,46,9,29,13,26,39,66,93,47,57,104,44,54,49,21,70,12,10,22,77,106,154,88,46,134,102,126,82,105,100,87,30,117,8,24,55,36,21,57,60,43,60,30,90,1,1,11,40,88,66,39,28,67,36,8,21,45,46,35,81,67,183,148,25,72,97,88,57,36,19,55,10,13,4,112,45,122,90,22,5,27,93,138,73,109,110,81,78,102,83,58,2,31,91,43,26,18,18,14,2,11,27,1,2,20,23,61,42,34,64,78,79,54,16,70,62,58,42,4]},\"selected\":{\"id\":\"22885\"},\"selection_policy\":{\"id\":\"22943\"}},\"id\":\"22884\",\"type\":\"ColumnDataSource\"},{\"attributes\":{\"coordinates\":null,\"data_source\":{\"id\":\"23082\"},\"glyph\":{\"id\":\"23085\"},\"group\":null,\"hover_glyph\":null,\"muted_glyph\":{\"id\":\"23087\"},\"nonselection_glyph\":{\"id\":\"23086\"},\"selection_glyph\":{\"id\":\"23151\"},\"view\":{\"id\":\"23089\"}},\"id\":\"23088\",\"type\":\"GlyphRenderer\"},{\"attributes\":{\"line_alpha\":0.2,\"line_color\":\"#9467bd\",\"line_width\":2,\"tags\":[\"apply_ranges\"],\"x\":{\"field\":\"index\"},\"y\":{\"field\":\"value\"}},\"id\":\"22137\",\"type\":\"Line\"},{\"attributes\":{\"data\":{\"Variable\":[\"FGA\",\"FGA\",\"FGA\",\"FGA\",\"FGA\",\"FGA\",\"FGA\",\"FGA\",\"FGA\",\"FGA\",\"FGA\",\"FGA\",\"FGA\",\"FGA\",\"FGA\",\"FGA\",\"FGA\",\"FGA\",\"FGA\",\"FGA\",\"FGA\",\"FGA\",\"FGA\",\"FGA\",\"FGA\",\"FGA\",\"FGA\",\"FGA\",\"FGA\",\"FGA\",\"FGA\",\"FGA\",\"FGA\",\"FGA\",\"FGA\",\"FGA\",\"FGA\",\"FGA\",\"FGA\",\"FGA\",\"FGA\",\"FGA\",\"FGA\",\"FGA\",\"FGA\",\"FGA\",\"FGA\",\"FGA\",\"FGA\",\"FGA\",\"FGA\",\"FGA\",\"FGA\",\"FGA\",\"FGA\",\"FGA\",\"FGA\",\"FGA\",\"FGA\",\"FGA\",\"FGA\",\"FGA\",\"FGA\",\"FGA\",\"FGA\",\"FGA\",\"FGA\",\"FGA\",\"FGA\",\"FGA\",\"FGA\",\"FGA\",\"FGA\",\"FGA\",\"FGA\",\"FGA\",\"FGA\",\"FGA\",\"FGA\",\"FGA\",\"FGA\",\"FGA\",\"FGA\",\"FGA\",\"FGA\",\"FGA\",\"FGA\",\"FGA\",\"FGA\",\"FGA\",\"FGA\",\"FGA\",\"FGA\",\"FGA\",\"FGA\",\"FGA\",\"FGA\",\"FGA\",\"FGA\",\"FGA\",\"FGA\",\"FGA\",\"FGA\",\"FGA\",\"FGA\",\"FGA\",\"FGA\",\"FGA\",\"FGA\",\"FGA\",\"FGA\",\"FGA\",\"FGA\",\"FGA\",\"FGA\",\"FGA\",\"FGA\",\"FGA\",\"FGA\",\"FGA\",\"FGA\",\"FGA\",\"FGA\",\"FGA\",\"FGA\",\"FGA\",\"FGA\",\"FGA\",\"FGA\",\"FGA\",\"FGA\",\"FGA\",\"FGA\",\"FGA\",\"FGA\",\"FGA\",\"FGA\",\"FGA\",\"FGA\",\"FGA\",\"FGA\",\"FGA\",\"FGA\",\"FGA\",\"FGA\",\"FGA\",\"FGA\",\"FGA\",\"FGA\",\"FGA\",\"FGA\",\"FGA\",\"FGA\",\"FGA\",\"FGA\",\"FGA\",\"FGA\",\"FGA\",\"FGA\",\"FGA\",\"FGA\",\"FGA\",\"FGA\",\"FGA\",\"FGA\",\"FGA\",\"FGA\",\"FGA\",\"FGA\",\"FGA\",\"FGA\",\"FGA\",\"FGA\",\"FGA\",\"FGA\",\"FGA\",\"FGA\",\"FGA\",\"FGA\",\"FGA\",\"FGA\",\"FGA\",\"FGA\",\"FGA\",\"FGA\",\"FGA\",\"FGA\",\"FGA\",\"FGA\",\"FGA\",\"FGA\",\"FGA\",\"FGA\",\"FGA\",\"FGA\",\"FGA\",\"FGA\",\"FGA\",\"FGA\",\"FGA\",\"FGA\",\"FGA\",\"FGA\",\"FGA\",\"FGA\",\"FGA\",\"FGA\",\"FGA\",\"FGA\",\"FGA\",\"FGA\",\"FGA\",\"FGA\",\"FGA\",\"FGA\",\"FGA\",\"FGA\",\"FGA\",\"FGA\",\"FGA\",\"FGA\",\"FGA\",\"FGA\",\"FGA\",\"FGA\",\"FGA\",\"FGA\",\"FGA\",\"FGA\",\"FGA\",\"FGA\",\"FGA\",\"FGA\",\"FGA\",\"FGA\",\"FGA\",\"FGA\",\"FGA\",\"FGA\",\"FGA\",\"FGA\",\"FGA\",\"FGA\",\"FGA\",\"FGA\",\"FGA\",\"FGA\",\"FGA\",\"FGA\",\"FGA\",\"FGA\",\"FGA\",\"FGA\",\"FGA\",\"FGA\",\"FGA\",\"FGA\",\"FGA\",\"FGA\",\"FGA\",\"FGA\",\"FGA\",\"FGA\",\"FGA\",\"FGA\",\"FGA\",\"FGA\",\"FGA\",\"FGA\",\"FGA\",\"FGA\",\"FGA\",\"FGA\",\"FGA\",\"FGA\",\"FGA\",\"FGA\",\"FGA\",\"FGA\",\"FGA\",\"FGA\",\"FGA\",\"FGA\",\"FGA\",\"FGA\",\"FGA\",\"FGA\",\"FGA\",\"FGA\",\"FGA\",\"FGA\",\"FGA\",\"FGA\",\"FGA\",\"FGA\",\"FGA\",\"FGA\",\"FGA\",\"FGA\",\"FGA\",\"FGA\",\"FGA\",\"FGA\",\"FGA\",\"FGA\",\"FGA\",\"FGA\",\"FGA\",\"FGA\",\"FGA\",\"FGA\",\"FGA\",\"FGA\",\"FGA\",\"FGA\",\"FGA\",\"FGA\",\"FGA\",\"FGA\",\"FGA\",\"FGA\",\"FGA\",\"FGA\",\"FGA\",\"FGA\",\"FGA\",\"FGA\",\"FGA\",\"FGA\",\"FGA\",\"FGA\",\"FGA\",\"FGA\",\"FGA\",\"FGA\",\"FGA\",\"FGA\",\"FGA\",\"FGA\",\"FGA\",\"FGA\",\"FGA\",\"FGA\",\"FGA\",\"FGA\",\"FGA\",\"FGA\",\"FGA\",\"FGA\",\"FGA\",\"FGA\",\"FGA\",\"FGA\",\"FGA\",\"FGA\",\"FGA\",\"FGA\",\"FGA\",\"FGA\",\"FGA\",\"FGA\",\"FGA\",\"FGA\",\"FGA\",\"FGA\",\"FGA\",\"FGA\",\"FGA\",\"FGA\",\"FGA\",\"FGA\",\"FGA\",\"FGA\",\"FGA\",\"FGA\",\"FGA\",\"FGA\",\"FGA\",\"FGA\",\"FGA\",\"FGA\",\"FGA\",\"FGA\",\"FGA\",\"FGA\",\"FGA\",\"FGA\",\"FGA\",\"FGA\",\"FGA\",\"FGA\",\"FGA\",\"FGA\",\"FGA\",\"FGA\",\"FGA\",\"FGA\",\"FGA\",\"FGA\",\"FGA\",\"FGA\",\"FGA\",\"FGA\",\"FGA\",\"FGA\",\"FGA\",\"FGA\",\"FGA\",\"FGA\",\"FGA\",\"FGA\",\"FGA\",\"FGA\",\"FGA\",\"FGA\",\"FGA\",\"FGA\",\"FGA\",\"FGA\",\"FGA\",\"FGA\",\"FGA\",\"FGA\",\"FGA\",\"FGA\",\"FGA\",\"FGA\",\"FGA\",\"FGA\",\"FGA\",\"FGA\",\"FGA\",\"FGA\",\"FGA\",\"FGA\",\"FGA\",\"FGA\",\"FGA\",\"FGA\",\"FGA\",\"FGA\",\"FGA\",\"FGA\",\"FGA\",\"FGA\",\"FGA\",\"FGA\",\"FGA\",\"FGA\",\"FGA\",\"FGA\",\"FGA\",\"FGA\",\"FGA\",\"FGA\",\"FGA\",\"FGA\",\"FGA\",\"FGA\",\"FGA\",\"FGA\",\"FGA\",\"FGA\",\"FGA\",\"FGA\",\"FGA\",\"FGA\",\"FGA\",\"FGA\",\"FGA\",\"FGA\",\"FGA\",\"FGA\",\"FGA\",\"FGA\",\"FGA\",\"FGA\",\"FGA\",\"FGA\",\"FGA\",\"FGA\",\"FGA\",\"FGA\",\"FGA\",\"FGA\",\"FGA\",\"FGA\",\"FGA\",\"FGA\",\"FGA\",\"FGA\",\"FGA\",\"FGA\",\"FGA\",\"FGA\",\"FGA\",\"FGA\",\"FGA\",\"FGA\",\"FGA\",\"FGA\",\"FGA\",\"FGA\",\"FGA\",\"FGA\",\"FGA\",\"FGA\",\"FGA\",\"FGA\",\"FGA\",\"FGA\",\"FGA\",\"FGA\",\"FGA\",\"FGA\",\"FGA\",\"FGA\",\"FGA\",\"FGA\",\"FGA\",\"FGA\",\"FGA\",\"FGA\",\"FGA\",\"FGA\",\"FGA\",\"FGA\",\"FGA\",\"FGA\",\"FGA\",\"FGA\",\"FGA\",\"FGA\",\"FGA\",\"FGA\",\"FGA\",\"FGA\",\"FGA\",\"FGA\",\"FGA\",\"FGA\",\"FGA\",\"FGA\",\"FGA\",\"FGA\",\"FGA\",\"FGA\",\"FGA\",\"FGA\",\"FGA\",\"FGA\",\"FGA\",\"FGA\",\"FGA\",\"FGA\",\"FGA\",\"FGA\",\"FGA\",\"FGA\",\"FGA\",\"FGA\",\"FGA\",\"FGA\",\"FGA\",\"FGA\",\"FGA\",\"FGA\",\"FGA\",\"FGA\",\"FGA\",\"FGA\",\"FGA\",\"FGA\",\"FGA\",\"FGA\",\"FGA\",\"FGA\",\"FGA\",\"FGA\",\"FGA\",\"FGA\",\"FGA\",\"FGA\",\"FGA\",\"FGA\",\"FGA\",\"FGA\",\"FGA\",\"FGA\",\"FGA\",\"FGA\",\"FGA\",\"FGA\",\"FGA\",\"FGA\",\"FGA\",\"FGA\",\"FGA\",\"FGA\",\"FGA\",\"FGA\",\"FGA\",\"FGA\",\"FGA\",\"FGA\",\"FGA\",\"FGA\",\"FGA\",\"FGA\",\"FGA\",\"FGA\",\"FGA\",\"FGA\",\"FGA\",\"FGA\",\"FGA\",\"FGA\",\"FGA\",\"FGA\",\"FGA\",\"FGA\",\"FGA\",\"FGA\",\"FGA\",\"FGA\",\"FGA\",\"FGA\",\"FGA\",\"FGA\",\"FGA\",\"FGA\",\"FGA\",\"FGA\",\"FGA\",\"FGA\",\"FGA\",\"FGA\",\"FGA\",\"FGA\",\"FGA\",\"FGA\",\"FGA\",\"FGA\",\"FGA\",\"FGA\",\"FGA\",\"FGA\",\"FGA\",\"FGA\",\"FGA\",\"FGA\",\"FGA\",\"FGA\",\"FGA\",\"FGA\",\"FGA\",\"FGA\",\"FGA\",\"FGA\",\"FGA\",\"FGA\",\"FGA\",\"FGA\",\"FGA\",\"FGA\",\"FGA\",\"FGA\",\"FGA\",\"FGA\",\"FGA\",\"FGA\",\"FGA\",\"FGA\",\"FGA\",\"FGA\",\"FGA\",\"FGA\",\"FGA\",\"FGA\",\"FGA\",\"FGA\",\"FGA\",\"FGA\",\"FGA\",\"FGA\",\"FGA\",\"FGA\",\"FGA\",\"FGA\",\"FGA\",\"FGA\",\"FGA\",\"FGA\",\"FGA\",\"FGA\",\"FGA\",\"FGA\",\"FGA\",\"FGA\",\"FGA\",\"FGA\",\"FGA\",\"FGA\",\"FGA\",\"FGA\",\"FGA\",\"FGA\",\"FGA\",\"FGA\",\"FGA\",\"FGA\",\"FGA\",\"FGA\",\"FGA\",\"FGA\",\"FGA\",\"FGA\",\"FGA\",\"FGA\",\"FGA\",\"FGA\",\"FGA\",\"FGA\",\"FGA\",\"FGA\",\"FGA\",\"FGA\",\"FGA\",\"FGA\",\"FGA\",\"FGA\",\"FGA\",\"FGA\",\"FGA\",\"FGA\",\"FGA\",\"FGA\",\"FGA\",\"FGA\",\"FGA\",\"FGA\",\"FGA\",\"FGA\",\"FGA\",\"FGA\",\"FGA\",\"FGA\",\"FGA\",\"FGA\",\"FGA\",\"FGA\",\"FGA\",\"FGA\",\"FGA\",\"FGA\",\"FGA\",\"FGA\",\"FGA\",\"FGA\",\"FGA\",\"FGA\",\"FGA\",\"FGA\",\"FGA\",\"FGA\",\"FGA\"],\"index\":[0,1,2,3,4,5,6,7,8,9,10,11,12,13,14,15,16,17,18,19,20,21,22,23,24,25,26,27,28,29,30,31,32,33,34,35,36,37,38,39,40,41,42,43,44,45,46,47,48,49,50,51,52,53,54,55,56,57,58,59,60,61,62,63,64,65,66,67,68,69,70,71,72,73,74,75,76,77,78,79,80,81,82,83,84,85,86,87,88,89,90,91,92,93,94,95,96,97,98,99,100,101,102,103,104,105,106,107,108,109,110,111,112,113,114,115,116,117,118,119,120,121,122,123,124,125,126,127,128,129,130,131,132,133,134,135,136,137,138,139,140,141,142,143,144,145,146,147,148,149,150,151,152,153,154,155,156,157,158,159,160,161,162,163,164,165,166,167,168,169,170,171,172,173,174,175,176,177,178,179,180,181,182,183,184,185,186,187,188,189,190,191,192,193,194,195,196,197,198,199,200,201,202,203,204,205,206,207,208,209,210,211,212,213,214,215,216,217,218,219,220,221,222,223,224,225,226,227,228,229,230,231,232,233,234,235,236,237,238,239,240,241,242,243,244,245,246,247,248,249,250,251,252,253,254,255,256,257,258,259,260,261,262,263,264,265,266,267,268,269,270,271,272,273,274,275,276,277,278,279,280,281,282,283,284,285,286,287,288,289,290,291,292,293,294,295,296,297,298,299,300,301,302,303,304,305,306,307,308,309,310,311,312,313,314,315,316,317,318,319,320,321,322,323,324,325,326,327,328,329,330,331,332,333,334,335,336,337,338,339,340,341,342,343,344,345,346,347,348,349,350,351,352,353,354,355,356,357,358,359,360,361,362,363,364,365,366,367,368,369,370,371,372,373,374,375,376,377,378,379,380,381,382,383,384,385,386,387,388,389,390,391,392,393,394,395,396,397,398,399,400,401,402,403,404,405,406,407,408,409,410,411,412,413,414,415,416,417,418,419,420,421,422,423,424,425,426,427,428,429,430,431,432,433,434,435,436,437,438,439,440,441,442,443,444,445,446,447,448,449,450,451,452,453,454,455,456,457,458,459,460,461,462,463,464,465,466,467,468,469,470,471,472,473,474,475,476,477,478,479,480,481,482,483,484,485,486,487,488,489,490,491,492,493,494,495,496,497,498,499,500,501,502,503,504,505,506,507,508,509,510,511,512,513,514,515,516,517,518,519,520,521,522,523,524,525,526,527,528,529,530,531,532,533,534,535,536,537,538,539,540,541,542,543,544,545,546,547,548,549,550,551,552,553,554,555,556,557,558,559,560,561,562,563,564,565,566,567,568,569,570,571,572,573,574,575,576,577,578,579,580,581,582,583,584,585,586,587,588,589,590,591,592,593,594,595,596,597,598,599,600,601,602,603,604,605,606,607,608,609,610,611,612,613,614,615,616,617,618,619,620,621,622,623,624,625,626,627,628,629,630,631,632,633,634,635,636,637,638,639,640,641,642,643,644,645,646,647,648,649,650,651,652,653,654,655,656,657,658,659,660,661,662,663,664,665,666,667,668,669,670,671,672,673,674,675,676,677,678,679,680,681,682,683,684,685,686,687,688,689,690,691,692,693,694,695,696,697,698,699,700,701,702,703,704,705,706,707,708,709,710,711,712,713,714,715,716,717,718,719,720,721,722,723,724,725,726,727,728,729,730,731,732,733,734,735,736,737,738,739,740,741,742,743,744,745,746,747,748,749,750,751,752,753,754,755,756,757,758,759,760,761,762,763,764,765],\"value\":[205,498,945,1104,961,1207,1313,471,296,767,933,1360,1162,992,693,405,1098,1038,186,844,609,586,572,530,284,343,365,394,444,593,169,115,397,512,716,949,541,348,889,1063,709,512,1221,855,399,1254,1173,924,1022,845,718,1205,1259,1299,1386,1376,1177,1402,573,1252,120,4,362,621,748,784,707,124,440,54,400,126,526,651,763,945,1007,611,844,636,174,810,584,691,643,256,401,393,695,651,293,586,773,1032,1087,1202,1156,2,635,700,658,617,581,72,6,702,566,387,773,515,111,155,772,104,175,679,218,639,726,873,209,269,571,442,730,830,953,684,940,1030,882,696,1009,168,1120,567,640,791,375,235,610,502,528,556,508,636,564,398,376,321,697,286,557,38,592,272,162,434,464,809,513,623,1080,1043,1198,918,944,739,803,596,627,485,107,644,373,124,497,328,180,508,422,547,665,465,523,28,245,563,424,470,111,50,441,524,261,785,1086,935,289,400,68,155,548,278,130,63,193,215,168,55,223,68,395,587,453,121,54,16,70,98,128,546,441,153,594,224,561,501,470,169,54,302,838,828,1021,16,492,243,735,694,356,1050,512,1154,903,1231,1407,990,1377,1545,1413,1313,1049,920,1535,1303,30,489,538,613,357,388,831,300,334,248,414,114,340,20,474,601,167,768,500,728,459,126,151,143,209,171,380,200,32,760,1355,1262,1288,869,1067,688,565,1253,335,844,1179,1116,1007,442,537,746,596,628,379,287,19,7,1,8,236,361,311,140,451,178,242,200,145,178,251,414,569,557,366,676,652,536,702,687,259,279,538,739,743,938,816,14,756,712,732,836,117,245,362,496,227,723,509,336,162,498,229,41,67,80,91,171,366,327,361,268,807,641,833,819,600,873,975,650,562,81,412,387,381,425,586,488,399,826,796,129,252,539,272,74,1,123,198,197,156,181,328,446,429,413,552,710,450,713,759,904,670,572,465,350,200,445,645,782,561,494,432,328,110,105,215,71,105,176,24,328,130,241,666,336,612,621,682,663,598,611,794,209,324,575,122,16,22,74,178,16,17,70,103,266,37,49,86,217,765,637,908,637,519,156,189,345,553,307,89,295,209,438,276,331,658,469,495,80,116,432,293,265,558,411,293,225,518,269,291,342,769,961,1060,911,881,1052,679,105,784,380,192,572,238,195,433,274,91,391,717,803,885,442,201,643,140,202,25,227,416,30,36,6,7,13,8,125,283,187,27,74,101,5,1,21,27,170,578,684,629,1337,1205,1470,1617,1533,1449,1909,1514,135,599,734,706,286,992,842,73,151,152,337,312,278,83,361,189,267,248,203,89,292,150,194,252,52,73,125,1,429,323,155,792,902,644,594,285,975,594,739,74,253,327,390,379,189,481,532,594,543,119,477,341,220,436,241,119,360,147,238,341,326,488,515,534,508,577,578,323,123,446,287,249,89,54,143,115,404,373,437,443,156,345,479,324,90,59,78,353,624,463,378,648,260,59,319,10,268,278,176,30,511,753,622,1214,46,357,609,764,527,48,235,73,155,228,538,782,394,383,777,486,625,458,204,662,125,79,204,302,489,517,442,181,623,368,442,288,381,320,396,88,484,73,178,737,301,233,534,600,850,669,268,937,3,3,10,262,563,436,214,124,338,220,26,67,205,159,212,371,334,927,890,132,564,696,538,342,178,99,277,28,58,27,478,317,690,649,158,25,183,565,979,763,808,1009,752,854,847,697,469,19,210,698,422,252,220,160,29,8,64,101,5,21,42,68,258,141,170,505,432,476,387,106,493,587,381,295,45]},\"selected\":{\"id\":\"22199\"},\"selection_policy\":{\"id\":\"22229\"}},\"id\":\"22198\",\"type\":\"ColumnDataSource\"},{\"attributes\":{\"line_alpha\":0.2,\"line_color\":\"#fc4f30\",\"line_width\":2,\"tags\":[\"apply_ranges\"],\"x\":{\"field\":\"index\"},\"y\":{\"field\":\"value\"}},\"id\":\"23087\",\"type\":\"Line\"},{\"attributes\":{},\"id\":\"22439\",\"type\":\"UnionRenderers\"},{\"attributes\":{},\"id\":\"23015\",\"type\":\"Selection\"},{\"attributes\":{},\"id\":\"21979\",\"type\":\"BasicTickFormatter\"},{\"attributes\":{\"source\":{\"id\":\"22542\"}},\"id\":\"22549\",\"type\":\"CDSView\"},{\"attributes\":{\"line_color\":\"#8b8b8b\",\"line_width\":2,\"tags\":[\"apply_ranges\"],\"x\":{\"field\":\"index\"},\"y\":{\"field\":\"value\"}},\"id\":\"22545\",\"type\":\"Line\"},{\"attributes\":{},\"id\":\"22075\",\"type\":\"Selection\"},{\"attributes\":{},\"id\":\"22817\",\"type\":\"UnionRenderers\"},{\"attributes\":{\"coordinates\":null,\"data_source\":{\"id\":\"22444\"},\"glyph\":{\"id\":\"22447\"},\"group\":null,\"hover_glyph\":null,\"muted_glyph\":{\"id\":\"22449\"},\"nonselection_glyph\":{\"id\":\"22448\"},\"selection_glyph\":{\"id\":\"22491\"},\"view\":{\"id\":\"22451\"}},\"id\":\"22450\",\"type\":\"GlyphRenderer\"},{\"attributes\":{\"line_color\":\"#6d904f\",\"line_width\":2,\"tags\":[\"apply_ranges\"],\"x\":{\"field\":\"index\"},\"y\":{\"field\":\"value\"}},\"id\":\"22495\",\"type\":\"Line\"},{\"attributes\":{\"data\":{\"Variable\":[\"MIN\",\"MIN\",\"MIN\",\"MIN\",\"MIN\",\"MIN\",\"MIN\",\"MIN\",\"MIN\",\"MIN\",\"MIN\",\"MIN\",\"MIN\",\"MIN\",\"MIN\",\"MIN\",\"MIN\",\"MIN\",\"MIN\",\"MIN\",\"MIN\",\"MIN\",\"MIN\",\"MIN\",\"MIN\",\"MIN\",\"MIN\",\"MIN\",\"MIN\",\"MIN\",\"MIN\",\"MIN\",\"MIN\",\"MIN\",\"MIN\",\"MIN\",\"MIN\",\"MIN\",\"MIN\",\"MIN\",\"MIN\",\"MIN\",\"MIN\",\"MIN\",\"MIN\",\"MIN\",\"MIN\",\"MIN\",\"MIN\",\"MIN\",\"MIN\",\"MIN\",\"MIN\",\"MIN\",\"MIN\",\"MIN\",\"MIN\",\"MIN\",\"MIN\",\"MIN\",\"MIN\",\"MIN\",\"MIN\",\"MIN\",\"MIN\",\"MIN\",\"MIN\",\"MIN\",\"MIN\",\"MIN\",\"MIN\",\"MIN\",\"MIN\",\"MIN\",\"MIN\",\"MIN\",\"MIN\",\"MIN\",\"MIN\",\"MIN\",\"MIN\",\"MIN\",\"MIN\",\"MIN\",\"MIN\",\"MIN\",\"MIN\",\"MIN\",\"MIN\",\"MIN\",\"MIN\",\"MIN\",\"MIN\",\"MIN\",\"MIN\",\"MIN\",\"MIN\",\"MIN\",\"MIN\",\"MIN\",\"MIN\",\"MIN\",\"MIN\",\"MIN\",\"MIN\",\"MIN\",\"MIN\",\"MIN\",\"MIN\",\"MIN\",\"MIN\",\"MIN\",\"MIN\",\"MIN\",\"MIN\",\"MIN\",\"MIN\",\"MIN\",\"MIN\",\"MIN\",\"MIN\",\"MIN\",\"MIN\",\"MIN\",\"MIN\",\"MIN\",\"MIN\",\"MIN\",\"MIN\",\"MIN\",\"MIN\",\"MIN\",\"MIN\",\"MIN\",\"MIN\",\"MIN\",\"MIN\",\"MIN\",\"MIN\",\"MIN\",\"MIN\",\"MIN\",\"MIN\",\"MIN\",\"MIN\",\"MIN\",\"MIN\",\"MIN\",\"MIN\",\"MIN\",\"MIN\",\"MIN\",\"MIN\",\"MIN\",\"MIN\",\"MIN\",\"MIN\",\"MIN\",\"MIN\",\"MIN\",\"MIN\",\"MIN\",\"MIN\",\"MIN\",\"MIN\",\"MIN\",\"MIN\",\"MIN\",\"MIN\",\"MIN\",\"MIN\",\"MIN\",\"MIN\",\"MIN\",\"MIN\",\"MIN\",\"MIN\",\"MIN\",\"MIN\",\"MIN\",\"MIN\",\"MIN\",\"MIN\",\"MIN\",\"MIN\",\"MIN\",\"MIN\",\"MIN\",\"MIN\",\"MIN\",\"MIN\",\"MIN\",\"MIN\",\"MIN\",\"MIN\",\"MIN\",\"MIN\",\"MIN\",\"MIN\",\"MIN\",\"MIN\",\"MIN\",\"MIN\",\"MIN\",\"MIN\",\"MIN\",\"MIN\",\"MIN\",\"MIN\",\"MIN\",\"MIN\",\"MIN\",\"MIN\",\"MIN\",\"MIN\",\"MIN\",\"MIN\",\"MIN\",\"MIN\",\"MIN\",\"MIN\",\"MIN\",\"MIN\",\"MIN\",\"MIN\",\"MIN\",\"MIN\",\"MIN\",\"MIN\",\"MIN\",\"MIN\",\"MIN\",\"MIN\",\"MIN\",\"MIN\",\"MIN\",\"MIN\",\"MIN\",\"MIN\",\"MIN\",\"MIN\",\"MIN\",\"MIN\",\"MIN\",\"MIN\",\"MIN\",\"MIN\",\"MIN\",\"MIN\",\"MIN\",\"MIN\",\"MIN\",\"MIN\",\"MIN\",\"MIN\",\"MIN\",\"MIN\",\"MIN\",\"MIN\",\"MIN\",\"MIN\",\"MIN\",\"MIN\",\"MIN\",\"MIN\",\"MIN\",\"MIN\",\"MIN\",\"MIN\",\"MIN\",\"MIN\",\"MIN\",\"MIN\",\"MIN\",\"MIN\",\"MIN\",\"MIN\",\"MIN\",\"MIN\",\"MIN\",\"MIN\",\"MIN\",\"MIN\",\"MIN\",\"MIN\",\"MIN\",\"MIN\",\"MIN\",\"MIN\",\"MIN\",\"MIN\",\"MIN\",\"MIN\",\"MIN\",\"MIN\",\"MIN\",\"MIN\",\"MIN\",\"MIN\",\"MIN\",\"MIN\",\"MIN\",\"MIN\",\"MIN\",\"MIN\",\"MIN\",\"MIN\",\"MIN\",\"MIN\",\"MIN\",\"MIN\",\"MIN\",\"MIN\",\"MIN\",\"MIN\",\"MIN\",\"MIN\",\"MIN\",\"MIN\",\"MIN\",\"MIN\",\"MIN\",\"MIN\",\"MIN\",\"MIN\",\"MIN\",\"MIN\",\"MIN\",\"MIN\",\"MIN\",\"MIN\",\"MIN\",\"MIN\",\"MIN\",\"MIN\",\"MIN\",\"MIN\",\"MIN\",\"MIN\",\"MIN\",\"MIN\",\"MIN\",\"MIN\",\"MIN\",\"MIN\",\"MIN\",\"MIN\",\"MIN\",\"MIN\",\"MIN\",\"MIN\",\"MIN\",\"MIN\",\"MIN\",\"MIN\",\"MIN\",\"MIN\",\"MIN\",\"MIN\",\"MIN\",\"MIN\",\"MIN\",\"MIN\",\"MIN\",\"MIN\",\"MIN\",\"MIN\",\"MIN\",\"MIN\",\"MIN\",\"MIN\",\"MIN\",\"MIN\",\"MIN\",\"MIN\",\"MIN\",\"MIN\",\"MIN\",\"MIN\",\"MIN\",\"MIN\",\"MIN\",\"MIN\",\"MIN\",\"MIN\",\"MIN\",\"MIN\",\"MIN\",\"MIN\",\"MIN\",\"MIN\",\"MIN\",\"MIN\",\"MIN\",\"MIN\",\"MIN\",\"MIN\",\"MIN\",\"MIN\",\"MIN\",\"MIN\",\"MIN\",\"MIN\",\"MIN\",\"MIN\",\"MIN\",\"MIN\",\"MIN\",\"MIN\",\"MIN\",\"MIN\",\"MIN\",\"MIN\",\"MIN\",\"MIN\",\"MIN\",\"MIN\",\"MIN\",\"MIN\",\"MIN\",\"MIN\",\"MIN\",\"MIN\",\"MIN\",\"MIN\",\"MIN\",\"MIN\",\"MIN\",\"MIN\",\"MIN\",\"MIN\",\"MIN\",\"MIN\",\"MIN\",\"MIN\",\"MIN\",\"MIN\",\"MIN\",\"MIN\",\"MIN\",\"MIN\",\"MIN\",\"MIN\",\"MIN\",\"MIN\",\"MIN\",\"MIN\",\"MIN\",\"MIN\",\"MIN\",\"MIN\",\"MIN\",\"MIN\",\"MIN\",\"MIN\",\"MIN\",\"MIN\",\"MIN\",\"MIN\",\"MIN\",\"MIN\",\"MIN\",\"MIN\",\"MIN\",\"MIN\",\"MIN\",\"MIN\",\"MIN\",\"MIN\",\"MIN\",\"MIN\",\"MIN\",\"MIN\",\"MIN\",\"MIN\",\"MIN\",\"MIN\",\"MIN\",\"MIN\",\"MIN\",\"MIN\",\"MIN\",\"MIN\",\"MIN\",\"MIN\",\"MIN\",\"MIN\",\"MIN\",\"MIN\",\"MIN\",\"MIN\",\"MIN\",\"MIN\",\"MIN\",\"MIN\",\"MIN\",\"MIN\",\"MIN\",\"MIN\",\"MIN\",\"MIN\",\"MIN\",\"MIN\",\"MIN\",\"MIN\",\"MIN\",\"MIN\",\"MIN\",\"MIN\",\"MIN\",\"MIN\",\"MIN\",\"MIN\",\"MIN\",\"MIN\",\"MIN\",\"MIN\",\"MIN\",\"MIN\",\"MIN\",\"MIN\",\"MIN\",\"MIN\",\"MIN\",\"MIN\",\"MIN\",\"MIN\",\"MIN\",\"MIN\",\"MIN\",\"MIN\",\"MIN\",\"MIN\",\"MIN\",\"MIN\",\"MIN\",\"MIN\",\"MIN\",\"MIN\",\"MIN\",\"MIN\",\"MIN\",\"MIN\",\"MIN\",\"MIN\",\"MIN\",\"MIN\",\"MIN\",\"MIN\",\"MIN\",\"MIN\",\"MIN\",\"MIN\",\"MIN\",\"MIN\",\"MIN\",\"MIN\",\"MIN\",\"MIN\",\"MIN\",\"MIN\",\"MIN\",\"MIN\",\"MIN\",\"MIN\",\"MIN\",\"MIN\",\"MIN\",\"MIN\",\"MIN\",\"MIN\",\"MIN\",\"MIN\",\"MIN\",\"MIN\",\"MIN\",\"MIN\",\"MIN\",\"MIN\",\"MIN\",\"MIN\",\"MIN\",\"MIN\",\"MIN\",\"MIN\",\"MIN\",\"MIN\",\"MIN\",\"MIN\",\"MIN\",\"MIN\",\"MIN\",\"MIN\",\"MIN\",\"MIN\",\"MIN\",\"MIN\",\"MIN\",\"MIN\",\"MIN\",\"MIN\",\"MIN\",\"MIN\",\"MIN\",\"MIN\",\"MIN\",\"MIN\",\"MIN\",\"MIN\",\"MIN\",\"MIN\",\"MIN\",\"MIN\",\"MIN\",\"MIN\",\"MIN\",\"MIN\",\"MIN\",\"MIN\",\"MIN\",\"MIN\",\"MIN\",\"MIN\",\"MIN\",\"MIN\",\"MIN\",\"MIN\",\"MIN\",\"MIN\",\"MIN\",\"MIN\",\"MIN\",\"MIN\",\"MIN\",\"MIN\",\"MIN\",\"MIN\",\"MIN\",\"MIN\",\"MIN\",\"MIN\",\"MIN\",\"MIN\",\"MIN\",\"MIN\",\"MIN\",\"MIN\",\"MIN\",\"MIN\",\"MIN\",\"MIN\",\"MIN\",\"MIN\",\"MIN\",\"MIN\",\"MIN\",\"MIN\",\"MIN\",\"MIN\",\"MIN\",\"MIN\",\"MIN\",\"MIN\",\"MIN\",\"MIN\",\"MIN\",\"MIN\",\"MIN\",\"MIN\",\"MIN\",\"MIN\",\"MIN\",\"MIN\",\"MIN\",\"MIN\",\"MIN\",\"MIN\",\"MIN\",\"MIN\",\"MIN\",\"MIN\",\"MIN\",\"MIN\",\"MIN\",\"MIN\",\"MIN\",\"MIN\",\"MIN\",\"MIN\",\"MIN\",\"MIN\",\"MIN\",\"MIN\",\"MIN\",\"MIN\",\"MIN\",\"MIN\",\"MIN\",\"MIN\",\"MIN\",\"MIN\",\"MIN\",\"MIN\",\"MIN\",\"MIN\",\"MIN\",\"MIN\",\"MIN\",\"MIN\",\"MIN\",\"MIN\",\"MIN\",\"MIN\",\"MIN\",\"MIN\",\"MIN\",\"MIN\",\"MIN\",\"MIN\",\"MIN\",\"MIN\",\"MIN\",\"MIN\",\"MIN\",\"MIN\",\"MIN\",\"MIN\",\"MIN\",\"MIN\",\"MIN\",\"MIN\",\"MIN\",\"MIN\",\"MIN\",\"MIN\",\"MIN\",\"MIN\",\"MIN\",\"MIN\",\"MIN\",\"MIN\",\"MIN\",\"MIN\",\"MIN\",\"MIN\",\"MIN\",\"MIN\",\"MIN\",\"MIN\",\"MIN\",\"MIN\",\"MIN\",\"MIN\",\"MIN\",\"MIN\",\"MIN\",\"MIN\",\"MIN\",\"MIN\",\"MIN\",\"MIN\",\"MIN\",\"MIN\",\"MIN\",\"MIN\",\"MIN\"],\"index\":[0,1,2,3,4,5,6,7,8,9,10,11,12,13,14,15,16,17,18,19,20,21,22,23,24,25,26,27,28,29,30,31,32,33,34,35,36,37,38,39,40,41,42,43,44,45,46,47,48,49,50,51,52,53,54,55,56,57,58,59,60,61,62,63,64,65,66,67,68,69,70,71,72,73,74,75,76,77,78,79,80,81,82,83,84,85,86,87,88,89,90,91,92,93,94,95,96,97,98,99,100,101,102,103,104,105,106,107,108,109,110,111,112,113,114,115,116,117,118,119,120,121,122,123,124,125,126,127,128,129,130,131,132,133,134,135,136,137,138,139,140,141,142,143,144,145,146,147,148,149,150,151,152,153,154,155,156,157,158,159,160,161,162,163,164,165,166,167,168,169,170,171,172,173,174,175,176,177,178,179,180,181,182,183,184,185,186,187,188,189,190,191,192,193,194,195,196,197,198,199,200,201,202,203,204,205,206,207,208,209,210,211,212,213,214,215,216,217,218,219,220,221,222,223,224,225,226,227,228,229,230,231,232,233,234,235,236,237,238,239,240,241,242,243,244,245,246,247,248,249,250,251,252,253,254,255,256,257,258,259,260,261,262,263,264,265,266,267,268,269,270,271,272,273,274,275,276,277,278,279,280,281,282,283,284,285,286,287,288,289,290,291,292,293,294,295,296,297,298,299,300,301,302,303,304,305,306,307,308,309,310,311,312,313,314,315,316,317,318,319,320,321,322,323,324,325,326,327,328,329,330,331,332,333,334,335,336,337,338,339,340,341,342,343,344,345,346,347,348,349,350,351,352,353,354,355,356,357,358,359,360,361,362,363,364,365,366,367,368,369,370,371,372,373,374,375,376,377,378,379,380,381,382,383,384,385,386,387,388,389,390,391,392,393,394,395,396,397,398,399,400,401,402,403,404,405,406,407,408,409,410,411,412,413,414,415,416,417,418,419,420,421,422,423,424,425,426,427,428,429,430,431,432,433,434,435,436,437,438,439,440,441,442,443,444,445,446,447,448,449,450,451,452,453,454,455,456,457,458,459,460,461,462,463,464,465,466,467,468,469,470,471,472,473,474,475,476,477,478,479,480,481,482,483,484,485,486,487,488,489,490,491,492,493,494,495,496,497,498,499,500,501,502,503,504,505,506,507,508,509,510,511,512,513,514,515,516,517,518,519,520,521,522,523,524,525,526,527,528,529,530,531,532,533,534,535,536,537,538,539,540,541,542,543,544,545,546,547,548,549,550,551,552,553,554,555,556,557,558,559,560,561,562,563,564,565,566,567,568,569,570,571,572,573,574,575,576,577,578,579,580,581,582,583,584,585,586,587,588,589,590,591,592,593,594,595,596,597,598,599,600,601,602,603,604,605,606,607,608,609,610,611,612,613,614,615,616,617,618,619,620,621,622,623,624,625,626,627,628,629,630,631,632,633,634,635,636,637,638,639,640,641,642,643,644,645,646,647,648,649,650,651,652,653,654,655,656,657,658,659,660,661,662,663,664,665,666,667,668,669,670,671,672,673,674,675,676,677,678,679,680,681,682,683,684,685,686,687,688,689,690,691,692,693,694,695,696,697,698,699,700,701,702,703,704,705,706,707,708,709,710,711,712,713,714,715,716,717,718,719,720,721,722,723,724,725,726,727,728,729,730,731,732,733,734,735,736,737,738,739,740,741,742,743,744,745,746,747,748,749,750,751,752,753,754,755,756,757,758,759,760,761,762,763,764,765],\"value\":[859,1679,2548,2110,2006,2578,2652,1161,727,1888,2024,2615,2216,2433,1574,925,2499,2482,673,2444,1910,1511,1462,1548,1150,1671,2049,2240,2406,2409,479,325,974,1299,1850,2369,1610,903,2513,2566,1563,1105,2668,1904,944,2848,2469,2014,2543,2436,1608,2936,2868,2455,2666,2649,2504,2652,941,2279,493,15,1138,1975,2294,2123,2142,423,1527,126,1154,370,1524,1800,2045,2856,2565,1442,2091,1387,549,1936,1502,1564,1825,984,1167,1045,1657,2150,1218,2015,2104,2800,2618,2893,2516,5,1863,1740,1496,1564,1577,172,25,1970,1637,1196,2239,1696,253,427,1996,215,360,1778,820,1543,1665,2272,700,736,1792,1381,2508,2569,2872,2174,2757,2446,2225,1761,2292,373,2342,1363,1498,2058,1275,753,2028,1400,1424,1395,1538,1779,1812,1300,1157,840,1997,764,1942,175,2089,1071,608,1679,1651,2563,1510,2020,2862,2414,2851,2244,2510,2213,2098,1602,2133,1718,321,1861,1078,430,1508,1172,596,1768,1340,1372,1619,1223,1314,80,679,1559,1062,1414,353,111,1332,1262,540,1802,2448,2118,1045,1356,290,502,1441,698,320,142,462,582,536,176,712,183,1079,1278,968,396,263,75,338,429,467,1732,1355,524,1879,684,1949,1902,2365,455,159,1334,2306,1914,1994,64,1330,650,1981,1808,917,2725,1664,2851,2206,3013,3017,2100,2804,2620,2712,2688,2316,2056,2743,2682,81,1304,1511,1313,939,1137,2193,899,797,653,1059,269,979,127,1375,1390,364,1754,1255,2318,1122,578,643,922,952,577,1529,991,162,2103,3000,2945,3175,2152,2422,1541,1146,2687,639,1892,2531,2408,2379,1013,1231,1842,1461,1358,1038,816,69,41,5,47,1139,1881,1254,625,1880,590,938,902,679,416,718,1260,1805,1972,1482,2282,2096,1557,2066,1727,564,527,1091,1845,1755,2240,1968,34,1956,1903,2119,2531,440,763,1203,1411,726,2137,2243,1431,509,1940,779,221,266,272,287,559,1216,1628,1454,918,2522,1791,2807,2956,2380,2448,2617,1981,2354,505,1835,1463,1710,854,1258,1169,878,2138,1719,403,979,1913,932,233,3,491,727,807,573,774,1467,1560,1232,1223,1549,1939,1831,2306,2642,2963,2527,1957,1423,998,699,1319,2019,2537,1843,1705,1369,984,402,368,769,289,408,698,38,783,261,656,1527,801,1662,1754,2107,1908,1485,1685,2346,567,1133,1749,518,85,89,410,887,94,112,341,546,1017,176,301,477,719,2439,1782,2305,1639,1780,581,499,1080,1730,1184,358,1245,1020,1978,1282,1330,1887,1484,1957,229,446,1433,897,802,1698,1570,1052,696,1748,1453,1221,1243,2619,2502,2666,2409,2625,2647,1654,225,1878,722,520,1242,902,535,1437,849,319,1432,2276,2605,2432,1191,492,1684,331,540,66,607,1396,146,115,17,27,44,28,326,784,559,94,254,347,15,3,85,103,804,1738,2189,1946,2985,2777,2981,3125,2947,2551,2867,2483,290,1319,1609,1627,792,2420,2135,215,502,565,1237,1060,1041,265,1306,572,645,593,622,323,945,471,561,729,202,255,457,11,1425,948,474,1674,2156,1675,1730,981,2464,1552,1857,218,688,905,1177,1193,713,1751,1727,2041,2058,334,2137,1342,833,1476,1211,605,1817,771,1137,2047,1798,2010,2870,2820,2598,2570,2423,1554,493,2047,1234,1246,408,214,622,586,1417,1487,1774,1725,627,1243,1341,1005,355,217,362,1518,1821,1560,1395,1544,745,225,971,76,903,979,620,161,1696,1996,1932,2837,118,988,1522,1612,1297,142,657,263,510,773,1639,2265,1325,1282,2607,1826,2183,1416,641,2057,411,295,706,1275,1743,2084,1516,632,2148,1439,1731,1057,1499,1793,1596,457,2053,165,583,1879,746,463,1209,1214,1976,1472,621,2093,11,20,56,646,1617,1176,663,358,1021,845,113,272,755,595,650,1245,1584,2129,2310,396,1627,2022,1632,871,533,273,806,87,160,81,1505,1129,1714,1924,555,61,616,2025,2758,2228,2403,2780,2024,2644,2495,2131,1312,54,725,2091,1635,1130,1002,820,118,23,193,334,21,83,126,230,1156,638,736,1951,1728,1615,1530,510,2041,1730,1528,1098,162]},\"selected\":{\"id\":\"22133\"},\"selection_policy\":{\"id\":\"22159\"}},\"id\":\"22132\",\"type\":\"ColumnDataSource\"},{\"attributes\":{\"line_alpha\":0.2,\"line_color\":\"#bcbd22\",\"line_width\":2,\"tags\":[\"apply_ranges\"],\"x\":{\"field\":\"index\"},\"y\":{\"field\":\"value\"}},\"id\":\"22953\",\"type\":\"Line\"},{\"attributes\":{\"label\":{\"value\":\"STL\"},\"renderers\":[{\"id\":\"22768\"}]},\"id\":\"22820\",\"type\":\"LegendItem\"},{\"attributes\":{\"coordinates\":null,\"data_source\":{\"id\":\"22822\"},\"glyph\":{\"id\":\"22825\"},\"group\":null,\"hover_glyph\":null,\"muted_glyph\":{\"id\":\"22827\"},\"nonselection_glyph\":{\"id\":\"22826\"},\"selection_glyph\":{\"id\":\"22883\"},\"view\":{\"id\":\"22829\"}},\"id\":\"22828\",\"type\":\"GlyphRenderer\"},{\"attributes\":{\"line_alpha\":0.2,\"line_color\":\"#e5ae38\",\"line_width\":2,\"tags\":[\"apply_ranges\"],\"x\":{\"field\":\"index\"},\"y\":{\"field\":\"value\"}},\"id\":\"22449\",\"type\":\"Line\"},{\"attributes\":{\"line_alpha\":0.2,\"line_color\":\"#8b8b8b\",\"line_width\":2,\"tags\":[\"apply_ranges\"],\"x\":{\"field\":\"index\"},\"y\":{\"field\":\"value\"}},\"id\":\"22547\",\"type\":\"Line\"},{\"attributes\":{\"line_color\":\"#1f77b4\",\"line_width\":2,\"tags\":[\"apply_ranges\"],\"x\":{\"field\":\"index\"},\"y\":{\"field\":\"value\"}},\"id\":\"22821\",\"type\":\"Line\"},{\"attributes\":{\"line_alpha\":0.1,\"line_color\":\"#6d904f\",\"line_width\":2,\"tags\":[\"apply_ranges\"],\"x\":{\"field\":\"index\"},\"y\":{\"field\":\"value\"}},\"id\":\"22052\",\"type\":\"Line\"},{\"attributes\":{\"data\":{\"Variable\":[\"FT_PCT\",\"FT_PCT\",\"FT_PCT\",\"FT_PCT\",\"FT_PCT\",\"FT_PCT\",\"FT_PCT\",\"FT_PCT\",\"FT_PCT\",\"FT_PCT\",\"FT_PCT\",\"FT_PCT\",\"FT_PCT\",\"FT_PCT\",\"FT_PCT\",\"FT_PCT\",\"FT_PCT\",\"FT_PCT\",\"FT_PCT\",\"FT_PCT\",\"FT_PCT\",\"FT_PCT\",\"FT_PCT\",\"FT_PCT\",\"FT_PCT\",\"FT_PCT\",\"FT_PCT\",\"FT_PCT\",\"FT_PCT\",\"FT_PCT\",\"FT_PCT\",\"FT_PCT\",\"FT_PCT\",\"FT_PCT\",\"FT_PCT\",\"FT_PCT\",\"FT_PCT\",\"FT_PCT\",\"FT_PCT\",\"FT_PCT\",\"FT_PCT\",\"FT_PCT\",\"FT_PCT\",\"FT_PCT\",\"FT_PCT\",\"FT_PCT\",\"FT_PCT\",\"FT_PCT\",\"FT_PCT\",\"FT_PCT\",\"FT_PCT\",\"FT_PCT\",\"FT_PCT\",\"FT_PCT\",\"FT_PCT\",\"FT_PCT\",\"FT_PCT\",\"FT_PCT\",\"FT_PCT\",\"FT_PCT\",\"FT_PCT\",\"FT_PCT\",\"FT_PCT\",\"FT_PCT\",\"FT_PCT\",\"FT_PCT\",\"FT_PCT\",\"FT_PCT\",\"FT_PCT\",\"FT_PCT\",\"FT_PCT\",\"FT_PCT\",\"FT_PCT\",\"FT_PCT\",\"FT_PCT\",\"FT_PCT\",\"FT_PCT\",\"FT_PCT\",\"FT_PCT\",\"FT_PCT\",\"FT_PCT\",\"FT_PCT\",\"FT_PCT\",\"FT_PCT\",\"FT_PCT\",\"FT_PCT\",\"FT_PCT\",\"FT_PCT\",\"FT_PCT\",\"FT_PCT\",\"FT_PCT\",\"FT_PCT\",\"FT_PCT\",\"FT_PCT\",\"FT_PCT\",\"FT_PCT\",\"FT_PCT\",\"FT_PCT\",\"FT_PCT\",\"FT_PCT\",\"FT_PCT\",\"FT_PCT\",\"FT_PCT\",\"FT_PCT\",\"FT_PCT\",\"FT_PCT\",\"FT_PCT\",\"FT_PCT\",\"FT_PCT\",\"FT_PCT\",\"FT_PCT\",\"FT_PCT\",\"FT_PCT\",\"FT_PCT\",\"FT_PCT\",\"FT_PCT\",\"FT_PCT\",\"FT_PCT\",\"FT_PCT\",\"FT_PCT\",\"FT_PCT\",\"FT_PCT\",\"FT_PCT\",\"FT_PCT\",\"FT_PCT\",\"FT_PCT\",\"FT_PCT\",\"FT_PCT\",\"FT_PCT\",\"FT_PCT\",\"FT_PCT\",\"FT_PCT\",\"FT_PCT\",\"FT_PCT\",\"FT_PCT\",\"FT_PCT\",\"FT_PCT\",\"FT_PCT\",\"FT_PCT\",\"FT_PCT\",\"FT_PCT\",\"FT_PCT\",\"FT_PCT\",\"FT_PCT\",\"FT_PCT\",\"FT_PCT\",\"FT_PCT\",\"FT_PCT\",\"FT_PCT\",\"FT_PCT\",\"FT_PCT\",\"FT_PCT\",\"FT_PCT\",\"FT_PCT\",\"FT_PCT\",\"FT_PCT\",\"FT_PCT\",\"FT_PCT\",\"FT_PCT\",\"FT_PCT\",\"FT_PCT\",\"FT_PCT\",\"FT_PCT\",\"FT_PCT\",\"FT_PCT\",\"FT_PCT\",\"FT_PCT\",\"FT_PCT\",\"FT_PCT\",\"FT_PCT\",\"FT_PCT\",\"FT_PCT\",\"FT_PCT\",\"FT_PCT\",\"FT_PCT\",\"FT_PCT\",\"FT_PCT\",\"FT_PCT\",\"FT_PCT\",\"FT_PCT\",\"FT_PCT\",\"FT_PCT\",\"FT_PCT\",\"FT_PCT\",\"FT_PCT\",\"FT_PCT\",\"FT_PCT\",\"FT_PCT\",\"FT_PCT\",\"FT_PCT\",\"FT_PCT\",\"FT_PCT\",\"FT_PCT\",\"FT_PCT\",\"FT_PCT\",\"FT_PCT\",\"FT_PCT\",\"FT_PCT\",\"FT_PCT\",\"FT_PCT\",\"FT_PCT\",\"FT_PCT\",\"FT_PCT\",\"FT_PCT\",\"FT_PCT\",\"FT_PCT\",\"FT_PCT\",\"FT_PCT\",\"FT_PCT\",\"FT_PCT\",\"FT_PCT\",\"FT_PCT\",\"FT_PCT\",\"FT_PCT\",\"FT_PCT\",\"FT_PCT\",\"FT_PCT\",\"FT_PCT\",\"FT_PCT\",\"FT_PCT\",\"FT_PCT\",\"FT_PCT\",\"FT_PCT\",\"FT_PCT\",\"FT_PCT\",\"FT_PCT\",\"FT_PCT\",\"FT_PCT\",\"FT_PCT\",\"FT_PCT\",\"FT_PCT\",\"FT_PCT\",\"FT_PCT\",\"FT_PCT\",\"FT_PCT\",\"FT_PCT\",\"FT_PCT\",\"FT_PCT\",\"FT_PCT\",\"FT_PCT\",\"FT_PCT\",\"FT_PCT\",\"FT_PCT\",\"FT_PCT\",\"FT_PCT\",\"FT_PCT\",\"FT_PCT\",\"FT_PCT\",\"FT_PCT\",\"FT_PCT\",\"FT_PCT\",\"FT_PCT\",\"FT_PCT\",\"FT_PCT\",\"FT_PCT\",\"FT_PCT\",\"FT_PCT\",\"FT_PCT\",\"FT_PCT\",\"FT_PCT\",\"FT_PCT\",\"FT_PCT\",\"FT_PCT\",\"FT_PCT\",\"FT_PCT\",\"FT_PCT\",\"FT_PCT\",\"FT_PCT\",\"FT_PCT\",\"FT_PCT\",\"FT_PCT\",\"FT_PCT\",\"FT_PCT\",\"FT_PCT\",\"FT_PCT\",\"FT_PCT\",\"FT_PCT\",\"FT_PCT\",\"FT_PCT\",\"FT_PCT\",\"FT_PCT\",\"FT_PCT\",\"FT_PCT\",\"FT_PCT\",\"FT_PCT\",\"FT_PCT\",\"FT_PCT\",\"FT_PCT\",\"FT_PCT\",\"FT_PCT\",\"FT_PCT\",\"FT_PCT\",\"FT_PCT\",\"FT_PCT\",\"FT_PCT\",\"FT_PCT\",\"FT_PCT\",\"FT_PCT\",\"FT_PCT\",\"FT_PCT\",\"FT_PCT\",\"FT_PCT\",\"FT_PCT\",\"FT_PCT\",\"FT_PCT\",\"FT_PCT\",\"FT_PCT\",\"FT_PCT\",\"FT_PCT\",\"FT_PCT\",\"FT_PCT\",\"FT_PCT\",\"FT_PCT\",\"FT_PCT\",\"FT_PCT\",\"FT_PCT\",\"FT_PCT\",\"FT_PCT\",\"FT_PCT\",\"FT_PCT\",\"FT_PCT\",\"FT_PCT\",\"FT_PCT\",\"FT_PCT\",\"FT_PCT\",\"FT_PCT\",\"FT_PCT\",\"FT_PCT\",\"FT_PCT\",\"FT_PCT\",\"FT_PCT\",\"FT_PCT\",\"FT_PCT\",\"FT_PCT\",\"FT_PCT\",\"FT_PCT\",\"FT_PCT\",\"FT_PCT\",\"FT_PCT\",\"FT_PCT\",\"FT_PCT\",\"FT_PCT\",\"FT_PCT\",\"FT_PCT\",\"FT_PCT\",\"FT_PCT\",\"FT_PCT\",\"FT_PCT\",\"FT_PCT\",\"FT_PCT\",\"FT_PCT\",\"FT_PCT\",\"FT_PCT\",\"FT_PCT\",\"FT_PCT\",\"FT_PCT\",\"FT_PCT\",\"FT_PCT\",\"FT_PCT\",\"FT_PCT\",\"FT_PCT\",\"FT_PCT\",\"FT_PCT\",\"FT_PCT\",\"FT_PCT\",\"FT_PCT\",\"FT_PCT\",\"FT_PCT\",\"FT_PCT\",\"FT_PCT\",\"FT_PCT\",\"FT_PCT\",\"FT_PCT\",\"FT_PCT\",\"FT_PCT\",\"FT_PCT\",\"FT_PCT\",\"FT_PCT\",\"FT_PCT\",\"FT_PCT\",\"FT_PCT\",\"FT_PCT\",\"FT_PCT\",\"FT_PCT\",\"FT_PCT\",\"FT_PCT\",\"FT_PCT\",\"FT_PCT\",\"FT_PCT\",\"FT_PCT\",\"FT_PCT\",\"FT_PCT\",\"FT_PCT\",\"FT_PCT\",\"FT_PCT\",\"FT_PCT\",\"FT_PCT\",\"FT_PCT\",\"FT_PCT\",\"FT_PCT\",\"FT_PCT\",\"FT_PCT\",\"FT_PCT\",\"FT_PCT\",\"FT_PCT\",\"FT_PCT\",\"FT_PCT\",\"FT_PCT\",\"FT_PCT\",\"FT_PCT\",\"FT_PCT\",\"FT_PCT\",\"FT_PCT\",\"FT_PCT\",\"FT_PCT\",\"FT_PCT\",\"FT_PCT\",\"FT_PCT\",\"FT_PCT\",\"FT_PCT\",\"FT_PCT\",\"FT_PCT\",\"FT_PCT\",\"FT_PCT\",\"FT_PCT\",\"FT_PCT\",\"FT_PCT\",\"FT_PCT\",\"FT_PCT\",\"FT_PCT\",\"FT_PCT\",\"FT_PCT\",\"FT_PCT\",\"FT_PCT\",\"FT_PCT\",\"FT_PCT\",\"FT_PCT\",\"FT_PCT\",\"FT_PCT\",\"FT_PCT\",\"FT_PCT\",\"FT_PCT\",\"FT_PCT\",\"FT_PCT\",\"FT_PCT\",\"FT_PCT\",\"FT_PCT\",\"FT_PCT\",\"FT_PCT\",\"FT_PCT\",\"FT_PCT\",\"FT_PCT\",\"FT_PCT\",\"FT_PCT\",\"FT_PCT\",\"FT_PCT\",\"FT_PCT\",\"FT_PCT\",\"FT_PCT\",\"FT_PCT\",\"FT_PCT\",\"FT_PCT\",\"FT_PCT\",\"FT_PCT\",\"FT_PCT\",\"FT_PCT\",\"FT_PCT\",\"FT_PCT\",\"FT_PCT\",\"FT_PCT\",\"FT_PCT\",\"FT_PCT\",\"FT_PCT\",\"FT_PCT\",\"FT_PCT\",\"FT_PCT\",\"FT_PCT\",\"FT_PCT\",\"FT_PCT\",\"FT_PCT\",\"FT_PCT\",\"FT_PCT\",\"FT_PCT\",\"FT_PCT\",\"FT_PCT\",\"FT_PCT\",\"FT_PCT\",\"FT_PCT\",\"FT_PCT\",\"FT_PCT\",\"FT_PCT\",\"FT_PCT\",\"FT_PCT\",\"FT_PCT\",\"FT_PCT\",\"FT_PCT\",\"FT_PCT\",\"FT_PCT\",\"FT_PCT\",\"FT_PCT\",\"FT_PCT\",\"FT_PCT\",\"FT_PCT\",\"FT_PCT\",\"FT_PCT\",\"FT_PCT\",\"FT_PCT\",\"FT_PCT\",\"FT_PCT\",\"FT_PCT\",\"FT_PCT\",\"FT_PCT\",\"FT_PCT\",\"FT_PCT\",\"FT_PCT\",\"FT_PCT\",\"FT_PCT\",\"FT_PCT\",\"FT_PCT\",\"FT_PCT\",\"FT_PCT\",\"FT_PCT\",\"FT_PCT\",\"FT_PCT\",\"FT_PCT\",\"FT_PCT\",\"FT_PCT\",\"FT_PCT\",\"FT_PCT\",\"FT_PCT\",\"FT_PCT\",\"FT_PCT\",\"FT_PCT\",\"FT_PCT\",\"FT_PCT\",\"FT_PCT\",\"FT_PCT\",\"FT_PCT\",\"FT_PCT\",\"FT_PCT\",\"FT_PCT\",\"FT_PCT\",\"FT_PCT\",\"FT_PCT\",\"FT_PCT\",\"FT_PCT\",\"FT_PCT\",\"FT_PCT\",\"FT_PCT\",\"FT_PCT\",\"FT_PCT\",\"FT_PCT\",\"FT_PCT\",\"FT_PCT\",\"FT_PCT\",\"FT_PCT\",\"FT_PCT\",\"FT_PCT\",\"FT_PCT\",\"FT_PCT\",\"FT_PCT\",\"FT_PCT\",\"FT_PCT\",\"FT_PCT\",\"FT_PCT\",\"FT_PCT\",\"FT_PCT\",\"FT_PCT\",\"FT_PCT\",\"FT_PCT\",\"FT_PCT\",\"FT_PCT\",\"FT_PCT\",\"FT_PCT\",\"FT_PCT\",\"FT_PCT\",\"FT_PCT\",\"FT_PCT\",\"FT_PCT\",\"FT_PCT\",\"FT_PCT\",\"FT_PCT\",\"FT_PCT\",\"FT_PCT\",\"FT_PCT\",\"FT_PCT\",\"FT_PCT\",\"FT_PCT\",\"FT_PCT\",\"FT_PCT\",\"FT_PCT\",\"FT_PCT\",\"FT_PCT\",\"FT_PCT\",\"FT_PCT\",\"FT_PCT\",\"FT_PCT\",\"FT_PCT\",\"FT_PCT\",\"FT_PCT\",\"FT_PCT\",\"FT_PCT\",\"FT_PCT\",\"FT_PCT\",\"FT_PCT\",\"FT_PCT\",\"FT_PCT\",\"FT_PCT\",\"FT_PCT\",\"FT_PCT\",\"FT_PCT\",\"FT_PCT\",\"FT_PCT\",\"FT_PCT\",\"FT_PCT\",\"FT_PCT\",\"FT_PCT\",\"FT_PCT\",\"FT_PCT\",\"FT_PCT\",\"FT_PCT\",\"FT_PCT\",\"FT_PCT\",\"FT_PCT\",\"FT_PCT\",\"FT_PCT\",\"FT_PCT\",\"FT_PCT\",\"FT_PCT\",\"FT_PCT\",\"FT_PCT\",\"FT_PCT\",\"FT_PCT\",\"FT_PCT\",\"FT_PCT\",\"FT_PCT\",\"FT_PCT\",\"FT_PCT\",\"FT_PCT\",\"FT_PCT\",\"FT_PCT\",\"FT_PCT\",\"FT_PCT\",\"FT_PCT\",\"FT_PCT\",\"FT_PCT\",\"FT_PCT\",\"FT_PCT\",\"FT_PCT\",\"FT_PCT\",\"FT_PCT\",\"FT_PCT\",\"FT_PCT\",\"FT_PCT\",\"FT_PCT\",\"FT_PCT\",\"FT_PCT\",\"FT_PCT\",\"FT_PCT\",\"FT_PCT\",\"FT_PCT\",\"FT_PCT\",\"FT_PCT\",\"FT_PCT\",\"FT_PCT\",\"FT_PCT\",\"FT_PCT\",\"FT_PCT\",\"FT_PCT\",\"FT_PCT\",\"FT_PCT\",\"FT_PCT\",\"FT_PCT\",\"FT_PCT\",\"FT_PCT\",\"FT_PCT\",\"FT_PCT\",\"FT_PCT\",\"FT_PCT\",\"FT_PCT\",\"FT_PCT\",\"FT_PCT\",\"FT_PCT\",\"FT_PCT\",\"FT_PCT\",\"FT_PCT\",\"FT_PCT\",\"FT_PCT\",\"FT_PCT\",\"FT_PCT\",\"FT_PCT\",\"FT_PCT\",\"FT_PCT\",\"FT_PCT\",\"FT_PCT\",\"FT_PCT\",\"FT_PCT\",\"FT_PCT\",\"FT_PCT\",\"FT_PCT\",\"FT_PCT\",\"FT_PCT\",\"FT_PCT\",\"FT_PCT\",\"FT_PCT\",\"FT_PCT\",\"FT_PCT\",\"FT_PCT\",\"FT_PCT\",\"FT_PCT\",\"FT_PCT\",\"FT_PCT\",\"FT_PCT\",\"FT_PCT\",\"FT_PCT\",\"FT_PCT\",\"FT_PCT\",\"FT_PCT\",\"FT_PCT\",\"FT_PCT\",\"FT_PCT\",\"FT_PCT\",\"FT_PCT\",\"FT_PCT\",\"FT_PCT\",\"FT_PCT\",\"FT_PCT\",\"FT_PCT\",\"FT_PCT\",\"FT_PCT\",\"FT_PCT\",\"FT_PCT\",\"FT_PCT\",\"FT_PCT\",\"FT_PCT\",\"FT_PCT\",\"FT_PCT\",\"FT_PCT\",\"FT_PCT\",\"FT_PCT\",\"FT_PCT\",\"FT_PCT\",\"FT_PCT\",\"FT_PCT\",\"FT_PCT\",\"FT_PCT\",\"FT_PCT\",\"FT_PCT\",\"FT_PCT\",\"FT_PCT\",\"FT_PCT\",\"FT_PCT\",\"FT_PCT\",\"FT_PCT\",\"FT_PCT\",\"FT_PCT\",\"FT_PCT\",\"FT_PCT\",\"FT_PCT\",\"FT_PCT\",\"FT_PCT\",\"FT_PCT\",\"FT_PCT\",\"FT_PCT\",\"FT_PCT\",\"FT_PCT\"],\"index\":[0,1,2,3,4,5,6,7,8,9,10,11,12,13,14,15,16,17,18,19,20,21,22,23,24,25,26,27,28,29,30,31,32,33,34,35,36,37,38,39,40,41,42,43,44,45,46,47,48,49,50,51,52,53,54,55,56,57,58,59,60,61,62,63,64,65,66,67,68,69,70,71,72,73,74,75,76,77,78,79,80,81,82,83,84,85,86,87,88,89,90,91,92,93,94,95,96,97,98,99,100,101,102,103,104,105,106,107,108,109,110,111,112,113,114,115,116,117,118,119,120,121,122,123,124,125,126,127,128,129,130,131,132,133,134,135,136,137,138,139,140,141,142,143,144,145,146,147,148,149,150,151,152,153,154,155,156,157,158,159,160,161,162,163,164,165,166,167,168,169,170,171,172,173,174,175,176,177,178,179,180,181,182,183,184,185,186,187,188,189,190,191,192,193,194,195,196,197,198,199,200,201,202,203,204,205,206,207,208,209,210,211,212,213,214,215,216,217,218,219,220,221,222,223,224,225,226,227,228,229,230,231,232,233,234,235,236,237,238,239,240,241,242,243,244,245,246,247,248,249,250,251,252,253,254,255,256,257,258,259,260,261,262,263,264,265,266,267,268,269,270,271,272,273,274,275,276,277,278,279,280,281,282,283,284,285,286,287,288,289,290,291,292,293,294,295,296,297,298,299,300,301,302,303,304,305,306,307,308,309,310,311,312,313,314,315,316,317,318,319,320,321,322,323,324,325,326,327,328,329,330,331,332,333,334,335,336,337,338,339,340,341,342,343,344,345,346,347,348,349,350,351,352,353,354,355,356,357,358,359,360,361,362,363,364,365,366,367,368,369,370,371,372,373,374,375,376,377,378,379,380,381,382,383,384,385,386,387,388,389,390,391,392,393,394,395,396,397,398,399,400,401,402,403,404,405,406,407,408,409,410,411,412,413,414,415,416,417,418,419,420,421,422,423,424,425,426,427,428,429,430,431,432,433,434,435,436,437,438,439,440,441,442,443,444,445,446,447,448,449,450,451,452,453,454,455,456,457,458,459,460,461,462,463,464,465,466,467,468,469,470,471,472,473,474,475,476,477,478,479,480,481,482,483,484,485,486,487,488,489,490,491,492,493,494,495,496,497,498,499,500,501,502,503,504,505,506,507,508,509,510,511,512,513,514,515,516,517,518,519,520,521,522,523,524,525,526,527,528,529,530,531,532,533,534,535,536,537,538,539,540,541,542,543,544,545,546,547,548,549,550,551,552,553,554,555,556,557,558,559,560,561,562,563,564,565,566,567,568,569,570,571,572,573,574,575,576,577,578,579,580,581,582,583,584,585,586,587,588,589,590,591,592,593,594,595,596,597,598,599,600,601,602,603,604,605,606,607,608,609,610,611,612,613,614,615,616,617,618,619,620,621,622,623,624,625,626,627,628,629,630,631,632,633,634,635,636,637,638,639,640,641,642,643,644,645,646,647,648,649,650,651,652,653,654,655,656,657,658,659,660,661,662,663,664,665,666,667,668,669,670,671,672,673,674,675,676,677,678,679,680,681,682,683,684,685,686,687,688,689,690,691,692,693,694,695,696,697,698,699,700,701,702,703,704,705,706,707,708,709,710,711,712,713,714,715,716,717,718,719,720,721,722,723,724,725,726,727,728,729,730,731,732,733,734,735,736,737,738,739,740,741,742,743,744,745,746,747,748,749,750,751,752,753,754,755,756,757,758,759,760,761,762,763,764,765],\"value\":{\"__ndarray__\":\"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\",\"dtype\":\"float64\",\"order\":\"little\",\"shape\":[766]}},\"selected\":{\"id\":\"22493\"},\"selection_policy\":{\"id\":\"22537\"}},\"id\":\"22492\",\"type\":\"ColumnDataSource\"},{\"attributes\":{\"line_alpha\":0.1,\"line_color\":\"#6d904f\",\"line_width\":2,\"tags\":[\"apply_ranges\"],\"x\":{\"field\":\"index\"},\"y\":{\"field\":\"value\"}},\"id\":\"22496\",\"type\":\"Line\"},{\"attributes\":{\"line_alpha\":0.1,\"line_color\":\"#d62728\",\"line_width\":2,\"tags\":[\"apply_ranges\"],\"x\":{\"field\":\"index\"},\"y\":{\"field\":\"value\"}},\"id\":\"22168\",\"type\":\"Line\"},{\"attributes\":{\"coordinates\":null,\"data_source\":{\"id\":\"22542\"},\"glyph\":{\"id\":\"22545\"},\"group\":null,\"hover_glyph\":null,\"muted_glyph\":{\"id\":\"22547\"},\"nonselection_glyph\":{\"id\":\"22546\"},\"selection_glyph\":{\"id\":\"22593\"},\"view\":{\"id\":\"22549\"}},\"id\":\"22548\",\"type\":\"GlyphRenderer\"},{\"attributes\":{\"line_alpha\":0.2,\"line_color\":\"#8c564b\",\"line_width\":2,\"tags\":[\"apply_ranges\"],\"x\":{\"field\":\"index\"},\"y\":{\"field\":\"value\"}},\"id\":\"22889\",\"type\":\"Line\"},{\"attributes\":{\"data\":{\"Variable\":[\"REB\",\"REB\",\"REB\",\"REB\",\"REB\",\"REB\",\"REB\",\"REB\",\"REB\",\"REB\",\"REB\",\"REB\",\"REB\",\"REB\",\"REB\",\"REB\",\"REB\",\"REB\",\"REB\",\"REB\",\"REB\",\"REB\",\"REB\",\"REB\",\"REB\",\"REB\",\"REB\",\"REB\",\"REB\",\"REB\",\"REB\",\"REB\",\"REB\",\"REB\",\"REB\",\"REB\",\"REB\",\"REB\",\"REB\",\"REB\",\"REB\",\"REB\",\"REB\",\"REB\",\"REB\",\"REB\",\"REB\",\"REB\",\"REB\",\"REB\",\"REB\",\"REB\",\"REB\",\"REB\",\"REB\",\"REB\",\"REB\",\"REB\",\"REB\",\"REB\",\"REB\",\"REB\",\"REB\",\"REB\",\"REB\",\"REB\",\"REB\",\"REB\",\"REB\",\"REB\",\"REB\",\"REB\",\"REB\",\"REB\",\"REB\",\"REB\",\"REB\",\"REB\",\"REB\",\"REB\",\"REB\",\"REB\",\"REB\",\"REB\",\"REB\",\"REB\",\"REB\",\"REB\",\"REB\",\"REB\",\"REB\",\"REB\",\"REB\",\"REB\",\"REB\",\"REB\",\"REB\",\"REB\",\"REB\",\"REB\",\"REB\",\"REB\",\"REB\",\"REB\",\"REB\",\"REB\",\"REB\",\"REB\",\"REB\",\"REB\",\"REB\",\"REB\",\"REB\",\"REB\",\"REB\",\"REB\",\"REB\",\"REB\",\"REB\",\"REB\",\"REB\",\"REB\",\"REB\",\"REB\",\"REB\",\"REB\",\"REB\",\"REB\",\"REB\",\"REB\",\"REB\",\"REB\",\"REB\",\"REB\",\"REB\",\"REB\",\"REB\",\"REB\",\"REB\",\"REB\",\"REB\",\"REB\",\"REB\",\"REB\",\"REB\",\"REB\",\"REB\",\"REB\",\"REB\",\"REB\",\"REB\",\"REB\",\"REB\",\"REB\",\"REB\",\"REB\",\"REB\",\"REB\",\"REB\",\"REB\",\"REB\",\"REB\",\"REB\",\"REB\",\"REB\",\"REB\",\"REB\",\"REB\",\"REB\",\"REB\",\"REB\",\"REB\",\"REB\",\"REB\",\"REB\",\"REB\",\"REB\",\"REB\",\"REB\",\"REB\",\"REB\",\"REB\",\"REB\",\"REB\",\"REB\",\"REB\",\"REB\",\"REB\",\"REB\",\"REB\",\"REB\",\"REB\",\"REB\",\"REB\",\"REB\",\"REB\",\"REB\",\"REB\",\"REB\",\"REB\",\"REB\",\"REB\",\"REB\",\"REB\",\"REB\",\"REB\",\"REB\",\"REB\",\"REB\",\"REB\",\"REB\",\"REB\",\"REB\",\"REB\",\"REB\",\"REB\",\"REB\",\"REB\",\"REB\",\"REB\",\"REB\",\"REB\",\"REB\",\"REB\",\"REB\",\"REB\",\"REB\",\"REB\",\"REB\",\"REB\",\"REB\",\"REB\",\"REB\",\"REB\",\"REB\",\"REB\",\"REB\",\"REB\",\"REB\",\"REB\",\"REB\",\"REB\",\"REB\",\"REB\",\"REB\",\"REB\",\"REB\",\"REB\",\"REB\",\"REB\",\"REB\",\"REB\",\"REB\",\"REB\",\"REB\",\"REB\",\"REB\",\"REB\",\"REB\",\"REB\",\"REB\",\"REB\",\"REB\",\"REB\",\"REB\",\"REB\",\"REB\",\"REB\",\"REB\",\"REB\",\"REB\",\"REB\",\"REB\",\"REB\",\"REB\",\"REB\",\"REB\",\"REB\",\"REB\",\"REB\",\"REB\",\"REB\",\"REB\",\"REB\",\"REB\",\"REB\",\"REB\",\"REB\",\"REB\",\"REB\",\"REB\",\"REB\",\"REB\",\"REB\",\"REB\",\"REB\",\"REB\",\"REB\",\"REB\",\"REB\",\"REB\",\"REB\",\"REB\",\"REB\",\"REB\",\"REB\",\"REB\",\"REB\",\"REB\",\"REB\",\"REB\",\"REB\",\"REB\",\"REB\",\"REB\",\"REB\",\"REB\",\"REB\",\"REB\",\"REB\",\"REB\",\"REB\",\"REB\",\"REB\",\"REB\",\"REB\",\"REB\",\"REB\",\"REB\",\"REB\",\"REB\",\"REB\",\"REB\",\"REB\",\"REB\",\"REB\",\"REB\",\"REB\",\"REB\",\"REB\",\"REB\",\"REB\",\"REB\",\"REB\",\"REB\",\"REB\",\"REB\",\"REB\",\"REB\",\"REB\",\"REB\",\"REB\",\"REB\",\"REB\",\"REB\",\"REB\",\"REB\",\"REB\",\"REB\",\"REB\",\"REB\",\"REB\",\"REB\",\"REB\",\"REB\",\"REB\",\"REB\",\"REB\",\"REB\",\"REB\",\"REB\",\"REB\",\"REB\",\"REB\",\"REB\",\"REB\",\"REB\",\"REB\",\"REB\",\"REB\",\"REB\",\"REB\",\"REB\",\"REB\",\"REB\",\"REB\",\"REB\",\"REB\",\"REB\",\"REB\",\"REB\",\"REB\",\"REB\",\"REB\",\"REB\",\"REB\",\"REB\",\"REB\",\"REB\",\"REB\",\"REB\",\"REB\",\"REB\",\"REB\",\"REB\",\"REB\",\"REB\",\"REB\",\"REB\",\"REB\",\"REB\",\"REB\",\"REB\",\"REB\",\"REB\",\"REB\",\"REB\",\"REB\",\"REB\",\"REB\",\"REB\",\"REB\",\"REB\",\"REB\",\"REB\",\"REB\",\"REB\",\"REB\",\"REB\",\"REB\",\"REB\",\"REB\",\"REB\",\"REB\",\"REB\",\"REB\",\"REB\",\"REB\",\"REB\",\"REB\",\"REB\",\"REB\",\"REB\",\"REB\",\"REB\",\"REB\",\"REB\",\"REB\",\"REB\",\"REB\",\"REB\",\"REB\",\"REB\",\"REB\",\"REB\",\"REB\",\"REB\",\"REB\",\"REB\",\"REB\",\"REB\",\"REB\",\"REB\",\"REB\",\"REB\",\"REB\",\"REB\",\"REB\",\"REB\",\"REB\",\"REB\",\"REB\",\"REB\",\"REB\",\"REB\",\"REB\",\"REB\",\"REB\",\"REB\",\"REB\",\"REB\",\"REB\",\"REB\",\"REB\",\"REB\",\"REB\",\"REB\",\"REB\",\"REB\",\"REB\",\"REB\",\"REB\",\"REB\",\"REB\",\"REB\",\"REB\",\"REB\",\"REB\",\"REB\",\"REB\",\"REB\",\"REB\",\"REB\",\"REB\",\"REB\",\"REB\",\"REB\",\"REB\",\"REB\",\"REB\",\"REB\",\"REB\",\"REB\",\"REB\",\"REB\",\"REB\",\"REB\",\"REB\",\"REB\",\"REB\",\"REB\",\"REB\",\"REB\",\"REB\",\"REB\",\"REB\",\"REB\",\"REB\",\"REB\",\"REB\",\"REB\",\"REB\",\"REB\",\"REB\",\"REB\",\"REB\",\"REB\",\"REB\",\"REB\",\"REB\",\"REB\",\"REB\",\"REB\",\"REB\",\"REB\",\"REB\",\"REB\",\"REB\",\"REB\",\"REB\",\"REB\",\"REB\",\"REB\",\"REB\",\"REB\",\"REB\",\"REB\",\"REB\",\"REB\",\"REB\",\"REB\",\"REB\",\"REB\",\"REB\",\"REB\",\"REB\",\"REB\",\"REB\",\"REB\",\"REB\",\"REB\",\"REB\",\"REB\",\"REB\",\"REB\",\"REB\",\"REB\",\"REB\",\"REB\",\"REB\",\"REB\",\"REB\",\"REB\",\"REB\",\"REB\",\"REB\",\"REB\",\"REB\",\"REB\",\"REB\",\"REB\",\"REB\",\"REB\",\"REB\",\"REB\",\"REB\",\"REB\",\"REB\",\"REB\",\"REB\",\"REB\",\"REB\",\"REB\",\"REB\",\"REB\",\"REB\",\"REB\",\"REB\",\"REB\",\"REB\",\"REB\",\"REB\",\"REB\",\"REB\",\"REB\",\"REB\",\"REB\",\"REB\",\"REB\",\"REB\",\"REB\",\"REB\",\"REB\",\"REB\",\"REB\",\"REB\",\"REB\",\"REB\",\"REB\",\"REB\",\"REB\",\"REB\",\"REB\",\"REB\",\"REB\",\"REB\",\"REB\",\"REB\",\"REB\",\"REB\",\"REB\",\"REB\",\"REB\",\"REB\",\"REB\",\"REB\",\"REB\",\"REB\",\"REB\",\"REB\",\"REB\",\"REB\",\"REB\",\"REB\",\"REB\",\"REB\",\"REB\",\"REB\",\"REB\",\"REB\",\"REB\",\"REB\",\"REB\",\"REB\",\"REB\",\"REB\",\"REB\",\"REB\",\"REB\",\"REB\",\"REB\",\"REB\",\"REB\",\"REB\",\"REB\",\"REB\",\"REB\",\"REB\",\"REB\",\"REB\",\"REB\",\"REB\",\"REB\",\"REB\",\"REB\",\"REB\",\"REB\",\"REB\",\"REB\",\"REB\",\"REB\",\"REB\",\"REB\",\"REB\",\"REB\",\"REB\",\"REB\",\"REB\",\"REB\",\"REB\",\"REB\",\"REB\",\"REB\",\"REB\",\"REB\",\"REB\",\"REB\",\"REB\",\"REB\",\"REB\",\"REB\",\"REB\",\"REB\",\"REB\",\"REB\",\"REB\",\"REB\",\"REB\",\"REB\",\"REB\",\"REB\",\"REB\",\"REB\",\"REB\",\"REB\",\"REB\",\"REB\",\"REB\",\"REB\",\"REB\",\"REB\",\"REB\",\"REB\",\"REB\",\"REB\",\"REB\",\"REB\",\"REB\",\"REB\",\"REB\",\"REB\",\"REB\",\"REB\",\"REB\",\"REB\",\"REB\",\"REB\",\"REB\",\"REB\",\"REB\",\"REB\",\"REB\",\"REB\",\"REB\",\"REB\",\"REB\",\"REB\",\"REB\",\"REB\",\"REB\",\"REB\",\"REB\",\"REB\",\"REB\",\"REB\",\"REB\"],\"index\":[0,1,2,3,4,5,6,7,8,9,10,11,12,13,14,15,16,17,18,19,20,21,22,23,24,25,26,27,28,29,30,31,32,33,34,35,36,37,38,39,40,41,42,43,44,45,46,47,48,49,50,51,52,53,54,55,56,57,58,59,60,61,62,63,64,65,66,67,68,69,70,71,72,73,74,75,76,77,78,79,80,81,82,83,84,85,86,87,88,89,90,91,92,93,94,95,96,97,98,99,100,101,102,103,104,105,106,107,108,109,110,111,112,113,114,115,116,117,118,119,120,121,122,123,124,125,126,127,128,129,130,131,132,133,134,135,136,137,138,139,140,141,142,143,144,145,146,147,148,149,150,151,152,153,154,155,156,157,158,159,160,161,162,163,164,165,166,167,168,169,170,171,172,173,174,175,176,177,178,179,180,181,182,183,184,185,186,187,188,189,190,191,192,193,194,195,196,197,198,199,200,201,202,203,204,205,206,207,208,209,210,211,212,213,214,215,216,217,218,219,220,221,222,223,224,225,226,227,228,229,230,231,232,233,234,235,236,237,238,239,240,241,242,243,244,245,246,247,248,249,250,251,252,253,254,255,256,257,258,259,260,261,262,263,264,265,266,267,268,269,270,271,272,273,274,275,276,277,278,279,280,281,282,283,284,285,286,287,288,289,290,291,292,293,294,295,296,297,298,299,300,301,302,303,304,305,306,307,308,309,310,311,312,313,314,315,316,317,318,319,320,321,322,323,324,325,326,327,328,329,330,331,332,333,334,335,336,337,338,339,340,341,342,343,344,345,346,347,348,349,350,351,352,353,354,355,356,357,358,359,360,361,362,363,364,365,366,367,368,369,370,371,372,373,374,375,376,377,378,379,380,381,382,383,384,385,386,387,388,389,390,391,392,393,394,395,396,397,398,399,400,401,402,403,404,405,406,407,408,409,410,411,412,413,414,415,416,417,418,419,420,421,422,423,424,425,426,427,428,429,430,431,432,433,434,435,436,437,438,439,440,441,442,443,444,445,446,447,448,449,450,451,452,453,454,455,456,457,458,459,460,461,462,463,464,465,466,467,468,469,470,471,472,473,474,475,476,477,478,479,480,481,482,483,484,485,486,487,488,489,490,491,492,493,494,495,496,497,498,499,500,501,502,503,504,505,506,507,508,509,510,511,512,513,514,515,516,517,518,519,520,521,522,523,524,525,526,527,528,529,530,531,532,533,534,535,536,537,538,539,540,541,542,543,544,545,546,547,548,549,550,551,552,553,554,555,556,557,558,559,560,561,562,563,564,565,566,567,568,569,570,571,572,573,574,575,576,577,578,579,580,581,582,583,584,585,586,587,588,589,590,591,592,593,594,595,596,597,598,599,600,601,602,603,604,605,606,607,608,609,610,611,612,613,614,615,616,617,618,619,620,621,622,623,624,625,626,627,628,629,630,631,632,633,634,635,636,637,638,639,640,641,642,643,644,645,646,647,648,649,650,651,652,653,654,655,656,657,658,659,660,661,662,663,664,665,666,667,668,669,670,671,672,673,674,675,676,677,678,679,680,681,682,683,684,685,686,687,688,689,690,691,692,693,694,695,696,697,698,699,700,701,702,703,704,705,706,707,708,709,710,711,712,713,714,715,716,717,718,719,720,721,722,723,724,725,726,727,728,729,730,731,732,733,734,735,736,737,738,739,740,741,742,743,744,745,746,747,748,749,750,751,752,753,754,755,756,757,758,759,760,761,762,763,764,765],\"value\":[185,364,549,439,405,580,556,166,103,269,307,412,328,334,221,132,353,400,120,357,231,201,146,176,236,285,389,485,368,384,101,57,230,287,424,430,342,168,510,416,244,193,437,432,213,645,495,419,496,424,161,306,249,247,306,285,277,299,125,286,41,3,147,260,291,298,248,56,164,16,219,58,277,319,385,404,366,289,458,233,78,311,234,239,258,134,220,161,328,312,139,230,225,391,373,397,394,1,322,348,258,224,215,18,2,194,137,96,226,210,43,70,238,25,49,234,81,189,212,344,148,142,279,139,276,191,247,156,225,213,209,164,241,27,239,151,177,217,107,75,182,365,303,281,361,431,375,305,261,228,489,177,420,31,250,111,78,189,247,309,213,321,369,328,365,286,434,312,292,247,282,225,43,195,130,49,179,134,66,200,109,174,221,115,138,11,107,168,113,175,42,11,100,91,61,152,191,173,221,324,69,153,402,85,31,17,48,69,53,19,72,31,144,175,106,54,40,10,50,68,64,154,123,50,173,68,223,241,283,48,17,164,259,166,221,13,207,72,279,163,107,270,223,315,211,320,343,277,349,386,315,462,375,259,392,343,7,169,193,210,132,145,257,114,109,120,192,27,186,22,235,226,56,282,227,397,158,180,190,220,243,144,387,239,25,348,499,437,472,336,417,249,212,461,133,304,437,399,456,190,291,470,362,303,242,163,23,8,1,9,368,624,409,173,582,49,108,94,62,23,85,160,222,237,372,714,693,547,759,660,216,203,419,788,776,843,804,5,316,419,436,433,67,126,193,287,176,463,466,274,117,391,166,47,90,85,96,181,332,536,220,141,361,271,412,611,416,428,481,306,390,100,316,254,299,66,137,157,101,256,203,76,140,267,132,43,0,68,111,94,47,67,132,134,103,140,176,200,292,322,416,360,297,257,212,164,165,208,373,435,355,263,243,142,55,55,110,49,59,108,2,51,28,50,169,75,158,141,154,182,108,116,156,44,181,347,96,23,14,75,206,18,26,77,121,246,55,67,122,64,220,178,176,160,163,47,32,79,122,98,72,244,208,396,251,285,396,368,368,37,48,198,125,141,266,280,164,105,269,220,180,457,1071,1104,1198,1115,1247,1232,775,89,864,337,214,551,433,247,680,444,57,221,391,514,492,231,83,314,48,138,14,152,362,19,27,5,7,12,11,64,135,84,15,52,67,3,1,25,29,197,244,255,252,379,344,459,501,659,389,518,446,41,307,348,351,149,500,354,52,119,117,240,230,200,44,244,108,132,129,135,68,203,106,150,177,49,88,137,2,341,217,107,230,284,182,212,157,389,199,381,34,108,142,174,132,109,196,237,250,393,45,388,266,119,240,140,107,247,237,352,575,546,594,1114,1226,1059,1114,1171,686,216,902,561,427,172,92,264,202,353,362,455,405,177,333,411,328,125,64,99,454,594,510,518,424,230,91,321,11,249,260,161,60,323,362,397,559,17,139,155,181,109,14,73,27,63,90,225,291,169,154,323,238,256,135,55,190,23,32,55,308,512,628,432,173,605,400,524,317,519,565,541,159,700,17,71,200,77,71,148,162,227,197,86,283,1,3,19,67,156,89,67,55,122,74,34,85,241,196,186,382,418,513,520,86,371,457,406,190,142,65,207,19,24,20,405,246,396,436,122,16,138,191,258,224,191,289,222,238,259,198,102,3,65,170,166,93,92,113,14,3,14,31,2,6,15,23,123,68,90,212,184,152,152,64,216,218,160,143,17]},\"selected\":{\"id\":\"22649\"},\"selection_policy\":{\"id\":\"22699\"}},\"id\":\"22648\",\"type\":\"ColumnDataSource\"},{\"attributes\":{\"source\":{\"id\":\"22948\"}},\"id\":\"22955\",\"type\":\"CDSView\"},{\"attributes\":{},\"id\":\"22823\",\"type\":\"Selection\"},{\"attributes\":{},\"id\":\"22097\",\"type\":\"UnionRenderers\"},{\"attributes\":{},\"id\":\"22699\",\"type\":\"UnionRenderers\"},{\"attributes\":{\"label\":{\"value\":\"GP\"},\"renderers\":[{\"id\":\"22080\"}]},\"id\":\"22100\",\"type\":\"LegendItem\"},{\"attributes\":{\"data\":{\"Variable\":[\"FTM\",\"FTM\",\"FTM\",\"FTM\",\"FTM\",\"FTM\",\"FTM\",\"FTM\",\"FTM\",\"FTM\",\"FTM\",\"FTM\",\"FTM\",\"FTM\",\"FTM\",\"FTM\",\"FTM\",\"FTM\",\"FTM\",\"FTM\",\"FTM\",\"FTM\",\"FTM\",\"FTM\",\"FTM\",\"FTM\",\"FTM\",\"FTM\",\"FTM\",\"FTM\",\"FTM\",\"FTM\",\"FTM\",\"FTM\",\"FTM\",\"FTM\",\"FTM\",\"FTM\",\"FTM\",\"FTM\",\"FTM\",\"FTM\",\"FTM\",\"FTM\",\"FTM\",\"FTM\",\"FTM\",\"FTM\",\"FTM\",\"FTM\",\"FTM\",\"FTM\",\"FTM\",\"FTM\",\"FTM\",\"FTM\",\"FTM\",\"FTM\",\"FTM\",\"FTM\",\"FTM\",\"FTM\",\"FTM\",\"FTM\",\"FTM\",\"FTM\",\"FTM\",\"FTM\",\"FTM\",\"FTM\",\"FTM\",\"FTM\",\"FTM\",\"FTM\",\"FTM\",\"FTM\",\"FTM\",\"FTM\",\"FTM\",\"FTM\",\"FTM\",\"FTM\",\"FTM\",\"FTM\",\"FTM\",\"FTM\",\"FTM\",\"FTM\",\"FTM\",\"FTM\",\"FTM\",\"FTM\",\"FTM\",\"FTM\",\"FTM\",\"FTM\",\"FTM\",\"FTM\",\"FTM\",\"FTM\",\"FTM\",\"FTM\",\"FTM\",\"FTM\",\"FTM\",\"FTM\",\"FTM\",\"FTM\",\"FTM\",\"FTM\",\"FTM\",\"FTM\",\"FTM\",\"FTM\",\"FTM\",\"FTM\",\"FTM\",\"FTM\",\"FTM\",\"FTM\",\"FTM\",\"FTM\",\"FTM\",\"FTM\",\"FTM\",\"FTM\",\"FTM\",\"FTM\",\"FTM\",\"FTM\",\"FTM\",\"FTM\",\"FTM\",\"FTM\",\"FTM\",\"FTM\",\"FTM\",\"FTM\",\"FTM\",\"FTM\",\"FTM\",\"FTM\",\"FTM\",\"FTM\",\"FTM\",\"FTM\",\"FTM\",\"FTM\",\"FTM\",\"FTM\",\"FTM\",\"FTM\",\"FTM\",\"FTM\",\"FTM\",\"FTM\",\"FTM\",\"FTM\",\"FTM\",\"FTM\",\"FTM\",\"FTM\",\"FTM\",\"FTM\",\"FTM\",\"FTM\",\"FTM\",\"FTM\",\"FTM\",\"FTM\",\"FTM\",\"FTM\",\"FTM\",\"FTM\",\"FTM\",\"FTM\",\"FTM\",\"FTM\",\"FTM\",\"FTM\",\"FTM\",\"FTM\",\"FTM\",\"FTM\",\"FTM\",\"FTM\",\"FTM\",\"FTM\",\"FTM\",\"FTM\",\"FTM\",\"FTM\",\"FTM\",\"FTM\",\"FTM\",\"FTM\",\"FTM\",\"FTM\",\"FTM\",\"FTM\",\"FTM\",\"FTM\",\"FTM\",\"FTM\",\"FTM\",\"FTM\",\"FTM\",\"FTM\",\"FTM\",\"FTM\",\"FTM\",\"FTM\",\"FTM\",\"FTM\",\"FTM\",\"FTM\",\"FTM\",\"FTM\",\"FTM\",\"FTM\",\"FTM\",\"FTM\",\"FTM\",\"FTM\",\"FTM\",\"FTM\",\"FTM\",\"FTM\",\"FTM\",\"FTM\",\"FTM\",\"FTM\",\"FTM\",\"FTM\",\"FTM\",\"FTM\",\"FTM\",\"FTM\",\"FTM\",\"FTM\",\"FTM\",\"FTM\",\"FTM\",\"FTM\",\"FTM\",\"FTM\",\"FTM\",\"FTM\",\"FTM\",\"FTM\",\"FTM\",\"FTM\",\"FTM\",\"FTM\",\"FTM\",\"FTM\",\"FTM\",\"FTM\",\"FTM\",\"FTM\",\"FTM\",\"FTM\",\"FTM\",\"FTM\",\"FTM\",\"FTM\",\"FTM\",\"FTM\",\"FTM\",\"FTM\",\"FTM\",\"FTM\",\"FTM\",\"FTM\",\"FTM\",\"FTM\",\"FTM\",\"FTM\",\"FTM\",\"FTM\",\"FTM\",\"FTM\",\"FTM\",\"FTM\",\"FTM\",\"FTM\",\"FTM\",\"FTM\",\"FTM\",\"FTM\",\"FTM\",\"FTM\",\"FTM\",\"FTM\",\"FTM\",\"FTM\",\"FTM\",\"FTM\",\"FTM\",\"FTM\",\"FTM\",\"FTM\",\"FTM\",\"FTM\",\"FTM\",\"FTM\",\"FTM\",\"FTM\",\"FTM\",\"FTM\",\"FTM\",\"FTM\",\"FTM\",\"FTM\",\"FTM\",\"FTM\",\"FTM\",\"FTM\",\"FTM\",\"FTM\",\"FTM\",\"FTM\",\"FTM\",\"FTM\",\"FTM\",\"FTM\",\"FTM\",\"FTM\",\"FTM\",\"FTM\",\"FTM\",\"FTM\",\"FTM\",\"FTM\",\"FTM\",\"FTM\",\"FTM\",\"FTM\",\"FTM\",\"FTM\",\"FTM\",\"FTM\",\"FTM\",\"FTM\",\"FTM\",\"FTM\",\"FTM\",\"FTM\",\"FTM\",\"FTM\",\"FTM\",\"FTM\",\"FTM\",\"FTM\",\"FTM\",\"FTM\",\"FTM\",\"FTM\",\"FTM\",\"FTM\",\"FTM\",\"FTM\",\"FTM\",\"FTM\",\"FTM\",\"FTM\",\"FTM\",\"FTM\",\"FTM\",\"FTM\",\"FTM\",\"FTM\",\"FTM\",\"FTM\",\"FTM\",\"FTM\",\"FTM\",\"FTM\",\"FTM\",\"FTM\",\"FTM\",\"FTM\",\"FTM\",\"FTM\",\"FTM\",\"FTM\",\"FTM\",\"FTM\",\"FTM\",\"FTM\",\"FTM\",\"FTM\",\"FTM\",\"FTM\",\"FTM\",\"FTM\",\"FTM\",\"FTM\",\"FTM\",\"FTM\",\"FTM\",\"FTM\",\"FTM\",\"FTM\",\"FTM\",\"FTM\",\"FTM\",\"FTM\",\"FTM\",\"FTM\",\"FTM\",\"FTM\",\"FTM\",\"FTM\",\"FTM\",\"FTM\",\"FTM\",\"FTM\",\"FTM\",\"FTM\",\"FTM\",\"FTM\",\"FTM\",\"FTM\",\"FTM\",\"FTM\",\"FTM\",\"FTM\",\"FTM\",\"FTM\",\"FTM\",\"FTM\",\"FTM\",\"FTM\",\"FTM\",\"FTM\",\"FTM\",\"FTM\",\"FTM\",\"FTM\",\"FTM\",\"FTM\",\"FTM\",\"FTM\",\"FTM\",\"FTM\",\"FTM\",\"FTM\",\"FTM\",\"FTM\",\"FTM\",\"FTM\",\"FTM\",\"FTM\",\"FTM\",\"FTM\",\"FTM\",\"FTM\",\"FTM\",\"FTM\",\"FTM\",\"FTM\",\"FTM\",\"FTM\",\"FTM\",\"FTM\",\"FTM\",\"FTM\",\"FTM\",\"FTM\",\"FTM\",\"FTM\",\"FTM\",\"FTM\",\"FTM\",\"FTM\",\"FTM\",\"FTM\",\"FTM\",\"FTM\",\"FTM\",\"FTM\",\"FTM\",\"FTM\",\"FTM\",\"FTM\",\"FTM\",\"FTM\",\"FTM\",\"FTM\",\"FTM\",\"FTM\",\"FTM\",\"FTM\",\"FTM\",\"FTM\",\"FTM\",\"FTM\",\"FTM\",\"FTM\",\"FTM\",\"FTM\",\"FTM\",\"FTM\",\"FTM\",\"FTM\",\"FTM\",\"FTM\",\"FTM\",\"FTM\",\"FTM\",\"FTM\",\"FTM\",\"FTM\",\"FTM\",\"FTM\",\"FTM\",\"FTM\",\"FTM\",\"FTM\",\"FTM\",\"FTM\",\"FTM\",\"FTM\",\"FTM\",\"FTM\",\"FTM\",\"FTM\",\"FTM\",\"FTM\",\"FTM\",\"FTM\",\"FTM\",\"FTM\",\"FTM\",\"FTM\",\"FTM\",\"FTM\",\"FTM\",\"FTM\",\"FTM\",\"FTM\",\"FTM\",\"FTM\",\"FTM\",\"FTM\",\"FTM\",\"FTM\",\"FTM\",\"FTM\",\"FTM\",\"FTM\",\"FTM\",\"FTM\",\"FTM\",\"FTM\",\"FTM\",\"FTM\",\"FTM\",\"FTM\",\"FTM\",\"FTM\",\"FTM\",\"FTM\",\"FTM\",\"FTM\",\"FTM\",\"FTM\",\"FTM\",\"FTM\",\"FTM\",\"FTM\",\"FTM\",\"FTM\",\"FTM\",\"FTM\",\"FTM\",\"FTM\",\"FTM\",\"FTM\",\"FTM\",\"FTM\",\"FTM\",\"FTM\",\"FTM\",\"FTM\",\"FTM\",\"FTM\",\"FTM\",\"FTM\",\"FTM\",\"FTM\",\"FTM\",\"FTM\",\"FTM\",\"FTM\",\"FTM\",\"FTM\",\"FTM\",\"FTM\",\"FTM\",\"FTM\",\"FTM\",\"FTM\",\"FTM\",\"FTM\",\"FTM\",\"FTM\",\"FTM\",\"FTM\",\"FTM\",\"FTM\",\"FTM\",\"FTM\",\"FTM\",\"FTM\",\"FTM\",\"FTM\",\"FTM\",\"FTM\",\"FTM\",\"FTM\",\"FTM\",\"FTM\",\"FTM\",\"FTM\",\"FTM\",\"FTM\",\"FTM\",\"FTM\",\"FTM\",\"FTM\",\"FTM\",\"FTM\",\"FTM\",\"FTM\",\"FTM\",\"FTM\",\"FTM\",\"FTM\",\"FTM\",\"FTM\",\"FTM\",\"FTM\",\"FTM\",\"FTM\",\"FTM\",\"FTM\",\"FTM\",\"FTM\",\"FTM\",\"FTM\",\"FTM\",\"FTM\",\"FTM\",\"FTM\",\"FTM\",\"FTM\",\"FTM\",\"FTM\",\"FTM\",\"FTM\",\"FTM\",\"FTM\",\"FTM\",\"FTM\",\"FTM\",\"FTM\",\"FTM\",\"FTM\",\"FTM\",\"FTM\",\"FTM\",\"FTM\",\"FTM\",\"FTM\",\"FTM\",\"FTM\",\"FTM\",\"FTM\",\"FTM\",\"FTM\",\"FTM\",\"FTM\",\"FTM\",\"FTM\",\"FTM\",\"FTM\",\"FTM\",\"FTM\",\"FTM\",\"FTM\",\"FTM\",\"FTM\",\"FTM\",\"FTM\",\"FTM\",\"FTM\",\"FTM\",\"FTM\",\"FTM\",\"FTM\",\"FTM\",\"FTM\",\"FTM\",\"FTM\",\"FTM\",\"FTM\",\"FTM\",\"FTM\",\"FTM\",\"FTM\",\"FTM\",\"FTM\",\"FTM\",\"FTM\",\"FTM\",\"FTM\",\"FTM\",\"FTM\",\"FTM\",\"FTM\",\"FTM\",\"FTM\",\"FTM\",\"FTM\",\"FTM\",\"FTM\",\"FTM\",\"FTM\",\"FTM\",\"FTM\",\"FTM\",\"FTM\",\"FTM\",\"FTM\",\"FTM\",\"FTM\",\"FTM\",\"FTM\",\"FTM\",\"FTM\",\"FTM\",\"FTM\",\"FTM\",\"FTM\",\"FTM\",\"FTM\",\"FTM\",\"FTM\",\"FTM\",\"FTM\",\"FTM\",\"FTM\",\"FTM\",\"FTM\",\"FTM\",\"FTM\",\"FTM\",\"FTM\",\"FTM\",\"FTM\",\"FTM\",\"FTM\",\"FTM\",\"FTM\"],\"index\":[0,1,2,3,4,5,6,7,8,9,10,11,12,13,14,15,16,17,18,19,20,21,22,23,24,25,26,27,28,29,30,31,32,33,34,35,36,37,38,39,40,41,42,43,44,45,46,47,48,49,50,51,52,53,54,55,56,57,58,59,60,61,62,63,64,65,66,67,68,69,70,71,72,73,74,75,76,77,78,79,80,81,82,83,84,85,86,87,88,89,90,91,92,93,94,95,96,97,98,99,100,101,102,103,104,105,106,107,108,109,110,111,112,113,114,115,116,117,118,119,120,121,122,123,124,125,126,127,128,129,130,131,132,133,134,135,136,137,138,139,140,141,142,143,144,145,146,147,148,149,150,151,152,153,154,155,156,157,158,159,160,161,162,163,164,165,166,167,168,169,170,171,172,173,174,175,176,177,178,179,180,181,182,183,184,185,186,187,188,189,190,191,192,193,194,195,196,197,198,199,200,201,202,203,204,205,206,207,208,209,210,211,212,213,214,215,216,217,218,219,220,221,222,223,224,225,226,227,228,229,230,231,232,233,234,235,236,237,238,239,240,241,242,243,244,245,246,247,248,249,250,251,252,253,254,255,256,257,258,259,260,261,262,263,264,265,266,267,268,269,270,271,272,273,274,275,276,277,278,279,280,281,282,283,284,285,286,287,288,289,290,291,292,293,294,295,296,297,298,299,300,301,302,303,304,305,306,307,308,309,310,311,312,313,314,315,316,317,318,319,320,321,322,323,324,325,326,327,328,329,330,331,332,333,334,335,336,337,338,339,340,341,342,343,344,345,346,347,348,349,350,351,352,353,354,355,356,357,358,359,360,361,362,363,364,365,366,367,368,369,370,371,372,373,374,375,376,377,378,379,380,381,382,383,384,385,386,387,388,389,390,391,392,393,394,395,396,397,398,399,400,401,402,403,404,405,406,407,408,409,410,411,412,413,414,415,416,417,418,419,420,421,422,423,424,425,426,427,428,429,430,431,432,433,434,435,436,437,438,439,440,441,442,443,444,445,446,447,448,449,450,451,452,453,454,455,456,457,458,459,460,461,462,463,464,465,466,467,468,469,470,471,472,473,474,475,476,477,478,479,480,481,482,483,484,485,486,487,488,489,490,491,492,493,494,495,496,497,498,499,500,501,502,503,504,505,506,507,508,509,510,511,512,513,514,515,516,517,518,519,520,521,522,523,524,525,526,527,528,529,530,531,532,533,534,535,536,537,538,539,540,541,542,543,544,545,546,547,548,549,550,551,552,553,554,555,556,557,558,559,560,561,562,563,564,565,566,567,568,569,570,571,572,573,574,575,576,577,578,579,580,581,582,583,584,585,586,587,588,589,590,591,592,593,594,595,596,597,598,599,600,601,602,603,604,605,606,607,608,609,610,611,612,613,614,615,616,617,618,619,620,621,622,623,624,625,626,627,628,629,630,631,632,633,634,635,636,637,638,639,640,641,642,643,644,645,646,647,648,649,650,651,652,653,654,655,656,657,658,659,660,661,662,663,664,665,666,667,668,669,670,671,672,673,674,675,676,677,678,679,680,681,682,683,684,685,686,687,688,689,690,691,692,693,694,695,696,697,698,699,700,701,702,703,704,705,706,707,708,709,710,711,712,713,714,715,716,717,718,719,720,721,722,723,724,725,726,727,728,729,730,731,732,733,734,735,736,737,738,739,740,741,742,743,744,745,746,747,748,749,750,751,752,753,754,755,756,757,758,759,760,761,762,763,764,765],\"value\":[22,54,237,240,249,284,367,29,35,64,71,171,115,88,80,31,111,106,26,141,63,76,87,75,61,32,42,39,45,50,44,23,80,103,197,193,120,82,202,190,115,64,179,192,74,266,174,182,170,113,79,132,147,225,193,186,82,129,46,116,9,0,35,86,110,64,49,5,18,6,49,17,66,121,71,203,145,124,146,163,18,181,73,129,68,21,93,41,90,69,69,193,243,311,375,393,362,0,156,124,156,126,129,7,2,65,75,58,73,64,10,21,116,17,25,112,42,122,161,200,53,74,138,90,161,139,181,136,234,225,214,191,316,53,343,115,121,129,78,63,141,99,93,96,90,134,152,86,31,114,145,69,198,25,243,129,52,181,215,192,171,190,313,252,398,299,223,161,294,140,148,116,10,72,59,12,71,40,24,64,66,48,80,40,53,2,36,77,60,68,26,3,37,58,25,83,174,172,27,94,6,52,108,19,4,1,5,12,22,11,33,6,50,75,49,7,4,2,6,14,5,39,56,17,73,17,50,40,26,31,19,126,218,287,347,6,116,79,195,170,98,268,148,327,268,355,519,361,555,545,461,366,381,387,520,456,2,100,100,126,104,92,279,106,106,60,107,33,79,4,116,201,34,235,101,217,153,42,58,66,63,28,91,53,4,152,248,264,301,194,208,121,119,240,68,250,318,337,198,118,112,120,120,82,62,42,6,0,2,2,57,86,67,29,96,26,23,30,15,45,39,79,64,114,146,198,217,162,176,170,77,70,147,148,157,237,185,0,178,140,143,116,17,51,68,75,24,99,50,30,28,58,30,11,19,22,24,46,91,48,42,43,138,133,178,163,84,163,243,108,77,9,48,25,34,32,90,82,59,93,184,25,56,73,41,17,0,27,44,45,28,33,71,58,43,41,54,80,119,107,172,175,75,108,60,42,12,19,31,87,30,25,23,27,1,15,16,1,18,19,4,36,15,16,73,33,47,66,105,88,97,71,48,25,30,55,16,3,3,24,62,6,11,25,42,94,15,7,22,35,109,104,134,115,75,22,42,64,83,27,9,62,45,104,37,52,144,67,100,26,42,97,53,66,119,77,71,30,101,54,52,59,137,142,208,137,239,243,149,20,169,77,46,123,42,44,86,67,8,58,95,99,106,49,29,78,19,31,5,36,49,8,9,2,4,6,2,8,38,20,2,1,3,2,0,2,4,32,194,289,312,674,576,715,720,746,624,754,692,53,225,278,304,166,470,313,14,22,31,49,57,63,7,70,18,33,48,31,9,40,24,45,64,11,12,23,0,87,78,20,102,128,78,61,74,152,95,71,24,41,65,62,65,34,83,45,60,73,14,96,31,36,96,39,8,47,42,48,98,74,96,160,187,266,205,181,135,51,186,83,46,12,10,22,22,146,127,175,133,61,111,122,85,38,24,20,73,174,150,158,140,51,17,68,3,70,73,41,11,58,106,98,267,8,44,57,116,91,6,37,5,22,27,66,135,41,54,95,53,67,34,16,50,0,5,5,122,157,215,127,47,174,82,111,83,113,67,155,44,199,8,22,56,33,21,54,68,49,37,13,50,2,1,6,41,74,68,28,31,59,27,11,20,77,59,40,99,83,172,178,27,105,132,108,84,36,27,63,8,10,2,82,43,125,117,36,2,38,160,266,147,149,252,109,126,146,83,87,4,41,132,52,35,22,24,16,5,14,35,0,0,7,7,26,30,35,91,58,60,57,23,80,70,40,28,3]},\"selected\":{\"id\":\"22399\"},\"selection_policy\":{\"id\":\"22439\"}},\"id\":\"22398\",\"type\":\"ColumnDataSource\"},{\"attributes\":{\"line_alpha\":0.2,\"line_color\":\"#6d904f\",\"line_width\":2,\"tags\":[\"apply_ranges\"],\"x\":{\"field\":\"index\"},\"y\":{\"field\":\"value\"}},\"id\":\"22497\",\"type\":\"Line\"},{\"attributes\":{\"label\":{\"value\":\"REB\"},\"renderers\":[{\"id\":\"22654\"}]},\"id\":\"22702\",\"type\":\"LegendItem\"},{\"attributes\":{\"coordinates\":null,\"data_source\":{\"id\":\"22948\"},\"glyph\":{\"id\":\"22951\"},\"group\":null,\"hover_glyph\":null,\"muted_glyph\":{\"id\":\"22953\"},\"nonselection_glyph\":{\"id\":\"22952\"},\"selection_glyph\":{\"id\":\"23013\"},\"view\":{\"id\":\"22955\"}},\"id\":\"22954\",\"type\":\"GlyphRenderer\"},{\"attributes\":{},\"id\":\"23147\",\"type\":\"UnionRenderers\"},{\"attributes\":{\"line_alpha\":0.2,\"line_color\":\"#1f77b4\",\"line_width\":2,\"tags\":[\"apply_ranges\"],\"x\":{\"field\":\"index\"},\"y\":{\"field\":\"value\"}},\"id\":\"22203\",\"type\":\"Line\"},{\"attributes\":{\"coordinates\":null,\"data_source\":{\"id\":\"22198\"},\"glyph\":{\"id\":\"22201\"},\"group\":null,\"hover_glyph\":null,\"muted_glyph\":{\"id\":\"22203\"},\"nonselection_glyph\":{\"id\":\"22202\"},\"selection_glyph\":{\"id\":\"22233\"},\"view\":{\"id\":\"22205\"}},\"id\":\"22204\",\"type\":\"GlyphRenderer\"},{\"attributes\":{\"line_alpha\":0.2,\"line_color\":\"#e377c2\",\"line_width\":2,\"tags\":[\"apply_ranges\"],\"x\":{\"field\":\"index\"},\"y\":{\"field\":\"value\"}},\"id\":\"22239\",\"type\":\"Line\"},{\"attributes\":{\"line_alpha\":0.1,\"line_color\":\"#bcbd22\",\"line_width\":2,\"tags\":[\"apply_ranges\"],\"x\":{\"field\":\"index\"},\"y\":{\"field\":\"value\"}},\"id\":\"22316\",\"type\":\"Line\"},{\"attributes\":{\"label\":{\"value\":\"Salary\"},\"renderers\":[{\"id\":\"23088\"}]},\"id\":\"23150\",\"type\":\"LegendItem\"},{\"attributes\":{\"line_alpha\":0.1,\"line_color\":\"#1f77b4\",\"line_width\":2,\"tags\":[\"apply_ranges\"],\"x\":{\"field\":\"index\"},\"y\":{\"field\":\"value\"}},\"id\":\"22202\",\"type\":\"Line\"},{\"attributes\":{\"line_alpha\":0.1,\"line_color\":\"#fc4f30\",\"line_width\":2,\"tags\":[\"apply_ranges\"],\"x\":{\"field\":\"index\"},\"y\":{\"field\":\"value\"}},\"id\":\"23086\",\"type\":\"Line\"},{\"attributes\":{\"line_color\":\"#fc4f30\",\"line_width\":2,\"tags\":[\"apply_ranges\"],\"x\":{\"field\":\"index\"},\"y\":{\"field\":\"value\"}},\"id\":\"23151\",\"type\":\"Line\"},{\"attributes\":{},\"id\":\"23077\",\"type\":\"UnionRenderers\"},{\"attributes\":{\"data\":{\"Variable\":[\"AST\",\"AST\",\"AST\",\"AST\",\"AST\",\"AST\",\"AST\",\"AST\",\"AST\",\"AST\",\"AST\",\"AST\",\"AST\",\"AST\",\"AST\",\"AST\",\"AST\",\"AST\",\"AST\",\"AST\",\"AST\",\"AST\",\"AST\",\"AST\",\"AST\",\"AST\",\"AST\",\"AST\",\"AST\",\"AST\",\"AST\",\"AST\",\"AST\",\"AST\",\"AST\",\"AST\",\"AST\",\"AST\",\"AST\",\"AST\",\"AST\",\"AST\",\"AST\",\"AST\",\"AST\",\"AST\",\"AST\",\"AST\",\"AST\",\"AST\",\"AST\",\"AST\",\"AST\",\"AST\",\"AST\",\"AST\",\"AST\",\"AST\",\"AST\",\"AST\",\"AST\",\"AST\",\"AST\",\"AST\",\"AST\",\"AST\",\"AST\",\"AST\",\"AST\",\"AST\",\"AST\",\"AST\",\"AST\",\"AST\",\"AST\",\"AST\",\"AST\",\"AST\",\"AST\",\"AST\",\"AST\",\"AST\",\"AST\",\"AST\",\"AST\",\"AST\",\"AST\",\"AST\",\"AST\",\"AST\",\"AST\",\"AST\",\"AST\",\"AST\",\"AST\",\"AST\",\"AST\",\"AST\",\"AST\",\"AST\",\"AST\",\"AST\",\"AST\",\"AST\",\"AST\",\"AST\",\"AST\",\"AST\",\"AST\",\"AST\",\"AST\",\"AST\",\"AST\",\"AST\",\"AST\",\"AST\",\"AST\",\"AST\",\"AST\",\"AST\",\"AST\",\"AST\",\"AST\",\"AST\",\"AST\",\"AST\",\"AST\",\"AST\",\"AST\",\"AST\",\"AST\",\"AST\",\"AST\",\"AST\",\"AST\",\"AST\",\"AST\",\"AST\",\"AST\",\"AST\",\"AST\",\"AST\",\"AST\",\"AST\",\"AST\",\"AST\",\"AST\",\"AST\",\"AST\",\"AST\",\"AST\",\"AST\",\"AST\",\"AST\",\"AST\",\"AST\",\"AST\",\"AST\",\"AST\",\"AST\",\"AST\",\"AST\",\"AST\",\"AST\",\"AST\",\"AST\",\"AST\",\"AST\",\"AST\",\"AST\",\"AST\",\"AST\",\"AST\",\"AST\",\"AST\",\"AST\",\"AST\",\"AST\",\"AST\",\"AST\",\"AST\",\"AST\",\"AST\",\"AST\",\"AST\",\"AST\",\"AST\",\"AST\",\"AST\",\"AST\",\"AST\",\"AST\",\"AST\",\"AST\",\"AST\",\"AST\",\"AST\",\"AST\",\"AST\",\"AST\",\"AST\",\"AST\",\"AST\",\"AST\",\"AST\",\"AST\",\"AST\",\"AST\",\"AST\",\"AST\",\"AST\",\"AST\",\"AST\",\"AST\",\"AST\",\"AST\",\"AST\",\"AST\",\"AST\",\"AST\",\"AST\",\"AST\",\"AST\",\"AST\",\"AST\",\"AST\",\"AST\",\"AST\",\"AST\",\"AST\",\"AST\",\"AST\",\"AST\",\"AST\",\"AST\",\"AST\",\"AST\",\"AST\",\"AST\",\"AST\",\"AST\",\"AST\",\"AST\",\"AST\",\"AST\",\"AST\",\"AST\",\"AST\",\"AST\",\"AST\",\"AST\",\"AST\",\"AST\",\"AST\",\"AST\",\"AST\",\"AST\",\"AST\",\"AST\",\"AST\",\"AST\",\"AST\",\"AST\",\"AST\",\"AST\",\"AST\",\"AST\",\"AST\",\"AST\",\"AST\",\"AST\",\"AST\",\"AST\",\"AST\",\"AST\",\"AST\",\"AST\",\"AST\",\"AST\",\"AST\",\"AST\",\"AST\",\"AST\",\"AST\",\"AST\",\"AST\",\"AST\",\"AST\",\"AST\",\"AST\",\"AST\",\"AST\",\"AST\",\"AST\",\"AST\",\"AST\",\"AST\",\"AST\",\"AST\",\"AST\",\"AST\",\"AST\",\"AST\",\"AST\",\"AST\",\"AST\",\"AST\",\"AST\",\"AST\",\"AST\",\"AST\",\"AST\",\"AST\",\"AST\",\"AST\",\"AST\",\"AST\",\"AST\",\"AST\",\"AST\",\"AST\",\"AST\",\"AST\",\"AST\",\"AST\",\"AST\",\"AST\",\"AST\",\"AST\",\"AST\",\"AST\",\"AST\",\"AST\",\"AST\",\"AST\",\"AST\",\"AST\",\"AST\",\"AST\",\"AST\",\"AST\",\"AST\",\"AST\",\"AST\",\"AST\",\"AST\",\"AST\",\"AST\",\"AST\",\"AST\",\"AST\",\"AST\",\"AST\",\"AST\",\"AST\",\"AST\",\"AST\",\"AST\",\"AST\",\"AST\",\"AST\",\"AST\",\"AST\",\"AST\",\"AST\",\"AST\",\"AST\",\"AST\",\"AST\",\"AST\",\"AST\",\"AST\",\"AST\",\"AST\",\"AST\",\"AST\",\"AST\",\"AST\",\"AST\",\"AST\",\"AST\",\"AST\",\"AST\",\"AST\",\"AST\",\"AST\",\"AST\",\"AST\",\"AST\",\"AST\",\"AST\",\"AST\",\"AST\",\"AST\",\"AST\",\"AST\",\"AST\",\"AST\",\"AST\",\"AST\",\"AST\",\"AST\",\"AST\",\"AST\",\"AST\",\"AST\",\"AST\",\"AST\",\"AST\",\"AST\",\"AST\",\"AST\",\"AST\",\"AST\",\"AST\",\"AST\",\"AST\",\"AST\",\"AST\",\"AST\",\"AST\",\"AST\",\"AST\",\"AST\",\"AST\",\"AST\",\"AST\",\"AST\",\"AST\",\"AST\",\"AST\",\"AST\",\"AST\",\"AST\",\"AST\",\"AST\",\"AST\",\"AST\",\"AST\",\"AST\",\"AST\",\"AST\",\"AST\",\"AST\",\"AST\",\"AST\",\"AST\",\"AST\",\"AST\",\"AST\",\"AST\",\"AST\",\"AST\",\"AST\",\"AST\",\"AST\",\"AST\",\"AST\",\"AST\",\"AST\",\"AST\",\"AST\",\"AST\",\"AST\",\"AST\",\"AST\",\"AST\",\"AST\",\"AST\",\"AST\",\"AST\",\"AST\",\"AST\",\"AST\",\"AST\",\"AST\",\"AST\",\"AST\",\"AST\",\"AST\",\"AST\",\"AST\",\"AST\",\"AST\",\"AST\",\"AST\",\"AST\",\"AST\",\"AST\",\"AST\",\"AST\",\"AST\",\"AST\",\"AST\",\"AST\",\"AST\",\"AST\",\"AST\",\"AST\",\"AST\",\"AST\",\"AST\",\"AST\",\"AST\",\"AST\",\"AST\",\"AST\",\"AST\",\"AST\",\"AST\",\"AST\",\"AST\",\"AST\",\"AST\",\"AST\",\"AST\",\"AST\",\"AST\",\"AST\",\"AST\",\"AST\",\"AST\",\"AST\",\"AST\",\"AST\",\"AST\",\"AST\",\"AST\",\"AST\",\"AST\",\"AST\",\"AST\",\"AST\",\"AST\",\"AST\",\"AST\",\"AST\",\"AST\",\"AST\",\"AST\",\"AST\",\"AST\",\"AST\",\"AST\",\"AST\",\"AST\",\"AST\",\"AST\",\"AST\",\"AST\",\"AST\",\"AST\",\"AST\",\"AST\",\"AST\",\"AST\",\"AST\",\"AST\",\"AST\",\"AST\",\"AST\",\"AST\",\"AST\",\"AST\",\"AST\",\"AST\",\"AST\",\"AST\",\"AST\",\"AST\",\"AST\",\"AST\",\"AST\",\"AST\",\"AST\",\"AST\",\"AST\",\"AST\",\"AST\",\"AST\",\"AST\",\"AST\",\"AST\",\"AST\",\"AST\",\"AST\",\"AST\",\"AST\",\"AST\",\"AST\",\"AST\",\"AST\",\"AST\",\"AST\",\"AST\",\"AST\",\"AST\",\"AST\",\"AST\",\"AST\",\"AST\",\"AST\",\"AST\",\"AST\",\"AST\",\"AST\",\"AST\",\"AST\",\"AST\",\"AST\",\"AST\",\"AST\",\"AST\",\"AST\",\"AST\",\"AST\",\"AST\",\"AST\",\"AST\",\"AST\",\"AST\",\"AST\",\"AST\",\"AST\",\"AST\",\"AST\",\"AST\",\"AST\",\"AST\",\"AST\",\"AST\",\"AST\",\"AST\",\"AST\",\"AST\",\"AST\",\"AST\",\"AST\",\"AST\",\"AST\",\"AST\",\"AST\",\"AST\",\"AST\",\"AST\",\"AST\",\"AST\",\"AST\",\"AST\",\"AST\",\"AST\",\"AST\",\"AST\",\"AST\",\"AST\",\"AST\",\"AST\",\"AST\",\"AST\",\"AST\",\"AST\",\"AST\",\"AST\",\"AST\",\"AST\",\"AST\",\"AST\",\"AST\",\"AST\",\"AST\",\"AST\",\"AST\",\"AST\",\"AST\",\"AST\",\"AST\",\"AST\",\"AST\",\"AST\",\"AST\",\"AST\",\"AST\",\"AST\",\"AST\",\"AST\",\"AST\",\"AST\",\"AST\",\"AST\",\"AST\",\"AST\",\"AST\",\"AST\",\"AST\",\"AST\",\"AST\",\"AST\",\"AST\",\"AST\",\"AST\",\"AST\",\"AST\",\"AST\",\"AST\",\"AST\",\"AST\",\"AST\",\"AST\",\"AST\",\"AST\",\"AST\",\"AST\",\"AST\",\"AST\",\"AST\",\"AST\",\"AST\",\"AST\",\"AST\",\"AST\",\"AST\",\"AST\",\"AST\",\"AST\",\"AST\",\"AST\",\"AST\",\"AST\",\"AST\",\"AST\",\"AST\",\"AST\",\"AST\",\"AST\",\"AST\",\"AST\",\"AST\",\"AST\",\"AST\",\"AST\",\"AST\",\"AST\",\"AST\",\"AST\",\"AST\",\"AST\",\"AST\",\"AST\",\"AST\",\"AST\",\"AST\",\"AST\",\"AST\",\"AST\",\"AST\",\"AST\",\"AST\",\"AST\",\"AST\",\"AST\",\"AST\",\"AST\",\"AST\",\"AST\",\"AST\",\"AST\"],\"index\":[0,1,2,3,4,5,6,7,8,9,10,11,12,13,14,15,16,17,18,19,20,21,22,23,24,25,26,27,28,29,30,31,32,33,34,35,36,37,38,39,40,41,42,43,44,45,46,47,48,49,50,51,52,53,54,55,56,57,58,59,60,61,62,63,64,65,66,67,68,69,70,71,72,73,74,75,76,77,78,79,80,81,82,83,84,85,86,87,88,89,90,91,92,93,94,95,96,97,98,99,100,101,102,103,104,105,106,107,108,109,110,111,112,113,114,115,116,117,118,119,120,121,122,123,124,125,126,127,128,129,130,131,132,133,134,135,136,137,138,139,140,141,142,143,144,145,146,147,148,149,150,151,152,153,154,155,156,157,158,159,160,161,162,163,164,165,166,167,168,169,170,171,172,173,174,175,176,177,178,179,180,181,182,183,184,185,186,187,188,189,190,191,192,193,194,195,196,197,198,199,200,201,202,203,204,205,206,207,208,209,210,211,212,213,214,215,216,217,218,219,220,221,222,223,224,225,226,227,228,229,230,231,232,233,234,235,236,237,238,239,240,241,242,243,244,245,246,247,248,249,250,251,252,253,254,255,256,257,258,259,260,261,262,263,264,265,266,267,268,269,270,271,272,273,274,275,276,277,278,279,280,281,282,283,284,285,286,287,288,289,290,291,292,293,294,295,296,297,298,299,300,301,302,303,304,305,306,307,308,309,310,311,312,313,314,315,316,317,318,319,320,321,322,323,324,325,326,327,328,329,330,331,332,333,334,335,336,337,338,339,340,341,342,343,344,345,346,347,348,349,350,351,352,353,354,355,356,357,358,359,360,361,362,363,364,365,366,367,368,369,370,371,372,373,374,375,376,377,378,379,380,381,382,383,384,385,386,387,388,389,390,391,392,393,394,395,396,397,398,399,400,401,402,403,404,405,406,407,408,409,410,411,412,413,414,415,416,417,418,419,420,421,422,423,424,425,426,427,428,429,430,431,432,433,434,435,436,437,438,439,440,441,442,443,444,445,446,447,448,449,450,451,452,453,454,455,456,457,458,459,460,461,462,463,464,465,466,467,468,469,470,471,472,473,474,475,476,477,478,479,480,481,482,483,484,485,486,487,488,489,490,491,492,493,494,495,496,497,498,499,500,501,502,503,504,505,506,507,508,509,510,511,512,513,514,515,516,517,518,519,520,521,522,523,524,525,526,527,528,529,530,531,532,533,534,535,536,537,538,539,540,541,542,543,544,545,546,547,548,549,550,551,552,553,554,555,556,557,558,559,560,561,562,563,564,565,566,567,568,569,570,571,572,573,574,575,576,577,578,579,580,581,582,583,584,585,586,587,588,589,590,591,592,593,594,595,596,597,598,599,600,601,602,603,604,605,606,607,608,609,610,611,612,613,614,615,616,617,618,619,620,621,622,623,624,625,626,627,628,629,630,631,632,633,634,635,636,637,638,639,640,641,642,643,644,645,646,647,648,649,650,651,652,653,654,655,656,657,658,659,660,661,662,663,664,665,666,667,668,669,670,671,672,673,674,675,676,677,678,679,680,681,682,683,684,685,686,687,688,689,690,691,692,693,694,695,696,697,698,699,700,701,702,703,704,705,706,707,708,709,710,711,712,713,714,715,716,717,718,719,720,721,722,723,724,725,726,727,728,729,730,731,732,733,734,735,736,737,738,739,740,741,742,743,744,745,746,747,748,749,750,751,752,753,754,755,756,757,758,759,760,761,762,763,764,765],\"value\":[17,159,248,207,250,360,415,77,44,121,155,205,213,257,105,124,229,225,41,195,154,174,135,115,95,124,180,181,191,283,22,13,56,69,82,124,99,70,169,142,94,98,192,150,79,229,227,220,252,186,133,183,181,222,166,160,185,186,88,163,26,2,54,128,181,144,130,14,101,3,47,15,62,88,133,201,160,72,109,59,27,86,58,113,114,159,175,132,194,197,81,207,213,400,313,296,252,0,244,212,181,177,206,17,7,297,255,150,333,326,53,59,369,43,99,341,27,88,88,154,88,62,189,222,354,425,528,404,487,441,375,342,433,49,449,208,305,385,330,120,450,109,109,105,148,207,140,116,91,112,203,111,252,32,296,178,97,275,305,500,310,435,586,473,494,417,537,564,433,338,474,281,6,59,45,13,58,50,29,79,67,78,85,64,91,4,52,79,82,127,22,5,61,58,22,80,141,106,52,71,16,61,180,108,40,15,55,113,83,23,106,24,217,282,214,12,6,2,8,27,29,95,109,20,129,42,99,83,108,104,22,185,524,311,432,9,256,90,346,279,236,515,53,148,128,204,313,210,315,290,417,475,380,422,374,377,6,181,159,246,55,92,212,82,63,30,67,20,98,10,128,151,38,189,107,239,114,34,38,50,53,36,89,56,7,100,158,135,153,153,147,108,94,202,40,169,209,250,120,83,73,182,114,88,56,57,3,2,0,2,76,94,142,42,184,125,193,180,148,25,52,108,100,163,45,57,39,42,57,81,29,41,70,131,112,190,140,0,105,97,102,156,14,32,46,56,32,88,117,68,24,92,57,15,18,15,40,55,160,102,74,44,123,84,360,420,341,403,456,349,247,66,148,100,121,91,117,114,87,218,298,25,40,85,69,19,0,25,44,44,108,156,232,327,285,259,324,417,297,393,659,794,760,620,420,294,237,301,538,839,461,533,367,240,95,104,199,67,103,170,5,109,39,62,149,87,226,280,229,245,118,162,183,56,101,118,37,0,2,28,35,4,1,24,29,69,4,11,15,29,147,164,194,127,118,32,46,78,108,59,28,123,91,202,128,162,250,183,335,31,57,200,110,138,248,244,181,97,278,188,194,30,35,55,67,90,237,112,138,14,152,64,30,94,97,34,131,33,10,65,120,121,157,80,40,120,25,50,5,55,94,8,2,0,0,0,3,26,54,32,4,20,24,1,0,8,9,53,137,176,229,455,446,565,612,907,630,586,512,83,392,475,447,220,667,618,7,25,34,95,51,62,14,76,40,28,22,38,12,50,23,37,55,18,21,39,0,107,71,38,175,328,176,204,55,214,118,116,7,69,76,68,84,117,151,192,239,281,32,300,183,76,268,118,76,194,11,21,42,17,28,74,61,90,96,117,99,57,156,105,93,13,8,21,34,92,100,71,99,31,102,88,86,22,10,4,32,97,44,82,86,42,8,50,3,46,49,45,12,95,114,147,300,9,68,101,152,64,15,48,11,45,56,102,153,85,61,146,93,119,90,38,128,25,16,41,60,74,226,214,70,284,142,243,154,202,226,205,40,245,11,31,97,48,27,75,88,116,93,31,124,0,2,1,87,225,123,78,75,153,89,7,15,42,50,35,85,103,182,202,26,101,127,123,65,57,17,74,6,7,5,69,41,99,97,32,6,38,124,164,113,174,197,139,151,210,172,100,5,55,160,92,54,36,34,7,2,12,21,2,6,24,32,115,72,56,140,168,124,69,37,106,156,124,74,13]},\"selected\":{\"id\":\"22705\"},\"selection_policy\":{\"id\":\"22757\"}},\"id\":\"22704\",\"type\":\"ColumnDataSource\"},{\"attributes\":{\"label\":{\"value\":\"PTS\"},\"renderers\":[{\"id\":\"23020\"}]},\"id\":\"23080\",\"type\":\"LegendItem\"},{\"attributes\":{},\"id\":\"22165\",\"type\":\"Selection\"},{\"attributes\":{\"data\":{\"Variable\":[\"FG3M\",\"FG3M\",\"FG3M\",\"FG3M\",\"FG3M\",\"FG3M\",\"FG3M\",\"FG3M\",\"FG3M\",\"FG3M\",\"FG3M\",\"FG3M\",\"FG3M\",\"FG3M\",\"FG3M\",\"FG3M\",\"FG3M\",\"FG3M\",\"FG3M\",\"FG3M\",\"FG3M\",\"FG3M\",\"FG3M\",\"FG3M\",\"FG3M\",\"FG3M\",\"FG3M\",\"FG3M\",\"FG3M\",\"FG3M\",\"FG3M\",\"FG3M\",\"FG3M\",\"FG3M\",\"FG3M\",\"FG3M\",\"FG3M\",\"FG3M\",\"FG3M\",\"FG3M\",\"FG3M\",\"FG3M\",\"FG3M\",\"FG3M\",\"FG3M\",\"FG3M\",\"FG3M\",\"FG3M\",\"FG3M\",\"FG3M\",\"FG3M\",\"FG3M\",\"FG3M\",\"FG3M\",\"FG3M\",\"FG3M\",\"FG3M\",\"FG3M\",\"FG3M\",\"FG3M\",\"FG3M\",\"FG3M\",\"FG3M\",\"FG3M\",\"FG3M\",\"FG3M\",\"FG3M\",\"FG3M\",\"FG3M\",\"FG3M\",\"FG3M\",\"FG3M\",\"FG3M\",\"FG3M\",\"FG3M\",\"FG3M\",\"FG3M\",\"FG3M\",\"FG3M\",\"FG3M\",\"FG3M\",\"FG3M\",\"FG3M\",\"FG3M\",\"FG3M\",\"FG3M\",\"FG3M\",\"FG3M\",\"FG3M\",\"FG3M\",\"FG3M\",\"FG3M\",\"FG3M\",\"FG3M\",\"FG3M\",\"FG3M\",\"FG3M\",\"FG3M\",\"FG3M\",\"FG3M\",\"FG3M\",\"FG3M\",\"FG3M\",\"FG3M\",\"FG3M\",\"FG3M\",\"FG3M\",\"FG3M\",\"FG3M\",\"FG3M\",\"FG3M\",\"FG3M\",\"FG3M\",\"FG3M\",\"FG3M\",\"FG3M\",\"FG3M\",\"FG3M\",\"FG3M\",\"FG3M\",\"FG3M\",\"FG3M\",\"FG3M\",\"FG3M\",\"FG3M\",\"FG3M\",\"FG3M\",\"FG3M\",\"FG3M\",\"FG3M\",\"FG3M\",\"FG3M\",\"FG3M\",\"FG3M\",\"FG3M\",\"FG3M\",\"FG3M\",\"FG3M\",\"FG3M\",\"FG3M\",\"FG3M\",\"FG3M\",\"FG3M\",\"FG3M\",\"FG3M\",\"FG3M\",\"FG3M\",\"FG3M\",\"FG3M\",\"FG3M\",\"FG3M\",\"FG3M\",\"FG3M\",\"FG3M\",\"FG3M\",\"FG3M\",\"FG3M\",\"FG3M\",\"FG3M\",\"FG3M\",\"FG3M\",\"FG3M\",\"FG3M\",\"FG3M\",\"FG3M\",\"FG3M\",\"FG3M\",\"FG3M\",\"FG3M\",\"FG3M\",\"FG3M\",\"FG3M\",\"FG3M\",\"FG3M\",\"FG3M\",\"FG3M\",\"FG3M\",\"FG3M\",\"FG3M\",\"FG3M\",\"FG3M\",\"FG3M\",\"FG3M\",\"FG3M\",\"FG3M\",\"FG3M\",\"FG3M\",\"FG3M\",\"FG3M\",\"FG3M\",\"FG3M\",\"FG3M\",\"FG3M\",\"FG3M\",\"FG3M\",\"FG3M\",\"FG3M\",\"FG3M\",\"FG3M\",\"FG3M\",\"FG3M\",\"FG3M\",\"FG3M\",\"FG3M\",\"FG3M\",\"FG3M\",\"FG3M\",\"FG3M\",\"FG3M\",\"FG3M\",\"FG3M\",\"FG3M\",\"FG3M\",\"FG3M\",\"FG3M\",\"FG3M\",\"FG3M\",\"FG3M\",\"FG3M\",\"FG3M\",\"FG3M\",\"FG3M\",\"FG3M\",\"FG3M\",\"FG3M\",\"FG3M\",\"FG3M\",\"FG3M\",\"FG3M\",\"FG3M\",\"FG3M\",\"FG3M\",\"FG3M\",\"FG3M\",\"FG3M\",\"FG3M\",\"FG3M\",\"FG3M\",\"FG3M\",\"FG3M\",\"FG3M\",\"FG3M\",\"FG3M\",\"FG3M\",\"FG3M\",\"FG3M\",\"FG3M\",\"FG3M\",\"FG3M\",\"FG3M\",\"FG3M\",\"FG3M\",\"FG3M\",\"FG3M\",\"FG3M\",\"FG3M\",\"FG3M\",\"FG3M\",\"FG3M\",\"FG3M\",\"FG3M\",\"FG3M\",\"FG3M\",\"FG3M\",\"FG3M\",\"FG3M\",\"FG3M\",\"FG3M\",\"FG3M\",\"FG3M\",\"FG3M\",\"FG3M\",\"FG3M\",\"FG3M\",\"FG3M\",\"FG3M\",\"FG3M\",\"FG3M\",\"FG3M\",\"FG3M\",\"FG3M\",\"FG3M\",\"FG3M\",\"FG3M\",\"FG3M\",\"FG3M\",\"FG3M\",\"FG3M\",\"FG3M\",\"FG3M\",\"FG3M\",\"FG3M\",\"FG3M\",\"FG3M\",\"FG3M\",\"FG3M\",\"FG3M\",\"FG3M\",\"FG3M\",\"FG3M\",\"FG3M\",\"FG3M\",\"FG3M\",\"FG3M\",\"FG3M\",\"FG3M\",\"FG3M\",\"FG3M\",\"FG3M\",\"FG3M\",\"FG3M\",\"FG3M\",\"FG3M\",\"FG3M\",\"FG3M\",\"FG3M\",\"FG3M\",\"FG3M\",\"FG3M\",\"FG3M\",\"FG3M\",\"FG3M\",\"FG3M\",\"FG3M\",\"FG3M\",\"FG3M\",\"FG3M\",\"FG3M\",\"FG3M\",\"FG3M\",\"FG3M\",\"FG3M\",\"FG3M\",\"FG3M\",\"FG3M\",\"FG3M\",\"FG3M\",\"FG3M\",\"FG3M\",\"FG3M\",\"FG3M\",\"FG3M\",\"FG3M\",\"FG3M\",\"FG3M\",\"FG3M\",\"FG3M\",\"FG3M\",\"FG3M\",\"FG3M\",\"FG3M\",\"FG3M\",\"FG3M\",\"FG3M\",\"FG3M\",\"FG3M\",\"FG3M\",\"FG3M\",\"FG3M\",\"FG3M\",\"FG3M\",\"FG3M\",\"FG3M\",\"FG3M\",\"FG3M\",\"FG3M\",\"FG3M\",\"FG3M\",\"FG3M\",\"FG3M\",\"FG3M\",\"FG3M\",\"FG3M\",\"FG3M\",\"FG3M\",\"FG3M\",\"FG3M\",\"FG3M\",\"FG3M\",\"FG3M\",\"FG3M\",\"FG3M\",\"FG3M\",\"FG3M\",\"FG3M\",\"FG3M\",\"FG3M\",\"FG3M\",\"FG3M\",\"FG3M\",\"FG3M\",\"FG3M\",\"FG3M\",\"FG3M\",\"FG3M\",\"FG3M\",\"FG3M\",\"FG3M\",\"FG3M\",\"FG3M\",\"FG3M\",\"FG3M\",\"FG3M\",\"FG3M\",\"FG3M\",\"FG3M\",\"FG3M\",\"FG3M\",\"FG3M\",\"FG3M\",\"FG3M\",\"FG3M\",\"FG3M\",\"FG3M\",\"FG3M\",\"FG3M\",\"FG3M\",\"FG3M\",\"FG3M\",\"FG3M\",\"FG3M\",\"FG3M\",\"FG3M\",\"FG3M\",\"FG3M\",\"FG3M\",\"FG3M\",\"FG3M\",\"FG3M\",\"FG3M\",\"FG3M\",\"FG3M\",\"FG3M\",\"FG3M\",\"FG3M\",\"FG3M\",\"FG3M\",\"FG3M\",\"FG3M\",\"FG3M\",\"FG3M\",\"FG3M\",\"FG3M\",\"FG3M\",\"FG3M\",\"FG3M\",\"FG3M\",\"FG3M\",\"FG3M\",\"FG3M\",\"FG3M\",\"FG3M\",\"FG3M\",\"FG3M\",\"FG3M\",\"FG3M\",\"FG3M\",\"FG3M\",\"FG3M\",\"FG3M\",\"FG3M\",\"FG3M\",\"FG3M\",\"FG3M\",\"FG3M\",\"FG3M\",\"FG3M\",\"FG3M\",\"FG3M\",\"FG3M\",\"FG3M\",\"FG3M\",\"FG3M\",\"FG3M\",\"FG3M\",\"FG3M\",\"FG3M\",\"FG3M\",\"FG3M\",\"FG3M\",\"FG3M\",\"FG3M\",\"FG3M\",\"FG3M\",\"FG3M\",\"FG3M\",\"FG3M\",\"FG3M\",\"FG3M\",\"FG3M\",\"FG3M\",\"FG3M\",\"FG3M\",\"FG3M\",\"FG3M\",\"FG3M\",\"FG3M\",\"FG3M\",\"FG3M\",\"FG3M\",\"FG3M\",\"FG3M\",\"FG3M\",\"FG3M\",\"FG3M\",\"FG3M\",\"FG3M\",\"FG3M\",\"FG3M\",\"FG3M\",\"FG3M\",\"FG3M\",\"FG3M\",\"FG3M\",\"FG3M\",\"FG3M\",\"FG3M\",\"FG3M\",\"FG3M\",\"FG3M\",\"FG3M\",\"FG3M\",\"FG3M\",\"FG3M\",\"FG3M\",\"FG3M\",\"FG3M\",\"FG3M\",\"FG3M\",\"FG3M\",\"FG3M\",\"FG3M\",\"FG3M\",\"FG3M\",\"FG3M\",\"FG3M\",\"FG3M\",\"FG3M\",\"FG3M\",\"FG3M\",\"FG3M\",\"FG3M\",\"FG3M\",\"FG3M\",\"FG3M\",\"FG3M\",\"FG3M\",\"FG3M\",\"FG3M\",\"FG3M\",\"FG3M\",\"FG3M\",\"FG3M\",\"FG3M\",\"FG3M\",\"FG3M\",\"FG3M\",\"FG3M\",\"FG3M\",\"FG3M\",\"FG3M\",\"FG3M\",\"FG3M\",\"FG3M\",\"FG3M\",\"FG3M\",\"FG3M\",\"FG3M\",\"FG3M\",\"FG3M\",\"FG3M\",\"FG3M\",\"FG3M\",\"FG3M\",\"FG3M\",\"FG3M\",\"FG3M\",\"FG3M\",\"FG3M\",\"FG3M\",\"FG3M\",\"FG3M\",\"FG3M\",\"FG3M\",\"FG3M\",\"FG3M\",\"FG3M\",\"FG3M\",\"FG3M\",\"FG3M\",\"FG3M\",\"FG3M\",\"FG3M\",\"FG3M\",\"FG3M\",\"FG3M\",\"FG3M\",\"FG3M\",\"FG3M\",\"FG3M\",\"FG3M\",\"FG3M\",\"FG3M\",\"FG3M\",\"FG3M\",\"FG3M\",\"FG3M\",\"FG3M\",\"FG3M\",\"FG3M\",\"FG3M\",\"FG3M\",\"FG3M\",\"FG3M\",\"FG3M\",\"FG3M\",\"FG3M\",\"FG3M\",\"FG3M\",\"FG3M\",\"FG3M\",\"FG3M\",\"FG3M\",\"FG3M\",\"FG3M\",\"FG3M\",\"FG3M\",\"FG3M\",\"FG3M\",\"FG3M\",\"FG3M\",\"FG3M\",\"FG3M\",\"FG3M\",\"FG3M\",\"FG3M\",\"FG3M\",\"FG3M\",\"FG3M\",\"FG3M\",\"FG3M\",\"FG3M\",\"FG3M\",\"FG3M\",\"FG3M\",\"FG3M\",\"FG3M\",\"FG3M\",\"FG3M\",\"FG3M\",\"FG3M\",\"FG3M\",\"FG3M\",\"FG3M\",\"FG3M\",\"FG3M\",\"FG3M\",\"FG3M\",\"FG3M\",\"FG3M\",\"FG3M\",\"FG3M\",\"FG3M\",\"FG3M\",\"FG3M\",\"FG3M\",\"FG3M\",\"FG3M\",\"FG3M\",\"FG3M\",\"FG3M\",\"FG3M\",\"FG3M\",\"FG3M\",\"FG3M\",\"FG3M\",\"FG3M\",\"FG3M\",\"FG3M\",\"FG3M\",\"FG3M\",\"FG3M\",\"FG3M\",\"FG3M\",\"FG3M\",\"FG3M\",\"FG3M\",\"FG3M\",\"FG3M\",\"FG3M\",\"FG3M\",\"FG3M\",\"FG3M\",\"FG3M\",\"FG3M\",\"FG3M\",\"FG3M\",\"FG3M\",\"FG3M\",\"FG3M\",\"FG3M\",\"FG3M\",\"FG3M\",\"FG3M\",\"FG3M\",\"FG3M\",\"FG3M\",\"FG3M\",\"FG3M\",\"FG3M\",\"FG3M\",\"FG3M\",\"FG3M\",\"FG3M\",\"FG3M\",\"FG3M\",\"FG3M\",\"FG3M\",\"FG3M\",\"FG3M\",\"FG3M\",\"FG3M\",\"FG3M\",\"FG3M\",\"FG3M\",\"FG3M\",\"FG3M\",\"FG3M\",\"FG3M\",\"FG3M\",\"FG3M\",\"FG3M\",\"FG3M\",\"FG3M\",\"FG3M\",\"FG3M\",\"FG3M\",\"FG3M\",\"FG3M\",\"FG3M\",\"FG3M\",\"FG3M\",\"FG3M\",\"FG3M\",\"FG3M\",\"FG3M\",\"FG3M\",\"FG3M\",\"FG3M\",\"FG3M\",\"FG3M\",\"FG3M\",\"FG3M\",\"FG3M\",\"FG3M\",\"FG3M\",\"FG3M\",\"FG3M\",\"FG3M\",\"FG3M\",\"FG3M\",\"FG3M\",\"FG3M\",\"FG3M\",\"FG3M\",\"FG3M\"],\"index\":[0,1,2,3,4,5,6,7,8,9,10,11,12,13,14,15,16,17,18,19,20,21,22,23,24,25,26,27,28,29,30,31,32,33,34,35,36,37,38,39,40,41,42,43,44,45,46,47,48,49,50,51,52,53,54,55,56,57,58,59,60,61,62,63,64,65,66,67,68,69,70,71,72,73,74,75,76,77,78,79,80,81,82,83,84,85,86,87,88,89,90,91,92,93,94,95,96,97,98,99,100,101,102,103,104,105,106,107,108,109,110,111,112,113,114,115,116,117,118,119,120,121,122,123,124,125,126,127,128,129,130,131,132,133,134,135,136,137,138,139,140,141,142,143,144,145,146,147,148,149,150,151,152,153,154,155,156,157,158,159,160,161,162,163,164,165,166,167,168,169,170,171,172,173,174,175,176,177,178,179,180,181,182,183,184,185,186,187,188,189,190,191,192,193,194,195,196,197,198,199,200,201,202,203,204,205,206,207,208,209,210,211,212,213,214,215,216,217,218,219,220,221,222,223,224,225,226,227,228,229,230,231,232,233,234,235,236,237,238,239,240,241,242,243,244,245,246,247,248,249,250,251,252,253,254,255,256,257,258,259,260,261,262,263,264,265,266,267,268,269,270,271,272,273,274,275,276,277,278,279,280,281,282,283,284,285,286,287,288,289,290,291,292,293,294,295,296,297,298,299,300,301,302,303,304,305,306,307,308,309,310,311,312,313,314,315,316,317,318,319,320,321,322,323,324,325,326,327,328,329,330,331,332,333,334,335,336,337,338,339,340,341,342,343,344,345,346,347,348,349,350,351,352,353,354,355,356,357,358,359,360,361,362,363,364,365,366,367,368,369,370,371,372,373,374,375,376,377,378,379,380,381,382,383,384,385,386,387,388,389,390,391,392,393,394,395,396,397,398,399,400,401,402,403,404,405,406,407,408,409,410,411,412,413,414,415,416,417,418,419,420,421,422,423,424,425,426,427,428,429,430,431,432,433,434,435,436,437,438,439,440,441,442,443,444,445,446,447,448,449,450,451,452,453,454,455,456,457,458,459,460,461,462,463,464,465,466,467,468,469,470,471,472,473,474,475,476,477,478,479,480,481,482,483,484,485,486,487,488,489,490,491,492,493,494,495,496,497,498,499,500,501,502,503,504,505,506,507,508,509,510,511,512,513,514,515,516,517,518,519,520,521,522,523,524,525,526,527,528,529,530,531,532,533,534,535,536,537,538,539,540,541,542,543,544,545,546,547,548,549,550,551,552,553,554,555,556,557,558,559,560,561,562,563,564,565,566,567,568,569,570,571,572,573,574,575,576,577,578,579,580,581,582,583,584,585,586,587,588,589,590,591,592,593,594,595,596,597,598,599,600,601,602,603,604,605,606,607,608,609,610,611,612,613,614,615,616,617,618,619,620,621,622,623,624,625,626,627,628,629,630,631,632,633,634,635,636,637,638,639,640,641,642,643,644,645,646,647,648,649,650,651,652,653,654,655,656,657,658,659,660,661,662,663,664,665,666,667,668,669,670,671,672,673,674,675,676,677,678,679,680,681,682,683,684,685,686,687,688,689,690,691,692,693,694,695,696,697,698,699,700,701,702,703,704,705,706,707,708,709,710,711,712,713,714,715,716,717,718,719,720,721,722,723,724,725,726,727,728,729,730,731,732,733,734,735,736,737,738,739,740,741,742,743,744,745,746,747,748,749,750,751,752,753,754,755,756,757,758,759,760,761,762,763,764,765],\"value\":[1,29,79,131,73,75,93,89,59,148,176,278,271,282,182,80,262,288,32,130,123,99,128,116,42,68,92,107,119,163,6,7,27,34,32,87,47,33,80,109,113,70,183,112,44,156,131,82,101,126,111,211,223,239,276,268,229,241,114,301,31,1,85,150,183,172,211,41,142,2,74,12,86,99,112,108,118,86,146,116,26,142,140,101,112,29,40,87,139,157,35,55,102,85,120,143,149,0,77,85,85,86,52,17,0,94,65,51,124,78,0,4,36,4,4,27,30,113,130,135,29,21,66,30,88,82,80,60,106,105,107,78,171,24,155,96,138,169,77,58,135,40,61,85,68,106,113,95,77,49,126,40,93,3,36,17,8,25,37,129,79,101,190,132,212,193,238,157,164,131,144,107,13,110,56,21,77,53,39,92,84,128,111,108,123,5,47,143,101,77,18,5,112,121,44,165,209,166,35,40,7,14,55,36,16,11,27,35,16,9,25,15,73,71,68,22,15,0,15,22,28,125,114,34,148,37,163,141,151,12,1,38,141,124,123,2,70,42,112,138,43,181,4,5,24,34,64,25,47,33,89,7,9,19,50,46,4,37,49,58,15,33,50,26,32,25,47,16,45,0,61,84,32,116,102,157,99,0,0,0,4,9,13,0,1,52,134,85,66,57,54,40,44,84,22,43,65,79,74,42,37,74,74,106,70,33,0,0,0,0,1,2,19,10,29,29,33,27,24,32,57,107,159,146,0,0,0,0,1,30,9,5,14,32,21,57,38,4,167,170,137,203,30,55,85,108,53,161,135,79,49,128,54,2,0,0,2,2,14,8,62,54,118,107,165,145,100,139,135,92,116,14,110,108,124,83,109,58,85,173,143,15,74,129,54,10,0,34,44,37,16,26,45,40,47,45,80,121,6,5,15,17,10,10,12,26,8,19,27,62,50,50,51,41,17,19,36,8,23,31,2,47,24,52,135,62,123,147,154,159,154,161,227,49,49,118,26,0,0,0,2,0,0,1,1,10,0,10,10,21,105,107,156,82,70,24,24,48,116,94,3,12,15,19,9,24,94,36,43,5,10,56,30,20,50,47,31,33,64,44,41,1,0,0,2,2,0,5,1,4,5,0,0,0,0,0,0,0,4,35,98,148,138,65,39,104,24,38,1,39,80,6,1,0,0,0,0,28,70,31,6,9,15,0,0,0,0,3,93,113,114,179,177,208,236,262,265,378,299,25,96,121,102,46,148,161,0,9,12,46,62,68,21,89,54,68,70,56,25,81,8,20,23,4,2,6,0,32,44,18,133,163,136,128,33,176,123,146,13,49,62,86,74,36,92,115,124,110,24,112,80,56,83,55,25,80,0,0,0,0,0,0,1,0,0,0,0,0,0,0,0,0,0,0,1,0,1,1,0,2,6,18,4,0,0,0,1,1,3,1,74,14,2,16,3,5,8,6,0,65,99,116,154,5,41,100,111,91,4,35,10,26,36,97,161,97,65,162,134,173,127,50,177,30,16,46,0,0,0,0,0,0,0,2,0,0,0,0,0,0,9,28,163,58,49,107,128,240,169,66,235,0,0,0,43,87,67,23,16,39,36,0,1,2,1,4,5,7,106,157,21,97,118,84,47,27,18,45,4,9,1,30,49,83,80,18,2,20,63,154,129,169,201,173,189,174,153,100,2,48,150,108,66,53,39,3,0,10,13,0,3,7,10,26,6,33,89,82,89,74,16,90,127,67,59,11]},\"selected\":{\"id\":\"22273\"},\"selection_policy\":{\"id\":\"22307\"}},\"id\":\"22272\",\"type\":\"ColumnDataSource\"},{\"attributes\":{},\"id\":\"22589\",\"type\":\"UnionRenderers\"},{\"attributes\":{\"source\":{\"id\":\"22272\"}},\"id\":\"22279\",\"type\":\"CDSView\"},{\"attributes\":{\"line_color\":\"#30a2da\",\"line_width\":2,\"tags\":[\"apply_ranges\"],\"x\":{\"field\":\"index\"},\"y\":{\"field\":\"value\"}},\"id\":\"23081\",\"type\":\"Line\"},{\"attributes\":{\"line_alpha\":0.2,\"line_color\":\"#fc4f30\",\"line_width\":2,\"tags\":[\"apply_ranges\"],\"x\":{\"field\":\"index\"},\"y\":{\"field\":\"value\"}},\"id\":\"22403\",\"type\":\"Line\"},{\"attributes\":{\"label\":{\"value\":\"OREB\"},\"renderers\":[{\"id\":\"22548\"}]},\"id\":\"22592\",\"type\":\"LegendItem\"},{\"attributes\":{\"coordinates\":null,\"data_source\":{\"id\":\"22594\"},\"glyph\":{\"id\":\"22597\"},\"group\":null,\"hover_glyph\":null,\"muted_glyph\":{\"id\":\"22599\"},\"nonselection_glyph\":{\"id\":\"22598\"},\"selection_glyph\":{\"id\":\"22647\"},\"view\":{\"id\":\"22601\"}},\"id\":\"22600\",\"type\":\"GlyphRenderer\"},{\"attributes\":{\"line_alpha\":0.2,\"line_color\":\"#30a2da\",\"line_width\":2,\"tags\":[\"apply_ranges\"],\"x\":{\"field\":\"index\"},\"y\":{\"field\":\"value\"}},\"id\":\"22359\",\"type\":\"Line\"},{\"attributes\":{\"line_color\":\"#6d904f\",\"line_width\":2,\"tags\":[\"apply_ranges\"],\"x\":{\"field\":\"index\"},\"y\":{\"field\":\"value\"}},\"id\":\"22051\",\"type\":\"Line\"},{\"attributes\":{},\"id\":\"21977\",\"type\":\"AllLabels\"},{\"attributes\":{},\"id\":\"22705\",\"type\":\"Selection\"},{\"attributes\":{\"line_color\":\"#8c564b\",\"line_width\":2,\"tags\":[\"apply_ranges\"],\"x\":{\"field\":\"index\"},\"y\":{\"field\":\"value\"}},\"id\":\"22887\",\"type\":\"Line\"},{\"attributes\":{},\"id\":\"23083\",\"type\":\"Selection\"},{\"attributes\":{\"data\":{\"Variable\":[\"TEAM_ID\",\"TEAM_ID\",\"TEAM_ID\",\"TEAM_ID\",\"TEAM_ID\",\"TEAM_ID\",\"TEAM_ID\",\"TEAM_ID\",\"TEAM_ID\",\"TEAM_ID\",\"TEAM_ID\",\"TEAM_ID\",\"TEAM_ID\",\"TEAM_ID\",\"TEAM_ID\",\"TEAM_ID\",\"TEAM_ID\",\"TEAM_ID\",\"TEAM_ID\",\"TEAM_ID\",\"TEAM_ID\",\"TEAM_ID\",\"TEAM_ID\",\"TEAM_ID\",\"TEAM_ID\",\"TEAM_ID\",\"TEAM_ID\",\"TEAM_ID\",\"TEAM_ID\",\"TEAM_ID\",\"TEAM_ID\",\"TEAM_ID\",\"TEAM_ID\",\"TEAM_ID\",\"TEAM_ID\",\"TEAM_ID\",\"TEAM_ID\",\"TEAM_ID\",\"TEAM_ID\",\"TEAM_ID\",\"TEAM_ID\",\"TEAM_ID\",\"TEAM_ID\",\"TEAM_ID\",\"TEAM_ID\",\"TEAM_ID\",\"TEAM_ID\",\"TEAM_ID\",\"TEAM_ID\",\"TEAM_ID\",\"TEAM_ID\",\"TEAM_ID\",\"TEAM_ID\",\"TEAM_ID\",\"TEAM_ID\",\"TEAM_ID\",\"TEAM_ID\",\"TEAM_ID\",\"TEAM_ID\",\"TEAM_ID\",\"TEAM_ID\",\"TEAM_ID\",\"TEAM_ID\",\"TEAM_ID\",\"TEAM_ID\",\"TEAM_ID\",\"TEAM_ID\",\"TEAM_ID\",\"TEAM_ID\",\"TEAM_ID\",\"TEAM_ID\",\"TEAM_ID\",\"TEAM_ID\",\"TEAM_ID\",\"TEAM_ID\",\"TEAM_ID\",\"TEAM_ID\",\"TEAM_ID\",\"TEAM_ID\",\"TEAM_ID\",\"TEAM_ID\",\"TEAM_ID\",\"TEAM_ID\",\"TEAM_ID\",\"TEAM_ID\",\"TEAM_ID\",\"TEAM_ID\",\"TEAM_ID\",\"TEAM_ID\",\"TEAM_ID\",\"TEAM_ID\",\"TEAM_ID\",\"TEAM_ID\",\"TEAM_ID\",\"TEAM_ID\",\"TEAM_ID\",\"TEAM_ID\",\"TEAM_ID\",\"TEAM_ID\",\"TEAM_ID\",\"TEAM_ID\",\"TEAM_ID\",\"TEAM_ID\",\"TEAM_ID\",\"TEAM_ID\",\"TEAM_ID\",\"TEAM_ID\",\"TEAM_ID\",\"TEAM_ID\",\"TEAM_ID\",\"TEAM_ID\",\"TEAM_ID\",\"TEAM_ID\",\"TEAM_ID\",\"TEAM_ID\",\"TEAM_ID\",\"TEAM_ID\",\"TEAM_ID\",\"TEAM_ID\",\"TEAM_ID\",\"TEAM_ID\",\"TEAM_ID\",\"TEAM_ID\",\"TEAM_ID\",\"TEAM_ID\",\"TEAM_ID\",\"TEAM_ID\",\"TEAM_ID\",\"TEAM_ID\",\"TEAM_ID\",\"TEAM_ID\",\"TEAM_ID\",\"TEAM_ID\",\"TEAM_ID\",\"TEAM_ID\",\"TEAM_ID\",\"TEAM_ID\",\"TEAM_ID\",\"TEAM_ID\",\"TEAM_ID\",\"TEAM_ID\",\"TEAM_ID\",\"TEAM_ID\",\"TEAM_ID\",\"TEAM_ID\",\"TEAM_ID\",\"TEAM_ID\",\"TEAM_ID\",\"TEAM_ID\",\"TEAM_ID\",\"TEAM_ID\",\"TEAM_ID\",\"TEAM_ID\",\"TEAM_ID\",\"TEAM_ID\",\"TEAM_ID\",\"TEAM_ID\",\"TEAM_ID\",\"TEAM_ID\",\"TEAM_ID\",\"TEAM_ID\",\"TEAM_ID\",\"TEAM_ID\",\"TEAM_ID\",\"TEAM_ID\",\"TEAM_ID\",\"TEAM_ID\",\"TEAM_ID\",\"TEAM_ID\",\"TEAM_ID\",\"TEAM_ID\",\"TEAM_ID\",\"TEAM_ID\",\"TEAM_ID\",\"TEAM_ID\",\"TEAM_ID\",\"TEAM_ID\",\"TEAM_ID\",\"TEAM_ID\",\"TEAM_ID\",\"TEAM_ID\",\"TEAM_ID\",\"TEAM_ID\",\"TEAM_ID\",\"TEAM_ID\",\"TEAM_ID\",\"TEAM_ID\",\"TEAM_ID\",\"TEAM_ID\",\"TEAM_ID\",\"TEAM_ID\",\"TEAM_ID\",\"TEAM_ID\",\"TEAM_ID\",\"TEAM_ID\",\"TEAM_ID\",\"TEAM_ID\",\"TEAM_ID\",\"TEAM_ID\",\"TEAM_ID\",\"TEAM_ID\",\"TEAM_ID\",\"TEAM_ID\",\"TEAM_ID\",\"TEAM_ID\",\"TEAM_ID\",\"TEAM_ID\",\"TEAM_ID\",\"TEAM_ID\",\"TEAM_ID\",\"TEAM_ID\",\"TEAM_ID\",\"TEAM_ID\",\"TEAM_ID\",\"TEAM_ID\",\"TEAM_ID\",\"TEAM_ID\",\"TEAM_ID\",\"TEAM_ID\",\"TEAM_ID\",\"TEAM_ID\",\"TEAM_ID\",\"TEAM_ID\",\"TEAM_ID\",\"TEAM_ID\",\"TEAM_ID\",\"TEAM_ID\",\"TEAM_ID\",\"TEAM_ID\",\"TEAM_ID\",\"TEAM_ID\",\"TEAM_ID\",\"TEAM_ID\",\"TEAM_ID\",\"TEAM_ID\",\"TEAM_ID\",\"TEAM_ID\",\"TEAM_ID\",\"TEAM_ID\",\"TEAM_ID\",\"TEAM_ID\",\"TEAM_ID\",\"TEAM_ID\",\"TEAM_ID\",\"TEAM_ID\",\"TEAM_ID\",\"TEAM_ID\",\"TEAM_ID\",\"TEAM_ID\",\"TEAM_ID\",\"TEAM_ID\",\"TEAM_ID\",\"TEAM_ID\",\"TEAM_ID\",\"TEAM_ID\",\"TEAM_ID\",\"TEAM_ID\",\"TEAM_ID\",\"TEAM_ID\",\"TEAM_ID\",\"TEAM_ID\",\"TEAM_ID\",\"TEAM_ID\",\"TEAM_ID\",\"TEAM_ID\",\"TEAM_ID\",\"TEAM_ID\",\"TEAM_ID\",\"TEAM_ID\",\"TEAM_ID\",\"TEAM_ID\",\"TEAM_ID\",\"TEAM_ID\",\"TEAM_ID\",\"TEAM_ID\",\"TEAM_ID\",\"TEAM_ID\",\"TEAM_ID\",\"TEAM_ID\",\"TEAM_ID\",\"TEAM_ID\",\"TEAM_ID\",\"TEAM_ID\",\"TEAM_ID\",\"TEAM_ID\",\"TEAM_ID\",\"TEAM_ID\",\"TEAM_ID\",\"TEAM_ID\",\"TEAM_ID\",\"TEAM_ID\",\"TEAM_ID\",\"TEAM_ID\",\"TEAM_ID\",\"TEAM_ID\",\"TEAM_ID\",\"TEAM_ID\",\"TEAM_ID\",\"TEAM_ID\",\"TEAM_ID\",\"TEAM_ID\",\"TEAM_ID\",\"TEAM_ID\",\"TEAM_ID\",\"TEAM_ID\",\"TEAM_ID\",\"TEAM_ID\",\"TEAM_ID\",\"TEAM_ID\",\"TEAM_ID\",\"TEAM_ID\",\"TEAM_ID\",\"TEAM_ID\",\"TEAM_ID\",\"TEAM_ID\",\"TEAM_ID\",\"TEAM_ID\",\"TEAM_ID\",\"TEAM_ID\",\"TEAM_ID\",\"TEAM_ID\",\"TEAM_ID\",\"TEAM_ID\",\"TEAM_ID\",\"TEAM_ID\",\"TEAM_ID\",\"TEAM_ID\",\"TEAM_ID\",\"TEAM_ID\",\"TEAM_ID\",\"TEAM_ID\",\"TEAM_ID\",\"TEAM_ID\",\"TEAM_ID\",\"TEAM_ID\",\"TEAM_ID\",\"TEAM_ID\",\"TEAM_ID\",\"TEAM_ID\",\"TEAM_ID\",\"TEAM_ID\",\"TEAM_ID\",\"TEAM_ID\",\"TEAM_ID\",\"TEAM_ID\",\"TEAM_ID\",\"TEAM_ID\",\"TEAM_ID\",\"TEAM_ID\",\"TEAM_ID\",\"TEAM_ID\",\"TEAM_ID\",\"TEAM_ID\",\"TEAM_ID\",\"TEAM_ID\",\"TEAM_ID\",\"TEAM_ID\",\"TEAM_ID\",\"TEAM_ID\",\"TEAM_ID\",\"TEAM_ID\",\"TEAM_ID\",\"TEAM_ID\",\"TEAM_ID\",\"TEAM_ID\",\"TEAM_ID\",\"TEAM_ID\",\"TEAM_ID\",\"TEAM_ID\",\"TEAM_ID\",\"TEAM_ID\",\"TEAM_ID\",\"TEAM_ID\",\"TEAM_ID\",\"TEAM_ID\",\"TEAM_ID\",\"TEAM_ID\",\"TEAM_ID\",\"TEAM_ID\",\"TEAM_ID\",\"TEAM_ID\",\"TEAM_ID\",\"TEAM_ID\",\"TEAM_ID\",\"TEAM_ID\",\"TEAM_ID\",\"TEAM_ID\",\"TEAM_ID\",\"TEAM_ID\",\"TEAM_ID\",\"TEAM_ID\",\"TEAM_ID\",\"TEAM_ID\",\"TEAM_ID\",\"TEAM_ID\",\"TEAM_ID\",\"TEAM_ID\",\"TEAM_ID\",\"TEAM_ID\",\"TEAM_ID\",\"TEAM_ID\",\"TEAM_ID\",\"TEAM_ID\",\"TEAM_ID\",\"TEAM_ID\",\"TEAM_ID\",\"TEAM_ID\",\"TEAM_ID\",\"TEAM_ID\",\"TEAM_ID\",\"TEAM_ID\",\"TEAM_ID\",\"TEAM_ID\",\"TEAM_ID\",\"TEAM_ID\",\"TEAM_ID\",\"TEAM_ID\",\"TEAM_ID\",\"TEAM_ID\",\"TEAM_ID\",\"TEAM_ID\",\"TEAM_ID\",\"TEAM_ID\",\"TEAM_ID\",\"TEAM_ID\",\"TEAM_ID\",\"TEAM_ID\",\"TEAM_ID\",\"TEAM_ID\",\"TEAM_ID\",\"TEAM_ID\",\"TEAM_ID\",\"TEAM_ID\",\"TEAM_ID\",\"TEAM_ID\",\"TEAM_ID\",\"TEAM_ID\",\"TEAM_ID\",\"TEAM_ID\",\"TEAM_ID\",\"TEAM_ID\",\"TEAM_ID\",\"TEAM_ID\",\"TEAM_ID\",\"TEAM_ID\",\"TEAM_ID\",\"TEAM_ID\",\"TEAM_ID\",\"TEAM_ID\",\"TEAM_ID\",\"TEAM_ID\",\"TEAM_ID\",\"TEAM_ID\",\"TEAM_ID\",\"TEAM_ID\",\"TEAM_ID\",\"TEAM_ID\",\"TEAM_ID\",\"TEAM_ID\",\"TEAM_ID\",\"TEAM_ID\",\"TEAM_ID\",\"TEAM_ID\",\"TEAM_ID\",\"TEAM_ID\",\"TEAM_ID\",\"TEAM_ID\",\"TEAM_ID\",\"TEAM_ID\",\"TEAM_ID\",\"TEAM_ID\",\"TEAM_ID\",\"TEAM_ID\",\"TEAM_ID\",\"TEAM_ID\",\"TEAM_ID\",\"TEAM_ID\",\"TEAM_ID\",\"TEAM_ID\",\"TEAM_ID\",\"TEAM_ID\",\"TEAM_ID\",\"TEAM_ID\",\"TEAM_ID\",\"TEAM_ID\",\"TEAM_ID\",\"TEAM_ID\",\"TEAM_ID\",\"TEAM_ID\",\"TEAM_ID\",\"TEAM_ID\",\"TEAM_ID\",\"TEAM_ID\",\"TEAM_ID\",\"TEAM_ID\",\"TEAM_ID\",\"TEAM_ID\",\"TEAM_ID\",\"TEAM_ID\",\"TEAM_ID\",\"TEAM_ID\",\"TEAM_ID\",\"TEAM_ID\",\"TEAM_ID\",\"TEAM_ID\",\"TEAM_ID\",\"TEAM_ID\",\"TEAM_ID\",\"TEAM_ID\",\"TEAM_ID\",\"TEAM_ID\",\"TEAM_ID\",\"TEAM_ID\",\"TEAM_ID\",\"TEAM_ID\",\"TEAM_ID\",\"TEAM_ID\",\"TEAM_ID\",\"TEAM_ID\",\"TEAM_ID\",\"TEAM_ID\",\"TEAM_ID\",\"TEAM_ID\",\"TEAM_ID\",\"TEAM_ID\",\"TEAM_ID\",\"TEAM_ID\",\"TEAM_ID\",\"TEAM_ID\",\"TEAM_ID\",\"TEAM_ID\",\"TEAM_ID\",\"TEAM_ID\",\"TEAM_ID\",\"TEAM_ID\",\"TEAM_ID\",\"TEAM_ID\",\"TEAM_ID\",\"TEAM_ID\",\"TEAM_ID\",\"TEAM_ID\",\"TEAM_ID\",\"TEAM_ID\",\"TEAM_ID\",\"TEAM_ID\",\"TEAM_ID\",\"TEAM_ID\",\"TEAM_ID\",\"TEAM_ID\",\"TEAM_ID\",\"TEAM_ID\",\"TEAM_ID\",\"TEAM_ID\",\"TEAM_ID\",\"TEAM_ID\",\"TEAM_ID\",\"TEAM_ID\",\"TEAM_ID\",\"TEAM_ID\",\"TEAM_ID\",\"TEAM_ID\",\"TEAM_ID\",\"TEAM_ID\",\"TEAM_ID\",\"TEAM_ID\",\"TEAM_ID\",\"TEAM_ID\",\"TEAM_ID\",\"TEAM_ID\",\"TEAM_ID\",\"TEAM_ID\",\"TEAM_ID\",\"TEAM_ID\",\"TEAM_ID\",\"TEAM_ID\",\"TEAM_ID\",\"TEAM_ID\",\"TEAM_ID\",\"TEAM_ID\",\"TEAM_ID\",\"TEAM_ID\",\"TEAM_ID\",\"TEAM_ID\",\"TEAM_ID\",\"TEAM_ID\",\"TEAM_ID\",\"TEAM_ID\",\"TEAM_ID\",\"TEAM_ID\",\"TEAM_ID\",\"TEAM_ID\",\"TEAM_ID\",\"TEAM_ID\",\"TEAM_ID\",\"TEAM_ID\",\"TEAM_ID\",\"TEAM_ID\",\"TEAM_ID\",\"TEAM_ID\",\"TEAM_ID\",\"TEAM_ID\",\"TEAM_ID\",\"TEAM_ID\",\"TEAM_ID\",\"TEAM_ID\",\"TEAM_ID\",\"TEAM_ID\",\"TEAM_ID\",\"TEAM_ID\",\"TEAM_ID\",\"TEAM_ID\",\"TEAM_ID\",\"TEAM_ID\",\"TEAM_ID\",\"TEAM_ID\",\"TEAM_ID\",\"TEAM_ID\",\"TEAM_ID\",\"TEAM_ID\",\"TEAM_ID\",\"TEAM_ID\",\"TEAM_ID\",\"TEAM_ID\",\"TEAM_ID\",\"TEAM_ID\",\"TEAM_ID\",\"TEAM_ID\",\"TEAM_ID\",\"TEAM_ID\",\"TEAM_ID\",\"TEAM_ID\",\"TEAM_ID\",\"TEAM_ID\",\"TEAM_ID\",\"TEAM_ID\",\"TEAM_ID\",\"TEAM_ID\",\"TEAM_ID\",\"TEAM_ID\",\"TEAM_ID\",\"TEAM_ID\",\"TEAM_ID\",\"TEAM_ID\",\"TEAM_ID\",\"TEAM_ID\",\"TEAM_ID\",\"TEAM_ID\",\"TEAM_ID\",\"TEAM_ID\",\"TEAM_ID\",\"TEAM_ID\",\"TEAM_ID\",\"TEAM_ID\",\"TEAM_ID\",\"TEAM_ID\",\"TEAM_ID\",\"TEAM_ID\",\"TEAM_ID\",\"TEAM_ID\",\"TEAM_ID\",\"TEAM_ID\",\"TEAM_ID\",\"TEAM_ID\",\"TEAM_ID\",\"TEAM_ID\",\"TEAM_ID\",\"TEAM_ID\",\"TEAM_ID\",\"TEAM_ID\",\"TEAM_ID\",\"TEAM_ID\",\"TEAM_ID\",\"TEAM_ID\",\"TEAM_ID\",\"TEAM_ID\",\"TEAM_ID\",\"TEAM_ID\",\"TEAM_ID\",\"TEAM_ID\",\"TEAM_ID\",\"TEAM_ID\",\"TEAM_ID\",\"TEAM_ID\",\"TEAM_ID\",\"TEAM_ID\",\"TEAM_ID\",\"TEAM_ID\",\"TEAM_ID\",\"TEAM_ID\",\"TEAM_ID\",\"TEAM_ID\",\"TEAM_ID\",\"TEAM_ID\",\"TEAM_ID\",\"TEAM_ID\",\"TEAM_ID\",\"TEAM_ID\",\"TEAM_ID\",\"TEAM_ID\",\"TEAM_ID\",\"TEAM_ID\",\"TEAM_ID\",\"TEAM_ID\",\"TEAM_ID\",\"TEAM_ID\",\"TEAM_ID\",\"TEAM_ID\",\"TEAM_ID\",\"TEAM_ID\",\"TEAM_ID\",\"TEAM_ID\",\"TEAM_ID\",\"TEAM_ID\",\"TEAM_ID\",\"TEAM_ID\",\"TEAM_ID\",\"TEAM_ID\",\"TEAM_ID\",\"TEAM_ID\",\"TEAM_ID\",\"TEAM_ID\",\"TEAM_ID\",\"TEAM_ID\",\"TEAM_ID\",\"TEAM_ID\",\"TEAM_ID\",\"TEAM_ID\",\"TEAM_ID\",\"TEAM_ID\",\"TEAM_ID\",\"TEAM_ID\",\"TEAM_ID\",\"TEAM_ID\",\"TEAM_ID\",\"TEAM_ID\",\"TEAM_ID\",\"TEAM_ID\",\"TEAM_ID\",\"TEAM_ID\",\"TEAM_ID\",\"TEAM_ID\",\"TEAM_ID\",\"TEAM_ID\",\"TEAM_ID\",\"TEAM_ID\",\"TEAM_ID\",\"TEAM_ID\",\"TEAM_ID\",\"TEAM_ID\",\"TEAM_ID\",\"TEAM_ID\",\"TEAM_ID\",\"TEAM_ID\",\"TEAM_ID\",\"TEAM_ID\",\"TEAM_ID\",\"TEAM_ID\",\"TEAM_ID\",\"TEAM_ID\",\"TEAM_ID\",\"TEAM_ID\",\"TEAM_ID\",\"TEAM_ID\",\"TEAM_ID\",\"TEAM_ID\",\"TEAM_ID\"],\"index\":[0,1,2,3,4,5,6,7,8,9,10,11,12,13,14,15,16,17,18,19,20,21,22,23,24,25,26,27,28,29,30,31,32,33,34,35,36,37,38,39,40,41,42,43,44,45,46,47,48,49,50,51,52,53,54,55,56,57,58,59,60,61,62,63,64,65,66,67,68,69,70,71,72,73,74,75,76,77,78,79,80,81,82,83,84,85,86,87,88,89,90,91,92,93,94,95,96,97,98,99,100,101,102,103,104,105,106,107,108,109,110,111,112,113,114,115,116,117,118,119,120,121,122,123,124,125,126,127,128,129,130,131,132,133,134,135,136,137,138,139,140,141,142,143,144,145,146,147,148,149,150,151,152,153,154,155,156,157,158,159,160,161,162,163,164,165,166,167,168,169,170,171,172,173,174,175,176,177,178,179,180,181,182,183,184,185,186,187,188,189,190,191,192,193,194,195,196,197,198,199,200,201,202,203,204,205,206,207,208,209,210,211,212,213,214,215,216,217,218,219,220,221,222,223,224,225,226,227,228,229,230,231,232,233,234,235,236,237,238,239,240,241,242,243,244,245,246,247,248,249,250,251,252,253,254,255,256,257,258,259,260,261,262,263,264,265,266,267,268,269,270,271,272,273,274,275,276,277,278,279,280,281,282,283,284,285,286,287,288,289,290,291,292,293,294,295,296,297,298,299,300,301,302,303,304,305,306,307,308,309,310,311,312,313,314,315,316,317,318,319,320,321,322,323,324,325,326,327,328,329,330,331,332,333,334,335,336,337,338,339,340,341,342,343,344,345,346,347,348,349,350,351,352,353,354,355,356,357,358,359,360,361,362,363,364,365,366,367,368,369,370,371,372,373,374,375,376,377,378,379,380,381,382,383,384,385,386,387,388,389,390,391,392,393,394,395,396,397,398,399,400,401,402,403,404,405,406,407,408,409,410,411,412,413,414,415,416,417,418,419,420,421,422,423,424,425,426,427,428,429,430,431,432,433,434,435,436,437,438,439,440,441,442,443,444,445,446,447,448,449,450,451,452,453,454,455,456,457,458,459,460,461,462,463,464,465,466,467,468,469,470,471,472,473,474,475,476,477,478,479,480,481,482,483,484,485,486,487,488,489,490,491,492,493,494,495,496,497,498,499,500,501,502,503,504,505,506,507,508,509,510,511,512,513,514,515,516,517,518,519,520,521,522,523,524,525,526,527,528,529,530,531,532,533,534,535,536,537,538,539,540,541,542,543,544,545,546,547,548,549,550,551,552,553,554,555,556,557,558,559,560,561,562,563,564,565,566,567,568,569,570,571,572,573,574,575,576,577,578,579,580,581,582,583,584,585,586,587,588,589,590,591,592,593,594,595,596,597,598,599,600,601,602,603,604,605,606,607,608,609,610,611,612,613,614,615,616,617,618,619,620,621,622,623,624,625,626,627,628,629,630,631,632,633,634,635,636,637,638,639,640,641,642,643,644,645,646,647,648,649,650,651,652,653,654,655,656,657,658,659,660,661,662,663,664,665,666,667,668,669,670,671,672,673,674,675,676,677,678,679,680,681,682,683,684,685,686,687,688,689,690,691,692,693,694,695,696,697,698,699,700,701,702,703,704,705,706,707,708,709,710,711,712,713,714,715,716,717,718,719,720,721,722,723,724,725,726,727,728,729,730,731,732,733,734,735,736,737,738,739,740,741,742,743,744,745,746,747,748,749,750,751,752,753,754,755,756,757,758,759,760,761,762,763,764,765],\"value\":[1610612761,1610612761,1610612761,1610612761,1610612761,1610612761,1610612761,1610612740,1610612758,0,1610612758,1610612758,1610612758,1610612758,1610612758,1610612754,0,1610612754,1610612739,1610612739,1610612739,1610612739,1610612739,1610612739,1610612762,1610612762,1610612762,1610612762,1610612762,1610612751,1610612749,1610612749,1610612753,0,1610612753,1610612753,1610612753,1610612765,0,1610612765,1610612765,1610612746,0,1610612746,1610612755,0,1610612755,1610612755,1610612755,1610612755,1610612744,1610612744,1610612744,1610612744,1610612744,1610612744,1610612744,1610612744,1610612744,1610612744,1610612739,1610612739,1610612751,1610612751,1610612751,1610612751,1610612751,1610612751,1610612751,1610612745,1610612745,1610612756,0,1610612756,1610612756,1610612765,1610612765,1610612738,1610612738,1610612752,1610612746,0,1610612746,1610612746,1610612746,1610612756,1610612763,1610612763,1610612763,1610612755,1610612762,1610612762,1610612762,1610612762,1610612762,1610612762,1610612762,1610612738,1610612738,1610612738,1610612766,1610612766,1610612766,1610612761,1610612743,1610612743,1610612743,1610612743,1610612743,1610612764,1610612755,1610612755,1610612753,1610612753,1610612753,1610612753,1610612760,1610612760,1610612760,1610612760,1610612740,1610612740,1610612740,1610612763,1610612763,1610612763,1610612763,1610612763,1610612763,1610612763,1610612763,1610612763,1610612763,1610612763,1610612763,1610612762,1610612762,1610612762,1610612762,1610612750,0,1610612738,1610612738,1610612738,1610612738,1610612748,1610612748,1610612748,1610612748,1610612745,0,1610612765,1610612762,1610612763,1610612763,1610612763,1610612745,0,1610612745,1610612745,1610612745,1610612761,1610612761,1610612761,1610612761,1610612761,1610612761,1610612761,1610612761,1610612761,1610612748,1610612748,1610612741,1610612741,1610612741,1610612760,0,1610612752,1610612742,0,1610612754,1610612754,1610612754,1610612759,1610612759,1610612755,1610612755,1610612755,1610612755,1610612755,1610612755,1610612757,1610612757,1610612757,1610612761,0,1610612761,1610612761,1610612757,1610612757,1610612757,1610612759,1610612759,1610612760,1610612760,1610612741,0,1610612741,1610612741,1610612739,0,1610612756,1610612756,1610612756,1610612756,1610612746,1610612746,1610612756,0,1610612765,1610612765,1610612765,1610612765,1610612747,0,1610612752,1610612752,1610612742,1610612742,1610612765,1610612765,1610612751,1610612751,1610612751,1610612751,1610612751,1610612764,1610612742,0,1610612742,1610612751,0,1610612761,1610612761,1610612761,1610612761,1610612761,1610612761,1610612761,1610612761,1610612761,1610612759,1610612759,1610612759,1610612741,1610612741,1610612747,1610612747,1610612747,1610612762,1610612762,1610612762,1610612762,1610612762,1610612762,1610612762,1610612762,1610612762,1610612739,1610612758,0,1610612744,1610612755,0,1610612752,1610612752,1610612765,1610612753,1610612753,1610612753,1610612753,1610612761,0,1610612761,1610612761,1610612763,1610612763,1610612763,1610612763,1610612763,1610612763,1610612763,1610612761,0,1610612761,1610612758,0,1610612758,1610612758,1610612758,1610612759,1610612759,1610612759,1610612759,1610612762,1610612762,1610612743,1610612743,1610612750,0,1610612750,1610612750,1610612762,1610612747,0,1610612750,1610612750,1610612750,1610612750,1610612762,1610612763,1610612763,1610612749,1610612749,1610612761,1610612761,1610612761,1610612761,1610612761,1610612761,1610612761,1610612763,0,1610612763,1610612763,1610612740,1610612740,1610612745,1610612755,1610612755,1610612755,1610612755,1610612755,1610612750,0,1610612750,1610612745,0,1610612757,1610612757,1610612746,0,1610612746,1610612745,1610612745,1610612743,1610612739,0,1610612746,1610612752,1610612757,1610612757,1610612757,1610612757,1610612757,1610612757,1610612757,1610612766,1610612766,1610612766,1610612766,1610612766,1610612746,1610612746,1610612746,1610612766,1610612766,1610612766,1610612766,1610612747,1610612758,1610612756,1610612745,1610612745,1610612745,1610612745,1610612752,1610612762,0,1610612755,1610612750,1610612750,1610612750,1610612750,1610612763,1610612763,1610612763,1610612763,1610612738,1610612738,1610612738,1610612738,1610612738,1610612738,1610612738,1610612738,1610612738,1610612742,0,1610612758,1610612741,1610612740,1610612747,1610612747,1610612737,1610612746,0,1610612747,1610612739,0,1610612757,1610612757,1610612759,1610612759,1610612759,1610612759,1610612759,1610612759,1610612759,1610612759,1610612759,1610612759,1610612751,1610612751,1610612753,1610612753,1610612753,1610612744,1610612744,1610612744,1610612737,1610612756,1610612747,1610612758,0,1610612758,1610612747,1610612762,0,1610612743,1610612743,1610612743,1610612743,1610612743,1610612743,1610612743,1610612753,0,1610612753,1610612753,1610612759,1610612759,1610612759,1610612759,1610612763,1610612763,1610612763,1610612763,1610612750,1610612761,1610612761,1610612761,1610612761,1610612763,0,1610612742,1610612765,1610612758,0,1610612737,1610612764,1610612765,1610612765,1610612765,1610612765,1610612765,1610612765,1610612765,1610612765,1610612739,0,1610612739,1610612747,0,1610612755,1610612751,0,1610612741,1610612764,1610612764,1610612764,1610612764,1610612764,1610612764,1610612741,0,1610612741,1610612741,1610612753,0,1610612744,1610612761,1610612766,1610612766,1610612764,0,1610612764,1610612752,1610612752,1610612741,1610612741,1610612738,0,1610612739,1610612749,1610612738,0,1610612738,1610612760,1610612760,1610612760,1610612745,1610612745,1610612745,1610612745,1610612745,1610612745,1610612745,1610612745,1610612745,1610612751,0,1610612751,1610612755,0,1610612755,1610612737,1610612737,1610612737,1610612737,1610612737,1610612755,1610612747,0,1610612760,1610612760,1610612760,1610612760,1610612738,0,1610612754,1610612754,1610612754,1610612754,1610612753,0,1610612760,1610612760,1610612760,1610612759,1610612741,1610612741,1610612741,1610612741,1610612737,1610612737,1610612737,1610612751,1610612751,1610612739,0,1610612750,1610612750,1610612745,1610612745,1610612745,1610612745,1610612745,1610612746,1610612746,1610612746,1610612746,1610612750,1610612747,1610612741,0,1610612746,1610612746,1610612746,1610612746,1610612746,1610612746,1610612746,1610612746,1610612746,1610612746,1610612742,1610612752,0,1610612751,1610612751,1610612747,1610612755,0,1610612743,1610612766,1610612766,1610612766,1610612766,1610612766,1610612766,1610612766,1610612766,1610612757,1610612748,1610612756,1610612756,1610612756,1610612756,1610612756,1610612737,1610612737,1610612758,0,1610612761,1610612764,0,1610612758,1610612758,1610612766,1610612766,1610612766,1610612766,1610612759,1610612759,1610612759,1610612759,1610612747,1610612755,1610612744,1610612737,1610612741,0,1610612752,1610612741,1610612741,1610612763,0,1610612754,1610612754,1610612754,1610612758,0,1610612737,1610612742,0,1610612751,1610612751,1610612757,1610612757,1610612743,0,1610612743,1610612743,1610612743,1610612765,1610612766,1610612766,1610612746,0,1610612743,1610612743,1610612743,1610612743,1610612750,0,1610612750,1610612750,1610612762,1610612747,0,1610612742,1610612747,1610612747,1610612754,1610612754,1610612754,1610612764,1610612756,0,1610612737,1610612759,1610612759,1610612759,1610612759,1610612757,0,1610612757,1610612755,1610612755,1610612755,1610612750,0,1610612756,1610612756,1610612756,1610612760,0,1610612743,1610612743,1610612743,1610612753,1610612760,1610612760,1610612760,1610612760,1610612756,0,1610612762,1610612757,1610612757,1610612757,1610612757,1610612757,1610612742,1610612742,1610612742,1610612742,1610612752,1610612754,0,1610612749,1610612747,1610612749,1610612749,1610612745,1610612758,1610612759,0,1610612759,1610612749,1610612766,0,1610612764,1610612764,1610612764,1610612764,1610612758,1610612758,1610612763,1610612746,0,1610612751,1610612741,1610612740,1610612740]},\"selected\":{\"id\":\"22025\"},\"selection_policy\":{\"id\":\"22043\"}},\"id\":\"22024\",\"type\":\"ColumnDataSource\"},{\"attributes\":{\"line_color\":\"#1f77b4\",\"line_width\":2,\"tags\":[\"apply_ranges\"],\"x\":{\"field\":\"index\"},\"y\":{\"field\":\"value\"}},\"id\":\"22233\",\"type\":\"Line\"},{\"attributes\":{\"source\":{\"id\":\"22234\"}},\"id\":\"22241\",\"type\":\"CDSView\"},{\"attributes\":{\"source\":{\"id\":\"22594\"}},\"id\":\"22601\",\"type\":\"CDSView\"},{\"attributes\":{\"line_color\":\"#fc4f30\",\"line_width\":2,\"tags\":[\"apply_ranges\"],\"x\":{\"field\":\"index\"},\"y\":{\"field\":\"value\"}},\"id\":\"23085\",\"type\":\"Line\"},{\"attributes\":{\"line_color\":\"#8c564b\",\"line_width\":2,\"tags\":[\"apply_ranges\"],\"x\":{\"field\":\"index\"},\"y\":{\"field\":\"value\"}},\"id\":\"22311\",\"type\":\"Line\"},{\"attributes\":{\"label\":{\"value\":\"FGA\"},\"renderers\":[{\"id\":\"22204\"}]},\"id\":\"22232\",\"type\":\"LegendItem\"},{\"attributes\":{},\"id\":\"22943\",\"type\":\"UnionRenderers\"},{\"attributes\":{\"source\":{\"id\":\"22398\"}},\"id\":\"22405\",\"type\":\"CDSView\"},{\"attributes\":{\"label\":{\"value\":\"TOV\"},\"renderers\":[{\"id\":\"22890\"}]},\"id\":\"22946\",\"type\":\"LegendItem\"},{\"attributes\":{\"line_color\":\"#9467bd\",\"line_width\":2,\"tags\":[\"apply_ranges\"],\"x\":{\"field\":\"index\"},\"y\":{\"field\":\"value\"}},\"id\":\"22651\",\"type\":\"Line\"},{\"attributes\":{\"source\":{\"id\":\"22822\"}},\"id\":\"22829\",\"type\":\"CDSView\"},{\"attributes\":{\"line_color\":\"#8c564b\",\"line_width\":2,\"tags\":[\"apply_ranges\"],\"x\":{\"field\":\"index\"},\"y\":{\"field\":\"value\"}},\"id\":\"22947\",\"type\":\"Line\"},{\"attributes\":{\"label\":{\"value\":\"LEAGUE_ID\"},\"renderers\":[{\"id\":\"22008\"}]},\"id\":\"22022\",\"type\":\"LegendItem\"},{\"attributes\":{},\"id\":\"22949\",\"type\":\"Selection\"},{\"attributes\":{\"line_alpha\":0.2,\"line_color\":\"#8c564b\",\"line_width\":2,\"tags\":[\"apply_ranges\"],\"x\":{\"field\":\"index\"},\"y\":{\"field\":\"value\"}},\"id\":\"22277\",\"type\":\"Line\"},{\"attributes\":{\"line_color\":\"#1f77b4\",\"line_width\":2,\"tags\":[\"apply_ranges\"],\"x\":{\"field\":\"index\"},\"y\":{\"field\":\"value\"}},\"id\":\"22765\",\"type\":\"Line\"},{\"attributes\":{},\"id\":\"22235\",\"type\":\"Selection\"},{\"attributes\":{\"line_color\":\"#d62728\",\"line_width\":2,\"tags\":[\"apply_ranges\"],\"x\":{\"field\":\"index\"},\"y\":{\"field\":\"value\"}},\"id\":\"22197\",\"type\":\"Line\"},{\"attributes\":{\"data\":{\"Variable\":[\"FG3_PCT\",\"FG3_PCT\",\"FG3_PCT\",\"FG3_PCT\",\"FG3_PCT\",\"FG3_PCT\",\"FG3_PCT\",\"FG3_PCT\",\"FG3_PCT\",\"FG3_PCT\",\"FG3_PCT\",\"FG3_PCT\",\"FG3_PCT\",\"FG3_PCT\",\"FG3_PCT\",\"FG3_PCT\",\"FG3_PCT\",\"FG3_PCT\",\"FG3_PCT\",\"FG3_PCT\",\"FG3_PCT\",\"FG3_PCT\",\"FG3_PCT\",\"FG3_PCT\",\"FG3_PCT\",\"FG3_PCT\",\"FG3_PCT\",\"FG3_PCT\",\"FG3_PCT\",\"FG3_PCT\",\"FG3_PCT\",\"FG3_PCT\",\"FG3_PCT\",\"FG3_PCT\",\"FG3_PCT\",\"FG3_PCT\",\"FG3_PCT\",\"FG3_PCT\",\"FG3_PCT\",\"FG3_PCT\",\"FG3_PCT\",\"FG3_PCT\",\"FG3_PCT\",\"FG3_PCT\",\"FG3_PCT\",\"FG3_PCT\",\"FG3_PCT\",\"FG3_PCT\",\"FG3_PCT\",\"FG3_PCT\",\"FG3_PCT\",\"FG3_PCT\",\"FG3_PCT\",\"FG3_PCT\",\"FG3_PCT\",\"FG3_PCT\",\"FG3_PCT\",\"FG3_PCT\",\"FG3_PCT\",\"FG3_PCT\",\"FG3_PCT\",\"FG3_PCT\",\"FG3_PCT\",\"FG3_PCT\",\"FG3_PCT\",\"FG3_PCT\",\"FG3_PCT\",\"FG3_PCT\",\"FG3_PCT\",\"FG3_PCT\",\"FG3_PCT\",\"FG3_PCT\",\"FG3_PCT\",\"FG3_PCT\",\"FG3_PCT\",\"FG3_PCT\",\"FG3_PCT\",\"FG3_PCT\",\"FG3_PCT\",\"FG3_PCT\",\"FG3_PCT\",\"FG3_PCT\",\"FG3_PCT\",\"FG3_PCT\",\"FG3_PCT\",\"FG3_PCT\",\"FG3_PCT\",\"FG3_PCT\",\"FG3_PCT\",\"FG3_PCT\",\"FG3_PCT\",\"FG3_PCT\",\"FG3_PCT\",\"FG3_PCT\",\"FG3_PCT\",\"FG3_PCT\",\"FG3_PCT\",\"FG3_PCT\",\"FG3_PCT\",\"FG3_PCT\",\"FG3_PCT\",\"FG3_PCT\",\"FG3_PCT\",\"FG3_PCT\",\"FG3_PCT\",\"FG3_PCT\",\"FG3_PCT\",\"FG3_PCT\",\"FG3_PCT\",\"FG3_PCT\",\"FG3_PCT\",\"FG3_PCT\",\"FG3_PCT\",\"FG3_PCT\",\"FG3_PCT\",\"FG3_PCT\",\"FG3_PCT\",\"FG3_PCT\",\"FG3_PCT\",\"FG3_PCT\",\"FG3_PCT\",\"FG3_PCT\",\"FG3_PCT\",\"FG3_PCT\",\"FG3_PCT\",\"FG3_PCT\",\"FG3_PCT\",\"FG3_PCT\",\"FG3_PCT\",\"FG3_PCT\",\"FG3_PCT\",\"FG3_PCT\",\"FG3_PCT\",\"FG3_PCT\",\"FG3_PCT\",\"FG3_PCT\",\"FG3_PCT\",\"FG3_PCT\",\"FG3_PCT\",\"FG3_PCT\",\"FG3_PCT\",\"FG3_PCT\",\"FG3_PCT\",\"FG3_PCT\",\"FG3_PCT\",\"FG3_PCT\",\"FG3_PCT\",\"FG3_PCT\",\"FG3_PCT\",\"FG3_PCT\",\"FG3_PCT\",\"FG3_PCT\",\"FG3_PCT\",\"FG3_PCT\",\"FG3_PCT\",\"FG3_PCT\",\"FG3_PCT\",\"FG3_PCT\",\"FG3_PCT\",\"FG3_PCT\",\"FG3_PCT\",\"FG3_PCT\",\"FG3_PCT\",\"FG3_PCT\",\"FG3_PCT\",\"FG3_PCT\",\"FG3_PCT\",\"FG3_PCT\",\"FG3_PCT\",\"FG3_PCT\",\"FG3_PCT\",\"FG3_PCT\",\"FG3_PCT\",\"FG3_PCT\",\"FG3_PCT\",\"FG3_PCT\",\"FG3_PCT\",\"FG3_PCT\",\"FG3_PCT\",\"FG3_PCT\",\"FG3_PCT\",\"FG3_PCT\",\"FG3_PCT\",\"FG3_PCT\",\"FG3_PCT\",\"FG3_PCT\",\"FG3_PCT\",\"FG3_PCT\",\"FG3_PCT\",\"FG3_PCT\",\"FG3_PCT\",\"FG3_PCT\",\"FG3_PCT\",\"FG3_PCT\",\"FG3_PCT\",\"FG3_PCT\",\"FG3_PCT\",\"FG3_PCT\",\"FG3_PCT\",\"FG3_PCT\",\"FG3_PCT\",\"FG3_PCT\",\"FG3_PCT\",\"FG3_PCT\",\"FG3_PCT\",\"FG3_PCT\",\"FG3_PCT\",\"FG3_PCT\",\"FG3_PCT\",\"FG3_PCT\",\"FG3_PCT\",\"FG3_PCT\",\"FG3_PCT\",\"FG3_PCT\",\"FG3_PCT\",\"FG3_PCT\",\"FG3_PCT\",\"FG3_PCT\",\"FG3_PCT\",\"FG3_PCT\",\"FG3_PCT\",\"FG3_PCT\",\"FG3_PCT\",\"FG3_PCT\",\"FG3_PCT\",\"FG3_PCT\",\"FG3_PCT\",\"FG3_PCT\",\"FG3_PCT\",\"FG3_PCT\",\"FG3_PCT\",\"FG3_PCT\",\"FG3_PCT\",\"FG3_PCT\",\"FG3_PCT\",\"FG3_PCT\",\"FG3_PCT\",\"FG3_PCT\",\"FG3_PCT\",\"FG3_PCT\",\"FG3_PCT\",\"FG3_PCT\",\"FG3_PCT\",\"FG3_PCT\",\"FG3_PCT\",\"FG3_PCT\",\"FG3_PCT\",\"FG3_PCT\",\"FG3_PCT\",\"FG3_PCT\",\"FG3_PCT\",\"FG3_PCT\",\"FG3_PCT\",\"FG3_PCT\",\"FG3_PCT\",\"FG3_PCT\",\"FG3_PCT\",\"FG3_PCT\",\"FG3_PCT\",\"FG3_PCT\",\"FG3_PCT\",\"FG3_PCT\",\"FG3_PCT\",\"FG3_PCT\",\"FG3_PCT\",\"FG3_PCT\",\"FG3_PCT\",\"FG3_PCT\",\"FG3_PCT\",\"FG3_PCT\",\"FG3_PCT\",\"FG3_PCT\",\"FG3_PCT\",\"FG3_PCT\",\"FG3_PCT\",\"FG3_PCT\",\"FG3_PCT\",\"FG3_PCT\",\"FG3_PCT\",\"FG3_PCT\",\"FG3_PCT\",\"FG3_PCT\",\"FG3_PCT\",\"FG3_PCT\",\"FG3_PCT\",\"FG3_PCT\",\"FG3_PCT\",\"FG3_PCT\",\"FG3_PCT\",\"FG3_PCT\",\"FG3_PCT\",\"FG3_PCT\",\"FG3_PCT\",\"FG3_PCT\",\"FG3_PCT\",\"FG3_PCT\",\"FG3_PCT\",\"FG3_PCT\",\"FG3_PCT\",\"FG3_PCT\",\"FG3_PCT\",\"FG3_PCT\",\"FG3_PCT\",\"FG3_PCT\",\"FG3_PCT\",\"FG3_PCT\",\"FG3_PCT\",\"FG3_PCT\",\"FG3_PCT\",\"FG3_PCT\",\"FG3_PCT\",\"FG3_PCT\",\"FG3_PCT\",\"FG3_PCT\",\"FG3_PCT\",\"FG3_PCT\",\"FG3_PCT\",\"FG3_PCT\",\"FG3_PCT\",\"FG3_PCT\",\"FG3_PCT\",\"FG3_PCT\",\"FG3_PCT\",\"FG3_PCT\",\"FG3_PCT\",\"FG3_PCT\",\"FG3_PCT\",\"FG3_PCT\",\"FG3_PCT\",\"FG3_PCT\",\"FG3_PCT\",\"FG3_PCT\",\"FG3_PCT\",\"FG3_PCT\",\"FG3_PCT\",\"FG3_PCT\",\"FG3_PCT\",\"FG3_PCT\",\"FG3_PCT\",\"FG3_PCT\",\"FG3_PCT\",\"FG3_PCT\",\"FG3_PCT\",\"FG3_PCT\",\"FG3_PCT\",\"FG3_PCT\",\"FG3_PCT\",\"FG3_PCT\",\"FG3_PCT\",\"FG3_PCT\",\"FG3_PCT\",\"FG3_PCT\",\"FG3_PCT\",\"FG3_PCT\",\"FG3_PCT\",\"FG3_PCT\",\"FG3_PCT\",\"FG3_PCT\",\"FG3_PCT\",\"FG3_PCT\",\"FG3_PCT\",\"FG3_PCT\",\"FG3_PCT\",\"FG3_PCT\",\"FG3_PCT\",\"FG3_PCT\",\"FG3_PCT\",\"FG3_PCT\",\"FG3_PCT\",\"FG3_PCT\",\"FG3_PCT\",\"FG3_PCT\",\"FG3_PCT\",\"FG3_PCT\",\"FG3_PCT\",\"FG3_PCT\",\"FG3_PCT\",\"FG3_PCT\",\"FG3_PCT\",\"FG3_PCT\",\"FG3_PCT\",\"FG3_PCT\",\"FG3_PCT\",\"FG3_PCT\",\"FG3_PCT\",\"FG3_PCT\",\"FG3_PCT\",\"FG3_PCT\",\"FG3_PCT\",\"FG3_PCT\",\"FG3_PCT\",\"FG3_PCT\",\"FG3_PCT\",\"FG3_PCT\",\"FG3_PCT\",\"FG3_PCT\",\"FG3_PCT\",\"FG3_PCT\",\"FG3_PCT\",\"FG3_PCT\",\"FG3_PCT\",\"FG3_PCT\",\"FG3_PCT\",\"FG3_PCT\",\"FG3_PCT\",\"FG3_PCT\",\"FG3_PCT\",\"FG3_PCT\",\"FG3_PCT\",\"FG3_PCT\",\"FG3_PCT\",\"FG3_PCT\",\"FG3_PCT\",\"FG3_PCT\",\"FG3_PCT\",\"FG3_PCT\",\"FG3_PCT\",\"FG3_PCT\",\"FG3_PCT\",\"FG3_PCT\",\"FG3_PCT\",\"FG3_PCT\",\"FG3_PCT\",\"FG3_PCT\",\"FG3_PCT\",\"FG3_PCT\",\"FG3_PCT\",\"FG3_PCT\",\"FG3_PCT\",\"FG3_PCT\",\"FG3_PCT\",\"FG3_PCT\",\"FG3_PCT\",\"FG3_PCT\",\"FG3_PCT\",\"FG3_PCT\",\"FG3_PCT\",\"FG3_PCT\",\"FG3_PCT\",\"FG3_PCT\",\"FG3_PCT\",\"FG3_PCT\",\"FG3_PCT\",\"FG3_PCT\",\"FG3_PCT\",\"FG3_PCT\",\"FG3_PCT\",\"FG3_PCT\",\"FG3_PCT\",\"FG3_PCT\",\"FG3_PCT\",\"FG3_PCT\",\"FG3_PCT\",\"FG3_PCT\",\"FG3_PCT\",\"FG3_PCT\",\"FG3_PCT\",\"FG3_PCT\",\"FG3_PCT\",\"FG3_PCT\",\"FG3_PCT\",\"FG3_PCT\",\"FG3_PCT\",\"FG3_PCT\",\"FG3_PCT\",\"FG3_PCT\",\"FG3_PCT\",\"FG3_PCT\",\"FG3_PCT\",\"FG3_PCT\",\"FG3_PCT\",\"FG3_PCT\",\"FG3_PCT\",\"FG3_PCT\",\"FG3_PCT\",\"FG3_PCT\",\"FG3_PCT\",\"FG3_PCT\",\"FG3_PCT\",\"FG3_PCT\",\"FG3_PCT\",\"FG3_PCT\",\"FG3_PCT\",\"FG3_PCT\",\"FG3_PCT\",\"FG3_PCT\",\"FG3_PCT\",\"FG3_PCT\",\"FG3_PCT\",\"FG3_PCT\",\"FG3_PCT\",\"FG3_PCT\",\"FG3_PCT\",\"FG3_PCT\",\"FG3_PCT\",\"FG3_PCT\",\"FG3_PCT\",\"FG3_PCT\",\"FG3_PCT\",\"FG3_PCT\",\"FG3_PCT\",\"FG3_PCT\",\"FG3_PCT\",\"FG3_PCT\",\"FG3_PCT\",\"FG3_PCT\",\"FG3_PCT\",\"FG3_PCT\",\"FG3_PCT\",\"FG3_PCT\",\"FG3_PCT\",\"FG3_PCT\",\"FG3_PCT\",\"FG3_PCT\",\"FG3_PCT\",\"FG3_PCT\",\"FG3_PCT\",\"FG3_PCT\",\"FG3_PCT\",\"FG3_PCT\",\"FG3_PCT\",\"FG3_PCT\",\"FG3_PCT\",\"FG3_PCT\",\"FG3_PCT\",\"FG3_PCT\",\"FG3_PCT\",\"FG3_PCT\",\"FG3_PCT\",\"FG3_PCT\",\"FG3_PCT\",\"FG3_PCT\",\"FG3_PCT\",\"FG3_PCT\",\"FG3_PCT\",\"FG3_PCT\",\"FG3_PCT\",\"FG3_PCT\",\"FG3_PCT\",\"FG3_PCT\",\"FG3_PCT\",\"FG3_PCT\",\"FG3_PCT\",\"FG3_PCT\",\"FG3_PCT\",\"FG3_PCT\",\"FG3_PCT\",\"FG3_PCT\",\"FG3_PCT\",\"FG3_PCT\",\"FG3_PCT\",\"FG3_PCT\",\"FG3_PCT\",\"FG3_PCT\",\"FG3_PCT\",\"FG3_PCT\",\"FG3_PCT\",\"FG3_PCT\",\"FG3_PCT\",\"FG3_PCT\",\"FG3_PCT\",\"FG3_PCT\",\"FG3_PCT\",\"FG3_PCT\",\"FG3_PCT\",\"FG3_PCT\",\"FG3_PCT\",\"FG3_PCT\",\"FG3_PCT\",\"FG3_PCT\",\"FG3_PCT\",\"FG3_PCT\",\"FG3_PCT\",\"FG3_PCT\",\"FG3_PCT\",\"FG3_PCT\",\"FG3_PCT\",\"FG3_PCT\",\"FG3_PCT\",\"FG3_PCT\",\"FG3_PCT\",\"FG3_PCT\",\"FG3_PCT\",\"FG3_PCT\",\"FG3_PCT\",\"FG3_PCT\",\"FG3_PCT\",\"FG3_PCT\",\"FG3_PCT\",\"FG3_PCT\",\"FG3_PCT\",\"FG3_PCT\",\"FG3_PCT\",\"FG3_PCT\",\"FG3_PCT\",\"FG3_PCT\",\"FG3_PCT\",\"FG3_PCT\",\"FG3_PCT\",\"FG3_PCT\",\"FG3_PCT\",\"FG3_PCT\",\"FG3_PCT\",\"FG3_PCT\",\"FG3_PCT\",\"FG3_PCT\",\"FG3_PCT\",\"FG3_PCT\",\"FG3_PCT\",\"FG3_PCT\",\"FG3_PCT\",\"FG3_PCT\",\"FG3_PCT\",\"FG3_PCT\",\"FG3_PCT\",\"FG3_PCT\",\"FG3_PCT\",\"FG3_PCT\",\"FG3_PCT\",\"FG3_PCT\",\"FG3_PCT\",\"FG3_PCT\",\"FG3_PCT\",\"FG3_PCT\",\"FG3_PCT\",\"FG3_PCT\",\"FG3_PCT\",\"FG3_PCT\",\"FG3_PCT\",\"FG3_PCT\",\"FG3_PCT\",\"FG3_PCT\",\"FG3_PCT\",\"FG3_PCT\",\"FG3_PCT\",\"FG3_PCT\",\"FG3_PCT\",\"FG3_PCT\",\"FG3_PCT\",\"FG3_PCT\",\"FG3_PCT\",\"FG3_PCT\",\"FG3_PCT\",\"FG3_PCT\",\"FG3_PCT\",\"FG3_PCT\",\"FG3_PCT\",\"FG3_PCT\",\"FG3_PCT\",\"FG3_PCT\",\"FG3_PCT\",\"FG3_PCT\",\"FG3_PCT\",\"FG3_PCT\",\"FG3_PCT\",\"FG3_PCT\",\"FG3_PCT\",\"FG3_PCT\",\"FG3_PCT\",\"FG3_PCT\",\"FG3_PCT\",\"FG3_PCT\",\"FG3_PCT\",\"FG3_PCT\",\"FG3_PCT\",\"FG3_PCT\",\"FG3_PCT\",\"FG3_PCT\",\"FG3_PCT\",\"FG3_PCT\",\"FG3_PCT\",\"FG3_PCT\",\"FG3_PCT\",\"FG3_PCT\",\"FG3_PCT\",\"FG3_PCT\",\"FG3_PCT\",\"FG3_PCT\",\"FG3_PCT\",\"FG3_PCT\",\"FG3_PCT\",\"FG3_PCT\",\"FG3_PCT\",\"FG3_PCT\",\"FG3_PCT\",\"FG3_PCT\",\"FG3_PCT\",\"FG3_PCT\",\"FG3_PCT\",\"FG3_PCT\",\"FG3_PCT\",\"FG3_PCT\",\"FG3_PCT\",\"FG3_PCT\",\"FG3_PCT\",\"FG3_PCT\",\"FG3_PCT\",\"FG3_PCT\",\"FG3_PCT\",\"FG3_PCT\",\"FG3_PCT\",\"FG3_PCT\",\"FG3_PCT\",\"FG3_PCT\",\"FG3_PCT\",\"FG3_PCT\",\"FG3_PCT\",\"FG3_PCT\",\"FG3_PCT\",\"FG3_PCT\",\"FG3_PCT\",\"FG3_PCT\",\"FG3_PCT\",\"FG3_PCT\",\"FG3_PCT\",\"FG3_PCT\",\"FG3_PCT\",\"FG3_PCT\",\"FG3_PCT\",\"FG3_PCT\",\"FG3_PCT\",\"FG3_PCT\",\"FG3_PCT\",\"FG3_PCT\",\"FG3_PCT\",\"FG3_PCT\",\"FG3_PCT\",\"FG3_PCT\",\"FG3_PCT\",\"FG3_PCT\",\"FG3_PCT\",\"FG3_PCT\",\"FG3_PCT\",\"FG3_PCT\",\"FG3_PCT\",\"FG3_PCT\",\"FG3_PCT\",\"FG3_PCT\",\"FG3_PCT\",\"FG3_PCT\",\"FG3_PCT\",\"FG3_PCT\",\"FG3_PCT\",\"FG3_PCT\",\"FG3_PCT\",\"FG3_PCT\",\"FG3_PCT\",\"FG3_PCT\",\"FG3_PCT\",\"FG3_PCT\",\"FG3_PCT\",\"FG3_PCT\",\"FG3_PCT\",\"FG3_PCT\",\"FG3_PCT\",\"FG3_PCT\",\"FG3_PCT\",\"FG3_PCT\",\"FG3_PCT\",\"FG3_PCT\",\"FG3_PCT\",\"FG3_PCT\",\"FG3_PCT\",\"FG3_PCT\",\"FG3_PCT\",\"FG3_PCT\"],\"index\":[0,1,2,3,4,5,6,7,8,9,10,11,12,13,14,15,16,17,18,19,20,21,22,23,24,25,26,27,28,29,30,31,32,33,34,35,36,37,38,39,40,41,42,43,44,45,46,47,48,49,50,51,52,53,54,55,56,57,58,59,60,61,62,63,64,65,66,67,68,69,70,71,72,73,74,75,76,77,78,79,80,81,82,83,84,85,86,87,88,89,90,91,92,93,94,95,96,97,98,99,100,101,102,103,104,105,106,107,108,109,110,111,112,113,114,115,116,117,118,119,120,121,122,123,124,125,126,127,128,129,130,131,132,133,134,135,136,137,138,139,140,141,142,143,144,145,146,147,148,149,150,151,152,153,154,155,156,157,158,159,160,161,162,163,164,165,166,167,168,169,170,171,172,173,174,175,176,177,178,179,180,181,182,183,184,185,186,187,188,189,190,191,192,193,194,195,196,197,198,199,200,201,202,203,204,205,206,207,208,209,210,211,212,213,214,215,216,217,218,219,220,221,222,223,224,225,226,227,228,229,230,231,232,233,234,235,236,237,238,239,240,241,242,243,244,245,246,247,248,249,250,251,252,253,254,255,256,257,258,259,260,261,262,263,264,265,266,267,268,269,270,271,272,273,274,275,276,277,278,279,280,281,282,283,284,285,286,287,288,289,290,291,292,293,294,295,296,297,298,299,300,301,302,303,304,305,306,307,308,309,310,311,312,313,314,315,316,317,318,319,320,321,322,323,324,325,326,327,328,329,330,331,332,333,334,335,336,337,338,339,340,341,342,343,344,345,346,347,348,349,350,351,352,353,354,355,356,357,358,359,360,361,362,363,364,365,366,367,368,369,370,371,372,373,374,375,376,377,378,379,380,381,382,383,384,385,386,387,388,389,390,391,392,393,394,395,396,397,398,399,400,401,402,403,404,405,406,407,408,409,410,411,412,413,414,415,416,417,418,419,420,421,422,423,424,425,426,427,428,429,430,431,432,433,434,435,436,437,438,439,440,441,442,443,444,445,446,447,448,449,450,451,452,453,454,455,456,457,458,459,460,461,462,463,464,465,466,467,468,469,470,471,472,473,474,475,476,477,478,479,480,481,482,483,484,485,486,487,488,489,490,491,492,493,494,495,496,497,498,499,500,501,502,503,504,505,506,507,508,509,510,511,512,513,514,515,516,517,518,519,520,521,522,523,524,525,526,527,528,529,530,531,532,533,534,535,536,537,538,539,540,541,542,543,544,545,546,547,548,549,550,551,552,553,554,555,556,557,558,559,560,561,562,563,564,565,566,567,568,569,570,571,572,573,574,575,576,577,578,579,580,581,582,583,584,585,586,587,588,589,590,591,592,593,594,595,596,597,598,599,600,601,602,603,604,605,606,607,608,609,610,611,612,613,614,615,616,617,618,619,620,621,622,623,624,625,626,627,628,629,630,631,632,633,634,635,636,637,638,639,640,641,642,643,644,645,646,647,648,649,650,651,652,653,654,655,656,657,658,659,660,661,662,663,664,665,666,667,668,669,670,671,672,673,674,675,676,677,678,679,680,681,682,683,684,685,686,687,688,689,690,691,692,693,694,695,696,697,698,699,700,701,702,703,704,705,706,707,708,709,710,711,712,713,714,715,716,717,718,719,720,721,722,723,724,725,726,727,728,729,730,731,732,733,734,735,736,737,738,739,740,741,742,743,744,745,746,747,748,749,750,751,752,753,754,755,756,757,758,759,760,761,762,763,764,765],\"value\":{\"__ndarray__\":\"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\",\"dtype\":\"float64\",\"order\":\"little\",\"shape\":[766]}},\"selected\":{\"id\":\"22355\"},\"selection_policy\":{\"id\":\"22393\"}},\"id\":\"22354\",\"type\":\"ColumnDataSource\"},{\"attributes\":{\"source\":{\"id\":\"22354\"}},\"id\":\"22361\",\"type\":\"CDSView\"},{\"attributes\":{\"line_alpha\":0.2,\"line_color\":\"#bcbd22\",\"line_width\":2,\"tags\":[\"apply_ranges\"],\"x\":{\"field\":\"index\"},\"y\":{\"field\":\"value\"}},\"id\":\"22317\",\"type\":\"Line\"},{\"attributes\":{\"coordinates\":null,\"data_source\":{\"id\":\"22164\"},\"glyph\":{\"id\":\"22167\"},\"group\":null,\"hover_glyph\":null,\"muted_glyph\":{\"id\":\"22169\"},\"nonselection_glyph\":{\"id\":\"22168\"},\"selection_glyph\":{\"id\":\"22197\"},\"view\":{\"id\":\"22171\"}},\"id\":\"22170\",\"type\":\"GlyphRenderer\"},{\"attributes\":{\"line_color\":\"#fc4f30\",\"line_width\":2,\"tags\":[\"apply_ranges\"],\"x\":{\"field\":\"index\"},\"y\":{\"field\":\"value\"}},\"id\":\"22443\",\"type\":\"Line\"},{\"attributes\":{\"line_color\":\"#fc4f30\",\"line_width\":2,\"tags\":[\"apply_ranges\"],\"x\":{\"field\":\"index\"},\"y\":{\"field\":\"value\"}},\"id\":\"22023\",\"type\":\"Line\"},{\"attributes\":{\"line_color\":\"#bcbd22\",\"line_width\":2,\"tags\":[\"apply_ranges\"],\"x\":{\"field\":\"index\"},\"y\":{\"field\":\"value\"}},\"id\":\"22315\",\"type\":\"Line\"},{\"attributes\":{\"line_alpha\":0.1,\"line_color\":\"#1f77b4\",\"line_width\":2,\"tags\":[\"apply_ranges\"],\"x\":{\"field\":\"index\"},\"y\":{\"field\":\"value\"}},\"id\":\"22766\",\"type\":\"Line\"},{\"attributes\":{\"line_alpha\":0.1,\"line_color\":\"#e377c2\",\"line_width\":2,\"tags\":[\"apply_ranges\"],\"x\":{\"field\":\"index\"},\"y\":{\"field\":\"value\"}},\"id\":\"22238\",\"type\":\"Line\"},{\"attributes\":{},\"id\":\"22159\",\"type\":\"UnionRenderers\"},{\"attributes\":{\"source\":{\"id\":\"22164\"}},\"id\":\"22171\",\"type\":\"CDSView\"},{\"attributes\":{\"line_alpha\":0.1,\"line_color\":\"#8c564b\",\"line_width\":2,\"tags\":[\"apply_ranges\"],\"x\":{\"field\":\"index\"},\"y\":{\"field\":\"value\"}},\"id\":\"22276\",\"type\":\"Line\"},{\"attributes\":{\"line_color\":\"#30a2da\",\"line_width\":2,\"tags\":[\"apply_ranges\"],\"x\":{\"field\":\"index\"},\"y\":{\"field\":\"value\"}},\"id\":\"23017\",\"type\":\"Line\"},{\"attributes\":{\"label\":{\"value\":\"MIN\"},\"renderers\":[{\"id\":\"22138\"}]},\"id\":\"22162\",\"type\":\"LegendItem\"},{\"attributes\":{\"source\":{\"id\":\"22002\"}},\"id\":\"22009\",\"type\":\"CDSView\"},{\"attributes\":{\"line_color\":\"#d62728\",\"line_width\":2,\"tags\":[\"apply_ranges\"],\"x\":{\"field\":\"index\"},\"y\":{\"field\":\"value\"}},\"id\":\"22167\",\"type\":\"Line\"},{\"attributes\":{\"source\":{\"id\":\"22312\"}},\"id\":\"22319\",\"type\":\"CDSView\"},{\"attributes\":{\"line_color\":\"#9467bd\",\"line_width\":2,\"tags\":[\"apply_ranges\"],\"x\":{\"field\":\"index\"},\"y\":{\"field\":\"value\"}},\"id\":\"22163\",\"type\":\"Line\"},{\"attributes\":{},\"id\":\"22199\",\"type\":\"Selection\"},{\"attributes\":{\"line_color\":\"#8c564b\",\"line_width\":2,\"tags\":[\"apply_ranges\"],\"x\":{\"field\":\"index\"},\"y\":{\"field\":\"value\"}},\"id\":\"22275\",\"type\":\"Line\"},{\"attributes\":{\"line_alpha\":0.1,\"line_color\":\"#30a2da\",\"line_width\":2,\"tags\":[\"apply_ranges\"],\"x\":{\"field\":\"index\"},\"y\":{\"field\":\"value\"}},\"id\":\"21985\",\"type\":\"Line\"},{\"attributes\":{\"coordinates\":null,\"data_source\":{\"id\":\"22272\"},\"glyph\":{\"id\":\"22275\"},\"group\":null,\"hover_glyph\":null,\"muted_glyph\":{\"id\":\"22277\"},\"nonselection_glyph\":{\"id\":\"22276\"},\"selection_glyph\":{\"id\":\"22311\"},\"view\":{\"id\":\"22279\"}},\"id\":\"22278\",\"type\":\"GlyphRenderer\"},{\"attributes\":{\"line_alpha\":0.2,\"line_color\":\"#fc4f30\",\"line_width\":2,\"tags\":[\"apply_ranges\"],\"x\":{\"field\":\"index\"},\"y\":{\"field\":\"value\"}},\"id\":\"22007\",\"type\":\"Line\"},{\"attributes\":{\"coordinates\":null,\"data_source\":{\"id\":\"22234\"},\"glyph\":{\"id\":\"22237\"},\"group\":null,\"hover_glyph\":null,\"muted_glyph\":{\"id\":\"22239\"},\"nonselection_glyph\":{\"id\":\"22238\"},\"selection_glyph\":{\"id\":\"22271\"},\"view\":{\"id\":\"22241\"}},\"id\":\"22240\",\"type\":\"GlyphRenderer\"},{\"attributes\":{},\"id\":\"22313\",\"type\":\"Selection\"},{\"attributes\":{\"line_color\":\"#e377c2\",\"line_width\":2,\"tags\":[\"apply_ranges\"],\"x\":{\"field\":\"index\"},\"y\":{\"field\":\"value\"}},\"id\":\"22237\",\"type\":\"Line\"},{\"attributes\":{},\"id\":\"22643\",\"type\":\"UnionRenderers\"},{\"attributes\":{\"source\":{\"id\":\"22198\"}},\"id\":\"22205\",\"type\":\"CDSView\"}],\"root_ids\":[\"21916\"]},\"title\":\"Bokeh Application\",\"version\":\"2.4.3\"}};\n",
       "    var render_items = [{\"docid\":\"2001a82b-581f-4340-b1f0-b57709827d98\",\"root_ids\":[\"21916\"],\"roots\":{\"21916\":\"d3ad3cbf-fea5-4309-95d8-a9bb38e55520\"}}];\n",
       "    root.Bokeh.embed.embed_items_notebook(docs_json, render_items);\n",
       "    for (const render_item of render_items) {\n",
       "      for (const root_id of render_item.root_ids) {\n",
       "\tconst id_el = document.getElementById(root_id)\n",
       "\tif (id_el.children.length && (id_el.children[0].className === 'bk-root')) {\n",
       "\t  const root_el = id_el.children[0]\n",
       "\t  root_el.id = root_el.id + '-rendered'\n",
       "\t}\n",
       "      }\n",
       "    }\n",
       "  }\n",
       "  if (root.Bokeh !== undefined && root.Bokeh.Panel !== undefined) {\n",
       "    embed_document(root);\n",
       "  } else {\n",
       "    var attempts = 0;\n",
       "    var timer = setInterval(function(root) {\n",
       "      if (root.Bokeh !== undefined && root.Bokeh.Panel !== undefined) {\n",
       "        clearInterval(timer);\n",
       "        embed_document(root);\n",
       "      } else if (document.readyState == \"complete\") {\n",
       "        attempts++;\n",
       "        if (attempts > 200) {\n",
       "          clearInterval(timer);\n",
       "          console.log(\"Bokeh: ERROR: Unable to run BokehJS code because BokehJS library is missing\");\n",
       "        }\n",
       "      }\n",
       "    }, 25, root)\n",
       "  }\n",
       "})(window);</script>"
      ],
      "text/plain": [
       ":NdOverlay   [Variable]\n",
       "   :Curve   [index]   (value)"
      ]
     },
     "execution_count": 107,
     "metadata": {
      "application/vnd.holoviews_exec.v0+json": {
       "id": "21916"
      }
     },
     "output_type": "execute_result"
    }
   ],
   "source": [
    "# Plot your data to see what's in your DataFrame\n",
    "df_player_data.hvplot.line(\n",
    "    width=800,\n",
    "    height=400,\n",
    "    rot=90\n",
    ")"
   ]
  },
  {
   "cell_type": "code",
   "execution_count": null,
   "metadata": {},
   "outputs": [],
   "source": []
  },
  {
   "cell_type": "markdown",
   "metadata": {},
   "source": [
    "---"
   ]
  },
  {
   "cell_type": "markdown",
   "metadata": {},
   "source": [
    "### Prepare the Data"
   ]
  },
  {
   "cell_type": "code",
   "execution_count": 108,
   "metadata": {},
   "outputs": [],
   "source": [
    "df_player_data_scaled = StandardScaler().fit_transform(df_player_data[[\n",
    "    'PLAYER_ID',\n",
    "    'LEAGUE_ID',\n",
    "    'PLAYER_AGE',\n",
    "    'GP',\n",
    "    'GS',\n",
    "    'MIN',\n",
    "    'FGM',\n",
    "    'FGA',\n",
    "    'FG_PCT',\n",
    "    'FG3M',\n",
    "    'FG3A',\n",
    "    'FG3_PCT',\n",
    "    'FTM',\n",
    "    'FTA',\n",
    "    'FT_PCT',\n",
    "    'OREB',\n",
    "    'DREB',\n",
    "    'REB',\n",
    "    'AST',\n",
    "    'STL',\n",
    "    'BLK',\n",
    "    'TOV',\n",
    "    'PF',\n",
    "    'PTS',\n",
    "    'Salary']])"
   ]
  },
  {
   "cell_type": "code",
   "execution_count": 111,
   "metadata": {},
   "outputs": [
    {
     "name": "stdout",
     "output_type": "stream",
     "text": [
      "               PLAYER_ID  SEASON_ID  LEAGUE_ID  TEAM_ID  PLAYER_AGE        GP  \\\n",
      "Player_Name                                                                     \n",
      "Pascal Siakam   1.436019  -0.448732        0.0   0.3343   -0.869441  0.102162   \n",
      "Pascal Siakam   1.436019  -0.174626        0.0   0.3343   -0.607652  1.231899   \n",
      "Pascal Siakam   1.436019   0.099480        0.0   0.3343   -0.345863  1.188448   \n",
      "Pascal Siakam   1.436019   0.373586        0.0   0.3343   -0.084073  0.319419   \n",
      "Pascal Siakam   1.436019   0.647692        0.0   0.3343    0.177716  0.145613   \n",
      "\n",
      "                     GS       MIN       FGM       FGA  ...      OREB  \\\n",
      "Player_Name                                            ...             \n",
      "Pascal Siakam  0.267569 -0.599398 -0.714277 -0.777959  ...  0.181601   \n",
      "Pascal Siakam -0.901997  0.413870  0.236063  0.075135  ...  0.432153   \n",
      "Pascal Siakam  1.720666  1.487687  1.921334  1.376613  ...  1.183809   \n",
      "Pascal Siakam  1.047279  0.946454  1.800958  1.839555  ...  0.181601   \n",
      "Pascal Siakam  0.905514  0.817942  1.401814  1.423198  ...  0.699408   \n",
      "\n",
      "                   DREB       REB       AST       STL       BLK       TOV  \\\n",
      "Player_Name                                                                 \n",
      "Pascal Siakam -0.448949 -0.272601 -0.890109 -0.575548  0.789505 -0.700476   \n",
      "Pascal Siakam  0.699795  0.644230  0.152345  0.496331  0.671457 -0.130572   \n",
      "Pascal Siakam  1.680430  1.591793  0.805714  0.823850  1.064951  1.327711   \n",
      "Pascal Siakam  1.330203  1.028378  0.504724  0.466557  1.104301  1.227140   \n",
      "Pascal Siakam  0.874908  0.854231  0.820396  0.555880  0.474710  0.925426   \n",
      "\n",
      "                     PF       PTS    Salary  \n",
      "Player_Name                                  \n",
      "Pascal Siakam  0.026428 -0.812798 -0.741418  \n",
      "Pascal Siakam  0.903909 -0.011879 -0.727399  \n",
      "Pascal Siakam  2.058490  1.690074 -0.699458  \n",
      "Pascal Siakam  0.965487  1.727895 -0.620098  \n",
      "Pascal Siakam  1.027065  1.338559  2.789813  \n",
      "\n",
      "[5 rows x 27 columns]\n"
     ]
    }
   ],
   "source": [
    "# from sklearn.preprocessing import StandardScaler\n",
    "# import pandas as pd\n",
    "\n",
    "# # Assuming df_player_data is your original DataFrame\n",
    "\n",
    "# columns_to_scale = [\n",
    "#     'PLAYER_ID',\n",
    "#     'SEASON_ID',\n",
    "#     'LEAGUE_ID',\n",
    "#     'TEAM_ID',\n",
    "#     'PLAYER_AGE',\n",
    "#     'GP',\n",
    "#     'GS',\n",
    "#     'MIN',\n",
    "#     'FGM',\n",
    "#     'FGA',\n",
    "#     'FG_PCT',\n",
    "#     'FG3M',\n",
    "#     'FG3A',\n",
    "#     'FG3_PCT',\n",
    "#     'FTM',\n",
    "#     'FTA',\n",
    "#     'FT_PCT',\n",
    "#     'OREB',\n",
    "#     'DREB',\n",
    "#     'REB',\n",
    "#     'AST',\n",
    "#     'STL',\n",
    "#     'BLK',\n",
    "#     'TOV',\n",
    "#     'PF',\n",
    "#     'PTS',\n",
    "#     'Salary'\n",
    "# ]\n",
    "\n",
    "# # Scale the selected columns\n",
    "# scaler = StandardScaler()\n",
    "# df_player_data_scaled = scaler.fit_transform(df_player_data[columns_to_scale])\n",
    "\n",
    "# # Create a DataFrame with the scaled data\n",
    "# df_player_data_scaled = pd.DataFrame(df_player_data_scaled, columns=columns_to_scale)\n",
    "\n",
    "# # Copy the player names from the original data\n",
    "# df_player_data_scaled['Player_Name'] = df_player_data.index\n",
    "\n",
    "# # Set the player names column as index\n",
    "# df_player_data_scaled = df_player_data_scaled.set_index('Player_Name')\n",
    "\n",
    "# # Display sample data\n",
    "# print(df_player_data_scaled.head())\n",
    "from sklearn.preprocessing import StandardScaler, LabelEncoder\n",
    "import pandas as pd\n",
    "\n",
    "# Handle categorical column 'SEASON_ID' using label encoding\n",
    "label_encoder = LabelEncoder()\n",
    "df_player_data['SEASON_ID'] = label_encoder.fit_transform(df_player_data['SEASON_ID'])\n",
    "\n",
    "# List of columns to scale\n",
    "columns_to_scale = [\n",
    "    'PLAYER_ID',\n",
    "    'SEASON_ID',\n",
    "    'LEAGUE_ID',\n",
    "    'TEAM_ID',\n",
    "    'PLAYER_AGE',\n",
    "    'GP',\n",
    "    'GS',\n",
    "    'MIN',\n",
    "    'FGM',\n",
    "    'FGA',\n",
    "    'FG_PCT',\n",
    "    'FG3M',\n",
    "    'FG3A',\n",
    "    'FG3_PCT',\n",
    "    'FTM',\n",
    "    'FTA',\n",
    "    'FT_PCT',\n",
    "    'OREB',\n",
    "    'DREB',\n",
    "    'REB',\n",
    "    'AST',\n",
    "    'STL',\n",
    "    'BLK',\n",
    "    'TOV',\n",
    "    'PF',\n",
    "    'PTS',\n",
    "    'Salary'\n",
    "]\n",
    "\n",
    "# Scale the selected columns\n",
    "scaler = StandardScaler()\n",
    "df_player_data_scaled = scaler.fit_transform(df_player_data[columns_to_scale])\n",
    "\n",
    "# Create a DataFrame with the scaled data\n",
    "df_player_data_scaled = pd.DataFrame(df_player_data_scaled, columns=columns_to_scale)\n",
    "\n",
    "# Copy the player names from the original data\n",
    "df_player_data_scaled['Player_Name'] = df_player_data['Player_Name']\n",
    "\n",
    "# Set the player names column as index\n",
    "df_player_data_scaled = df_player_data_scaled.set_index('Player_Name')\n",
    "\n",
    "# Display sample data\n",
    "print(df_player_data_scaled.head())\n",
    "\n"
   ]
  },
  {
   "cell_type": "code",
   "execution_count": 112,
   "metadata": {},
   "outputs": [
    {
     "data": {
      "text/html": [
       "<div>\n",
       "<style scoped>\n",
       "    .dataframe tbody tr th:only-of-type {\n",
       "        vertical-align: middle;\n",
       "    }\n",
       "\n",
       "    .dataframe tbody tr th {\n",
       "        vertical-align: top;\n",
       "    }\n",
       "\n",
       "    .dataframe thead th {\n",
       "        text-align: right;\n",
       "    }\n",
       "</style>\n",
       "<table border=\"1\" class=\"dataframe\">\n",
       "  <thead>\n",
       "    <tr style=\"text-align: right;\">\n",
       "      <th></th>\n",
       "      <th>PLAYER_ID</th>\n",
       "      <th>SEASON_ID</th>\n",
       "      <th>LEAGUE_ID</th>\n",
       "      <th>TEAM_ID</th>\n",
       "      <th>PLAYER_AGE</th>\n",
       "      <th>GP</th>\n",
       "      <th>GS</th>\n",
       "      <th>MIN</th>\n",
       "      <th>FGM</th>\n",
       "      <th>FGA</th>\n",
       "      <th>...</th>\n",
       "      <th>OREB</th>\n",
       "      <th>DREB</th>\n",
       "      <th>REB</th>\n",
       "      <th>AST</th>\n",
       "      <th>STL</th>\n",
       "      <th>BLK</th>\n",
       "      <th>TOV</th>\n",
       "      <th>PF</th>\n",
       "      <th>PTS</th>\n",
       "      <th>Salary</th>\n",
       "    </tr>\n",
       "    <tr>\n",
       "      <th>Player_Name</th>\n",
       "      <th></th>\n",
       "      <th></th>\n",
       "      <th></th>\n",
       "      <th></th>\n",
       "      <th></th>\n",
       "      <th></th>\n",
       "      <th></th>\n",
       "      <th></th>\n",
       "      <th></th>\n",
       "      <th></th>\n",
       "      <th></th>\n",
       "      <th></th>\n",
       "      <th></th>\n",
       "      <th></th>\n",
       "      <th></th>\n",
       "      <th></th>\n",
       "      <th></th>\n",
       "      <th></th>\n",
       "      <th></th>\n",
       "      <th></th>\n",
       "      <th></th>\n",
       "    </tr>\n",
       "  </thead>\n",
       "  <tbody>\n",
       "    <tr>\n",
       "      <th>Pascal Siakam</th>\n",
       "      <td>1.436019</td>\n",
       "      <td>-0.448732</td>\n",
       "      <td>0.0</td>\n",
       "      <td>0.334300</td>\n",
       "      <td>-0.869441</td>\n",
       "      <td>0.102162</td>\n",
       "      <td>0.267569</td>\n",
       "      <td>-0.599398</td>\n",
       "      <td>-0.714277</td>\n",
       "      <td>-0.777959</td>\n",
       "      <td>...</td>\n",
       "      <td>0.181601</td>\n",
       "      <td>-0.448949</td>\n",
       "      <td>-0.272601</td>\n",
       "      <td>-0.890109</td>\n",
       "      <td>-0.575548</td>\n",
       "      <td>0.789505</td>\n",
       "      <td>-0.700476</td>\n",
       "      <td>0.026428</td>\n",
       "      <td>-0.812798</td>\n",
       "      <td>-0.741418</td>\n",
       "    </tr>\n",
       "    <tr>\n",
       "      <th>Pascal Siakam</th>\n",
       "      <td>1.436019</td>\n",
       "      <td>-0.174626</td>\n",
       "      <td>0.0</td>\n",
       "      <td>0.334300</td>\n",
       "      <td>-0.607652</td>\n",
       "      <td>1.231899</td>\n",
       "      <td>-0.901997</td>\n",
       "      <td>0.413870</td>\n",
       "      <td>0.236063</td>\n",
       "      <td>0.075135</td>\n",
       "      <td>...</td>\n",
       "      <td>0.432153</td>\n",
       "      <td>0.699795</td>\n",
       "      <td>0.644230</td>\n",
       "      <td>0.152345</td>\n",
       "      <td>0.496331</td>\n",
       "      <td>0.671457</td>\n",
       "      <td>-0.130572</td>\n",
       "      <td>0.903909</td>\n",
       "      <td>-0.011879</td>\n",
       "      <td>-0.727399</td>\n",
       "    </tr>\n",
       "    <tr>\n",
       "      <th>Pascal Siakam</th>\n",
       "      <td>1.436019</td>\n",
       "      <td>0.099480</td>\n",
       "      <td>0.0</td>\n",
       "      <td>0.334300</td>\n",
       "      <td>-0.345863</td>\n",
       "      <td>1.188448</td>\n",
       "      <td>1.720666</td>\n",
       "      <td>1.487687</td>\n",
       "      <td>1.921334</td>\n",
       "      <td>1.376613</td>\n",
       "      <td>...</td>\n",
       "      <td>1.183809</td>\n",
       "      <td>1.680430</td>\n",
       "      <td>1.591793</td>\n",
       "      <td>0.805714</td>\n",
       "      <td>0.823850</td>\n",
       "      <td>1.064951</td>\n",
       "      <td>1.327711</td>\n",
       "      <td>2.058490</td>\n",
       "      <td>1.690074</td>\n",
       "      <td>-0.699458</td>\n",
       "    </tr>\n",
       "    <tr>\n",
       "      <th>Pascal Siakam</th>\n",
       "      <td>1.436019</td>\n",
       "      <td>0.373586</td>\n",
       "      <td>0.0</td>\n",
       "      <td>0.334300</td>\n",
       "      <td>-0.084073</td>\n",
       "      <td>0.319419</td>\n",
       "      <td>1.047279</td>\n",
       "      <td>0.946454</td>\n",
       "      <td>1.800958</td>\n",
       "      <td>1.839555</td>\n",
       "      <td>...</td>\n",
       "      <td>0.181601</td>\n",
       "      <td>1.330203</td>\n",
       "      <td>1.028378</td>\n",
       "      <td>0.504724</td>\n",
       "      <td>0.466557</td>\n",
       "      <td>1.104301</td>\n",
       "      <td>1.227140</td>\n",
       "      <td>0.965487</td>\n",
       "      <td>1.727895</td>\n",
       "      <td>-0.620098</td>\n",
       "    </tr>\n",
       "    <tr>\n",
       "      <th>Pascal Siakam</th>\n",
       "      <td>1.436019</td>\n",
       "      <td>0.647692</td>\n",
       "      <td>0.0</td>\n",
       "      <td>0.334300</td>\n",
       "      <td>0.177716</td>\n",
       "      <td>0.145613</td>\n",
       "      <td>0.905514</td>\n",
       "      <td>0.817942</td>\n",
       "      <td>1.401814</td>\n",
       "      <td>1.423198</td>\n",
       "      <td>...</td>\n",
       "      <td>0.699408</td>\n",
       "      <td>0.874908</td>\n",
       "      <td>0.854231</td>\n",
       "      <td>0.820396</td>\n",
       "      <td>0.555880</td>\n",
       "      <td>0.474710</td>\n",
       "      <td>0.925426</td>\n",
       "      <td>1.027065</td>\n",
       "      <td>1.338559</td>\n",
       "      <td>2.789813</td>\n",
       "    </tr>\n",
       "    <tr>\n",
       "      <th>Pascal Siakam</th>\n",
       "      <td>1.436019</td>\n",
       "      <td>0.921798</td>\n",
       "      <td>0.0</td>\n",
       "      <td>0.334300</td>\n",
       "      <td>0.439505</td>\n",
       "      <td>0.667031</td>\n",
       "      <td>1.330811</td>\n",
       "      <td>1.524758</td>\n",
       "      <td>2.409176</td>\n",
       "      <td>2.139448</td>\n",
       "      <td>...</td>\n",
       "      <td>1.250623</td>\n",
       "      <td>1.869552</td>\n",
       "      <td>1.750574</td>\n",
       "      <td>1.627931</td>\n",
       "      <td>1.181143</td>\n",
       "      <td>0.671457</td>\n",
       "      <td>1.780282</td>\n",
       "      <td>1.812180</td>\n",
       "      <td>2.128355</td>\n",
       "      <td>3.083819</td>\n",
       "    </tr>\n",
       "    <tr>\n",
       "      <th>Pascal Siakam</th>\n",
       "      <td>1.436019</td>\n",
       "      <td>1.195904</td>\n",
       "      <td>0.0</td>\n",
       "      <td>0.334300</td>\n",
       "      <td>0.701294</td>\n",
       "      <td>0.797385</td>\n",
       "      <td>1.437135</td>\n",
       "      <td>1.616199</td>\n",
       "      <td>2.624586</td>\n",
       "      <td>2.448076</td>\n",
       "      <td>...</td>\n",
       "      <td>1.300733</td>\n",
       "      <td>1.680430</td>\n",
       "      <td>1.627647</td>\n",
       "      <td>2.031699</td>\n",
       "      <td>0.585655</td>\n",
       "      <td>0.435361</td>\n",
       "      <td>1.579139</td>\n",
       "      <td>1.858363</td>\n",
       "      <td>2.504342</td>\n",
       "      <td>3.377824</td>\n",
       "    </tr>\n",
       "    <tr>\n",
       "      <th>Buddy Hield</th>\n",
       "      <td>1.435956</td>\n",
       "      <td>-0.448732</td>\n",
       "      <td>0.0</td>\n",
       "      <td>0.334299</td>\n",
       "      <td>-0.607652</td>\n",
       "      <td>0.189065</td>\n",
       "      <td>0.232127</td>\n",
       "      <td>-0.226219</td>\n",
       "      <td>-0.194758</td>\n",
       "      <td>-0.003478</td>\n",
       "      <td>...</td>\n",
       "      <td>-0.570055</td>\n",
       "      <td>-0.266831</td>\n",
       "      <td>-0.369918</td>\n",
       "      <td>-0.449636</td>\n",
       "      <td>-0.813744</td>\n",
       "      <td>-0.705772</td>\n",
       "      <td>-0.449048</td>\n",
       "      <td>-0.404616</td>\n",
       "      <td>-0.236581</td>\n",
       "      <td>-0.755872</td>\n",
       "    </tr>\n",
       "    <tr>\n",
       "      <th>Buddy Hield</th>\n",
       "      <td>1.435956</td>\n",
       "      <td>-0.448732</td>\n",
       "      <td>0.0</td>\n",
       "      <td>0.334300</td>\n",
       "      <td>-0.607652</td>\n",
       "      <td>-1.201381</td>\n",
       "      <td>-0.441259</td>\n",
       "      <td>-0.762510</td>\n",
       "      <td>-0.467189</td>\n",
       "      <td>-0.513005</td>\n",
       "      <td>...</td>\n",
       "      <td>-0.620165</td>\n",
       "      <td>-0.687103</td>\n",
       "      <td>-0.692602</td>\n",
       "      <td>-0.691896</td>\n",
       "      <td>-0.754195</td>\n",
       "      <td>-0.902519</td>\n",
       "      <td>-0.365238</td>\n",
       "      <td>-1.128153</td>\n",
       "      <td>-0.481307</td>\n",
       "      <td>-0.591656</td>\n",
       "    </tr>\n",
       "    <tr>\n",
       "      <th>Buddy Hield</th>\n",
       "      <td>1.435956</td>\n",
       "      <td>-0.448732</td>\n",
       "      <td>0.0</td>\n",
       "      <td>-2.991329</td>\n",
       "      <td>-0.607652</td>\n",
       "      <td>1.275351</td>\n",
       "      <td>0.870072</td>\n",
       "      <td>0.672130</td>\n",
       "      <td>0.704898</td>\n",
       "      <td>0.858351</td>\n",
       "      <td>...</td>\n",
       "      <td>-0.302799</td>\n",
       "      <td>0.342564</td>\n",
       "      <td>0.157644</td>\n",
       "      <td>-0.126622</td>\n",
       "      <td>-0.218255</td>\n",
       "      <td>-0.627073</td>\n",
       "      <td>0.439332</td>\n",
       "      <td>0.118794</td>\n",
       "      <td>0.604384</td>\n",
       "      <td>-0.443239</td>\n",
       "    </tr>\n",
       "    <tr>\n",
       "      <th>Buddy Hield</th>\n",
       "      <td>1.435956</td>\n",
       "      <td>-0.174626</td>\n",
       "      <td>0.0</td>\n",
       "      <td>0.334300</td>\n",
       "      <td>-0.345863</td>\n",
       "      <td>1.188448</td>\n",
       "      <td>-0.618466</td>\n",
       "      <td>0.840184</td>\n",
       "      <td>1.268767</td>\n",
       "      <td>1.341674</td>\n",
       "      <td>...</td>\n",
       "      <td>0.031270</td>\n",
       "      <td>0.468645</td>\n",
       "      <td>0.352279</td>\n",
       "      <td>0.122980</td>\n",
       "      <td>1.181143</td>\n",
       "      <td>-0.115531</td>\n",
       "      <td>0.824855</td>\n",
       "      <td>0.626810</td>\n",
       "      <td>1.078261</td>\n",
       "      <td>-0.424204</td>\n",
       "    </tr>\n",
       "    <tr>\n",
       "      <th>Buddy Hield</th>\n",
       "      <td>1.435956</td>\n",
       "      <td>0.099480</td>\n",
       "      <td>0.0</td>\n",
       "      <td>0.334300</td>\n",
       "      <td>-0.084073</td>\n",
       "      <td>1.275351</td>\n",
       "      <td>1.826990</td>\n",
       "      <td>1.570478</td>\n",
       "      <td>2.580237</td>\n",
       "      <td>2.584921</td>\n",
       "      <td>...</td>\n",
       "      <td>0.883147</td>\n",
       "      <td>0.846890</td>\n",
       "      <td>0.890085</td>\n",
       "      <td>0.490041</td>\n",
       "      <td>0.377234</td>\n",
       "      <td>0.317312</td>\n",
       "      <td>1.193616</td>\n",
       "      <td>1.458108</td>\n",
       "      <td>2.448722</td>\n",
       "      <td>-0.337181</td>\n",
       "    </tr>\n",
       "    <tr>\n",
       "      <th>Buddy Hield</th>\n",
       "      <td>1.435956</td>\n",
       "      <td>0.373586</td>\n",
       "      <td>0.0</td>\n",
       "      <td>0.334300</td>\n",
       "      <td>0.177716</td>\n",
       "      <td>0.840836</td>\n",
       "      <td>0.480217</td>\n",
       "      <td>1.077437</td>\n",
       "      <td>1.788286</td>\n",
       "      <td>2.008427</td>\n",
       "      <td>...</td>\n",
       "      <td>0.064677</td>\n",
       "      <td>0.601732</td>\n",
       "      <td>0.459840</td>\n",
       "      <td>0.548771</td>\n",
       "      <td>0.615429</td>\n",
       "      <td>-0.312278</td>\n",
       "      <td>1.562377</td>\n",
       "      <td>0.888515</td>\n",
       "      <td>1.752368</td>\n",
       "      <td>-0.337181</td>\n",
       "    </tr>\n",
       "    <tr>\n",
       "      <th>Buddy Hield</th>\n",
       "      <td>1.435956</td>\n",
       "      <td>0.647692</td>\n",
       "      <td>0.0</td>\n",
       "      <td>0.334300</td>\n",
       "      <td>0.439505</td>\n",
       "      <td>0.797385</td>\n",
       "      <td>1.437135</td>\n",
       "      <td>1.345582</td>\n",
       "      <td>1.186404</td>\n",
       "      <td>1.513458</td>\n",
       "      <td>...</td>\n",
       "      <td>-0.403020</td>\n",
       "      <td>0.839886</td>\n",
       "      <td>0.490572</td>\n",
       "      <td>0.871785</td>\n",
       "      <td>0.526106</td>\n",
       "      <td>0.199264</td>\n",
       "      <td>0.925426</td>\n",
       "      <td>1.042459</td>\n",
       "      <td>1.294064</td>\n",
       "      <td>2.117875</td>\n",
       "    </tr>\n",
       "    <tr>\n",
       "      <th>Buddy Hield</th>\n",
       "      <td>1.435956</td>\n",
       "      <td>0.921798</td>\n",
       "      <td>0.0</td>\n",
       "      <td>0.334300</td>\n",
       "      <td>0.701294</td>\n",
       "      <td>0.102162</td>\n",
       "      <td>-0.866556</td>\n",
       "      <td>0.284122</td>\n",
       "      <td>0.312091</td>\n",
       "      <td>0.642894</td>\n",
       "      <td>...</td>\n",
       "      <td>-0.169172</td>\n",
       "      <td>-0.049690</td>\n",
       "      <td>-0.088210</td>\n",
       "      <td>-0.244081</td>\n",
       "      <td>0.079489</td>\n",
       "      <td>-0.390977</td>\n",
       "      <td>0.254951</td>\n",
       "      <td>0.088005</td>\n",
       "      <td>0.439750</td>\n",
       "      <td>1.889547</td>\n",
       "    </tr>\n",
       "    <tr>\n",
       "      <th>Buddy Hield</th>\n",
       "      <td>1.435956</td>\n",
       "      <td>0.921798</td>\n",
       "      <td>0.0</td>\n",
       "      <td>0.334300</td>\n",
       "      <td>0.701294</td>\n",
       "      <td>-1.157930</td>\n",
       "      <td>-0.157728</td>\n",
       "      <td>-0.517842</td>\n",
       "      <td>-0.220100</td>\n",
       "      <td>-0.195643</td>\n",
       "      <td>...</td>\n",
       "      <td>-0.503241</td>\n",
       "      <td>-0.533003</td>\n",
       "      <td>-0.544065</td>\n",
       "      <td>-0.104598</td>\n",
       "      <td>-0.605323</td>\n",
       "      <td>-0.587724</td>\n",
       "      <td>-0.197619</td>\n",
       "      <td>-0.558560</td>\n",
       "      <td>-0.269953</td>\n",
       "      <td>0.134065</td>\n",
       "    </tr>\n",
       "    <tr>\n",
       "      <th>Buddy Hield</th>\n",
       "      <td>1.435956</td>\n",
       "      <td>0.921798</td>\n",
       "      <td>0.0</td>\n",
       "      <td>-2.991329</td>\n",
       "      <td>0.701294</td>\n",
       "      <td>1.231899</td>\n",
       "      <td>0.054920</td>\n",
       "      <td>1.427138</td>\n",
       "      <td>1.458835</td>\n",
       "      <td>1.822085</td>\n",
       "      <td>...</td>\n",
       "      <td>0.215008</td>\n",
       "      <td>0.713804</td>\n",
       "      <td>0.587889</td>\n",
       "      <td>0.666231</td>\n",
       "      <td>0.823850</td>\n",
       "      <td>0.002517</td>\n",
       "      <td>1.310949</td>\n",
       "      <td>1.181009</td>\n",
       "      <td>1.492069</td>\n",
       "      <td>0.870227</td>\n",
       "    </tr>\n",
       "    <tr>\n",
       "      <th>Buddy Hield</th>\n",
       "      <td>1.435956</td>\n",
       "      <td>1.195904</td>\n",
       "      <td>0.0</td>\n",
       "      <td>0.334300</td>\n",
       "      <td>0.963084</td>\n",
       "      <td>1.188448</td>\n",
       "      <td>1.508018</td>\n",
       "      <td>1.406131</td>\n",
       "      <td>1.642567</td>\n",
       "      <td>1.647390</td>\n",
       "      <td>...</td>\n",
       "      <td>0.231712</td>\n",
       "      <td>1.036013</td>\n",
       "      <td>0.828621</td>\n",
       "      <td>0.636866</td>\n",
       "      <td>1.389564</td>\n",
       "      <td>0.041867</td>\n",
       "      <td>1.076283</td>\n",
       "      <td>0.749965</td>\n",
       "      <td>1.667826</td>\n",
       "      <td>1.661595</td>\n",
       "    </tr>\n",
       "    <tr>\n",
       "      <th>Cedi Osman</th>\n",
       "      <td>1.433687</td>\n",
       "      <td>-0.174626</td>\n",
       "      <td>0.0</td>\n",
       "      <td>0.334299</td>\n",
       "      <td>-0.869441</td>\n",
       "      <td>0.362871</td>\n",
       "      <td>-0.653908</td>\n",
       "      <td>-0.829237</td>\n",
       "      <td>-0.796640</td>\n",
       "      <td>-0.833279</td>\n",
       "      <td>...</td>\n",
       "      <td>-0.570055</td>\n",
       "      <td>-0.589039</td>\n",
       "      <td>-0.605528</td>\n",
       "      <td>-0.713920</td>\n",
       "      <td>-0.694646</td>\n",
       "      <td>-0.863170</td>\n",
       "      <td>-0.717237</td>\n",
       "      <td>-0.450799</td>\n",
       "      <td>-0.792775</td>\n",
       "      <td>-0.568377</td>\n",
       "    </tr>\n",
       "    <tr>\n",
       "      <th>Cedi Osman</th>\n",
       "      <td>1.433687</td>\n",
       "      <td>0.099480</td>\n",
       "      <td>0.0</td>\n",
       "      <td>0.334299</td>\n",
       "      <td>-0.607652</td>\n",
       "      <td>1.014642</td>\n",
       "      <td>1.578900</td>\n",
       "      <td>1.359175</td>\n",
       "      <td>0.913973</td>\n",
       "      <td>1.082543</td>\n",
       "      <td>...</td>\n",
       "      <td>-0.135765</td>\n",
       "      <td>0.888918</td>\n",
       "      <td>0.608377</td>\n",
       "      <td>0.416629</td>\n",
       "      <td>0.436782</td>\n",
       "      <td>-0.548375</td>\n",
       "      <td>0.657236</td>\n",
       "      <td>1.350347</td>\n",
       "      <td>0.882481</td>\n",
       "      <td>-0.551531</td>\n",
       "    </tr>\n",
       "  </tbody>\n",
       "</table>\n",
       "<p>20 rows × 27 columns</p>\n",
       "</div>"
      ],
      "text/plain": [
       "               PLAYER_ID  SEASON_ID  LEAGUE_ID   TEAM_ID  PLAYER_AGE  \\\n",
       "Player_Name                                                            \n",
       "Pascal Siakam   1.436019  -0.448732        0.0  0.334300   -0.869441   \n",
       "Pascal Siakam   1.436019  -0.174626        0.0  0.334300   -0.607652   \n",
       "Pascal Siakam   1.436019   0.099480        0.0  0.334300   -0.345863   \n",
       "Pascal Siakam   1.436019   0.373586        0.0  0.334300   -0.084073   \n",
       "Pascal Siakam   1.436019   0.647692        0.0  0.334300    0.177716   \n",
       "Pascal Siakam   1.436019   0.921798        0.0  0.334300    0.439505   \n",
       "Pascal Siakam   1.436019   1.195904        0.0  0.334300    0.701294   \n",
       "Buddy Hield     1.435956  -0.448732        0.0  0.334299   -0.607652   \n",
       "Buddy Hield     1.435956  -0.448732        0.0  0.334300   -0.607652   \n",
       "Buddy Hield     1.435956  -0.448732        0.0 -2.991329   -0.607652   \n",
       "Buddy Hield     1.435956  -0.174626        0.0  0.334300   -0.345863   \n",
       "Buddy Hield     1.435956   0.099480        0.0  0.334300   -0.084073   \n",
       "Buddy Hield     1.435956   0.373586        0.0  0.334300    0.177716   \n",
       "Buddy Hield     1.435956   0.647692        0.0  0.334300    0.439505   \n",
       "Buddy Hield     1.435956   0.921798        0.0  0.334300    0.701294   \n",
       "Buddy Hield     1.435956   0.921798        0.0  0.334300    0.701294   \n",
       "Buddy Hield     1.435956   0.921798        0.0 -2.991329    0.701294   \n",
       "Buddy Hield     1.435956   1.195904        0.0  0.334300    0.963084   \n",
       "Cedi Osman      1.433687  -0.174626        0.0  0.334299   -0.869441   \n",
       "Cedi Osman      1.433687   0.099480        0.0  0.334299   -0.607652   \n",
       "\n",
       "                     GP        GS       MIN       FGM       FGA  ...  \\\n",
       "Player_Name                                                      ...   \n",
       "Pascal Siakam  0.102162  0.267569 -0.599398 -0.714277 -0.777959  ...   \n",
       "Pascal Siakam  1.231899 -0.901997  0.413870  0.236063  0.075135  ...   \n",
       "Pascal Siakam  1.188448  1.720666  1.487687  1.921334  1.376613  ...   \n",
       "Pascal Siakam  0.319419  1.047279  0.946454  1.800958  1.839555  ...   \n",
       "Pascal Siakam  0.145613  0.905514  0.817942  1.401814  1.423198  ...   \n",
       "Pascal Siakam  0.667031  1.330811  1.524758  2.409176  2.139448  ...   \n",
       "Pascal Siakam  0.797385  1.437135  1.616199  2.624586  2.448076  ...   \n",
       "Buddy Hield    0.189065  0.232127 -0.226219 -0.194758 -0.003478  ...   \n",
       "Buddy Hield   -1.201381 -0.441259 -0.762510 -0.467189 -0.513005  ...   \n",
       "Buddy Hield    1.275351  0.870072  0.672130  0.704898  0.858351  ...   \n",
       "Buddy Hield    1.188448 -0.618466  0.840184  1.268767  1.341674  ...   \n",
       "Buddy Hield    1.275351  1.826990  1.570478  2.580237  2.584921  ...   \n",
       "Buddy Hield    0.840836  0.480217  1.077437  1.788286  2.008427  ...   \n",
       "Buddy Hield    0.797385  1.437135  1.345582  1.186404  1.513458  ...   \n",
       "Buddy Hield    0.102162 -0.866556  0.284122  0.312091  0.642894  ...   \n",
       "Buddy Hield   -1.157930 -0.157728 -0.517842 -0.220100 -0.195643  ...   \n",
       "Buddy Hield    1.231899  0.054920  1.427138  1.458835  1.822085  ...   \n",
       "Buddy Hield    1.188448  1.508018  1.406131  1.642567  1.647390  ...   \n",
       "Cedi Osman     0.362871 -0.653908 -0.829237 -0.796640 -0.833279  ...   \n",
       "Cedi Osman     1.014642  1.578900  1.359175  0.913973  1.082543  ...   \n",
       "\n",
       "                   OREB      DREB       REB       AST       STL       BLK  \\\n",
       "Player_Name                                                                 \n",
       "Pascal Siakam  0.181601 -0.448949 -0.272601 -0.890109 -0.575548  0.789505   \n",
       "Pascal Siakam  0.432153  0.699795  0.644230  0.152345  0.496331  0.671457   \n",
       "Pascal Siakam  1.183809  1.680430  1.591793  0.805714  0.823850  1.064951   \n",
       "Pascal Siakam  0.181601  1.330203  1.028378  0.504724  0.466557  1.104301   \n",
       "Pascal Siakam  0.699408  0.874908  0.854231  0.820396  0.555880  0.474710   \n",
       "Pascal Siakam  1.250623  1.869552  1.750574  1.627931  1.181143  0.671457   \n",
       "Pascal Siakam  1.300733  1.680430  1.627647  2.031699  0.585655  0.435361   \n",
       "Buddy Hield   -0.570055 -0.266831 -0.369918 -0.449636 -0.813744 -0.705772   \n",
       "Buddy Hield   -0.620165 -0.687103 -0.692602 -0.691896 -0.754195 -0.902519   \n",
       "Buddy Hield   -0.302799  0.342564  0.157644 -0.126622 -0.218255 -0.627073   \n",
       "Buddy Hield    0.031270  0.468645  0.352279  0.122980  1.181143 -0.115531   \n",
       "Buddy Hield    0.883147  0.846890  0.890085  0.490041  0.377234  0.317312   \n",
       "Buddy Hield    0.064677  0.601732  0.459840  0.548771  0.615429 -0.312278   \n",
       "Buddy Hield   -0.403020  0.839886  0.490572  0.871785  0.526106  0.199264   \n",
       "Buddy Hield   -0.169172 -0.049690 -0.088210 -0.244081  0.079489 -0.390977   \n",
       "Buddy Hield   -0.503241 -0.533003 -0.544065 -0.104598 -0.605323 -0.587724   \n",
       "Buddy Hield    0.215008  0.713804  0.587889  0.666231  0.823850  0.002517   \n",
       "Buddy Hield    0.231712  1.036013  0.828621  0.636866  1.389564  0.041867   \n",
       "Cedi Osman    -0.570055 -0.589039 -0.605528 -0.713920 -0.694646 -0.863170   \n",
       "Cedi Osman    -0.135765  0.888918  0.608377  0.416629  0.436782 -0.548375   \n",
       "\n",
       "                    TOV        PF       PTS    Salary  \n",
       "Player_Name                                            \n",
       "Pascal Siakam -0.700476  0.026428 -0.812798 -0.741418  \n",
       "Pascal Siakam -0.130572  0.903909 -0.011879 -0.727399  \n",
       "Pascal Siakam  1.327711  2.058490  1.690074 -0.699458  \n",
       "Pascal Siakam  1.227140  0.965487  1.727895 -0.620098  \n",
       "Pascal Siakam  0.925426  1.027065  1.338559  2.789813  \n",
       "Pascal Siakam  1.780282  1.812180  2.128355  3.083819  \n",
       "Pascal Siakam  1.579139  1.858363  2.504342  3.377824  \n",
       "Buddy Hield   -0.449048 -0.404616 -0.236581 -0.755872  \n",
       "Buddy Hield   -0.365238 -1.128153 -0.481307 -0.591656  \n",
       "Buddy Hield    0.439332  0.118794  0.604384 -0.443239  \n",
       "Buddy Hield    0.824855  0.626810  1.078261 -0.424204  \n",
       "Buddy Hield    1.193616  1.458108  2.448722 -0.337181  \n",
       "Buddy Hield    1.562377  0.888515  1.752368 -0.337181  \n",
       "Buddy Hield    0.925426  1.042459  1.294064  2.117875  \n",
       "Buddy Hield    0.254951  0.088005  0.439750  1.889547  \n",
       "Buddy Hield   -0.197619 -0.558560 -0.269953  0.134065  \n",
       "Buddy Hield    1.310949  1.181009  1.492069  0.870227  \n",
       "Buddy Hield    1.076283  0.749965  1.667826  1.661595  \n",
       "Cedi Osman    -0.717237 -0.450799 -0.792775 -0.568377  \n",
       "Cedi Osman     0.657236  1.350347  0.882481 -0.551531  \n",
       "\n",
       "[20 rows x 27 columns]"
      ]
     },
     "execution_count": 112,
     "metadata": {},
     "output_type": "execute_result"
    }
   ],
   "source": [
    "# Create a DataFrame with the scaled data\n",
    "df_player_data_scaled=pd.DataFrame(df_player_data_scaled, \n",
    "                             columns= [\n",
    "                                   'PLAYER_ID',\n",
    "                                   'SEASON_ID',\n",
    "                                   'LEAGUE_ID',\n",
    "                                   'TEAM_ID',\n",
    "                                   'PLAYER_AGE',\n",
    "                                   'GP',\n",
    "                                   'GS',\n",
    "                                   'MIN',\n",
    "                                   'FGM',\n",
    "                                   'FGA',\n",
    "                                   'FG_PCT',\n",
    "                                   'FG3M',\n",
    "                                   'FG3A',\n",
    "                                   'FG3_PCT',\n",
    "                                   'FTM',\n",
    "                                   'FTA',\n",
    "                                   'FT_PCT',\n",
    "                                   'OREB',\n",
    "                                   'DREB',\n",
    "                                   'REB',\n",
    "                                   'AST',\n",
    "                                   'STL',\n",
    "                                   'BLK',\n",
    "                                   'TOV',\n",
    "                                   'PF',\n",
    "                                   'PTS',\n",
    "                                   'Player_Name',\n",
    "                                   'Salary'])\n",
    "# Copy the crypto names from the original data\n",
    "df_player_data_scaled['Player_Name']=df_player_data_scaled.index\n",
    "# Set the coinid column as index\n",
    "df_player_data_scaled=df_player_data_scaled.set_index('Player_Name')\n",
    "\n",
    "# Display sample data\n",
    "df_player_data_scaled.head(20)"
   ]
  },
  {
   "cell_type": "markdown",
   "metadata": {},
   "source": [
    "---"
   ]
  },
  {
   "cell_type": "markdown",
   "metadata": {},
   "source": [
    "### Find the Best Value for k Using the Original Data."
   ]
  },
  {
   "cell_type": "code",
   "execution_count": 113,
   "metadata": {},
   "outputs": [],
   "source": [
    "# Create a list with the number of k-values from 1 to 11\n",
    "k=list(range(1,20))"
   ]
  },
  {
   "cell_type": "code",
   "execution_count": 114,
   "metadata": {},
   "outputs": [
    {
     "name": "stderr",
     "output_type": "stream",
     "text": [
      "d:\\Users\\Matthew\\Anaconda\\envs\\PythonData\\lib\\site-packages\\sklearn\\cluster\\_kmeans.py:1037: UserWarning: KMeans is known to have a memory leak on Windows with MKL, when there are less chunks than available threads. You can avoid it by setting the environment variable OMP_NUM_THREADS=3.\n",
      "  \"KMeans is known to have a memory leak on Windows \"\n"
     ]
    }
   ],
   "source": [
    "# Create an empty list to store the inertia values\n",
    "inertia=[]\n",
    "\n",
    "# Create a for loop to compute the inertia with each possible value of k\n",
    "# Inside the loop:\n",
    "# 1. Create a KMeans model using the loop counter for the n_clusters\n",
    "# 2. Fit the model to the data using `df_market_data_scaled`\n",
    "# 3. Append the model.inertia_ to the inertia list\n",
    "for i in k:\n",
    "    k_model = KMeans(n_clusters=i, random_state=0)\n",
    "    k_model.fit(df_player_data_scaled)\n",
    "    inertia.append(k_model.inertia_)"
   ]
  },
  {
   "cell_type": "code",
   "execution_count": 115,
   "metadata": {},
   "outputs": [],
   "source": [
    "# Create a dictionary with the data to plot the Elbow curve\n",
    "elbow_data = {\"k_original\": k, \"inertia\": inertia}\n",
    "\n",
    "# Create a DataFrame with the data to plot the Elbow curve\n",
    "df_elbow_original = pd.DataFrame(elbow_data)"
   ]
  },
  {
   "cell_type": "code",
   "execution_count": 116,
   "metadata": {},
   "outputs": [
    {
     "data": {},
     "metadata": {},
     "output_type": "display_data"
    },
    {
     "data": {
      "application/vnd.holoviews_exec.v0+json": "",
      "text/html": [
       "<div id='23517'>\n",
       "  <div class=\"bk-root\" id=\"0f6643d3-c50c-45ff-a5ae-8aaf6f6cb454\" data-root-id=\"23517\"></div>\n",
       "</div>\n",
       "<script type=\"application/javascript\">(function(root) {\n",
       "  function embed_document(root) {\n",
       "    var docs_json = {\"d5f15920-fc4b-4d23-8c0a-b75e2ddf3d65\":{\"defs\":[{\"extends\":null,\"module\":null,\"name\":\"ReactiveHTML1\",\"overrides\":[],\"properties\":[]},{\"extends\":null,\"module\":null,\"name\":\"FlexBox1\",\"overrides\":[],\"properties\":[{\"default\":\"flex-start\",\"kind\":null,\"name\":\"align_content\"},{\"default\":\"flex-start\",\"kind\":null,\"name\":\"align_items\"},{\"default\":\"row\",\"kind\":null,\"name\":\"flex_direction\"},{\"default\":\"wrap\",\"kind\":null,\"name\":\"flex_wrap\"},{\"default\":\"flex-start\",\"kind\":null,\"name\":\"justify_content\"}]},{\"extends\":null,\"module\":null,\"name\":\"GridStack1\",\"overrides\":[],\"properties\":[{\"default\":\"warn\",\"kind\":null,\"name\":\"mode\"},{\"default\":null,\"kind\":null,\"name\":\"ncols\"},{\"default\":null,\"kind\":null,\"name\":\"nrows\"},{\"default\":true,\"kind\":null,\"name\":\"allow_resize\"},{\"default\":true,\"kind\":null,\"name\":\"allow_drag\"},{\"default\":[],\"kind\":null,\"name\":\"state\"}]},{\"extends\":null,\"module\":null,\"name\":\"click1\",\"overrides\":[],\"properties\":[{\"default\":\"\",\"kind\":null,\"name\":\"terminal_output\"},{\"default\":\"\",\"kind\":null,\"name\":\"debug_name\"},{\"default\":0,\"kind\":null,\"name\":\"clears\"}]},{\"extends\":null,\"module\":null,\"name\":\"NotificationAreaBase1\",\"overrides\":[],\"properties\":[{\"default\":\"bottom-right\",\"kind\":null,\"name\":\"position\"},{\"default\":0,\"kind\":null,\"name\":\"_clear\"}]},{\"extends\":null,\"module\":null,\"name\":\"NotificationArea1\",\"overrides\":[],\"properties\":[{\"default\":[],\"kind\":null,\"name\":\"notifications\"},{\"default\":\"bottom-right\",\"kind\":null,\"name\":\"position\"},{\"default\":0,\"kind\":null,\"name\":\"_clear\"},{\"default\":[{\"background\":\"#ffc107\",\"icon\":{\"className\":\"fas fa-exclamation-triangle\",\"color\":\"white\",\"tagName\":\"i\"},\"type\":\"warning\"},{\"background\":\"#007bff\",\"icon\":{\"className\":\"fas fa-info-circle\",\"color\":\"white\",\"tagName\":\"i\"},\"type\":\"info\"}],\"kind\":null,\"name\":\"types\"}]},{\"extends\":null,\"module\":null,\"name\":\"Notification\",\"overrides\":[],\"properties\":[{\"default\":null,\"kind\":null,\"name\":\"background\"},{\"default\":3000,\"kind\":null,\"name\":\"duration\"},{\"default\":null,\"kind\":null,\"name\":\"icon\"},{\"default\":\"\",\"kind\":null,\"name\":\"message\"},{\"default\":null,\"kind\":null,\"name\":\"notification_type\"},{\"default\":false,\"kind\":null,\"name\":\"_destroyed\"}]},{\"extends\":null,\"module\":null,\"name\":\"TemplateActions1\",\"overrides\":[],\"properties\":[{\"default\":0,\"kind\":null,\"name\":\"open_modal\"},{\"default\":0,\"kind\":null,\"name\":\"close_modal\"}]},{\"extends\":null,\"module\":null,\"name\":\"MaterialTemplateActions1\",\"overrides\":[],\"properties\":[{\"default\":0,\"kind\":null,\"name\":\"open_modal\"},{\"default\":0,\"kind\":null,\"name\":\"close_modal\"}]}],\"roots\":{\"references\":[{\"attributes\":{},\"id\":\"23528\",\"type\":\"LinearScale\"},{\"attributes\":{},\"id\":\"23562\",\"type\":\"BasicTickFormatter\"},{\"attributes\":{\"end\":19.0,\"reset_end\":19.0,\"reset_start\":1.0,\"start\":1.0,\"tags\":[[[\"k_original\",\"k_original\",null]]]},\"id\":\"23518\",\"type\":\"Range1d\"},{\"attributes\":{},\"id\":\"23526\",\"type\":\"LinearScale\"},{\"attributes\":{\"axis_label\":\"inertia\",\"coordinates\":null,\"formatter\":{\"id\":\"23567\"},\"group\":null,\"major_label_policy\":{\"id\":\"23568\"},\"ticker\":{\"id\":\"23535\"}},\"id\":\"23534\",\"type\":\"LinearAxis\"},{\"attributes\":{\"axis_label\":\"k_original\",\"coordinates\":null,\"formatter\":{\"id\":\"23562\"},\"group\":null,\"major_label_policy\":{\"id\":\"23563\"},\"ticker\":{\"id\":\"23560\"}},\"id\":\"23530\",\"type\":\"LinearAxis\"},{\"attributes\":{\"bottom_units\":\"screen\",\"coordinates\":null,\"fill_alpha\":0.5,\"fill_color\":\"lightgrey\",\"group\":null,\"left_units\":\"screen\",\"level\":\"overlay\",\"line_alpha\":1.0,\"line_color\":\"black\",\"line_dash\":[4,4],\"line_width\":2,\"right_units\":\"screen\",\"syncable\":false,\"top_units\":\"screen\"},\"id\":\"23543\",\"type\":\"BoxAnnotation\"},{\"attributes\":{},\"id\":\"23567\",\"type\":\"BasicTickFormatter\"},{\"attributes\":{\"coordinates\":null,\"data_source\":{\"id\":\"23551\"},\"glyph\":{\"id\":\"23554\"},\"group\":null,\"hover_glyph\":null,\"muted_glyph\":{\"id\":\"23556\"},\"nonselection_glyph\":{\"id\":\"23555\"},\"selection_glyph\":{\"id\":\"23559\"},\"view\":{\"id\":\"23558\"}},\"id\":\"23557\",\"type\":\"GlyphRenderer\"},{\"attributes\":{\"axis\":{\"id\":\"23534\"},\"coordinates\":null,\"dimension\":1,\"grid_line_color\":null,\"group\":null,\"ticker\":null},\"id\":\"23537\",\"type\":\"Grid\"},{\"attributes\":{\"callback\":null,\"renderers\":[{\"id\":\"23557\"}],\"tags\":[\"hv_created\"],\"tooltips\":[[\"k_original\",\"@{k_original}\"],[\"inertia\",\"@{inertia}\"]]},\"id\":\"23520\",\"type\":\"HoverTool\"},{\"attributes\":{},\"id\":\"23563\",\"type\":\"AllLabels\"},{\"attributes\":{\"line_color\":\"#30a2da\",\"line_width\":2,\"tags\":[\"apply_ranges\"],\"x\":{\"field\":\"k_original\"},\"y\":{\"field\":\"inertia\"}},\"id\":\"23559\",\"type\":\"Line\"},{\"attributes\":{\"children\":[{\"id\":\"23521\"}],\"height\":300,\"margin\":[0,0,0,0],\"name\":\"Row18270\",\"sizing_mode\":\"fixed\",\"tags\":[\"embedded\"],\"width\":700},\"id\":\"23517\",\"type\":\"Row\"},{\"attributes\":{\"below\":[{\"id\":\"23530\"}],\"center\":[{\"id\":\"23533\"},{\"id\":\"23537\"}],\"height\":300,\"left\":[{\"id\":\"23534\"}],\"margin\":[5,5,5,5],\"min_border_bottom\":10,\"min_border_left\":10,\"min_border_right\":10,\"min_border_top\":10,\"output_backend\":\"webgl\",\"renderers\":[{\"id\":\"23557\"}],\"sizing_mode\":\"fixed\",\"title\":{\"id\":\"23522\"},\"toolbar\":{\"id\":\"23544\"},\"width\":700,\"x_range\":{\"id\":\"23518\"},\"x_scale\":{\"id\":\"23526\"},\"y_range\":{\"id\":\"23519\"},\"y_scale\":{\"id\":\"23528\"}},\"id\":\"23521\",\"subtype\":\"Figure\",\"type\":\"Plot\"},{\"attributes\":{\"line_color\":\"#30a2da\",\"line_width\":2,\"tags\":[\"apply_ranges\"],\"x\":{\"field\":\"k_original\"},\"y\":{\"field\":\"inertia\"}},\"id\":\"23554\",\"type\":\"Line\"},{\"attributes\":{\"source\":{\"id\":\"23551\"}},\"id\":\"23558\",\"type\":\"CDSView\"},{\"attributes\":{},\"id\":\"23568\",\"type\":\"AllLabels\"},{\"attributes\":{},\"id\":\"23579\",\"type\":\"UnionRenderers\"},{\"attributes\":{},\"id\":\"23538\",\"type\":\"SaveTool\"},{\"attributes\":{},\"id\":\"23539\",\"type\":\"PanTool\"},{\"attributes\":{},\"id\":\"23552\",\"type\":\"Selection\"},{\"attributes\":{},\"id\":\"23542\",\"type\":\"ResetTool\"},{\"attributes\":{\"line_alpha\":0.2,\"line_color\":\"#30a2da\",\"line_width\":2,\"tags\":[\"apply_ranges\"],\"x\":{\"field\":\"k_original\"},\"y\":{\"field\":\"inertia\"}},\"id\":\"23556\",\"type\":\"Line\"},{\"attributes\":{},\"id\":\"23540\",\"type\":\"WheelZoomTool\"},{\"attributes\":{\"data\":{\"inertia\":{\"__ndarray__\":\"AAAAAABz00B+lPUzNYXKQGyHCYIM68ZA467wXKwJxEBCgZeJxNLCQB7ihvvz2cFAepL9Q4/dwECf/Lj5jzPAQLMp68CR/r5A7vP8HPPfvUCWfrvxAG28QNBGo9jJbrtAaMdyQqCNukD7a5y3VHy5QMRdBTj00rhASN66FnUPuEAzSOTQV023QPW5A6qF2rZAOfZB+8pVtkA=\",\"dtype\":\"float64\",\"order\":\"little\",\"shape\":[19]},\"k_original\":[1,2,3,4,5,6,7,8,9,10,11,12,13,14,15,16,17,18,19]},\"selected\":{\"id\":\"23552\"},\"selection_policy\":{\"id\":\"23579\"}},\"id\":\"23551\",\"type\":\"ColumnDataSource\"},{\"attributes\":{\"line_alpha\":0.1,\"line_color\":\"#30a2da\",\"line_width\":2,\"tags\":[\"apply_ranges\"],\"x\":{\"field\":\"k_original\"},\"y\":{\"field\":\"inertia\"}},\"id\":\"23555\",\"type\":\"Line\"},{\"attributes\":{\"overlay\":{\"id\":\"23543\"}},\"id\":\"23541\",\"type\":\"BoxZoomTool\"},{\"attributes\":{\"ticks\":[1,2,3,4,5,6,7,8,9,10,11,12,13,14,15,16,17,18,19]},\"id\":\"23560\",\"type\":\"FixedTicker\"},{\"attributes\":{\"axis\":{\"id\":\"23530\"},\"coordinates\":null,\"grid_line_color\":null,\"group\":null,\"ticker\":null},\"id\":\"23533\",\"type\":\"Grid\"},{\"attributes\":{\"active_drag\":{\"id\":\"23539\"},\"active_scroll\":{\"id\":\"23540\"},\"tools\":[{\"id\":\"23520\"},{\"id\":\"23538\"},{\"id\":\"23539\"},{\"id\":\"23540\"},{\"id\":\"23541\"},{\"id\":\"23542\"}]},\"id\":\"23544\",\"type\":\"Toolbar\"},{\"attributes\":{},\"id\":\"23535\",\"type\":\"BasicTicker\"},{\"attributes\":{\"end\":21335.820710361233,\"reset_end\":21335.820710361233,\"reset_start\":4297.972186026453,\"start\":4297.972186026453,\"tags\":[[[\"inertia\",\"inertia\",null]]]},\"id\":\"23519\",\"type\":\"Range1d\"},{\"attributes\":{\"coordinates\":null,\"group\":null,\"text\":\"Elbow Curve\",\"text_color\":\"black\",\"text_font_size\":\"12pt\"},\"id\":\"23522\",\"type\":\"Title\"}],\"root_ids\":[\"23517\"]},\"title\":\"Bokeh Application\",\"version\":\"2.4.3\"}};\n",
       "    var render_items = [{\"docid\":\"d5f15920-fc4b-4d23-8c0a-b75e2ddf3d65\",\"root_ids\":[\"23517\"],\"roots\":{\"23517\":\"0f6643d3-c50c-45ff-a5ae-8aaf6f6cb454\"}}];\n",
       "    root.Bokeh.embed.embed_items_notebook(docs_json, render_items);\n",
       "    for (const render_item of render_items) {\n",
       "      for (const root_id of render_item.root_ids) {\n",
       "\tconst id_el = document.getElementById(root_id)\n",
       "\tif (id_el.children.length && (id_el.children[0].className === 'bk-root')) {\n",
       "\t  const root_el = id_el.children[0]\n",
       "\t  root_el.id = root_el.id + '-rendered'\n",
       "\t}\n",
       "      }\n",
       "    }\n",
       "  }\n",
       "  if (root.Bokeh !== undefined && root.Bokeh.Panel !== undefined) {\n",
       "    embed_document(root);\n",
       "  } else {\n",
       "    var attempts = 0;\n",
       "    var timer = setInterval(function(root) {\n",
       "      if (root.Bokeh !== undefined && root.Bokeh.Panel !== undefined) {\n",
       "        clearInterval(timer);\n",
       "        embed_document(root);\n",
       "      } else if (document.readyState == \"complete\") {\n",
       "        attempts++;\n",
       "        if (attempts > 200) {\n",
       "          clearInterval(timer);\n",
       "          console.log(\"Bokeh: ERROR: Unable to run BokehJS code because BokehJS library is missing\");\n",
       "        }\n",
       "      }\n",
       "    }, 25, root)\n",
       "  }\n",
       "})(window);</script>"
      ],
      "text/plain": [
       ":Curve   [k_original]   (inertia)"
      ]
     },
     "execution_count": 116,
     "metadata": {
      "application/vnd.holoviews_exec.v0+json": {
       "id": "23517"
      }
     },
     "output_type": "execute_result"
    }
   ],
   "source": [
    "# Plot a line chart with all the inertia values computed with \n",
    "# the different values of k to visually identify the optimal value for k.\n",
    "elbow_plot = df_elbow_original.hvplot.line(\n",
    "    x=\"k_original\", \n",
    "    y=\"inertia\", \n",
    "    title=\"Elbow Curve\", \n",
    "    xticks=k\n",
    ")\n",
    "\n",
    "elbow_plot"
   ]
  },
  {
   "cell_type": "markdown",
   "metadata": {},
   "source": [
    "#### Answer the following question: \n",
    "\n",
    "**Question:** What is the best value for `k`?\n",
    "\n",
    "**Answer:6"
   ]
  },
  {
   "cell_type": "markdown",
   "metadata": {},
   "source": [
    "---"
   ]
  },
  {
   "cell_type": "markdown",
   "metadata": {},
   "source": [
    "### Cluster Cryptocurrencies with K-means Using the Original Data"
   ]
  },
  {
   "cell_type": "code",
   "execution_count": 117,
   "metadata": {},
   "outputs": [],
   "source": [
    "# Initialize the K-Means model using the best value for k\n",
    "model = KMeans(n_clusters=4, random_state=0)"
   ]
  },
  {
   "cell_type": "code",
   "execution_count": 118,
   "metadata": {},
   "outputs": [
    {
     "data": {
      "text/plain": [
       "KMeans(n_clusters=4, random_state=0)"
      ]
     },
     "execution_count": 118,
     "metadata": {},
     "output_type": "execute_result"
    }
   ],
   "source": [
    "# Fit the K-Means model using the scaled data\n",
    "model.fit(df_player_data_scaled)"
   ]
  },
  {
   "cell_type": "code",
   "execution_count": 119,
   "metadata": {},
   "outputs": [
    {
     "data": {
      "text/plain": [
       "array([3, 0, 2, 2, 2, 2, 2, 0, 3, 0, 0, 2, 2, 2, 0, 3, 2, 2, 3, 2, 0, 0,\n",
       "       0, 0, 0, 0, 0, 0, 0, 0, 3, 3, 3, 0, 0, 2, 0, 3, 2, 2, 0, 0, 2, 2,\n",
       "       3, 2, 2, 2, 2, 2, 0, 2, 2, 2, 2, 2, 2, 2, 0, 2, 3, 3, 0, 0, 0, 0,\n",
       "       0, 3, 0, 3, 0, 3, 0, 0, 0, 2, 2, 0, 0, 0, 3, 0, 0, 0, 0, 3, 0, 0,\n",
       "       0, 0, 0, 0, 0, 2, 2, 2, 2, 3, 0, 0, 0, 0, 0, 3, 3, 0, 0, 3, 0, 0,\n",
       "       3, 3, 0, 3, 3, 0, 3, 0, 0, 2, 3, 3, 0, 0, 2, 2, 2, 0, 2, 2, 2, 0,\n",
       "       2, 3, 2, 0, 0, 2, 0, 3, 0, 0, 0, 0, 0, 0, 0, 0, 0, 0, 2, 3, 2, 3,\n",
       "       0, 3, 3, 0, 0, 2, 0, 2, 2, 2, 2, 2, 2, 2, 2, 0, 2, 0, 3, 0, 3, 3,\n",
       "       0, 3, 3, 0, 0, 0, 0, 0, 0, 3, 3, 0, 0, 0, 3, 3, 0, 0, 3, 0, 2, 0,\n",
       "       3, 0, 3, 3, 0, 3, 3, 3, 3, 3, 3, 3, 3, 3, 0, 0, 0, 3, 3, 3, 3, 3,\n",
       "       3, 0, 0, 3, 0, 3, 0, 0, 0, 3, 3, 0, 2, 2, 2, 3, 0, 3, 0, 0, 3, 2,\n",
       "       0, 2, 2, 2, 2, 2, 2, 2, 2, 2, 2, 2, 2, 2, 3, 0, 0, 0, 3, 0, 2, 3,\n",
       "       3, 3, 0, 3, 3, 3, 0, 0, 3, 0, 0, 2, 0, 3, 3, 3, 3, 3, 0, 3, 3, 0,\n",
       "       2, 2, 2, 2, 2, 0, 0, 2, 3, 2, 2, 2, 2, 0, 0, 0, 0, 0, 0, 3, 3, 3,\n",
       "       3, 3, 0, 1, 0, 3, 1, 3, 3, 3, 3, 3, 3, 0, 0, 0, 1, 1, 1, 1, 1, 1,\n",
       "       3, 3, 0, 1, 1, 1, 1, 3, 2, 2, 2, 2, 3, 3, 0, 0, 3, 2, 0, 0, 3, 0,\n",
       "       3, 3, 3, 3, 3, 3, 0, 1, 0, 3, 2, 0, 2, 2, 0, 2, 2, 0, 0, 3, 0, 0,\n",
       "       0, 3, 0, 0, 3, 0, 0, 3, 3, 0, 3, 3, 3, 3, 3, 3, 3, 3, 0, 0, 0, 0,\n",
       "       0, 0, 0, 2, 2, 2, 2, 0, 0, 3, 3, 0, 0, 2, 0, 0, 0, 3, 3, 3, 3, 3,\n",
       "       3, 3, 3, 3, 3, 3, 0, 3, 0, 0, 0, 0, 0, 0, 0, 3, 3, 0, 3, 3, 3, 3,\n",
       "       3, 3, 3, 3, 3, 0, 3, 3, 3, 3, 0, 0, 2, 0, 0, 3, 3, 3, 0, 0, 3, 0,\n",
       "       3, 0, 0, 0, 0, 0, 0, 3, 3, 0, 3, 3, 0, 0, 3, 3, 0, 0, 0, 1, 1, 1,\n",
       "       1, 1, 1, 1, 1, 3, 1, 3, 3, 1, 1, 3, 1, 1, 3, 0, 0, 2, 2, 0, 3, 0,\n",
       "       3, 3, 3, 3, 0, 3, 3, 3, 3, 3, 3, 3, 3, 3, 3, 3, 3, 3, 3, 3, 3, 3,\n",
       "       0, 2, 2, 2, 2, 2, 2, 2, 2, 2, 2, 3, 2, 2, 2, 0, 2, 2, 3, 3, 3, 0,\n",
       "       0, 0, 3, 0, 3, 3, 3, 3, 3, 0, 3, 3, 3, 3, 3, 3, 3, 0, 0, 3, 0, 2,\n",
       "       0, 0, 3, 2, 0, 0, 3, 3, 3, 0, 0, 3, 0, 0, 0, 0, 3, 0, 0, 3, 0, 0,\n",
       "       3, 0, 3, 1, 1, 1, 1, 1, 1, 1, 1, 1, 1, 3, 1, 1, 1, 3, 3, 3, 3, 0,\n",
       "       0, 1, 1, 3, 0, 0, 0, 3, 3, 3, 1, 1, 1, 1, 0, 3, 3, 0, 3, 0, 0, 3,\n",
       "       3, 0, 0, 0, 2, 3, 3, 0, 0, 0, 3, 3, 3, 3, 3, 0, 0, 0, 0, 2, 0, 0,\n",
       "       0, 3, 0, 3, 3, 3, 1, 1, 1, 1, 3, 1, 1, 1, 0, 1, 1, 1, 3, 1, 3, 3,\n",
       "       0, 3, 3, 0, 0, 0, 0, 3, 0, 3, 3, 3, 3, 0, 0, 3, 3, 0, 3, 3, 3, 3,\n",
       "       3, 3, 0, 1, 2, 2, 3, 0, 0, 0, 0, 3, 3, 0, 3, 3, 3, 0, 3, 0, 0, 3,\n",
       "       3, 3, 0, 2, 0, 2, 2, 0, 2, 2, 0, 0, 3, 3, 0, 0, 3, 3, 3, 3, 3, 3,\n",
       "       3, 3, 3, 3, 3, 3, 3, 3, 0, 0, 0, 0, 3, 0, 0, 0, 0, 3])"
      ]
     },
     "execution_count": 119,
     "metadata": {},
     "output_type": "execute_result"
    }
   ],
   "source": [
    "# Predict the clusters to group the cryptocurrencies using the scaled data\n",
    "kmeans_predictions = model.predict(df_player_data_scaled)\n",
    "\n",
    "# Print the resulting array of cluster values.\n",
    "kmeans_predictions"
   ]
  },
  {
   "cell_type": "code",
   "execution_count": 120,
   "metadata": {},
   "outputs": [],
   "source": [
    "# Create a copy of the DataFrame\n",
    "df_player_data_scaled=df_player_data_scaled.copy()"
   ]
  },
  {
   "cell_type": "code",
   "execution_count": 121,
   "metadata": {},
   "outputs": [
    {
     "name": "stdout",
     "output_type": "stream",
     "text": [
      "<class 'pandas.core.frame.DataFrame'>\n",
      "Index: 766 entries, Pascal Siakam to Garrett Temple\n",
      "Data columns (total 28 columns):\n",
      " #   Column      Non-Null Count  Dtype  \n",
      "---  ------      --------------  -----  \n",
      " 0   PLAYER_ID   766 non-null    float64\n",
      " 1   SEASON_ID   766 non-null    float64\n",
      " 2   LEAGUE_ID   766 non-null    float64\n",
      " 3   TEAM_ID     766 non-null    float64\n",
      " 4   PLAYER_AGE  766 non-null    float64\n",
      " 5   GP          766 non-null    float64\n",
      " 6   GS          766 non-null    float64\n",
      " 7   MIN         766 non-null    float64\n",
      " 8   FGM         766 non-null    float64\n",
      " 9   FGA         766 non-null    float64\n",
      " 10  FG_PCT      766 non-null    float64\n",
      " 11  FG3M        766 non-null    float64\n",
      " 12  FG3A        766 non-null    float64\n",
      " 13  FG3_PCT     766 non-null    float64\n",
      " 14  FTM         766 non-null    float64\n",
      " 15  FTA         766 non-null    float64\n",
      " 16  FT_PCT      766 non-null    float64\n",
      " 17  OREB        766 non-null    float64\n",
      " 18  DREB        766 non-null    float64\n",
      " 19  REB         766 non-null    float64\n",
      " 20  AST         766 non-null    float64\n",
      " 21  STL         766 non-null    float64\n",
      " 22  BLK         766 non-null    float64\n",
      " 23  TOV         766 non-null    float64\n",
      " 24  PF          766 non-null    float64\n",
      " 25  PTS         766 non-null    float64\n",
      " 26  Salary      766 non-null    float64\n",
      " 27  Prediction  766 non-null    int32  \n",
      "dtypes: float64(27), int32(1)\n",
      "memory usage: 170.6+ KB\n"
     ]
    }
   ],
   "source": [
    "# Add a new column to the DataFrame with the predicted clusters\n",
    "df_player_data_scaled['Prediction']=kmeans_predictions\n",
    "\n",
    "# Display sample data\n",
    "df_player_data_scaled.info()"
   ]
  },
  {
   "cell_type": "code",
   "execution_count": 123,
   "metadata": {},
   "outputs": [
    {
     "data": {},
     "metadata": {},
     "output_type": "display_data"
    },
    {
     "data": {
      "application/vnd.holoviews_exec.v0+json": "",
      "text/html": [
       "<div id='23628'>\n",
       "  <div class=\"bk-root\" id=\"b22160a7-8724-42bb-8b8d-7a220d99fe1c\" data-root-id=\"23628\"></div>\n",
       "</div>\n",
       "<script type=\"application/javascript\">(function(root) {\n",
       "  function embed_document(root) {\n",
       "    var docs_json = {\"2ece77e9-4fc4-4d30-ae01-38a5ee188a5f\":{\"defs\":[{\"extends\":null,\"module\":null,\"name\":\"ReactiveHTML1\",\"overrides\":[],\"properties\":[]},{\"extends\":null,\"module\":null,\"name\":\"FlexBox1\",\"overrides\":[],\"properties\":[{\"default\":\"flex-start\",\"kind\":null,\"name\":\"align_content\"},{\"default\":\"flex-start\",\"kind\":null,\"name\":\"align_items\"},{\"default\":\"row\",\"kind\":null,\"name\":\"flex_direction\"},{\"default\":\"wrap\",\"kind\":null,\"name\":\"flex_wrap\"},{\"default\":\"flex-start\",\"kind\":null,\"name\":\"justify_content\"}]},{\"extends\":null,\"module\":null,\"name\":\"GridStack1\",\"overrides\":[],\"properties\":[{\"default\":\"warn\",\"kind\":null,\"name\":\"mode\"},{\"default\":null,\"kind\":null,\"name\":\"ncols\"},{\"default\":null,\"kind\":null,\"name\":\"nrows\"},{\"default\":true,\"kind\":null,\"name\":\"allow_resize\"},{\"default\":true,\"kind\":null,\"name\":\"allow_drag\"},{\"default\":[],\"kind\":null,\"name\":\"state\"}]},{\"extends\":null,\"module\":null,\"name\":\"click1\",\"overrides\":[],\"properties\":[{\"default\":\"\",\"kind\":null,\"name\":\"terminal_output\"},{\"default\":\"\",\"kind\":null,\"name\":\"debug_name\"},{\"default\":0,\"kind\":null,\"name\":\"clears\"}]},{\"extends\":null,\"module\":null,\"name\":\"NotificationAreaBase1\",\"overrides\":[],\"properties\":[{\"default\":\"bottom-right\",\"kind\":null,\"name\":\"position\"},{\"default\":0,\"kind\":null,\"name\":\"_clear\"}]},{\"extends\":null,\"module\":null,\"name\":\"NotificationArea1\",\"overrides\":[],\"properties\":[{\"default\":[],\"kind\":null,\"name\":\"notifications\"},{\"default\":\"bottom-right\",\"kind\":null,\"name\":\"position\"},{\"default\":0,\"kind\":null,\"name\":\"_clear\"},{\"default\":[{\"background\":\"#ffc107\",\"icon\":{\"className\":\"fas fa-exclamation-triangle\",\"color\":\"white\",\"tagName\":\"i\"},\"type\":\"warning\"},{\"background\":\"#007bff\",\"icon\":{\"className\":\"fas fa-info-circle\",\"color\":\"white\",\"tagName\":\"i\"},\"type\":\"info\"}],\"kind\":null,\"name\":\"types\"}]},{\"extends\":null,\"module\":null,\"name\":\"Notification\",\"overrides\":[],\"properties\":[{\"default\":null,\"kind\":null,\"name\":\"background\"},{\"default\":3000,\"kind\":null,\"name\":\"duration\"},{\"default\":null,\"kind\":null,\"name\":\"icon\"},{\"default\":\"\",\"kind\":null,\"name\":\"message\"},{\"default\":null,\"kind\":null,\"name\":\"notification_type\"},{\"default\":false,\"kind\":null,\"name\":\"_destroyed\"}]},{\"extends\":null,\"module\":null,\"name\":\"TemplateActions1\",\"overrides\":[],\"properties\":[{\"default\":0,\"kind\":null,\"name\":\"open_modal\"},{\"default\":0,\"kind\":null,\"name\":\"close_modal\"}]},{\"extends\":null,\"module\":null,\"name\":\"MaterialTemplateActions1\",\"overrides\":[],\"properties\":[{\"default\":0,\"kind\":null,\"name\":\"open_modal\"},{\"default\":0,\"kind\":null,\"name\":\"close_modal\"}]}],\"roots\":{\"references\":[{\"attributes\":{\"fill_color\":{\"value\":\"#fc4f30\"},\"hatch_color\":{\"value\":\"#fc4f30\"},\"line_color\":{\"value\":\"#fc4f30\"},\"size\":{\"value\":5.477225575051661},\"tags\":[\"apply_ranges\"],\"x\":{\"field\":\"Salary\"},\"y\":{\"field\":\"PLAYER_AGE\"}},\"id\":\"23695\",\"type\":\"Scatter\"},{\"attributes\":{\"overlay\":{\"id\":\"23657\"}},\"id\":\"23655\",\"type\":\"BoxZoomTool\"},{\"attributes\":{},\"id\":\"23649\",\"type\":\"BasicTicker\"},{\"attributes\":{\"angle\":{\"value\":0.0},\"fill_alpha\":{\"value\":1.0},\"fill_color\":{\"value\":\"#e5ae38\"},\"hatch_alpha\":{\"value\":1.0},\"hatch_color\":{\"value\":\"#e5ae38\"},\"hatch_scale\":{\"value\":12.0},\"hatch_weight\":{\"value\":1.0},\"line_alpha\":{\"value\":1.0},\"line_cap\":{\"value\":\"butt\"},\"line_color\":{\"value\":\"#e5ae38\"},\"line_dash\":{\"value\":[]},\"line_dash_offset\":{\"value\":0},\"line_join\":{\"value\":\"bevel\"},\"line_width\":{\"value\":1},\"marker\":{\"value\":\"circle\"},\"size\":{\"value\":5.477225575051661},\"tags\":[\"apply_ranges\"],\"x\":{\"field\":\"Salary\"},\"y\":{\"field\":\"PLAYER_AGE\"}},\"id\":\"23737\",\"type\":\"Scatter\"},{\"attributes\":{},\"id\":\"23656\",\"type\":\"ResetTool\"},{\"attributes\":{},\"id\":\"23667\",\"type\":\"AllLabels\"},{\"attributes\":{\"source\":{\"id\":\"23714\"}},\"id\":\"23721\",\"type\":\"CDSView\"},{\"attributes\":{},\"id\":\"23669\",\"type\":\"BasicTickFormatter\"},{\"attributes\":{\"active_drag\":{\"id\":\"23653\"},\"active_scroll\":{\"id\":\"23654\"},\"tools\":[{\"id\":\"23631\"},{\"id\":\"23652\"},{\"id\":\"23653\"},{\"id\":\"23654\"},{\"id\":\"23655\"},{\"id\":\"23656\"}]},\"id\":\"23658\",\"type\":\"Toolbar\"},{\"attributes\":{\"data\":{\"PLAYER_AGE\":{\"__ndarray__\":\"Z84WuZwi1r87RR4W1IW1v5JXD1xlv8Y/4eiWYdog3D/8EpMKAXHmPztFHhbUhbW/klcPXGW/xj/h6JZh2iDcP/wSkwoBceY/iLFa5JTR7j+/BVM24nHjv2sh8fSEGfK/S6QaEHbS67+/BVM24nHjv2fOFrmcIta/O0UeFtSFtb87RR4W1IW1v5JXD1xlv8Y/4eiWYdog3D/8EpMKAXHmP4ixWuSU0e4/S6QaEHbS67+/BVM24nHjv2fOFrmcIta/O0UeFtSFtb+SVw9cZb/GP+HolmHaINw//BKTCgFx5j+Wxtg4qPn7PztFHhbUhbW/klcPXGW/xj+/BVM24nHjv2fOFrmcIta/O0UeFtSFtb+SVw9cZb/GP78FUzbiceO/sfDU4c5J9r9rIfH0hBnyv0ukGhB20uu/Z84WuZwi1r87RR4W1IW1v5JXD1xlv8Y//BKTCgFx5j8KKBFfFJnzP+5K3hL5FABAiLFa5JTR7j9Q9/RLXsn3P2fOFrmcIta/klcPXGW/xj/h6JZh2iDcP/wSkwoBceY/iLFa5JTR7j8KKBFfFJnzP1D39Eteyfc/lsbYOKj5+z/uSt4S+RQAQDQawv9CRQRAS6QaEHbS679nzha5nCLWvztFHhbUhbW/klcPXGW/xj+IsVrklNHuP7Hw1OHOSfa/ayHx9IQZ8r9LpBoQdtLrv78FUzbiceO/Z84WuZwi1r87RR4W1IW1v5JXD1xlv8Y/4eiWYdog3D/8EpMKAXHmP4ixWuSU0e4/CigRXxSZ8z9Q9/RLXsn3P5bG2Dio+fs/ayHx9IQZ8r+IsVrklNHuP7Hw1OHOSfa/ayHx9IQZ8r9LpBoQdtLrv78FUzbiceO/Z84WuZwi1r87RR4W1IW1v5JXD1xlv8Y/klcPXGW/xj/h6JZh2iDcP/wSkwoBceY/vwVTNuJx479nzha5nCLWvztFHhbUhbW/klcPXGW/xj/8EpMKAXHmP2sh8fSEGfK/vwVTNuJx479nzha5nCLWv5JXD1xlv8Y/4eiWYdog3D9rIfH0hBnyv0ukGhB20uu/vwVTNuJx479nzha5nCLWv4ixWuSU0e4/S6QaEHbS67+/BVM24nHjv2fOFrmcIta/sfDU4c5J9r9rIfH0hBnyv0ukGhB20uu/vwVTNuJx479nzha5nCLWvztFHhbUhbW/klcPXGW/xj/h6JZh2iDcP/wSkwoBceY/iLFa5JTR7j8KKBFfFJnzPwooEV8UmfM/UPf0S17J9z9Q9/RLXsn3P5bG2Dio+fs/sfDU4c5J9r+/BVM24nHjv78FUzbiceO/iLFa5JTR7j9LpBoQdtLrv78FUzbiceO/vwVTNuJx4787RR4W1IW1v5JXD1xlv8Y//BKTCgFx5j+IsVrklNHuPw==\",\"dtype\":\"float64\",\"order\":\"little\",\"shape\":[131]},\"Player_Name\":[\"Pascal Siakam\",\"Pascal Siakam\",\"Pascal Siakam\",\"Pascal Siakam\",\"Pascal Siakam\",\"Buddy Hield\",\"Buddy Hield\",\"Buddy Hield\",\"Buddy Hield\",\"Buddy Hield\",\"Cedi Osman\",\"Tobias Harris\",\"Tobias Harris\",\"Tobias Harris\",\"Tobias Harris\",\"Tobias Harris\",\"Tobias Harris\",\"Tobias Harris\",\"Tobias Harris\",\"Tobias Harris\",\"Tobias Harris\",\"Klay Thompson\",\"Klay Thompson\",\"Klay Thompson\",\"Klay Thompson\",\"Klay Thompson\",\"Klay Thompson\",\"Klay Thompson\",\"Klay Thompson\",\"Marcus Morris Sr.\",\"Marcus Morris Sr.\",\"Gordon Hayward\",\"Gordon Hayward\",\"Gordon Hayward\",\"Gordon Hayward\",\"Lamar Stevens\",\"Mike Conley\",\"Mike Conley\",\"Mike Conley\",\"Mike Conley\",\"Mike Conley\",\"Mike Conley\",\"Mike Conley\",\"Mike Conley\",\"Mike Conley\",\"Kelly Olynyk\",\"Kelly Olynyk\",\"Kyle Lowry\",\"Kyle Lowry\",\"Kyle Lowry\",\"Kyle Lowry\",\"Kyle Lowry\",\"Kyle Lowry\",\"Kyle Lowry\",\"Kyle Lowry\",\"Kyle Lowry\",\"Kyle Lowry\",\"Gary Trent Jr.\",\"Spencer Dinwiddie\",\"Spencer Dinwiddie\",\"Spencer Dinwiddie\",\"Spencer Dinwiddie\",\"DeMar DeRozan\",\"DeMar DeRozan\",\"DeMar DeRozan\",\"DeMar DeRozan\",\"DeMar DeRozan\",\"DeMar DeRozan\",\"DeMar DeRozan\",\"DeMar DeRozan\",\"DeMar DeRozan\",\"DeMar DeRozan\",\"DeMar DeRozan\",\"DeMar DeRozan\",\"DeMar DeRozan\",\"Alec Burks\",\"Alec Burks\",\"Rudy Gay\",\"Rudy Gay\",\"Rudy Gay\",\"Rudy Gay\",\"Rudy Gay\",\"Rudy Gay\",\"Rudy Gay\",\"Rudy Gay\",\"Rudy Gay\",\"Rudy Gay\",\"Robert Covington\",\"Robert Covington\",\"Robert Covington\",\"Robert Covington\",\"Robert Covington\",\"Nicolas Batum\",\"Nicolas Batum\",\"Nicolas Batum\",\"Nicolas Batum\",\"Nicolas Batum\",\"Thaddeus Young\",\"Thaddeus Young\",\"Thaddeus Young\",\"Thaddeus Young\",\"Thaddeus Young\",\"Montrezl Harrell\",\"Otto Porter Jr.\",\"Otto Porter Jr.\",\"James Harden\",\"James Harden\",\"James Harden\",\"James Harden\",\"James Harden\",\"James Harden\",\"James Harden\",\"James Harden\",\"James Harden\",\"James Harden\",\"James Harden\",\"James Harden\",\"James Harden\",\"James Harden\",\"James Harden\",\"Coby White\",\"Taurean Prince\",\"Miles Bridges\",\"Justin Holiday\",\"Dario Saric\",\"Dario Saric\",\"Wesley Matthews\",\"Wesley Matthews\",\"Wesley Matthews\",\"Wesley Matthews\",\"Wesley Matthews\"],\"Prediction\":[2,2,2,2,2,2,2,2,2,2,2,2,2,2,2,2,2,2,2,2,2,2,2,2,2,2,2,2,2,2,2,2,2,2,2,2,2,2,2,2,2,2,2,2,2,2,2,2,2,2,2,2,2,2,2,2,2,2,2,2,2,2,2,2,2,2,2,2,2,2,2,2,2,2,2,2,2,2,2,2,2,2,2,2,2,2,2,2,2,2,2,2,2,2,2,2,2,2,2,2,2,2,2,2,2,2,2,2,2,2,2,2,2,2,2,2,2,2,2,2,2,2,2,2,2,2,2,2,2,2,2],\"Salary\":{\"__ndarray__\":\"XjxPF/Vh5r/gR/mq19fjvylxi7mJUQZAbyOsPqmrCEC01czDyAULQAjLbb5elNW/CMttvl6U1b8rGSu1aPEAQHSokdrl2Os/L+sPO+SV+j9YX7zdJKbhv2fsyvCzKuO/SOQaeIDu8j9I5Bp4gO7yP7hrdptln/A/T+ajfZWg7D9P5qN9laDsPwx+H94lawhAiNIsMF75CUAz3JtLk4wLQN3lCmfIHw1APrKj/+SH47/FoFGfcmjjv69buX65feC/Tshj1DRS7z/Rj1H/Q+bxP9dVO3rvIvQ/3Bsl9Zpf9j+i35oui/oPQCrrtIFCLNK/34GCFSQP1b8Zg8MqABbev2sE525ia+w/H9fK8x357j/pVFe8bMPwP5Z9KyXy5eS/KK6YdbG23L+0G05vkMPav8c1Epuq19K/fW0Lsj3QkT/TbkOuABLDP972/JFGhcQ/wQFdrahzAkCB8oxrKEgGQGi3I4hVPvo/cDic1VKa4j+For40CvPkP/mLqyMiCdW/Ck5u7UW4wb9XXqQiGNrhP1depCIY2uE/V16kIhja4T/u70h9iogEQHWns7fNYAhAlvwUF1seCkCb4xwY9UIGQIZ9IDhSLQRAU0LVpDoO8T/9CDj1GojpvzLRWBxMdua/5778zHb05b9ke1Enyh72P7lModyA4uK/hPqLmoUy5L8oJBWaqurev08l7mtQdtA/cBY3JYYU1T/ef1KfCnfVP8EBXa2ocwJAr98LOi6bA0Cv3ws6LpsDQEYbElkr8AFAr98LOi6bA0CMgWi6ou4BQC+YQUfRLgNA9mYCM6ba47+EMS6itWjUP5O+sgyXDOO/Tk1/Hthm4r9HDLwETGffv4kv74gRBug/JSKZQKs74j9QXCOMQILxP9wgz1N4Afc/wxFXIThn4z8TsuETqfvmP986QcWAFcA/0e4LYzrA67+u7iJV1Hrov67uIlXUeui/XLv7uV1r6L81oHlnY2LiP8AntgHrpuW/Z+3IpZVH3j9ajJ2icF/kPy4iAl4V/vk/+aIEFxcB/T/oNc/ZD8Hkv8q2FS7ROeS/icqnSMYp4b9Q5nOYmajEv+lSz7L8o+g/jAk0i2+q5r9Zco/sm5XGv7xlha1+wABAh93WQJmG179NVUZVBTfVvxbR2LCAt8e/uhz9fx9m6D8hzLGbe1rsP8M9s9trJ/A/wQFdrahzAkBjO7iT9iQEQAv0TOW1LwZAQ56ROSyrDUCNPv3P6U0QQI0+/c/pTRBAjT79z+lNEED5rTGDPcYRQIc2SBOxqghA8jbHgMKHy7+eSkzqWwHjv1y5StWK282/8uenv6NByb8GlSDUF2jjv55KTOpbAeO/J7z1AxfA1j88k9KWBbHOvymIaB5V/si/7XhBVCBo8T9/nQSD0tPyPw==\",\"dtype\":\"float64\",\"order\":\"little\",\"shape\":[131]}},\"selected\":{\"id\":\"23715\"},\"selection_policy\":{\"id\":\"23733\"}},\"id\":\"23714\",\"type\":\"ColumnDataSource\"},{\"attributes\":{},\"id\":\"23759\",\"type\":\"UnionRenderers\"},{\"attributes\":{\"bottom_units\":\"screen\",\"coordinates\":null,\"fill_alpha\":0.5,\"fill_color\":\"lightgrey\",\"group\":null,\"left_units\":\"screen\",\"level\":\"overlay\",\"line_alpha\":1.0,\"line_color\":\"black\",\"line_dash\":[4,4],\"line_width\":2,\"right_units\":\"screen\",\"syncable\":false,\"top_units\":\"screen\"},\"id\":\"23657\",\"type\":\"BoxAnnotation\"},{\"attributes\":{\"source\":{\"id\":\"23692\"}},\"id\":\"23699\",\"type\":\"CDSView\"},{\"attributes\":{\"source\":{\"id\":\"23738\"}},\"id\":\"23745\",\"type\":\"CDSView\"},{\"attributes\":{\"angle\":{\"value\":0.0},\"fill_alpha\":{\"value\":1.0},\"fill_color\":{\"value\":\"#6d904f\"},\"hatch_alpha\":{\"value\":1.0},\"hatch_color\":{\"value\":\"#6d904f\"},\"hatch_scale\":{\"value\":12.0},\"hatch_weight\":{\"value\":1.0},\"line_alpha\":{\"value\":1.0},\"line_cap\":{\"value\":\"butt\"},\"line_color\":{\"value\":\"#6d904f\"},\"line_dash\":{\"value\":[]},\"line_dash_offset\":{\"value\":0},\"line_join\":{\"value\":\"bevel\"},\"line_width\":{\"value\":1},\"marker\":{\"value\":\"circle\"},\"size\":{\"value\":5.477225575051661},\"tags\":[\"apply_ranges\"],\"x\":{\"field\":\"Salary\"},\"y\":{\"field\":\"PLAYER_AGE\"}},\"id\":\"23763\",\"type\":\"Scatter\"},{\"attributes\":{},\"id\":\"23693\",\"type\":\"Selection\"},{\"attributes\":{\"label\":{\"value\":\"3\"},\"renderers\":[{\"id\":\"23744\"}]},\"id\":\"23762\",\"type\":\"LegendItem\"},{\"attributes\":{\"fill_alpha\":{\"value\":0.1},\"fill_color\":{\"value\":\"#6d904f\"},\"hatch_alpha\":{\"value\":0.1},\"hatch_color\":{\"value\":\"#6d904f\"},\"line_alpha\":{\"value\":0.1},\"line_color\":{\"value\":\"#6d904f\"},\"size\":{\"value\":5.477225575051661},\"tags\":[\"apply_ranges\"],\"x\":{\"field\":\"Salary\"},\"y\":{\"field\":\"PLAYER_AGE\"}},\"id\":\"23742\",\"type\":\"Scatter\"},{\"attributes\":{\"end\":3.26682909879123,\"reset_end\":3.26682909879123,\"reset_start\":-2.3878187165161497,\"start\":-2.3878187165161497,\"tags\":[[[\"PLAYER_AGE\",\"PLAYER_AGE\",null]]]},\"id\":\"23630\",\"type\":\"Range1d\"},{\"attributes\":{\"coordinates\":null,\"data_source\":{\"id\":\"23738\"},\"glyph\":{\"id\":\"23741\"},\"group\":null,\"hover_glyph\":null,\"muted_glyph\":{\"id\":\"23743\"},\"nonselection_glyph\":{\"id\":\"23742\"},\"selection_glyph\":{\"id\":\"23763\"},\"view\":{\"id\":\"23745\"}},\"id\":\"23744\",\"type\":\"GlyphRenderer\"},{\"attributes\":{},\"id\":\"23715\",\"type\":\"Selection\"},{\"attributes\":{},\"id\":\"23739\",\"type\":\"Selection\"},{\"attributes\":{},\"id\":\"23733\",\"type\":\"UnionRenderers\"},{\"attributes\":{\"label\":{\"value\":\"2\"},\"renderers\":[{\"id\":\"23720\"}]},\"id\":\"23736\",\"type\":\"LegendItem\"},{\"attributes\":{\"data\":{\"PLAYER_AGE\":{\"__ndarray__\":\"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\",\"dtype\":\"float64\",\"order\":\"little\",\"shape\":[290]},\"Player_Name\":[\"Pascal Siakam\",\"Buddy Hield\",\"Buddy Hield\",\"Cedi Osman\",\"Tobias Harris\",\"Tobias Harris\",\"Tobias Harris\",\"Tobias Harris\",\"Tobias Harris\",\"Joe Harris\",\"Joe Harris\",\"Joe Harris\",\"Marcus Morris Sr.\",\"Marcus Morris Sr.\",\"Marcus Morris Sr.\",\"De'Anthony Melton\",\"Gordon Hayward\",\"Xavier Tillman\",\"Monte Morris\",\"Monte Morris\",\"Markelle Fultz\",\"Markelle Fultz\",\"Markelle Fultz\",\"Markelle Fultz\",\"Lamar Stevens\",\"Naji Marshall\",\"Naji Marshall\",\"Mike Conley\",\"Mike Conley\",\"Kelly Olynyk\",\"Kyle Lowry\",\"Kyle Lowry\",\"Kyle Lowry\",\"Doug McDermott\",\"Doug McDermott\",\"Doug McDermott\",\"Doug McDermott\",\"Doug McDermott\",\"Furkan Korkmaz\",\"Furkan Korkmaz\",\"Furkan Korkmaz\",\"Gary Trent Jr.\",\"Gary Trent Jr.\",\"Zach Collins\",\"Zach Collins\",\"Zach Collins\",\"Cameron Payne\",\"Cameron Payne\",\"Cameron Payne\",\"Cameron Payne\",\"Cameron Payne\",\"Cameron Payne\",\"Cameron Payne\",\"Cameron Payne\",\"Cameron Payne\",\"Reggie Bullock\",\"Reggie Bullock\",\"Reggie Bullock\",\"Reggie Bullock\",\"Reggie Bullock\",\"Reggie Bullock\",\"Reggie Bullock\",\"Reggie Bullock\",\"Spencer Dinwiddie\",\"Spencer Dinwiddie\",\"Spencer Dinwiddie\",\"Spencer Dinwiddie\",\"Spencer Dinwiddie\",\"Talen Horton-Tucker\",\"Alec Burks\",\"Alec Burks\",\"Alec Burks\",\"Alec Burks\",\"Alec Burks\",\"Alec Burks\",\"Alec Burks\",\"Alec Burks\",\"Khem Birch\",\"Khem Birch\",\"Khem Birch\",\"Khem Birch\",\"Khem Birch\",\"Khem Birch\",\"Khem Birch\",\"Rudy Gay\",\"Rudy Gay\",\"Jarred Vanderbilt\",\"Jarred Vanderbilt\",\"Jarred Vanderbilt\",\"Jarred Vanderbilt\",\"Jarred Vanderbilt\",\"Jordan McLaughlin\",\"Jordan McLaughlin\",\"Jordan McLaughlin\",\"Jordan McLaughlin\",\"Grayson Allen\",\"Grayson Allen\",\"Jonas Valanciunas\",\"Jonas Valanciunas\",\"Robert Covington\",\"Robert Covington\",\"Robert Covington\",\"Robert Covington\",\"Robert Covington\",\"Robert Covington\",\"Isaiah Hartenstein\",\"Isaiah Hartenstein\",\"Isaiah Hartenstein\",\"Isaiah Hartenstein\",\"Isaiah Hartenstein\",\"Nicolas Batum\",\"Nicolas Batum\",\"Malik Monk\",\"Malik Monk\",\"Danuel House Jr.\",\"Danuel House Jr.\",\"Danuel House Jr.\",\"Danuel House Jr.\",\"Danuel House Jr.\",\"Danuel House Jr.\",\"Danuel House Jr.\",\"Danuel House Jr.\",\"Tyus Jones\",\"Tyus Jones\",\"Thaddeus Young\",\"Thaddeus Young\",\"Thaddeus Young\",\"Thaddeus Young\",\"Thaddeus Young\",\"Thaddeus Young\",\"Thaddeus Young\",\"Thaddeus Young\",\"Thaddeus Young\",\"Patty Mills\",\"Patty Mills\",\"Patty Mills\",\"Patty Mills\",\"Patty Mills\",\"Patty Mills\",\"Nicolas Claxton\",\"Nicolas Claxton\",\"Damian Jones\",\"Damian Jones\",\"Damian Jones\",\"Damian Jones\",\"Damian Jones\",\"Damian Jones\",\"Damian Jones\",\"Damian Jones\",\"Damian Jones\",\"Damian Jones\",\"Damian Jones\",\"Montrezl Harrell\",\"Montrezl Harrell\",\"Montrezl Harrell\",\"Montrezl Harrell\",\"Kyle Anderson\",\"Kyle Anderson\",\"Delon Wright\",\"Delon Wright\",\"Delon Wright\",\"Delon Wright\",\"Delon Wright\",\"Delon Wright\",\"Andre Drummond\",\"Andre Drummond\",\"Andre Drummond\",\"Andre Drummond\",\"Otto Porter Jr.\",\"Otto Porter Jr.\",\"Otto Porter Jr.\",\"Otto Porter Jr.\",\"Otto Porter Jr.\",\"Otto Porter Jr.\",\"Otto Porter Jr.\",\"Jalen Smith\",\"Jalen Smith\",\"Jalen Smith\",\"Jalen Smith\",\"Jalen Smith\",\"Luke Kornet\",\"Luke Kornet\",\"Luke Kornet\",\"Luke Kornet\",\"Luke Kornet\",\"Luke Kornet\",\"Luke Kornet\",\"Luke Kornet\",\"Luke Kornet\",\"Luke Kornet\",\"Luke Kornet\",\"James Harden\",\"Mike Muscala\",\"Mike Muscala\",\"Mike Muscala\",\"Mike Muscala\",\"Mike Muscala\",\"Mike Muscala\",\"Mike Muscala\",\"Mike Muscala\",\"Mike Muscala\",\"Goga Bitadze\",\"Goga Bitadze\",\"Goga Bitadze\",\"Goga Bitadze\",\"Goga Bitadze\",\"Goga Bitadze\",\"Isaiah Roby\",\"Isaiah Roby\",\"Taurean Prince\",\"Taurean Prince\",\"Taurean Prince\",\"Taurean Prince\",\"Patrick Beverley\",\"Patrick Beverley\",\"Patrick Beverley\",\"Patrick Beverley\",\"DeAndre Jordan\",\"DeAndre Jordan\",\"DeAndre Jordan\",\"DeAndre Jordan\",\"DeAndre Jordan\",\"DeAndre Jordan\",\"Cody Zeller\",\"Cody Zeller\",\"Cody Zeller\",\"Alex Len\",\"Alex Len\",\"Alex Len\",\"Alex Len\",\"Alex Len\",\"Alex Len\",\"Lonnie Walker IV\",\"Lonnie Walker IV\",\"Justin Holiday\",\"Justin Holiday\",\"Justin Holiday\",\"Justin Holiday\",\"Justin Holiday\",\"Justin Holiday\",\"Justin Holiday\",\"Justin Holiday\",\"Justin Holiday\",\"Mason Plumlee\",\"Mason Plumlee\",\"Malik Beasley\",\"Malik Beasley\",\"Malik Beasley\",\"Malik Beasley\",\"Malik Beasley\",\"Mohamed Bamba\",\"Mohamed Bamba\",\"Mohamed Bamba\",\"Aaron Holiday\",\"Aaron Holiday\",\"Aaron Holiday\",\"Aaron Holiday\",\"Drew Eubanks\",\"Drew Eubanks\",\"Drew Eubanks\",\"Drew Eubanks\",\"Drew Eubanks\",\"Dario Saric\",\"Dario Saric\",\"Dario Saric\",\"Bol Bol\",\"Bol Bol\",\"Bol Bol\",\"Darius Bazley\",\"Darius Bazley\",\"Darius Bazley\",\"Darius Bazley\",\"Wesley Matthews\",\"Wesley Matthews\",\"Wesley Matthews\",\"Wesley Matthews\",\"Wesley Matthews\",\"Garrett Temple\",\"Garrett Temple\",\"Garrett Temple\",\"Garrett Temple\",\"Garrett Temple\",\"Garrett Temple\",\"Garrett Temple\",\"Garrett Temple\",\"Garrett Temple\",\"Garrett Temple\",\"Garrett Temple\",\"Garrett Temple\",\"Garrett Temple\"],\"Prediction\":[3,3,3,3,3,3,3,3,3,3,3,3,3,3,3,3,3,3,3,3,3,3,3,3,3,3,3,3,3,3,3,3,3,3,3,3,3,3,3,3,3,3,3,3,3,3,3,3,3,3,3,3,3,3,3,3,3,3,3,3,3,3,3,3,3,3,3,3,3,3,3,3,3,3,3,3,3,3,3,3,3,3,3,3,3,3,3,3,3,3,3,3,3,3,3,3,3,3,3,3,3,3,3,3,3,3,3,3,3,3,3,3,3,3,3,3,3,3,3,3,3,3,3,3,3,3,3,3,3,3,3,3,3,3,3,3,3,3,3,3,3,3,3,3,3,3,3,3,3,3,3,3,3,3,3,3,3,3,3,3,3,3,3,3,3,3,3,3,3,3,3,3,3,3,3,3,3,3,3,3,3,3,3,3,3,3,3,3,3,3,3,3,3,3,3,3,3,3,3,3,3,3,3,3,3,3,3,3,3,3,3,3,3,3,3,3,3,3,3,3,3,3,3,3,3,3,3,3,3,3,3,3,3,3,3,3,3,3,3,3,3,3,3,3,3,3,3,3,3,3,3,3,3,3,3,3,3,3,3,3,3,3,3,3,3,3,3,3,3,3,3,3,3,3,3,3,3,3,3,3,3,3,3,3,3,3,3,3,3,3],\"Salary\":{\"__ndarray__\":\"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\",\"dtype\":\"float64\",\"order\":\"little\",\"shape\":[290]}},\"selected\":{\"id\":\"23739\"},\"selection_policy\":{\"id\":\"23759\"}},\"id\":\"23738\",\"type\":\"ColumnDataSource\"},{\"attributes\":{\"label\":{\"value\":\"0\"},\"renderers\":[{\"id\":\"23677\"}]},\"id\":\"23690\",\"type\":\"LegendItem\"},{\"attributes\":{},\"id\":\"23670\",\"type\":\"AllLabels\"},{\"attributes\":{},\"id\":\"23654\",\"type\":\"WheelZoomTool\"},{\"attributes\":{\"fill_color\":{\"value\":\"#6d904f\"},\"hatch_color\":{\"value\":\"#6d904f\"},\"line_color\":{\"value\":\"#6d904f\"},\"size\":{\"value\":5.477225575051661},\"tags\":[\"apply_ranges\"],\"x\":{\"field\":\"Salary\"},\"y\":{\"field\":\"PLAYER_AGE\"}},\"id\":\"23741\",\"type\":\"Scatter\"},{\"attributes\":{},\"id\":\"23672\",\"type\":\"Selection\"},{\"attributes\":{},\"id\":\"23645\",\"type\":\"BasicTicker\"},{\"attributes\":{},\"id\":\"23666\",\"type\":\"BasicTickFormatter\"},{\"attributes\":{\"axis\":{\"id\":\"23644\"},\"coordinates\":null,\"grid_line_color\":null,\"group\":null,\"ticker\":null},\"id\":\"23647\",\"type\":\"Grid\"},{\"attributes\":{\"children\":[{\"id\":\"23635\"}],\"height\":300,\"margin\":[0,0,0,0],\"name\":\"Row18512\",\"sizing_mode\":\"fixed\",\"tags\":[\"embedded\"],\"width\":700},\"id\":\"23628\",\"type\":\"Row\"},{\"attributes\":{},\"id\":\"23640\",\"type\":\"LinearScale\"},{\"attributes\":{\"coordinates\":null,\"data_source\":{\"id\":\"23692\"},\"glyph\":{\"id\":\"23695\"},\"group\":null,\"hover_glyph\":null,\"muted_glyph\":{\"id\":\"23697\"},\"nonselection_glyph\":{\"id\":\"23696\"},\"selection_glyph\":{\"id\":\"23713\"},\"view\":{\"id\":\"23699\"}},\"id\":\"23698\",\"type\":\"GlyphRenderer\"},{\"attributes\":{\"coordinates\":null,\"group\":null,\"text_color\":\"black\",\"text_font_size\":\"12pt\"},\"id\":\"23636\",\"type\":\"Title\"},{\"attributes\":{\"source\":{\"id\":\"23671\"}},\"id\":\"23678\",\"type\":\"CDSView\"},{\"attributes\":{},\"id\":\"23642\",\"type\":\"LinearScale\"},{\"attributes\":{\"fill_alpha\":{\"value\":0.1},\"fill_color\":{\"value\":\"#fc4f30\"},\"hatch_alpha\":{\"value\":0.1},\"hatch_color\":{\"value\":\"#fc4f30\"},\"line_alpha\":{\"value\":0.1},\"line_color\":{\"value\":\"#fc4f30\"},\"size\":{\"value\":5.477225575051661},\"tags\":[\"apply_ranges\"],\"x\":{\"field\":\"Salary\"},\"y\":{\"field\":\"PLAYER_AGE\"}},\"id\":\"23696\",\"type\":\"Scatter\"},{\"attributes\":{\"axis_label\":\"PLAYER_AGE\",\"coordinates\":null,\"formatter\":{\"id\":\"23669\"},\"group\":null,\"major_label_policy\":{\"id\":\"23670\"},\"ticker\":{\"id\":\"23649\"}},\"id\":\"23648\",\"type\":\"LinearAxis\"},{\"attributes\":{\"data\":{\"PLAYER_AGE\":{\"__ndarray__\":\"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\",\"dtype\":\"float64\",\"order\":\"little\",\"shape\":[288]},\"Player_Name\":[\"Pascal Siakam\",\"Buddy Hield\",\"Buddy Hield\",\"Buddy Hield\",\"Buddy Hield\",\"Cedi Osman\",\"Cedi Osman\",\"Cedi Osman\",\"Cedi Osman\",\"Royce O'Neale\",\"Royce O'Neale\",\"Royce O'Neale\",\"Royce O'Neale\",\"Royce O'Neale\",\"Royce O'Neale\",\"Tobias Harris\",\"Tobias Harris\",\"Tobias Harris\",\"Tobias Harris\",\"Tobias Harris\",\"Klay Thompson\",\"Klay Thompson\",\"Joe Harris\",\"Joe Harris\",\"Joe Harris\",\"Joe Harris\",\"Joe Harris\",\"Joe Harris\",\"Marcus Morris Sr.\",\"Marcus Morris Sr.\",\"Marcus Morris Sr.\",\"Marcus Morris Sr.\",\"Marcus Morris Sr.\",\"Marcus Morris Sr.\",\"Marcus Morris Sr.\",\"Marcus Morris Sr.\",\"Marcus Morris Sr.\",\"Marcus Morris Sr.\",\"Marcus Morris Sr.\",\"De'Anthony Melton\",\"De'Anthony Melton\",\"De'Anthony Melton\",\"De'Anthony Melton\",\"Gordon Hayward\",\"Gordon Hayward\",\"Gordon Hayward\",\"Gordon Hayward\",\"Gordon Hayward\",\"Gordon Hayward\",\"Gordon Hayward\",\"Gordon Hayward\",\"Monte Morris\",\"Monte Morris\",\"Monte Morris\",\"Monte Morris\",\"Markelle Fultz\",\"Markelle Fultz\",\"Lamar Stevens\",\"Lamar Stevens\",\"Naji Marshall\",\"Mike Conley\",\"Mike Conley\",\"Mike Conley\",\"Mike Conley\",\"Mike Conley\",\"Mike Conley\",\"Mike Conley\",\"Kelly Olynyk\",\"Kelly Olynyk\",\"Kelly Olynyk\",\"Kelly Olynyk\",\"Kelly Olynyk\",\"Kelly Olynyk\",\"Kelly Olynyk\",\"Kelly Olynyk\",\"Kelly Olynyk\",\"Kyle Lowry\",\"Kyle Lowry\",\"Kyle Lowry\",\"Kyle Lowry\",\"Kyle Lowry\",\"Kyle Lowry\",\"Doug McDermott\",\"Doug McDermott\",\"Doug McDermott\",\"Doug McDermott\",\"Doug McDermott\",\"Doug McDermott\",\"Doug McDermott\",\"Doug McDermott\",\"Furkan Korkmaz\",\"Furkan Korkmaz\",\"Furkan Korkmaz\",\"Gary Trent Jr.\",\"Gary Trent Jr.\",\"Gary Trent Jr.\",\"Gary Trent Jr.\",\"Zach Collins\",\"Zach Collins\",\"Cameron Payne\",\"Cameron Payne\",\"Cameron Payne\",\"Reggie Bullock\",\"Reggie Bullock\",\"Reggie Bullock\",\"Reggie Bullock\",\"Reggie Bullock\",\"Reggie Bullock\",\"Spencer Dinwiddie\",\"Spencer Dinwiddie\",\"Spencer Dinwiddie\",\"Spencer Dinwiddie\",\"DeMar DeRozan\",\"Talen Horton-Tucker\",\"Talen Horton-Tucker\",\"Talen Horton-Tucker\",\"Alec Burks\",\"Alec Burks\",\"Alec Burks\",\"Alec Burks\",\"Alec Burks\",\"Alec Burks\",\"Alec Burks\",\"Khem Birch\",\"Rudy Gay\",\"Rudy Gay\",\"Rudy Gay\",\"Rudy Gay\",\"Rudy Gay\",\"Rudy Gay\",\"Rudy Gay\",\"Rudy Gay\",\"Rudy Gay\",\"Jarred Vanderbilt\",\"Jarred Vanderbilt\",\"Grayson Allen\",\"Grayson Allen\",\"Grayson Allen\",\"Jonas Valanciunas\",\"Robert Covington\",\"Robert Covington\",\"Robert Covington\",\"Robert Covington\",\"Robert Covington\",\"Isaiah Hartenstein\",\"Nicolas Batum\",\"Nicolas Batum\",\"Nicolas Batum\",\"Nicolas Batum\",\"Nicolas Batum\",\"Nicolas Batum\",\"Nicolas Batum\",\"Nicolas Batum\",\"Malik Monk\",\"Malik Monk\",\"Malik Monk\",\"Malik Monk\",\"Danuel House Jr.\",\"Tyus Jones\",\"Tyus Jones\",\"Tyus Jones\",\"Tyus Jones\",\"Tyus Jones\",\"Tyus Jones\",\"Thaddeus Young\",\"Thaddeus Young\",\"Thaddeus Young\",\"Thaddeus Young\",\"Thaddeus Young\",\"Thaddeus Young\",\"Thaddeus Young\",\"Thaddeus Young\",\"Patty Mills\",\"Patty Mills\",\"Patty Mills\",\"Patty Mills\",\"Patty Mills\",\"Patty Mills\",\"Patty Mills\",\"Patty Mills\",\"Nicolas Claxton\",\"Damian Jones\",\"Montrezl Harrell\",\"Montrezl Harrell\",\"Montrezl Harrell\",\"Montrezl Harrell\",\"Montrezl Harrell\",\"Montrezl Harrell\",\"Kyle Anderson\",\"Kyle Anderson\",\"Kyle Anderson\",\"Kyle Anderson\",\"Kyle Anderson\",\"Kyle Anderson\",\"Kyle Anderson\",\"Delon Wright\",\"Delon Wright\",\"Delon Wright\",\"Delon Wright\",\"Delon Wright\",\"Delon Wright\",\"Otto Porter Jr.\",\"Otto Porter Jr.\",\"Otto Porter Jr.\",\"Otto Porter Jr.\",\"Otto Porter Jr.\",\"James Harden\",\"James Harden\",\"Mike Muscala\",\"Mike Muscala\",\"Mike Muscala\",\"Mike Muscala\",\"Mike Muscala\",\"Isaiah Roby\",\"Isaiah Roby\",\"Coby White\",\"Coby White\",\"Coby White\",\"Taurean Prince\",\"Taurean Prince\",\"Taurean Prince\",\"Taurean Prince\",\"Patrick Beverley\",\"Patrick Beverley\",\"Patrick Beverley\",\"Patrick Beverley\",\"Patrick Beverley\",\"Patrick Beverley\",\"Patrick Beverley\",\"Patrick Beverley\",\"Patrick Beverley\",\"Cody Zeller\",\"Cody Zeller\",\"Cody Zeller\",\"Cody Zeller\",\"Cody Zeller\",\"Alex Len\",\"Alex Len\",\"Alex Len\",\"Alex Len\",\"Miles Bridges\",\"Miles Bridges\",\"Miles Bridges\",\"Lonnie Walker IV\",\"Lonnie Walker IV\",\"Lonnie Walker IV\",\"Justin Holiday\",\"Justin Holiday\",\"Justin Holiday\",\"Justin Holiday\",\"Justin Holiday\",\"Justin Holiday\",\"Justin Holiday\",\"Justin Holiday\",\"Mason Plumlee\",\"Malik Beasley\",\"Malik Beasley\",\"Malik Beasley\",\"Malik Beasley\",\"Malik Beasley\",\"Malik Beasley\",\"Aaron Holiday\",\"Aaron Holiday\",\"Aaron Holiday\",\"Drew Eubanks\",\"Dario Saric\",\"Dario Saric\",\"Dario Saric\",\"Dario Saric\",\"Dario Saric\",\"Bol Bol\",\"Darius Bazley\",\"Darius Bazley\",\"Wesley Matthews\",\"Wesley Matthews\",\"Wesley Matthews\",\"Wesley Matthews\",\"Wesley Matthews\",\"Wesley Matthews\",\"Wesley Matthews\",\"Garrett Temple\",\"Garrett Temple\",\"Garrett Temple\",\"Garrett Temple\",\"Garrett Temple\",\"Garrett Temple\",\"Garrett Temple\",\"Garrett Temple\"],\"Prediction\":[0,0,0,0,0,0,0,0,0,0,0,0,0,0,0,0,0,0,0,0,0,0,0,0,0,0,0,0,0,0,0,0,0,0,0,0,0,0,0,0,0,0,0,0,0,0,0,0,0,0,0,0,0,0,0,0,0,0,0,0,0,0,0,0,0,0,0,0,0,0,0,0,0,0,0,0,0,0,0,0,0,0,0,0,0,0,0,0,0,0,0,0,0,0,0,0,0,0,0,0,0,0,0,0,0,0,0,0,0,0,0,0,0,0,0,0,0,0,0,0,0,0,0,0,0,0,0,0,0,0,0,0,0,0,0,0,0,0,0,0,0,0,0,0,0,0,0,0,0,0,0,0,0,0,0,0,0,0,0,0,0,0,0,0,0,0,0,0,0,0,0,0,0,0,0,0,0,0,0,0,0,0,0,0,0,0,0,0,0,0,0,0,0,0,0,0,0,0,0,0,0,0,0,0,0,0,0,0,0,0,0,0,0,0,0,0,0,0,0,0,0,0,0,0,0,0,0,0,0,0,0,0,0,0,0,0,0,0,0,0,0,0,0,0,0,0,0,0,0,0,0,0,0,0,0,0,0,0,0,0,0,0,0,0,0,0,0,0,0,0,0,0,0,0,0,0,0,0,0,0,0,0,0,0,0,0,0,0],\"Salary\":{\"__ndarray__\":\"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\",\"dtype\":\"float64\",\"order\":\"little\",\"shape\":[288]}},\"selected\":{\"id\":\"23672\"},\"selection_policy\":{\"id\":\"23686\"}},\"id\":\"23671\",\"type\":\"ColumnDataSource\"},{\"attributes\":{\"axis_label\":\"Salary\",\"coordinates\":null,\"formatter\":{\"id\":\"23666\"},\"group\":null,\"major_label_policy\":{\"id\":\"23667\"},\"ticker\":{\"id\":\"23645\"}},\"id\":\"23644\",\"type\":\"LinearAxis\"},{\"attributes\":{\"fill_alpha\":{\"value\":0.2},\"fill_color\":{\"value\":\"#30a2da\"},\"hatch_alpha\":{\"value\":0.2},\"hatch_color\":{\"value\":\"#30a2da\"},\"line_alpha\":{\"value\":0.2},\"line_color\":{\"value\":\"#30a2da\"},\"size\":{\"value\":5.477225575051661},\"tags\":[\"apply_ranges\"],\"x\":{\"field\":\"Salary\"},\"y\":{\"field\":\"PLAYER_AGE\"}},\"id\":\"23676\",\"type\":\"Scatter\"},{\"attributes\":{\"fill_alpha\":{\"value\":0.1},\"fill_color\":{\"value\":\"#e5ae38\"},\"hatch_alpha\":{\"value\":0.1},\"hatch_color\":{\"value\":\"#e5ae38\"},\"line_alpha\":{\"value\":0.1},\"line_color\":{\"value\":\"#e5ae38\"},\"size\":{\"value\":5.477225575051661},\"tags\":[\"apply_ranges\"],\"x\":{\"field\":\"Salary\"},\"y\":{\"field\":\"PLAYER_AGE\"}},\"id\":\"23718\",\"type\":\"Scatter\"},{\"attributes\":{\"axis\":{\"id\":\"23648\"},\"coordinates\":null,\"dimension\":1,\"grid_line_color\":null,\"group\":null,\"ticker\":null},\"id\":\"23651\",\"type\":\"Grid\"},{\"attributes\":{\"callback\":null,\"renderers\":[{\"id\":\"23677\"},{\"id\":\"23698\"},{\"id\":\"23720\"},{\"id\":\"23744\"}],\"tags\":[\"hv_created\"],\"tooltips\":[[\"Prediction\",\"@{Prediction}\"],[\"Salary\",\"@{Salary}\"],[\"PLAYER_AGE\",\"@{PLAYER_AGE}\"],[\"Player_Name\",\"@{Player_Name}\"]]},\"id\":\"23631\",\"type\":\"HoverTool\"},{\"attributes\":{\"fill_color\":{\"value\":\"#e5ae38\"},\"hatch_color\":{\"value\":\"#e5ae38\"},\"line_color\":{\"value\":\"#e5ae38\"},\"size\":{\"value\":5.477225575051661},\"tags\":[\"apply_ranges\"],\"x\":{\"field\":\"Salary\"},\"y\":{\"field\":\"PLAYER_AGE\"}},\"id\":\"23717\",\"type\":\"Scatter\"},{\"attributes\":{\"coordinates\":null,\"data_source\":{\"id\":\"23671\"},\"glyph\":{\"id\":\"23674\"},\"group\":null,\"hover_glyph\":null,\"muted_glyph\":{\"id\":\"23676\"},\"nonselection_glyph\":{\"id\":\"23675\"},\"selection_glyph\":{\"id\":\"23691\"},\"view\":{\"id\":\"23678\"}},\"id\":\"23677\",\"type\":\"GlyphRenderer\"},{\"attributes\":{\"fill_alpha\":{\"value\":0.2},\"fill_color\":{\"value\":\"#6d904f\"},\"hatch_alpha\":{\"value\":0.2},\"hatch_color\":{\"value\":\"#6d904f\"},\"line_alpha\":{\"value\":0.2},\"line_color\":{\"value\":\"#6d904f\"},\"size\":{\"value\":5.477225575051661},\"tags\":[\"apply_ranges\"],\"x\":{\"field\":\"Salary\"},\"y\":{\"field\":\"PLAYER_AGE\"}},\"id\":\"23743\",\"type\":\"Scatter\"},{\"attributes\":{\"click_policy\":\"mute\",\"coordinates\":null,\"group\":null,\"items\":[{\"id\":\"23690\"},{\"id\":\"23712\"},{\"id\":\"23736\"},{\"id\":\"23762\"}],\"location\":[0,0],\"title\":\"Prediction\"},\"id\":\"23689\",\"type\":\"Legend\"},{\"attributes\":{\"fill_alpha\":{\"value\":0.2},\"fill_color\":{\"value\":\"#fc4f30\"},\"hatch_alpha\":{\"value\":0.2},\"hatch_color\":{\"value\":\"#fc4f30\"},\"line_alpha\":{\"value\":0.2},\"line_color\":{\"value\":\"#fc4f30\"},\"size\":{\"value\":5.477225575051661},\"tags\":[\"apply_ranges\"],\"x\":{\"field\":\"Salary\"},\"y\":{\"field\":\"PLAYER_AGE\"}},\"id\":\"23697\",\"type\":\"Scatter\"},{\"attributes\":{\"angle\":{\"value\":0.0},\"fill_alpha\":{\"value\":1.0},\"fill_color\":{\"value\":\"#fc4f30\"},\"hatch_alpha\":{\"value\":1.0},\"hatch_color\":{\"value\":\"#fc4f30\"},\"hatch_scale\":{\"value\":12.0},\"hatch_weight\":{\"value\":1.0},\"line_alpha\":{\"value\":1.0},\"line_cap\":{\"value\":\"butt\"},\"line_color\":{\"value\":\"#fc4f30\"},\"line_dash\":{\"value\":[]},\"line_dash_offset\":{\"value\":0},\"line_join\":{\"value\":\"bevel\"},\"line_width\":{\"value\":1},\"marker\":{\"value\":\"circle\"},\"size\":{\"value\":5.477225575051661},\"tags\":[\"apply_ranges\"],\"x\":{\"field\":\"Salary\"},\"y\":{\"field\":\"PLAYER_AGE\"}},\"id\":\"23713\",\"type\":\"Scatter\"},{\"attributes\":{},\"id\":\"23709\",\"type\":\"UnionRenderers\"},{\"attributes\":{\"fill_alpha\":{\"value\":0.1},\"fill_color\":{\"value\":\"#30a2da\"},\"hatch_alpha\":{\"value\":0.1},\"hatch_color\":{\"value\":\"#30a2da\"},\"line_alpha\":{\"value\":0.1},\"line_color\":{\"value\":\"#30a2da\"},\"size\":{\"value\":5.477225575051661},\"tags\":[\"apply_ranges\"],\"x\":{\"field\":\"Salary\"},\"y\":{\"field\":\"PLAYER_AGE\"}},\"id\":\"23675\",\"type\":\"Scatter\"},{\"attributes\":{\"end\":4.671834515205115,\"reset_end\":4.671834515205115,\"reset_start\":-1.1102578659058135,\"start\":-1.1102578659058135,\"tags\":[[[\"Salary\",\"Salary\",null]]]},\"id\":\"23629\",\"type\":\"Range1d\"},{\"attributes\":{\"angle\":{\"value\":0.0},\"fill_alpha\":{\"value\":1.0},\"fill_color\":{\"value\":\"#30a2da\"},\"hatch_alpha\":{\"value\":1.0},\"hatch_color\":{\"value\":\"#30a2da\"},\"hatch_scale\":{\"value\":12.0},\"hatch_weight\":{\"value\":1.0},\"line_alpha\":{\"value\":1.0},\"line_cap\":{\"value\":\"butt\"},\"line_color\":{\"value\":\"#30a2da\"},\"line_dash\":{\"value\":[]},\"line_dash_offset\":{\"value\":0},\"line_join\":{\"value\":\"bevel\"},\"line_width\":{\"value\":1},\"marker\":{\"value\":\"circle\"},\"size\":{\"value\":5.477225575051661},\"tags\":[\"apply_ranges\"],\"x\":{\"field\":\"Salary\"},\"y\":{\"field\":\"PLAYER_AGE\"}},\"id\":\"23691\",\"type\":\"Scatter\"},{\"attributes\":{},\"id\":\"23652\",\"type\":\"SaveTool\"},{\"attributes\":{\"fill_alpha\":{\"value\":0.2},\"fill_color\":{\"value\":\"#e5ae38\"},\"hatch_alpha\":{\"value\":0.2},\"hatch_color\":{\"value\":\"#e5ae38\"},\"line_alpha\":{\"value\":0.2},\"line_color\":{\"value\":\"#e5ae38\"},\"size\":{\"value\":5.477225575051661},\"tags\":[\"apply_ranges\"],\"x\":{\"field\":\"Salary\"},\"y\":{\"field\":\"PLAYER_AGE\"}},\"id\":\"23719\",\"type\":\"Scatter\"},{\"attributes\":{},\"id\":\"23653\",\"type\":\"PanTool\"},{\"attributes\":{},\"id\":\"23686\",\"type\":\"UnionRenderers\"},{\"attributes\":{\"coordinates\":null,\"data_source\":{\"id\":\"23714\"},\"glyph\":{\"id\":\"23717\"},\"group\":null,\"hover_glyph\":null,\"muted_glyph\":{\"id\":\"23719\"},\"nonselection_glyph\":{\"id\":\"23718\"},\"selection_glyph\":{\"id\":\"23737\"},\"view\":{\"id\":\"23721\"}},\"id\":\"23720\",\"type\":\"GlyphRenderer\"},{\"attributes\":{\"label\":{\"value\":\"1\"},\"renderers\":[{\"id\":\"23698\"}]},\"id\":\"23712\",\"type\":\"LegendItem\"},{\"attributes\":{\"below\":[{\"id\":\"23644\"}],\"center\":[{\"id\":\"23647\"},{\"id\":\"23651\"}],\"height\":300,\"left\":[{\"id\":\"23648\"}],\"margin\":[5,5,5,5],\"min_border_bottom\":10,\"min_border_left\":10,\"min_border_right\":10,\"min_border_top\":10,\"output_backend\":\"webgl\",\"renderers\":[{\"id\":\"23677\"},{\"id\":\"23698\"},{\"id\":\"23720\"},{\"id\":\"23744\"}],\"right\":[{\"id\":\"23689\"}],\"sizing_mode\":\"fixed\",\"title\":{\"id\":\"23636\"},\"toolbar\":{\"id\":\"23658\"},\"width\":700,\"x_range\":{\"id\":\"23629\"},\"x_scale\":{\"id\":\"23640\"},\"y_range\":{\"id\":\"23630\"},\"y_scale\":{\"id\":\"23642\"}},\"id\":\"23635\",\"subtype\":\"Figure\",\"type\":\"Plot\"},{\"attributes\":{\"data\":{\"PLAYER_AGE\":{\"__ndarray__\":\"S6QaEHbS67+/BVM24nHjv7Hw1OHOSfa/ayHx9IQZ8r9LpBoQdtLrv78FUzbiceO/Z84WuZwi1r87RR4W1IW1v+HolmHaINw//BKTCgFx5j+IsVrklNHuPwooEV8UmfM/Z84WuZwi1r89j5y7Yqr+v/e/uM4Yevq/sfDU4c5J9r9rIfH0hBnyv0ukGhB20uu/vwVTNuJx479nzha5nCLWvztFHhbUhbW/O0UeFtSFtb+SVw9cZb/GP+HolmHaINw/4eiWYdog3D/8EpMKAXHmP7Hw1OHOSfa/ayHx9IQZ8r9LpBoQdtLrv78FUzbiceO/Z84WuZwi1r87RR4W1IW1v5JXD1xlv8Y/4eiWYdog3D/8EpMKAXHmP4ixWuSU0e4/iLFa5JTR7j8KKBFfFJnzP1D39Eteyfc/S6QaEHbS67+/BVM24nHjv2sh8fSEGfK/S6QaEHbS67+/BVM24nHjv2fOFrmcIta/vwVTNuJx479nzha5nCLWvztFHhbUhbW/klcPXGW/xj+SVw9cZb/GP+HolmHaINw//BKTCgFx5j8KKBFfFJnzP1D39Eteyfc/lsbYOKj5+z+Wxtg4qPn7PztFHhbUhbW/\",\"dtype\":\"float64\",\"order\":\"little\",\"shape\":[57]},\"Player_Name\":[\"Jarred Vanderbilt\",\"Jarred Vanderbilt\",\"Jonas Valanciunas\",\"Jonas Valanciunas\",\"Jonas Valanciunas\",\"Jonas Valanciunas\",\"Jonas Valanciunas\",\"Jonas Valanciunas\",\"Jonas Valanciunas\",\"Jonas Valanciunas\",\"Jonas Valanciunas\",\"Jonas Valanciunas\",\"Isaiah Hartenstein\",\"Andre Drummond\",\"Andre Drummond\",\"Andre Drummond\",\"Andre Drummond\",\"Andre Drummond\",\"Andre Drummond\",\"Andre Drummond\",\"Andre Drummond\",\"Andre Drummond\",\"Andre Drummond\",\"Andre Drummond\",\"Andre Drummond\",\"Andre Drummond\",\"DeAndre Jordan\",\"DeAndre Jordan\",\"DeAndre Jordan\",\"DeAndre Jordan\",\"DeAndre Jordan\",\"DeAndre Jordan\",\"DeAndre Jordan\",\"DeAndre Jordan\",\"DeAndre Jordan\",\"DeAndre Jordan\",\"DeAndre Jordan\",\"DeAndre Jordan\",\"DeAndre Jordan\",\"Cody Zeller\",\"Cody Zeller\",\"Alex Len\",\"Alex Len\",\"Alex Len\",\"Alex Len\",\"Mason Plumlee\",\"Mason Plumlee\",\"Mason Plumlee\",\"Mason Plumlee\",\"Mason Plumlee\",\"Mason Plumlee\",\"Mason Plumlee\",\"Mason Plumlee\",\"Mason Plumlee\",\"Mason Plumlee\",\"Mason Plumlee\",\"Drew Eubanks\"],\"Prediction\":[1,1,1,1,1,1,1,1,1,1,1,1,1,1,1,1,1,1,1,1,1,1,1,1,1,1,1,1,1,1,1,1,1,1,1,1,1,1,1,1,1,1,1,1,1,1,1,1,1,1,1,1,1,1,1,1,1],\"Salary\":{\"__ndarray__\":\"Yetc/hho178Lr+DwlfHUvw3lkZjJrt6/TzNVOrCD3b+8eaJUWljcv1rU7p86ydS/F8cMcs0E6z+ofPefdivvPyq52nGeZe0/5JrIrHGM6T/ifIgDET7sPy0qBYUrEu8/hgsaBvysuT/fu4z1nULjv7w2wxMc2uK/g7W0dbhx4r9O3lTL2Hjfv9hBwV5uZPw/vHosdYOV/z9J+e9VTGMBQPNZNmDDjsk/RwoA67DQA0BmHRrkTzjmv0ffx9ZxA+C/Y6DRJqLL3r9joNEmosvev6oGPneAfum/0pANH0gK6b+1GpVT8evUP+or5t+jadg/Hj03bFbn2z8fSql5CWXfP7MgVvRzW/c/MrZei/GP+j9iwJzIVWf9P/Sd9/ne5P0/vLkowrQz1z+CHPwoXqyvP130JAh6KeK/729InkNM2L8Y/ifJJHLPv5i557xjkNy/eafrjqZa279qOsHByYfTvxn4UdP5bNi/cIlt5p1U57+uFqkNCxvnv+2j5DR44ea/+gaoGNk36b9KYDtI7rTpP9Lx0LBLYuU/aZhccl9U5j+ksQyy2ea3P98Zmed06uW/Efk6nDI04b8q67SBQizSv3IpxPoBweS/\",\"dtype\":\"float64\",\"order\":\"little\",\"shape\":[57]}},\"selected\":{\"id\":\"23693\"},\"selection_policy\":{\"id\":\"23709\"}},\"id\":\"23692\",\"type\":\"ColumnDataSource\"},{\"attributes\":{\"fill_color\":{\"value\":\"#30a2da\"},\"hatch_color\":{\"value\":\"#30a2da\"},\"line_color\":{\"value\":\"#30a2da\"},\"size\":{\"value\":5.477225575051661},\"tags\":[\"apply_ranges\"],\"x\":{\"field\":\"Salary\"},\"y\":{\"field\":\"PLAYER_AGE\"}},\"id\":\"23674\",\"type\":\"Scatter\"}],\"root_ids\":[\"23628\"]},\"title\":\"Bokeh Application\",\"version\":\"2.4.3\"}};\n",
       "    var render_items = [{\"docid\":\"2ece77e9-4fc4-4d30-ae01-38a5ee188a5f\",\"root_ids\":[\"23628\"],\"roots\":{\"23628\":\"b22160a7-8724-42bb-8b8d-7a220d99fe1c\"}}];\n",
       "    root.Bokeh.embed.embed_items_notebook(docs_json, render_items);\n",
       "    for (const render_item of render_items) {\n",
       "      for (const root_id of render_item.root_ids) {\n",
       "\tconst id_el = document.getElementById(root_id)\n",
       "\tif (id_el.children.length && (id_el.children[0].className === 'bk-root')) {\n",
       "\t  const root_el = id_el.children[0]\n",
       "\t  root_el.id = root_el.id + '-rendered'\n",
       "\t}\n",
       "      }\n",
       "    }\n",
       "  }\n",
       "  if (root.Bokeh !== undefined && root.Bokeh.Panel !== undefined) {\n",
       "    embed_document(root);\n",
       "  } else {\n",
       "    var attempts = 0;\n",
       "    var timer = setInterval(function(root) {\n",
       "      if (root.Bokeh !== undefined && root.Bokeh.Panel !== undefined) {\n",
       "        clearInterval(timer);\n",
       "        embed_document(root);\n",
       "      } else if (document.readyState == \"complete\") {\n",
       "        attempts++;\n",
       "        if (attempts > 200) {\n",
       "          clearInterval(timer);\n",
       "          console.log(\"Bokeh: ERROR: Unable to run BokehJS code because BokehJS library is missing\");\n",
       "        }\n",
       "      }\n",
       "    }, 25, root)\n",
       "  }\n",
       "})(window);</script>"
      ],
      "text/plain": [
       ":NdOverlay   [Prediction]\n",
       "   :Scatter   [Salary]   (PLAYER_AGE,Player_Name)"
      ]
     },
     "execution_count": 123,
     "metadata": {
      "application/vnd.holoviews_exec.v0+json": {
       "id": "23628"
      }
     },
     "output_type": "execute_result"
    }
   ],
   "source": [
    "# Create a scatter plot using hvPlot by setting \n",
    "# `x=\"price_change_percentage_24h\"` and `y=\"price_change_percentage_7d\"`. \n",
    "# Color the graph points with the labels found using K-Means and \n",
    "# add the crypto name in the `hover_cols` parameter to identify \n",
    "# the cryptocurrency represented by each data point.\n",
    "player_scaled_plot=df_player_data_scaled.hvplot.scatter(\n",
    "                    x=\"Salary\",\n",
    "                    y=\"PLAYER_AGE\",\n",
    "                    by=\"Prediction\",\n",
    "                    hover_cols=['Player_Name']\n",
    "                )\n",
    "\n",
    "player_scaled_plot"
   ]
  },
  {
   "cell_type": "markdown",
   "metadata": {},
   "source": [
    "---"
   ]
  },
  {
   "cell_type": "markdown",
   "metadata": {},
   "source": [
    "### Optimize Clusters with Principal Component Analysis."
   ]
  },
  {
   "cell_type": "code",
   "execution_count": 124,
   "metadata": {},
   "outputs": [],
   "source": [
    "# Create a PCA model instance and set `n_components=3`.\n",
    "pca = PCA(n_components=3)"
   ]
  },
  {
   "cell_type": "code",
   "execution_count": 125,
   "metadata": {},
   "outputs": [
    {
     "data": {
      "text/plain": [
       "array([[-2.43639083,  2.06359289,  0.55145348],\n",
       "       [ 0.7265365 ,  1.67448   , -1.57761009],\n",
       "       [ 5.11207625,  1.3799887 ,  0.5753635 ],\n",
       "       [ 4.19962177, -0.31522148,  0.79040315],\n",
       "       [ 3.8163446 , -0.17992746,  1.04831518]])"
      ]
     },
     "execution_count": 125,
     "metadata": {},
     "output_type": "execute_result"
    }
   ],
   "source": [
    "# Use the PCA model with `fit_transform` to reduce to \n",
    "# three principal components.\n",
    "player_pca = pca.fit_transform(df_player_data_scaled)\n",
    "# View the first five rows of the DataFrame. \n",
    "player_pca[:5]"
   ]
  },
  {
   "cell_type": "code",
   "execution_count": 126,
   "metadata": {},
   "outputs": [
    {
     "data": {
      "text/plain": [
       "array([0.4581716 , 0.13080108, 0.07288325])"
      ]
     },
     "execution_count": 126,
     "metadata": {},
     "output_type": "execute_result"
    }
   ],
   "source": [
    "# Retrieve the explained variance to determine how much information \n",
    "# can be attributed to each principal component.\n",
    "pca.explained_variance_ratio_"
   ]
  },
  {
   "cell_type": "code",
   "execution_count": 127,
   "metadata": {},
   "outputs": [
    {
     "data": {
      "text/plain": [
       "0.6618559395211916"
      ]
     },
     "execution_count": 127,
     "metadata": {},
     "output_type": "execute_result"
    }
   ],
   "source": [
    "total_explained_variance = sum(pca.explained_variance_ratio_)\n",
    "total_explained_variance"
   ]
  },
  {
   "cell_type": "markdown",
   "metadata": {},
   "source": [
    "#### Answer the following question: \n",
    "\n",
    "**Question:** What is the total explained variance of the three principal components?\n",
    "\n",
    "**Answer:62.4%"
   ]
  },
  {
   "cell_type": "code",
   "execution_count": null,
   "metadata": {},
   "outputs": [
    {
     "data": {
      "text/html": [
       "<div>\n",
       "<style scoped>\n",
       "    .dataframe tbody tr th:only-of-type {\n",
       "        vertical-align: middle;\n",
       "    }\n",
       "\n",
       "    .dataframe tbody tr th {\n",
       "        vertical-align: top;\n",
       "    }\n",
       "\n",
       "    .dataframe thead th {\n",
       "        text-align: right;\n",
       "    }\n",
       "</style>\n",
       "<table border=\"1\" class=\"dataframe\">\n",
       "  <thead>\n",
       "    <tr style=\"text-align: right;\">\n",
       "      <th></th>\n",
       "      <th>PCA1</th>\n",
       "      <th>PCA2</th>\n",
       "      <th>PCA3</th>\n",
       "    </tr>\n",
       "    <tr>\n",
       "      <th>player_name</th>\n",
       "      <th></th>\n",
       "      <th></th>\n",
       "      <th></th>\n",
       "    </tr>\n",
       "  </thead>\n",
       "  <tbody>\n",
       "    <tr>\n",
       "      <th>0</th>\n",
       "      <td>11.636786</td>\n",
       "      <td>6.612646</td>\n",
       "      <td>-5.073010</td>\n",
       "    </tr>\n",
       "    <tr>\n",
       "      <th>1</th>\n",
       "      <td>10.809575</td>\n",
       "      <td>6.571655</td>\n",
       "      <td>-6.215461</td>\n",
       "    </tr>\n",
       "    <tr>\n",
       "      <th>2</th>\n",
       "      <td>6.530337</td>\n",
       "      <td>11.847512</td>\n",
       "      <td>-0.152799</td>\n",
       "    </tr>\n",
       "    <tr>\n",
       "      <th>3</th>\n",
       "      <td>6.852229</td>\n",
       "      <td>11.693209</td>\n",
       "      <td>0.425096</td>\n",
       "    </tr>\n",
       "    <tr>\n",
       "      <th>4</th>\n",
       "      <td>10.594968</td>\n",
       "      <td>6.084569</td>\n",
       "      <td>-3.248769</td>\n",
       "    </tr>\n",
       "    <tr>\n",
       "      <th>5</th>\n",
       "      <td>6.517417</td>\n",
       "      <td>8.455350</td>\n",
       "      <td>-4.206892</td>\n",
       "    </tr>\n",
       "    <tr>\n",
       "      <th>6</th>\n",
       "      <td>0.259048</td>\n",
       "      <td>2.555738</td>\n",
       "      <td>-3.271047</td>\n",
       "    </tr>\n",
       "    <tr>\n",
       "      <th>7</th>\n",
       "      <td>1.803199</td>\n",
       "      <td>2.168546</td>\n",
       "      <td>-2.720531</td>\n",
       "    </tr>\n",
       "    <tr>\n",
       "      <th>8</th>\n",
       "      <td>-0.989860</td>\n",
       "      <td>4.951114</td>\n",
       "      <td>-0.036730</td>\n",
       "    </tr>\n",
       "    <tr>\n",
       "      <th>9</th>\n",
       "      <td>-1.963786</td>\n",
       "      <td>6.821792</td>\n",
       "      <td>-1.448295</td>\n",
       "    </tr>\n",
       "  </tbody>\n",
       "</table>\n",
       "</div>"
      ],
      "text/plain": [
       "                  PCA1       PCA2      PCA3\n",
       "player_name                                \n",
       "0            11.636786   6.612646 -5.073010\n",
       "1            10.809575   6.571655 -6.215461\n",
       "2             6.530337  11.847512 -0.152799\n",
       "3             6.852229  11.693209  0.425096\n",
       "4            10.594968   6.084569 -3.248769\n",
       "5             6.517417   8.455350 -4.206892\n",
       "6             0.259048   2.555738 -3.271047\n",
       "7             1.803199   2.168546 -2.720531\n",
       "8            -0.989860   4.951114 -0.036730\n",
       "9            -1.963786   6.821792 -1.448295"
      ]
     },
     "execution_count": 139,
     "metadata": {},
     "output_type": "execute_result"
    }
   ],
   "source": [
    "# Create a new DataFrame with the PCA data.\n",
    "player_pca = pd.DataFrame(\n",
    "    player_pca,\n",
    "    columns=[\"PCA1\", \"PCA2\" , \"PCA3\"]\n",
    ")\n",
    "\n",
    "# Creating a DataFrame with the PCA data\n",
    "player_pca[\"player_name\"]=player_pca.index\n",
    "# Copy the crypto names from the original data\n",
    "player_pca=player_pca.set_index('player_name')\n",
    "\n",
    "# Set the coinid column as index\n",
    "\n",
    "\n",
    "# Display sample data\n",
    "player_pca.head(10)"
   ]
  },
  {
   "cell_type": "markdown",
   "metadata": {},
   "source": [
    "---"
   ]
  },
  {
   "cell_type": "markdown",
   "metadata": {},
   "source": [
    "### Find the Best Value for k Using the PCA Data"
   ]
  },
  {
   "cell_type": "code",
   "execution_count": null,
   "metadata": {},
   "outputs": [],
   "source": [
    "# Create a list with the number of k-values from 1 to 11\n",
    "k_pca=list(range(1,11))"
   ]
  },
  {
   "cell_type": "code",
   "execution_count": null,
   "metadata": {},
   "outputs": [
    {
     "name": "stderr",
     "output_type": "stream",
     "text": [
      "C:\\Users\\KandelLabDoric\\anaconda3a\\lib\\site-packages\\sklearn\\cluster\\_kmeans.py:870: FutureWarning:\n",
      "\n",
      "The default value of `n_init` will change from 10 to 'auto' in 1.4. Set the value of `n_init` explicitly to suppress the warning\n",
      "\n",
      "C:\\Users\\KandelLabDoric\\anaconda3a\\lib\\site-packages\\sklearn\\cluster\\_kmeans.py:1382: UserWarning:\n",
      "\n",
      "KMeans is known to have a memory leak on Windows with MKL, when there are less chunks than available threads. You can avoid it by setting the environment variable OMP_NUM_THREADS=1.\n",
      "\n",
      "C:\\Users\\KandelLabDoric\\anaconda3a\\lib\\site-packages\\sklearn\\cluster\\_kmeans.py:870: FutureWarning:\n",
      "\n",
      "The default value of `n_init` will change from 10 to 'auto' in 1.4. Set the value of `n_init` explicitly to suppress the warning\n",
      "\n",
      "C:\\Users\\KandelLabDoric\\anaconda3a\\lib\\site-packages\\sklearn\\cluster\\_kmeans.py:1382: UserWarning:\n",
      "\n",
      "KMeans is known to have a memory leak on Windows with MKL, when there are less chunks than available threads. You can avoid it by setting the environment variable OMP_NUM_THREADS=1.\n",
      "\n",
      "C:\\Users\\KandelLabDoric\\anaconda3a\\lib\\site-packages\\sklearn\\cluster\\_kmeans.py:870: FutureWarning:\n",
      "\n",
      "The default value of `n_init` will change from 10 to 'auto' in 1.4. Set the value of `n_init` explicitly to suppress the warning\n",
      "\n",
      "C:\\Users\\KandelLabDoric\\anaconda3a\\lib\\site-packages\\sklearn\\cluster\\_kmeans.py:1382: UserWarning:\n",
      "\n",
      "KMeans is known to have a memory leak on Windows with MKL, when there are less chunks than available threads. You can avoid it by setting the environment variable OMP_NUM_THREADS=1.\n",
      "\n",
      "C:\\Users\\KandelLabDoric\\anaconda3a\\lib\\site-packages\\sklearn\\cluster\\_kmeans.py:870: FutureWarning:\n",
      "\n",
      "The default value of `n_init` will change from 10 to 'auto' in 1.4. Set the value of `n_init` explicitly to suppress the warning\n",
      "\n",
      "C:\\Users\\KandelLabDoric\\anaconda3a\\lib\\site-packages\\sklearn\\cluster\\_kmeans.py:1382: UserWarning:\n",
      "\n",
      "KMeans is known to have a memory leak on Windows with MKL, when there are less chunks than available threads. You can avoid it by setting the environment variable OMP_NUM_THREADS=1.\n",
      "\n",
      "C:\\Users\\KandelLabDoric\\anaconda3a\\lib\\site-packages\\sklearn\\cluster\\_kmeans.py:870: FutureWarning:\n",
      "\n",
      "The default value of `n_init` will change from 10 to 'auto' in 1.4. Set the value of `n_init` explicitly to suppress the warning\n",
      "\n",
      "C:\\Users\\KandelLabDoric\\anaconda3a\\lib\\site-packages\\sklearn\\cluster\\_kmeans.py:1382: UserWarning:\n",
      "\n",
      "KMeans is known to have a memory leak on Windows with MKL, when there are less chunks than available threads. You can avoid it by setting the environment variable OMP_NUM_THREADS=1.\n",
      "\n",
      "C:\\Users\\KandelLabDoric\\anaconda3a\\lib\\site-packages\\sklearn\\cluster\\_kmeans.py:870: FutureWarning:\n",
      "\n",
      "The default value of `n_init` will change from 10 to 'auto' in 1.4. Set the value of `n_init` explicitly to suppress the warning\n",
      "\n",
      "C:\\Users\\KandelLabDoric\\anaconda3a\\lib\\site-packages\\sklearn\\cluster\\_kmeans.py:1382: UserWarning:\n",
      "\n",
      "KMeans is known to have a memory leak on Windows with MKL, when there are less chunks than available threads. You can avoid it by setting the environment variable OMP_NUM_THREADS=1.\n",
      "\n",
      "C:\\Users\\KandelLabDoric\\anaconda3a\\lib\\site-packages\\sklearn\\cluster\\_kmeans.py:870: FutureWarning:\n",
      "\n",
      "The default value of `n_init` will change from 10 to 'auto' in 1.4. Set the value of `n_init` explicitly to suppress the warning\n",
      "\n",
      "C:\\Users\\KandelLabDoric\\anaconda3a\\lib\\site-packages\\sklearn\\cluster\\_kmeans.py:1382: UserWarning:\n",
      "\n",
      "KMeans is known to have a memory leak on Windows with MKL, when there are less chunks than available threads. You can avoid it by setting the environment variable OMP_NUM_THREADS=1.\n",
      "\n",
      "C:\\Users\\KandelLabDoric\\anaconda3a\\lib\\site-packages\\sklearn\\cluster\\_kmeans.py:870: FutureWarning:\n",
      "\n",
      "The default value of `n_init` will change from 10 to 'auto' in 1.4. Set the value of `n_init` explicitly to suppress the warning\n",
      "\n",
      "C:\\Users\\KandelLabDoric\\anaconda3a\\lib\\site-packages\\sklearn\\cluster\\_kmeans.py:1382: UserWarning:\n",
      "\n",
      "KMeans is known to have a memory leak on Windows with MKL, when there are less chunks than available threads. You can avoid it by setting the environment variable OMP_NUM_THREADS=1.\n",
      "\n",
      "C:\\Users\\KandelLabDoric\\anaconda3a\\lib\\site-packages\\sklearn\\cluster\\_kmeans.py:870: FutureWarning:\n",
      "\n",
      "The default value of `n_init` will change from 10 to 'auto' in 1.4. Set the value of `n_init` explicitly to suppress the warning\n",
      "\n",
      "C:\\Users\\KandelLabDoric\\anaconda3a\\lib\\site-packages\\sklearn\\cluster\\_kmeans.py:1382: UserWarning:\n",
      "\n",
      "KMeans is known to have a memory leak on Windows with MKL, when there are less chunks than available threads. You can avoid it by setting the environment variable OMP_NUM_THREADS=1.\n",
      "\n",
      "C:\\Users\\KandelLabDoric\\anaconda3a\\lib\\site-packages\\sklearn\\cluster\\_kmeans.py:870: FutureWarning:\n",
      "\n",
      "The default value of `n_init` will change from 10 to 'auto' in 1.4. Set the value of `n_init` explicitly to suppress the warning\n",
      "\n",
      "C:\\Users\\KandelLabDoric\\anaconda3a\\lib\\site-packages\\sklearn\\cluster\\_kmeans.py:1382: UserWarning:\n",
      "\n",
      "KMeans is known to have a memory leak on Windows with MKL, when there are less chunks than available threads. You can avoid it by setting the environment variable OMP_NUM_THREADS=1.\n",
      "\n"
     ]
    }
   ],
   "source": [
    "# Create an empty list to store the inertia values\n",
    "inertia=[]\n",
    "\n",
    "# Create a for loop to compute the inertia with each possible value of k\n",
    "# Inside the loop:\n",
    "# 1. Create a KMeans model using the loop counter for the n_clusters\n",
    "# 2. Fit the model to the data using `df_market_data_pca`\n",
    "# 3. Append the model.inertia_ to the inertia list\n",
    "for i in k_pca:\n",
    "    k_model = KMeans(n_clusters=i, random_state=0)\n",
    "    k_model.fit(player_pca)\n",
    "    inertia.append(k_model.inertia_)"
   ]
  },
  {
   "cell_type": "code",
   "execution_count": null,
   "metadata": {},
   "outputs": [
    {
     "data": {
      "text/html": [
       "<div>\n",
       "<style scoped>\n",
       "    .dataframe tbody tr th:only-of-type {\n",
       "        vertical-align: middle;\n",
       "    }\n",
       "\n",
       "    .dataframe tbody tr th {\n",
       "        vertical-align: top;\n",
       "    }\n",
       "\n",
       "    .dataframe thead th {\n",
       "        text-align: right;\n",
       "    }\n",
       "</style>\n",
       "<table border=\"1\" class=\"dataframe\">\n",
       "  <thead>\n",
       "    <tr style=\"text-align: right;\">\n",
       "      <th></th>\n",
       "      <th>k_pca</th>\n",
       "      <th>inertia</th>\n",
       "    </tr>\n",
       "  </thead>\n",
       "  <tbody>\n",
       "    <tr>\n",
       "      <th>0</th>\n",
       "      <td>1</td>\n",
       "      <td>4993.592934</td>\n",
       "    </tr>\n",
       "    <tr>\n",
       "      <th>1</th>\n",
       "      <td>2</td>\n",
       "      <td>3138.896144</td>\n",
       "    </tr>\n",
       "    <tr>\n",
       "      <th>2</th>\n",
       "      <td>3</td>\n",
       "      <td>2094.077161</td>\n",
       "    </tr>\n",
       "    <tr>\n",
       "      <th>3</th>\n",
       "      <td>4</td>\n",
       "      <td>1625.245806</td>\n",
       "    </tr>\n",
       "    <tr>\n",
       "      <th>4</th>\n",
       "      <td>5</td>\n",
       "      <td>1277.534521</td>\n",
       "    </tr>\n",
       "  </tbody>\n",
       "</table>\n",
       "</div>"
      ],
      "text/plain": [
       "   k_pca      inertia\n",
       "0      1  4993.592934\n",
       "1      2  3138.896144\n",
       "2      3  2094.077161\n",
       "3      4  1625.245806\n",
       "4      5  1277.534521"
      ]
     },
     "execution_count": 142,
     "metadata": {},
     "output_type": "execute_result"
    }
   ],
   "source": [
    "# Create a dictionary with the data to plot the Elbow curve\n",
    "elbow_data = {'k_pca': k_pca , 'inertia': inertia}\n",
    "# Create a DataFrame with the data to plot the Elbow curve\n",
    "df_elbow_pca = pd.DataFrame(elbow_data)\n",
    "df_elbow_pca.head()"
   ]
  },
  {
   "cell_type": "code",
   "execution_count": null,
   "metadata": {},
   "outputs": [
    {
     "data": {},
     "metadata": {},
     "output_type": "display_data"
    },
    {
     "data": {
      "application/vnd.holoviews_exec.v0+json": "",
      "text/html": [
       "<div id='12664'>\n",
       "  <div class=\"bk-root\" id=\"d4b744e7-29ad-4423-a7dd-a78383bf2206\" data-root-id=\"12664\"></div>\n",
       "</div>\n",
       "<script type=\"application/javascript\">(function(root) {\n",
       "  function embed_document(root) {\n",
       "    var docs_json = {\"8a3bbffd-080c-437e-a0cc-b30624d64592\":{\"defs\":[{\"extends\":null,\"module\":null,\"name\":\"ReactiveHTML1\",\"overrides\":[],\"properties\":[]},{\"extends\":null,\"module\":null,\"name\":\"FlexBox1\",\"overrides\":[],\"properties\":[{\"default\":\"flex-start\",\"kind\":null,\"name\":\"align_content\"},{\"default\":\"flex-start\",\"kind\":null,\"name\":\"align_items\"},{\"default\":\"row\",\"kind\":null,\"name\":\"flex_direction\"},{\"default\":\"wrap\",\"kind\":null,\"name\":\"flex_wrap\"},{\"default\":\"flex-start\",\"kind\":null,\"name\":\"justify_content\"}]},{\"extends\":null,\"module\":null,\"name\":\"GridStack1\",\"overrides\":[],\"properties\":[{\"default\":\"warn\",\"kind\":null,\"name\":\"mode\"},{\"default\":null,\"kind\":null,\"name\":\"ncols\"},{\"default\":null,\"kind\":null,\"name\":\"nrows\"},{\"default\":true,\"kind\":null,\"name\":\"allow_resize\"},{\"default\":true,\"kind\":null,\"name\":\"allow_drag\"},{\"default\":[],\"kind\":null,\"name\":\"state\"}]},{\"extends\":null,\"module\":null,\"name\":\"click1\",\"overrides\":[],\"properties\":[{\"default\":\"\",\"kind\":null,\"name\":\"terminal_output\"},{\"default\":\"\",\"kind\":null,\"name\":\"debug_name\"},{\"default\":0,\"kind\":null,\"name\":\"clears\"}]},{\"extends\":null,\"module\":null,\"name\":\"NotificationAreaBase1\",\"overrides\":[],\"properties\":[{\"default\":\"bottom-right\",\"kind\":null,\"name\":\"position\"},{\"default\":0,\"kind\":null,\"name\":\"_clear\"}]},{\"extends\":null,\"module\":null,\"name\":\"NotificationArea1\",\"overrides\":[],\"properties\":[{\"default\":[],\"kind\":null,\"name\":\"notifications\"},{\"default\":\"bottom-right\",\"kind\":null,\"name\":\"position\"},{\"default\":0,\"kind\":null,\"name\":\"_clear\"},{\"default\":[{\"background\":\"#ffc107\",\"icon\":{\"className\":\"fas fa-exclamation-triangle\",\"color\":\"white\",\"tagName\":\"i\"},\"type\":\"warning\"},{\"background\":\"#007bff\",\"icon\":{\"className\":\"fas fa-info-circle\",\"color\":\"white\",\"tagName\":\"i\"},\"type\":\"info\"}],\"kind\":null,\"name\":\"types\"}]},{\"extends\":null,\"module\":null,\"name\":\"Notification\",\"overrides\":[],\"properties\":[{\"default\":null,\"kind\":null,\"name\":\"background\"},{\"default\":3000,\"kind\":null,\"name\":\"duration\"},{\"default\":null,\"kind\":null,\"name\":\"icon\"},{\"default\":\"\",\"kind\":null,\"name\":\"message\"},{\"default\":null,\"kind\":null,\"name\":\"notification_type\"},{\"default\":false,\"kind\":null,\"name\":\"_destroyed\"}]},{\"extends\":null,\"module\":null,\"name\":\"TemplateActions1\",\"overrides\":[],\"properties\":[{\"default\":0,\"kind\":null,\"name\":\"open_modal\"},{\"default\":0,\"kind\":null,\"name\":\"close_modal\"}]},{\"extends\":null,\"module\":null,\"name\":\"MaterialTemplateActions1\",\"overrides\":[],\"properties\":[{\"default\":0,\"kind\":null,\"name\":\"open_modal\"},{\"default\":0,\"kind\":null,\"name\":\"close_modal\"}]}],\"roots\":{\"references\":[{\"attributes\":{\"axis_label\":\"k_pca\",\"coordinates\":null,\"formatter\":{\"id\":\"12709\"},\"group\":null,\"major_label_policy\":{\"id\":\"12710\"},\"ticker\":{\"id\":\"12707\"}},\"id\":\"12677\",\"type\":\"LinearAxis\"},{\"attributes\":{\"line_color\":\"#30a2da\",\"line_width\":2,\"x\":{\"field\":\"k_pca\"},\"y\":{\"field\":\"inertia\"}},\"id\":\"12701\",\"type\":\"Line\"},{\"attributes\":{\"line_color\":\"#30a2da\",\"line_width\":2,\"x\":{\"field\":\"k_pca\"},\"y\":{\"field\":\"inertia\"}},\"id\":\"12706\",\"type\":\"Line\"},{\"attributes\":{\"line_alpha\":0.1,\"line_color\":\"#30a2da\",\"line_width\":2,\"x\":{\"field\":\"k_pca\"},\"y\":{\"field\":\"inertia\"}},\"id\":\"12702\",\"type\":\"Line\"},{\"attributes\":{},\"id\":\"12682\",\"type\":\"BasicTicker\"},{\"attributes\":{},\"id\":\"12715\",\"type\":\"AllLabels\"},{\"attributes\":{\"coordinates\":null,\"data_source\":{\"id\":\"12698\"},\"glyph\":{\"id\":\"12701\"},\"group\":null,\"hover_glyph\":null,\"muted_glyph\":{\"id\":\"12703\"},\"nonselection_glyph\":{\"id\":\"12702\"},\"selection_glyph\":{\"id\":\"12706\"},\"view\":{\"id\":\"12705\"}},\"id\":\"12704\",\"type\":\"GlyphRenderer\"},{\"attributes\":{},\"id\":\"12726\",\"type\":\"UnionRenderers\"},{\"attributes\":{\"ticks\":[1,2,3,4,5,6,7,8,9,10,11,12,13,14,15,16,17,18,19]},\"id\":\"12707\",\"type\":\"FixedTicker\"},{\"attributes\":{},\"id\":\"12710\",\"type\":\"AllLabels\"},{\"attributes\":{},\"id\":\"12686\",\"type\":\"PanTool\"},{\"attributes\":{\"axis\":{\"id\":\"12677\"},\"coordinates\":null,\"grid_line_color\":null,\"group\":null,\"ticker\":null},\"id\":\"12680\",\"type\":\"Grid\"},{\"attributes\":{\"axis\":{\"id\":\"12681\"},\"coordinates\":null,\"dimension\":1,\"grid_line_color\":null,\"group\":null,\"ticker\":null},\"id\":\"12684\",\"type\":\"Grid\"},{\"attributes\":{\"children\":[{\"id\":\"12668\"}],\"height\":300,\"margin\":[0,0,0,0],\"name\":\"Row08276\",\"sizing_mode\":\"fixed\",\"tags\":[\"embedded\"],\"width\":700},\"id\":\"12664\",\"type\":\"Row\"},{\"attributes\":{\"active_drag\":{\"id\":\"12686\"},\"active_scroll\":{\"id\":\"12687\"},\"tools\":[{\"id\":\"12667\"},{\"id\":\"12685\"},{\"id\":\"12686\"},{\"id\":\"12687\"},{\"id\":\"12688\"},{\"id\":\"12689\"}]},\"id\":\"12691\",\"type\":\"Toolbar\"},{\"attributes\":{\"below\":[{\"id\":\"12677\"}],\"center\":[{\"id\":\"12680\"},{\"id\":\"12684\"}],\"height\":300,\"left\":[{\"id\":\"12681\"}],\"margin\":[5,5,5,5],\"min_border_bottom\":10,\"min_border_left\":10,\"min_border_right\":10,\"min_border_top\":10,\"renderers\":[{\"id\":\"12704\"}],\"sizing_mode\":\"fixed\",\"title\":{\"id\":\"12669\"},\"toolbar\":{\"id\":\"12691\"},\"width\":700,\"x_range\":{\"id\":\"12665\"},\"x_scale\":{\"id\":\"12673\"},\"y_range\":{\"id\":\"12666\"},\"y_scale\":{\"id\":\"12675\"}},\"id\":\"12668\",\"subtype\":\"Figure\",\"type\":\"Plot\"},{\"attributes\":{},\"id\":\"12673\",\"type\":\"LinearScale\"},{\"attributes\":{},\"id\":\"12714\",\"type\":\"BasicTickFormatter\"},{\"attributes\":{\"axis_label\":\"inertia\",\"coordinates\":null,\"formatter\":{\"id\":\"12714\"},\"group\":null,\"major_label_policy\":{\"id\":\"12715\"},\"ticker\":{\"id\":\"12682\"}},\"id\":\"12681\",\"type\":\"LinearAxis\"},{\"attributes\":{},\"id\":\"12675\",\"type\":\"LinearScale\"},{\"attributes\":{\"callback\":null,\"renderers\":[{\"id\":\"12704\"}],\"tags\":[\"hv_created\"],\"tooltips\":[[\"k_pca\",\"@{k_pca}\"],[\"inertia\",\"@{inertia}\"]]},\"id\":\"12667\",\"type\":\"HoverTool\"},{\"attributes\":{\"bottom_units\":\"screen\",\"coordinates\":null,\"fill_alpha\":0.5,\"fill_color\":\"lightgrey\",\"group\":null,\"left_units\":\"screen\",\"level\":\"overlay\",\"line_alpha\":1.0,\"line_color\":\"black\",\"line_dash\":[4,4],\"line_width\":2,\"right_units\":\"screen\",\"syncable\":false,\"top_units\":\"screen\"},\"id\":\"12690\",\"type\":\"BoxAnnotation\"},{\"attributes\":{\"end\":10.0,\"reset_end\":10.0,\"reset_start\":1.0,\"start\":1.0,\"tags\":[[[\"k_pca\",\"k_pca\",null]]]},\"id\":\"12665\",\"type\":\"Range1d\"},{\"attributes\":{\"data\":{\"inertia\":{\"__ndarray__\":\"rWp9ypeBs0BDiW/TyoWoQNxsm4EnXKBAUPertPtkmUA32JJZI/aTQOM5bCPN/5BAYGpmEVi9jEBvhSgc50GJQFlkNOTtVIZAexg+XQSLhEA=\",\"dtype\":\"float64\",\"order\":\"little\",\"shape\":[10]},\"k_pca\":[1,2,3,4,5,6,7,8,9,10]},\"selected\":{\"id\":\"12699\"},\"selection_policy\":{\"id\":\"12726\"}},\"id\":\"12698\",\"type\":\"ColumnDataSource\"},{\"attributes\":{},\"id\":\"12689\",\"type\":\"ResetTool\"},{\"attributes\":{\"source\":{\"id\":\"12698\"}},\"id\":\"12705\",\"type\":\"CDSView\"},{\"attributes\":{},\"id\":\"12685\",\"type\":\"SaveTool\"},{\"attributes\":{},\"id\":\"12687\",\"type\":\"WheelZoomTool\"},{\"attributes\":{\"overlay\":{\"id\":\"12690\"}},\"id\":\"12688\",\"type\":\"BoxZoomTool\"},{\"attributes\":{},\"id\":\"12709\",\"type\":\"BasicTickFormatter\"},{\"attributes\":{},\"id\":\"12699\",\"type\":\"Selection\"},{\"attributes\":{\"end\":5427.214513753783,\"reset_end\":5427.214513753783,\"reset_start\":223.75555071809754,\"start\":223.75555071809754,\"tags\":[[[\"inertia\",\"inertia\",null]]]},\"id\":\"12666\",\"type\":\"Range1d\"},{\"attributes\":{\"line_alpha\":0.2,\"line_color\":\"#30a2da\",\"line_width\":2,\"x\":{\"field\":\"k_pca\"},\"y\":{\"field\":\"inertia\"}},\"id\":\"12703\",\"type\":\"Line\"},{\"attributes\":{\"coordinates\":null,\"group\":null,\"text\":\"Elbow Curve\",\"text_color\":\"black\",\"text_font_size\":\"12pt\"},\"id\":\"12669\",\"type\":\"Title\"}],\"root_ids\":[\"12664\"]},\"title\":\"Bokeh Application\",\"version\":\"2.4.3\"}};\n",
       "    var render_items = [{\"docid\":\"8a3bbffd-080c-437e-a0cc-b30624d64592\",\"root_ids\":[\"12664\"],\"roots\":{\"12664\":\"d4b744e7-29ad-4423-a7dd-a78383bf2206\"}}];\n",
       "    root.Bokeh.embed.embed_items_notebook(docs_json, render_items);\n",
       "    for (const render_item of render_items) {\n",
       "      for (const root_id of render_item.root_ids) {\n",
       "\tconst id_el = document.getElementById(root_id)\n",
       "\tif (id_el.children.length && (id_el.children[0].className === 'bk-root')) {\n",
       "\t  const root_el = id_el.children[0]\n",
       "\t  root_el.id = root_el.id + '-rendered'\n",
       "\t}\n",
       "      }\n",
       "    }\n",
       "  }\n",
       "  if (root.Bokeh !== undefined && root.Bokeh.Panel !== undefined) {\n",
       "    embed_document(root);\n",
       "  } else {\n",
       "    var attempts = 0;\n",
       "    var timer = setInterval(function(root) {\n",
       "      if (root.Bokeh !== undefined && root.Bokeh.Panel !== undefined) {\n",
       "        clearInterval(timer);\n",
       "        embed_document(root);\n",
       "      } else if (document.readyState == \"complete\") {\n",
       "        attempts++;\n",
       "        if (attempts > 200) {\n",
       "          clearInterval(timer);\n",
       "          console.log(\"Bokeh: ERROR: Unable to run BokehJS code because BokehJS library is missing\");\n",
       "        }\n",
       "      }\n",
       "    }, 25, root)\n",
       "  }\n",
       "})(window);</script>"
      ],
      "text/plain": [
       ":Curve   [k_pca]   (inertia)"
      ]
     },
     "execution_count": 143,
     "metadata": {
      "application/vnd.holoviews_exec.v0+json": {
       "id": "12664"
      }
     },
     "output_type": "execute_result"
    }
   ],
   "source": [
    "# Plot a line chart with all the inertia values computed with \n",
    "# the different values of k to visually identify the optimal value for k.\n",
    "elbow_pca_plot = df_elbow_pca.hvplot.line(\n",
    "    x=\"k_pca\", \n",
    "    y=\"inertia\", \n",
    "    title=\"Elbow Curve\", \n",
    "    xticks=k\n",
    ")\n",
    "elbow_pca_plot"
   ]
  },
  {
   "cell_type": "markdown",
   "metadata": {},
   "source": [
    "#### Answer the following questions: \n",
    "\n",
    "* **Question:** What is the best value for `k` when using the PCA data?\n",
    "\n",
    "  * **Answer:2\n",
    "\n",
    "\n",
    "* **Question:** Does it differ from the best k value found using the original data?\n",
    "\n",
    "  * **Answer:YES"
   ]
  },
  {
   "cell_type": "markdown",
   "metadata": {},
   "source": [
    "### Cluster player name with K-means Using the PCA Data"
   ]
  },
  {
   "cell_type": "code",
   "execution_count": null,
   "metadata": {},
   "outputs": [],
   "source": [
    "# Initialize the K-Means model using the best value for k\n",
    "model = KMeans(n_clusters=3, random_state=0)"
   ]
  },
  {
   "cell_type": "code",
   "execution_count": null,
   "metadata": {},
   "outputs": [
    {
     "name": "stderr",
     "output_type": "stream",
     "text": [
      "C:\\Users\\KandelLabDoric\\anaconda3a\\lib\\site-packages\\sklearn\\cluster\\_kmeans.py:870: FutureWarning:\n",
      "\n",
      "The default value of `n_init` will change from 10 to 'auto' in 1.4. Set the value of `n_init` explicitly to suppress the warning\n",
      "\n",
      "C:\\Users\\KandelLabDoric\\anaconda3a\\lib\\site-packages\\sklearn\\cluster\\_kmeans.py:1382: UserWarning:\n",
      "\n",
      "KMeans is known to have a memory leak on Windows with MKL, when there are less chunks than available threads. You can avoid it by setting the environment variable OMP_NUM_THREADS=1.\n",
      "\n"
     ]
    },
    {
     "data": {
      "text/html": [
       "<style>#sk-container-id-9 {color: black;background-color: white;}#sk-container-id-9 pre{padding: 0;}#sk-container-id-9 div.sk-toggleable {background-color: white;}#sk-container-id-9 label.sk-toggleable__label {cursor: pointer;display: block;width: 100%;margin-bottom: 0;padding: 0.3em;box-sizing: border-box;text-align: center;}#sk-container-id-9 label.sk-toggleable__label-arrow:before {content: \"▸\";float: left;margin-right: 0.25em;color: #696969;}#sk-container-id-9 label.sk-toggleable__label-arrow:hover:before {color: black;}#sk-container-id-9 div.sk-estimator:hover label.sk-toggleable__label-arrow:before {color: black;}#sk-container-id-9 div.sk-toggleable__content {max-height: 0;max-width: 0;overflow: hidden;text-align: left;background-color: #f0f8ff;}#sk-container-id-9 div.sk-toggleable__content pre {margin: 0.2em;color: black;border-radius: 0.25em;background-color: #f0f8ff;}#sk-container-id-9 input.sk-toggleable__control:checked~div.sk-toggleable__content {max-height: 200px;max-width: 100%;overflow: auto;}#sk-container-id-9 input.sk-toggleable__control:checked~label.sk-toggleable__label-arrow:before {content: \"▾\";}#sk-container-id-9 div.sk-estimator input.sk-toggleable__control:checked~label.sk-toggleable__label {background-color: #d4ebff;}#sk-container-id-9 div.sk-label input.sk-toggleable__control:checked~label.sk-toggleable__label {background-color: #d4ebff;}#sk-container-id-9 input.sk-hidden--visually {border: 0;clip: rect(1px 1px 1px 1px);clip: rect(1px, 1px, 1px, 1px);height: 1px;margin: -1px;overflow: hidden;padding: 0;position: absolute;width: 1px;}#sk-container-id-9 div.sk-estimator {font-family: monospace;background-color: #f0f8ff;border: 1px dotted black;border-radius: 0.25em;box-sizing: border-box;margin-bottom: 0.5em;}#sk-container-id-9 div.sk-estimator:hover {background-color: #d4ebff;}#sk-container-id-9 div.sk-parallel-item::after {content: \"\";width: 100%;border-bottom: 1px solid gray;flex-grow: 1;}#sk-container-id-9 div.sk-label:hover label.sk-toggleable__label {background-color: #d4ebff;}#sk-container-id-9 div.sk-serial::before {content: \"\";position: absolute;border-left: 1px solid gray;box-sizing: border-box;top: 0;bottom: 0;left: 50%;z-index: 0;}#sk-container-id-9 div.sk-serial {display: flex;flex-direction: column;align-items: center;background-color: white;padding-right: 0.2em;padding-left: 0.2em;position: relative;}#sk-container-id-9 div.sk-item {position: relative;z-index: 1;}#sk-container-id-9 div.sk-parallel {display: flex;align-items: stretch;justify-content: center;background-color: white;position: relative;}#sk-container-id-9 div.sk-item::before, #sk-container-id-9 div.sk-parallel-item::before {content: \"\";position: absolute;border-left: 1px solid gray;box-sizing: border-box;top: 0;bottom: 0;left: 50%;z-index: -1;}#sk-container-id-9 div.sk-parallel-item {display: flex;flex-direction: column;z-index: 1;position: relative;background-color: white;}#sk-container-id-9 div.sk-parallel-item:first-child::after {align-self: flex-end;width: 50%;}#sk-container-id-9 div.sk-parallel-item:last-child::after {align-self: flex-start;width: 50%;}#sk-container-id-9 div.sk-parallel-item:only-child::after {width: 0;}#sk-container-id-9 div.sk-dashed-wrapped {border: 1px dashed gray;margin: 0 0.4em 0.5em 0.4em;box-sizing: border-box;padding-bottom: 0.4em;background-color: white;}#sk-container-id-9 div.sk-label label {font-family: monospace;font-weight: bold;display: inline-block;line-height: 1.2em;}#sk-container-id-9 div.sk-label-container {text-align: center;}#sk-container-id-9 div.sk-container {/* jupyter's `normalize.less` sets `[hidden] { display: none; }` but bootstrap.min.css set `[hidden] { display: none !important; }` so we also need the `!important` here to be able to override the default hidden behavior on the sphinx rendered scikit-learn.org. See: https://github.com/scikit-learn/scikit-learn/issues/21755 */display: inline-block !important;position: relative;}#sk-container-id-9 div.sk-text-repr-fallback {display: none;}</style><div id=\"sk-container-id-9\" class=\"sk-top-container\"><div class=\"sk-text-repr-fallback\"><pre>KMeans(n_clusters=3, random_state=0)</pre><b>In a Jupyter environment, please rerun this cell to show the HTML representation or trust the notebook. <br />On GitHub, the HTML representation is unable to render, please try loading this page with nbviewer.org.</b></div><div class=\"sk-container\" hidden><div class=\"sk-item\"><div class=\"sk-estimator sk-toggleable\"><input class=\"sk-toggleable__control sk-hidden--visually\" id=\"sk-estimator-id-9\" type=\"checkbox\" checked><label for=\"sk-estimator-id-9\" class=\"sk-toggleable__label sk-toggleable__label-arrow\">KMeans</label><div class=\"sk-toggleable__content\"><pre>KMeans(n_clusters=3, random_state=0)</pre></div></div></div></div></div>"
      ],
      "text/plain": [
       "KMeans(n_clusters=3, random_state=0)"
      ]
     },
     "execution_count": 145,
     "metadata": {},
     "output_type": "execute_result"
    }
   ],
   "source": [
    "# Fit the K-Means model using the PCA data\n",
    "model.fit(player_pca)"
   ]
  },
  {
   "cell_type": "code",
   "execution_count": null,
   "metadata": {},
   "outputs": [
    {
     "data": {
      "text/plain": [
       "array([2, 2, 2, 2, 2, 2, 0, 1, 0, 0, 2, 2, 2, 0, 1, 1, 1, 0, 1, 1, 0, 1,\n",
       "       0, 0, 0, 1, 1, 1, 1, 1, 1, 1, 1, 1, 1, 1, 1, 1, 1, 1, 1, 0, 1, 1,\n",
       "       0, 0, 1, 1, 1, 1, 1, 1, 1, 0, 0, 0, 0, 1, 0, 1, 0, 0, 0, 0, 0, 1,\n",
       "       0, 0, 0, 1, 1, 1, 1, 1, 1, 1, 0, 0, 1, 1, 1, 1, 1, 0, 0, 0, 0, 1,\n",
       "       1, 0, 0, 0, 1, 1, 1, 1, 0, 1, 1, 1, 0, 0, 0, 0, 0, 0, 0, 0, 1, 0,\n",
       "       1, 1, 1, 0, 0, 1, 1, 1, 0, 1, 1, 1, 1, 1, 1, 0, 1, 0, 0, 0, 1, 0,\n",
       "       1, 0, 0, 0, 0, 0, 0, 1, 0, 0, 0, 1, 0, 1, 0, 0, 0, 0, 0, 0, 0, 1,\n",
       "       0, 1, 0, 0, 0, 0, 0, 0, 0, 1, 1, 0, 0, 1, 0, 0, 0, 0, 0, 0, 0, 1,\n",
       "       0, 0, 0, 0, 0, 1, 0, 1, 0, 0, 0, 0, 0, 1, 0, 0, 0, 0, 0, 0, 0, 0,\n",
       "       0])"
      ]
     },
     "execution_count": 146,
     "metadata": {},
     "output_type": "execute_result"
    }
   ],
   "source": [
    "# Predict the clusters to group the cryptocurrencies using the PCA data\n",
    "k_predict = model.predict(player_pca)\n",
    "# Print the resulting array of cluster values.\n",
    "k_predict"
   ]
  },
  {
   "cell_type": "code",
   "execution_count": null,
   "metadata": {},
   "outputs": [
    {
     "data": {
      "text/html": [
       "<div>\n",
       "<style scoped>\n",
       "    .dataframe tbody tr th:only-of-type {\n",
       "        vertical-align: middle;\n",
       "    }\n",
       "\n",
       "    .dataframe tbody tr th {\n",
       "        vertical-align: top;\n",
       "    }\n",
       "\n",
       "    .dataframe thead th {\n",
       "        text-align: right;\n",
       "    }\n",
       "</style>\n",
       "<table border=\"1\" class=\"dataframe\">\n",
       "  <thead>\n",
       "    <tr style=\"text-align: right;\">\n",
       "      <th></th>\n",
       "      <th>PCA1</th>\n",
       "      <th>PCA2</th>\n",
       "      <th>PCA3</th>\n",
       "      <th>pca_prediction</th>\n",
       "    </tr>\n",
       "    <tr>\n",
       "      <th>player_name</th>\n",
       "      <th></th>\n",
       "      <th></th>\n",
       "      <th></th>\n",
       "      <th></th>\n",
       "    </tr>\n",
       "  </thead>\n",
       "  <tbody>\n",
       "    <tr>\n",
       "      <th>0</th>\n",
       "      <td>11.636786</td>\n",
       "      <td>6.612646</td>\n",
       "      <td>-5.073010</td>\n",
       "      <td>2</td>\n",
       "    </tr>\n",
       "    <tr>\n",
       "      <th>1</th>\n",
       "      <td>10.809575</td>\n",
       "      <td>6.571655</td>\n",
       "      <td>-6.215461</td>\n",
       "      <td>2</td>\n",
       "    </tr>\n",
       "    <tr>\n",
       "      <th>2</th>\n",
       "      <td>6.530337</td>\n",
       "      <td>11.847512</td>\n",
       "      <td>-0.152799</td>\n",
       "      <td>2</td>\n",
       "    </tr>\n",
       "    <tr>\n",
       "      <th>3</th>\n",
       "      <td>6.852229</td>\n",
       "      <td>11.693209</td>\n",
       "      <td>0.425096</td>\n",
       "      <td>2</td>\n",
       "    </tr>\n",
       "    <tr>\n",
       "      <th>4</th>\n",
       "      <td>10.594968</td>\n",
       "      <td>6.084569</td>\n",
       "      <td>-3.248769</td>\n",
       "      <td>2</td>\n",
       "    </tr>\n",
       "  </tbody>\n",
       "</table>\n",
       "</div>"
      ],
      "text/plain": [
       "                  PCA1       PCA2      PCA3  pca_prediction\n",
       "player_name                                                \n",
       "0            11.636786   6.612646 -5.073010               2\n",
       "1            10.809575   6.571655 -6.215461               2\n",
       "2             6.530337  11.847512 -0.152799               2\n",
       "3             6.852229  11.693209  0.425096               2\n",
       "4            10.594968   6.084569 -3.248769               2"
      ]
     },
     "execution_count": 147,
     "metadata": {},
     "output_type": "execute_result"
    }
   ],
   "source": [
    "# Create a copy of the DataFrame with the PCA data\n",
    "player_pca_prediction_df = player_pca.copy()\n",
    "\n",
    "# Add a new column to the DataFrame with the predicted clusters\n",
    "player_pca_prediction_df['pca_prediction']= k_predict\n",
    "\n",
    "# Display sample data\n",
    "player_pca_prediction_df.head()"
   ]
  },
  {
   "cell_type": "code",
   "execution_count": null,
   "metadata": {},
   "outputs": [
    {
     "data": {},
     "metadata": {},
     "output_type": "display_data"
    },
    {
     "data": {
      "application/vnd.holoviews_exec.v0+json": "",
      "text/html": [
       "<div id='12775'>\n",
       "  <div class=\"bk-root\" id=\"beefb5a3-6500-472e-a0b6-6003e1951cfd\" data-root-id=\"12775\"></div>\n",
       "</div>\n",
       "<script type=\"application/javascript\">(function(root) {\n",
       "  function embed_document(root) {\n",
       "    var docs_json = {\"a43fc6a0-db03-4a10-8952-f6451ea407c3\":{\"defs\":[{\"extends\":null,\"module\":null,\"name\":\"ReactiveHTML1\",\"overrides\":[],\"properties\":[]},{\"extends\":null,\"module\":null,\"name\":\"FlexBox1\",\"overrides\":[],\"properties\":[{\"default\":\"flex-start\",\"kind\":null,\"name\":\"align_content\"},{\"default\":\"flex-start\",\"kind\":null,\"name\":\"align_items\"},{\"default\":\"row\",\"kind\":null,\"name\":\"flex_direction\"},{\"default\":\"wrap\",\"kind\":null,\"name\":\"flex_wrap\"},{\"default\":\"flex-start\",\"kind\":null,\"name\":\"justify_content\"}]},{\"extends\":null,\"module\":null,\"name\":\"GridStack1\",\"overrides\":[],\"properties\":[{\"default\":\"warn\",\"kind\":null,\"name\":\"mode\"},{\"default\":null,\"kind\":null,\"name\":\"ncols\"},{\"default\":null,\"kind\":null,\"name\":\"nrows\"},{\"default\":true,\"kind\":null,\"name\":\"allow_resize\"},{\"default\":true,\"kind\":null,\"name\":\"allow_drag\"},{\"default\":[],\"kind\":null,\"name\":\"state\"}]},{\"extends\":null,\"module\":null,\"name\":\"click1\",\"overrides\":[],\"properties\":[{\"default\":\"\",\"kind\":null,\"name\":\"terminal_output\"},{\"default\":\"\",\"kind\":null,\"name\":\"debug_name\"},{\"default\":0,\"kind\":null,\"name\":\"clears\"}]},{\"extends\":null,\"module\":null,\"name\":\"NotificationAreaBase1\",\"overrides\":[],\"properties\":[{\"default\":\"bottom-right\",\"kind\":null,\"name\":\"position\"},{\"default\":0,\"kind\":null,\"name\":\"_clear\"}]},{\"extends\":null,\"module\":null,\"name\":\"NotificationArea1\",\"overrides\":[],\"properties\":[{\"default\":[],\"kind\":null,\"name\":\"notifications\"},{\"default\":\"bottom-right\",\"kind\":null,\"name\":\"position\"},{\"default\":0,\"kind\":null,\"name\":\"_clear\"},{\"default\":[{\"background\":\"#ffc107\",\"icon\":{\"className\":\"fas fa-exclamation-triangle\",\"color\":\"white\",\"tagName\":\"i\"},\"type\":\"warning\"},{\"background\":\"#007bff\",\"icon\":{\"className\":\"fas fa-info-circle\",\"color\":\"white\",\"tagName\":\"i\"},\"type\":\"info\"}],\"kind\":null,\"name\":\"types\"}]},{\"extends\":null,\"module\":null,\"name\":\"Notification\",\"overrides\":[],\"properties\":[{\"default\":null,\"kind\":null,\"name\":\"background\"},{\"default\":3000,\"kind\":null,\"name\":\"duration\"},{\"default\":null,\"kind\":null,\"name\":\"icon\"},{\"default\":\"\",\"kind\":null,\"name\":\"message\"},{\"default\":null,\"kind\":null,\"name\":\"notification_type\"},{\"default\":false,\"kind\":null,\"name\":\"_destroyed\"}]},{\"extends\":null,\"module\":null,\"name\":\"TemplateActions1\",\"overrides\":[],\"properties\":[{\"default\":0,\"kind\":null,\"name\":\"open_modal\"},{\"default\":0,\"kind\":null,\"name\":\"close_modal\"}]},{\"extends\":null,\"module\":null,\"name\":\"MaterialTemplateActions1\",\"overrides\":[],\"properties\":[{\"default\":0,\"kind\":null,\"name\":\"open_modal\"},{\"default\":0,\"kind\":null,\"name\":\"close_modal\"}]}],\"roots\":{\"references\":[{\"attributes\":{},\"id\":\"12800\",\"type\":\"WheelZoomTool\"},{\"attributes\":{\"source\":{\"id\":\"12838\"}},\"id\":\"12845\",\"type\":\"CDSView\"},{\"attributes\":{\"coordinates\":null,\"data_source\":{\"id\":\"12817\"},\"glyph\":{\"id\":\"12820\"},\"group\":null,\"hover_glyph\":null,\"muted_glyph\":{\"id\":\"12822\"},\"nonselection_glyph\":{\"id\":\"12821\"},\"selection_glyph\":{\"id\":\"12837\"},\"view\":{\"id\":\"12824\"}},\"id\":\"12823\",\"type\":\"GlyphRenderer\"},{\"attributes\":{},\"id\":\"12798\",\"type\":\"SaveTool\"},{\"attributes\":{},\"id\":\"12786\",\"type\":\"LinearScale\"},{\"attributes\":{\"fill_alpha\":{\"value\":0.1},\"fill_color\":{\"value\":\"#fc4f30\"},\"hatch_alpha\":{\"value\":0.1},\"hatch_color\":{\"value\":\"#fc4f30\"},\"line_alpha\":{\"value\":0.1},\"line_color\":{\"value\":\"#fc4f30\"},\"size\":{\"value\":5.477225575051661},\"x\":{\"field\":\"PCA1\"},\"y\":{\"field\":\"PCA2\"}},\"id\":\"12842\",\"type\":\"Scatter\"},{\"attributes\":{\"overlay\":{\"id\":\"12803\"}},\"id\":\"12801\",\"type\":\"BoxZoomTool\"},{\"attributes\":{},\"id\":\"12802\",\"type\":\"ResetTool\"},{\"attributes\":{\"label\":{\"value\":\"2\"},\"renderers\":[{\"id\":\"12866\"}]},\"id\":\"12882\",\"type\":\"LegendItem\"},{\"attributes\":{\"fill_alpha\":{\"value\":0.2},\"fill_color\":{\"value\":\"#fc4f30\"},\"hatch_alpha\":{\"value\":0.2},\"hatch_color\":{\"value\":\"#fc4f30\"},\"line_alpha\":{\"value\":0.2},\"line_color\":{\"value\":\"#fc4f30\"},\"size\":{\"value\":5.477225575051661},\"x\":{\"field\":\"PCA1\"},\"y\":{\"field\":\"PCA2\"}},\"id\":\"12843\",\"type\":\"Scatter\"},{\"attributes\":{\"bottom_units\":\"screen\",\"coordinates\":null,\"fill_alpha\":0.5,\"fill_color\":\"lightgrey\",\"group\":null,\"left_units\":\"screen\",\"level\":\"overlay\",\"line_alpha\":1.0,\"line_color\":\"black\",\"line_dash\":[4,4],\"line_width\":2,\"right_units\":\"screen\",\"syncable\":false,\"top_units\":\"screen\"},\"id\":\"12803\",\"type\":\"BoxAnnotation\"},{\"attributes\":{\"fill_color\":{\"value\":\"#e5ae38\"},\"hatch_color\":{\"value\":\"#e5ae38\"},\"line_color\":{\"value\":\"#e5ae38\"},\"size\":{\"value\":5.477225575051661},\"x\":{\"field\":\"PCA1\"},\"y\":{\"field\":\"PCA2\"}},\"id\":\"12863\",\"type\":\"Scatter\"},{\"attributes\":{\"end\":12.455853392088464,\"reset_end\":12.455853392088464,\"reset_start\":-8.293855672475022,\"start\":-8.293855672475022,\"tags\":[[[\"PCA1\",\"PCA1\",null]]]},\"id\":\"12776\",\"type\":\"Range1d\"},{\"attributes\":{},\"id\":\"12839\",\"type\":\"Selection\"},{\"attributes\":{\"coordinates\":null,\"data_source\":{\"id\":\"12860\"},\"glyph\":{\"id\":\"12863\"},\"group\":null,\"hover_glyph\":null,\"muted_glyph\":{\"id\":\"12865\"},\"nonselection_glyph\":{\"id\":\"12864\"},\"selection_glyph\":{\"id\":\"12883\"},\"view\":{\"id\":\"12867\"}},\"id\":\"12866\",\"type\":\"GlyphRenderer\"},{\"attributes\":{\"end\":13.655980051102265,\"reset_end\":13.655980051102265,\"reset_start\":-8.04563986139937,\"start\":-8.04563986139937,\"tags\":[[[\"PCA2\",\"PCA2\",null]]]},\"id\":\"12777\",\"type\":\"Range1d\"},{\"attributes\":{\"active_drag\":{\"id\":\"12799\"},\"active_scroll\":{\"id\":\"12800\"},\"tools\":[{\"id\":\"12778\"},{\"id\":\"12798\"},{\"id\":\"12799\"},{\"id\":\"12800\"},{\"id\":\"12801\"},{\"id\":\"12802\"}]},\"id\":\"12804\",\"type\":\"Toolbar\"},{\"attributes\":{},\"id\":\"12855\",\"type\":\"UnionRenderers\"},{\"attributes\":{},\"id\":\"12812\",\"type\":\"BasicTickFormatter\"},{\"attributes\":{},\"id\":\"12879\",\"type\":\"UnionRenderers\"},{\"attributes\":{\"data\":{\"PCA1\":{\"__ndarray__\":\"4QmnoT+U0D+PCWcM7qzvv703Nf+qa/+/EuOHyZ917r8qlzlvpjLmP7Mhu1FiEfG/lkdOBFUy9r/b2cKqrED6v9WK5UyNxPm/rAHpnXNs0L9N3znmx3EDwFajEyReidO/sghYYMRm7b+1QEcDq8n3vypn/WCWxhLAfjtC6OZO+79gYe6v4oAUwJPrAD/cLMy/wB8lVzCk87/UvUF5Hvn2v6g63SzmYwbA+v8TSPR37b9OIY55EEHqvykUzxHldgPA21p03qX17L/fhXgnHgoGwIm7PIt7ow3A18ft9HWVAsDg8WhK84f/v/4bXKFiWQLAq332oAIR4L9sjy2mPmX5v+dQRe72efO/CDLlDimmEMBDGhvPQg76v44F4+4/m+O/0EJfdYSM+L+GOX4W8SgAwPTMtjkRgPO/228FEH+Q9L/6shCwSdD9v0OxmAQ6XQTA5oWZr7Y8F8BP14DPA8D6v9acwsa4PxDAHtJ7awc3A8C6DYdvTT0QwG9knxLqWP+/OuNnirbYFMD4ayfL59EIwGV5Men5NAXAaD5naJ8V5b9nci+Xd/H2v+FBHNsmXgLAIhJYhXk2+7+GPXFjOtQCwOS2G4i8KAHAFug1BHMaAsDjPBBJzqgNwOSb6xOyHvW/ZQtbqFq5CsCa9v9G2boKwHeOpS5Za/q/PftR2iJ99b8u89fesgIBwP/HlqgMRxDAZCtyHaLH+r87AosCi5oUwIkruII8aQnApikmmf7XEcC4NEZCeLUMwLJhjtBFexXAo0sojjiGG8C6knhD8rzxv6mFRXXw7QXAoplf4S7mHcCkv/f+8XkRwBa7jgFVlQfAH7DT7jSO+r/x97K96RQdwNLzQ77jGPC/wPUVLKIHGsBLv3UJFwcawL8uGIfqbwDAJegSYt0/CsCaGRkfCeEXwPdjaklmgwXAajiThyAiA8ALK0JTh3fzvxrlN3kpehDAPrqNoHCB+b+je8UakD4WwGWlL6ubuQ3AUhdbhNQ89789fIzDJJUTwPRcV2QxdwLAmpRXtHm/GcD6mo2gmm8FwMx/F2i2zwPA06hPv7cXEcD1JQpW4HkZwAVu1trVMAjA9SUKVuB5GcCuiewF/+8VwCSQ1A2ZlRvAUPzUtB51E8A=\",\"dtype\":\"float64\",\"order\":\"little\",\"shape\":[106]},\"PCA2\":{\"__ndarray__\":\"Vi/i1SZyBED0gnzM8M0TQDUZ/uyDSRtAaUfArkLaFEBHXXIeT8kBQOuSOr70igRA1hbYoH7N8T/umN9w8zr0P3JH5C17IPQ/9lrU8pdQ4r8N9AmtqdD6P+i/xlitEuU//vcKmxbQ0b84zN58JGzgP3U24Jy+JQFAbGC85eXZ2b/4ALqm3e4EQHAH/atUKeG/lFoGdeWS9T8UBAMKYjjkP5VKCj2ZLPw/etNtA0Rn+D89V4w6Iu3ivzBX2fLQ1dQ/hPbncJth5b/UQ9LlsYHrP1c2SvxlCvk/FhIaBVWm6L+Z19eymQTkv+Yi0R3dIt+/ufMSWrDV8r+RcYWfjVfcv+IpLbOfVfC/r2srDDrz6z95OXKbpChvP8vWgrNPDvE/E1uCVSKBmb9Ua8FD9Sfbv691XImnJOS/eita3qTN8L/6cRA/SSnxv4hy9HUudOO/Mxcm9nJe9z+PBF/hX57vvyn64jSpVuA/mNK4/4e+9T/Ere2PtxDTP/k+s90hgNy/jCVeTEbm7j+xPTpjLk7Ev4362g0bpNy/x/64K6aL2z827Q8seHL2v1MjwyRGpeG/PDXn9Xa+9L84rRi+DYzov5Yfw0X5Tea/IGJdibro3L8XbF5A5+vhP1myxiAgg/C/QWfPVvQLuD+3PCQ8DBa9P+ulB68SnuO/4gV2WAM60j+85UrXrGDhPwn6fmAm2tQ/6cRBPgpR8r/It9mz0Xj2P+Mq1qK3euC/lL9KtJsgtj/hyf1AjWipP1UTgtgxOOo/XM9C8i/jAUBXkaqmkgr6v/+2gOBZ2M2/yBX8arH6AkD1rA6prT+5PxxHEfiSqdi/Lv9rVQbn+L8d0r6PLwwCQFUVyRjpPvy/I8Ke41Jr/D/G/T0BRDP7P8hLWUyrSuu/Cld3JBQNrb+3jgNW39jxP7rJaxoYlMg/r4f2leaw9b+upHNtQM30vxAdx4dwhNE/4LN2CacZ5b8KN7I/8sbxPwOODbw2ZvY/Tu/Q1J6irj/I0imAX9DgP6k7w4ICy/S/xJTtawWq9D/eD6P+3Z/wv4jRSqirlPK/PUqwvBjBoj9nwLkCC3r4P9bHtEHQkOm/Z8C5Agt6+D//SDtDbgTwP2/K79uwxAlAiSizGD7/7D8=\",\"dtype\":\"float64\",\"order\":\"little\",\"shape\":[106]},\"pca_prediction\":[0,0,0,0,0,0,0,0,0,0,0,0,0,0,0,0,0,0,0,0,0,0,0,0,0,0,0,0,0,0,0,0,0,0,0,0,0,0,0,0,0,0,0,0,0,0,0,0,0,0,0,0,0,0,0,0,0,0,0,0,0,0,0,0,0,0,0,0,0,0,0,0,0,0,0,0,0,0,0,0,0,0,0,0,0,0,0,0,0,0,0,0,0,0,0,0,0,0,0,0,0,0,0,0,0,0]},\"selected\":{\"id\":\"12818\"},\"selection_policy\":{\"id\":\"12832\"}},\"id\":\"12817\",\"type\":\"ColumnDataSource\"},{\"attributes\":{},\"id\":\"12816\",\"type\":\"AllLabels\"},{\"attributes\":{\"angle\":{\"value\":0.0},\"fill_alpha\":{\"value\":1.0},\"fill_color\":{\"value\":\"#30a2da\"},\"hatch_alpha\":{\"value\":1.0},\"hatch_color\":{\"value\":\"#30a2da\"},\"hatch_scale\":{\"value\":12.0},\"hatch_weight\":{\"value\":1.0},\"line_alpha\":{\"value\":1.0},\"line_cap\":{\"value\":\"butt\"},\"line_color\":{\"value\":\"#30a2da\"},\"line_dash\":{\"value\":[]},\"line_dash_offset\":{\"value\":0},\"line_join\":{\"value\":\"bevel\"},\"line_width\":{\"value\":1},\"marker\":{\"value\":\"circle\"},\"size\":{\"value\":5.477225575051661},\"x\":{\"field\":\"PCA1\"},\"y\":{\"field\":\"PCA2\"}},\"id\":\"12837\",\"type\":\"Scatter\"},{\"attributes\":{\"callback\":null,\"renderers\":[{\"id\":\"12823\"},{\"id\":\"12844\"},{\"id\":\"12866\"}],\"tags\":[\"hv_created\"],\"tooltips\":[[\"pca_prediction\",\"@{pca_prediction}\"],[\"PCA1\",\"@{PCA1}\"],[\"PCA2\",\"@{PCA2}\"]]},\"id\":\"12778\",\"type\":\"HoverTool\"},{\"attributes\":{\"fill_alpha\":{\"value\":0.1},\"fill_color\":{\"value\":\"#30a2da\"},\"hatch_alpha\":{\"value\":0.1},\"hatch_color\":{\"value\":\"#30a2da\"},\"line_alpha\":{\"value\":0.1},\"line_color\":{\"value\":\"#30a2da\"},\"size\":{\"value\":5.477225575051661},\"x\":{\"field\":\"PCA1\"},\"y\":{\"field\":\"PCA2\"}},\"id\":\"12821\",\"type\":\"Scatter\"},{\"attributes\":{},\"id\":\"12815\",\"type\":\"BasicTickFormatter\"},{\"attributes\":{\"source\":{\"id\":\"12860\"}},\"id\":\"12867\",\"type\":\"CDSView\"},{\"attributes\":{\"data\":{\"PCA1\":{\"__ndarray__\":\"K1UnzghGJ0AJsdqSgJ4lQF75F8oQHxpAKkMgyK5oG0ComKWhnzAlQM/jn6rVERpAPfh2wfVPIEASfZ0219waQOiGyNxAzyFA\",\"dtype\":\"float64\",\"order\":\"little\",\"shape\":[9]},\"PCA2\":{\"__ndarray__\":\"658aY1lzGkDShGkCYEkaQPM4jA7tsSdAQIrGWuxiJ0Chg849mVYYQL2drKcj6SBAhzt60YNxHUDbtPNjYVIgQHLGWCqizh1A\",\"dtype\":\"float64\",\"order\":\"little\",\"shape\":[9]},\"pca_prediction\":[2,2,2,2,2,2,2,2,2]},\"selected\":{\"id\":\"12861\"},\"selection_policy\":{\"id\":\"12879\"}},\"id\":\"12860\",\"type\":\"ColumnDataSource\"},{\"attributes\":{},\"id\":\"12788\",\"type\":\"LinearScale\"},{\"attributes\":{\"angle\":{\"value\":0.0},\"fill_alpha\":{\"value\":1.0},\"fill_color\":{\"value\":\"#e5ae38\"},\"hatch_alpha\":{\"value\":1.0},\"hatch_color\":{\"value\":\"#e5ae38\"},\"hatch_scale\":{\"value\":12.0},\"hatch_weight\":{\"value\":1.0},\"line_alpha\":{\"value\":1.0},\"line_cap\":{\"value\":\"butt\"},\"line_color\":{\"value\":\"#e5ae38\"},\"line_dash\":{\"value\":[]},\"line_dash_offset\":{\"value\":0},\"line_join\":{\"value\":\"bevel\"},\"line_width\":{\"value\":1},\"marker\":{\"value\":\"circle\"},\"size\":{\"value\":5.477225575051661},\"x\":{\"field\":\"PCA1\"},\"y\":{\"field\":\"PCA2\"}},\"id\":\"12883\",\"type\":\"Scatter\"},{\"attributes\":{\"label\":{\"value\":\"1\"},\"renderers\":[{\"id\":\"12844\"}]},\"id\":\"12858\",\"type\":\"LegendItem\"},{\"attributes\":{\"fill_alpha\":{\"value\":0.1},\"fill_color\":{\"value\":\"#e5ae38\"},\"hatch_alpha\":{\"value\":0.1},\"hatch_color\":{\"value\":\"#e5ae38\"},\"line_alpha\":{\"value\":0.1},\"line_color\":{\"value\":\"#e5ae38\"},\"size\":{\"value\":5.477225575051661},\"x\":{\"field\":\"PCA1\"},\"y\":{\"field\":\"PCA2\"}},\"id\":\"12864\",\"type\":\"Scatter\"},{\"attributes\":{\"fill_color\":{\"value\":\"#fc4f30\"},\"hatch_color\":{\"value\":\"#fc4f30\"},\"line_color\":{\"value\":\"#fc4f30\"},\"size\":{\"value\":5.477225575051661},\"x\":{\"field\":\"PCA1\"},\"y\":{\"field\":\"PCA2\"}},\"id\":\"12841\",\"type\":\"Scatter\"},{\"attributes\":{\"below\":[{\"id\":\"12790\"}],\"center\":[{\"id\":\"12793\"},{\"id\":\"12797\"}],\"height\":300,\"left\":[{\"id\":\"12794\"}],\"margin\":[5,5,5,5],\"min_border_bottom\":10,\"min_border_left\":10,\"min_border_right\":10,\"min_border_top\":10,\"renderers\":[{\"id\":\"12823\"},{\"id\":\"12844\"},{\"id\":\"12866\"}],\"right\":[{\"id\":\"12835\"}],\"sizing_mode\":\"fixed\",\"title\":{\"id\":\"12782\"},\"toolbar\":{\"id\":\"12804\"},\"width\":700,\"x_range\":{\"id\":\"12776\"},\"x_scale\":{\"id\":\"12786\"},\"y_range\":{\"id\":\"12777\"},\"y_scale\":{\"id\":\"12788\"}},\"id\":\"12781\",\"subtype\":\"Figure\",\"type\":\"Plot\"},{\"attributes\":{\"coordinates\":null,\"group\":null,\"text_color\":\"black\",\"text_font_size\":\"12pt\"},\"id\":\"12782\",\"type\":\"Title\"},{\"attributes\":{\"coordinates\":null,\"data_source\":{\"id\":\"12838\"},\"glyph\":{\"id\":\"12841\"},\"group\":null,\"hover_glyph\":null,\"muted_glyph\":{\"id\":\"12843\"},\"nonselection_glyph\":{\"id\":\"12842\"},\"selection_glyph\":{\"id\":\"12859\"},\"view\":{\"id\":\"12845\"}},\"id\":\"12844\",\"type\":\"GlyphRenderer\"},{\"attributes\":{\"data\":{\"PCA1\":{\"__ndarray__\":\"+8/DEefZ/D/6RD6tIjQUQCW13wreuQhA2cR1DU7wFkCB8oB53fr1P1Y3cBurHBRAkfrT8I++C0DD/zsC55IDQNdODjuD2QhAOxEhzP/yEEB+T2WWX14NQKhMzlr5VgdA+u2qFp2nD0BFMnHYl3QgQPA5XDh/IBxAcbn1H/mpIEDdSOjfoo4YQH+uRs3P8glAnmWwIrbXDkDsgITQNMQEQIi+VtCtle8/BWBapOeU8z+iDx7oc3bEPwg3rz1d0fA/R+6knmSB7z+ENz7hsj4cQJHxQ2DAUQpAJdxqvom1BUBzcP3TgVAJQO3GsoedKxFA/B5SmbgpBkCh1c1NbfLwPwBqTe7CKgBAuziOloaV/D8dhhE8ZLL6P5CdRJgEo84/kCb47AD1EEBAhUBAAjoPQB5WTqWq5R9Au9yR4E+TF0Bbbn41OogXQHMrXrZAmwBAMK1UhqP7CUAYIHnZyUcFQFI1Dt4FYfo/kAzORS4m+D9zjYU/F4b9P3vIuPZ/xtI/uDzJ3kHn7z8Kn3BTJDIRQIy1/Vr+g+8/DThqLYMW6T+2M+NrdYAQQHpk/4kPxwBAcyMYDUt+B0ASA27ZAgQWQKVeN+nYaQJA5hbgI3AVEUAGMvurkILyP7OnZzi+q9Y/wJyz6pdNzL/wZtqmmcC9vy1a65N88wVA8CUPxBkQ/T9Av3t0IXIAQNFlZMon/gNAK8rSzA7L1T+ol0MhlvrmPz2AFTOih/A/HCL3X08NCkDC3ChA5zkOQD1Yvv/xj6M/+b2dqznqCkApHgAdJMTaP8pbVVoFyf4/Hye9ZgXS1b91elMMPDHrP0K1QO4InNQ/Ikre/o8zCEDN/fbC3Hq+vxJP4vvzHeo/s97p+2VPxr/q+tLaqiTkP0NXjLp+tb4/\",\"dtype\":\"float64\",\"order\":\"little\",\"shape\":[84]},\"PCA2\":{\"__ndarray__\":\"ZxDbtC5ZAUCG3XPeIgAJQKAiV45tFso/n5+hyH6S+j96K4B6wtX8PwO3Vz/hGPo/mTIkGOTm4j+jUpqwW83Rv2LIq6TAtPu/escKGej6AcBGoOy0FsbPv3S6vI9RUeo/H+rYPQpBw78cts0xM5MNwE7ajinydgrAiS6MIk/1DMDFUFmEr3UDwKLK0AKHT+o/DzkUh43dtr+6/YtdDN7nv79HB/RvUOE/kQp6fIvj1b+NrJLYnrTgv/eJkUgTx/e/48qwn4uf7b8LGgC4+1kHwHyk0SUkVvW/At6Tcxqq4L8cXfocbgb2vzb0S3iSsru/8JWyDPh14z905w9+f3/xv+DFkH5hP7i//EGmXefG+b/zy4RsEAMBwOzfRLQkGvs/hrsGWGrb6T/FGeNGtifavw0vZ8fPmRLAWxev4JvUC8CGnE8Y3fIYwHATLIbJsfm/ZnRHb9RVCcCXm0GlpwkEwHfq8S66lgHADRG0PVC4+r91hCKDsC/Ev8qdn9QsYvO/AFY7Z4aQAcDgN0m9+j0JwDNVUhlqrNM/LjDdniNfsL8Srd07f0Trv8SgD9TBqQHAnZlcuF0yBsCr+EOznOQRwEqVpJw5Ddo/DwLniyVuFMB7I2isdcLnv02p3IqCDds/0zpLszUs5D+EW9BFZp77v3raY8AgMQvAPLFEhHoq/b9lqXzWriEEwOqykMge0/6/Ear4P9Zm+7+yXIV4G9LFvymSiHGJSAHAFR16ej7JEMAf/9oDTGkSwGt1iM65WgDA+Gwvc+OEC8ChbaAR03/+v0u+D+4i1Q7AuwF9ess4BMDsYxAfI0TIv0t3lw9/OwPAuCWlHcjnBcD+PZADyM4CwOS5ahML7QfAq0/7B88b6L/t247r1MTwv67qpCKy9AzA\",\"dtype\":\"float64\",\"order\":\"little\",\"shape\":[84]},\"pca_prediction\":[1,1,1,1,1,1,1,1,1,1,1,1,1,1,1,1,1,1,1,1,1,1,1,1,1,1,1,1,1,1,1,1,1,1,1,1,1,1,1,1,1,1,1,1,1,1,1,1,1,1,1,1,1,1,1,1,1,1,1,1,1,1,1,1,1,1,1,1,1,1,1,1,1,1,1,1,1,1,1,1,1,1,1,1]},\"selected\":{\"id\":\"12839\"},\"selection_policy\":{\"id\":\"12855\"}},\"id\":\"12838\",\"type\":\"ColumnDataSource\"},{\"attributes\":{\"fill_color\":{\"value\":\"#30a2da\"},\"hatch_color\":{\"value\":\"#30a2da\"},\"line_color\":{\"value\":\"#30a2da\"},\"size\":{\"value\":5.477225575051661},\"x\":{\"field\":\"PCA1\"},\"y\":{\"field\":\"PCA2\"}},\"id\":\"12820\",\"type\":\"Scatter\"},{\"attributes\":{},\"id\":\"12818\",\"type\":\"Selection\"},{\"attributes\":{\"angle\":{\"value\":0.0},\"fill_alpha\":{\"value\":1.0},\"fill_color\":{\"value\":\"#fc4f30\"},\"hatch_alpha\":{\"value\":1.0},\"hatch_color\":{\"value\":\"#fc4f30\"},\"hatch_scale\":{\"value\":12.0},\"hatch_weight\":{\"value\":1.0},\"line_alpha\":{\"value\":1.0},\"line_cap\":{\"value\":\"butt\"},\"line_color\":{\"value\":\"#fc4f30\"},\"line_dash\":{\"value\":[]},\"line_dash_offset\":{\"value\":0},\"line_join\":{\"value\":\"bevel\"},\"line_width\":{\"value\":1},\"marker\":{\"value\":\"circle\"},\"size\":{\"value\":5.477225575051661},\"x\":{\"field\":\"PCA1\"},\"y\":{\"field\":\"PCA2\"}},\"id\":\"12859\",\"type\":\"Scatter\"},{\"attributes\":{},\"id\":\"12813\",\"type\":\"AllLabels\"},{\"attributes\":{\"fill_alpha\":{\"value\":0.2},\"fill_color\":{\"value\":\"#e5ae38\"},\"hatch_alpha\":{\"value\":0.2},\"hatch_color\":{\"value\":\"#e5ae38\"},\"line_alpha\":{\"value\":0.2},\"line_color\":{\"value\":\"#e5ae38\"},\"size\":{\"value\":5.477225575051661},\"x\":{\"field\":\"PCA1\"},\"y\":{\"field\":\"PCA2\"}},\"id\":\"12865\",\"type\":\"Scatter\"},{\"attributes\":{\"axis_label\":\"PCA1\",\"coordinates\":null,\"formatter\":{\"id\":\"12812\"},\"group\":null,\"major_label_policy\":{\"id\":\"12813\"},\"ticker\":{\"id\":\"12791\"}},\"id\":\"12790\",\"type\":\"LinearAxis\"},{\"attributes\":{},\"id\":\"12832\",\"type\":\"UnionRenderers\"},{\"attributes\":{},\"id\":\"12799\",\"type\":\"PanTool\"},{\"attributes\":{},\"id\":\"12861\",\"type\":\"Selection\"},{\"attributes\":{},\"id\":\"12791\",\"type\":\"BasicTicker\"},{\"attributes\":{\"source\":{\"id\":\"12817\"}},\"id\":\"12824\",\"type\":\"CDSView\"},{\"attributes\":{\"axis\":{\"id\":\"12790\"},\"coordinates\":null,\"grid_line_color\":null,\"group\":null,\"ticker\":null},\"id\":\"12793\",\"type\":\"Grid\"},{\"attributes\":{\"fill_alpha\":{\"value\":0.2},\"fill_color\":{\"value\":\"#30a2da\"},\"hatch_alpha\":{\"value\":0.2},\"hatch_color\":{\"value\":\"#30a2da\"},\"line_alpha\":{\"value\":0.2},\"line_color\":{\"value\":\"#30a2da\"},\"size\":{\"value\":5.477225575051661},\"x\":{\"field\":\"PCA1\"},\"y\":{\"field\":\"PCA2\"}},\"id\":\"12822\",\"type\":\"Scatter\"},{\"attributes\":{\"children\":[{\"id\":\"12781\"}],\"height\":300,\"margin\":[0,0,0,0],\"name\":\"Row08429\",\"sizing_mode\":\"fixed\",\"tags\":[\"embedded\"],\"width\":700},\"id\":\"12775\",\"type\":\"Row\"},{\"attributes\":{\"axis_label\":\"PCA2\",\"coordinates\":null,\"formatter\":{\"id\":\"12815\"},\"group\":null,\"major_label_policy\":{\"id\":\"12816\"},\"ticker\":{\"id\":\"12795\"}},\"id\":\"12794\",\"type\":\"LinearAxis\"},{\"attributes\":{\"click_policy\":\"mute\",\"coordinates\":null,\"group\":null,\"items\":[{\"id\":\"12836\"},{\"id\":\"12858\"},{\"id\":\"12882\"}],\"location\":[0,0],\"title\":\"pca_prediction\"},\"id\":\"12835\",\"type\":\"Legend\"},{\"attributes\":{\"axis\":{\"id\":\"12794\"},\"coordinates\":null,\"dimension\":1,\"grid_line_color\":null,\"group\":null,\"ticker\":null},\"id\":\"12797\",\"type\":\"Grid\"},{\"attributes\":{\"label\":{\"value\":\"0\"},\"renderers\":[{\"id\":\"12823\"}]},\"id\":\"12836\",\"type\":\"LegendItem\"},{\"attributes\":{},\"id\":\"12795\",\"type\":\"BasicTicker\"}],\"root_ids\":[\"12775\"]},\"title\":\"Bokeh Application\",\"version\":\"2.4.3\"}};\n",
       "    var render_items = [{\"docid\":\"a43fc6a0-db03-4a10-8952-f6451ea407c3\",\"root_ids\":[\"12775\"],\"roots\":{\"12775\":\"beefb5a3-6500-472e-a0b6-6003e1951cfd\"}}];\n",
       "    root.Bokeh.embed.embed_items_notebook(docs_json, render_items);\n",
       "    for (const render_item of render_items) {\n",
       "      for (const root_id of render_item.root_ids) {\n",
       "\tconst id_el = document.getElementById(root_id)\n",
       "\tif (id_el.children.length && (id_el.children[0].className === 'bk-root')) {\n",
       "\t  const root_el = id_el.children[0]\n",
       "\t  root_el.id = root_el.id + '-rendered'\n",
       "\t}\n",
       "      }\n",
       "    }\n",
       "  }\n",
       "  if (root.Bokeh !== undefined && root.Bokeh.Panel !== undefined) {\n",
       "    embed_document(root);\n",
       "  } else {\n",
       "    var attempts = 0;\n",
       "    var timer = setInterval(function(root) {\n",
       "      if (root.Bokeh !== undefined && root.Bokeh.Panel !== undefined) {\n",
       "        clearInterval(timer);\n",
       "        embed_document(root);\n",
       "      } else if (document.readyState == \"complete\") {\n",
       "        attempts++;\n",
       "        if (attempts > 200) {\n",
       "          clearInterval(timer);\n",
       "          console.log(\"Bokeh: ERROR: Unable to run BokehJS code because BokehJS library is missing\");\n",
       "        }\n",
       "      }\n",
       "    }, 25, root)\n",
       "  }\n",
       "})(window);</script>"
      ],
      "text/plain": [
       ":NdOverlay   [pca_prediction]\n",
       "   :Scatter   [PCA1]   (PCA2)"
      ]
     },
     "execution_count": 148,
     "metadata": {
      "application/vnd.holoviews_exec.v0+json": {
       "id": "12775"
      }
     },
     "output_type": "execute_result"
    }
   ],
   "source": [
    "# Create a scatter plot using hvPlot by setting \n",
    "# `x=\"PC1\"` and `y=\"PC2\"`. \n",
    "# Color the graph points with the labels found using K-Means and \n",
    "# add the player name in the `hover_cols` parameter to identify \n",
    "# the player represented by each data point.\n",
    "player_pca_plot=player_pca_prediction_df.hvplot.scatter(\n",
    "    x=\"PCA1\",\n",
    "    y=\"PCA2\",\n",
    "    by=\"pca_prediction\",\n",
    "    hover_cols=['player_names']\n",
    ")\n",
    "player_pca_plot"
   ]
  },
  {
   "cell_type": "markdown",
   "metadata": {},
   "source": [
    "### Visualize and Compare the Results\n",
    "\n",
    "In this section, you will visually analyze the cluster analysis results by contrasting the outcome with and without using the optimization techniques."
   ]
  },
  {
   "cell_type": "code",
   "execution_count": null,
   "metadata": {},
   "outputs": [
    {
     "data": {
      "application/vnd.plotly.v1+json": {
       "config": {
        "plotlyServerURL": "https://plot.ly"
       },
       "data": [
        {
         "customdata": [
          [
           0
          ],
          [
           1
          ],
          [
           2
          ],
          [
           3
          ],
          [
           4
          ],
          [
           5
          ],
          [
           6
          ],
          [
           7
          ],
          [
           8
          ],
          [
           9
          ],
          [
           10
          ],
          [
           11
          ],
          [
           12
          ],
          [
           13
          ],
          [
           14
          ],
          [
           15
          ],
          [
           16
          ],
          [
           17
          ],
          [
           18
          ],
          [
           19
          ],
          [
           20
          ],
          [
           21
          ],
          [
           22
          ],
          [
           23
          ],
          [
           24
          ],
          [
           25
          ],
          [
           26
          ],
          [
           27
          ],
          [
           28
          ],
          [
           29
          ],
          [
           30
          ],
          [
           31
          ],
          [
           32
          ],
          [
           33
          ],
          [
           34
          ],
          [
           35
          ],
          [
           36
          ],
          [
           37
          ],
          [
           38
          ],
          [
           39
          ],
          [
           40
          ],
          [
           41
          ],
          [
           42
          ],
          [
           43
          ],
          [
           44
          ],
          [
           45
          ],
          [
           46
          ],
          [
           47
          ],
          [
           48
          ],
          [
           49
          ],
          [
           50
          ],
          [
           51
          ],
          [
           52
          ],
          [
           53
          ],
          [
           54
          ],
          [
           55
          ],
          [
           56
          ],
          [
           57
          ],
          [
           58
          ],
          [
           59
          ],
          [
           60
          ],
          [
           61
          ],
          [
           62
          ],
          [
           63
          ],
          [
           64
          ],
          [
           65
          ],
          [
           66
          ],
          [
           67
          ],
          [
           68
          ],
          [
           69
          ],
          [
           70
          ],
          [
           71
          ],
          [
           72
          ],
          [
           73
          ],
          [
           74
          ],
          [
           75
          ],
          [
           76
          ],
          [
           77
          ],
          [
           78
          ],
          [
           79
          ],
          [
           80
          ],
          [
           81
          ],
          [
           82
          ],
          [
           83
          ],
          [
           84
          ],
          [
           85
          ],
          [
           86
          ],
          [
           87
          ],
          [
           88
          ],
          [
           89
          ],
          [
           90
          ],
          [
           91
          ],
          [
           92
          ],
          [
           93
          ],
          [
           94
          ],
          [
           95
          ],
          [
           96
          ],
          [
           97
          ],
          [
           98
          ],
          [
           99
          ],
          [
           100
          ],
          [
           101
          ],
          [
           102
          ],
          [
           103
          ],
          [
           104
          ],
          [
           105
          ],
          [
           106
          ],
          [
           107
          ],
          [
           108
          ],
          [
           109
          ],
          [
           110
          ],
          [
           111
          ],
          [
           112
          ],
          [
           113
          ],
          [
           114
          ],
          [
           115
          ],
          [
           116
          ],
          [
           117
          ],
          [
           118
          ],
          [
           119
          ],
          [
           120
          ],
          [
           121
          ],
          [
           122
          ],
          [
           123
          ],
          [
           124
          ],
          [
           125
          ],
          [
           126
          ],
          [
           127
          ],
          [
           128
          ],
          [
           129
          ],
          [
           130
          ],
          [
           131
          ],
          [
           132
          ],
          [
           133
          ],
          [
           134
          ],
          [
           135
          ],
          [
           136
          ],
          [
           137
          ],
          [
           138
          ],
          [
           139
          ],
          [
           140
          ],
          [
           141
          ],
          [
           142
          ],
          [
           143
          ],
          [
           144
          ],
          [
           145
          ],
          [
           146
          ],
          [
           147
          ],
          [
           148
          ],
          [
           149
          ],
          [
           150
          ],
          [
           151
          ],
          [
           152
          ],
          [
           153
          ],
          [
           154
          ],
          [
           155
          ],
          [
           156
          ],
          [
           157
          ],
          [
           158
          ],
          [
           159
          ],
          [
           160
          ],
          [
           161
          ],
          [
           162
          ],
          [
           163
          ],
          [
           164
          ],
          [
           165
          ],
          [
           166
          ],
          [
           167
          ],
          [
           168
          ],
          [
           169
          ],
          [
           170
          ],
          [
           171
          ],
          [
           172
          ],
          [
           173
          ],
          [
           174
          ],
          [
           175
          ],
          [
           176
          ],
          [
           177
          ],
          [
           178
          ],
          [
           179
          ],
          [
           180
          ],
          [
           181
          ],
          [
           182
          ],
          [
           183
          ],
          [
           184
          ],
          [
           185
          ],
          [
           186
          ],
          [
           187
          ],
          [
           188
          ],
          [
           189
          ],
          [
           190
          ],
          [
           191
          ],
          [
           192
          ],
          [
           193
          ],
          [
           194
          ],
          [
           195
          ],
          [
           196
          ],
          [
           197
          ],
          [
           198
          ]
         ],
         "hovertemplate": "PCA1=%{x}<br>PCA2=%{y}<br>PCA3=%{z}<br>player_name=%{customdata[0]}<br>pca_prediction=%{marker.color}<extra></extra>",
         "legendgroup": "",
         "marker": {
          "color": [
           2,
           2,
           2,
           2,
           2,
           2,
           0,
           1,
           0,
           0,
           2,
           2,
           2,
           0,
           1,
           1,
           1,
           0,
           1,
           1,
           0,
           1,
           0,
           0,
           0,
           1,
           1,
           1,
           1,
           1,
           1,
           1,
           1,
           1,
           1,
           1,
           1,
           1,
           1,
           1,
           1,
           0,
           1,
           1,
           0,
           0,
           1,
           1,
           1,
           1,
           1,
           1,
           1,
           0,
           0,
           0,
           0,
           1,
           0,
           1,
           0,
           0,
           0,
           0,
           0,
           1,
           0,
           0,
           0,
           1,
           1,
           1,
           1,
           1,
           1,
           1,
           0,
           0,
           1,
           1,
           1,
           1,
           1,
           0,
           0,
           0,
           0,
           1,
           1,
           0,
           0,
           0,
           1,
           1,
           1,
           1,
           0,
           1,
           1,
           1,
           0,
           0,
           0,
           0,
           0,
           0,
           0,
           0,
           1,
           0,
           1,
           1,
           1,
           0,
           0,
           1,
           1,
           1,
           0,
           1,
           1,
           1,
           1,
           1,
           1,
           0,
           1,
           0,
           0,
           0,
           1,
           0,
           1,
           0,
           0,
           0,
           0,
           0,
           0,
           1,
           0,
           0,
           0,
           1,
           0,
           1,
           0,
           0,
           0,
           0,
           0,
           0,
           0,
           1,
           0,
           1,
           0,
           0,
           0,
           0,
           0,
           0,
           0,
           1,
           1,
           0,
           0,
           1,
           0,
           0,
           0,
           0,
           0,
           0,
           0,
           1,
           0,
           0,
           0,
           0,
           0,
           1,
           0,
           1,
           0,
           0,
           0,
           0,
           0,
           1,
           0,
           0,
           0,
           0,
           0,
           0,
           0,
           0,
           0
          ],
          "coloraxis": "coloraxis",
          "symbol": "circle"
         },
         "mode": "markers",
         "name": "",
         "scene": "scene",
         "showlegend": false,
         "type": "scatter3d",
         "x": [
          11.63678592901359,
          10.809574689098115,
          6.530337484086287,
          6.852229239434374,
          10.594967891182321,
          6.517416635521797,
          0.25904837404610076,
          1.8031988805714707,
          -0.9898596040950894,
          -1.963786122232235,
          8.15617184235827,
          6.715664723741854,
          8.904791736105338,
          -0.9518584190510373,
          5.050913531232476,
          3.0907555436630383,
          5.734672746956869,
          0.6936828777658992,
          1.3737463709104818,
          5.027996472095614,
          -1.0667441551796457,
          3.4680479826632298,
          -1.3872881096071743,
          -1.6407896681172278,
          -1.6104863170409562,
          2.4467296766815436,
          3.1062073339215703,
          4.2373039145643885,
          3.671080756155731,
          2.917467793865928,
          3.9568425913728307,
          8.227720989053646,
          7.0317353063860395,
          8.331978796716358,
          6.139293192436722,
          3.2435604130931206,
          3.855327864654739,
          2.5958038607060328,
          0.9870213574522078,
          1.2238537235298292,
          0.15986489137514776,
          -0.2566193620769137,
          1.0511143121288473,
          0.9845450495262832,
          -2.4305570589457717,
          -0.305259261351741,
          7.061229247496048,
          3.289917709420657,
          2.7136416317330423,
          3.164310127422192,
          4.292593117033658,
          2.7703716257273054,
          1.0591862715931273,
          -0.9187948114124735,
          -1.4867353561458405,
          -4.693933024851313,
          -1.7067631790739308,
          2.0208796136259934,
          -5.125864743160804,
          1.78650530634654,
          -0.22011902881953613,
          -1.227585163507669,
          -1.4358200775712833,
          -2.798778868199708,
          -0.9208928497100708,
          1.6685526224540645,
          -0.8204424261212269,
          -2.433054103023569,
          -0.90498631904742,
          0.2393499129768597,
          4.23926134361831,
          3.9033246059122177,
          7.974283774286532,
          5.893859394934391,
          5.883034549562207,
          2.0758070228088683,
          -2.7549403270393067,
          -3.704825485030089,
          3.2478704924193593,
          2.660052966126397,
          1.648687236217786,
          1.509321472811994,
          1.8452370148960113,
          -2.3229788909020317,
          -1.970691004432517,
          -2.2936451536402265,
          -0.5020764488034976,
          0.29336546987463635,
          0.9969796515741995,
          -1.5872179499937955,
          -1.2172765071346079,
          -4.1622659995450775,
          4.298966697453361,
          0.9848624970597242,
          0.7839980971346009,
          4.125447927229223,
          -1.6284816827843691,
          2.0971976071419336,
          2.9366665862075307,
          5.503917119350051,
          -0.6127013841398126,
          -1.5343060097549603,
          -2.0199910886069032,
          -1.2187664274650247,
          -1.2852774263219462,
          -1.8633515241191945,
          -2.54552081671696,
          -5.80929064154177,
          2.301683256151437,
          -1.671878634032925,
          4.270935593178114,
          1.1568762510315778,
          0.35423236377993844,
          -4.062228303554738,
          -2.4018696210062123,
          -0.22111796340980128,
          -0.11622009585917303,
          2.7438899570654685,
          -4.059865706079501,
          1.8164308222352439,
          2.055727872873746,
          2.4990993320359185,
          0.3405186653355112,
          0.7180891656578199,
          1.0331136699169428,
          -1.959207604164728,
          3.256499051789673,
          -5.211633837309643,
          -3.102492892399365,
          -2.650867292234738,
          3.7782731068105884,
          -0.6588894881369471,
          0.03820759055012999,
          -1.4339519410779304,
          -2.2959725492475944,
          -1.7007994850874941,
          -2.3536269921239095,
          -2.1448908456285256,
          -2.262914688963984,
          3.364367810012251,
          -3.7074247081833263,
          -1.3199940469873974,
          -3.3405049469742374,
          0.4182215007026309,
          -3.341234736143474,
          1.9240773705148393,
          -1.651208097661678,
          -1.3430508163580293,
          -2.126317730870503,
          -4.069384226038891,
          -1.6737385893090613,
          -5.150920905813616,
          -3.1763849461035005,
          -0.34094367058843206,
          -4.460932152704492,
          0.8497600785011189,
          -3.5886082818675185,
          -5.370383509340558,
          -6.881075116357269,
          -1.1086294780335906,
          -2.7411812936631645,
          -7.474788209400147,
          -4.369087203856825,
          0.32202361361381204,
          3.025176993521442,
          -2.947916042488383,
          -1.6597184495140096,
          -0.11906223068125783,
          -7.270422901199695,
          -1.0060765678638188,
          -6.507454575386362,
          -6.506923816501351,
          -2.054646544862265,
          -3.281183973505011,
          -5.9697613581724,
          0.8161563796624896,
          -2.689159940299301,
          -2.391663607769307,
          -1.2166817905696827,
          -4.119298833881908,
          -1.594101550257292,
          -0.17429804611650965,
          -5.561096590331462,
          0.6294760011586196,
          -3.7156289457240512,
          -1.4523511095189474,
          -4.895648055505316,
          -2.3081996764336683,
          -6.43698770317601,
          0.11995689443969319,
          -2.6794941466536075,
          -2.476422131745471,
          -4.273161877858189,
          -6.36901983677807,
          -3.0238453957260867,
          -6.36901983677807,
          -5.484371273576853,
          -6.896091667269534,
          -4.864374948024377
         ],
         "y": [
          6.612645672321359,
          6.571655309381827,
          11.847511725060462,
          11.693209492431492,
          6.0845689446731805,
          8.455350150891599,
          2.555738135304561,
          2.1685461167672204,
          4.951113886928159,
          6.821792319306316,
          7.360854409299356,
          8.160899280070614,
          7.451790486973197,
          5.213144999013687,
          3.125066507254533,
          0.20380944681371194,
          1.6607654416238586,
          2.223295438637851,
          1.8021874222929157,
          1.6310741876908998,
          2.5678496228814445,
          0.5906849357139264,
          1.1126695902798267,
          1.2643923195951703,
          1.2579299729008793,
          -0.27815906759614445,
          -1.731629031416127,
          -2.2475130039610436,
          -0.24823268732257214,
          0.8224265868537501,
          -0.15042236347092428,
          -3.6968749895957114,
          -3.3080790755005074,
          -3.619779844191559,
          -2.4324636783368043,
          0.8222079329483061,
          -0.08931812808825533,
          -0.7458555056654668,
          0.5410690084629478,
          -0.34201323657922794,
          -0.5220483999195423,
          -0.5723380797161031,
          -1.4861023745257833,
          -0.9257257574994039,
          1.6759430655795342,
          0.6585299238122362,
          -2.9189371466666265,
          -1.3335305669118318,
          -0.520764566171181,
          -1.3765698558762045,
          -0.10819354474001916,
          0.6081505058288581,
          -1.0936274456311965,
          -0.27832570210364327,
          0.5132009924767607,
          2.1434299713062566,
          -0.4039244407190441,
          -0.09471711482981204,
          2.6166337037576533,
          -1.6110604913884563,
          -0.5362952574871382,
          1.3483633586198822,
          0.6318826861898992,
          1.760888327062877,
          1.5252113470025663,
          -2.1264961698557214,
          -0.5914469855804111,
          0.3255503055164466,
          -0.6681649403760308,
          1.693882660079903,
          0.8080341071380281,
          -0.4086738292939141,
          -4.650206676171149,
          -3.478812938063965,
          -6.237171535357566,
          -1.6059050789928868,
          0.85958189856512,
          1.5650386672090428,
          -3.1669090932542074,
          -2.5047142897269157,
          -2.1985973041130893,
          -1.6699983988083347,
          -0.15770536807125138,
          -0.7703042125363619,
          -0.6255615704565002,
          -0.4865029135876696,
          -1.1771701353566029,
          -1.211468535004189,
          -2.1955688538535014,
          -0.44284382417915774,
          -1.020904254825489,
          0.8734407651603443,
          -3.155263403698868,
          0.30739834282697415,
          -0.06395170811191583,
          -0.8521114510780612,
          0.0038035597786524847,
          -2.2078892295140538,
          -2.7745928195246976,
          -4.473254014037745,
          1.065993977751918,
          -0.02490667006403686,
          -0.4243138467478975,
          -0.6294744189105382,
          -1.0502060590394806,
          -1.072579618782696,
          -0.6079323104673486,
          1.4605588545977752,
          0.4070571927753305,
          -0.9880828286915334,
          -5.107565103506672,
          -0.7424877517051834,
          0.42269958077180975,
          0.5105787308637605,
          1.3590164174212642,
          0.6303967000802352,
          -1.7261717536073045,
          -3.3989882498238417,
          0.2978953271437741,
          -1.8228707472545258,
          -2.51644675796449,
          -1.9265430292681978,
          -1.7126066683655419,
          -0.17047446617900658,
          -2.16041840265304,
          -0.44532057428749244,
          -4.1965273987800815,
          0.9656096927221127,
          -0.1586359009274765,
          -0.44751621583046913,
          -4.602829036942949,
          0.43039850492276027,
          -2.044299710788143,
          -1.4029466363125045,
          -0.5514250486386153,
          -1.2965001683799775,
          -0.7670963967151812,
          -0.6970182764571173,
          -0.4517046300366321,
          -3.4398869513366854,
          0.5600467927173466,
          -1.0320130615538317,
          0.09393241042508028,
          -1.906207150320235,
          0.11361767261790844,
          -3.854070529799889,
          -0.6130460184623961,
          0.28479083670398897,
          0.5430511670048683,
          0.32581481383741157,
          -1.14478515929323,
          1.4044968629273047,
          -0.5149801426317392,
          -2.5277318543814693,
          0.08643506194743927,
          -0.189579382102948,
          0.04962579172469695,
          0.8193597057985281,
          2.2359312941206735,
          -1.627581263580472,
          -0.23316501104402929,
          2.3724087103061926,
          0.09862790467620981,
          -2.4040509431933166,
          -2.73817465934982,
          -0.3853499815496535,
          -1.556402524642134,
          -2.3509674337763036,
          2.2559500913723824,
          -1.7653590171988374,
          1.776202096120081,
          1.700016026355898,
          -0.8528648844897981,
          -0.05674040742057514,
          1.1154473647992924,
          -2.9907437817521316,
          0.1920194748887079,
          -1.3556886537485118,
          -1.3001102710207237,
          0.27370846995877773,
          -0.6593814072454016,
          -0.7533946185962938,
          1.1110708702212286,
          -1.0480546189771716,
          1.3999545427149094,
          0.05983444545606052,
          0.5254361632529134,
          -1.2995629413523864,
          1.2915090766849042,
          -3.619480391176089,
          -1.0390300699955257,
          -1.1612965177456278,
          0.036629460366516466,
          1.5297956568211022,
          -0.798927429516193,
          1.5297956568211022,
          1.001081717131967,
          3.2210404570153552,
          0.9061575395983407
         ],
         "z": [
          -5.073009735335275,
          -6.215460686873373,
          -0.15279892377612958,
          0.4250958465963034,
          -3.248768697851269,
          -4.206892344359696,
          -3.271046723023845,
          -2.720530944774409,
          -0.036729805955676494,
          -1.4482953780027978,
          2.579984448722592,
          2.227767065594422,
          3.0539536272327377,
          -3.567508019896048,
          -1.7812817151587834,
          -1.2531917279129683,
          -3.6729361048178353,
          -2.373474141017294,
          -2.837621107092292,
          0.7146559408531891,
          -2.1189530019203526,
          -0.3930674501575056,
          -0.6809056903658762,
          -1.1923633647021379,
          -1.5841461116685869,
          -0.4093709115370463,
          -2.060922748484228,
          -1.1758460362102734,
          0.4431919679660609,
          2.1101785846189816,
          0.6173758237210512,
          -3.272642550843557,
          -3.2897119926112945,
          -2.4277469459400893,
          -3.0289729094959794,
          2.0116524917479817,
          0.8597150766007444,
          -0.9244187838183398,
          1.9750289892580897,
          1.1967228437461397,
          0.17278881872219795,
          -0.22413822268333944,
          0.6154313606412503,
          0.7314026173594468,
          2.0256654461685915,
          -1.971672138300403,
          0.008659050947509152,
          -0.4345347964477975,
          1.248525909566395,
          0.47995791954733774,
          2.751740617039337,
          2.8797481364893773,
          -1.102207897993888,
          -1.3083039371365408,
          -1.2401516939852366,
          -1.8440893380666168,
          -2.0436415142870796,
          3.107188739486061,
          -1.5067715401448918,
          0.09695577138854104,
          -0.6274035740551602,
          2.4634192946296505,
          2.0112056649496908,
          1.583819391556504,
          3.82111094177521,
          -0.623842961652352,
          -0.16237422834395285,
          -0.9816091390888548,
          -1.534349757813834,
          5.4936926827115675,
          7.307817977960134,
          3.032983281185157,
          -0.6145975154088785,
          -0.6333418760491976,
          -4.336901919955702,
          1.1272605682569758,
          -0.10875181469919992,
          0.7648631046665942,
          -0.756187443097663,
          -0.2656916924724671,
          -0.6356093030723167,
          1.8905908043688457,
          4.352696900563858,
          -0.8247010818351551,
          -1.037927060345119,
          -0.8520468373037723,
          -1.4788513686799876,
          -1.8182414738269768,
          -0.6669493036593132,
          -0.7101963120965628,
          -0.19783370958142774,
          -0.27890883640353975,
          -0.21366498269320508,
          4.680960216697633,
          3.0367861120401334,
          4.896606715376278,
          1.113749061850978,
          0.7193304450896194,
          -0.5872363245457597,
          -1.4329524523583088,
          4.943735700815454,
          0.7138650451456525,
          -0.6203312437084144,
          -0.7411257833804116,
          -0.1638861581753175,
          -0.6973439504076929,
          -1.2448206147827727,
          -1.7649813381889607,
          6.428191368501919,
          -0.762162802022794,
          -2.802500403087834,
          3.3460252051057275,
          4.408542852554847,
          -1.4269695712059345,
          3.4201413368241456,
          4.778437373088781,
          -0.5859268562972492,
          -1.8386652499711942,
          -1.1045367194398072,
          1.8963194612609584,
          -0.6034634530556907,
          3.361213270492727,
          1.0642724503185135,
          4.056499951316231,
          0.010492395040282003,
          0.3835005758114777,
          -1.6648894716240799,
          -1.7367400507833943,
          -0.4237108173864042,
          -0.12093486262989651,
          1.2370152181017533,
          3.4422357877603096,
          -0.9273654923405652,
          -1.0462188897935965,
          0.18066077786318155,
          -0.2230158673833774,
          -0.2558526041500603,
          0.11637652476533139,
          0.10234019610919642,
          0.6144670483643461,
          0.6162107757836431,
          0.5331823343638373,
          -0.22694730545043362,
          0.12376411435162453,
          -0.2368254382000493,
          -1.2883872088113832,
          0.5526707998546015,
          2.1782730571173894,
          1.4201470511010152,
          -1.265218314183019,
          -0.28173382005215925,
          0.6729437073728805,
          -0.5629757362034833,
          -0.9609343935252289,
          -1.0248346462619051,
          4.166273558852937,
          -0.3376142057380358,
          -1.476234853947536,
          -1.1017653051383578,
          -1.0807568850734386,
          0.45785006464243355,
          -1.8724462396158357,
          -1.553757030414984,
          -0.7621257388682146,
          2.6733543337716577,
          -0.4464745231605481,
          -0.34379338538542054,
          0.8228395933301973,
          -1.4827692674068196,
          -0.18534162271893515,
          -1.1125947144767652,
          -1.0970932952422439,
          -0.7460614015681171,
          0.8436003433170748,
          -0.8021994561482121,
          0.10271494693201154,
          1.4034038118828083,
          -1.0439263936819783,
          0.383391857628409,
          -0.7681437469901382,
          0.9501126053742309,
          2.1873398535853408,
          -0.010000737400016899,
          3.293285041856226,
          1.0116299542838172,
          2.6013999957818594,
          -1.3503378222314741,
          -0.7795878279089253,
          -1.118142188326975,
          -2.913376051317431,
          -0.7418193019469523,
          -1.069718385590657,
          -0.5277959515096617,
          -1.3171177303278148,
          -0.7416361231799268,
          -1.3171177303278148,
          -0.7929846485196721,
          1.3227761753653042,
          -0.4814485451298123
         ]
        }
       ],
       "layout": {
        "coloraxis": {
         "colorbar": {
          "title": {
           "text": "pca_prediction"
          }
         },
         "colorscale": [
          [
           0,
           "#0d0887"
          ],
          [
           0.1111111111111111,
           "#46039f"
          ],
          [
           0.2222222222222222,
           "#7201a8"
          ],
          [
           0.3333333333333333,
           "#9c179e"
          ],
          [
           0.4444444444444444,
           "#bd3786"
          ],
          [
           0.5555555555555556,
           "#d8576b"
          ],
          [
           0.6666666666666666,
           "#ed7953"
          ],
          [
           0.7777777777777778,
           "#fb9f3a"
          ],
          [
           0.8888888888888888,
           "#fdca26"
          ],
          [
           1,
           "#f0f921"
          ]
         ]
        },
        "legend": {
         "tracegroupgap": 0
        },
        "margin": {
         "t": 60
        },
        "scene": {
         "domain": {
          "x": [
           0,
           1
          ],
          "y": [
           0,
           1
          ]
         },
         "xaxis": {
          "title": {
           "text": "PCA1"
          }
         },
         "yaxis": {
          "title": {
           "text": "PCA2"
          }
         },
         "zaxis": {
          "title": {
           "text": "PCA3"
          }
         }
        },
        "template": {
         "data": {
          "bar": [
           {
            "error_x": {
             "color": "#2a3f5f"
            },
            "error_y": {
             "color": "#2a3f5f"
            },
            "marker": {
             "line": {
              "color": "#E5ECF6",
              "width": 0.5
             },
             "pattern": {
              "fillmode": "overlay",
              "size": 10,
              "solidity": 0.2
             }
            },
            "type": "bar"
           }
          ],
          "barpolar": [
           {
            "marker": {
             "line": {
              "color": "#E5ECF6",
              "width": 0.5
             },
             "pattern": {
              "fillmode": "overlay",
              "size": 10,
              "solidity": 0.2
             }
            },
            "type": "barpolar"
           }
          ],
          "carpet": [
           {
            "aaxis": {
             "endlinecolor": "#2a3f5f",
             "gridcolor": "white",
             "linecolor": "white",
             "minorgridcolor": "white",
             "startlinecolor": "#2a3f5f"
            },
            "baxis": {
             "endlinecolor": "#2a3f5f",
             "gridcolor": "white",
             "linecolor": "white",
             "minorgridcolor": "white",
             "startlinecolor": "#2a3f5f"
            },
            "type": "carpet"
           }
          ],
          "choropleth": [
           {
            "colorbar": {
             "outlinewidth": 0,
             "ticks": ""
            },
            "type": "choropleth"
           }
          ],
          "contour": [
           {
            "colorbar": {
             "outlinewidth": 0,
             "ticks": ""
            },
            "colorscale": [
             [
              0,
              "#0d0887"
             ],
             [
              0.1111111111111111,
              "#46039f"
             ],
             [
              0.2222222222222222,
              "#7201a8"
             ],
             [
              0.3333333333333333,
              "#9c179e"
             ],
             [
              0.4444444444444444,
              "#bd3786"
             ],
             [
              0.5555555555555556,
              "#d8576b"
             ],
             [
              0.6666666666666666,
              "#ed7953"
             ],
             [
              0.7777777777777778,
              "#fb9f3a"
             ],
             [
              0.8888888888888888,
              "#fdca26"
             ],
             [
              1,
              "#f0f921"
             ]
            ],
            "type": "contour"
           }
          ],
          "contourcarpet": [
           {
            "colorbar": {
             "outlinewidth": 0,
             "ticks": ""
            },
            "type": "contourcarpet"
           }
          ],
          "heatmap": [
           {
            "colorbar": {
             "outlinewidth": 0,
             "ticks": ""
            },
            "colorscale": [
             [
              0,
              "#0d0887"
             ],
             [
              0.1111111111111111,
              "#46039f"
             ],
             [
              0.2222222222222222,
              "#7201a8"
             ],
             [
              0.3333333333333333,
              "#9c179e"
             ],
             [
              0.4444444444444444,
              "#bd3786"
             ],
             [
              0.5555555555555556,
              "#d8576b"
             ],
             [
              0.6666666666666666,
              "#ed7953"
             ],
             [
              0.7777777777777778,
              "#fb9f3a"
             ],
             [
              0.8888888888888888,
              "#fdca26"
             ],
             [
              1,
              "#f0f921"
             ]
            ],
            "type": "heatmap"
           }
          ],
          "heatmapgl": [
           {
            "colorbar": {
             "outlinewidth": 0,
             "ticks": ""
            },
            "colorscale": [
             [
              0,
              "#0d0887"
             ],
             [
              0.1111111111111111,
              "#46039f"
             ],
             [
              0.2222222222222222,
              "#7201a8"
             ],
             [
              0.3333333333333333,
              "#9c179e"
             ],
             [
              0.4444444444444444,
              "#bd3786"
             ],
             [
              0.5555555555555556,
              "#d8576b"
             ],
             [
              0.6666666666666666,
              "#ed7953"
             ],
             [
              0.7777777777777778,
              "#fb9f3a"
             ],
             [
              0.8888888888888888,
              "#fdca26"
             ],
             [
              1,
              "#f0f921"
             ]
            ],
            "type": "heatmapgl"
           }
          ],
          "histogram": [
           {
            "marker": {
             "pattern": {
              "fillmode": "overlay",
              "size": 10,
              "solidity": 0.2
             }
            },
            "type": "histogram"
           }
          ],
          "histogram2d": [
           {
            "colorbar": {
             "outlinewidth": 0,
             "ticks": ""
            },
            "colorscale": [
             [
              0,
              "#0d0887"
             ],
             [
              0.1111111111111111,
              "#46039f"
             ],
             [
              0.2222222222222222,
              "#7201a8"
             ],
             [
              0.3333333333333333,
              "#9c179e"
             ],
             [
              0.4444444444444444,
              "#bd3786"
             ],
             [
              0.5555555555555556,
              "#d8576b"
             ],
             [
              0.6666666666666666,
              "#ed7953"
             ],
             [
              0.7777777777777778,
              "#fb9f3a"
             ],
             [
              0.8888888888888888,
              "#fdca26"
             ],
             [
              1,
              "#f0f921"
             ]
            ],
            "type": "histogram2d"
           }
          ],
          "histogram2dcontour": [
           {
            "colorbar": {
             "outlinewidth": 0,
             "ticks": ""
            },
            "colorscale": [
             [
              0,
              "#0d0887"
             ],
             [
              0.1111111111111111,
              "#46039f"
             ],
             [
              0.2222222222222222,
              "#7201a8"
             ],
             [
              0.3333333333333333,
              "#9c179e"
             ],
             [
              0.4444444444444444,
              "#bd3786"
             ],
             [
              0.5555555555555556,
              "#d8576b"
             ],
             [
              0.6666666666666666,
              "#ed7953"
             ],
             [
              0.7777777777777778,
              "#fb9f3a"
             ],
             [
              0.8888888888888888,
              "#fdca26"
             ],
             [
              1,
              "#f0f921"
             ]
            ],
            "type": "histogram2dcontour"
           }
          ],
          "mesh3d": [
           {
            "colorbar": {
             "outlinewidth": 0,
             "ticks": ""
            },
            "type": "mesh3d"
           }
          ],
          "parcoords": [
           {
            "line": {
             "colorbar": {
              "outlinewidth": 0,
              "ticks": ""
             }
            },
            "type": "parcoords"
           }
          ],
          "pie": [
           {
            "automargin": true,
            "type": "pie"
           }
          ],
          "scatter": [
           {
            "fillpattern": {
             "fillmode": "overlay",
             "size": 10,
             "solidity": 0.2
            },
            "type": "scatter"
           }
          ],
          "scatter3d": [
           {
            "line": {
             "colorbar": {
              "outlinewidth": 0,
              "ticks": ""
             }
            },
            "marker": {
             "colorbar": {
              "outlinewidth": 0,
              "ticks": ""
             }
            },
            "type": "scatter3d"
           }
          ],
          "scattercarpet": [
           {
            "marker": {
             "colorbar": {
              "outlinewidth": 0,
              "ticks": ""
             }
            },
            "type": "scattercarpet"
           }
          ],
          "scattergeo": [
           {
            "marker": {
             "colorbar": {
              "outlinewidth": 0,
              "ticks": ""
             }
            },
            "type": "scattergeo"
           }
          ],
          "scattergl": [
           {
            "marker": {
             "colorbar": {
              "outlinewidth": 0,
              "ticks": ""
             }
            },
            "type": "scattergl"
           }
          ],
          "scattermapbox": [
           {
            "marker": {
             "colorbar": {
              "outlinewidth": 0,
              "ticks": ""
             }
            },
            "type": "scattermapbox"
           }
          ],
          "scatterpolar": [
           {
            "marker": {
             "colorbar": {
              "outlinewidth": 0,
              "ticks": ""
             }
            },
            "type": "scatterpolar"
           }
          ],
          "scatterpolargl": [
           {
            "marker": {
             "colorbar": {
              "outlinewidth": 0,
              "ticks": ""
             }
            },
            "type": "scatterpolargl"
           }
          ],
          "scatterternary": [
           {
            "marker": {
             "colorbar": {
              "outlinewidth": 0,
              "ticks": ""
             }
            },
            "type": "scatterternary"
           }
          ],
          "surface": [
           {
            "colorbar": {
             "outlinewidth": 0,
             "ticks": ""
            },
            "colorscale": [
             [
              0,
              "#0d0887"
             ],
             [
              0.1111111111111111,
              "#46039f"
             ],
             [
              0.2222222222222222,
              "#7201a8"
             ],
             [
              0.3333333333333333,
              "#9c179e"
             ],
             [
              0.4444444444444444,
              "#bd3786"
             ],
             [
              0.5555555555555556,
              "#d8576b"
             ],
             [
              0.6666666666666666,
              "#ed7953"
             ],
             [
              0.7777777777777778,
              "#fb9f3a"
             ],
             [
              0.8888888888888888,
              "#fdca26"
             ],
             [
              1,
              "#f0f921"
             ]
            ],
            "type": "surface"
           }
          ],
          "table": [
           {
            "cells": {
             "fill": {
              "color": "#EBF0F8"
             },
             "line": {
              "color": "white"
             }
            },
            "header": {
             "fill": {
              "color": "#C8D4E3"
             },
             "line": {
              "color": "white"
             }
            },
            "type": "table"
           }
          ]
         },
         "layout": {
          "annotationdefaults": {
           "arrowcolor": "#2a3f5f",
           "arrowhead": 0,
           "arrowwidth": 1
          },
          "autotypenumbers": "strict",
          "coloraxis": {
           "colorbar": {
            "outlinewidth": 0,
            "ticks": ""
           }
          },
          "colorscale": {
           "diverging": [
            [
             0,
             "#8e0152"
            ],
            [
             0.1,
             "#c51b7d"
            ],
            [
             0.2,
             "#de77ae"
            ],
            [
             0.3,
             "#f1b6da"
            ],
            [
             0.4,
             "#fde0ef"
            ],
            [
             0.5,
             "#f7f7f7"
            ],
            [
             0.6,
             "#e6f5d0"
            ],
            [
             0.7,
             "#b8e186"
            ],
            [
             0.8,
             "#7fbc41"
            ],
            [
             0.9,
             "#4d9221"
            ],
            [
             1,
             "#276419"
            ]
           ],
           "sequential": [
            [
             0,
             "#0d0887"
            ],
            [
             0.1111111111111111,
             "#46039f"
            ],
            [
             0.2222222222222222,
             "#7201a8"
            ],
            [
             0.3333333333333333,
             "#9c179e"
            ],
            [
             0.4444444444444444,
             "#bd3786"
            ],
            [
             0.5555555555555556,
             "#d8576b"
            ],
            [
             0.6666666666666666,
             "#ed7953"
            ],
            [
             0.7777777777777778,
             "#fb9f3a"
            ],
            [
             0.8888888888888888,
             "#fdca26"
            ],
            [
             1,
             "#f0f921"
            ]
           ],
           "sequentialminus": [
            [
             0,
             "#0d0887"
            ],
            [
             0.1111111111111111,
             "#46039f"
            ],
            [
             0.2222222222222222,
             "#7201a8"
            ],
            [
             0.3333333333333333,
             "#9c179e"
            ],
            [
             0.4444444444444444,
             "#bd3786"
            ],
            [
             0.5555555555555556,
             "#d8576b"
            ],
            [
             0.6666666666666666,
             "#ed7953"
            ],
            [
             0.7777777777777778,
             "#fb9f3a"
            ],
            [
             0.8888888888888888,
             "#fdca26"
            ],
            [
             1,
             "#f0f921"
            ]
           ]
          },
          "colorway": [
           "#636efa",
           "#EF553B",
           "#00cc96",
           "#ab63fa",
           "#FFA15A",
           "#19d3f3",
           "#FF6692",
           "#B6E880",
           "#FF97FF",
           "#FECB52"
          ],
          "font": {
           "color": "#2a3f5f"
          },
          "geo": {
           "bgcolor": "white",
           "lakecolor": "white",
           "landcolor": "#E5ECF6",
           "showlakes": true,
           "showland": true,
           "subunitcolor": "white"
          },
          "hoverlabel": {
           "align": "left"
          },
          "hovermode": "closest",
          "mapbox": {
           "style": "light"
          },
          "paper_bgcolor": "white",
          "plot_bgcolor": "#E5ECF6",
          "polar": {
           "angularaxis": {
            "gridcolor": "white",
            "linecolor": "white",
            "ticks": ""
           },
           "bgcolor": "#E5ECF6",
           "radialaxis": {
            "gridcolor": "white",
            "linecolor": "white",
            "ticks": ""
           }
          },
          "scene": {
           "xaxis": {
            "backgroundcolor": "#E5ECF6",
            "gridcolor": "white",
            "gridwidth": 2,
            "linecolor": "white",
            "showbackground": true,
            "ticks": "",
            "zerolinecolor": "white"
           },
           "yaxis": {
            "backgroundcolor": "#E5ECF6",
            "gridcolor": "white",
            "gridwidth": 2,
            "linecolor": "white",
            "showbackground": true,
            "ticks": "",
            "zerolinecolor": "white"
           },
           "zaxis": {
            "backgroundcolor": "#E5ECF6",
            "gridcolor": "white",
            "gridwidth": 2,
            "linecolor": "white",
            "showbackground": true,
            "ticks": "",
            "zerolinecolor": "white"
           }
          },
          "shapedefaults": {
           "line": {
            "color": "#2a3f5f"
           }
          },
          "ternary": {
           "aaxis": {
            "gridcolor": "white",
            "linecolor": "white",
            "ticks": ""
           },
           "baxis": {
            "gridcolor": "white",
            "linecolor": "white",
            "ticks": ""
           },
           "bgcolor": "#E5ECF6",
           "caxis": {
            "gridcolor": "white",
            "linecolor": "white",
            "ticks": ""
           }
          },
          "title": {
           "x": 0.05
          },
          "xaxis": {
           "automargin": true,
           "gridcolor": "white",
           "linecolor": "white",
           "ticks": "",
           "title": {
            "standoff": 15
           },
           "zerolinecolor": "white",
           "zerolinewidth": 2
          },
          "yaxis": {
           "automargin": true,
           "gridcolor": "white",
           "linecolor": "white",
           "ticks": "",
           "title": {
            "standoff": 15
           },
           "zerolinecolor": "white",
           "zerolinewidth": 2
          }
         }
        }
       }
      },
      "text/html": [
       "<div>                            <div id=\"14fd5faf-0bd9-454a-9eb7-05e344faaed8\" class=\"plotly-graph-div\" style=\"height:525px; width:100%;\"></div>            <script type=\"text/javascript\">                require([\"plotly\"], function(Plotly) {                    window.PLOTLYENV=window.PLOTLYENV || {};                                    if (document.getElementById(\"14fd5faf-0bd9-454a-9eb7-05e344faaed8\")) {                    Plotly.newPlot(                        \"14fd5faf-0bd9-454a-9eb7-05e344faaed8\",                        [{\"customdata\":[[0],[1],[2],[3],[4],[5],[6],[7],[8],[9],[10],[11],[12],[13],[14],[15],[16],[17],[18],[19],[20],[21],[22],[23],[24],[25],[26],[27],[28],[29],[30],[31],[32],[33],[34],[35],[36],[37],[38],[39],[40],[41],[42],[43],[44],[45],[46],[47],[48],[49],[50],[51],[52],[53],[54],[55],[56],[57],[58],[59],[60],[61],[62],[63],[64],[65],[66],[67],[68],[69],[70],[71],[72],[73],[74],[75],[76],[77],[78],[79],[80],[81],[82],[83],[84],[85],[86],[87],[88],[89],[90],[91],[92],[93],[94],[95],[96],[97],[98],[99],[100],[101],[102],[103],[104],[105],[106],[107],[108],[109],[110],[111],[112],[113],[114],[115],[116],[117],[118],[119],[120],[121],[122],[123],[124],[125],[126],[127],[128],[129],[130],[131],[132],[133],[134],[135],[136],[137],[138],[139],[140],[141],[142],[143],[144],[145],[146],[147],[148],[149],[150],[151],[152],[153],[154],[155],[156],[157],[158],[159],[160],[161],[162],[163],[164],[165],[166],[167],[168],[169],[170],[171],[172],[173],[174],[175],[176],[177],[178],[179],[180],[181],[182],[183],[184],[185],[186],[187],[188],[189],[190],[191],[192],[193],[194],[195],[196],[197],[198]],\"hovertemplate\":\"PCA1=%{x}<br>PCA2=%{y}<br>PCA3=%{z}<br>player_name=%{customdata[0]}<br>pca_prediction=%{marker.color}<extra></extra>\",\"legendgroup\":\"\",\"marker\":{\"color\":[2,2,2,2,2,2,0,1,0,0,2,2,2,0,1,1,1,0,1,1,0,1,0,0,0,1,1,1,1,1,1,1,1,1,1,1,1,1,1,1,1,0,1,1,0,0,1,1,1,1,1,1,1,0,0,0,0,1,0,1,0,0,0,0,0,1,0,0,0,1,1,1,1,1,1,1,0,0,1,1,1,1,1,0,0,0,0,1,1,0,0,0,1,1,1,1,0,1,1,1,0,0,0,0,0,0,0,0,1,0,1,1,1,0,0,1,1,1,0,1,1,1,1,1,1,0,1,0,0,0,1,0,1,0,0,0,0,0,0,1,0,0,0,1,0,1,0,0,0,0,0,0,0,1,0,1,0,0,0,0,0,0,0,1,1,0,0,1,0,0,0,0,0,0,0,1,0,0,0,0,0,1,0,1,0,0,0,0,0,1,0,0,0,0,0,0,0,0,0],\"coloraxis\":\"coloraxis\",\"symbol\":\"circle\"},\"mode\":\"markers\",\"name\":\"\",\"scene\":\"scene\",\"showlegend\":false,\"x\":[11.63678592901359,10.809574689098115,6.530337484086287,6.852229239434374,10.594967891182321,6.517416635521797,0.25904837404610076,1.8031988805714707,-0.9898596040950894,-1.963786122232235,8.15617184235827,6.715664723741854,8.904791736105338,-0.9518584190510373,5.050913531232476,3.0907555436630383,5.734672746956869,0.6936828777658992,1.3737463709104818,5.027996472095614,-1.0667441551796457,3.4680479826632298,-1.3872881096071743,-1.6407896681172278,-1.6104863170409562,2.4467296766815436,3.1062073339215703,4.2373039145643885,3.671080756155731,2.917467793865928,3.9568425913728307,8.227720989053646,7.0317353063860395,8.331978796716358,6.139293192436722,3.2435604130931206,3.855327864654739,2.5958038607060328,0.9870213574522078,1.2238537235298292,0.15986489137514776,-0.2566193620769137,1.0511143121288473,0.9845450495262832,-2.4305570589457717,-0.305259261351741,7.061229247496048,3.289917709420657,2.7136416317330423,3.164310127422192,4.292593117033658,2.7703716257273054,1.0591862715931273,-0.9187948114124735,-1.4867353561458405,-4.693933024851313,-1.7067631790739308,2.0208796136259934,-5.125864743160804,1.78650530634654,-0.22011902881953613,-1.227585163507669,-1.4358200775712833,-2.798778868199708,-0.9208928497100708,1.6685526224540645,-0.8204424261212269,-2.433054103023569,-0.90498631904742,0.2393499129768597,4.23926134361831,3.9033246059122177,7.974283774286532,5.893859394934391,5.883034549562207,2.0758070228088683,-2.7549403270393067,-3.704825485030089,3.2478704924193593,2.660052966126397,1.648687236217786,1.509321472811994,1.8452370148960113,-2.3229788909020317,-1.970691004432517,-2.2936451536402265,-0.5020764488034976,0.29336546987463635,0.9969796515741995,-1.5872179499937955,-1.2172765071346079,-4.1622659995450775,4.298966697453361,0.9848624970597242,0.7839980971346009,4.125447927229223,-1.6284816827843691,2.0971976071419336,2.9366665862075307,5.503917119350051,-0.6127013841398126,-1.5343060097549603,-2.0199910886069032,-1.2187664274650247,-1.2852774263219462,-1.8633515241191945,-2.54552081671696,-5.80929064154177,2.301683256151437,-1.671878634032925,4.270935593178114,1.1568762510315778,0.35423236377993844,-4.062228303554738,-2.4018696210062123,-0.22111796340980128,-0.11622009585917303,2.7438899570654685,-4.059865706079501,1.8164308222352439,2.055727872873746,2.4990993320359185,0.3405186653355112,0.7180891656578199,1.0331136699169428,-1.959207604164728,3.256499051789673,-5.211633837309643,-3.102492892399365,-2.650867292234738,3.7782731068105884,-0.6588894881369471,0.03820759055012999,-1.4339519410779304,-2.2959725492475944,-1.7007994850874941,-2.3536269921239095,-2.1448908456285256,-2.262914688963984,3.364367810012251,-3.7074247081833263,-1.3199940469873974,-3.3405049469742374,0.4182215007026309,-3.341234736143474,1.9240773705148393,-1.651208097661678,-1.3430508163580293,-2.126317730870503,-4.069384226038891,-1.6737385893090613,-5.150920905813616,-3.1763849461035005,-0.34094367058843206,-4.460932152704492,0.8497600785011189,-3.5886082818675185,-5.370383509340558,-6.881075116357269,-1.1086294780335906,-2.7411812936631645,-7.474788209400147,-4.369087203856825,0.32202361361381204,3.025176993521442,-2.947916042488383,-1.6597184495140096,-0.11906223068125783,-7.270422901199695,-1.0060765678638188,-6.507454575386362,-6.506923816501351,-2.054646544862265,-3.281183973505011,-5.9697613581724,0.8161563796624896,-2.689159940299301,-2.391663607769307,-1.2166817905696827,-4.119298833881908,-1.594101550257292,-0.17429804611650965,-5.561096590331462,0.6294760011586196,-3.7156289457240512,-1.4523511095189474,-4.895648055505316,-2.3081996764336683,-6.43698770317601,0.11995689443969319,-2.6794941466536075,-2.476422131745471,-4.273161877858189,-6.36901983677807,-3.0238453957260867,-6.36901983677807,-5.484371273576853,-6.896091667269534,-4.864374948024377],\"y\":[6.612645672321359,6.571655309381827,11.847511725060462,11.693209492431492,6.0845689446731805,8.455350150891599,2.555738135304561,2.1685461167672204,4.951113886928159,6.821792319306316,7.360854409299356,8.160899280070614,7.451790486973197,5.213144999013687,3.125066507254533,0.20380944681371194,1.6607654416238586,2.223295438637851,1.8021874222929157,1.6310741876908998,2.5678496228814445,0.5906849357139264,1.1126695902798267,1.2643923195951703,1.2579299729008793,-0.27815906759614445,-1.731629031416127,-2.2475130039610436,-0.24823268732257214,0.8224265868537501,-0.15042236347092428,-3.6968749895957114,-3.3080790755005074,-3.619779844191559,-2.4324636783368043,0.8222079329483061,-0.08931812808825533,-0.7458555056654668,0.5410690084629478,-0.34201323657922794,-0.5220483999195423,-0.5723380797161031,-1.4861023745257833,-0.9257257574994039,1.6759430655795342,0.6585299238122362,-2.9189371466666265,-1.3335305669118318,-0.520764566171181,-1.3765698558762045,-0.10819354474001916,0.6081505058288581,-1.0936274456311965,-0.27832570210364327,0.5132009924767607,2.1434299713062566,-0.4039244407190441,-0.09471711482981204,2.6166337037576533,-1.6110604913884563,-0.5362952574871382,1.3483633586198822,0.6318826861898992,1.760888327062877,1.5252113470025663,-2.1264961698557214,-0.5914469855804111,0.3255503055164466,-0.6681649403760308,1.693882660079903,0.8080341071380281,-0.4086738292939141,-4.650206676171149,-3.478812938063965,-6.237171535357566,-1.6059050789928868,0.85958189856512,1.5650386672090428,-3.1669090932542074,-2.5047142897269157,-2.1985973041130893,-1.6699983988083347,-0.15770536807125138,-0.7703042125363619,-0.6255615704565002,-0.4865029135876696,-1.1771701353566029,-1.211468535004189,-2.1955688538535014,-0.44284382417915774,-1.020904254825489,0.8734407651603443,-3.155263403698868,0.30739834282697415,-0.06395170811191583,-0.8521114510780612,0.0038035597786524847,-2.2078892295140538,-2.7745928195246976,-4.473254014037745,1.065993977751918,-0.02490667006403686,-0.4243138467478975,-0.6294744189105382,-1.0502060590394806,-1.072579618782696,-0.6079323104673486,1.4605588545977752,0.4070571927753305,-0.9880828286915334,-5.107565103506672,-0.7424877517051834,0.42269958077180975,0.5105787308637605,1.3590164174212642,0.6303967000802352,-1.7261717536073045,-3.3989882498238417,0.2978953271437741,-1.8228707472545258,-2.51644675796449,-1.9265430292681978,-1.7126066683655419,-0.17047446617900658,-2.16041840265304,-0.44532057428749244,-4.1965273987800815,0.9656096927221127,-0.1586359009274765,-0.44751621583046913,-4.602829036942949,0.43039850492276027,-2.044299710788143,-1.4029466363125045,-0.5514250486386153,-1.2965001683799775,-0.7670963967151812,-0.6970182764571173,-0.4517046300366321,-3.4398869513366854,0.5600467927173466,-1.0320130615538317,0.09393241042508028,-1.906207150320235,0.11361767261790844,-3.854070529799889,-0.6130460184623961,0.28479083670398897,0.5430511670048683,0.32581481383741157,-1.14478515929323,1.4044968629273047,-0.5149801426317392,-2.5277318543814693,0.08643506194743927,-0.189579382102948,0.04962579172469695,0.8193597057985281,2.2359312941206735,-1.627581263580472,-0.23316501104402929,2.3724087103061926,0.09862790467620981,-2.4040509431933166,-2.73817465934982,-0.3853499815496535,-1.556402524642134,-2.3509674337763036,2.2559500913723824,-1.7653590171988374,1.776202096120081,1.700016026355898,-0.8528648844897981,-0.05674040742057514,1.1154473647992924,-2.9907437817521316,0.1920194748887079,-1.3556886537485118,-1.3001102710207237,0.27370846995877773,-0.6593814072454016,-0.7533946185962938,1.1110708702212286,-1.0480546189771716,1.3999545427149094,0.05983444545606052,0.5254361632529134,-1.2995629413523864,1.2915090766849042,-3.619480391176089,-1.0390300699955257,-1.1612965177456278,0.036629460366516466,1.5297956568211022,-0.798927429516193,1.5297956568211022,1.001081717131967,3.2210404570153552,0.9061575395983407],\"z\":[-5.073009735335275,-6.215460686873373,-0.15279892377612958,0.4250958465963034,-3.248768697851269,-4.206892344359696,-3.271046723023845,-2.720530944774409,-0.036729805955676494,-1.4482953780027978,2.579984448722592,2.227767065594422,3.0539536272327377,-3.567508019896048,-1.7812817151587834,-1.2531917279129683,-3.6729361048178353,-2.373474141017294,-2.837621107092292,0.7146559408531891,-2.1189530019203526,-0.3930674501575056,-0.6809056903658762,-1.1923633647021379,-1.5841461116685869,-0.4093709115370463,-2.060922748484228,-1.1758460362102734,0.4431919679660609,2.1101785846189816,0.6173758237210512,-3.272642550843557,-3.2897119926112945,-2.4277469459400893,-3.0289729094959794,2.0116524917479817,0.8597150766007444,-0.9244187838183398,1.9750289892580897,1.1967228437461397,0.17278881872219795,-0.22413822268333944,0.6154313606412503,0.7314026173594468,2.0256654461685915,-1.971672138300403,0.008659050947509152,-0.4345347964477975,1.248525909566395,0.47995791954733774,2.751740617039337,2.8797481364893773,-1.102207897993888,-1.3083039371365408,-1.2401516939852366,-1.8440893380666168,-2.0436415142870796,3.107188739486061,-1.5067715401448918,0.09695577138854104,-0.6274035740551602,2.4634192946296505,2.0112056649496908,1.583819391556504,3.82111094177521,-0.623842961652352,-0.16237422834395285,-0.9816091390888548,-1.534349757813834,5.4936926827115675,7.307817977960134,3.032983281185157,-0.6145975154088785,-0.6333418760491976,-4.336901919955702,1.1272605682569758,-0.10875181469919992,0.7648631046665942,-0.756187443097663,-0.2656916924724671,-0.6356093030723167,1.8905908043688457,4.352696900563858,-0.8247010818351551,-1.037927060345119,-0.8520468373037723,-1.4788513686799876,-1.8182414738269768,-0.6669493036593132,-0.7101963120965628,-0.19783370958142774,-0.27890883640353975,-0.21366498269320508,4.680960216697633,3.0367861120401334,4.896606715376278,1.113749061850978,0.7193304450896194,-0.5872363245457597,-1.4329524523583088,4.943735700815454,0.7138650451456525,-0.6203312437084144,-0.7411257833804116,-0.1638861581753175,-0.6973439504076929,-1.2448206147827727,-1.7649813381889607,6.428191368501919,-0.762162802022794,-2.802500403087834,3.3460252051057275,4.408542852554847,-1.4269695712059345,3.4201413368241456,4.778437373088781,-0.5859268562972492,-1.8386652499711942,-1.1045367194398072,1.8963194612609584,-0.6034634530556907,3.361213270492727,1.0642724503185135,4.056499951316231,0.010492395040282003,0.3835005758114777,-1.6648894716240799,-1.7367400507833943,-0.4237108173864042,-0.12093486262989651,1.2370152181017533,3.4422357877603096,-0.9273654923405652,-1.0462188897935965,0.18066077786318155,-0.2230158673833774,-0.2558526041500603,0.11637652476533139,0.10234019610919642,0.6144670483643461,0.6162107757836431,0.5331823343638373,-0.22694730545043362,0.12376411435162453,-0.2368254382000493,-1.2883872088113832,0.5526707998546015,2.1782730571173894,1.4201470511010152,-1.265218314183019,-0.28173382005215925,0.6729437073728805,-0.5629757362034833,-0.9609343935252289,-1.0248346462619051,4.166273558852937,-0.3376142057380358,-1.476234853947536,-1.1017653051383578,-1.0807568850734386,0.45785006464243355,-1.8724462396158357,-1.553757030414984,-0.7621257388682146,2.6733543337716577,-0.4464745231605481,-0.34379338538542054,0.8228395933301973,-1.4827692674068196,-0.18534162271893515,-1.1125947144767652,-1.0970932952422439,-0.7460614015681171,0.8436003433170748,-0.8021994561482121,0.10271494693201154,1.4034038118828083,-1.0439263936819783,0.383391857628409,-0.7681437469901382,0.9501126053742309,2.1873398535853408,-0.010000737400016899,3.293285041856226,1.0116299542838172,2.6013999957818594,-1.3503378222314741,-0.7795878279089253,-1.118142188326975,-2.913376051317431,-0.7418193019469523,-1.069718385590657,-0.5277959515096617,-1.3171177303278148,-0.7416361231799268,-1.3171177303278148,-0.7929846485196721,1.3227761753653042,-0.4814485451298123],\"type\":\"scatter3d\"}],                        {\"template\":{\"data\":{\"histogram2dcontour\":[{\"type\":\"histogram2dcontour\",\"colorbar\":{\"outlinewidth\":0,\"ticks\":\"\"},\"colorscale\":[[0.0,\"#0d0887\"],[0.1111111111111111,\"#46039f\"],[0.2222222222222222,\"#7201a8\"],[0.3333333333333333,\"#9c179e\"],[0.4444444444444444,\"#bd3786\"],[0.5555555555555556,\"#d8576b\"],[0.6666666666666666,\"#ed7953\"],[0.7777777777777778,\"#fb9f3a\"],[0.8888888888888888,\"#fdca26\"],[1.0,\"#f0f921\"]]}],\"choropleth\":[{\"type\":\"choropleth\",\"colorbar\":{\"outlinewidth\":0,\"ticks\":\"\"}}],\"histogram2d\":[{\"type\":\"histogram2d\",\"colorbar\":{\"outlinewidth\":0,\"ticks\":\"\"},\"colorscale\":[[0.0,\"#0d0887\"],[0.1111111111111111,\"#46039f\"],[0.2222222222222222,\"#7201a8\"],[0.3333333333333333,\"#9c179e\"],[0.4444444444444444,\"#bd3786\"],[0.5555555555555556,\"#d8576b\"],[0.6666666666666666,\"#ed7953\"],[0.7777777777777778,\"#fb9f3a\"],[0.8888888888888888,\"#fdca26\"],[1.0,\"#f0f921\"]]}],\"heatmap\":[{\"type\":\"heatmap\",\"colorbar\":{\"outlinewidth\":0,\"ticks\":\"\"},\"colorscale\":[[0.0,\"#0d0887\"],[0.1111111111111111,\"#46039f\"],[0.2222222222222222,\"#7201a8\"],[0.3333333333333333,\"#9c179e\"],[0.4444444444444444,\"#bd3786\"],[0.5555555555555556,\"#d8576b\"],[0.6666666666666666,\"#ed7953\"],[0.7777777777777778,\"#fb9f3a\"],[0.8888888888888888,\"#fdca26\"],[1.0,\"#f0f921\"]]}],\"heatmapgl\":[{\"type\":\"heatmapgl\",\"colorbar\":{\"outlinewidth\":0,\"ticks\":\"\"},\"colorscale\":[[0.0,\"#0d0887\"],[0.1111111111111111,\"#46039f\"],[0.2222222222222222,\"#7201a8\"],[0.3333333333333333,\"#9c179e\"],[0.4444444444444444,\"#bd3786\"],[0.5555555555555556,\"#d8576b\"],[0.6666666666666666,\"#ed7953\"],[0.7777777777777778,\"#fb9f3a\"],[0.8888888888888888,\"#fdca26\"],[1.0,\"#f0f921\"]]}],\"contourcarpet\":[{\"type\":\"contourcarpet\",\"colorbar\":{\"outlinewidth\":0,\"ticks\":\"\"}}],\"contour\":[{\"type\":\"contour\",\"colorbar\":{\"outlinewidth\":0,\"ticks\":\"\"},\"colorscale\":[[0.0,\"#0d0887\"],[0.1111111111111111,\"#46039f\"],[0.2222222222222222,\"#7201a8\"],[0.3333333333333333,\"#9c179e\"],[0.4444444444444444,\"#bd3786\"],[0.5555555555555556,\"#d8576b\"],[0.6666666666666666,\"#ed7953\"],[0.7777777777777778,\"#fb9f3a\"],[0.8888888888888888,\"#fdca26\"],[1.0,\"#f0f921\"]]}],\"surface\":[{\"type\":\"surface\",\"colorbar\":{\"outlinewidth\":0,\"ticks\":\"\"},\"colorscale\":[[0.0,\"#0d0887\"],[0.1111111111111111,\"#46039f\"],[0.2222222222222222,\"#7201a8\"],[0.3333333333333333,\"#9c179e\"],[0.4444444444444444,\"#bd3786\"],[0.5555555555555556,\"#d8576b\"],[0.6666666666666666,\"#ed7953\"],[0.7777777777777778,\"#fb9f3a\"],[0.8888888888888888,\"#fdca26\"],[1.0,\"#f0f921\"]]}],\"mesh3d\":[{\"type\":\"mesh3d\",\"colorbar\":{\"outlinewidth\":0,\"ticks\":\"\"}}],\"scatter\":[{\"fillpattern\":{\"fillmode\":\"overlay\",\"size\":10,\"solidity\":0.2},\"type\":\"scatter\"}],\"parcoords\":[{\"type\":\"parcoords\",\"line\":{\"colorbar\":{\"outlinewidth\":0,\"ticks\":\"\"}}}],\"scatterpolargl\":[{\"type\":\"scatterpolargl\",\"marker\":{\"colorbar\":{\"outlinewidth\":0,\"ticks\":\"\"}}}],\"bar\":[{\"error_x\":{\"color\":\"#2a3f5f\"},\"error_y\":{\"color\":\"#2a3f5f\"},\"marker\":{\"line\":{\"color\":\"#E5ECF6\",\"width\":0.5},\"pattern\":{\"fillmode\":\"overlay\",\"size\":10,\"solidity\":0.2}},\"type\":\"bar\"}],\"scattergeo\":[{\"type\":\"scattergeo\",\"marker\":{\"colorbar\":{\"outlinewidth\":0,\"ticks\":\"\"}}}],\"scatterpolar\":[{\"type\":\"scatterpolar\",\"marker\":{\"colorbar\":{\"outlinewidth\":0,\"ticks\":\"\"}}}],\"histogram\":[{\"marker\":{\"pattern\":{\"fillmode\":\"overlay\",\"size\":10,\"solidity\":0.2}},\"type\":\"histogram\"}],\"scattergl\":[{\"type\":\"scattergl\",\"marker\":{\"colorbar\":{\"outlinewidth\":0,\"ticks\":\"\"}}}],\"scatter3d\":[{\"type\":\"scatter3d\",\"line\":{\"colorbar\":{\"outlinewidth\":0,\"ticks\":\"\"}},\"marker\":{\"colorbar\":{\"outlinewidth\":0,\"ticks\":\"\"}}}],\"scattermapbox\":[{\"type\":\"scattermapbox\",\"marker\":{\"colorbar\":{\"outlinewidth\":0,\"ticks\":\"\"}}}],\"scatterternary\":[{\"type\":\"scatterternary\",\"marker\":{\"colorbar\":{\"outlinewidth\":0,\"ticks\":\"\"}}}],\"scattercarpet\":[{\"type\":\"scattercarpet\",\"marker\":{\"colorbar\":{\"outlinewidth\":0,\"ticks\":\"\"}}}],\"carpet\":[{\"aaxis\":{\"endlinecolor\":\"#2a3f5f\",\"gridcolor\":\"white\",\"linecolor\":\"white\",\"minorgridcolor\":\"white\",\"startlinecolor\":\"#2a3f5f\"},\"baxis\":{\"endlinecolor\":\"#2a3f5f\",\"gridcolor\":\"white\",\"linecolor\":\"white\",\"minorgridcolor\":\"white\",\"startlinecolor\":\"#2a3f5f\"},\"type\":\"carpet\"}],\"table\":[{\"cells\":{\"fill\":{\"color\":\"#EBF0F8\"},\"line\":{\"color\":\"white\"}},\"header\":{\"fill\":{\"color\":\"#C8D4E3\"},\"line\":{\"color\":\"white\"}},\"type\":\"table\"}],\"barpolar\":[{\"marker\":{\"line\":{\"color\":\"#E5ECF6\",\"width\":0.5},\"pattern\":{\"fillmode\":\"overlay\",\"size\":10,\"solidity\":0.2}},\"type\":\"barpolar\"}],\"pie\":[{\"automargin\":true,\"type\":\"pie\"}]},\"layout\":{\"autotypenumbers\":\"strict\",\"colorway\":[\"#636efa\",\"#EF553B\",\"#00cc96\",\"#ab63fa\",\"#FFA15A\",\"#19d3f3\",\"#FF6692\",\"#B6E880\",\"#FF97FF\",\"#FECB52\"],\"font\":{\"color\":\"#2a3f5f\"},\"hovermode\":\"closest\",\"hoverlabel\":{\"align\":\"left\"},\"paper_bgcolor\":\"white\",\"plot_bgcolor\":\"#E5ECF6\",\"polar\":{\"bgcolor\":\"#E5ECF6\",\"angularaxis\":{\"gridcolor\":\"white\",\"linecolor\":\"white\",\"ticks\":\"\"},\"radialaxis\":{\"gridcolor\":\"white\",\"linecolor\":\"white\",\"ticks\":\"\"}},\"ternary\":{\"bgcolor\":\"#E5ECF6\",\"aaxis\":{\"gridcolor\":\"white\",\"linecolor\":\"white\",\"ticks\":\"\"},\"baxis\":{\"gridcolor\":\"white\",\"linecolor\":\"white\",\"ticks\":\"\"},\"caxis\":{\"gridcolor\":\"white\",\"linecolor\":\"white\",\"ticks\":\"\"}},\"coloraxis\":{\"colorbar\":{\"outlinewidth\":0,\"ticks\":\"\"}},\"colorscale\":{\"sequential\":[[0.0,\"#0d0887\"],[0.1111111111111111,\"#46039f\"],[0.2222222222222222,\"#7201a8\"],[0.3333333333333333,\"#9c179e\"],[0.4444444444444444,\"#bd3786\"],[0.5555555555555556,\"#d8576b\"],[0.6666666666666666,\"#ed7953\"],[0.7777777777777778,\"#fb9f3a\"],[0.8888888888888888,\"#fdca26\"],[1.0,\"#f0f921\"]],\"sequentialminus\":[[0.0,\"#0d0887\"],[0.1111111111111111,\"#46039f\"],[0.2222222222222222,\"#7201a8\"],[0.3333333333333333,\"#9c179e\"],[0.4444444444444444,\"#bd3786\"],[0.5555555555555556,\"#d8576b\"],[0.6666666666666666,\"#ed7953\"],[0.7777777777777778,\"#fb9f3a\"],[0.8888888888888888,\"#fdca26\"],[1.0,\"#f0f921\"]],\"diverging\":[[0,\"#8e0152\"],[0.1,\"#c51b7d\"],[0.2,\"#de77ae\"],[0.3,\"#f1b6da\"],[0.4,\"#fde0ef\"],[0.5,\"#f7f7f7\"],[0.6,\"#e6f5d0\"],[0.7,\"#b8e186\"],[0.8,\"#7fbc41\"],[0.9,\"#4d9221\"],[1,\"#276419\"]]},\"xaxis\":{\"gridcolor\":\"white\",\"linecolor\":\"white\",\"ticks\":\"\",\"title\":{\"standoff\":15},\"zerolinecolor\":\"white\",\"automargin\":true,\"zerolinewidth\":2},\"yaxis\":{\"gridcolor\":\"white\",\"linecolor\":\"white\",\"ticks\":\"\",\"title\":{\"standoff\":15},\"zerolinecolor\":\"white\",\"automargin\":true,\"zerolinewidth\":2},\"scene\":{\"xaxis\":{\"backgroundcolor\":\"#E5ECF6\",\"gridcolor\":\"white\",\"linecolor\":\"white\",\"showbackground\":true,\"ticks\":\"\",\"zerolinecolor\":\"white\",\"gridwidth\":2},\"yaxis\":{\"backgroundcolor\":\"#E5ECF6\",\"gridcolor\":\"white\",\"linecolor\":\"white\",\"showbackground\":true,\"ticks\":\"\",\"zerolinecolor\":\"white\",\"gridwidth\":2},\"zaxis\":{\"backgroundcolor\":\"#E5ECF6\",\"gridcolor\":\"white\",\"linecolor\":\"white\",\"showbackground\":true,\"ticks\":\"\",\"zerolinecolor\":\"white\",\"gridwidth\":2}},\"shapedefaults\":{\"line\":{\"color\":\"#2a3f5f\"}},\"annotationdefaults\":{\"arrowcolor\":\"#2a3f5f\",\"arrowhead\":0,\"arrowwidth\":1},\"geo\":{\"bgcolor\":\"white\",\"landcolor\":\"#E5ECF6\",\"subunitcolor\":\"white\",\"showland\":true,\"showlakes\":true,\"lakecolor\":\"white\"},\"title\":{\"x\":0.05},\"mapbox\":{\"style\":\"light\"}}},\"scene\":{\"domain\":{\"x\":[0.0,1.0],\"y\":[0.0,1.0]},\"xaxis\":{\"title\":{\"text\":\"PCA1\"}},\"yaxis\":{\"title\":{\"text\":\"PCA2\"}},\"zaxis\":{\"title\":{\"text\":\"PCA3\"}}},\"coloraxis\":{\"colorbar\":{\"title\":{\"text\":\"pca_prediction\"}},\"colorscale\":[[0.0,\"#0d0887\"],[0.1111111111111111,\"#46039f\"],[0.2222222222222222,\"#7201a8\"],[0.3333333333333333,\"#9c179e\"],[0.4444444444444444,\"#bd3786\"],[0.5555555555555556,\"#d8576b\"],[0.6666666666666666,\"#ed7953\"],[0.7777777777777778,\"#fb9f3a\"],[0.8888888888888888,\"#fdca26\"],[1.0,\"#f0f921\"]]},\"legend\":{\"tracegroupgap\":0},\"margin\":{\"t\":60}},                        {\"responsive\": true}                    ).then(function(){\n",
       "                            \n",
       "var gd = document.getElementById('14fd5faf-0bd9-454a-9eb7-05e344faaed8');\n",
       "var x = new MutationObserver(function (mutations, observer) {{\n",
       "        var display = window.getComputedStyle(gd).display;\n",
       "        if (!display || display === 'none') {{\n",
       "            console.log([gd, 'removed!']);\n",
       "            Plotly.purge(gd);\n",
       "            observer.disconnect();\n",
       "        }}\n",
       "}});\n",
       "\n",
       "// Listen for the removal of the full notebook cells\n",
       "var notebookContainer = gd.closest('#notebook-container');\n",
       "if (notebookContainer) {{\n",
       "    x.observe(notebookContainer, {childList: true});\n",
       "}}\n",
       "\n",
       "// Listen for the clearing of the current output cell\n",
       "var outputEl = gd.closest('.output');\n",
       "if (outputEl) {{\n",
       "    x.observe(outputEl, {childList: true});\n",
       "}}\n",
       "\n",
       "                        })                };                });            </script>        </div>"
      ]
     },
     "metadata": {},
     "output_type": "display_data"
    }
   ],
   "source": [
    "# Composite plot to contrast the Elbow curves\n",
    "import plotly.express as px\n",
    "player_pca_prediction_df = player_pca_prediction_df.reset_index()\n",
    "fig = px.scatter_3d(player_pca_prediction_df, x='PCA1', y='PCA2', z='PCA3' ,\n",
    "                    color='pca_prediction' , hover_data=['player_name'])\n",
    "\n",
    "fig.show()"
   ]
  },
  {
   "cell_type": "code",
   "execution_count": null,
   "metadata": {},
   "outputs": [
    {
     "data": {},
     "metadata": {},
     "output_type": "display_data"
    },
    {
     "data": {
      "application/vnd.holoviews_exec.v0+json": "",
      "text/html": [
       "<div id='12973'>\n",
       "  <div class=\"bk-root\" id=\"61bfe151-39ee-4ead-97c5-9a22edc6b700\" data-root-id=\"12973\"></div>\n",
       "</div>\n",
       "<script type=\"application/javascript\">(function(root) {\n",
       "  function embed_document(root) {\n",
       "    var docs_json = {\"65c02635-0bcd-4b47-a3d2-32b1e532bffd\":{\"defs\":[{\"extends\":null,\"module\":null,\"name\":\"ReactiveHTML1\",\"overrides\":[],\"properties\":[]},{\"extends\":null,\"module\":null,\"name\":\"FlexBox1\",\"overrides\":[],\"properties\":[{\"default\":\"flex-start\",\"kind\":null,\"name\":\"align_content\"},{\"default\":\"flex-start\",\"kind\":null,\"name\":\"align_items\"},{\"default\":\"row\",\"kind\":null,\"name\":\"flex_direction\"},{\"default\":\"wrap\",\"kind\":null,\"name\":\"flex_wrap\"},{\"default\":\"flex-start\",\"kind\":null,\"name\":\"justify_content\"}]},{\"extends\":null,\"module\":null,\"name\":\"GridStack1\",\"overrides\":[],\"properties\":[{\"default\":\"warn\",\"kind\":null,\"name\":\"mode\"},{\"default\":null,\"kind\":null,\"name\":\"ncols\"},{\"default\":null,\"kind\":null,\"name\":\"nrows\"},{\"default\":true,\"kind\":null,\"name\":\"allow_resize\"},{\"default\":true,\"kind\":null,\"name\":\"allow_drag\"},{\"default\":[],\"kind\":null,\"name\":\"state\"}]},{\"extends\":null,\"module\":null,\"name\":\"click1\",\"overrides\":[],\"properties\":[{\"default\":\"\",\"kind\":null,\"name\":\"terminal_output\"},{\"default\":\"\",\"kind\":null,\"name\":\"debug_name\"},{\"default\":0,\"kind\":null,\"name\":\"clears\"}]},{\"extends\":null,\"module\":null,\"name\":\"NotificationAreaBase1\",\"overrides\":[],\"properties\":[{\"default\":\"bottom-right\",\"kind\":null,\"name\":\"position\"},{\"default\":0,\"kind\":null,\"name\":\"_clear\"}]},{\"extends\":null,\"module\":null,\"name\":\"NotificationArea1\",\"overrides\":[],\"properties\":[{\"default\":[],\"kind\":null,\"name\":\"notifications\"},{\"default\":\"bottom-right\",\"kind\":null,\"name\":\"position\"},{\"default\":0,\"kind\":null,\"name\":\"_clear\"},{\"default\":[{\"background\":\"#ffc107\",\"icon\":{\"className\":\"fas fa-exclamation-triangle\",\"color\":\"white\",\"tagName\":\"i\"},\"type\":\"warning\"},{\"background\":\"#007bff\",\"icon\":{\"className\":\"fas fa-info-circle\",\"color\":\"white\",\"tagName\":\"i\"},\"type\":\"info\"}],\"kind\":null,\"name\":\"types\"}]},{\"extends\":null,\"module\":null,\"name\":\"Notification\",\"overrides\":[],\"properties\":[{\"default\":null,\"kind\":null,\"name\":\"background\"},{\"default\":3000,\"kind\":null,\"name\":\"duration\"},{\"default\":null,\"kind\":null,\"name\":\"icon\"},{\"default\":\"\",\"kind\":null,\"name\":\"message\"},{\"default\":null,\"kind\":null,\"name\":\"notification_type\"},{\"default\":false,\"kind\":null,\"name\":\"_destroyed\"}]},{\"extends\":null,\"module\":null,\"name\":\"TemplateActions1\",\"overrides\":[],\"properties\":[{\"default\":0,\"kind\":null,\"name\":\"open_modal\"},{\"default\":0,\"kind\":null,\"name\":\"close_modal\"}]},{\"extends\":null,\"module\":null,\"name\":\"MaterialTemplateActions1\",\"overrides\":[],\"properties\":[{\"default\":0,\"kind\":null,\"name\":\"open_modal\"},{\"default\":0,\"kind\":null,\"name\":\"close_modal\"}]}],\"roots\":{\"references\":[{\"attributes\":{},\"id\":\"13024\",\"type\":\"AllLabels\"},{\"attributes\":{},\"id\":\"13072\",\"type\":\"BasicTickFormatter\"},{\"attributes\":{},\"id\":\"13036\",\"type\":\"LinearScale\"},{\"attributes\":{\"source\":{\"id\":\"13061\"}},\"id\":\"13068\",\"type\":\"CDSView\"},{\"attributes\":{\"ticks\":[1,2,3,4,5,6,7,8,9,10,11,12,13,14,15,16,17,18,19]},\"id\":\"13070\",\"type\":\"FixedTicker\"},{\"attributes\":{\"children\":[{\"id\":\"13106\"}],\"margin\":[0,0,0,0],\"name\":\"Row08489\",\"tags\":[\"embedded\"]},\"id\":\"12973\",\"type\":\"Row\"},{\"attributes\":{\"data\":{\"inertia\":{\"__ndarray__\":\"rWp9ypeBs0BDiW/TyoWoQNxsm4EnXKBAUPertPtkmUA32JJZI/aTQOM5bCPN/5BAYGpmEVi9jEBvhSgc50GJQFlkNOTtVIZAexg+XQSLhEA=\",\"dtype\":\"float64\",\"order\":\"little\",\"shape\":[10]},\"k_pca\":[1,2,3,4,5,6,7,8,9,10]},\"selected\":{\"id\":\"13062\"},\"selection_policy\":{\"id\":\"13099\"}},\"id\":\"13061\",\"type\":\"ColumnDataSource\"},{\"attributes\":{\"end\":8670.578367304903,\"reset_end\":8670.578367304903,\"reset_start\":-71.09570869564072,\"start\":-71.09570869564072,\"tags\":[[[\"inertia\",\"inertia\",null]]]},\"id\":\"12975\",\"type\":\"Range1d\"},{\"attributes\":{},\"id\":\"13073\",\"type\":\"AllLabels\"},{\"attributes\":{},\"id\":\"12982\",\"type\":\"LinearScale\"},{\"attributes\":{\"end\":10.0,\"reset_end\":10.0,\"reset_start\":1.0,\"start\":1.0,\"tags\":[[[\"k_pca\",\"k_pca\",null]]]},\"id\":\"13029\",\"type\":\"Range1d\"},{\"attributes\":{\"below\":[{\"id\":\"13040\"}],\"center\":[{\"id\":\"13043\"},{\"id\":\"13047\"}],\"height\":300,\"left\":[{\"id\":\"13044\"}],\"margin\":null,\"min_border_bottom\":10,\"min_border_left\":10,\"min_border_right\":10,\"min_border_top\":10,\"renderers\":[{\"id\":\"13067\"}],\"sizing_mode\":\"fixed\",\"title\":{\"id\":\"13032\"},\"toolbar\":{\"id\":\"13054\"},\"toolbar_location\":null,\"width\":700,\"x_range\":{\"id\":\"13029\"},\"x_scale\":{\"id\":\"13036\"},\"y_range\":{\"id\":\"12975\"},\"y_scale\":{\"id\":\"13038\"}},\"id\":\"13031\",\"subtype\":\"Figure\",\"type\":\"Plot\"},{\"attributes\":{\"children\":[{\"id\":\"13105\"},{\"id\":\"13103\"}]},\"id\":\"13106\",\"type\":\"Column\"},{\"attributes\":{},\"id\":\"13078\",\"type\":\"AllLabels\"},{\"attributes\":{},\"id\":\"13048\",\"type\":\"SaveTool\"},{\"attributes\":{},\"id\":\"13052\",\"type\":\"ResetTool\"},{\"attributes\":{\"line_alpha\":0.1,\"line_color\":\"#30a2da\",\"line_width\":2,\"x\":{\"field\":\"k_pca\"},\"y\":{\"field\":\"inertia\"}},\"id\":\"13065\",\"type\":\"Line\"},{\"attributes\":{\"callback\":null,\"renderers\":[{\"id\":\"13067\"}],\"tags\":[\"hv_created\"],\"tooltips\":[[\"k_pca\",\"@{k_pca}\"],[\"inertia\",\"@{inertia}\"]]},\"id\":\"13030\",\"type\":\"HoverTool\"},{\"attributes\":{\"overlay\":{\"id\":\"13053\"}},\"id\":\"13051\",\"type\":\"BoxZoomTool\"},{\"attributes\":{\"end\":19.0,\"reset_end\":19.0,\"reset_start\":1.0,\"start\":1.0,\"tags\":[[[\"k_original\",\"k_original\",null]]]},\"id\":\"12974\",\"type\":\"Range1d\"},{\"attributes\":{\"callback\":null,\"renderers\":[{\"id\":\"13013\"}],\"tags\":[\"hv_created\"],\"tooltips\":[[\"k_original\",\"@{k_original}\"],[\"inertia\",\"@{inertia}\"]]},\"id\":\"12976\",\"type\":\"HoverTool\"},{\"attributes\":{\"children\":[[{\"id\":\"12977\"},0,0],[{\"id\":\"13031\"},0,1]]},\"id\":\"13103\",\"type\":\"GridBox\"},{\"attributes\":{\"bottom_units\":\"screen\",\"coordinates\":null,\"fill_alpha\":0.5,\"fill_color\":\"lightgrey\",\"group\":null,\"left_units\":\"screen\",\"level\":\"overlay\",\"line_alpha\":1.0,\"line_color\":\"black\",\"line_dash\":[4,4],\"line_width\":2,\"right_units\":\"screen\",\"syncable\":false,\"top_units\":\"screen\"},\"id\":\"13053\",\"type\":\"BoxAnnotation\"},{\"attributes\":{},\"id\":\"12984\",\"type\":\"LinearScale\"},{\"attributes\":{},\"id\":\"12995\",\"type\":\"PanTool\"},{\"attributes\":{\"coordinates\":null,\"data_source\":{\"id\":\"13007\"},\"glyph\":{\"id\":\"13010\"},\"group\":null,\"hover_glyph\":null,\"muted_glyph\":{\"id\":\"13012\"},\"nonselection_glyph\":{\"id\":\"13011\"},\"selection_glyph\":{\"id\":\"13015\"},\"view\":{\"id\":\"13014\"}},\"id\":\"13013\",\"type\":\"GlyphRenderer\"},{\"attributes\":{\"coordinates\":null,\"group\":null,\"text\":\"Elbow Curve\",\"text_color\":\"black\",\"text_font_size\":\"12pt\"},\"id\":\"12978\",\"type\":\"Title\"},{\"attributes\":{\"line_color\":\"#30a2da\",\"line_width\":2,\"x\":{\"field\":\"k_original\"},\"y\":{\"field\":\"inertia\"}},\"id\":\"13015\",\"type\":\"Line\"},{\"attributes\":{\"axis\":{\"id\":\"12986\"},\"coordinates\":null,\"grid_line_color\":null,\"group\":null,\"ticker\":null},\"id\":\"12989\",\"type\":\"Grid\"},{\"attributes\":{\"axis_label\":\"k_original\",\"coordinates\":null,\"formatter\":{\"id\":\"13018\"},\"group\":null,\"major_label_policy\":{\"id\":\"13019\"},\"ticker\":{\"id\":\"13016\"}},\"id\":\"12986\",\"type\":\"LinearAxis\"},{\"attributes\":{},\"id\":\"13050\",\"type\":\"WheelZoomTool\"},{\"attributes\":{},\"id\":\"13045\",\"type\":\"BasicTicker\"},{\"attributes\":{},\"id\":\"13023\",\"type\":\"BasicTickFormatter\"},{\"attributes\":{},\"id\":\"13018\",\"type\":\"BasicTickFormatter\"},{\"attributes\":{\"axis_label\":\"inertia\",\"coordinates\":null,\"formatter\":{\"id\":\"13023\"},\"group\":null,\"major_label_policy\":{\"id\":\"13024\"},\"ticker\":{\"id\":\"12991\"}},\"id\":\"12990\",\"type\":\"LinearAxis\"},{\"attributes\":{\"axis\":{\"id\":\"13044\"},\"coordinates\":null,\"dimension\":1,\"grid_line_color\":null,\"group\":null,\"ticker\":null},\"id\":\"13047\",\"type\":\"Grid\"},{\"attributes\":{\"axis\":{\"id\":\"12990\"},\"coordinates\":null,\"dimension\":1,\"grid_line_color\":null,\"group\":null,\"ticker\":null},\"id\":\"12993\",\"type\":\"Grid\"},{\"attributes\":{\"axis_label\":\"inertia\",\"coordinates\":null,\"formatter\":{\"id\":\"13077\"},\"group\":null,\"major_label_policy\":{\"id\":\"13078\"},\"ticker\":{\"id\":\"13045\"}},\"id\":\"13044\",\"type\":\"LinearAxis\"},{\"attributes\":{},\"id\":\"12991\",\"type\":\"BasicTicker\"},{\"attributes\":{\"line_color\":\"#30a2da\",\"line_width\":2,\"x\":{\"field\":\"k_pca\"},\"y\":{\"field\":\"inertia\"}},\"id\":\"13064\",\"type\":\"Line\"},{\"attributes\":{},\"id\":\"12996\",\"type\":\"WheelZoomTool\"},{\"attributes\":{},\"id\":\"13077\",\"type\":\"BasicTickFormatter\"},{\"attributes\":{},\"id\":\"12994\",\"type\":\"SaveTool\"},{\"attributes\":{\"overlay\":{\"id\":\"12999\"}},\"id\":\"12997\",\"type\":\"BoxZoomTool\"},{\"attributes\":{},\"id\":\"13038\",\"type\":\"LinearScale\"},{\"attributes\":{},\"id\":\"12998\",\"type\":\"ResetTool\"},{\"attributes\":{},\"id\":\"13062\",\"type\":\"Selection\"},{\"attributes\":{},\"id\":\"13049\",\"type\":\"PanTool\"},{\"attributes\":{\"axis\":{\"id\":\"13040\"},\"coordinates\":null,\"grid_line_color\":null,\"group\":null,\"ticker\":null},\"id\":\"13043\",\"type\":\"Grid\"},{\"attributes\":{\"coordinates\":null,\"group\":null,\"text\":\"Elbow Curve\",\"text_color\":\"black\",\"text_font_size\":\"12pt\"},\"id\":\"13032\",\"type\":\"Title\"},{\"attributes\":{\"bottom_units\":\"screen\",\"coordinates\":null,\"fill_alpha\":0.5,\"fill_color\":\"lightgrey\",\"group\":null,\"left_units\":\"screen\",\"level\":\"overlay\",\"line_alpha\":1.0,\"line_color\":\"black\",\"line_dash\":[4,4],\"line_width\":2,\"right_units\":\"screen\",\"syncable\":false,\"top_units\":\"screen\"},\"id\":\"12999\",\"type\":\"BoxAnnotation\"},{\"attributes\":{\"axis_label\":\"k_pca\",\"coordinates\":null,\"formatter\":{\"id\":\"13072\"},\"group\":null,\"major_label_policy\":{\"id\":\"13073\"},\"ticker\":{\"id\":\"13070\"}},\"id\":\"13040\",\"type\":\"LinearAxis\"},{\"attributes\":{},\"id\":\"13089\",\"type\":\"UnionRenderers\"},{\"attributes\":{},\"id\":\"13099\",\"type\":\"UnionRenderers\"},{\"attributes\":{\"source\":{\"id\":\"13007\"}},\"id\":\"13014\",\"type\":\"CDSView\"},{\"attributes\":{\"active_drag\":{\"id\":\"13049\"},\"active_scroll\":{\"id\":\"13050\"},\"tools\":[{\"id\":\"13030\"},{\"id\":\"13048\"},{\"id\":\"13049\"},{\"id\":\"13050\"},{\"id\":\"13051\"},{\"id\":\"13052\"}]},\"id\":\"13054\",\"type\":\"Toolbar\"},{\"attributes\":{\"line_alpha\":0.1,\"line_color\":\"#30a2da\",\"line_width\":2,\"x\":{\"field\":\"k_original\"},\"y\":{\"field\":\"inertia\"}},\"id\":\"13011\",\"type\":\"Line\"},{\"attributes\":{\"active_drag\":{\"id\":\"12995\"},\"active_scroll\":{\"id\":\"12996\"},\"tools\":[{\"id\":\"12976\"},{\"id\":\"12994\"},{\"id\":\"12995\"},{\"id\":\"12996\"},{\"id\":\"12997\"},{\"id\":\"12998\"}]},\"id\":\"13000\",\"type\":\"Toolbar\"},{\"attributes\":{},\"id\":\"13008\",\"type\":\"Selection\"},{\"attributes\":{\"data\":{\"inertia\":{\"__ndarray__\":\"2/rbAxsGv0DhOiOKnX23QJK99k11WbNA3Kmg+Lz9sECpZVmE5KiuQPM9/zQ9saxAdu32GElnq0ButqMfneepQKe1Id7swKhAXEUDBKHNp0B7CEMdpYmmQNANF6Sw06VAqKb+wgo0pUBIn2lt5h2kQOmwZi/ql6NA6mpwV1OjokBkjx/9UrSiQLop2skj56FAsXoAoG5YoUA=\",\"dtype\":\"float64\",\"order\":\"little\",\"shape\":[19]},\"k_original\":[1,2,3,4,5,6,7,8,9,10,11,12,13,14,15,16,17,18,19]},\"selected\":{\"id\":\"13008\"},\"selection_policy\":{\"id\":\"13089\"}},\"id\":\"13007\",\"type\":\"ColumnDataSource\"},{\"attributes\":{\"line_color\":\"#30a2da\",\"line_width\":2,\"x\":{\"field\":\"k_original\"},\"y\":{\"field\":\"inertia\"}},\"id\":\"13010\",\"type\":\"Line\"},{\"attributes\":{\"line_alpha\":0.2,\"line_color\":\"#30a2da\",\"line_width\":2,\"x\":{\"field\":\"k_original\"},\"y\":{\"field\":\"inertia\"}},\"id\":\"13012\",\"type\":\"Line\"},{\"attributes\":{\"line_alpha\":0.2,\"line_color\":\"#30a2da\",\"line_width\":2,\"x\":{\"field\":\"k_pca\"},\"y\":{\"field\":\"inertia\"}},\"id\":\"13066\",\"type\":\"Line\"},{\"attributes\":{\"ticks\":[1,2,3,4,5,6,7,8,9,10,11,12,13,14,15,16,17,18,19]},\"id\":\"13016\",\"type\":\"FixedTicker\"},{\"attributes\":{\"line_color\":\"#30a2da\",\"line_width\":2,\"x\":{\"field\":\"k_pca\"},\"y\":{\"field\":\"inertia\"}},\"id\":\"13069\",\"type\":\"Line\"},{\"attributes\":{\"coordinates\":null,\"data_source\":{\"id\":\"13061\"},\"glyph\":{\"id\":\"13064\"},\"group\":null,\"hover_glyph\":null,\"muted_glyph\":{\"id\":\"13066\"},\"nonselection_glyph\":{\"id\":\"13065\"},\"selection_glyph\":{\"id\":\"13069\"},\"view\":{\"id\":\"13068\"}},\"id\":\"13067\",\"type\":\"GlyphRenderer\"},{\"attributes\":{\"toolbar\":{\"id\":\"13104\"},\"toolbar_location\":\"above\"},\"id\":\"13105\",\"type\":\"ToolbarBox\"},{\"attributes\":{},\"id\":\"13019\",\"type\":\"AllLabels\"},{\"attributes\":{\"below\":[{\"id\":\"12986\"}],\"center\":[{\"id\":\"12989\"},{\"id\":\"12993\"}],\"height\":300,\"left\":[{\"id\":\"12990\"}],\"margin\":null,\"min_border_bottom\":10,\"min_border_left\":10,\"min_border_right\":10,\"min_border_top\":10,\"renderers\":[{\"id\":\"13013\"}],\"sizing_mode\":\"fixed\",\"title\":{\"id\":\"12978\"},\"toolbar\":{\"id\":\"13000\"},\"toolbar_location\":null,\"width\":700,\"x_range\":{\"id\":\"12974\"},\"x_scale\":{\"id\":\"12982\"},\"y_range\":{\"id\":\"12975\"},\"y_scale\":{\"id\":\"12984\"}},\"id\":\"12977\",\"subtype\":\"Figure\",\"type\":\"Plot\"},{\"attributes\":{\"toolbars\":[{\"id\":\"13000\"},{\"id\":\"13054\"}],\"tools\":[{\"id\":\"12976\"},{\"id\":\"12994\"},{\"id\":\"12995\"},{\"id\":\"12996\"},{\"id\":\"12997\"},{\"id\":\"12998\"},{\"id\":\"13030\"},{\"id\":\"13048\"},{\"id\":\"13049\"},{\"id\":\"13050\"},{\"id\":\"13051\"},{\"id\":\"13052\"}]},\"id\":\"13104\",\"type\":\"ProxyToolbar\"}],\"root_ids\":[\"12973\"]},\"title\":\"Bokeh Application\",\"version\":\"2.4.3\"}};\n",
       "    var render_items = [{\"docid\":\"65c02635-0bcd-4b47-a3d2-32b1e532bffd\",\"root_ids\":[\"12973\"],\"roots\":{\"12973\":\"61bfe151-39ee-4ead-97c5-9a22edc6b700\"}}];\n",
       "    root.Bokeh.embed.embed_items_notebook(docs_json, render_items);\n",
       "    for (const render_item of render_items) {\n",
       "      for (const root_id of render_item.root_ids) {\n",
       "\tconst id_el = document.getElementById(root_id)\n",
       "\tif (id_el.children.length && (id_el.children[0].className === 'bk-root')) {\n",
       "\t  const root_el = id_el.children[0]\n",
       "\t  root_el.id = root_el.id + '-rendered'\n",
       "\t}\n",
       "      }\n",
       "    }\n",
       "  }\n",
       "  if (root.Bokeh !== undefined && root.Bokeh.Panel !== undefined) {\n",
       "    embed_document(root);\n",
       "  } else {\n",
       "    var attempts = 0;\n",
       "    var timer = setInterval(function(root) {\n",
       "      if (root.Bokeh !== undefined && root.Bokeh.Panel !== undefined) {\n",
       "        clearInterval(timer);\n",
       "        embed_document(root);\n",
       "      } else if (document.readyState == \"complete\") {\n",
       "        attempts++;\n",
       "        if (attempts > 200) {\n",
       "          clearInterval(timer);\n",
       "          console.log(\"Bokeh: ERROR: Unable to run BokehJS code because BokehJS library is missing\");\n",
       "        }\n",
       "      }\n",
       "    }, 25, root)\n",
       "  }\n",
       "})(window);</script>"
      ],
      "text/plain": [
       ":Layout\n",
       "   .Curve.I  :Curve   [k_original]   (inertia)\n",
       "   .Curve.II :Curve   [k_pca]   (inertia)"
      ]
     },
     "execution_count": 150,
     "metadata": {
      "application/vnd.holoviews_exec.v0+json": {
       "id": "12973"
      }
     },
     "output_type": "execute_result"
    }
   ],
   "source": [
    "# Composite plot to contrast the clusters\n",
    "elbow_plot + elbow_pca_plot\n",
    "# YOUR CODE HERE!"
   ]
  },
  {
   "cell_type": "markdown",
   "metadata": {},
   "source": [
    "#### Answer the following question: \n",
    "\n",
    "  * **Question:** After visually analyzing the cluster analysis results, what is the impact of using fewer features to cluster the data using K-Means?\n",
    "\n",
    "  * **Answer:In the first elbow plot the K value was 4 whereas in the PCA plot the new K value is 2. Of the 4 clusters in the initial plot contaned a single value. With the new PCA analysis the results were more accurate to cluster the data. "
   ]
  },
  {
   "cell_type": "code",
   "execution_count": null,
   "metadata": {},
   "outputs": [],
   "source": [
    "# Import the modules\n",
    "import numpy as np\n",
    "import pandas as pd\n",
    "from pathlib import Path\n",
    "from sklearn.metrics import balanced_accuracy_score, confusion_matrix, classification_report"
   ]
  },
  {
   "cell_type": "code",
   "execution_count": null,
   "metadata": {},
   "outputs": [
    {
     "data": {
      "text/html": [
       "<div>\n",
       "<style scoped>\n",
       "    .dataframe tbody tr th:only-of-type {\n",
       "        vertical-align: middle;\n",
       "    }\n",
       "\n",
       "    .dataframe tbody tr th {\n",
       "        vertical-align: top;\n",
       "    }\n",
       "\n",
       "    .dataframe thead th {\n",
       "        text-align: right;\n",
       "    }\n",
       "</style>\n",
       "<table border=\"1\" class=\"dataframe\">\n",
       "  <thead>\n",
       "    <tr style=\"text-align: right;\">\n",
       "      <th></th>\n",
       "      <th>Unnamed: 0</th>\n",
       "      <th>player_name</th>\n",
       "      <th>0304_salary_adjusted</th>\n",
       "      <th>0405_salary_adjusted</th>\n",
       "      <th>0506_salary_adjusted</th>\n",
       "      <th>0607_salary_adjusted</th>\n",
       "      <th>0708_salary_adjusted</th>\n",
       "      <th>0809_salary_adjusted</th>\n",
       "      <th>0910_salary_adjusted</th>\n",
       "      <th>1011_salary_adjusted</th>\n",
       "      <th>...</th>\n",
       "      <th>FT%</th>\n",
       "      <th>OREB</th>\n",
       "      <th>DREB</th>\n",
       "      <th>REB</th>\n",
       "      <th>AST</th>\n",
       "      <th>TOV</th>\n",
       "      <th>STL</th>\n",
       "      <th>BLK</th>\n",
       "      <th>PF</th>\n",
       "      <th>+/-</th>\n",
       "    </tr>\n",
       "  </thead>\n",
       "  <tbody>\n",
       "    <tr>\n",
       "      <th>0</th>\n",
       "      <td>0</td>\n",
       "      <td>LeBron James</td>\n",
       "      <td>6482581</td>\n",
       "      <td>6748393</td>\n",
       "      <td>7041080</td>\n",
       "      <td>8511223</td>\n",
       "      <td>18546814</td>\n",
       "      <td>19514263</td>\n",
       "      <td>21677854</td>\n",
       "      <td>19711923</td>\n",
       "      <td>...</td>\n",
       "      <td>73</td>\n",
       "      <td>111</td>\n",
       "      <td>454</td>\n",
       "      <td>565</td>\n",
       "      <td>514</td>\n",
       "      <td>249</td>\n",
       "      <td>104</td>\n",
       "      <td>49</td>\n",
       "      <td>143</td>\n",
       "      <td>618</td>\n",
       "    </tr>\n",
       "    <tr>\n",
       "      <th>1</th>\n",
       "      <td>1</td>\n",
       "      <td>LeBron James</td>\n",
       "      <td>6482581</td>\n",
       "      <td>6748393</td>\n",
       "      <td>7041080</td>\n",
       "      <td>8511223</td>\n",
       "      <td>18546814</td>\n",
       "      <td>19514263</td>\n",
       "      <td>21677854</td>\n",
       "      <td>19711923</td>\n",
       "      <td>...</td>\n",
       "      <td>71</td>\n",
       "      <td>51</td>\n",
       "      <td>365</td>\n",
       "      <td>416</td>\n",
       "      <td>511</td>\n",
       "      <td>272</td>\n",
       "      <td>109</td>\n",
       "      <td>49</td>\n",
       "      <td>135</td>\n",
       "      <td>541</td>\n",
       "    </tr>\n",
       "    <tr>\n",
       "      <th>2</th>\n",
       "      <td>2</td>\n",
       "      <td>Tyson Chandler</td>\n",
       "      <td>6136492</td>\n",
       "      <td>7499311</td>\n",
       "      <td>13711048</td>\n",
       "      <td>13362472</td>\n",
       "      <td>14577195</td>\n",
       "      <td>15369740</td>\n",
       "      <td>16279088</td>\n",
       "      <td>17128982</td>\n",
       "      <td>...</td>\n",
       "      <td>73</td>\n",
       "      <td>206</td>\n",
       "      <td>486</td>\n",
       "      <td>692</td>\n",
       "      <td>32</td>\n",
       "      <td>88</td>\n",
       "      <td>36</td>\n",
       "      <td>80</td>\n",
       "      <td>240</td>\n",
       "      <td>295</td>\n",
       "    </tr>\n",
       "    <tr>\n",
       "      <th>3</th>\n",
       "      <td>3</td>\n",
       "      <td>Tyson Chandler</td>\n",
       "      <td>6136492</td>\n",
       "      <td>7499311</td>\n",
       "      <td>13711048</td>\n",
       "      <td>13362472</td>\n",
       "      <td>14577195</td>\n",
       "      <td>15369740</td>\n",
       "      <td>16279088</td>\n",
       "      <td>17128982</td>\n",
       "      <td>...</td>\n",
       "      <td>72</td>\n",
       "      <td>294</td>\n",
       "      <td>570</td>\n",
       "      <td>864</td>\n",
       "      <td>84</td>\n",
       "      <td>105</td>\n",
       "      <td>42</td>\n",
       "      <td>91</td>\n",
       "      <td>169</td>\n",
       "      <td>230</td>\n",
       "    </tr>\n",
       "    <tr>\n",
       "      <th>4</th>\n",
       "      <td>4</td>\n",
       "      <td>Carmelo Anthony</td>\n",
       "      <td>5208750</td>\n",
       "      <td>5422257</td>\n",
       "      <td>5657544</td>\n",
       "      <td>6855081</td>\n",
       "      <td>18546814</td>\n",
       "      <td>19514263</td>\n",
       "      <td>21677854</td>\n",
       "      <td>23313418</td>\n",
       "      <td>...</td>\n",
       "      <td>84</td>\n",
       "      <td>145</td>\n",
       "      <td>477</td>\n",
       "      <td>622</td>\n",
       "      <td>242</td>\n",
       "      <td>198</td>\n",
       "      <td>95</td>\n",
       "      <td>51</td>\n",
       "      <td>224</td>\n",
       "      <td>104</td>\n",
       "    </tr>\n",
       "  </tbody>\n",
       "</table>\n",
       "<p>5 rows × 53 columns</p>\n",
       "</div>"
      ],
      "text/plain": [
       "   Unnamed: 0      player_name  0304_salary_adjusted  0405_salary_adjusted  \\\n",
       "0           0     LeBron James               6482581               6748393   \n",
       "1           1     LeBron James               6482581               6748393   \n",
       "2           2   Tyson Chandler               6136492               7499311   \n",
       "3           3   Tyson Chandler               6136492               7499311   \n",
       "4           4  Carmelo Anthony               5208750               5422257   \n",
       "\n",
       "   0506_salary_adjusted  0607_salary_adjusted  0708_salary_adjusted  \\\n",
       "0               7041080               8511223              18546814   \n",
       "1               7041080               8511223              18546814   \n",
       "2              13711048              13362472              14577195   \n",
       "3              13711048              13362472              14577195   \n",
       "4               5657544               6855081              18546814   \n",
       "\n",
       "   0809_salary_adjusted  0910_salary_adjusted  1011_salary_adjusted  ...  FT%  \\\n",
       "0              19514263              21677854              19711923  ...   73   \n",
       "1              19514263              21677854              19711923  ...   71   \n",
       "2              15369740              16279088              17128982  ...   73   \n",
       "3              15369740              16279088              17128982  ...   72   \n",
       "4              19514263              21677854              23313418  ...   84   \n",
       "\n",
       "   OREB  DREB  REB  AST  TOV  STL  BLK   PF  +/-  \n",
       "0   111   454  565  514  249  104   49  143  618  \n",
       "1    51   365  416  511  272  109   49  135  541  \n",
       "2   206   486  692   32   88   36   80  240  295  \n",
       "3   294   570  864   84  105   42   91  169  230  \n",
       "4   145   477  622  242  198   95   51  224  104  \n",
       "\n",
       "[5 rows x 53 columns]"
      ]
     },
     "execution_count": 191,
     "metadata": {},
     "output_type": "execute_result"
    }
   ],
   "source": [
    "df = pd.read_csv(\"Resources/player_info_reduced.csv\")\n",
    "# Review the DataFrame\n",
    "df.head()"
   ]
  },
  {
   "cell_type": "code",
   "execution_count": null,
   "metadata": {},
   "outputs": [],
   "source": [
    "# Separate the y variable, the labels\n",
    "# YOUR CODE HERE!]\n",
    "y = df[\"player_name\"]\n",
    "# Separate the X variable, the features\n",
    "x = df.drop(columns=\"Unnamed: 0\")\n",
    "# YOUR CODE HERE!"
   ]
  },
  {
   "cell_type": "code",
   "execution_count": null,
   "metadata": {},
   "outputs": [
    {
     "name": "stdout",
     "output_type": "stream",
     "text": [
      "0            LeBron James\n",
      "1            LeBron James\n",
      "2          Tyson Chandler\n",
      "3          Tyson Chandler\n",
      "4         Carmelo Anthony\n",
      "              ...        \n",
      "194            Quinn Cook\n",
      "195            Quinn Cook\n",
      "196    Shaquille Harrison\n",
      "197         Edmond Sumner\n",
      "198          Torrey Craig\n",
      "Name: player_name, Length: 199, dtype: object\n"
     ]
    }
   ],
   "source": [
    "# Review the y variable Series\n",
    "print(y)"
   ]
  },
  {
   "cell_type": "code",
   "execution_count": null,
   "metadata": {},
   "outputs": [
    {
     "name": "stdout",
     "output_type": "stream",
     "text": [
      "     Unnamed: 0  0304_salary_adjusted  0405_salary_adjusted  \\\n",
      "0             0               6482581               6748393   \n",
      "1             1               6482581               6748393   \n",
      "2             2               6136492               7499311   \n",
      "3             3               6136492               7499311   \n",
      "4             4               5208750               5422257   \n",
      "..          ...                   ...                   ...   \n",
      "194         194                     0                     0   \n",
      "195         195                     0                     0   \n",
      "196         196                     0                     0   \n",
      "197         197                     0                     0   \n",
      "198         198                     0                     0   \n",
      "\n",
      "     0506_salary_adjusted  0607_salary_adjusted  0708_salary_adjusted  \\\n",
      "0                 7041080               8511223              18546814   \n",
      "1                 7041080               8511223              18546814   \n",
      "2                13711048              13362472              14577195   \n",
      "3                13711048              13362472              14577195   \n",
      "4                 5657544               6855081              18546814   \n",
      "..                    ...                   ...                   ...   \n",
      "194                     0                     0                     0   \n",
      "195                     0                     0                     0   \n",
      "196                     0                     0                     0   \n",
      "197                     0                     0                     0   \n",
      "198                     0                     0                     0   \n",
      "\n",
      "     0809_salary_adjusted  0910_salary_adjusted  1011_salary_adjusted  \\\n",
      "0                19514263              21677854              19711923   \n",
      "1                19514263              21677854              19711923   \n",
      "2                15369740              16279088              17128982   \n",
      "3                15369740              16279088              17128982   \n",
      "4                19514263              21677854              23313418   \n",
      "..                    ...                   ...                   ...   \n",
      "194                     0                     0                     0   \n",
      "195                     0                     0                     0   \n",
      "196                     0                     0                     0   \n",
      "197                     0                     0                     0   \n",
      "198                     0                     0                     0   \n",
      "\n",
      "     1112_salary_adjusted  ...  FT%  OREB  DREB  REB  AST  TOV  STL  BLK   PF  \\\n",
      "0                21033142  ...   73   111   454  565  514  249  104   49  143   \n",
      "1                21033142  ...   71    51   365  416  511  272  109   49  135   \n",
      "2                17206990  ...   73   206   486  692   32   88   36   80  240   \n",
      "3                17206990  ...   72   294   570  864   84  105   42   91  169   \n",
      "4                24309802  ...   84   145   477  622  242  198   95   51  224   \n",
      "..                    ...  ...  ...   ...   ...  ...  ...  ...  ...  ...  ...   \n",
      "194                     0  ...   76    22   135  157  116   50   20    3   92   \n",
      "195                     0  ...   40     1     6    7   26   13    4    0   13   \n",
      "196                     0  ...   73     9    52   61   55   22   26    7   42   \n",
      "197                     0  ...    0     0     1    1    0    0    0    0    1   \n",
      "198                     0  ...   62    40    87  127   25   20   12   15   63   \n",
      "\n",
      "     +/-  \n",
      "0    618  \n",
      "1    541  \n",
      "2    295  \n",
      "3    230  \n",
      "4    104  \n",
      "..   ...  \n",
      "194 -133  \n",
      "195  -41  \n",
      "196   47  \n",
      "197   -6  \n",
      "198  -61  \n",
      "\n",
      "[199 rows x 52 columns]\n"
     ]
    }
   ],
   "source": [
    "# Review the X variable DataFrame\n",
    "print(x)\n"
   ]
  },
  {
   "cell_type": "code",
   "execution_count": null,
   "metadata": {},
   "outputs": [
    {
     "name": "stdout",
     "output_type": "stream",
     "text": [
      "Kevin Durant        4\n",
      "Avery Bradley       3\n",
      "Paul Millsap        3\n",
      "Austin Rivers       3\n",
      "Danilo Gallinari    3\n",
      "                   ..\n",
      "Tristan Thompson    1\n",
      "Enes Kanter         1\n",
      "Kyrie Irving        1\n",
      "Patrick Beverley    1\n",
      "Torrey Craig        1\n",
      "Name: player_name, Length: 138, dtype: int64\n"
     ]
    }
   ],
   "source": [
    "# Check the balance of our target values\n",
    "print(y.value_counts())"
   ]
  },
  {
   "cell_type": "code",
   "execution_count": null,
   "metadata": {},
   "outputs": [],
   "source": [
    "# Generate some example data (replace this with your actual data)\n",
    "X = np.random.rand(100, 5)  # Example feature matrix with 100 samples and 5 features\n",
    "y = np.random.randint(2, size=100)  # Example binary target variable (0 or 1)\n",
    "\n",
    "# Split the data using train_test_split\n",
    "# Assign a random_state of 1 to the function\n",
    "X_train, X_test, y_train, y_test = train_test_split(X, \n",
    "                                                    y, \n",
    "                                                    random_state=1, \n",
    "                                                    stratify=y)\n",
    "\n"
   ]
  },
  {
   "cell_type": "code",
   "execution_count": null,
   "metadata": {},
   "outputs": [
    {
     "data": {
      "text/html": [
       "<style>#sk-container-id-10 {color: black;background-color: white;}#sk-container-id-10 pre{padding: 0;}#sk-container-id-10 div.sk-toggleable {background-color: white;}#sk-container-id-10 label.sk-toggleable__label {cursor: pointer;display: block;width: 100%;margin-bottom: 0;padding: 0.3em;box-sizing: border-box;text-align: center;}#sk-container-id-10 label.sk-toggleable__label-arrow:before {content: \"▸\";float: left;margin-right: 0.25em;color: #696969;}#sk-container-id-10 label.sk-toggleable__label-arrow:hover:before {color: black;}#sk-container-id-10 div.sk-estimator:hover label.sk-toggleable__label-arrow:before {color: black;}#sk-container-id-10 div.sk-toggleable__content {max-height: 0;max-width: 0;overflow: hidden;text-align: left;background-color: #f0f8ff;}#sk-container-id-10 div.sk-toggleable__content pre {margin: 0.2em;color: black;border-radius: 0.25em;background-color: #f0f8ff;}#sk-container-id-10 input.sk-toggleable__control:checked~div.sk-toggleable__content {max-height: 200px;max-width: 100%;overflow: auto;}#sk-container-id-10 input.sk-toggleable__control:checked~label.sk-toggleable__label-arrow:before {content: \"▾\";}#sk-container-id-10 div.sk-estimator input.sk-toggleable__control:checked~label.sk-toggleable__label {background-color: #d4ebff;}#sk-container-id-10 div.sk-label input.sk-toggleable__control:checked~label.sk-toggleable__label {background-color: #d4ebff;}#sk-container-id-10 input.sk-hidden--visually {border: 0;clip: rect(1px 1px 1px 1px);clip: rect(1px, 1px, 1px, 1px);height: 1px;margin: -1px;overflow: hidden;padding: 0;position: absolute;width: 1px;}#sk-container-id-10 div.sk-estimator {font-family: monospace;background-color: #f0f8ff;border: 1px dotted black;border-radius: 0.25em;box-sizing: border-box;margin-bottom: 0.5em;}#sk-container-id-10 div.sk-estimator:hover {background-color: #d4ebff;}#sk-container-id-10 div.sk-parallel-item::after {content: \"\";width: 100%;border-bottom: 1px solid gray;flex-grow: 1;}#sk-container-id-10 div.sk-label:hover label.sk-toggleable__label {background-color: #d4ebff;}#sk-container-id-10 div.sk-serial::before {content: \"\";position: absolute;border-left: 1px solid gray;box-sizing: border-box;top: 0;bottom: 0;left: 50%;z-index: 0;}#sk-container-id-10 div.sk-serial {display: flex;flex-direction: column;align-items: center;background-color: white;padding-right: 0.2em;padding-left: 0.2em;position: relative;}#sk-container-id-10 div.sk-item {position: relative;z-index: 1;}#sk-container-id-10 div.sk-parallel {display: flex;align-items: stretch;justify-content: center;background-color: white;position: relative;}#sk-container-id-10 div.sk-item::before, #sk-container-id-10 div.sk-parallel-item::before {content: \"\";position: absolute;border-left: 1px solid gray;box-sizing: border-box;top: 0;bottom: 0;left: 50%;z-index: -1;}#sk-container-id-10 div.sk-parallel-item {display: flex;flex-direction: column;z-index: 1;position: relative;background-color: white;}#sk-container-id-10 div.sk-parallel-item:first-child::after {align-self: flex-end;width: 50%;}#sk-container-id-10 div.sk-parallel-item:last-child::after {align-self: flex-start;width: 50%;}#sk-container-id-10 div.sk-parallel-item:only-child::after {width: 0;}#sk-container-id-10 div.sk-dashed-wrapped {border: 1px dashed gray;margin: 0 0.4em 0.5em 0.4em;box-sizing: border-box;padding-bottom: 0.4em;background-color: white;}#sk-container-id-10 div.sk-label label {font-family: monospace;font-weight: bold;display: inline-block;line-height: 1.2em;}#sk-container-id-10 div.sk-label-container {text-align: center;}#sk-container-id-10 div.sk-container {/* jupyter's `normalize.less` sets `[hidden] { display: none; }` but bootstrap.min.css set `[hidden] { display: none !important; }` so we also need the `!important` here to be able to override the default hidden behavior on the sphinx rendered scikit-learn.org. See: https://github.com/scikit-learn/scikit-learn/issues/21755 */display: inline-block !important;position: relative;}#sk-container-id-10 div.sk-text-repr-fallback {display: none;}</style><div id=\"sk-container-id-10\" class=\"sk-top-container\"><div class=\"sk-text-repr-fallback\"><pre>LogisticRegression(random_state=1)</pre><b>In a Jupyter environment, please rerun this cell to show the HTML representation or trust the notebook. <br />On GitHub, the HTML representation is unable to render, please try loading this page with nbviewer.org.</b></div><div class=\"sk-container\" hidden><div class=\"sk-item\"><div class=\"sk-estimator sk-toggleable\"><input class=\"sk-toggleable__control sk-hidden--visually\" id=\"sk-estimator-id-10\" type=\"checkbox\" checked><label for=\"sk-estimator-id-10\" class=\"sk-toggleable__label sk-toggleable__label-arrow\">LogisticRegression</label><div class=\"sk-toggleable__content\"><pre>LogisticRegression(random_state=1)</pre></div></div></div></div></div>"
      ],
      "text/plain": [
       "LogisticRegression(random_state=1)"
      ]
     },
     "execution_count": 193,
     "metadata": {},
     "output_type": "execute_result"
    }
   ],
   "source": [
    "# Import the LogisticRegression module from SKLearn\n",
    "from sklearn.linear_model import LogisticRegression\n",
    "\n",
    "# Instantiate the Logistic Regression model\n",
    "# Assign a random_state parameter of 1 to the model\n",
    "classifier = LogisticRegression(solver='lbfgs', random_state=1)\n",
    "# Fit the model using training data\n",
    "classifier.fit(X_train,y_train)"
   ]
  },
  {
   "cell_type": "code",
   "execution_count": null,
   "metadata": {},
   "outputs": [
    {
     "data": {
      "text/html": [
       "<div>\n",
       "<style scoped>\n",
       "    .dataframe tbody tr th:only-of-type {\n",
       "        vertical-align: middle;\n",
       "    }\n",
       "\n",
       "    .dataframe tbody tr th {\n",
       "        vertical-align: top;\n",
       "    }\n",
       "\n",
       "    .dataframe thead th {\n",
       "        text-align: right;\n",
       "    }\n",
       "</style>\n",
       "<table border=\"1\" class=\"dataframe\">\n",
       "  <thead>\n",
       "    <tr style=\"text-align: right;\">\n",
       "      <th></th>\n",
       "      <th>Prediction</th>\n",
       "      <th>Actual</th>\n",
       "    </tr>\n",
       "  </thead>\n",
       "  <tbody>\n",
       "    <tr>\n",
       "      <th>0</th>\n",
       "      <td>1</td>\n",
       "      <td>1</td>\n",
       "    </tr>\n",
       "    <tr>\n",
       "      <th>1</th>\n",
       "      <td>0</td>\n",
       "      <td>0</td>\n",
       "    </tr>\n",
       "    <tr>\n",
       "      <th>2</th>\n",
       "      <td>0</td>\n",
       "      <td>1</td>\n",
       "    </tr>\n",
       "    <tr>\n",
       "      <th>3</th>\n",
       "      <td>0</td>\n",
       "      <td>1</td>\n",
       "    </tr>\n",
       "    <tr>\n",
       "      <th>4</th>\n",
       "      <td>0</td>\n",
       "      <td>1</td>\n",
       "    </tr>\n",
       "    <tr>\n",
       "      <th>5</th>\n",
       "      <td>0</td>\n",
       "      <td>0</td>\n",
       "    </tr>\n",
       "    <tr>\n",
       "      <th>6</th>\n",
       "      <td>0</td>\n",
       "      <td>0</td>\n",
       "    </tr>\n",
       "    <tr>\n",
       "      <th>7</th>\n",
       "      <td>0</td>\n",
       "      <td>1</td>\n",
       "    </tr>\n",
       "    <tr>\n",
       "      <th>8</th>\n",
       "      <td>0</td>\n",
       "      <td>1</td>\n",
       "    </tr>\n",
       "    <tr>\n",
       "      <th>9</th>\n",
       "      <td>0</td>\n",
       "      <td>0</td>\n",
       "    </tr>\n",
       "    <tr>\n",
       "      <th>10</th>\n",
       "      <td>0</td>\n",
       "      <td>0</td>\n",
       "    </tr>\n",
       "    <tr>\n",
       "      <th>11</th>\n",
       "      <td>0</td>\n",
       "      <td>1</td>\n",
       "    </tr>\n",
       "    <tr>\n",
       "      <th>12</th>\n",
       "      <td>0</td>\n",
       "      <td>1</td>\n",
       "    </tr>\n",
       "    <tr>\n",
       "      <th>13</th>\n",
       "      <td>1</td>\n",
       "      <td>0</td>\n",
       "    </tr>\n",
       "    <tr>\n",
       "      <th>14</th>\n",
       "      <td>0</td>\n",
       "      <td>1</td>\n",
       "    </tr>\n",
       "    <tr>\n",
       "      <th>15</th>\n",
       "      <td>1</td>\n",
       "      <td>0</td>\n",
       "    </tr>\n",
       "    <tr>\n",
       "      <th>16</th>\n",
       "      <td>0</td>\n",
       "      <td>0</td>\n",
       "    </tr>\n",
       "    <tr>\n",
       "      <th>17</th>\n",
       "      <td>0</td>\n",
       "      <td>0</td>\n",
       "    </tr>\n",
       "    <tr>\n",
       "      <th>18</th>\n",
       "      <td>0</td>\n",
       "      <td>0</td>\n",
       "    </tr>\n",
       "    <tr>\n",
       "      <th>19</th>\n",
       "      <td>0</td>\n",
       "      <td>0</td>\n",
       "    </tr>\n",
       "    <tr>\n",
       "      <th>20</th>\n",
       "      <td>0</td>\n",
       "      <td>1</td>\n",
       "    </tr>\n",
       "    <tr>\n",
       "      <th>21</th>\n",
       "      <td>0</td>\n",
       "      <td>0</td>\n",
       "    </tr>\n",
       "    <tr>\n",
       "      <th>22</th>\n",
       "      <td>1</td>\n",
       "      <td>0</td>\n",
       "    </tr>\n",
       "    <tr>\n",
       "      <th>23</th>\n",
       "      <td>1</td>\n",
       "      <td>0</td>\n",
       "    </tr>\n",
       "    <tr>\n",
       "      <th>24</th>\n",
       "      <td>0</td>\n",
       "      <td>1</td>\n",
       "    </tr>\n",
       "  </tbody>\n",
       "</table>\n",
       "</div>"
      ],
      "text/plain": [
       "    Prediction  Actual\n",
       "0            1       1\n",
       "1            0       0\n",
       "2            0       1\n",
       "3            0       1\n",
       "4            0       1\n",
       "5            0       0\n",
       "6            0       0\n",
       "7            0       1\n",
       "8            0       1\n",
       "9            0       0\n",
       "10           0       0\n",
       "11           0       1\n",
       "12           0       1\n",
       "13           1       0\n",
       "14           0       1\n",
       "15           1       0\n",
       "16           0       0\n",
       "17           0       0\n",
       "18           0       0\n",
       "19           0       0\n",
       "20           0       1\n",
       "21           0       0\n",
       "22           1       0\n",
       "23           1       0\n",
       "24           0       1"
      ]
     },
     "execution_count": 194,
     "metadata": {},
     "output_type": "execute_result"
    }
   ],
   "source": [
    "predictions = classifier.predict(X_test)\n",
    "pd.DataFrame({\"Prediction\": predictions, \"Actual\": y_test})"
   ]
  },
  {
   "cell_type": "code",
   "execution_count": null,
   "metadata": {},
   "outputs": [
    {
     "name": "stdout",
     "output_type": "stream",
     "text": [
      "balanced accuracy score of the model is : 0.4025974025974026\n"
     ]
    }
   ],
   "source": [
    "# Print the balanced_accuracy score of the model\n",
    "print( f'balanced accuracy score of the model is : {balanced_accuracy_score(y_test, predictions)}')"
   ]
  },
  {
   "cell_type": "code",
   "execution_count": null,
   "metadata": {},
   "outputs": [
    {
     "data": {
      "text/plain": [
       "array([[10,  4],\n",
       "       [10,  1]], dtype=int64)"
      ]
     },
     "execution_count": 196,
     "metadata": {},
     "output_type": "execute_result"
    }
   ],
   "source": [
    "test_matrix = confusion_matrix(y_test, predictions)\n",
    "test_matrix"
   ]
  },
  {
   "cell_type": "code",
   "execution_count": null,
   "metadata": {},
   "outputs": [],
   "source": [
    "from imblearn.over_sampling import RandomOverSampler\n",
    "\n",
    "# Instantiate the random oversampler model\n",
    "# # Assign a random_state parameter of 1 to the model\n",
    "random_over_sampler = RandomOverSampler(random_state=1)\n",
    "\n",
    "# Fit the original training data to the random_oversampler model\n",
    "X_resampled, y_resampled = random_over_sampler.fit_resample(X_train, y_train)"
   ]
  },
  {
   "cell_type": "code",
   "execution_count": null,
   "metadata": {},
   "outputs": [
    {
     "name": "stdout",
     "output_type": "stream",
     "text": [
      "              precision    recall  f1-score   support\n",
      "\n",
      "           0       0.50      0.71      0.59        14\n",
      "           1       0.20      0.09      0.13        11\n",
      "\n",
      "    accuracy                           0.44        25\n",
      "   macro avg       0.35      0.40      0.36        25\n",
      "weighted avg       0.37      0.44      0.38        25\n",
      "\n"
     ]
    }
   ],
   "source": [
    "testing_report = classification_report(y_test, predictions)\n",
    "print(testing_report)"
   ]
  },
  {
   "cell_type": "code",
   "execution_count": null,
   "metadata": {},
   "outputs": [],
   "source": [
    "# Instantiate the Logistic Regression model\n",
    "# Assign a random_state parameter of 1 to the model\n",
    "\n",
    "classifier = LogisticRegression(solver='lbfgs', random_state=1)\n",
    "\n",
    "# Fit the model using the resampled training data\n",
    "\n",
    "classifier.fit(X_resampled, y_resampled)\n",
    "\n",
    "# Make a prediction using the testing data\n",
    "pred_resampled = classifier.predict(X_resampled)"
   ]
  },
  {
   "cell_type": "code",
   "execution_count": null,
   "metadata": {},
   "outputs": [
    {
     "name": "stdout",
     "output_type": "stream",
     "text": [
      "balanced accuracy score of the resampled model is : 0.5975609756097562\n"
     ]
    }
   ],
   "source": [
    "print( f'balanced accuracy score of the resampled model is : {balanced_accuracy_score(y_resampled, pred_resampled)}')"
   ]
  },
  {
   "cell_type": "code",
   "execution_count": null,
   "metadata": {},
   "outputs": [
    {
     "data": {
      "text/plain": [
       "array([[26, 15],\n",
       "       [18, 23]], dtype=int64)"
      ]
     },
     "execution_count": 203,
     "metadata": {},
     "output_type": "execute_result"
    }
   ],
   "source": [
    "# Generate a confusion matrix for the model\n",
    "Conf_matrix = confusion_matrix(y_resampled, pred_resampled)\n",
    "Conf_matrix"
   ]
  },
  {
   "cell_type": "code",
   "execution_count": null,
   "metadata": {},
   "outputs": [
    {
     "name": "stdout",
     "output_type": "stream",
     "text": [
      "              precision    recall  f1-score   support\n",
      "\n",
      "           0       0.59      0.63      0.61        41\n",
      "           1       0.61      0.56      0.58        41\n",
      "\n",
      "    accuracy                           0.60        82\n",
      "   macro avg       0.60      0.60      0.60        82\n",
      "weighted avg       0.60      0.60      0.60        82\n",
      "\n"
     ]
    }
   ],
   "source": [
    "resampled_report = classification_report(y_resampled, pred_resampled)\n",
    "print(resampled_report)"
   ]
  },
  {
   "cell_type": "code",
   "execution_count": null,
   "metadata": {},
   "outputs": [],
   "source": []
  }
 ],
 "metadata": {
  "kernelspec": {
   "display_name": "PythonData",
   "language": "python",
   "name": "pythondata"
  },
  "language_info": {
   "codemirror_mode": {
    "name": "ipython",
    "version": 3
   },
   "file_extension": ".py",
   "mimetype": "text/x-python",
   "name": "python",
   "nbconvert_exporter": "python",
   "pygments_lexer": "ipython3",
   "version": "3.7.7"
  },
  "nteract": {
   "version": "0.28.0"
  },
  "vscode": {
   "interpreter": {
    "hash": "40d3a090f54c6569ab1632332b64b2c03c39dcf918b08424e98f38b5ae0af88f"
   }
  }
 },
 "nbformat": 4,
 "nbformat_minor": 4
}
