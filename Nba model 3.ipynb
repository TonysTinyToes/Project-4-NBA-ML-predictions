{
 "cells": [
  {
   "cell_type": "code",
   "execution_count": 1,
   "metadata": {},
   "outputs": [
    {
     "data": {
      "application/javascript": "(function(root) {\n  function now() {\n    return new Date();\n  }\n\n  var force = true;\n\n  if (typeof root._bokeh_onload_callbacks === \"undefined\" || force === true) {\n    root._bokeh_onload_callbacks = [];\n    root._bokeh_is_loading = undefined;\n  }\n\n  if (typeof (root._bokeh_timeout) === \"undefined\" || force === true) {\n    root._bokeh_timeout = Date.now() + 5000;\n    root._bokeh_failed_load = false;\n  }\n\n  function run_callbacks() {\n    try {\n      root._bokeh_onload_callbacks.forEach(function(callback) {\n        if (callback != null)\n          callback();\n      });\n    } finally {\n      delete root._bokeh_onload_callbacks\n    }\n    console.debug(\"Bokeh: all callbacks have finished\");\n  }\n\n  function load_libs(css_urls, js_urls, js_modules, callback) {\n    if (css_urls == null) css_urls = [];\n    if (js_urls == null) js_urls = [];\n    if (js_modules == null) js_modules = [];\n\n    root._bokeh_onload_callbacks.push(callback);\n    if (root._bokeh_is_loading > 0) {\n      console.debug(\"Bokeh: BokehJS is being loaded, scheduling callback at\", now());\n      return null;\n    }\n    if (js_urls.length === 0 && js_modules.length === 0) {\n      run_callbacks();\n      return null;\n    }\n    console.debug(\"Bokeh: BokehJS not loaded, scheduling load and callback at\", now());\n\n    function on_load() {\n      root._bokeh_is_loading--;\n      if (root._bokeh_is_loading === 0) {\n        console.debug(\"Bokeh: all BokehJS libraries/stylesheets loaded\");\n        run_callbacks()\n      }\n    }\n\n    function on_error() {\n      console.error(\"failed to load \" + url);\n    }\n\n    for (var i = 0; i < css_urls.length; i++) {\n      var url = css_urls[i];\n      const element = document.createElement(\"link\");\n      element.onload = on_load;\n      element.onerror = on_error;\n      element.rel = \"stylesheet\";\n      element.type = \"text/css\";\n      element.href = url;\n      console.debug(\"Bokeh: injecting link tag for BokehJS stylesheet: \", url);\n      document.body.appendChild(element);\n    }\n\n    var skip = [];\n    if (window.requirejs) {\n      window.requirejs.config({'packages': {}, 'paths': {'gridstack': 'https://cdn.jsdelivr.net/npm/gridstack@4.2.5/dist/gridstack-h5', 'notyf': 'https://cdn.jsdelivr.net/npm/notyf@3/notyf.min'}, 'shim': {'gridstack': {'exports': 'GridStack'}}});\n      require([\"gridstack\"], function(GridStack) {\n\twindow.GridStack = GridStack\n\ton_load()\n      })\n      require([\"notyf\"], function() {\n\ton_load()\n      })\n      root._bokeh_is_loading = css_urls.length + 2;\n    } else {\n      root._bokeh_is_loading = css_urls.length + js_urls.length + js_modules.length;\n    }    if (((window['GridStack'] !== undefined) && (!(window['GridStack'] instanceof HTMLElement))) || window.requirejs) {\n      var urls = ['https://cdn.holoviz.org/panel/0.14.4/dist/bundled/gridstack/gridstack@4.2.5/dist/gridstack-h5.js'];\n      for (var i = 0; i < urls.length; i++) {\n        skip.push(urls[i])\n      }\n    }    if (((window['Notyf'] !== undefined) && (!(window['Notyf'] instanceof HTMLElement))) || window.requirejs) {\n      var urls = ['https://cdn.holoviz.org/panel/0.14.4/dist/bundled/notificationarea/notyf@3/notyf.min.js'];\n      for (var i = 0; i < urls.length; i++) {\n        skip.push(urls[i])\n      }\n    }    for (var i = 0; i < js_urls.length; i++) {\n      var url = js_urls[i];\n      if (skip.indexOf(url) >= 0) {\n\tif (!window.requirejs) {\n\t  on_load();\n\t}\n\tcontinue;\n      }\n      var element = document.createElement('script');\n      element.onload = on_load;\n      element.onerror = on_error;\n      element.async = false;\n      element.src = url;\n      console.debug(\"Bokeh: injecting script tag for BokehJS library: \", url);\n      document.head.appendChild(element);\n    }\n    for (var i = 0; i < js_modules.length; i++) {\n      var url = js_modules[i];\n      if (skip.indexOf(url) >= 0) {\n\tif (!window.requirejs) {\n\t  on_load();\n\t}\n\tcontinue;\n      }\n      var element = document.createElement('script');\n      element.onload = on_load;\n      element.onerror = on_error;\n      element.async = false;\n      element.src = url;\n      element.type = \"module\";\n      console.debug(\"Bokeh: injecting script tag for BokehJS library: \", url);\n      document.head.appendChild(element);\n    }\n    if (!js_urls.length && !js_modules.length) {\n      on_load()\n    }\n  };\n\n  function inject_raw_css(css) {\n    const element = document.createElement(\"style\");\n    element.appendChild(document.createTextNode(css));\n    document.body.appendChild(element);\n  }\n\n  var js_urls = [\"https://cdn.bokeh.org/bokeh/release/bokeh-2.4.3.min.js\", \"https://cdn.bokeh.org/bokeh/release/bokeh-gl-2.4.3.min.js\", \"https://cdn.bokeh.org/bokeh/release/bokeh-widgets-2.4.3.min.js\", \"https://cdn.bokeh.org/bokeh/release/bokeh-tables-2.4.3.min.js\", \"https://cdn.bokeh.org/bokeh/release/bokeh-mathjax-2.4.3.min.js\", \"https://unpkg.com/@holoviz/panel@0.14.4/dist/panel.min.js\"];\n  var js_modules = [];\n  var css_urls = [\"https://cdn.holoviz.org/panel/0.14.4/dist/css/alerts.css\", \"https://cdn.holoviz.org/panel/0.14.4/dist/css/card.css\", \"https://cdn.holoviz.org/panel/0.14.4/dist/css/dataframe.css\", \"https://cdn.holoviz.org/panel/0.14.4/dist/css/debugger.css\", \"https://cdn.holoviz.org/panel/0.14.4/dist/css/json.css\", \"https://cdn.holoviz.org/panel/0.14.4/dist/css/loading.css\", \"https://cdn.holoviz.org/panel/0.14.4/dist/css/markdown.css\", \"https://cdn.holoviz.org/panel/0.14.4/dist/css/widgets.css\"];\n  var inline_js = [    function(Bokeh) {\n      inject_raw_css(\"\\n    .bk.pn-loading.arc:before {\\n      background-image: url(\\\"data:image/svg+xml;base64,PHN2ZyB4bWxucz0iaHR0cDovL3d3dy53My5vcmcvMjAwMC9zdmciIHN0eWxlPSJtYXJnaW46IGF1dG87IGJhY2tncm91bmQ6IG5vbmU7IGRpc3BsYXk6IGJsb2NrOyBzaGFwZS1yZW5kZXJpbmc6IGF1dG87IiB2aWV3Qm94PSIwIDAgMTAwIDEwMCIgcHJlc2VydmVBc3BlY3RSYXRpbz0ieE1pZFlNaWQiPiAgPGNpcmNsZSBjeD0iNTAiIGN5PSI1MCIgZmlsbD0ibm9uZSIgc3Ryb2tlPSIjYzNjM2MzIiBzdHJva2Utd2lkdGg9IjEwIiByPSIzNSIgc3Ryb2tlLWRhc2hhcnJheT0iMTY0LjkzMzYxNDMxMzQ2NDE1IDU2Ljk3Nzg3MTQzNzgyMTM4Ij4gICAgPGFuaW1hdGVUcmFuc2Zvcm0gYXR0cmlidXRlTmFtZT0idHJhbnNmb3JtIiB0eXBlPSJyb3RhdGUiIHJlcGVhdENvdW50PSJpbmRlZmluaXRlIiBkdXI9IjFzIiB2YWx1ZXM9IjAgNTAgNTA7MzYwIDUwIDUwIiBrZXlUaW1lcz0iMDsxIj48L2FuaW1hdGVUcmFuc2Zvcm0+ICA8L2NpcmNsZT48L3N2Zz4=\\\");\\n      background-size: auto calc(min(50%, 400px));\\n    }\\n    \");\n    },    function(Bokeh) {\n      Bokeh.set_log_level(\"info\");\n    },\nfunction(Bokeh) {} // ensure no trailing comma for IE\n  ];\n\n  function run_inline_js() {\n    if ((root.Bokeh !== undefined) || (force === true)) {\n      for (var i = 0; i < inline_js.length; i++) {\n        inline_js[i].call(root, root.Bokeh);\n      }} else if (Date.now() < root._bokeh_timeout) {\n      setTimeout(run_inline_js, 100);\n    } else if (!root._bokeh_failed_load) {\n      console.log(\"Bokeh: BokehJS failed to load within specified timeout.\");\n      root._bokeh_failed_load = true;\n    }\n  }\n\n  if (root._bokeh_is_loading === 0) {\n    console.debug(\"Bokeh: BokehJS loaded, going straight to plotting\");\n    run_inline_js();\n  } else {\n    load_libs(css_urls, js_urls, js_modules, function() {\n      console.debug(\"Bokeh: BokehJS plotting callback run at\", now());\n      run_inline_js();\n    });\n  }\n}(window));",
      "application/vnd.holoviews_load.v0+json": ""
     },
     "metadata": {},
     "output_type": "display_data"
    },
    {
     "data": {
      "application/javascript": "\nif ((window.PyViz === undefined) || (window.PyViz instanceof HTMLElement)) {\n  window.PyViz = {comms: {}, comm_status:{}, kernels:{}, receivers: {}, plot_index: []}\n}\n\n\n    function JupyterCommManager() {\n    }\n\n    JupyterCommManager.prototype.register_target = function(plot_id, comm_id, msg_handler) {\n      if (window.comm_manager || ((window.Jupyter !== undefined) && (Jupyter.notebook.kernel != null))) {\n        var comm_manager = window.comm_manager || Jupyter.notebook.kernel.comm_manager;\n        comm_manager.register_target(comm_id, function(comm) {\n          comm.on_msg(msg_handler);\n        });\n      } else if ((plot_id in window.PyViz.kernels) && (window.PyViz.kernels[plot_id])) {\n        window.PyViz.kernels[plot_id].registerCommTarget(comm_id, function(comm) {\n          comm.onMsg = msg_handler;\n        });\n      } else if (typeof google != 'undefined' && google.colab.kernel != null) {\n        google.colab.kernel.comms.registerTarget(comm_id, (comm) => {\n          var messages = comm.messages[Symbol.asyncIterator]();\n          function processIteratorResult(result) {\n            var message = result.value;\n            console.log(message)\n            var content = {data: message.data, comm_id};\n            var buffers = []\n            for (var buffer of message.buffers || []) {\n              buffers.push(new DataView(buffer))\n            }\n            var metadata = message.metadata || {};\n            var msg = {content, buffers, metadata}\n            msg_handler(msg);\n            return messages.next().then(processIteratorResult);\n          }\n          return messages.next().then(processIteratorResult);\n        })\n      }\n    }\n\n    JupyterCommManager.prototype.get_client_comm = function(plot_id, comm_id, msg_handler) {\n      if (comm_id in window.PyViz.comms) {\n        return window.PyViz.comms[comm_id];\n      } else if (window.comm_manager || ((window.Jupyter !== undefined) && (Jupyter.notebook.kernel != null))) {\n        var comm_manager = window.comm_manager || Jupyter.notebook.kernel.comm_manager;\n        var comm = comm_manager.new_comm(comm_id, {}, {}, {}, comm_id);\n        if (msg_handler) {\n          comm.on_msg(msg_handler);\n        }\n      } else if ((plot_id in window.PyViz.kernels) && (window.PyViz.kernels[plot_id])) {\n        var comm = window.PyViz.kernels[plot_id].connectToComm(comm_id);\n        comm.open();\n        if (msg_handler) {\n          comm.onMsg = msg_handler;\n        }\n      } else if (typeof google != 'undefined' && google.colab.kernel != null) {\n        var comm_promise = google.colab.kernel.comms.open(comm_id)\n        comm_promise.then((comm) => {\n          window.PyViz.comms[comm_id] = comm;\n          if (msg_handler) {\n            var messages = comm.messages[Symbol.asyncIterator]();\n            function processIteratorResult(result) {\n              var message = result.value;\n              var content = {data: message.data};\n              var metadata = message.metadata || {comm_id};\n              var msg = {content, metadata}\n              msg_handler(msg);\n              return messages.next().then(processIteratorResult);\n            }\n            return messages.next().then(processIteratorResult);\n          }\n        }) \n        var sendClosure = (data, metadata, buffers, disposeOnDone) => {\n          return comm_promise.then((comm) => {\n            comm.send(data, metadata, buffers, disposeOnDone);\n          });\n        };\n        var comm = {\n          send: sendClosure\n        };\n      }\n      window.PyViz.comms[comm_id] = comm;\n      return comm;\n    }\n    window.PyViz.comm_manager = new JupyterCommManager();\n    \n\n\nvar JS_MIME_TYPE = 'application/javascript';\nvar HTML_MIME_TYPE = 'text/html';\nvar EXEC_MIME_TYPE = 'application/vnd.holoviews_exec.v0+json';\nvar CLASS_NAME = 'output';\n\n/**\n * Render data to the DOM node\n */\nfunction render(props, node) {\n  var div = document.createElement(\"div\");\n  var script = document.createElement(\"script\");\n  node.appendChild(div);\n  node.appendChild(script);\n}\n\n/**\n * Handle when a new output is added\n */\nfunction handle_add_output(event, handle) {\n  var output_area = handle.output_area;\n  var output = handle.output;\n  if ((output.data == undefined) || (!output.data.hasOwnProperty(EXEC_MIME_TYPE))) {\n    return\n  }\n  var id = output.metadata[EXEC_MIME_TYPE][\"id\"];\n  var toinsert = output_area.element.find(\".\" + CLASS_NAME.split(' ')[0]);\n  if (id !== undefined) {\n    var nchildren = toinsert.length;\n    var html_node = toinsert[nchildren-1].children[0];\n    html_node.innerHTML = output.data[HTML_MIME_TYPE];\n    var scripts = [];\n    var nodelist = html_node.querySelectorAll(\"script\");\n    for (var i in nodelist) {\n      if (nodelist.hasOwnProperty(i)) {\n        scripts.push(nodelist[i])\n      }\n    }\n\n    scripts.forEach( function (oldScript) {\n      var newScript = document.createElement(\"script\");\n      var attrs = [];\n      var nodemap = oldScript.attributes;\n      for (var j in nodemap) {\n        if (nodemap.hasOwnProperty(j)) {\n          attrs.push(nodemap[j])\n        }\n      }\n      attrs.forEach(function(attr) { newScript.setAttribute(attr.name, attr.value) });\n      newScript.appendChild(document.createTextNode(oldScript.innerHTML));\n      oldScript.parentNode.replaceChild(newScript, oldScript);\n    });\n    if (JS_MIME_TYPE in output.data) {\n      toinsert[nchildren-1].children[1].textContent = output.data[JS_MIME_TYPE];\n    }\n    output_area._hv_plot_id = id;\n    if ((window.Bokeh !== undefined) && (id in Bokeh.index)) {\n      window.PyViz.plot_index[id] = Bokeh.index[id];\n    } else {\n      window.PyViz.plot_index[id] = null;\n    }\n  } else if (output.metadata[EXEC_MIME_TYPE][\"server_id\"] !== undefined) {\n    var bk_div = document.createElement(\"div\");\n    bk_div.innerHTML = output.data[HTML_MIME_TYPE];\n    var script_attrs = bk_div.children[0].attributes;\n    for (var i = 0; i < script_attrs.length; i++) {\n      toinsert[toinsert.length - 1].childNodes[1].setAttribute(script_attrs[i].name, script_attrs[i].value);\n    }\n    // store reference to server id on output_area\n    output_area._bokeh_server_id = output.metadata[EXEC_MIME_TYPE][\"server_id\"];\n  }\n}\n\n/**\n * Handle when an output is cleared or removed\n */\nfunction handle_clear_output(event, handle) {\n  var id = handle.cell.output_area._hv_plot_id;\n  var server_id = handle.cell.output_area._bokeh_server_id;\n  if (((id === undefined) || !(id in PyViz.plot_index)) && (server_id !== undefined)) { return; }\n  var comm = window.PyViz.comm_manager.get_client_comm(\"hv-extension-comm\", \"hv-extension-comm\", function () {});\n  if (server_id !== null) {\n    comm.send({event_type: 'server_delete', 'id': server_id});\n    return;\n  } else if (comm !== null) {\n    comm.send({event_type: 'delete', 'id': id});\n  }\n  delete PyViz.plot_index[id];\n  if ((window.Bokeh !== undefined) & (id in window.Bokeh.index)) {\n    var doc = window.Bokeh.index[id].model.document\n    doc.clear();\n    const i = window.Bokeh.documents.indexOf(doc);\n    if (i > -1) {\n      window.Bokeh.documents.splice(i, 1);\n    }\n  }\n}\n\n/**\n * Handle kernel restart event\n */\nfunction handle_kernel_cleanup(event, handle) {\n  delete PyViz.comms[\"hv-extension-comm\"];\n  window.PyViz.plot_index = {}\n}\n\n/**\n * Handle update_display_data messages\n */\nfunction handle_update_output(event, handle) {\n  handle_clear_output(event, {cell: {output_area: handle.output_area}})\n  handle_add_output(event, handle)\n}\n\nfunction register_renderer(events, OutputArea) {\n  function append_mime(data, metadata, element) {\n    // create a DOM node to render to\n    var toinsert = this.create_output_subarea(\n    metadata,\n    CLASS_NAME,\n    EXEC_MIME_TYPE\n    );\n    this.keyboard_manager.register_events(toinsert);\n    // Render to node\n    var props = {data: data, metadata: metadata[EXEC_MIME_TYPE]};\n    render(props, toinsert[0]);\n    element.append(toinsert);\n    return toinsert\n  }\n\n  events.on('output_added.OutputArea', handle_add_output);\n  events.on('output_updated.OutputArea', handle_update_output);\n  events.on('clear_output.CodeCell', handle_clear_output);\n  events.on('delete.Cell', handle_clear_output);\n  events.on('kernel_ready.Kernel', handle_kernel_cleanup);\n\n  OutputArea.prototype.register_mime_type(EXEC_MIME_TYPE, append_mime, {\n    safe: true,\n    index: 0\n  });\n}\n\nif (window.Jupyter !== undefined) {\n  try {\n    var events = require('base/js/events');\n    var OutputArea = require('notebook/js/outputarea').OutputArea;\n    if (OutputArea.prototype.mime_types().indexOf(EXEC_MIME_TYPE) == -1) {\n      register_renderer(events, OutputArea);\n    }\n  } catch(err) {\n  }\n}\n",
      "application/vnd.holoviews_load.v0+json": ""
     },
     "metadata": {},
     "output_type": "display_data"
    },
    {
     "data": {
      "text/html": [
       "<style>.bk-root, .bk-root .bk:before, .bk-root .bk:after {\n",
       "  font-family: var(--jp-ui-font-size1);\n",
       "  font-size: var(--jp-ui-font-size1);\n",
       "  color: var(--jp-ui-font-color1);\n",
       "}\n",
       "</style>"
      ]
     },
     "metadata": {},
     "output_type": "display_data"
    }
   ],
   "source": [
    "# Import required libraries and dependencies\n",
    "import pandas as pd\n",
    "import hvplot.pandas\n",
    "from sklearn.cluster import KMeans\n",
    "from sklearn.decomposition import PCA\n",
    "from sklearn.preprocessing import StandardScaler"
   ]
  },
  {
   "cell_type": "code",
   "execution_count": 2,
   "metadata": {},
   "outputs": [
    {
     "data": {
      "text/html": [
       "<div>\n",
       "<style scoped>\n",
       "    .dataframe tbody tr th:only-of-type {\n",
       "        vertical-align: middle;\n",
       "    }\n",
       "\n",
       "    .dataframe tbody tr th {\n",
       "        vertical-align: top;\n",
       "    }\n",
       "\n",
       "    .dataframe thead th {\n",
       "        text-align: right;\n",
       "    }\n",
       "</style>\n",
       "<table border=\"1\" class=\"dataframe\">\n",
       "  <thead>\n",
       "    <tr style=\"text-align: right;\">\n",
       "      <th></th>\n",
       "      <th>Unnamed: 0</th>\n",
       "      <th>0304_salary_adjusted</th>\n",
       "      <th>0405_salary_adjusted</th>\n",
       "      <th>0506_salary_adjusted</th>\n",
       "      <th>0607_salary_adjusted</th>\n",
       "      <th>0708_salary_adjusted</th>\n",
       "      <th>0809_salary_adjusted</th>\n",
       "      <th>0910_salary_adjusted</th>\n",
       "      <th>1011_salary_adjusted</th>\n",
       "      <th>1112_salary_adjusted</th>\n",
       "      <th>...</th>\n",
       "      <th>1718_salary_adjusted</th>\n",
       "      <th>1819_salary_adjusted</th>\n",
       "      <th>1920_salary_adjusted</th>\n",
       "      <th>2021_salary_adjusted</th>\n",
       "      <th>2122_salary_adjusted</th>\n",
       "      <th>2223_salary_adjusted</th>\n",
       "      <th>2324_salary</th>\n",
       "      <th>2425_salary_predicted</th>\n",
       "      <th>2526_salary_predicted</th>\n",
       "      <th>2627_salary_predicted</th>\n",
       "    </tr>\n",
       "    <tr>\n",
       "      <th>player_name</th>\n",
       "      <th></th>\n",
       "      <th></th>\n",
       "      <th></th>\n",
       "      <th></th>\n",
       "      <th></th>\n",
       "      <th></th>\n",
       "      <th></th>\n",
       "      <th></th>\n",
       "      <th></th>\n",
       "      <th></th>\n",
       "      <th></th>\n",
       "      <th></th>\n",
       "      <th></th>\n",
       "      <th></th>\n",
       "      <th></th>\n",
       "      <th></th>\n",
       "      <th></th>\n",
       "      <th></th>\n",
       "      <th></th>\n",
       "      <th></th>\n",
       "      <th></th>\n",
       "    </tr>\n",
       "  </thead>\n",
       "  <tbody>\n",
       "    <tr>\n",
       "      <th>Kevin Garnett</th>\n",
       "      <td>0</td>\n",
       "      <td>$45,164,442</td>\n",
       "      <td>$24,991,966</td>\n",
       "      <td>$27,422,097</td>\n",
       "      <td>$30,667,969</td>\n",
       "      <td>$33,776,427</td>\n",
       "      <td>$33,518,133</td>\n",
       "      <td>$22,529,708</td>\n",
       "      <td>$25,557,528</td>\n",
       "      <td>$27,891,534</td>\n",
       "      <td>...</td>\n",
       "      <td>NaN</td>\n",
       "      <td>NaN</td>\n",
       "      <td>NaN</td>\n",
       "      <td>NaN</td>\n",
       "      <td>NaN</td>\n",
       "      <td>NaN</td>\n",
       "      <td>NaN</td>\n",
       "      <td>NaN</td>\n",
       "      <td>NaN</td>\n",
       "      <td>NaN</td>\n",
       "    </tr>\n",
       "    <tr>\n",
       "      <th>Shaquille O'Neal</th>\n",
       "      <td>1</td>\n",
       "      <td>$39,922,139</td>\n",
       "      <td>$43,261,765</td>\n",
       "      <td>$30,468,997</td>\n",
       "      <td>$29,207,589</td>\n",
       "      <td>$28,443,307</td>\n",
       "      <td>$28,437,406</td>\n",
       "      <td>$27,475,254</td>\n",
       "      <td>$1,838,213</td>\n",
       "      <td>NaN</td>\n",
       "      <td>...</td>\n",
       "      <td>NaN</td>\n",
       "      <td>NaN</td>\n",
       "      <td>NaN</td>\n",
       "      <td>NaN</td>\n",
       "      <td>NaN</td>\n",
       "      <td>NaN</td>\n",
       "      <td>NaN</td>\n",
       "      <td>NaN</td>\n",
       "      <td>NaN</td>\n",
       "      <td>NaN</td>\n",
       "    </tr>\n",
       "    <tr>\n",
       "      <th>Dikembe Mutombo</th>\n",
       "      <td>2</td>\n",
       "      <td>$28,573,430</td>\n",
       "      <td>$30,436,651</td>\n",
       "      <td>$3,046,899</td>\n",
       "      <td>$3,227,438</td>\n",
       "      <td>$1,734,458</td>\n",
       "      <td>$1,075,869</td>\n",
       "      <td>NaN</td>\n",
       "      <td>NaN</td>\n",
       "      <td>NaN</td>\n",
       "      <td>...</td>\n",
       "      <td>NaN</td>\n",
       "      <td>NaN</td>\n",
       "      <td>NaN</td>\n",
       "      <td>NaN</td>\n",
       "      <td>NaN</td>\n",
       "      <td>NaN</td>\n",
       "      <td>NaN</td>\n",
       "      <td>NaN</td>\n",
       "      <td>NaN</td>\n",
       "      <td>NaN</td>\n",
       "    </tr>\n",
       "    <tr>\n",
       "      <th>Rasheed Wallace</th>\n",
       "      <td>3</td>\n",
       "      <td>$27,421,268</td>\n",
       "      <td>$15,182,619</td>\n",
       "      <td>$16,544,665</td>\n",
       "      <td>$17,013,421</td>\n",
       "      <td>$17,833,953</td>\n",
       "      <td>$18,863,479</td>\n",
       "      <td>$8,042,006</td>\n",
       "      <td>$8,594,833</td>\n",
       "      <td>NaN</td>\n",
       "      <td>...</td>\n",
       "      <td>NaN</td>\n",
       "      <td>NaN</td>\n",
       "      <td>NaN</td>\n",
       "      <td>NaN</td>\n",
       "      <td>NaN</td>\n",
       "      <td>NaN</td>\n",
       "      <td>NaN</td>\n",
       "      <td>NaN</td>\n",
       "      <td>NaN</td>\n",
       "      <td>NaN</td>\n",
       "    </tr>\n",
       "    <tr>\n",
       "      <th>Chris Webber</th>\n",
       "      <td>4</td>\n",
       "      <td>$25,707,439</td>\n",
       "      <td>$27,383,775</td>\n",
       "      <td>$29,135,978</td>\n",
       "      <td>$26,668,024</td>\n",
       "      <td>$27,877,531</td>\n",
       "      <td>NaN</td>\n",
       "      <td>NaN</td>\n",
       "      <td>NaN</td>\n",
       "      <td>NaN</td>\n",
       "      <td>...</td>\n",
       "      <td>NaN</td>\n",
       "      <td>NaN</td>\n",
       "      <td>NaN</td>\n",
       "      <td>NaN</td>\n",
       "      <td>NaN</td>\n",
       "      <td>NaN</td>\n",
       "      <td>NaN</td>\n",
       "      <td>NaN</td>\n",
       "      <td>NaN</td>\n",
       "      <td>NaN</td>\n",
       "    </tr>\n",
       "  </tbody>\n",
       "</table>\n",
       "<p>5 rows × 25 columns</p>\n",
       "</div>"
      ],
      "text/plain": [
       "                  Unnamed: 0 0304_salary_adjusted 0405_salary_adjusted  \\\n",
       "player_name                                                              \n",
       "Kevin Garnett              0         $45,164,442          $24,991,966    \n",
       "Shaquille O'Neal           1         $39,922,139          $43,261,765    \n",
       "Dikembe Mutombo            2         $28,573,430          $30,436,651    \n",
       "Rasheed Wallace            3         $27,421,268          $15,182,619    \n",
       "Chris Webber               4         $25,707,439          $27,383,775    \n",
       "\n",
       "                 0506_salary_adjusted 0607_salary_adjusted  \\\n",
       "player_name                                                  \n",
       "Kevin Garnett            $27,422,097          $30,667,969    \n",
       "Shaquille O'Neal         $30,468,997          $29,207,589    \n",
       "Dikembe Mutombo           $3,046,899           $3,227,438    \n",
       "Rasheed Wallace          $16,544,665          $17,013,421    \n",
       "Chris Webber             $29,135,978          $26,668,024    \n",
       "\n",
       "                 0708_salary_adjusted 0809_salary_adjusted  \\\n",
       "player_name                                                  \n",
       "Kevin Garnett            $33,776,427          $33,518,133    \n",
       "Shaquille O'Neal         $28,443,307          $28,437,406    \n",
       "Dikembe Mutombo           $1,734,458           $1,075,869    \n",
       "Rasheed Wallace          $17,833,953          $18,863,479    \n",
       "Chris Webber             $27,877,531                   NaN   \n",
       "\n",
       "                 0910_salary_adjusted 1011_salary_adjusted  \\\n",
       "player_name                                                  \n",
       "Kevin Garnett            $22,529,708          $25,557,528    \n",
       "Shaquille O'Neal         $27,475,254           $1,838,213    \n",
       "Dikembe Mutombo                   NaN                  NaN   \n",
       "Rasheed Wallace           $8,042,006           $8,594,833    \n",
       "Chris Webber                      NaN                  NaN   \n",
       "\n",
       "                 1112_salary_adjusted  ... 1718_salary_adjusted  \\\n",
       "player_name                            ...                        \n",
       "Kevin Garnett            $27,891,534   ...                  NaN   \n",
       "Shaquille O'Neal                  NaN  ...                  NaN   \n",
       "Dikembe Mutombo                   NaN  ...                  NaN   \n",
       "Rasheed Wallace                   NaN  ...                  NaN   \n",
       "Chris Webber                      NaN  ...                  NaN   \n",
       "\n",
       "                 1819_salary_adjusted 1920_salary_adjusted  \\\n",
       "player_name                                                  \n",
       "Kevin Garnett                     NaN                  NaN   \n",
       "Shaquille O'Neal                  NaN                  NaN   \n",
       "Dikembe Mutombo                   NaN                  NaN   \n",
       "Rasheed Wallace                   NaN                  NaN   \n",
       "Chris Webber                      NaN                  NaN   \n",
       "\n",
       "                 2021_salary_adjusted 2122_salary_adjusted  \\\n",
       "player_name                                                  \n",
       "Kevin Garnett                     NaN                  NaN   \n",
       "Shaquille O'Neal                  NaN                  NaN   \n",
       "Dikembe Mutombo                   NaN                  NaN   \n",
       "Rasheed Wallace                   NaN                  NaN   \n",
       "Chris Webber                      NaN                  NaN   \n",
       "\n",
       "                 2223_salary_adjusted 2324_salary 2425_salary_predicted  \\\n",
       "player_name                                                               \n",
       "Kevin Garnett                     NaN         NaN                   NaN   \n",
       "Shaquille O'Neal                  NaN         NaN                   NaN   \n",
       "Dikembe Mutombo                   NaN         NaN                   NaN   \n",
       "Rasheed Wallace                   NaN         NaN                   NaN   \n",
       "Chris Webber                      NaN         NaN                   NaN   \n",
       "\n",
       "                 2526_salary_predicted 2627_salary_predicted  \n",
       "player_name                                                   \n",
       "Kevin Garnett                      NaN                   NaN  \n",
       "Shaquille O'Neal                   NaN                   NaN  \n",
       "Dikembe Mutombo                    NaN                   NaN  \n",
       "Rasheed Wallace                    NaN                   NaN  \n",
       "Chris Webber                       NaN                   NaN  \n",
       "\n",
       "[5 rows x 25 columns]"
      ]
     },
     "execution_count": 2,
     "metadata": {},
     "output_type": "execute_result"
    }
   ],
   "source": [
    "# Load the data into a Pandas DataFrame\n",
    "df_player_data = pd.read_csv(\n",
    "    \"RANDOM.csv\",\n",
    "    index_col=\"player_name\")\n",
    "\n",
    "# Display sample data\n",
    "df_player_data.head()"
   ]
  },
  {
   "cell_type": "code",
   "execution_count": 3,
   "metadata": {},
   "outputs": [
    {
     "data": {
      "text/html": [
       "<div>\n",
       "<style scoped>\n",
       "    .dataframe tbody tr th:only-of-type {\n",
       "        vertical-align: middle;\n",
       "    }\n",
       "\n",
       "    .dataframe tbody tr th {\n",
       "        vertical-align: top;\n",
       "    }\n",
       "\n",
       "    .dataframe thead th {\n",
       "        text-align: right;\n",
       "    }\n",
       "</style>\n",
       "<table border=\"1\" class=\"dataframe\">\n",
       "  <thead>\n",
       "    <tr style=\"text-align: right;\">\n",
       "      <th></th>\n",
       "      <th>Unnamed: 0</th>\n",
       "    </tr>\n",
       "  </thead>\n",
       "  <tbody>\n",
       "    <tr>\n",
       "      <th>count</th>\n",
       "      <td>2228.000000</td>\n",
       "    </tr>\n",
       "    <tr>\n",
       "      <th>mean</th>\n",
       "      <td>1113.500000</td>\n",
       "    </tr>\n",
       "    <tr>\n",
       "      <th>std</th>\n",
       "      <td>643.312521</td>\n",
       "    </tr>\n",
       "    <tr>\n",
       "      <th>min</th>\n",
       "      <td>0.000000</td>\n",
       "    </tr>\n",
       "    <tr>\n",
       "      <th>25%</th>\n",
       "      <td>556.750000</td>\n",
       "    </tr>\n",
       "    <tr>\n",
       "      <th>50%</th>\n",
       "      <td>1113.500000</td>\n",
       "    </tr>\n",
       "    <tr>\n",
       "      <th>75%</th>\n",
       "      <td>1670.250000</td>\n",
       "    </tr>\n",
       "    <tr>\n",
       "      <th>max</th>\n",
       "      <td>2227.000000</td>\n",
       "    </tr>\n",
       "  </tbody>\n",
       "</table>\n",
       "</div>"
      ],
      "text/plain": [
       "        Unnamed: 0\n",
       "count  2228.000000\n",
       "mean   1113.500000\n",
       "std     643.312521\n",
       "min       0.000000\n",
       "25%     556.750000\n",
       "50%    1113.500000\n",
       "75%    1670.250000\n",
       "max    2227.000000"
      ]
     },
     "execution_count": 3,
     "metadata": {},
     "output_type": "execute_result"
    }
   ],
   "source": [
    "# Generate summary statistics\n",
    "df_player_data.describe()"
   ]
  },
  {
   "cell_type": "code",
   "execution_count": 4,
   "metadata": {},
   "outputs": [
    {
     "data": {},
     "metadata": {},
     "output_type": "display_data"
    },
    {
     "data": {
      "application/vnd.holoviews_exec.v0+json": "",
      "text/html": [
       "<div id='1002'>\n",
       "  <div class=\"bk-root\" id=\"a130dc2b-f34b-4b1c-a0b5-5070240df331\" data-root-id=\"1002\"></div>\n",
       "</div>\n",
       "<script type=\"application/javascript\">(function(root) {\n",
       "  function embed_document(root) {\n",
       "    var docs_json = {\"5f95180a-246e-4b41-a5f7-ad8093e99cf8\":{\"defs\":[{\"extends\":null,\"module\":null,\"name\":\"ReactiveHTML1\",\"overrides\":[],\"properties\":[]},{\"extends\":null,\"module\":null,\"name\":\"FlexBox1\",\"overrides\":[],\"properties\":[{\"default\":\"flex-start\",\"kind\":null,\"name\":\"align_content\"},{\"default\":\"flex-start\",\"kind\":null,\"name\":\"align_items\"},{\"default\":\"row\",\"kind\":null,\"name\":\"flex_direction\"},{\"default\":\"wrap\",\"kind\":null,\"name\":\"flex_wrap\"},{\"default\":\"flex-start\",\"kind\":null,\"name\":\"justify_content\"}]},{\"extends\":null,\"module\":null,\"name\":\"GridStack1\",\"overrides\":[],\"properties\":[{\"default\":\"warn\",\"kind\":null,\"name\":\"mode\"},{\"default\":null,\"kind\":null,\"name\":\"ncols\"},{\"default\":null,\"kind\":null,\"name\":\"nrows\"},{\"default\":true,\"kind\":null,\"name\":\"allow_resize\"},{\"default\":true,\"kind\":null,\"name\":\"allow_drag\"},{\"default\":[],\"kind\":null,\"name\":\"state\"}]},{\"extends\":null,\"module\":null,\"name\":\"click1\",\"overrides\":[],\"properties\":[{\"default\":\"\",\"kind\":null,\"name\":\"terminal_output\"},{\"default\":\"\",\"kind\":null,\"name\":\"debug_name\"},{\"default\":0,\"kind\":null,\"name\":\"clears\"}]},{\"extends\":null,\"module\":null,\"name\":\"NotificationAreaBase1\",\"overrides\":[],\"properties\":[{\"default\":\"bottom-right\",\"kind\":null,\"name\":\"position\"},{\"default\":0,\"kind\":null,\"name\":\"_clear\"}]},{\"extends\":null,\"module\":null,\"name\":\"NotificationArea1\",\"overrides\":[],\"properties\":[{\"default\":[],\"kind\":null,\"name\":\"notifications\"},{\"default\":\"bottom-right\",\"kind\":null,\"name\":\"position\"},{\"default\":0,\"kind\":null,\"name\":\"_clear\"},{\"default\":[{\"background\":\"#ffc107\",\"icon\":{\"className\":\"fas fa-exclamation-triangle\",\"color\":\"white\",\"tagName\":\"i\"},\"type\":\"warning\"},{\"background\":\"#007bff\",\"icon\":{\"className\":\"fas fa-info-circle\",\"color\":\"white\",\"tagName\":\"i\"},\"type\":\"info\"}],\"kind\":null,\"name\":\"types\"}]},{\"extends\":null,\"module\":null,\"name\":\"Notification\",\"overrides\":[],\"properties\":[{\"default\":null,\"kind\":null,\"name\":\"background\"},{\"default\":3000,\"kind\":null,\"name\":\"duration\"},{\"default\":null,\"kind\":null,\"name\":\"icon\"},{\"default\":\"\",\"kind\":null,\"name\":\"message\"},{\"default\":null,\"kind\":null,\"name\":\"notification_type\"},{\"default\":false,\"kind\":null,\"name\":\"_destroyed\"}]},{\"extends\":null,\"module\":null,\"name\":\"TemplateActions1\",\"overrides\":[],\"properties\":[{\"default\":0,\"kind\":null,\"name\":\"open_modal\"},{\"default\":0,\"kind\":null,\"name\":\"close_modal\"}]},{\"extends\":null,\"module\":null,\"name\":\"MaterialTemplateActions1\",\"overrides\":[],\"properties\":[{\"default\":0,\"kind\":null,\"name\":\"open_modal\"},{\"default\":0,\"kind\":null,\"name\":\"close_modal\"}]}],\"roots\":{\"references\":[{\"attributes\":{\"coordinates\":null,\"data_source\":{\"id\":\"1035\"},\"glyph\":{\"id\":\"1038\"},\"group\":null,\"hover_glyph\":null,\"muted_glyph\":{\"id\":\"1040\"},\"nonselection_glyph\":{\"id\":\"1039\"},\"selection_glyph\":{\"id\":\"1043\"},\"view\":{\"id\":\"1042\"}},\"id\":\"1041\",\"type\":\"GlyphRenderer\"},{\"attributes\":{},\"id\":\"1022\",\"type\":\"SaveTool\"},{\"attributes\":{},\"id\":\"1023\",\"type\":\"PanTool\"},{\"attributes\":{\"below\":[{\"id\":\"1015\"}],\"center\":[{\"id\":\"1017\"},{\"id\":\"1021\"}],\"height\":400,\"left\":[{\"id\":\"1018\"}],\"margin\":[5,5,5,5],\"min_border_bottom\":10,\"min_border_left\":10,\"min_border_right\":10,\"min_border_top\":10,\"output_backend\":\"webgl\",\"renderers\":[{\"id\":\"1041\"}],\"sizing_mode\":\"fixed\",\"title\":{\"id\":\"1007\"},\"toolbar\":{\"id\":\"1028\"},\"width\":800,\"x_range\":{\"id\":\"1003\"},\"x_scale\":{\"id\":\"1011\"},\"y_range\":{\"id\":\"1004\"},\"y_scale\":{\"id\":\"1013\"}},\"id\":\"1006\",\"subtype\":\"Figure\",\"type\":\"Plot\"},{\"attributes\":{},\"id\":\"1024\",\"type\":\"WheelZoomTool\"},{\"attributes\":{},\"id\":\"1026\",\"type\":\"ResetTool\"},{\"attributes\":{\"overlay\":{\"id\":\"1027\"}},\"id\":\"1025\",\"type\":\"BoxZoomTool\"},{\"attributes\":{\"source\":{\"id\":\"1035\"}},\"id\":\"1042\",\"type\":\"CDSView\"},{\"attributes\":{},\"id\":\"1049\",\"type\":\"AllLabels\"},{\"attributes\":{\"line_alpha\":0.2,\"line_color\":\"#30a2da\",\"line_width\":2,\"tags\":[\"apply_ranges\"],\"x\":{\"field\":\"player_name\"},\"y\":{\"field\":\"Unnamed: 0\"}},\"id\":\"1040\",\"type\":\"Line\"},{\"attributes\":{},\"id\":\"1045\",\"type\":\"CategoricalTickFormatter\"},{\"attributes\":{\"factors\":[\"Kevin Garnett\",\"Shaquille O'Neal\",\"Dikembe Mutombo\",\"Rasheed Wallace\",\"Chris Webber\",\"Allan Houston\",\"Shawn Kemp\",\"Stephon Marbury\",\"Anfernee Hardaway\",\"Allen Iverson\",\"Ray Allen\",\"Antonio McDyess\",\"Latrell Sprewell\",\"Kobe Bryant\",\"Antoine Walker\",\"Zydrunas Ilgauskas\",\"Vin Baker\",\"Shareef Abdur-Rahim\",\"Michael Finley\",\"Jalen Rose\",\"Tracy McGrady\",\"Grant Hill\",\"Keith Van Horn\",\"Jermaine O'Neal\",\"Jason Kidd\",\"Antonio Davis\",\"Tim Duncan\",\"Damon Stoudamire\",\"Eddie Jones\",\"Brian Grant\",\"Vlade Divac\",\"Nick Van Exel\",\"Tim Thomas\",\"Tom Gugliotta\",\"Vince Carter\",\"Dirk Nowitzki\",\"Antawn Jamison\",\"Paul Pierce\",\"Terrell Brandon\",\"Shawn Marion\",\"Baron Davis\",\"Elton Brand\",\"Steve Francis\",\"Glenn Robinson\",\"Theo Ratliff\",\"Lamar Odom\",\"Mike Bibby\",\"Kerry Kittles\",\"Dale Davis\",\"Toni Kukoc\",\"Greg Ostertag\",\"Gilbert Arenas\",\"Jamal Mashburn\",\"Jason Terry\",\"Raef LaFrentz\",\"PJ Brown\",\"Wally Szczerbiak\",\"Andre Miller\",\"Glen Rice\",\"Erick Dampier\",\"Maurice Taylor\",\"Derek Anderson\",\"Wesley Person\",\"Alan Henderson\",\"Austin Croshere\",\"Kelvin Cato\",\"Marcus Camby\",\"Rashard Lewis\",\"Brad Miller\",\"Bonzi Wells\",\"Corey Maggette\",\"Jerry Stackhouse\",\"Doug Christie\",\"Ron Mercer\",\"Shandon Anderson\",\"Lorenzen Wright\",\"Chris Mills\",\"Bo Outlaw\",\"Richard Hamilton\",\"Hakeem Olajuwon\",\"Bob Sura\",\"Predrag Stojakovic\",\"Eddie Robinson\",\"Michael Dickerson\",\"Jason Williams\",\"Tariq Abdul-Wahad\",\"Charlie Ward\",\"Jerome Williams\",\"Howard Eisley\",\"Jonathan Bender\",\"Steve Nash\",\"Vitaly Potapenko\",\"Al Harrington\",\"Jason Caffey\",\"Jahidi White\",\"Christian Laettner\",\"Radoslav Nesterovic\",\"Eric Williams\",\"Alvin Williams\",\"Kenny Thomas\",\"Ben Wallace\",\"Metta World Peace\",\"Calvin Booth\",\"Ruben Patterson\",\"Todd MacCulloch\",\"Joe Smith\",\"Clarence Weatherspoon\",\"Avery Johnson\",\"Danny Fortson\",\"Brent Barry\",\"Kurt Thomas\",\"Cuttino Mobley\",\"Scot Pollard\",\"Kenyon Martin\",\"Sam Cassell\",\"Larry Hughes\",\"Keon Clark\",\"Jerome James\",\"Chauncey Billups\",\"Ricky Davis\",\"Brevin Knight\",\"Aaron McKie\",\"Reggie Miller\",\"Corliss Williamson\",\"Nazr Mohammed\",\"Juwan Howard\",\"Michael Olowokandi\",\"James Posey\",\"Gary Payton\",\"Scottie Pippen\",\"Alonzo Mourning\",\"Malik Rose\",\"Rick Fox\",\"Clifford Robinson\",\"Donyell Marshall\",\"Stromile Swift\",\"Devean George\",\"Lamond Murray\",\"Robert Horry\",\"Eric Snow\",\"Michael Stewart\",\"Ervin Johnson\",\"Travis Knight\",\"Adonal Foyle\",\"Tony Battie\",\"Anthony Mason\",\"Matt Harpring\",\"Kwame Brown\",\"Zeljko Rebraca\",\"Yao Ming\",\"Darius Miles\",\"LeBron James\",\"Derrick Coleman\",\"Jeff Foster\",\"Elden Campbell\",\"David Wesley\",\"Marc Jackson\",\"Chucky Atkins\",\"Tyson Chandler\",\"Marcus Fizer\",\"Jay Williams\",\"Bruce Bowen\",\"Lawrence Funderburke\",\"Darko Milicic\",\"Moochie Norris\",\"Shawn Bradley\",\"Eduardo Najera\",\"Mike Miller\",\"Mike Dunleavy\",\"Jeff McInnis\",\"Carmelo Anthony\",\"Eddy Curry\",\"Rodney Rogers\",\"Evan Eschmeyer\",\"Matt Maloney\",\"Drew Gooden\",\"Michael Redd\",\"Derek Fisher\",\"Speedy Claxton\",\"Lindsey Hunter\",\"Jon Barry\",\"Chris Crawford\",\"Eric Montross\",\"Hubert Davis\",\"Bobby Jackson\",\"Othella Harrington\",\"Tony Delk\",\"Aaron Williams\",\"Chris Bosh\",\"Chris Mihm\",\"Michael Curry\",\"George Lynch\",\"Jason Richardson\",\"Nikoloz Tskitishvili\",\"Pat Garrity\",\"Greg Buckner\",\"Dwyane Wade\",\"Wang Zhizhi\",\"Pau Gasol\",\"John Amaechi\",\"Jamal Crawford\",\"Shane Battier\",\"Andrew DeClercq\",\"Predrag Drobnjak\",\"Eric Piatkowski\",\"Earl Boykins\",\"Lucious Harris\",\"Darrell Armstrong\",\"Dajuan Wagner\",\"Kevin Ollie\",\"Ira Newble\",\"Stacey Augmon\",\"Chris Kaman\",\"Joel Przybilla\",\"Eddie Griffin\",\"Cory Alexander\",\"Keyon Dooling\",\"Etan Thomas\",\"Antonio Daniels\",\"Jim Jackson\",\"Kirk Hinrich\",\"Courtney Alexander\",\"Bimbo Coles\",\"DeSagana Diop\",\"Nen\\u00ea\",\"Troy Hudson\",\"Chris Wilcox\",\"TJ Ford\",\"Hidayet Turkoglu\",\"Rodney White\",\"Marko Jaric\",\"Amare Stoudemire\",\"Desmond Mason\",\"Joe Johnson\",\"Mike Sweetney\",\"Quentin Richardson\",\"Caron Butler\",\"Nate Huffman\",\"Kedrick Brown\",\"Jarvis Hayes\",\"Jamaal Magloire\",\"Jared Jeffries\",\"Samaki Walker\",\"Corie Blount\",\"Vladimir Radmanovic\",\"Morris Peterson\",\"Melvin Ely\",\"DeShawn Stevenson\",\"Jerome Moiso\",\"Cezary Trybanski\",\"Dalibor Bagaric\",\"Richard Jefferson\",\"Iakovos Tsakalidis\",\"Nick Collison\",\"Marcus Haislip\",\"Gordan Giricek\",\"Michael Doleac\",\"Stanislav Medvedenko\",\"Mickael Pietrus\",\"Malik Allen\",\"Troy Murphy\",\"Fred Jones\",\"Jake Voskuhl\",\"Tyronn Lue\",\"Erick Strickland\",\"Brian Skinner\",\"Karl Malone\",\"Mark Jackson\",\"Jumaine Jones\",\"Marcus Banks\",\"Manu Ginobili\",\"Steven Hunter\",\"Luke Ridnour\",\"Bostjan Nachbar\",\"Kirk Haston\",\"Reece Gaines\",\"Earl Watson\",\"Jiri Welsch\",\"Bryce Drew\",\"Michael Bradley\",\"Troy Bell\",\"Juan Dixon\",\"Jarron Collins\",\"Ryan Bowen\",\"Jason Collins\",\"Zarko Cabarkapa\",\"Daniel Santiago\",\"Voshon Lenard\",\"Walter McCarty\",\"Curtis Borchardt\",\"Zach Randolph\",\"Chris Childs\",\"David West\",\"Ryan Humphrey\",\"Jeryl Sasser\",\"Brendan Haywood\",\"Aleksandar Pavlovic\",\"Mehmet Okur\",\"Kareem Rush\",\"Joseph Forte\",\"Chris Whitney\",\"Kevin Willis\",\"Tony Massenburg\",\"Anthony Peeler\",\"Scott Williams\",\"Steve Smith\",\"Sean Rooks\",\"Horace Grant\",\"Bryon Russell\",\"Olden Polynice\",\"Kenny Anderson\",\"Popeye Jones\",\"Calbert Cheaney\",\"Kendall Gill\",\"Dahntay Jones\",\"Qyntel Woods\",\"Boris Diaw\",\"Casey Jacobsen\",\"Monty Williams\",\"Stephen Jackson\",\"Dion Glover\",\"Brandon Armstrong\",\"Zoran Planinic\",\"Efthimios Rentzias\",\"Tayshaun Prince\",\"Robert Pack\",\"Andrei Kirilenko\",\"Mark Blount\",\"Travis Outlaw\",\"Gary Trent\",\"Fred Hoiberg\",\"Travis Best\",\"Gerald Wallace\",\"Brian Cook\",\"Frank Williams\",\"Rod Strickland\",\"Samuel Dalembert\",\"Mitchell Butler\",\"John Salmons\",\"Primoz Brezec\",\"Jamaal Tinsley\",\"Tony Parker\",\"Chris Jefferies\",\"Ndudi Ebi\",\"Dan Dickau\",\"Maciej Lampe\",\"Robert Traylor\",\"Kendrick Perkins\",\"John Wallace\",\"Anthony Johnson\",\"Darvin Ham\",\"Rick Brunson\",\"Jacque Vaughn\",\"Leandro Barbosa\",\"Carlos Arroyo\",\"Brian Scalabrine\",\"Josh Howard\",\"Anthony Carter\",\"Vladimir Stepania\",\"Shammond Williams\",\"Damon Jones\",\"Adrian Griffin\",\"Mark Pope\",\"Bruno Sundov\",\"Eddie House\",\"Reggie Evans\",\"Doug Overton\",\"Raja Bell\",\"Milt Palacio\",\"Amal McCaskill\",\"Ansu Sesay\",\"Rafer Alston\",\"Scott Padgett\",\"Obinna Ekezie\",\"Oliver Miller\",\"Michael Ruffin\",\"Ruben Boumtje-Boumtje\",\"Donnell Harvey\",\"Mark Madsen\",\"Pepe Sanchez\",\"Brian Cardinal\",\"Jason Hart\",\"Jabari Smith Sr\",\"Trenton Hassell\",\"Loren Woods\",\"Bobby Simmons\",\"Jamison Brewer\",\"Mike Wilks\",\"Tremaine Fowlkes\",\"Jeff Trepagnier\",\"Chris Andersen\",\"Mike James\",\"Mengke Bateer\",\"Lonny Baxter\",\"Raul Lopez\",\"Dan Langhi\",\"Sean Marks\",\"Alton Ford\",\"Roger Mason\",\"Devin Brown\",\"Sam Clancy\",\"Robert Archibald\",\"Ronald Murray\",\"Dan Gadzuric\",\"Rasual Butler\",\"Jannero Pargo\",\"Jamal Sampson\",\"JR Bremer\",\"Carlos Boozer\",\"Tamar Slay\",\"Mikki Moore\",\"Zendon Hamilton\",\"Muggsy Bogues\",\"Steve Blake\",\"Maurice Williams\",\"Ben Handlogten\",\"Alex Garcia\",\"Darius Songaila\",\"Willie Green\",\"Kyle Korver\",\"Zaza Pachulia\",\"Keith Bogans\",\"Richie Frahm\",\"Keith McLeod\",\"Udonis Haslem\",\"Jerome Beasley\",\"Theron Smith\",\"Luke Walton\",\"Josh Moore\",\"James Jones\",\"Francisco Elson\",\"Marquis Daniels\",\"Jon Stefansson\",\"Jason Kapono\",\"Linton Johnson\",\"Brandon Hunter\",\"Travis Hansen\",\"Paul Grant\",\"Matt Carroll\",\"Kaniel Dickens\",\"Cherokee Parks\",\"Tyrone Hill\",\"Damone Brown\",\"Quincy Lewis\",\"Ben Davis\",\"Rodney Buford\",\"Tracy Murray\",\"Slavko Vranes\",\"Sean Lampley\",\"Shane Heal\",\"Torraye Braggs\",\"Britton Johnsen\",\"Jelani McCoy\",\"Derrick Dial\",\"Dwight Howard\",\"Emeka Okafor\",\"Ben Gordon\",\"Shaun Livingston\",\"Arvydas Sabonis\",\"Devin Harris\",\"Andres Nocioni\",\"Josh Childress\",\"Luol Deng\",\"Rafael Araujo\",\"Andre Iguodala\",\"Luke Jackson\",\"Andris Biedrins\",\"Robert Swift\",\"Ibo Kutluay\",\"Sebastian Telfair\",\"Jason Collier\",\"Kris Humphries\",\"Al Jefferson\",\"Kirk Snyder\",\"Josh Smith\",\"JR Smith\",\"Dorell Wright\",\"Jameer Nelson\",\"Pavel Podkolzin\",\"Viktor Khryapa\",\"Nenad Krstic\",\"Delonte West\",\"Carlos Delfino\",\"Tony Allen\",\"Kevin Martin\",\"Sasha Vujacic\",\"Beno Udrih\",\"David Harrison\",\"Didier Ilunga-Mbenga\",\"Anderson Varejao\",\"Mamadou N'diaye\",\"Laron Profit\",\"Lee Nailon\",\"DerMarr Johnson\",\"Mateen Cleaves\",\"Aleksandar Radojevic\",\"Tierre Brown\",\"Eddie Gill\",\"Maurice Evans\",\"Matt Barnes\",\"Junior Harrington\",\"Smush Parker\",\"Josh Davis\",\"Quinton Ross\",\"Ronald Dupree\",\"Tommy Smith\",\"Peter John Ramos\",\"Lionel Chalmers\",\"Royal Ivey\",\"Donta Smith\",\"Pape Sow\",\"Matt Bonner\",\"Romain Sato\",\"Erik Daniels\",\"Jackson Vroman\",\"Mario Kasun\",\"Damien Wilkins\",\"Trevor Ariza\",\"Antonio Burks\",\"Andre Emmett\",\"John Edwards\",\"Andre Barrett\",\"Luis Flores\",\"Horace Jenkins\",\"Arthur Johnson\",\"Jared Reiner\",\"Chris Duhon\",\"Bernard Robinson\",\"Justin Reed\",\"Matt Freije\",\"Corsley Edwards\",\"Tony Bobbitt\",\"Anthony Goldwire\",\"Yuta Tabuse\",\"Awvee Storey\",\"Geno Carlisle\",\"Anthony Miller\",\"Andrew Bogut\",\"Sarunas Jasikevicius\",\"Marvin Williams\",\"Deron Williams\",\"Chris Paul\",\"Raymond Felton\",\"Martell Webster\",\"Arvydas Macijauskas\",\"Charlie Villanueva\",\"Fabricio Oberto\",\"Jose Calderon\",\"Channing Frye\",\"Ike Diogu\",\"Andrew Bynum\",\"Yaroslav Korolev\",\"Sean May\",\"Rashad McCants\",\"Antoine Wright\",\"Joey Graham\",\"Jermaine Jackson\",\"Danny Granger\",\"Gerald Green\",\"Hakim Warrick\",\"Julius Hodge\",\"Nate Robinson\",\"Jarrett Jack\",\"Francisco Garcia\",\"Sergey Monya\",\"Luther Head\",\"Darrick Martin\",\"Johan Petro\",\"Jason Maxiell\",\"Linas Kleiza\",\"Wayne Simien\",\"David Lee\",\"Terence Morris\",\"Charles Smith\",\"Pat Burke\",\"Salim Stoudamire\",\"Ha Seung-Jin\",\"Charlie Bell\",\"James Singleton\",\"Louis Williams\",\"Daniel Ewing\",\"Monta Ellis\",\"Ryan Gomes\",\"Chris Taft\",\"Donell Taylor\",\"Andray Blatche\",\"Andre Owens\",\"Robert Whaley\",\"CJ Miles\",\"Ronnie Price\",\"Dijon Thompson\",\"Shavlik Randolph\",\"Travis Diener\",\"Jackie Butler\",\"Brandon Bass\",\"Dwayne Jones\",\"Bracey Wright\",\"Ersan Ilyasova\",\"Earl Barron\",\"Lawrence Roberts\",\"Anthony Roberson\",\"Devin Green\",\"Von Wafer\",\"Boniface N'Dong\",\"Amir Johnson\",\"Alex Acker\",\"Rawle Marshall\",\"Josh Powell\",\"Martynas Andriuskevicius\",\"Eddie Basden\",\"Kevin Burleson\",\"Alan Anderson\",\"Orien Greene\",\"Esteban Batista\",\"Gerald Fitch\",\"John Thomas\",\"Aaron Miles\",\"Sean Banks\",\"James Thomas\",\"Sharrod Ford\",\"Deng Gai\",\"Randy Holcomb\",\"Stephen Graham\",\"Matt Walsh\",\"John Lucas\",\"Melvin Sanders\",\"Alex Scales\",\"Andrea Bargnani\",\"Anthony Parker\",\"LaMarcus Aldridge\",\"Jorge Garbajosa\",\"Adam Morrison\",\"Tyrus Thomas\",\"Shelden Williams\",\"Brandon Roy\",\"Randy Foye\",\"Rudy Gay\",\"Patrick O'Bryant\",\"Saer Sene\",\"JJ Redick\",\"Vassilis Spanoulis\",\"Walter Herrmann\",\"Hilton Armstrong\",\"Thabo Sefolosha\",\"Ronnie Brewer\",\"Cedric Simmons\",\"Rodney Carney\",\"Shawne Williams\",\"Quincy Douby\",\"Renaldo Balkman\",\"Rajon Rondo\",\"Marcus Williams\",\"Josh Boone\",\"Kyle Lowry\",\"Shannon Brown\",\"Jordan Farmar\",\"Sergio Rodriguez\",\"Maurice Ager\",\"Mardy Collins\",\"James White\",\"Mickael Gelabale\",\"Mile Ilic\",\"James Lang\",\"Ime Udoka\",\"Maceo Baston\",\"Solomon Jones\",\"Lynn Greer\",\"Ronny Turiaf\",\"Chuck Hayes\",\"Paul Millsap\",\"Steve Novak\",\"Leon Powe\",\"Roger Powell\",\"Brian Chase\",\"Dee Brown\",\"Uros Slokar\",\"PJ Tucker\",\"Bobby Jones\",\"James Augustine\",\"Marcus Vinicius\",\"Craig Smith\",\"David Noel\",\"Damir Markota\",\"Robert Hite\",\"Chris Quinn\",\"Tarence Kinsey\",\"Alexander Johnson\",\"Paul Davis\",\"Will Blalock\",\"Ivan McFarlin\",\"Yakhouba Diawara\",\"Jose Juan Barea\",\"Pops Mensah-Bonsu\",\"Daniel Gibson\",\"Ryan Hollins\",\"Hassan Adams\",\"Allan Ray\",\"Cedric Bozeman\",\"Kelenna Azubuike\",\"Desmon Farmer\",\"Justin Williams\",\"Andre Brown\",\"Juaquin Hawkins\",\"Jeremy Richardson\",\"Steven Smith\",\"Andreas Glyniadakis\",\"Chris McCray\",\"Mike Gansey\",\"Mike Hall\",\"Pat Carroll\",\"Paul Miller\",\"Jimmie Hunter\",\"Daniel Horton\",\"Jefferson Sobral\",\"Vincent Grier\",\"Luke Schenscher\",\"Kevin Pittsnogle\",\"Will Conroy\",\"Renaldo Major\",\"Greg Oden\",\"Kevin Durant\",\"Al Horford\",\"Mike Conley\",\"Jeff Green\",\"Luis Scola\",\"Yi Jianlian\",\"Corey Brewer\",\"Brandan Wright\",\"Joakim Noah\",\"Spencer Hawes\",\"Acie Law\",\"Thaddeus Young\",\"Kosta Perovic\",\"Julian Wright\",\"Al Thornton\",\"Rodney Stuckey\",\"Nick Young\",\"Sean Williams\",\"Oleksiy Pecherov\",\"Marco Belinelli\",\"Javaris Crittenton\",\"Jason Smith\",\"Daequan Cook\",\"Jared Dudley\",\"Wilson Chandler\",\"Morris Almond\",\"Aaron Brooks\",\"Arron Afflalo\",\"Ian Mahinmi\",\"Alando Tucker\",\"Randolph Morris\",\"Billy Thomas\",\"Kyrylo Fesenko\",\"Gabe Pruitt\",\"Juan Carlos Navarro\",\"Dominic McGuire\",\"Jamario Moon\",\"Josh McRoberts\",\"D.J. Strawberry\",\"Herbert Hill\",\"Marcin Gortat\",\"Chris Richard\",\"Ramon Sessions\",\"Joel Anthony\",\"Coby Karl\",\"Adam Haluska\",\"Carl Landry\",\"Cheikh Samb\",\"Taurean Green\",\"Nick Fazekas\",\"JamesOn Curry\",\"Demetris Nichols\",\"Aaron Gray\",\"Jermareo Davidson\",\"Glen Davis\",\"Mario West\",\"Keith Langford\",\"Darius Washington\",\"Brandon Wallace\",\"CJ Watson\",\"Courtney Sims\",\"Darryl Watkins\",\"Thomas Gardner\",\"Guillermo Diaz\",\"Stephane Lasme\",\"Derrick Rose\",\"Michael Beasley\",\"OJ Mayo\",\"Russell Westbrook\",\"Kevin Love\",\"Marc Gasol\",\"Danilo Gallinari\",\"Eric Gordon\",\"Joe Alexander\",\"DJ Augustin\",\"Brook Lopez\",\"Jerryd Bayless\",\"Jason Thompson\",\"Brandon Rush\",\"Anthony Randolph\",\"Goran Dragic\",\"Robin Lopez\",\"Hamed Haddadi\",\"Marreese Speights\",\"Roy Hibbert\",\"JaVale McGee\",\"JJ Hickson\",\"Alexis Ajinca\",\"Roko Ukic\",\"Ryan Anderson\",\"Courtney Lee\",\"Kosta Koufos\",\"Rudy Fernandez\",\"Nicolas Batum\",\"George Hill\",\"Darrell Arthur\",\"Donte Greene\",\"DJ White\",\"JR Giddens\",\"Joey Dorsey\",\"Kyle Weaver\",\"Luc Mbah a Moute\",\"Willie Solomon\",\"Will Bynum\",\"Mario Chalmers\",\"DeAndre Jordan\",\"Henry Walker\",\"Mike Taylor\",\"Darnell Jackson\",\"Chris Douglas-Roberts\",\"Nathan Jawai\",\"Bobby Brown\",\"Sun Yue\",\"Anthony Morrow\",\"Walter Sharpe\",\"Sonny Weems\",\"Sean Singletary\",\"Othello Hunter\",\"Rob Kurz\",\"Malik Hairston\",\"Jawad Williams\",\"Anthony Tolliver\",\"Cartier Martin\",\"Trey Johnson\",\"DeMarcus Nelson\",\"Steven Hill\",\"Blake Ahearn\",\"Richard Hendrix\",\"Blake Griffin\",\"Hasheem Thabeet\",\"James Harden\",\"Tyreke Evans\",\"Jonny Flynn\",\"Stephen Curry\",\"Jordan Hill\",\"David Andersen\",\"DeMar DeRozan\",\"Brandon Jennings\",\"Terrence Williams\",\"Gerald Henderson\",\"Tyler Hansbrough\",\"Earl Clark\",\"Austin Daye\",\"James Johnson\",\"Jrue Holiday\",\"Ty Lawson\",\"Jeff Teague\",\"Eric Maynor\",\"Darren Collison\",\"Omri Casspi\",\"BJ Mullens\",\"Serge Ibaka\",\"Rodrigue Beaubois\",\"Taj Gibson\",\"DeMarre Carroll\",\"Wayne Ellington\",\"Toney Douglas\",\"Louis Amundson\",\"DeJuan Blair\",\"Sam Young\",\"Jermaine Taylor\",\"Jodie Meeks\",\"Chris Hunter\",\"Marcus Thornton\",\"Wesley Matthews\",\"Jon Brockman\",\"Patrick Mills\",\"Jeff Ayres\",\"Dante Cunningham\",\"Taylor Griffin\",\"AJ Price\",\"Chase Budinger\",\"DaJuan Summers\",\"Jonas Jerebko\",\"Danny Green\",\"Derrick Brown\",\"Marcus Landry\",\"Lester Hudson\",\"Sundiata Gaines\",\"Garrett Temple\",\"Antonio Anderson\",\"Mike Harris\",\"Cedric Jackson\",\"John Wall\",\"Evan Turner\",\"Derrick Favors\",\"Nikola Pekovic\",\"Wesley Johnson\",\"Timofey Mozgov\",\"Tiago Splitter\",\"DeMarcus Cousins\",\"Ekpe Udoh\",\"Greg Monroe\",\"Al-Farouq Aminu\",\"Gordon Hayward\",\"Paul George\",\"Cole Aldrich\",\"Xavier Henry\",\"Ed Davis\",\"Patrick Patterson\",\"Larry Sanders\",\"Omer Asik\",\"Luke Babbitt\",\"Kevin Seraphin\",\"Eric Bledsoe\",\"Avery Bradley\",\"James Anderson\",\"Craig Brackins\",\"Elliot Williams\",\"Trevor Booker\",\"Damion James\",\"Dominique Jones\",\"Quincy Pondexter\",\"Jordan Crawford\",\"Greivis Vasquez\",\"Daniel Orton\",\"Lazar Hayward\",\"Christian Eyenga\",\"Solomon Alabi\",\"Reggie Williams\",\"Lance Stephenson\",\"Hassan Whiteside\",\"Alonzo Gee\",\"Andy Rautins\",\"Gary Neal\",\"Willie Warren\",\"Samardo Samuels\",\"Garret Siler\",\"Gani Lawal\",\"Hamady N'Diaye\",\"Jeremy Evans\",\"Pooh Jeter\",\"Armon Johnson\",\"Landry Fields\",\"Da'Sean Butler\",\"Dexter Pittman\",\"Patrick Beverley\",\"Ishmael Smith\",\"Derrick Caracter\",\"Devin Ebanks\",\"Jeremy Lin\",\"Terrico White\",\"Gary Forbes\",\"Manny Harris\",\"Luke Harangody\",\"Semih Erden\",\"Sherron Collins\",\"Ben Uzoh\",\"Pape Sy\",\"Jeff Adrien\",\"Zabian Dowdell\",\"Chris Johnson\",\"Darington Hobson\",\"Mustafa Shakur\",\"Matt Janning\",\"Larry Owens\",\"Kyrie Irving\",\"Derrick Williams\",\"Enes Kanter\",\"Tristan Thompson\",\"Ricky Rubio\",\"Jan Vesely\",\"Bismack Biyombo\",\"Brandon Knight\",\"Kemba Walker\",\"Jimmer Fredette\",\"Klay Thompson\",\"Alec Burks\",\"Markieff Morris\",\"Marcus Morris\",\"Kawhi Leonard\",\"Nikola Vucevic\",\"Gustavo Ayon\",\"Iman Shumpert\",\"Chris Singleton\",\"Tobias Harris\",\"Nolan Smith\",\"Kenneth Faried\",\"Reggie Jackson\",\"MarShon Brooks\",\"Jordan Hamilton\",\"JaJuan Johnson\",\"Norris Cole\",\"Cory Joseph\",\"Jimmy Butler\",\"Jeremy Pargo\",\"Chandler Parsons\",\"Tyler Honeycutt\",\"Greg Stiemsma\",\"Jeremy Tyler\",\"Josh Selby\",\"Malcolm Lee\",\"Ryan Reid\",\"Shelvin Mack\",\"Isaiah Thomas\",\"Lavoy Allen\",\"DeAndre Liggins\",\"Justin Harper\",\"Jerome Jordan\",\"Josh Harrellson\",\"Jon Leuer\",\"Terrel Harris\",\"Andrew Goudelock\",\"Darius Morris\",\"Trey Thompkins\",\"Travis Leslie\",\"Chris Wright\",\"Charles Jenkins\",\"Vernon Macklin\",\"Julyan Stone\",\"Cory Higgins\",\"Jordan Williams\",\"E'Twaun Moore\",\"Ivan Johnson\",\"Walker Russell\",\"Lance Thomas\",\"Greg Smith\",\"Mickell Gladness\",\"Jeff Foote\",\"Donald Sloan\",\"Carldell Johnson\",\"Mychel Thompson\",\"Malcolm Thomas\",\"Dennis Horner\",\"Courtney Fortson\",\"Anthony Davis\",\"Michael Kidd-Gilchrist\",\"Bradley Beal\",\"Dion Waiters\",\"Jonas Valanciunas\",\"Thomas Robinson\",\"Mirza Teletovic\",\"Damian Lillard\",\"Alexey Shved\",\"Joel Freeland\",\"Harrison Barnes\",\"Terrence Ross\",\"Andre Drummond\",\"Austin Rivers\",\"Meyers Leonard\",\"Jeremy Lamb\",\"Kendall Marshall\",\"John Henson\",\"Moe Harkless\",\"Royce White\",\"Tyler Zeller\",\"Vyacheslav Kravtsov\",\"Terrence Jones\",\"Andrew Nicholson\",\"Nando De Colo\",\"Donatas Motiejunas\",\"Evan Fournier\",\"Jared Sullinger\",\"Victor Claver\",\"Fab Melo\",\"John Jenkins\",\"Jared Cunningham\",\"Tony Wroten\",\"Miles Plumlee\",\"Arnett Moultrie\",\"Perry Jones\",\"Festus Ezeli\",\"Kyle Singler\",\"Marquis Teague\",\"Draymond Green\",\"Kyle O'Quinn\",\"Quincy Acy\",\"Doron Lamb\",\"Jae Crowder\",\"Will Barton\",\"Orlando Johnson\",\"Jeffery Taylor\",\"Kevin Murphy\",\"Luke Zeller\",\"Diante Garrett\",\"DeQuan Jones\",\"Pablo Prigioni\",\"Chris Copeland\",\"Darius Miller\",\"Brian Roberts\",\"Robert Sacre\",\"Ben Hansbrough\",\"Kent Bazemore\",\"Khris Middleton\",\"Kim English\",\"Quincy Miller\",\"Bernard James\",\"Tornike Shengelia\",\"Tyshawn Taylor\",\"Mike Scott\",\"Kevin Jones\",\"Maalik Wayns\",\"Jarvis Varnado\",\"Micheal Eric\",\"Aron Baynes\",\"Dionte Christmas\",\"Scott Machado\",\"Kris Joseph\",\"Darius Johnson-Odom\",\"Tim Ohlbrecht\",\"Justin Holiday\",\"Jerel McNeal\",\"Justin Dentmon\",\"Josh Akognon\",\"Henry Sims\",\"Anthony Bennett\",\"Victor Oladipo\",\"Otto Porter\",\"Cody Zeller\",\"Alex Len\",\"Nerlens Noel\",\"Ben McLemore\",\"Kentavious Caldwell-Pope\",\"Trey Burke\",\"CJ McCollum\",\"Michael Carter-Williams\",\"Steven Adams\",\"Vitor Faverani\",\"Kelly Olynyk\",\"Shabazz Muhammad\",\"Giannis Antetokounmpo\",\"Gigi Datome\",\"Dennis Schroeder\",\"Shane Larkin\",\"Sergey Karasev\",\"Tony Snell\",\"Gorgui Dieng\",\"Scotty Hopson\",\"Mason Plumlee\",\"Solomon Hill\",\"Pero Antic\",\"Tim Hardaway Jr\",\"Reggie Bullock\",\"Andre Roberson\",\"Rudy Gobert\",\"Archie Goodwin\",\"Nemanja Nedovic\",\"Allen Crabbe\",\"Dwight Buycks\",\"Isaiah Canaan\",\"Ricky Ledo\",\"Jamaal Franklin\",\"Ray McCallum\",\"Glen Rice Jr\",\"Ian Clark\",\"Hollis Thompson\",\"Brandon Davies\",\"Toure Murry\",\"Jeff Withey\",\"Robbie Hummel\",\"Nate Wolters\",\"Miroslav Raduljica\",\"Nick Calathes\",\"Ryan Kelly\",\"Robert Covington\",\"Ognjen Kuzmic\",\"Peyton Siva\",\"Tony Mitchell\",\"Gal Mekel\",\"Carrick Felix\",\"Matthew Dellavedova\",\"Phil Pressey\",\"Erik Murphy\",\"Christapher Johnson\",\"Dewayne Dedmon\",\"Chris Smith\",\"Mike Muscala\",\"Troy Daniels\",\"James Southerland\",\"Chris Babb\",\"Justin Hamilton\",\"Jorge Gutierrez\",\"Arinze Onuaku\",\"Othyus Jeffers\",\"Elias Harris\",\"Casper Ware\",\"Seth Curry\",\"Willie Reed\",\"James Nunnally\",\"DJ Stephens\",\"Shane Edwards\",\"Vander Blue\",\"Andrew Wiggins\",\"Nikola Mirotic\",\"Jabari Parker\",\"Kostas Papanikolaou\",\"Joel Embiid\",\"Aaron Gordon\",\"Dante Exum\",\"Marcus Smart\",\"Bojan Bogdanovic\",\"Julius Randle\",\"Furkan Aldemir\",\"Nik Stauskas\",\"Noah Vonleh\",\"Elfrid Payton\",\"Doug McDermott\",\"Zach LaVine\",\"TJ Warren\",\"Adreian Payne\",\"Joffrey Lauvergne\",\"Lucas Nogueira\",\"Jusuf Nurkic\",\"Zoran Dragic\",\"James Young\",\"Tyler Ennis\",\"Gary Harris\",\"Bruno Caboclo\",\"Mitch McGary\",\"Jordan Adams\",\"Rodney Hood\",\"Shabazz Napier\",\"Clint Capela\",\"PJ Hairston\",\"CJ Wilcox\",\"Damjan Rudez\",\"Kyle Anderson\",\"Jerami Grant\",\"Devyn Marble\",\"Joe Harris\",\"Damien Inglis\",\"Grant Jerrett\",\"Spencer Dinwiddie\",\"Johnny O'Bryant\",\"Joe Ingles\",\"Eric Moreland\",\"JaKarr Sampson\",\"Travis Wear\",\"Cleanthony Early\",\"Patric Young\",\"Glenn Robinson III\",\"James Ennis\",\"Russ Smith\",\"Jarnell Stokes\",\"Tarik Black\",\"Jordan Clarkson\",\"Shayne Whittington\",\"Nick Johnson\",\"KJ McDaniels\",\"Erick Green\",\"Dwight Powell\",\"Cameron Bairstow\",\"Cory Jefferson\",\"Markel Brown\",\"Lorenzo Brown\",\"Elijah Millsap\",\"Langston Galloway\",\"Tyler Johnson\",\"Andre Dawkins\",\"James Michael McAdoo\",\"JaMychal Green\",\"Alex Kirk\",\"Kalin Lucas\",\"Bryce Cotton\",\"Jack Cooley\",\"Tim Frazier\",\"Will Cherry\",\"Jabari Brown\",\"Drew Gordon\",\"David Stockton\",\"Larry Drew II\",\"Sim Bhullar\",\"David Wear\",\"Sean Kilpatrick\",\"Jarell Eddie\",\"Karl-Anthony Towns\",\"D'Angelo Russell\",\"Jahlil Okafor\",\"Kristaps Porzingis\",\"Nemanja Bjelica\",\"Mario Hezonja\",\"Willie Cauley-Stein\",\"Emmanuel Mudiay\",\"Stanley Johnson\",\"Tibor Pleiss\",\"Frank Kaminsky\",\"Justise Winslow\",\"Myles Turner\",\"Trey Lyles\",\"Devin Booker\",\"Cameron Payne\",\"Kelly Oubre\",\"Terry Rozier\",\"Rashad Vaughn\",\"Sam Dekker\",\"Jerian Grant\",\"Delon Wright\",\"Justin Anderson\",\"Bobby Portis\",\"Rondae Hollis-Jefferson\",\"Nikola Jokic\",\"Tyus Jones\",\"Sasha Kaun\",\"Jarell Martin\",\"Boban Marjanovic\",\"Jordan Mickey\",\"Larry Nance Jr\",\"RJ Hunter\",\"Josh Huestis\",\"Chris McCullough\",\"Kevon Looney\",\"Richaun Holmes\",\"Joseph Young\",\"Rakeem Christmas\",\"Montrezl Harrell\",\"Walter Tavares\",\"Raul Neto\",\"Pierre Jackson\",\"Norman Powell\",\"Pat Connaughton\",\"Darrun Hilliard\",\"Treveon Graham\",\"Jonathon Simmons\",\"Duje Dukan\",\"Luis Montero\",\"Cliff Alexander\",\"TJ McConnell\",\"Josh Richardson\",\"Michael Frazier\",\"Anthony Brown\",\"Marcelo Huertas\",\"Branden Dawson\",\"Maurice Ndour\",\"Salah Mejri\",\"Cristiano Felicio\",\"Aaron Harrison\",\"Lamar Patterson\",\"Christian Wood\",\"Scottie Wilbekin\",\"Jordan McRae\",\"Xavier Munford\",\"Alan Williams\",\"Jonathan Holmes\",\"Alex Stepheson\",\"Keith Appling\",\"Bryce Dejean-Jones\",\"Axel Toupane\",\"Briante Weber\",\"Coty Clarke\",\"JJ O'Brien\",\"Thanasis Antetokounmpo\",\"John Holland\",\"Alex Abrines\",\"Ben Simmons\",\"Brandon Ingram\",\"Jaylen Brown\",\"Dragan Bender\",\"Kris Dunn\",\"Buddy Hield\",\"Jamal Murray\",\"Marquese Chriss\",\"Mindaugas Kuzminskas\",\"Tomas Satoransky\",\"Jakob Poeltl\",\"Thon Maker\",\"Malcolm Delaney\",\"Domantas Sabonis\",\"Dario Saric\",\"Taurean Prince\",\"Georgios Papagiannis\",\"Denzel Valentine\",\"Juan Hernangomez\",\"Wade Baldwin\",\"Henry Ellenson\",\"Malik Beasley\",\"Caris LeVert\",\"DeAndre Bembry\",\"Demetrius Jackson\",\"Malachi Richardson\",\"Willy Hernangomez\",\"Deyonta Davis\",\"Timothe Luwawu\",\"Brice Johnson\",\"Pascal Siakam\",\"Livio Jean-Charles\",\"Skal Labissiere\",\"Dejounte Murray\",\"Damian Jones\",\"Isaiah Whitehead\",\"Ivica Zubac\",\"Stephen Zimmerman\",\"Andrew Harrison\",\"Tyler Ulis\",\"Malcolm Brogdon\",\"Paul Zipser\",\"Jonathan Gibson\",\"Troy Williams\",\"Georges Niang\",\"Michael Gbinije\",\"AJ Hammons\",\"Joel Bolomboy\",\"Jake Layman\",\"Gary Payton II\",\"Danuel House\",\"Sheldon Mac\",\"Daniel Ochefu\",\"Fred VanVleet\",\"Bryn Forbes\",\"Davis Bertans\",\"Tim Quarterman\",\"Derrick Jones\",\"Semaj Christon\",\"Marshall Plumlee\",\"Ron Baker\",\"Cheick Diallo\",\"Rodney McGruder\",\"Diamond Stone\",\"Chinanu Onuaku\",\"Kyle Wiltjer\",\"Patrick McCaw\",\"Dorian Finney-Smith\",\"Nicolas Brussino\",\"Kay Felder\",\"Chasson Randle\",\"Yogi Ferrell\",\"Okaro White\",\"Isaiah Taylor\",\"Ben Bentil\",\"Nicolas Laprovittola\",\"Brandon Paul\",\"Shawn Long\",\"Mike Tobey\",\"Patricio Garino\",\"Jarrod Uthoff\",\"Marcus Paige\",\"Wayne Selden\",\"Isaiah Cousins\",\"JP Tokoto\",\"Stefan Jankovic\",\"Egidijus Mockevicius\",\"Quinn Cook\",\"Marcus Georges-Hunt\",\"Prince Ibeh\",\"Quincy Ford\",\"Ryan Arcidiacono\",\"Kaleb Tarczewski\",\"Keith Benson\",\"Alex Poythress\",\"David Nwaba\",\"Kyle Collinsworth\",\"Thomas Walkup\",\"James Webb\",\"Zach Auguste\",\"Brady Heslip\",\"EJ Singler\",\"Anthony Barber\",\"Alex Caruso\",\"Elgin Cook\",\"Scott Wood\",\"DJ Kennedy\",\"Damion Lee\",\"Matt Costello\",\"Beau Beech\",\"Nikola Jovanovic\",\"Nick Zeisloft\",\"Jalen Jones\",\"Bogdan Bogdanovic\",\"Markelle Fultz\",\"Lonzo Ball\",\"Milos Teodosic\",\"Jayson Tatum\",\"Josh Jackson\",\"De'Aaron Fox\",\"Jonathan Isaac\",\"Lauri Markkanen\",\"Frank Ntilikina\",\"Dennis Smith\",\"Zach Collins\",\"Malik Monk\",\"Luke Kennard\",\"Cedi Osman\",\"Donovan Mitchell\",\"Bam Adebayo\",\"Justin Jackson\",\"Justin Patton\",\"Guerschon Yabusele\",\"DJ Wilson\",\"TJ Leaf\",\"John Collins\",\"Harry Giles\",\"Terrance Ferguson\",\"Jarrett Allen\",\"OG Anunoby\",\"Ante Zizic\",\"Tyler Lydon\",\"Caleb Swanigan\",\"Furkan Korkmaz\",\"Kyle Kuzma\",\"Tony Bradley\",\"Derrick White\",\"Josh Hart\",\"Semi Ojeleye\",\"Frank Mason\",\"Abdel Nader\",\"Damyean Dotson\",\"Wesley Iwundu\",\"Ivan Rabb\",\"Rade Zagorac\",\"Ike Anigbogu\",\"Royce O'Neale\",\"Alfonzo McKinnie\",\"Davon Reed\",\"Khem Birch\",\"Dakari Johnson\",\"Frank Jackson\",\"Sterling Brown\",\"Dillon Brooks\",\"Thomas Bryant\",\"Sindarius Thornwell\",\"Jawun Evans\",\"Zhou Qi\",\"Jordan Bell\",\"Maxi Kleber\",\"Dwayne Bacon\",\"Daniel Theis\",\"Tyler Dorsey\",\"Antonius Cleveland\",\"Cameron Oliver\",\"Shaquille Harrison\",\"Jaylen Morris\",\"Nigel Hayes\",\"Omari Johnson\",\"Naz Long\",\"Rodney Purvis\",\"Milton Doyle\",\"Josh Gray\",\"Walter Lemon Jr\",\"Jaylen Johnson\",\"CJ Fair\",\"Devin Robinson\",\"Michael Young\",\"Erik McCree\",\"Eric Griffin\",\"Malcolm Miller\",\"Alec Peters\",\"Jacob Pullen\",\"Jamel Artis\",\"PJ Dozier\",\"Daniel Hamilton\",\"Isaiah Hicks\",\"Luke Kornet\",\"Charles Cooke\",\"Amile Jefferson\",\"Derrick Walton\",\"Matt Williams\",\"Myke Henry\",\"Vince Hunter\",\"Kobi Simmons\",\"Tyrone Wallace\",\"CJ Williams\",\"Jamil Wilson\",\"Ben Moore\",\"Edmond Sumner\",\"Chris Boucher\",\"Reggie Hearn\",\"Monte Morris\",\"Torrey Craig\",\"Gian Clavell\",\"Johnathan Motley\",\"London Perrantes\",\"Antonio Blakeney\",\"Mangok Mathiang\",\"Jacob Wiley\",\"Yakuba Ouattara\",\"Jabari Bird\",\"Kadeem Allen\",\"Andrew White\",\"Tyler Cavanaugh\",\"Josh Magette\",\"Xavier Silas\",\"Bronson Koenig\",\"VJ Beachem\",\"Landry Nnoko\",\"Andre Ingram\",\"Trey McKinney-Jones\",\"Aaron Jackson\",\"Jameel Warney\",\"Marcus Thornton II\",\"Deandre Ayton\",\"Marvin Bagley\",\"Luka Doncic\",\"Jaren Jackson Jr\",\"Trae Young\",\"Mo Bamba\",\"Wendell Carter\",\"Collin Sexton\",\"Kevin Knox\",\"Mikal Bridges\",\"Allonzo Trier\",\"Shai Gilgeous-Alexander\",\"Miles Bridges\",\"Jerome Robinson\",\"Michael Porter\",\"Troy Brown\",\"Zhaire Smith\",\"Donte DiVincenzo\",\"Lonnie Walker\",\"Kevin Huerter\",\"Josh Okogie\",\"Grayson Allen\",\"Chandler Hutchison\",\"Aaron Holiday\",\"Anfernee Simons\",\"Moritz Wagner\",\"Landry Shamet\",\"Jonah Bolden\",\"Rodions Kurucs\",\"Robert Williams\",\"Jacob Evans\",\"Dzanan Musa\",\"Omari Spellman\",\"Sviatoslav Mykhailiuk\",\"Mitchell Robinson\",\"Elie Okobo\",\"Jalen Brunson\",\"Melvin Frazier\",\"Raymond Spalding\",\"Isaac Bonga\",\"Devonte Graham\",\"De'Anthony Melton\",\"Chimezie Metu\",\"Gary Trent Jr\",\"Isaiah Briscoe\",\"Hamidou Diallo\",\"Kenrich Williams\",\"Keita Bates-Diop\",\"Jevon Carter\",\"Alize Johnson\",\"Isaiah Hartenstein\",\"Khyri Thomas\",\"Bruce Brown\",\"Jarred Vanderbilt\",\"Ryan Broekhoff\",\"Brad Wanamaker\",\"Gary Clark\",\"Deonte Burton\",\"Yante Maten\",\"Jaylen Adams\",\"Dairis Bertans\",\"BJ Johnson\",\"Chris Chiozza\",\"Johnathan Williams\",\"Cam Reynolds\",\"Emanuel Terry\",\"Justin Bibbs\",\"Jordan Loyd\",\"Drew Eubanks\",\"George King\",\"Haywood Highsmith\",\"Shake Milton\",\"Troy Caupain\",\"Donte Grantham\",\"Tyler Davis\",\"Trevon Bluiett\",\"Jared Terrell\",\"Bonzie Colson\",\"Duncan Robinson\",\"Julian Washburn\",\"Yuta Watanabe\",\"Angel Delgado\",\"Trevon Duval\",\"Vincent Edwards\",\"Marcus Derrickson\",\"Zach Lofton\",\"Keenan Evans\",\"DeVaughn Akoon-Purcell\",\"Thomas Welsh\",\"Daryl Macon\",\"Kostas Antetokounmpo\",\"Deng Adel\",\"Jaron Blossomgame\",\"Billy Preston\",\"Brandon Sampson\",\"Rawle Alkins\",\"Joe Chealey\",\"JP Macura\",\"Theo Pinson\",\"Wenyen Gabriel\",\"Billy Garrett\",\"Mitch Creek\",\"Brandon Goodwin\",\"Jemerrio Jones\",\"Tarik Phillip\",\"Cody Demps\",\"Richard Solomon\",\"Kendrick Nunn\",\"Dusty Hannahs\",\"Stephan Hicks\",\"Tahjere McCall\",\"Mitchell Creek\",\"Isaac Humphries\",\"Jordan Sibert\",\"Zion Williamson\",\"Ja Morant\",\"RJ Barrett\",\"De'Andre Hunter\",\"Darius Garland\",\"Jarrett Culver\",\"Coby White\",\"Jaxson Hayes\",\"Rui Hachimura\",\"Cam Reddish\",\"Nicolo Melli\",\"Cameron Johnson\",\"PJ Washington\",\"Tyler Herro\",\"Romeo Langford\",\"Sekou Doumbouya\",\"Nickeil Alexander-Walker\",\"Goga Bitadze\",\"Luka Samanic\",\"Marko Guduric\",\"Matisse Thybulle\",\"Vincent Poirier\",\"Brandon Clarke\",\"Grant Williams\",\"Darius Bazley\",\"Ty Jerome\",\"Nassir Little\",\"Dylan Windler\",\"Mfiondu Kabengele\",\"Jordan Poole\",\"Keldon Johnson\",\"Nigel Williams-Goss\",\"Isaiah Roby\",\"Jaylen Nowell\",\"Bruno Fernando\",\"Kevin Porter\",\"Carsen Edwards\",\"Cody Martin\",\"Admiral Schofield\",\"Terance Mann\",\"Miye Oni\",\"Dewan Hernandez\",\"Terence Davis\",\"Matt Thomas\",\"Justin James\",\"DaQuan Jeffries\",\"Jalen Lecque\",\"Ignas Brazdeikis\",\"Naz Reid\",\"KZ Okpala\",\"Talen Horton-Tucker\",\"Eric Paschall\",\"Alen Smailagic\",\"Vlatko Cancar\",\"Daniel Gafford\",\"Caleb Martin\",\"Jalen McDaniels\",\"Nicolas Claxton\",\"Javonte Green\",\"Juwan Morgan\",\"Rayjon Tucker\",\"Chris Clemons\",\"Anzejs Pasecniks\",\"Chris Silva\",\"Dean Wade\",\"Norvel Pelle\",\"Juan Toscano-Anderson\",\"Ky Bowman\",\"Jontay Porter\",\"Mychal Mulder\",\"Luguentz Dort\",\"Oshae Brissett\",\"Donta Hall\",\"Garrison Mathews\",\"Justin Wright-Foreman\",\"Jarrell Brantley\",\"Paul Watson\",\"Quinndary Weatherspoon\",\"Kyle Guy\",\"Jaylen Hoard\",\"Moses Brown\",\"Tariq Owens\",\"Marial Shayok\",\"Vic Law\",\"Kevin Hervey\",\"Jared Harper\",\"Kenny Wooten\",\"Zylan Cheatham\",\"Jordan McLaughlin\",\"Kelan Martin\",\"Gabe Vincent\",\"Kyle Alexander\",\"John Konchar\",\"Devontae Cacok\",\"Amir Coffey\",\"Brian Bowen\",\"William Howard\",\"Louis King\",\"Jordan Bone\",\"Tyler Cook\",\"Bol Bol\",\"Josh Reaves\",\"Matt Mooney\",\"Adam Mokoka\",\"Max Strus\",\"Jeremiah Martin\",\"Tremont Waters\",\"Tacko Fall\",\"Charlie Brown\",\"Malik Newman\",\"Anthony Edwards\",\"James Wiseman\",\"LaMelo Ball\",\"Patrick Williams\",\"Isaac Okoro\",\"Onyeka Okongwu\",\"Killian Hayes\",\"Obi Toppin\",\"Deni Avdija\",\"Jalen Smith\",\"Devin Vassell\",\"Gabriel Deck\",\"Tyrese Haliburton\",\"Kira Lewis\",\"Luca Vildoza\",\"Aaron Nesmith\",\"Cole Anthony\",\"Facundo Campazzo\",\"Chuma Okeke\",\"Isaiah Stewart\",\"Aleksej Pokusevski\",\"Josh Green\",\"Saddiq Bey\",\"Precious Achiuwa\",\"Tyrese Maxey\",\"Zeke Nnaji\",\"RJ Hampton\",\"Immanuel Quickley\",\"Payton Pritchard\",\"Theo Maledon\",\"Udoka Azubuike\",\"Jaden McDaniels\",\"Malachi Flynn\",\"Desmond Bane\",\"Robert Woodard\",\"Jae'Sean Tate\",\"Vernon Carey\",\"Xavier Tillman\",\"Tyrell Terry\",\"Jahmi'us Ramsey\",\"Lamar Stevens\",\"Nick Richards\",\"Anthony Gill\",\"Elijah Hughes\",\"Tre Jones\",\"CJ Elleby\",\"Isaiah Joe\",\"Sam Merrill\",\"Jordan Nwora\",\"Daniel Oturu\",\"KJ Martin\",\"Deividas Sirvydis\",\"Paul Reed\",\"Naji Marshall\",\"Markus Howard\",\"Skylar Mays\",\"Mamadi Diakite\",\"Nathan Knight\",\"Saben Lee\",\"Reggie Perry\",\"Trent Forrest\",\"Cassius Stanley\",\"Cassius Winston\",\"Jalen Harris\",\"Keljin Blevins\",\"Ty-Shon Alexander\",\"Josh Hall\",\"Sean McDermott\",\"Killian Tillie\",\"Jay Scrubb\",\"Nico Mannion\",\"Nate Hinton\",\"Tyler Bey\",\"Marques Bolden\",\"Devon Dotson\",\"Nate Darling\",\"Grant Riller\",\"Mason Jones\",\"Brodric Thomas\",\"Freddie Gillespie\",\"Karim Mane\",\"Will Magnay\",\"Greg Whittington\",\"Anthony Lamb\",\"Justin Robinson\",\"Ashton Hagans\",\"Armoni Brooks\",\"Didi Louzada\",\"Amida Brimah\",\"Dakota Mathias\",\"Malik Fitts\",\"Tyler Hall\",\"Elijah Bryant\",\"Caleb Homesley\",\"Cade Cunningham\",\"Jalen Green\",\"Evan Mobley\",\"Scottie Barnes\",\"Jalen Suggs\",\"Josh Giddey\",\"Jonathan Kuminga\",\"Franz Wagner\",\"Davion Mitchell\",\"Ziaire Williams\",\"James Bouknight\",\"Josh Primo\",\"Chris Duarte\",\"Moses Moody\",\"Corey Kispert\",\"Alperen Sengun\",\"Trey Murphy\",\"Tre Mann\",\"Kai Jones\",\"Jalen Johnson\",\"Keon Johnson\",\"Isaiah Jackson\",\"Leandro Bolmaro\",\"Usman Garuba\",\"Josh Christopher\",\"Quentin Grimes\",\"Bones Hyland\",\"Cam Thomas\",\"Jaden Springer\",\"Day'Ron Sharpe\",\"Jeremiah Robinson-Earl\",\"Santiago Aldama\",\"Jose Alvarado\",\"Herb Jones\",\"Kevin Pangos\",\"Isaiah Todd\",\"Omer Yurtseven\",\"Duane Washington Jr\",\"Aaron Wiggins\",\"JT Thor\",\"Jason Preston\",\"Isaiah Livers\",\"Jared Butler\",\"Dalano Banton\",\"Jock Landale\",\"Greg Brown\",\"Charles Bassey\",\"Vit Krejci\",\"Miles McBride\",\"Austin Reaves\",\"BJ Boston\",\"Luka Garza\",\"Marko Simonovic\",\"Ayo Dosunmu\",\"Daishen Nix\",\"Terry Taylor\",\"Trendon Watford\",\"Ishmail Wainright\",\"Sam Hauser\",\"Joe Wieskamp\",\"Keifer Sykes\",\"Georgios Kalaitzakis\",\"RJ Nembhard\",\"Kessler Edwards\",\"Joel Ayayi\",\"Justin Champagnie\",\"David Johnson\",\"Neemias Queta\",\"Jericho Sims\",\"McKinley Wright\",\"Sandro Mamukelashvili\",\"Yves Pons\",\"Sean Chris Smith\",\"Jamorko Pickett\",\"Arnoldas Kulboka\",\"Scottie Lewis\",\"David Duke\",\"Sharife Cooper\",\"Malcolm Hill\",\"Jeff Dowtin\",\"Trevelin Queen\",\"Myles Powell\",\"Eugene Omoruyi\",\"Ja'Vonte Smart\",\"Marcus Garrett\",\"Lindell Wigginton\",\"Jay Huff\",\"Olivier Sarr\",\"Aaron Henry\",\"JaQuori McLaughlin\",\"Petr Cornelie\",\"Xavier Moon\",\"Devin Cannady\",\"Brandon Williams\",\"DeJon Jarreau\",\"Moses Wright\",\"Daulton Hommes\",\"Lindy Waters III\",\"Chaundee Brown\",\"Xavier Sneed\",\"Braxton Key\",\"Feron Hunt\",\"Mac McClung\",\"Matt Ryan\",\"Paris Bass\",\"Hassani Gravett\",\"Carlik Jones\",\"DJ Stewart\",\"Gabriel Lundberg\",\"Jaime Echenique\",\"Craig Sword\",\"Jordan Goodwin\",\"Jordan Schakel\",\"Ade Murkey\",\"Jarron Cumberland\",\"Cameron McGriff\",\"MJ Walker\",\"Aleem Ford\",\"Rob Edwards\",\"Javin DeLaurier\",\"Aric Holman\",\"Jon Teske\",\"Shaq Buchanan\",\"Ahmad Caver\",\"Jaysean Paige\",\"Micah Potter\",\"Trayvon Palmer\",\"Tre Scott\",\"Justin Tillman\",\"Malik Ellison\",\"Zavier Simpson\",\"Paolo Banchero\",\"Chet Holmgren\",\"Jabari Smith\",\"Keegan Murray\",\"Jaden Ivey\",\"Bennedict Mathurin\",\"Shaedon Sharpe\",\"Dyson Daniels\",\"Jeremy Sochan\",\"Johnny Davis\",\"Ousmane Dieng\",\"Jalen Williams\",\"Jalen Duren\",\"Ochai Agbaji\",\"Mark Williams\",\"AJ Griffin\",\"Tari Eason\",\"Simone Fontecchio\",\"Dalen Terry\",\"Jake LaRavia\",\"Malaki Branham\",\"Christian Braun\",\"Walker Kessler\",\"David Roddy\",\"MarJon Beauchamp\",\"Blake Wesley\",\"Wendell Moore\",\"Andrew Nembhard\",\"Nikola Jovic\",\"Patrick Baldwin\",\"TyTy Washington\",\"Peyton Watson\",\"Caleb Houstan\",\"Jaylin Williams\",\"Kenneth Lofton\",\"Christian Koloko\",\"Bryce McGowens\",\"Kennedy Chandler\",\"Jabari Walker\",\"Josh Minott\",\"Max Christie\",\"Ryan Rollins\",\"Jaden Hardy\",\"Tyrese Martin\",\"Trevor Keels\",\"Dereon Seabron\",\"Johnny Juzang\",\"Ron Harper Jr\",\"Julian Champagnie\",\"Dominick Barlow\",\"Keon Ellis\",\"Kevon Harris\",\"EJ Liddell\",\"AJ Green\",\"Jamal Cain\",\"Vince Williams Jr\",\"Cole Swider\",\"Scottie Pippen Jr\",\"Moussa Diabate\",\"Kendall Brown\",\"Trevor Hudgins\",\"Darius Days\",\"Buddy Boeheim\",\"Collin Gillespie\",\"Jack White\",\"Isaiah Mobley\",\"JD Davison\",\"John Butler\",\"Chima Moneke\",\"Orlando Robinson\",\"Dru Smith\",\"AJ Lawson\",\"Jared Rhoden\",\"Alondes Williams\",\"Donovan Williams\",\"Quenton Jackson\",\"Jordan Hall\",\"Xavier Cooks\",\"Keaton Wallace\",\"Lester Quinones\",\"Jamaree Bouyea\",\"Michael Foster\",\"Justin Lewis\",\"Stanley Umude\",\"Jeenathan Williams\",\"DJ Steward\",\"Justin Minaya\",\"Gabe York\",\"Ibou Badji\",\"Jacob Gilyard\",\"RaiQuan Gray\",\"Victor Wembanyama\",\"Brandon Miller\",\"Scoot Henderson\",\"Amen Thompson\",\"Ausar Thompson\",\"Vasilije Micic\",\"Anthony Black\",\"Bilal Coulibaly\",\"Sasha Vezenkov\",\"Jarace Walker\",\"Taylor Hendricks\",\"Cason Wallace\",\"Jett Howard\",\"Dereck Lively\",\"Gradey Dick\",\"Jordan Hawkins\",\"Kobe Bufkin\",\"Keyonte George\",\"Jalen Hood-Schifino\",\"Jaime Jaquez\",\"Brandin Podziemski\",\"Cameron Whitmore\",\"Noah Clowney\",\"Dariq Whitehead\",\"Kris Murray\",\"Olivier-Maxence Prosper\",\"Marcus Sasser\",\"Ben Sheppard\",\"Nick Smith\",\"Brice Sensabaugh\",\"Julian Strawther\",\"Kobe Brown\",\"Colby Jones\",\"Leonard Miller\",\"Jalen Pickett\",\"Julian Phillips\",\"Mouhamed Gueye\",\"Jordan Walsh\",\"Hunter Tyson\",\"Trayce Jackson-Davis\",\"Maxwell Lewis\",\"Andre Jackson Jr\",\"Chris Livingston\",\"Filip Petrusev\",\"Sidy Cissoko\",\"Souley Boum\",\"Armaan Franklin\",\"Andrew Funk\",\"Tosan Evbuomwan\",\"Matthew Mayer\",\"Joshua Obiesie\",\"Jazian Gortman\",\"Obadiah Noel\",\"Dmytro Skapintsev\",\"Jacob Toppin\",\"Toumani Camara\",\"Rayan Rupert\",\"Mouhamadou Gueye\",\"Kevin Obanor\",\"Leaky Black\",\"Craig Porter\",\"Alex Fudge\",\"Omari Moore\",\"Jaylen Clark\",\"Jaylen Martin\",\"Seth Lundy\",\"Miles Norris\",\"Jalen Wilson\",\"Amari Bailey\",\"Onuralp Bitim\",\"Adama Sanogo\",\"Emoni Bates\",\"Mike Miles\",\"Malcolm Cazalon\",\"Jermaine Samuels\",\"Oscar Tshiebwe\",\"Isaiah Wong\",\"Jordan Miller\",\"Colin Castleton\",\"D'Moi Hodge\",\"Keyontae Johnson\",\"Ricky Council\",\"Terquavion Smith\",\"Azuolas Tubelis\",\"Jalen Slawson\",\"Sir'Jabari Rice\",\"Javon Freedom-Liberty\",\"Markquis Nowell\",\"Joey Hauser\"],\"tags\":[[[\"player_name\",\"player_name\",null]]]},\"id\":\"1003\",\"type\":\"FactorRange\"},{\"attributes\":{\"line_color\":\"#30a2da\",\"line_width\":2,\"tags\":[\"apply_ranges\"],\"x\":{\"field\":\"player_name\"},\"y\":{\"field\":\"Unnamed: 0\"}},\"id\":\"1043\",\"type\":\"Line\"},{\"attributes\":{\"axis\":{\"id\":\"1015\"},\"coordinates\":null,\"grid_line_color\":null,\"group\":null,\"ticker\":null},\"id\":\"1017\",\"type\":\"Grid\"},{\"attributes\":{\"children\":[{\"id\":\"1006\"}],\"height\":400,\"margin\":[0,0,0,0],\"name\":\"Row00883\",\"sizing_mode\":\"fixed\",\"tags\":[\"embedded\"],\"width\":800},\"id\":\"1002\",\"type\":\"Row\"},{\"attributes\":{},\"id\":\"1036\",\"type\":\"Selection\"},{\"attributes\":{\"coordinates\":null,\"group\":null,\"text_color\":\"black\",\"text_font_size\":\"12pt\"},\"id\":\"1007\",\"type\":\"Title\"},{\"attributes\":{\"callback\":null,\"renderers\":[{\"id\":\"1041\"}],\"tags\":[\"hv_created\"],\"tooltips\":[[\"player_name\",\"@{player_name}\"],[\"Unnamed: 0\",\"@{Unnamed_colon_0}\"]]},\"id\":\"1005\",\"type\":\"HoverTool\"},{\"attributes\":{\"axis_label\":\"player_name\",\"coordinates\":null,\"formatter\":{\"id\":\"1045\"},\"group\":null,\"major_label_orientation\":1.5707963267948966,\"major_label_policy\":{\"id\":\"1046\"},\"ticker\":{\"id\":\"1016\"}},\"id\":\"1015\",\"type\":\"CategoricalAxis\"},{\"attributes\":{},\"id\":\"1013\",\"type\":\"LinearScale\"},{\"attributes\":{},\"id\":\"1019\",\"type\":\"BasicTicker\"},{\"attributes\":{},\"id\":\"1016\",\"type\":\"CategoricalTicker\"},{\"attributes\":{},\"id\":\"1061\",\"type\":\"UnionRenderers\"},{\"attributes\":{\"bottom_units\":\"screen\",\"coordinates\":null,\"fill_alpha\":0.5,\"fill_color\":\"lightgrey\",\"group\":null,\"left_units\":\"screen\",\"level\":\"overlay\",\"line_alpha\":1.0,\"line_color\":\"black\",\"line_dash\":[4,4],\"line_width\":2,\"right_units\":\"screen\",\"syncable\":false,\"top_units\":\"screen\"},\"id\":\"1027\",\"type\":\"BoxAnnotation\"},{\"attributes\":{\"end\":2449.7,\"reset_end\":2449.7,\"reset_start\":-222.70000000000002,\"start\":-222.70000000000002,\"tags\":[[[\"Unnamed: 0\",\"Unnamed: 0\",null]]]},\"id\":\"1004\",\"type\":\"Range1d\"},{\"attributes\":{\"axis_label\":\"Unnamed: 0\",\"coordinates\":null,\"formatter\":{\"id\":\"1048\"},\"group\":null,\"major_label_policy\":{\"id\":\"1049\"},\"ticker\":{\"id\":\"1019\"}},\"id\":\"1018\",\"type\":\"LinearAxis\"},{\"attributes\":{\"data\":{\"Unnamed: 0\":[0,1,2,3,4,5,6,7,8,9,10,11,12,13,14,15,16,17,18,19,20,21,22,23,24,25,26,27,28,29,30,31,32,33,34,35,36,37,38,39,40,41,42,43,44,45,46,47,48,49,50,51,52,53,54,55,56,57,58,59,60,61,62,63,64,65,66,67,68,69,70,71,72,73,74,75,76,77,78,79,80,81,82,83,84,85,86,87,88,89,90,91,92,93,94,95,96,97,98,99,100,101,102,103,104,105,106,107,108,109,110,111,112,113,114,115,116,117,118,119,120,121,122,123,124,125,126,127,128,129,130,131,132,133,134,135,136,137,138,139,140,141,142,143,144,145,146,147,148,149,150,151,152,153,154,155,156,157,158,159,160,161,162,163,164,165,166,167,168,169,170,171,172,173,174,175,176,177,178,179,180,181,182,183,184,185,186,187,188,189,190,191,192,193,194,195,196,197,198,199,200,201,202,203,204,205,206,207,208,209,210,211,212,213,214,215,216,217,218,219,220,221,222,223,224,225,226,227,228,229,230,231,232,233,234,235,236,237,238,239,240,241,242,243,244,245,246,247,248,249,250,251,252,253,254,255,256,257,258,259,260,261,262,263,264,265,266,267,268,269,270,271,272,273,274,275,276,277,278,279,280,281,282,283,284,285,286,287,288,289,290,291,292,293,294,295,296,297,298,299,300,301,302,303,304,305,306,307,308,309,310,311,312,313,314,315,316,317,318,319,320,321,322,323,324,325,326,327,328,329,330,331,332,333,334,335,336,337,338,339,340,341,342,343,344,345,346,347,348,349,350,351,352,353,354,355,356,357,358,359,360,361,362,363,364,365,366,367,368,369,370,371,372,373,374,375,376,377,378,379,380,381,382,383,384,385,386,387,388,389,390,391,392,393,394,395,396,397,398,399,400,401,402,403,404,405,406,407,408,409,410,411,412,413,414,415,416,417,418,419,420,421,422,423,424,425,426,427,428,429,430,431,432,433,434,435,436,437,438,439,440,441,442,443,444,445,446,447,448,449,450,451,452,453,454,455,456,457,458,459,460,461,462,463,464,465,466,467,468,469,470,471,472,473,474,475,476,477,478,479,480,481,482,483,484,485,486,487,488,489,490,491,492,493,494,495,496,497,498,499,500,501,502,503,504,505,506,507,508,509,510,511,512,513,514,515,516,517,518,519,520,521,522,523,524,525,526,527,528,529,530,531,532,533,534,535,536,537,538,539,540,541,542,543,544,545,546,547,548,549,550,551,552,553,554,555,556,557,558,559,560,561,562,563,564,565,566,567,568,569,570,571,572,573,574,575,576,577,578,579,580,581,582,583,584,585,586,587,588,589,590,591,592,593,594,595,596,597,598,599,600,601,602,603,604,605,606,607,608,609,610,611,612,613,614,615,616,617,618,619,620,621,622,623,624,625,626,627,628,629,630,631,632,633,634,635,636,637,638,639,640,641,642,643,644,645,646,647,648,649,650,651,652,653,654,655,656,657,658,659,660,661,662,663,664,665,666,667,668,669,670,671,672,673,674,675,676,677,678,679,680,681,682,683,684,685,686,687,688,689,690,691,692,693,694,695,696,697,698,699,700,701,702,703,704,705,706,707,708,709,710,711,712,713,714,715,716,717,718,719,720,721,722,723,724,725,726,727,728,729,730,731,732,733,734,735,736,737,738,739,740,741,742,743,744,745,746,747,748,749,750,751,752,753,754,755,756,757,758,759,760,761,762,763,764,765,766,767,768,769,770,771,772,773,774,775,776,777,778,779,780,781,782,783,784,785,786,787,788,789,790,791,792,793,794,795,796,797,798,799,800,801,802,803,804,805,806,807,808,809,810,811,812,813,814,815,816,817,818,819,820,821,822,823,824,825,826,827,828,829,830,831,832,833,834,835,836,837,838,839,840,841,842,843,844,845,846,847,848,849,850,851,852,853,854,855,856,857,858,859,860,861,862,863,864,865,866,867,868,869,870,871,872,873,874,875,876,877,878,879,880,881,882,883,884,885,886,887,888,889,890,891,892,893,894,895,896,897,898,899,900,901,902,903,904,905,906,907,908,909,910,911,912,913,914,915,916,917,918,919,920,921,922,923,924,925,926,927,928,929,930,931,932,933,934,935,936,937,938,939,940,941,942,943,944,945,946,947,948,949,950,951,952,953,954,955,956,957,958,959,960,961,962,963,964,965,966,967,968,969,970,971,972,973,974,975,976,977,978,979,980,981,982,983,984,985,986,987,988,989,990,991,992,993,994,995,996,997,998,999,1000,1001,1002,1003,1004,1005,1006,1007,1008,1009,1010,1011,1012,1013,1014,1015,1016,1017,1018,1019,1020,1021,1022,1023,1024,1025,1026,1027,1028,1029,1030,1031,1032,1033,1034,1035,1036,1037,1038,1039,1040,1041,1042,1043,1044,1045,1046,1047,1048,1049,1050,1051,1052,1053,1054,1055,1056,1057,1058,1059,1060,1061,1062,1063,1064,1065,1066,1067,1068,1069,1070,1071,1072,1073,1074,1075,1076,1077,1078,1079,1080,1081,1082,1083,1084,1085,1086,1087,1088,1089,1090,1091,1092,1093,1094,1095,1096,1097,1098,1099,1100,1101,1102,1103,1104,1105,1106,1107,1108,1109,1110,1111,1112,1113,1114,1115,1116,1117,1118,1119,1120,1121,1122,1123,1124,1125,1126,1127,1128,1129,1130,1131,1132,1133,1134,1135,1136,1137,1138,1139,1140,1141,1142,1143,1144,1145,1146,1147,1148,1149,1150,1151,1152,1153,1154,1155,1156,1157,1158,1159,1160,1161,1162,1163,1164,1165,1166,1167,1168,1169,1170,1171,1172,1173,1174,1175,1176,1177,1178,1179,1180,1181,1182,1183,1184,1185,1186,1187,1188,1189,1190,1191,1192,1193,1194,1195,1196,1197,1198,1199,1200,1201,1202,1203,1204,1205,1206,1207,1208,1209,1210,1211,1212,1213,1214,1215,1216,1217,1218,1219,1220,1221,1222,1223,1224,1225,1226,1227,1228,1229,1230,1231,1232,1233,1234,1235,1236,1237,1238,1239,1240,1241,1242,1243,1244,1245,1246,1247,1248,1249,1250,1251,1252,1253,1254,1255,1256,1257,1258,1259,1260,1261,1262,1263,1264,1265,1266,1267,1268,1269,1270,1271,1272,1273,1274,1275,1276,1277,1278,1279,1280,1281,1282,1283,1284,1285,1286,1287,1288,1289,1290,1291,1292,1293,1294,1295,1296,1297,1298,1299,1300,1301,1302,1303,1304,1305,1306,1307,1308,1309,1310,1311,1312,1313,1314,1315,1316,1317,1318,1319,1320,1321,1322,1323,1324,1325,1326,1327,1328,1329,1330,1331,1332,1333,1334,1335,1336,1337,1338,1339,1340,1341,1342,1343,1344,1345,1346,1347,1348,1349,1350,1351,1352,1353,1354,1355,1356,1357,1358,1359,1360,1361,1362,1363,1364,1365,1366,1367,1368,1369,1370,1371,1372,1373,1374,1375,1376,1377,1378,1379,1380,1381,1382,1383,1384,1385,1386,1387,1388,1389,1390,1391,1392,1393,1394,1395,1396,1397,1398,1399,1400,1401,1402,1403,1404,1405,1406,1407,1408,1409,1410,1411,1412,1413,1414,1415,1416,1417,1418,1419,1420,1421,1422,1423,1424,1425,1426,1427,1428,1429,1430,1431,1432,1433,1434,1435,1436,1437,1438,1439,1440,1441,1442,1443,1444,1445,1446,1447,1448,1449,1450,1451,1452,1453,1454,1455,1456,1457,1458,1459,1460,1461,1462,1463,1464,1465,1466,1467,1468,1469,1470,1471,1472,1473,1474,1475,1476,1477,1478,1479,1480,1481,1482,1483,1484,1485,1486,1487,1488,1489,1490,1491,1492,1493,1494,1495,1496,1497,1498,1499,1500,1501,1502,1503,1504,1505,1506,1507,1508,1509,1510,1511,1512,1513,1514,1515,1516,1517,1518,1519,1520,1521,1522,1523,1524,1525,1526,1527,1528,1529,1530,1531,1532,1533,1534,1535,1536,1537,1538,1539,1540,1541,1542,1543,1544,1545,1546,1547,1548,1549,1550,1551,1552,1553,1554,1555,1556,1557,1558,1559,1560,1561,1562,1563,1564,1565,1566,1567,1568,1569,1570,1571,1572,1573,1574,1575,1576,1577,1578,1579,1580,1581,1582,1583,1584,1585,1586,1587,1588,1589,1590,1591,1592,1593,1594,1595,1596,1597,1598,1599,1600,1601,1602,1603,1604,1605,1606,1607,1608,1609,1610,1611,1612,1613,1614,1615,1616,1617,1618,1619,1620,1621,1622,1623,1624,1625,1626,1627,1628,1629,1630,1631,1632,1633,1634,1635,1636,1637,1638,1639,1640,1641,1642,1643,1644,1645,1646,1647,1648,1649,1650,1651,1652,1653,1654,1655,1656,1657,1658,1659,1660,1661,1662,1663,1664,1665,1666,1667,1668,1669,1670,1671,1672,1673,1674,1675,1676,1677,1678,1679,1680,1681,1682,1683,1684,1685,1686,1687,1688,1689,1690,1691,1692,1693,1694,1695,1696,1697,1698,1699,1700,1701,1702,1703,1704,1705,1706,1707,1708,1709,1710,1711,1712,1713,1714,1715,1716,1717,1718,1719,1720,1721,1722,1723,1724,1725,1726,1727,1728,1729,1730,1731,1732,1733,1734,1735,1736,1737,1738,1739,1740,1741,1742,1743,1744,1745,1746,1747,1748,1749,1750,1751,1752,1753,1754,1755,1756,1757,1758,1759,1760,1761,1762,1763,1764,1765,1766,1767,1768,1769,1770,1771,1772,1773,1774,1775,1776,1777,1778,1779,1780,1781,1782,1783,1784,1785,1786,1787,1788,1789,1790,1791,1792,1793,1794,1795,1796,1797,1798,1799,1800,1801,1802,1803,1804,1805,1806,1807,1808,1809,1810,1811,1812,1813,1814,1815,1816,1817,1818,1819,1820,1821,1822,1823,1824,1825,1826,1827,1828,1829,1830,1831,1832,1833,1834,1835,1836,1837,1838,1839,1840,1841,1842,1843,1844,1845,1846,1847,1848,1849,1850,1851,1852,1853,1854,1855,1856,1857,1858,1859,1860,1861,1862,1863,1864,1865,1866,1867,1868,1869,1870,1871,1872,1873,1874,1875,1876,1877,1878,1879,1880,1881,1882,1883,1884,1885,1886,1887,1888,1889,1890,1891,1892,1893,1894,1895,1896,1897,1898,1899,1900,1901,1902,1903,1904,1905,1906,1907,1908,1909,1910,1911,1912,1913,1914,1915,1916,1917,1918,1919,1920,1921,1922,1923,1924,1925,1926,1927,1928,1929,1930,1931,1932,1933,1934,1935,1936,1937,1938,1939,1940,1941,1942,1943,1944,1945,1946,1947,1948,1949,1950,1951,1952,1953,1954,1955,1956,1957,1958,1959,1960,1961,1962,1963,1964,1965,1966,1967,1968,1969,1970,1971,1972,1973,1974,1975,1976,1977,1978,1979,1980,1981,1982,1983,1984,1985,1986,1987,1988,1989,1990,1991,1992,1993,1994,1995,1996,1997,1998,1999,2000,2001,2002,2003,2004,2005,2006,2007,2008,2009,2010,2011,2012,2013,2014,2015,2016,2017,2018,2019,2020,2021,2022,2023,2024,2025,2026,2027,2028,2029,2030,2031,2032,2033,2034,2035,2036,2037,2038,2039,2040,2041,2042,2043,2044,2045,2046,2047,2048,2049,2050,2051,2052,2053,2054,2055,2056,2057,2058,2059,2060,2061,2062,2063,2064,2065,2066,2067,2068,2069,2070,2071,2072,2073,2074,2075,2076,2077,2078,2079,2080,2081,2082,2083,2084,2085,2086,2087,2088,2089,2090,2091,2092,2093,2094,2095,2096,2097,2098,2099,2100,2101,2102,2103,2104,2105,2106,2107,2108,2109,2110,2111,2112,2113,2114,2115,2116,2117,2118,2119,2120,2121,2122,2123,2124,2125,2126,2127,2128,2129,2130,2131,2132,2133,2134,2135,2136,2137,2138,2139,2140,2141,2142,2143,2144,2145,2146,2147,2148,2149,2150,2151,2152,2153,2154,2155,2156,2157,2158,2159,2160,2161,2162,2163,2164,2165,2166,2167,2168,2169,2170,2171,2172,2173,2174,2175,2176,2177,2178,2179,2180,2181,2182,2183,2184,2185,2186,2187,2188,2189,2190,2191,2192,2193,2194,2195,2196,2197,2198,2199,2200,2201,2202,2203,2204,2205,2206,2207,2208,2209,2210,2211,2212,2213,2214,2215,2216,2217,2218,2219,2220,2221,2222,2223,2224,2225,2226,2227],\"Unnamed_colon_0\":[0,1,2,3,4,5,6,7,8,9,10,11,12,13,14,15,16,17,18,19,20,21,22,23,24,25,26,27,28,29,30,31,32,33,34,35,36,37,38,39,40,41,42,43,44,45,46,47,48,49,50,51,52,53,54,55,56,57,58,59,60,61,62,63,64,65,66,67,68,69,70,71,72,73,74,75,76,77,78,79,80,81,82,83,84,85,86,87,88,89,90,91,92,93,94,95,96,97,98,99,100,101,102,103,104,105,106,107,108,109,110,111,112,113,114,115,116,117,118,119,120,121,122,123,124,125,126,127,128,129,130,131,132,133,134,135,136,137,138,139,140,141,142,143,144,145,146,147,148,149,150,151,152,153,154,155,156,157,158,159,160,161,162,163,164,165,166,167,168,169,170,171,172,173,174,175,176,177,178,179,180,181,182,183,184,185,186,187,188,189,190,191,192,193,194,195,196,197,198,199,200,201,202,203,204,205,206,207,208,209,210,211,212,213,214,215,216,217,218,219,220,221,222,223,224,225,226,227,228,229,230,231,232,233,234,235,236,237,238,239,240,241,242,243,244,245,246,247,248,249,250,251,252,253,254,255,256,257,258,259,260,261,262,263,264,265,266,267,268,269,270,271,272,273,274,275,276,277,278,279,280,281,282,283,284,285,286,287,288,289,290,291,292,293,294,295,296,297,298,299,300,301,302,303,304,305,306,307,308,309,310,311,312,313,314,315,316,317,318,319,320,321,322,323,324,325,326,327,328,329,330,331,332,333,334,335,336,337,338,339,340,341,342,343,344,345,346,347,348,349,350,351,352,353,354,355,356,357,358,359,360,361,362,363,364,365,366,367,368,369,370,371,372,373,374,375,376,377,378,379,380,381,382,383,384,385,386,387,388,389,390,391,392,393,394,395,396,397,398,399,400,401,402,403,404,405,406,407,408,409,410,411,412,413,414,415,416,417,418,419,420,421,422,423,424,425,426,427,428,429,430,431,432,433,434,435,436,437,438,439,440,441,442,443,444,445,446,447,448,449,450,451,452,453,454,455,456,457,458,459,460,461,462,463,464,465,466,467,468,469,470,471,472,473,474,475,476,477,478,479,480,481,482,483,484,485,486,487,488,489,490,491,492,493,494,495,496,497,498,499,500,501,502,503,504,505,506,507,508,509,510,511,512,513,514,515,516,517,518,519,520,521,522,523,524,525,526,527,528,529,530,531,532,533,534,535,536,537,538,539,540,541,542,543,544,545,546,547,548,549,550,551,552,553,554,555,556,557,558,559,560,561,562,563,564,565,566,567,568,569,570,571,572,573,574,575,576,577,578,579,580,581,582,583,584,585,586,587,588,589,590,591,592,593,594,595,596,597,598,599,600,601,602,603,604,605,606,607,608,609,610,611,612,613,614,615,616,617,618,619,620,621,622,623,624,625,626,627,628,629,630,631,632,633,634,635,636,637,638,639,640,641,642,643,644,645,646,647,648,649,650,651,652,653,654,655,656,657,658,659,660,661,662,663,664,665,666,667,668,669,670,671,672,673,674,675,676,677,678,679,680,681,682,683,684,685,686,687,688,689,690,691,692,693,694,695,696,697,698,699,700,701,702,703,704,705,706,707,708,709,710,711,712,713,714,715,716,717,718,719,720,721,722,723,724,725,726,727,728,729,730,731,732,733,734,735,736,737,738,739,740,741,742,743,744,745,746,747,748,749,750,751,752,753,754,755,756,757,758,759,760,761,762,763,764,765,766,767,768,769,770,771,772,773,774,775,776,777,778,779,780,781,782,783,784,785,786,787,788,789,790,791,792,793,794,795,796,797,798,799,800,801,802,803,804,805,806,807,808,809,810,811,812,813,814,815,816,817,818,819,820,821,822,823,824,825,826,827,828,829,830,831,832,833,834,835,836,837,838,839,840,841,842,843,844,845,846,847,848,849,850,851,852,853,854,855,856,857,858,859,860,861,862,863,864,865,866,867,868,869,870,871,872,873,874,875,876,877,878,879,880,881,882,883,884,885,886,887,888,889,890,891,892,893,894,895,896,897,898,899,900,901,902,903,904,905,906,907,908,909,910,911,912,913,914,915,916,917,918,919,920,921,922,923,924,925,926,927,928,929,930,931,932,933,934,935,936,937,938,939,940,941,942,943,944,945,946,947,948,949,950,951,952,953,954,955,956,957,958,959,960,961,962,963,964,965,966,967,968,969,970,971,972,973,974,975,976,977,978,979,980,981,982,983,984,985,986,987,988,989,990,991,992,993,994,995,996,997,998,999,1000,1001,1002,1003,1004,1005,1006,1007,1008,1009,1010,1011,1012,1013,1014,1015,1016,1017,1018,1019,1020,1021,1022,1023,1024,1025,1026,1027,1028,1029,1030,1031,1032,1033,1034,1035,1036,1037,1038,1039,1040,1041,1042,1043,1044,1045,1046,1047,1048,1049,1050,1051,1052,1053,1054,1055,1056,1057,1058,1059,1060,1061,1062,1063,1064,1065,1066,1067,1068,1069,1070,1071,1072,1073,1074,1075,1076,1077,1078,1079,1080,1081,1082,1083,1084,1085,1086,1087,1088,1089,1090,1091,1092,1093,1094,1095,1096,1097,1098,1099,1100,1101,1102,1103,1104,1105,1106,1107,1108,1109,1110,1111,1112,1113,1114,1115,1116,1117,1118,1119,1120,1121,1122,1123,1124,1125,1126,1127,1128,1129,1130,1131,1132,1133,1134,1135,1136,1137,1138,1139,1140,1141,1142,1143,1144,1145,1146,1147,1148,1149,1150,1151,1152,1153,1154,1155,1156,1157,1158,1159,1160,1161,1162,1163,1164,1165,1166,1167,1168,1169,1170,1171,1172,1173,1174,1175,1176,1177,1178,1179,1180,1181,1182,1183,1184,1185,1186,1187,1188,1189,1190,1191,1192,1193,1194,1195,1196,1197,1198,1199,1200,1201,1202,1203,1204,1205,1206,1207,1208,1209,1210,1211,1212,1213,1214,1215,1216,1217,1218,1219,1220,1221,1222,1223,1224,1225,1226,1227,1228,1229,1230,1231,1232,1233,1234,1235,1236,1237,1238,1239,1240,1241,1242,1243,1244,1245,1246,1247,1248,1249,1250,1251,1252,1253,1254,1255,1256,1257,1258,1259,1260,1261,1262,1263,1264,1265,1266,1267,1268,1269,1270,1271,1272,1273,1274,1275,1276,1277,1278,1279,1280,1281,1282,1283,1284,1285,1286,1287,1288,1289,1290,1291,1292,1293,1294,1295,1296,1297,1298,1299,1300,1301,1302,1303,1304,1305,1306,1307,1308,1309,1310,1311,1312,1313,1314,1315,1316,1317,1318,1319,1320,1321,1322,1323,1324,1325,1326,1327,1328,1329,1330,1331,1332,1333,1334,1335,1336,1337,1338,1339,1340,1341,1342,1343,1344,1345,1346,1347,1348,1349,1350,1351,1352,1353,1354,1355,1356,1357,1358,1359,1360,1361,1362,1363,1364,1365,1366,1367,1368,1369,1370,1371,1372,1373,1374,1375,1376,1377,1378,1379,1380,1381,1382,1383,1384,1385,1386,1387,1388,1389,1390,1391,1392,1393,1394,1395,1396,1397,1398,1399,1400,1401,1402,1403,1404,1405,1406,1407,1408,1409,1410,1411,1412,1413,1414,1415,1416,1417,1418,1419,1420,1421,1422,1423,1424,1425,1426,1427,1428,1429,1430,1431,1432,1433,1434,1435,1436,1437,1438,1439,1440,1441,1442,1443,1444,1445,1446,1447,1448,1449,1450,1451,1452,1453,1454,1455,1456,1457,1458,1459,1460,1461,1462,1463,1464,1465,1466,1467,1468,1469,1470,1471,1472,1473,1474,1475,1476,1477,1478,1479,1480,1481,1482,1483,1484,1485,1486,1487,1488,1489,1490,1491,1492,1493,1494,1495,1496,1497,1498,1499,1500,1501,1502,1503,1504,1505,1506,1507,1508,1509,1510,1511,1512,1513,1514,1515,1516,1517,1518,1519,1520,1521,1522,1523,1524,1525,1526,1527,1528,1529,1530,1531,1532,1533,1534,1535,1536,1537,1538,1539,1540,1541,1542,1543,1544,1545,1546,1547,1548,1549,1550,1551,1552,1553,1554,1555,1556,1557,1558,1559,1560,1561,1562,1563,1564,1565,1566,1567,1568,1569,1570,1571,1572,1573,1574,1575,1576,1577,1578,1579,1580,1581,1582,1583,1584,1585,1586,1587,1588,1589,1590,1591,1592,1593,1594,1595,1596,1597,1598,1599,1600,1601,1602,1603,1604,1605,1606,1607,1608,1609,1610,1611,1612,1613,1614,1615,1616,1617,1618,1619,1620,1621,1622,1623,1624,1625,1626,1627,1628,1629,1630,1631,1632,1633,1634,1635,1636,1637,1638,1639,1640,1641,1642,1643,1644,1645,1646,1647,1648,1649,1650,1651,1652,1653,1654,1655,1656,1657,1658,1659,1660,1661,1662,1663,1664,1665,1666,1667,1668,1669,1670,1671,1672,1673,1674,1675,1676,1677,1678,1679,1680,1681,1682,1683,1684,1685,1686,1687,1688,1689,1690,1691,1692,1693,1694,1695,1696,1697,1698,1699,1700,1701,1702,1703,1704,1705,1706,1707,1708,1709,1710,1711,1712,1713,1714,1715,1716,1717,1718,1719,1720,1721,1722,1723,1724,1725,1726,1727,1728,1729,1730,1731,1732,1733,1734,1735,1736,1737,1738,1739,1740,1741,1742,1743,1744,1745,1746,1747,1748,1749,1750,1751,1752,1753,1754,1755,1756,1757,1758,1759,1760,1761,1762,1763,1764,1765,1766,1767,1768,1769,1770,1771,1772,1773,1774,1775,1776,1777,1778,1779,1780,1781,1782,1783,1784,1785,1786,1787,1788,1789,1790,1791,1792,1793,1794,1795,1796,1797,1798,1799,1800,1801,1802,1803,1804,1805,1806,1807,1808,1809,1810,1811,1812,1813,1814,1815,1816,1817,1818,1819,1820,1821,1822,1823,1824,1825,1826,1827,1828,1829,1830,1831,1832,1833,1834,1835,1836,1837,1838,1839,1840,1841,1842,1843,1844,1845,1846,1847,1848,1849,1850,1851,1852,1853,1854,1855,1856,1857,1858,1859,1860,1861,1862,1863,1864,1865,1866,1867,1868,1869,1870,1871,1872,1873,1874,1875,1876,1877,1878,1879,1880,1881,1882,1883,1884,1885,1886,1887,1888,1889,1890,1891,1892,1893,1894,1895,1896,1897,1898,1899,1900,1901,1902,1903,1904,1905,1906,1907,1908,1909,1910,1911,1912,1913,1914,1915,1916,1917,1918,1919,1920,1921,1922,1923,1924,1925,1926,1927,1928,1929,1930,1931,1932,1933,1934,1935,1936,1937,1938,1939,1940,1941,1942,1943,1944,1945,1946,1947,1948,1949,1950,1951,1952,1953,1954,1955,1956,1957,1958,1959,1960,1961,1962,1963,1964,1965,1966,1967,1968,1969,1970,1971,1972,1973,1974,1975,1976,1977,1978,1979,1980,1981,1982,1983,1984,1985,1986,1987,1988,1989,1990,1991,1992,1993,1994,1995,1996,1997,1998,1999,2000,2001,2002,2003,2004,2005,2006,2007,2008,2009,2010,2011,2012,2013,2014,2015,2016,2017,2018,2019,2020,2021,2022,2023,2024,2025,2026,2027,2028,2029,2030,2031,2032,2033,2034,2035,2036,2037,2038,2039,2040,2041,2042,2043,2044,2045,2046,2047,2048,2049,2050,2051,2052,2053,2054,2055,2056,2057,2058,2059,2060,2061,2062,2063,2064,2065,2066,2067,2068,2069,2070,2071,2072,2073,2074,2075,2076,2077,2078,2079,2080,2081,2082,2083,2084,2085,2086,2087,2088,2089,2090,2091,2092,2093,2094,2095,2096,2097,2098,2099,2100,2101,2102,2103,2104,2105,2106,2107,2108,2109,2110,2111,2112,2113,2114,2115,2116,2117,2118,2119,2120,2121,2122,2123,2124,2125,2126,2127,2128,2129,2130,2131,2132,2133,2134,2135,2136,2137,2138,2139,2140,2141,2142,2143,2144,2145,2146,2147,2148,2149,2150,2151,2152,2153,2154,2155,2156,2157,2158,2159,2160,2161,2162,2163,2164,2165,2166,2167,2168,2169,2170,2171,2172,2173,2174,2175,2176,2177,2178,2179,2180,2181,2182,2183,2184,2185,2186,2187,2188,2189,2190,2191,2192,2193,2194,2195,2196,2197,2198,2199,2200,2201,2202,2203,2204,2205,2206,2207,2208,2209,2210,2211,2212,2213,2214,2215,2216,2217,2218,2219,2220,2221,2222,2223,2224,2225,2226,2227],\"player_name\":[\"Kevin Garnett\",\"Shaquille O'Neal\",\"Dikembe Mutombo\",\"Rasheed Wallace\",\"Chris Webber\",\"Allan Houston\",\"Shawn Kemp\",\"Stephon Marbury\",\"Anfernee Hardaway\",\"Allen Iverson\",\"Ray Allen\",\"Antonio McDyess\",\"Latrell Sprewell\",\"Kobe Bryant\",\"Antoine Walker\",\"Zydrunas Ilgauskas\",\"Vin Baker\",\"Shareef Abdur-Rahim\",\"Michael Finley\",\"Jalen Rose\",\"Tracy McGrady\",\"Grant Hill\",\"Keith Van Horn\",\"Jermaine O'Neal\",\"Jason Kidd\",\"Antonio Davis\",\"Tim Duncan\",\"Damon Stoudamire\",\"Eddie Jones\",\"Brian Grant\",\"Vlade Divac\",\"Nick Van Exel\",\"Tim Thomas\",\"Tom Gugliotta\",\"Vince Carter\",\"Dirk Nowitzki\",\"Antawn Jamison\",\"Paul Pierce\",\"Terrell Brandon\",\"Shawn Marion\",\"Baron Davis\",\"Elton Brand\",\"Steve Francis\",\"Glenn Robinson\",\"Theo Ratliff\",\"Lamar Odom\",\"Mike Bibby\",\"Kerry Kittles\",\"Dale Davis\",\"Toni Kukoc\",\"Greg Ostertag\",\"Gilbert Arenas\",\"Jamal Mashburn\",\"Jason Terry\",\"Raef LaFrentz\",\"PJ Brown\",\"Wally Szczerbiak\",\"Andre Miller\",\"Glen Rice\",\"Erick Dampier\",\"Maurice Taylor\",\"Derek Anderson\",\"Wesley Person\",\"Alan Henderson\",\"Austin Croshere\",\"Kelvin Cato\",\"Marcus Camby\",\"Rashard Lewis\",\"Brad Miller\",\"Bonzi Wells\",\"Corey Maggette\",\"Jerry Stackhouse\",\"Doug Christie\",\"Ron Mercer\",\"Shandon Anderson\",\"Lorenzen Wright\",\"Chris Mills\",\"Bo Outlaw\",\"Richard Hamilton\",\"Hakeem Olajuwon\",\"Bob Sura\",\"Predrag Stojakovic\",\"Eddie Robinson\",\"Michael Dickerson\",\"Jason Williams\",\"Tariq Abdul-Wahad\",\"Charlie Ward\",\"Jerome Williams\",\"Howard Eisley\",\"Jonathan Bender\",\"Steve Nash\",\"Vitaly Potapenko\",\"Al Harrington\",\"Jason Caffey\",\"Jahidi White\",\"Christian Laettner\",\"Radoslav Nesterovic\",\"Eric Williams\",\"Alvin Williams\",\"Kenny Thomas\",\"Ben Wallace\",\"Metta World Peace\",\"Calvin Booth\",\"Ruben Patterson\",\"Todd MacCulloch\",\"Joe Smith\",\"Clarence Weatherspoon\",\"Avery Johnson\",\"Danny Fortson\",\"Brent Barry\",\"Kurt Thomas\",\"Cuttino Mobley\",\"Scot Pollard\",\"Kenyon Martin\",\"Sam Cassell\",\"Larry Hughes\",\"Keon Clark\",\"Jerome James\",\"Chauncey Billups\",\"Ricky Davis\",\"Brevin Knight\",\"Aaron McKie\",\"Reggie Miller\",\"Corliss Williamson\",\"Nazr Mohammed\",\"Juwan Howard\",\"Michael Olowokandi\",\"James Posey\",\"Gary Payton\",\"Scottie Pippen\",\"Alonzo Mourning\",\"Malik Rose\",\"Rick Fox\",\"Clifford Robinson\",\"Donyell Marshall\",\"Stromile Swift\",\"Devean George\",\"Lamond Murray\",\"Robert Horry\",\"Eric Snow\",\"Michael Stewart\",\"Ervin Johnson\",\"Travis Knight\",\"Adonal Foyle\",\"Tony Battie\",\"Anthony Mason\",\"Matt Harpring\",\"Kwame Brown\",\"Zeljko Rebraca\",\"Yao Ming\",\"Darius Miles\",\"LeBron James\",\"Derrick Coleman\",\"Jeff Foster\",\"Elden Campbell\",\"David Wesley\",\"Marc Jackson\",\"Chucky Atkins\",\"Tyson Chandler\",\"Marcus Fizer\",\"Jay Williams\",\"Bruce Bowen\",\"Lawrence Funderburke\",\"Darko Milicic\",\"Moochie Norris\",\"Shawn Bradley\",\"Eduardo Najera\",\"Mike Miller\",\"Mike Dunleavy\",\"Jeff McInnis\",\"Carmelo Anthony\",\"Eddy Curry\",\"Rodney Rogers\",\"Evan Eschmeyer\",\"Matt Maloney\",\"Drew Gooden\",\"Michael Redd\",\"Derek Fisher\",\"Speedy Claxton\",\"Lindsey Hunter\",\"Jon Barry\",\"Chris Crawford\",\"Eric Montross\",\"Hubert Davis\",\"Bobby Jackson\",\"Othella Harrington\",\"Tony Delk\",\"Aaron Williams\",\"Chris Bosh\",\"Chris Mihm\",\"Michael Curry\",\"George Lynch\",\"Jason Richardson\",\"Nikoloz Tskitishvili\",\"Pat Garrity\",\"Greg Buckner\",\"Dwyane Wade\",\"Wang Zhizhi\",\"Pau Gasol\",\"John Amaechi\",\"Jamal Crawford\",\"Shane Battier\",\"Andrew DeClercq\",\"Predrag Drobnjak\",\"Eric Piatkowski\",\"Earl Boykins\",\"Lucious Harris\",\"Darrell Armstrong\",\"Dajuan Wagner\",\"Kevin Ollie\",\"Ira Newble\",\"Stacey Augmon\",\"Chris Kaman\",\"Joel Przybilla\",\"Eddie Griffin\",\"Cory Alexander\",\"Keyon Dooling\",\"Etan Thomas\",\"Antonio Daniels\",\"Jim Jackson\",\"Kirk Hinrich\",\"Courtney Alexander\",\"Bimbo Coles\",\"DeSagana Diop\",\"Nen\\u00ea\",\"Troy Hudson\",\"Chris Wilcox\",\"TJ Ford\",\"Hidayet Turkoglu\",\"Rodney White\",\"Marko Jaric\",\"Amare Stoudemire\",\"Desmond Mason\",\"Joe Johnson\",\"Mike Sweetney\",\"Quentin Richardson\",\"Caron Butler\",\"Nate Huffman\",\"Kedrick Brown\",\"Jarvis Hayes\",\"Jamaal Magloire\",\"Jared Jeffries\",\"Samaki Walker\",\"Corie Blount\",\"Vladimir Radmanovic\",\"Morris Peterson\",\"Melvin Ely\",\"DeShawn Stevenson\",\"Jerome Moiso\",\"Cezary Trybanski\",\"Dalibor Bagaric\",\"Richard Jefferson\",\"Iakovos Tsakalidis\",\"Nick Collison\",\"Marcus Haislip\",\"Gordan Giricek\",\"Michael Doleac\",\"Stanislav Medvedenko\",\"Mickael Pietrus\",\"Malik Allen\",\"Troy Murphy\",\"Fred Jones\",\"Jake Voskuhl\",\"Tyronn Lue\",\"Erick Strickland\",\"Brian Skinner\",\"Karl Malone\",\"Mark Jackson\",\"Jumaine Jones\",\"Marcus Banks\",\"Manu Ginobili\",\"Steven Hunter\",\"Luke Ridnour\",\"Bostjan Nachbar\",\"Kirk Haston\",\"Reece Gaines\",\"Earl Watson\",\"Jiri Welsch\",\"Bryce Drew\",\"Michael Bradley\",\"Troy Bell\",\"Juan Dixon\",\"Jarron Collins\",\"Ryan Bowen\",\"Jason Collins\",\"Zarko Cabarkapa\",\"Daniel Santiago\",\"Voshon Lenard\",\"Walter McCarty\",\"Curtis Borchardt\",\"Zach Randolph\",\"Chris Childs\",\"David West\",\"Ryan Humphrey\",\"Jeryl Sasser\",\"Brendan Haywood\",\"Aleksandar Pavlovic\",\"Mehmet Okur\",\"Kareem Rush\",\"Joseph Forte\",\"Chris Whitney\",\"Kevin Willis\",\"Tony Massenburg\",\"Anthony Peeler\",\"Scott Williams\",\"Steve Smith\",\"Sean Rooks\",\"Horace Grant\",\"Bryon Russell\",\"Olden Polynice\",\"Kenny Anderson\",\"Popeye Jones\",\"Calbert Cheaney\",\"Kendall Gill\",\"Dahntay Jones\",\"Qyntel Woods\",\"Boris Diaw\",\"Casey Jacobsen\",\"Monty Williams\",\"Stephen Jackson\",\"Dion Glover\",\"Brandon Armstrong\",\"Zoran Planinic\",\"Efthimios Rentzias\",\"Tayshaun Prince\",\"Robert Pack\",\"Andrei Kirilenko\",\"Mark Blount\",\"Travis Outlaw\",\"Gary Trent\",\"Fred Hoiberg\",\"Travis Best\",\"Gerald Wallace\",\"Brian Cook\",\"Frank Williams\",\"Rod Strickland\",\"Samuel Dalembert\",\"Mitchell Butler\",\"John Salmons\",\"Primoz Brezec\",\"Jamaal Tinsley\",\"Tony Parker\",\"Chris Jefferies\",\"Ndudi Ebi\",\"Dan Dickau\",\"Maciej Lampe\",\"Robert Traylor\",\"Kendrick Perkins\",\"John Wallace\",\"Anthony Johnson\",\"Darvin Ham\",\"Rick Brunson\",\"Jacque Vaughn\",\"Leandro Barbosa\",\"Carlos Arroyo\",\"Brian Scalabrine\",\"Josh Howard\",\"Anthony Carter\",\"Vladimir Stepania\",\"Shammond Williams\",\"Damon Jones\",\"Adrian Griffin\",\"Mark Pope\",\"Bruno Sundov\",\"Eddie House\",\"Reggie Evans\",\"Doug Overton\",\"Raja Bell\",\"Milt Palacio\",\"Amal McCaskill\",\"Ansu Sesay\",\"Rafer Alston\",\"Scott Padgett\",\"Obinna Ekezie\",\"Oliver Miller\",\"Michael Ruffin\",\"Ruben Boumtje-Boumtje\",\"Donnell Harvey\",\"Mark Madsen\",\"Pepe Sanchez\",\"Brian Cardinal\",\"Jason Hart\",\"Jabari Smith Sr\",\"Trenton Hassell\",\"Loren Woods\",\"Bobby Simmons\",\"Jamison Brewer\",\"Mike Wilks\",\"Tremaine Fowlkes\",\"Jeff Trepagnier\",\"Chris Andersen\",\"Mike James\",\"Mengke Bateer\",\"Lonny Baxter\",\"Raul Lopez\",\"Dan Langhi\",\"Sean Marks\",\"Alton Ford\",\"Roger Mason\",\"Devin Brown\",\"Sam Clancy\",\"Robert Archibald\",\"Ronald Murray\",\"Dan Gadzuric\",\"Rasual Butler\",\"Jannero Pargo\",\"Jamal Sampson\",\"JR Bremer\",\"Carlos Boozer\",\"Tamar Slay\",\"Mikki Moore\",\"Zendon Hamilton\",\"Muggsy Bogues\",\"Steve Blake\",\"Maurice Williams\",\"Ben Handlogten\",\"Alex Garcia\",\"Darius Songaila\",\"Willie Green\",\"Kyle Korver\",\"Zaza Pachulia\",\"Keith Bogans\",\"Richie Frahm\",\"Keith McLeod\",\"Udonis Haslem\",\"Jerome Beasley\",\"Theron Smith\",\"Luke Walton\",\"Josh Moore\",\"James Jones\",\"Francisco Elson\",\"Marquis Daniels\",\"Jon Stefansson\",\"Jason Kapono\",\"Linton Johnson\",\"Brandon Hunter\",\"Travis Hansen\",\"Paul Grant\",\"Matt Carroll\",\"Kaniel Dickens\",\"Cherokee Parks\",\"Tyrone Hill\",\"Damone Brown\",\"Quincy Lewis\",\"Ben Davis\",\"Rodney Buford\",\"Tracy Murray\",\"Slavko Vranes\",\"Sean Lampley\",\"Shane Heal\",\"Torraye Braggs\",\"Britton Johnsen\",\"Jelani McCoy\",\"Derrick Dial\",\"Dwight Howard\",\"Emeka Okafor\",\"Ben Gordon\",\"Shaun Livingston\",\"Arvydas Sabonis\",\"Devin Harris\",\"Andres Nocioni\",\"Josh Childress\",\"Luol Deng\",\"Rafael Araujo\",\"Andre Iguodala\",\"Luke Jackson\",\"Andris Biedrins\",\"Robert Swift\",\"Ibo Kutluay\",\"Sebastian Telfair\",\"Jason Collier\",\"Kris Humphries\",\"Al Jefferson\",\"Kirk Snyder\",\"Josh Smith\",\"JR Smith\",\"Dorell Wright\",\"Jameer Nelson\",\"Pavel Podkolzin\",\"Viktor Khryapa\",\"Nenad Krstic\",\"Delonte West\",\"Carlos Delfino\",\"Tony Allen\",\"Kevin Martin\",\"Sasha Vujacic\",\"Beno Udrih\",\"David Harrison\",\"Didier Ilunga-Mbenga\",\"Anderson Varejao\",\"Mamadou N'diaye\",\"Laron Profit\",\"Lee Nailon\",\"DerMarr Johnson\",\"Mateen Cleaves\",\"Aleksandar Radojevic\",\"Tierre Brown\",\"Eddie Gill\",\"Maurice Evans\",\"Matt Barnes\",\"Junior Harrington\",\"Smush Parker\",\"Josh Davis\",\"Quinton Ross\",\"Ronald Dupree\",\"Tommy Smith\",\"Peter John Ramos\",\"Lionel Chalmers\",\"Royal Ivey\",\"Donta Smith\",\"Pape Sow\",\"Matt Bonner\",\"Romain Sato\",\"Erik Daniels\",\"Jackson Vroman\",\"Mario Kasun\",\"Damien Wilkins\",\"Trevor Ariza\",\"Antonio Burks\",\"Andre Emmett\",\"John Edwards\",\"Andre Barrett\",\"Luis Flores\",\"Horace Jenkins\",\"Arthur Johnson\",\"Jared Reiner\",\"Chris Duhon\",\"Bernard Robinson\",\"Justin Reed\",\"Matt Freije\",\"Corsley Edwards\",\"Tony Bobbitt\",\"Anthony Goldwire\",\"Yuta Tabuse\",\"Awvee Storey\",\"Geno Carlisle\",\"Anthony Miller\",\"Andrew Bogut\",\"Sarunas Jasikevicius\",\"Marvin Williams\",\"Deron Williams\",\"Chris Paul\",\"Raymond Felton\",\"Martell Webster\",\"Arvydas Macijauskas\",\"Charlie Villanueva\",\"Fabricio Oberto\",\"Jose Calderon\",\"Channing Frye\",\"Ike Diogu\",\"Andrew Bynum\",\"Yaroslav Korolev\",\"Sean May\",\"Rashad McCants\",\"Antoine Wright\",\"Joey Graham\",\"Jermaine Jackson\",\"Danny Granger\",\"Gerald Green\",\"Hakim Warrick\",\"Julius Hodge\",\"Nate Robinson\",\"Jarrett Jack\",\"Francisco Garcia\",\"Sergey Monya\",\"Luther Head\",\"Darrick Martin\",\"Johan Petro\",\"Jason Maxiell\",\"Linas Kleiza\",\"Wayne Simien\",\"David Lee\",\"Terence Morris\",\"Charles Smith\",\"Pat Burke\",\"Salim Stoudamire\",\"Ha Seung-Jin\",\"Charlie Bell\",\"James Singleton\",\"Louis Williams\",\"Daniel Ewing\",\"Monta Ellis\",\"Ryan Gomes\",\"Chris Taft\",\"Donell Taylor\",\"Andray Blatche\",\"Andre Owens\",\"Robert Whaley\",\"CJ Miles\",\"Ronnie Price\",\"Dijon Thompson\",\"Shavlik Randolph\",\"Travis Diener\",\"Jackie Butler\",\"Brandon Bass\",\"Dwayne Jones\",\"Bracey Wright\",\"Ersan Ilyasova\",\"Earl Barron\",\"Lawrence Roberts\",\"Anthony Roberson\",\"Devin Green\",\"Von Wafer\",\"Boniface N'Dong\",\"Amir Johnson\",\"Alex Acker\",\"Rawle Marshall\",\"Josh Powell\",\"Martynas Andriuskevicius\",\"Eddie Basden\",\"Kevin Burleson\",\"Alan Anderson\",\"Orien Greene\",\"Esteban Batista\",\"Gerald Fitch\",\"John Thomas\",\"Aaron Miles\",\"Sean Banks\",\"James Thomas\",\"Sharrod Ford\",\"Deng Gai\",\"Randy Holcomb\",\"Stephen Graham\",\"Matt Walsh\",\"John Lucas\",\"Melvin Sanders\",\"Alex Scales\",\"Andrea Bargnani\",\"Anthony Parker\",\"LaMarcus Aldridge\",\"Jorge Garbajosa\",\"Adam Morrison\",\"Tyrus Thomas\",\"Shelden Williams\",\"Brandon Roy\",\"Randy Foye\",\"Rudy Gay\",\"Patrick O'Bryant\",\"Saer Sene\",\"JJ Redick\",\"Vassilis Spanoulis\",\"Walter Herrmann\",\"Hilton Armstrong\",\"Thabo Sefolosha\",\"Ronnie Brewer\",\"Cedric Simmons\",\"Rodney Carney\",\"Shawne Williams\",\"Quincy Douby\",\"Renaldo Balkman\",\"Rajon Rondo\",\"Marcus Williams\",\"Josh Boone\",\"Kyle Lowry\",\"Shannon Brown\",\"Jordan Farmar\",\"Sergio Rodriguez\",\"Maurice Ager\",\"Mardy Collins\",\"James White\",\"Mickael Gelabale\",\"Mile Ilic\",\"James Lang\",\"Ime Udoka\",\"Maceo Baston\",\"Solomon Jones\",\"Lynn Greer\",\"Ronny Turiaf\",\"Chuck Hayes\",\"Paul Millsap\",\"Steve Novak\",\"Leon Powe\",\"Roger Powell\",\"Brian Chase\",\"Dee Brown\",\"Uros Slokar\",\"PJ Tucker\",\"Bobby Jones\",\"James Augustine\",\"Marcus Vinicius\",\"Craig Smith\",\"David Noel\",\"Damir Markota\",\"Robert Hite\",\"Chris Quinn\",\"Tarence Kinsey\",\"Alexander Johnson\",\"Paul Davis\",\"Will Blalock\",\"Ivan McFarlin\",\"Yakhouba Diawara\",\"Jose Juan Barea\",\"Pops Mensah-Bonsu\",\"Daniel Gibson\",\"Ryan Hollins\",\"Hassan Adams\",\"Allan Ray\",\"Cedric Bozeman\",\"Kelenna Azubuike\",\"Desmon Farmer\",\"Justin Williams\",\"Andre Brown\",\"Juaquin Hawkins\",\"Jeremy Richardson\",\"Steven Smith\",\"Andreas Glyniadakis\",\"Chris McCray\",\"Mike Gansey\",\"Mike Hall\",\"Pat Carroll\",\"Paul Miller\",\"Jimmie Hunter\",\"Daniel Horton\",\"Jefferson Sobral\",\"Vincent Grier\",\"Luke Schenscher\",\"Kevin Pittsnogle\",\"Will Conroy\",\"Renaldo Major\",\"Greg Oden\",\"Kevin Durant\",\"Al Horford\",\"Mike Conley\",\"Jeff Green\",\"Luis Scola\",\"Yi Jianlian\",\"Corey Brewer\",\"Brandan Wright\",\"Joakim Noah\",\"Spencer Hawes\",\"Acie Law\",\"Thaddeus Young\",\"Kosta Perovic\",\"Julian Wright\",\"Al Thornton\",\"Rodney Stuckey\",\"Nick Young\",\"Sean Williams\",\"Oleksiy Pecherov\",\"Marco Belinelli\",\"Javaris Crittenton\",\"Jason Smith\",\"Daequan Cook\",\"Jared Dudley\",\"Wilson Chandler\",\"Morris Almond\",\"Aaron Brooks\",\"Arron Afflalo\",\"Ian Mahinmi\",\"Alando Tucker\",\"Randolph Morris\",\"Billy Thomas\",\"Kyrylo Fesenko\",\"Gabe Pruitt\",\"Juan Carlos Navarro\",\"Dominic McGuire\",\"Jamario Moon\",\"Josh McRoberts\",\"D.J. Strawberry\",\"Herbert Hill\",\"Marcin Gortat\",\"Chris Richard\",\"Ramon Sessions\",\"Joel Anthony\",\"Coby Karl\",\"Adam Haluska\",\"Carl Landry\",\"Cheikh Samb\",\"Taurean Green\",\"Nick Fazekas\",\"JamesOn Curry\",\"Demetris Nichols\",\"Aaron Gray\",\"Jermareo Davidson\",\"Glen Davis\",\"Mario West\",\"Keith Langford\",\"Darius Washington\",\"Brandon Wallace\",\"CJ Watson\",\"Courtney Sims\",\"Darryl Watkins\",\"Thomas Gardner\",\"Guillermo Diaz\",\"Stephane Lasme\",\"Derrick Rose\",\"Michael Beasley\",\"OJ Mayo\",\"Russell Westbrook\",\"Kevin Love\",\"Marc Gasol\",\"Danilo Gallinari\",\"Eric Gordon\",\"Joe Alexander\",\"DJ Augustin\",\"Brook Lopez\",\"Jerryd Bayless\",\"Jason Thompson\",\"Brandon Rush\",\"Anthony Randolph\",\"Goran Dragic\",\"Robin Lopez\",\"Hamed Haddadi\",\"Marreese Speights\",\"Roy Hibbert\",\"JaVale McGee\",\"JJ Hickson\",\"Alexis Ajinca\",\"Roko Ukic\",\"Ryan Anderson\",\"Courtney Lee\",\"Kosta Koufos\",\"Rudy Fernandez\",\"Nicolas Batum\",\"George Hill\",\"Darrell Arthur\",\"Donte Greene\",\"DJ White\",\"JR Giddens\",\"Joey Dorsey\",\"Kyle Weaver\",\"Luc Mbah a Moute\",\"Willie Solomon\",\"Will Bynum\",\"Mario Chalmers\",\"DeAndre Jordan\",\"Henry Walker\",\"Mike Taylor\",\"Darnell Jackson\",\"Chris Douglas-Roberts\",\"Nathan Jawai\",\"Bobby Brown\",\"Sun Yue\",\"Anthony Morrow\",\"Walter Sharpe\",\"Sonny Weems\",\"Sean Singletary\",\"Othello Hunter\",\"Rob Kurz\",\"Malik Hairston\",\"Jawad Williams\",\"Anthony Tolliver\",\"Cartier Martin\",\"Trey Johnson\",\"DeMarcus Nelson\",\"Steven Hill\",\"Blake Ahearn\",\"Richard Hendrix\",\"Blake Griffin\",\"Hasheem Thabeet\",\"James Harden\",\"Tyreke Evans\",\"Jonny Flynn\",\"Stephen Curry\",\"Jordan Hill\",\"David Andersen\",\"DeMar DeRozan\",\"Brandon Jennings\",\"Terrence Williams\",\"Gerald Henderson\",\"Tyler Hansbrough\",\"Earl Clark\",\"Austin Daye\",\"James Johnson\",\"Jrue Holiday\",\"Ty Lawson\",\"Jeff Teague\",\"Eric Maynor\",\"Darren Collison\",\"Omri Casspi\",\"BJ Mullens\",\"Serge Ibaka\",\"Rodrigue Beaubois\",\"Taj Gibson\",\"DeMarre Carroll\",\"Wayne Ellington\",\"Toney Douglas\",\"Louis Amundson\",\"DeJuan Blair\",\"Sam Young\",\"Jermaine Taylor\",\"Jodie Meeks\",\"Chris Hunter\",\"Marcus Thornton\",\"Wesley Matthews\",\"Jon Brockman\",\"Patrick Mills\",\"Jeff Ayres\",\"Dante Cunningham\",\"Taylor Griffin\",\"AJ Price\",\"Chase Budinger\",\"DaJuan Summers\",\"Jonas Jerebko\",\"Danny Green\",\"Derrick Brown\",\"Marcus Landry\",\"Lester Hudson\",\"Sundiata Gaines\",\"Garrett Temple\",\"Antonio Anderson\",\"Mike Harris\",\"Cedric Jackson\",\"John Wall\",\"Evan Turner\",\"Derrick Favors\",\"Nikola Pekovic\",\"Wesley Johnson\",\"Timofey Mozgov\",\"Tiago Splitter\",\"DeMarcus Cousins\",\"Ekpe Udoh\",\"Greg Monroe\",\"Al-Farouq Aminu\",\"Gordon Hayward\",\"Paul George\",\"Cole Aldrich\",\"Xavier Henry\",\"Ed Davis\",\"Patrick Patterson\",\"Larry Sanders\",\"Omer Asik\",\"Luke Babbitt\",\"Kevin Seraphin\",\"Eric Bledsoe\",\"Avery Bradley\",\"James Anderson\",\"Craig Brackins\",\"Elliot Williams\",\"Trevor Booker\",\"Damion James\",\"Dominique Jones\",\"Quincy Pondexter\",\"Jordan Crawford\",\"Greivis Vasquez\",\"Daniel Orton\",\"Lazar Hayward\",\"Christian Eyenga\",\"Solomon Alabi\",\"Reggie Williams\",\"Lance Stephenson\",\"Hassan Whiteside\",\"Alonzo Gee\",\"Andy Rautins\",\"Gary Neal\",\"Willie Warren\",\"Samardo Samuels\",\"Garret Siler\",\"Gani Lawal\",\"Hamady N'Diaye\",\"Jeremy Evans\",\"Pooh Jeter\",\"Armon Johnson\",\"Landry Fields\",\"Da'Sean Butler\",\"Dexter Pittman\",\"Patrick Beverley\",\"Ishmael Smith\",\"Derrick Caracter\",\"Devin Ebanks\",\"Jeremy Lin\",\"Terrico White\",\"Gary Forbes\",\"Manny Harris\",\"Luke Harangody\",\"Semih Erden\",\"Sherron Collins\",\"Ben Uzoh\",\"Pape Sy\",\"Jeff Adrien\",\"Zabian Dowdell\",\"Chris Johnson\",\"Darington Hobson\",\"Mustafa Shakur\",\"Matt Janning\",\"Larry Owens\",\"Kyrie Irving\",\"Derrick Williams\",\"Enes Kanter\",\"Tristan Thompson\",\"Ricky Rubio\",\"Jan Vesely\",\"Bismack Biyombo\",\"Brandon Knight\",\"Kemba Walker\",\"Jimmer Fredette\",\"Klay Thompson\",\"Alec Burks\",\"Markieff Morris\",\"Marcus Morris\",\"Kawhi Leonard\",\"Nikola Vucevic\",\"Gustavo Ayon\",\"Iman Shumpert\",\"Chris Singleton\",\"Tobias Harris\",\"Nolan Smith\",\"Kenneth Faried\",\"Reggie Jackson\",\"MarShon Brooks\",\"Jordan Hamilton\",\"JaJuan Johnson\",\"Norris Cole\",\"Cory Joseph\",\"Jimmy Butler\",\"Jeremy Pargo\",\"Chandler Parsons\",\"Tyler Honeycutt\",\"Greg Stiemsma\",\"Jeremy Tyler\",\"Josh Selby\",\"Malcolm Lee\",\"Ryan Reid\",\"Shelvin Mack\",\"Isaiah Thomas\",\"Lavoy Allen\",\"DeAndre Liggins\",\"Justin Harper\",\"Jerome Jordan\",\"Josh Harrellson\",\"Jon Leuer\",\"Terrel Harris\",\"Andrew Goudelock\",\"Darius Morris\",\"Trey Thompkins\",\"Travis Leslie\",\"Chris Wright\",\"Charles Jenkins\",\"Vernon Macklin\",\"Julyan Stone\",\"Cory Higgins\",\"Jordan Williams\",\"E'Twaun Moore\",\"Ivan Johnson\",\"Walker Russell\",\"Lance Thomas\",\"Greg Smith\",\"Mickell Gladness\",\"Jeff Foote\",\"Donald Sloan\",\"Carldell Johnson\",\"Mychel Thompson\",\"Malcolm Thomas\",\"Dennis Horner\",\"Courtney Fortson\",\"Anthony Davis\",\"Michael Kidd-Gilchrist\",\"Bradley Beal\",\"Dion Waiters\",\"Jonas Valanciunas\",\"Thomas Robinson\",\"Mirza Teletovic\",\"Damian Lillard\",\"Alexey Shved\",\"Joel Freeland\",\"Harrison Barnes\",\"Terrence Ross\",\"Andre Drummond\",\"Austin Rivers\",\"Meyers Leonard\",\"Jeremy Lamb\",\"Kendall Marshall\",\"John Henson\",\"Moe Harkless\",\"Royce White\",\"Tyler Zeller\",\"Vyacheslav Kravtsov\",\"Terrence Jones\",\"Andrew Nicholson\",\"Nando De Colo\",\"Donatas Motiejunas\",\"Evan Fournier\",\"Jared Sullinger\",\"Victor Claver\",\"Fab Melo\",\"John Jenkins\",\"Jared Cunningham\",\"Tony Wroten\",\"Miles Plumlee\",\"Arnett Moultrie\",\"Perry Jones\",\"Festus Ezeli\",\"Kyle Singler\",\"Marquis Teague\",\"Draymond Green\",\"Kyle O'Quinn\",\"Quincy Acy\",\"Doron Lamb\",\"Jae Crowder\",\"Will Barton\",\"Orlando Johnson\",\"Jeffery Taylor\",\"Kevin Murphy\",\"Luke Zeller\",\"Diante Garrett\",\"DeQuan Jones\",\"Pablo Prigioni\",\"Chris Copeland\",\"Darius Miller\",\"Brian Roberts\",\"Robert Sacre\",\"Ben Hansbrough\",\"Kent Bazemore\",\"Khris Middleton\",\"Kim English\",\"Quincy Miller\",\"Bernard James\",\"Tornike Shengelia\",\"Tyshawn Taylor\",\"Mike Scott\",\"Kevin Jones\",\"Maalik Wayns\",\"Jarvis Varnado\",\"Micheal Eric\",\"Aron Baynes\",\"Dionte Christmas\",\"Scott Machado\",\"Kris Joseph\",\"Darius Johnson-Odom\",\"Tim Ohlbrecht\",\"Justin Holiday\",\"Jerel McNeal\",\"Justin Dentmon\",\"Josh Akognon\",\"Henry Sims\",\"Anthony Bennett\",\"Victor Oladipo\",\"Otto Porter\",\"Cody Zeller\",\"Alex Len\",\"Nerlens Noel\",\"Ben McLemore\",\"Kentavious Caldwell-Pope\",\"Trey Burke\",\"CJ McCollum\",\"Michael Carter-Williams\",\"Steven Adams\",\"Vitor Faverani\",\"Kelly Olynyk\",\"Shabazz Muhammad\",\"Giannis Antetokounmpo\",\"Gigi Datome\",\"Dennis Schroeder\",\"Shane Larkin\",\"Sergey Karasev\",\"Tony Snell\",\"Gorgui Dieng\",\"Scotty Hopson\",\"Mason Plumlee\",\"Solomon Hill\",\"Pero Antic\",\"Tim Hardaway Jr\",\"Reggie Bullock\",\"Andre Roberson\",\"Rudy Gobert\",\"Archie Goodwin\",\"Nemanja Nedovic\",\"Allen Crabbe\",\"Dwight Buycks\",\"Isaiah Canaan\",\"Ricky Ledo\",\"Jamaal Franklin\",\"Ray McCallum\",\"Glen Rice Jr\",\"Ian Clark\",\"Hollis Thompson\",\"Brandon Davies\",\"Toure Murry\",\"Jeff Withey\",\"Robbie Hummel\",\"Nate Wolters\",\"Miroslav Raduljica\",\"Nick Calathes\",\"Ryan Kelly\",\"Robert Covington\",\"Ognjen Kuzmic\",\"Peyton Siva\",\"Tony Mitchell\",\"Tony Mitchell\",\"Gal Mekel\",\"Carrick Felix\",\"Matthew Dellavedova\",\"Phil Pressey\",\"Erik Murphy\",\"Christapher Johnson\",\"Dewayne Dedmon\",\"Chris Smith\",\"Mike Muscala\",\"Troy Daniels\",\"James Southerland\",\"Chris Babb\",\"Justin Hamilton\",\"Jorge Gutierrez\",\"Arinze Onuaku\",\"Othyus Jeffers\",\"Elias Harris\",\"Casper Ware\",\"Seth Curry\",\"Willie Reed\",\"James Nunnally\",\"DJ Stephens\",\"Shane Edwards\",\"Vander Blue\",\"Andrew Wiggins\",\"Nikola Mirotic\",\"Jabari Parker\",\"Kostas Papanikolaou\",\"Joel Embiid\",\"Aaron Gordon\",\"Dante Exum\",\"Marcus Smart\",\"Bojan Bogdanovic\",\"Julius Randle\",\"Furkan Aldemir\",\"Nik Stauskas\",\"Noah Vonleh\",\"Elfrid Payton\",\"Doug McDermott\",\"Zach LaVine\",\"TJ Warren\",\"Adreian Payne\",\"Joffrey Lauvergne\",\"Lucas Nogueira\",\"Jusuf Nurkic\",\"Zoran Dragic\",\"James Young\",\"Tyler Ennis\",\"Gary Harris\",\"Bruno Caboclo\",\"Mitch McGary\",\"Jordan Adams\",\"Rodney Hood\",\"Shabazz Napier\",\"Clint Capela\",\"PJ Hairston\",\"CJ Wilcox\",\"Damjan Rudez\",\"Kyle Anderson\",\"Jerami Grant\",\"Devyn Marble\",\"Joe Harris\",\"Damien Inglis\",\"Grant Jerrett\",\"Spencer Dinwiddie\",\"Johnny O'Bryant\",\"Joe Ingles\",\"Eric Moreland\",\"JaKarr Sampson\",\"Travis Wear\",\"Cleanthony Early\",\"Patric Young\",\"Glenn Robinson III\",\"James Ennis\",\"Russ Smith\",\"Jarnell Stokes\",\"Tarik Black\",\"Jordan Clarkson\",\"Shayne Whittington\",\"Nick Johnson\",\"KJ McDaniels\",\"Erick Green\",\"Dwight Powell\",\"Cameron Bairstow\",\"Cory Jefferson\",\"Markel Brown\",\"Lorenzo Brown\",\"Elijah Millsap\",\"Langston Galloway\",\"Tyler Johnson\",\"Andre Dawkins\",\"James Michael McAdoo\",\"JaMychal Green\",\"Alex Kirk\",\"Kalin Lucas\",\"Bryce Cotton\",\"Jack Cooley\",\"Tim Frazier\",\"Will Cherry\",\"Jabari Brown\",\"Drew Gordon\",\"David Stockton\",\"Larry Drew II\",\"Sim Bhullar\",\"David Wear\",\"Sean Kilpatrick\",\"Jarell Eddie\",\"Karl-Anthony Towns\",\"D'Angelo Russell\",\"Jahlil Okafor\",\"Kristaps Porzingis\",\"Nemanja Bjelica\",\"Mario Hezonja\",\"Willie Cauley-Stein\",\"Emmanuel Mudiay\",\"Stanley Johnson\",\"Tibor Pleiss\",\"Frank Kaminsky\",\"Justise Winslow\",\"Myles Turner\",\"Trey Lyles\",\"Devin Booker\",\"Cameron Payne\",\"Kelly Oubre\",\"Terry Rozier\",\"Rashad Vaughn\",\"Sam Dekker\",\"Jerian Grant\",\"Delon Wright\",\"Justin Anderson\",\"Bobby Portis\",\"Rondae Hollis-Jefferson\",\"Nikola Jokic\",\"Tyus Jones\",\"Sasha Kaun\",\"Jarell Martin\",\"Boban Marjanovic\",\"Jordan Mickey\",\"Larry Nance Jr\",\"RJ Hunter\",\"Josh Huestis\",\"Chris McCullough\",\"Kevon Looney\",\"Richaun Holmes\",\"Joseph Young\",\"Rakeem Christmas\",\"Montrezl Harrell\",\"Walter Tavares\",\"Raul Neto\",\"Pierre Jackson\",\"Norman Powell\",\"Pat Connaughton\",\"Darrun Hilliard\",\"Treveon Graham\",\"Jonathon Simmons\",\"Duje Dukan\",\"Luis Montero\",\"Cliff Alexander\",\"TJ McConnell\",\"Josh Richardson\",\"Michael Frazier\",\"Anthony Brown\",\"Marcelo Huertas\",\"Branden Dawson\",\"Maurice Ndour\",\"Salah Mejri\",\"Cristiano Felicio\",\"Aaron Harrison\",\"Lamar Patterson\",\"Christian Wood\",\"Scottie Wilbekin\",\"Jordan McRae\",\"Xavier Munford\",\"Alan Williams\",\"Jonathan Holmes\",\"Alex Stepheson\",\"Keith Appling\",\"Bryce Dejean-Jones\",\"Axel Toupane\",\"Briante Weber\",\"Coty Clarke\",\"JJ O'Brien\",\"Thanasis Antetokounmpo\",\"John Holland\",\"Alex Abrines\",\"Ben Simmons\",\"Brandon Ingram\",\"Jaylen Brown\",\"Dragan Bender\",\"Kris Dunn\",\"Buddy Hield\",\"Jamal Murray\",\"Marquese Chriss\",\"Mindaugas Kuzminskas\",\"Tomas Satoransky\",\"Jakob Poeltl\",\"Thon Maker\",\"Malcolm Delaney\",\"Domantas Sabonis\",\"Dario Saric\",\"Taurean Prince\",\"Georgios Papagiannis\",\"Denzel Valentine\",\"Juan Hernangomez\",\"Wade Baldwin\",\"Henry Ellenson\",\"Malik Beasley\",\"Caris LeVert\",\"DeAndre Bembry\",\"Demetrius Jackson\",\"Malachi Richardson\",\"Willy Hernangomez\",\"Deyonta Davis\",\"Timothe Luwawu\",\"Brice Johnson\",\"Pascal Siakam\",\"Livio Jean-Charles\",\"Skal Labissiere\",\"Dejounte Murray\",\"Damian Jones\",\"Isaiah Whitehead\",\"Ivica Zubac\",\"Stephen Zimmerman\",\"Andrew Harrison\",\"Tyler Ulis\",\"Malcolm Brogdon\",\"Paul Zipser\",\"Jonathan Gibson\",\"Troy Williams\",\"Georges Niang\",\"Michael Gbinije\",\"AJ Hammons\",\"Joel Bolomboy\",\"Jake Layman\",\"Gary Payton II\",\"Danuel House\",\"Sheldon Mac\",\"Daniel Ochefu\",\"Fred VanVleet\",\"Bryn Forbes\",\"Davis Bertans\",\"Tim Quarterman\",\"Derrick Jones\",\"Semaj Christon\",\"Marshall Plumlee\",\"Ron Baker\",\"Cheick Diallo\",\"Rodney McGruder\",\"Diamond Stone\",\"Chinanu Onuaku\",\"Kyle Wiltjer\",\"Patrick McCaw\",\"Dorian Finney-Smith\",\"Nicolas Brussino\",\"Kay Felder\",\"Chasson Randle\",\"Yogi Ferrell\",\"Okaro White\",\"Isaiah Taylor\",\"Ben Bentil\",\"Nicolas Laprovittola\",\"Brandon Paul\",\"Shawn Long\",\"Mike Tobey\",\"Patricio Garino\",\"Jarrod Uthoff\",\"Marcus Paige\",\"Wayne Selden\",\"Isaiah Cousins\",\"JP Tokoto\",\"Stefan Jankovic\",\"Egidijus Mockevicius\",\"Quinn Cook\",\"Marcus Georges-Hunt\",\"Prince Ibeh\",\"Quincy Ford\",\"Ryan Arcidiacono\",\"Kaleb Tarczewski\",\"Keith Benson\",\"Alex Poythress\",\"David Nwaba\",\"Kyle Collinsworth\",\"Thomas Walkup\",\"James Webb\",\"Zach Auguste\",\"Brady Heslip\",\"EJ Singler\",\"Anthony Barber\",\"Alex Caruso\",\"Elgin Cook\",\"Scott Wood\",\"DJ Kennedy\",\"Damion Lee\",\"Matt Costello\",\"Beau Beech\",\"Nikola Jovanovic\",\"Nick Zeisloft\",\"Jalen Jones\",\"Bogdan Bogdanovic\",\"Markelle Fultz\",\"Lonzo Ball\",\"Milos Teodosic\",\"Jayson Tatum\",\"Josh Jackson\",\"De'Aaron Fox\",\"Jonathan Isaac\",\"Lauri Markkanen\",\"Frank Ntilikina\",\"Dennis Smith\",\"Zach Collins\",\"Malik Monk\",\"Luke Kennard\",\"Cedi Osman\",\"Donovan Mitchell\",\"Bam Adebayo\",\"Justin Jackson\",\"Justin Patton\",\"Guerschon Yabusele\",\"DJ Wilson\",\"TJ Leaf\",\"John Collins\",\"Harry Giles\",\"Terrance Ferguson\",\"Jarrett Allen\",\"OG Anunoby\",\"Ante Zizic\",\"Tyler Lydon\",\"Caleb Swanigan\",\"Furkan Korkmaz\",\"Kyle Kuzma\",\"Tony Bradley\",\"Derrick White\",\"Josh Hart\",\"Semi Ojeleye\",\"Frank Mason\",\"Abdel Nader\",\"Damyean Dotson\",\"Wesley Iwundu\",\"Ivan Rabb\",\"Rade Zagorac\",\"Ike Anigbogu\",\"Royce O'Neale\",\"Alfonzo McKinnie\",\"Davon Reed\",\"Khem Birch\",\"Dakari Johnson\",\"Frank Jackson\",\"Sterling Brown\",\"Dillon Brooks\",\"Thomas Bryant\",\"Sindarius Thornwell\",\"Jawun Evans\",\"Zhou Qi\",\"Jordan Bell\",\"Maxi Kleber\",\"Dwayne Bacon\",\"Daniel Theis\",\"Tyler Dorsey\",\"Antonius Cleveland\",\"Cameron Oliver\",\"Shaquille Harrison\",\"Jaylen Morris\",\"Nigel Hayes\",\"Omari Johnson\",\"Naz Long\",\"Rodney Purvis\",\"Milton Doyle\",\"Josh Gray\",\"Walter Lemon Jr\",\"Jaylen Johnson\",\"CJ Fair\",\"Devin Robinson\",\"Michael Young\",\"Erik McCree\",\"Eric Griffin\",\"Malcolm Miller\",\"Alec Peters\",\"Jacob Pullen\",\"Jamel Artis\",\"PJ Dozier\",\"Daniel Hamilton\",\"Isaiah Hicks\",\"Luke Kornet\",\"Charles Cooke\",\"Amile Jefferson\",\"Derrick Walton\",\"Matt Williams\",\"Myke Henry\",\"Vince Hunter\",\"Kobi Simmons\",\"Tyrone Wallace\",\"CJ Williams\",\"Jamil Wilson\",\"Ben Moore\",\"Edmond Sumner\",\"Chris Boucher\",\"Reggie Hearn\",\"Monte Morris\",\"Torrey Craig\",\"Gian Clavell\",\"Johnathan Motley\",\"London Perrantes\",\"Antonio Blakeney\",\"Mangok Mathiang\",\"Jacob Wiley\",\"Yakuba Ouattara\",\"Jabari Bird\",\"Kadeem Allen\",\"Andrew White\",\"Tyler Cavanaugh\",\"Josh Magette\",\"Xavier Silas\",\"Bronson Koenig\",\"VJ Beachem\",\"Landry Nnoko\",\"Andre Ingram\",\"Trey McKinney-Jones\",\"Aaron Jackson\",\"Jameel Warney\",\"Marcus Thornton II\",\"Deandre Ayton\",\"Marvin Bagley\",\"Luka Doncic\",\"Jaren Jackson Jr\",\"Trae Young\",\"Mo Bamba\",\"Wendell Carter\",\"Collin Sexton\",\"Kevin Knox\",\"Mikal Bridges\",\"Allonzo Trier\",\"Shai Gilgeous-Alexander\",\"Miles Bridges\",\"Jerome Robinson\",\"Michael Porter\",\"Troy Brown\",\"Zhaire Smith\",\"Donte DiVincenzo\",\"Lonnie Walker\",\"Kevin Huerter\",\"Josh Okogie\",\"Grayson Allen\",\"Chandler Hutchison\",\"Aaron Holiday\",\"Anfernee Simons\",\"Moritz Wagner\",\"Landry Shamet\",\"Jonah Bolden\",\"Rodions Kurucs\",\"Robert Williams\",\"Jacob Evans\",\"Dzanan Musa\",\"Omari Spellman\",\"Sviatoslav Mykhailiuk\",\"Mitchell Robinson\",\"Elie Okobo\",\"Jalen Brunson\",\"Melvin Frazier\",\"Raymond Spalding\",\"Isaac Bonga\",\"Devonte Graham\",\"De'Anthony Melton\",\"Chimezie Metu\",\"Gary Trent Jr\",\"Isaiah Briscoe\",\"Hamidou Diallo\",\"Kenrich Williams\",\"Keita Bates-Diop\",\"Jevon Carter\",\"Alize Johnson\",\"Isaiah Hartenstein\",\"Khyri Thomas\",\"Bruce Brown\",\"Jarred Vanderbilt\",\"Ryan Broekhoff\",\"Brad Wanamaker\",\"Gary Clark\",\"Deonte Burton\",\"Yante Maten\",\"Jaylen Adams\",\"Dairis Bertans\",\"BJ Johnson\",\"Chris Chiozza\",\"Johnathan Williams\",\"Cam Reynolds\",\"Emanuel Terry\",\"Justin Bibbs\",\"Jordan Loyd\",\"Drew Eubanks\",\"George King\",\"Haywood Highsmith\",\"Shake Milton\",\"Troy Caupain\",\"Donte Grantham\",\"Tyler Davis\",\"Trevon Bluiett\",\"Jared Terrell\",\"Bonzie Colson\",\"Duncan Robinson\",\"Julian Washburn\",\"Yuta Watanabe\",\"Angel Delgado\",\"Trevon Duval\",\"Vincent Edwards\",\"Marcus Derrickson\",\"Zach Lofton\",\"Keenan Evans\",\"DeVaughn Akoon-Purcell\",\"Thomas Welsh\",\"Daryl Macon\",\"Kostas Antetokounmpo\",\"Deng Adel\",\"Jaron Blossomgame\",\"Billy Preston\",\"Brandon Sampson\",\"Rawle Alkins\",\"Joe Chealey\",\"JP Macura\",\"Theo Pinson\",\"Wenyen Gabriel\",\"Billy Garrett\",\"Mitch Creek\",\"Brandon Goodwin\",\"Jemerrio Jones\",\"Tarik Phillip\",\"Cody Demps\",\"Richard Solomon\",\"Kendrick Nunn\",\"Dusty Hannahs\",\"Stephan Hicks\",\"Tahjere McCall\",\"Mitchell Creek\",\"Isaac Humphries\",\"Jordan Sibert\",\"Zion Williamson\",\"Ja Morant\",\"RJ Barrett\",\"De'Andre Hunter\",\"Darius Garland\",\"Jarrett Culver\",\"Coby White\",\"Jaxson Hayes\",\"Rui Hachimura\",\"Cam Reddish\",\"Nicolo Melli\",\"Cameron Johnson\",\"PJ Washington\",\"Tyler Herro\",\"Romeo Langford\",\"Sekou Doumbouya\",\"Nickeil Alexander-Walker\",\"Goga Bitadze\",\"Luka Samanic\",\"Marko Guduric\",\"Matisse Thybulle\",\"Vincent Poirier\",\"Brandon Clarke\",\"Grant Williams\",\"Darius Bazley\",\"Ty Jerome\",\"Nassir Little\",\"Dylan Windler\",\"Mfiondu Kabengele\",\"Jordan Poole\",\"Keldon Johnson\",\"Nigel Williams-Goss\",\"Isaiah Roby\",\"Jaylen Nowell\",\"Bruno Fernando\",\"Kevin Porter\",\"Carsen Edwards\",\"Cody Martin\",\"Admiral Schofield\",\"Terance Mann\",\"Miye Oni\",\"Dewan Hernandez\",\"Terence Davis\",\"Matt Thomas\",\"Justin James\",\"DaQuan Jeffries\",\"Jalen Lecque\",\"Ignas Brazdeikis\",\"Naz Reid\",\"KZ Okpala\",\"Talen Horton-Tucker\",\"Eric Paschall\",\"Alen Smailagic\",\"Vlatko Cancar\",\"Daniel Gafford\",\"Caleb Martin\",\"Jalen McDaniels\",\"Nicolas Claxton\",\"Javonte Green\",\"Juwan Morgan\",\"Rayjon Tucker\",\"Chris Clemons\",\"Anzejs Pasecniks\",\"Chris Silva\",\"Dean Wade\",\"Norvel Pelle\",\"Juan Toscano-Anderson\",\"Ky Bowman\",\"Jontay Porter\",\"Mychal Mulder\",\"Luguentz Dort\",\"Oshae Brissett\",\"Donta Hall\",\"Garrison Mathews\",\"Justin Wright-Foreman\",\"Jarrell Brantley\",\"Paul Watson\",\"Quinndary Weatherspoon\",\"Kyle Guy\",\"Jaylen Hoard\",\"Moses Brown\",\"Tariq Owens\",\"Marial Shayok\",\"Vic Law\",\"Kevin Hervey\",\"Jared Harper\",\"Kenny Wooten\",\"Zylan Cheatham\",\"Jordan McLaughlin\",\"Kelan Martin\",\"Gabe Vincent\",\"Kyle Alexander\",\"John Konchar\",\"Devontae Cacok\",\"Amir Coffey\",\"Brian Bowen\",\"William Howard\",\"Louis King\",\"Jordan Bone\",\"Tyler Cook\",\"Bol Bol\",\"Josh Reaves\",\"Matt Mooney\",\"Adam Mokoka\",\"Max Strus\",\"Jeremiah Martin\",\"Tremont Waters\",\"Tacko Fall\",\"Charlie Brown\",\"Malik Newman\",\"Anthony Edwards\",\"James Wiseman\",\"LaMelo Ball\",\"Patrick Williams\",\"Isaac Okoro\",\"Onyeka Okongwu\",\"Killian Hayes\",\"Obi Toppin\",\"Deni Avdija\",\"Jalen Smith\",\"Devin Vassell\",\"Gabriel Deck\",\"Tyrese Haliburton\",\"Kira Lewis\",\"Luca Vildoza\",\"Aaron Nesmith\",\"Cole Anthony\",\"Facundo Campazzo\",\"Chuma Okeke\",\"Isaiah Stewart\",\"Aleksej Pokusevski\",\"Josh Green\",\"Saddiq Bey\",\"Precious Achiuwa\",\"Tyrese Maxey\",\"Zeke Nnaji\",\"RJ Hampton\",\"Immanuel Quickley\",\"Payton Pritchard\",\"Theo Maledon\",\"Udoka Azubuike\",\"Jaden McDaniels\",\"Malachi Flynn\",\"Desmond Bane\",\"Robert Woodard\",\"Jae'Sean Tate\",\"Vernon Carey\",\"Xavier Tillman\",\"Tyrell Terry\",\"Jahmi'us Ramsey\",\"Lamar Stevens\",\"Nick Richards\",\"Anthony Gill\",\"Elijah Hughes\",\"Tre Jones\",\"CJ Elleby\",\"Isaiah Joe\",\"Sam Merrill\",\"Jordan Nwora\",\"Daniel Oturu\",\"KJ Martin\",\"Deividas Sirvydis\",\"Paul Reed\",\"Naji Marshall\",\"Markus Howard\",\"Skylar Mays\",\"Mamadi Diakite\",\"Nathan Knight\",\"Saben Lee\",\"Reggie Perry\",\"Trent Forrest\",\"Cassius Stanley\",\"Cassius Winston\",\"Jalen Harris\",\"Keljin Blevins\",\"Ty-Shon Alexander\",\"Josh Hall\",\"Sean McDermott\",\"Killian Tillie\",\"Jay Scrubb\",\"Nico Mannion\",\"Nate Hinton\",\"Tyler Bey\",\"Marques Bolden\",\"Devon Dotson\",\"Nate Darling\",\"Grant Riller\",\"Mason Jones\",\"Brodric Thomas\",\"Freddie Gillespie\",\"Karim Mane\",\"Will Magnay\",\"Greg Whittington\",\"Anthony Lamb\",\"Justin Robinson\",\"Ashton Hagans\",\"Armoni Brooks\",\"Didi Louzada\",\"Amida Brimah\",\"Dakota Mathias\",\"Malik Fitts\",\"Tyler Hall\",\"Elijah Bryant\",\"Caleb Homesley\",\"Cade Cunningham\",\"Jalen Green\",\"Evan Mobley\",\"Scottie Barnes\",\"Jalen Suggs\",\"Josh Giddey\",\"Jonathan Kuminga\",\"Franz Wagner\",\"Davion Mitchell\",\"Ziaire Williams\",\"James Bouknight\",\"Josh Primo\",\"Chris Duarte\",\"Moses Moody\",\"Corey Kispert\",\"Alperen Sengun\",\"Trey Murphy\",\"Tre Mann\",\"Kai Jones\",\"Jalen Johnson\",\"Keon Johnson\",\"Isaiah Jackson\",\"Leandro Bolmaro\",\"Usman Garuba\",\"Josh Christopher\",\"Quentin Grimes\",\"Bones Hyland\",\"Cam Thomas\",\"Jaden Springer\",\"Day'Ron Sharpe\",\"Jeremiah Robinson-Earl\",\"Santiago Aldama\",\"Jose Alvarado\",\"Herb Jones\",\"Kevin Pangos\",\"Isaiah Todd\",\"Omer Yurtseven\",\"Duane Washington Jr\",\"Aaron Wiggins\",\"JT Thor\",\"Jason Preston\",\"Isaiah Livers\",\"Jared Butler\",\"Dalano Banton\",\"Jock Landale\",\"Greg Brown\",\"Charles Bassey\",\"Vit Krejci\",\"Miles McBride\",\"Austin Reaves\",\"BJ Boston\",\"Luka Garza\",\"Marko Simonovic\",\"Ayo Dosunmu\",\"Daishen Nix\",\"Terry Taylor\",\"Trendon Watford\",\"Ishmail Wainright\",\"Sam Hauser\",\"Joe Wieskamp\",\"Keifer Sykes\",\"Georgios Kalaitzakis\",\"RJ Nembhard\",\"Kessler Edwards\",\"Joel Ayayi\",\"Justin Champagnie\",\"David Johnson\",\"Neemias Queta\",\"Jericho Sims\",\"McKinley Wright\",\"Sandro Mamukelashvili\",\"Yves Pons\",\"Sean Chris Smith\",\"Jamorko Pickett\",\"Arnoldas Kulboka\",\"Scottie Lewis\",\"David Duke\",\"Sharife Cooper\",\"Malcolm Hill\",\"Jeff Dowtin\",\"Trevelin Queen\",\"Myles Powell\",\"Eugene Omoruyi\",\"Ja'Vonte Smart\",\"Marcus Garrett\",\"Lindell Wigginton\",\"Jay Huff\",\"Olivier Sarr\",\"Aaron Henry\",\"JaQuori McLaughlin\",\"Petr Cornelie\",\"Xavier Moon\",\"Devin Cannady\",\"Brandon Williams\",\"DeJon Jarreau\",\"Moses Wright\",\"Daulton Hommes\",\"Lindy Waters III\",\"Chaundee Brown\",\"Xavier Sneed\",\"Braxton Key\",\"Feron Hunt\",\"Mac McClung\",\"Matt Ryan\",\"Paris Bass\",\"Hassani Gravett\",\"Carlik Jones\",\"DJ Stewart\",\"Gabriel Lundberg\",\"Jaime Echenique\",\"Craig Sword\",\"Jordan Goodwin\",\"Jordan Schakel\",\"Ade Murkey\",\"Jarron Cumberland\",\"Cameron McGriff\",\"MJ Walker\",\"Aleem Ford\",\"Rob Edwards\",\"Javin DeLaurier\",\"Aric Holman\",\"Jon Teske\",\"Shaq Buchanan\",\"Ahmad Caver\",\"Jaysean Paige\",\"Micah Potter\",\"Trayvon Palmer\",\"Tre Scott\",\"Justin Tillman\",\"Malik Ellison\",\"Zavier Simpson\",\"Paolo Banchero\",\"Chet Holmgren\",\"Jabari Smith\",\"Keegan Murray\",\"Jaden Ivey\",\"Bennedict Mathurin\",\"Shaedon Sharpe\",\"Dyson Daniels\",\"Jeremy Sochan\",\"Johnny Davis\",\"Ousmane Dieng\",\"Jalen Williams\",\"Jalen Duren\",\"Ochai Agbaji\",\"Mark Williams\",\"AJ Griffin\",\"Tari Eason\",\"Simone Fontecchio\",\"Dalen Terry\",\"Jake LaRavia\",\"Malaki Branham\",\"Christian Braun\",\"Walker Kessler\",\"David Roddy\",\"MarJon Beauchamp\",\"Blake Wesley\",\"Wendell Moore\",\"Andrew Nembhard\",\"Nikola Jovic\",\"Patrick Baldwin\",\"TyTy Washington\",\"Peyton Watson\",\"Caleb Houstan\",\"Jaylin Williams\",\"Kenneth Lofton\",\"Christian Koloko\",\"Bryce McGowens\",\"Kennedy Chandler\",\"Jabari Walker\",\"Josh Minott\",\"Max Christie\",\"Ryan Rollins\",\"Jaden Hardy\",\"Tyrese Martin\",\"Trevor Keels\",\"Dereon Seabron\",\"Johnny Juzang\",\"Ron Harper Jr\",\"Julian Champagnie\",\"Dominick Barlow\",\"Keon Ellis\",\"Kevon Harris\",\"EJ Liddell\",\"AJ Green\",\"Jamal Cain\",\"Vince Williams Jr\",\"Cole Swider\",\"Scottie Pippen Jr\",\"Moussa Diabate\",\"Kendall Brown\",\"Trevor Hudgins\",\"Darius Days\",\"Buddy Boeheim\",\"Collin Gillespie\",\"Jack White\",\"Isaiah Mobley\",\"JD Davison\",\"John Butler\",\"Chima Moneke\",\"Orlando Robinson\",\"Dru Smith\",\"AJ Lawson\",\"Jared Rhoden\",\"Alondes Williams\",\"Donovan Williams\",\"Quenton Jackson\",\"Jordan Hall\",\"Xavier Cooks\",\"Keaton Wallace\",\"Lester Quinones\",\"Jamaree Bouyea\",\"Michael Foster\",\"Justin Lewis\",\"Stanley Umude\",\"Jeenathan Williams\",\"DJ Steward\",\"Justin Minaya\",\"Gabe York\",\"Ibou Badji\",\"Jacob Gilyard\",\"RaiQuan Gray\",\"Victor Wembanyama\",\"Brandon Miller\",\"Scoot Henderson\",\"Amen Thompson\",\"Ausar Thompson\",\"Vasilije Micic\",\"Anthony Black\",\"Bilal Coulibaly\",\"Sasha Vezenkov\",\"Jarace Walker\",\"Taylor Hendricks\",\"Cason Wallace\",\"Jett Howard\",\"Dereck Lively\",\"Gradey Dick\",\"Jordan Hawkins\",\"Kobe Bufkin\",\"Keyonte George\",\"Jalen Hood-Schifino\",\"Jaime Jaquez\",\"Brandin Podziemski\",\"Cameron Whitmore\",\"Noah Clowney\",\"Dariq Whitehead\",\"Kris Murray\",\"Olivier-Maxence Prosper\",\"Marcus Sasser\",\"Ben Sheppard\",\"Nick Smith\",\"Brice Sensabaugh\",\"Julian Strawther\",\"Kobe Brown\",\"Colby Jones\",\"Leonard Miller\",\"Jalen Pickett\",\"Julian Phillips\",\"Mouhamed Gueye\",\"Jordan Walsh\",\"Hunter Tyson\",\"Trayce Jackson-Davis\",\"Maxwell Lewis\",\"Andre Jackson Jr\",\"Chris Livingston\",\"Filip Petrusev\",\"Sidy Cissoko\",\"Souley Boum\",\"Armaan Franklin\",\"Andrew Funk\",\"Tosan Evbuomwan\",\"Matthew Mayer\",\"Joshua Obiesie\",\"Jazian Gortman\",\"Obadiah Noel\",\"Dmytro Skapintsev\",\"Jacob Toppin\",\"Toumani Camara\",\"Rayan Rupert\",\"Mouhamadou Gueye\",\"Kevin Obanor\",\"Leaky Black\",\"Craig Porter\",\"Alex Fudge\",\"Omari Moore\",\"Jaylen Clark\",\"Jaylen Martin\",\"Seth Lundy\",\"Miles Norris\",\"Jalen Wilson\",\"Amari Bailey\",\"Onuralp Bitim\",\"Adama Sanogo\",\"Emoni Bates\",\"Mike Miles\",\"Malcolm Cazalon\",\"Jermaine Samuels\",\"Oscar Tshiebwe\",\"Isaiah Wong\",\"Jordan Miller\",\"Colin Castleton\",\"D'Moi Hodge\",\"Keyontae Johnson\",\"Ricky Council\",\"Terquavion Smith\",\"Azuolas Tubelis\",\"Jalen Slawson\",\"Sir'Jabari Rice\",\"Javon Freedom-Liberty\",\"Markquis Nowell\",\"Joey Hauser\"]},\"selected\":{\"id\":\"1036\"},\"selection_policy\":{\"id\":\"1061\"}},\"id\":\"1035\",\"type\":\"ColumnDataSource\"},{\"attributes\":{\"axis\":{\"id\":\"1018\"},\"coordinates\":null,\"dimension\":1,\"grid_line_color\":null,\"group\":null,\"ticker\":null},\"id\":\"1021\",\"type\":\"Grid\"},{\"attributes\":{\"line_color\":\"#30a2da\",\"line_width\":2,\"tags\":[\"apply_ranges\"],\"x\":{\"field\":\"player_name\"},\"y\":{\"field\":\"Unnamed: 0\"}},\"id\":\"1038\",\"type\":\"Line\"},{\"attributes\":{\"line_alpha\":0.1,\"line_color\":\"#30a2da\",\"line_width\":2,\"tags\":[\"apply_ranges\"],\"x\":{\"field\":\"player_name\"},\"y\":{\"field\":\"Unnamed: 0\"}},\"id\":\"1039\",\"type\":\"Line\"},{\"attributes\":{},\"id\":\"1046\",\"type\":\"AllLabels\"},{\"attributes\":{},\"id\":\"1048\",\"type\":\"BasicTickFormatter\"},{\"attributes\":{\"active_drag\":{\"id\":\"1023\"},\"active_scroll\":{\"id\":\"1024\"},\"tools\":[{\"id\":\"1005\"},{\"id\":\"1022\"},{\"id\":\"1023\"},{\"id\":\"1024\"},{\"id\":\"1025\"},{\"id\":\"1026\"}]},\"id\":\"1028\",\"type\":\"Toolbar\"},{\"attributes\":{},\"id\":\"1011\",\"type\":\"CategoricalScale\"}],\"root_ids\":[\"1002\"]},\"title\":\"Bokeh Application\",\"version\":\"2.4.3\"}};\n",
       "    var render_items = [{\"docid\":\"5f95180a-246e-4b41-a5f7-ad8093e99cf8\",\"root_ids\":[\"1002\"],\"roots\":{\"1002\":\"a130dc2b-f34b-4b1c-a0b5-5070240df331\"}}];\n",
       "    root.Bokeh.embed.embed_items_notebook(docs_json, render_items);\n",
       "    for (const render_item of render_items) {\n",
       "      for (const root_id of render_item.root_ids) {\n",
       "\tconst id_el = document.getElementById(root_id)\n",
       "\tif (id_el.children.length && (id_el.children[0].className === 'bk-root')) {\n",
       "\t  const root_el = id_el.children[0]\n",
       "\t  root_el.id = root_el.id + '-rendered'\n",
       "\t}\n",
       "      }\n",
       "    }\n",
       "  }\n",
       "  if (root.Bokeh !== undefined && root.Bokeh.Panel !== undefined) {\n",
       "    embed_document(root);\n",
       "  } else {\n",
       "    var attempts = 0;\n",
       "    var timer = setInterval(function(root) {\n",
       "      if (root.Bokeh !== undefined && root.Bokeh.Panel !== undefined) {\n",
       "        clearInterval(timer);\n",
       "        embed_document(root);\n",
       "      } else if (document.readyState == \"complete\") {\n",
       "        attempts++;\n",
       "        if (attempts > 200) {\n",
       "          clearInterval(timer);\n",
       "          console.log(\"Bokeh: ERROR: Unable to run BokehJS code because BokehJS library is missing\");\n",
       "        }\n",
       "      }\n",
       "    }, 25, root)\n",
       "  }\n",
       "})(window);</script>"
      ],
      "text/plain": [
       ":Curve   [player_name]   (Unnamed: 0)"
      ]
     },
     "execution_count": 4,
     "metadata": {
      "application/vnd.holoviews_exec.v0+json": {
       "id": "1002"
      }
     },
     "output_type": "execute_result"
    }
   ],
   "source": [
    "# Plot your data to see what's in your DataFrame\n",
    "df_player_data.hvplot.line(\n",
    "    width=800,\n",
    "    height=400,\n",
    "    rot=90\n",
    ")"
   ]
  },
  {
   "cell_type": "code",
   "execution_count": null,
   "metadata": {},
   "outputs": [],
   "source": []
  },
  {
   "cell_type": "markdown",
   "metadata": {},
   "source": [
    "---"
   ]
  },
  {
   "cell_type": "markdown",
   "metadata": {},
   "source": [
    "### Prepare the Data"
   ]
  },
  {
   "cell_type": "code",
   "execution_count": 5,
   "metadata": {},
   "outputs": [],
   "source": [
    "df_player_data_scaled = StandardScaler().fit_transform(df_player_data[[\n",
    "    'PLAYER_ID',\n",
    "    'SEASON_ID',\n",
    "    'LEAGUE_ID',\n",
    "    'TEAM_ID',\n",
    "    'TEAM_ABBREVIATION',\n",
    "    'PLAYER_AGE',\n",
    "    'GP',\n",
    "    'GS',\n",
    "    'MIN',\n",
    "    'FGM',\n",
    "    'FGA',\n",
    "    'FG_PCT',\n",
    "    'FG3M',\n",
    "    'FG3A',\n",
    "    'FG3_PCT',\n",
    "    'FTM',\n",
    "    'FTA',\n",
    "    'FT_PCT',\n",
    "    'OREB',\n",
    "    'DREB',\n",
    "    'REB',\n",
    "    'AST',\n",
    "    'STL',\n",
    "    'BLK',\n",
    "    'TOV',\n",
    "    'PF',\n",
    "    'PTS',\n",
    "    'Player_Name',\n",
    "    'Salary']])"
   ]
  },
  {
   "cell_type": "code",
   "execution_count": 6,
   "metadata": {},
   "outputs": [
    {
     "name": "stdout",
     "output_type": "stream",
     "text": [
      "                 0304_salary_adjusted  0405_salary_adjusted  \\\n",
      "player_name                                                   \n",
      "LeBron James                 6.157458              4.529054   \n",
      "LeBron James                 6.157458              4.529054   \n",
      "Tyson Chandler               5.818743              5.061014   \n",
      "Tyson Chandler               5.818743              5.061014   \n",
      "Carmelo Anthony              4.910768              3.589603   \n",
      "\n",
      "                 0506_salary_adjusted  0607_salary_adjusted  \\\n",
      "player_name                                                   \n",
      "LeBron James                 3.119569              3.485302   \n",
      "LeBron James                 3.119569              3.485302   \n",
      "Tyson Chandler               6.349632              5.672958   \n",
      "Tyson Chandler               6.349632              5.672958   \n",
      "Carmelo Anthony              2.449565              2.738469   \n",
      "\n",
      "                 0708_salary_adjusted  0809_salary_adjusted  \\\n",
      "player_name                                                   \n",
      "LeBron James                 5.041307              4.119668   \n",
      "LeBron James                 5.041307              4.119668   \n",
      "Tyson Chandler               3.879469              3.143223   \n",
      "Tyson Chandler               3.879469              3.143223   \n",
      "Carmelo Anthony              5.041307              4.119668   \n",
      "\n",
      "                 0910_salary_adjusted  1011_salary_adjusted  \\\n",
      "player_name                                                   \n",
      "LeBron James                 3.861192              2.969470   \n",
      "LeBron James                 3.861192              2.969470   \n",
      "Tyson Chandler               2.761520              2.495044   \n",
      "Tyson Chandler               2.761520              2.495044   \n",
      "Carmelo Anthony              3.861192              3.630980   \n",
      "\n",
      "                 1112_salary_adjusted  2425_salary_predicted  ...       FT%  \\\n",
      "player_name                                                   ...             \n",
      "LeBron James                 2.581450               3.474116  ... -0.040462   \n",
      "LeBron James                 2.581450               3.474116  ... -0.174660   \n",
      "Tyson Chandler               1.977651              -0.405676  ... -0.040462   \n",
      "Tyson Chandler               1.977651              -0.405676  ... -0.107561   \n",
      "Carmelo Anthony              3.098535              -0.405676  ...  0.697629   \n",
      "\n",
      "                     OREB      DREB       REB       AST       TOV       STL  \\\n",
      "player_name                                                                   \n",
      "LeBron James     0.436436  1.253067  1.049353  2.094254  2.059274  1.230996   \n",
      "LeBron James    -0.390845  0.709092  0.388709  2.075900  2.384543  1.365357   \n",
      "Tyson Chandler   1.746298  1.448653  1.612453 -0.854481 -0.217604 -0.596323   \n",
      "Tyson Chandler   2.959644  1.962067  2.375076 -0.536360  0.022812 -0.435089   \n",
      "Carmelo Anthony  0.905229  1.393644  1.302083  0.430238  1.338027  0.989145   \n",
      "\n",
      "                      BLK        PF       +/-  \n",
      "player_name                                    \n",
      "LeBron James     0.216625  0.083156  2.444314  \n",
      "LeBron James     0.216625 -0.041617  2.105269  \n",
      "Tyson Chandler   0.933558  1.596039  1.022089  \n",
      "Tyson Chandler   1.187953  0.488671  0.735883  \n",
      "Carmelo Anthony  0.262879  1.346491  0.181083  \n",
      "\n",
      "[5 rows x 39 columns]\n"
     ]
    }
   ],
   "source": [
    "from sklearn.preprocessing import StandardScaler\n",
    "import pandas as pd\n",
    "\n",
    "# Assuming df_player_data is your original DataFrame\n",
    "\n",
    "columns_to_scale = [\n",
    "    'PLAYER_ID',\n",
    "    'SEASON_ID',\n",
    "    'LEAGUE_ID',\n",
    "    'TEAM_ID',\n",
    "    'TEAM_ABBREVIATION',\n",
    "    'PLAYER_AGE',\n",
    "    'GP',\n",
    "    'GS',\n",
    "    'MIN',\n",
    "    'FGM',\n",
    "    'FGA',\n",
    "    'FG_PCT',\n",
    "    'FG3M',\n",
    "    'FG3A',\n",
    "    'FG3_PCT',\n",
    "    'FTM',\n",
    "    'FTA',\n",
    "    'FT_PCT',\n",
    "    'OREB',\n",
    "    'DREB',\n",
    "    'REB',\n",
    "    'AST',\n",
    "    'STL',\n",
    "    'BLK',\n",
    "    'TOV',\n",
    "    'PF',\n",
    "    'PTS',\n",
    "    'Player_Name',\n",
    "    'Salary'\n",
    "]\n",
    "\n",
    "# Scale the selected columns\n",
    "scaler = StandardScaler()\n",
    "df_player_data_scaled = scaler.fit_transform(df_player_data[columns_to_scale])\n",
    "\n",
    "# Create a DataFrame with the scaled data\n",
    "df_player_data_scaled = pd.DataFrame(df_player_data_scaled, columns=columns_to_scale)\n",
    "\n",
    "# Copy the player names from the original data\n",
    "df_player_data_scaled['Player_Name'] = df_player_data.index\n",
    "\n",
    "# Set the player names column as index\n",
    "df_player_data_scaled = df_player_data_scaled.set_index('Player_Name')\n",
    "\n",
    "# Display sample data\n",
    "print(df_player_data_scaled.head())\n"
   ]
  },
  {
   "cell_type": "code",
   "execution_count": 7,
   "metadata": {},
   "outputs": [
    {
     "data": {
      "text/html": [
       "<div>\n",
       "<style scoped>\n",
       "    .dataframe tbody tr th:only-of-type {\n",
       "        vertical-align: middle;\n",
       "    }\n",
       "\n",
       "    .dataframe tbody tr th {\n",
       "        vertical-align: top;\n",
       "    }\n",
       "\n",
       "    .dataframe thead th {\n",
       "        text-align: right;\n",
       "    }\n",
       "</style>\n",
       "<table border=\"1\" class=\"dataframe\">\n",
       "  <thead>\n",
       "    <tr style=\"text-align: right;\">\n",
       "      <th></th>\n",
       "      <th>0304_salary_adjusted</th>\n",
       "      <th>0405_salary_adjusted</th>\n",
       "      <th>0506_salary_adjusted</th>\n",
       "      <th>0607_salary_adjusted</th>\n",
       "      <th>0708_salary_adjusted</th>\n",
       "      <th>0809_salary_adjusted</th>\n",
       "      <th>0910_salary_adjusted</th>\n",
       "      <th>1011_salary_adjusted</th>\n",
       "      <th>1112_salary_adjusted</th>\n",
       "      <th>2425_salary_predicted</th>\n",
       "      <th>...</th>\n",
       "      <th>FT%</th>\n",
       "      <th>OREB</th>\n",
       "      <th>DREB</th>\n",
       "      <th>REB</th>\n",
       "      <th>AST</th>\n",
       "      <th>TOV</th>\n",
       "      <th>STL</th>\n",
       "      <th>BLK</th>\n",
       "      <th>PF</th>\n",
       "      <th>+/-</th>\n",
       "    </tr>\n",
       "    <tr>\n",
       "      <th>player_name</th>\n",
       "      <th></th>\n",
       "      <th></th>\n",
       "      <th></th>\n",
       "      <th></th>\n",
       "      <th></th>\n",
       "      <th></th>\n",
       "      <th></th>\n",
       "      <th></th>\n",
       "      <th></th>\n",
       "      <th></th>\n",
       "      <th></th>\n",
       "      <th></th>\n",
       "      <th></th>\n",
       "      <th></th>\n",
       "      <th></th>\n",
       "      <th></th>\n",
       "      <th></th>\n",
       "      <th></th>\n",
       "      <th></th>\n",
       "      <th></th>\n",
       "      <th></th>\n",
       "    </tr>\n",
       "  </thead>\n",
       "  <tbody>\n",
       "    <tr>\n",
       "      <th>LeBron James</th>\n",
       "      <td>6.157458</td>\n",
       "      <td>4.529054</td>\n",
       "      <td>3.119569</td>\n",
       "      <td>3.485302</td>\n",
       "      <td>5.041307</td>\n",
       "      <td>4.119668</td>\n",
       "      <td>3.861192</td>\n",
       "      <td>2.969470</td>\n",
       "      <td>2.581450</td>\n",
       "      <td>3.474116</td>\n",
       "      <td>...</td>\n",
       "      <td>-0.040462</td>\n",
       "      <td>0.436436</td>\n",
       "      <td>1.253067</td>\n",
       "      <td>1.049353</td>\n",
       "      <td>2.094254</td>\n",
       "      <td>2.059274</td>\n",
       "      <td>1.230996</td>\n",
       "      <td>0.216625</td>\n",
       "      <td>0.083156</td>\n",
       "      <td>2.444314</td>\n",
       "    </tr>\n",
       "    <tr>\n",
       "      <th>LeBron James</th>\n",
       "      <td>6.157458</td>\n",
       "      <td>4.529054</td>\n",
       "      <td>3.119569</td>\n",
       "      <td>3.485302</td>\n",
       "      <td>5.041307</td>\n",
       "      <td>4.119668</td>\n",
       "      <td>3.861192</td>\n",
       "      <td>2.969470</td>\n",
       "      <td>2.581450</td>\n",
       "      <td>3.474116</td>\n",
       "      <td>...</td>\n",
       "      <td>-0.174660</td>\n",
       "      <td>-0.390845</td>\n",
       "      <td>0.709092</td>\n",
       "      <td>0.388709</td>\n",
       "      <td>2.075900</td>\n",
       "      <td>2.384543</td>\n",
       "      <td>1.365357</td>\n",
       "      <td>0.216625</td>\n",
       "      <td>-0.041617</td>\n",
       "      <td>2.105269</td>\n",
       "    </tr>\n",
       "    <tr>\n",
       "      <th>Tyson Chandler</th>\n",
       "      <td>5.818743</td>\n",
       "      <td>5.061014</td>\n",
       "      <td>6.349632</td>\n",
       "      <td>5.672958</td>\n",
       "      <td>3.879469</td>\n",
       "      <td>3.143223</td>\n",
       "      <td>2.761520</td>\n",
       "      <td>2.495044</td>\n",
       "      <td>1.977651</td>\n",
       "      <td>-0.405676</td>\n",
       "      <td>...</td>\n",
       "      <td>-0.040462</td>\n",
       "      <td>1.746298</td>\n",
       "      <td>1.448653</td>\n",
       "      <td>1.612453</td>\n",
       "      <td>-0.854481</td>\n",
       "      <td>-0.217604</td>\n",
       "      <td>-0.596323</td>\n",
       "      <td>0.933558</td>\n",
       "      <td>1.596039</td>\n",
       "      <td>1.022089</td>\n",
       "    </tr>\n",
       "    <tr>\n",
       "      <th>Tyson Chandler</th>\n",
       "      <td>5.818743</td>\n",
       "      <td>5.061014</td>\n",
       "      <td>6.349632</td>\n",
       "      <td>5.672958</td>\n",
       "      <td>3.879469</td>\n",
       "      <td>3.143223</td>\n",
       "      <td>2.761520</td>\n",
       "      <td>2.495044</td>\n",
       "      <td>1.977651</td>\n",
       "      <td>-0.405676</td>\n",
       "      <td>...</td>\n",
       "      <td>-0.107561</td>\n",
       "      <td>2.959644</td>\n",
       "      <td>1.962067</td>\n",
       "      <td>2.375076</td>\n",
       "      <td>-0.536360</td>\n",
       "      <td>0.022812</td>\n",
       "      <td>-0.435089</td>\n",
       "      <td>1.187953</td>\n",
       "      <td>0.488671</td>\n",
       "      <td>0.735883</td>\n",
       "    </tr>\n",
       "    <tr>\n",
       "      <th>Carmelo Anthony</th>\n",
       "      <td>4.910768</td>\n",
       "      <td>3.589603</td>\n",
       "      <td>2.449565</td>\n",
       "      <td>2.738469</td>\n",
       "      <td>5.041307</td>\n",
       "      <td>4.119668</td>\n",
       "      <td>3.861192</td>\n",
       "      <td>3.630980</td>\n",
       "      <td>3.098535</td>\n",
       "      <td>-0.405676</td>\n",
       "      <td>...</td>\n",
       "      <td>0.697629</td>\n",
       "      <td>0.905229</td>\n",
       "      <td>1.393644</td>\n",
       "      <td>1.302083</td>\n",
       "      <td>0.430238</td>\n",
       "      <td>1.338027</td>\n",
       "      <td>0.989145</td>\n",
       "      <td>0.262879</td>\n",
       "      <td>1.346491</td>\n",
       "      <td>0.181083</td>\n",
       "    </tr>\n",
       "    <tr>\n",
       "      <th>Carmelo Anthony</th>\n",
       "      <td>4.910768</td>\n",
       "      <td>3.589603</td>\n",
       "      <td>2.449565</td>\n",
       "      <td>2.738469</td>\n",
       "      <td>5.041307</td>\n",
       "      <td>4.119668</td>\n",
       "      <td>3.861192</td>\n",
       "      <td>3.630980</td>\n",
       "      <td>3.098535</td>\n",
       "      <td>-0.405676</td>\n",
       "      <td>...</td>\n",
       "      <td>0.429232</td>\n",
       "      <td>0.119311</td>\n",
       "      <td>0.042877</td>\n",
       "      <td>0.069471</td>\n",
       "      <td>0.173294</td>\n",
       "      <td>0.574354</td>\n",
       "      <td>0.102358</td>\n",
       "      <td>-0.361546</td>\n",
       "      <td>0.285914</td>\n",
       "      <td>0.198696</td>\n",
       "    </tr>\n",
       "    <tr>\n",
       "      <th>Kyle Korver</th>\n",
       "      <td>0.392254</td>\n",
       "      <td>0.434511</td>\n",
       "      <td>2.388127</td>\n",
       "      <td>2.293380</td>\n",
       "      <td>1.444447</td>\n",
       "      <td>1.103548</td>\n",
       "      <td>0.888150</td>\n",
       "      <td>0.597339</td>\n",
       "      <td>0.298039</td>\n",
       "      <td>-0.405676</td>\n",
       "      <td>...</td>\n",
       "      <td>1.100224</td>\n",
       "      <td>-0.997518</td>\n",
       "      <td>-0.427753</td>\n",
       "      <td>-0.631078</td>\n",
       "      <td>-0.377299</td>\n",
       "      <td>-0.486303</td>\n",
       "      <td>-0.650067</td>\n",
       "      <td>-0.430926</td>\n",
       "      <td>-0.478326</td>\n",
       "      <td>-1.020983</td>\n",
       "    </tr>\n",
       "    <tr>\n",
       "      <th>Kyle Korver</th>\n",
       "      <td>0.392254</td>\n",
       "      <td>0.434511</td>\n",
       "      <td>2.388127</td>\n",
       "      <td>2.293380</td>\n",
       "      <td>1.444447</td>\n",
       "      <td>1.103548</td>\n",
       "      <td>0.888150</td>\n",
       "      <td>0.597339</td>\n",
       "      <td>0.298039</td>\n",
       "      <td>-0.405676</td>\n",
       "      <td>...</td>\n",
       "      <td>0.764728</td>\n",
       "      <td>-0.776910</td>\n",
       "      <td>0.128446</td>\n",
       "      <td>-0.156655</td>\n",
       "      <td>-0.157062</td>\n",
       "      <td>-0.472161</td>\n",
       "      <td>0.317337</td>\n",
       "      <td>-0.060897</td>\n",
       "      <td>0.504268</td>\n",
       "      <td>0.599385</td>\n",
       "    </tr>\n",
       "    <tr>\n",
       "      <th>Zaza Pachulia</th>\n",
       "      <td>0.392254</td>\n",
       "      <td>0.434511</td>\n",
       "      <td>2.660830</td>\n",
       "      <td>2.281406</td>\n",
       "      <td>1.277950</td>\n",
       "      <td>0.798286</td>\n",
       "      <td>0.774791</td>\n",
       "      <td>0.410378</td>\n",
       "      <td>0.246250</td>\n",
       "      <td>-0.405676</td>\n",
       "      <td>...</td>\n",
       "      <td>0.093737</td>\n",
       "      <td>0.725984</td>\n",
       "      <td>-0.274951</td>\n",
       "      <td>0.034000</td>\n",
       "      <td>-0.566948</td>\n",
       "      <td>-0.472161</td>\n",
       "      <td>-0.623195</td>\n",
       "      <td>-0.639068</td>\n",
       "      <td>-0.150794</td>\n",
       "      <td>-0.391329</td>\n",
       "    </tr>\n",
       "    <tr>\n",
       "      <th>Udonis Haslem</th>\n",
       "      <td>0.392254</td>\n",
       "      <td>0.434511</td>\n",
       "      <td>3.398591</td>\n",
       "      <td>3.285700</td>\n",
       "      <td>2.131248</td>\n",
       "      <td>1.619811</td>\n",
       "      <td>1.432370</td>\n",
       "      <td>0.222792</td>\n",
       "      <td>0.045305</td>\n",
       "      <td>-0.405676</td>\n",
       "      <td>...</td>\n",
       "      <td>-1.181148</td>\n",
       "      <td>-0.514938</td>\n",
       "      <td>-0.708908</td>\n",
       "      <td>-0.679850</td>\n",
       "      <td>-0.970717</td>\n",
       "      <td>-1.122698</td>\n",
       "      <td>-1.268131</td>\n",
       "      <td>-0.569687</td>\n",
       "      <td>-0.915034</td>\n",
       "      <td>-0.580666</td>\n",
       "    </tr>\n",
       "    <tr>\n",
       "      <th>Dwight Howard</th>\n",
       "      <td>-0.187000</td>\n",
       "      <td>4.373430</td>\n",
       "      <td>3.024664</td>\n",
       "      <td>2.812674</td>\n",
       "      <td>2.135941</td>\n",
       "      <td>3.911469</td>\n",
       "      <td>3.699645</td>\n",
       "      <td>3.505616</td>\n",
       "      <td>3.010118</td>\n",
       "      <td>-0.405676</td>\n",
       "      <td>...</td>\n",
       "      <td>-1.114049</td>\n",
       "      <td>2.421911</td>\n",
       "      <td>3.105024</td>\n",
       "      <td>3.031286</td>\n",
       "      <td>-0.407888</td>\n",
       "      <td>1.479448</td>\n",
       "      <td>-0.273855</td>\n",
       "      <td>2.113027</td>\n",
       "      <td>1.736409</td>\n",
       "      <td>0.115036</td>\n",
       "    </tr>\n",
       "    <tr>\n",
       "      <th>Dwight Howard</th>\n",
       "      <td>-0.187000</td>\n",
       "      <td>4.373430</td>\n",
       "      <td>3.024664</td>\n",
       "      <td>2.812674</td>\n",
       "      <td>2.135941</td>\n",
       "      <td>3.911469</td>\n",
       "      <td>3.699645</td>\n",
       "      <td>3.505616</td>\n",
       "      <td>3.010118</td>\n",
       "      <td>-0.405676</td>\n",
       "      <td>...</td>\n",
       "      <td>-1.717941</td>\n",
       "      <td>2.187515</td>\n",
       "      <td>2.127093</td>\n",
       "      <td>2.246494</td>\n",
       "      <td>-0.450712</td>\n",
       "      <td>0.885480</td>\n",
       "      <td>0.290464</td>\n",
       "      <td>1.696744</td>\n",
       "      <td>1.268507</td>\n",
       "      <td>-0.197590</td>\n",
       "    </tr>\n",
       "    <tr>\n",
       "      <th>Dwight Howard</th>\n",
       "      <td>-0.187000</td>\n",
       "      <td>4.373430</td>\n",
       "      <td>3.024664</td>\n",
       "      <td>2.812674</td>\n",
       "      <td>2.135941</td>\n",
       "      <td>3.911469</td>\n",
       "      <td>3.699645</td>\n",
       "      <td>3.505616</td>\n",
       "      <td>3.010118</td>\n",
       "      <td>-0.405676</td>\n",
       "      <td>...</td>\n",
       "      <td>-1.650842</td>\n",
       "      <td>2.366759</td>\n",
       "      <td>2.719963</td>\n",
       "      <td>2.734218</td>\n",
       "      <td>-0.389535</td>\n",
       "      <td>1.719864</td>\n",
       "      <td>0.693549</td>\n",
       "      <td>3.385003</td>\n",
       "      <td>2.391472</td>\n",
       "      <td>0.330791</td>\n",
       "    </tr>\n",
       "    <tr>\n",
       "      <th>Devin Harris</th>\n",
       "      <td>-0.187000</td>\n",
       "      <td>2.782404</td>\n",
       "      <td>1.884293</td>\n",
       "      <td>1.723690</td>\n",
       "      <td>1.275870</td>\n",
       "      <td>2.010634</td>\n",
       "      <td>1.796137</td>\n",
       "      <td>1.591387</td>\n",
       "      <td>1.192759</td>\n",
       "      <td>-0.405676</td>\n",
       "      <td>...</td>\n",
       "      <td>0.429232</td>\n",
       "      <td>-0.983730</td>\n",
       "      <td>-1.051184</td>\n",
       "      <td>-1.078897</td>\n",
       "      <td>0.038704</td>\n",
       "      <td>-0.627724</td>\n",
       "      <td>-0.811301</td>\n",
       "      <td>-0.870336</td>\n",
       "      <td>-1.024211</td>\n",
       "      <td>0.410048</td>\n",
       "    </tr>\n",
       "    <tr>\n",
       "      <th>Andre Iguodala</th>\n",
       "      <td>-0.187000</td>\n",
       "      <td>1.866853</td>\n",
       "      <td>1.228099</td>\n",
       "      <td>1.097089</td>\n",
       "      <td>0.780493</td>\n",
       "      <td>3.127271</td>\n",
       "      <td>2.859457</td>\n",
       "      <td>2.431433</td>\n",
       "      <td>2.065469</td>\n",
       "      <td>-0.405676</td>\n",
       "      <td>...</td>\n",
       "      <td>-1.114049</td>\n",
       "      <td>0.036583</td>\n",
       "      <td>0.562403</td>\n",
       "      <td>0.419746</td>\n",
       "      <td>1.598719</td>\n",
       "      <td>1.451164</td>\n",
       "      <td>2.171527</td>\n",
       "      <td>0.286006</td>\n",
       "      <td>-0.166391</td>\n",
       "      <td>1.396359</td>\n",
       "    </tr>\n",
       "    <tr>\n",
       "      <th>Trevor Ariza</th>\n",
       "      <td>-0.187000</td>\n",
       "      <td>0.174730</td>\n",
       "      <td>0.212979</td>\n",
       "      <td>1.688707</td>\n",
       "      <td>0.903331</td>\n",
       "      <td>0.511151</td>\n",
       "      <td>1.083713</td>\n",
       "      <td>0.927520</td>\n",
       "      <td>0.668987</td>\n",
       "      <td>-0.405676</td>\n",
       "      <td>...</td>\n",
       "      <td>0.227935</td>\n",
       "      <td>0.270980</td>\n",
       "      <td>0.776325</td>\n",
       "      <td>0.650306</td>\n",
       "      <td>0.118235</td>\n",
       "      <td>0.404649</td>\n",
       "      <td>1.822187</td>\n",
       "      <td>-0.454053</td>\n",
       "      <td>0.644638</td>\n",
       "      <td>0.586175</td>\n",
       "    </tr>\n",
       "    <tr>\n",
       "      <th>Chris Paul</th>\n",
       "      <td>-0.187000</td>\n",
       "      <td>-0.251594</td>\n",
       "      <td>2.029485</td>\n",
       "      <td>1.873208</td>\n",
       "      <td>1.118096</td>\n",
       "      <td>0.981474</td>\n",
       "      <td>3.228961</td>\n",
       "      <td>3.079375</td>\n",
       "      <td>2.651326</td>\n",
       "      <td>1.918459</td>\n",
       "      <td>...</td>\n",
       "      <td>0.966026</td>\n",
       "      <td>-0.363269</td>\n",
       "      <td>-0.244391</td>\n",
       "      <td>-0.294105</td>\n",
       "      <td>3.097557</td>\n",
       "      <td>0.786485</td>\n",
       "      <td>2.977697</td>\n",
       "      <td>-0.685322</td>\n",
       "      <td>0.083156</td>\n",
       "      <td>1.625324</td>\n",
       "    </tr>\n",
       "    <tr>\n",
       "      <th>Raymond Felton</th>\n",
       "      <td>-0.187000</td>\n",
       "      <td>-0.251594</td>\n",
       "      <td>1.810458</td>\n",
       "      <td>1.662918</td>\n",
       "      <td>0.975940</td>\n",
       "      <td>0.845732</td>\n",
       "      <td>0.984991</td>\n",
       "      <td>1.221584</td>\n",
       "      <td>0.828366</td>\n",
       "      <td>-0.405676</td>\n",
       "      <td>...</td>\n",
       "      <td>0.429232</td>\n",
       "      <td>-0.721758</td>\n",
       "      <td>-0.776141</td>\n",
       "      <td>-0.795131</td>\n",
       "      <td>1.335658</td>\n",
       "      <td>0.942049</td>\n",
       "      <td>0.532315</td>\n",
       "      <td>-0.685322</td>\n",
       "      <td>-0.244375</td>\n",
       "      <td>0.348404</td>\n",
       "    </tr>\n",
       "    <tr>\n",
       "      <th>Jose Calderon</th>\n",
       "      <td>-0.187000</td>\n",
       "      <td>-0.251594</td>\n",
       "      <td>1.325484</td>\n",
       "      <td>1.183817</td>\n",
       "      <td>0.641765</td>\n",
       "      <td>1.895148</td>\n",
       "      <td>1.745492</td>\n",
       "      <td>1.596131</td>\n",
       "      <td>1.288465</td>\n",
       "      <td>-0.405676</td>\n",
       "      <td>...</td>\n",
       "      <td>1.100224</td>\n",
       "      <td>-0.818274</td>\n",
       "      <td>-0.568330</td>\n",
       "      <td>-0.675416</td>\n",
       "      <td>2.118724</td>\n",
       "      <td>0.319796</td>\n",
       "      <td>-0.005131</td>\n",
       "      <td>-0.731575</td>\n",
       "      <td>-0.603099</td>\n",
       "      <td>-1.382043</td>\n",
       "    </tr>\n",
       "    <tr>\n",
       "      <th>LaMarcus Aldridge</th>\n",
       "      <td>-0.187000</td>\n",
       "      <td>-0.251594</td>\n",
       "      <td>-0.290211</td>\n",
       "      <td>2.299397</td>\n",
       "      <td>1.415043</td>\n",
       "      <td>0.999727</td>\n",
       "      <td>1.081146</td>\n",
       "      <td>2.156453</td>\n",
       "      <td>1.825216</td>\n",
       "      <td>-0.405676</td>\n",
       "      <td>...</td>\n",
       "      <td>0.697629</td>\n",
       "      <td>1.346445</td>\n",
       "      <td>1.833713</td>\n",
       "      <td>1.763204</td>\n",
       "      <td>-0.291652</td>\n",
       "      <td>0.263228</td>\n",
       "      <td>-0.273855</td>\n",
       "      <td>0.656035</td>\n",
       "      <td>-0.197585</td>\n",
       "      <td>1.211425</td>\n",
       "    </tr>\n",
       "  </tbody>\n",
       "</table>\n",
       "<p>20 rows × 41 columns</p>\n",
       "</div>"
      ],
      "text/plain": [
       "                   0304_salary_adjusted  0405_salary_adjusted  \\\n",
       "player_name                                                     \n",
       "LeBron James                   6.157458              4.529054   \n",
       "LeBron James                   6.157458              4.529054   \n",
       "Tyson Chandler                 5.818743              5.061014   \n",
       "Tyson Chandler                 5.818743              5.061014   \n",
       "Carmelo Anthony                4.910768              3.589603   \n",
       "Carmelo Anthony                4.910768              3.589603   \n",
       "Kyle Korver                    0.392254              0.434511   \n",
       "Kyle Korver                    0.392254              0.434511   \n",
       "Zaza Pachulia                  0.392254              0.434511   \n",
       "Udonis Haslem                  0.392254              0.434511   \n",
       "Dwight Howard                 -0.187000              4.373430   \n",
       "Dwight Howard                 -0.187000              4.373430   \n",
       "Dwight Howard                 -0.187000              4.373430   \n",
       "Devin Harris                  -0.187000              2.782404   \n",
       "Andre Iguodala                -0.187000              1.866853   \n",
       "Trevor Ariza                  -0.187000              0.174730   \n",
       "Chris Paul                    -0.187000             -0.251594   \n",
       "Raymond Felton                -0.187000             -0.251594   \n",
       "Jose Calderon                 -0.187000             -0.251594   \n",
       "LaMarcus Aldridge             -0.187000             -0.251594   \n",
       "\n",
       "                   0506_salary_adjusted  0607_salary_adjusted  \\\n",
       "player_name                                                     \n",
       "LeBron James                   3.119569              3.485302   \n",
       "LeBron James                   3.119569              3.485302   \n",
       "Tyson Chandler                 6.349632              5.672958   \n",
       "Tyson Chandler                 6.349632              5.672958   \n",
       "Carmelo Anthony                2.449565              2.738469   \n",
       "Carmelo Anthony                2.449565              2.738469   \n",
       "Kyle Korver                    2.388127              2.293380   \n",
       "Kyle Korver                    2.388127              2.293380   \n",
       "Zaza Pachulia                  2.660830              2.281406   \n",
       "Udonis Haslem                  3.398591              3.285700   \n",
       "Dwight Howard                  3.024664              2.812674   \n",
       "Dwight Howard                  3.024664              2.812674   \n",
       "Dwight Howard                  3.024664              2.812674   \n",
       "Devin Harris                   1.884293              1.723690   \n",
       "Andre Iguodala                 1.228099              1.097089   \n",
       "Trevor Ariza                   0.212979              1.688707   \n",
       "Chris Paul                     2.029485              1.873208   \n",
       "Raymond Felton                 1.810458              1.662918   \n",
       "Jose Calderon                  1.325484              1.183817   \n",
       "LaMarcus Aldridge             -0.290211              2.299397   \n",
       "\n",
       "                   0708_salary_adjusted  0809_salary_adjusted  \\\n",
       "player_name                                                     \n",
       "LeBron James                   5.041307              4.119668   \n",
       "LeBron James                   5.041307              4.119668   \n",
       "Tyson Chandler                 3.879469              3.143223   \n",
       "Tyson Chandler                 3.879469              3.143223   \n",
       "Carmelo Anthony                5.041307              4.119668   \n",
       "Carmelo Anthony                5.041307              4.119668   \n",
       "Kyle Korver                    1.444447              1.103548   \n",
       "Kyle Korver                    1.444447              1.103548   \n",
       "Zaza Pachulia                  1.277950              0.798286   \n",
       "Udonis Haslem                  2.131248              1.619811   \n",
       "Dwight Howard                  2.135941              3.911469   \n",
       "Dwight Howard                  2.135941              3.911469   \n",
       "Dwight Howard                  2.135941              3.911469   \n",
       "Devin Harris                   1.275870              2.010634   \n",
       "Andre Iguodala                 0.780493              3.127271   \n",
       "Trevor Ariza                   0.903331              0.511151   \n",
       "Chris Paul                     1.118096              0.981474   \n",
       "Raymond Felton                 0.975940              0.845732   \n",
       "Jose Calderon                  0.641765              1.895148   \n",
       "LaMarcus Aldridge              1.415043              0.999727   \n",
       "\n",
       "                   0910_salary_adjusted  1011_salary_adjusted  \\\n",
       "player_name                                                     \n",
       "LeBron James                   3.861192              2.969470   \n",
       "LeBron James                   3.861192              2.969470   \n",
       "Tyson Chandler                 2.761520              2.495044   \n",
       "Tyson Chandler                 2.761520              2.495044   \n",
       "Carmelo Anthony                3.861192              3.630980   \n",
       "Carmelo Anthony                3.861192              3.630980   \n",
       "Kyle Korver                    0.888150              0.597339   \n",
       "Kyle Korver                    0.888150              0.597339   \n",
       "Zaza Pachulia                  0.774791              0.410378   \n",
       "Udonis Haslem                  1.432370              0.222792   \n",
       "Dwight Howard                  3.699645              3.505616   \n",
       "Dwight Howard                  3.699645              3.505616   \n",
       "Dwight Howard                  3.699645              3.505616   \n",
       "Devin Harris                   1.796137              1.591387   \n",
       "Andre Iguodala                 2.859457              2.431433   \n",
       "Trevor Ariza                   1.083713              0.927520   \n",
       "Chris Paul                     3.228961              3.079375   \n",
       "Raymond Felton                 0.984991              1.221584   \n",
       "Jose Calderon                  1.745492              1.596131   \n",
       "LaMarcus Aldridge              1.081146              2.156453   \n",
       "\n",
       "                   1112_salary_adjusted  2425_salary_predicted  ...       FT%  \\\n",
       "player_name                                                     ...             \n",
       "LeBron James                   2.581450               3.474116  ... -0.040462   \n",
       "LeBron James                   2.581450               3.474116  ... -0.174660   \n",
       "Tyson Chandler                 1.977651              -0.405676  ... -0.040462   \n",
       "Tyson Chandler                 1.977651              -0.405676  ... -0.107561   \n",
       "Carmelo Anthony                3.098535              -0.405676  ...  0.697629   \n",
       "Carmelo Anthony                3.098535              -0.405676  ...  0.429232   \n",
       "Kyle Korver                    0.298039              -0.405676  ...  1.100224   \n",
       "Kyle Korver                    0.298039              -0.405676  ...  0.764728   \n",
       "Zaza Pachulia                  0.246250              -0.405676  ...  0.093737   \n",
       "Udonis Haslem                  0.045305              -0.405676  ... -1.181148   \n",
       "Dwight Howard                  3.010118              -0.405676  ... -1.114049   \n",
       "Dwight Howard                  3.010118              -0.405676  ... -1.717941   \n",
       "Dwight Howard                  3.010118              -0.405676  ... -1.650842   \n",
       "Devin Harris                   1.192759              -0.405676  ...  0.429232   \n",
       "Andre Iguodala                 2.065469              -0.405676  ... -1.114049   \n",
       "Trevor Ariza                   0.668987              -0.405676  ...  0.227935   \n",
       "Chris Paul                     2.651326               1.918459  ...  0.966026   \n",
       "Raymond Felton                 0.828366              -0.405676  ...  0.429232   \n",
       "Jose Calderon                  1.288465              -0.405676  ...  1.100224   \n",
       "LaMarcus Aldridge              1.825216              -0.405676  ...  0.697629   \n",
       "\n",
       "                       OREB      DREB       REB       AST       TOV       STL  \\\n",
       "player_name                                                                     \n",
       "LeBron James       0.436436  1.253067  1.049353  2.094254  2.059274  1.230996   \n",
       "LeBron James      -0.390845  0.709092  0.388709  2.075900  2.384543  1.365357   \n",
       "Tyson Chandler     1.746298  1.448653  1.612453 -0.854481 -0.217604 -0.596323   \n",
       "Tyson Chandler     2.959644  1.962067  2.375076 -0.536360  0.022812 -0.435089   \n",
       "Carmelo Anthony    0.905229  1.393644  1.302083  0.430238  1.338027  0.989145   \n",
       "Carmelo Anthony    0.119311  0.042877  0.069471  0.173294  0.574354  0.102358   \n",
       "Kyle Korver       -0.997518 -0.427753 -0.631078 -0.377299 -0.486303 -0.650067   \n",
       "Kyle Korver       -0.776910  0.128446 -0.156655 -0.157062 -0.472161  0.317337   \n",
       "Zaza Pachulia      0.725984 -0.274951  0.034000 -0.566948 -0.472161 -0.623195   \n",
       "Udonis Haslem     -0.514938 -0.708908 -0.679850 -0.970717 -1.122698 -1.268131   \n",
       "Dwight Howard      2.421911  3.105024  3.031286 -0.407888  1.479448 -0.273855   \n",
       "Dwight Howard      2.187515  2.127093  2.246494 -0.450712  0.885480  0.290464   \n",
       "Dwight Howard      2.366759  2.719963  2.734218 -0.389535  1.719864  0.693549   \n",
       "Devin Harris      -0.983730 -1.051184 -1.078897  0.038704 -0.627724 -0.811301   \n",
       "Andre Iguodala     0.036583  0.562403  0.419746  1.598719  1.451164  2.171527   \n",
       "Trevor Ariza       0.270980  0.776325  0.650306  0.118235  0.404649  1.822187   \n",
       "Chris Paul        -0.363269 -0.244391 -0.294105  3.097557  0.786485  2.977697   \n",
       "Raymond Felton    -0.721758 -0.776141 -0.795131  1.335658  0.942049  0.532315   \n",
       "Jose Calderon     -0.818274 -0.568330 -0.675416  2.118724  0.319796 -0.005131   \n",
       "LaMarcus Aldridge  1.346445  1.833713  1.763204 -0.291652  0.263228 -0.273855   \n",
       "\n",
       "                        BLK        PF       +/-  \n",
       "player_name                                      \n",
       "LeBron James       0.216625  0.083156  2.444314  \n",
       "LeBron James       0.216625 -0.041617  2.105269  \n",
       "Tyson Chandler     0.933558  1.596039  1.022089  \n",
       "Tyson Chandler     1.187953  0.488671  0.735883  \n",
       "Carmelo Anthony    0.262879  1.346491  0.181083  \n",
       "Carmelo Anthony   -0.361546  0.285914  0.198696  \n",
       "Kyle Korver       -0.430926 -0.478326 -1.020983  \n",
       "Kyle Korver       -0.060897  0.504268  0.599385  \n",
       "Zaza Pachulia     -0.639068 -0.150794 -0.391329  \n",
       "Udonis Haslem     -0.569687 -0.915034 -0.580666  \n",
       "Dwight Howard      2.113027  1.736409  0.115036  \n",
       "Dwight Howard      1.696744  1.268507 -0.197590  \n",
       "Dwight Howard      3.385003  2.391472  0.330791  \n",
       "Devin Harris      -0.870336 -1.024211  0.410048  \n",
       "Andre Iguodala     0.286006 -0.166391  1.396359  \n",
       "Trevor Ariza      -0.454053  0.644638  0.586175  \n",
       "Chris Paul        -0.685322  0.083156  1.625324  \n",
       "Raymond Felton    -0.685322 -0.244375  0.348404  \n",
       "Jose Calderon     -0.731575 -0.603099 -1.382043  \n",
       "LaMarcus Aldridge  0.656035 -0.197585  1.211425  \n",
       "\n",
       "[20 rows x 41 columns]"
      ]
     },
     "execution_count": 7,
     "metadata": {},
     "output_type": "execute_result"
    }
   ],
   "source": [
    "# Create a DataFrame with the scaled data\n",
    "df_player_data_scaled=pd.DataFrame(df_player_data_scaled, \n",
    "                             columns= [\n",
    "                                   'PLAYER_ID',\n",
    "                                   'SEASON_ID',\n",
    "                                   'LEAGUE_ID',\n",
    "                                   'TEAM_ID',\n",
    "                                   'TEAM_ABBREVIATION',\n",
    "                                   'PLAYER_AGE',\n",
    "                                   'GP',\n",
    "                                   'GS',\n",
    "                                   'MIN',\n",
    "                                   'FGM',\n",
    "                                   'FGA',\n",
    "                                   'FG_PCT',\n",
    "                                   'FG3M',\n",
    "                                   'FG3A',\n",
    "                                   'FG3_PCT',\n",
    "                                   'FTM',\n",
    "                                   'FTA',\n",
    "                                   'FT_PCT',\n",
    "                                   'OREB',\n",
    "                                   'DREB',\n",
    "                                   'REB',\n",
    "                                   'AST',\n",
    "                                   'STL',\n",
    "                                   'BLK',\n",
    "                                   'TOV',\n",
    "                                   'PF',\n",
    "                                   'PTS',\n",
    "                                   'Player_Name',\n",
    "                                   'Salary'])\n",
    "# Copy the crypto names from the original data\n",
    "df_player_data_scaled['Player_Name']=df_player_data_scaled.index\n",
    "# Set the coinid column as index\n",
    "df_player_data_scaled=df_player_data_scaled.set_index('Player_Name')\n",
    "\n",
    "# Display sample data\n",
    "df_player_data_scaled.head(20)"
   ]
  },
  {
   "cell_type": "markdown",
   "metadata": {},
   "source": [
    "---"
   ]
  },
  {
   "cell_type": "markdown",
   "metadata": {},
   "source": [
    "### Find the Best Value for k Using the Original Data."
   ]
  },
  {
   "cell_type": "code",
   "execution_count": 8,
   "metadata": {},
   "outputs": [],
   "source": [
    "# Create a list with the number of k-values from 1 to 11\n",
    "k=list(range(1,20))"
   ]
  },
  {
   "cell_type": "code",
   "execution_count": 9,
   "metadata": {},
   "outputs": [
    {
     "name": "stderr",
     "output_type": "stream",
     "text": [
      "d:\\Users\\Matthew\\Anaconda\\envs\\PythonData\\lib\\site-packages\\sklearn\\cluster\\_kmeans.py:1037: UserWarning: KMeans is known to have a memory leak on Windows with MKL, when there are less chunks than available threads. You can avoid it by setting the environment variable OMP_NUM_THREADS=1.\n",
      "  \"KMeans is known to have a memory leak on Windows \"\n"
     ]
    }
   ],
   "source": [
    "# Create an empty list to store the inertia values\n",
    "inertia=[]\n",
    "\n",
    "# Create a for loop to compute the inertia with each possible value of k\n",
    "# Inside the loop:\n",
    "# 1. Create a KMeans model using the loop counter for the n_clusters\n",
    "# 2. Fit the model to the data using `df_market_data_scaled`\n",
    "# 3. Append the model.inertia_ to the inertia list\n",
    "for i in k:\n",
    "    k_model = KMeans(n_clusters=i, random_state=0)\n",
    "    k_model.fit(df_player_data_scaled)\n",
    "    inertia.append(k_model.inertia_)"
   ]
  },
  {
   "cell_type": "code",
   "execution_count": 10,
   "metadata": {},
   "outputs": [],
   "source": [
    "# Create a dictionary with the data to plot the Elbow curve\n",
    "elbow_data = {\"k_original\": k, \"inertia\": inertia}\n",
    "\n",
    "# Create a DataFrame with the data to plot the Elbow curve\n",
    "df_elbow_original = pd.DataFrame(elbow_data)"
   ]
  },
  {
   "cell_type": "code",
   "execution_count": 11,
   "metadata": {},
   "outputs": [
    {
     "data": {},
     "metadata": {},
     "output_type": "display_data"
    },
    {
     "data": {
      "application/vnd.holoviews_exec.v0+json": "",
      "text/html": [
       "<div id='5462'>\n",
       "  <div class=\"bk-root\" id=\"1d84ea29-c2b2-420b-9bda-8865aeed6188\" data-root-id=\"5462\"></div>\n",
       "</div>\n",
       "<script type=\"application/javascript\">(function(root) {\n",
       "  function embed_document(root) {\n",
       "    var docs_json = {\"5ca05264-1500-47b3-93f4-25fb197c7167\":{\"defs\":[{\"extends\":null,\"module\":null,\"name\":\"ReactiveHTML1\",\"overrides\":[],\"properties\":[]},{\"extends\":null,\"module\":null,\"name\":\"FlexBox1\",\"overrides\":[],\"properties\":[{\"default\":\"flex-start\",\"kind\":null,\"name\":\"align_content\"},{\"default\":\"flex-start\",\"kind\":null,\"name\":\"align_items\"},{\"default\":\"row\",\"kind\":null,\"name\":\"flex_direction\"},{\"default\":\"wrap\",\"kind\":null,\"name\":\"flex_wrap\"},{\"default\":\"flex-start\",\"kind\":null,\"name\":\"justify_content\"}]},{\"extends\":null,\"module\":null,\"name\":\"GridStack1\",\"overrides\":[],\"properties\":[{\"default\":\"warn\",\"kind\":null,\"name\":\"mode\"},{\"default\":null,\"kind\":null,\"name\":\"ncols\"},{\"default\":null,\"kind\":null,\"name\":\"nrows\"},{\"default\":true,\"kind\":null,\"name\":\"allow_resize\"},{\"default\":true,\"kind\":null,\"name\":\"allow_drag\"},{\"default\":[],\"kind\":null,\"name\":\"state\"}]},{\"extends\":null,\"module\":null,\"name\":\"click1\",\"overrides\":[],\"properties\":[{\"default\":\"\",\"kind\":null,\"name\":\"terminal_output\"},{\"default\":\"\",\"kind\":null,\"name\":\"debug_name\"},{\"default\":0,\"kind\":null,\"name\":\"clears\"}]},{\"extends\":null,\"module\":null,\"name\":\"NotificationAreaBase1\",\"overrides\":[],\"properties\":[{\"default\":\"bottom-right\",\"kind\":null,\"name\":\"position\"},{\"default\":0,\"kind\":null,\"name\":\"_clear\"}]},{\"extends\":null,\"module\":null,\"name\":\"NotificationArea1\",\"overrides\":[],\"properties\":[{\"default\":[],\"kind\":null,\"name\":\"notifications\"},{\"default\":\"bottom-right\",\"kind\":null,\"name\":\"position\"},{\"default\":0,\"kind\":null,\"name\":\"_clear\"},{\"default\":[{\"background\":\"#ffc107\",\"icon\":{\"className\":\"fas fa-exclamation-triangle\",\"color\":\"white\",\"tagName\":\"i\"},\"type\":\"warning\"},{\"background\":\"#007bff\",\"icon\":{\"className\":\"fas fa-info-circle\",\"color\":\"white\",\"tagName\":\"i\"},\"type\":\"info\"}],\"kind\":null,\"name\":\"types\"}]},{\"extends\":null,\"module\":null,\"name\":\"Notification\",\"overrides\":[],\"properties\":[{\"default\":null,\"kind\":null,\"name\":\"background\"},{\"default\":3000,\"kind\":null,\"name\":\"duration\"},{\"default\":null,\"kind\":null,\"name\":\"icon\"},{\"default\":\"\",\"kind\":null,\"name\":\"message\"},{\"default\":null,\"kind\":null,\"name\":\"notification_type\"},{\"default\":false,\"kind\":null,\"name\":\"_destroyed\"}]},{\"extends\":null,\"module\":null,\"name\":\"TemplateActions1\",\"overrides\":[],\"properties\":[{\"default\":0,\"kind\":null,\"name\":\"open_modal\"},{\"default\":0,\"kind\":null,\"name\":\"close_modal\"}]},{\"extends\":null,\"module\":null,\"name\":\"MaterialTemplateActions1\",\"overrides\":[],\"properties\":[{\"default\":0,\"kind\":null,\"name\":\"open_modal\"},{\"default\":0,\"kind\":null,\"name\":\"close_modal\"}]}],\"roots\":{\"references\":[{\"attributes\":{\"axis\":{\"id\":\"5475\"},\"coordinates\":null,\"grid_line_color\":null,\"group\":null,\"ticker\":null},\"id\":\"5478\",\"type\":\"Grid\"},{\"attributes\":{\"below\":[{\"id\":\"5475\"}],\"center\":[{\"id\":\"5478\"},{\"id\":\"5482\"}],\"height\":300,\"left\":[{\"id\":\"5479\"}],\"margin\":[5,5,5,5],\"min_border_bottom\":10,\"min_border_left\":10,\"min_border_right\":10,\"min_border_top\":10,\"output_backend\":\"webgl\",\"renderers\":[{\"id\":\"5502\"}],\"sizing_mode\":\"fixed\",\"title\":{\"id\":\"5467\"},\"toolbar\":{\"id\":\"5489\"},\"width\":700,\"x_range\":{\"id\":\"5463\"},\"x_scale\":{\"id\":\"5471\"},\"y_range\":{\"id\":\"5464\"},\"y_scale\":{\"id\":\"5473\"}},\"id\":\"5466\",\"subtype\":\"Figure\",\"type\":\"Plot\"},{\"attributes\":{\"line_color\":\"#30a2da\",\"line_width\":2,\"tags\":[\"apply_ranges\"],\"x\":{\"field\":\"k_original\"},\"y\":{\"field\":\"inertia\"}},\"id\":\"5499\",\"type\":\"Line\"},{\"attributes\":{\"end\":19.0,\"reset_end\":19.0,\"reset_start\":1.0,\"start\":1.0,\"tags\":[[[\"k_original\",\"k_original\",null]]]},\"id\":\"5463\",\"type\":\"Range1d\"},{\"attributes\":{\"coordinates\":null,\"data_source\":{\"id\":\"5496\"},\"glyph\":{\"id\":\"5499\"},\"group\":null,\"hover_glyph\":null,\"muted_glyph\":{\"id\":\"5501\"},\"nonselection_glyph\":{\"id\":\"5500\"},\"selection_glyph\":{\"id\":\"5504\"},\"view\":{\"id\":\"5503\"}},\"id\":\"5502\",\"type\":\"GlyphRenderer\"},{\"attributes\":{\"active_drag\":{\"id\":\"5484\"},\"active_scroll\":{\"id\":\"5485\"},\"tools\":[{\"id\":\"5465\"},{\"id\":\"5483\"},{\"id\":\"5484\"},{\"id\":\"5485\"},{\"id\":\"5486\"},{\"id\":\"5487\"}]},\"id\":\"5489\",\"type\":\"Toolbar\"},{\"attributes\":{\"line_alpha\":0.2,\"line_color\":\"#30a2da\",\"line_width\":2,\"tags\":[\"apply_ranges\"],\"x\":{\"field\":\"k_original\"},\"y\":{\"field\":\"inertia\"}},\"id\":\"5501\",\"type\":\"Line\"},{\"attributes\":{\"bottom_units\":\"screen\",\"coordinates\":null,\"fill_alpha\":0.5,\"fill_color\":\"lightgrey\",\"group\":null,\"left_units\":\"screen\",\"level\":\"overlay\",\"line_alpha\":1.0,\"line_color\":\"black\",\"line_dash\":[4,4],\"line_width\":2,\"right_units\":\"screen\",\"syncable\":false,\"top_units\":\"screen\"},\"id\":\"5488\",\"type\":\"BoxAnnotation\"},{\"attributes\":{},\"id\":\"5483\",\"type\":\"SaveTool\"},{\"attributes\":{},\"id\":\"5512\",\"type\":\"BasicTickFormatter\"},{\"attributes\":{\"children\":[{\"id\":\"5466\"}],\"height\":300,\"margin\":[0,0,0,0],\"name\":\"Row03277\",\"sizing_mode\":\"fixed\",\"tags\":[\"embedded\"],\"width\":700},\"id\":\"5462\",\"type\":\"Row\"},{\"attributes\":{},\"id\":\"5484\",\"type\":\"PanTool\"},{\"attributes\":{},\"id\":\"5487\",\"type\":\"ResetTool\"},{\"attributes\":{},\"id\":\"5508\",\"type\":\"AllLabels\"},{\"attributes\":{\"line_alpha\":0.1,\"line_color\":\"#30a2da\",\"line_width\":2,\"tags\":[\"apply_ranges\"],\"x\":{\"field\":\"k_original\"},\"y\":{\"field\":\"inertia\"}},\"id\":\"5500\",\"type\":\"Line\"},{\"attributes\":{},\"id\":\"5485\",\"type\":\"WheelZoomTool\"},{\"attributes\":{\"overlay\":{\"id\":\"5488\"}},\"id\":\"5486\",\"type\":\"BoxZoomTool\"},{\"attributes\":{\"coordinates\":null,\"group\":null,\"text\":\"Elbow Curve\",\"text_color\":\"black\",\"text_font_size\":\"12pt\"},\"id\":\"5467\",\"type\":\"Title\"},{\"attributes\":{},\"id\":\"5471\",\"type\":\"LinearScale\"},{\"attributes\":{\"end\":8750.142985093007,\"reset_end\":8750.142985093007,\"reset_start\":1656.4271639769177,\"start\":1656.4271639769177,\"tags\":[[[\"inertia\",\"inertia\",null]]]},\"id\":\"5464\",\"type\":\"Range1d\"},{\"attributes\":{},\"id\":\"5480\",\"type\":\"BasicTicker\"},{\"attributes\":{},\"id\":\"5507\",\"type\":\"BasicTickFormatter\"},{\"attributes\":{},\"id\":\"5473\",\"type\":\"LinearScale\"},{\"attributes\":{\"axis_label\":\"inertia\",\"coordinates\":null,\"formatter\":{\"id\":\"5512\"},\"group\":null,\"major_label_policy\":{\"id\":\"5513\"},\"ticker\":{\"id\":\"5480\"}},\"id\":\"5479\",\"type\":\"LinearAxis\"},{\"attributes\":{\"ticks\":[1,2,3,4,5,6,7,8,9,10,11,12,13,14,15,16,17,18,19]},\"id\":\"5505\",\"type\":\"FixedTicker\"},{\"attributes\":{\"axis_label\":\"k_original\",\"coordinates\":null,\"formatter\":{\"id\":\"5507\"},\"group\":null,\"major_label_policy\":{\"id\":\"5508\"},\"ticker\":{\"id\":\"5505\"}},\"id\":\"5475\",\"type\":\"LinearAxis\"},{\"attributes\":{},\"id\":\"5513\",\"type\":\"AllLabels\"},{\"attributes\":{},\"id\":\"5497\",\"type\":\"Selection\"},{\"attributes\":{\"axis\":{\"id\":\"5479\"},\"coordinates\":null,\"dimension\":1,\"grid_line_color\":null,\"group\":null,\"ticker\":null},\"id\":\"5482\",\"type\":\"Grid\"},{\"attributes\":{},\"id\":\"5524\",\"type\":\"UnionRenderers\"},{\"attributes\":{\"source\":{\"id\":\"5496\"}},\"id\":\"5503\",\"type\":\"CDSView\"},{\"attributes\":{\"line_color\":\"#30a2da\",\"line_width\":2,\"tags\":[\"apply_ranges\"],\"x\":{\"field\":\"k_original\"},\"y\":{\"field\":\"inertia\"}},\"id\":\"5504\",\"type\":\"Line\"},{\"attributes\":{\"callback\":null,\"renderers\":[{\"id\":\"5502\"}],\"tags\":[\"hv_created\"],\"tooltips\":[[\"k_original\",\"@{k_original}\"],[\"inertia\",\"@{inertia}\"]]},\"id\":\"5465\",\"type\":\"HoverTool\"},{\"attributes\":{\"data\":{\"inertia\":{\"__ndarray__\":\"AAAAAADfv0AdNXHXDpG4QAwX+NLsYbRAMs5rnawLskCgUtwQ/jqwQMLbrYmBV61AmAGTcpPdq0DWHfCtf2aqQIU68qCOialA4dlxES8OqECpM8BdVwmnQMNXk/t1f6ZAqtRk+NHEpUCbns4pV2KkQFb2smlx7qNAND5SaQhpo0BBR8Rgzr6iQIoEyNJBS6JAWTKU6iOPoUA=\",\"dtype\":\"float64\",\"order\":\"little\",\"shape\":[19]},\"k_original\":[1,2,3,4,5,6,7,8,9,10,11,12,13,14,15,16,17,18,19]},\"selected\":{\"id\":\"5497\"},\"selection_policy\":{\"id\":\"5524\"}},\"id\":\"5496\",\"type\":\"ColumnDataSource\"}],\"root_ids\":[\"5462\"]},\"title\":\"Bokeh Application\",\"version\":\"2.4.3\"}};\n",
       "    var render_items = [{\"docid\":\"5ca05264-1500-47b3-93f4-25fb197c7167\",\"root_ids\":[\"5462\"],\"roots\":{\"5462\":\"1d84ea29-c2b2-420b-9bda-8865aeed6188\"}}];\n",
       "    root.Bokeh.embed.embed_items_notebook(docs_json, render_items);\n",
       "    for (const render_item of render_items) {\n",
       "      for (const root_id of render_item.root_ids) {\n",
       "\tconst id_el = document.getElementById(root_id)\n",
       "\tif (id_el.children.length && (id_el.children[0].className === 'bk-root')) {\n",
       "\t  const root_el = id_el.children[0]\n",
       "\t  root_el.id = root_el.id + '-rendered'\n",
       "\t}\n",
       "      }\n",
       "    }\n",
       "  }\n",
       "  if (root.Bokeh !== undefined && root.Bokeh.Panel !== undefined) {\n",
       "    embed_document(root);\n",
       "  } else {\n",
       "    var attempts = 0;\n",
       "    var timer = setInterval(function(root) {\n",
       "      if (root.Bokeh !== undefined && root.Bokeh.Panel !== undefined) {\n",
       "        clearInterval(timer);\n",
       "        embed_document(root);\n",
       "      } else if (document.readyState == \"complete\") {\n",
       "        attempts++;\n",
       "        if (attempts > 200) {\n",
       "          clearInterval(timer);\n",
       "          console.log(\"Bokeh: ERROR: Unable to run BokehJS code because BokehJS library is missing\");\n",
       "        }\n",
       "      }\n",
       "    }, 25, root)\n",
       "  }\n",
       "})(window);</script>"
      ],
      "text/plain": [
       ":Curve   [k_original]   (inertia)"
      ]
     },
     "execution_count": 11,
     "metadata": {
      "application/vnd.holoviews_exec.v0+json": {
       "id": "5462"
      }
     },
     "output_type": "execute_result"
    }
   ],
   "source": [
    "# Plot a line chart with all the inertia values computed with \n",
    "# the different values of k to visually identify the optimal value for k.\n",
    "elbow_plot = df_elbow_original.hvplot.line(\n",
    "    x=\"k_original\", \n",
    "    y=\"inertia\", \n",
    "    title=\"Elbow Curve\", \n",
    "    xticks=k\n",
    ")\n",
    "\n",
    "elbow_plot"
   ]
  },
  {
   "cell_type": "markdown",
   "metadata": {},
   "source": [
    "#### Answer the following question: \n",
    "\n",
    "**Question:** What is the best value for `k`?\n",
    "\n",
    "**Answer:6"
   ]
  },
  {
   "cell_type": "markdown",
   "metadata": {},
   "source": [
    "---"
   ]
  },
  {
   "cell_type": "markdown",
   "metadata": {},
   "source": [
    "### Cluster Cryptocurrencies with K-means Using the Original Data"
   ]
  },
  {
   "cell_type": "code",
   "execution_count": 12,
   "metadata": {},
   "outputs": [],
   "source": [
    "# Initialize the K-Means model using the best value for k\n",
    "model = KMeans(n_clusters=4, random_state=0)"
   ]
  },
  {
   "cell_type": "code",
   "execution_count": 13,
   "metadata": {},
   "outputs": [
    {
     "data": {
      "text/plain": [
       "KMeans(n_clusters=4, random_state=0)"
      ]
     },
     "execution_count": 13,
     "metadata": {},
     "output_type": "execute_result"
    }
   ],
   "source": [
    "# Fit the K-Means model using the scaled data\n",
    "model.fit(df_player_data_scaled)"
   ]
  },
  {
   "cell_type": "code",
   "execution_count": 14,
   "metadata": {},
   "outputs": [
    {
     "data": {
      "text/plain": [
       "array([3, 3, 3, 3, 3, 3, 2, 0, 2, 2, 3, 3, 3, 2, 0, 0, 0, 0, 0, 0, 2, 0,\n",
       "       2, 2, 2, 0, 0, 0, 0, 0, 0, 1, 1, 1, 1, 0, 0, 0, 0, 0, 0, 0, 0, 0,\n",
       "       2, 2, 0, 0, 0, 0, 0, 0, 0, 2, 2, 2, 2, 0, 2, 0, 0, 2, 2, 2, 0, 0,\n",
       "       2, 2, 2, 0, 0, 0, 0, 0, 1, 0, 2, 2, 0, 0, 0, 0, 0, 2, 2, 2, 2, 0,\n",
       "       0, 2, 2, 2, 0, 0, 0, 0, 2, 0, 0, 1, 0, 2, 2, 2, 2, 2, 2, 2, 0, 2,\n",
       "       1, 0, 0, 2, 2, 0, 0, 0, 2, 0, 0, 0, 0, 0, 0, 2, 1, 2, 2, 2, 1, 0,\n",
       "       0, 2, 2, 2, 2, 2, 2, 1, 2, 2, 2, 0, 2, 1, 2, 2, 2, 2, 2, 2, 2, 0,\n",
       "       2, 0, 2, 2, 2, 2, 2, 2, 2, 0, 1, 2, 2, 1, 2, 2, 2, 2, 2, 2, 2, 0,\n",
       "       2, 2, 2, 2, 2, 0, 2, 0, 2, 2, 2, 2, 2, 1, 2, 2, 2, 2, 2, 2, 2, 2,\n",
       "       2])"
      ]
     },
     "execution_count": 14,
     "metadata": {},
     "output_type": "execute_result"
    }
   ],
   "source": [
    "# Predict the clusters to group the cryptocurrencies using the scaled data\n",
    "kmeans_predictions = model.predict(df_player_data_scaled)\n",
    "\n",
    "# Print the resulting array of cluster values.\n",
    "kmeans_predictions"
   ]
  },
  {
   "cell_type": "code",
   "execution_count": 15,
   "metadata": {},
   "outputs": [],
   "source": [
    "# Create a copy of the DataFrame\n",
    "df_player_data_scaled=df_player_data_scaled.copy()"
   ]
  },
  {
   "cell_type": "code",
   "execution_count": 16,
   "metadata": {},
   "outputs": [
    {
     "name": "stdout",
     "output_type": "stream",
     "text": [
      "<class 'pandas.core.frame.DataFrame'>\n",
      "Index: 199 entries, LeBron James to Torrey Craig\n",
      "Data columns (total 42 columns):\n",
      " #   Column                 Non-Null Count  Dtype  \n",
      "---  ------                 --------------  -----  \n",
      " 0   0304_salary_adjusted   199 non-null    float64\n",
      " 1   0405_salary_adjusted   199 non-null    float64\n",
      " 2   0506_salary_adjusted   199 non-null    float64\n",
      " 3   0607_salary_adjusted   199 non-null    float64\n",
      " 4   0708_salary_adjusted   199 non-null    float64\n",
      " 5   0809_salary_adjusted   199 non-null    float64\n",
      " 6   0910_salary_adjusted   199 non-null    float64\n",
      " 7   1011_salary_adjusted   199 non-null    float64\n",
      " 8   1112_salary_adjusted   199 non-null    float64\n",
      " 9   2425_salary_predicted  199 non-null    float64\n",
      " 10  2526_salary_predicted  199 non-null    float64\n",
      " 11  2425_salary_predicted  199 non-null    float64\n",
      " 12  2526_salary_predicted  199 non-null    float64\n",
      " 13  2627_salary_predicted  199 non-null    float64\n",
      " 14  CONTRACT_START         199 non-null    float64\n",
      " 15  CONTRACT_END           199 non-null    float64\n",
      " 16  AVG_SALARY             199 non-null    float64\n",
      " 17  AGE                    199 non-null    float64\n",
      " 18  GP                     199 non-null    float64\n",
      " 19  W                      199 non-null    float64\n",
      " 20  L                      199 non-null    float64\n",
      " 21  MIN                    199 non-null    float64\n",
      " 22  PTS                    199 non-null    float64\n",
      " 23  FGM                    199 non-null    float64\n",
      " 24  FGA                    199 non-null    float64\n",
      " 25  FG%                    199 non-null    float64\n",
      " 26  3PM                    199 non-null    float64\n",
      " 27  3PA                    199 non-null    float64\n",
      " 28  3P%                    199 non-null    float64\n",
      " 29  FTM                    199 non-null    float64\n",
      " 30  FTA                    199 non-null    float64\n",
      " 31  FT%                    199 non-null    float64\n",
      " 32  OREB                   199 non-null    float64\n",
      " 33  DREB                   199 non-null    float64\n",
      " 34  REB                    199 non-null    float64\n",
      " 35  AST                    199 non-null    float64\n",
      " 36  TOV                    199 non-null    float64\n",
      " 37  STL                    199 non-null    float64\n",
      " 38  BLK                    199 non-null    float64\n",
      " 39  PF                     199 non-null    float64\n",
      " 40  +/-                    199 non-null    float64\n",
      " 41  Prediction             199 non-null    int32  \n",
      "dtypes: float64(41), int32(1)\n",
      "memory usage: 66.1+ KB\n"
     ]
    }
   ],
   "source": [
    "# Add a new column to the DataFrame with the predicted clusters\n",
    "df_player_data_scaled['Prediction']=kmeans_predictions\n",
    "\n",
    "# Display sample data\n",
    "df_player_data_scaled.info()"
   ]
  },
  {
   "cell_type": "code",
   "execution_count": 17,
   "metadata": {},
   "outputs": [
    {
     "ename": "DataError",
     "evalue": "Dimensions may not reference duplicated DataFrame columns (found duplicate '2425_salary_predicted' columns). If you want to plot a column against itself simply declare two dimensions with the same name. \n\nPandasInterface expects tabular data, for more information on supported datatypes see http://holoviews.org/user_guide/Tabular_Datasets.html",
     "output_type": "error",
     "traceback": [
      "\u001b[1;31m---------------------------------------------------------------------------\u001b[0m",
      "\u001b[1;31mDataError\u001b[0m                                 Traceback (most recent call last)",
      "\u001b[1;32md:\\Users\\Matthew\\Anaconda\\envs\\PythonData\\lib\\site-packages\\hvplot\\converter.py\u001b[0m in \u001b[0;36m__call__\u001b[1;34m(self, kind, x, y)\u001b[0m\n\u001b[0;32m   1244\u001b[0m                     \u001b[1;32mtry\u001b[0m\u001b[1;33m:\u001b[0m\u001b[1;33m\u001b[0m\u001b[1;33m\u001b[0m\u001b[0m\n\u001b[1;32m-> 1245\u001b[1;33m                         \u001b[0mdataset\u001b[0m \u001b[1;33m=\u001b[0m \u001b[0mDataset\u001b[0m\u001b[1;33m(\u001b[0m\u001b[0mdata\u001b[0m\u001b[1;33m,\u001b[0m \u001b[0mself\u001b[0m\u001b[1;33m.\u001b[0m\u001b[0mindexes\u001b[0m\u001b[1;33m)\u001b[0m\u001b[1;33m\u001b[0m\u001b[1;33m\u001b[0m\u001b[0m\n\u001b[0m\u001b[0;32m   1246\u001b[0m                     \u001b[1;32mexcept\u001b[0m \u001b[0mException\u001b[0m\u001b[1;33m:\u001b[0m\u001b[1;33m\u001b[0m\u001b[1;33m\u001b[0m\u001b[0m\n",
      "\u001b[1;32md:\\Users\\Matthew\\Anaconda\\envs\\PythonData\\lib\\site-packages\\holoviews\\core\\data\\__init__.py\u001b[0m in \u001b[0;36m__init__\u001b[1;34m(self, data, kdims, vdims, **kwargs)\u001b[0m\n\u001b[0;32m    331\u001b[0m         initialized = Interface.initialize(type(self), data, kdims, vdims,\n\u001b[1;32m--> 332\u001b[1;33m                                            datatype=kwargs.get('datatype'))\n\u001b[0m\u001b[0;32m    333\u001b[0m         \u001b[1;33m(\u001b[0m\u001b[0mdata\u001b[0m\u001b[1;33m,\u001b[0m \u001b[0mself\u001b[0m\u001b[1;33m.\u001b[0m\u001b[0minterface\u001b[0m\u001b[1;33m,\u001b[0m \u001b[0mdims\u001b[0m\u001b[1;33m,\u001b[0m \u001b[0mextra_kws\u001b[0m\u001b[1;33m)\u001b[0m \u001b[1;33m=\u001b[0m \u001b[0minitialized\u001b[0m\u001b[1;33m\u001b[0m\u001b[1;33m\u001b[0m\u001b[0m\n",
      "\u001b[1;32md:\\Users\\Matthew\\Anaconda\\envs\\PythonData\\lib\\site-packages\\holoviews\\core\\data\\interface.py\u001b[0m in \u001b[0;36minitialize\u001b[1;34m(cls, eltype, data, kdims, vdims, datatype)\u001b[0m\n\u001b[0;32m    252\u001b[0m             \u001b[1;32mtry\u001b[0m\u001b[1;33m:\u001b[0m\u001b[1;33m\u001b[0m\u001b[1;33m\u001b[0m\u001b[0m\n\u001b[1;32m--> 253\u001b[1;33m                 \u001b[1;33m(\u001b[0m\u001b[0mdata\u001b[0m\u001b[1;33m,\u001b[0m \u001b[0mdims\u001b[0m\u001b[1;33m,\u001b[0m \u001b[0mextra_kws\u001b[0m\u001b[1;33m)\u001b[0m \u001b[1;33m=\u001b[0m \u001b[0minterface\u001b[0m\u001b[1;33m.\u001b[0m\u001b[0minit\u001b[0m\u001b[1;33m(\u001b[0m\u001b[0meltype\u001b[0m\u001b[1;33m,\u001b[0m \u001b[0mdata\u001b[0m\u001b[1;33m,\u001b[0m \u001b[0mkdims\u001b[0m\u001b[1;33m,\u001b[0m \u001b[0mvdims\u001b[0m\u001b[1;33m)\u001b[0m\u001b[1;33m\u001b[0m\u001b[1;33m\u001b[0m\u001b[0m\n\u001b[0m\u001b[0;32m    254\u001b[0m                 \u001b[1;32mbreak\u001b[0m\u001b[1;33m\u001b[0m\u001b[1;33m\u001b[0m\u001b[0m\n",
      "\u001b[1;32md:\\Users\\Matthew\\Anaconda\\envs\\PythonData\\lib\\site-packages\\holoviews\\core\\data\\pandas.py\u001b[0m in \u001b[0;36minit\u001b[1;34m(cls, eltype, data, kdims, vdims)\u001b[0m\n\u001b[0;32m    100\u001b[0m                                     \u001b[1;34m'a column against itself simply declare two dimensions '\u001b[0m\u001b[1;33m\u001b[0m\u001b[1;33m\u001b[0m\u001b[0m\n\u001b[1;32m--> 101\u001b[1;33m                                     'with the same name. '% d, cls)\n\u001b[0m\u001b[0;32m    102\u001b[0m         \u001b[1;32melse\u001b[0m\u001b[1;33m:\u001b[0m\u001b[1;33m\u001b[0m\u001b[1;33m\u001b[0m\u001b[0m\n",
      "\u001b[1;31mDataError\u001b[0m: Dimensions may not reference duplicated DataFrame columns (found duplicate '2425_salary_predicted' columns). If you want to plot a column against itself simply declare two dimensions with the same name. \n\nPandasInterface expects tabular data, for more information on supported datatypes see http://holoviews.org/user_guide/Tabular_Datasets.html",
      "\nDuring handling of the above exception, another exception occurred:\n",
      "\u001b[1;31mDataError\u001b[0m                                 Traceback (most recent call last)",
      "\u001b[1;32m~\\AppData\\Local\\Temp\\ipykernel_17456\\2198369234.py\u001b[0m in \u001b[0;36m<module>\u001b[1;34m\u001b[0m\n\u001b[0;32m      8\u001b[0m                     \u001b[0my\u001b[0m\u001b[1;33m=\u001b[0m\u001b[1;34m\"AGE\"\u001b[0m\u001b[1;33m,\u001b[0m\u001b[1;33m\u001b[0m\u001b[1;33m\u001b[0m\u001b[0m\n\u001b[0;32m      9\u001b[0m                     \u001b[0mby\u001b[0m\u001b[1;33m=\u001b[0m\u001b[1;34m\"Prediction\"\u001b[0m\u001b[1;33m,\u001b[0m\u001b[1;33m\u001b[0m\u001b[1;33m\u001b[0m\u001b[0m\n\u001b[1;32m---> 10\u001b[1;33m                     \u001b[0mhover_cols\u001b[0m\u001b[1;33m=\u001b[0m\u001b[1;33m[\u001b[0m\u001b[1;34m'player_name'\u001b[0m\u001b[1;33m]\u001b[0m\u001b[1;33m\u001b[0m\u001b[1;33m\u001b[0m\u001b[0m\n\u001b[0m\u001b[0;32m     11\u001b[0m                 )\n\u001b[0;32m     12\u001b[0m \u001b[1;33m\u001b[0m\u001b[0m\n",
      "\u001b[1;32md:\\Users\\Matthew\\Anaconda\\envs\\PythonData\\lib\\site-packages\\hvplot\\plotting\\core.py\u001b[0m in \u001b[0;36mscatter\u001b[1;34m(self, x, y, **kwds)\u001b[0m\n\u001b[0;32m    528\u001b[0m         \u001b[1;33m-\u001b[0m \u001b[0mWiki\u001b[0m\u001b[1;33m:\u001b[0m \u001b[0mhttps\u001b[0m\u001b[1;33m:\u001b[0m\u001b[1;33m//\u001b[0m\u001b[0men\u001b[0m\u001b[1;33m.\u001b[0m\u001b[0mwikipedia\u001b[0m\u001b[1;33m.\u001b[0m\u001b[0morg\u001b[0m\u001b[1;33m/\u001b[0m\u001b[0mwiki\u001b[0m\u001b[1;33m/\u001b[0m\u001b[0mScatter_plot\u001b[0m\u001b[1;33m\u001b[0m\u001b[1;33m\u001b[0m\u001b[0m\n\u001b[0;32m    529\u001b[0m         \"\"\"\n\u001b[1;32m--> 530\u001b[1;33m         \u001b[1;32mreturn\u001b[0m \u001b[0mself\u001b[0m\u001b[1;33m(\u001b[0m\u001b[0mx\u001b[0m\u001b[1;33m,\u001b[0m \u001b[0my\u001b[0m\u001b[1;33m,\u001b[0m \u001b[0mkind\u001b[0m\u001b[1;33m=\u001b[0m\u001b[1;34m\"scatter\"\u001b[0m\u001b[1;33m,\u001b[0m \u001b[1;33m**\u001b[0m\u001b[0mkwds\u001b[0m\u001b[1;33m)\u001b[0m\u001b[1;33m\u001b[0m\u001b[1;33m\u001b[0m\u001b[0m\n\u001b[0m\u001b[0;32m    531\u001b[0m \u001b[1;33m\u001b[0m\u001b[0m\n\u001b[0;32m    532\u001b[0m     \u001b[1;32mdef\u001b[0m \u001b[0marea\u001b[0m\u001b[1;33m(\u001b[0m\u001b[0mself\u001b[0m\u001b[1;33m,\u001b[0m \u001b[0mx\u001b[0m\u001b[1;33m=\u001b[0m\u001b[1;32mNone\u001b[0m\u001b[1;33m,\u001b[0m \u001b[0my\u001b[0m\u001b[1;33m=\u001b[0m\u001b[1;32mNone\u001b[0m\u001b[1;33m,\u001b[0m \u001b[0my2\u001b[0m\u001b[1;33m=\u001b[0m\u001b[1;32mNone\u001b[0m\u001b[1;33m,\u001b[0m \u001b[0mstacked\u001b[0m\u001b[1;33m=\u001b[0m\u001b[1;32mTrue\u001b[0m\u001b[1;33m,\u001b[0m \u001b[1;33m**\u001b[0m\u001b[0mkwds\u001b[0m\u001b[1;33m)\u001b[0m\u001b[1;33m:\u001b[0m\u001b[1;33m\u001b[0m\u001b[1;33m\u001b[0m\u001b[0m\n",
      "\u001b[1;32md:\\Users\\Matthew\\Anaconda\\envs\\PythonData\\lib\\site-packages\\hvplot\\plotting\\core.py\u001b[0m in \u001b[0;36m__call__\u001b[1;34m(self, x, y, kind, **kwds)\u001b[0m\n\u001b[0;32m     90\u001b[0m                 \u001b[1;32mreturn\u001b[0m \u001b[0mpn\u001b[0m\u001b[1;33m.\u001b[0m\u001b[0mpanel\u001b[0m\u001b[1;33m(\u001b[0m\u001b[0mplot\u001b[0m\u001b[1;33m,\u001b[0m \u001b[1;33m**\u001b[0m\u001b[0mpanel_dict\u001b[0m\u001b[1;33m)\u001b[0m\u001b[1;33m\u001b[0m\u001b[1;33m\u001b[0m\u001b[0m\n\u001b[0;32m     91\u001b[0m \u001b[1;33m\u001b[0m\u001b[0m\n\u001b[1;32m---> 92\u001b[1;33m         \u001b[1;32mreturn\u001b[0m \u001b[0mself\u001b[0m\u001b[1;33m.\u001b[0m\u001b[0m_get_converter\u001b[0m\u001b[1;33m(\u001b[0m\u001b[0mx\u001b[0m\u001b[1;33m,\u001b[0m \u001b[0my\u001b[0m\u001b[1;33m,\u001b[0m \u001b[0mkind\u001b[0m\u001b[1;33m,\u001b[0m \u001b[1;33m**\u001b[0m\u001b[0mkwds\u001b[0m\u001b[1;33m)\u001b[0m\u001b[1;33m(\u001b[0m\u001b[0mkind\u001b[0m\u001b[1;33m,\u001b[0m \u001b[0mx\u001b[0m\u001b[1;33m,\u001b[0m \u001b[0my\u001b[0m\u001b[1;33m)\u001b[0m\u001b[1;33m\u001b[0m\u001b[1;33m\u001b[0m\u001b[0m\n\u001b[0m\u001b[0;32m     93\u001b[0m \u001b[1;33m\u001b[0m\u001b[0m\n\u001b[0;32m     94\u001b[0m     \u001b[1;32mdef\u001b[0m \u001b[0m_get_converter\u001b[0m\u001b[1;33m(\u001b[0m\u001b[0mself\u001b[0m\u001b[1;33m,\u001b[0m \u001b[0mx\u001b[0m\u001b[1;33m=\u001b[0m\u001b[1;32mNone\u001b[0m\u001b[1;33m,\u001b[0m \u001b[0my\u001b[0m\u001b[1;33m=\u001b[0m\u001b[1;32mNone\u001b[0m\u001b[1;33m,\u001b[0m \u001b[0mkind\u001b[0m\u001b[1;33m=\u001b[0m\u001b[1;32mNone\u001b[0m\u001b[1;33m,\u001b[0m \u001b[1;33m**\u001b[0m\u001b[0mkwds\u001b[0m\u001b[1;33m)\u001b[0m\u001b[1;33m:\u001b[0m\u001b[1;33m\u001b[0m\u001b[1;33m\u001b[0m\u001b[0m\n",
      "\u001b[1;32md:\\Users\\Matthew\\Anaconda\\envs\\PythonData\\lib\\site-packages\\hvplot\\converter.py\u001b[0m in \u001b[0;36m__call__\u001b[1;34m(self, kind, x, y)\u001b[0m\n\u001b[0;32m   1245\u001b[0m                         \u001b[0mdataset\u001b[0m \u001b[1;33m=\u001b[0m \u001b[0mDataset\u001b[0m\u001b[1;33m(\u001b[0m\u001b[0mdata\u001b[0m\u001b[1;33m,\u001b[0m \u001b[0mself\u001b[0m\u001b[1;33m.\u001b[0m\u001b[0mindexes\u001b[0m\u001b[1;33m)\u001b[0m\u001b[1;33m\u001b[0m\u001b[1;33m\u001b[0m\u001b[0m\n\u001b[0;32m   1246\u001b[0m                     \u001b[1;32mexcept\u001b[0m \u001b[0mException\u001b[0m\u001b[1;33m:\u001b[0m\u001b[1;33m\u001b[0m\u001b[1;33m\u001b[0m\u001b[0m\n\u001b[1;32m-> 1247\u001b[1;33m                         \u001b[0mdataset\u001b[0m \u001b[1;33m=\u001b[0m \u001b[0mDataset\u001b[0m\u001b[1;33m(\u001b[0m\u001b[0mdata\u001b[0m\u001b[1;33m)\u001b[0m\u001b[1;33m\u001b[0m\u001b[1;33m\u001b[0m\u001b[0m\n\u001b[0m\u001b[0;32m   1248\u001b[0m                     \u001b[0mdataset\u001b[0m \u001b[1;33m=\u001b[0m \u001b[0mdataset\u001b[0m\u001b[1;33m.\u001b[0m\u001b[0mredim\u001b[0m\u001b[1;33m(\u001b[0m\u001b[1;33m**\u001b[0m\u001b[0mself\u001b[0m\u001b[1;33m.\u001b[0m\u001b[0m_redim\u001b[0m\u001b[1;33m)\u001b[0m\u001b[1;33m\u001b[0m\u001b[1;33m\u001b[0m\u001b[0m\n\u001b[0;32m   1249\u001b[0m                 \u001b[0mobj\u001b[0m \u001b[1;33m=\u001b[0m \u001b[0mmethod\u001b[0m\u001b[1;33m(\u001b[0m\u001b[0mx\u001b[0m\u001b[1;33m,\u001b[0m \u001b[0my\u001b[0m\u001b[1;33m)\u001b[0m\u001b[1;33m\u001b[0m\u001b[1;33m\u001b[0m\u001b[0m\n",
      "\u001b[1;32md:\\Users\\Matthew\\Anaconda\\envs\\PythonData\\lib\\site-packages\\holoviews\\core\\data\\__init__.py\u001b[0m in \u001b[0;36m__init__\u001b[1;34m(self, data, kdims, vdims, **kwargs)\u001b[0m\n\u001b[0;32m    330\u001b[0m         \u001b[0mvalidate_vdims\u001b[0m \u001b[1;33m=\u001b[0m \u001b[0mkwargs\u001b[0m\u001b[1;33m.\u001b[0m\u001b[0mpop\u001b[0m\u001b[1;33m(\u001b[0m\u001b[1;34m'_validate_vdims'\u001b[0m\u001b[1;33m,\u001b[0m \u001b[1;32mTrue\u001b[0m\u001b[1;33m)\u001b[0m\u001b[1;33m\u001b[0m\u001b[1;33m\u001b[0m\u001b[0m\n\u001b[0;32m    331\u001b[0m         initialized = Interface.initialize(type(self), data, kdims, vdims,\n\u001b[1;32m--> 332\u001b[1;33m                                            datatype=kwargs.get('datatype'))\n\u001b[0m\u001b[0;32m    333\u001b[0m         \u001b[1;33m(\u001b[0m\u001b[0mdata\u001b[0m\u001b[1;33m,\u001b[0m \u001b[0mself\u001b[0m\u001b[1;33m.\u001b[0m\u001b[0minterface\u001b[0m\u001b[1;33m,\u001b[0m \u001b[0mdims\u001b[0m\u001b[1;33m,\u001b[0m \u001b[0mextra_kws\u001b[0m\u001b[1;33m)\u001b[0m \u001b[1;33m=\u001b[0m \u001b[0minitialized\u001b[0m\u001b[1;33m\u001b[0m\u001b[1;33m\u001b[0m\u001b[0m\n\u001b[0;32m    334\u001b[0m         \u001b[0msuper\u001b[0m\u001b[1;33m(\u001b[0m\u001b[1;33m)\u001b[0m\u001b[1;33m.\u001b[0m\u001b[0m__init__\u001b[0m\u001b[1;33m(\u001b[0m\u001b[0mdata\u001b[0m\u001b[1;33m,\u001b[0m \u001b[1;33m**\u001b[0m\u001b[0mdict\u001b[0m\u001b[1;33m(\u001b[0m\u001b[0mkwargs\u001b[0m\u001b[1;33m,\u001b[0m \u001b[1;33m**\u001b[0m\u001b[0mdict\u001b[0m\u001b[1;33m(\u001b[0m\u001b[0mdims\u001b[0m\u001b[1;33m,\u001b[0m \u001b[1;33m**\u001b[0m\u001b[0mextra_kws\u001b[0m\u001b[1;33m)\u001b[0m\u001b[1;33m)\u001b[0m\u001b[1;33m)\u001b[0m\u001b[1;33m\u001b[0m\u001b[1;33m\u001b[0m\u001b[0m\n",
      "\u001b[1;32md:\\Users\\Matthew\\Anaconda\\envs\\PythonData\\lib\\site-packages\\holoviews\\core\\data\\interface.py\u001b[0m in \u001b[0;36minitialize\u001b[1;34m(cls, eltype, data, kdims, vdims, datatype)\u001b[0m\n\u001b[0;32m    251\u001b[0m                 \u001b[1;32mcontinue\u001b[0m\u001b[1;33m\u001b[0m\u001b[1;33m\u001b[0m\u001b[0m\n\u001b[0;32m    252\u001b[0m             \u001b[1;32mtry\u001b[0m\u001b[1;33m:\u001b[0m\u001b[1;33m\u001b[0m\u001b[1;33m\u001b[0m\u001b[0m\n\u001b[1;32m--> 253\u001b[1;33m                 \u001b[1;33m(\u001b[0m\u001b[0mdata\u001b[0m\u001b[1;33m,\u001b[0m \u001b[0mdims\u001b[0m\u001b[1;33m,\u001b[0m \u001b[0mextra_kws\u001b[0m\u001b[1;33m)\u001b[0m \u001b[1;33m=\u001b[0m \u001b[0minterface\u001b[0m\u001b[1;33m.\u001b[0m\u001b[0minit\u001b[0m\u001b[1;33m(\u001b[0m\u001b[0meltype\u001b[0m\u001b[1;33m,\u001b[0m \u001b[0mdata\u001b[0m\u001b[1;33m,\u001b[0m \u001b[0mkdims\u001b[0m\u001b[1;33m,\u001b[0m \u001b[0mvdims\u001b[0m\u001b[1;33m)\u001b[0m\u001b[1;33m\u001b[0m\u001b[1;33m\u001b[0m\u001b[0m\n\u001b[0m\u001b[0;32m    254\u001b[0m                 \u001b[1;32mbreak\u001b[0m\u001b[1;33m\u001b[0m\u001b[1;33m\u001b[0m\u001b[0m\n\u001b[0;32m    255\u001b[0m             \u001b[1;32mexcept\u001b[0m \u001b[0mDataError\u001b[0m\u001b[1;33m:\u001b[0m\u001b[1;33m\u001b[0m\u001b[1;33m\u001b[0m\u001b[0m\n",
      "\u001b[1;32md:\\Users\\Matthew\\Anaconda\\envs\\PythonData\\lib\\site-packages\\holoviews\\core\\data\\pandas.py\u001b[0m in \u001b[0;36minit\u001b[1;34m(cls, eltype, data, kdims, vdims)\u001b[0m\n\u001b[0;32m     99\u001b[0m                                     \u001b[1;34m'columns (found duplicate %r columns). If you want to plot '\u001b[0m\u001b[1;33m\u001b[0m\u001b[1;33m\u001b[0m\u001b[0m\n\u001b[0;32m    100\u001b[0m                                     \u001b[1;34m'a column against itself simply declare two dimensions '\u001b[0m\u001b[1;33m\u001b[0m\u001b[1;33m\u001b[0m\u001b[0m\n\u001b[1;32m--> 101\u001b[1;33m                                     'with the same name. '% d, cls)\n\u001b[0m\u001b[0;32m    102\u001b[0m         \u001b[1;32melse\u001b[0m\u001b[1;33m:\u001b[0m\u001b[1;33m\u001b[0m\u001b[1;33m\u001b[0m\u001b[0m\n\u001b[0;32m    103\u001b[0m             \u001b[1;31m# Check if data is of non-numeric type\u001b[0m\u001b[1;33m\u001b[0m\u001b[1;33m\u001b[0m\u001b[1;33m\u001b[0m\u001b[0m\n",
      "\u001b[1;31mDataError\u001b[0m: Dimensions may not reference duplicated DataFrame columns (found duplicate '2425_salary_predicted' columns). If you want to plot a column against itself simply declare two dimensions with the same name. \n\nPandasInterface expects tabular data, for more information on supported datatypes see http://holoviews.org/user_guide/Tabular_Datasets.html"
     ]
    }
   ],
   "source": [
    "# Create a scatter plot using hvPlot by setting \n",
    "# `x=\"price_change_percentage_24h\"` and `y=\"price_change_percentage_7d\"`. \n",
    "# Color the graph points with the labels found using K-Means and \n",
    "# add the crypto name in the `hover_cols` parameter to identify \n",
    "# the cryptocurrency represented by each data point.\n",
    "player_scaled_plot=df_player_data_scaled.hvplot.scatter(\n",
    "                    x=\"SALARY\",\n",
    "                    y=\"AGE\",\n",
    "                    by=\"Prediction\",\n",
    "                    hover_cols=['Player_Name']\n",
    "                )\n",
    "\n",
    "player_scaled_plot"
   ]
  },
  {
   "cell_type": "markdown",
   "metadata": {},
   "source": [
    "---"
   ]
  },
  {
   "cell_type": "markdown",
   "metadata": {},
   "source": [
    "### Optimize Clusters with Principal Component Analysis."
   ]
  },
  {
   "cell_type": "code",
   "execution_count": null,
   "metadata": {},
   "outputs": [],
   "source": [
    "# Create a PCA model instance and set `n_components=3`.\n",
    "pca = PCA(n_components=3)"
   ]
  },
  {
   "cell_type": "code",
   "execution_count": null,
   "metadata": {},
   "outputs": [
    {
     "data": {
      "text/plain": [
       "array([[11.63678593,  6.61264567, -5.07300974],\n",
       "       [10.80957469,  6.57165531, -6.21546069],\n",
       "       [ 6.53033748, 11.84751173, -0.15279892],\n",
       "       [ 6.85222924, 11.69320949,  0.42509585],\n",
       "       [10.59496789,  6.08456894, -3.2487687 ]])"
      ]
     },
     "execution_count": 136,
     "metadata": {},
     "output_type": "execute_result"
    }
   ],
   "source": [
    "# Use the PCA model with `fit_transform` to reduce to \n",
    "# three principal components.\n",
    "player_pca = pca.fit_transform(df_player_data_scaled)\n",
    "# View the first five rows of the DataFrame. \n",
    "player_pca[:5]"
   ]
  },
  {
   "cell_type": "code",
   "execution_count": null,
   "metadata": {},
   "outputs": [
    {
     "data": {
      "text/plain": [
       "array([0.34528068, 0.16269572, 0.10405852])"
      ]
     },
     "execution_count": 137,
     "metadata": {},
     "output_type": "execute_result"
    }
   ],
   "source": [
    "# Retrieve the explained variance to determine how much information \n",
    "# can be attributed to each principal component.\n",
    "pca.explained_variance_ratio_"
   ]
  },
  {
   "cell_type": "code",
   "execution_count": null,
   "metadata": {},
   "outputs": [
    {
     "data": {
      "text/plain": [
       "0.6120349226009077"
      ]
     },
     "execution_count": 138,
     "metadata": {},
     "output_type": "execute_result"
    }
   ],
   "source": [
    "total_explained_variance = sum(pca.explained_variance_ratio_)\n",
    "total_explained_variance"
   ]
  },
  {
   "cell_type": "markdown",
   "metadata": {},
   "source": [
    "#### Answer the following question: \n",
    "\n",
    "**Question:** What is the total explained variance of the three principal components?\n",
    "\n",
    "**Answer:62.4%"
   ]
  },
  {
   "cell_type": "code",
   "execution_count": null,
   "metadata": {},
   "outputs": [
    {
     "data": {
      "text/html": [
       "<div>\n",
       "<style scoped>\n",
       "    .dataframe tbody tr th:only-of-type {\n",
       "        vertical-align: middle;\n",
       "    }\n",
       "\n",
       "    .dataframe tbody tr th {\n",
       "        vertical-align: top;\n",
       "    }\n",
       "\n",
       "    .dataframe thead th {\n",
       "        text-align: right;\n",
       "    }\n",
       "</style>\n",
       "<table border=\"1\" class=\"dataframe\">\n",
       "  <thead>\n",
       "    <tr style=\"text-align: right;\">\n",
       "      <th></th>\n",
       "      <th>PCA1</th>\n",
       "      <th>PCA2</th>\n",
       "      <th>PCA3</th>\n",
       "    </tr>\n",
       "    <tr>\n",
       "      <th>player_name</th>\n",
       "      <th></th>\n",
       "      <th></th>\n",
       "      <th></th>\n",
       "    </tr>\n",
       "  </thead>\n",
       "  <tbody>\n",
       "    <tr>\n",
       "      <th>0</th>\n",
       "      <td>11.636786</td>\n",
       "      <td>6.612646</td>\n",
       "      <td>-5.073010</td>\n",
       "    </tr>\n",
       "    <tr>\n",
       "      <th>1</th>\n",
       "      <td>10.809575</td>\n",
       "      <td>6.571655</td>\n",
       "      <td>-6.215461</td>\n",
       "    </tr>\n",
       "    <tr>\n",
       "      <th>2</th>\n",
       "      <td>6.530337</td>\n",
       "      <td>11.847512</td>\n",
       "      <td>-0.152799</td>\n",
       "    </tr>\n",
       "    <tr>\n",
       "      <th>3</th>\n",
       "      <td>6.852229</td>\n",
       "      <td>11.693209</td>\n",
       "      <td>0.425096</td>\n",
       "    </tr>\n",
       "    <tr>\n",
       "      <th>4</th>\n",
       "      <td>10.594968</td>\n",
       "      <td>6.084569</td>\n",
       "      <td>-3.248769</td>\n",
       "    </tr>\n",
       "    <tr>\n",
       "      <th>5</th>\n",
       "      <td>6.517417</td>\n",
       "      <td>8.455350</td>\n",
       "      <td>-4.206892</td>\n",
       "    </tr>\n",
       "    <tr>\n",
       "      <th>6</th>\n",
       "      <td>0.259048</td>\n",
       "      <td>2.555738</td>\n",
       "      <td>-3.271047</td>\n",
       "    </tr>\n",
       "    <tr>\n",
       "      <th>7</th>\n",
       "      <td>1.803199</td>\n",
       "      <td>2.168546</td>\n",
       "      <td>-2.720531</td>\n",
       "    </tr>\n",
       "    <tr>\n",
       "      <th>8</th>\n",
       "      <td>-0.989860</td>\n",
       "      <td>4.951114</td>\n",
       "      <td>-0.036730</td>\n",
       "    </tr>\n",
       "    <tr>\n",
       "      <th>9</th>\n",
       "      <td>-1.963786</td>\n",
       "      <td>6.821792</td>\n",
       "      <td>-1.448295</td>\n",
       "    </tr>\n",
       "  </tbody>\n",
       "</table>\n",
       "</div>"
      ],
      "text/plain": [
       "                  PCA1       PCA2      PCA3\n",
       "player_name                                \n",
       "0            11.636786   6.612646 -5.073010\n",
       "1            10.809575   6.571655 -6.215461\n",
       "2             6.530337  11.847512 -0.152799\n",
       "3             6.852229  11.693209  0.425096\n",
       "4            10.594968   6.084569 -3.248769\n",
       "5             6.517417   8.455350 -4.206892\n",
       "6             0.259048   2.555738 -3.271047\n",
       "7             1.803199   2.168546 -2.720531\n",
       "8            -0.989860   4.951114 -0.036730\n",
       "9            -1.963786   6.821792 -1.448295"
      ]
     },
     "execution_count": 139,
     "metadata": {},
     "output_type": "execute_result"
    }
   ],
   "source": [
    "# Create a new DataFrame with the PCA data.\n",
    "player_pca = pd.DataFrame(\n",
    "    player_pca,\n",
    "    columns=[\"PCA1\", \"PCA2\" , \"PCA3\"]\n",
    ")\n",
    "\n",
    "# Creating a DataFrame with the PCA data\n",
    "player_pca[\"player_name\"]=player_pca.index\n",
    "# Copy the crypto names from the original data\n",
    "player_pca=player_pca.set_index('player_name')\n",
    "\n",
    "# Set the coinid column as index\n",
    "\n",
    "\n",
    "# Display sample data\n",
    "player_pca.head(10)"
   ]
  },
  {
   "cell_type": "markdown",
   "metadata": {},
   "source": [
    "---"
   ]
  },
  {
   "cell_type": "markdown",
   "metadata": {},
   "source": [
    "### Find the Best Value for k Using the PCA Data"
   ]
  },
  {
   "cell_type": "code",
   "execution_count": null,
   "metadata": {},
   "outputs": [],
   "source": [
    "# Create a list with the number of k-values from 1 to 11\n",
    "k_pca=list(range(1,11))"
   ]
  },
  {
   "cell_type": "code",
   "execution_count": null,
   "metadata": {},
   "outputs": [
    {
     "name": "stderr",
     "output_type": "stream",
     "text": [
      "C:\\Users\\KandelLabDoric\\anaconda3a\\lib\\site-packages\\sklearn\\cluster\\_kmeans.py:870: FutureWarning:\n",
      "\n",
      "The default value of `n_init` will change from 10 to 'auto' in 1.4. Set the value of `n_init` explicitly to suppress the warning\n",
      "\n",
      "C:\\Users\\KandelLabDoric\\anaconda3a\\lib\\site-packages\\sklearn\\cluster\\_kmeans.py:1382: UserWarning:\n",
      "\n",
      "KMeans is known to have a memory leak on Windows with MKL, when there are less chunks than available threads. You can avoid it by setting the environment variable OMP_NUM_THREADS=1.\n",
      "\n",
      "C:\\Users\\KandelLabDoric\\anaconda3a\\lib\\site-packages\\sklearn\\cluster\\_kmeans.py:870: FutureWarning:\n",
      "\n",
      "The default value of `n_init` will change from 10 to 'auto' in 1.4. Set the value of `n_init` explicitly to suppress the warning\n",
      "\n",
      "C:\\Users\\KandelLabDoric\\anaconda3a\\lib\\site-packages\\sklearn\\cluster\\_kmeans.py:1382: UserWarning:\n",
      "\n",
      "KMeans is known to have a memory leak on Windows with MKL, when there are less chunks than available threads. You can avoid it by setting the environment variable OMP_NUM_THREADS=1.\n",
      "\n",
      "C:\\Users\\KandelLabDoric\\anaconda3a\\lib\\site-packages\\sklearn\\cluster\\_kmeans.py:870: FutureWarning:\n",
      "\n",
      "The default value of `n_init` will change from 10 to 'auto' in 1.4. Set the value of `n_init` explicitly to suppress the warning\n",
      "\n",
      "C:\\Users\\KandelLabDoric\\anaconda3a\\lib\\site-packages\\sklearn\\cluster\\_kmeans.py:1382: UserWarning:\n",
      "\n",
      "KMeans is known to have a memory leak on Windows with MKL, when there are less chunks than available threads. You can avoid it by setting the environment variable OMP_NUM_THREADS=1.\n",
      "\n",
      "C:\\Users\\KandelLabDoric\\anaconda3a\\lib\\site-packages\\sklearn\\cluster\\_kmeans.py:870: FutureWarning:\n",
      "\n",
      "The default value of `n_init` will change from 10 to 'auto' in 1.4. Set the value of `n_init` explicitly to suppress the warning\n",
      "\n",
      "C:\\Users\\KandelLabDoric\\anaconda3a\\lib\\site-packages\\sklearn\\cluster\\_kmeans.py:1382: UserWarning:\n",
      "\n",
      "KMeans is known to have a memory leak on Windows with MKL, when there are less chunks than available threads. You can avoid it by setting the environment variable OMP_NUM_THREADS=1.\n",
      "\n",
      "C:\\Users\\KandelLabDoric\\anaconda3a\\lib\\site-packages\\sklearn\\cluster\\_kmeans.py:870: FutureWarning:\n",
      "\n",
      "The default value of `n_init` will change from 10 to 'auto' in 1.4. Set the value of `n_init` explicitly to suppress the warning\n",
      "\n",
      "C:\\Users\\KandelLabDoric\\anaconda3a\\lib\\site-packages\\sklearn\\cluster\\_kmeans.py:1382: UserWarning:\n",
      "\n",
      "KMeans is known to have a memory leak on Windows with MKL, when there are less chunks than available threads. You can avoid it by setting the environment variable OMP_NUM_THREADS=1.\n",
      "\n",
      "C:\\Users\\KandelLabDoric\\anaconda3a\\lib\\site-packages\\sklearn\\cluster\\_kmeans.py:870: FutureWarning:\n",
      "\n",
      "The default value of `n_init` will change from 10 to 'auto' in 1.4. Set the value of `n_init` explicitly to suppress the warning\n",
      "\n",
      "C:\\Users\\KandelLabDoric\\anaconda3a\\lib\\site-packages\\sklearn\\cluster\\_kmeans.py:1382: UserWarning:\n",
      "\n",
      "KMeans is known to have a memory leak on Windows with MKL, when there are less chunks than available threads. You can avoid it by setting the environment variable OMP_NUM_THREADS=1.\n",
      "\n",
      "C:\\Users\\KandelLabDoric\\anaconda3a\\lib\\site-packages\\sklearn\\cluster\\_kmeans.py:870: FutureWarning:\n",
      "\n",
      "The default value of `n_init` will change from 10 to 'auto' in 1.4. Set the value of `n_init` explicitly to suppress the warning\n",
      "\n",
      "C:\\Users\\KandelLabDoric\\anaconda3a\\lib\\site-packages\\sklearn\\cluster\\_kmeans.py:1382: UserWarning:\n",
      "\n",
      "KMeans is known to have a memory leak on Windows with MKL, when there are less chunks than available threads. You can avoid it by setting the environment variable OMP_NUM_THREADS=1.\n",
      "\n",
      "C:\\Users\\KandelLabDoric\\anaconda3a\\lib\\site-packages\\sklearn\\cluster\\_kmeans.py:870: FutureWarning:\n",
      "\n",
      "The default value of `n_init` will change from 10 to 'auto' in 1.4. Set the value of `n_init` explicitly to suppress the warning\n",
      "\n",
      "C:\\Users\\KandelLabDoric\\anaconda3a\\lib\\site-packages\\sklearn\\cluster\\_kmeans.py:1382: UserWarning:\n",
      "\n",
      "KMeans is known to have a memory leak on Windows with MKL, when there are less chunks than available threads. You can avoid it by setting the environment variable OMP_NUM_THREADS=1.\n",
      "\n",
      "C:\\Users\\KandelLabDoric\\anaconda3a\\lib\\site-packages\\sklearn\\cluster\\_kmeans.py:870: FutureWarning:\n",
      "\n",
      "The default value of `n_init` will change from 10 to 'auto' in 1.4. Set the value of `n_init` explicitly to suppress the warning\n",
      "\n",
      "C:\\Users\\KandelLabDoric\\anaconda3a\\lib\\site-packages\\sklearn\\cluster\\_kmeans.py:1382: UserWarning:\n",
      "\n",
      "KMeans is known to have a memory leak on Windows with MKL, when there are less chunks than available threads. You can avoid it by setting the environment variable OMP_NUM_THREADS=1.\n",
      "\n",
      "C:\\Users\\KandelLabDoric\\anaconda3a\\lib\\site-packages\\sklearn\\cluster\\_kmeans.py:870: FutureWarning:\n",
      "\n",
      "The default value of `n_init` will change from 10 to 'auto' in 1.4. Set the value of `n_init` explicitly to suppress the warning\n",
      "\n",
      "C:\\Users\\KandelLabDoric\\anaconda3a\\lib\\site-packages\\sklearn\\cluster\\_kmeans.py:1382: UserWarning:\n",
      "\n",
      "KMeans is known to have a memory leak on Windows with MKL, when there are less chunks than available threads. You can avoid it by setting the environment variable OMP_NUM_THREADS=1.\n",
      "\n"
     ]
    }
   ],
   "source": [
    "# Create an empty list to store the inertia values\n",
    "inertia=[]\n",
    "\n",
    "# Create a for loop to compute the inertia with each possible value of k\n",
    "# Inside the loop:\n",
    "# 1. Create a KMeans model using the loop counter for the n_clusters\n",
    "# 2. Fit the model to the data using `df_market_data_pca`\n",
    "# 3. Append the model.inertia_ to the inertia list\n",
    "for i in k_pca:\n",
    "    k_model = KMeans(n_clusters=i, random_state=0)\n",
    "    k_model.fit(player_pca)\n",
    "    inertia.append(k_model.inertia_)"
   ]
  },
  {
   "cell_type": "code",
   "execution_count": null,
   "metadata": {},
   "outputs": [
    {
     "data": {
      "text/html": [
       "<div>\n",
       "<style scoped>\n",
       "    .dataframe tbody tr th:only-of-type {\n",
       "        vertical-align: middle;\n",
       "    }\n",
       "\n",
       "    .dataframe tbody tr th {\n",
       "        vertical-align: top;\n",
       "    }\n",
       "\n",
       "    .dataframe thead th {\n",
       "        text-align: right;\n",
       "    }\n",
       "</style>\n",
       "<table border=\"1\" class=\"dataframe\">\n",
       "  <thead>\n",
       "    <tr style=\"text-align: right;\">\n",
       "      <th></th>\n",
       "      <th>k_pca</th>\n",
       "      <th>inertia</th>\n",
       "    </tr>\n",
       "  </thead>\n",
       "  <tbody>\n",
       "    <tr>\n",
       "      <th>0</th>\n",
       "      <td>1</td>\n",
       "      <td>4993.592934</td>\n",
       "    </tr>\n",
       "    <tr>\n",
       "      <th>1</th>\n",
       "      <td>2</td>\n",
       "      <td>3138.896144</td>\n",
       "    </tr>\n",
       "    <tr>\n",
       "      <th>2</th>\n",
       "      <td>3</td>\n",
       "      <td>2094.077161</td>\n",
       "    </tr>\n",
       "    <tr>\n",
       "      <th>3</th>\n",
       "      <td>4</td>\n",
       "      <td>1625.245806</td>\n",
       "    </tr>\n",
       "    <tr>\n",
       "      <th>4</th>\n",
       "      <td>5</td>\n",
       "      <td>1277.534521</td>\n",
       "    </tr>\n",
       "  </tbody>\n",
       "</table>\n",
       "</div>"
      ],
      "text/plain": [
       "   k_pca      inertia\n",
       "0      1  4993.592934\n",
       "1      2  3138.896144\n",
       "2      3  2094.077161\n",
       "3      4  1625.245806\n",
       "4      5  1277.534521"
      ]
     },
     "execution_count": 142,
     "metadata": {},
     "output_type": "execute_result"
    }
   ],
   "source": [
    "# Create a dictionary with the data to plot the Elbow curve\n",
    "elbow_data = {'k_pca': k_pca , 'inertia': inertia}\n",
    "# Create a DataFrame with the data to plot the Elbow curve\n",
    "df_elbow_pca = pd.DataFrame(elbow_data)\n",
    "df_elbow_pca.head()"
   ]
  },
  {
   "cell_type": "code",
   "execution_count": null,
   "metadata": {},
   "outputs": [
    {
     "data": {},
     "metadata": {},
     "output_type": "display_data"
    },
    {
     "data": {
      "application/vnd.holoviews_exec.v0+json": "",
      "text/html": [
       "<div id='12664'>\n",
       "  <div class=\"bk-root\" id=\"d4b744e7-29ad-4423-a7dd-a78383bf2206\" data-root-id=\"12664\"></div>\n",
       "</div>\n",
       "<script type=\"application/javascript\">(function(root) {\n",
       "  function embed_document(root) {\n",
       "    var docs_json = {\"8a3bbffd-080c-437e-a0cc-b30624d64592\":{\"defs\":[{\"extends\":null,\"module\":null,\"name\":\"ReactiveHTML1\",\"overrides\":[],\"properties\":[]},{\"extends\":null,\"module\":null,\"name\":\"FlexBox1\",\"overrides\":[],\"properties\":[{\"default\":\"flex-start\",\"kind\":null,\"name\":\"align_content\"},{\"default\":\"flex-start\",\"kind\":null,\"name\":\"align_items\"},{\"default\":\"row\",\"kind\":null,\"name\":\"flex_direction\"},{\"default\":\"wrap\",\"kind\":null,\"name\":\"flex_wrap\"},{\"default\":\"flex-start\",\"kind\":null,\"name\":\"justify_content\"}]},{\"extends\":null,\"module\":null,\"name\":\"GridStack1\",\"overrides\":[],\"properties\":[{\"default\":\"warn\",\"kind\":null,\"name\":\"mode\"},{\"default\":null,\"kind\":null,\"name\":\"ncols\"},{\"default\":null,\"kind\":null,\"name\":\"nrows\"},{\"default\":true,\"kind\":null,\"name\":\"allow_resize\"},{\"default\":true,\"kind\":null,\"name\":\"allow_drag\"},{\"default\":[],\"kind\":null,\"name\":\"state\"}]},{\"extends\":null,\"module\":null,\"name\":\"click1\",\"overrides\":[],\"properties\":[{\"default\":\"\",\"kind\":null,\"name\":\"terminal_output\"},{\"default\":\"\",\"kind\":null,\"name\":\"debug_name\"},{\"default\":0,\"kind\":null,\"name\":\"clears\"}]},{\"extends\":null,\"module\":null,\"name\":\"NotificationAreaBase1\",\"overrides\":[],\"properties\":[{\"default\":\"bottom-right\",\"kind\":null,\"name\":\"position\"},{\"default\":0,\"kind\":null,\"name\":\"_clear\"}]},{\"extends\":null,\"module\":null,\"name\":\"NotificationArea1\",\"overrides\":[],\"properties\":[{\"default\":[],\"kind\":null,\"name\":\"notifications\"},{\"default\":\"bottom-right\",\"kind\":null,\"name\":\"position\"},{\"default\":0,\"kind\":null,\"name\":\"_clear\"},{\"default\":[{\"background\":\"#ffc107\",\"icon\":{\"className\":\"fas fa-exclamation-triangle\",\"color\":\"white\",\"tagName\":\"i\"},\"type\":\"warning\"},{\"background\":\"#007bff\",\"icon\":{\"className\":\"fas fa-info-circle\",\"color\":\"white\",\"tagName\":\"i\"},\"type\":\"info\"}],\"kind\":null,\"name\":\"types\"}]},{\"extends\":null,\"module\":null,\"name\":\"Notification\",\"overrides\":[],\"properties\":[{\"default\":null,\"kind\":null,\"name\":\"background\"},{\"default\":3000,\"kind\":null,\"name\":\"duration\"},{\"default\":null,\"kind\":null,\"name\":\"icon\"},{\"default\":\"\",\"kind\":null,\"name\":\"message\"},{\"default\":null,\"kind\":null,\"name\":\"notification_type\"},{\"default\":false,\"kind\":null,\"name\":\"_destroyed\"}]},{\"extends\":null,\"module\":null,\"name\":\"TemplateActions1\",\"overrides\":[],\"properties\":[{\"default\":0,\"kind\":null,\"name\":\"open_modal\"},{\"default\":0,\"kind\":null,\"name\":\"close_modal\"}]},{\"extends\":null,\"module\":null,\"name\":\"MaterialTemplateActions1\",\"overrides\":[],\"properties\":[{\"default\":0,\"kind\":null,\"name\":\"open_modal\"},{\"default\":0,\"kind\":null,\"name\":\"close_modal\"}]}],\"roots\":{\"references\":[{\"attributes\":{\"axis_label\":\"k_pca\",\"coordinates\":null,\"formatter\":{\"id\":\"12709\"},\"group\":null,\"major_label_policy\":{\"id\":\"12710\"},\"ticker\":{\"id\":\"12707\"}},\"id\":\"12677\",\"type\":\"LinearAxis\"},{\"attributes\":{\"line_color\":\"#30a2da\",\"line_width\":2,\"x\":{\"field\":\"k_pca\"},\"y\":{\"field\":\"inertia\"}},\"id\":\"12701\",\"type\":\"Line\"},{\"attributes\":{\"line_color\":\"#30a2da\",\"line_width\":2,\"x\":{\"field\":\"k_pca\"},\"y\":{\"field\":\"inertia\"}},\"id\":\"12706\",\"type\":\"Line\"},{\"attributes\":{\"line_alpha\":0.1,\"line_color\":\"#30a2da\",\"line_width\":2,\"x\":{\"field\":\"k_pca\"},\"y\":{\"field\":\"inertia\"}},\"id\":\"12702\",\"type\":\"Line\"},{\"attributes\":{},\"id\":\"12682\",\"type\":\"BasicTicker\"},{\"attributes\":{},\"id\":\"12715\",\"type\":\"AllLabels\"},{\"attributes\":{\"coordinates\":null,\"data_source\":{\"id\":\"12698\"},\"glyph\":{\"id\":\"12701\"},\"group\":null,\"hover_glyph\":null,\"muted_glyph\":{\"id\":\"12703\"},\"nonselection_glyph\":{\"id\":\"12702\"},\"selection_glyph\":{\"id\":\"12706\"},\"view\":{\"id\":\"12705\"}},\"id\":\"12704\",\"type\":\"GlyphRenderer\"},{\"attributes\":{},\"id\":\"12726\",\"type\":\"UnionRenderers\"},{\"attributes\":{\"ticks\":[1,2,3,4,5,6,7,8,9,10,11,12,13,14,15,16,17,18,19]},\"id\":\"12707\",\"type\":\"FixedTicker\"},{\"attributes\":{},\"id\":\"12710\",\"type\":\"AllLabels\"},{\"attributes\":{},\"id\":\"12686\",\"type\":\"PanTool\"},{\"attributes\":{\"axis\":{\"id\":\"12677\"},\"coordinates\":null,\"grid_line_color\":null,\"group\":null,\"ticker\":null},\"id\":\"12680\",\"type\":\"Grid\"},{\"attributes\":{\"axis\":{\"id\":\"12681\"},\"coordinates\":null,\"dimension\":1,\"grid_line_color\":null,\"group\":null,\"ticker\":null},\"id\":\"12684\",\"type\":\"Grid\"},{\"attributes\":{\"children\":[{\"id\":\"12668\"}],\"height\":300,\"margin\":[0,0,0,0],\"name\":\"Row08276\",\"sizing_mode\":\"fixed\",\"tags\":[\"embedded\"],\"width\":700},\"id\":\"12664\",\"type\":\"Row\"},{\"attributes\":{\"active_drag\":{\"id\":\"12686\"},\"active_scroll\":{\"id\":\"12687\"},\"tools\":[{\"id\":\"12667\"},{\"id\":\"12685\"},{\"id\":\"12686\"},{\"id\":\"12687\"},{\"id\":\"12688\"},{\"id\":\"12689\"}]},\"id\":\"12691\",\"type\":\"Toolbar\"},{\"attributes\":{\"below\":[{\"id\":\"12677\"}],\"center\":[{\"id\":\"12680\"},{\"id\":\"12684\"}],\"height\":300,\"left\":[{\"id\":\"12681\"}],\"margin\":[5,5,5,5],\"min_border_bottom\":10,\"min_border_left\":10,\"min_border_right\":10,\"min_border_top\":10,\"renderers\":[{\"id\":\"12704\"}],\"sizing_mode\":\"fixed\",\"title\":{\"id\":\"12669\"},\"toolbar\":{\"id\":\"12691\"},\"width\":700,\"x_range\":{\"id\":\"12665\"},\"x_scale\":{\"id\":\"12673\"},\"y_range\":{\"id\":\"12666\"},\"y_scale\":{\"id\":\"12675\"}},\"id\":\"12668\",\"subtype\":\"Figure\",\"type\":\"Plot\"},{\"attributes\":{},\"id\":\"12673\",\"type\":\"LinearScale\"},{\"attributes\":{},\"id\":\"12714\",\"type\":\"BasicTickFormatter\"},{\"attributes\":{\"axis_label\":\"inertia\",\"coordinates\":null,\"formatter\":{\"id\":\"12714\"},\"group\":null,\"major_label_policy\":{\"id\":\"12715\"},\"ticker\":{\"id\":\"12682\"}},\"id\":\"12681\",\"type\":\"LinearAxis\"},{\"attributes\":{},\"id\":\"12675\",\"type\":\"LinearScale\"},{\"attributes\":{\"callback\":null,\"renderers\":[{\"id\":\"12704\"}],\"tags\":[\"hv_created\"],\"tooltips\":[[\"k_pca\",\"@{k_pca}\"],[\"inertia\",\"@{inertia}\"]]},\"id\":\"12667\",\"type\":\"HoverTool\"},{\"attributes\":{\"bottom_units\":\"screen\",\"coordinates\":null,\"fill_alpha\":0.5,\"fill_color\":\"lightgrey\",\"group\":null,\"left_units\":\"screen\",\"level\":\"overlay\",\"line_alpha\":1.0,\"line_color\":\"black\",\"line_dash\":[4,4],\"line_width\":2,\"right_units\":\"screen\",\"syncable\":false,\"top_units\":\"screen\"},\"id\":\"12690\",\"type\":\"BoxAnnotation\"},{\"attributes\":{\"end\":10.0,\"reset_end\":10.0,\"reset_start\":1.0,\"start\":1.0,\"tags\":[[[\"k_pca\",\"k_pca\",null]]]},\"id\":\"12665\",\"type\":\"Range1d\"},{\"attributes\":{\"data\":{\"inertia\":{\"__ndarray__\":\"rWp9ypeBs0BDiW/TyoWoQNxsm4EnXKBAUPertPtkmUA32JJZI/aTQOM5bCPN/5BAYGpmEVi9jEBvhSgc50GJQFlkNOTtVIZAexg+XQSLhEA=\",\"dtype\":\"float64\",\"order\":\"little\",\"shape\":[10]},\"k_pca\":[1,2,3,4,5,6,7,8,9,10]},\"selected\":{\"id\":\"12699\"},\"selection_policy\":{\"id\":\"12726\"}},\"id\":\"12698\",\"type\":\"ColumnDataSource\"},{\"attributes\":{},\"id\":\"12689\",\"type\":\"ResetTool\"},{\"attributes\":{\"source\":{\"id\":\"12698\"}},\"id\":\"12705\",\"type\":\"CDSView\"},{\"attributes\":{},\"id\":\"12685\",\"type\":\"SaveTool\"},{\"attributes\":{},\"id\":\"12687\",\"type\":\"WheelZoomTool\"},{\"attributes\":{\"overlay\":{\"id\":\"12690\"}},\"id\":\"12688\",\"type\":\"BoxZoomTool\"},{\"attributes\":{},\"id\":\"12709\",\"type\":\"BasicTickFormatter\"},{\"attributes\":{},\"id\":\"12699\",\"type\":\"Selection\"},{\"attributes\":{\"end\":5427.214513753783,\"reset_end\":5427.214513753783,\"reset_start\":223.75555071809754,\"start\":223.75555071809754,\"tags\":[[[\"inertia\",\"inertia\",null]]]},\"id\":\"12666\",\"type\":\"Range1d\"},{\"attributes\":{\"line_alpha\":0.2,\"line_color\":\"#30a2da\",\"line_width\":2,\"x\":{\"field\":\"k_pca\"},\"y\":{\"field\":\"inertia\"}},\"id\":\"12703\",\"type\":\"Line\"},{\"attributes\":{\"coordinates\":null,\"group\":null,\"text\":\"Elbow Curve\",\"text_color\":\"black\",\"text_font_size\":\"12pt\"},\"id\":\"12669\",\"type\":\"Title\"}],\"root_ids\":[\"12664\"]},\"title\":\"Bokeh Application\",\"version\":\"2.4.3\"}};\n",
       "    var render_items = [{\"docid\":\"8a3bbffd-080c-437e-a0cc-b30624d64592\",\"root_ids\":[\"12664\"],\"roots\":{\"12664\":\"d4b744e7-29ad-4423-a7dd-a78383bf2206\"}}];\n",
       "    root.Bokeh.embed.embed_items_notebook(docs_json, render_items);\n",
       "    for (const render_item of render_items) {\n",
       "      for (const root_id of render_item.root_ids) {\n",
       "\tconst id_el = document.getElementById(root_id)\n",
       "\tif (id_el.children.length && (id_el.children[0].className === 'bk-root')) {\n",
       "\t  const root_el = id_el.children[0]\n",
       "\t  root_el.id = root_el.id + '-rendered'\n",
       "\t}\n",
       "      }\n",
       "    }\n",
       "  }\n",
       "  if (root.Bokeh !== undefined && root.Bokeh.Panel !== undefined) {\n",
       "    embed_document(root);\n",
       "  } else {\n",
       "    var attempts = 0;\n",
       "    var timer = setInterval(function(root) {\n",
       "      if (root.Bokeh !== undefined && root.Bokeh.Panel !== undefined) {\n",
       "        clearInterval(timer);\n",
       "        embed_document(root);\n",
       "      } else if (document.readyState == \"complete\") {\n",
       "        attempts++;\n",
       "        if (attempts > 200) {\n",
       "          clearInterval(timer);\n",
       "          console.log(\"Bokeh: ERROR: Unable to run BokehJS code because BokehJS library is missing\");\n",
       "        }\n",
       "      }\n",
       "    }, 25, root)\n",
       "  }\n",
       "})(window);</script>"
      ],
      "text/plain": [
       ":Curve   [k_pca]   (inertia)"
      ]
     },
     "execution_count": 143,
     "metadata": {
      "application/vnd.holoviews_exec.v0+json": {
       "id": "12664"
      }
     },
     "output_type": "execute_result"
    }
   ],
   "source": [
    "# Plot a line chart with all the inertia values computed with \n",
    "# the different values of k to visually identify the optimal value for k.\n",
    "elbow_pca_plot = df_elbow_pca.hvplot.line(\n",
    "    x=\"k_pca\", \n",
    "    y=\"inertia\", \n",
    "    title=\"Elbow Curve\", \n",
    "    xticks=k\n",
    ")\n",
    "elbow_pca_plot"
   ]
  },
  {
   "cell_type": "markdown",
   "metadata": {},
   "source": [
    "#### Answer the following questions: \n",
    "\n",
    "* **Question:** What is the best value for `k` when using the PCA data?\n",
    "\n",
    "  * **Answer:2\n",
    "\n",
    "\n",
    "* **Question:** Does it differ from the best k value found using the original data?\n",
    "\n",
    "  * **Answer:YES"
   ]
  },
  {
   "cell_type": "markdown",
   "metadata": {},
   "source": [
    "### Cluster player name with K-means Using the PCA Data"
   ]
  },
  {
   "cell_type": "code",
   "execution_count": null,
   "metadata": {},
   "outputs": [],
   "source": [
    "# Initialize the K-Means model using the best value for k\n",
    "model = KMeans(n_clusters=3, random_state=0)"
   ]
  },
  {
   "cell_type": "code",
   "execution_count": null,
   "metadata": {},
   "outputs": [
    {
     "name": "stderr",
     "output_type": "stream",
     "text": [
      "C:\\Users\\KandelLabDoric\\anaconda3a\\lib\\site-packages\\sklearn\\cluster\\_kmeans.py:870: FutureWarning:\n",
      "\n",
      "The default value of `n_init` will change from 10 to 'auto' in 1.4. Set the value of `n_init` explicitly to suppress the warning\n",
      "\n",
      "C:\\Users\\KandelLabDoric\\anaconda3a\\lib\\site-packages\\sklearn\\cluster\\_kmeans.py:1382: UserWarning:\n",
      "\n",
      "KMeans is known to have a memory leak on Windows with MKL, when there are less chunks than available threads. You can avoid it by setting the environment variable OMP_NUM_THREADS=1.\n",
      "\n"
     ]
    },
    {
     "data": {
      "text/html": [
       "<style>#sk-container-id-9 {color: black;background-color: white;}#sk-container-id-9 pre{padding: 0;}#sk-container-id-9 div.sk-toggleable {background-color: white;}#sk-container-id-9 label.sk-toggleable__label {cursor: pointer;display: block;width: 100%;margin-bottom: 0;padding: 0.3em;box-sizing: border-box;text-align: center;}#sk-container-id-9 label.sk-toggleable__label-arrow:before {content: \"▸\";float: left;margin-right: 0.25em;color: #696969;}#sk-container-id-9 label.sk-toggleable__label-arrow:hover:before {color: black;}#sk-container-id-9 div.sk-estimator:hover label.sk-toggleable__label-arrow:before {color: black;}#sk-container-id-9 div.sk-toggleable__content {max-height: 0;max-width: 0;overflow: hidden;text-align: left;background-color: #f0f8ff;}#sk-container-id-9 div.sk-toggleable__content pre {margin: 0.2em;color: black;border-radius: 0.25em;background-color: #f0f8ff;}#sk-container-id-9 input.sk-toggleable__control:checked~div.sk-toggleable__content {max-height: 200px;max-width: 100%;overflow: auto;}#sk-container-id-9 input.sk-toggleable__control:checked~label.sk-toggleable__label-arrow:before {content: \"▾\";}#sk-container-id-9 div.sk-estimator input.sk-toggleable__control:checked~label.sk-toggleable__label {background-color: #d4ebff;}#sk-container-id-9 div.sk-label input.sk-toggleable__control:checked~label.sk-toggleable__label {background-color: #d4ebff;}#sk-container-id-9 input.sk-hidden--visually {border: 0;clip: rect(1px 1px 1px 1px);clip: rect(1px, 1px, 1px, 1px);height: 1px;margin: -1px;overflow: hidden;padding: 0;position: absolute;width: 1px;}#sk-container-id-9 div.sk-estimator {font-family: monospace;background-color: #f0f8ff;border: 1px dotted black;border-radius: 0.25em;box-sizing: border-box;margin-bottom: 0.5em;}#sk-container-id-9 div.sk-estimator:hover {background-color: #d4ebff;}#sk-container-id-9 div.sk-parallel-item::after {content: \"\";width: 100%;border-bottom: 1px solid gray;flex-grow: 1;}#sk-container-id-9 div.sk-label:hover label.sk-toggleable__label {background-color: #d4ebff;}#sk-container-id-9 div.sk-serial::before {content: \"\";position: absolute;border-left: 1px solid gray;box-sizing: border-box;top: 0;bottom: 0;left: 50%;z-index: 0;}#sk-container-id-9 div.sk-serial {display: flex;flex-direction: column;align-items: center;background-color: white;padding-right: 0.2em;padding-left: 0.2em;position: relative;}#sk-container-id-9 div.sk-item {position: relative;z-index: 1;}#sk-container-id-9 div.sk-parallel {display: flex;align-items: stretch;justify-content: center;background-color: white;position: relative;}#sk-container-id-9 div.sk-item::before, #sk-container-id-9 div.sk-parallel-item::before {content: \"\";position: absolute;border-left: 1px solid gray;box-sizing: border-box;top: 0;bottom: 0;left: 50%;z-index: -1;}#sk-container-id-9 div.sk-parallel-item {display: flex;flex-direction: column;z-index: 1;position: relative;background-color: white;}#sk-container-id-9 div.sk-parallel-item:first-child::after {align-self: flex-end;width: 50%;}#sk-container-id-9 div.sk-parallel-item:last-child::after {align-self: flex-start;width: 50%;}#sk-container-id-9 div.sk-parallel-item:only-child::after {width: 0;}#sk-container-id-9 div.sk-dashed-wrapped {border: 1px dashed gray;margin: 0 0.4em 0.5em 0.4em;box-sizing: border-box;padding-bottom: 0.4em;background-color: white;}#sk-container-id-9 div.sk-label label {font-family: monospace;font-weight: bold;display: inline-block;line-height: 1.2em;}#sk-container-id-9 div.sk-label-container {text-align: center;}#sk-container-id-9 div.sk-container {/* jupyter's `normalize.less` sets `[hidden] { display: none; }` but bootstrap.min.css set `[hidden] { display: none !important; }` so we also need the `!important` here to be able to override the default hidden behavior on the sphinx rendered scikit-learn.org. See: https://github.com/scikit-learn/scikit-learn/issues/21755 */display: inline-block !important;position: relative;}#sk-container-id-9 div.sk-text-repr-fallback {display: none;}</style><div id=\"sk-container-id-9\" class=\"sk-top-container\"><div class=\"sk-text-repr-fallback\"><pre>KMeans(n_clusters=3, random_state=0)</pre><b>In a Jupyter environment, please rerun this cell to show the HTML representation or trust the notebook. <br />On GitHub, the HTML representation is unable to render, please try loading this page with nbviewer.org.</b></div><div class=\"sk-container\" hidden><div class=\"sk-item\"><div class=\"sk-estimator sk-toggleable\"><input class=\"sk-toggleable__control sk-hidden--visually\" id=\"sk-estimator-id-9\" type=\"checkbox\" checked><label for=\"sk-estimator-id-9\" class=\"sk-toggleable__label sk-toggleable__label-arrow\">KMeans</label><div class=\"sk-toggleable__content\"><pre>KMeans(n_clusters=3, random_state=0)</pre></div></div></div></div></div>"
      ],
      "text/plain": [
       "KMeans(n_clusters=3, random_state=0)"
      ]
     },
     "execution_count": 145,
     "metadata": {},
     "output_type": "execute_result"
    }
   ],
   "source": [
    "# Fit the K-Means model using the PCA data\n",
    "model.fit(player_pca)"
   ]
  },
  {
   "cell_type": "code",
   "execution_count": null,
   "metadata": {},
   "outputs": [
    {
     "data": {
      "text/plain": [
       "array([2, 2, 2, 2, 2, 2, 0, 1, 0, 0, 2, 2, 2, 0, 1, 1, 1, 0, 1, 1, 0, 1,\n",
       "       0, 0, 0, 1, 1, 1, 1, 1, 1, 1, 1, 1, 1, 1, 1, 1, 1, 1, 1, 0, 1, 1,\n",
       "       0, 0, 1, 1, 1, 1, 1, 1, 1, 0, 0, 0, 0, 1, 0, 1, 0, 0, 0, 0, 0, 1,\n",
       "       0, 0, 0, 1, 1, 1, 1, 1, 1, 1, 0, 0, 1, 1, 1, 1, 1, 0, 0, 0, 0, 1,\n",
       "       1, 0, 0, 0, 1, 1, 1, 1, 0, 1, 1, 1, 0, 0, 0, 0, 0, 0, 0, 0, 1, 0,\n",
       "       1, 1, 1, 0, 0, 1, 1, 1, 0, 1, 1, 1, 1, 1, 1, 0, 1, 0, 0, 0, 1, 0,\n",
       "       1, 0, 0, 0, 0, 0, 0, 1, 0, 0, 0, 1, 0, 1, 0, 0, 0, 0, 0, 0, 0, 1,\n",
       "       0, 1, 0, 0, 0, 0, 0, 0, 0, 1, 1, 0, 0, 1, 0, 0, 0, 0, 0, 0, 0, 1,\n",
       "       0, 0, 0, 0, 0, 1, 0, 1, 0, 0, 0, 0, 0, 1, 0, 0, 0, 0, 0, 0, 0, 0,\n",
       "       0])"
      ]
     },
     "execution_count": 146,
     "metadata": {},
     "output_type": "execute_result"
    }
   ],
   "source": [
    "# Predict the clusters to group the cryptocurrencies using the PCA data\n",
    "k_predict = model.predict(player_pca)\n",
    "# Print the resulting array of cluster values.\n",
    "k_predict"
   ]
  },
  {
   "cell_type": "code",
   "execution_count": null,
   "metadata": {},
   "outputs": [
    {
     "data": {
      "text/html": [
       "<div>\n",
       "<style scoped>\n",
       "    .dataframe tbody tr th:only-of-type {\n",
       "        vertical-align: middle;\n",
       "    }\n",
       "\n",
       "    .dataframe tbody tr th {\n",
       "        vertical-align: top;\n",
       "    }\n",
       "\n",
       "    .dataframe thead th {\n",
       "        text-align: right;\n",
       "    }\n",
       "</style>\n",
       "<table border=\"1\" class=\"dataframe\">\n",
       "  <thead>\n",
       "    <tr style=\"text-align: right;\">\n",
       "      <th></th>\n",
       "      <th>PCA1</th>\n",
       "      <th>PCA2</th>\n",
       "      <th>PCA3</th>\n",
       "      <th>pca_prediction</th>\n",
       "    </tr>\n",
       "    <tr>\n",
       "      <th>player_name</th>\n",
       "      <th></th>\n",
       "      <th></th>\n",
       "      <th></th>\n",
       "      <th></th>\n",
       "    </tr>\n",
       "  </thead>\n",
       "  <tbody>\n",
       "    <tr>\n",
       "      <th>0</th>\n",
       "      <td>11.636786</td>\n",
       "      <td>6.612646</td>\n",
       "      <td>-5.073010</td>\n",
       "      <td>2</td>\n",
       "    </tr>\n",
       "    <tr>\n",
       "      <th>1</th>\n",
       "      <td>10.809575</td>\n",
       "      <td>6.571655</td>\n",
       "      <td>-6.215461</td>\n",
       "      <td>2</td>\n",
       "    </tr>\n",
       "    <tr>\n",
       "      <th>2</th>\n",
       "      <td>6.530337</td>\n",
       "      <td>11.847512</td>\n",
       "      <td>-0.152799</td>\n",
       "      <td>2</td>\n",
       "    </tr>\n",
       "    <tr>\n",
       "      <th>3</th>\n",
       "      <td>6.852229</td>\n",
       "      <td>11.693209</td>\n",
       "      <td>0.425096</td>\n",
       "      <td>2</td>\n",
       "    </tr>\n",
       "    <tr>\n",
       "      <th>4</th>\n",
       "      <td>10.594968</td>\n",
       "      <td>6.084569</td>\n",
       "      <td>-3.248769</td>\n",
       "      <td>2</td>\n",
       "    </tr>\n",
       "  </tbody>\n",
       "</table>\n",
       "</div>"
      ],
      "text/plain": [
       "                  PCA1       PCA2      PCA3  pca_prediction\n",
       "player_name                                                \n",
       "0            11.636786   6.612646 -5.073010               2\n",
       "1            10.809575   6.571655 -6.215461               2\n",
       "2             6.530337  11.847512 -0.152799               2\n",
       "3             6.852229  11.693209  0.425096               2\n",
       "4            10.594968   6.084569 -3.248769               2"
      ]
     },
     "execution_count": 147,
     "metadata": {},
     "output_type": "execute_result"
    }
   ],
   "source": [
    "# Create a copy of the DataFrame with the PCA data\n",
    "player_pca_prediction_df = player_pca.copy()\n",
    "\n",
    "# Add a new column to the DataFrame with the predicted clusters\n",
    "player_pca_prediction_df['pca_prediction']= k_predict\n",
    "\n",
    "# Display sample data\n",
    "player_pca_prediction_df.head()"
   ]
  },
  {
   "cell_type": "code",
   "execution_count": null,
   "metadata": {},
   "outputs": [
    {
     "data": {},
     "metadata": {},
     "output_type": "display_data"
    },
    {
     "data": {
      "application/vnd.holoviews_exec.v0+json": "",
      "text/html": [
       "<div id='12775'>\n",
       "  <div class=\"bk-root\" id=\"beefb5a3-6500-472e-a0b6-6003e1951cfd\" data-root-id=\"12775\"></div>\n",
       "</div>\n",
       "<script type=\"application/javascript\">(function(root) {\n",
       "  function embed_document(root) {\n",
       "    var docs_json = {\"a43fc6a0-db03-4a10-8952-f6451ea407c3\":{\"defs\":[{\"extends\":null,\"module\":null,\"name\":\"ReactiveHTML1\",\"overrides\":[],\"properties\":[]},{\"extends\":null,\"module\":null,\"name\":\"FlexBox1\",\"overrides\":[],\"properties\":[{\"default\":\"flex-start\",\"kind\":null,\"name\":\"align_content\"},{\"default\":\"flex-start\",\"kind\":null,\"name\":\"align_items\"},{\"default\":\"row\",\"kind\":null,\"name\":\"flex_direction\"},{\"default\":\"wrap\",\"kind\":null,\"name\":\"flex_wrap\"},{\"default\":\"flex-start\",\"kind\":null,\"name\":\"justify_content\"}]},{\"extends\":null,\"module\":null,\"name\":\"GridStack1\",\"overrides\":[],\"properties\":[{\"default\":\"warn\",\"kind\":null,\"name\":\"mode\"},{\"default\":null,\"kind\":null,\"name\":\"ncols\"},{\"default\":null,\"kind\":null,\"name\":\"nrows\"},{\"default\":true,\"kind\":null,\"name\":\"allow_resize\"},{\"default\":true,\"kind\":null,\"name\":\"allow_drag\"},{\"default\":[],\"kind\":null,\"name\":\"state\"}]},{\"extends\":null,\"module\":null,\"name\":\"click1\",\"overrides\":[],\"properties\":[{\"default\":\"\",\"kind\":null,\"name\":\"terminal_output\"},{\"default\":\"\",\"kind\":null,\"name\":\"debug_name\"},{\"default\":0,\"kind\":null,\"name\":\"clears\"}]},{\"extends\":null,\"module\":null,\"name\":\"NotificationAreaBase1\",\"overrides\":[],\"properties\":[{\"default\":\"bottom-right\",\"kind\":null,\"name\":\"position\"},{\"default\":0,\"kind\":null,\"name\":\"_clear\"}]},{\"extends\":null,\"module\":null,\"name\":\"NotificationArea1\",\"overrides\":[],\"properties\":[{\"default\":[],\"kind\":null,\"name\":\"notifications\"},{\"default\":\"bottom-right\",\"kind\":null,\"name\":\"position\"},{\"default\":0,\"kind\":null,\"name\":\"_clear\"},{\"default\":[{\"background\":\"#ffc107\",\"icon\":{\"className\":\"fas fa-exclamation-triangle\",\"color\":\"white\",\"tagName\":\"i\"},\"type\":\"warning\"},{\"background\":\"#007bff\",\"icon\":{\"className\":\"fas fa-info-circle\",\"color\":\"white\",\"tagName\":\"i\"},\"type\":\"info\"}],\"kind\":null,\"name\":\"types\"}]},{\"extends\":null,\"module\":null,\"name\":\"Notification\",\"overrides\":[],\"properties\":[{\"default\":null,\"kind\":null,\"name\":\"background\"},{\"default\":3000,\"kind\":null,\"name\":\"duration\"},{\"default\":null,\"kind\":null,\"name\":\"icon\"},{\"default\":\"\",\"kind\":null,\"name\":\"message\"},{\"default\":null,\"kind\":null,\"name\":\"notification_type\"},{\"default\":false,\"kind\":null,\"name\":\"_destroyed\"}]},{\"extends\":null,\"module\":null,\"name\":\"TemplateActions1\",\"overrides\":[],\"properties\":[{\"default\":0,\"kind\":null,\"name\":\"open_modal\"},{\"default\":0,\"kind\":null,\"name\":\"close_modal\"}]},{\"extends\":null,\"module\":null,\"name\":\"MaterialTemplateActions1\",\"overrides\":[],\"properties\":[{\"default\":0,\"kind\":null,\"name\":\"open_modal\"},{\"default\":0,\"kind\":null,\"name\":\"close_modal\"}]}],\"roots\":{\"references\":[{\"attributes\":{},\"id\":\"12800\",\"type\":\"WheelZoomTool\"},{\"attributes\":{\"source\":{\"id\":\"12838\"}},\"id\":\"12845\",\"type\":\"CDSView\"},{\"attributes\":{\"coordinates\":null,\"data_source\":{\"id\":\"12817\"},\"glyph\":{\"id\":\"12820\"},\"group\":null,\"hover_glyph\":null,\"muted_glyph\":{\"id\":\"12822\"},\"nonselection_glyph\":{\"id\":\"12821\"},\"selection_glyph\":{\"id\":\"12837\"},\"view\":{\"id\":\"12824\"}},\"id\":\"12823\",\"type\":\"GlyphRenderer\"},{\"attributes\":{},\"id\":\"12798\",\"type\":\"SaveTool\"},{\"attributes\":{},\"id\":\"12786\",\"type\":\"LinearScale\"},{\"attributes\":{\"fill_alpha\":{\"value\":0.1},\"fill_color\":{\"value\":\"#fc4f30\"},\"hatch_alpha\":{\"value\":0.1},\"hatch_color\":{\"value\":\"#fc4f30\"},\"line_alpha\":{\"value\":0.1},\"line_color\":{\"value\":\"#fc4f30\"},\"size\":{\"value\":5.477225575051661},\"x\":{\"field\":\"PCA1\"},\"y\":{\"field\":\"PCA2\"}},\"id\":\"12842\",\"type\":\"Scatter\"},{\"attributes\":{\"overlay\":{\"id\":\"12803\"}},\"id\":\"12801\",\"type\":\"BoxZoomTool\"},{\"attributes\":{},\"id\":\"12802\",\"type\":\"ResetTool\"},{\"attributes\":{\"label\":{\"value\":\"2\"},\"renderers\":[{\"id\":\"12866\"}]},\"id\":\"12882\",\"type\":\"LegendItem\"},{\"attributes\":{\"fill_alpha\":{\"value\":0.2},\"fill_color\":{\"value\":\"#fc4f30\"},\"hatch_alpha\":{\"value\":0.2},\"hatch_color\":{\"value\":\"#fc4f30\"},\"line_alpha\":{\"value\":0.2},\"line_color\":{\"value\":\"#fc4f30\"},\"size\":{\"value\":5.477225575051661},\"x\":{\"field\":\"PCA1\"},\"y\":{\"field\":\"PCA2\"}},\"id\":\"12843\",\"type\":\"Scatter\"},{\"attributes\":{\"bottom_units\":\"screen\",\"coordinates\":null,\"fill_alpha\":0.5,\"fill_color\":\"lightgrey\",\"group\":null,\"left_units\":\"screen\",\"level\":\"overlay\",\"line_alpha\":1.0,\"line_color\":\"black\",\"line_dash\":[4,4],\"line_width\":2,\"right_units\":\"screen\",\"syncable\":false,\"top_units\":\"screen\"},\"id\":\"12803\",\"type\":\"BoxAnnotation\"},{\"attributes\":{\"fill_color\":{\"value\":\"#e5ae38\"},\"hatch_color\":{\"value\":\"#e5ae38\"},\"line_color\":{\"value\":\"#e5ae38\"},\"size\":{\"value\":5.477225575051661},\"x\":{\"field\":\"PCA1\"},\"y\":{\"field\":\"PCA2\"}},\"id\":\"12863\",\"type\":\"Scatter\"},{\"attributes\":{\"end\":12.455853392088464,\"reset_end\":12.455853392088464,\"reset_start\":-8.293855672475022,\"start\":-8.293855672475022,\"tags\":[[[\"PCA1\",\"PCA1\",null]]]},\"id\":\"12776\",\"type\":\"Range1d\"},{\"attributes\":{},\"id\":\"12839\",\"type\":\"Selection\"},{\"attributes\":{\"coordinates\":null,\"data_source\":{\"id\":\"12860\"},\"glyph\":{\"id\":\"12863\"},\"group\":null,\"hover_glyph\":null,\"muted_glyph\":{\"id\":\"12865\"},\"nonselection_glyph\":{\"id\":\"12864\"},\"selection_glyph\":{\"id\":\"12883\"},\"view\":{\"id\":\"12867\"}},\"id\":\"12866\",\"type\":\"GlyphRenderer\"},{\"attributes\":{\"end\":13.655980051102265,\"reset_end\":13.655980051102265,\"reset_start\":-8.04563986139937,\"start\":-8.04563986139937,\"tags\":[[[\"PCA2\",\"PCA2\",null]]]},\"id\":\"12777\",\"type\":\"Range1d\"},{\"attributes\":{\"active_drag\":{\"id\":\"12799\"},\"active_scroll\":{\"id\":\"12800\"},\"tools\":[{\"id\":\"12778\"},{\"id\":\"12798\"},{\"id\":\"12799\"},{\"id\":\"12800\"},{\"id\":\"12801\"},{\"id\":\"12802\"}]},\"id\":\"12804\",\"type\":\"Toolbar\"},{\"attributes\":{},\"id\":\"12855\",\"type\":\"UnionRenderers\"},{\"attributes\":{},\"id\":\"12812\",\"type\":\"BasicTickFormatter\"},{\"attributes\":{},\"id\":\"12879\",\"type\":\"UnionRenderers\"},{\"attributes\":{\"data\":{\"PCA1\":{\"__ndarray__\":\"4QmnoT+U0D+PCWcM7qzvv703Nf+qa/+/EuOHyZ917r8qlzlvpjLmP7Mhu1FiEfG/lkdOBFUy9r/b2cKqrED6v9WK5UyNxPm/rAHpnXNs0L9N3znmx3EDwFajEyReidO/sghYYMRm7b+1QEcDq8n3vypn/WCWxhLAfjtC6OZO+79gYe6v4oAUwJPrAD/cLMy/wB8lVzCk87/UvUF5Hvn2v6g63SzmYwbA+v8TSPR37b9OIY55EEHqvykUzxHldgPA21p03qX17L/fhXgnHgoGwIm7PIt7ow3A18ft9HWVAsDg8WhK84f/v/4bXKFiWQLAq332oAIR4L9sjy2mPmX5v+dQRe72efO/CDLlDimmEMBDGhvPQg76v44F4+4/m+O/0EJfdYSM+L+GOX4W8SgAwPTMtjkRgPO/228FEH+Q9L/6shCwSdD9v0OxmAQ6XQTA5oWZr7Y8F8BP14DPA8D6v9acwsa4PxDAHtJ7awc3A8C6DYdvTT0QwG9knxLqWP+/OuNnirbYFMD4ayfL59EIwGV5Men5NAXAaD5naJ8V5b9nci+Xd/H2v+FBHNsmXgLAIhJYhXk2+7+GPXFjOtQCwOS2G4i8KAHAFug1BHMaAsDjPBBJzqgNwOSb6xOyHvW/ZQtbqFq5CsCa9v9G2boKwHeOpS5Za/q/PftR2iJ99b8u89fesgIBwP/HlqgMRxDAZCtyHaLH+r87AosCi5oUwIkruII8aQnApikmmf7XEcC4NEZCeLUMwLJhjtBFexXAo0sojjiGG8C6knhD8rzxv6mFRXXw7QXAoplf4S7mHcCkv/f+8XkRwBa7jgFVlQfAH7DT7jSO+r/x97K96RQdwNLzQ77jGPC/wPUVLKIHGsBLv3UJFwcawL8uGIfqbwDAJegSYt0/CsCaGRkfCeEXwPdjaklmgwXAajiThyAiA8ALK0JTh3fzvxrlN3kpehDAPrqNoHCB+b+je8UakD4WwGWlL6ubuQ3AUhdbhNQ89789fIzDJJUTwPRcV2QxdwLAmpRXtHm/GcD6mo2gmm8FwMx/F2i2zwPA06hPv7cXEcD1JQpW4HkZwAVu1trVMAjA9SUKVuB5GcCuiewF/+8VwCSQ1A2ZlRvAUPzUtB51E8A=\",\"dtype\":\"float64\",\"order\":\"little\",\"shape\":[106]},\"PCA2\":{\"__ndarray__\":\"Vi/i1SZyBED0gnzM8M0TQDUZ/uyDSRtAaUfArkLaFEBHXXIeT8kBQOuSOr70igRA1hbYoH7N8T/umN9w8zr0P3JH5C17IPQ/9lrU8pdQ4r8N9AmtqdD6P+i/xlitEuU//vcKmxbQ0b84zN58JGzgP3U24Jy+JQFAbGC85eXZ2b/4ALqm3e4EQHAH/atUKeG/lFoGdeWS9T8UBAMKYjjkP5VKCj2ZLPw/etNtA0Rn+D89V4w6Iu3ivzBX2fLQ1dQ/hPbncJth5b/UQ9LlsYHrP1c2SvxlCvk/FhIaBVWm6L+Z19eymQTkv+Yi0R3dIt+/ufMSWrDV8r+RcYWfjVfcv+IpLbOfVfC/r2srDDrz6z95OXKbpChvP8vWgrNPDvE/E1uCVSKBmb9Ua8FD9Sfbv691XImnJOS/eita3qTN8L/6cRA/SSnxv4hy9HUudOO/Mxcm9nJe9z+PBF/hX57vvyn64jSpVuA/mNK4/4e+9T/Ere2PtxDTP/k+s90hgNy/jCVeTEbm7j+xPTpjLk7Ev4362g0bpNy/x/64K6aL2z827Q8seHL2v1MjwyRGpeG/PDXn9Xa+9L84rRi+DYzov5Yfw0X5Tea/IGJdibro3L8XbF5A5+vhP1myxiAgg/C/QWfPVvQLuD+3PCQ8DBa9P+ulB68SnuO/4gV2WAM60j+85UrXrGDhPwn6fmAm2tQ/6cRBPgpR8r/It9mz0Xj2P+Mq1qK3euC/lL9KtJsgtj/hyf1AjWipP1UTgtgxOOo/XM9C8i/jAUBXkaqmkgr6v/+2gOBZ2M2/yBX8arH6AkD1rA6prT+5PxxHEfiSqdi/Lv9rVQbn+L8d0r6PLwwCQFUVyRjpPvy/I8Ke41Jr/D/G/T0BRDP7P8hLWUyrSuu/Cld3JBQNrb+3jgNW39jxP7rJaxoYlMg/r4f2leaw9b+upHNtQM30vxAdx4dwhNE/4LN2CacZ5b8KN7I/8sbxPwOODbw2ZvY/Tu/Q1J6irj/I0imAX9DgP6k7w4ICy/S/xJTtawWq9D/eD6P+3Z/wv4jRSqirlPK/PUqwvBjBoj9nwLkCC3r4P9bHtEHQkOm/Z8C5Agt6+D//SDtDbgTwP2/K79uwxAlAiSizGD7/7D8=\",\"dtype\":\"float64\",\"order\":\"little\",\"shape\":[106]},\"pca_prediction\":[0,0,0,0,0,0,0,0,0,0,0,0,0,0,0,0,0,0,0,0,0,0,0,0,0,0,0,0,0,0,0,0,0,0,0,0,0,0,0,0,0,0,0,0,0,0,0,0,0,0,0,0,0,0,0,0,0,0,0,0,0,0,0,0,0,0,0,0,0,0,0,0,0,0,0,0,0,0,0,0,0,0,0,0,0,0,0,0,0,0,0,0,0,0,0,0,0,0,0,0,0,0,0,0,0,0]},\"selected\":{\"id\":\"12818\"},\"selection_policy\":{\"id\":\"12832\"}},\"id\":\"12817\",\"type\":\"ColumnDataSource\"},{\"attributes\":{},\"id\":\"12816\",\"type\":\"AllLabels\"},{\"attributes\":{\"angle\":{\"value\":0.0},\"fill_alpha\":{\"value\":1.0},\"fill_color\":{\"value\":\"#30a2da\"},\"hatch_alpha\":{\"value\":1.0},\"hatch_color\":{\"value\":\"#30a2da\"},\"hatch_scale\":{\"value\":12.0},\"hatch_weight\":{\"value\":1.0},\"line_alpha\":{\"value\":1.0},\"line_cap\":{\"value\":\"butt\"},\"line_color\":{\"value\":\"#30a2da\"},\"line_dash\":{\"value\":[]},\"line_dash_offset\":{\"value\":0},\"line_join\":{\"value\":\"bevel\"},\"line_width\":{\"value\":1},\"marker\":{\"value\":\"circle\"},\"size\":{\"value\":5.477225575051661},\"x\":{\"field\":\"PCA1\"},\"y\":{\"field\":\"PCA2\"}},\"id\":\"12837\",\"type\":\"Scatter\"},{\"attributes\":{\"callback\":null,\"renderers\":[{\"id\":\"12823\"},{\"id\":\"12844\"},{\"id\":\"12866\"}],\"tags\":[\"hv_created\"],\"tooltips\":[[\"pca_prediction\",\"@{pca_prediction}\"],[\"PCA1\",\"@{PCA1}\"],[\"PCA2\",\"@{PCA2}\"]]},\"id\":\"12778\",\"type\":\"HoverTool\"},{\"attributes\":{\"fill_alpha\":{\"value\":0.1},\"fill_color\":{\"value\":\"#30a2da\"},\"hatch_alpha\":{\"value\":0.1},\"hatch_color\":{\"value\":\"#30a2da\"},\"line_alpha\":{\"value\":0.1},\"line_color\":{\"value\":\"#30a2da\"},\"size\":{\"value\":5.477225575051661},\"x\":{\"field\":\"PCA1\"},\"y\":{\"field\":\"PCA2\"}},\"id\":\"12821\",\"type\":\"Scatter\"},{\"attributes\":{},\"id\":\"12815\",\"type\":\"BasicTickFormatter\"},{\"attributes\":{\"source\":{\"id\":\"12860\"}},\"id\":\"12867\",\"type\":\"CDSView\"},{\"attributes\":{\"data\":{\"PCA1\":{\"__ndarray__\":\"K1UnzghGJ0AJsdqSgJ4lQF75F8oQHxpAKkMgyK5oG0ComKWhnzAlQM/jn6rVERpAPfh2wfVPIEASfZ0219waQOiGyNxAzyFA\",\"dtype\":\"float64\",\"order\":\"little\",\"shape\":[9]},\"PCA2\":{\"__ndarray__\":\"658aY1lzGkDShGkCYEkaQPM4jA7tsSdAQIrGWuxiJ0Chg849mVYYQL2drKcj6SBAhzt60YNxHUDbtPNjYVIgQHLGWCqizh1A\",\"dtype\":\"float64\",\"order\":\"little\",\"shape\":[9]},\"pca_prediction\":[2,2,2,2,2,2,2,2,2]},\"selected\":{\"id\":\"12861\"},\"selection_policy\":{\"id\":\"12879\"}},\"id\":\"12860\",\"type\":\"ColumnDataSource\"},{\"attributes\":{},\"id\":\"12788\",\"type\":\"LinearScale\"},{\"attributes\":{\"angle\":{\"value\":0.0},\"fill_alpha\":{\"value\":1.0},\"fill_color\":{\"value\":\"#e5ae38\"},\"hatch_alpha\":{\"value\":1.0},\"hatch_color\":{\"value\":\"#e5ae38\"},\"hatch_scale\":{\"value\":12.0},\"hatch_weight\":{\"value\":1.0},\"line_alpha\":{\"value\":1.0},\"line_cap\":{\"value\":\"butt\"},\"line_color\":{\"value\":\"#e5ae38\"},\"line_dash\":{\"value\":[]},\"line_dash_offset\":{\"value\":0},\"line_join\":{\"value\":\"bevel\"},\"line_width\":{\"value\":1},\"marker\":{\"value\":\"circle\"},\"size\":{\"value\":5.477225575051661},\"x\":{\"field\":\"PCA1\"},\"y\":{\"field\":\"PCA2\"}},\"id\":\"12883\",\"type\":\"Scatter\"},{\"attributes\":{\"label\":{\"value\":\"1\"},\"renderers\":[{\"id\":\"12844\"}]},\"id\":\"12858\",\"type\":\"LegendItem\"},{\"attributes\":{\"fill_alpha\":{\"value\":0.1},\"fill_color\":{\"value\":\"#e5ae38\"},\"hatch_alpha\":{\"value\":0.1},\"hatch_color\":{\"value\":\"#e5ae38\"},\"line_alpha\":{\"value\":0.1},\"line_color\":{\"value\":\"#e5ae38\"},\"size\":{\"value\":5.477225575051661},\"x\":{\"field\":\"PCA1\"},\"y\":{\"field\":\"PCA2\"}},\"id\":\"12864\",\"type\":\"Scatter\"},{\"attributes\":{\"fill_color\":{\"value\":\"#fc4f30\"},\"hatch_color\":{\"value\":\"#fc4f30\"},\"line_color\":{\"value\":\"#fc4f30\"},\"size\":{\"value\":5.477225575051661},\"x\":{\"field\":\"PCA1\"},\"y\":{\"field\":\"PCA2\"}},\"id\":\"12841\",\"type\":\"Scatter\"},{\"attributes\":{\"below\":[{\"id\":\"12790\"}],\"center\":[{\"id\":\"12793\"},{\"id\":\"12797\"}],\"height\":300,\"left\":[{\"id\":\"12794\"}],\"margin\":[5,5,5,5],\"min_border_bottom\":10,\"min_border_left\":10,\"min_border_right\":10,\"min_border_top\":10,\"renderers\":[{\"id\":\"12823\"},{\"id\":\"12844\"},{\"id\":\"12866\"}],\"right\":[{\"id\":\"12835\"}],\"sizing_mode\":\"fixed\",\"title\":{\"id\":\"12782\"},\"toolbar\":{\"id\":\"12804\"},\"width\":700,\"x_range\":{\"id\":\"12776\"},\"x_scale\":{\"id\":\"12786\"},\"y_range\":{\"id\":\"12777\"},\"y_scale\":{\"id\":\"12788\"}},\"id\":\"12781\",\"subtype\":\"Figure\",\"type\":\"Plot\"},{\"attributes\":{\"coordinates\":null,\"group\":null,\"text_color\":\"black\",\"text_font_size\":\"12pt\"},\"id\":\"12782\",\"type\":\"Title\"},{\"attributes\":{\"coordinates\":null,\"data_source\":{\"id\":\"12838\"},\"glyph\":{\"id\":\"12841\"},\"group\":null,\"hover_glyph\":null,\"muted_glyph\":{\"id\":\"12843\"},\"nonselection_glyph\":{\"id\":\"12842\"},\"selection_glyph\":{\"id\":\"12859\"},\"view\":{\"id\":\"12845\"}},\"id\":\"12844\",\"type\":\"GlyphRenderer\"},{\"attributes\":{\"data\":{\"PCA1\":{\"__ndarray__\":\"+8/DEefZ/D/6RD6tIjQUQCW13wreuQhA2cR1DU7wFkCB8oB53fr1P1Y3cBurHBRAkfrT8I++C0DD/zsC55IDQNdODjuD2QhAOxEhzP/yEEB+T2WWX14NQKhMzlr5VgdA+u2qFp2nD0BFMnHYl3QgQPA5XDh/IBxAcbn1H/mpIEDdSOjfoo4YQH+uRs3P8glAnmWwIrbXDkDsgITQNMQEQIi+VtCtle8/BWBapOeU8z+iDx7oc3bEPwg3rz1d0fA/R+6knmSB7z+ENz7hsj4cQJHxQ2DAUQpAJdxqvom1BUBzcP3TgVAJQO3GsoedKxFA/B5SmbgpBkCh1c1NbfLwPwBqTe7CKgBAuziOloaV/D8dhhE8ZLL6P5CdRJgEo84/kCb47AD1EEBAhUBAAjoPQB5WTqWq5R9Au9yR4E+TF0Bbbn41OogXQHMrXrZAmwBAMK1UhqP7CUAYIHnZyUcFQFI1Dt4FYfo/kAzORS4m+D9zjYU/F4b9P3vIuPZ/xtI/uDzJ3kHn7z8Kn3BTJDIRQIy1/Vr+g+8/DThqLYMW6T+2M+NrdYAQQHpk/4kPxwBAcyMYDUt+B0ASA27ZAgQWQKVeN+nYaQJA5hbgI3AVEUAGMvurkILyP7OnZzi+q9Y/wJyz6pdNzL/wZtqmmcC9vy1a65N88wVA8CUPxBkQ/T9Av3t0IXIAQNFlZMon/gNAK8rSzA7L1T+ol0MhlvrmPz2AFTOih/A/HCL3X08NCkDC3ChA5zkOQD1Yvv/xj6M/+b2dqznqCkApHgAdJMTaP8pbVVoFyf4/Hye9ZgXS1b91elMMPDHrP0K1QO4InNQ/Ikre/o8zCEDN/fbC3Hq+vxJP4vvzHeo/s97p+2VPxr/q+tLaqiTkP0NXjLp+tb4/\",\"dtype\":\"float64\",\"order\":\"little\",\"shape\":[84]},\"PCA2\":{\"__ndarray__\":\"ZxDbtC5ZAUCG3XPeIgAJQKAiV45tFso/n5+hyH6S+j96K4B6wtX8PwO3Vz/hGPo/mTIkGOTm4j+jUpqwW83Rv2LIq6TAtPu/escKGej6AcBGoOy0FsbPv3S6vI9RUeo/H+rYPQpBw78cts0xM5MNwE7ajinydgrAiS6MIk/1DMDFUFmEr3UDwKLK0AKHT+o/DzkUh43dtr+6/YtdDN7nv79HB/RvUOE/kQp6fIvj1b+NrJLYnrTgv/eJkUgTx/e/48qwn4uf7b8LGgC4+1kHwHyk0SUkVvW/At6Tcxqq4L8cXfocbgb2vzb0S3iSsru/8JWyDPh14z905w9+f3/xv+DFkH5hP7i//EGmXefG+b/zy4RsEAMBwOzfRLQkGvs/hrsGWGrb6T/FGeNGtifavw0vZ8fPmRLAWxev4JvUC8CGnE8Y3fIYwHATLIbJsfm/ZnRHb9RVCcCXm0GlpwkEwHfq8S66lgHADRG0PVC4+r91hCKDsC/Ev8qdn9QsYvO/AFY7Z4aQAcDgN0m9+j0JwDNVUhlqrNM/LjDdniNfsL8Srd07f0Trv8SgD9TBqQHAnZlcuF0yBsCr+EOznOQRwEqVpJw5Ddo/DwLniyVuFMB7I2isdcLnv02p3IqCDds/0zpLszUs5D+EW9BFZp77v3raY8AgMQvAPLFEhHoq/b9lqXzWriEEwOqykMge0/6/Ear4P9Zm+7+yXIV4G9LFvymSiHGJSAHAFR16ej7JEMAf/9oDTGkSwGt1iM65WgDA+Gwvc+OEC8ChbaAR03/+v0u+D+4i1Q7AuwF9ess4BMDsYxAfI0TIv0t3lw9/OwPAuCWlHcjnBcD+PZADyM4CwOS5ahML7QfAq0/7B88b6L/t247r1MTwv67qpCKy9AzA\",\"dtype\":\"float64\",\"order\":\"little\",\"shape\":[84]},\"pca_prediction\":[1,1,1,1,1,1,1,1,1,1,1,1,1,1,1,1,1,1,1,1,1,1,1,1,1,1,1,1,1,1,1,1,1,1,1,1,1,1,1,1,1,1,1,1,1,1,1,1,1,1,1,1,1,1,1,1,1,1,1,1,1,1,1,1,1,1,1,1,1,1,1,1,1,1,1,1,1,1,1,1,1,1,1,1]},\"selected\":{\"id\":\"12839\"},\"selection_policy\":{\"id\":\"12855\"}},\"id\":\"12838\",\"type\":\"ColumnDataSource\"},{\"attributes\":{\"fill_color\":{\"value\":\"#30a2da\"},\"hatch_color\":{\"value\":\"#30a2da\"},\"line_color\":{\"value\":\"#30a2da\"},\"size\":{\"value\":5.477225575051661},\"x\":{\"field\":\"PCA1\"},\"y\":{\"field\":\"PCA2\"}},\"id\":\"12820\",\"type\":\"Scatter\"},{\"attributes\":{},\"id\":\"12818\",\"type\":\"Selection\"},{\"attributes\":{\"angle\":{\"value\":0.0},\"fill_alpha\":{\"value\":1.0},\"fill_color\":{\"value\":\"#fc4f30\"},\"hatch_alpha\":{\"value\":1.0},\"hatch_color\":{\"value\":\"#fc4f30\"},\"hatch_scale\":{\"value\":12.0},\"hatch_weight\":{\"value\":1.0},\"line_alpha\":{\"value\":1.0},\"line_cap\":{\"value\":\"butt\"},\"line_color\":{\"value\":\"#fc4f30\"},\"line_dash\":{\"value\":[]},\"line_dash_offset\":{\"value\":0},\"line_join\":{\"value\":\"bevel\"},\"line_width\":{\"value\":1},\"marker\":{\"value\":\"circle\"},\"size\":{\"value\":5.477225575051661},\"x\":{\"field\":\"PCA1\"},\"y\":{\"field\":\"PCA2\"}},\"id\":\"12859\",\"type\":\"Scatter\"},{\"attributes\":{},\"id\":\"12813\",\"type\":\"AllLabels\"},{\"attributes\":{\"fill_alpha\":{\"value\":0.2},\"fill_color\":{\"value\":\"#e5ae38\"},\"hatch_alpha\":{\"value\":0.2},\"hatch_color\":{\"value\":\"#e5ae38\"},\"line_alpha\":{\"value\":0.2},\"line_color\":{\"value\":\"#e5ae38\"},\"size\":{\"value\":5.477225575051661},\"x\":{\"field\":\"PCA1\"},\"y\":{\"field\":\"PCA2\"}},\"id\":\"12865\",\"type\":\"Scatter\"},{\"attributes\":{\"axis_label\":\"PCA1\",\"coordinates\":null,\"formatter\":{\"id\":\"12812\"},\"group\":null,\"major_label_policy\":{\"id\":\"12813\"},\"ticker\":{\"id\":\"12791\"}},\"id\":\"12790\",\"type\":\"LinearAxis\"},{\"attributes\":{},\"id\":\"12832\",\"type\":\"UnionRenderers\"},{\"attributes\":{},\"id\":\"12799\",\"type\":\"PanTool\"},{\"attributes\":{},\"id\":\"12861\",\"type\":\"Selection\"},{\"attributes\":{},\"id\":\"12791\",\"type\":\"BasicTicker\"},{\"attributes\":{\"source\":{\"id\":\"12817\"}},\"id\":\"12824\",\"type\":\"CDSView\"},{\"attributes\":{\"axis\":{\"id\":\"12790\"},\"coordinates\":null,\"grid_line_color\":null,\"group\":null,\"ticker\":null},\"id\":\"12793\",\"type\":\"Grid\"},{\"attributes\":{\"fill_alpha\":{\"value\":0.2},\"fill_color\":{\"value\":\"#30a2da\"},\"hatch_alpha\":{\"value\":0.2},\"hatch_color\":{\"value\":\"#30a2da\"},\"line_alpha\":{\"value\":0.2},\"line_color\":{\"value\":\"#30a2da\"},\"size\":{\"value\":5.477225575051661},\"x\":{\"field\":\"PCA1\"},\"y\":{\"field\":\"PCA2\"}},\"id\":\"12822\",\"type\":\"Scatter\"},{\"attributes\":{\"children\":[{\"id\":\"12781\"}],\"height\":300,\"margin\":[0,0,0,0],\"name\":\"Row08429\",\"sizing_mode\":\"fixed\",\"tags\":[\"embedded\"],\"width\":700},\"id\":\"12775\",\"type\":\"Row\"},{\"attributes\":{\"axis_label\":\"PCA2\",\"coordinates\":null,\"formatter\":{\"id\":\"12815\"},\"group\":null,\"major_label_policy\":{\"id\":\"12816\"},\"ticker\":{\"id\":\"12795\"}},\"id\":\"12794\",\"type\":\"LinearAxis\"},{\"attributes\":{\"click_policy\":\"mute\",\"coordinates\":null,\"group\":null,\"items\":[{\"id\":\"12836\"},{\"id\":\"12858\"},{\"id\":\"12882\"}],\"location\":[0,0],\"title\":\"pca_prediction\"},\"id\":\"12835\",\"type\":\"Legend\"},{\"attributes\":{\"axis\":{\"id\":\"12794\"},\"coordinates\":null,\"dimension\":1,\"grid_line_color\":null,\"group\":null,\"ticker\":null},\"id\":\"12797\",\"type\":\"Grid\"},{\"attributes\":{\"label\":{\"value\":\"0\"},\"renderers\":[{\"id\":\"12823\"}]},\"id\":\"12836\",\"type\":\"LegendItem\"},{\"attributes\":{},\"id\":\"12795\",\"type\":\"BasicTicker\"}],\"root_ids\":[\"12775\"]},\"title\":\"Bokeh Application\",\"version\":\"2.4.3\"}};\n",
       "    var render_items = [{\"docid\":\"a43fc6a0-db03-4a10-8952-f6451ea407c3\",\"root_ids\":[\"12775\"],\"roots\":{\"12775\":\"beefb5a3-6500-472e-a0b6-6003e1951cfd\"}}];\n",
       "    root.Bokeh.embed.embed_items_notebook(docs_json, render_items);\n",
       "    for (const render_item of render_items) {\n",
       "      for (const root_id of render_item.root_ids) {\n",
       "\tconst id_el = document.getElementById(root_id)\n",
       "\tif (id_el.children.length && (id_el.children[0].className === 'bk-root')) {\n",
       "\t  const root_el = id_el.children[0]\n",
       "\t  root_el.id = root_el.id + '-rendered'\n",
       "\t}\n",
       "      }\n",
       "    }\n",
       "  }\n",
       "  if (root.Bokeh !== undefined && root.Bokeh.Panel !== undefined) {\n",
       "    embed_document(root);\n",
       "  } else {\n",
       "    var attempts = 0;\n",
       "    var timer = setInterval(function(root) {\n",
       "      if (root.Bokeh !== undefined && root.Bokeh.Panel !== undefined) {\n",
       "        clearInterval(timer);\n",
       "        embed_document(root);\n",
       "      } else if (document.readyState == \"complete\") {\n",
       "        attempts++;\n",
       "        if (attempts > 200) {\n",
       "          clearInterval(timer);\n",
       "          console.log(\"Bokeh: ERROR: Unable to run BokehJS code because BokehJS library is missing\");\n",
       "        }\n",
       "      }\n",
       "    }, 25, root)\n",
       "  }\n",
       "})(window);</script>"
      ],
      "text/plain": [
       ":NdOverlay   [pca_prediction]\n",
       "   :Scatter   [PCA1]   (PCA2)"
      ]
     },
     "execution_count": 148,
     "metadata": {
      "application/vnd.holoviews_exec.v0+json": {
       "id": "12775"
      }
     },
     "output_type": "execute_result"
    }
   ],
   "source": [
    "# Create a scatter plot using hvPlot by setting \n",
    "# `x=\"PC1\"` and `y=\"PC2\"`. \n",
    "# Color the graph points with the labels found using K-Means and \n",
    "# add the player name in the `hover_cols` parameter to identify \n",
    "# the player represented by each data point.\n",
    "player_pca_plot=player_pca_prediction_df.hvplot.scatter(\n",
    "    x=\"PCA1\",\n",
    "    y=\"PCA2\",\n",
    "    by=\"pca_prediction\",\n",
    "    hover_cols=['player_names']\n",
    ")\n",
    "player_pca_plot"
   ]
  },
  {
   "cell_type": "markdown",
   "metadata": {},
   "source": [
    "### Visualize and Compare the Results\n",
    "\n",
    "In this section, you will visually analyze the cluster analysis results by contrasting the outcome with and without using the optimization techniques."
   ]
  },
  {
   "cell_type": "code",
   "execution_count": null,
   "metadata": {},
   "outputs": [
    {
     "data": {
      "application/vnd.plotly.v1+json": {
       "config": {
        "plotlyServerURL": "https://plot.ly"
       },
       "data": [
        {
         "customdata": [
          [
           0
          ],
          [
           1
          ],
          [
           2
          ],
          [
           3
          ],
          [
           4
          ],
          [
           5
          ],
          [
           6
          ],
          [
           7
          ],
          [
           8
          ],
          [
           9
          ],
          [
           10
          ],
          [
           11
          ],
          [
           12
          ],
          [
           13
          ],
          [
           14
          ],
          [
           15
          ],
          [
           16
          ],
          [
           17
          ],
          [
           18
          ],
          [
           19
          ],
          [
           20
          ],
          [
           21
          ],
          [
           22
          ],
          [
           23
          ],
          [
           24
          ],
          [
           25
          ],
          [
           26
          ],
          [
           27
          ],
          [
           28
          ],
          [
           29
          ],
          [
           30
          ],
          [
           31
          ],
          [
           32
          ],
          [
           33
          ],
          [
           34
          ],
          [
           35
          ],
          [
           36
          ],
          [
           37
          ],
          [
           38
          ],
          [
           39
          ],
          [
           40
          ],
          [
           41
          ],
          [
           42
          ],
          [
           43
          ],
          [
           44
          ],
          [
           45
          ],
          [
           46
          ],
          [
           47
          ],
          [
           48
          ],
          [
           49
          ],
          [
           50
          ],
          [
           51
          ],
          [
           52
          ],
          [
           53
          ],
          [
           54
          ],
          [
           55
          ],
          [
           56
          ],
          [
           57
          ],
          [
           58
          ],
          [
           59
          ],
          [
           60
          ],
          [
           61
          ],
          [
           62
          ],
          [
           63
          ],
          [
           64
          ],
          [
           65
          ],
          [
           66
          ],
          [
           67
          ],
          [
           68
          ],
          [
           69
          ],
          [
           70
          ],
          [
           71
          ],
          [
           72
          ],
          [
           73
          ],
          [
           74
          ],
          [
           75
          ],
          [
           76
          ],
          [
           77
          ],
          [
           78
          ],
          [
           79
          ],
          [
           80
          ],
          [
           81
          ],
          [
           82
          ],
          [
           83
          ],
          [
           84
          ],
          [
           85
          ],
          [
           86
          ],
          [
           87
          ],
          [
           88
          ],
          [
           89
          ],
          [
           90
          ],
          [
           91
          ],
          [
           92
          ],
          [
           93
          ],
          [
           94
          ],
          [
           95
          ],
          [
           96
          ],
          [
           97
          ],
          [
           98
          ],
          [
           99
          ],
          [
           100
          ],
          [
           101
          ],
          [
           102
          ],
          [
           103
          ],
          [
           104
          ],
          [
           105
          ],
          [
           106
          ],
          [
           107
          ],
          [
           108
          ],
          [
           109
          ],
          [
           110
          ],
          [
           111
          ],
          [
           112
          ],
          [
           113
          ],
          [
           114
          ],
          [
           115
          ],
          [
           116
          ],
          [
           117
          ],
          [
           118
          ],
          [
           119
          ],
          [
           120
          ],
          [
           121
          ],
          [
           122
          ],
          [
           123
          ],
          [
           124
          ],
          [
           125
          ],
          [
           126
          ],
          [
           127
          ],
          [
           128
          ],
          [
           129
          ],
          [
           130
          ],
          [
           131
          ],
          [
           132
          ],
          [
           133
          ],
          [
           134
          ],
          [
           135
          ],
          [
           136
          ],
          [
           137
          ],
          [
           138
          ],
          [
           139
          ],
          [
           140
          ],
          [
           141
          ],
          [
           142
          ],
          [
           143
          ],
          [
           144
          ],
          [
           145
          ],
          [
           146
          ],
          [
           147
          ],
          [
           148
          ],
          [
           149
          ],
          [
           150
          ],
          [
           151
          ],
          [
           152
          ],
          [
           153
          ],
          [
           154
          ],
          [
           155
          ],
          [
           156
          ],
          [
           157
          ],
          [
           158
          ],
          [
           159
          ],
          [
           160
          ],
          [
           161
          ],
          [
           162
          ],
          [
           163
          ],
          [
           164
          ],
          [
           165
          ],
          [
           166
          ],
          [
           167
          ],
          [
           168
          ],
          [
           169
          ],
          [
           170
          ],
          [
           171
          ],
          [
           172
          ],
          [
           173
          ],
          [
           174
          ],
          [
           175
          ],
          [
           176
          ],
          [
           177
          ],
          [
           178
          ],
          [
           179
          ],
          [
           180
          ],
          [
           181
          ],
          [
           182
          ],
          [
           183
          ],
          [
           184
          ],
          [
           185
          ],
          [
           186
          ],
          [
           187
          ],
          [
           188
          ],
          [
           189
          ],
          [
           190
          ],
          [
           191
          ],
          [
           192
          ],
          [
           193
          ],
          [
           194
          ],
          [
           195
          ],
          [
           196
          ],
          [
           197
          ],
          [
           198
          ]
         ],
         "hovertemplate": "PCA1=%{x}<br>PCA2=%{y}<br>PCA3=%{z}<br>player_name=%{customdata[0]}<br>pca_prediction=%{marker.color}<extra></extra>",
         "legendgroup": "",
         "marker": {
          "color": [
           2,
           2,
           2,
           2,
           2,
           2,
           0,
           1,
           0,
           0,
           2,
           2,
           2,
           0,
           1,
           1,
           1,
           0,
           1,
           1,
           0,
           1,
           0,
           0,
           0,
           1,
           1,
           1,
           1,
           1,
           1,
           1,
           1,
           1,
           1,
           1,
           1,
           1,
           1,
           1,
           1,
           0,
           1,
           1,
           0,
           0,
           1,
           1,
           1,
           1,
           1,
           1,
           1,
           0,
           0,
           0,
           0,
           1,
           0,
           1,
           0,
           0,
           0,
           0,
           0,
           1,
           0,
           0,
           0,
           1,
           1,
           1,
           1,
           1,
           1,
           1,
           0,
           0,
           1,
           1,
           1,
           1,
           1,
           0,
           0,
           0,
           0,
           1,
           1,
           0,
           0,
           0,
           1,
           1,
           1,
           1,
           0,
           1,
           1,
           1,
           0,
           0,
           0,
           0,
           0,
           0,
           0,
           0,
           1,
           0,
           1,
           1,
           1,
           0,
           0,
           1,
           1,
           1,
           0,
           1,
           1,
           1,
           1,
           1,
           1,
           0,
           1,
           0,
           0,
           0,
           1,
           0,
           1,
           0,
           0,
           0,
           0,
           0,
           0,
           1,
           0,
           0,
           0,
           1,
           0,
           1,
           0,
           0,
           0,
           0,
           0,
           0,
           0,
           1,
           0,
           1,
           0,
           0,
           0,
           0,
           0,
           0,
           0,
           1,
           1,
           0,
           0,
           1,
           0,
           0,
           0,
           0,
           0,
           0,
           0,
           1,
           0,
           0,
           0,
           0,
           0,
           1,
           0,
           1,
           0,
           0,
           0,
           0,
           0,
           1,
           0,
           0,
           0,
           0,
           0,
           0,
           0,
           0,
           0
          ],
          "coloraxis": "coloraxis",
          "symbol": "circle"
         },
         "mode": "markers",
         "name": "",
         "scene": "scene",
         "showlegend": false,
         "type": "scatter3d",
         "x": [
          11.63678592901359,
          10.809574689098115,
          6.530337484086287,
          6.852229239434374,
          10.594967891182321,
          6.517416635521797,
          0.25904837404610076,
          1.8031988805714707,
          -0.9898596040950894,
          -1.963786122232235,
          8.15617184235827,
          6.715664723741854,
          8.904791736105338,
          -0.9518584190510373,
          5.050913531232476,
          3.0907555436630383,
          5.734672746956869,
          0.6936828777658992,
          1.3737463709104818,
          5.027996472095614,
          -1.0667441551796457,
          3.4680479826632298,
          -1.3872881096071743,
          -1.6407896681172278,
          -1.6104863170409562,
          2.4467296766815436,
          3.1062073339215703,
          4.2373039145643885,
          3.671080756155731,
          2.917467793865928,
          3.9568425913728307,
          8.227720989053646,
          7.0317353063860395,
          8.331978796716358,
          6.139293192436722,
          3.2435604130931206,
          3.855327864654739,
          2.5958038607060328,
          0.9870213574522078,
          1.2238537235298292,
          0.15986489137514776,
          -0.2566193620769137,
          1.0511143121288473,
          0.9845450495262832,
          -2.4305570589457717,
          -0.305259261351741,
          7.061229247496048,
          3.289917709420657,
          2.7136416317330423,
          3.164310127422192,
          4.292593117033658,
          2.7703716257273054,
          1.0591862715931273,
          -0.9187948114124735,
          -1.4867353561458405,
          -4.693933024851313,
          -1.7067631790739308,
          2.0208796136259934,
          -5.125864743160804,
          1.78650530634654,
          -0.22011902881953613,
          -1.227585163507669,
          -1.4358200775712833,
          -2.798778868199708,
          -0.9208928497100708,
          1.6685526224540645,
          -0.8204424261212269,
          -2.433054103023569,
          -0.90498631904742,
          0.2393499129768597,
          4.23926134361831,
          3.9033246059122177,
          7.974283774286532,
          5.893859394934391,
          5.883034549562207,
          2.0758070228088683,
          -2.7549403270393067,
          -3.704825485030089,
          3.2478704924193593,
          2.660052966126397,
          1.648687236217786,
          1.509321472811994,
          1.8452370148960113,
          -2.3229788909020317,
          -1.970691004432517,
          -2.2936451536402265,
          -0.5020764488034976,
          0.29336546987463635,
          0.9969796515741995,
          -1.5872179499937955,
          -1.2172765071346079,
          -4.1622659995450775,
          4.298966697453361,
          0.9848624970597242,
          0.7839980971346009,
          4.125447927229223,
          -1.6284816827843691,
          2.0971976071419336,
          2.9366665862075307,
          5.503917119350051,
          -0.6127013841398126,
          -1.5343060097549603,
          -2.0199910886069032,
          -1.2187664274650247,
          -1.2852774263219462,
          -1.8633515241191945,
          -2.54552081671696,
          -5.80929064154177,
          2.301683256151437,
          -1.671878634032925,
          4.270935593178114,
          1.1568762510315778,
          0.35423236377993844,
          -4.062228303554738,
          -2.4018696210062123,
          -0.22111796340980128,
          -0.11622009585917303,
          2.7438899570654685,
          -4.059865706079501,
          1.8164308222352439,
          2.055727872873746,
          2.4990993320359185,
          0.3405186653355112,
          0.7180891656578199,
          1.0331136699169428,
          -1.959207604164728,
          3.256499051789673,
          -5.211633837309643,
          -3.102492892399365,
          -2.650867292234738,
          3.7782731068105884,
          -0.6588894881369471,
          0.03820759055012999,
          -1.4339519410779304,
          -2.2959725492475944,
          -1.7007994850874941,
          -2.3536269921239095,
          -2.1448908456285256,
          -2.262914688963984,
          3.364367810012251,
          -3.7074247081833263,
          -1.3199940469873974,
          -3.3405049469742374,
          0.4182215007026309,
          -3.341234736143474,
          1.9240773705148393,
          -1.651208097661678,
          -1.3430508163580293,
          -2.126317730870503,
          -4.069384226038891,
          -1.6737385893090613,
          -5.150920905813616,
          -3.1763849461035005,
          -0.34094367058843206,
          -4.460932152704492,
          0.8497600785011189,
          -3.5886082818675185,
          -5.370383509340558,
          -6.881075116357269,
          -1.1086294780335906,
          -2.7411812936631645,
          -7.474788209400147,
          -4.369087203856825,
          0.32202361361381204,
          3.025176993521442,
          -2.947916042488383,
          -1.6597184495140096,
          -0.11906223068125783,
          -7.270422901199695,
          -1.0060765678638188,
          -6.507454575386362,
          -6.506923816501351,
          -2.054646544862265,
          -3.281183973505011,
          -5.9697613581724,
          0.8161563796624896,
          -2.689159940299301,
          -2.391663607769307,
          -1.2166817905696827,
          -4.119298833881908,
          -1.594101550257292,
          -0.17429804611650965,
          -5.561096590331462,
          0.6294760011586196,
          -3.7156289457240512,
          -1.4523511095189474,
          -4.895648055505316,
          -2.3081996764336683,
          -6.43698770317601,
          0.11995689443969319,
          -2.6794941466536075,
          -2.476422131745471,
          -4.273161877858189,
          -6.36901983677807,
          -3.0238453957260867,
          -6.36901983677807,
          -5.484371273576853,
          -6.896091667269534,
          -4.864374948024377
         ],
         "y": [
          6.612645672321359,
          6.571655309381827,
          11.847511725060462,
          11.693209492431492,
          6.0845689446731805,
          8.455350150891599,
          2.555738135304561,
          2.1685461167672204,
          4.951113886928159,
          6.821792319306316,
          7.360854409299356,
          8.160899280070614,
          7.451790486973197,
          5.213144999013687,
          3.125066507254533,
          0.20380944681371194,
          1.6607654416238586,
          2.223295438637851,
          1.8021874222929157,
          1.6310741876908998,
          2.5678496228814445,
          0.5906849357139264,
          1.1126695902798267,
          1.2643923195951703,
          1.2579299729008793,
          -0.27815906759614445,
          -1.731629031416127,
          -2.2475130039610436,
          -0.24823268732257214,
          0.8224265868537501,
          -0.15042236347092428,
          -3.6968749895957114,
          -3.3080790755005074,
          -3.619779844191559,
          -2.4324636783368043,
          0.8222079329483061,
          -0.08931812808825533,
          -0.7458555056654668,
          0.5410690084629478,
          -0.34201323657922794,
          -0.5220483999195423,
          -0.5723380797161031,
          -1.4861023745257833,
          -0.9257257574994039,
          1.6759430655795342,
          0.6585299238122362,
          -2.9189371466666265,
          -1.3335305669118318,
          -0.520764566171181,
          -1.3765698558762045,
          -0.10819354474001916,
          0.6081505058288581,
          -1.0936274456311965,
          -0.27832570210364327,
          0.5132009924767607,
          2.1434299713062566,
          -0.4039244407190441,
          -0.09471711482981204,
          2.6166337037576533,
          -1.6110604913884563,
          -0.5362952574871382,
          1.3483633586198822,
          0.6318826861898992,
          1.760888327062877,
          1.5252113470025663,
          -2.1264961698557214,
          -0.5914469855804111,
          0.3255503055164466,
          -0.6681649403760308,
          1.693882660079903,
          0.8080341071380281,
          -0.4086738292939141,
          -4.650206676171149,
          -3.478812938063965,
          -6.237171535357566,
          -1.6059050789928868,
          0.85958189856512,
          1.5650386672090428,
          -3.1669090932542074,
          -2.5047142897269157,
          -2.1985973041130893,
          -1.6699983988083347,
          -0.15770536807125138,
          -0.7703042125363619,
          -0.6255615704565002,
          -0.4865029135876696,
          -1.1771701353566029,
          -1.211468535004189,
          -2.1955688538535014,
          -0.44284382417915774,
          -1.020904254825489,
          0.8734407651603443,
          -3.155263403698868,
          0.30739834282697415,
          -0.06395170811191583,
          -0.8521114510780612,
          0.0038035597786524847,
          -2.2078892295140538,
          -2.7745928195246976,
          -4.473254014037745,
          1.065993977751918,
          -0.02490667006403686,
          -0.4243138467478975,
          -0.6294744189105382,
          -1.0502060590394806,
          -1.072579618782696,
          -0.6079323104673486,
          1.4605588545977752,
          0.4070571927753305,
          -0.9880828286915334,
          -5.107565103506672,
          -0.7424877517051834,
          0.42269958077180975,
          0.5105787308637605,
          1.3590164174212642,
          0.6303967000802352,
          -1.7261717536073045,
          -3.3989882498238417,
          0.2978953271437741,
          -1.8228707472545258,
          -2.51644675796449,
          -1.9265430292681978,
          -1.7126066683655419,
          -0.17047446617900658,
          -2.16041840265304,
          -0.44532057428749244,
          -4.1965273987800815,
          0.9656096927221127,
          -0.1586359009274765,
          -0.44751621583046913,
          -4.602829036942949,
          0.43039850492276027,
          -2.044299710788143,
          -1.4029466363125045,
          -0.5514250486386153,
          -1.2965001683799775,
          -0.7670963967151812,
          -0.6970182764571173,
          -0.4517046300366321,
          -3.4398869513366854,
          0.5600467927173466,
          -1.0320130615538317,
          0.09393241042508028,
          -1.906207150320235,
          0.11361767261790844,
          -3.854070529799889,
          -0.6130460184623961,
          0.28479083670398897,
          0.5430511670048683,
          0.32581481383741157,
          -1.14478515929323,
          1.4044968629273047,
          -0.5149801426317392,
          -2.5277318543814693,
          0.08643506194743927,
          -0.189579382102948,
          0.04962579172469695,
          0.8193597057985281,
          2.2359312941206735,
          -1.627581263580472,
          -0.23316501104402929,
          2.3724087103061926,
          0.09862790467620981,
          -2.4040509431933166,
          -2.73817465934982,
          -0.3853499815496535,
          -1.556402524642134,
          -2.3509674337763036,
          2.2559500913723824,
          -1.7653590171988374,
          1.776202096120081,
          1.700016026355898,
          -0.8528648844897981,
          -0.05674040742057514,
          1.1154473647992924,
          -2.9907437817521316,
          0.1920194748887079,
          -1.3556886537485118,
          -1.3001102710207237,
          0.27370846995877773,
          -0.6593814072454016,
          -0.7533946185962938,
          1.1110708702212286,
          -1.0480546189771716,
          1.3999545427149094,
          0.05983444545606052,
          0.5254361632529134,
          -1.2995629413523864,
          1.2915090766849042,
          -3.619480391176089,
          -1.0390300699955257,
          -1.1612965177456278,
          0.036629460366516466,
          1.5297956568211022,
          -0.798927429516193,
          1.5297956568211022,
          1.001081717131967,
          3.2210404570153552,
          0.9061575395983407
         ],
         "z": [
          -5.073009735335275,
          -6.215460686873373,
          -0.15279892377612958,
          0.4250958465963034,
          -3.248768697851269,
          -4.206892344359696,
          -3.271046723023845,
          -2.720530944774409,
          -0.036729805955676494,
          -1.4482953780027978,
          2.579984448722592,
          2.227767065594422,
          3.0539536272327377,
          -3.567508019896048,
          -1.7812817151587834,
          -1.2531917279129683,
          -3.6729361048178353,
          -2.373474141017294,
          -2.837621107092292,
          0.7146559408531891,
          -2.1189530019203526,
          -0.3930674501575056,
          -0.6809056903658762,
          -1.1923633647021379,
          -1.5841461116685869,
          -0.4093709115370463,
          -2.060922748484228,
          -1.1758460362102734,
          0.4431919679660609,
          2.1101785846189816,
          0.6173758237210512,
          -3.272642550843557,
          -3.2897119926112945,
          -2.4277469459400893,
          -3.0289729094959794,
          2.0116524917479817,
          0.8597150766007444,
          -0.9244187838183398,
          1.9750289892580897,
          1.1967228437461397,
          0.17278881872219795,
          -0.22413822268333944,
          0.6154313606412503,
          0.7314026173594468,
          2.0256654461685915,
          -1.971672138300403,
          0.008659050947509152,
          -0.4345347964477975,
          1.248525909566395,
          0.47995791954733774,
          2.751740617039337,
          2.8797481364893773,
          -1.102207897993888,
          -1.3083039371365408,
          -1.2401516939852366,
          -1.8440893380666168,
          -2.0436415142870796,
          3.107188739486061,
          -1.5067715401448918,
          0.09695577138854104,
          -0.6274035740551602,
          2.4634192946296505,
          2.0112056649496908,
          1.583819391556504,
          3.82111094177521,
          -0.623842961652352,
          -0.16237422834395285,
          -0.9816091390888548,
          -1.534349757813834,
          5.4936926827115675,
          7.307817977960134,
          3.032983281185157,
          -0.6145975154088785,
          -0.6333418760491976,
          -4.336901919955702,
          1.1272605682569758,
          -0.10875181469919992,
          0.7648631046665942,
          -0.756187443097663,
          -0.2656916924724671,
          -0.6356093030723167,
          1.8905908043688457,
          4.352696900563858,
          -0.8247010818351551,
          -1.037927060345119,
          -0.8520468373037723,
          -1.4788513686799876,
          -1.8182414738269768,
          -0.6669493036593132,
          -0.7101963120965628,
          -0.19783370958142774,
          -0.27890883640353975,
          -0.21366498269320508,
          4.680960216697633,
          3.0367861120401334,
          4.896606715376278,
          1.113749061850978,
          0.7193304450896194,
          -0.5872363245457597,
          -1.4329524523583088,
          4.943735700815454,
          0.7138650451456525,
          -0.6203312437084144,
          -0.7411257833804116,
          -0.1638861581753175,
          -0.6973439504076929,
          -1.2448206147827727,
          -1.7649813381889607,
          6.428191368501919,
          -0.762162802022794,
          -2.802500403087834,
          3.3460252051057275,
          4.408542852554847,
          -1.4269695712059345,
          3.4201413368241456,
          4.778437373088781,
          -0.5859268562972492,
          -1.8386652499711942,
          -1.1045367194398072,
          1.8963194612609584,
          -0.6034634530556907,
          3.361213270492727,
          1.0642724503185135,
          4.056499951316231,
          0.010492395040282003,
          0.3835005758114777,
          -1.6648894716240799,
          -1.7367400507833943,
          -0.4237108173864042,
          -0.12093486262989651,
          1.2370152181017533,
          3.4422357877603096,
          -0.9273654923405652,
          -1.0462188897935965,
          0.18066077786318155,
          -0.2230158673833774,
          -0.2558526041500603,
          0.11637652476533139,
          0.10234019610919642,
          0.6144670483643461,
          0.6162107757836431,
          0.5331823343638373,
          -0.22694730545043362,
          0.12376411435162453,
          -0.2368254382000493,
          -1.2883872088113832,
          0.5526707998546015,
          2.1782730571173894,
          1.4201470511010152,
          -1.265218314183019,
          -0.28173382005215925,
          0.6729437073728805,
          -0.5629757362034833,
          -0.9609343935252289,
          -1.0248346462619051,
          4.166273558852937,
          -0.3376142057380358,
          -1.476234853947536,
          -1.1017653051383578,
          -1.0807568850734386,
          0.45785006464243355,
          -1.8724462396158357,
          -1.553757030414984,
          -0.7621257388682146,
          2.6733543337716577,
          -0.4464745231605481,
          -0.34379338538542054,
          0.8228395933301973,
          -1.4827692674068196,
          -0.18534162271893515,
          -1.1125947144767652,
          -1.0970932952422439,
          -0.7460614015681171,
          0.8436003433170748,
          -0.8021994561482121,
          0.10271494693201154,
          1.4034038118828083,
          -1.0439263936819783,
          0.383391857628409,
          -0.7681437469901382,
          0.9501126053742309,
          2.1873398535853408,
          -0.010000737400016899,
          3.293285041856226,
          1.0116299542838172,
          2.6013999957818594,
          -1.3503378222314741,
          -0.7795878279089253,
          -1.118142188326975,
          -2.913376051317431,
          -0.7418193019469523,
          -1.069718385590657,
          -0.5277959515096617,
          -1.3171177303278148,
          -0.7416361231799268,
          -1.3171177303278148,
          -0.7929846485196721,
          1.3227761753653042,
          -0.4814485451298123
         ]
        }
       ],
       "layout": {
        "coloraxis": {
         "colorbar": {
          "title": {
           "text": "pca_prediction"
          }
         },
         "colorscale": [
          [
           0,
           "#0d0887"
          ],
          [
           0.1111111111111111,
           "#46039f"
          ],
          [
           0.2222222222222222,
           "#7201a8"
          ],
          [
           0.3333333333333333,
           "#9c179e"
          ],
          [
           0.4444444444444444,
           "#bd3786"
          ],
          [
           0.5555555555555556,
           "#d8576b"
          ],
          [
           0.6666666666666666,
           "#ed7953"
          ],
          [
           0.7777777777777778,
           "#fb9f3a"
          ],
          [
           0.8888888888888888,
           "#fdca26"
          ],
          [
           1,
           "#f0f921"
          ]
         ]
        },
        "legend": {
         "tracegroupgap": 0
        },
        "margin": {
         "t": 60
        },
        "scene": {
         "domain": {
          "x": [
           0,
           1
          ],
          "y": [
           0,
           1
          ]
         },
         "xaxis": {
          "title": {
           "text": "PCA1"
          }
         },
         "yaxis": {
          "title": {
           "text": "PCA2"
          }
         },
         "zaxis": {
          "title": {
           "text": "PCA3"
          }
         }
        },
        "template": {
         "data": {
          "bar": [
           {
            "error_x": {
             "color": "#2a3f5f"
            },
            "error_y": {
             "color": "#2a3f5f"
            },
            "marker": {
             "line": {
              "color": "#E5ECF6",
              "width": 0.5
             },
             "pattern": {
              "fillmode": "overlay",
              "size": 10,
              "solidity": 0.2
             }
            },
            "type": "bar"
           }
          ],
          "barpolar": [
           {
            "marker": {
             "line": {
              "color": "#E5ECF6",
              "width": 0.5
             },
             "pattern": {
              "fillmode": "overlay",
              "size": 10,
              "solidity": 0.2
             }
            },
            "type": "barpolar"
           }
          ],
          "carpet": [
           {
            "aaxis": {
             "endlinecolor": "#2a3f5f",
             "gridcolor": "white",
             "linecolor": "white",
             "minorgridcolor": "white",
             "startlinecolor": "#2a3f5f"
            },
            "baxis": {
             "endlinecolor": "#2a3f5f",
             "gridcolor": "white",
             "linecolor": "white",
             "minorgridcolor": "white",
             "startlinecolor": "#2a3f5f"
            },
            "type": "carpet"
           }
          ],
          "choropleth": [
           {
            "colorbar": {
             "outlinewidth": 0,
             "ticks": ""
            },
            "type": "choropleth"
           }
          ],
          "contour": [
           {
            "colorbar": {
             "outlinewidth": 0,
             "ticks": ""
            },
            "colorscale": [
             [
              0,
              "#0d0887"
             ],
             [
              0.1111111111111111,
              "#46039f"
             ],
             [
              0.2222222222222222,
              "#7201a8"
             ],
             [
              0.3333333333333333,
              "#9c179e"
             ],
             [
              0.4444444444444444,
              "#bd3786"
             ],
             [
              0.5555555555555556,
              "#d8576b"
             ],
             [
              0.6666666666666666,
              "#ed7953"
             ],
             [
              0.7777777777777778,
              "#fb9f3a"
             ],
             [
              0.8888888888888888,
              "#fdca26"
             ],
             [
              1,
              "#f0f921"
             ]
            ],
            "type": "contour"
           }
          ],
          "contourcarpet": [
           {
            "colorbar": {
             "outlinewidth": 0,
             "ticks": ""
            },
            "type": "contourcarpet"
           }
          ],
          "heatmap": [
           {
            "colorbar": {
             "outlinewidth": 0,
             "ticks": ""
            },
            "colorscale": [
             [
              0,
              "#0d0887"
             ],
             [
              0.1111111111111111,
              "#46039f"
             ],
             [
              0.2222222222222222,
              "#7201a8"
             ],
             [
              0.3333333333333333,
              "#9c179e"
             ],
             [
              0.4444444444444444,
              "#bd3786"
             ],
             [
              0.5555555555555556,
              "#d8576b"
             ],
             [
              0.6666666666666666,
              "#ed7953"
             ],
             [
              0.7777777777777778,
              "#fb9f3a"
             ],
             [
              0.8888888888888888,
              "#fdca26"
             ],
             [
              1,
              "#f0f921"
             ]
            ],
            "type": "heatmap"
           }
          ],
          "heatmapgl": [
           {
            "colorbar": {
             "outlinewidth": 0,
             "ticks": ""
            },
            "colorscale": [
             [
              0,
              "#0d0887"
             ],
             [
              0.1111111111111111,
              "#46039f"
             ],
             [
              0.2222222222222222,
              "#7201a8"
             ],
             [
              0.3333333333333333,
              "#9c179e"
             ],
             [
              0.4444444444444444,
              "#bd3786"
             ],
             [
              0.5555555555555556,
              "#d8576b"
             ],
             [
              0.6666666666666666,
              "#ed7953"
             ],
             [
              0.7777777777777778,
              "#fb9f3a"
             ],
             [
              0.8888888888888888,
              "#fdca26"
             ],
             [
              1,
              "#f0f921"
             ]
            ],
            "type": "heatmapgl"
           }
          ],
          "histogram": [
           {
            "marker": {
             "pattern": {
              "fillmode": "overlay",
              "size": 10,
              "solidity": 0.2
             }
            },
            "type": "histogram"
           }
          ],
          "histogram2d": [
           {
            "colorbar": {
             "outlinewidth": 0,
             "ticks": ""
            },
            "colorscale": [
             [
              0,
              "#0d0887"
             ],
             [
              0.1111111111111111,
              "#46039f"
             ],
             [
              0.2222222222222222,
              "#7201a8"
             ],
             [
              0.3333333333333333,
              "#9c179e"
             ],
             [
              0.4444444444444444,
              "#bd3786"
             ],
             [
              0.5555555555555556,
              "#d8576b"
             ],
             [
              0.6666666666666666,
              "#ed7953"
             ],
             [
              0.7777777777777778,
              "#fb9f3a"
             ],
             [
              0.8888888888888888,
              "#fdca26"
             ],
             [
              1,
              "#f0f921"
             ]
            ],
            "type": "histogram2d"
           }
          ],
          "histogram2dcontour": [
           {
            "colorbar": {
             "outlinewidth": 0,
             "ticks": ""
            },
            "colorscale": [
             [
              0,
              "#0d0887"
             ],
             [
              0.1111111111111111,
              "#46039f"
             ],
             [
              0.2222222222222222,
              "#7201a8"
             ],
             [
              0.3333333333333333,
              "#9c179e"
             ],
             [
              0.4444444444444444,
              "#bd3786"
             ],
             [
              0.5555555555555556,
              "#d8576b"
             ],
             [
              0.6666666666666666,
              "#ed7953"
             ],
             [
              0.7777777777777778,
              "#fb9f3a"
             ],
             [
              0.8888888888888888,
              "#fdca26"
             ],
             [
              1,
              "#f0f921"
             ]
            ],
            "type": "histogram2dcontour"
           }
          ],
          "mesh3d": [
           {
            "colorbar": {
             "outlinewidth": 0,
             "ticks": ""
            },
            "type": "mesh3d"
           }
          ],
          "parcoords": [
           {
            "line": {
             "colorbar": {
              "outlinewidth": 0,
              "ticks": ""
             }
            },
            "type": "parcoords"
           }
          ],
          "pie": [
           {
            "automargin": true,
            "type": "pie"
           }
          ],
          "scatter": [
           {
            "fillpattern": {
             "fillmode": "overlay",
             "size": 10,
             "solidity": 0.2
            },
            "type": "scatter"
           }
          ],
          "scatter3d": [
           {
            "line": {
             "colorbar": {
              "outlinewidth": 0,
              "ticks": ""
             }
            },
            "marker": {
             "colorbar": {
              "outlinewidth": 0,
              "ticks": ""
             }
            },
            "type": "scatter3d"
           }
          ],
          "scattercarpet": [
           {
            "marker": {
             "colorbar": {
              "outlinewidth": 0,
              "ticks": ""
             }
            },
            "type": "scattercarpet"
           }
          ],
          "scattergeo": [
           {
            "marker": {
             "colorbar": {
              "outlinewidth": 0,
              "ticks": ""
             }
            },
            "type": "scattergeo"
           }
          ],
          "scattergl": [
           {
            "marker": {
             "colorbar": {
              "outlinewidth": 0,
              "ticks": ""
             }
            },
            "type": "scattergl"
           }
          ],
          "scattermapbox": [
           {
            "marker": {
             "colorbar": {
              "outlinewidth": 0,
              "ticks": ""
             }
            },
            "type": "scattermapbox"
           }
          ],
          "scatterpolar": [
           {
            "marker": {
             "colorbar": {
              "outlinewidth": 0,
              "ticks": ""
             }
            },
            "type": "scatterpolar"
           }
          ],
          "scatterpolargl": [
           {
            "marker": {
             "colorbar": {
              "outlinewidth": 0,
              "ticks": ""
             }
            },
            "type": "scatterpolargl"
           }
          ],
          "scatterternary": [
           {
            "marker": {
             "colorbar": {
              "outlinewidth": 0,
              "ticks": ""
             }
            },
            "type": "scatterternary"
           }
          ],
          "surface": [
           {
            "colorbar": {
             "outlinewidth": 0,
             "ticks": ""
            },
            "colorscale": [
             [
              0,
              "#0d0887"
             ],
             [
              0.1111111111111111,
              "#46039f"
             ],
             [
              0.2222222222222222,
              "#7201a8"
             ],
             [
              0.3333333333333333,
              "#9c179e"
             ],
             [
              0.4444444444444444,
              "#bd3786"
             ],
             [
              0.5555555555555556,
              "#d8576b"
             ],
             [
              0.6666666666666666,
              "#ed7953"
             ],
             [
              0.7777777777777778,
              "#fb9f3a"
             ],
             [
              0.8888888888888888,
              "#fdca26"
             ],
             [
              1,
              "#f0f921"
             ]
            ],
            "type": "surface"
           }
          ],
          "table": [
           {
            "cells": {
             "fill": {
              "color": "#EBF0F8"
             },
             "line": {
              "color": "white"
             }
            },
            "header": {
             "fill": {
              "color": "#C8D4E3"
             },
             "line": {
              "color": "white"
             }
            },
            "type": "table"
           }
          ]
         },
         "layout": {
          "annotationdefaults": {
           "arrowcolor": "#2a3f5f",
           "arrowhead": 0,
           "arrowwidth": 1
          },
          "autotypenumbers": "strict",
          "coloraxis": {
           "colorbar": {
            "outlinewidth": 0,
            "ticks": ""
           }
          },
          "colorscale": {
           "diverging": [
            [
             0,
             "#8e0152"
            ],
            [
             0.1,
             "#c51b7d"
            ],
            [
             0.2,
             "#de77ae"
            ],
            [
             0.3,
             "#f1b6da"
            ],
            [
             0.4,
             "#fde0ef"
            ],
            [
             0.5,
             "#f7f7f7"
            ],
            [
             0.6,
             "#e6f5d0"
            ],
            [
             0.7,
             "#b8e186"
            ],
            [
             0.8,
             "#7fbc41"
            ],
            [
             0.9,
             "#4d9221"
            ],
            [
             1,
             "#276419"
            ]
           ],
           "sequential": [
            [
             0,
             "#0d0887"
            ],
            [
             0.1111111111111111,
             "#46039f"
            ],
            [
             0.2222222222222222,
             "#7201a8"
            ],
            [
             0.3333333333333333,
             "#9c179e"
            ],
            [
             0.4444444444444444,
             "#bd3786"
            ],
            [
             0.5555555555555556,
             "#d8576b"
            ],
            [
             0.6666666666666666,
             "#ed7953"
            ],
            [
             0.7777777777777778,
             "#fb9f3a"
            ],
            [
             0.8888888888888888,
             "#fdca26"
            ],
            [
             1,
             "#f0f921"
            ]
           ],
           "sequentialminus": [
            [
             0,
             "#0d0887"
            ],
            [
             0.1111111111111111,
             "#46039f"
            ],
            [
             0.2222222222222222,
             "#7201a8"
            ],
            [
             0.3333333333333333,
             "#9c179e"
            ],
            [
             0.4444444444444444,
             "#bd3786"
            ],
            [
             0.5555555555555556,
             "#d8576b"
            ],
            [
             0.6666666666666666,
             "#ed7953"
            ],
            [
             0.7777777777777778,
             "#fb9f3a"
            ],
            [
             0.8888888888888888,
             "#fdca26"
            ],
            [
             1,
             "#f0f921"
            ]
           ]
          },
          "colorway": [
           "#636efa",
           "#EF553B",
           "#00cc96",
           "#ab63fa",
           "#FFA15A",
           "#19d3f3",
           "#FF6692",
           "#B6E880",
           "#FF97FF",
           "#FECB52"
          ],
          "font": {
           "color": "#2a3f5f"
          },
          "geo": {
           "bgcolor": "white",
           "lakecolor": "white",
           "landcolor": "#E5ECF6",
           "showlakes": true,
           "showland": true,
           "subunitcolor": "white"
          },
          "hoverlabel": {
           "align": "left"
          },
          "hovermode": "closest",
          "mapbox": {
           "style": "light"
          },
          "paper_bgcolor": "white",
          "plot_bgcolor": "#E5ECF6",
          "polar": {
           "angularaxis": {
            "gridcolor": "white",
            "linecolor": "white",
            "ticks": ""
           },
           "bgcolor": "#E5ECF6",
           "radialaxis": {
            "gridcolor": "white",
            "linecolor": "white",
            "ticks": ""
           }
          },
          "scene": {
           "xaxis": {
            "backgroundcolor": "#E5ECF6",
            "gridcolor": "white",
            "gridwidth": 2,
            "linecolor": "white",
            "showbackground": true,
            "ticks": "",
            "zerolinecolor": "white"
           },
           "yaxis": {
            "backgroundcolor": "#E5ECF6",
            "gridcolor": "white",
            "gridwidth": 2,
            "linecolor": "white",
            "showbackground": true,
            "ticks": "",
            "zerolinecolor": "white"
           },
           "zaxis": {
            "backgroundcolor": "#E5ECF6",
            "gridcolor": "white",
            "gridwidth": 2,
            "linecolor": "white",
            "showbackground": true,
            "ticks": "",
            "zerolinecolor": "white"
           }
          },
          "shapedefaults": {
           "line": {
            "color": "#2a3f5f"
           }
          },
          "ternary": {
           "aaxis": {
            "gridcolor": "white",
            "linecolor": "white",
            "ticks": ""
           },
           "baxis": {
            "gridcolor": "white",
            "linecolor": "white",
            "ticks": ""
           },
           "bgcolor": "#E5ECF6",
           "caxis": {
            "gridcolor": "white",
            "linecolor": "white",
            "ticks": ""
           }
          },
          "title": {
           "x": 0.05
          },
          "xaxis": {
           "automargin": true,
           "gridcolor": "white",
           "linecolor": "white",
           "ticks": "",
           "title": {
            "standoff": 15
           },
           "zerolinecolor": "white",
           "zerolinewidth": 2
          },
          "yaxis": {
           "automargin": true,
           "gridcolor": "white",
           "linecolor": "white",
           "ticks": "",
           "title": {
            "standoff": 15
           },
           "zerolinecolor": "white",
           "zerolinewidth": 2
          }
         }
        }
       }
      },
      "text/html": [
       "<div>                            <div id=\"14fd5faf-0bd9-454a-9eb7-05e344faaed8\" class=\"plotly-graph-div\" style=\"height:525px; width:100%;\"></div>            <script type=\"text/javascript\">                require([\"plotly\"], function(Plotly) {                    window.PLOTLYENV=window.PLOTLYENV || {};                                    if (document.getElementById(\"14fd5faf-0bd9-454a-9eb7-05e344faaed8\")) {                    Plotly.newPlot(                        \"14fd5faf-0bd9-454a-9eb7-05e344faaed8\",                        [{\"customdata\":[[0],[1],[2],[3],[4],[5],[6],[7],[8],[9],[10],[11],[12],[13],[14],[15],[16],[17],[18],[19],[20],[21],[22],[23],[24],[25],[26],[27],[28],[29],[30],[31],[32],[33],[34],[35],[36],[37],[38],[39],[40],[41],[42],[43],[44],[45],[46],[47],[48],[49],[50],[51],[52],[53],[54],[55],[56],[57],[58],[59],[60],[61],[62],[63],[64],[65],[66],[67],[68],[69],[70],[71],[72],[73],[74],[75],[76],[77],[78],[79],[80],[81],[82],[83],[84],[85],[86],[87],[88],[89],[90],[91],[92],[93],[94],[95],[96],[97],[98],[99],[100],[101],[102],[103],[104],[105],[106],[107],[108],[109],[110],[111],[112],[113],[114],[115],[116],[117],[118],[119],[120],[121],[122],[123],[124],[125],[126],[127],[128],[129],[130],[131],[132],[133],[134],[135],[136],[137],[138],[139],[140],[141],[142],[143],[144],[145],[146],[147],[148],[149],[150],[151],[152],[153],[154],[155],[156],[157],[158],[159],[160],[161],[162],[163],[164],[165],[166],[167],[168],[169],[170],[171],[172],[173],[174],[175],[176],[177],[178],[179],[180],[181],[182],[183],[184],[185],[186],[187],[188],[189],[190],[191],[192],[193],[194],[195],[196],[197],[198]],\"hovertemplate\":\"PCA1=%{x}<br>PCA2=%{y}<br>PCA3=%{z}<br>player_name=%{customdata[0]}<br>pca_prediction=%{marker.color}<extra></extra>\",\"legendgroup\":\"\",\"marker\":{\"color\":[2,2,2,2,2,2,0,1,0,0,2,2,2,0,1,1,1,0,1,1,0,1,0,0,0,1,1,1,1,1,1,1,1,1,1,1,1,1,1,1,1,0,1,1,0,0,1,1,1,1,1,1,1,0,0,0,0,1,0,1,0,0,0,0,0,1,0,0,0,1,1,1,1,1,1,1,0,0,1,1,1,1,1,0,0,0,0,1,1,0,0,0,1,1,1,1,0,1,1,1,0,0,0,0,0,0,0,0,1,0,1,1,1,0,0,1,1,1,0,1,1,1,1,1,1,0,1,0,0,0,1,0,1,0,0,0,0,0,0,1,0,0,0,1,0,1,0,0,0,0,0,0,0,1,0,1,0,0,0,0,0,0,0,1,1,0,0,1,0,0,0,0,0,0,0,1,0,0,0,0,0,1,0,1,0,0,0,0,0,1,0,0,0,0,0,0,0,0,0],\"coloraxis\":\"coloraxis\",\"symbol\":\"circle\"},\"mode\":\"markers\",\"name\":\"\",\"scene\":\"scene\",\"showlegend\":false,\"x\":[11.63678592901359,10.809574689098115,6.530337484086287,6.852229239434374,10.594967891182321,6.517416635521797,0.25904837404610076,1.8031988805714707,-0.9898596040950894,-1.963786122232235,8.15617184235827,6.715664723741854,8.904791736105338,-0.9518584190510373,5.050913531232476,3.0907555436630383,5.734672746956869,0.6936828777658992,1.3737463709104818,5.027996472095614,-1.0667441551796457,3.4680479826632298,-1.3872881096071743,-1.6407896681172278,-1.6104863170409562,2.4467296766815436,3.1062073339215703,4.2373039145643885,3.671080756155731,2.917467793865928,3.9568425913728307,8.227720989053646,7.0317353063860395,8.331978796716358,6.139293192436722,3.2435604130931206,3.855327864654739,2.5958038607060328,0.9870213574522078,1.2238537235298292,0.15986489137514776,-0.2566193620769137,1.0511143121288473,0.9845450495262832,-2.4305570589457717,-0.305259261351741,7.061229247496048,3.289917709420657,2.7136416317330423,3.164310127422192,4.292593117033658,2.7703716257273054,1.0591862715931273,-0.9187948114124735,-1.4867353561458405,-4.693933024851313,-1.7067631790739308,2.0208796136259934,-5.125864743160804,1.78650530634654,-0.22011902881953613,-1.227585163507669,-1.4358200775712833,-2.798778868199708,-0.9208928497100708,1.6685526224540645,-0.8204424261212269,-2.433054103023569,-0.90498631904742,0.2393499129768597,4.23926134361831,3.9033246059122177,7.974283774286532,5.893859394934391,5.883034549562207,2.0758070228088683,-2.7549403270393067,-3.704825485030089,3.2478704924193593,2.660052966126397,1.648687236217786,1.509321472811994,1.8452370148960113,-2.3229788909020317,-1.970691004432517,-2.2936451536402265,-0.5020764488034976,0.29336546987463635,0.9969796515741995,-1.5872179499937955,-1.2172765071346079,-4.1622659995450775,4.298966697453361,0.9848624970597242,0.7839980971346009,4.125447927229223,-1.6284816827843691,2.0971976071419336,2.9366665862075307,5.503917119350051,-0.6127013841398126,-1.5343060097549603,-2.0199910886069032,-1.2187664274650247,-1.2852774263219462,-1.8633515241191945,-2.54552081671696,-5.80929064154177,2.301683256151437,-1.671878634032925,4.270935593178114,1.1568762510315778,0.35423236377993844,-4.062228303554738,-2.4018696210062123,-0.22111796340980128,-0.11622009585917303,2.7438899570654685,-4.059865706079501,1.8164308222352439,2.055727872873746,2.4990993320359185,0.3405186653355112,0.7180891656578199,1.0331136699169428,-1.959207604164728,3.256499051789673,-5.211633837309643,-3.102492892399365,-2.650867292234738,3.7782731068105884,-0.6588894881369471,0.03820759055012999,-1.4339519410779304,-2.2959725492475944,-1.7007994850874941,-2.3536269921239095,-2.1448908456285256,-2.262914688963984,3.364367810012251,-3.7074247081833263,-1.3199940469873974,-3.3405049469742374,0.4182215007026309,-3.341234736143474,1.9240773705148393,-1.651208097661678,-1.3430508163580293,-2.126317730870503,-4.069384226038891,-1.6737385893090613,-5.150920905813616,-3.1763849461035005,-0.34094367058843206,-4.460932152704492,0.8497600785011189,-3.5886082818675185,-5.370383509340558,-6.881075116357269,-1.1086294780335906,-2.7411812936631645,-7.474788209400147,-4.369087203856825,0.32202361361381204,3.025176993521442,-2.947916042488383,-1.6597184495140096,-0.11906223068125783,-7.270422901199695,-1.0060765678638188,-6.507454575386362,-6.506923816501351,-2.054646544862265,-3.281183973505011,-5.9697613581724,0.8161563796624896,-2.689159940299301,-2.391663607769307,-1.2166817905696827,-4.119298833881908,-1.594101550257292,-0.17429804611650965,-5.561096590331462,0.6294760011586196,-3.7156289457240512,-1.4523511095189474,-4.895648055505316,-2.3081996764336683,-6.43698770317601,0.11995689443969319,-2.6794941466536075,-2.476422131745471,-4.273161877858189,-6.36901983677807,-3.0238453957260867,-6.36901983677807,-5.484371273576853,-6.896091667269534,-4.864374948024377],\"y\":[6.612645672321359,6.571655309381827,11.847511725060462,11.693209492431492,6.0845689446731805,8.455350150891599,2.555738135304561,2.1685461167672204,4.951113886928159,6.821792319306316,7.360854409299356,8.160899280070614,7.451790486973197,5.213144999013687,3.125066507254533,0.20380944681371194,1.6607654416238586,2.223295438637851,1.8021874222929157,1.6310741876908998,2.5678496228814445,0.5906849357139264,1.1126695902798267,1.2643923195951703,1.2579299729008793,-0.27815906759614445,-1.731629031416127,-2.2475130039610436,-0.24823268732257214,0.8224265868537501,-0.15042236347092428,-3.6968749895957114,-3.3080790755005074,-3.619779844191559,-2.4324636783368043,0.8222079329483061,-0.08931812808825533,-0.7458555056654668,0.5410690084629478,-0.34201323657922794,-0.5220483999195423,-0.5723380797161031,-1.4861023745257833,-0.9257257574994039,1.6759430655795342,0.6585299238122362,-2.9189371466666265,-1.3335305669118318,-0.520764566171181,-1.3765698558762045,-0.10819354474001916,0.6081505058288581,-1.0936274456311965,-0.27832570210364327,0.5132009924767607,2.1434299713062566,-0.4039244407190441,-0.09471711482981204,2.6166337037576533,-1.6110604913884563,-0.5362952574871382,1.3483633586198822,0.6318826861898992,1.760888327062877,1.5252113470025663,-2.1264961698557214,-0.5914469855804111,0.3255503055164466,-0.6681649403760308,1.693882660079903,0.8080341071380281,-0.4086738292939141,-4.650206676171149,-3.478812938063965,-6.237171535357566,-1.6059050789928868,0.85958189856512,1.5650386672090428,-3.1669090932542074,-2.5047142897269157,-2.1985973041130893,-1.6699983988083347,-0.15770536807125138,-0.7703042125363619,-0.6255615704565002,-0.4865029135876696,-1.1771701353566029,-1.211468535004189,-2.1955688538535014,-0.44284382417915774,-1.020904254825489,0.8734407651603443,-3.155263403698868,0.30739834282697415,-0.06395170811191583,-0.8521114510780612,0.0038035597786524847,-2.2078892295140538,-2.7745928195246976,-4.473254014037745,1.065993977751918,-0.02490667006403686,-0.4243138467478975,-0.6294744189105382,-1.0502060590394806,-1.072579618782696,-0.6079323104673486,1.4605588545977752,0.4070571927753305,-0.9880828286915334,-5.107565103506672,-0.7424877517051834,0.42269958077180975,0.5105787308637605,1.3590164174212642,0.6303967000802352,-1.7261717536073045,-3.3989882498238417,0.2978953271437741,-1.8228707472545258,-2.51644675796449,-1.9265430292681978,-1.7126066683655419,-0.17047446617900658,-2.16041840265304,-0.44532057428749244,-4.1965273987800815,0.9656096927221127,-0.1586359009274765,-0.44751621583046913,-4.602829036942949,0.43039850492276027,-2.044299710788143,-1.4029466363125045,-0.5514250486386153,-1.2965001683799775,-0.7670963967151812,-0.6970182764571173,-0.4517046300366321,-3.4398869513366854,0.5600467927173466,-1.0320130615538317,0.09393241042508028,-1.906207150320235,0.11361767261790844,-3.854070529799889,-0.6130460184623961,0.28479083670398897,0.5430511670048683,0.32581481383741157,-1.14478515929323,1.4044968629273047,-0.5149801426317392,-2.5277318543814693,0.08643506194743927,-0.189579382102948,0.04962579172469695,0.8193597057985281,2.2359312941206735,-1.627581263580472,-0.23316501104402929,2.3724087103061926,0.09862790467620981,-2.4040509431933166,-2.73817465934982,-0.3853499815496535,-1.556402524642134,-2.3509674337763036,2.2559500913723824,-1.7653590171988374,1.776202096120081,1.700016026355898,-0.8528648844897981,-0.05674040742057514,1.1154473647992924,-2.9907437817521316,0.1920194748887079,-1.3556886537485118,-1.3001102710207237,0.27370846995877773,-0.6593814072454016,-0.7533946185962938,1.1110708702212286,-1.0480546189771716,1.3999545427149094,0.05983444545606052,0.5254361632529134,-1.2995629413523864,1.2915090766849042,-3.619480391176089,-1.0390300699955257,-1.1612965177456278,0.036629460366516466,1.5297956568211022,-0.798927429516193,1.5297956568211022,1.001081717131967,3.2210404570153552,0.9061575395983407],\"z\":[-5.073009735335275,-6.215460686873373,-0.15279892377612958,0.4250958465963034,-3.248768697851269,-4.206892344359696,-3.271046723023845,-2.720530944774409,-0.036729805955676494,-1.4482953780027978,2.579984448722592,2.227767065594422,3.0539536272327377,-3.567508019896048,-1.7812817151587834,-1.2531917279129683,-3.6729361048178353,-2.373474141017294,-2.837621107092292,0.7146559408531891,-2.1189530019203526,-0.3930674501575056,-0.6809056903658762,-1.1923633647021379,-1.5841461116685869,-0.4093709115370463,-2.060922748484228,-1.1758460362102734,0.4431919679660609,2.1101785846189816,0.6173758237210512,-3.272642550843557,-3.2897119926112945,-2.4277469459400893,-3.0289729094959794,2.0116524917479817,0.8597150766007444,-0.9244187838183398,1.9750289892580897,1.1967228437461397,0.17278881872219795,-0.22413822268333944,0.6154313606412503,0.7314026173594468,2.0256654461685915,-1.971672138300403,0.008659050947509152,-0.4345347964477975,1.248525909566395,0.47995791954733774,2.751740617039337,2.8797481364893773,-1.102207897993888,-1.3083039371365408,-1.2401516939852366,-1.8440893380666168,-2.0436415142870796,3.107188739486061,-1.5067715401448918,0.09695577138854104,-0.6274035740551602,2.4634192946296505,2.0112056649496908,1.583819391556504,3.82111094177521,-0.623842961652352,-0.16237422834395285,-0.9816091390888548,-1.534349757813834,5.4936926827115675,7.307817977960134,3.032983281185157,-0.6145975154088785,-0.6333418760491976,-4.336901919955702,1.1272605682569758,-0.10875181469919992,0.7648631046665942,-0.756187443097663,-0.2656916924724671,-0.6356093030723167,1.8905908043688457,4.352696900563858,-0.8247010818351551,-1.037927060345119,-0.8520468373037723,-1.4788513686799876,-1.8182414738269768,-0.6669493036593132,-0.7101963120965628,-0.19783370958142774,-0.27890883640353975,-0.21366498269320508,4.680960216697633,3.0367861120401334,4.896606715376278,1.113749061850978,0.7193304450896194,-0.5872363245457597,-1.4329524523583088,4.943735700815454,0.7138650451456525,-0.6203312437084144,-0.7411257833804116,-0.1638861581753175,-0.6973439504076929,-1.2448206147827727,-1.7649813381889607,6.428191368501919,-0.762162802022794,-2.802500403087834,3.3460252051057275,4.408542852554847,-1.4269695712059345,3.4201413368241456,4.778437373088781,-0.5859268562972492,-1.8386652499711942,-1.1045367194398072,1.8963194612609584,-0.6034634530556907,3.361213270492727,1.0642724503185135,4.056499951316231,0.010492395040282003,0.3835005758114777,-1.6648894716240799,-1.7367400507833943,-0.4237108173864042,-0.12093486262989651,1.2370152181017533,3.4422357877603096,-0.9273654923405652,-1.0462188897935965,0.18066077786318155,-0.2230158673833774,-0.2558526041500603,0.11637652476533139,0.10234019610919642,0.6144670483643461,0.6162107757836431,0.5331823343638373,-0.22694730545043362,0.12376411435162453,-0.2368254382000493,-1.2883872088113832,0.5526707998546015,2.1782730571173894,1.4201470511010152,-1.265218314183019,-0.28173382005215925,0.6729437073728805,-0.5629757362034833,-0.9609343935252289,-1.0248346462619051,4.166273558852937,-0.3376142057380358,-1.476234853947536,-1.1017653051383578,-1.0807568850734386,0.45785006464243355,-1.8724462396158357,-1.553757030414984,-0.7621257388682146,2.6733543337716577,-0.4464745231605481,-0.34379338538542054,0.8228395933301973,-1.4827692674068196,-0.18534162271893515,-1.1125947144767652,-1.0970932952422439,-0.7460614015681171,0.8436003433170748,-0.8021994561482121,0.10271494693201154,1.4034038118828083,-1.0439263936819783,0.383391857628409,-0.7681437469901382,0.9501126053742309,2.1873398535853408,-0.010000737400016899,3.293285041856226,1.0116299542838172,2.6013999957818594,-1.3503378222314741,-0.7795878279089253,-1.118142188326975,-2.913376051317431,-0.7418193019469523,-1.069718385590657,-0.5277959515096617,-1.3171177303278148,-0.7416361231799268,-1.3171177303278148,-0.7929846485196721,1.3227761753653042,-0.4814485451298123],\"type\":\"scatter3d\"}],                        {\"template\":{\"data\":{\"histogram2dcontour\":[{\"type\":\"histogram2dcontour\",\"colorbar\":{\"outlinewidth\":0,\"ticks\":\"\"},\"colorscale\":[[0.0,\"#0d0887\"],[0.1111111111111111,\"#46039f\"],[0.2222222222222222,\"#7201a8\"],[0.3333333333333333,\"#9c179e\"],[0.4444444444444444,\"#bd3786\"],[0.5555555555555556,\"#d8576b\"],[0.6666666666666666,\"#ed7953\"],[0.7777777777777778,\"#fb9f3a\"],[0.8888888888888888,\"#fdca26\"],[1.0,\"#f0f921\"]]}],\"choropleth\":[{\"type\":\"choropleth\",\"colorbar\":{\"outlinewidth\":0,\"ticks\":\"\"}}],\"histogram2d\":[{\"type\":\"histogram2d\",\"colorbar\":{\"outlinewidth\":0,\"ticks\":\"\"},\"colorscale\":[[0.0,\"#0d0887\"],[0.1111111111111111,\"#46039f\"],[0.2222222222222222,\"#7201a8\"],[0.3333333333333333,\"#9c179e\"],[0.4444444444444444,\"#bd3786\"],[0.5555555555555556,\"#d8576b\"],[0.6666666666666666,\"#ed7953\"],[0.7777777777777778,\"#fb9f3a\"],[0.8888888888888888,\"#fdca26\"],[1.0,\"#f0f921\"]]}],\"heatmap\":[{\"type\":\"heatmap\",\"colorbar\":{\"outlinewidth\":0,\"ticks\":\"\"},\"colorscale\":[[0.0,\"#0d0887\"],[0.1111111111111111,\"#46039f\"],[0.2222222222222222,\"#7201a8\"],[0.3333333333333333,\"#9c179e\"],[0.4444444444444444,\"#bd3786\"],[0.5555555555555556,\"#d8576b\"],[0.6666666666666666,\"#ed7953\"],[0.7777777777777778,\"#fb9f3a\"],[0.8888888888888888,\"#fdca26\"],[1.0,\"#f0f921\"]]}],\"heatmapgl\":[{\"type\":\"heatmapgl\",\"colorbar\":{\"outlinewidth\":0,\"ticks\":\"\"},\"colorscale\":[[0.0,\"#0d0887\"],[0.1111111111111111,\"#46039f\"],[0.2222222222222222,\"#7201a8\"],[0.3333333333333333,\"#9c179e\"],[0.4444444444444444,\"#bd3786\"],[0.5555555555555556,\"#d8576b\"],[0.6666666666666666,\"#ed7953\"],[0.7777777777777778,\"#fb9f3a\"],[0.8888888888888888,\"#fdca26\"],[1.0,\"#f0f921\"]]}],\"contourcarpet\":[{\"type\":\"contourcarpet\",\"colorbar\":{\"outlinewidth\":0,\"ticks\":\"\"}}],\"contour\":[{\"type\":\"contour\",\"colorbar\":{\"outlinewidth\":0,\"ticks\":\"\"},\"colorscale\":[[0.0,\"#0d0887\"],[0.1111111111111111,\"#46039f\"],[0.2222222222222222,\"#7201a8\"],[0.3333333333333333,\"#9c179e\"],[0.4444444444444444,\"#bd3786\"],[0.5555555555555556,\"#d8576b\"],[0.6666666666666666,\"#ed7953\"],[0.7777777777777778,\"#fb9f3a\"],[0.8888888888888888,\"#fdca26\"],[1.0,\"#f0f921\"]]}],\"surface\":[{\"type\":\"surface\",\"colorbar\":{\"outlinewidth\":0,\"ticks\":\"\"},\"colorscale\":[[0.0,\"#0d0887\"],[0.1111111111111111,\"#46039f\"],[0.2222222222222222,\"#7201a8\"],[0.3333333333333333,\"#9c179e\"],[0.4444444444444444,\"#bd3786\"],[0.5555555555555556,\"#d8576b\"],[0.6666666666666666,\"#ed7953\"],[0.7777777777777778,\"#fb9f3a\"],[0.8888888888888888,\"#fdca26\"],[1.0,\"#f0f921\"]]}],\"mesh3d\":[{\"type\":\"mesh3d\",\"colorbar\":{\"outlinewidth\":0,\"ticks\":\"\"}}],\"scatter\":[{\"fillpattern\":{\"fillmode\":\"overlay\",\"size\":10,\"solidity\":0.2},\"type\":\"scatter\"}],\"parcoords\":[{\"type\":\"parcoords\",\"line\":{\"colorbar\":{\"outlinewidth\":0,\"ticks\":\"\"}}}],\"scatterpolargl\":[{\"type\":\"scatterpolargl\",\"marker\":{\"colorbar\":{\"outlinewidth\":0,\"ticks\":\"\"}}}],\"bar\":[{\"error_x\":{\"color\":\"#2a3f5f\"},\"error_y\":{\"color\":\"#2a3f5f\"},\"marker\":{\"line\":{\"color\":\"#E5ECF6\",\"width\":0.5},\"pattern\":{\"fillmode\":\"overlay\",\"size\":10,\"solidity\":0.2}},\"type\":\"bar\"}],\"scattergeo\":[{\"type\":\"scattergeo\",\"marker\":{\"colorbar\":{\"outlinewidth\":0,\"ticks\":\"\"}}}],\"scatterpolar\":[{\"type\":\"scatterpolar\",\"marker\":{\"colorbar\":{\"outlinewidth\":0,\"ticks\":\"\"}}}],\"histogram\":[{\"marker\":{\"pattern\":{\"fillmode\":\"overlay\",\"size\":10,\"solidity\":0.2}},\"type\":\"histogram\"}],\"scattergl\":[{\"type\":\"scattergl\",\"marker\":{\"colorbar\":{\"outlinewidth\":0,\"ticks\":\"\"}}}],\"scatter3d\":[{\"type\":\"scatter3d\",\"line\":{\"colorbar\":{\"outlinewidth\":0,\"ticks\":\"\"}},\"marker\":{\"colorbar\":{\"outlinewidth\":0,\"ticks\":\"\"}}}],\"scattermapbox\":[{\"type\":\"scattermapbox\",\"marker\":{\"colorbar\":{\"outlinewidth\":0,\"ticks\":\"\"}}}],\"scatterternary\":[{\"type\":\"scatterternary\",\"marker\":{\"colorbar\":{\"outlinewidth\":0,\"ticks\":\"\"}}}],\"scattercarpet\":[{\"type\":\"scattercarpet\",\"marker\":{\"colorbar\":{\"outlinewidth\":0,\"ticks\":\"\"}}}],\"carpet\":[{\"aaxis\":{\"endlinecolor\":\"#2a3f5f\",\"gridcolor\":\"white\",\"linecolor\":\"white\",\"minorgridcolor\":\"white\",\"startlinecolor\":\"#2a3f5f\"},\"baxis\":{\"endlinecolor\":\"#2a3f5f\",\"gridcolor\":\"white\",\"linecolor\":\"white\",\"minorgridcolor\":\"white\",\"startlinecolor\":\"#2a3f5f\"},\"type\":\"carpet\"}],\"table\":[{\"cells\":{\"fill\":{\"color\":\"#EBF0F8\"},\"line\":{\"color\":\"white\"}},\"header\":{\"fill\":{\"color\":\"#C8D4E3\"},\"line\":{\"color\":\"white\"}},\"type\":\"table\"}],\"barpolar\":[{\"marker\":{\"line\":{\"color\":\"#E5ECF6\",\"width\":0.5},\"pattern\":{\"fillmode\":\"overlay\",\"size\":10,\"solidity\":0.2}},\"type\":\"barpolar\"}],\"pie\":[{\"automargin\":true,\"type\":\"pie\"}]},\"layout\":{\"autotypenumbers\":\"strict\",\"colorway\":[\"#636efa\",\"#EF553B\",\"#00cc96\",\"#ab63fa\",\"#FFA15A\",\"#19d3f3\",\"#FF6692\",\"#B6E880\",\"#FF97FF\",\"#FECB52\"],\"font\":{\"color\":\"#2a3f5f\"},\"hovermode\":\"closest\",\"hoverlabel\":{\"align\":\"left\"},\"paper_bgcolor\":\"white\",\"plot_bgcolor\":\"#E5ECF6\",\"polar\":{\"bgcolor\":\"#E5ECF6\",\"angularaxis\":{\"gridcolor\":\"white\",\"linecolor\":\"white\",\"ticks\":\"\"},\"radialaxis\":{\"gridcolor\":\"white\",\"linecolor\":\"white\",\"ticks\":\"\"}},\"ternary\":{\"bgcolor\":\"#E5ECF6\",\"aaxis\":{\"gridcolor\":\"white\",\"linecolor\":\"white\",\"ticks\":\"\"},\"baxis\":{\"gridcolor\":\"white\",\"linecolor\":\"white\",\"ticks\":\"\"},\"caxis\":{\"gridcolor\":\"white\",\"linecolor\":\"white\",\"ticks\":\"\"}},\"coloraxis\":{\"colorbar\":{\"outlinewidth\":0,\"ticks\":\"\"}},\"colorscale\":{\"sequential\":[[0.0,\"#0d0887\"],[0.1111111111111111,\"#46039f\"],[0.2222222222222222,\"#7201a8\"],[0.3333333333333333,\"#9c179e\"],[0.4444444444444444,\"#bd3786\"],[0.5555555555555556,\"#d8576b\"],[0.6666666666666666,\"#ed7953\"],[0.7777777777777778,\"#fb9f3a\"],[0.8888888888888888,\"#fdca26\"],[1.0,\"#f0f921\"]],\"sequentialminus\":[[0.0,\"#0d0887\"],[0.1111111111111111,\"#46039f\"],[0.2222222222222222,\"#7201a8\"],[0.3333333333333333,\"#9c179e\"],[0.4444444444444444,\"#bd3786\"],[0.5555555555555556,\"#d8576b\"],[0.6666666666666666,\"#ed7953\"],[0.7777777777777778,\"#fb9f3a\"],[0.8888888888888888,\"#fdca26\"],[1.0,\"#f0f921\"]],\"diverging\":[[0,\"#8e0152\"],[0.1,\"#c51b7d\"],[0.2,\"#de77ae\"],[0.3,\"#f1b6da\"],[0.4,\"#fde0ef\"],[0.5,\"#f7f7f7\"],[0.6,\"#e6f5d0\"],[0.7,\"#b8e186\"],[0.8,\"#7fbc41\"],[0.9,\"#4d9221\"],[1,\"#276419\"]]},\"xaxis\":{\"gridcolor\":\"white\",\"linecolor\":\"white\",\"ticks\":\"\",\"title\":{\"standoff\":15},\"zerolinecolor\":\"white\",\"automargin\":true,\"zerolinewidth\":2},\"yaxis\":{\"gridcolor\":\"white\",\"linecolor\":\"white\",\"ticks\":\"\",\"title\":{\"standoff\":15},\"zerolinecolor\":\"white\",\"automargin\":true,\"zerolinewidth\":2},\"scene\":{\"xaxis\":{\"backgroundcolor\":\"#E5ECF6\",\"gridcolor\":\"white\",\"linecolor\":\"white\",\"showbackground\":true,\"ticks\":\"\",\"zerolinecolor\":\"white\",\"gridwidth\":2},\"yaxis\":{\"backgroundcolor\":\"#E5ECF6\",\"gridcolor\":\"white\",\"linecolor\":\"white\",\"showbackground\":true,\"ticks\":\"\",\"zerolinecolor\":\"white\",\"gridwidth\":2},\"zaxis\":{\"backgroundcolor\":\"#E5ECF6\",\"gridcolor\":\"white\",\"linecolor\":\"white\",\"showbackground\":true,\"ticks\":\"\",\"zerolinecolor\":\"white\",\"gridwidth\":2}},\"shapedefaults\":{\"line\":{\"color\":\"#2a3f5f\"}},\"annotationdefaults\":{\"arrowcolor\":\"#2a3f5f\",\"arrowhead\":0,\"arrowwidth\":1},\"geo\":{\"bgcolor\":\"white\",\"landcolor\":\"#E5ECF6\",\"subunitcolor\":\"white\",\"showland\":true,\"showlakes\":true,\"lakecolor\":\"white\"},\"title\":{\"x\":0.05},\"mapbox\":{\"style\":\"light\"}}},\"scene\":{\"domain\":{\"x\":[0.0,1.0],\"y\":[0.0,1.0]},\"xaxis\":{\"title\":{\"text\":\"PCA1\"}},\"yaxis\":{\"title\":{\"text\":\"PCA2\"}},\"zaxis\":{\"title\":{\"text\":\"PCA3\"}}},\"coloraxis\":{\"colorbar\":{\"title\":{\"text\":\"pca_prediction\"}},\"colorscale\":[[0.0,\"#0d0887\"],[0.1111111111111111,\"#46039f\"],[0.2222222222222222,\"#7201a8\"],[0.3333333333333333,\"#9c179e\"],[0.4444444444444444,\"#bd3786\"],[0.5555555555555556,\"#d8576b\"],[0.6666666666666666,\"#ed7953\"],[0.7777777777777778,\"#fb9f3a\"],[0.8888888888888888,\"#fdca26\"],[1.0,\"#f0f921\"]]},\"legend\":{\"tracegroupgap\":0},\"margin\":{\"t\":60}},                        {\"responsive\": true}                    ).then(function(){\n",
       "                            \n",
       "var gd = document.getElementById('14fd5faf-0bd9-454a-9eb7-05e344faaed8');\n",
       "var x = new MutationObserver(function (mutations, observer) {{\n",
       "        var display = window.getComputedStyle(gd).display;\n",
       "        if (!display || display === 'none') {{\n",
       "            console.log([gd, 'removed!']);\n",
       "            Plotly.purge(gd);\n",
       "            observer.disconnect();\n",
       "        }}\n",
       "}});\n",
       "\n",
       "// Listen for the removal of the full notebook cells\n",
       "var notebookContainer = gd.closest('#notebook-container');\n",
       "if (notebookContainer) {{\n",
       "    x.observe(notebookContainer, {childList: true});\n",
       "}}\n",
       "\n",
       "// Listen for the clearing of the current output cell\n",
       "var outputEl = gd.closest('.output');\n",
       "if (outputEl) {{\n",
       "    x.observe(outputEl, {childList: true});\n",
       "}}\n",
       "\n",
       "                        })                };                });            </script>        </div>"
      ]
     },
     "metadata": {},
     "output_type": "display_data"
    }
   ],
   "source": [
    "# Composite plot to contrast the Elbow curves\n",
    "import plotly.express as px\n",
    "player_pca_prediction_df = player_pca_prediction_df.reset_index()\n",
    "fig = px.scatter_3d(player_pca_prediction_df, x='PCA1', y='PCA2', z='PCA3' ,\n",
    "                    color='pca_prediction' , hover_data=['player_name'])\n",
    "\n",
    "fig.show()"
   ]
  },
  {
   "cell_type": "code",
   "execution_count": null,
   "metadata": {},
   "outputs": [
    {
     "data": {},
     "metadata": {},
     "output_type": "display_data"
    },
    {
     "data": {
      "application/vnd.holoviews_exec.v0+json": "",
      "text/html": [
       "<div id='12973'>\n",
       "  <div class=\"bk-root\" id=\"61bfe151-39ee-4ead-97c5-9a22edc6b700\" data-root-id=\"12973\"></div>\n",
       "</div>\n",
       "<script type=\"application/javascript\">(function(root) {\n",
       "  function embed_document(root) {\n",
       "    var docs_json = {\"65c02635-0bcd-4b47-a3d2-32b1e532bffd\":{\"defs\":[{\"extends\":null,\"module\":null,\"name\":\"ReactiveHTML1\",\"overrides\":[],\"properties\":[]},{\"extends\":null,\"module\":null,\"name\":\"FlexBox1\",\"overrides\":[],\"properties\":[{\"default\":\"flex-start\",\"kind\":null,\"name\":\"align_content\"},{\"default\":\"flex-start\",\"kind\":null,\"name\":\"align_items\"},{\"default\":\"row\",\"kind\":null,\"name\":\"flex_direction\"},{\"default\":\"wrap\",\"kind\":null,\"name\":\"flex_wrap\"},{\"default\":\"flex-start\",\"kind\":null,\"name\":\"justify_content\"}]},{\"extends\":null,\"module\":null,\"name\":\"GridStack1\",\"overrides\":[],\"properties\":[{\"default\":\"warn\",\"kind\":null,\"name\":\"mode\"},{\"default\":null,\"kind\":null,\"name\":\"ncols\"},{\"default\":null,\"kind\":null,\"name\":\"nrows\"},{\"default\":true,\"kind\":null,\"name\":\"allow_resize\"},{\"default\":true,\"kind\":null,\"name\":\"allow_drag\"},{\"default\":[],\"kind\":null,\"name\":\"state\"}]},{\"extends\":null,\"module\":null,\"name\":\"click1\",\"overrides\":[],\"properties\":[{\"default\":\"\",\"kind\":null,\"name\":\"terminal_output\"},{\"default\":\"\",\"kind\":null,\"name\":\"debug_name\"},{\"default\":0,\"kind\":null,\"name\":\"clears\"}]},{\"extends\":null,\"module\":null,\"name\":\"NotificationAreaBase1\",\"overrides\":[],\"properties\":[{\"default\":\"bottom-right\",\"kind\":null,\"name\":\"position\"},{\"default\":0,\"kind\":null,\"name\":\"_clear\"}]},{\"extends\":null,\"module\":null,\"name\":\"NotificationArea1\",\"overrides\":[],\"properties\":[{\"default\":[],\"kind\":null,\"name\":\"notifications\"},{\"default\":\"bottom-right\",\"kind\":null,\"name\":\"position\"},{\"default\":0,\"kind\":null,\"name\":\"_clear\"},{\"default\":[{\"background\":\"#ffc107\",\"icon\":{\"className\":\"fas fa-exclamation-triangle\",\"color\":\"white\",\"tagName\":\"i\"},\"type\":\"warning\"},{\"background\":\"#007bff\",\"icon\":{\"className\":\"fas fa-info-circle\",\"color\":\"white\",\"tagName\":\"i\"},\"type\":\"info\"}],\"kind\":null,\"name\":\"types\"}]},{\"extends\":null,\"module\":null,\"name\":\"Notification\",\"overrides\":[],\"properties\":[{\"default\":null,\"kind\":null,\"name\":\"background\"},{\"default\":3000,\"kind\":null,\"name\":\"duration\"},{\"default\":null,\"kind\":null,\"name\":\"icon\"},{\"default\":\"\",\"kind\":null,\"name\":\"message\"},{\"default\":null,\"kind\":null,\"name\":\"notification_type\"},{\"default\":false,\"kind\":null,\"name\":\"_destroyed\"}]},{\"extends\":null,\"module\":null,\"name\":\"TemplateActions1\",\"overrides\":[],\"properties\":[{\"default\":0,\"kind\":null,\"name\":\"open_modal\"},{\"default\":0,\"kind\":null,\"name\":\"close_modal\"}]},{\"extends\":null,\"module\":null,\"name\":\"MaterialTemplateActions1\",\"overrides\":[],\"properties\":[{\"default\":0,\"kind\":null,\"name\":\"open_modal\"},{\"default\":0,\"kind\":null,\"name\":\"close_modal\"}]}],\"roots\":{\"references\":[{\"attributes\":{},\"id\":\"13024\",\"type\":\"AllLabels\"},{\"attributes\":{},\"id\":\"13072\",\"type\":\"BasicTickFormatter\"},{\"attributes\":{},\"id\":\"13036\",\"type\":\"LinearScale\"},{\"attributes\":{\"source\":{\"id\":\"13061\"}},\"id\":\"13068\",\"type\":\"CDSView\"},{\"attributes\":{\"ticks\":[1,2,3,4,5,6,7,8,9,10,11,12,13,14,15,16,17,18,19]},\"id\":\"13070\",\"type\":\"FixedTicker\"},{\"attributes\":{\"children\":[{\"id\":\"13106\"}],\"margin\":[0,0,0,0],\"name\":\"Row08489\",\"tags\":[\"embedded\"]},\"id\":\"12973\",\"type\":\"Row\"},{\"attributes\":{\"data\":{\"inertia\":{\"__ndarray__\":\"rWp9ypeBs0BDiW/TyoWoQNxsm4EnXKBAUPertPtkmUA32JJZI/aTQOM5bCPN/5BAYGpmEVi9jEBvhSgc50GJQFlkNOTtVIZAexg+XQSLhEA=\",\"dtype\":\"float64\",\"order\":\"little\",\"shape\":[10]},\"k_pca\":[1,2,3,4,5,6,7,8,9,10]},\"selected\":{\"id\":\"13062\"},\"selection_policy\":{\"id\":\"13099\"}},\"id\":\"13061\",\"type\":\"ColumnDataSource\"},{\"attributes\":{\"end\":8670.578367304903,\"reset_end\":8670.578367304903,\"reset_start\":-71.09570869564072,\"start\":-71.09570869564072,\"tags\":[[[\"inertia\",\"inertia\",null]]]},\"id\":\"12975\",\"type\":\"Range1d\"},{\"attributes\":{},\"id\":\"13073\",\"type\":\"AllLabels\"},{\"attributes\":{},\"id\":\"12982\",\"type\":\"LinearScale\"},{\"attributes\":{\"end\":10.0,\"reset_end\":10.0,\"reset_start\":1.0,\"start\":1.0,\"tags\":[[[\"k_pca\",\"k_pca\",null]]]},\"id\":\"13029\",\"type\":\"Range1d\"},{\"attributes\":{\"below\":[{\"id\":\"13040\"}],\"center\":[{\"id\":\"13043\"},{\"id\":\"13047\"}],\"height\":300,\"left\":[{\"id\":\"13044\"}],\"margin\":null,\"min_border_bottom\":10,\"min_border_left\":10,\"min_border_right\":10,\"min_border_top\":10,\"renderers\":[{\"id\":\"13067\"}],\"sizing_mode\":\"fixed\",\"title\":{\"id\":\"13032\"},\"toolbar\":{\"id\":\"13054\"},\"toolbar_location\":null,\"width\":700,\"x_range\":{\"id\":\"13029\"},\"x_scale\":{\"id\":\"13036\"},\"y_range\":{\"id\":\"12975\"},\"y_scale\":{\"id\":\"13038\"}},\"id\":\"13031\",\"subtype\":\"Figure\",\"type\":\"Plot\"},{\"attributes\":{\"children\":[{\"id\":\"13105\"},{\"id\":\"13103\"}]},\"id\":\"13106\",\"type\":\"Column\"},{\"attributes\":{},\"id\":\"13078\",\"type\":\"AllLabels\"},{\"attributes\":{},\"id\":\"13048\",\"type\":\"SaveTool\"},{\"attributes\":{},\"id\":\"13052\",\"type\":\"ResetTool\"},{\"attributes\":{\"line_alpha\":0.1,\"line_color\":\"#30a2da\",\"line_width\":2,\"x\":{\"field\":\"k_pca\"},\"y\":{\"field\":\"inertia\"}},\"id\":\"13065\",\"type\":\"Line\"},{\"attributes\":{\"callback\":null,\"renderers\":[{\"id\":\"13067\"}],\"tags\":[\"hv_created\"],\"tooltips\":[[\"k_pca\",\"@{k_pca}\"],[\"inertia\",\"@{inertia}\"]]},\"id\":\"13030\",\"type\":\"HoverTool\"},{\"attributes\":{\"overlay\":{\"id\":\"13053\"}},\"id\":\"13051\",\"type\":\"BoxZoomTool\"},{\"attributes\":{\"end\":19.0,\"reset_end\":19.0,\"reset_start\":1.0,\"start\":1.0,\"tags\":[[[\"k_original\",\"k_original\",null]]]},\"id\":\"12974\",\"type\":\"Range1d\"},{\"attributes\":{\"callback\":null,\"renderers\":[{\"id\":\"13013\"}],\"tags\":[\"hv_created\"],\"tooltips\":[[\"k_original\",\"@{k_original}\"],[\"inertia\",\"@{inertia}\"]]},\"id\":\"12976\",\"type\":\"HoverTool\"},{\"attributes\":{\"children\":[[{\"id\":\"12977\"},0,0],[{\"id\":\"13031\"},0,1]]},\"id\":\"13103\",\"type\":\"GridBox\"},{\"attributes\":{\"bottom_units\":\"screen\",\"coordinates\":null,\"fill_alpha\":0.5,\"fill_color\":\"lightgrey\",\"group\":null,\"left_units\":\"screen\",\"level\":\"overlay\",\"line_alpha\":1.0,\"line_color\":\"black\",\"line_dash\":[4,4],\"line_width\":2,\"right_units\":\"screen\",\"syncable\":false,\"top_units\":\"screen\"},\"id\":\"13053\",\"type\":\"BoxAnnotation\"},{\"attributes\":{},\"id\":\"12984\",\"type\":\"LinearScale\"},{\"attributes\":{},\"id\":\"12995\",\"type\":\"PanTool\"},{\"attributes\":{\"coordinates\":null,\"data_source\":{\"id\":\"13007\"},\"glyph\":{\"id\":\"13010\"},\"group\":null,\"hover_glyph\":null,\"muted_glyph\":{\"id\":\"13012\"},\"nonselection_glyph\":{\"id\":\"13011\"},\"selection_glyph\":{\"id\":\"13015\"},\"view\":{\"id\":\"13014\"}},\"id\":\"13013\",\"type\":\"GlyphRenderer\"},{\"attributes\":{\"coordinates\":null,\"group\":null,\"text\":\"Elbow Curve\",\"text_color\":\"black\",\"text_font_size\":\"12pt\"},\"id\":\"12978\",\"type\":\"Title\"},{\"attributes\":{\"line_color\":\"#30a2da\",\"line_width\":2,\"x\":{\"field\":\"k_original\"},\"y\":{\"field\":\"inertia\"}},\"id\":\"13015\",\"type\":\"Line\"},{\"attributes\":{\"axis\":{\"id\":\"12986\"},\"coordinates\":null,\"grid_line_color\":null,\"group\":null,\"ticker\":null},\"id\":\"12989\",\"type\":\"Grid\"},{\"attributes\":{\"axis_label\":\"k_original\",\"coordinates\":null,\"formatter\":{\"id\":\"13018\"},\"group\":null,\"major_label_policy\":{\"id\":\"13019\"},\"ticker\":{\"id\":\"13016\"}},\"id\":\"12986\",\"type\":\"LinearAxis\"},{\"attributes\":{},\"id\":\"13050\",\"type\":\"WheelZoomTool\"},{\"attributes\":{},\"id\":\"13045\",\"type\":\"BasicTicker\"},{\"attributes\":{},\"id\":\"13023\",\"type\":\"BasicTickFormatter\"},{\"attributes\":{},\"id\":\"13018\",\"type\":\"BasicTickFormatter\"},{\"attributes\":{\"axis_label\":\"inertia\",\"coordinates\":null,\"formatter\":{\"id\":\"13023\"},\"group\":null,\"major_label_policy\":{\"id\":\"13024\"},\"ticker\":{\"id\":\"12991\"}},\"id\":\"12990\",\"type\":\"LinearAxis\"},{\"attributes\":{\"axis\":{\"id\":\"13044\"},\"coordinates\":null,\"dimension\":1,\"grid_line_color\":null,\"group\":null,\"ticker\":null},\"id\":\"13047\",\"type\":\"Grid\"},{\"attributes\":{\"axis\":{\"id\":\"12990\"},\"coordinates\":null,\"dimension\":1,\"grid_line_color\":null,\"group\":null,\"ticker\":null},\"id\":\"12993\",\"type\":\"Grid\"},{\"attributes\":{\"axis_label\":\"inertia\",\"coordinates\":null,\"formatter\":{\"id\":\"13077\"},\"group\":null,\"major_label_policy\":{\"id\":\"13078\"},\"ticker\":{\"id\":\"13045\"}},\"id\":\"13044\",\"type\":\"LinearAxis\"},{\"attributes\":{},\"id\":\"12991\",\"type\":\"BasicTicker\"},{\"attributes\":{\"line_color\":\"#30a2da\",\"line_width\":2,\"x\":{\"field\":\"k_pca\"},\"y\":{\"field\":\"inertia\"}},\"id\":\"13064\",\"type\":\"Line\"},{\"attributes\":{},\"id\":\"12996\",\"type\":\"WheelZoomTool\"},{\"attributes\":{},\"id\":\"13077\",\"type\":\"BasicTickFormatter\"},{\"attributes\":{},\"id\":\"12994\",\"type\":\"SaveTool\"},{\"attributes\":{\"overlay\":{\"id\":\"12999\"}},\"id\":\"12997\",\"type\":\"BoxZoomTool\"},{\"attributes\":{},\"id\":\"13038\",\"type\":\"LinearScale\"},{\"attributes\":{},\"id\":\"12998\",\"type\":\"ResetTool\"},{\"attributes\":{},\"id\":\"13062\",\"type\":\"Selection\"},{\"attributes\":{},\"id\":\"13049\",\"type\":\"PanTool\"},{\"attributes\":{\"axis\":{\"id\":\"13040\"},\"coordinates\":null,\"grid_line_color\":null,\"group\":null,\"ticker\":null},\"id\":\"13043\",\"type\":\"Grid\"},{\"attributes\":{\"coordinates\":null,\"group\":null,\"text\":\"Elbow Curve\",\"text_color\":\"black\",\"text_font_size\":\"12pt\"},\"id\":\"13032\",\"type\":\"Title\"},{\"attributes\":{\"bottom_units\":\"screen\",\"coordinates\":null,\"fill_alpha\":0.5,\"fill_color\":\"lightgrey\",\"group\":null,\"left_units\":\"screen\",\"level\":\"overlay\",\"line_alpha\":1.0,\"line_color\":\"black\",\"line_dash\":[4,4],\"line_width\":2,\"right_units\":\"screen\",\"syncable\":false,\"top_units\":\"screen\"},\"id\":\"12999\",\"type\":\"BoxAnnotation\"},{\"attributes\":{\"axis_label\":\"k_pca\",\"coordinates\":null,\"formatter\":{\"id\":\"13072\"},\"group\":null,\"major_label_policy\":{\"id\":\"13073\"},\"ticker\":{\"id\":\"13070\"}},\"id\":\"13040\",\"type\":\"LinearAxis\"},{\"attributes\":{},\"id\":\"13089\",\"type\":\"UnionRenderers\"},{\"attributes\":{},\"id\":\"13099\",\"type\":\"UnionRenderers\"},{\"attributes\":{\"source\":{\"id\":\"13007\"}},\"id\":\"13014\",\"type\":\"CDSView\"},{\"attributes\":{\"active_drag\":{\"id\":\"13049\"},\"active_scroll\":{\"id\":\"13050\"},\"tools\":[{\"id\":\"13030\"},{\"id\":\"13048\"},{\"id\":\"13049\"},{\"id\":\"13050\"},{\"id\":\"13051\"},{\"id\":\"13052\"}]},\"id\":\"13054\",\"type\":\"Toolbar\"},{\"attributes\":{\"line_alpha\":0.1,\"line_color\":\"#30a2da\",\"line_width\":2,\"x\":{\"field\":\"k_original\"},\"y\":{\"field\":\"inertia\"}},\"id\":\"13011\",\"type\":\"Line\"},{\"attributes\":{\"active_drag\":{\"id\":\"12995\"},\"active_scroll\":{\"id\":\"12996\"},\"tools\":[{\"id\":\"12976\"},{\"id\":\"12994\"},{\"id\":\"12995\"},{\"id\":\"12996\"},{\"id\":\"12997\"},{\"id\":\"12998\"}]},\"id\":\"13000\",\"type\":\"Toolbar\"},{\"attributes\":{},\"id\":\"13008\",\"type\":\"Selection\"},{\"attributes\":{\"data\":{\"inertia\":{\"__ndarray__\":\"2/rbAxsGv0DhOiOKnX23QJK99k11WbNA3Kmg+Lz9sECpZVmE5KiuQPM9/zQ9saxAdu32GElnq0ButqMfneepQKe1Id7swKhAXEUDBKHNp0B7CEMdpYmmQNANF6Sw06VAqKb+wgo0pUBIn2lt5h2kQOmwZi/ql6NA6mpwV1OjokBkjx/9UrSiQLop2skj56FAsXoAoG5YoUA=\",\"dtype\":\"float64\",\"order\":\"little\",\"shape\":[19]},\"k_original\":[1,2,3,4,5,6,7,8,9,10,11,12,13,14,15,16,17,18,19]},\"selected\":{\"id\":\"13008\"},\"selection_policy\":{\"id\":\"13089\"}},\"id\":\"13007\",\"type\":\"ColumnDataSource\"},{\"attributes\":{\"line_color\":\"#30a2da\",\"line_width\":2,\"x\":{\"field\":\"k_original\"},\"y\":{\"field\":\"inertia\"}},\"id\":\"13010\",\"type\":\"Line\"},{\"attributes\":{\"line_alpha\":0.2,\"line_color\":\"#30a2da\",\"line_width\":2,\"x\":{\"field\":\"k_original\"},\"y\":{\"field\":\"inertia\"}},\"id\":\"13012\",\"type\":\"Line\"},{\"attributes\":{\"line_alpha\":0.2,\"line_color\":\"#30a2da\",\"line_width\":2,\"x\":{\"field\":\"k_pca\"},\"y\":{\"field\":\"inertia\"}},\"id\":\"13066\",\"type\":\"Line\"},{\"attributes\":{\"ticks\":[1,2,3,4,5,6,7,8,9,10,11,12,13,14,15,16,17,18,19]},\"id\":\"13016\",\"type\":\"FixedTicker\"},{\"attributes\":{\"line_color\":\"#30a2da\",\"line_width\":2,\"x\":{\"field\":\"k_pca\"},\"y\":{\"field\":\"inertia\"}},\"id\":\"13069\",\"type\":\"Line\"},{\"attributes\":{\"coordinates\":null,\"data_source\":{\"id\":\"13061\"},\"glyph\":{\"id\":\"13064\"},\"group\":null,\"hover_glyph\":null,\"muted_glyph\":{\"id\":\"13066\"},\"nonselection_glyph\":{\"id\":\"13065\"},\"selection_glyph\":{\"id\":\"13069\"},\"view\":{\"id\":\"13068\"}},\"id\":\"13067\",\"type\":\"GlyphRenderer\"},{\"attributes\":{\"toolbar\":{\"id\":\"13104\"},\"toolbar_location\":\"above\"},\"id\":\"13105\",\"type\":\"ToolbarBox\"},{\"attributes\":{},\"id\":\"13019\",\"type\":\"AllLabels\"},{\"attributes\":{\"below\":[{\"id\":\"12986\"}],\"center\":[{\"id\":\"12989\"},{\"id\":\"12993\"}],\"height\":300,\"left\":[{\"id\":\"12990\"}],\"margin\":null,\"min_border_bottom\":10,\"min_border_left\":10,\"min_border_right\":10,\"min_border_top\":10,\"renderers\":[{\"id\":\"13013\"}],\"sizing_mode\":\"fixed\",\"title\":{\"id\":\"12978\"},\"toolbar\":{\"id\":\"13000\"},\"toolbar_location\":null,\"width\":700,\"x_range\":{\"id\":\"12974\"},\"x_scale\":{\"id\":\"12982\"},\"y_range\":{\"id\":\"12975\"},\"y_scale\":{\"id\":\"12984\"}},\"id\":\"12977\",\"subtype\":\"Figure\",\"type\":\"Plot\"},{\"attributes\":{\"toolbars\":[{\"id\":\"13000\"},{\"id\":\"13054\"}],\"tools\":[{\"id\":\"12976\"},{\"id\":\"12994\"},{\"id\":\"12995\"},{\"id\":\"12996\"},{\"id\":\"12997\"},{\"id\":\"12998\"},{\"id\":\"13030\"},{\"id\":\"13048\"},{\"id\":\"13049\"},{\"id\":\"13050\"},{\"id\":\"13051\"},{\"id\":\"13052\"}]},\"id\":\"13104\",\"type\":\"ProxyToolbar\"}],\"root_ids\":[\"12973\"]},\"title\":\"Bokeh Application\",\"version\":\"2.4.3\"}};\n",
       "    var render_items = [{\"docid\":\"65c02635-0bcd-4b47-a3d2-32b1e532bffd\",\"root_ids\":[\"12973\"],\"roots\":{\"12973\":\"61bfe151-39ee-4ead-97c5-9a22edc6b700\"}}];\n",
       "    root.Bokeh.embed.embed_items_notebook(docs_json, render_items);\n",
       "    for (const render_item of render_items) {\n",
       "      for (const root_id of render_item.root_ids) {\n",
       "\tconst id_el = document.getElementById(root_id)\n",
       "\tif (id_el.children.length && (id_el.children[0].className === 'bk-root')) {\n",
       "\t  const root_el = id_el.children[0]\n",
       "\t  root_el.id = root_el.id + '-rendered'\n",
       "\t}\n",
       "      }\n",
       "    }\n",
       "  }\n",
       "  if (root.Bokeh !== undefined && root.Bokeh.Panel !== undefined) {\n",
       "    embed_document(root);\n",
       "  } else {\n",
       "    var attempts = 0;\n",
       "    var timer = setInterval(function(root) {\n",
       "      if (root.Bokeh !== undefined && root.Bokeh.Panel !== undefined) {\n",
       "        clearInterval(timer);\n",
       "        embed_document(root);\n",
       "      } else if (document.readyState == \"complete\") {\n",
       "        attempts++;\n",
       "        if (attempts > 200) {\n",
       "          clearInterval(timer);\n",
       "          console.log(\"Bokeh: ERROR: Unable to run BokehJS code because BokehJS library is missing\");\n",
       "        }\n",
       "      }\n",
       "    }, 25, root)\n",
       "  }\n",
       "})(window);</script>"
      ],
      "text/plain": [
       ":Layout\n",
       "   .Curve.I  :Curve   [k_original]   (inertia)\n",
       "   .Curve.II :Curve   [k_pca]   (inertia)"
      ]
     },
     "execution_count": 150,
     "metadata": {
      "application/vnd.holoviews_exec.v0+json": {
       "id": "12973"
      }
     },
     "output_type": "execute_result"
    }
   ],
   "source": [
    "# Composite plot to contrast the clusters\n",
    "elbow_plot + elbow_pca_plot\n",
    "# YOUR CODE HERE!"
   ]
  },
  {
   "cell_type": "markdown",
   "metadata": {},
   "source": [
    "#### Answer the following question: \n",
    "\n",
    "  * **Question:** After visually analyzing the cluster analysis results, what is the impact of using fewer features to cluster the data using K-Means?\n",
    "\n",
    "  * **Answer:In the first elbow plot the K value was 4 whereas in the PCA plot the new K value is 2. Of the 4 clusters in the initial plot contaned a single value. With the new PCA analysis the results were more accurate to cluster the data. "
   ]
  },
  {
   "cell_type": "code",
   "execution_count": null,
   "metadata": {},
   "outputs": [],
   "source": [
    "# Import the modules\n",
    "import numpy as np\n",
    "import pandas as pd\n",
    "from pathlib import Path\n",
    "from sklearn.metrics import balanced_accuracy_score, confusion_matrix, classification_report"
   ]
  },
  {
   "cell_type": "code",
   "execution_count": null,
   "metadata": {},
   "outputs": [
    {
     "data": {
      "text/html": [
       "<div>\n",
       "<style scoped>\n",
       "    .dataframe tbody tr th:only-of-type {\n",
       "        vertical-align: middle;\n",
       "    }\n",
       "\n",
       "    .dataframe tbody tr th {\n",
       "        vertical-align: top;\n",
       "    }\n",
       "\n",
       "    .dataframe thead th {\n",
       "        text-align: right;\n",
       "    }\n",
       "</style>\n",
       "<table border=\"1\" class=\"dataframe\">\n",
       "  <thead>\n",
       "    <tr style=\"text-align: right;\">\n",
       "      <th></th>\n",
       "      <th>Unnamed: 0</th>\n",
       "      <th>player_name</th>\n",
       "      <th>0304_salary_adjusted</th>\n",
       "      <th>0405_salary_adjusted</th>\n",
       "      <th>0506_salary_adjusted</th>\n",
       "      <th>0607_salary_adjusted</th>\n",
       "      <th>0708_salary_adjusted</th>\n",
       "      <th>0809_salary_adjusted</th>\n",
       "      <th>0910_salary_adjusted</th>\n",
       "      <th>1011_salary_adjusted</th>\n",
       "      <th>...</th>\n",
       "      <th>FT%</th>\n",
       "      <th>OREB</th>\n",
       "      <th>DREB</th>\n",
       "      <th>REB</th>\n",
       "      <th>AST</th>\n",
       "      <th>TOV</th>\n",
       "      <th>STL</th>\n",
       "      <th>BLK</th>\n",
       "      <th>PF</th>\n",
       "      <th>+/-</th>\n",
       "    </tr>\n",
       "  </thead>\n",
       "  <tbody>\n",
       "    <tr>\n",
       "      <th>0</th>\n",
       "      <td>0</td>\n",
       "      <td>LeBron James</td>\n",
       "      <td>6482581</td>\n",
       "      <td>6748393</td>\n",
       "      <td>7041080</td>\n",
       "      <td>8511223</td>\n",
       "      <td>18546814</td>\n",
       "      <td>19514263</td>\n",
       "      <td>21677854</td>\n",
       "      <td>19711923</td>\n",
       "      <td>...</td>\n",
       "      <td>73</td>\n",
       "      <td>111</td>\n",
       "      <td>454</td>\n",
       "      <td>565</td>\n",
       "      <td>514</td>\n",
       "      <td>249</td>\n",
       "      <td>104</td>\n",
       "      <td>49</td>\n",
       "      <td>143</td>\n",
       "      <td>618</td>\n",
       "    </tr>\n",
       "    <tr>\n",
       "      <th>1</th>\n",
       "      <td>1</td>\n",
       "      <td>LeBron James</td>\n",
       "      <td>6482581</td>\n",
       "      <td>6748393</td>\n",
       "      <td>7041080</td>\n",
       "      <td>8511223</td>\n",
       "      <td>18546814</td>\n",
       "      <td>19514263</td>\n",
       "      <td>21677854</td>\n",
       "      <td>19711923</td>\n",
       "      <td>...</td>\n",
       "      <td>71</td>\n",
       "      <td>51</td>\n",
       "      <td>365</td>\n",
       "      <td>416</td>\n",
       "      <td>511</td>\n",
       "      <td>272</td>\n",
       "      <td>109</td>\n",
       "      <td>49</td>\n",
       "      <td>135</td>\n",
       "      <td>541</td>\n",
       "    </tr>\n",
       "    <tr>\n",
       "      <th>2</th>\n",
       "      <td>2</td>\n",
       "      <td>Tyson Chandler</td>\n",
       "      <td>6136492</td>\n",
       "      <td>7499311</td>\n",
       "      <td>13711048</td>\n",
       "      <td>13362472</td>\n",
       "      <td>14577195</td>\n",
       "      <td>15369740</td>\n",
       "      <td>16279088</td>\n",
       "      <td>17128982</td>\n",
       "      <td>...</td>\n",
       "      <td>73</td>\n",
       "      <td>206</td>\n",
       "      <td>486</td>\n",
       "      <td>692</td>\n",
       "      <td>32</td>\n",
       "      <td>88</td>\n",
       "      <td>36</td>\n",
       "      <td>80</td>\n",
       "      <td>240</td>\n",
       "      <td>295</td>\n",
       "    </tr>\n",
       "    <tr>\n",
       "      <th>3</th>\n",
       "      <td>3</td>\n",
       "      <td>Tyson Chandler</td>\n",
       "      <td>6136492</td>\n",
       "      <td>7499311</td>\n",
       "      <td>13711048</td>\n",
       "      <td>13362472</td>\n",
       "      <td>14577195</td>\n",
       "      <td>15369740</td>\n",
       "      <td>16279088</td>\n",
       "      <td>17128982</td>\n",
       "      <td>...</td>\n",
       "      <td>72</td>\n",
       "      <td>294</td>\n",
       "      <td>570</td>\n",
       "      <td>864</td>\n",
       "      <td>84</td>\n",
       "      <td>105</td>\n",
       "      <td>42</td>\n",
       "      <td>91</td>\n",
       "      <td>169</td>\n",
       "      <td>230</td>\n",
       "    </tr>\n",
       "    <tr>\n",
       "      <th>4</th>\n",
       "      <td>4</td>\n",
       "      <td>Carmelo Anthony</td>\n",
       "      <td>5208750</td>\n",
       "      <td>5422257</td>\n",
       "      <td>5657544</td>\n",
       "      <td>6855081</td>\n",
       "      <td>18546814</td>\n",
       "      <td>19514263</td>\n",
       "      <td>21677854</td>\n",
       "      <td>23313418</td>\n",
       "      <td>...</td>\n",
       "      <td>84</td>\n",
       "      <td>145</td>\n",
       "      <td>477</td>\n",
       "      <td>622</td>\n",
       "      <td>242</td>\n",
       "      <td>198</td>\n",
       "      <td>95</td>\n",
       "      <td>51</td>\n",
       "      <td>224</td>\n",
       "      <td>104</td>\n",
       "    </tr>\n",
       "  </tbody>\n",
       "</table>\n",
       "<p>5 rows × 53 columns</p>\n",
       "</div>"
      ],
      "text/plain": [
       "   Unnamed: 0      player_name  0304_salary_adjusted  0405_salary_adjusted  \\\n",
       "0           0     LeBron James               6482581               6748393   \n",
       "1           1     LeBron James               6482581               6748393   \n",
       "2           2   Tyson Chandler               6136492               7499311   \n",
       "3           3   Tyson Chandler               6136492               7499311   \n",
       "4           4  Carmelo Anthony               5208750               5422257   \n",
       "\n",
       "   0506_salary_adjusted  0607_salary_adjusted  0708_salary_adjusted  \\\n",
       "0               7041080               8511223              18546814   \n",
       "1               7041080               8511223              18546814   \n",
       "2              13711048              13362472              14577195   \n",
       "3              13711048              13362472              14577195   \n",
       "4               5657544               6855081              18546814   \n",
       "\n",
       "   0809_salary_adjusted  0910_salary_adjusted  1011_salary_adjusted  ...  FT%  \\\n",
       "0              19514263              21677854              19711923  ...   73   \n",
       "1              19514263              21677854              19711923  ...   71   \n",
       "2              15369740              16279088              17128982  ...   73   \n",
       "3              15369740              16279088              17128982  ...   72   \n",
       "4              19514263              21677854              23313418  ...   84   \n",
       "\n",
       "   OREB  DREB  REB  AST  TOV  STL  BLK   PF  +/-  \n",
       "0   111   454  565  514  249  104   49  143  618  \n",
       "1    51   365  416  511  272  109   49  135  541  \n",
       "2   206   486  692   32   88   36   80  240  295  \n",
       "3   294   570  864   84  105   42   91  169  230  \n",
       "4   145   477  622  242  198   95   51  224  104  \n",
       "\n",
       "[5 rows x 53 columns]"
      ]
     },
     "execution_count": 191,
     "metadata": {},
     "output_type": "execute_result"
    }
   ],
   "source": [
    "df = pd.read_csv(\"Resources/player_info_reduced.csv\")\n",
    "# Review the DataFrame\n",
    "df.head()"
   ]
  },
  {
   "cell_type": "code",
   "execution_count": null,
   "metadata": {},
   "outputs": [],
   "source": [
    "# Separate the y variable, the labels\n",
    "# YOUR CODE HERE!]\n",
    "y = df[\"player_name\"]\n",
    "# Separate the X variable, the features\n",
    "x = df.drop(columns=\"Unnamed: 0\")\n",
    "# YOUR CODE HERE!"
   ]
  },
  {
   "cell_type": "code",
   "execution_count": null,
   "metadata": {},
   "outputs": [
    {
     "name": "stdout",
     "output_type": "stream",
     "text": [
      "0            LeBron James\n",
      "1            LeBron James\n",
      "2          Tyson Chandler\n",
      "3          Tyson Chandler\n",
      "4         Carmelo Anthony\n",
      "              ...        \n",
      "194            Quinn Cook\n",
      "195            Quinn Cook\n",
      "196    Shaquille Harrison\n",
      "197         Edmond Sumner\n",
      "198          Torrey Craig\n",
      "Name: player_name, Length: 199, dtype: object\n"
     ]
    }
   ],
   "source": [
    "# Review the y variable Series\n",
    "print(y)"
   ]
  },
  {
   "cell_type": "code",
   "execution_count": null,
   "metadata": {},
   "outputs": [
    {
     "name": "stdout",
     "output_type": "stream",
     "text": [
      "     Unnamed: 0  0304_salary_adjusted  0405_salary_adjusted  \\\n",
      "0             0               6482581               6748393   \n",
      "1             1               6482581               6748393   \n",
      "2             2               6136492               7499311   \n",
      "3             3               6136492               7499311   \n",
      "4             4               5208750               5422257   \n",
      "..          ...                   ...                   ...   \n",
      "194         194                     0                     0   \n",
      "195         195                     0                     0   \n",
      "196         196                     0                     0   \n",
      "197         197                     0                     0   \n",
      "198         198                     0                     0   \n",
      "\n",
      "     0506_salary_adjusted  0607_salary_adjusted  0708_salary_adjusted  \\\n",
      "0                 7041080               8511223              18546814   \n",
      "1                 7041080               8511223              18546814   \n",
      "2                13711048              13362472              14577195   \n",
      "3                13711048              13362472              14577195   \n",
      "4                 5657544               6855081              18546814   \n",
      "..                    ...                   ...                   ...   \n",
      "194                     0                     0                     0   \n",
      "195                     0                     0                     0   \n",
      "196                     0                     0                     0   \n",
      "197                     0                     0                     0   \n",
      "198                     0                     0                     0   \n",
      "\n",
      "     0809_salary_adjusted  0910_salary_adjusted  1011_salary_adjusted  \\\n",
      "0                19514263              21677854              19711923   \n",
      "1                19514263              21677854              19711923   \n",
      "2                15369740              16279088              17128982   \n",
      "3                15369740              16279088              17128982   \n",
      "4                19514263              21677854              23313418   \n",
      "..                    ...                   ...                   ...   \n",
      "194                     0                     0                     0   \n",
      "195                     0                     0                     0   \n",
      "196                     0                     0                     0   \n",
      "197                     0                     0                     0   \n",
      "198                     0                     0                     0   \n",
      "\n",
      "     1112_salary_adjusted  ...  FT%  OREB  DREB  REB  AST  TOV  STL  BLK   PF  \\\n",
      "0                21033142  ...   73   111   454  565  514  249  104   49  143   \n",
      "1                21033142  ...   71    51   365  416  511  272  109   49  135   \n",
      "2                17206990  ...   73   206   486  692   32   88   36   80  240   \n",
      "3                17206990  ...   72   294   570  864   84  105   42   91  169   \n",
      "4                24309802  ...   84   145   477  622  242  198   95   51  224   \n",
      "..                    ...  ...  ...   ...   ...  ...  ...  ...  ...  ...  ...   \n",
      "194                     0  ...   76    22   135  157  116   50   20    3   92   \n",
      "195                     0  ...   40     1     6    7   26   13    4    0   13   \n",
      "196                     0  ...   73     9    52   61   55   22   26    7   42   \n",
      "197                     0  ...    0     0     1    1    0    0    0    0    1   \n",
      "198                     0  ...   62    40    87  127   25   20   12   15   63   \n",
      "\n",
      "     +/-  \n",
      "0    618  \n",
      "1    541  \n",
      "2    295  \n",
      "3    230  \n",
      "4    104  \n",
      "..   ...  \n",
      "194 -133  \n",
      "195  -41  \n",
      "196   47  \n",
      "197   -6  \n",
      "198  -61  \n",
      "\n",
      "[199 rows x 52 columns]\n"
     ]
    }
   ],
   "source": [
    "# Review the X variable DataFrame\n",
    "print(x)\n"
   ]
  },
  {
   "cell_type": "code",
   "execution_count": null,
   "metadata": {},
   "outputs": [
    {
     "name": "stdout",
     "output_type": "stream",
     "text": [
      "Kevin Durant        4\n",
      "Avery Bradley       3\n",
      "Paul Millsap        3\n",
      "Austin Rivers       3\n",
      "Danilo Gallinari    3\n",
      "                   ..\n",
      "Tristan Thompson    1\n",
      "Enes Kanter         1\n",
      "Kyrie Irving        1\n",
      "Patrick Beverley    1\n",
      "Torrey Craig        1\n",
      "Name: player_name, Length: 138, dtype: int64\n"
     ]
    }
   ],
   "source": [
    "# Check the balance of our target values\n",
    "print(y.value_counts())"
   ]
  },
  {
   "cell_type": "code",
   "execution_count": null,
   "metadata": {},
   "outputs": [],
   "source": [
    "# Generate some example data (replace this with your actual data)\n",
    "X = np.random.rand(100, 5)  # Example feature matrix with 100 samples and 5 features\n",
    "y = np.random.randint(2, size=100)  # Example binary target variable (0 or 1)\n",
    "\n",
    "# Split the data using train_test_split\n",
    "# Assign a random_state of 1 to the function\n",
    "X_train, X_test, y_train, y_test = train_test_split(X, \n",
    "                                                    y, \n",
    "                                                    random_state=1, \n",
    "                                                    stratify=y)\n",
    "\n"
   ]
  },
  {
   "cell_type": "code",
   "execution_count": null,
   "metadata": {},
   "outputs": [
    {
     "data": {
      "text/html": [
       "<style>#sk-container-id-10 {color: black;background-color: white;}#sk-container-id-10 pre{padding: 0;}#sk-container-id-10 div.sk-toggleable {background-color: white;}#sk-container-id-10 label.sk-toggleable__label {cursor: pointer;display: block;width: 100%;margin-bottom: 0;padding: 0.3em;box-sizing: border-box;text-align: center;}#sk-container-id-10 label.sk-toggleable__label-arrow:before {content: \"▸\";float: left;margin-right: 0.25em;color: #696969;}#sk-container-id-10 label.sk-toggleable__label-arrow:hover:before {color: black;}#sk-container-id-10 div.sk-estimator:hover label.sk-toggleable__label-arrow:before {color: black;}#sk-container-id-10 div.sk-toggleable__content {max-height: 0;max-width: 0;overflow: hidden;text-align: left;background-color: #f0f8ff;}#sk-container-id-10 div.sk-toggleable__content pre {margin: 0.2em;color: black;border-radius: 0.25em;background-color: #f0f8ff;}#sk-container-id-10 input.sk-toggleable__control:checked~div.sk-toggleable__content {max-height: 200px;max-width: 100%;overflow: auto;}#sk-container-id-10 input.sk-toggleable__control:checked~label.sk-toggleable__label-arrow:before {content: \"▾\";}#sk-container-id-10 div.sk-estimator input.sk-toggleable__control:checked~label.sk-toggleable__label {background-color: #d4ebff;}#sk-container-id-10 div.sk-label input.sk-toggleable__control:checked~label.sk-toggleable__label {background-color: #d4ebff;}#sk-container-id-10 input.sk-hidden--visually {border: 0;clip: rect(1px 1px 1px 1px);clip: rect(1px, 1px, 1px, 1px);height: 1px;margin: -1px;overflow: hidden;padding: 0;position: absolute;width: 1px;}#sk-container-id-10 div.sk-estimator {font-family: monospace;background-color: #f0f8ff;border: 1px dotted black;border-radius: 0.25em;box-sizing: border-box;margin-bottom: 0.5em;}#sk-container-id-10 div.sk-estimator:hover {background-color: #d4ebff;}#sk-container-id-10 div.sk-parallel-item::after {content: \"\";width: 100%;border-bottom: 1px solid gray;flex-grow: 1;}#sk-container-id-10 div.sk-label:hover label.sk-toggleable__label {background-color: #d4ebff;}#sk-container-id-10 div.sk-serial::before {content: \"\";position: absolute;border-left: 1px solid gray;box-sizing: border-box;top: 0;bottom: 0;left: 50%;z-index: 0;}#sk-container-id-10 div.sk-serial {display: flex;flex-direction: column;align-items: center;background-color: white;padding-right: 0.2em;padding-left: 0.2em;position: relative;}#sk-container-id-10 div.sk-item {position: relative;z-index: 1;}#sk-container-id-10 div.sk-parallel {display: flex;align-items: stretch;justify-content: center;background-color: white;position: relative;}#sk-container-id-10 div.sk-item::before, #sk-container-id-10 div.sk-parallel-item::before {content: \"\";position: absolute;border-left: 1px solid gray;box-sizing: border-box;top: 0;bottom: 0;left: 50%;z-index: -1;}#sk-container-id-10 div.sk-parallel-item {display: flex;flex-direction: column;z-index: 1;position: relative;background-color: white;}#sk-container-id-10 div.sk-parallel-item:first-child::after {align-self: flex-end;width: 50%;}#sk-container-id-10 div.sk-parallel-item:last-child::after {align-self: flex-start;width: 50%;}#sk-container-id-10 div.sk-parallel-item:only-child::after {width: 0;}#sk-container-id-10 div.sk-dashed-wrapped {border: 1px dashed gray;margin: 0 0.4em 0.5em 0.4em;box-sizing: border-box;padding-bottom: 0.4em;background-color: white;}#sk-container-id-10 div.sk-label label {font-family: monospace;font-weight: bold;display: inline-block;line-height: 1.2em;}#sk-container-id-10 div.sk-label-container {text-align: center;}#sk-container-id-10 div.sk-container {/* jupyter's `normalize.less` sets `[hidden] { display: none; }` but bootstrap.min.css set `[hidden] { display: none !important; }` so we also need the `!important` here to be able to override the default hidden behavior on the sphinx rendered scikit-learn.org. See: https://github.com/scikit-learn/scikit-learn/issues/21755 */display: inline-block !important;position: relative;}#sk-container-id-10 div.sk-text-repr-fallback {display: none;}</style><div id=\"sk-container-id-10\" class=\"sk-top-container\"><div class=\"sk-text-repr-fallback\"><pre>LogisticRegression(random_state=1)</pre><b>In a Jupyter environment, please rerun this cell to show the HTML representation or trust the notebook. <br />On GitHub, the HTML representation is unable to render, please try loading this page with nbviewer.org.</b></div><div class=\"sk-container\" hidden><div class=\"sk-item\"><div class=\"sk-estimator sk-toggleable\"><input class=\"sk-toggleable__control sk-hidden--visually\" id=\"sk-estimator-id-10\" type=\"checkbox\" checked><label for=\"sk-estimator-id-10\" class=\"sk-toggleable__label sk-toggleable__label-arrow\">LogisticRegression</label><div class=\"sk-toggleable__content\"><pre>LogisticRegression(random_state=1)</pre></div></div></div></div></div>"
      ],
      "text/plain": [
       "LogisticRegression(random_state=1)"
      ]
     },
     "execution_count": 193,
     "metadata": {},
     "output_type": "execute_result"
    }
   ],
   "source": [
    "# Import the LogisticRegression module from SKLearn\n",
    "from sklearn.linear_model import LogisticRegression\n",
    "\n",
    "# Instantiate the Logistic Regression model\n",
    "# Assign a random_state parameter of 1 to the model\n",
    "classifier = LogisticRegression(solver='lbfgs', random_state=1)\n",
    "# Fit the model using training data\n",
    "classifier.fit(X_train,y_train)"
   ]
  },
  {
   "cell_type": "code",
   "execution_count": null,
   "metadata": {},
   "outputs": [
    {
     "data": {
      "text/html": [
       "<div>\n",
       "<style scoped>\n",
       "    .dataframe tbody tr th:only-of-type {\n",
       "        vertical-align: middle;\n",
       "    }\n",
       "\n",
       "    .dataframe tbody tr th {\n",
       "        vertical-align: top;\n",
       "    }\n",
       "\n",
       "    .dataframe thead th {\n",
       "        text-align: right;\n",
       "    }\n",
       "</style>\n",
       "<table border=\"1\" class=\"dataframe\">\n",
       "  <thead>\n",
       "    <tr style=\"text-align: right;\">\n",
       "      <th></th>\n",
       "      <th>Prediction</th>\n",
       "      <th>Actual</th>\n",
       "    </tr>\n",
       "  </thead>\n",
       "  <tbody>\n",
       "    <tr>\n",
       "      <th>0</th>\n",
       "      <td>1</td>\n",
       "      <td>1</td>\n",
       "    </tr>\n",
       "    <tr>\n",
       "      <th>1</th>\n",
       "      <td>0</td>\n",
       "      <td>0</td>\n",
       "    </tr>\n",
       "    <tr>\n",
       "      <th>2</th>\n",
       "      <td>0</td>\n",
       "      <td>1</td>\n",
       "    </tr>\n",
       "    <tr>\n",
       "      <th>3</th>\n",
       "      <td>0</td>\n",
       "      <td>1</td>\n",
       "    </tr>\n",
       "    <tr>\n",
       "      <th>4</th>\n",
       "      <td>0</td>\n",
       "      <td>1</td>\n",
       "    </tr>\n",
       "    <tr>\n",
       "      <th>5</th>\n",
       "      <td>0</td>\n",
       "      <td>0</td>\n",
       "    </tr>\n",
       "    <tr>\n",
       "      <th>6</th>\n",
       "      <td>0</td>\n",
       "      <td>0</td>\n",
       "    </tr>\n",
       "    <tr>\n",
       "      <th>7</th>\n",
       "      <td>0</td>\n",
       "      <td>1</td>\n",
       "    </tr>\n",
       "    <tr>\n",
       "      <th>8</th>\n",
       "      <td>0</td>\n",
       "      <td>1</td>\n",
       "    </tr>\n",
       "    <tr>\n",
       "      <th>9</th>\n",
       "      <td>0</td>\n",
       "      <td>0</td>\n",
       "    </tr>\n",
       "    <tr>\n",
       "      <th>10</th>\n",
       "      <td>0</td>\n",
       "      <td>0</td>\n",
       "    </tr>\n",
       "    <tr>\n",
       "      <th>11</th>\n",
       "      <td>0</td>\n",
       "      <td>1</td>\n",
       "    </tr>\n",
       "    <tr>\n",
       "      <th>12</th>\n",
       "      <td>0</td>\n",
       "      <td>1</td>\n",
       "    </tr>\n",
       "    <tr>\n",
       "      <th>13</th>\n",
       "      <td>1</td>\n",
       "      <td>0</td>\n",
       "    </tr>\n",
       "    <tr>\n",
       "      <th>14</th>\n",
       "      <td>0</td>\n",
       "      <td>1</td>\n",
       "    </tr>\n",
       "    <tr>\n",
       "      <th>15</th>\n",
       "      <td>1</td>\n",
       "      <td>0</td>\n",
       "    </tr>\n",
       "    <tr>\n",
       "      <th>16</th>\n",
       "      <td>0</td>\n",
       "      <td>0</td>\n",
       "    </tr>\n",
       "    <tr>\n",
       "      <th>17</th>\n",
       "      <td>0</td>\n",
       "      <td>0</td>\n",
       "    </tr>\n",
       "    <tr>\n",
       "      <th>18</th>\n",
       "      <td>0</td>\n",
       "      <td>0</td>\n",
       "    </tr>\n",
       "    <tr>\n",
       "      <th>19</th>\n",
       "      <td>0</td>\n",
       "      <td>0</td>\n",
       "    </tr>\n",
       "    <tr>\n",
       "      <th>20</th>\n",
       "      <td>0</td>\n",
       "      <td>1</td>\n",
       "    </tr>\n",
       "    <tr>\n",
       "      <th>21</th>\n",
       "      <td>0</td>\n",
       "      <td>0</td>\n",
       "    </tr>\n",
       "    <tr>\n",
       "      <th>22</th>\n",
       "      <td>1</td>\n",
       "      <td>0</td>\n",
       "    </tr>\n",
       "    <tr>\n",
       "      <th>23</th>\n",
       "      <td>1</td>\n",
       "      <td>0</td>\n",
       "    </tr>\n",
       "    <tr>\n",
       "      <th>24</th>\n",
       "      <td>0</td>\n",
       "      <td>1</td>\n",
       "    </tr>\n",
       "  </tbody>\n",
       "</table>\n",
       "</div>"
      ],
      "text/plain": [
       "    Prediction  Actual\n",
       "0            1       1\n",
       "1            0       0\n",
       "2            0       1\n",
       "3            0       1\n",
       "4            0       1\n",
       "5            0       0\n",
       "6            0       0\n",
       "7            0       1\n",
       "8            0       1\n",
       "9            0       0\n",
       "10           0       0\n",
       "11           0       1\n",
       "12           0       1\n",
       "13           1       0\n",
       "14           0       1\n",
       "15           1       0\n",
       "16           0       0\n",
       "17           0       0\n",
       "18           0       0\n",
       "19           0       0\n",
       "20           0       1\n",
       "21           0       0\n",
       "22           1       0\n",
       "23           1       0\n",
       "24           0       1"
      ]
     },
     "execution_count": 194,
     "metadata": {},
     "output_type": "execute_result"
    }
   ],
   "source": [
    "predictions = classifier.predict(X_test)\n",
    "pd.DataFrame({\"Prediction\": predictions, \"Actual\": y_test})"
   ]
  },
  {
   "cell_type": "code",
   "execution_count": null,
   "metadata": {},
   "outputs": [
    {
     "name": "stdout",
     "output_type": "stream",
     "text": [
      "balanced accuracy score of the model is : 0.4025974025974026\n"
     ]
    }
   ],
   "source": [
    "# Print the balanced_accuracy score of the model\n",
    "print( f'balanced accuracy score of the model is : {balanced_accuracy_score(y_test, predictions)}')"
   ]
  },
  {
   "cell_type": "code",
   "execution_count": null,
   "metadata": {},
   "outputs": [
    {
     "data": {
      "text/plain": [
       "array([[10,  4],\n",
       "       [10,  1]], dtype=int64)"
      ]
     },
     "execution_count": 196,
     "metadata": {},
     "output_type": "execute_result"
    }
   ],
   "source": [
    "test_matrix = confusion_matrix(y_test, predictions)\n",
    "test_matrix"
   ]
  },
  {
   "cell_type": "code",
   "execution_count": null,
   "metadata": {},
   "outputs": [],
   "source": [
    "from imblearn.over_sampling import RandomOverSampler\n",
    "\n",
    "# Instantiate the random oversampler model\n",
    "# # Assign a random_state parameter of 1 to the model\n",
    "random_over_sampler = RandomOverSampler(random_state=1)\n",
    "\n",
    "# Fit the original training data to the random_oversampler model\n",
    "X_resampled, y_resampled = random_over_sampler.fit_resample(X_train, y_train)"
   ]
  },
  {
   "cell_type": "code",
   "execution_count": null,
   "metadata": {},
   "outputs": [
    {
     "name": "stdout",
     "output_type": "stream",
     "text": [
      "              precision    recall  f1-score   support\n",
      "\n",
      "           0       0.50      0.71      0.59        14\n",
      "           1       0.20      0.09      0.13        11\n",
      "\n",
      "    accuracy                           0.44        25\n",
      "   macro avg       0.35      0.40      0.36        25\n",
      "weighted avg       0.37      0.44      0.38        25\n",
      "\n"
     ]
    }
   ],
   "source": [
    "testing_report = classification_report(y_test, predictions)\n",
    "print(testing_report)"
   ]
  },
  {
   "cell_type": "code",
   "execution_count": null,
   "metadata": {},
   "outputs": [],
   "source": [
    "# Instantiate the Logistic Regression model\n",
    "# Assign a random_state parameter of 1 to the model\n",
    "\n",
    "classifier = LogisticRegression(solver='lbfgs', random_state=1)\n",
    "\n",
    "# Fit the model using the resampled training data\n",
    "\n",
    "classifier.fit(X_resampled, y_resampled)\n",
    "\n",
    "# Make a prediction using the testing data\n",
    "pred_resampled = classifier.predict(X_resampled)"
   ]
  },
  {
   "cell_type": "code",
   "execution_count": null,
   "metadata": {},
   "outputs": [
    {
     "name": "stdout",
     "output_type": "stream",
     "text": [
      "balanced accuracy score of the resampled model is : 0.5975609756097562\n"
     ]
    }
   ],
   "source": [
    "print( f'balanced accuracy score of the resampled model is : {balanced_accuracy_score(y_resampled, pred_resampled)}')"
   ]
  },
  {
   "cell_type": "code",
   "execution_count": null,
   "metadata": {},
   "outputs": [
    {
     "data": {
      "text/plain": [
       "array([[26, 15],\n",
       "       [18, 23]], dtype=int64)"
      ]
     },
     "execution_count": 203,
     "metadata": {},
     "output_type": "execute_result"
    }
   ],
   "source": [
    "# Generate a confusion matrix for the model\n",
    "Conf_matrix = confusion_matrix(y_resampled, pred_resampled)\n",
    "Conf_matrix"
   ]
  },
  {
   "cell_type": "code",
   "execution_count": null,
   "metadata": {},
   "outputs": [
    {
     "name": "stdout",
     "output_type": "stream",
     "text": [
      "              precision    recall  f1-score   support\n",
      "\n",
      "           0       0.59      0.63      0.61        41\n",
      "           1       0.61      0.56      0.58        41\n",
      "\n",
      "    accuracy                           0.60        82\n",
      "   macro avg       0.60      0.60      0.60        82\n",
      "weighted avg       0.60      0.60      0.60        82\n",
      "\n"
     ]
    }
   ],
   "source": [
    "resampled_report = classification_report(y_resampled, pred_resampled)\n",
    "print(resampled_report)"
   ]
  },
  {
   "cell_type": "code",
   "execution_count": null,
   "metadata": {},
   "outputs": [],
   "source": []
  }
 ],
 "metadata": {
  "kernelspec": {
   "display_name": "PythonData",
   "language": "python",
   "name": "pythondata"
  },
  "language_info": {
   "codemirror_mode": {
    "name": "ipython",
    "version": 3
   },
   "file_extension": ".py",
   "mimetype": "text/x-python",
   "name": "python",
   "nbconvert_exporter": "python",
   "pygments_lexer": "ipython3",
   "version": "3.7.7"
  },
  "nteract": {
   "version": "0.28.0"
  },
  "vscode": {
   "interpreter": {
    "hash": "40d3a090f54c6569ab1632332b64b2c03c39dcf918b08424e98f38b5ae0af88f"
   }
  }
 },
 "nbformat": 4,
 "nbformat_minor": 4
}
