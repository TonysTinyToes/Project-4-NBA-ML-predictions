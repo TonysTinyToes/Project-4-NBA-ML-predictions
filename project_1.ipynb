{
 "cells": [
  {
   "cell_type": "code",
   "execution_count": 2,
   "metadata": {},
   "outputs": [],
   "source": [
    "# Dependencies\n",
    "\n",
    "import requests\n",
    "import json\n",
    "from config import api_key\n",
    "import pandas as pd\n",
    "\n"
   ]
  },
  {
   "cell_type": "code",
   "execution_count": 14,
   "metadata": {},
   "outputs": [
    {
     "name": "stdout",
     "output_type": "stream",
     "text": [
      "0             Stratton\n",
      "1                 Jaws\n",
      "2            Old Guard\n",
      "3    Top Gun: Maverick\n",
      "Name: Movies, dtype: object\n"
     ]
    }
   ],
   "source": [
    "list = []\n",
    "\n",
    "movies = pd.read_csv('Resources/test.csv')\n",
    "\n",
    "movies = pd.DataFrame(movies)\n",
    "\n",
    "print(movies['Movies'])"
   ]
  },
  {
   "cell_type": "code",
   "execution_count": 16,
   "metadata": {},
   "outputs": [
    {
     "data": {
      "text/plain": [
       "[{'Title': 'Stratton', 'Year': '2017', 'Director': 'Simon West'},\n",
       " {'Title': 'Jaws', 'Year': '1975', 'Director': 'Steven Spielberg'},\n",
       " {'Title': 'The Old Guard',\n",
       "  'Year': '2020',\n",
       "  'Director': 'Gina Prince-Bythewood'},\n",
       " {'Title': 'Top Gun: Maverick', 'Year': '2022', 'Director': 'Joseph Kosinski'}]"
      ]
     },
     "execution_count": 16,
     "metadata": {},
     "output_type": "execute_result"
    }
   ],
   "source": [
    "for movie in movies['Movies']:\n",
    "    url = f\"http://www.omdbapi.com/?t={movie}&apikey={api_key}\"\n",
    "\n",
    "    movie_json = requests.get(url).json()\n",
    "\n",
    "    title = movie_json['Title']\n",
    "    year = movie_json['Year']\n",
    "    Director = movie_json['Director']\n",
    "\n",
    "    list.append({'Title':title,\n",
    "                 'Year':year,\n",
    "                 'Director':Director})\n",
    "    \n",
    "list\n",
    "\n"
   ]
  },
  {
   "cell_type": "code",
   "execution_count": null,
   "metadata": {},
   "outputs": [],
   "source": []
  }
 ],
 "metadata": {
  "kernelspec": {
   "display_name": "PythonData",
   "language": "python",
   "name": "python3"
  },
  "language_info": {
   "codemirror_mode": {
    "name": "ipython",
    "version": 3
   },
   "file_extension": ".py",
   "mimetype": "text/x-python",
   "name": "python",
   "nbconvert_exporter": "python",
   "pygments_lexer": "ipython3",
   "version": "3.7.7"
  },
  "orig_nbformat": 4
 },
 "nbformat": 4,
 "nbformat_minor": 2
}
