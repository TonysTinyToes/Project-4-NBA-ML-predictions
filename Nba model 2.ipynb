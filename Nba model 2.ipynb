{
 "cells": [
  {
   "cell_type": "code",
   "execution_count": 62,
   "metadata": {},
   "outputs": [],
   "source": [
    "# Import required libraries and dependencies\n",
    "import pandas as pd\n",
    "import hvplot.pandas\n",
    "from sklearn.cluster import KMeans\n",
    "from sklearn.decomposition import PCA\n",
    "from sklearn.preprocessing import StandardScaler"
   ]
  },
  {
   "cell_type": "code",
   "execution_count": 63,
   "metadata": {},
   "outputs": [
    {
     "data": {
      "text/html": [
       "<div>\n",
       "<style scoped>\n",
       "    .dataframe tbody tr th:only-of-type {\n",
       "        vertical-align: middle;\n",
       "    }\n",
       "\n",
       "    .dataframe tbody tr th {\n",
       "        vertical-align: top;\n",
       "    }\n",
       "\n",
       "    .dataframe thead th {\n",
       "        text-align: right;\n",
       "    }\n",
       "</style>\n",
       "<table border=\"1\" class=\"dataframe\">\n",
       "  <thead>\n",
       "    <tr style=\"text-align: right;\">\n",
       "      <th></th>\n",
       "      <th>Unnamed: 0</th>\n",
       "      <th>0304_salary_adjusted</th>\n",
       "      <th>0405_salary_adjusted</th>\n",
       "      <th>0506_salary_adjusted</th>\n",
       "      <th>0607_salary_adjusted</th>\n",
       "      <th>0708_salary_adjusted</th>\n",
       "      <th>0809_salary_adjusted</th>\n",
       "      <th>0910_salary_adjusted</th>\n",
       "      <th>1011_salary_adjusted</th>\n",
       "      <th>1112_salary_adjusted</th>\n",
       "      <th>...</th>\n",
       "      <th>FT%</th>\n",
       "      <th>OREB</th>\n",
       "      <th>DREB</th>\n",
       "      <th>REB</th>\n",
       "      <th>AST</th>\n",
       "      <th>TOV</th>\n",
       "      <th>STL</th>\n",
       "      <th>BLK</th>\n",
       "      <th>PF</th>\n",
       "      <th>+/-</th>\n",
       "    </tr>\n",
       "    <tr>\n",
       "      <th>player_name</th>\n",
       "      <th></th>\n",
       "      <th></th>\n",
       "      <th></th>\n",
       "      <th></th>\n",
       "      <th></th>\n",
       "      <th></th>\n",
       "      <th></th>\n",
       "      <th></th>\n",
       "      <th></th>\n",
       "      <th></th>\n",
       "      <th></th>\n",
       "      <th></th>\n",
       "      <th></th>\n",
       "      <th></th>\n",
       "      <th></th>\n",
       "      <th></th>\n",
       "      <th></th>\n",
       "      <th></th>\n",
       "      <th></th>\n",
       "      <th></th>\n",
       "      <th></th>\n",
       "    </tr>\n",
       "  </thead>\n",
       "  <tbody>\n",
       "    <tr>\n",
       "      <th>LeBron James</th>\n",
       "      <td>0</td>\n",
       "      <td>6482581</td>\n",
       "      <td>6748393</td>\n",
       "      <td>7041080</td>\n",
       "      <td>8511223</td>\n",
       "      <td>18546814</td>\n",
       "      <td>19514263</td>\n",
       "      <td>21677854</td>\n",
       "      <td>19711923</td>\n",
       "      <td>21033142</td>\n",
       "      <td>...</td>\n",
       "      <td>73</td>\n",
       "      <td>111</td>\n",
       "      <td>454</td>\n",
       "      <td>565</td>\n",
       "      <td>514</td>\n",
       "      <td>249</td>\n",
       "      <td>104</td>\n",
       "      <td>49</td>\n",
       "      <td>143</td>\n",
       "      <td>618</td>\n",
       "    </tr>\n",
       "    <tr>\n",
       "      <th>LeBron James</th>\n",
       "      <td>1</td>\n",
       "      <td>6482581</td>\n",
       "      <td>6748393</td>\n",
       "      <td>7041080</td>\n",
       "      <td>8511223</td>\n",
       "      <td>18546814</td>\n",
       "      <td>19514263</td>\n",
       "      <td>21677854</td>\n",
       "      <td>19711923</td>\n",
       "      <td>21033142</td>\n",
       "      <td>...</td>\n",
       "      <td>71</td>\n",
       "      <td>51</td>\n",
       "      <td>365</td>\n",
       "      <td>416</td>\n",
       "      <td>511</td>\n",
       "      <td>272</td>\n",
       "      <td>109</td>\n",
       "      <td>49</td>\n",
       "      <td>135</td>\n",
       "      <td>541</td>\n",
       "    </tr>\n",
       "    <tr>\n",
       "      <th>Tyson Chandler</th>\n",
       "      <td>2</td>\n",
       "      <td>6136492</td>\n",
       "      <td>7499311</td>\n",
       "      <td>13711048</td>\n",
       "      <td>13362472</td>\n",
       "      <td>14577195</td>\n",
       "      <td>15369740</td>\n",
       "      <td>16279088</td>\n",
       "      <td>17128982</td>\n",
       "      <td>17206990</td>\n",
       "      <td>...</td>\n",
       "      <td>73</td>\n",
       "      <td>206</td>\n",
       "      <td>486</td>\n",
       "      <td>692</td>\n",
       "      <td>32</td>\n",
       "      <td>88</td>\n",
       "      <td>36</td>\n",
       "      <td>80</td>\n",
       "      <td>240</td>\n",
       "      <td>295</td>\n",
       "    </tr>\n",
       "    <tr>\n",
       "      <th>Tyson Chandler</th>\n",
       "      <td>3</td>\n",
       "      <td>6136492</td>\n",
       "      <td>7499311</td>\n",
       "      <td>13711048</td>\n",
       "      <td>13362472</td>\n",
       "      <td>14577195</td>\n",
       "      <td>15369740</td>\n",
       "      <td>16279088</td>\n",
       "      <td>17128982</td>\n",
       "      <td>17206990</td>\n",
       "      <td>...</td>\n",
       "      <td>72</td>\n",
       "      <td>294</td>\n",
       "      <td>570</td>\n",
       "      <td>864</td>\n",
       "      <td>84</td>\n",
       "      <td>105</td>\n",
       "      <td>42</td>\n",
       "      <td>91</td>\n",
       "      <td>169</td>\n",
       "      <td>230</td>\n",
       "    </tr>\n",
       "    <tr>\n",
       "      <th>Carmelo Anthony</th>\n",
       "      <td>4</td>\n",
       "      <td>5208750</td>\n",
       "      <td>5422257</td>\n",
       "      <td>5657544</td>\n",
       "      <td>6855081</td>\n",
       "      <td>18546814</td>\n",
       "      <td>19514263</td>\n",
       "      <td>21677854</td>\n",
       "      <td>23313418</td>\n",
       "      <td>24309802</td>\n",
       "      <td>...</td>\n",
       "      <td>84</td>\n",
       "      <td>145</td>\n",
       "      <td>477</td>\n",
       "      <td>622</td>\n",
       "      <td>242</td>\n",
       "      <td>198</td>\n",
       "      <td>95</td>\n",
       "      <td>51</td>\n",
       "      <td>224</td>\n",
       "      <td>104</td>\n",
       "    </tr>\n",
       "  </tbody>\n",
       "</table>\n",
       "<p>5 rows × 52 columns</p>\n",
       "</div>"
      ],
      "text/plain": [
       "                 Unnamed: 0  0304_salary_adjusted  0405_salary_adjusted  \\\n",
       "player_name                                                               \n",
       "LeBron James              0               6482581               6748393   \n",
       "LeBron James              1               6482581               6748393   \n",
       "Tyson Chandler            2               6136492               7499311   \n",
       "Tyson Chandler            3               6136492               7499311   \n",
       "Carmelo Anthony           4               5208750               5422257   \n",
       "\n",
       "                 0506_salary_adjusted  0607_salary_adjusted  \\\n",
       "player_name                                                   \n",
       "LeBron James                  7041080               8511223   \n",
       "LeBron James                  7041080               8511223   \n",
       "Tyson Chandler               13711048              13362472   \n",
       "Tyson Chandler               13711048              13362472   \n",
       "Carmelo Anthony               5657544               6855081   \n",
       "\n",
       "                 0708_salary_adjusted  0809_salary_adjusted  \\\n",
       "player_name                                                   \n",
       "LeBron James                 18546814              19514263   \n",
       "LeBron James                 18546814              19514263   \n",
       "Tyson Chandler               14577195              15369740   \n",
       "Tyson Chandler               14577195              15369740   \n",
       "Carmelo Anthony              18546814              19514263   \n",
       "\n",
       "                 0910_salary_adjusted  1011_salary_adjusted  \\\n",
       "player_name                                                   \n",
       "LeBron James                 21677854              19711923   \n",
       "LeBron James                 21677854              19711923   \n",
       "Tyson Chandler               16279088              17128982   \n",
       "Tyson Chandler               16279088              17128982   \n",
       "Carmelo Anthony              21677854              23313418   \n",
       "\n",
       "                 1112_salary_adjusted  ...  FT%  OREB  DREB  REB  AST  TOV  \\\n",
       "player_name                            ...                                   \n",
       "LeBron James                 21033142  ...   73   111   454  565  514  249   \n",
       "LeBron James                 21033142  ...   71    51   365  416  511  272   \n",
       "Tyson Chandler               17206990  ...   73   206   486  692   32   88   \n",
       "Tyson Chandler               17206990  ...   72   294   570  864   84  105   \n",
       "Carmelo Anthony              24309802  ...   84   145   477  622  242  198   \n",
       "\n",
       "                 STL  BLK   PF  +/-  \n",
       "player_name                          \n",
       "LeBron James     104   49  143  618  \n",
       "LeBron James     109   49  135  541  \n",
       "Tyson Chandler    36   80  240  295  \n",
       "Tyson Chandler    42   91  169  230  \n",
       "Carmelo Anthony   95   51  224  104  \n",
       "\n",
       "[5 rows x 52 columns]"
      ]
     },
     "execution_count": 63,
     "metadata": {},
     "output_type": "execute_result"
    }
   ],
   "source": [
    "# Load the data into a Pandas DataFrame\n",
    "df_player_data = pd.read_csv(\n",
    "    \"Resources/player_info_reduced.csv\",\n",
    "    index_col=\"player_name\")\n",
    "\n",
    "# Display sample data\n",
    "df_player_data.head()"
   ]
  },
  {
   "cell_type": "code",
   "execution_count": 64,
   "metadata": {},
   "outputs": [
    {
     "data": {
      "text/html": [
       "<div>\n",
       "<style scoped>\n",
       "    .dataframe tbody tr th:only-of-type {\n",
       "        vertical-align: middle;\n",
       "    }\n",
       "\n",
       "    .dataframe tbody tr th {\n",
       "        vertical-align: top;\n",
       "    }\n",
       "\n",
       "    .dataframe thead th {\n",
       "        text-align: right;\n",
       "    }\n",
       "</style>\n",
       "<table border=\"1\" class=\"dataframe\">\n",
       "  <thead>\n",
       "    <tr style=\"text-align: right;\">\n",
       "      <th></th>\n",
       "      <th>Unnamed: 0</th>\n",
       "      <th>0304_salary_adjusted</th>\n",
       "      <th>0405_salary_adjusted</th>\n",
       "      <th>0506_salary_adjusted</th>\n",
       "      <th>0607_salary_adjusted</th>\n",
       "      <th>0708_salary_adjusted</th>\n",
       "      <th>0809_salary_adjusted</th>\n",
       "      <th>0910_salary_adjusted</th>\n",
       "      <th>1011_salary_adjusted</th>\n",
       "      <th>1112_salary_adjusted</th>\n",
       "      <th>...</th>\n",
       "      <th>FT%</th>\n",
       "      <th>OREB</th>\n",
       "      <th>DREB</th>\n",
       "      <th>REB</th>\n",
       "      <th>AST</th>\n",
       "      <th>TOV</th>\n",
       "      <th>STL</th>\n",
       "      <th>BLK</th>\n",
       "      <th>PF</th>\n",
       "      <th>+/-</th>\n",
       "    </tr>\n",
       "  </thead>\n",
       "  <tbody>\n",
       "    <tr>\n",
       "      <th>count</th>\n",
       "      <td>199.000000</td>\n",
       "      <td>1.990000e+02</td>\n",
       "      <td>1.990000e+02</td>\n",
       "      <td>1.990000e+02</td>\n",
       "      <td>1.990000e+02</td>\n",
       "      <td>1.990000e+02</td>\n",
       "      <td>1.990000e+02</td>\n",
       "      <td>1.990000e+02</td>\n",
       "      <td>1.990000e+02</td>\n",
       "      <td>1.990000e+02</td>\n",
       "      <td>...</td>\n",
       "      <td>199.000000</td>\n",
       "      <td>199.000000</td>\n",
       "      <td>199.000000</td>\n",
       "      <td>199.000000</td>\n",
       "      <td>199.000000</td>\n",
       "      <td>199.000000</td>\n",
       "      <td>199.000000</td>\n",
       "      <td>199.000000</td>\n",
       "      <td>199.000000</td>\n",
       "      <td>199.000000</td>\n",
       "    </tr>\n",
       "    <tr>\n",
       "      <th>mean</th>\n",
       "      <td>99.000000</td>\n",
       "      <td>1.910709e+05</td>\n",
       "      <td>3.551514e+05</td>\n",
       "      <td>5.992760e+05</td>\n",
       "      <td>7.823743e+05</td>\n",
       "      <td>1.322328e+06</td>\n",
       "      <td>2.028323e+06</td>\n",
       "      <td>2.721589e+06</td>\n",
       "      <td>3.545092e+06</td>\n",
       "      <td>4.675011e+06</td>\n",
       "      <td>...</td>\n",
       "      <td>73.603015</td>\n",
       "      <td>79.346734</td>\n",
       "      <td>248.984925</td>\n",
       "      <td>328.331658</td>\n",
       "      <td>171.673367</td>\n",
       "      <td>103.386935</td>\n",
       "      <td>58.190955</td>\n",
       "      <td>39.633166</td>\n",
       "      <td>137.668342</td>\n",
       "      <td>62.874372</td>\n",
       "    </tr>\n",
       "    <tr>\n",
       "      <th>std</th>\n",
       "      <td>57.590508</td>\n",
       "      <td>1.024348e+06</td>\n",
       "      <td>1.415166e+06</td>\n",
       "      <td>2.070174e+06</td>\n",
       "      <td>2.223148e+06</td>\n",
       "      <td>3.425288e+06</td>\n",
       "      <td>4.255207e+06</td>\n",
       "      <td>4.921816e+06</td>\n",
       "      <td>5.458081e+06</td>\n",
       "      <td>6.352781e+06</td>\n",
       "      <td>...</td>\n",
       "      <td>14.940900</td>\n",
       "      <td>72.709644</td>\n",
       "      <td>164.023325</td>\n",
       "      <td>226.106193</td>\n",
       "      <td>163.872237</td>\n",
       "      <td>70.889201</td>\n",
       "      <td>37.306859</td>\n",
       "      <td>43.348845</td>\n",
       "      <td>64.277732</td>\n",
       "      <td>227.681794</td>\n",
       "    </tr>\n",
       "    <tr>\n",
       "      <th>min</th>\n",
       "      <td>0.000000</td>\n",
       "      <td>0.000000e+00</td>\n",
       "      <td>0.000000e+00</td>\n",
       "      <td>0.000000e+00</td>\n",
       "      <td>0.000000e+00</td>\n",
       "      <td>0.000000e+00</td>\n",
       "      <td>0.000000e+00</td>\n",
       "      <td>0.000000e+00</td>\n",
       "      <td>0.000000e+00</td>\n",
       "      <td>0.000000e+00</td>\n",
       "      <td>...</td>\n",
       "      <td>0.000000</td>\n",
       "      <td>0.000000</td>\n",
       "      <td>1.000000</td>\n",
       "      <td>1.000000</td>\n",
       "      <td>0.000000</td>\n",
       "      <td>0.000000</td>\n",
       "      <td>0.000000</td>\n",
       "      <td>0.000000</td>\n",
       "      <td>1.000000</td>\n",
       "      <td>-628.000000</td>\n",
       "    </tr>\n",
       "    <tr>\n",
       "      <th>25%</th>\n",
       "      <td>49.500000</td>\n",
       "      <td>0.000000e+00</td>\n",
       "      <td>0.000000e+00</td>\n",
       "      <td>0.000000e+00</td>\n",
       "      <td>0.000000e+00</td>\n",
       "      <td>0.000000e+00</td>\n",
       "      <td>0.000000e+00</td>\n",
       "      <td>0.000000e+00</td>\n",
       "      <td>0.000000e+00</td>\n",
       "      <td>0.000000e+00</td>\n",
       "      <td>...</td>\n",
       "      <td>71.000000</td>\n",
       "      <td>27.000000</td>\n",
       "      <td>129.000000</td>\n",
       "      <td>164.500000</td>\n",
       "      <td>74.000000</td>\n",
       "      <td>55.000000</td>\n",
       "      <td>34.500000</td>\n",
       "      <td>11.000000</td>\n",
       "      <td>97.500000</td>\n",
       "      <td>-83.500000</td>\n",
       "    </tr>\n",
       "    <tr>\n",
       "      <th>50%</th>\n",
       "      <td>99.000000</td>\n",
       "      <td>0.000000e+00</td>\n",
       "      <td>0.000000e+00</td>\n",
       "      <td>0.000000e+00</td>\n",
       "      <td>0.000000e+00</td>\n",
       "      <td>0.000000e+00</td>\n",
       "      <td>0.000000e+00</td>\n",
       "      <td>0.000000e+00</td>\n",
       "      <td>1.466567e+06</td>\n",
       "      <td>2.273587e+06</td>\n",
       "      <td>...</td>\n",
       "      <td>76.000000</td>\n",
       "      <td>51.000000</td>\n",
       "      <td>209.000000</td>\n",
       "      <td>286.000000</td>\n",
       "      <td>110.000000</td>\n",
       "      <td>85.000000</td>\n",
       "      <td>48.000000</td>\n",
       "      <td>23.000000</td>\n",
       "      <td>137.000000</td>\n",
       "      <td>44.000000</td>\n",
       "    </tr>\n",
       "    <tr>\n",
       "      <th>75%</th>\n",
       "      <td>148.500000</td>\n",
       "      <td>0.000000e+00</td>\n",
       "      <td>0.000000e+00</td>\n",
       "      <td>0.000000e+00</td>\n",
       "      <td>0.000000e+00</td>\n",
       "      <td>0.000000e+00</td>\n",
       "      <td>2.198780e+06</td>\n",
       "      <td>3.429736e+06</td>\n",
       "      <td>4.730861e+06</td>\n",
       "      <td>6.051271e+06</td>\n",
       "      <td>...</td>\n",
       "      <td>82.000000</td>\n",
       "      <td>112.500000</td>\n",
       "      <td>364.000000</td>\n",
       "      <td>469.500000</td>\n",
       "      <td>211.000000</td>\n",
       "      <td>138.000000</td>\n",
       "      <td>77.500000</td>\n",
       "      <td>51.000000</td>\n",
       "      <td>181.500000</td>\n",
       "      <td>174.000000</td>\n",
       "    </tr>\n",
       "    <tr>\n",
       "      <th>max</th>\n",
       "      <td>198.000000</td>\n",
       "      <td>6.482581e+06</td>\n",
       "      <td>7.499311e+06</td>\n",
       "      <td>1.371105e+07</td>\n",
       "      <td>1.336247e+07</td>\n",
       "      <td>1.854681e+07</td>\n",
       "      <td>1.951426e+07</td>\n",
       "      <td>2.167785e+07</td>\n",
       "      <td>2.331342e+07</td>\n",
       "      <td>2.430980e+07</td>\n",
       "      <td>...</td>\n",
       "      <td>100.000000</td>\n",
       "      <td>397.000000</td>\n",
       "      <td>829.000000</td>\n",
       "      <td>1226.000000</td>\n",
       "      <td>839.000000</td>\n",
       "      <td>374.000000</td>\n",
       "      <td>169.000000</td>\n",
       "      <td>269.000000</td>\n",
       "      <td>291.000000</td>\n",
       "      <td>839.000000</td>\n",
       "    </tr>\n",
       "  </tbody>\n",
       "</table>\n",
       "<p>8 rows × 52 columns</p>\n",
       "</div>"
      ],
      "text/plain": [
       "       Unnamed: 0  0304_salary_adjusted  0405_salary_adjusted  \\\n",
       "count  199.000000          1.990000e+02          1.990000e+02   \n",
       "mean    99.000000          1.910709e+05          3.551514e+05   \n",
       "std     57.590508          1.024348e+06          1.415166e+06   \n",
       "min      0.000000          0.000000e+00          0.000000e+00   \n",
       "25%     49.500000          0.000000e+00          0.000000e+00   \n",
       "50%     99.000000          0.000000e+00          0.000000e+00   \n",
       "75%    148.500000          0.000000e+00          0.000000e+00   \n",
       "max    198.000000          6.482581e+06          7.499311e+06   \n",
       "\n",
       "       0506_salary_adjusted  0607_salary_adjusted  0708_salary_adjusted  \\\n",
       "count          1.990000e+02          1.990000e+02          1.990000e+02   \n",
       "mean           5.992760e+05          7.823743e+05          1.322328e+06   \n",
       "std            2.070174e+06          2.223148e+06          3.425288e+06   \n",
       "min            0.000000e+00          0.000000e+00          0.000000e+00   \n",
       "25%            0.000000e+00          0.000000e+00          0.000000e+00   \n",
       "50%            0.000000e+00          0.000000e+00          0.000000e+00   \n",
       "75%            0.000000e+00          0.000000e+00          0.000000e+00   \n",
       "max            1.371105e+07          1.336247e+07          1.854681e+07   \n",
       "\n",
       "       0809_salary_adjusted  0910_salary_adjusted  1011_salary_adjusted  \\\n",
       "count          1.990000e+02          1.990000e+02          1.990000e+02   \n",
       "mean           2.028323e+06          2.721589e+06          3.545092e+06   \n",
       "std            4.255207e+06          4.921816e+06          5.458081e+06   \n",
       "min            0.000000e+00          0.000000e+00          0.000000e+00   \n",
       "25%            0.000000e+00          0.000000e+00          0.000000e+00   \n",
       "50%            0.000000e+00          0.000000e+00          1.466567e+06   \n",
       "75%            2.198780e+06          3.429736e+06          4.730861e+06   \n",
       "max            1.951426e+07          2.167785e+07          2.331342e+07   \n",
       "\n",
       "       1112_salary_adjusted  ...         FT%        OREB        DREB  \\\n",
       "count          1.990000e+02  ...  199.000000  199.000000  199.000000   \n",
       "mean           4.675011e+06  ...   73.603015   79.346734  248.984925   \n",
       "std            6.352781e+06  ...   14.940900   72.709644  164.023325   \n",
       "min            0.000000e+00  ...    0.000000    0.000000    1.000000   \n",
       "25%            0.000000e+00  ...   71.000000   27.000000  129.000000   \n",
       "50%            2.273587e+06  ...   76.000000   51.000000  209.000000   \n",
       "75%            6.051271e+06  ...   82.000000  112.500000  364.000000   \n",
       "max            2.430980e+07  ...  100.000000  397.000000  829.000000   \n",
       "\n",
       "               REB         AST         TOV         STL         BLK  \\\n",
       "count   199.000000  199.000000  199.000000  199.000000  199.000000   \n",
       "mean    328.331658  171.673367  103.386935   58.190955   39.633166   \n",
       "std     226.106193  163.872237   70.889201   37.306859   43.348845   \n",
       "min       1.000000    0.000000    0.000000    0.000000    0.000000   \n",
       "25%     164.500000   74.000000   55.000000   34.500000   11.000000   \n",
       "50%     286.000000  110.000000   85.000000   48.000000   23.000000   \n",
       "75%     469.500000  211.000000  138.000000   77.500000   51.000000   \n",
       "max    1226.000000  839.000000  374.000000  169.000000  269.000000   \n",
       "\n",
       "               PF         +/-  \n",
       "count  199.000000  199.000000  \n",
       "mean   137.668342   62.874372  \n",
       "std     64.277732  227.681794  \n",
       "min      1.000000 -628.000000  \n",
       "25%     97.500000  -83.500000  \n",
       "50%    137.000000   44.000000  \n",
       "75%    181.500000  174.000000  \n",
       "max    291.000000  839.000000  \n",
       "\n",
       "[8 rows x 52 columns]"
      ]
     },
     "execution_count": 64,
     "metadata": {},
     "output_type": "execute_result"
    }
   ],
   "source": [
    "# Generate summary statistics\n",
    "df_player_data.describe()"
   ]
  },
  {
   "cell_type": "code",
   "execution_count": 65,
   "metadata": {},
   "outputs": [
    {
     "data": {},
     "metadata": {},
     "output_type": "display_data"
    },
    {
     "data": {
      "application/vnd.holoviews_exec.v0+json": "",
      "text/html": [
       "<div id='6401'>\n",
       "  <div class=\"bk-root\" id=\"27222c67-afe1-49a4-934d-19ecf0cbb733\" data-root-id=\"6401\"></div>\n",
       "</div>\n",
       "<script type=\"application/javascript\">(function(root) {\n",
       "  function embed_document(root) {\n",
       "    var docs_json = {\"c8b12e61-6520-48fe-975e-8f59adf0f69f\":{\"defs\":[{\"extends\":null,\"module\":null,\"name\":\"ReactiveHTML1\",\"overrides\":[],\"properties\":[]},{\"extends\":null,\"module\":null,\"name\":\"FlexBox1\",\"overrides\":[],\"properties\":[{\"default\":\"flex-start\",\"kind\":null,\"name\":\"align_content\"},{\"default\":\"flex-start\",\"kind\":null,\"name\":\"align_items\"},{\"default\":\"row\",\"kind\":null,\"name\":\"flex_direction\"},{\"default\":\"wrap\",\"kind\":null,\"name\":\"flex_wrap\"},{\"default\":\"flex-start\",\"kind\":null,\"name\":\"justify_content\"}]},{\"extends\":null,\"module\":null,\"name\":\"GridStack1\",\"overrides\":[],\"properties\":[{\"default\":\"warn\",\"kind\":null,\"name\":\"mode\"},{\"default\":null,\"kind\":null,\"name\":\"ncols\"},{\"default\":null,\"kind\":null,\"name\":\"nrows\"},{\"default\":true,\"kind\":null,\"name\":\"allow_resize\"},{\"default\":true,\"kind\":null,\"name\":\"allow_drag\"},{\"default\":[],\"kind\":null,\"name\":\"state\"}]},{\"extends\":null,\"module\":null,\"name\":\"click1\",\"overrides\":[],\"properties\":[{\"default\":\"\",\"kind\":null,\"name\":\"terminal_output\"},{\"default\":\"\",\"kind\":null,\"name\":\"debug_name\"},{\"default\":0,\"kind\":null,\"name\":\"clears\"}]},{\"extends\":null,\"module\":null,\"name\":\"NotificationAreaBase1\",\"overrides\":[],\"properties\":[{\"default\":\"bottom-right\",\"kind\":null,\"name\":\"position\"},{\"default\":0,\"kind\":null,\"name\":\"_clear\"}]},{\"extends\":null,\"module\":null,\"name\":\"NotificationArea1\",\"overrides\":[],\"properties\":[{\"default\":[],\"kind\":null,\"name\":\"notifications\"},{\"default\":\"bottom-right\",\"kind\":null,\"name\":\"position\"},{\"default\":0,\"kind\":null,\"name\":\"_clear\"},{\"default\":[{\"background\":\"#ffc107\",\"icon\":{\"className\":\"fas fa-exclamation-triangle\",\"color\":\"white\",\"tagName\":\"i\"},\"type\":\"warning\"},{\"background\":\"#007bff\",\"icon\":{\"className\":\"fas fa-info-circle\",\"color\":\"white\",\"tagName\":\"i\"},\"type\":\"info\"}],\"kind\":null,\"name\":\"types\"}]},{\"extends\":null,\"module\":null,\"name\":\"Notification\",\"overrides\":[],\"properties\":[{\"default\":null,\"kind\":null,\"name\":\"background\"},{\"default\":3000,\"kind\":null,\"name\":\"duration\"},{\"default\":null,\"kind\":null,\"name\":\"icon\"},{\"default\":\"\",\"kind\":null,\"name\":\"message\"},{\"default\":null,\"kind\":null,\"name\":\"notification_type\"},{\"default\":false,\"kind\":null,\"name\":\"_destroyed\"}]},{\"extends\":null,\"module\":null,\"name\":\"TemplateActions1\",\"overrides\":[],\"properties\":[{\"default\":0,\"kind\":null,\"name\":\"open_modal\"},{\"default\":0,\"kind\":null,\"name\":\"close_modal\"}]},{\"extends\":null,\"module\":null,\"name\":\"MaterialTemplateActions1\",\"overrides\":[],\"properties\":[{\"default\":0,\"kind\":null,\"name\":\"open_modal\"},{\"default\":0,\"kind\":null,\"name\":\"close_modal\"}]}],\"roots\":{\"references\":[{\"attributes\":{},\"id\":\"9477\",\"type\":\"UnionRenderers\"},{\"attributes\":{\"coordinates\":null,\"data_source\":{\"id\":\"6744\"},\"glyph\":{\"id\":\"6747\"},\"group\":null,\"hover_glyph\":null,\"muted_glyph\":{\"id\":\"6749\"},\"nonselection_glyph\":{\"id\":\"6748\"},\"selection_glyph\":{\"id\":\"6781\"},\"view\":{\"id\":\"6751\"}},\"id\":\"6750\",\"type\":\"GlyphRenderer\"},{\"attributes\":{\"source\":{\"id\":\"9372\"}},\"id\":\"9379\",\"type\":\"CDSView\"},{\"attributes\":{},\"id\":\"7099\",\"type\":\"UnionRenderers\"},{\"attributes\":{\"coordinates\":null,\"data_source\":{\"id\":\"9372\"},\"glyph\":{\"id\":\"9375\"},\"group\":null,\"hover_glyph\":null,\"muted_glyph\":{\"id\":\"9377\"},\"nonselection_glyph\":{\"id\":\"9376\"},\"selection_glyph\":{\"id\":\"9481\"},\"view\":{\"id\":\"9379\"}},\"id\":\"9378\",\"type\":\"GlyphRenderer\"},{\"attributes\":{},\"id\":\"8119\",\"type\":\"UnionRenderers\"},{\"attributes\":{\"line_alpha\":0.1,\"line_color\":\"#e377c2\",\"line_width\":2,\"x\":{\"field\":\"player_name\"},\"y\":{\"field\":\"value\"}},\"id\":\"6748\",\"type\":\"Line\"},{\"attributes\":{\"line_color\":\"#9467bd\",\"line_width\":2,\"x\":{\"field\":\"player_name\"},\"y\":{\"field\":\"value\"}},\"id\":\"8041\",\"type\":\"Line\"},{\"attributes\":{\"label\":{\"value\":\"1112_salary_adjusted\"},\"renderers\":[{\"id\":\"6750\"}]},\"id\":\"6780\",\"type\":\"LegendItem\"},{\"attributes\":{\"label\":{\"value\":\"REB\"},\"renderers\":[{\"id\":\"9378\"}]},\"id\":\"9480\",\"type\":\"LegendItem\"},{\"attributes\":{\"line_alpha\":0.2,\"line_color\":\"#e377c2\",\"line_width\":2,\"x\":{\"field\":\"player_name\"},\"y\":{\"field\":\"value\"}},\"id\":\"9377\",\"type\":\"Line\"},{\"attributes\":{\"line_color\":\"#fc4f30\",\"line_width\":2,\"x\":{\"field\":\"player_name\"},\"y\":{\"field\":\"value\"}},\"id\":\"7595\",\"type\":\"Line\"},{\"attributes\":{\"line_alpha\":0.2,\"line_color\":\"#e377c2\",\"line_width\":2,\"x\":{\"field\":\"player_name\"},\"y\":{\"field\":\"value\"}},\"id\":\"6749\",\"type\":\"Line\"},{\"attributes\":{\"source\":{\"id\":\"6744\"}},\"id\":\"6751\",\"type\":\"CDSView\"},{\"attributes\":{\"source\":{\"id\":\"8042\"}},\"id\":\"8049\",\"type\":\"CDSView\"},{\"attributes\":{\"line_color\":\"#bcbd22\",\"line_width\":2,\"x\":{\"field\":\"player_name\"},\"y\":{\"field\":\"value\"}},\"id\":\"7523\",\"type\":\"Line\"},{\"attributes\":{\"line_color\":\"#e377c2\",\"line_width\":2,\"x\":{\"field\":\"player_name\"},\"y\":{\"field\":\"value\"}},\"id\":\"7393\",\"type\":\"Line\"},{\"attributes\":{\"coordinates\":null,\"data_source\":{\"id\":\"8042\"},\"glyph\":{\"id\":\"8045\"},\"group\":null,\"hover_glyph\":null,\"muted_glyph\":{\"id\":\"8047\"},\"nonselection_glyph\":{\"id\":\"8046\"},\"selection_glyph\":{\"id\":\"8123\"},\"view\":{\"id\":\"8049\"}},\"id\":\"8048\",\"type\":\"GlyphRenderer\"},{\"attributes\":{\"line_alpha\":0.2,\"line_color\":\"#30a2da\",\"line_width\":2,\"x\":{\"field\":\"player_name\"},\"y\":{\"field\":\"value\"}},\"id\":\"7529\",\"type\":\"Line\"},{\"attributes\":{\"line_color\":\"#8b8b8b\",\"line_width\":2,\"x\":{\"field\":\"player_name\"},\"y\":{\"field\":\"value\"}},\"id\":\"7103\",\"type\":\"Line\"},{\"attributes\":{\"line_alpha\":0.1,\"line_color\":\"#30a2da\",\"line_width\":2,\"x\":{\"field\":\"player_name\"},\"y\":{\"field\":\"value\"}},\"id\":\"7528\",\"type\":\"Line\"},{\"attributes\":{\"coordinates\":null,\"data_source\":{\"id\":\"7524\"},\"glyph\":{\"id\":\"7527\"},\"group\":null,\"hover_glyph\":null,\"muted_glyph\":{\"id\":\"7529\"},\"nonselection_glyph\":{\"id\":\"7528\"},\"selection_glyph\":{\"id\":\"7591\"},\"view\":{\"id\":\"7531\"}},\"id\":\"7530\",\"type\":\"GlyphRenderer\"},{\"attributes\":{\"line_alpha\":0.2,\"line_color\":\"#17becf\",\"line_width\":2,\"x\":{\"field\":\"player_name\"},\"y\":{\"field\":\"value\"}},\"id\":\"7109\",\"type\":\"Line\"},{\"attributes\":{\"label\":{\"value\":\"L\"},\"renderers\":[{\"id\":\"8048\"}]},\"id\":\"8122\",\"type\":\"LegendItem\"},{\"attributes\":{},\"id\":\"7587\",\"type\":\"UnionRenderers\"},{\"attributes\":{\"line_alpha\":0.2,\"line_color\":\"#d62728\",\"line_width\":2,\"x\":{\"field\":\"player_name\"},\"y\":{\"field\":\"value\"}},\"id\":\"8047\",\"type\":\"Line\"},{\"attributes\":{\"label\":{\"value\":\"2627_salary_predicted\"},\"renderers\":[{\"id\":\"7530\"}]},\"id\":\"7590\",\"type\":\"LegendItem\"},{\"attributes\":{\"line_color\":\"#d62728\",\"line_width\":2,\"x\":{\"field\":\"player_name\"},\"y\":{\"field\":\"value\"}},\"id\":\"8045\",\"type\":\"Line\"},{\"attributes\":{\"line_color\":\"#e377c2\",\"line_width\":2,\"x\":{\"field\":\"player_name\"},\"y\":{\"field\":\"value\"}},\"id\":\"6781\",\"type\":\"Line\"},{\"attributes\":{\"line_alpha\":0.1,\"line_color\":\"#17becf\",\"line_width\":2,\"x\":{\"field\":\"player_name\"},\"y\":{\"field\":\"value\"}},\"id\":\"7108\",\"type\":\"Line\"},{\"attributes\":{\"line_color\":\"#30a2da\",\"line_width\":2,\"x\":{\"field\":\"player_name\"},\"y\":{\"field\":\"value\"}},\"id\":\"7527\",\"type\":\"Line\"},{\"attributes\":{\"coordinates\":null,\"data_source\":{\"id\":\"7104\"},\"glyph\":{\"id\":\"7107\"},\"group\":null,\"hover_glyph\":null,\"muted_glyph\":{\"id\":\"7109\"},\"nonselection_glyph\":{\"id\":\"7108\"},\"selection_glyph\":{\"id\":\"7157\"},\"view\":{\"id\":\"7111\"}},\"id\":\"7110\",\"type\":\"GlyphRenderer\"},{\"attributes\":{\"line_color\":\"#e377c2\",\"line_width\":2,\"x\":{\"field\":\"player_name\"},\"y\":{\"field\":\"value\"}},\"id\":\"9481\",\"type\":\"Line\"},{\"attributes\":{},\"id\":\"7153\",\"type\":\"UnionRenderers\"},{\"attributes\":{\"line_alpha\":0.2,\"line_color\":\"#8c564b\",\"line_width\":2,\"x\":{\"field\":\"player_name\"},\"y\":{\"field\":\"value\"}},\"id\":\"6787\",\"type\":\"Line\"},{\"attributes\":{\"label\":{\"value\":\"1920_salary_adjusted\"},\"renderers\":[{\"id\":\"7110\"}]},\"id\":\"7156\",\"type\":\"LegendItem\"},{\"attributes\":{\"line_color\":\"#17becf\",\"line_width\":2,\"x\":{\"field\":\"player_name\"},\"y\":{\"field\":\"value\"}},\"id\":\"7107\",\"type\":\"Line\"},{\"attributes\":{},\"id\":\"9589\",\"type\":\"UnionRenderers\"},{\"attributes\":{\"line_alpha\":0.1,\"line_color\":\"#8c564b\",\"line_width\":2,\"x\":{\"field\":\"player_name\"},\"y\":{\"field\":\"value\"}},\"id\":\"6786\",\"type\":\"Line\"},{\"attributes\":{\"line_alpha\":0.2,\"line_color\":\"#9467bd\",\"line_width\":2,\"x\":{\"field\":\"player_name\"},\"y\":{\"field\":\"value\"}},\"id\":\"7163\",\"type\":\"Line\"},{\"attributes\":{\"line_alpha\":0.2,\"line_color\":\"#8c564b\",\"line_width\":2,\"x\":{\"field\":\"player_name\"},\"y\":{\"field\":\"value\"}},\"id\":\"9487\",\"type\":\"Line\"},{\"attributes\":{\"coordinates\":null,\"data_source\":{\"id\":\"6782\"},\"glyph\":{\"id\":\"6785\"},\"group\":null,\"hover_glyph\":null,\"muted_glyph\":{\"id\":\"6787\"},\"nonselection_glyph\":{\"id\":\"6786\"},\"selection_glyph\":{\"id\":\"6821\"},\"view\":{\"id\":\"6789\"}},\"id\":\"6788\",\"type\":\"GlyphRenderer\"},{\"attributes\":{\"source\":{\"id\":\"9482\"}},\"id\":\"9489\",\"type\":\"CDSView\"},{\"attributes\":{},\"id\":\"7657\",\"type\":\"UnionRenderers\"},{\"attributes\":{\"source\":{\"id\":\"7524\"}},\"id\":\"7531\",\"type\":\"CDSView\"},{\"attributes\":{},\"id\":\"6817\",\"type\":\"UnionRenderers\"},{\"attributes\":{},\"id\":\"7525\",\"type\":\"Selection\"},{\"attributes\":{\"coordinates\":null,\"data_source\":{\"id\":\"9482\"},\"glyph\":{\"id\":\"9485\"},\"group\":null,\"hover_glyph\":null,\"muted_glyph\":{\"id\":\"9487\"},\"nonselection_glyph\":{\"id\":\"9486\"},\"selection_glyph\":{\"id\":\"9593\"},\"view\":{\"id\":\"9489\"}},\"id\":\"9488\",\"type\":\"GlyphRenderer\"},{\"attributes\":{\"line_color\":\"#8c564b\",\"line_width\":2,\"x\":{\"field\":\"player_name\"},\"y\":{\"field\":\"value\"}},\"id\":\"8297\",\"type\":\"Line\"},{\"attributes\":{\"label\":{\"value\":\"1213_salary_adjusted\"},\"renderers\":[{\"id\":\"6788\"}]},\"id\":\"6820\",\"type\":\"LegendItem\"},{\"attributes\":{\"line_color\":\"#8c564b\",\"line_width\":2,\"x\":{\"field\":\"player_name\"},\"y\":{\"field\":\"value\"}},\"id\":\"6785\",\"type\":\"Line\"},{\"attributes\":{\"line_alpha\":0.2,\"line_color\":\"#bcbd22\",\"line_width\":2,\"x\":{\"field\":\"player_name\"},\"y\":{\"field\":\"value\"}},\"id\":\"6827\",\"type\":\"Line\"},{\"attributes\":{\"source\":{\"id\":\"7104\"}},\"id\":\"7111\",\"type\":\"CDSView\"},{\"attributes\":{\"line_color\":\"#d62728\",\"line_width\":2,\"x\":{\"field\":\"player_name\"},\"y\":{\"field\":\"value\"}},\"id\":\"8123\",\"type\":\"Line\"},{\"attributes\":{},\"id\":\"7105\",\"type\":\"Selection\"},{\"attributes\":{\"label\":{\"value\":\"AST\"},\"renderers\":[{\"id\":\"9488\"}]},\"id\":\"9592\",\"type\":\"LegendItem\"},{\"attributes\":{\"line_alpha\":0.1,\"line_color\":\"#8c564b\",\"line_width\":2,\"x\":{\"field\":\"player_name\"},\"y\":{\"field\":\"value\"}},\"id\":\"9486\",\"type\":\"Line\"},{\"attributes\":{\"line_alpha\":0.2,\"line_color\":\"#1f77b4\",\"line_width\":2,\"x\":{\"field\":\"player_name\"},\"y\":{\"field\":\"value\"}},\"id\":\"8129\",\"type\":\"Line\"},{\"attributes\":{\"source\":{\"id\":\"6782\"}},\"id\":\"6789\",\"type\":\"CDSView\"},{\"attributes\":{\"line_alpha\":0.1,\"line_color\":\"#1f77b4\",\"line_width\":2,\"x\":{\"field\":\"player_name\"},\"y\":{\"field\":\"value\"}},\"id\":\"8128\",\"type\":\"Line\"},{\"attributes\":{\"coordinates\":null,\"data_source\":{\"id\":\"8124\"},\"glyph\":{\"id\":\"8127\"},\"group\":null,\"hover_glyph\":null,\"muted_glyph\":{\"id\":\"8129\"},\"nonselection_glyph\":{\"id\":\"8128\"},\"selection_glyph\":{\"id\":\"8207\"},\"view\":{\"id\":\"8131\"}},\"id\":\"8130\",\"type\":\"GlyphRenderer\"},{\"attributes\":{},\"id\":\"6783\",\"type\":\"Selection\"},{\"attributes\":{},\"id\":\"8203\",\"type\":\"UnionRenderers\"},{\"attributes\":{\"label\":{\"value\":\"MIN\"},\"renderers\":[{\"id\":\"8130\"}]},\"id\":\"8206\",\"type\":\"LegendItem\"},{\"attributes\":{\"line_color\":\"#30a2da\",\"line_width\":2,\"x\":{\"field\":\"player_name\"},\"y\":{\"field\":\"value\"}},\"id\":\"7591\",\"type\":\"Line\"},{\"attributes\":{\"line_color\":\"#1f77b4\",\"line_width\":2,\"x\":{\"field\":\"player_name\"},\"y\":{\"field\":\"value\"}},\"id\":\"8127\",\"type\":\"Line\"},{\"attributes\":{\"line_alpha\":0.2,\"line_color\":\"#e377c2\",\"line_width\":2,\"x\":{\"field\":\"player_name\"},\"y\":{\"field\":\"value\"}},\"id\":\"8213\",\"type\":\"Line\"},{\"attributes\":{\"data\":{\"Variable\":[\"FTA\",\"FTA\",\"FTA\",\"FTA\",\"FTA\",\"FTA\",\"FTA\",\"FTA\",\"FTA\",\"FTA\",\"FTA\",\"FTA\",\"FTA\",\"FTA\",\"FTA\",\"FTA\",\"FTA\",\"FTA\",\"FTA\",\"FTA\",\"FTA\",\"FTA\",\"FTA\",\"FTA\",\"FTA\",\"FTA\",\"FTA\",\"FTA\",\"FTA\",\"FTA\",\"FTA\",\"FTA\",\"FTA\",\"FTA\",\"FTA\",\"FTA\",\"FTA\",\"FTA\",\"FTA\",\"FTA\",\"FTA\",\"FTA\",\"FTA\",\"FTA\",\"FTA\",\"FTA\",\"FTA\",\"FTA\",\"FTA\",\"FTA\",\"FTA\",\"FTA\",\"FTA\",\"FTA\",\"FTA\",\"FTA\",\"FTA\",\"FTA\",\"FTA\",\"FTA\",\"FTA\",\"FTA\",\"FTA\",\"FTA\",\"FTA\",\"FTA\",\"FTA\",\"FTA\",\"FTA\",\"FTA\",\"FTA\",\"FTA\",\"FTA\",\"FTA\",\"FTA\",\"FTA\",\"FTA\",\"FTA\",\"FTA\",\"FTA\",\"FTA\",\"FTA\",\"FTA\",\"FTA\",\"FTA\",\"FTA\",\"FTA\",\"FTA\",\"FTA\",\"FTA\",\"FTA\",\"FTA\",\"FTA\",\"FTA\",\"FTA\",\"FTA\",\"FTA\",\"FTA\",\"FTA\",\"FTA\",\"FTA\",\"FTA\",\"FTA\",\"FTA\",\"FTA\",\"FTA\",\"FTA\",\"FTA\",\"FTA\",\"FTA\",\"FTA\",\"FTA\",\"FTA\",\"FTA\",\"FTA\",\"FTA\",\"FTA\",\"FTA\",\"FTA\",\"FTA\",\"FTA\",\"FTA\",\"FTA\",\"FTA\",\"FTA\",\"FTA\",\"FTA\",\"FTA\",\"FTA\",\"FTA\",\"FTA\",\"FTA\",\"FTA\",\"FTA\",\"FTA\",\"FTA\",\"FTA\",\"FTA\",\"FTA\",\"FTA\",\"FTA\",\"FTA\",\"FTA\",\"FTA\",\"FTA\",\"FTA\",\"FTA\",\"FTA\",\"FTA\",\"FTA\",\"FTA\",\"FTA\",\"FTA\",\"FTA\",\"FTA\",\"FTA\",\"FTA\",\"FTA\",\"FTA\",\"FTA\",\"FTA\",\"FTA\",\"FTA\",\"FTA\",\"FTA\",\"FTA\",\"FTA\",\"FTA\",\"FTA\",\"FTA\",\"FTA\",\"FTA\",\"FTA\",\"FTA\",\"FTA\",\"FTA\",\"FTA\",\"FTA\",\"FTA\",\"FTA\",\"FTA\",\"FTA\",\"FTA\",\"FTA\",\"FTA\",\"FTA\",\"FTA\",\"FTA\",\"FTA\",\"FTA\",\"FTA\",\"FTA\",\"FTA\",\"FTA\",\"FTA\",\"FTA\",\"FTA\",\"FTA\",\"FTA\"],\"player_name\":[\"LeBron James\",\"LeBron James\",\"Tyson Chandler\",\"Tyson Chandler\",\"Carmelo Anthony\",\"Carmelo Anthony\",\"Kyle Korver\",\"Kyle Korver\",\"Zaza Pachulia\",\"Udonis Haslem\",\"Dwight Howard\",\"Dwight Howard\",\"Dwight Howard\",\"Devin Harris\",\"Andre Iguodala\",\"Trevor Ariza\",\"Chris Paul\",\"Raymond Felton\",\"Jose Calderon\",\"LaMarcus Aldridge\",\"Rudy Gay\",\"Rudy Gay\",\"Thabo Sefolosha\",\"Thabo Sefolosha\",\"Rajon Rondo\",\"Rajon Rondo\",\"Kyle Lowry\",\"Kyle Lowry\",\"Paul Millsap\",\"Paul Millsap\",\"Paul Millsap\",\"Kevin Durant\",\"Kevin Durant\",\"Kevin Durant\",\"Kevin Durant\",\"Al Horford\",\"Al Horford\",\"Mike Conley\",\"Thaddeus Young\",\"Thaddeus Young\",\"Jared Dudley\",\"Jared Dudley\",\"Wilson Chandler\",\"Wilson Chandler\",\"Ian Mahinmi\",\"Derrick Rose\",\"Russell Westbrook\",\"Russell Westbrook\",\"Kevin Love\",\"Kevin Love\",\"Marc Gasol\",\"Marc Gasol\",\"Danilo Gallinari\",\"Danilo Gallinari\",\"Danilo Gallinari\",\"Eric Gordon\",\"Eric Gordon\",\"Brook Lopez\",\"Brook Lopez\",\"Goran Dragic\",\"Goran Dragic\",\"Robin Lopez\",\"Robin Lopez\",\"Robin Lopez\",\"JaVale McGee\",\"Nicolas Batum\",\"Nicolas Batum\",\"George Hill\",\"George Hill\",\"DeAndre Jordan\",\"DeAndre Jordan\",\"Blake Griffin\",\"James Harden\",\"James Harden\",\"Stephen Curry\",\"DeMar DeRozan\",\"James Johnson\",\"James Johnson\",\"Jrue Holiday\",\"Jeff Teague\",\"Jeff Teague\",\"Serge Ibaka\",\"Serge Ibaka\",\"Wayne Ellington\",\"Wayne Ellington\",\"Wayne Ellington\",\"Wesley Matthews\",\"Wesley Matthews\",\"Danny Green\",\"Danny Green\",\"Garrett Temple\",\"Garrett Temple\",\"John Wall\",\"Derrick Favors\",\"Derrick Favors\",\"DeMarcus Cousins\",\"Al-Farouq Aminu\",\"Gordon Hayward\",\"Gordon Hayward\",\"Paul George\",\"Ed Davis\",\"Patrick Patterson\",\"Patrick Patterson\",\"Eric Bledsoe\",\"Avery Bradley\",\"Avery Bradley\",\"Avery Bradley\",\"Quincy Pondexter\",\"Hassan Whiteside\",\"Patrick Beverley\",\"Kyrie Irving\",\"Enes Kanter\",\"Tristan Thompson\",\"Ricky Rubio\",\"Bismack Biyombo\",\"Bismack Biyombo\",\"Kemba Walker\",\"Klay Thompson\",\"Alec Burks\",\"Markieff Morris\",\"Kawhi Leonard\",\"Nikola Vucevic\",\"Tobias Harris\",\"Kenneth Faried\",\"Reggie Jackson\",\"Cory Joseph\",\"Jimmy Butler\",\"E'Twaun Moore\",\"E'Twaun Moore\",\"E'Twaun Moore\",\"Anthony Davis\",\"Jonas Valanciunas\",\"Harrison Barnes\",\"Terrence Ross\",\"Austin Rivers\",\"Austin Rivers\",\"Austin Rivers\",\"Meyers Leonard\",\"Jeremy Lamb\",\"Draymond Green\",\"Kyle O'Quinn\",\"Jae Crowder\",\"Will Barton\",\"Kent Bazemore\",\"Kent Bazemore\",\"Khris Middleton\",\"Mike Scott\",\"Aron Baynes\",\"Aron Baynes\",\"Justin Holiday\",\"Justin Holiday\",\"Nerlens Noel\",\"Ben McLemore\",\"Kentavious Caldwell-Pope\",\"Trey Burke\",\"Mason Plumlee\",\"Solomon Hill\",\"Reggie Bullock\",\"Robert Covington\",\"Matthew Dellavedova\",\"Mike Muscala\",\"Seth Curry\",\"Seth Curry\",\"Bojan Bogdanovic\",\"Julius Randle\",\"Elfrid Payton\",\"Rodney Hood\",\"Jerami Grant\",\"Joe Harris\",\"Joe Harris\",\"Spencer Dinwiddie\",\"Spencer Dinwiddie\",\"Joe Ingles\",\"JaKarr Sampson\",\"Glenn Robinson III\",\"Jordan Clarkson\",\"Dwight Powell\",\"Langston Galloway\",\"Langston Galloway\",\"Tyler Johnson\",\"JaMychal Green\",\"JaMychal Green\",\"Jahlil Okafor\",\"Willie Cauley-Stein\",\"Boban Marjanovic\",\"Montrezl Harrell\",\"Raul Neto\",\"Pat Connaughton\",\"Christian Wood\",\"Fred VanVleet\",\"Bryn Forbes\",\"Davis Bertans\",\"Patrick McCaw\",\"Quinn Cook\",\"Quinn Cook\",\"Quinn Cook\",\"Shaquille Harrison\",\"Edmond Sumner\",\"Torrey Craig\"],\"value\":[491,528,295,257,541,367,42,78,103,44,582,474,721,115,270,193,323,124,80,362,138,393,75,69,36,150,365,385,405,356,337,498,404,675,384,188,129,247,174,200,218,98,142,161,147,239,573,413,460,321,440,294,387,191,209,65,125,274,32,234,190,127,123,140,167,192,159,117,196,217,471,426,837,792,291,427,90,67,242,415,226,125,191,63,75,64,163,145,127,100,125,43,394,284,215,595,118,381,429,464,189,71,60,237,112,50,82,26,329,60,365,234,248,71,175,226,283,256,129,232,252,218,245,288,218,143,463,7,35,68,430,213,134,62,126,95,116,46,88,200,57,141,94,151,109,156,132,78,104,45,80,28,93,158,29,300,42,7,0,66,64,0,54,243,425,74,155,240,0,104,33,33,40,94,24,204,142,64,114,64,101,167,29,254,114,222,35,44,21,101,72,49,34,5,26,5,38,0,35]},\"selected\":{\"id\":\"8953\"},\"selection_policy\":{\"id\":\"9049\"}},\"id\":\"8952\",\"type\":\"ColumnDataSource\"},{\"attributes\":{\"coordinates\":null,\"data_source\":{\"id\":\"7592\"},\"glyph\":{\"id\":\"7595\"},\"group\":null,\"hover_glyph\":null,\"muted_glyph\":{\"id\":\"7597\"},\"nonselection_glyph\":{\"id\":\"7596\"},\"selection_glyph\":{\"id\":\"7661\"},\"view\":{\"id\":\"7599\"}},\"id\":\"7598\",\"type\":\"GlyphRenderer\"},{\"attributes\":{\"line_color\":\"#fc4f30\",\"line_width\":2,\"x\":{\"field\":\"player_name\"},\"y\":{\"field\":\"value\"}},\"id\":\"9827\",\"type\":\"Line\"},{\"attributes\":{\"label\":{\"value\":\"CONTRACT_START\"},\"renderers\":[{\"id\":\"7598\"}]},\"id\":\"7660\",\"type\":\"LegendItem\"},{\"attributes\":{\"line_color\":\"#17becf\",\"line_width\":2,\"x\":{\"field\":\"player_name\"},\"y\":{\"field\":\"value\"}},\"id\":\"7157\",\"type\":\"Line\"},{\"attributes\":{\"line_alpha\":0.2,\"line_color\":\"#e377c2\",\"line_width\":2,\"x\":{\"field\":\"player_name\"},\"y\":{\"field\":\"value\"}},\"id\":\"7337\",\"type\":\"Line\"},{\"attributes\":{\"line_alpha\":0.2,\"line_color\":\"#fc4f30\",\"line_width\":2,\"x\":{\"field\":\"player_name\"},\"y\":{\"field\":\"value\"}},\"id\":\"7597\",\"type\":\"Line\"},{\"attributes\":{\"line_color\":\"#8c564b\",\"line_width\":2,\"x\":{\"field\":\"player_name\"},\"y\":{\"field\":\"value\"}},\"id\":\"9593\",\"type\":\"Line\"},{\"attributes\":{\"line_alpha\":0.2,\"line_color\":\"#e5ae38\",\"line_width\":2,\"x\":{\"field\":\"player_name\"},\"y\":{\"field\":\"value\"}},\"id\":\"6959\",\"type\":\"Line\"},{\"attributes\":{\"line_alpha\":0.1,\"line_color\":\"#fc4f30\",\"line_width\":2,\"x\":{\"field\":\"player_name\"},\"y\":{\"field\":\"value\"}},\"id\":\"7596\",\"type\":\"Line\"},{\"attributes\":{\"source\":{\"id\":\"8124\"}},\"id\":\"8131\",\"type\":\"CDSView\"},{\"attributes\":{\"line_color\":\"#9467bd\",\"line_width\":2,\"x\":{\"field\":\"player_name\"},\"y\":{\"field\":\"value\"}},\"id\":\"7161\",\"type\":\"Line\"},{\"attributes\":{},\"id\":\"8125\",\"type\":\"Selection\"},{\"attributes\":{\"line_alpha\":0.2,\"line_color\":\"#bcbd22\",\"line_width\":2,\"x\":{\"field\":\"player_name\"},\"y\":{\"field\":\"value\"}},\"id\":\"9599\",\"type\":\"Line\"},{\"attributes\":{\"line_color\":\"#8c564b\",\"line_width\":2,\"x\":{\"field\":\"player_name\"},\"y\":{\"field\":\"value\"}},\"id\":\"6821\",\"type\":\"Line\"},{\"attributes\":{\"line_alpha\":0.1,\"line_color\":\"#9467bd\",\"line_width\":2,\"x\":{\"field\":\"player_name\"},\"y\":{\"field\":\"value\"}},\"id\":\"7162\",\"type\":\"Line\"},{\"attributes\":{\"coordinates\":null,\"data_source\":{\"id\":\"7158\"},\"glyph\":{\"id\":\"7161\"},\"group\":null,\"hover_glyph\":null,\"muted_glyph\":{\"id\":\"7163\"},\"nonselection_glyph\":{\"id\":\"7162\"},\"selection_glyph\":{\"id\":\"7213\"},\"view\":{\"id\":\"7165\"}},\"id\":\"7164\",\"type\":\"GlyphRenderer\"},{\"attributes\":{\"line_alpha\":0.1,\"line_color\":\"#bcbd22\",\"line_width\":2,\"x\":{\"field\":\"player_name\"},\"y\":{\"field\":\"value\"}},\"id\":\"9598\",\"type\":\"Line\"},{\"attributes\":{\"coordinates\":null,\"data_source\":{\"id\":\"9594\"},\"glyph\":{\"id\":\"9597\"},\"group\":null,\"hover_glyph\":null,\"muted_glyph\":{\"id\":\"9599\"},\"nonselection_glyph\":{\"id\":\"9598\"},\"selection_glyph\":{\"id\":\"9707\"},\"view\":{\"id\":\"9601\"}},\"id\":\"9600\",\"type\":\"GlyphRenderer\"},{\"attributes\":{\"line_alpha\":0.2,\"line_color\":\"#e5ae38\",\"line_width\":2,\"x\":{\"field\":\"player_name\"},\"y\":{\"field\":\"value\"}},\"id\":\"7667\",\"type\":\"Line\"},{\"attributes\":{},\"id\":\"7209\",\"type\":\"UnionRenderers\"},{\"attributes\":{\"line_color\":\"#bcbd22\",\"line_width\":2,\"x\":{\"field\":\"player_name\"},\"y\":{\"field\":\"value\"}},\"id\":\"6825\",\"type\":\"Line\"},{\"attributes\":{\"source\":{\"id\":\"7592\"}},\"id\":\"7599\",\"type\":\"CDSView\"},{\"attributes\":{\"label\":{\"value\":\"2021_salary_adjusted\"},\"renderers\":[{\"id\":\"7164\"}]},\"id\":\"7212\",\"type\":\"LegendItem\"},{\"attributes\":{},\"id\":\"9703\",\"type\":\"UnionRenderers\"},{\"attributes\":{\"label\":{\"value\":\"TOV\"},\"renderers\":[{\"id\":\"9600\"}]},\"id\":\"9706\",\"type\":\"LegendItem\"},{\"attributes\":{\"line_alpha\":0.1,\"line_color\":\"#bcbd22\",\"line_width\":2,\"x\":{\"field\":\"player_name\"},\"y\":{\"field\":\"value\"}},\"id\":\"6826\",\"type\":\"Line\"},{\"attributes\":{\"coordinates\":null,\"data_source\":{\"id\":\"6822\"},\"glyph\":{\"id\":\"6825\"},\"group\":null,\"hover_glyph\":null,\"muted_glyph\":{\"id\":\"6827\"},\"nonselection_glyph\":{\"id\":\"6826\"},\"selection_glyph\":{\"id\":\"6863\"},\"view\":{\"id\":\"6829\"}},\"id\":\"6828\",\"type\":\"GlyphRenderer\"},{\"attributes\":{\"line_alpha\":0.2,\"line_color\":\"#d62728\",\"line_width\":2,\"x\":{\"field\":\"player_name\"},\"y\":{\"field\":\"value\"}},\"id\":\"7219\",\"type\":\"Line\"},{\"attributes\":{\"line_color\":\"#bcbd22\",\"line_width\":2,\"x\":{\"field\":\"player_name\"},\"y\":{\"field\":\"value\"}},\"id\":\"9597\",\"type\":\"Line\"},{\"attributes\":{\"line_alpha\":0.2,\"line_color\":\"#30a2da\",\"line_width\":2,\"x\":{\"field\":\"player_name\"},\"y\":{\"field\":\"value\"}},\"id\":\"9713\",\"type\":\"Line\"},{\"attributes\":{},\"id\":\"6859\",\"type\":\"UnionRenderers\"},{\"attributes\":{\"line_alpha\":0.2,\"line_color\":\"#fc4f30\",\"line_width\":2,\"x\":{\"field\":\"player_name\"},\"y\":{\"field\":\"value\"}},\"id\":\"8569\",\"type\":\"Line\"},{\"attributes\":{\"label\":{\"value\":\"1314_salary_adjusted\"},\"renderers\":[{\"id\":\"6828\"}]},\"id\":\"6862\",\"type\":\"LegendItem\"},{\"attributes\":{\"line_alpha\":0.2,\"line_color\":\"#30a2da\",\"line_width\":2,\"x\":{\"field\":\"player_name\"},\"y\":{\"field\":\"value\"}},\"id\":\"6869\",\"type\":\"Line\"},{\"attributes\":{\"line_color\":\"#1f77b4\",\"line_width\":2,\"x\":{\"field\":\"player_name\"},\"y\":{\"field\":\"value\"}},\"id\":\"8207\",\"type\":\"Line\"},{\"attributes\":{\"source\":{\"id\":\"7158\"}},\"id\":\"7165\",\"type\":\"CDSView\"},{\"attributes\":{},\"id\":\"7159\",\"type\":\"Selection\"},{\"attributes\":{\"source\":{\"id\":\"9594\"}},\"id\":\"9601\",\"type\":\"CDSView\"},{\"attributes\":{},\"id\":\"9595\",\"type\":\"Selection\"},{\"attributes\":{\"line_alpha\":0.2,\"line_color\":\"#17becf\",\"line_width\":2,\"x\":{\"field\":\"player_name\"},\"y\":{\"field\":\"value\"}},\"id\":\"7889\",\"type\":\"Line\"},{\"attributes\":{\"line_color\":\"#e377c2\",\"line_width\":2,\"x\":{\"field\":\"player_name\"},\"y\":{\"field\":\"value\"}},\"id\":\"8211\",\"type\":\"Line\"},{\"attributes\":{\"source\":{\"id\":\"6822\"}},\"id\":\"6829\",\"type\":\"CDSView\"},{\"attributes\":{\"line_color\":\"#fc4f30\",\"line_width\":2,\"x\":{\"field\":\"player_name\"},\"y\":{\"field\":\"value\"}},\"id\":\"7661\",\"type\":\"Line\"},{\"attributes\":{\"line_alpha\":0.1,\"line_color\":\"#e377c2\",\"line_width\":2,\"x\":{\"field\":\"player_name\"},\"y\":{\"field\":\"value\"}},\"id\":\"8212\",\"type\":\"Line\"},{\"attributes\":{\"coordinates\":null,\"data_source\":{\"id\":\"8208\"},\"glyph\":{\"id\":\"8211\"},\"group\":null,\"hover_glyph\":null,\"muted_glyph\":{\"id\":\"8213\"},\"nonselection_glyph\":{\"id\":\"8212\"},\"selection_glyph\":{\"id\":\"8293\"},\"view\":{\"id\":\"8215\"}},\"id\":\"8214\",\"type\":\"GlyphRenderer\"},{\"attributes\":{},\"id\":\"6823\",\"type\":\"Selection\"},{\"attributes\":{},\"id\":\"8289\",\"type\":\"UnionRenderers\"},{\"attributes\":{},\"id\":\"7215\",\"type\":\"Selection\"},{\"attributes\":{\"line_color\":\"#e5ae38\",\"line_width\":2,\"x\":{\"field\":\"player_name\"},\"y\":{\"field\":\"value\"}},\"id\":\"7665\",\"type\":\"Line\"},{\"attributes\":{\"label\":{\"value\":\"PTS\"},\"renderers\":[{\"id\":\"8214\"}]},\"id\":\"8292\",\"type\":\"LegendItem\"},{\"attributes\":{\"line_color\":\"#9467bd\",\"line_width\":2,\"x\":{\"field\":\"player_name\"},\"y\":{\"field\":\"value\"}},\"id\":\"7213\",\"type\":\"Line\"},{\"attributes\":{\"line_alpha\":0.1,\"line_color\":\"#e5ae38\",\"line_width\":2,\"x\":{\"field\":\"player_name\"},\"y\":{\"field\":\"value\"}},\"id\":\"7666\",\"type\":\"Line\"},{\"attributes\":{\"coordinates\":null,\"data_source\":{\"id\":\"7662\"},\"glyph\":{\"id\":\"7665\"},\"group\":null,\"hover_glyph\":null,\"muted_glyph\":{\"id\":\"7667\"},\"nonselection_glyph\":{\"id\":\"7666\"},\"selection_glyph\":{\"id\":\"7733\"},\"view\":{\"id\":\"7669\"}},\"id\":\"7668\",\"type\":\"GlyphRenderer\"},{\"attributes\":{\"line_alpha\":0.2,\"line_color\":\"#bcbd22\",\"line_width\":2,\"x\":{\"field\":\"player_name\"},\"y\":{\"field\":\"value\"}},\"id\":\"8387\",\"type\":\"Line\"},{\"attributes\":{},\"id\":\"7729\",\"type\":\"UnionRenderers\"},{\"attributes\":{\"line_color\":\"#d62728\",\"line_width\":2,\"x\":{\"field\":\"player_name\"},\"y\":{\"field\":\"value\"}},\"id\":\"7217\",\"type\":\"Line\"},{\"attributes\":{\"label\":{\"value\":\"CONTRACT_END\"},\"renderers\":[{\"id\":\"7668\"}]},\"id\":\"7732\",\"type\":\"LegendItem\"},{\"attributes\":{},\"id\":\"7267\",\"type\":\"UnionRenderers\"},{\"attributes\":{\"data\":{\"Variable\":[\"L\",\"L\",\"L\",\"L\",\"L\",\"L\",\"L\",\"L\",\"L\",\"L\",\"L\",\"L\",\"L\",\"L\",\"L\",\"L\",\"L\",\"L\",\"L\",\"L\",\"L\",\"L\",\"L\",\"L\",\"L\",\"L\",\"L\",\"L\",\"L\",\"L\",\"L\",\"L\",\"L\",\"L\",\"L\",\"L\",\"L\",\"L\",\"L\",\"L\",\"L\",\"L\",\"L\",\"L\",\"L\",\"L\",\"L\",\"L\",\"L\",\"L\",\"L\",\"L\",\"L\",\"L\",\"L\",\"L\",\"L\",\"L\",\"L\",\"L\",\"L\",\"L\",\"L\",\"L\",\"L\",\"L\",\"L\",\"L\",\"L\",\"L\",\"L\",\"L\",\"L\",\"L\",\"L\",\"L\",\"L\",\"L\",\"L\",\"L\",\"L\",\"L\",\"L\",\"L\",\"L\",\"L\",\"L\",\"L\",\"L\",\"L\",\"L\",\"L\",\"L\",\"L\",\"L\",\"L\",\"L\",\"L\",\"L\",\"L\",\"L\",\"L\",\"L\",\"L\",\"L\",\"L\",\"L\",\"L\",\"L\",\"L\",\"L\",\"L\",\"L\",\"L\",\"L\",\"L\",\"L\",\"L\",\"L\",\"L\",\"L\",\"L\",\"L\",\"L\",\"L\",\"L\",\"L\",\"L\",\"L\",\"L\",\"L\",\"L\",\"L\",\"L\",\"L\",\"L\",\"L\",\"L\",\"L\",\"L\",\"L\",\"L\",\"L\",\"L\",\"L\",\"L\",\"L\",\"L\",\"L\",\"L\",\"L\",\"L\",\"L\",\"L\",\"L\",\"L\",\"L\",\"L\",\"L\",\"L\",\"L\",\"L\",\"L\",\"L\",\"L\",\"L\",\"L\",\"L\",\"L\",\"L\",\"L\",\"L\",\"L\",\"L\",\"L\",\"L\",\"L\",\"L\",\"L\",\"L\",\"L\",\"L\",\"L\",\"L\",\"L\",\"L\",\"L\",\"L\",\"L\",\"L\",\"L\",\"L\",\"L\",\"L\",\"L\",\"L\",\"L\",\"L\",\"L\"],\"player_name\":[\"LeBron James\",\"LeBron James\",\"Tyson Chandler\",\"Tyson Chandler\",\"Carmelo Anthony\",\"Carmelo Anthony\",\"Kyle Korver\",\"Kyle Korver\",\"Zaza Pachulia\",\"Udonis Haslem\",\"Dwight Howard\",\"Dwight Howard\",\"Dwight Howard\",\"Devin Harris\",\"Andre Iguodala\",\"Trevor Ariza\",\"Chris Paul\",\"Raymond Felton\",\"Jose Calderon\",\"LaMarcus Aldridge\",\"Rudy Gay\",\"Rudy Gay\",\"Thabo Sefolosha\",\"Thabo Sefolosha\",\"Rajon Rondo\",\"Rajon Rondo\",\"Kyle Lowry\",\"Kyle Lowry\",\"Paul Millsap\",\"Paul Millsap\",\"Paul Millsap\",\"Kevin Durant\",\"Kevin Durant\",\"Kevin Durant\",\"Kevin Durant\",\"Al Horford\",\"Al Horford\",\"Mike Conley\",\"Thaddeus Young\",\"Thaddeus Young\",\"Jared Dudley\",\"Jared Dudley\",\"Wilson Chandler\",\"Wilson Chandler\",\"Ian Mahinmi\",\"Derrick Rose\",\"Russell Westbrook\",\"Russell Westbrook\",\"Kevin Love\",\"Kevin Love\",\"Marc Gasol\",\"Marc Gasol\",\"Danilo Gallinari\",\"Danilo Gallinari\",\"Danilo Gallinari\",\"Eric Gordon\",\"Eric Gordon\",\"Brook Lopez\",\"Brook Lopez\",\"Goran Dragic\",\"Goran Dragic\",\"Robin Lopez\",\"Robin Lopez\",\"Robin Lopez\",\"JaVale McGee\",\"Nicolas Batum\",\"Nicolas Batum\",\"George Hill\",\"George Hill\",\"DeAndre Jordan\",\"DeAndre Jordan\",\"Blake Griffin\",\"James Harden\",\"James Harden\",\"Stephen Curry\",\"DeMar DeRozan\",\"James Johnson\",\"James Johnson\",\"Jrue Holiday\",\"Jeff Teague\",\"Jeff Teague\",\"Serge Ibaka\",\"Serge Ibaka\",\"Wayne Ellington\",\"Wayne Ellington\",\"Wayne Ellington\",\"Wesley Matthews\",\"Wesley Matthews\",\"Danny Green\",\"Danny Green\",\"Garrett Temple\",\"Garrett Temple\",\"John Wall\",\"Derrick Favors\",\"Derrick Favors\",\"DeMarcus Cousins\",\"Al-Farouq Aminu\",\"Gordon Hayward\",\"Gordon Hayward\",\"Paul George\",\"Ed Davis\",\"Patrick Patterson\",\"Patrick Patterson\",\"Eric Bledsoe\",\"Avery Bradley\",\"Avery Bradley\",\"Avery Bradley\",\"Quincy Pondexter\",\"Hassan Whiteside\",\"Patrick Beverley\",\"Kyrie Irving\",\"Enes Kanter\",\"Tristan Thompson\",\"Ricky Rubio\",\"Bismack Biyombo\",\"Bismack Biyombo\",\"Kemba Walker\",\"Klay Thompson\",\"Alec Burks\",\"Markieff Morris\",\"Kawhi Leonard\",\"Nikola Vucevic\",\"Tobias Harris\",\"Kenneth Faried\",\"Reggie Jackson\",\"Cory Joseph\",\"Jimmy Butler\",\"E'Twaun Moore\",\"E'Twaun Moore\",\"E'Twaun Moore\",\"Anthony Davis\",\"Jonas Valanciunas\",\"Harrison Barnes\",\"Terrence Ross\",\"Austin Rivers\",\"Austin Rivers\",\"Austin Rivers\",\"Meyers Leonard\",\"Jeremy Lamb\",\"Draymond Green\",\"Kyle O'Quinn\",\"Jae Crowder\",\"Will Barton\",\"Kent Bazemore\",\"Kent Bazemore\",\"Khris Middleton\",\"Mike Scott\",\"Aron Baynes\",\"Aron Baynes\",\"Justin Holiday\",\"Justin Holiday\",\"Nerlens Noel\",\"Ben McLemore\",\"Kentavious Caldwell-Pope\",\"Trey Burke\",\"Mason Plumlee\",\"Solomon Hill\",\"Reggie Bullock\",\"Robert Covington\",\"Matthew Dellavedova\",\"Mike Muscala\",\"Seth Curry\",\"Seth Curry\",\"Bojan Bogdanovic\",\"Julius Randle\",\"Elfrid Payton\",\"Rodney Hood\",\"Jerami Grant\",\"Joe Harris\",\"Joe Harris\",\"Spencer Dinwiddie\",\"Spencer Dinwiddie\",\"Joe Ingles\",\"JaKarr Sampson\",\"Glenn Robinson III\",\"Jordan Clarkson\",\"Dwight Powell\",\"Langston Galloway\",\"Langston Galloway\",\"Tyler Johnson\",\"JaMychal Green\",\"JaMychal Green\",\"Jahlil Okafor\",\"Willie Cauley-Stein\",\"Boban Marjanovic\",\"Montrezl Harrell\",\"Raul Neto\",\"Pat Connaughton\",\"Christian Wood\",\"Fred VanVleet\",\"Bryn Forbes\",\"Davis Bertans\",\"Patrick McCaw\",\"Quinn Cook\",\"Quinn Cook\",\"Quinn Cook\",\"Shaquille Harrison\",\"Edmond Sumner\",\"Torrey Craig\"],\"value\":[20,19,20,28,42,26,34,33,23,16,46,37,34,16,23,36,20,32,50,23,19,43,30,17,27,43,24,34,29,37,18,20,19,26,11,36,34,35,41,51,42,41,50,31,25,7,25,19,31,25,26,35,32,36,16,3,31,38,3,37,32,21,54,32,39,29,32,15,16,49,26,25,41,35,33,48,19,37,44,40,37,42,22,58,39,47,42,19,26,16,40,35,38,48,31,43,29,54,27,26,59,28,23,15,41,32,24,8,31,21,23,43,29,15,38,26,41,13,18,43,18,53,48,45,40,26,25,14,30,57,37,20,7,20,30,31,25,28,26,15,36,35,28,31,32,39,44,27,21,10,51,24,34,45,22,43,28,18,3,22,34,0,27,58,47,24,43,33,0,51,7,7,43,57,33,62,34,45,50,17,34,37,21,42,7,37,13,33,17,21,34,34,16,5,25,5,20,1,17]},\"selected\":{\"id\":\"8043\"},\"selection_policy\":{\"id\":\"8119\"}},\"id\":\"8042\",\"type\":\"ColumnDataSource\"},{\"attributes\":{\"line_color\":\"#bcbd22\",\"line_width\":2,\"x\":{\"field\":\"player_name\"},\"y\":{\"field\":\"value\"}},\"id\":\"9707\",\"type\":\"Line\"},{\"attributes\":{\"line_alpha\":0.1,\"line_color\":\"#d62728\",\"line_width\":2,\"x\":{\"field\":\"player_name\"},\"y\":{\"field\":\"value\"}},\"id\":\"7218\",\"type\":\"Line\"},{\"attributes\":{\"line_alpha\":0.2,\"line_color\":\"#6d904f\",\"line_width\":2,\"x\":{\"field\":\"player_name\"},\"y\":{\"field\":\"value\"}},\"id\":\"7007\",\"type\":\"Line\"},{\"attributes\":{\"line_alpha\":0.2,\"line_color\":\"#8c564b\",\"line_width\":2,\"x\":{\"field\":\"player_name\"},\"y\":{\"field\":\"value\"}},\"id\":\"7399\",\"type\":\"Line\"},{\"attributes\":{\"line_alpha\":0.2,\"line_color\":\"#6d904f\",\"line_width\":2,\"x\":{\"field\":\"player_name\"},\"y\":{\"field\":\"value\"}},\"id\":\"7739\",\"type\":\"Line\"},{\"attributes\":{\"source\":{\"id\":\"8208\"}},\"id\":\"8215\",\"type\":\"CDSView\"},{\"attributes\":{},\"id\":\"8209\",\"type\":\"Selection\"},{\"attributes\":{\"data\":{\"Variable\":[\"AGE\",\"AGE\",\"AGE\",\"AGE\",\"AGE\",\"AGE\",\"AGE\",\"AGE\",\"AGE\",\"AGE\",\"AGE\",\"AGE\",\"AGE\",\"AGE\",\"AGE\",\"AGE\",\"AGE\",\"AGE\",\"AGE\",\"AGE\",\"AGE\",\"AGE\",\"AGE\",\"AGE\",\"AGE\",\"AGE\",\"AGE\",\"AGE\",\"AGE\",\"AGE\",\"AGE\",\"AGE\",\"AGE\",\"AGE\",\"AGE\",\"AGE\",\"AGE\",\"AGE\",\"AGE\",\"AGE\",\"AGE\",\"AGE\",\"AGE\",\"AGE\",\"AGE\",\"AGE\",\"AGE\",\"AGE\",\"AGE\",\"AGE\",\"AGE\",\"AGE\",\"AGE\",\"AGE\",\"AGE\",\"AGE\",\"AGE\",\"AGE\",\"AGE\",\"AGE\",\"AGE\",\"AGE\",\"AGE\",\"AGE\",\"AGE\",\"AGE\",\"AGE\",\"AGE\",\"AGE\",\"AGE\",\"AGE\",\"AGE\",\"AGE\",\"AGE\",\"AGE\",\"AGE\",\"AGE\",\"AGE\",\"AGE\",\"AGE\",\"AGE\",\"AGE\",\"AGE\",\"AGE\",\"AGE\",\"AGE\",\"AGE\",\"AGE\",\"AGE\",\"AGE\",\"AGE\",\"AGE\",\"AGE\",\"AGE\",\"AGE\",\"AGE\",\"AGE\",\"AGE\",\"AGE\",\"AGE\",\"AGE\",\"AGE\",\"AGE\",\"AGE\",\"AGE\",\"AGE\",\"AGE\",\"AGE\",\"AGE\",\"AGE\",\"AGE\",\"AGE\",\"AGE\",\"AGE\",\"AGE\",\"AGE\",\"AGE\",\"AGE\",\"AGE\",\"AGE\",\"AGE\",\"AGE\",\"AGE\",\"AGE\",\"AGE\",\"AGE\",\"AGE\",\"AGE\",\"AGE\",\"AGE\",\"AGE\",\"AGE\",\"AGE\",\"AGE\",\"AGE\",\"AGE\",\"AGE\",\"AGE\",\"AGE\",\"AGE\",\"AGE\",\"AGE\",\"AGE\",\"AGE\",\"AGE\",\"AGE\",\"AGE\",\"AGE\",\"AGE\",\"AGE\",\"AGE\",\"AGE\",\"AGE\",\"AGE\",\"AGE\",\"AGE\",\"AGE\",\"AGE\",\"AGE\",\"AGE\",\"AGE\",\"AGE\",\"AGE\",\"AGE\",\"AGE\",\"AGE\",\"AGE\",\"AGE\",\"AGE\",\"AGE\",\"AGE\",\"AGE\",\"AGE\",\"AGE\",\"AGE\",\"AGE\",\"AGE\",\"AGE\",\"AGE\",\"AGE\",\"AGE\",\"AGE\",\"AGE\",\"AGE\",\"AGE\",\"AGE\",\"AGE\",\"AGE\",\"AGE\",\"AGE\",\"AGE\",\"AGE\",\"AGE\",\"AGE\",\"AGE\",\"AGE\",\"AGE\",\"AGE\",\"AGE\"],\"player_name\":[\"LeBron James\",\"LeBron James\",\"Tyson Chandler\",\"Tyson Chandler\",\"Carmelo Anthony\",\"Carmelo Anthony\",\"Kyle Korver\",\"Kyle Korver\",\"Zaza Pachulia\",\"Udonis Haslem\",\"Dwight Howard\",\"Dwight Howard\",\"Dwight Howard\",\"Devin Harris\",\"Andre Iguodala\",\"Trevor Ariza\",\"Chris Paul\",\"Raymond Felton\",\"Jose Calderon\",\"LaMarcus Aldridge\",\"Rudy Gay\",\"Rudy Gay\",\"Thabo Sefolosha\",\"Thabo Sefolosha\",\"Rajon Rondo\",\"Rajon Rondo\",\"Kyle Lowry\",\"Kyle Lowry\",\"Paul Millsap\",\"Paul Millsap\",\"Paul Millsap\",\"Kevin Durant\",\"Kevin Durant\",\"Kevin Durant\",\"Kevin Durant\",\"Al Horford\",\"Al Horford\",\"Mike Conley\",\"Thaddeus Young\",\"Thaddeus Young\",\"Jared Dudley\",\"Jared Dudley\",\"Wilson Chandler\",\"Wilson Chandler\",\"Ian Mahinmi\",\"Derrick Rose\",\"Russell Westbrook\",\"Russell Westbrook\",\"Kevin Love\",\"Kevin Love\",\"Marc Gasol\",\"Marc Gasol\",\"Danilo Gallinari\",\"Danilo Gallinari\",\"Danilo Gallinari\",\"Eric Gordon\",\"Eric Gordon\",\"Brook Lopez\",\"Brook Lopez\",\"Goran Dragic\",\"Goran Dragic\",\"Robin Lopez\",\"Robin Lopez\",\"Robin Lopez\",\"JaVale McGee\",\"Nicolas Batum\",\"Nicolas Batum\",\"George Hill\",\"George Hill\",\"DeAndre Jordan\",\"DeAndre Jordan\",\"Blake Griffin\",\"James Harden\",\"James Harden\",\"Stephen Curry\",\"DeMar DeRozan\",\"James Johnson\",\"James Johnson\",\"Jrue Holiday\",\"Jeff Teague\",\"Jeff Teague\",\"Serge Ibaka\",\"Serge Ibaka\",\"Wayne Ellington\",\"Wayne Ellington\",\"Wayne Ellington\",\"Wesley Matthews\",\"Wesley Matthews\",\"Danny Green\",\"Danny Green\",\"Garrett Temple\",\"Garrett Temple\",\"John Wall\",\"Derrick Favors\",\"Derrick Favors\",\"DeMarcus Cousins\",\"Al-Farouq Aminu\",\"Gordon Hayward\",\"Gordon Hayward\",\"Paul George\",\"Ed Davis\",\"Patrick Patterson\",\"Patrick Patterson\",\"Eric Bledsoe\",\"Avery Bradley\",\"Avery Bradley\",\"Avery Bradley\",\"Quincy Pondexter\",\"Hassan Whiteside\",\"Patrick Beverley\",\"Kyrie Irving\",\"Enes Kanter\",\"Tristan Thompson\",\"Ricky Rubio\",\"Bismack Biyombo\",\"Bismack Biyombo\",\"Kemba Walker\",\"Klay Thompson\",\"Alec Burks\",\"Markieff Morris\",\"Kawhi Leonard\",\"Nikola Vucevic\",\"Tobias Harris\",\"Kenneth Faried\",\"Reggie Jackson\",\"Cory Joseph\",\"Jimmy Butler\",\"E'Twaun Moore\",\"E'Twaun Moore\",\"E'Twaun Moore\",\"Anthony Davis\",\"Jonas Valanciunas\",\"Harrison Barnes\",\"Terrence Ross\",\"Austin Rivers\",\"Austin Rivers\",\"Austin Rivers\",\"Meyers Leonard\",\"Jeremy Lamb\",\"Draymond Green\",\"Kyle O'Quinn\",\"Jae Crowder\",\"Will Barton\",\"Kent Bazemore\",\"Kent Bazemore\",\"Khris Middleton\",\"Mike Scott\",\"Aron Baynes\",\"Aron Baynes\",\"Justin Holiday\",\"Justin Holiday\",\"Nerlens Noel\",\"Ben McLemore\",\"Kentavious Caldwell-Pope\",\"Trey Burke\",\"Mason Plumlee\",\"Solomon Hill\",\"Reggie Bullock\",\"Robert Covington\",\"Matthew Dellavedova\",\"Mike Muscala\",\"Seth Curry\",\"Seth Curry\",\"Bojan Bogdanovic\",\"Julius Randle\",\"Elfrid Payton\",\"Rodney Hood\",\"Jerami Grant\",\"Joe Harris\",\"Joe Harris\",\"Spencer Dinwiddie\",\"Spencer Dinwiddie\",\"Joe Ingles\",\"JaKarr Sampson\",\"Glenn Robinson III\",\"Jordan Clarkson\",\"Dwight Powell\",\"Langston Galloway\",\"Langston Galloway\",\"Tyler Johnson\",\"JaMychal Green\",\"JaMychal Green\",\"Jahlil Okafor\",\"Willie Cauley-Stein\",\"Boban Marjanovic\",\"Montrezl Harrell\",\"Raul Neto\",\"Pat Connaughton\",\"Christian Wood\",\"Fred VanVleet\",\"Bryn Forbes\",\"Davis Bertans\",\"Patrick McCaw\",\"Quinn Cook\",\"Quinn Cook\",\"Quinn Cook\",\"Shaquille Harrison\",\"Edmond Sumner\",\"Torrey Craig\"],\"value\":[31,30,28,32,30,28,36,32,29,34,32,30,27,31,29,28,28,28,31,29,30,28,33,30,33,30,31,28,32,28,30,27,29,22,28,25,30,23,23,27,25,30,28,24,25,23,27,23,23,26,30,26,28,26,23,23,27,27,24,29,26,27,31,24,24,27,23,26,31,22,26,24,26,23,25,23,27,26,23,29,25,27,23,28,25,27,32,28,28,25,30,28,23,22,26,23,24,24,27,24,26,25,28,24,23,28,27,26,27,26,23,23,24,24,22,23,25,25,23,25,24,24,22,25,25,23,25,23,27,25,23,24,24,25,22,26,23,24,24,25,25,24,24,26,24,23,25,31,28,26,28,24,24,26,24,27,25,26,23,25,25,24,25,28,23,25,26,24,24,26,23,23,27,22,21,24,24,25,24,24,29,27,22,25,27,24,26,25,20,24,24,25,22,24,26,24,24,22,27]},\"selected\":{\"id\":\"7809\"},\"selection_policy\":{\"id\":\"7879\"}},\"id\":\"7808\",\"type\":\"ColumnDataSource\"},{\"attributes\":{\"line_color\":\"#30a2da\",\"line_width\":2,\"x\":{\"field\":\"player_name\"},\"y\":{\"field\":\"value\"}},\"id\":\"9711\",\"type\":\"Line\"},{\"attributes\":{\"line_color\":\"#bcbd22\",\"line_width\":2,\"x\":{\"field\":\"player_name\"},\"y\":{\"field\":\"value\"}},\"id\":\"6863\",\"type\":\"Line\"},{\"attributes\":{\"coordinates\":null,\"data_source\":{\"id\":\"7214\"},\"glyph\":{\"id\":\"7217\"},\"group\":null,\"hover_glyph\":null,\"muted_glyph\":{\"id\":\"7219\"},\"nonselection_glyph\":{\"id\":\"7218\"},\"selection_glyph\":{\"id\":\"7271\"},\"view\":{\"id\":\"7221\"}},\"id\":\"7220\",\"type\":\"GlyphRenderer\"},{\"attributes\":{},\"id\":\"9819\",\"type\":\"UnionRenderers\"},{\"attributes\":{\"coordinates\":null,\"group\":null,\"text_color\":\"black\",\"text_font_size\":\"12pt\"},\"id\":\"6457\",\"type\":\"Title\"},{\"attributes\":{\"line_alpha\":0.1,\"line_color\":\"#30a2da\",\"line_width\":2,\"x\":{\"field\":\"player_name\"},\"y\":{\"field\":\"value\"}},\"id\":\"9712\",\"type\":\"Line\"},{\"attributes\":{\"line_alpha\":0.2,\"line_color\":\"#1f77b4\",\"line_width\":2,\"x\":{\"field\":\"player_name\"},\"y\":{\"field\":\"value\"}},\"id\":\"7277\",\"type\":\"Line\"},{\"attributes\":{},\"id\":\"6466\",\"type\":\"CategoricalTicker\"},{\"attributes\":{\"line_color\":\"#30a2da\",\"line_width\":2,\"x\":{\"field\":\"player_name\"},\"y\":{\"field\":\"value\"}},\"id\":\"6867\",\"type\":\"Line\"},{\"attributes\":{\"source\":{\"id\":\"7662\"}},\"id\":\"7669\",\"type\":\"CDSView\"},{\"attributes\":{\"axis\":{\"id\":\"6465\"},\"coordinates\":null,\"grid_line_color\":null,\"group\":null,\"ticker\":null},\"id\":\"6467\",\"type\":\"Grid\"},{\"attributes\":{},\"id\":\"7663\",\"type\":\"Selection\"},{\"attributes\":{\"axis_label\":\"player_name\",\"coordinates\":null,\"formatter\":{\"id\":\"6486\"},\"group\":null,\"major_label_orientation\":1.5707963267948966,\"major_label_policy\":{\"id\":\"6487\"},\"ticker\":{\"id\":\"6466\"}},\"id\":\"6465\",\"type\":\"CategoricalAxis\"},{\"attributes\":{},\"id\":\"6463\",\"type\":\"LinearScale\"},{\"attributes\":{\"coordinates\":null,\"data_source\":{\"id\":\"9708\"},\"glyph\":{\"id\":\"9711\"},\"group\":null,\"hover_glyph\":null,\"muted_glyph\":{\"id\":\"9713\"},\"nonselection_glyph\":{\"id\":\"9712\"},\"selection_glyph\":{\"id\":\"9823\"},\"view\":{\"id\":\"9715\"}},\"id\":\"9714\",\"type\":\"GlyphRenderer\"},{\"attributes\":{\"line_alpha\":0.1,\"line_color\":\"#30a2da\",\"line_width\":2,\"x\":{\"field\":\"player_name\"},\"y\":{\"field\":\"value\"}},\"id\":\"6868\",\"type\":\"Line\"},{\"attributes\":{\"label\":{\"value\":\"STL\"},\"renderers\":[{\"id\":\"9714\"}]},\"id\":\"9822\",\"type\":\"LegendItem\"},{\"attributes\":{},\"id\":\"6487\",\"type\":\"AllLabels\"},{\"attributes\":{\"coordinates\":null,\"data_source\":{\"id\":\"6864\"},\"glyph\":{\"id\":\"6867\"},\"group\":null,\"hover_glyph\":null,\"muted_glyph\":{\"id\":\"6869\"},\"nonselection_glyph\":{\"id\":\"6868\"},\"selection_glyph\":{\"id\":\"6907\"},\"view\":{\"id\":\"6871\"}},\"id\":\"6870\",\"type\":\"GlyphRenderer\"},{\"attributes\":{},\"id\":\"6473\",\"type\":\"PanTool\"},{\"attributes\":{\"axis_label\":\"\",\"coordinates\":null,\"formatter\":{\"id\":\"6489\"},\"group\":null,\"major_label_policy\":{\"id\":\"6490\"},\"ticker\":{\"id\":\"6469\"}},\"id\":\"6468\",\"type\":\"LinearAxis\"},{\"attributes\":{},\"id\":\"6903\",\"type\":\"UnionRenderers\"},{\"attributes\":{\"axis\":{\"id\":\"6468\"},\"coordinates\":null,\"dimension\":1,\"grid_line_color\":null,\"group\":null,\"ticker\":null},\"id\":\"6471\",\"type\":\"Grid\"},{\"attributes\":{\"source\":{\"id\":\"7214\"}},\"id\":\"7221\",\"type\":\"CDSView\"},{\"attributes\":{\"coordinates\":null,\"data_source\":{\"id\":\"8294\"},\"glyph\":{\"id\":\"8297\"},\"group\":null,\"hover_glyph\":null,\"muted_glyph\":{\"id\":\"8299\"},\"nonselection_glyph\":{\"id\":\"8298\"},\"selection_glyph\":{\"id\":\"8381\"},\"view\":{\"id\":\"8301\"}},\"id\":\"8300\",\"type\":\"GlyphRenderer\"},{\"attributes\":{\"line_alpha\":0.2,\"line_color\":\"#e5ae38\",\"line_width\":2,\"x\":{\"field\":\"player_name\"},\"y\":{\"field\":\"value\"}},\"id\":\"9947\",\"type\":\"Line\"},{\"attributes\":{},\"id\":\"6469\",\"type\":\"BasicTicker\"},{\"attributes\":{},\"id\":\"6474\",\"type\":\"WheelZoomTool\"},{\"attributes\":{\"label\":{\"value\":\"1415_salary_adjusted\"},\"renderers\":[{\"id\":\"6870\"}]},\"id\":\"6906\",\"type\":\"LegendItem\"},{\"attributes\":{\"label\":{\"value\":\"2122_salary_adjusted\"},\"renderers\":[{\"id\":\"7220\"}]},\"id\":\"7270\",\"type\":\"LegendItem\"},{\"attributes\":{\"line_alpha\":0.2,\"line_color\":\"#fc4f30\",\"line_width\":2,\"x\":{\"field\":\"player_name\"},\"y\":{\"field\":\"value\"}},\"id\":\"6913\",\"type\":\"Line\"},{\"attributes\":{\"line_color\":\"#e377c2\",\"line_width\":2,\"x\":{\"field\":\"player_name\"},\"y\":{\"field\":\"value\"}},\"id\":\"8293\",\"type\":\"Line\"},{\"attributes\":{},\"id\":\"6472\",\"type\":\"SaveTool\"},{\"attributes\":{\"overlay\":{\"id\":\"6477\"}},\"id\":\"6475\",\"type\":\"BoxZoomTool\"},{\"attributes\":{\"source\":{\"id\":\"9708\"}},\"id\":\"9715\",\"type\":\"CDSView\"},{\"attributes\":{},\"id\":\"6476\",\"type\":\"ResetTool\"},{\"attributes\":{},\"id\":\"9709\",\"type\":\"Selection\"},{\"attributes\":{\"line_alpha\":0.2,\"line_color\":\"#9467bd\",\"line_width\":2,\"x\":{\"field\":\"player_name\"},\"y\":{\"field\":\"value\"}},\"id\":\"7967\",\"type\":\"Line\"},{\"attributes\":{\"line_alpha\":0.2,\"line_color\":\"#8c564b\",\"line_width\":2,\"x\":{\"field\":\"player_name\"},\"y\":{\"field\":\"value\"}},\"id\":\"8299\",\"type\":\"Line\"},{\"attributes\":{},\"id\":\"8377\",\"type\":\"UnionRenderers\"},{\"attributes\":{\"bottom_units\":\"screen\",\"coordinates\":null,\"fill_alpha\":0.5,\"fill_color\":\"lightgrey\",\"group\":null,\"left_units\":\"screen\",\"level\":\"overlay\",\"line_alpha\":1.0,\"line_color\":\"black\",\"line_dash\":[4,4],\"line_width\":2,\"right_units\":\"screen\",\"syncable\":false,\"top_units\":\"screen\"},\"id\":\"6477\",\"type\":\"BoxAnnotation\"},{\"attributes\":{\"source\":{\"id\":\"6864\"}},\"id\":\"6871\",\"type\":\"CDSView\"},{\"attributes\":{\"line_color\":\"#e5ae38\",\"line_width\":2,\"x\":{\"field\":\"player_name\"},\"y\":{\"field\":\"value\"}},\"id\":\"7733\",\"type\":\"Line\"},{\"attributes\":{\"label\":{\"value\":\"FGM\"},\"renderers\":[{\"id\":\"8300\"}]},\"id\":\"8380\",\"type\":\"LegendItem\"},{\"attributes\":{},\"id\":\"6865\",\"type\":\"Selection\"},{\"attributes\":{\"line_alpha\":0.1,\"line_color\":\"#8c564b\",\"line_width\":2,\"x\":{\"field\":\"player_name\"},\"y\":{\"field\":\"value\"}},\"id\":\"8298\",\"type\":\"Line\"},{\"attributes\":{\"line_color\":\"#6d904f\",\"line_width\":2,\"x\":{\"field\":\"player_name\"},\"y\":{\"field\":\"value\"}},\"id\":\"7737\",\"type\":\"Line\"},{\"attributes\":{\"line_alpha\":0.2,\"line_color\":\"#bcbd22\",\"line_width\":2,\"x\":{\"field\":\"player_name\"},\"y\":{\"field\":\"value\"}},\"id\":\"7463\",\"type\":\"Line\"},{\"attributes\":{},\"id\":\"6486\",\"type\":\"CategoricalTickFormatter\"},{\"attributes\":{\"line_alpha\":0.1,\"line_color\":\"#30a2da\",\"line_width\":2,\"x\":{\"field\":\"player_name\"},\"y\":{\"field\":\"value\"}},\"id\":\"6495\",\"type\":\"Line\"},{\"attributes\":{\"line_color\":\"#d62728\",\"line_width\":2,\"x\":{\"field\":\"player_name\"},\"y\":{\"field\":\"value\"}},\"id\":\"7271\",\"type\":\"Line\"},{\"attributes\":{\"line_alpha\":0.1,\"line_color\":\"#6d904f\",\"line_width\":2,\"x\":{\"field\":\"player_name\"},\"y\":{\"field\":\"value\"}},\"id\":\"7738\",\"type\":\"Line\"},{\"attributes\":{\"coordinates\":null,\"data_source\":{\"id\":\"7734\"},\"glyph\":{\"id\":\"7737\"},\"group\":null,\"hover_glyph\":null,\"muted_glyph\":{\"id\":\"7739\"},\"nonselection_glyph\":{\"id\":\"7738\"},\"selection_glyph\":{\"id\":\"7807\"},\"view\":{\"id\":\"7741\"}},\"id\":\"7740\",\"type\":\"GlyphRenderer\"},{\"attributes\":{\"line_alpha\":0.2,\"line_color\":\"#8b8b8b\",\"line_width\":2,\"x\":{\"field\":\"player_name\"},\"y\":{\"field\":\"value\"}},\"id\":\"7057\",\"type\":\"Line\"},{\"attributes\":{\"source\":{\"id\":\"8294\"}},\"id\":\"8301\",\"type\":\"CDSView\"},{\"attributes\":{},\"id\":\"7803\",\"type\":\"UnionRenderers\"},{\"attributes\":{\"coordinates\":null,\"data_source\":{\"id\":\"9824\"},\"glyph\":{\"id\":\"9827\"},\"group\":null,\"hover_glyph\":null,\"muted_glyph\":{\"id\":\"9829\"},\"nonselection_glyph\":{\"id\":\"9828\"},\"selection_glyph\":{\"id\":\"9941\"},\"view\":{\"id\":\"9831\"}},\"id\":\"9830\",\"type\":\"GlyphRenderer\"},{\"attributes\":{},\"id\":\"6490\",\"type\":\"AllLabels\"},{\"attributes\":{},\"id\":\"8295\",\"type\":\"Selection\"},{\"attributes\":{\"line_color\":\"#1f77b4\",\"line_width\":2,\"x\":{\"field\":\"player_name\"},\"y\":{\"field\":\"value\"}},\"id\":\"7275\",\"type\":\"Line\"},{\"attributes\":{\"label\":{\"value\":\"AVG_SALARY\"},\"renderers\":[{\"id\":\"7740\"}]},\"id\":\"7806\",\"type\":\"LegendItem\"},{\"attributes\":{\"line_color\":\"#30a2da\",\"line_width\":2,\"x\":{\"field\":\"player_name\"},\"y\":{\"field\":\"value\"}},\"id\":\"6907\",\"type\":\"Line\"},{\"attributes\":{\"data\":{\"Variable\":[\"FGA\",\"FGA\",\"FGA\",\"FGA\",\"FGA\",\"FGA\",\"FGA\",\"FGA\",\"FGA\",\"FGA\",\"FGA\",\"FGA\",\"FGA\",\"FGA\",\"FGA\",\"FGA\",\"FGA\",\"FGA\",\"FGA\",\"FGA\",\"FGA\",\"FGA\",\"FGA\",\"FGA\",\"FGA\",\"FGA\",\"FGA\",\"FGA\",\"FGA\",\"FGA\",\"FGA\",\"FGA\",\"FGA\",\"FGA\",\"FGA\",\"FGA\",\"FGA\",\"FGA\",\"FGA\",\"FGA\",\"FGA\",\"FGA\",\"FGA\",\"FGA\",\"FGA\",\"FGA\",\"FGA\",\"FGA\",\"FGA\",\"FGA\",\"FGA\",\"FGA\",\"FGA\",\"FGA\",\"FGA\",\"FGA\",\"FGA\",\"FGA\",\"FGA\",\"FGA\",\"FGA\",\"FGA\",\"FGA\",\"FGA\",\"FGA\",\"FGA\",\"FGA\",\"FGA\",\"FGA\",\"FGA\",\"FGA\",\"FGA\",\"FGA\",\"FGA\",\"FGA\",\"FGA\",\"FGA\",\"FGA\",\"FGA\",\"FGA\",\"FGA\",\"FGA\",\"FGA\",\"FGA\",\"FGA\",\"FGA\",\"FGA\",\"FGA\",\"FGA\",\"FGA\",\"FGA\",\"FGA\",\"FGA\",\"FGA\",\"FGA\",\"FGA\",\"FGA\",\"FGA\",\"FGA\",\"FGA\",\"FGA\",\"FGA\",\"FGA\",\"FGA\",\"FGA\",\"FGA\",\"FGA\",\"FGA\",\"FGA\",\"FGA\",\"FGA\",\"FGA\",\"FGA\",\"FGA\",\"FGA\",\"FGA\",\"FGA\",\"FGA\",\"FGA\",\"FGA\",\"FGA\",\"FGA\",\"FGA\",\"FGA\",\"FGA\",\"FGA\",\"FGA\",\"FGA\",\"FGA\",\"FGA\",\"FGA\",\"FGA\",\"FGA\",\"FGA\",\"FGA\",\"FGA\",\"FGA\",\"FGA\",\"FGA\",\"FGA\",\"FGA\",\"FGA\",\"FGA\",\"FGA\",\"FGA\",\"FGA\",\"FGA\",\"FGA\",\"FGA\",\"FGA\",\"FGA\",\"FGA\",\"FGA\",\"FGA\",\"FGA\",\"FGA\",\"FGA\",\"FGA\",\"FGA\",\"FGA\",\"FGA\",\"FGA\",\"FGA\",\"FGA\",\"FGA\",\"FGA\",\"FGA\",\"FGA\",\"FGA\",\"FGA\",\"FGA\",\"FGA\",\"FGA\",\"FGA\",\"FGA\",\"FGA\",\"FGA\",\"FGA\",\"FGA\",\"FGA\",\"FGA\",\"FGA\",\"FGA\",\"FGA\",\"FGA\",\"FGA\",\"FGA\",\"FGA\",\"FGA\",\"FGA\",\"FGA\",\"FGA\",\"FGA\",\"FGA\",\"FGA\",\"FGA\",\"FGA\",\"FGA\",\"FGA\"],\"player_name\":[\"LeBron James\",\"LeBron James\",\"Tyson Chandler\",\"Tyson Chandler\",\"Carmelo Anthony\",\"Carmelo Anthony\",\"Kyle Korver\",\"Kyle Korver\",\"Zaza Pachulia\",\"Udonis Haslem\",\"Dwight Howard\",\"Dwight Howard\",\"Dwight Howard\",\"Devin Harris\",\"Andre Iguodala\",\"Trevor Ariza\",\"Chris Paul\",\"Raymond Felton\",\"Jose Calderon\",\"LaMarcus Aldridge\",\"Rudy Gay\",\"Rudy Gay\",\"Thabo Sefolosha\",\"Thabo Sefolosha\",\"Rajon Rondo\",\"Rajon Rondo\",\"Kyle Lowry\",\"Kyle Lowry\",\"Paul Millsap\",\"Paul Millsap\",\"Paul Millsap\",\"Kevin Durant\",\"Kevin Durant\",\"Kevin Durant\",\"Kevin Durant\",\"Al Horford\",\"Al Horford\",\"Mike Conley\",\"Thaddeus Young\",\"Thaddeus Young\",\"Jared Dudley\",\"Jared Dudley\",\"Wilson Chandler\",\"Wilson Chandler\",\"Ian Mahinmi\",\"Derrick Rose\",\"Russell Westbrook\",\"Russell Westbrook\",\"Kevin Love\",\"Kevin Love\",\"Marc Gasol\",\"Marc Gasol\",\"Danilo Gallinari\",\"Danilo Gallinari\",\"Danilo Gallinari\",\"Eric Gordon\",\"Eric Gordon\",\"Brook Lopez\",\"Brook Lopez\",\"Goran Dragic\",\"Goran Dragic\",\"Robin Lopez\",\"Robin Lopez\",\"Robin Lopez\",\"JaVale McGee\",\"Nicolas Batum\",\"Nicolas Batum\",\"George Hill\",\"George Hill\",\"DeAndre Jordan\",\"DeAndre Jordan\",\"Blake Griffin\",\"James Harden\",\"James Harden\",\"Stephen Curry\",\"DeMar DeRozan\",\"James Johnson\",\"James Johnson\",\"Jrue Holiday\",\"Jeff Teague\",\"Jeff Teague\",\"Serge Ibaka\",\"Serge Ibaka\",\"Wayne Ellington\",\"Wayne Ellington\",\"Wayne Ellington\",\"Wesley Matthews\",\"Wesley Matthews\",\"Danny Green\",\"Danny Green\",\"Garrett Temple\",\"Garrett Temple\",\"John Wall\",\"Derrick Favors\",\"Derrick Favors\",\"DeMarcus Cousins\",\"Al-Farouq Aminu\",\"Gordon Hayward\",\"Gordon Hayward\",\"Paul George\",\"Ed Davis\",\"Patrick Patterson\",\"Patrick Patterson\",\"Eric Bledsoe\",\"Avery Bradley\",\"Avery Bradley\",\"Avery Bradley\",\"Quincy Pondexter\",\"Hassan Whiteside\",\"Patrick Beverley\",\"Kyrie Irving\",\"Enes Kanter\",\"Tristan Thompson\",\"Ricky Rubio\",\"Bismack Biyombo\",\"Bismack Biyombo\",\"Kemba Walker\",\"Klay Thompson\",\"Alec Burks\",\"Markieff Morris\",\"Kawhi Leonard\",\"Nikola Vucevic\",\"Tobias Harris\",\"Kenneth Faried\",\"Reggie Jackson\",\"Cory Joseph\",\"Jimmy Butler\",\"E'Twaun Moore\",\"E'Twaun Moore\",\"E'Twaun Moore\",\"Anthony Davis\",\"Jonas Valanciunas\",\"Harrison Barnes\",\"Terrence Ross\",\"Austin Rivers\",\"Austin Rivers\",\"Austin Rivers\",\"Meyers Leonard\",\"Jeremy Lamb\",\"Draymond Green\",\"Kyle O'Quinn\",\"Jae Crowder\",\"Will Barton\",\"Kent Bazemore\",\"Kent Bazemore\",\"Khris Middleton\",\"Mike Scott\",\"Aron Baynes\",\"Aron Baynes\",\"Justin Holiday\",\"Justin Holiday\",\"Nerlens Noel\",\"Ben McLemore\",\"Kentavious Caldwell-Pope\",\"Trey Burke\",\"Mason Plumlee\",\"Solomon Hill\",\"Reggie Bullock\",\"Robert Covington\",\"Matthew Dellavedova\",\"Mike Muscala\",\"Seth Curry\",\"Seth Curry\",\"Bojan Bogdanovic\",\"Julius Randle\",\"Elfrid Payton\",\"Rodney Hood\",\"Jerami Grant\",\"Joe Harris\",\"Joe Harris\",\"Spencer Dinwiddie\",\"Spencer Dinwiddie\",\"Joe Ingles\",\"JaKarr Sampson\",\"Glenn Robinson III\",\"Jordan Clarkson\",\"Dwight Powell\",\"Langston Galloway\",\"Langston Galloway\",\"Tyler Johnson\",\"JaMychal Green\",\"JaMychal Green\",\"Jahlil Okafor\",\"Willie Cauley-Stein\",\"Boban Marjanovic\",\"Montrezl Harrell\",\"Raul Neto\",\"Pat Connaughton\",\"Christian Wood\",\"Fred VanVleet\",\"Bryn Forbes\",\"Davis Bertans\",\"Patrick McCaw\",\"Quinn Cook\",\"Quinn Cook\",\"Quinn Cook\",\"Shaquille Harrison\",\"Edmond Sumner\",\"Torrey Craig\"],\"value\":[1416,1279,407,440,1643,1025,515,601,241,146,911,600,813,254,879,853,856,642,635,1415,442,1116,395,340,432,782,918,1080,972,875,930,1381,1222,1538,1026,921,1048,953,847,968,629,487,975,953,238,695,1444,1266,1059,952,1072,691,750,568,466,140,552,987,77,1002,600,437,535,269,552,873,641,380,606,341,534,1072,1617,1337,1388,1231,308,283,1288,909,974,982,778,561,529,617,698,752,738,477,505,141,1337,747,702,1191,357,1032,1156,1362,469,489,384,556,825,608,625,79,682,532,1235,928,488,219,186,288,981,1299,300,1100,822,1206,949,736,996,411,912,113,389,456,1136,536,633,626,496,572,516,435,510,765,242,545,353,725,343,869,628,446,327,235,538,105,419,756,255,623,208,128,14,511,337,3,224,845,904,412,671,456,4,621,54,54,354,346,67,1098,296,545,588,243,476,500,138,741,174,548,151,390,53,545,497,366,225,66,439,66,124,1,137]},\"selected\":{\"id\":\"8383\"},\"selection_policy\":{\"id\":\"8467\"}},\"id\":\"8382\",\"type\":\"ColumnDataSource\"},{\"attributes\":{},\"id\":\"6461\",\"type\":\"CategoricalScale\"},{\"attributes\":{\"line_color\":\"#30a2da\",\"line_width\":2,\"x\":{\"field\":\"player_name\"},\"y\":{\"field\":\"value\"}},\"id\":\"9823\",\"type\":\"Line\"},{\"attributes\":{\"line_alpha\":0.1,\"line_color\":\"#1f77b4\",\"line_width\":2,\"x\":{\"field\":\"player_name\"},\"y\":{\"field\":\"value\"}},\"id\":\"7276\",\"type\":\"Line\"},{\"attributes\":{\"line_alpha\":0.2,\"line_color\":\"#8b8b8b\",\"line_width\":2,\"x\":{\"field\":\"player_name\"},\"y\":{\"field\":\"value\"}},\"id\":\"7813\",\"type\":\"Line\"},{\"attributes\":{\"coordinates\":null,\"data_source\":{\"id\":\"7272\"},\"glyph\":{\"id\":\"7275\"},\"group\":null,\"hover_glyph\":null,\"muted_glyph\":{\"id\":\"7277\"},\"nonselection_glyph\":{\"id\":\"7276\"},\"selection_glyph\":{\"id\":\"7331\"},\"view\":{\"id\":\"7279\"}},\"id\":\"7278\",\"type\":\"GlyphRenderer\"},{\"attributes\":{\"data\":{\"Variable\":[\"0607_salary_adjusted\",\"0607_salary_adjusted\",\"0607_salary_adjusted\",\"0607_salary_adjusted\",\"0607_salary_adjusted\",\"0607_salary_adjusted\",\"0607_salary_adjusted\",\"0607_salary_adjusted\",\"0607_salary_adjusted\",\"0607_salary_adjusted\",\"0607_salary_adjusted\",\"0607_salary_adjusted\",\"0607_salary_adjusted\",\"0607_salary_adjusted\",\"0607_salary_adjusted\",\"0607_salary_adjusted\",\"0607_salary_adjusted\",\"0607_salary_adjusted\",\"0607_salary_adjusted\",\"0607_salary_adjusted\",\"0607_salary_adjusted\",\"0607_salary_adjusted\",\"0607_salary_adjusted\",\"0607_salary_adjusted\",\"0607_salary_adjusted\",\"0607_salary_adjusted\",\"0607_salary_adjusted\",\"0607_salary_adjusted\",\"0607_salary_adjusted\",\"0607_salary_adjusted\",\"0607_salary_adjusted\",\"0607_salary_adjusted\",\"0607_salary_adjusted\",\"0607_salary_adjusted\",\"0607_salary_adjusted\",\"0607_salary_adjusted\",\"0607_salary_adjusted\",\"0607_salary_adjusted\",\"0607_salary_adjusted\",\"0607_salary_adjusted\",\"0607_salary_adjusted\",\"0607_salary_adjusted\",\"0607_salary_adjusted\",\"0607_salary_adjusted\",\"0607_salary_adjusted\",\"0607_salary_adjusted\",\"0607_salary_adjusted\",\"0607_salary_adjusted\",\"0607_salary_adjusted\",\"0607_salary_adjusted\",\"0607_salary_adjusted\",\"0607_salary_adjusted\",\"0607_salary_adjusted\",\"0607_salary_adjusted\",\"0607_salary_adjusted\",\"0607_salary_adjusted\",\"0607_salary_adjusted\",\"0607_salary_adjusted\",\"0607_salary_adjusted\",\"0607_salary_adjusted\",\"0607_salary_adjusted\",\"0607_salary_adjusted\",\"0607_salary_adjusted\",\"0607_salary_adjusted\",\"0607_salary_adjusted\",\"0607_salary_adjusted\",\"0607_salary_adjusted\",\"0607_salary_adjusted\",\"0607_salary_adjusted\",\"0607_salary_adjusted\",\"0607_salary_adjusted\",\"0607_salary_adjusted\",\"0607_salary_adjusted\",\"0607_salary_adjusted\",\"0607_salary_adjusted\",\"0607_salary_adjusted\",\"0607_salary_adjusted\",\"0607_salary_adjusted\",\"0607_salary_adjusted\",\"0607_salary_adjusted\",\"0607_salary_adjusted\",\"0607_salary_adjusted\",\"0607_salary_adjusted\",\"0607_salary_adjusted\",\"0607_salary_adjusted\",\"0607_salary_adjusted\",\"0607_salary_adjusted\",\"0607_salary_adjusted\",\"0607_salary_adjusted\",\"0607_salary_adjusted\",\"0607_salary_adjusted\",\"0607_salary_adjusted\",\"0607_salary_adjusted\",\"0607_salary_adjusted\",\"0607_salary_adjusted\",\"0607_salary_adjusted\",\"0607_salary_adjusted\",\"0607_salary_adjusted\",\"0607_salary_adjusted\",\"0607_salary_adjusted\",\"0607_salary_adjusted\",\"0607_salary_adjusted\",\"0607_salary_adjusted\",\"0607_salary_adjusted\",\"0607_salary_adjusted\",\"0607_salary_adjusted\",\"0607_salary_adjusted\",\"0607_salary_adjusted\",\"0607_salary_adjusted\",\"0607_salary_adjusted\",\"0607_salary_adjusted\",\"0607_salary_adjusted\",\"0607_salary_adjusted\",\"0607_salary_adjusted\",\"0607_salary_adjusted\",\"0607_salary_adjusted\",\"0607_salary_adjusted\",\"0607_salary_adjusted\",\"0607_salary_adjusted\",\"0607_salary_adjusted\",\"0607_salary_adjusted\",\"0607_salary_adjusted\",\"0607_salary_adjusted\",\"0607_salary_adjusted\",\"0607_salary_adjusted\",\"0607_salary_adjusted\",\"0607_salary_adjusted\",\"0607_salary_adjusted\",\"0607_salary_adjusted\",\"0607_salary_adjusted\",\"0607_salary_adjusted\",\"0607_salary_adjusted\",\"0607_salary_adjusted\",\"0607_salary_adjusted\",\"0607_salary_adjusted\",\"0607_salary_adjusted\",\"0607_salary_adjusted\",\"0607_salary_adjusted\",\"0607_salary_adjusted\",\"0607_salary_adjusted\",\"0607_salary_adjusted\",\"0607_salary_adjusted\",\"0607_salary_adjusted\",\"0607_salary_adjusted\",\"0607_salary_adjusted\",\"0607_salary_adjusted\",\"0607_salary_adjusted\",\"0607_salary_adjusted\",\"0607_salary_adjusted\",\"0607_salary_adjusted\",\"0607_salary_adjusted\",\"0607_salary_adjusted\",\"0607_salary_adjusted\",\"0607_salary_adjusted\",\"0607_salary_adjusted\",\"0607_salary_adjusted\",\"0607_salary_adjusted\",\"0607_salary_adjusted\",\"0607_salary_adjusted\",\"0607_salary_adjusted\",\"0607_salary_adjusted\",\"0607_salary_adjusted\",\"0607_salary_adjusted\",\"0607_salary_adjusted\",\"0607_salary_adjusted\",\"0607_salary_adjusted\",\"0607_salary_adjusted\",\"0607_salary_adjusted\",\"0607_salary_adjusted\",\"0607_salary_adjusted\",\"0607_salary_adjusted\",\"0607_salary_adjusted\",\"0607_salary_adjusted\",\"0607_salary_adjusted\",\"0607_salary_adjusted\",\"0607_salary_adjusted\",\"0607_salary_adjusted\",\"0607_salary_adjusted\",\"0607_salary_adjusted\",\"0607_salary_adjusted\",\"0607_salary_adjusted\",\"0607_salary_adjusted\",\"0607_salary_adjusted\",\"0607_salary_adjusted\",\"0607_salary_adjusted\",\"0607_salary_adjusted\",\"0607_salary_adjusted\",\"0607_salary_adjusted\",\"0607_salary_adjusted\",\"0607_salary_adjusted\",\"0607_salary_adjusted\",\"0607_salary_adjusted\",\"0607_salary_adjusted\",\"0607_salary_adjusted\",\"0607_salary_adjusted\",\"0607_salary_adjusted\",\"0607_salary_adjusted\",\"0607_salary_adjusted\",\"0607_salary_adjusted\"],\"player_name\":[\"LeBron James\",\"LeBron James\",\"Tyson Chandler\",\"Tyson Chandler\",\"Carmelo Anthony\",\"Carmelo Anthony\",\"Kyle Korver\",\"Kyle Korver\",\"Zaza Pachulia\",\"Udonis Haslem\",\"Dwight Howard\",\"Dwight Howard\",\"Dwight Howard\",\"Devin Harris\",\"Andre Iguodala\",\"Trevor Ariza\",\"Chris Paul\",\"Raymond Felton\",\"Jose Calderon\",\"LaMarcus Aldridge\",\"Rudy Gay\",\"Rudy Gay\",\"Thabo Sefolosha\",\"Thabo Sefolosha\",\"Rajon Rondo\",\"Rajon Rondo\",\"Kyle Lowry\",\"Kyle Lowry\",\"Paul Millsap\",\"Paul Millsap\",\"Paul Millsap\",\"Kevin Durant\",\"Kevin Durant\",\"Kevin Durant\",\"Kevin Durant\",\"Al Horford\",\"Al Horford\",\"Mike Conley\",\"Thaddeus Young\",\"Thaddeus Young\",\"Jared Dudley\",\"Jared Dudley\",\"Wilson Chandler\",\"Wilson Chandler\",\"Ian Mahinmi\",\"Derrick Rose\",\"Russell Westbrook\",\"Russell Westbrook\",\"Kevin Love\",\"Kevin Love\",\"Marc Gasol\",\"Marc Gasol\",\"Danilo Gallinari\",\"Danilo Gallinari\",\"Danilo Gallinari\",\"Eric Gordon\",\"Eric Gordon\",\"Brook Lopez\",\"Brook Lopez\",\"Goran Dragic\",\"Goran Dragic\",\"Robin Lopez\",\"Robin Lopez\",\"Robin Lopez\",\"JaVale McGee\",\"Nicolas Batum\",\"Nicolas Batum\",\"George Hill\",\"George Hill\",\"DeAndre Jordan\",\"DeAndre Jordan\",\"Blake Griffin\",\"James Harden\",\"James Harden\",\"Stephen Curry\",\"DeMar DeRozan\",\"James Johnson\",\"James Johnson\",\"Jrue Holiday\",\"Jeff Teague\",\"Jeff Teague\",\"Serge Ibaka\",\"Serge Ibaka\",\"Wayne Ellington\",\"Wayne Ellington\",\"Wayne Ellington\",\"Wesley Matthews\",\"Wesley Matthews\",\"Danny Green\",\"Danny Green\",\"Garrett Temple\",\"Garrett Temple\",\"John Wall\",\"Derrick Favors\",\"Derrick Favors\",\"DeMarcus Cousins\",\"Al-Farouq Aminu\",\"Gordon Hayward\",\"Gordon Hayward\",\"Paul George\",\"Ed Davis\",\"Patrick Patterson\",\"Patrick Patterson\",\"Eric Bledsoe\",\"Avery Bradley\",\"Avery Bradley\",\"Avery Bradley\",\"Quincy Pondexter\",\"Hassan Whiteside\",\"Patrick Beverley\",\"Kyrie Irving\",\"Enes Kanter\",\"Tristan Thompson\",\"Ricky Rubio\",\"Bismack Biyombo\",\"Bismack Biyombo\",\"Kemba Walker\",\"Klay Thompson\",\"Alec Burks\",\"Markieff Morris\",\"Kawhi Leonard\",\"Nikola Vucevic\",\"Tobias Harris\",\"Kenneth Faried\",\"Reggie Jackson\",\"Cory Joseph\",\"Jimmy Butler\",\"E'Twaun Moore\",\"E'Twaun Moore\",\"E'Twaun Moore\",\"Anthony Davis\",\"Jonas Valanciunas\",\"Harrison Barnes\",\"Terrence Ross\",\"Austin Rivers\",\"Austin Rivers\",\"Austin Rivers\",\"Meyers Leonard\",\"Jeremy Lamb\",\"Draymond Green\",\"Kyle O'Quinn\",\"Jae Crowder\",\"Will Barton\",\"Kent Bazemore\",\"Kent Bazemore\",\"Khris Middleton\",\"Mike Scott\",\"Aron Baynes\",\"Aron Baynes\",\"Justin Holiday\",\"Justin Holiday\",\"Nerlens Noel\",\"Ben McLemore\",\"Kentavious Caldwell-Pope\",\"Trey Burke\",\"Mason Plumlee\",\"Solomon Hill\",\"Reggie Bullock\",\"Robert Covington\",\"Matthew Dellavedova\",\"Mike Muscala\",\"Seth Curry\",\"Seth Curry\",\"Bojan Bogdanovic\",\"Julius Randle\",\"Elfrid Payton\",\"Rodney Hood\",\"Jerami Grant\",\"Joe Harris\",\"Joe Harris\",\"Spencer Dinwiddie\",\"Spencer Dinwiddie\",\"Joe Ingles\",\"JaKarr Sampson\",\"Glenn Robinson III\",\"Jordan Clarkson\",\"Dwight Powell\",\"Langston Galloway\",\"Langston Galloway\",\"Tyler Johnson\",\"JaMychal Green\",\"JaMychal Green\",\"Jahlil Okafor\",\"Willie Cauley-Stein\",\"Boban Marjanovic\",\"Montrezl Harrell\",\"Raul Neto\",\"Pat Connaughton\",\"Christian Wood\",\"Fred VanVleet\",\"Bryn Forbes\",\"Davis Bertans\",\"Patrick McCaw\",\"Quinn Cook\",\"Quinn Cook\",\"Quinn Cook\",\"Shaquille Harrison\",\"Edmond Sumner\",\"Torrey Craig\"],\"value\":[8511223,8511223,13362472,13362472,6855081,6855081,5868070,5868070,5841517,8068596,7019635,7019635,7019635,4604751,3215229,4527176,4936316,4469987,3407553,5881415,3274594,3274594,2452386,2452386,1670089,1670089,1477495,1477495,912737,912737,912737,0,0,0,0,0,0,0,0,0,0,0,0,0,0,0,0,0,0,0,0,0,0,0,0,0,0,0,0,0,0,0,0,0,0,0,0,0,0,0,0,0,0,0,0,0,0,0,0,0,0,0,0,0,0,0,0,0,0,0,0,0,0,0,0,0,0,0,0,0,0,0,0,0,0,0,0,0,0,0,0,0,0,0,0,0,0,0,0,0,0,0,0,0,0,0,0,0,0,0,0,0,0,0,0,0,0,0,0,0,0,0,0,0,0,0,0,0,0,0,0,0,0,0,0,0,0,0,0,0,0,0,0,0,0,0,0,0,0,0,0,0,0,0,0,0,0,0,0,0,0,0,0,0,0,0,0,0,0,0,0,0,0,0,0,0,0,0,0]},\"selected\":{\"id\":\"6585\"},\"selection_policy\":{\"id\":\"6607\"}},\"id\":\"6584\",\"type\":\"ColumnDataSource\"},{\"attributes\":{\"data\":{\"Variable\":[\"0405_salary_adjusted\",\"0405_salary_adjusted\",\"0405_salary_adjusted\",\"0405_salary_adjusted\",\"0405_salary_adjusted\",\"0405_salary_adjusted\",\"0405_salary_adjusted\",\"0405_salary_adjusted\",\"0405_salary_adjusted\",\"0405_salary_adjusted\",\"0405_salary_adjusted\",\"0405_salary_adjusted\",\"0405_salary_adjusted\",\"0405_salary_adjusted\",\"0405_salary_adjusted\",\"0405_salary_adjusted\",\"0405_salary_adjusted\",\"0405_salary_adjusted\",\"0405_salary_adjusted\",\"0405_salary_adjusted\",\"0405_salary_adjusted\",\"0405_salary_adjusted\",\"0405_salary_adjusted\",\"0405_salary_adjusted\",\"0405_salary_adjusted\",\"0405_salary_adjusted\",\"0405_salary_adjusted\",\"0405_salary_adjusted\",\"0405_salary_adjusted\",\"0405_salary_adjusted\",\"0405_salary_adjusted\",\"0405_salary_adjusted\",\"0405_salary_adjusted\",\"0405_salary_adjusted\",\"0405_salary_adjusted\",\"0405_salary_adjusted\",\"0405_salary_adjusted\",\"0405_salary_adjusted\",\"0405_salary_adjusted\",\"0405_salary_adjusted\",\"0405_salary_adjusted\",\"0405_salary_adjusted\",\"0405_salary_adjusted\",\"0405_salary_adjusted\",\"0405_salary_adjusted\",\"0405_salary_adjusted\",\"0405_salary_adjusted\",\"0405_salary_adjusted\",\"0405_salary_adjusted\",\"0405_salary_adjusted\",\"0405_salary_adjusted\",\"0405_salary_adjusted\",\"0405_salary_adjusted\",\"0405_salary_adjusted\",\"0405_salary_adjusted\",\"0405_salary_adjusted\",\"0405_salary_adjusted\",\"0405_salary_adjusted\",\"0405_salary_adjusted\",\"0405_salary_adjusted\",\"0405_salary_adjusted\",\"0405_salary_adjusted\",\"0405_salary_adjusted\",\"0405_salary_adjusted\",\"0405_salary_adjusted\",\"0405_salary_adjusted\",\"0405_salary_adjusted\",\"0405_salary_adjusted\",\"0405_salary_adjusted\",\"0405_salary_adjusted\",\"0405_salary_adjusted\",\"0405_salary_adjusted\",\"0405_salary_adjusted\",\"0405_salary_adjusted\",\"0405_salary_adjusted\",\"0405_salary_adjusted\",\"0405_salary_adjusted\",\"0405_salary_adjusted\",\"0405_salary_adjusted\",\"0405_salary_adjusted\",\"0405_salary_adjusted\",\"0405_salary_adjusted\",\"0405_salary_adjusted\",\"0405_salary_adjusted\",\"0405_salary_adjusted\",\"0405_salary_adjusted\",\"0405_salary_adjusted\",\"0405_salary_adjusted\",\"0405_salary_adjusted\",\"0405_salary_adjusted\",\"0405_salary_adjusted\",\"0405_salary_adjusted\",\"0405_salary_adjusted\",\"0405_salary_adjusted\",\"0405_salary_adjusted\",\"0405_salary_adjusted\",\"0405_salary_adjusted\",\"0405_salary_adjusted\",\"0405_salary_adjusted\",\"0405_salary_adjusted\",\"0405_salary_adjusted\",\"0405_salary_adjusted\",\"0405_salary_adjusted\",\"0405_salary_adjusted\",\"0405_salary_adjusted\",\"0405_salary_adjusted\",\"0405_salary_adjusted\",\"0405_salary_adjusted\",\"0405_salary_adjusted\",\"0405_salary_adjusted\",\"0405_salary_adjusted\",\"0405_salary_adjusted\",\"0405_salary_adjusted\",\"0405_salary_adjusted\",\"0405_salary_adjusted\",\"0405_salary_adjusted\",\"0405_salary_adjusted\",\"0405_salary_adjusted\",\"0405_salary_adjusted\",\"0405_salary_adjusted\",\"0405_salary_adjusted\",\"0405_salary_adjusted\",\"0405_salary_adjusted\",\"0405_salary_adjusted\",\"0405_salary_adjusted\",\"0405_salary_adjusted\",\"0405_salary_adjusted\",\"0405_salary_adjusted\",\"0405_salary_adjusted\",\"0405_salary_adjusted\",\"0405_salary_adjusted\",\"0405_salary_adjusted\",\"0405_salary_adjusted\",\"0405_salary_adjusted\",\"0405_salary_adjusted\",\"0405_salary_adjusted\",\"0405_salary_adjusted\",\"0405_salary_adjusted\",\"0405_salary_adjusted\",\"0405_salary_adjusted\",\"0405_salary_adjusted\",\"0405_salary_adjusted\",\"0405_salary_adjusted\",\"0405_salary_adjusted\",\"0405_salary_adjusted\",\"0405_salary_adjusted\",\"0405_salary_adjusted\",\"0405_salary_adjusted\",\"0405_salary_adjusted\",\"0405_salary_adjusted\",\"0405_salary_adjusted\",\"0405_salary_adjusted\",\"0405_salary_adjusted\",\"0405_salary_adjusted\",\"0405_salary_adjusted\",\"0405_salary_adjusted\",\"0405_salary_adjusted\",\"0405_salary_adjusted\",\"0405_salary_adjusted\",\"0405_salary_adjusted\",\"0405_salary_adjusted\",\"0405_salary_adjusted\",\"0405_salary_adjusted\",\"0405_salary_adjusted\",\"0405_salary_adjusted\",\"0405_salary_adjusted\",\"0405_salary_adjusted\",\"0405_salary_adjusted\",\"0405_salary_adjusted\",\"0405_salary_adjusted\",\"0405_salary_adjusted\",\"0405_salary_adjusted\",\"0405_salary_adjusted\",\"0405_salary_adjusted\",\"0405_salary_adjusted\",\"0405_salary_adjusted\",\"0405_salary_adjusted\",\"0405_salary_adjusted\",\"0405_salary_adjusted\",\"0405_salary_adjusted\",\"0405_salary_adjusted\",\"0405_salary_adjusted\",\"0405_salary_adjusted\",\"0405_salary_adjusted\",\"0405_salary_adjusted\",\"0405_salary_adjusted\",\"0405_salary_adjusted\",\"0405_salary_adjusted\",\"0405_salary_adjusted\",\"0405_salary_adjusted\",\"0405_salary_adjusted\",\"0405_salary_adjusted\",\"0405_salary_adjusted\",\"0405_salary_adjusted\",\"0405_salary_adjusted\",\"0405_salary_adjusted\",\"0405_salary_adjusted\",\"0405_salary_adjusted\",\"0405_salary_adjusted\"],\"player_name\":[\"LeBron James\",\"LeBron James\",\"Tyson Chandler\",\"Tyson Chandler\",\"Carmelo Anthony\",\"Carmelo Anthony\",\"Kyle Korver\",\"Kyle Korver\",\"Zaza Pachulia\",\"Udonis Haslem\",\"Dwight Howard\",\"Dwight Howard\",\"Dwight Howard\",\"Devin Harris\",\"Andre Iguodala\",\"Trevor Ariza\",\"Chris Paul\",\"Raymond Felton\",\"Jose Calderon\",\"LaMarcus Aldridge\",\"Rudy Gay\",\"Rudy Gay\",\"Thabo Sefolosha\",\"Thabo Sefolosha\",\"Rajon Rondo\",\"Rajon Rondo\",\"Kyle Lowry\",\"Kyle Lowry\",\"Paul Millsap\",\"Paul Millsap\",\"Paul Millsap\",\"Kevin Durant\",\"Kevin Durant\",\"Kevin Durant\",\"Kevin Durant\",\"Al Horford\",\"Al Horford\",\"Mike Conley\",\"Thaddeus Young\",\"Thaddeus Young\",\"Jared Dudley\",\"Jared Dudley\",\"Wilson Chandler\",\"Wilson Chandler\",\"Ian Mahinmi\",\"Derrick Rose\",\"Russell Westbrook\",\"Russell Westbrook\",\"Kevin Love\",\"Kevin Love\",\"Marc Gasol\",\"Marc Gasol\",\"Danilo Gallinari\",\"Danilo Gallinari\",\"Danilo Gallinari\",\"Eric Gordon\",\"Eric Gordon\",\"Brook Lopez\",\"Brook Lopez\",\"Goran Dragic\",\"Goran Dragic\",\"Robin Lopez\",\"Robin Lopez\",\"Robin Lopez\",\"JaVale McGee\",\"Nicolas Batum\",\"Nicolas Batum\",\"George Hill\",\"George Hill\",\"DeAndre Jordan\",\"DeAndre Jordan\",\"Blake Griffin\",\"James Harden\",\"James Harden\",\"Stephen Curry\",\"DeMar DeRozan\",\"James Johnson\",\"James Johnson\",\"Jrue Holiday\",\"Jeff Teague\",\"Jeff Teague\",\"Serge Ibaka\",\"Serge Ibaka\",\"Wayne Ellington\",\"Wayne Ellington\",\"Wayne Ellington\",\"Wesley Matthews\",\"Wesley Matthews\",\"Danny Green\",\"Danny Green\",\"Garrett Temple\",\"Garrett Temple\",\"John Wall\",\"Derrick Favors\",\"Derrick Favors\",\"DeMarcus Cousins\",\"Al-Farouq Aminu\",\"Gordon Hayward\",\"Gordon Hayward\",\"Paul George\",\"Ed Davis\",\"Patrick Patterson\",\"Patrick Patterson\",\"Eric Bledsoe\",\"Avery Bradley\",\"Avery Bradley\",\"Avery Bradley\",\"Quincy Pondexter\",\"Hassan Whiteside\",\"Patrick Beverley\",\"Kyrie Irving\",\"Enes Kanter\",\"Tristan Thompson\",\"Ricky Rubio\",\"Bismack Biyombo\",\"Bismack Biyombo\",\"Kemba Walker\",\"Klay Thompson\",\"Alec Burks\",\"Markieff Morris\",\"Kawhi Leonard\",\"Nikola Vucevic\",\"Tobias Harris\",\"Kenneth Faried\",\"Reggie Jackson\",\"Cory Joseph\",\"Jimmy Butler\",\"E'Twaun Moore\",\"E'Twaun Moore\",\"E'Twaun Moore\",\"Anthony Davis\",\"Jonas Valanciunas\",\"Harrison Barnes\",\"Terrence Ross\",\"Austin Rivers\",\"Austin Rivers\",\"Austin Rivers\",\"Meyers Leonard\",\"Jeremy Lamb\",\"Draymond Green\",\"Kyle O'Quinn\",\"Jae Crowder\",\"Will Barton\",\"Kent Bazemore\",\"Kent Bazemore\",\"Khris Middleton\",\"Mike Scott\",\"Aron Baynes\",\"Aron Baynes\",\"Justin Holiday\",\"Justin Holiday\",\"Nerlens Noel\",\"Ben McLemore\",\"Kentavious Caldwell-Pope\",\"Trey Burke\",\"Mason Plumlee\",\"Solomon Hill\",\"Reggie Bullock\",\"Robert Covington\",\"Matthew Dellavedova\",\"Mike Muscala\",\"Seth Curry\",\"Seth Curry\",\"Bojan Bogdanovic\",\"Julius Randle\",\"Elfrid Payton\",\"Rodney Hood\",\"Jerami Grant\",\"Joe Harris\",\"Joe Harris\",\"Spencer Dinwiddie\",\"Spencer Dinwiddie\",\"Joe Ingles\",\"JaKarr Sampson\",\"Glenn Robinson III\",\"Jordan Clarkson\",\"Dwight Powell\",\"Langston Galloway\",\"Langston Galloway\",\"Tyler Johnson\",\"JaMychal Green\",\"JaMychal Green\",\"Jahlil Okafor\",\"Willie Cauley-Stein\",\"Boban Marjanovic\",\"Montrezl Harrell\",\"Raul Neto\",\"Pat Connaughton\",\"Christian Wood\",\"Fred VanVleet\",\"Bryn Forbes\",\"Davis Bertans\",\"Patrick McCaw\",\"Quinn Cook\",\"Quinn Cook\",\"Quinn Cook\",\"Shaquille Harrison\",\"Edmond Sumner\",\"Torrey Craig\"],\"value\":[6748393,6748393,7499311,7499311,5422257,5422257,968510,968510,968510,968510,6528713,6528713,6528713,4282810,2990413,601801,0,0,0,0,0,0,0,0,0,0,0,0,0,0,0,0,0,0,0,0,0,0,0,0,0,0,0,0,0,0,0,0,0,0,0,0,0,0,0,0,0,0,0,0,0,0,0,0,0,0,0,0,0,0,0,0,0,0,0,0,0,0,0,0,0,0,0,0,0,0,0,0,0,0,0,0,0,0,0,0,0,0,0,0,0,0,0,0,0,0,0,0,0,0,0,0,0,0,0,0,0,0,0,0,0,0,0,0,0,0,0,0,0,0,0,0,0,0,0,0,0,0,0,0,0,0,0,0,0,0,0,0,0,0,0,0,0,0,0,0,0,0,0,0,0,0,0,0,0,0,0,0,0,0,0,0,0,0,0,0,0,0,0,0,0,0,0,0,0,0,0,0,0,0,0,0,0,0,0,0,0,0,0]},\"selected\":{\"id\":\"6535\"},\"selection_policy\":{\"id\":\"6553\"}},\"id\":\"6534\",\"type\":\"ColumnDataSource\"},{\"attributes\":{\"line_alpha\":0.1,\"line_color\":\"#d62728\",\"line_width\":2,\"x\":{\"field\":\"player_name\"},\"y\":{\"field\":\"value\"}},\"id\":\"8046\",\"type\":\"Line\"},{\"attributes\":{\"line_color\":\"#fc4f30\",\"line_width\":2,\"x\":{\"field\":\"player_name\"},\"y\":{\"field\":\"value\"}},\"id\":\"6911\",\"type\":\"Line\"},{\"attributes\":{},\"id\":\"7327\",\"type\":\"UnionRenderers\"},{\"attributes\":{\"line_alpha\":0.2,\"line_color\":\"#fc4f30\",\"line_width\":2,\"x\":{\"field\":\"player_name\"},\"y\":{\"field\":\"value\"}},\"id\":\"9829\",\"type\":\"Line\"},{\"attributes\":{\"label\":{\"value\":\"2223_salary_adjusted\"},\"renderers\":[{\"id\":\"7278\"}]},\"id\":\"7330\",\"type\":\"LegendItem\"},{\"attributes\":{},\"id\":\"9937\",\"type\":\"UnionRenderers\"},{\"attributes\":{\"line_alpha\":0.1,\"line_color\":\"#fc4f30\",\"line_width\":2,\"x\":{\"field\":\"player_name\"},\"y\":{\"field\":\"value\"}},\"id\":\"6912\",\"type\":\"Line\"},{\"attributes\":{\"coordinates\":null,\"data_source\":{\"id\":\"6908\"},\"glyph\":{\"id\":\"6911\"},\"group\":null,\"hover_glyph\":null,\"muted_glyph\":{\"id\":\"6913\"},\"nonselection_glyph\":{\"id\":\"6912\"},\"selection_glyph\":{\"id\":\"6953\"},\"view\":{\"id\":\"6915\"}},\"id\":\"6914\",\"type\":\"GlyphRenderer\"},{\"attributes\":{\"label\":{\"value\":\"BLK\"},\"renderers\":[{\"id\":\"9830\"}]},\"id\":\"9940\",\"type\":\"LegendItem\"},{\"attributes\":{\"data\":{\"Variable\":[\"2223_salary_adjusted\",\"2223_salary_adjusted\",\"2223_salary_adjusted\",\"2223_salary_adjusted\",\"2223_salary_adjusted\",\"2223_salary_adjusted\",\"2223_salary_adjusted\",\"2223_salary_adjusted\",\"2223_salary_adjusted\",\"2223_salary_adjusted\",\"2223_salary_adjusted\",\"2223_salary_adjusted\",\"2223_salary_adjusted\",\"2223_salary_adjusted\",\"2223_salary_adjusted\",\"2223_salary_adjusted\",\"2223_salary_adjusted\",\"2223_salary_adjusted\",\"2223_salary_adjusted\",\"2223_salary_adjusted\",\"2223_salary_adjusted\",\"2223_salary_adjusted\",\"2223_salary_adjusted\",\"2223_salary_adjusted\",\"2223_salary_adjusted\",\"2223_salary_adjusted\",\"2223_salary_adjusted\",\"2223_salary_adjusted\",\"2223_salary_adjusted\",\"2223_salary_adjusted\",\"2223_salary_adjusted\",\"2223_salary_adjusted\",\"2223_salary_adjusted\",\"2223_salary_adjusted\",\"2223_salary_adjusted\",\"2223_salary_adjusted\",\"2223_salary_adjusted\",\"2223_salary_adjusted\",\"2223_salary_adjusted\",\"2223_salary_adjusted\",\"2223_salary_adjusted\",\"2223_salary_adjusted\",\"2223_salary_adjusted\",\"2223_salary_adjusted\",\"2223_salary_adjusted\",\"2223_salary_adjusted\",\"2223_salary_adjusted\",\"2223_salary_adjusted\",\"2223_salary_adjusted\",\"2223_salary_adjusted\",\"2223_salary_adjusted\",\"2223_salary_adjusted\",\"2223_salary_adjusted\",\"2223_salary_adjusted\",\"2223_salary_adjusted\",\"2223_salary_adjusted\",\"2223_salary_adjusted\",\"2223_salary_adjusted\",\"2223_salary_adjusted\",\"2223_salary_adjusted\",\"2223_salary_adjusted\",\"2223_salary_adjusted\",\"2223_salary_adjusted\",\"2223_salary_adjusted\",\"2223_salary_adjusted\",\"2223_salary_adjusted\",\"2223_salary_adjusted\",\"2223_salary_adjusted\",\"2223_salary_adjusted\",\"2223_salary_adjusted\",\"2223_salary_adjusted\",\"2223_salary_adjusted\",\"2223_salary_adjusted\",\"2223_salary_adjusted\",\"2223_salary_adjusted\",\"2223_salary_adjusted\",\"2223_salary_adjusted\",\"2223_salary_adjusted\",\"2223_salary_adjusted\",\"2223_salary_adjusted\",\"2223_salary_adjusted\",\"2223_salary_adjusted\",\"2223_salary_adjusted\",\"2223_salary_adjusted\",\"2223_salary_adjusted\",\"2223_salary_adjusted\",\"2223_salary_adjusted\",\"2223_salary_adjusted\",\"2223_salary_adjusted\",\"2223_salary_adjusted\",\"2223_salary_adjusted\",\"2223_salary_adjusted\",\"2223_salary_adjusted\",\"2223_salary_adjusted\",\"2223_salary_adjusted\",\"2223_salary_adjusted\",\"2223_salary_adjusted\",\"2223_salary_adjusted\",\"2223_salary_adjusted\",\"2223_salary_adjusted\",\"2223_salary_adjusted\",\"2223_salary_adjusted\",\"2223_salary_adjusted\",\"2223_salary_adjusted\",\"2223_salary_adjusted\",\"2223_salary_adjusted\",\"2223_salary_adjusted\",\"2223_salary_adjusted\",\"2223_salary_adjusted\",\"2223_salary_adjusted\",\"2223_salary_adjusted\",\"2223_salary_adjusted\",\"2223_salary_adjusted\",\"2223_salary_adjusted\",\"2223_salary_adjusted\",\"2223_salary_adjusted\",\"2223_salary_adjusted\",\"2223_salary_adjusted\",\"2223_salary_adjusted\",\"2223_salary_adjusted\",\"2223_salary_adjusted\",\"2223_salary_adjusted\",\"2223_salary_adjusted\",\"2223_salary_adjusted\",\"2223_salary_adjusted\",\"2223_salary_adjusted\",\"2223_salary_adjusted\",\"2223_salary_adjusted\",\"2223_salary_adjusted\",\"2223_salary_adjusted\",\"2223_salary_adjusted\",\"2223_salary_adjusted\",\"2223_salary_adjusted\",\"2223_salary_adjusted\",\"2223_salary_adjusted\",\"2223_salary_adjusted\",\"2223_salary_adjusted\",\"2223_salary_adjusted\",\"2223_salary_adjusted\",\"2223_salary_adjusted\",\"2223_salary_adjusted\",\"2223_salary_adjusted\",\"2223_salary_adjusted\",\"2223_salary_adjusted\",\"2223_salary_adjusted\",\"2223_salary_adjusted\",\"2223_salary_adjusted\",\"2223_salary_adjusted\",\"2223_salary_adjusted\",\"2223_salary_adjusted\",\"2223_salary_adjusted\",\"2223_salary_adjusted\",\"2223_salary_adjusted\",\"2223_salary_adjusted\",\"2223_salary_adjusted\",\"2223_salary_adjusted\",\"2223_salary_adjusted\",\"2223_salary_adjusted\",\"2223_salary_adjusted\",\"2223_salary_adjusted\",\"2223_salary_adjusted\",\"2223_salary_adjusted\",\"2223_salary_adjusted\",\"2223_salary_adjusted\",\"2223_salary_adjusted\",\"2223_salary_adjusted\",\"2223_salary_adjusted\",\"2223_salary_adjusted\",\"2223_salary_adjusted\",\"2223_salary_adjusted\",\"2223_salary_adjusted\",\"2223_salary_adjusted\",\"2223_salary_adjusted\",\"2223_salary_adjusted\",\"2223_salary_adjusted\",\"2223_salary_adjusted\",\"2223_salary_adjusted\",\"2223_salary_adjusted\",\"2223_salary_adjusted\",\"2223_salary_adjusted\",\"2223_salary_adjusted\",\"2223_salary_adjusted\",\"2223_salary_adjusted\",\"2223_salary_adjusted\",\"2223_salary_adjusted\",\"2223_salary_adjusted\",\"2223_salary_adjusted\",\"2223_salary_adjusted\",\"2223_salary_adjusted\",\"2223_salary_adjusted\",\"2223_salary_adjusted\",\"2223_salary_adjusted\",\"2223_salary_adjusted\",\"2223_salary_adjusted\",\"2223_salary_adjusted\",\"2223_salary_adjusted\",\"2223_salary_adjusted\",\"2223_salary_adjusted\",\"2223_salary_adjusted\"],\"player_name\":[\"LeBron James\",\"LeBron James\",\"Tyson Chandler\",\"Tyson Chandler\",\"Carmelo Anthony\",\"Carmelo Anthony\",\"Kyle Korver\",\"Kyle Korver\",\"Zaza Pachulia\",\"Udonis Haslem\",\"Dwight Howard\",\"Dwight Howard\",\"Dwight Howard\",\"Devin Harris\",\"Andre Iguodala\",\"Trevor Ariza\",\"Chris Paul\",\"Raymond Felton\",\"Jose Calderon\",\"LaMarcus Aldridge\",\"Rudy Gay\",\"Rudy Gay\",\"Thabo Sefolosha\",\"Thabo Sefolosha\",\"Rajon Rondo\",\"Rajon Rondo\",\"Kyle Lowry\",\"Kyle Lowry\",\"Paul Millsap\",\"Paul Millsap\",\"Paul Millsap\",\"Kevin Durant\",\"Kevin Durant\",\"Kevin Durant\",\"Kevin Durant\",\"Al Horford\",\"Al Horford\",\"Mike Conley\",\"Thaddeus Young\",\"Thaddeus Young\",\"Jared Dudley\",\"Jared Dudley\",\"Wilson Chandler\",\"Wilson Chandler\",\"Ian Mahinmi\",\"Derrick Rose\",\"Russell Westbrook\",\"Russell Westbrook\",\"Kevin Love\",\"Kevin Love\",\"Marc Gasol\",\"Marc Gasol\",\"Danilo Gallinari\",\"Danilo Gallinari\",\"Danilo Gallinari\",\"Eric Gordon\",\"Eric Gordon\",\"Brook Lopez\",\"Brook Lopez\",\"Goran Dragic\",\"Goran Dragic\",\"Robin Lopez\",\"Robin Lopez\",\"Robin Lopez\",\"JaVale McGee\",\"Nicolas Batum\",\"Nicolas Batum\",\"George Hill\",\"George Hill\",\"DeAndre Jordan\",\"DeAndre Jordan\",\"Blake Griffin\",\"James Harden\",\"James Harden\",\"Stephen Curry\",\"DeMar DeRozan\",\"James Johnson\",\"James Johnson\",\"Jrue Holiday\",\"Jeff Teague\",\"Jeff Teague\",\"Serge Ibaka\",\"Serge Ibaka\",\"Wayne Ellington\",\"Wayne Ellington\",\"Wayne Ellington\",\"Wesley Matthews\",\"Wesley Matthews\",\"Danny Green\",\"Danny Green\",\"Garrett Temple\",\"Garrett Temple\",\"John Wall\",\"Derrick Favors\",\"Derrick Favors\",\"DeMarcus Cousins\",\"Al-Farouq Aminu\",\"Gordon Hayward\",\"Gordon Hayward\",\"Paul George\",\"Ed Davis\",\"Patrick Patterson\",\"Patrick Patterson\",\"Eric Bledsoe\",\"Avery Bradley\",\"Avery Bradley\",\"Avery Bradley\",\"Quincy Pondexter\",\"Hassan Whiteside\",\"Patrick Beverley\",\"Kyrie Irving\",\"Enes Kanter\",\"Tristan Thompson\",\"Ricky Rubio\",\"Bismack Biyombo\",\"Bismack Biyombo\",\"Kemba Walker\",\"Klay Thompson\",\"Alec Burks\",\"Markieff Morris\",\"Kawhi Leonard\",\"Nikola Vucevic\",\"Tobias Harris\",\"Kenneth Faried\",\"Reggie Jackson\",\"Cory Joseph\",\"Jimmy Butler\",\"E'Twaun Moore\",\"E'Twaun Moore\",\"E'Twaun Moore\",\"Anthony Davis\",\"Jonas Valanciunas\",\"Harrison Barnes\",\"Terrence Ross\",\"Austin Rivers\",\"Austin Rivers\",\"Austin Rivers\",\"Meyers Leonard\",\"Jeremy Lamb\",\"Draymond Green\",\"Kyle O'Quinn\",\"Jae Crowder\",\"Will Barton\",\"Kent Bazemore\",\"Kent Bazemore\",\"Khris Middleton\",\"Mike Scott\",\"Aron Baynes\",\"Aron Baynes\",\"Justin Holiday\",\"Justin Holiday\",\"Nerlens Noel\",\"Ben McLemore\",\"Kentavious Caldwell-Pope\",\"Trey Burke\",\"Mason Plumlee\",\"Solomon Hill\",\"Reggie Bullock\",\"Robert Covington\",\"Matthew Dellavedova\",\"Mike Muscala\",\"Seth Curry\",\"Seth Curry\",\"Bojan Bogdanovic\",\"Julius Randle\",\"Elfrid Payton\",\"Rodney Hood\",\"Jerami Grant\",\"Joe Harris\",\"Joe Harris\",\"Spencer Dinwiddie\",\"Spencer Dinwiddie\",\"Joe Ingles\",\"JaKarr Sampson\",\"Glenn Robinson III\",\"Jordan Clarkson\",\"Dwight Powell\",\"Langston Galloway\",\"Langston Galloway\",\"Tyler Johnson\",\"JaMychal Green\",\"JaMychal Green\",\"Jahlil Okafor\",\"Willie Cauley-Stein\",\"Boban Marjanovic\",\"Montrezl Harrell\",\"Raul Neto\",\"Pat Connaughton\",\"Christian Wood\",\"Fred VanVleet\",\"Bryn Forbes\",\"Davis Bertans\",\"Patrick McCaw\",\"Quinn Cook\",\"Quinn Cook\",\"Quinn Cook\",\"Shaquille Harrison\",\"Edmond Sumner\",\"Torrey Craig\"],\"value\":[44474988,44474988,0,0,0,0,0,0,0,2905851,0,0,0,0,2905851,0,28400000,0,0,0,6184500,6184500,0,0,0,0,28333334,28333334,0,0,0,44119845,44119845,44119845,44119845,26500000,26500000,22680000,8000000,8000000,0,0,0,0,0,14520730,47080179,47080179,30556968,30556968,0,0,19479000,19479000,19479000,19568360,19568360,13906976,13906976,3523762,3523762,2905851,2905851,2905851,5461219,19700319,19700319,4000000,4000000,10733758,10733758,2905851,33000000,33000000,48070014,27300000,3841067,3841067,34319520,0,0,2905851,2905851,0,0,0,2905851,2905851,11710528,11710528,5155500,5155500,47345760,10350803,10350803,0,0,30075000,30075000,42492492,0,0,0,1300000,0,0,0,0,0,13801614,38917057,0,16700,5853659,2905851,2905851,37281261,40600080,10012800,2905851,42492492,22000000,37633050,0,11457217,5155500,37653300,0,0,0,37980720,14700000,18352273,11500000,2905851,2905851,2905851,713558,0,25806468,0,10183800,15059712,0,0,37984276,0,0,0,5987975,5987975,9391069,0,14004703,3423750,9080417,0,10012800,12307692,2628597,3500000,8496653,8496653,19550000,23760000,0,0,20955000,18642857,18642857,19500000,19500000,6479000,0,0,13340000,11080125,0,0,0,8200000,8200000,0,155738,4101478,2463490,2463490,5728393,14317459,21250000,2298385,16000000,0,0,0,0,134862,1968175,5121951]},\"selected\":{\"id\":\"7273\"},\"selection_policy\":{\"id\":\"7327\"}},\"id\":\"7272\",\"type\":\"ColumnDataSource\"},{\"attributes\":{\"source\":{\"id\":\"7734\"}},\"id\":\"7741\",\"type\":\"CDSView\"},{\"attributes\":{},\"id\":\"6949\",\"type\":\"UnionRenderers\"},{\"attributes\":{},\"id\":\"7735\",\"type\":\"Selection\"},{\"attributes\":{\"coordinates\":null,\"data_source\":{\"id\":\"6491\"},\"glyph\":{\"id\":\"6494\"},\"group\":null,\"hover_glyph\":null,\"muted_glyph\":{\"id\":\"6496\"},\"nonselection_glyph\":{\"id\":\"6495\"},\"selection_glyph\":{\"id\":\"6511\"},\"view\":{\"id\":\"6498\"}},\"id\":\"6497\",\"type\":\"GlyphRenderer\"},{\"attributes\":{\"line_alpha\":0.1,\"line_color\":\"#fc4f30\",\"line_width\":2,\"x\":{\"field\":\"player_name\"},\"y\":{\"field\":\"value\"}},\"id\":\"9828\",\"type\":\"Line\"},{\"attributes\":{\"data\":{\"Variable\":[\"3PA\",\"3PA\",\"3PA\",\"3PA\",\"3PA\",\"3PA\",\"3PA\",\"3PA\",\"3PA\",\"3PA\",\"3PA\",\"3PA\",\"3PA\",\"3PA\",\"3PA\",\"3PA\",\"3PA\",\"3PA\",\"3PA\",\"3PA\",\"3PA\",\"3PA\",\"3PA\",\"3PA\",\"3PA\",\"3PA\",\"3PA\",\"3PA\",\"3PA\",\"3PA\",\"3PA\",\"3PA\",\"3PA\",\"3PA\",\"3PA\",\"3PA\",\"3PA\",\"3PA\",\"3PA\",\"3PA\",\"3PA\",\"3PA\",\"3PA\",\"3PA\",\"3PA\",\"3PA\",\"3PA\",\"3PA\",\"3PA\",\"3PA\",\"3PA\",\"3PA\",\"3PA\",\"3PA\",\"3PA\",\"3PA\",\"3PA\",\"3PA\",\"3PA\",\"3PA\",\"3PA\",\"3PA\",\"3PA\",\"3PA\",\"3PA\",\"3PA\",\"3PA\",\"3PA\",\"3PA\",\"3PA\",\"3PA\",\"3PA\",\"3PA\",\"3PA\",\"3PA\",\"3PA\",\"3PA\",\"3PA\",\"3PA\",\"3PA\",\"3PA\",\"3PA\",\"3PA\",\"3PA\",\"3PA\",\"3PA\",\"3PA\",\"3PA\",\"3PA\",\"3PA\",\"3PA\",\"3PA\",\"3PA\",\"3PA\",\"3PA\",\"3PA\",\"3PA\",\"3PA\",\"3PA\",\"3PA\",\"3PA\",\"3PA\",\"3PA\",\"3PA\",\"3PA\",\"3PA\",\"3PA\",\"3PA\",\"3PA\",\"3PA\",\"3PA\",\"3PA\",\"3PA\",\"3PA\",\"3PA\",\"3PA\",\"3PA\",\"3PA\",\"3PA\",\"3PA\",\"3PA\",\"3PA\",\"3PA\",\"3PA\",\"3PA\",\"3PA\",\"3PA\",\"3PA\",\"3PA\",\"3PA\",\"3PA\",\"3PA\",\"3PA\",\"3PA\",\"3PA\",\"3PA\",\"3PA\",\"3PA\",\"3PA\",\"3PA\",\"3PA\",\"3PA\",\"3PA\",\"3PA\",\"3PA\",\"3PA\",\"3PA\",\"3PA\",\"3PA\",\"3PA\",\"3PA\",\"3PA\",\"3PA\",\"3PA\",\"3PA\",\"3PA\",\"3PA\",\"3PA\",\"3PA\",\"3PA\",\"3PA\",\"3PA\",\"3PA\",\"3PA\",\"3PA\",\"3PA\",\"3PA\",\"3PA\",\"3PA\",\"3PA\",\"3PA\",\"3PA\",\"3PA\",\"3PA\",\"3PA\",\"3PA\",\"3PA\",\"3PA\",\"3PA\",\"3PA\",\"3PA\",\"3PA\",\"3PA\",\"3PA\",\"3PA\",\"3PA\",\"3PA\",\"3PA\",\"3PA\",\"3PA\",\"3PA\",\"3PA\",\"3PA\",\"3PA\",\"3PA\",\"3PA\",\"3PA\",\"3PA\",\"3PA\"],\"player_name\":[\"LeBron James\",\"LeBron James\",\"Tyson Chandler\",\"Tyson Chandler\",\"Carmelo Anthony\",\"Carmelo Anthony\",\"Kyle Korver\",\"Kyle Korver\",\"Zaza Pachulia\",\"Udonis Haslem\",\"Dwight Howard\",\"Dwight Howard\",\"Dwight Howard\",\"Devin Harris\",\"Andre Iguodala\",\"Trevor Ariza\",\"Chris Paul\",\"Raymond Felton\",\"Jose Calderon\",\"LaMarcus Aldridge\",\"Rudy Gay\",\"Rudy Gay\",\"Thabo Sefolosha\",\"Thabo Sefolosha\",\"Rajon Rondo\",\"Rajon Rondo\",\"Kyle Lowry\",\"Kyle Lowry\",\"Paul Millsap\",\"Paul Millsap\",\"Paul Millsap\",\"Kevin Durant\",\"Kevin Durant\",\"Kevin Durant\",\"Kevin Durant\",\"Al Horford\",\"Al Horford\",\"Mike Conley\",\"Thaddeus Young\",\"Thaddeus Young\",\"Jared Dudley\",\"Jared Dudley\",\"Wilson Chandler\",\"Wilson Chandler\",\"Ian Mahinmi\",\"Derrick Rose\",\"Russell Westbrook\",\"Russell Westbrook\",\"Kevin Love\",\"Kevin Love\",\"Marc Gasol\",\"Marc Gasol\",\"Danilo Gallinari\",\"Danilo Gallinari\",\"Danilo Gallinari\",\"Eric Gordon\",\"Eric Gordon\",\"Brook Lopez\",\"Brook Lopez\",\"Goran Dragic\",\"Goran Dragic\",\"Robin Lopez\",\"Robin Lopez\",\"Robin Lopez\",\"JaVale McGee\",\"Nicolas Batum\",\"Nicolas Batum\",\"George Hill\",\"George Hill\",\"DeAndre Jordan\",\"DeAndre Jordan\",\"Blake Griffin\",\"James Harden\",\"James Harden\",\"Stephen Curry\",\"DeMar DeRozan\",\"James Johnson\",\"James Johnson\",\"Jrue Holiday\",\"Jeff Teague\",\"Jeff Teague\",\"Serge Ibaka\",\"Serge Ibaka\",\"Wayne Ellington\",\"Wayne Ellington\",\"Wayne Ellington\",\"Wesley Matthews\",\"Wesley Matthews\",\"Danny Green\",\"Danny Green\",\"Garrett Temple\",\"Garrett Temple\",\"John Wall\",\"Derrick Favors\",\"Derrick Favors\",\"DeMarcus Cousins\",\"Al-Farouq Aminu\",\"Gordon Hayward\",\"Gordon Hayward\",\"Paul George\",\"Ed Davis\",\"Patrick Patterson\",\"Patrick Patterson\",\"Eric Bledsoe\",\"Avery Bradley\",\"Avery Bradley\",\"Avery Bradley\",\"Quincy Pondexter\",\"Hassan Whiteside\",\"Patrick Beverley\",\"Kyrie Irving\",\"Enes Kanter\",\"Tristan Thompson\",\"Ricky Rubio\",\"Bismack Biyombo\",\"Bismack Biyombo\",\"Kemba Walker\",\"Klay Thompson\",\"Alec Burks\",\"Markieff Morris\",\"Kawhi Leonard\",\"Nikola Vucevic\",\"Tobias Harris\",\"Kenneth Faried\",\"Reggie Jackson\",\"Cory Joseph\",\"Jimmy Butler\",\"E'Twaun Moore\",\"E'Twaun Moore\",\"E'Twaun Moore\",\"Anthony Davis\",\"Jonas Valanciunas\",\"Harrison Barnes\",\"Terrence Ross\",\"Austin Rivers\",\"Austin Rivers\",\"Austin Rivers\",\"Meyers Leonard\",\"Jeremy Lamb\",\"Draymond Green\",\"Kyle O'Quinn\",\"Jae Crowder\",\"Will Barton\",\"Kent Bazemore\",\"Kent Bazemore\",\"Khris Middleton\",\"Mike Scott\",\"Aron Baynes\",\"Aron Baynes\",\"Justin Holiday\",\"Justin Holiday\",\"Nerlens Noel\",\"Ben McLemore\",\"Kentavious Caldwell-Pope\",\"Trey Burke\",\"Mason Plumlee\",\"Solomon Hill\",\"Reggie Bullock\",\"Robert Covington\",\"Matthew Dellavedova\",\"Mike Muscala\",\"Seth Curry\",\"Seth Curry\",\"Bojan Bogdanovic\",\"Julius Randle\",\"Elfrid Payton\",\"Rodney Hood\",\"Jerami Grant\",\"Joe Harris\",\"Joe Harris\",\"Spencer Dinwiddie\",\"Spencer Dinwiddie\",\"Joe Ingles\",\"JaKarr Sampson\",\"Glenn Robinson III\",\"Jordan Clarkson\",\"Dwight Powell\",\"Langston Galloway\",\"Langston Galloway\",\"Tyler Johnson\",\"JaMychal Green\",\"JaMychal Green\",\"Jahlil Okafor\",\"Willie Cauley-Stein\",\"Boban Marjanovic\",\"Montrezl Harrell\",\"Raul Neto\",\"Pat Connaughton\",\"Christian Wood\",\"Fred VanVleet\",\"Bryn Forbes\",\"Davis Bertans\",\"Patrick McCaw\",\"Quinn Cook\",\"Quinn Cook\",\"Quinn Cook\",\"Shaquille Harrison\",\"Edmond Sumner\",\"Torrey Craig\"],\"value\":[282,339,0,0,415,203,359,414,3,0,7,6,6,101,287,442,232,203,282,105,113,220,120,152,142,170,468,500,241,39,216,481,413,414,312,4,256,217,22,115,253,238,406,320,1,173,341,196,282,392,17,7,324,301,183,40,294,10,0,259,202,1,31,0,0,399,274,147,233,1,4,28,657,486,600,120,87,21,247,252,248,317,57,268,240,243,403,445,457,234,258,29,308,1,63,7,124,280,374,500,0,151,253,140,200,245,203,34,0,323,378,45,0,51,0,1,280,545,68,179,192,6,239,8,241,44,193,45,104,161,108,0,214,339,131,327,185,228,181,329,43,208,85,305,128,268,200,21,4,109,273,1,170,435,70,6,74,73,11,239,110,1,111,392,45,105,236,110,4,358,10,10,202,127,19,320,16,308,224,71,176,145,4,2,0,7,47,210,11,261,228,252,80,26,200,26,26,0,58]},\"selected\":{\"id\":\"8659\"},\"selection_policy\":{\"id\":\"8749\"}},\"id\":\"8658\",\"type\":\"ColumnDataSource\"},{\"attributes\":{\"label\":{\"value\":\"1516_salary_adjusted\"},\"renderers\":[{\"id\":\"6914\"}]},\"id\":\"6952\",\"type\":\"LegendItem\"},{\"attributes\":{\"line_alpha\":0.2,\"line_color\":\"#30a2da\",\"line_width\":2,\"x\":{\"field\":\"player_name\"},\"y\":{\"field\":\"value\"}},\"id\":\"6496\",\"type\":\"Line\"},{\"attributes\":{},\"id\":\"6492\",\"type\":\"Selection\"},{\"attributes\":{\"data\":{\"Variable\":[\"1516_salary_adjusted\",\"1516_salary_adjusted\",\"1516_salary_adjusted\",\"1516_salary_adjusted\",\"1516_salary_adjusted\",\"1516_salary_adjusted\",\"1516_salary_adjusted\",\"1516_salary_adjusted\",\"1516_salary_adjusted\",\"1516_salary_adjusted\",\"1516_salary_adjusted\",\"1516_salary_adjusted\",\"1516_salary_adjusted\",\"1516_salary_adjusted\",\"1516_salary_adjusted\",\"1516_salary_adjusted\",\"1516_salary_adjusted\",\"1516_salary_adjusted\",\"1516_salary_adjusted\",\"1516_salary_adjusted\",\"1516_salary_adjusted\",\"1516_salary_adjusted\",\"1516_salary_adjusted\",\"1516_salary_adjusted\",\"1516_salary_adjusted\",\"1516_salary_adjusted\",\"1516_salary_adjusted\",\"1516_salary_adjusted\",\"1516_salary_adjusted\",\"1516_salary_adjusted\",\"1516_salary_adjusted\",\"1516_salary_adjusted\",\"1516_salary_adjusted\",\"1516_salary_adjusted\",\"1516_salary_adjusted\",\"1516_salary_adjusted\",\"1516_salary_adjusted\",\"1516_salary_adjusted\",\"1516_salary_adjusted\",\"1516_salary_adjusted\",\"1516_salary_adjusted\",\"1516_salary_adjusted\",\"1516_salary_adjusted\",\"1516_salary_adjusted\",\"1516_salary_adjusted\",\"1516_salary_adjusted\",\"1516_salary_adjusted\",\"1516_salary_adjusted\",\"1516_salary_adjusted\",\"1516_salary_adjusted\",\"1516_salary_adjusted\",\"1516_salary_adjusted\",\"1516_salary_adjusted\",\"1516_salary_adjusted\",\"1516_salary_adjusted\",\"1516_salary_adjusted\",\"1516_salary_adjusted\",\"1516_salary_adjusted\",\"1516_salary_adjusted\",\"1516_salary_adjusted\",\"1516_salary_adjusted\",\"1516_salary_adjusted\",\"1516_salary_adjusted\",\"1516_salary_adjusted\",\"1516_salary_adjusted\",\"1516_salary_adjusted\",\"1516_salary_adjusted\",\"1516_salary_adjusted\",\"1516_salary_adjusted\",\"1516_salary_adjusted\",\"1516_salary_adjusted\",\"1516_salary_adjusted\",\"1516_salary_adjusted\",\"1516_salary_adjusted\",\"1516_salary_adjusted\",\"1516_salary_adjusted\",\"1516_salary_adjusted\",\"1516_salary_adjusted\",\"1516_salary_adjusted\",\"1516_salary_adjusted\",\"1516_salary_adjusted\",\"1516_salary_adjusted\",\"1516_salary_adjusted\",\"1516_salary_adjusted\",\"1516_salary_adjusted\",\"1516_salary_adjusted\",\"1516_salary_adjusted\",\"1516_salary_adjusted\",\"1516_salary_adjusted\",\"1516_salary_adjusted\",\"1516_salary_adjusted\",\"1516_salary_adjusted\",\"1516_salary_adjusted\",\"1516_salary_adjusted\",\"1516_salary_adjusted\",\"1516_salary_adjusted\",\"1516_salary_adjusted\",\"1516_salary_adjusted\",\"1516_salary_adjusted\",\"1516_salary_adjusted\",\"1516_salary_adjusted\",\"1516_salary_adjusted\",\"1516_salary_adjusted\",\"1516_salary_adjusted\",\"1516_salary_adjusted\",\"1516_salary_adjusted\",\"1516_salary_adjusted\",\"1516_salary_adjusted\",\"1516_salary_adjusted\",\"1516_salary_adjusted\",\"1516_salary_adjusted\",\"1516_salary_adjusted\",\"1516_salary_adjusted\",\"1516_salary_adjusted\",\"1516_salary_adjusted\",\"1516_salary_adjusted\",\"1516_salary_adjusted\",\"1516_salary_adjusted\",\"1516_salary_adjusted\",\"1516_salary_adjusted\",\"1516_salary_adjusted\",\"1516_salary_adjusted\",\"1516_salary_adjusted\",\"1516_salary_adjusted\",\"1516_salary_adjusted\",\"1516_salary_adjusted\",\"1516_salary_adjusted\",\"1516_salary_adjusted\",\"1516_salary_adjusted\",\"1516_salary_adjusted\",\"1516_salary_adjusted\",\"1516_salary_adjusted\",\"1516_salary_adjusted\",\"1516_salary_adjusted\",\"1516_salary_adjusted\",\"1516_salary_adjusted\",\"1516_salary_adjusted\",\"1516_salary_adjusted\",\"1516_salary_adjusted\",\"1516_salary_adjusted\",\"1516_salary_adjusted\",\"1516_salary_adjusted\",\"1516_salary_adjusted\",\"1516_salary_adjusted\",\"1516_salary_adjusted\",\"1516_salary_adjusted\",\"1516_salary_adjusted\",\"1516_salary_adjusted\",\"1516_salary_adjusted\",\"1516_salary_adjusted\",\"1516_salary_adjusted\",\"1516_salary_adjusted\",\"1516_salary_adjusted\",\"1516_salary_adjusted\",\"1516_salary_adjusted\",\"1516_salary_adjusted\",\"1516_salary_adjusted\",\"1516_salary_adjusted\",\"1516_salary_adjusted\",\"1516_salary_adjusted\",\"1516_salary_adjusted\",\"1516_salary_adjusted\",\"1516_salary_adjusted\",\"1516_salary_adjusted\",\"1516_salary_adjusted\",\"1516_salary_adjusted\",\"1516_salary_adjusted\",\"1516_salary_adjusted\",\"1516_salary_adjusted\",\"1516_salary_adjusted\",\"1516_salary_adjusted\",\"1516_salary_adjusted\",\"1516_salary_adjusted\",\"1516_salary_adjusted\",\"1516_salary_adjusted\",\"1516_salary_adjusted\",\"1516_salary_adjusted\",\"1516_salary_adjusted\",\"1516_salary_adjusted\",\"1516_salary_adjusted\",\"1516_salary_adjusted\",\"1516_salary_adjusted\",\"1516_salary_adjusted\",\"1516_salary_adjusted\",\"1516_salary_adjusted\",\"1516_salary_adjusted\",\"1516_salary_adjusted\",\"1516_salary_adjusted\",\"1516_salary_adjusted\",\"1516_salary_adjusted\",\"1516_salary_adjusted\",\"1516_salary_adjusted\",\"1516_salary_adjusted\",\"1516_salary_adjusted\",\"1516_salary_adjusted\",\"1516_salary_adjusted\",\"1516_salary_adjusted\",\"1516_salary_adjusted\",\"1516_salary_adjusted\"],\"player_name\":[\"LeBron James\",\"LeBron James\",\"Tyson Chandler\",\"Tyson Chandler\",\"Carmelo Anthony\",\"Carmelo Anthony\",\"Kyle Korver\",\"Kyle Korver\",\"Zaza Pachulia\",\"Udonis Haslem\",\"Dwight Howard\",\"Dwight Howard\",\"Dwight Howard\",\"Devin Harris\",\"Andre Iguodala\",\"Trevor Ariza\",\"Chris Paul\",\"Raymond Felton\",\"Jose Calderon\",\"LaMarcus Aldridge\",\"Rudy Gay\",\"Rudy Gay\",\"Thabo Sefolosha\",\"Thabo Sefolosha\",\"Rajon Rondo\",\"Rajon Rondo\",\"Kyle Lowry\",\"Kyle Lowry\",\"Paul Millsap\",\"Paul Millsap\",\"Paul Millsap\",\"Kevin Durant\",\"Kevin Durant\",\"Kevin Durant\",\"Kevin Durant\",\"Al Horford\",\"Al Horford\",\"Mike Conley\",\"Thaddeus Young\",\"Thaddeus Young\",\"Jared Dudley\",\"Jared Dudley\",\"Wilson Chandler\",\"Wilson Chandler\",\"Ian Mahinmi\",\"Derrick Rose\",\"Russell Westbrook\",\"Russell Westbrook\",\"Kevin Love\",\"Kevin Love\",\"Marc Gasol\",\"Marc Gasol\",\"Danilo Gallinari\",\"Danilo Gallinari\",\"Danilo Gallinari\",\"Eric Gordon\",\"Eric Gordon\",\"Brook Lopez\",\"Brook Lopez\",\"Goran Dragic\",\"Goran Dragic\",\"Robin Lopez\",\"Robin Lopez\",\"Robin Lopez\",\"JaVale McGee\",\"Nicolas Batum\",\"Nicolas Batum\",\"George Hill\",\"George Hill\",\"DeAndre Jordan\",\"DeAndre Jordan\",\"Blake Griffin\",\"James Harden\",\"James Harden\",\"Stephen Curry\",\"DeMar DeRozan\",\"James Johnson\",\"James Johnson\",\"Jrue Holiday\",\"Jeff Teague\",\"Jeff Teague\",\"Serge Ibaka\",\"Serge Ibaka\",\"Wayne Ellington\",\"Wayne Ellington\",\"Wayne Ellington\",\"Wesley Matthews\",\"Wesley Matthews\",\"Danny Green\",\"Danny Green\",\"Garrett Temple\",\"Garrett Temple\",\"John Wall\",\"Derrick Favors\",\"Derrick Favors\",\"DeMarcus Cousins\",\"Al-Farouq Aminu\",\"Gordon Hayward\",\"Gordon Hayward\",\"Paul George\",\"Ed Davis\",\"Patrick Patterson\",\"Patrick Patterson\",\"Eric Bledsoe\",\"Avery Bradley\",\"Avery Bradley\",\"Avery Bradley\",\"Quincy Pondexter\",\"Hassan Whiteside\",\"Patrick Beverley\",\"Kyrie Irving\",\"Enes Kanter\",\"Tristan Thompson\",\"Ricky Rubio\",\"Bismack Biyombo\",\"Bismack Biyombo\",\"Kemba Walker\",\"Klay Thompson\",\"Alec Burks\",\"Markieff Morris\",\"Kawhi Leonard\",\"Nikola Vucevic\",\"Tobias Harris\",\"Kenneth Faried\",\"Reggie Jackson\",\"Cory Joseph\",\"Jimmy Butler\",\"E'Twaun Moore\",\"E'Twaun Moore\",\"E'Twaun Moore\",\"Anthony Davis\",\"Jonas Valanciunas\",\"Harrison Barnes\",\"Terrence Ross\",\"Austin Rivers\",\"Austin Rivers\",\"Austin Rivers\",\"Meyers Leonard\",\"Jeremy Lamb\",\"Draymond Green\",\"Kyle O'Quinn\",\"Jae Crowder\",\"Will Barton\",\"Kent Bazemore\",\"Kent Bazemore\",\"Khris Middleton\",\"Mike Scott\",\"Aron Baynes\",\"Aron Baynes\",\"Justin Holiday\",\"Justin Holiday\",\"Nerlens Noel\",\"Ben McLemore\",\"Kentavious Caldwell-Pope\",\"Trey Burke\",\"Mason Plumlee\",\"Solomon Hill\",\"Reggie Bullock\",\"Robert Covington\",\"Matthew Dellavedova\",\"Mike Muscala\",\"Seth Curry\",\"Seth Curry\",\"Bojan Bogdanovic\",\"Julius Randle\",\"Elfrid Payton\",\"Rodney Hood\",\"Jerami Grant\",\"Joe Harris\",\"Joe Harris\",\"Spencer Dinwiddie\",\"Spencer Dinwiddie\",\"Joe Ingles\",\"JaKarr Sampson\",\"Glenn Robinson III\",\"Jordan Clarkson\",\"Dwight Powell\",\"Langston Galloway\",\"Langston Galloway\",\"Tyler Johnson\",\"JaMychal Green\",\"JaMychal Green\",\"Jahlil Okafor\",\"Willie Cauley-Stein\",\"Boban Marjanovic\",\"Montrezl Harrell\",\"Raul Neto\",\"Pat Connaughton\",\"Christian Wood\",\"Fred VanVleet\",\"Bryn Forbes\",\"Davis Bertans\",\"Patrick McCaw\",\"Quinn Cook\",\"Quinn Cook\",\"Quinn Cook\",\"Shaquille Harrison\",\"Edmond Sumner\",\"Torrey Craig\"],\"value\":[28521911,28521911,16141783,16141783,28403331,28403331,7135263,7135263,6456713,3544909,27763078,27763078,27763078,5033065,14540588,10181740,26657156,5637207,9191891,24447352,15400628,15400628,4966702,4966702,11795918,11795918,14900108,14900108,23184144,23184144,23184144,27281911,27281911,27281911,27281911,14900108,14900108,12019420,13951412,13951412,5277121,5277121,12974812,12974812,4966702,24949068,20790888,20790888,24447352,24447352,24447352,24447352,17383459,17383459,17383459,19263394,19263394,24447352,24447352,18355691,18355691,15707197,15707197,15707197,16478233,14727204,14727204,9933405,9933405,24447352,24447352,23421574,19517976,19517976,14118828,11795918,3104189,3104189,13658432,9933405,9933405,15210527,15210527,1862513,1862513,1862513,20372793,20372793,12416756,12416756,1366590,1366590,18288447,14900108,14900108,18288447,9986667,19133688,19133688,20984318,8667892,7783661,7783661,16762621,9598571,9598571,9598571,4199375,1218515,8054111,20372793,20372793,17706295,15769281,3494075,3494075,14900108,19247214,11440158,9933405,20372793,13968851,19866810,13951412,17275488,8691729,20372793,1260823,1260823,1260823,8779553,5786807,4809504,4412812,3862599,3862599,3862599,3819244,3767686,17707375,4656283,8438573,4387253,2483351,2483351,18252632,4138918,8070891,8070891,1176209,1176209,4293466,3919473,3590628,3300671,1757616,1687288,1555074,1241675,1672879,1176209,1176209,1176209,4253372,3889226,3111291,1674325,1049289,1049289,1049289,1049289,1049289,2607518,1370247,1365843,1049289,1049289,1049289,1049289,1049289,1049289,1049289,5690202,4219561,1490010,1241675,1043007,776162,421874,0,0,0,0,0,0,0,0,0,0]},\"selected\":{\"id\":\"6909\"},\"selection_policy\":{\"id\":\"6949\"}},\"id\":\"6908\",\"type\":\"ColumnDataSource\"},{\"attributes\":{\"line_color\":\"#8c564b\",\"line_width\":2,\"x\":{\"field\":\"player_name\"},\"y\":{\"field\":\"value\"}},\"id\":\"8381\",\"type\":\"Line\"},{\"attributes\":{\"source\":{\"id\":\"7272\"}},\"id\":\"7279\",\"type\":\"CDSView\"},{\"attributes\":{},\"id\":\"7273\",\"type\":\"Selection\"},{\"attributes\":{\"source\":{\"id\":\"9824\"}},\"id\":\"9831\",\"type\":\"CDSView\"},{\"attributes\":{\"line_color\":\"#bcbd22\",\"line_width\":2,\"x\":{\"field\":\"player_name\"},\"y\":{\"field\":\"value\"}},\"id\":\"8385\",\"type\":\"Line\"},{\"attributes\":{},\"id\":\"9825\",\"type\":\"Selection\"},{\"attributes\":{\"source\":{\"id\":\"6908\"}},\"id\":\"6915\",\"type\":\"CDSView\"},{\"attributes\":{\"line_alpha\":0.1,\"line_color\":\"#bcbd22\",\"line_width\":2,\"x\":{\"field\":\"player_name\"},\"y\":{\"field\":\"value\"}},\"id\":\"8386\",\"type\":\"Line\"},{\"attributes\":{\"coordinates\":null,\"data_source\":{\"id\":\"8382\"},\"glyph\":{\"id\":\"8385\"},\"group\":null,\"hover_glyph\":null,\"muted_glyph\":{\"id\":\"8387\"},\"nonselection_glyph\":{\"id\":\"8386\"},\"selection_glyph\":{\"id\":\"8471\"},\"view\":{\"id\":\"8389\"}},\"id\":\"8388\",\"type\":\"GlyphRenderer\"},{\"attributes\":{},\"id\":\"6909\",\"type\":\"Selection\"},{\"attributes\":{},\"id\":\"8467\",\"type\":\"UnionRenderers\"},{\"attributes\":{\"source\":{\"id\":\"6491\"}},\"id\":\"6498\",\"type\":\"CDSView\"},{\"attributes\":{\"label\":{\"value\":\"FGA\"},\"renderers\":[{\"id\":\"8388\"}]},\"id\":\"8470\",\"type\":\"LegendItem\"},{\"attributes\":{\"line_color\":\"#30a2da\",\"line_width\":2,\"x\":{\"field\":\"player_name\"},\"y\":{\"field\":\"value\"}},\"id\":\"6494\",\"type\":\"Line\"},{\"attributes\":{\"line_color\":\"#6d904f\",\"line_width\":2,\"x\":{\"field\":\"player_name\"},\"y\":{\"field\":\"value\"}},\"id\":\"7807\",\"type\":\"Line\"},{\"attributes\":{},\"id\":\"8659\",\"type\":\"Selection\"},{\"attributes\":{\"line_alpha\":0.2,\"line_color\":\"#30a2da\",\"line_width\":2,\"x\":{\"field\":\"player_name\"},\"y\":{\"field\":\"value\"}},\"id\":\"8477\",\"type\":\"Line\"},{\"attributes\":{\"line_color\":\"#8b8b8b\",\"line_width\":2,\"x\":{\"field\":\"player_name\"},\"y\":{\"field\":\"value\"}},\"id\":\"7811\",\"type\":\"Line\"},{\"attributes\":{\"data\":{\"Variable\":[\"3PM\",\"3PM\",\"3PM\",\"3PM\",\"3PM\",\"3PM\",\"3PM\",\"3PM\",\"3PM\",\"3PM\",\"3PM\",\"3PM\",\"3PM\",\"3PM\",\"3PM\",\"3PM\",\"3PM\",\"3PM\",\"3PM\",\"3PM\",\"3PM\",\"3PM\",\"3PM\",\"3PM\",\"3PM\",\"3PM\",\"3PM\",\"3PM\",\"3PM\",\"3PM\",\"3PM\",\"3PM\",\"3PM\",\"3PM\",\"3PM\",\"3PM\",\"3PM\",\"3PM\",\"3PM\",\"3PM\",\"3PM\",\"3PM\",\"3PM\",\"3PM\",\"3PM\",\"3PM\",\"3PM\",\"3PM\",\"3PM\",\"3PM\",\"3PM\",\"3PM\",\"3PM\",\"3PM\",\"3PM\",\"3PM\",\"3PM\",\"3PM\",\"3PM\",\"3PM\",\"3PM\",\"3PM\",\"3PM\",\"3PM\",\"3PM\",\"3PM\",\"3PM\",\"3PM\",\"3PM\",\"3PM\",\"3PM\",\"3PM\",\"3PM\",\"3PM\",\"3PM\",\"3PM\",\"3PM\",\"3PM\",\"3PM\",\"3PM\",\"3PM\",\"3PM\",\"3PM\",\"3PM\",\"3PM\",\"3PM\",\"3PM\",\"3PM\",\"3PM\",\"3PM\",\"3PM\",\"3PM\",\"3PM\",\"3PM\",\"3PM\",\"3PM\",\"3PM\",\"3PM\",\"3PM\",\"3PM\",\"3PM\",\"3PM\",\"3PM\",\"3PM\",\"3PM\",\"3PM\",\"3PM\",\"3PM\",\"3PM\",\"3PM\",\"3PM\",\"3PM\",\"3PM\",\"3PM\",\"3PM\",\"3PM\",\"3PM\",\"3PM\",\"3PM\",\"3PM\",\"3PM\",\"3PM\",\"3PM\",\"3PM\",\"3PM\",\"3PM\",\"3PM\",\"3PM\",\"3PM\",\"3PM\",\"3PM\",\"3PM\",\"3PM\",\"3PM\",\"3PM\",\"3PM\",\"3PM\",\"3PM\",\"3PM\",\"3PM\",\"3PM\",\"3PM\",\"3PM\",\"3PM\",\"3PM\",\"3PM\",\"3PM\",\"3PM\",\"3PM\",\"3PM\",\"3PM\",\"3PM\",\"3PM\",\"3PM\",\"3PM\",\"3PM\",\"3PM\",\"3PM\",\"3PM\",\"3PM\",\"3PM\",\"3PM\",\"3PM\",\"3PM\",\"3PM\",\"3PM\",\"3PM\",\"3PM\",\"3PM\",\"3PM\",\"3PM\",\"3PM\",\"3PM\",\"3PM\",\"3PM\",\"3PM\",\"3PM\",\"3PM\",\"3PM\",\"3PM\",\"3PM\",\"3PM\",\"3PM\",\"3PM\",\"3PM\",\"3PM\",\"3PM\",\"3PM\",\"3PM\",\"3PM\",\"3PM\",\"3PM\",\"3PM\",\"3PM\",\"3PM\",\"3PM\",\"3PM\",\"3PM\",\"3PM\"],\"player_name\":[\"LeBron James\",\"LeBron James\",\"Tyson Chandler\",\"Tyson Chandler\",\"Carmelo Anthony\",\"Carmelo Anthony\",\"Kyle Korver\",\"Kyle Korver\",\"Zaza Pachulia\",\"Udonis Haslem\",\"Dwight Howard\",\"Dwight Howard\",\"Dwight Howard\",\"Devin Harris\",\"Andre Iguodala\",\"Trevor Ariza\",\"Chris Paul\",\"Raymond Felton\",\"Jose Calderon\",\"LaMarcus Aldridge\",\"Rudy Gay\",\"Rudy Gay\",\"Thabo Sefolosha\",\"Thabo Sefolosha\",\"Rajon Rondo\",\"Rajon Rondo\",\"Kyle Lowry\",\"Kyle Lowry\",\"Paul Millsap\",\"Paul Millsap\",\"Paul Millsap\",\"Kevin Durant\",\"Kevin Durant\",\"Kevin Durant\",\"Kevin Durant\",\"Al Horford\",\"Al Horford\",\"Mike Conley\",\"Thaddeus Young\",\"Thaddeus Young\",\"Jared Dudley\",\"Jared Dudley\",\"Wilson Chandler\",\"Wilson Chandler\",\"Ian Mahinmi\",\"Derrick Rose\",\"Russell Westbrook\",\"Russell Westbrook\",\"Kevin Love\",\"Kevin Love\",\"Marc Gasol\",\"Marc Gasol\",\"Danilo Gallinari\",\"Danilo Gallinari\",\"Danilo Gallinari\",\"Eric Gordon\",\"Eric Gordon\",\"Brook Lopez\",\"Brook Lopez\",\"Goran Dragic\",\"Goran Dragic\",\"Robin Lopez\",\"Robin Lopez\",\"Robin Lopez\",\"JaVale McGee\",\"Nicolas Batum\",\"Nicolas Batum\",\"George Hill\",\"George Hill\",\"DeAndre Jordan\",\"DeAndre Jordan\",\"Blake Griffin\",\"James Harden\",\"James Harden\",\"Stephen Curry\",\"DeMar DeRozan\",\"James Johnson\",\"James Johnson\",\"Jrue Holiday\",\"Jeff Teague\",\"Jeff Teague\",\"Serge Ibaka\",\"Serge Ibaka\",\"Wayne Ellington\",\"Wayne Ellington\",\"Wayne Ellington\",\"Wesley Matthews\",\"Wesley Matthews\",\"Danny Green\",\"Danny Green\",\"Garrett Temple\",\"Garrett Temple\",\"John Wall\",\"Derrick Favors\",\"Derrick Favors\",\"DeMarcus Cousins\",\"Al-Farouq Aminu\",\"Gordon Hayward\",\"Gordon Hayward\",\"Paul George\",\"Ed Davis\",\"Patrick Patterson\",\"Patrick Patterson\",\"Eric Bledsoe\",\"Avery Bradley\",\"Avery Bradley\",\"Avery Bradley\",\"Quincy Pondexter\",\"Hassan Whiteside\",\"Patrick Beverley\",\"Kyrie Irving\",\"Enes Kanter\",\"Tristan Thompson\",\"Ricky Rubio\",\"Bismack Biyombo\",\"Bismack Biyombo\",\"Kemba Walker\",\"Klay Thompson\",\"Alec Burks\",\"Markieff Morris\",\"Kawhi Leonard\",\"Nikola Vucevic\",\"Tobias Harris\",\"Kenneth Faried\",\"Reggie Jackson\",\"Cory Joseph\",\"Jimmy Butler\",\"E'Twaun Moore\",\"E'Twaun Moore\",\"E'Twaun Moore\",\"Anthony Davis\",\"Jonas Valanciunas\",\"Harrison Barnes\",\"Terrence Ross\",\"Austin Rivers\",\"Austin Rivers\",\"Austin Rivers\",\"Meyers Leonard\",\"Jeremy Lamb\",\"Draymond Green\",\"Kyle O'Quinn\",\"Jae Crowder\",\"Will Barton\",\"Kent Bazemore\",\"Kent Bazemore\",\"Khris Middleton\",\"Mike Scott\",\"Aron Baynes\",\"Aron Baynes\",\"Justin Holiday\",\"Justin Holiday\",\"Nerlens Noel\",\"Ben McLemore\",\"Kentavious Caldwell-Pope\",\"Trey Burke\",\"Mason Plumlee\",\"Solomon Hill\",\"Reggie Bullock\",\"Robert Covington\",\"Matthew Dellavedova\",\"Mike Muscala\",\"Seth Curry\",\"Seth Curry\",\"Bojan Bogdanovic\",\"Julius Randle\",\"Elfrid Payton\",\"Rodney Hood\",\"Jerami Grant\",\"Joe Harris\",\"Joe Harris\",\"Spencer Dinwiddie\",\"Spencer Dinwiddie\",\"Joe Ingles\",\"JaKarr Sampson\",\"Glenn Robinson III\",\"Jordan Clarkson\",\"Dwight Powell\",\"Langston Galloway\",\"Langston Galloway\",\"Tyler Johnson\",\"JaMychal Green\",\"JaMychal Green\",\"Jahlil Okafor\",\"Willie Cauley-Stein\",\"Boban Marjanovic\",\"Montrezl Harrell\",\"Raul Neto\",\"Pat Connaughton\",\"Christian Wood\",\"Fred VanVleet\",\"Bryn Forbes\",\"Davis Bertans\",\"Patrick McCaw\",\"Quinn Cook\",\"Quinn Cook\",\"Quinn Cook\",\"Shaquille Harrison\",\"Edmond Sumner\",\"Torrey Craig\"],\"value\":[87,120,0,0,167,68,162,189,0,0,1,0,1,31,91,180,76,62,130,37,42,79,41,48,51,62,193,190,75,13,77,186,173,145,117,2,88,80,6,38,105,100,139,112,0,54,101,62,105,144,3,3,126,107,60,10,113,1,0,90,68,0,7,0,0,139,107,54,94,0,1,5,236,179,272,34,22,2,91,90,89,124,20,96,94,90,150,173,191,102,89,6,108,0,14,0,34,85,149,182,0,55,94,50,79,86,75,11,0,115,157,16,0,13,0,0,85,239,26,57,67,2,87,1,72,16,73,17,47,57,35,0,82,131,39,104,62,86,56,111,12,61,23,109,43,109,62,3,1,35,97,0,65,151,31,0,24,28,4,98,46,0,50,144,10,33,84,32,1,150,1,1,72,31,5,111,2,120,77,27,71,55,1,1,0,1,19,74,4,108,89,94,19,11,81,11,6,0,17]},\"selected\":{\"id\":\"8565\"},\"selection_policy\":{\"id\":\"8653\"}},\"id\":\"8564\",\"type\":\"ColumnDataSource\"},{\"attributes\":{},\"id\":\"6506\",\"type\":\"UnionRenderers\"},{\"attributes\":{\"line_color\":\"#1f77b4\",\"line_width\":2,\"x\":{\"field\":\"player_name\"},\"y\":{\"field\":\"value\"}},\"id\":\"7331\",\"type\":\"Line\"},{\"attributes\":{\"line_alpha\":0.1,\"line_color\":\"#8b8b8b\",\"line_width\":2,\"x\":{\"field\":\"player_name\"},\"y\":{\"field\":\"value\"}},\"id\":\"7812\",\"type\":\"Line\"},{\"attributes\":{\"coordinates\":null,\"data_source\":{\"id\":\"7808\"},\"glyph\":{\"id\":\"7811\"},\"group\":null,\"hover_glyph\":null,\"muted_glyph\":{\"id\":\"7813\"},\"nonselection_glyph\":{\"id\":\"7812\"},\"selection_glyph\":{\"id\":\"7883\"},\"view\":{\"id\":\"7815\"}},\"id\":\"7814\",\"type\":\"GlyphRenderer\"},{\"attributes\":{\"line_color\":\"#fc4f30\",\"line_width\":2,\"x\":{\"field\":\"player_name\"},\"y\":{\"field\":\"value\"}},\"id\":\"9941\",\"type\":\"Line\"},{\"attributes\":{\"source\":{\"id\":\"8382\"}},\"id\":\"8389\",\"type\":\"CDSView\"},{\"attributes\":{},\"id\":\"7879\",\"type\":\"UnionRenderers\"},{\"attributes\":{},\"id\":\"8383\",\"type\":\"Selection\"},{\"attributes\":{\"line_color\":\"#e377c2\",\"line_width\":2,\"x\":{\"field\":\"player_name\"},\"y\":{\"field\":\"value\"}},\"id\":\"7335\",\"type\":\"Line\"},{\"attributes\":{\"label\":{\"value\":\"AGE\"},\"renderers\":[{\"id\":\"7814\"}]},\"id\":\"7882\",\"type\":\"LegendItem\"},{\"attributes\":{\"line_color\":\"#fc4f30\",\"line_width\":2,\"x\":{\"field\":\"player_name\"},\"y\":{\"field\":\"value\"}},\"id\":\"6953\",\"type\":\"Line\"},{\"attributes\":{\"line_color\":\"#e5ae38\",\"line_width\":2,\"x\":{\"field\":\"player_name\"},\"y\":{\"field\":\"value\"}},\"id\":\"9945\",\"type\":\"Line\"},{\"attributes\":{\"line_alpha\":0.1,\"line_color\":\"#e377c2\",\"line_width\":2,\"x\":{\"field\":\"player_name\"},\"y\":{\"field\":\"value\"}},\"id\":\"7336\",\"type\":\"Line\"},{\"attributes\":{\"coordinates\":null,\"data_source\":{\"id\":\"7332\"},\"glyph\":{\"id\":\"7335\"},\"group\":null,\"hover_glyph\":null,\"muted_glyph\":{\"id\":\"7337\"},\"nonselection_glyph\":{\"id\":\"7336\"},\"selection_glyph\":{\"id\":\"7393\"},\"view\":{\"id\":\"7339\"}},\"id\":\"7338\",\"type\":\"GlyphRenderer\"},{\"attributes\":{\"line_alpha\":0.1,\"line_color\":\"#e5ae38\",\"line_width\":2,\"x\":{\"field\":\"player_name\"},\"y\":{\"field\":\"value\"}},\"id\":\"9946\",\"type\":\"Line\"},{\"attributes\":{\"coordinates\":null,\"data_source\":{\"id\":\"9942\"},\"glyph\":{\"id\":\"9945\"},\"group\":null,\"hover_glyph\":null,\"muted_glyph\":{\"id\":\"9947\"},\"nonselection_glyph\":{\"id\":\"9946\"},\"selection_glyph\":{\"id\":\"10061\"},\"view\":{\"id\":\"9949\"}},\"id\":\"9948\",\"type\":\"GlyphRenderer\"},{\"attributes\":{\"line_color\":\"#e5ae38\",\"line_width\":2,\"x\":{\"field\":\"player_name\"},\"y\":{\"field\":\"value\"}},\"id\":\"6957\",\"type\":\"Line\"},{\"attributes\":{\"source\":{\"id\":\"7808\"}},\"id\":\"7815\",\"type\":\"CDSView\"},{\"attributes\":{},\"id\":\"7389\",\"type\":\"UnionRenderers\"},{\"attributes\":{},\"id\":\"7809\",\"type\":\"Selection\"},{\"attributes\":{\"label\":{\"value\":\"2324_salary\"},\"renderers\":[{\"id\":\"7338\"}]},\"id\":\"7392\",\"type\":\"LegendItem\"},{\"attributes\":{},\"id\":\"10057\",\"type\":\"UnionRenderers\"},{\"attributes\":{\"line_alpha\":0.1,\"line_color\":\"#e5ae38\",\"line_width\":2,\"x\":{\"field\":\"player_name\"},\"y\":{\"field\":\"value\"}},\"id\":\"6958\",\"type\":\"Line\"},{\"attributes\":{\"data\":{\"Variable\":[\"2627_salary_predicted\",\"2627_salary_predicted\",\"2627_salary_predicted\",\"2627_salary_predicted\",\"2627_salary_predicted\",\"2627_salary_predicted\",\"2627_salary_predicted\",\"2627_salary_predicted\",\"2627_salary_predicted\",\"2627_salary_predicted\",\"2627_salary_predicted\",\"2627_salary_predicted\",\"2627_salary_predicted\",\"2627_salary_predicted\",\"2627_salary_predicted\",\"2627_salary_predicted\",\"2627_salary_predicted\",\"2627_salary_predicted\",\"2627_salary_predicted\",\"2627_salary_predicted\",\"2627_salary_predicted\",\"2627_salary_predicted\",\"2627_salary_predicted\",\"2627_salary_predicted\",\"2627_salary_predicted\",\"2627_salary_predicted\",\"2627_salary_predicted\",\"2627_salary_predicted\",\"2627_salary_predicted\",\"2627_salary_predicted\",\"2627_salary_predicted\",\"2627_salary_predicted\",\"2627_salary_predicted\",\"2627_salary_predicted\",\"2627_salary_predicted\",\"2627_salary_predicted\",\"2627_salary_predicted\",\"2627_salary_predicted\",\"2627_salary_predicted\",\"2627_salary_predicted\",\"2627_salary_predicted\",\"2627_salary_predicted\",\"2627_salary_predicted\",\"2627_salary_predicted\",\"2627_salary_predicted\",\"2627_salary_predicted\",\"2627_salary_predicted\",\"2627_salary_predicted\",\"2627_salary_predicted\",\"2627_salary_predicted\",\"2627_salary_predicted\",\"2627_salary_predicted\",\"2627_salary_predicted\",\"2627_salary_predicted\",\"2627_salary_predicted\",\"2627_salary_predicted\",\"2627_salary_predicted\",\"2627_salary_predicted\",\"2627_salary_predicted\",\"2627_salary_predicted\",\"2627_salary_predicted\",\"2627_salary_predicted\",\"2627_salary_predicted\",\"2627_salary_predicted\",\"2627_salary_predicted\",\"2627_salary_predicted\",\"2627_salary_predicted\",\"2627_salary_predicted\",\"2627_salary_predicted\",\"2627_salary_predicted\",\"2627_salary_predicted\",\"2627_salary_predicted\",\"2627_salary_predicted\",\"2627_salary_predicted\",\"2627_salary_predicted\",\"2627_salary_predicted\",\"2627_salary_predicted\",\"2627_salary_predicted\",\"2627_salary_predicted\",\"2627_salary_predicted\",\"2627_salary_predicted\",\"2627_salary_predicted\",\"2627_salary_predicted\",\"2627_salary_predicted\",\"2627_salary_predicted\",\"2627_salary_predicted\",\"2627_salary_predicted\",\"2627_salary_predicted\",\"2627_salary_predicted\",\"2627_salary_predicted\",\"2627_salary_predicted\",\"2627_salary_predicted\",\"2627_salary_predicted\",\"2627_salary_predicted\",\"2627_salary_predicted\",\"2627_salary_predicted\",\"2627_salary_predicted\",\"2627_salary_predicted\",\"2627_salary_predicted\",\"2627_salary_predicted\",\"2627_salary_predicted\",\"2627_salary_predicted\",\"2627_salary_predicted\",\"2627_salary_predicted\",\"2627_salary_predicted\",\"2627_salary_predicted\",\"2627_salary_predicted\",\"2627_salary_predicted\",\"2627_salary_predicted\",\"2627_salary_predicted\",\"2627_salary_predicted\",\"2627_salary_predicted\",\"2627_salary_predicted\",\"2627_salary_predicted\",\"2627_salary_predicted\",\"2627_salary_predicted\",\"2627_salary_predicted\",\"2627_salary_predicted\",\"2627_salary_predicted\",\"2627_salary_predicted\",\"2627_salary_predicted\",\"2627_salary_predicted\",\"2627_salary_predicted\",\"2627_salary_predicted\",\"2627_salary_predicted\",\"2627_salary_predicted\",\"2627_salary_predicted\",\"2627_salary_predicted\",\"2627_salary_predicted\",\"2627_salary_predicted\",\"2627_salary_predicted\",\"2627_salary_predicted\",\"2627_salary_predicted\",\"2627_salary_predicted\",\"2627_salary_predicted\",\"2627_salary_predicted\",\"2627_salary_predicted\",\"2627_salary_predicted\",\"2627_salary_predicted\",\"2627_salary_predicted\",\"2627_salary_predicted\",\"2627_salary_predicted\",\"2627_salary_predicted\",\"2627_salary_predicted\",\"2627_salary_predicted\",\"2627_salary_predicted\",\"2627_salary_predicted\",\"2627_salary_predicted\",\"2627_salary_predicted\",\"2627_salary_predicted\",\"2627_salary_predicted\",\"2627_salary_predicted\",\"2627_salary_predicted\",\"2627_salary_predicted\",\"2627_salary_predicted\",\"2627_salary_predicted\",\"2627_salary_predicted\",\"2627_salary_predicted\",\"2627_salary_predicted\",\"2627_salary_predicted\",\"2627_salary_predicted\",\"2627_salary_predicted\",\"2627_salary_predicted\",\"2627_salary_predicted\",\"2627_salary_predicted\",\"2627_salary_predicted\",\"2627_salary_predicted\",\"2627_salary_predicted\",\"2627_salary_predicted\",\"2627_salary_predicted\",\"2627_salary_predicted\",\"2627_salary_predicted\",\"2627_salary_predicted\",\"2627_salary_predicted\",\"2627_salary_predicted\",\"2627_salary_predicted\",\"2627_salary_predicted\",\"2627_salary_predicted\",\"2627_salary_predicted\",\"2627_salary_predicted\",\"2627_salary_predicted\",\"2627_salary_predicted\",\"2627_salary_predicted\",\"2627_salary_predicted\",\"2627_salary_predicted\",\"2627_salary_predicted\",\"2627_salary_predicted\",\"2627_salary_predicted\",\"2627_salary_predicted\",\"2627_salary_predicted\",\"2627_salary_predicted\",\"2627_salary_predicted\",\"2627_salary_predicted\",\"2627_salary_predicted\",\"2627_salary_predicted\",\"2627_salary_predicted\",\"2627_salary_predicted\",\"2627_salary_predicted\",\"2627_salary_predicted\"],\"player_name\":[\"LeBron James\",\"LeBron James\",\"Tyson Chandler\",\"Tyson Chandler\",\"Carmelo Anthony\",\"Carmelo Anthony\",\"Kyle Korver\",\"Kyle Korver\",\"Zaza Pachulia\",\"Udonis Haslem\",\"Dwight Howard\",\"Dwight Howard\",\"Dwight Howard\",\"Devin Harris\",\"Andre Iguodala\",\"Trevor Ariza\",\"Chris Paul\",\"Raymond Felton\",\"Jose Calderon\",\"LaMarcus Aldridge\",\"Rudy Gay\",\"Rudy Gay\",\"Thabo Sefolosha\",\"Thabo Sefolosha\",\"Rajon Rondo\",\"Rajon Rondo\",\"Kyle Lowry\",\"Kyle Lowry\",\"Paul Millsap\",\"Paul Millsap\",\"Paul Millsap\",\"Kevin Durant\",\"Kevin Durant\",\"Kevin Durant\",\"Kevin Durant\",\"Al Horford\",\"Al Horford\",\"Mike Conley\",\"Thaddeus Young\",\"Thaddeus Young\",\"Jared Dudley\",\"Jared Dudley\",\"Wilson Chandler\",\"Wilson Chandler\",\"Ian Mahinmi\",\"Derrick Rose\",\"Russell Westbrook\",\"Russell Westbrook\",\"Kevin Love\",\"Kevin Love\",\"Marc Gasol\",\"Marc Gasol\",\"Danilo Gallinari\",\"Danilo Gallinari\",\"Danilo Gallinari\",\"Eric Gordon\",\"Eric Gordon\",\"Brook Lopez\",\"Brook Lopez\",\"Goran Dragic\",\"Goran Dragic\",\"Robin Lopez\",\"Robin Lopez\",\"Robin Lopez\",\"JaVale McGee\",\"Nicolas Batum\",\"Nicolas Batum\",\"George Hill\",\"George Hill\",\"DeAndre Jordan\",\"DeAndre Jordan\",\"Blake Griffin\",\"James Harden\",\"James Harden\",\"Stephen Curry\",\"DeMar DeRozan\",\"James Johnson\",\"James Johnson\",\"Jrue Holiday\",\"Jeff Teague\",\"Jeff Teague\",\"Serge Ibaka\",\"Serge Ibaka\",\"Wayne Ellington\",\"Wayne Ellington\",\"Wayne Ellington\",\"Wesley Matthews\",\"Wesley Matthews\",\"Danny Green\",\"Danny Green\",\"Garrett Temple\",\"Garrett Temple\",\"John Wall\",\"Derrick Favors\",\"Derrick Favors\",\"DeMarcus Cousins\",\"Al-Farouq Aminu\",\"Gordon Hayward\",\"Gordon Hayward\",\"Paul George\",\"Ed Davis\",\"Patrick Patterson\",\"Patrick Patterson\",\"Eric Bledsoe\",\"Avery Bradley\",\"Avery Bradley\",\"Avery Bradley\",\"Quincy Pondexter\",\"Hassan Whiteside\",\"Patrick Beverley\",\"Kyrie Irving\",\"Enes Kanter\",\"Tristan Thompson\",\"Ricky Rubio\",\"Bismack Biyombo\",\"Bismack Biyombo\",\"Kemba Walker\",\"Klay Thompson\",\"Alec Burks\",\"Markieff Morris\",\"Kawhi Leonard\",\"Nikola Vucevic\",\"Tobias Harris\",\"Kenneth Faried\",\"Reggie Jackson\",\"Cory Joseph\",\"Jimmy Butler\",\"E'Twaun Moore\",\"E'Twaun Moore\",\"E'Twaun Moore\",\"Anthony Davis\",\"Jonas Valanciunas\",\"Harrison Barnes\",\"Terrence Ross\",\"Austin Rivers\",\"Austin Rivers\",\"Austin Rivers\",\"Meyers Leonard\",\"Jeremy Lamb\",\"Draymond Green\",\"Kyle O'Quinn\",\"Jae Crowder\",\"Will Barton\",\"Kent Bazemore\",\"Kent Bazemore\",\"Khris Middleton\",\"Mike Scott\",\"Aron Baynes\",\"Aron Baynes\",\"Justin Holiday\",\"Justin Holiday\",\"Nerlens Noel\",\"Ben McLemore\",\"Kentavious Caldwell-Pope\",\"Trey Burke\",\"Mason Plumlee\",\"Solomon Hill\",\"Reggie Bullock\",\"Robert Covington\",\"Matthew Dellavedova\",\"Mike Muscala\",\"Seth Curry\",\"Seth Curry\",\"Bojan Bogdanovic\",\"Julius Randle\",\"Elfrid Payton\",\"Rodney Hood\",\"Jerami Grant\",\"Joe Harris\",\"Joe Harris\",\"Spencer Dinwiddie\",\"Spencer Dinwiddie\",\"Joe Ingles\",\"JaKarr Sampson\",\"Glenn Robinson III\",\"Jordan Clarkson\",\"Dwight Powell\",\"Langston Galloway\",\"Langston Galloway\",\"Tyler Johnson\",\"JaMychal Green\",\"JaMychal Green\",\"Jahlil Okafor\",\"Willie Cauley-Stein\",\"Boban Marjanovic\",\"Montrezl Harrell\",\"Raul Neto\",\"Pat Connaughton\",\"Christian Wood\",\"Fred VanVleet\",\"Bryn Forbes\",\"Davis Bertans\",\"Patrick McCaw\",\"Quinn Cook\",\"Quinn Cook\",\"Quinn Cook\",\"Shaquille Harrison\",\"Edmond Sumner\",\"Torrey Craig\"],\"value\":[0,0,0,0,0,0,0,0,0,0,0,0,0,0,0,0,0,0,0,0,0,0,0,0,0,0,0,0,0,0,0,0,0,0,0,0,0,0,0,0,0,0,0,0,0,0,0,0,0,0,0,0,0,0,0,0,0,0,0,0,0,0,0,0,0,0,0,0,0,0,0,0,0,0,0,0,0,0,0,0,0,0,0,0,0,0,0,0,0,0,0,0,0,0,0,0,0,0,0,0,0,0,0,0,0,0,0,0,0,0,0,0,0,0,0,0,0,0,0,0,0,0,0,0,0,0,0,0,0,0,62213285,0,0,0,0,0,0,0,0,27678571,0,0,0,0,0,0,0,0,0,0,0,0,0,0,0,0,0,0,0,0,0,0,0,0,0,0,0,34206898,0,0,0,0,0,0,0,0,0,0,0,0,0,0,0,0,0,0,0,0,0,0,0,0,0,0,0,0,0,0,0]},\"selected\":{\"id\":\"7525\"},\"selection_policy\":{\"id\":\"7587\"}},\"id\":\"7524\",\"type\":\"ColumnDataSource\"},{\"attributes\":{\"label\":{\"value\":\"PF\"},\"renderers\":[{\"id\":\"9948\"}]},\"id\":\"10060\",\"type\":\"LegendItem\"},{\"attributes\":{\"coordinates\":null,\"data_source\":{\"id\":\"6954\"},\"glyph\":{\"id\":\"6957\"},\"group\":null,\"hover_glyph\":null,\"muted_glyph\":{\"id\":\"6959\"},\"nonselection_glyph\":{\"id\":\"6958\"},\"selection_glyph\":{\"id\":\"7001\"},\"view\":{\"id\":\"6961\"}},\"id\":\"6960\",\"type\":\"GlyphRenderer\"},{\"attributes\":{\"data\":{\"Variable\":[\"2324_salary\",\"2324_salary\",\"2324_salary\",\"2324_salary\",\"2324_salary\",\"2324_salary\",\"2324_salary\",\"2324_salary\",\"2324_salary\",\"2324_salary\",\"2324_salary\",\"2324_salary\",\"2324_salary\",\"2324_salary\",\"2324_salary\",\"2324_salary\",\"2324_salary\",\"2324_salary\",\"2324_salary\",\"2324_salary\",\"2324_salary\",\"2324_salary\",\"2324_salary\",\"2324_salary\",\"2324_salary\",\"2324_salary\",\"2324_salary\",\"2324_salary\",\"2324_salary\",\"2324_salary\",\"2324_salary\",\"2324_salary\",\"2324_salary\",\"2324_salary\",\"2324_salary\",\"2324_salary\",\"2324_salary\",\"2324_salary\",\"2324_salary\",\"2324_salary\",\"2324_salary\",\"2324_salary\",\"2324_salary\",\"2324_salary\",\"2324_salary\",\"2324_salary\",\"2324_salary\",\"2324_salary\",\"2324_salary\",\"2324_salary\",\"2324_salary\",\"2324_salary\",\"2324_salary\",\"2324_salary\",\"2324_salary\",\"2324_salary\",\"2324_salary\",\"2324_salary\",\"2324_salary\",\"2324_salary\",\"2324_salary\",\"2324_salary\",\"2324_salary\",\"2324_salary\",\"2324_salary\",\"2324_salary\",\"2324_salary\",\"2324_salary\",\"2324_salary\",\"2324_salary\",\"2324_salary\",\"2324_salary\",\"2324_salary\",\"2324_salary\",\"2324_salary\",\"2324_salary\",\"2324_salary\",\"2324_salary\",\"2324_salary\",\"2324_salary\",\"2324_salary\",\"2324_salary\",\"2324_salary\",\"2324_salary\",\"2324_salary\",\"2324_salary\",\"2324_salary\",\"2324_salary\",\"2324_salary\",\"2324_salary\",\"2324_salary\",\"2324_salary\",\"2324_salary\",\"2324_salary\",\"2324_salary\",\"2324_salary\",\"2324_salary\",\"2324_salary\",\"2324_salary\",\"2324_salary\",\"2324_salary\",\"2324_salary\",\"2324_salary\",\"2324_salary\",\"2324_salary\",\"2324_salary\",\"2324_salary\",\"2324_salary\",\"2324_salary\",\"2324_salary\",\"2324_salary\",\"2324_salary\",\"2324_salary\",\"2324_salary\",\"2324_salary\",\"2324_salary\",\"2324_salary\",\"2324_salary\",\"2324_salary\",\"2324_salary\",\"2324_salary\",\"2324_salary\",\"2324_salary\",\"2324_salary\",\"2324_salary\",\"2324_salary\",\"2324_salary\",\"2324_salary\",\"2324_salary\",\"2324_salary\",\"2324_salary\",\"2324_salary\",\"2324_salary\",\"2324_salary\",\"2324_salary\",\"2324_salary\",\"2324_salary\",\"2324_salary\",\"2324_salary\",\"2324_salary\",\"2324_salary\",\"2324_salary\",\"2324_salary\",\"2324_salary\",\"2324_salary\",\"2324_salary\",\"2324_salary\",\"2324_salary\",\"2324_salary\",\"2324_salary\",\"2324_salary\",\"2324_salary\",\"2324_salary\",\"2324_salary\",\"2324_salary\",\"2324_salary\",\"2324_salary\",\"2324_salary\",\"2324_salary\",\"2324_salary\",\"2324_salary\",\"2324_salary\",\"2324_salary\",\"2324_salary\",\"2324_salary\",\"2324_salary\",\"2324_salary\",\"2324_salary\",\"2324_salary\",\"2324_salary\",\"2324_salary\",\"2324_salary\",\"2324_salary\",\"2324_salary\",\"2324_salary\",\"2324_salary\",\"2324_salary\",\"2324_salary\",\"2324_salary\",\"2324_salary\",\"2324_salary\",\"2324_salary\",\"2324_salary\",\"2324_salary\",\"2324_salary\",\"2324_salary\",\"2324_salary\",\"2324_salary\",\"2324_salary\",\"2324_salary\",\"2324_salary\",\"2324_salary\",\"2324_salary\",\"2324_salary\",\"2324_salary\",\"2324_salary\",\"2324_salary\",\"2324_salary\",\"2324_salary\"],\"player_name\":[\"LeBron James\",\"LeBron James\",\"Tyson Chandler\",\"Tyson Chandler\",\"Carmelo Anthony\",\"Carmelo Anthony\",\"Kyle Korver\",\"Kyle Korver\",\"Zaza Pachulia\",\"Udonis Haslem\",\"Dwight Howard\",\"Dwight Howard\",\"Dwight Howard\",\"Devin Harris\",\"Andre Iguodala\",\"Trevor Ariza\",\"Chris Paul\",\"Raymond Felton\",\"Jose Calderon\",\"LaMarcus Aldridge\",\"Rudy Gay\",\"Rudy Gay\",\"Thabo Sefolosha\",\"Thabo Sefolosha\",\"Rajon Rondo\",\"Rajon Rondo\",\"Kyle Lowry\",\"Kyle Lowry\",\"Paul Millsap\",\"Paul Millsap\",\"Paul Millsap\",\"Kevin Durant\",\"Kevin Durant\",\"Kevin Durant\",\"Kevin Durant\",\"Al Horford\",\"Al Horford\",\"Mike Conley\",\"Thaddeus Young\",\"Thaddeus Young\",\"Jared Dudley\",\"Jared Dudley\",\"Wilson Chandler\",\"Wilson Chandler\",\"Ian Mahinmi\",\"Derrick Rose\",\"Russell Westbrook\",\"Russell Westbrook\",\"Kevin Love\",\"Kevin Love\",\"Marc Gasol\",\"Marc Gasol\",\"Danilo Gallinari\",\"Danilo Gallinari\",\"Danilo Gallinari\",\"Eric Gordon\",\"Eric Gordon\",\"Brook Lopez\",\"Brook Lopez\",\"Goran Dragic\",\"Goran Dragic\",\"Robin Lopez\",\"Robin Lopez\",\"Robin Lopez\",\"JaVale McGee\",\"Nicolas Batum\",\"Nicolas Batum\",\"George Hill\",\"George Hill\",\"DeAndre Jordan\",\"DeAndre Jordan\",\"Blake Griffin\",\"James Harden\",\"James Harden\",\"Stephen Curry\",\"DeMar DeRozan\",\"James Johnson\",\"James Johnson\",\"Jrue Holiday\",\"Jeff Teague\",\"Jeff Teague\",\"Serge Ibaka\",\"Serge Ibaka\",\"Wayne Ellington\",\"Wayne Ellington\",\"Wayne Ellington\",\"Wesley Matthews\",\"Wesley Matthews\",\"Danny Green\",\"Danny Green\",\"Garrett Temple\",\"Garrett Temple\",\"John Wall\",\"Derrick Favors\",\"Derrick Favors\",\"DeMarcus Cousins\",\"Al-Farouq Aminu\",\"Gordon Hayward\",\"Gordon Hayward\",\"Paul George\",\"Ed Davis\",\"Patrick Patterson\",\"Patrick Patterson\",\"Eric Bledsoe\",\"Avery Bradley\",\"Avery Bradley\",\"Avery Bradley\",\"Quincy Pondexter\",\"Hassan Whiteside\",\"Patrick Beverley\",\"Kyrie Irving\",\"Enes Kanter\",\"Tristan Thompson\",\"Ricky Rubio\",\"Bismack Biyombo\",\"Bismack Biyombo\",\"Kemba Walker\",\"Klay Thompson\",\"Alec Burks\",\"Markieff Morris\",\"Kawhi Leonard\",\"Nikola Vucevic\",\"Tobias Harris\",\"Kenneth Faried\",\"Reggie Jackson\",\"Cory Joseph\",\"Jimmy Butler\",\"E'Twaun Moore\",\"E'Twaun Moore\",\"E'Twaun Moore\",\"Anthony Davis\",\"Jonas Valanciunas\",\"Harrison Barnes\",\"Terrence Ross\",\"Austin Rivers\",\"Austin Rivers\",\"Austin Rivers\",\"Meyers Leonard\",\"Jeremy Lamb\",\"Draymond Green\",\"Kyle O'Quinn\",\"Jae Crowder\",\"Will Barton\",\"Kent Bazemore\",\"Kent Bazemore\",\"Khris Middleton\",\"Mike Scott\",\"Aron Baynes\",\"Aron Baynes\",\"Justin Holiday\",\"Justin Holiday\",\"Nerlens Noel\",\"Ben McLemore\",\"Kentavious Caldwell-Pope\",\"Trey Burke\",\"Mason Plumlee\",\"Solomon Hill\",\"Reggie Bullock\",\"Robert Covington\",\"Matthew Dellavedova\",\"Mike Muscala\",\"Seth Curry\",\"Seth Curry\",\"Bojan Bogdanovic\",\"Julius Randle\",\"Elfrid Payton\",\"Rodney Hood\",\"Jerami Grant\",\"Joe Harris\",\"Joe Harris\",\"Spencer Dinwiddie\",\"Spencer Dinwiddie\",\"Joe Ingles\",\"JaKarr Sampson\",\"Glenn Robinson III\",\"Jordan Clarkson\",\"Dwight Powell\",\"Langston Galloway\",\"Langston Galloway\",\"Tyler Johnson\",\"JaMychal Green\",\"JaMychal Green\",\"Jahlil Okafor\",\"Willie Cauley-Stein\",\"Boban Marjanovic\",\"Montrezl Harrell\",\"Raul Neto\",\"Pat Connaughton\",\"Christian Wood\",\"Fred VanVleet\",\"Bryn Forbes\",\"Davis Bertans\",\"Patrick McCaw\",\"Quinn Cook\",\"Quinn Cook\",\"Quinn Cook\",\"Shaquille Harrison\",\"Edmond Sumner\",\"Torrey Craig\"],\"value\":[47607350,47607350,0,0,0,0,0,0,0,0,0,0,0,0,0,0,30800000,0,0,0,6479000,6479000,0,0,0,0,29682540,29682540,0,0,0,47649433,47649433,47649433,47649433,10000000,10000000,24360000,8000000,8000000,0,0,0,0,0,3196448,3835738,3835738,3835738,3835738,0,0,6802950,6802950,6802950,3196448,3196448,25000000,25000000,0,0,3196448,3196448,3196448,5734280,11710818,11710818,0,0,3196448,3196448,0,35640000,35640000,51915615,28600000,0,0,36861707,0,0,0,0,0,0,0,3196448,3196448,0,0,3196448,3196448,0,0,0,0,0,31500000,31500000,45640084,0,0,0,1300000,0,0,0,0,0,3196448,37037037,0,0,6146342,0,0,0,43219440,10489600,0,45640084,18518519,39270150,0,5000000,3196448,45183960,0,0,0,40600080,15435000,17000000,0,0,0,0,0,0,22321429,0,3196448,0,0,0,29320988,0,0,0,3196448,3196448,3196448,0,14704938,0,5000000,0,10489600,11692308,0,3500000,4000000,4000000,20000000,28226880,0,0,27586207,19928571,19928571,20357143,20357143,11000000,0,0,23487629,4000000,0,0,0,0,0,0,0,0,2891467,0,9423869,0,40806300,0,17000000,0,0,0,0,0,0,2528233]},\"selected\":{\"id\":\"7333\"},\"selection_policy\":{\"id\":\"7389\"}},\"id\":\"7332\",\"type\":\"ColumnDataSource\"},{\"attributes\":{},\"id\":\"6997\",\"type\":\"UnionRenderers\"},{\"attributes\":{\"line_alpha\":0.2,\"line_color\":\"#6d904f\",\"line_width\":2,\"x\":{\"field\":\"player_name\"},\"y\":{\"field\":\"value\"}},\"id\":\"10067\",\"type\":\"Line\"},{\"attributes\":{\"label\":{\"value\":\"1617_salary_adjusted\"},\"renderers\":[{\"id\":\"6960\"}]},\"id\":\"7000\",\"type\":\"LegendItem\"},{\"attributes\":{\"data\":{\"Variable\":[\"1920_salary_adjusted\",\"1920_salary_adjusted\",\"1920_salary_adjusted\",\"1920_salary_adjusted\",\"1920_salary_adjusted\",\"1920_salary_adjusted\",\"1920_salary_adjusted\",\"1920_salary_adjusted\",\"1920_salary_adjusted\",\"1920_salary_adjusted\",\"1920_salary_adjusted\",\"1920_salary_adjusted\",\"1920_salary_adjusted\",\"1920_salary_adjusted\",\"1920_salary_adjusted\",\"1920_salary_adjusted\",\"1920_salary_adjusted\",\"1920_salary_adjusted\",\"1920_salary_adjusted\",\"1920_salary_adjusted\",\"1920_salary_adjusted\",\"1920_salary_adjusted\",\"1920_salary_adjusted\",\"1920_salary_adjusted\",\"1920_salary_adjusted\",\"1920_salary_adjusted\",\"1920_salary_adjusted\",\"1920_salary_adjusted\",\"1920_salary_adjusted\",\"1920_salary_adjusted\",\"1920_salary_adjusted\",\"1920_salary_adjusted\",\"1920_salary_adjusted\",\"1920_salary_adjusted\",\"1920_salary_adjusted\",\"1920_salary_adjusted\",\"1920_salary_adjusted\",\"1920_salary_adjusted\",\"1920_salary_adjusted\",\"1920_salary_adjusted\",\"1920_salary_adjusted\",\"1920_salary_adjusted\",\"1920_salary_adjusted\",\"1920_salary_adjusted\",\"1920_salary_adjusted\",\"1920_salary_adjusted\",\"1920_salary_adjusted\",\"1920_salary_adjusted\",\"1920_salary_adjusted\",\"1920_salary_adjusted\",\"1920_salary_adjusted\",\"1920_salary_adjusted\",\"1920_salary_adjusted\",\"1920_salary_adjusted\",\"1920_salary_adjusted\",\"1920_salary_adjusted\",\"1920_salary_adjusted\",\"1920_salary_adjusted\",\"1920_salary_adjusted\",\"1920_salary_adjusted\",\"1920_salary_adjusted\",\"1920_salary_adjusted\",\"1920_salary_adjusted\",\"1920_salary_adjusted\",\"1920_salary_adjusted\",\"1920_salary_adjusted\",\"1920_salary_adjusted\",\"1920_salary_adjusted\",\"1920_salary_adjusted\",\"1920_salary_adjusted\",\"1920_salary_adjusted\",\"1920_salary_adjusted\",\"1920_salary_adjusted\",\"1920_salary_adjusted\",\"1920_salary_adjusted\",\"1920_salary_adjusted\",\"1920_salary_adjusted\",\"1920_salary_adjusted\",\"1920_salary_adjusted\",\"1920_salary_adjusted\",\"1920_salary_adjusted\",\"1920_salary_adjusted\",\"1920_salary_adjusted\",\"1920_salary_adjusted\",\"1920_salary_adjusted\",\"1920_salary_adjusted\",\"1920_salary_adjusted\",\"1920_salary_adjusted\",\"1920_salary_adjusted\",\"1920_salary_adjusted\",\"1920_salary_adjusted\",\"1920_salary_adjusted\",\"1920_salary_adjusted\",\"1920_salary_adjusted\",\"1920_salary_adjusted\",\"1920_salary_adjusted\",\"1920_salary_adjusted\",\"1920_salary_adjusted\",\"1920_salary_adjusted\",\"1920_salary_adjusted\",\"1920_salary_adjusted\",\"1920_salary_adjusted\",\"1920_salary_adjusted\",\"1920_salary_adjusted\",\"1920_salary_adjusted\",\"1920_salary_adjusted\",\"1920_salary_adjusted\",\"1920_salary_adjusted\",\"1920_salary_adjusted\",\"1920_salary_adjusted\",\"1920_salary_adjusted\",\"1920_salary_adjusted\",\"1920_salary_adjusted\",\"1920_salary_adjusted\",\"1920_salary_adjusted\",\"1920_salary_adjusted\",\"1920_salary_adjusted\",\"1920_salary_adjusted\",\"1920_salary_adjusted\",\"1920_salary_adjusted\",\"1920_salary_adjusted\",\"1920_salary_adjusted\",\"1920_salary_adjusted\",\"1920_salary_adjusted\",\"1920_salary_adjusted\",\"1920_salary_adjusted\",\"1920_salary_adjusted\",\"1920_salary_adjusted\",\"1920_salary_adjusted\",\"1920_salary_adjusted\",\"1920_salary_adjusted\",\"1920_salary_adjusted\",\"1920_salary_adjusted\",\"1920_salary_adjusted\",\"1920_salary_adjusted\",\"1920_salary_adjusted\",\"1920_salary_adjusted\",\"1920_salary_adjusted\",\"1920_salary_adjusted\",\"1920_salary_adjusted\",\"1920_salary_adjusted\",\"1920_salary_adjusted\",\"1920_salary_adjusted\",\"1920_salary_adjusted\",\"1920_salary_adjusted\",\"1920_salary_adjusted\",\"1920_salary_adjusted\",\"1920_salary_adjusted\",\"1920_salary_adjusted\",\"1920_salary_adjusted\",\"1920_salary_adjusted\",\"1920_salary_adjusted\",\"1920_salary_adjusted\",\"1920_salary_adjusted\",\"1920_salary_adjusted\",\"1920_salary_adjusted\",\"1920_salary_adjusted\",\"1920_salary_adjusted\",\"1920_salary_adjusted\",\"1920_salary_adjusted\",\"1920_salary_adjusted\",\"1920_salary_adjusted\",\"1920_salary_adjusted\",\"1920_salary_adjusted\",\"1920_salary_adjusted\",\"1920_salary_adjusted\",\"1920_salary_adjusted\",\"1920_salary_adjusted\",\"1920_salary_adjusted\",\"1920_salary_adjusted\",\"1920_salary_adjusted\",\"1920_salary_adjusted\",\"1920_salary_adjusted\",\"1920_salary_adjusted\",\"1920_salary_adjusted\",\"1920_salary_adjusted\",\"1920_salary_adjusted\",\"1920_salary_adjusted\",\"1920_salary_adjusted\",\"1920_salary_adjusted\",\"1920_salary_adjusted\",\"1920_salary_adjusted\",\"1920_salary_adjusted\",\"1920_salary_adjusted\",\"1920_salary_adjusted\",\"1920_salary_adjusted\",\"1920_salary_adjusted\",\"1920_salary_adjusted\",\"1920_salary_adjusted\",\"1920_salary_adjusted\",\"1920_salary_adjusted\",\"1920_salary_adjusted\",\"1920_salary_adjusted\",\"1920_salary_adjusted\",\"1920_salary_adjusted\",\"1920_salary_adjusted\",\"1920_salary_adjusted\",\"1920_salary_adjusted\",\"1920_salary_adjusted\"],\"player_name\":[\"LeBron James\",\"LeBron James\",\"Tyson Chandler\",\"Tyson Chandler\",\"Carmelo Anthony\",\"Carmelo Anthony\",\"Kyle Korver\",\"Kyle Korver\",\"Zaza Pachulia\",\"Udonis Haslem\",\"Dwight Howard\",\"Dwight Howard\",\"Dwight Howard\",\"Devin Harris\",\"Andre Iguodala\",\"Trevor Ariza\",\"Chris Paul\",\"Raymond Felton\",\"Jose Calderon\",\"LaMarcus Aldridge\",\"Rudy Gay\",\"Rudy Gay\",\"Thabo Sefolosha\",\"Thabo Sefolosha\",\"Rajon Rondo\",\"Rajon Rondo\",\"Kyle Lowry\",\"Kyle Lowry\",\"Paul Millsap\",\"Paul Millsap\",\"Paul Millsap\",\"Kevin Durant\",\"Kevin Durant\",\"Kevin Durant\",\"Kevin Durant\",\"Al Horford\",\"Al Horford\",\"Mike Conley\",\"Thaddeus Young\",\"Thaddeus Young\",\"Jared Dudley\",\"Jared Dudley\",\"Wilson Chandler\",\"Wilson Chandler\",\"Ian Mahinmi\",\"Derrick Rose\",\"Russell Westbrook\",\"Russell Westbrook\",\"Kevin Love\",\"Kevin Love\",\"Marc Gasol\",\"Marc Gasol\",\"Danilo Gallinari\",\"Danilo Gallinari\",\"Danilo Gallinari\",\"Eric Gordon\",\"Eric Gordon\",\"Brook Lopez\",\"Brook Lopez\",\"Goran Dragic\",\"Goran Dragic\",\"Robin Lopez\",\"Robin Lopez\",\"Robin Lopez\",\"JaVale McGee\",\"Nicolas Batum\",\"Nicolas Batum\",\"George Hill\",\"George Hill\",\"DeAndre Jordan\",\"DeAndre Jordan\",\"Blake Griffin\",\"James Harden\",\"James Harden\",\"Stephen Curry\",\"DeMar DeRozan\",\"James Johnson\",\"James Johnson\",\"Jrue Holiday\",\"Jeff Teague\",\"Jeff Teague\",\"Serge Ibaka\",\"Serge Ibaka\",\"Wayne Ellington\",\"Wayne Ellington\",\"Wayne Ellington\",\"Wesley Matthews\",\"Wesley Matthews\",\"Danny Green\",\"Danny Green\",\"Garrett Temple\",\"Garrett Temple\",\"John Wall\",\"Derrick Favors\",\"Derrick Favors\",\"DeMarcus Cousins\",\"Al-Farouq Aminu\",\"Gordon Hayward\",\"Gordon Hayward\",\"Paul George\",\"Ed Davis\",\"Patrick Patterson\",\"Patrick Patterson\",\"Eric Bledsoe\",\"Avery Bradley\",\"Avery Bradley\",\"Avery Bradley\",\"Quincy Pondexter\",\"Hassan Whiteside\",\"Patrick Beverley\",\"Kyrie Irving\",\"Enes Kanter\",\"Tristan Thompson\",\"Ricky Rubio\",\"Bismack Biyombo\",\"Bismack Biyombo\",\"Kemba Walker\",\"Klay Thompson\",\"Alec Burks\",\"Markieff Morris\",\"Kawhi Leonard\",\"Nikola Vucevic\",\"Tobias Harris\",\"Kenneth Faried\",\"Reggie Jackson\",\"Cory Joseph\",\"Jimmy Butler\",\"E'Twaun Moore\",\"E'Twaun Moore\",\"E'Twaun Moore\",\"Anthony Davis\",\"Jonas Valanciunas\",\"Harrison Barnes\",\"Terrence Ross\",\"Austin Rivers\",\"Austin Rivers\",\"Austin Rivers\",\"Meyers Leonard\",\"Jeremy Lamb\",\"Draymond Green\",\"Kyle O'Quinn\",\"Jae Crowder\",\"Will Barton\",\"Kent Bazemore\",\"Kent Bazemore\",\"Khris Middleton\",\"Mike Scott\",\"Aron Baynes\",\"Aron Baynes\",\"Justin Holiday\",\"Justin Holiday\",\"Nerlens Noel\",\"Ben McLemore\",\"Kentavious Caldwell-Pope\",\"Trey Burke\",\"Mason Plumlee\",\"Solomon Hill\",\"Reggie Bullock\",\"Robert Covington\",\"Matthew Dellavedova\",\"Mike Muscala\",\"Seth Curry\",\"Seth Curry\",\"Bojan Bogdanovic\",\"Julius Randle\",\"Elfrid Payton\",\"Rodney Hood\",\"Jerami Grant\",\"Joe Harris\",\"Joe Harris\",\"Spencer Dinwiddie\",\"Spencer Dinwiddie\",\"Joe Ingles\",\"JaKarr Sampson\",\"Glenn Robinson III\",\"Jordan Clarkson\",\"Dwight Powell\",\"Langston Galloway\",\"Langston Galloway\",\"Tyler Johnson\",\"JaMychal Green\",\"JaMychal Green\",\"Jahlil Okafor\",\"Willie Cauley-Stein\",\"Boban Marjanovic\",\"Montrezl Harrell\",\"Raul Neto\",\"Pat Connaughton\",\"Christian Wood\",\"Fred VanVleet\",\"Bryn Forbes\",\"Davis Bertans\",\"Patrick McCaw\",\"Quinn Cook\",\"Quinn Cook\",\"Quinn Cook\",\"Shaquille Harrison\",\"Edmond Sumner\",\"Torrey Craig\"],\"value\":[43307655,43307655,2966954,2966954,2497605,2497605,2966954,2966954,0,2966954,2966954,2966954,2966954,0,19880142,14113187,44545016,0,0,30077284,16773870,16773870,2966954,2966954,2966954,2966954,38517776,38517776,35109446,35109446,35109446,43032497,43032497,43032497,43032497,32390922,32390922,37610051,14922960,14922960,2966954,2966954,2966954,2966954,17872907,8464527,44545016,44545016,33481605,33481605,29609583,29609583,26162100,26162100,26162100,16262244,16262244,13989435,13989435,22231625,22231625,5514554,5514554,5514554,4627274,29574319,29574319,11723092,11723092,11431216,11431216,39852360,44189315,44189315,46540848,32090120,17756472,17756472,30228956,21979554,21979554,26921025,26921025,9254549,9254549,9254549,2966954,2966954,16929054,16929054,5514554,5514554,44189315,20417849,20417849,4048865,10709827,37828768,37828768,38181442,5514554,2697230,2697230,18075291,5514554,5514554,5514554,0,31341708,14281712,36719737,5514554,21446411,18740462,19665917,19665917,37876556,37876556,2683870,2614279,37876556,32390922,37876556,0,593125,13881823,37876556,10023750,10023750,10023750,31341709,18509098,27934540,14460233,2515282,2515282,2515282,13056451,12146595,21446411,2515291,9041154,14780424,22291505,22291505,35402639,5514554,6308456,6308456,5514554,5514554,2178135,2346715,9415673,265165,16243001,15374576,4627274,13073460,11114135,2346715,8631463,8631463,19665917,20822735,9254549,6614689,10811804,8868943,8868943,12268755,12268755,13250832,2009561,2178135,15544750,11868236,8483336,8483336,211830,5514554,5514554,1969467,2518952,4048865,6940911,2009561,1993256,1903379,10811804,3325853,8097730,4627274,3470455,3470455,3470455,1874698,2313637,2313637]},\"selected\":{\"id\":\"7105\"},\"selection_policy\":{\"id\":\"7153\"}},\"id\":\"7104\",\"type\":\"ColumnDataSource\"},{\"attributes\":{\"data\":{\"Variable\":[\"1617_salary_adjusted\",\"1617_salary_adjusted\",\"1617_salary_adjusted\",\"1617_salary_adjusted\",\"1617_salary_adjusted\",\"1617_salary_adjusted\",\"1617_salary_adjusted\",\"1617_salary_adjusted\",\"1617_salary_adjusted\",\"1617_salary_adjusted\",\"1617_salary_adjusted\",\"1617_salary_adjusted\",\"1617_salary_adjusted\",\"1617_salary_adjusted\",\"1617_salary_adjusted\",\"1617_salary_adjusted\",\"1617_salary_adjusted\",\"1617_salary_adjusted\",\"1617_salary_adjusted\",\"1617_salary_adjusted\",\"1617_salary_adjusted\",\"1617_salary_adjusted\",\"1617_salary_adjusted\",\"1617_salary_adjusted\",\"1617_salary_adjusted\",\"1617_salary_adjusted\",\"1617_salary_adjusted\",\"1617_salary_adjusted\",\"1617_salary_adjusted\",\"1617_salary_adjusted\",\"1617_salary_adjusted\",\"1617_salary_adjusted\",\"1617_salary_adjusted\",\"1617_salary_adjusted\",\"1617_salary_adjusted\",\"1617_salary_adjusted\",\"1617_salary_adjusted\",\"1617_salary_adjusted\",\"1617_salary_adjusted\",\"1617_salary_adjusted\",\"1617_salary_adjusted\",\"1617_salary_adjusted\",\"1617_salary_adjusted\",\"1617_salary_adjusted\",\"1617_salary_adjusted\",\"1617_salary_adjusted\",\"1617_salary_adjusted\",\"1617_salary_adjusted\",\"1617_salary_adjusted\",\"1617_salary_adjusted\",\"1617_salary_adjusted\",\"1617_salary_adjusted\",\"1617_salary_adjusted\",\"1617_salary_adjusted\",\"1617_salary_adjusted\",\"1617_salary_adjusted\",\"1617_salary_adjusted\",\"1617_salary_adjusted\",\"1617_salary_adjusted\",\"1617_salary_adjusted\",\"1617_salary_adjusted\",\"1617_salary_adjusted\",\"1617_salary_adjusted\",\"1617_salary_adjusted\",\"1617_salary_adjusted\",\"1617_salary_adjusted\",\"1617_salary_adjusted\",\"1617_salary_adjusted\",\"1617_salary_adjusted\",\"1617_salary_adjusted\",\"1617_salary_adjusted\",\"1617_salary_adjusted\",\"1617_salary_adjusted\",\"1617_salary_adjusted\",\"1617_salary_adjusted\",\"1617_salary_adjusted\",\"1617_salary_adjusted\",\"1617_salary_adjusted\",\"1617_salary_adjusted\",\"1617_salary_adjusted\",\"1617_salary_adjusted\",\"1617_salary_adjusted\",\"1617_salary_adjusted\",\"1617_salary_adjusted\",\"1617_salary_adjusted\",\"1617_salary_adjusted\",\"1617_salary_adjusted\",\"1617_salary_adjusted\",\"1617_salary_adjusted\",\"1617_salary_adjusted\",\"1617_salary_adjusted\",\"1617_salary_adjusted\",\"1617_salary_adjusted\",\"1617_salary_adjusted\",\"1617_salary_adjusted\",\"1617_salary_adjusted\",\"1617_salary_adjusted\",\"1617_salary_adjusted\",\"1617_salary_adjusted\",\"1617_salary_adjusted\",\"1617_salary_adjusted\",\"1617_salary_adjusted\",\"1617_salary_adjusted\",\"1617_salary_adjusted\",\"1617_salary_adjusted\",\"1617_salary_adjusted\",\"1617_salary_adjusted\",\"1617_salary_adjusted\",\"1617_salary_adjusted\",\"1617_salary_adjusted\",\"1617_salary_adjusted\",\"1617_salary_adjusted\",\"1617_salary_adjusted\",\"1617_salary_adjusted\",\"1617_salary_adjusted\",\"1617_salary_adjusted\",\"1617_salary_adjusted\",\"1617_salary_adjusted\",\"1617_salary_adjusted\",\"1617_salary_adjusted\",\"1617_salary_adjusted\",\"1617_salary_adjusted\",\"1617_salary_adjusted\",\"1617_salary_adjusted\",\"1617_salary_adjusted\",\"1617_salary_adjusted\",\"1617_salary_adjusted\",\"1617_salary_adjusted\",\"1617_salary_adjusted\",\"1617_salary_adjusted\",\"1617_salary_adjusted\",\"1617_salary_adjusted\",\"1617_salary_adjusted\",\"1617_salary_adjusted\",\"1617_salary_adjusted\",\"1617_salary_adjusted\",\"1617_salary_adjusted\",\"1617_salary_adjusted\",\"1617_salary_adjusted\",\"1617_salary_adjusted\",\"1617_salary_adjusted\",\"1617_salary_adjusted\",\"1617_salary_adjusted\",\"1617_salary_adjusted\",\"1617_salary_adjusted\",\"1617_salary_adjusted\",\"1617_salary_adjusted\",\"1617_salary_adjusted\",\"1617_salary_adjusted\",\"1617_salary_adjusted\",\"1617_salary_adjusted\",\"1617_salary_adjusted\",\"1617_salary_adjusted\",\"1617_salary_adjusted\",\"1617_salary_adjusted\",\"1617_salary_adjusted\",\"1617_salary_adjusted\",\"1617_salary_adjusted\",\"1617_salary_adjusted\",\"1617_salary_adjusted\",\"1617_salary_adjusted\",\"1617_salary_adjusted\",\"1617_salary_adjusted\",\"1617_salary_adjusted\",\"1617_salary_adjusted\",\"1617_salary_adjusted\",\"1617_salary_adjusted\",\"1617_salary_adjusted\",\"1617_salary_adjusted\",\"1617_salary_adjusted\",\"1617_salary_adjusted\",\"1617_salary_adjusted\",\"1617_salary_adjusted\",\"1617_salary_adjusted\",\"1617_salary_adjusted\",\"1617_salary_adjusted\",\"1617_salary_adjusted\",\"1617_salary_adjusted\",\"1617_salary_adjusted\",\"1617_salary_adjusted\",\"1617_salary_adjusted\",\"1617_salary_adjusted\",\"1617_salary_adjusted\",\"1617_salary_adjusted\",\"1617_salary_adjusted\",\"1617_salary_adjusted\",\"1617_salary_adjusted\",\"1617_salary_adjusted\",\"1617_salary_adjusted\",\"1617_salary_adjusted\",\"1617_salary_adjusted\",\"1617_salary_adjusted\",\"1617_salary_adjusted\",\"1617_salary_adjusted\",\"1617_salary_adjusted\",\"1617_salary_adjusted\",\"1617_salary_adjusted\",\"1617_salary_adjusted\",\"1617_salary_adjusted\"],\"player_name\":[\"LeBron James\",\"LeBron James\",\"Tyson Chandler\",\"Tyson Chandler\",\"Carmelo Anthony\",\"Carmelo Anthony\",\"Kyle Korver\",\"Kyle Korver\",\"Zaza Pachulia\",\"Udonis Haslem\",\"Dwight Howard\",\"Dwight Howard\",\"Dwight Howard\",\"Devin Harris\",\"Andre Iguodala\",\"Trevor Ariza\",\"Chris Paul\",\"Raymond Felton\",\"Jose Calderon\",\"LaMarcus Aldridge\",\"Rudy Gay\",\"Rudy Gay\",\"Thabo Sefolosha\",\"Thabo Sefolosha\",\"Rajon Rondo\",\"Rajon Rondo\",\"Kyle Lowry\",\"Kyle Lowry\",\"Paul Millsap\",\"Paul Millsap\",\"Paul Millsap\",\"Kevin Durant\",\"Kevin Durant\",\"Kevin Durant\",\"Kevin Durant\",\"Al Horford\",\"Al Horford\",\"Mike Conley\",\"Thaddeus Young\",\"Thaddeus Young\",\"Jared Dudley\",\"Jared Dudley\",\"Wilson Chandler\",\"Wilson Chandler\",\"Ian Mahinmi\",\"Derrick Rose\",\"Russell Westbrook\",\"Russell Westbrook\",\"Kevin Love\",\"Kevin Love\",\"Marc Gasol\",\"Marc Gasol\",\"Danilo Gallinari\",\"Danilo Gallinari\",\"Danilo Gallinari\",\"Eric Gordon\",\"Eric Gordon\",\"Brook Lopez\",\"Brook Lopez\",\"Goran Dragic\",\"Goran Dragic\",\"Robin Lopez\",\"Robin Lopez\",\"Robin Lopez\",\"JaVale McGee\",\"Nicolas Batum\",\"Nicolas Batum\",\"George Hill\",\"George Hill\",\"DeAndre Jordan\",\"DeAndre Jordan\",\"Blake Griffin\",\"James Harden\",\"James Harden\",\"Stephen Curry\",\"DeMar DeRozan\",\"James Johnson\",\"James Johnson\",\"Jrue Holiday\",\"Jeff Teague\",\"Jeff Teague\",\"Serge Ibaka\",\"Serge Ibaka\",\"Wayne Ellington\",\"Wayne Ellington\",\"Wayne Ellington\",\"Wesley Matthews\",\"Wesley Matthews\",\"Danny Green\",\"Danny Green\",\"Garrett Temple\",\"Garrett Temple\",\"John Wall\",\"Derrick Favors\",\"Derrick Favors\",\"DeMarcus Cousins\",\"Al-Farouq Aminu\",\"Gordon Hayward\",\"Gordon Hayward\",\"Paul George\",\"Ed Davis\",\"Patrick Patterson\",\"Patrick Patterson\",\"Eric Bledsoe\",\"Avery Bradley\",\"Avery Bradley\",\"Avery Bradley\",\"Quincy Pondexter\",\"Hassan Whiteside\",\"Patrick Beverley\",\"Kyrie Irving\",\"Enes Kanter\",\"Tristan Thompson\",\"Ricky Rubio\",\"Bismack Biyombo\",\"Bismack Biyombo\",\"Kemba Walker\",\"Klay Thompson\",\"Alec Burks\",\"Markieff Morris\",\"Kawhi Leonard\",\"Nikola Vucevic\",\"Tobias Harris\",\"Kenneth Faried\",\"Reggie Jackson\",\"Cory Joseph\",\"Jimmy Butler\",\"E'Twaun Moore\",\"E'Twaun Moore\",\"E'Twaun Moore\",\"Anthony Davis\",\"Jonas Valanciunas\",\"Harrison Barnes\",\"Terrence Ross\",\"Austin Rivers\",\"Austin Rivers\",\"Austin Rivers\",\"Meyers Leonard\",\"Jeremy Lamb\",\"Draymond Green\",\"Kyle O'Quinn\",\"Jae Crowder\",\"Will Barton\",\"Kent Bazemore\",\"Kent Bazemore\",\"Khris Middleton\",\"Mike Scott\",\"Aron Baynes\",\"Aron Baynes\",\"Justin Holiday\",\"Justin Holiday\",\"Nerlens Noel\",\"Ben McLemore\",\"Kentavious Caldwell-Pope\",\"Trey Burke\",\"Mason Plumlee\",\"Solomon Hill\",\"Reggie Bullock\",\"Robert Covington\",\"Matthew Dellavedova\",\"Mike Muscala\",\"Seth Curry\",\"Seth Curry\",\"Bojan Bogdanovic\",\"Julius Randle\",\"Elfrid Payton\",\"Rodney Hood\",\"Jerami Grant\",\"Joe Harris\",\"Joe Harris\",\"Spencer Dinwiddie\",\"Spencer Dinwiddie\",\"Joe Ingles\",\"JaKarr Sampson\",\"Glenn Robinson III\",\"Jordan Clarkson\",\"Dwight Powell\",\"Langston Galloway\",\"Langston Galloway\",\"Tyler Johnson\",\"JaMychal Green\",\"JaMychal Green\",\"Jahlil Okafor\",\"Willie Cauley-Stein\",\"Boban Marjanovic\",\"Montrezl Harrell\",\"Raul Neto\",\"Pat Connaughton\",\"Christian Wood\",\"Fred VanVleet\",\"Bryn Forbes\",\"Davis Bertans\",\"Patrick McCaw\",\"Quinn Cook\",\"Quinn Cook\",\"Quinn Cook\",\"Shaquille Harrison\",\"Edmond Sumner\",\"Torrey Craig\"],\"value\":[38066911,38066911,15263179,15263179,30193655,30193655,6441439,6441439,3562842,4917657,28891238,28891238,28891238,5197959,13685064,9589432,28115265,1907631,9476851,25295207,16392191,16392191,4917657,4917657,17211801,17211801,14752972,14752972,24676846,24676846,24676846,32628781,32628781,32628781,32628781,32628781,32628781,32628781,14849668,14849668,12871968,12871968,13810191,13810191,19670630,26215113,32628781,32628781,26021385,26021385,26021385,26021385,18502686,18502686,18502686,15227114,15227114,26021385,26021385,19537515,19537515,16251936,16251936,16251936,1725619,25657344,25657344,9835315,9835315,26021385,26021385,24702702,32628781,32628781,14891108,32628781,4917657,4917657,13523558,9835315,9835315,15060326,15060326,7376486,7376486,7376486,21079340,21079340,12294144,12294144,9835315,9835315,19371191,13585029,13585029,19371191,9443088,19760549,19760549,22252400,8196096,7437957,7437957,17211801,10166842,10166842,10166842,4447994,27190650,7376486,21684488,21079340,18847457,16474152,20900044,20900044,14752972,20486439,12176728,9097666,21684488,14445619,21145927,14849668,18387763,8993166,21578938,10820522,10820522,10820522,27190650,17681466,27190650,12294144,13523558,13523558,13523558,11327189,8605900,18847457,4817767,7728600,4343930,19339102,19339102,18687098,4098047,7991193,7991193,1248711,1248711,5390355,4928577,4522178,4163531,2862728,14395954,2773121,1248711,11811598,1248711,3562842,3562842,4392722,4016644,3213197,1729195,1205355,1205355,1205355,893381,893381,2581770,0,1291499,15367680,10296345,6392954,6392954,6919144,1205355,1205355,5887468,4365847,6919144,1284738,1079179,1075290,1075290,668151,668151,668151,668151,117904,117904,117904,0,0,0]},\"selected\":{\"id\":\"6955\"},\"selection_policy\":{\"id\":\"6997\"}},\"id\":\"6954\",\"type\":\"ColumnDataSource\"},{\"attributes\":{\"line_color\":\"#bcbd22\",\"line_width\":2,\"x\":{\"field\":\"player_name\"},\"y\":{\"field\":\"value\"}},\"id\":\"8471\",\"type\":\"Line\"},{\"attributes\":{\"source\":{\"id\":\"7332\"}},\"id\":\"7339\",\"type\":\"CDSView\"},{\"attributes\":{},\"id\":\"7333\",\"type\":\"Selection\"},{\"attributes\":{\"source\":{\"id\":\"9942\"}},\"id\":\"9949\",\"type\":\"CDSView\"},{\"attributes\":{\"data\":{\"Variable\":[\"FGM\",\"FGM\",\"FGM\",\"FGM\",\"FGM\",\"FGM\",\"FGM\",\"FGM\",\"FGM\",\"FGM\",\"FGM\",\"FGM\",\"FGM\",\"FGM\",\"FGM\",\"FGM\",\"FGM\",\"FGM\",\"FGM\",\"FGM\",\"FGM\",\"FGM\",\"FGM\",\"FGM\",\"FGM\",\"FGM\",\"FGM\",\"FGM\",\"FGM\",\"FGM\",\"FGM\",\"FGM\",\"FGM\",\"FGM\",\"FGM\",\"FGM\",\"FGM\",\"FGM\",\"FGM\",\"FGM\",\"FGM\",\"FGM\",\"FGM\",\"FGM\",\"FGM\",\"FGM\",\"FGM\",\"FGM\",\"FGM\",\"FGM\",\"FGM\",\"FGM\",\"FGM\",\"FGM\",\"FGM\",\"FGM\",\"FGM\",\"FGM\",\"FGM\",\"FGM\",\"FGM\",\"FGM\",\"FGM\",\"FGM\",\"FGM\",\"FGM\",\"FGM\",\"FGM\",\"FGM\",\"FGM\",\"FGM\",\"FGM\",\"FGM\",\"FGM\",\"FGM\",\"FGM\",\"FGM\",\"FGM\",\"FGM\",\"FGM\",\"FGM\",\"FGM\",\"FGM\",\"FGM\",\"FGM\",\"FGM\",\"FGM\",\"FGM\",\"FGM\",\"FGM\",\"FGM\",\"FGM\",\"FGM\",\"FGM\",\"FGM\",\"FGM\",\"FGM\",\"FGM\",\"FGM\",\"FGM\",\"FGM\",\"FGM\",\"FGM\",\"FGM\",\"FGM\",\"FGM\",\"FGM\",\"FGM\",\"FGM\",\"FGM\",\"FGM\",\"FGM\",\"FGM\",\"FGM\",\"FGM\",\"FGM\",\"FGM\",\"FGM\",\"FGM\",\"FGM\",\"FGM\",\"FGM\",\"FGM\",\"FGM\",\"FGM\",\"FGM\",\"FGM\",\"FGM\",\"FGM\",\"FGM\",\"FGM\",\"FGM\",\"FGM\",\"FGM\",\"FGM\",\"FGM\",\"FGM\",\"FGM\",\"FGM\",\"FGM\",\"FGM\",\"FGM\",\"FGM\",\"FGM\",\"FGM\",\"FGM\",\"FGM\",\"FGM\",\"FGM\",\"FGM\",\"FGM\",\"FGM\",\"FGM\",\"FGM\",\"FGM\",\"FGM\",\"FGM\",\"FGM\",\"FGM\",\"FGM\",\"FGM\",\"FGM\",\"FGM\",\"FGM\",\"FGM\",\"FGM\",\"FGM\",\"FGM\",\"FGM\",\"FGM\",\"FGM\",\"FGM\",\"FGM\",\"FGM\",\"FGM\",\"FGM\",\"FGM\",\"FGM\",\"FGM\",\"FGM\",\"FGM\",\"FGM\",\"FGM\",\"FGM\",\"FGM\",\"FGM\",\"FGM\",\"FGM\",\"FGM\",\"FGM\",\"FGM\",\"FGM\",\"FGM\",\"FGM\",\"FGM\",\"FGM\",\"FGM\",\"FGM\",\"FGM\"],\"player_name\":[\"LeBron James\",\"LeBron James\",\"Tyson Chandler\",\"Tyson Chandler\",\"Carmelo Anthony\",\"Carmelo Anthony\",\"Kyle Korver\",\"Kyle Korver\",\"Zaza Pachulia\",\"Udonis Haslem\",\"Dwight Howard\",\"Dwight Howard\",\"Dwight Howard\",\"Devin Harris\",\"Andre Iguodala\",\"Trevor Ariza\",\"Chris Paul\",\"Raymond Felton\",\"Jose Calderon\",\"LaMarcus Aldridge\",\"Rudy Gay\",\"Rudy Gay\",\"Thabo Sefolosha\",\"Thabo Sefolosha\",\"Rajon Rondo\",\"Rajon Rondo\",\"Kyle Lowry\",\"Kyle Lowry\",\"Paul Millsap\",\"Paul Millsap\",\"Paul Millsap\",\"Kevin Durant\",\"Kevin Durant\",\"Kevin Durant\",\"Kevin Durant\",\"Al Horford\",\"Al Horford\",\"Mike Conley\",\"Thaddeus Young\",\"Thaddeus Young\",\"Jared Dudley\",\"Jared Dudley\",\"Wilson Chandler\",\"Wilson Chandler\",\"Ian Mahinmi\",\"Derrick Rose\",\"Russell Westbrook\",\"Russell Westbrook\",\"Kevin Love\",\"Kevin Love\",\"Marc Gasol\",\"Marc Gasol\",\"Danilo Gallinari\",\"Danilo Gallinari\",\"Danilo Gallinari\",\"Eric Gordon\",\"Eric Gordon\",\"Brook Lopez\",\"Brook Lopez\",\"Goran Dragic\",\"Goran Dragic\",\"Robin Lopez\",\"Robin Lopez\",\"Robin Lopez\",\"JaVale McGee\",\"Nicolas Batum\",\"Nicolas Batum\",\"George Hill\",\"George Hill\",\"DeAndre Jordan\",\"DeAndre Jordan\",\"Blake Griffin\",\"James Harden\",\"James Harden\",\"Stephen Curry\",\"DeMar DeRozan\",\"James Johnson\",\"James Johnson\",\"Jrue Holiday\",\"Jeff Teague\",\"Jeff Teague\",\"Serge Ibaka\",\"Serge Ibaka\",\"Wayne Ellington\",\"Wayne Ellington\",\"Wayne Ellington\",\"Wesley Matthews\",\"Wesley Matthews\",\"Danny Green\",\"Danny Green\",\"Garrett Temple\",\"Garrett Temple\",\"John Wall\",\"Derrick Favors\",\"Derrick Favors\",\"DeMarcus Cousins\",\"Al-Farouq Aminu\",\"Gordon Hayward\",\"Gordon Hayward\",\"Paul George\",\"Ed Davis\",\"Patrick Patterson\",\"Patrick Patterson\",\"Eric Bledsoe\",\"Avery Bradley\",\"Avery Bradley\",\"Avery Bradley\",\"Quincy Pondexter\",\"Hassan Whiteside\",\"Patrick Beverley\",\"Kyrie Irving\",\"Enes Kanter\",\"Tristan Thompson\",\"Ricky Rubio\",\"Bismack Biyombo\",\"Bismack Biyombo\",\"Kemba Walker\",\"Klay Thompson\",\"Alec Burks\",\"Markieff Morris\",\"Kawhi Leonard\",\"Nikola Vucevic\",\"Tobias Harris\",\"Kenneth Faried\",\"Reggie Jackson\",\"Cory Joseph\",\"Jimmy Butler\",\"E'Twaun Moore\",\"E'Twaun Moore\",\"E'Twaun Moore\",\"Anthony Davis\",\"Jonas Valanciunas\",\"Harrison Barnes\",\"Terrence Ross\",\"Austin Rivers\",\"Austin Rivers\",\"Austin Rivers\",\"Meyers Leonard\",\"Jeremy Lamb\",\"Draymond Green\",\"Kyle O'Quinn\",\"Jae Crowder\",\"Will Barton\",\"Kent Bazemore\",\"Kent Bazemore\",\"Khris Middleton\",\"Mike Scott\",\"Aron Baynes\",\"Aron Baynes\",\"Justin Holiday\",\"Justin Holiday\",\"Nerlens Noel\",\"Ben McLemore\",\"Kentavious Caldwell-Pope\",\"Trey Burke\",\"Mason Plumlee\",\"Solomon Hill\",\"Reggie Bullock\",\"Robert Covington\",\"Matthew Dellavedova\",\"Mike Muscala\",\"Seth Curry\",\"Seth Curry\",\"Bojan Bogdanovic\",\"Julius Randle\",\"Elfrid Payton\",\"Rodney Hood\",\"Jerami Grant\",\"Joe Harris\",\"Joe Harris\",\"Spencer Dinwiddie\",\"Spencer Dinwiddie\",\"Joe Ingles\",\"JaKarr Sampson\",\"Glenn Robinson III\",\"Jordan Clarkson\",\"Dwight Powell\",\"Langston Galloway\",\"Langston Galloway\",\"Tyler Johnson\",\"JaMychal Green\",\"JaMychal Green\",\"Jahlil Okafor\",\"Willie Cauley-Stein\",\"Boban Marjanovic\",\"Montrezl Harrell\",\"Raul Neto\",\"Pat Connaughton\",\"Christian Wood\",\"Fred VanVleet\",\"Bryn Forbes\",\"Davis Bertans\",\"Patrick McCaw\",\"Quinn Cook\",\"Quinn Cook\",\"Quinn Cook\",\"Shaquille Harrison\",\"Edmond Sumner\",\"Torrey Craig\"],\"value\":[737,624,266,293,743,441,239,277,114,74,506,372,470,96,396,389,412,261,312,659,201,508,174,141,175,355,426,457,430,429,443,698,630,711,551,513,529,423,458,451,300,233,418,429,130,302,656,578,474,413,530,364,335,228,193,63,231,506,38,502,277,234,304,124,307,372,289,168,289,234,379,577,710,585,626,548,143,117,555,402,439,471,446,218,226,254,279,337,322,211,201,51,579,390,395,591,147,426,545,577,282,225,154,265,361,248,259,31,413,204,578,482,267,78,101,156,378,602,121,512,394,631,442,373,432,207,421,43,187,195,560,303,295,270,203,232,226,195,230,339,119,229,150,320,147,406,301,210,185,91,233,55,180,325,116,334,93,54,6,207,170,0,102,376,504,179,292,244,1,305,19,19,147,146,26,475,146,207,231,118,230,250,77,412,105,348,69,165,22,232,209,161,92,33,204,33,59,1,62]},\"selected\":{\"id\":\"8295\"},\"selection_policy\":{\"id\":\"8377\"}},\"id\":\"8294\",\"type\":\"ColumnDataSource\"},{\"attributes\":{\"line_color\":\"#30a2da\",\"line_width\":2,\"x\":{\"field\":\"player_name\"},\"y\":{\"field\":\"value\"}},\"id\":\"8475\",\"type\":\"Line\"},{\"attributes\":{},\"id\":\"9943\",\"type\":\"Selection\"},{\"attributes\":{\"active_drag\":{\"id\":\"6473\"},\"active_scroll\":{\"id\":\"6474\"},\"tools\":[{\"id\":\"6404\"},{\"id\":\"6472\"},{\"id\":\"6473\"},{\"id\":\"6474\"},{\"id\":\"6475\"},{\"id\":\"6476\"}]},\"id\":\"6478\",\"type\":\"Toolbar\"},{\"attributes\":{\"source\":{\"id\":\"6954\"}},\"id\":\"6961\",\"type\":\"CDSView\"},{\"attributes\":{\"line_color\":\"#8b8b8b\",\"line_width\":2,\"x\":{\"field\":\"player_name\"},\"y\":{\"field\":\"value\"}},\"id\":\"7883\",\"type\":\"Line\"},{\"attributes\":{\"line_alpha\":0.1,\"line_color\":\"#30a2da\",\"line_width\":2,\"x\":{\"field\":\"player_name\"},\"y\":{\"field\":\"value\"}},\"id\":\"8476\",\"type\":\"Line\"},{\"attributes\":{\"coordinates\":null,\"data_source\":{\"id\":\"8472\"},\"glyph\":{\"id\":\"8475\"},\"group\":null,\"hover_glyph\":null,\"muted_glyph\":{\"id\":\"8477\"},\"nonselection_glyph\":{\"id\":\"8476\"},\"selection_glyph\":{\"id\":\"8563\"},\"view\":{\"id\":\"8479\"}},\"id\":\"8478\",\"type\":\"GlyphRenderer\"},{\"attributes\":{},\"id\":\"6489\",\"type\":\"BasicTickFormatter\"},{\"attributes\":{},\"id\":\"6955\",\"type\":\"Selection\"},{\"attributes\":{},\"id\":\"8559\",\"type\":\"UnionRenderers\"},{\"attributes\":{\"line_color\":\"#17becf\",\"line_width\":2,\"x\":{\"field\":\"player_name\"},\"y\":{\"field\":\"value\"}},\"id\":\"7887\",\"type\":\"Line\"},{\"attributes\":{\"label\":{\"value\":\"FG%\"},\"renderers\":[{\"id\":\"8478\"}]},\"id\":\"8562\",\"type\":\"LegendItem\"},{\"attributes\":{\"data\":{\"Variable\":[\"3P%\",\"3P%\",\"3P%\",\"3P%\",\"3P%\",\"3P%\",\"3P%\",\"3P%\",\"3P%\",\"3P%\",\"3P%\",\"3P%\",\"3P%\",\"3P%\",\"3P%\",\"3P%\",\"3P%\",\"3P%\",\"3P%\",\"3P%\",\"3P%\",\"3P%\",\"3P%\",\"3P%\",\"3P%\",\"3P%\",\"3P%\",\"3P%\",\"3P%\",\"3P%\",\"3P%\",\"3P%\",\"3P%\",\"3P%\",\"3P%\",\"3P%\",\"3P%\",\"3P%\",\"3P%\",\"3P%\",\"3P%\",\"3P%\",\"3P%\",\"3P%\",\"3P%\",\"3P%\",\"3P%\",\"3P%\",\"3P%\",\"3P%\",\"3P%\",\"3P%\",\"3P%\",\"3P%\",\"3P%\",\"3P%\",\"3P%\",\"3P%\",\"3P%\",\"3P%\",\"3P%\",\"3P%\",\"3P%\",\"3P%\",\"3P%\",\"3P%\",\"3P%\",\"3P%\",\"3P%\",\"3P%\",\"3P%\",\"3P%\",\"3P%\",\"3P%\",\"3P%\",\"3P%\",\"3P%\",\"3P%\",\"3P%\",\"3P%\",\"3P%\",\"3P%\",\"3P%\",\"3P%\",\"3P%\",\"3P%\",\"3P%\",\"3P%\",\"3P%\",\"3P%\",\"3P%\",\"3P%\",\"3P%\",\"3P%\",\"3P%\",\"3P%\",\"3P%\",\"3P%\",\"3P%\",\"3P%\",\"3P%\",\"3P%\",\"3P%\",\"3P%\",\"3P%\",\"3P%\",\"3P%\",\"3P%\",\"3P%\",\"3P%\",\"3P%\",\"3P%\",\"3P%\",\"3P%\",\"3P%\",\"3P%\",\"3P%\",\"3P%\",\"3P%\",\"3P%\",\"3P%\",\"3P%\",\"3P%\",\"3P%\",\"3P%\",\"3P%\",\"3P%\",\"3P%\",\"3P%\",\"3P%\",\"3P%\",\"3P%\",\"3P%\",\"3P%\",\"3P%\",\"3P%\",\"3P%\",\"3P%\",\"3P%\",\"3P%\",\"3P%\",\"3P%\",\"3P%\",\"3P%\",\"3P%\",\"3P%\",\"3P%\",\"3P%\",\"3P%\",\"3P%\",\"3P%\",\"3P%\",\"3P%\",\"3P%\",\"3P%\",\"3P%\",\"3P%\",\"3P%\",\"3P%\",\"3P%\",\"3P%\",\"3P%\",\"3P%\",\"3P%\",\"3P%\",\"3P%\",\"3P%\",\"3P%\",\"3P%\",\"3P%\",\"3P%\",\"3P%\",\"3P%\",\"3P%\",\"3P%\",\"3P%\",\"3P%\",\"3P%\",\"3P%\",\"3P%\",\"3P%\",\"3P%\",\"3P%\",\"3P%\",\"3P%\",\"3P%\",\"3P%\",\"3P%\",\"3P%\",\"3P%\",\"3P%\",\"3P%\",\"3P%\",\"3P%\",\"3P%\",\"3P%\",\"3P%\",\"3P%\",\"3P%\"],\"player_name\":[\"LeBron James\",\"LeBron James\",\"Tyson Chandler\",\"Tyson Chandler\",\"Carmelo Anthony\",\"Carmelo Anthony\",\"Kyle Korver\",\"Kyle Korver\",\"Zaza Pachulia\",\"Udonis Haslem\",\"Dwight Howard\",\"Dwight Howard\",\"Dwight Howard\",\"Devin Harris\",\"Andre Iguodala\",\"Trevor Ariza\",\"Chris Paul\",\"Raymond Felton\",\"Jose Calderon\",\"LaMarcus Aldridge\",\"Rudy Gay\",\"Rudy Gay\",\"Thabo Sefolosha\",\"Thabo Sefolosha\",\"Rajon Rondo\",\"Rajon Rondo\",\"Kyle Lowry\",\"Kyle Lowry\",\"Paul Millsap\",\"Paul Millsap\",\"Paul Millsap\",\"Kevin Durant\",\"Kevin Durant\",\"Kevin Durant\",\"Kevin Durant\",\"Al Horford\",\"Al Horford\",\"Mike Conley\",\"Thaddeus Young\",\"Thaddeus Young\",\"Jared Dudley\",\"Jared Dudley\",\"Wilson Chandler\",\"Wilson Chandler\",\"Ian Mahinmi\",\"Derrick Rose\",\"Russell Westbrook\",\"Russell Westbrook\",\"Kevin Love\",\"Kevin Love\",\"Marc Gasol\",\"Marc Gasol\",\"Danilo Gallinari\",\"Danilo Gallinari\",\"Danilo Gallinari\",\"Eric Gordon\",\"Eric Gordon\",\"Brook Lopez\",\"Brook Lopez\",\"Goran Dragic\",\"Goran Dragic\",\"Robin Lopez\",\"Robin Lopez\",\"Robin Lopez\",\"JaVale McGee\",\"Nicolas Batum\",\"Nicolas Batum\",\"George Hill\",\"George Hill\",\"DeAndre Jordan\",\"DeAndre Jordan\",\"Blake Griffin\",\"James Harden\",\"James Harden\",\"Stephen Curry\",\"DeMar DeRozan\",\"James Johnson\",\"James Johnson\",\"Jrue Holiday\",\"Jeff Teague\",\"Jeff Teague\",\"Serge Ibaka\",\"Serge Ibaka\",\"Wayne Ellington\",\"Wayne Ellington\",\"Wayne Ellington\",\"Wesley Matthews\",\"Wesley Matthews\",\"Danny Green\",\"Danny Green\",\"Garrett Temple\",\"Garrett Temple\",\"John Wall\",\"Derrick Favors\",\"Derrick Favors\",\"DeMarcus Cousins\",\"Al-Farouq Aminu\",\"Gordon Hayward\",\"Gordon Hayward\",\"Paul George\",\"Ed Davis\",\"Patrick Patterson\",\"Patrick Patterson\",\"Eric Bledsoe\",\"Avery Bradley\",\"Avery Bradley\",\"Avery Bradley\",\"Quincy Pondexter\",\"Hassan Whiteside\",\"Patrick Beverley\",\"Kyrie Irving\",\"Enes Kanter\",\"Tristan Thompson\",\"Ricky Rubio\",\"Bismack Biyombo\",\"Bismack Biyombo\",\"Kemba Walker\",\"Klay Thompson\",\"Alec Burks\",\"Markieff Morris\",\"Kawhi Leonard\",\"Nikola Vucevic\",\"Tobias Harris\",\"Kenneth Faried\",\"Reggie Jackson\",\"Cory Joseph\",\"Jimmy Butler\",\"E'Twaun Moore\",\"E'Twaun Moore\",\"E'Twaun Moore\",\"Anthony Davis\",\"Jonas Valanciunas\",\"Harrison Barnes\",\"Terrence Ross\",\"Austin Rivers\",\"Austin Rivers\",\"Austin Rivers\",\"Meyers Leonard\",\"Jeremy Lamb\",\"Draymond Green\",\"Kyle O'Quinn\",\"Jae Crowder\",\"Will Barton\",\"Kent Bazemore\",\"Kent Bazemore\",\"Khris Middleton\",\"Mike Scott\",\"Aron Baynes\",\"Aron Baynes\",\"Justin Holiday\",\"Justin Holiday\",\"Nerlens Noel\",\"Ben McLemore\",\"Kentavious Caldwell-Pope\",\"Trey Burke\",\"Mason Plumlee\",\"Solomon Hill\",\"Reggie Bullock\",\"Robert Covington\",\"Matthew Dellavedova\",\"Mike Muscala\",\"Seth Curry\",\"Seth Curry\",\"Bojan Bogdanovic\",\"Julius Randle\",\"Elfrid Payton\",\"Rodney Hood\",\"Jerami Grant\",\"Joe Harris\",\"Joe Harris\",\"Spencer Dinwiddie\",\"Spencer Dinwiddie\",\"Joe Ingles\",\"JaKarr Sampson\",\"Glenn Robinson III\",\"Jordan Clarkson\",\"Dwight Powell\",\"Langston Galloway\",\"Langston Galloway\",\"Tyler Johnson\",\"JaMychal Green\",\"JaMychal Green\",\"Jahlil Okafor\",\"Willie Cauley-Stein\",\"Boban Marjanovic\",\"Montrezl Harrell\",\"Raul Neto\",\"Pat Connaughton\",\"Christian Wood\",\"Fred VanVleet\",\"Bryn Forbes\",\"Davis Bertans\",\"Patrick McCaw\",\"Quinn Cook\",\"Quinn Cook\",\"Quinn Cook\",\"Shaquille Harrison\",\"Edmond Sumner\",\"Torrey Craig\"],\"value\":[30,35,0,0,40,33,45,45,0,0,14,0,16,30,31,40,32,30,46,35,37,35,34,31,35,36,41,38,31,33,35,38,41,35,37,50,34,36,27,33,41,42,34,35,0,31,29,31,37,36,17,42,38,35,32,25,38,10,0,34,33,0,22,0,0,34,39,36,40,0,25,17,35,36,45,28,25,9,36,35,35,39,35,35,39,37,37,38,41,43,34,20,35,0,22,0,27,30,39,36,0,36,37,35,39,35,36,32,0,35,41,35,0,25,0,0,30,43,38,31,34,33,36,12,29,36,37,37,45,35,32,0,38,38,29,31,33,37,30,33,27,29,27,35,33,40,31,14,25,32,35,0,38,34,44,0,32,38,36,41,41,0,45,36,22,31,35,29,25,41,10,10,35,24,26,34,12,39,34,38,40,37,25,50,0,14,40,35,36,41,39,37,23,42,40,42,23,0,29]},\"selected\":{\"id\":\"8755\"},\"selection_policy\":{\"id\":\"8847\"}},\"id\":\"8754\",\"type\":\"ColumnDataSource\"},{\"attributes\":{\"line_alpha\":0.1,\"line_color\":\"#17becf\",\"line_width\":2,\"x\":{\"field\":\"player_name\"},\"y\":{\"field\":\"value\"}},\"id\":\"7888\",\"type\":\"Line\"},{\"attributes\":{\"data\":{\"Variable\":[\"FG%\",\"FG%\",\"FG%\",\"FG%\",\"FG%\",\"FG%\",\"FG%\",\"FG%\",\"FG%\",\"FG%\",\"FG%\",\"FG%\",\"FG%\",\"FG%\",\"FG%\",\"FG%\",\"FG%\",\"FG%\",\"FG%\",\"FG%\",\"FG%\",\"FG%\",\"FG%\",\"FG%\",\"FG%\",\"FG%\",\"FG%\",\"FG%\",\"FG%\",\"FG%\",\"FG%\",\"FG%\",\"FG%\",\"FG%\",\"FG%\",\"FG%\",\"FG%\",\"FG%\",\"FG%\",\"FG%\",\"FG%\",\"FG%\",\"FG%\",\"FG%\",\"FG%\",\"FG%\",\"FG%\",\"FG%\",\"FG%\",\"FG%\",\"FG%\",\"FG%\",\"FG%\",\"FG%\",\"FG%\",\"FG%\",\"FG%\",\"FG%\",\"FG%\",\"FG%\",\"FG%\",\"FG%\",\"FG%\",\"FG%\",\"FG%\",\"FG%\",\"FG%\",\"FG%\",\"FG%\",\"FG%\",\"FG%\",\"FG%\",\"FG%\",\"FG%\",\"FG%\",\"FG%\",\"FG%\",\"FG%\",\"FG%\",\"FG%\",\"FG%\",\"FG%\",\"FG%\",\"FG%\",\"FG%\",\"FG%\",\"FG%\",\"FG%\",\"FG%\",\"FG%\",\"FG%\",\"FG%\",\"FG%\",\"FG%\",\"FG%\",\"FG%\",\"FG%\",\"FG%\",\"FG%\",\"FG%\",\"FG%\",\"FG%\",\"FG%\",\"FG%\",\"FG%\",\"FG%\",\"FG%\",\"FG%\",\"FG%\",\"FG%\",\"FG%\",\"FG%\",\"FG%\",\"FG%\",\"FG%\",\"FG%\",\"FG%\",\"FG%\",\"FG%\",\"FG%\",\"FG%\",\"FG%\",\"FG%\",\"FG%\",\"FG%\",\"FG%\",\"FG%\",\"FG%\",\"FG%\",\"FG%\",\"FG%\",\"FG%\",\"FG%\",\"FG%\",\"FG%\",\"FG%\",\"FG%\",\"FG%\",\"FG%\",\"FG%\",\"FG%\",\"FG%\",\"FG%\",\"FG%\",\"FG%\",\"FG%\",\"FG%\",\"FG%\",\"FG%\",\"FG%\",\"FG%\",\"FG%\",\"FG%\",\"FG%\",\"FG%\",\"FG%\",\"FG%\",\"FG%\",\"FG%\",\"FG%\",\"FG%\",\"FG%\",\"FG%\",\"FG%\",\"FG%\",\"FG%\",\"FG%\",\"FG%\",\"FG%\",\"FG%\",\"FG%\",\"FG%\",\"FG%\",\"FG%\",\"FG%\",\"FG%\",\"FG%\",\"FG%\",\"FG%\",\"FG%\",\"FG%\",\"FG%\",\"FG%\",\"FG%\",\"FG%\",\"FG%\",\"FG%\",\"FG%\",\"FG%\",\"FG%\",\"FG%\",\"FG%\",\"FG%\",\"FG%\",\"FG%\",\"FG%\",\"FG%\",\"FG%\",\"FG%\"],\"player_name\":[\"LeBron James\",\"LeBron James\",\"Tyson Chandler\",\"Tyson Chandler\",\"Carmelo Anthony\",\"Carmelo Anthony\",\"Kyle Korver\",\"Kyle Korver\",\"Zaza Pachulia\",\"Udonis Haslem\",\"Dwight Howard\",\"Dwight Howard\",\"Dwight Howard\",\"Devin Harris\",\"Andre Iguodala\",\"Trevor Ariza\",\"Chris Paul\",\"Raymond Felton\",\"Jose Calderon\",\"LaMarcus Aldridge\",\"Rudy Gay\",\"Rudy Gay\",\"Thabo Sefolosha\",\"Thabo Sefolosha\",\"Rajon Rondo\",\"Rajon Rondo\",\"Kyle Lowry\",\"Kyle Lowry\",\"Paul Millsap\",\"Paul Millsap\",\"Paul Millsap\",\"Kevin Durant\",\"Kevin Durant\",\"Kevin Durant\",\"Kevin Durant\",\"Al Horford\",\"Al Horford\",\"Mike Conley\",\"Thaddeus Young\",\"Thaddeus Young\",\"Jared Dudley\",\"Jared Dudley\",\"Wilson Chandler\",\"Wilson Chandler\",\"Ian Mahinmi\",\"Derrick Rose\",\"Russell Westbrook\",\"Russell Westbrook\",\"Kevin Love\",\"Kevin Love\",\"Marc Gasol\",\"Marc Gasol\",\"Danilo Gallinari\",\"Danilo Gallinari\",\"Danilo Gallinari\",\"Eric Gordon\",\"Eric Gordon\",\"Brook Lopez\",\"Brook Lopez\",\"Goran Dragic\",\"Goran Dragic\",\"Robin Lopez\",\"Robin Lopez\",\"Robin Lopez\",\"JaVale McGee\",\"Nicolas Batum\",\"Nicolas Batum\",\"George Hill\",\"George Hill\",\"DeAndre Jordan\",\"DeAndre Jordan\",\"Blake Griffin\",\"James Harden\",\"James Harden\",\"Stephen Curry\",\"DeMar DeRozan\",\"James Johnson\",\"James Johnson\",\"Jrue Holiday\",\"Jeff Teague\",\"Jeff Teague\",\"Serge Ibaka\",\"Serge Ibaka\",\"Wayne Ellington\",\"Wayne Ellington\",\"Wayne Ellington\",\"Wesley Matthews\",\"Wesley Matthews\",\"Danny Green\",\"Danny Green\",\"Garrett Temple\",\"Garrett Temple\",\"John Wall\",\"Derrick Favors\",\"Derrick Favors\",\"DeMarcus Cousins\",\"Al-Farouq Aminu\",\"Gordon Hayward\",\"Gordon Hayward\",\"Paul George\",\"Ed Davis\",\"Patrick Patterson\",\"Patrick Patterson\",\"Eric Bledsoe\",\"Avery Bradley\",\"Avery Bradley\",\"Avery Bradley\",\"Quincy Pondexter\",\"Hassan Whiteside\",\"Patrick Beverley\",\"Kyrie Irving\",\"Enes Kanter\",\"Tristan Thompson\",\"Ricky Rubio\",\"Bismack Biyombo\",\"Bismack Biyombo\",\"Kemba Walker\",\"Klay Thompson\",\"Alec Burks\",\"Markieff Morris\",\"Kawhi Leonard\",\"Nikola Vucevic\",\"Tobias Harris\",\"Kenneth Faried\",\"Reggie Jackson\",\"Cory Joseph\",\"Jimmy Butler\",\"E'Twaun Moore\",\"E'Twaun Moore\",\"E'Twaun Moore\",\"Anthony Davis\",\"Jonas Valanciunas\",\"Harrison Barnes\",\"Terrence Ross\",\"Austin Rivers\",\"Austin Rivers\",\"Austin Rivers\",\"Meyers Leonard\",\"Jeremy Lamb\",\"Draymond Green\",\"Kyle O'Quinn\",\"Jae Crowder\",\"Will Barton\",\"Kent Bazemore\",\"Kent Bazemore\",\"Khris Middleton\",\"Mike Scott\",\"Aron Baynes\",\"Aron Baynes\",\"Justin Holiday\",\"Justin Holiday\",\"Nerlens Noel\",\"Ben McLemore\",\"Kentavious Caldwell-Pope\",\"Trey Burke\",\"Mason Plumlee\",\"Solomon Hill\",\"Reggie Bullock\",\"Robert Covington\",\"Matthew Dellavedova\",\"Mike Muscala\",\"Seth Curry\",\"Seth Curry\",\"Bojan Bogdanovic\",\"Julius Randle\",\"Elfrid Payton\",\"Rodney Hood\",\"Jerami Grant\",\"Joe Harris\",\"Joe Harris\",\"Spencer Dinwiddie\",\"Spencer Dinwiddie\",\"Joe Ingles\",\"JaKarr Sampson\",\"Glenn Robinson III\",\"Jordan Clarkson\",\"Dwight Powell\",\"Langston Galloway\",\"Langston Galloway\",\"Tyler Johnson\",\"JaMychal Green\",\"JaMychal Green\",\"Jahlil Okafor\",\"Willie Cauley-Stein\",\"Boban Marjanovic\",\"Montrezl Harrell\",\"Raul Neto\",\"Pat Connaughton\",\"Christian Wood\",\"Fred VanVleet\",\"Bryn Forbes\",\"Davis Bertans\",\"Patrick McCaw\",\"Quinn Cook\",\"Quinn Cook\",\"Quinn Cook\",\"Shaquille Harrison\",\"Edmond Sumner\",\"Torrey Craig\"],\"value\":[52,48,65,66,45,43,46,46,47,50,55,62,57,37,45,45,48,40,49,46,45,45,44,41,40,45,46,42,44,49,47,50,51,46,53,55,50,44,54,46,47,47,42,45,54,43,45,45,44,43,49,52,44,40,41,45,41,51,49,50,46,53,56,46,55,42,45,44,47,68,71,53,43,43,45,44,46,41,43,44,45,48,57,38,42,41,40,44,43,44,39,36,43,52,56,49,41,41,47,42,60,46,40,47,43,40,41,39,60,38,46,51,54,35,54,54,38,46,40,46,47,52,46,50,43,50,46,38,48,42,49,56,46,43,40,40,43,44,45,44,49,42,42,44,42,46,47,47,56,38,43,52,43,43,45,53,44,42,42,40,50,0,45,44,55,43,43,53,25,49,35,35,41,42,38,43,49,38,39,48,48,50,55,55,60,63,45,42,41,42,42,44,40,50,46,50,47,100,45]},\"selected\":{\"id\":\"8473\"},\"selection_policy\":{\"id\":\"8559\"}},\"id\":\"8472\",\"type\":\"ColumnDataSource\"},{\"attributes\":{\"coordinates\":null,\"data_source\":{\"id\":\"7884\"},\"glyph\":{\"id\":\"7887\"},\"group\":null,\"hover_glyph\":null,\"muted_glyph\":{\"id\":\"7889\"},\"nonselection_glyph\":{\"id\":\"7888\"},\"selection_glyph\":{\"id\":\"7961\"},\"view\":{\"id\":\"7891\"}},\"id\":\"7890\",\"type\":\"GlyphRenderer\"},{\"attributes\":{\"data\":{\"Variable\":[\"FTM\",\"FTM\",\"FTM\",\"FTM\",\"FTM\",\"FTM\",\"FTM\",\"FTM\",\"FTM\",\"FTM\",\"FTM\",\"FTM\",\"FTM\",\"FTM\",\"FTM\",\"FTM\",\"FTM\",\"FTM\",\"FTM\",\"FTM\",\"FTM\",\"FTM\",\"FTM\",\"FTM\",\"FTM\",\"FTM\",\"FTM\",\"FTM\",\"FTM\",\"FTM\",\"FTM\",\"FTM\",\"FTM\",\"FTM\",\"FTM\",\"FTM\",\"FTM\",\"FTM\",\"FTM\",\"FTM\",\"FTM\",\"FTM\",\"FTM\",\"FTM\",\"FTM\",\"FTM\",\"FTM\",\"FTM\",\"FTM\",\"FTM\",\"FTM\",\"FTM\",\"FTM\",\"FTM\",\"FTM\",\"FTM\",\"FTM\",\"FTM\",\"FTM\",\"FTM\",\"FTM\",\"FTM\",\"FTM\",\"FTM\",\"FTM\",\"FTM\",\"FTM\",\"FTM\",\"FTM\",\"FTM\",\"FTM\",\"FTM\",\"FTM\",\"FTM\",\"FTM\",\"FTM\",\"FTM\",\"FTM\",\"FTM\",\"FTM\",\"FTM\",\"FTM\",\"FTM\",\"FTM\",\"FTM\",\"FTM\",\"FTM\",\"FTM\",\"FTM\",\"FTM\",\"FTM\",\"FTM\",\"FTM\",\"FTM\",\"FTM\",\"FTM\",\"FTM\",\"FTM\",\"FTM\",\"FTM\",\"FTM\",\"FTM\",\"FTM\",\"FTM\",\"FTM\",\"FTM\",\"FTM\",\"FTM\",\"FTM\",\"FTM\",\"FTM\",\"FTM\",\"FTM\",\"FTM\",\"FTM\",\"FTM\",\"FTM\",\"FTM\",\"FTM\",\"FTM\",\"FTM\",\"FTM\",\"FTM\",\"FTM\",\"FTM\",\"FTM\",\"FTM\",\"FTM\",\"FTM\",\"FTM\",\"FTM\",\"FTM\",\"FTM\",\"FTM\",\"FTM\",\"FTM\",\"FTM\",\"FTM\",\"FTM\",\"FTM\",\"FTM\",\"FTM\",\"FTM\",\"FTM\",\"FTM\",\"FTM\",\"FTM\",\"FTM\",\"FTM\",\"FTM\",\"FTM\",\"FTM\",\"FTM\",\"FTM\",\"FTM\",\"FTM\",\"FTM\",\"FTM\",\"FTM\",\"FTM\",\"FTM\",\"FTM\",\"FTM\",\"FTM\",\"FTM\",\"FTM\",\"FTM\",\"FTM\",\"FTM\",\"FTM\",\"FTM\",\"FTM\",\"FTM\",\"FTM\",\"FTM\",\"FTM\",\"FTM\",\"FTM\",\"FTM\",\"FTM\",\"FTM\",\"FTM\",\"FTM\",\"FTM\",\"FTM\",\"FTM\",\"FTM\",\"FTM\",\"FTM\",\"FTM\",\"FTM\",\"FTM\",\"FTM\",\"FTM\",\"FTM\",\"FTM\",\"FTM\",\"FTM\",\"FTM\"],\"player_name\":[\"LeBron James\",\"LeBron James\",\"Tyson Chandler\",\"Tyson Chandler\",\"Carmelo Anthony\",\"Carmelo Anthony\",\"Kyle Korver\",\"Kyle Korver\",\"Zaza Pachulia\",\"Udonis Haslem\",\"Dwight Howard\",\"Dwight Howard\",\"Dwight Howard\",\"Devin Harris\",\"Andre Iguodala\",\"Trevor Ariza\",\"Chris Paul\",\"Raymond Felton\",\"Jose Calderon\",\"LaMarcus Aldridge\",\"Rudy Gay\",\"Rudy Gay\",\"Thabo Sefolosha\",\"Thabo Sefolosha\",\"Rajon Rondo\",\"Rajon Rondo\",\"Kyle Lowry\",\"Kyle Lowry\",\"Paul Millsap\",\"Paul Millsap\",\"Paul Millsap\",\"Kevin Durant\",\"Kevin Durant\",\"Kevin Durant\",\"Kevin Durant\",\"Al Horford\",\"Al Horford\",\"Mike Conley\",\"Thaddeus Young\",\"Thaddeus Young\",\"Jared Dudley\",\"Jared Dudley\",\"Wilson Chandler\",\"Wilson Chandler\",\"Ian Mahinmi\",\"Derrick Rose\",\"Russell Westbrook\",\"Russell Westbrook\",\"Kevin Love\",\"Kevin Love\",\"Marc Gasol\",\"Marc Gasol\",\"Danilo Gallinari\",\"Danilo Gallinari\",\"Danilo Gallinari\",\"Eric Gordon\",\"Eric Gordon\",\"Brook Lopez\",\"Brook Lopez\",\"Goran Dragic\",\"Goran Dragic\",\"Robin Lopez\",\"Robin Lopez\",\"Robin Lopez\",\"JaVale McGee\",\"Nicolas Batum\",\"Nicolas Batum\",\"George Hill\",\"George Hill\",\"DeAndre Jordan\",\"DeAndre Jordan\",\"Blake Griffin\",\"James Harden\",\"James Harden\",\"Stephen Curry\",\"DeMar DeRozan\",\"James Johnson\",\"James Johnson\",\"Jrue Holiday\",\"Jeff Teague\",\"Jeff Teague\",\"Serge Ibaka\",\"Serge Ibaka\",\"Wayne Ellington\",\"Wayne Ellington\",\"Wayne Ellington\",\"Wesley Matthews\",\"Wesley Matthews\",\"Danny Green\",\"Danny Green\",\"Garrett Temple\",\"Garrett Temple\",\"John Wall\",\"Derrick Favors\",\"Derrick Favors\",\"DeMarcus Cousins\",\"Al-Farouq Aminu\",\"Gordon Hayward\",\"Gordon Hayward\",\"Paul George\",\"Ed Davis\",\"Patrick Patterson\",\"Patrick Patterson\",\"Eric Bledsoe\",\"Avery Bradley\",\"Avery Bradley\",\"Avery Bradley\",\"Quincy Pondexter\",\"Hassan Whiteside\",\"Patrick Beverley\",\"Kyrie Irving\",\"Enes Kanter\",\"Tristan Thompson\",\"Ricky Rubio\",\"Bismack Biyombo\",\"Bismack Biyombo\",\"Kemba Walker\",\"Klay Thompson\",\"Alec Burks\",\"Markieff Morris\",\"Kawhi Leonard\",\"Nikola Vucevic\",\"Tobias Harris\",\"Kenneth Faried\",\"Reggie Jackson\",\"Cory Joseph\",\"Jimmy Butler\",\"E'Twaun Moore\",\"E'Twaun Moore\",\"E'Twaun Moore\",\"Anthony Davis\",\"Jonas Valanciunas\",\"Harrison Barnes\",\"Terrence Ross\",\"Austin Rivers\",\"Austin Rivers\",\"Austin Rivers\",\"Meyers Leonard\",\"Jeremy Lamb\",\"Draymond Green\",\"Kyle O'Quinn\",\"Jae Crowder\",\"Will Barton\",\"Kent Bazemore\",\"Kent Bazemore\",\"Khris Middleton\",\"Mike Scott\",\"Aron Baynes\",\"Aron Baynes\",\"Justin Holiday\",\"Justin Holiday\",\"Nerlens Noel\",\"Ben McLemore\",\"Kentavious Caldwell-Pope\",\"Trey Burke\",\"Mason Plumlee\",\"Solomon Hill\",\"Reggie Bullock\",\"Robert Covington\",\"Matthew Dellavedova\",\"Mike Muscala\",\"Seth Curry\",\"Seth Curry\",\"Bojan Bogdanovic\",\"Julius Randle\",\"Elfrid Payton\",\"Rodney Hood\",\"Jerami Grant\",\"Joe Harris\",\"Joe Harris\",\"Spencer Dinwiddie\",\"Spencer Dinwiddie\",\"Joe Ingles\",\"JaKarr Sampson\",\"Glenn Robinson III\",\"Jordan Clarkson\",\"Dwight Powell\",\"Langston Galloway\",\"Langston Galloway\",\"Tyler Johnson\",\"JaMychal Green\",\"JaMychal Green\",\"Jahlil Okafor\",\"Willie Cauley-Stein\",\"Boban Marjanovic\",\"Montrezl Harrell\",\"Raul Neto\",\"Pat Connaughton\",\"Christian Wood\",\"Fred VanVleet\",\"Bryn Forbes\",\"Davis Bertans\",\"Patrick McCaw\",\"Quinn Cook\",\"Quinn Cook\",\"Quinn Cook\",\"Shaquille Harrison\",\"Edmond Sumner\",\"Torrey Craig\"],\"value\":[359,375,216,185,459,295,38,67,78,25,334,232,355,92,155,149,286,100,72,306,118,337,55,53,23,87,299,313,311,264,255,447,359,594,336,150,103,181,123,131,162,72,110,130,94,194,465,340,379,258,350,220,349,171,182,49,111,223,20,181,153,98,89,100,77,163,133,91,157,98,187,281,720,674,262,355,76,40,182,360,199,107,143,54,68,52,132,109,111,79,91,30,317,190,140,432,84,311,362,401,92,50,43,183,90,43,63,21,214,45,315,183,159,57,102,142,234,225,106,177,202,164,193,199,181,105,386,7,22,52,326,162,102,49,85,50,79,35,64,132,44,109,74,123,66,134,103,59,90,37,66,21,70,137,22,174,36,5,0,57,49,0,45,217,305,55,137,162,0,86,19,19,30,63,16,164,105,51,86,51,80,134,21,140,87,139,26,37,13,84,48,40,26,2,20,2,28,0,22]},\"selected\":{\"id\":\"8853\"},\"selection_policy\":{\"id\":\"8947\"}},\"id\":\"8852\",\"type\":\"ColumnDataSource\"},{\"attributes\":{},\"id\":\"7957\",\"type\":\"UnionRenderers\"},{\"attributes\":{\"line_color\":\"#8c564b\",\"line_width\":2,\"x\":{\"field\":\"player_name\"},\"y\":{\"field\":\"value\"}},\"id\":\"7397\",\"type\":\"Line\"},{\"attributes\":{\"label\":{\"value\":\"GP\"},\"renderers\":[{\"id\":\"7890\"}]},\"id\":\"7960\",\"type\":\"LegendItem\"},{\"attributes\":{\"data\":{\"Variable\":[\"MIN\",\"MIN\",\"MIN\",\"MIN\",\"MIN\",\"MIN\",\"MIN\",\"MIN\",\"MIN\",\"MIN\",\"MIN\",\"MIN\",\"MIN\",\"MIN\",\"MIN\",\"MIN\",\"MIN\",\"MIN\",\"MIN\",\"MIN\",\"MIN\",\"MIN\",\"MIN\",\"MIN\",\"MIN\",\"MIN\",\"MIN\",\"MIN\",\"MIN\",\"MIN\",\"MIN\",\"MIN\",\"MIN\",\"MIN\",\"MIN\",\"MIN\",\"MIN\",\"MIN\",\"MIN\",\"MIN\",\"MIN\",\"MIN\",\"MIN\",\"MIN\",\"MIN\",\"MIN\",\"MIN\",\"MIN\",\"MIN\",\"MIN\",\"MIN\",\"MIN\",\"MIN\",\"MIN\",\"MIN\",\"MIN\",\"MIN\",\"MIN\",\"MIN\",\"MIN\",\"MIN\",\"MIN\",\"MIN\",\"MIN\",\"MIN\",\"MIN\",\"MIN\",\"MIN\",\"MIN\",\"MIN\",\"MIN\",\"MIN\",\"MIN\",\"MIN\",\"MIN\",\"MIN\",\"MIN\",\"MIN\",\"MIN\",\"MIN\",\"MIN\",\"MIN\",\"MIN\",\"MIN\",\"MIN\",\"MIN\",\"MIN\",\"MIN\",\"MIN\",\"MIN\",\"MIN\",\"MIN\",\"MIN\",\"MIN\",\"MIN\",\"MIN\",\"MIN\",\"MIN\",\"MIN\",\"MIN\",\"MIN\",\"MIN\",\"MIN\",\"MIN\",\"MIN\",\"MIN\",\"MIN\",\"MIN\",\"MIN\",\"MIN\",\"MIN\",\"MIN\",\"MIN\",\"MIN\",\"MIN\",\"MIN\",\"MIN\",\"MIN\",\"MIN\",\"MIN\",\"MIN\",\"MIN\",\"MIN\",\"MIN\",\"MIN\",\"MIN\",\"MIN\",\"MIN\",\"MIN\",\"MIN\",\"MIN\",\"MIN\",\"MIN\",\"MIN\",\"MIN\",\"MIN\",\"MIN\",\"MIN\",\"MIN\",\"MIN\",\"MIN\",\"MIN\",\"MIN\",\"MIN\",\"MIN\",\"MIN\",\"MIN\",\"MIN\",\"MIN\",\"MIN\",\"MIN\",\"MIN\",\"MIN\",\"MIN\",\"MIN\",\"MIN\",\"MIN\",\"MIN\",\"MIN\",\"MIN\",\"MIN\",\"MIN\",\"MIN\",\"MIN\",\"MIN\",\"MIN\",\"MIN\",\"MIN\",\"MIN\",\"MIN\",\"MIN\",\"MIN\",\"MIN\",\"MIN\",\"MIN\",\"MIN\",\"MIN\",\"MIN\",\"MIN\",\"MIN\",\"MIN\",\"MIN\",\"MIN\",\"MIN\",\"MIN\",\"MIN\",\"MIN\",\"MIN\",\"MIN\",\"MIN\",\"MIN\",\"MIN\",\"MIN\",\"MIN\",\"MIN\",\"MIN\",\"MIN\",\"MIN\",\"MIN\"],\"player_name\":[\"LeBron James\",\"LeBron James\",\"Tyson Chandler\",\"Tyson Chandler\",\"Carmelo Anthony\",\"Carmelo Anthony\",\"Kyle Korver\",\"Kyle Korver\",\"Zaza Pachulia\",\"Udonis Haslem\",\"Dwight Howard\",\"Dwight Howard\",\"Dwight Howard\",\"Devin Harris\",\"Andre Iguodala\",\"Trevor Ariza\",\"Chris Paul\",\"Raymond Felton\",\"Jose Calderon\",\"LaMarcus Aldridge\",\"Rudy Gay\",\"Rudy Gay\",\"Thabo Sefolosha\",\"Thabo Sefolosha\",\"Rajon Rondo\",\"Rajon Rondo\",\"Kyle Lowry\",\"Kyle Lowry\",\"Paul Millsap\",\"Paul Millsap\",\"Paul Millsap\",\"Kevin Durant\",\"Kevin Durant\",\"Kevin Durant\",\"Kevin Durant\",\"Al Horford\",\"Al Horford\",\"Mike Conley\",\"Thaddeus Young\",\"Thaddeus Young\",\"Jared Dudley\",\"Jared Dudley\",\"Wilson Chandler\",\"Wilson Chandler\",\"Ian Mahinmi\",\"Derrick Rose\",\"Russell Westbrook\",\"Russell Westbrook\",\"Kevin Love\",\"Kevin Love\",\"Marc Gasol\",\"Marc Gasol\",\"Danilo Gallinari\",\"Danilo Gallinari\",\"Danilo Gallinari\",\"Eric Gordon\",\"Eric Gordon\",\"Brook Lopez\",\"Brook Lopez\",\"Goran Dragic\",\"Goran Dragic\",\"Robin Lopez\",\"Robin Lopez\",\"Robin Lopez\",\"JaVale McGee\",\"Nicolas Batum\",\"Nicolas Batum\",\"George Hill\",\"George Hill\",\"DeAndre Jordan\",\"DeAndre Jordan\",\"Blake Griffin\",\"James Harden\",\"James Harden\",\"Stephen Curry\",\"DeMar DeRozan\",\"James Johnson\",\"James Johnson\",\"Jrue Holiday\",\"Jeff Teague\",\"Jeff Teague\",\"Serge Ibaka\",\"Serge Ibaka\",\"Wayne Ellington\",\"Wayne Ellington\",\"Wayne Ellington\",\"Wesley Matthews\",\"Wesley Matthews\",\"Danny Green\",\"Danny Green\",\"Garrett Temple\",\"Garrett Temple\",\"John Wall\",\"Derrick Favors\",\"Derrick Favors\",\"DeMarcus Cousins\",\"Al-Farouq Aminu\",\"Gordon Hayward\",\"Gordon Hayward\",\"Paul George\",\"Ed Davis\",\"Patrick Patterson\",\"Patrick Patterson\",\"Eric Bledsoe\",\"Avery Bradley\",\"Avery Bradley\",\"Avery Bradley\",\"Quincy Pondexter\",\"Hassan Whiteside\",\"Patrick Beverley\",\"Kyrie Irving\",\"Enes Kanter\",\"Tristan Thompson\",\"Ricky Rubio\",\"Bismack Biyombo\",\"Bismack Biyombo\",\"Kemba Walker\",\"Klay Thompson\",\"Alec Burks\",\"Markieff Morris\",\"Kawhi Leonard\",\"Nikola Vucevic\",\"Tobias Harris\",\"Kenneth Faried\",\"Reggie Jackson\",\"Cory Joseph\",\"Jimmy Butler\",\"E'Twaun Moore\",\"E'Twaun Moore\",\"E'Twaun Moore\",\"Anthony Davis\",\"Jonas Valanciunas\",\"Harrison Barnes\",\"Terrence Ross\",\"Austin Rivers\",\"Austin Rivers\",\"Austin Rivers\",\"Meyers Leonard\",\"Jeremy Lamb\",\"Draymond Green\",\"Kyle O'Quinn\",\"Jae Crowder\",\"Will Barton\",\"Kent Bazemore\",\"Kent Bazemore\",\"Khris Middleton\",\"Mike Scott\",\"Aron Baynes\",\"Aron Baynes\",\"Justin Holiday\",\"Justin Holiday\",\"Nerlens Noel\",\"Ben McLemore\",\"Kentavious Caldwell-Pope\",\"Trey Burke\",\"Mason Plumlee\",\"Solomon Hill\",\"Reggie Bullock\",\"Robert Covington\",\"Matthew Dellavedova\",\"Mike Muscala\",\"Seth Curry\",\"Seth Curry\",\"Bojan Bogdanovic\",\"Julius Randle\",\"Elfrid Payton\",\"Rodney Hood\",\"Jerami Grant\",\"Joe Harris\",\"Joe Harris\",\"Spencer Dinwiddie\",\"Spencer Dinwiddie\",\"Joe Ingles\",\"JaKarr Sampson\",\"Glenn Robinson III\",\"Jordan Clarkson\",\"Dwight Powell\",\"Langston Galloway\",\"Langston Galloway\",\"Tyler Johnson\",\"JaMychal Green\",\"JaMychal Green\",\"Jahlil Okafor\",\"Willie Cauley-Stein\",\"Boban Marjanovic\",\"Montrezl Harrell\",\"Raul Neto\",\"Pat Connaughton\",\"Christian Wood\",\"Fred VanVleet\",\"Bryn Forbes\",\"Davis Bertans\",\"Patrick McCaw\",\"Quinn Cook\",\"Quinn Cook\",\"Quinn Cook\",\"Shaquille Harrison\",\"Edmond Sumner\",\"Torrey Craig\"],\"value\":[2709,2493,2059,2286,2982,1876,1753,2259,1134,653,2463,2280,2722,818,2779,2723,2335,1906,2159,2512,1013,2408,1596,1584,1369,2537,2244,2862,2343,2375,2390,2578,2325,3038,2070,2704,2631,2872,2135,2434,2140,2098,2471,2400,1139,1374,2749,2331,2145,2532,2687,2586,2134,1426,1351,310,1481,2100,136,2640,1752,1638,1606,895,1535,2448,1791,1274,1544,2047,2820,2598,3125,2985,2983,3013,956,878,2926,2657,2628,2422,2486,1615,1661,1675,2091,2024,2311,1522,1951,638,2980,2201,2153,2298,1366,2800,2516,2898,1840,1532,1599,1416,1855,1905,1433,270,2125,1727,2730,2136,2194,692,1243,1808,2119,2455,899,2581,2033,2529,2369,2086,2268,1444,2513,331,1263,1506,2164,1557,2042,1747,1563,2028,1464,1333,1227,2490,824,1647,984,2083,911,2378,1482,1484,1122,657,1639,472,1176,2035,703,2148,866,467,34,1867,1237,8,692,2083,2190,1250,1893,1647,15,1975,159,159,1673,1131,261,2552,992,1494,2033,863,1371,2101,353,2213,508,1293,498,1488,145,1520,1517,1086,961,187,1059,187,384,2,629]},\"selected\":{\"id\":\"8125\"},\"selection_policy\":{\"id\":\"8203\"}},\"id\":\"8124\",\"type\":\"ColumnDataSource\"},{\"attributes\":{\"line_color\":\"#e5ae38\",\"line_width\":2,\"x\":{\"field\":\"player_name\"},\"y\":{\"field\":\"value\"}},\"id\":\"10061\",\"type\":\"Line\"},{\"attributes\":{\"line_alpha\":0.1,\"line_color\":\"#8c564b\",\"line_width\":2,\"x\":{\"field\":\"player_name\"},\"y\":{\"field\":\"value\"}},\"id\":\"7398\",\"type\":\"Line\"},{\"attributes\":{\"data\":{\"Variable\":[\"GP\",\"GP\",\"GP\",\"GP\",\"GP\",\"GP\",\"GP\",\"GP\",\"GP\",\"GP\",\"GP\",\"GP\",\"GP\",\"GP\",\"GP\",\"GP\",\"GP\",\"GP\",\"GP\",\"GP\",\"GP\",\"GP\",\"GP\",\"GP\",\"GP\",\"GP\",\"GP\",\"GP\",\"GP\",\"GP\",\"GP\",\"GP\",\"GP\",\"GP\",\"GP\",\"GP\",\"GP\",\"GP\",\"GP\",\"GP\",\"GP\",\"GP\",\"GP\",\"GP\",\"GP\",\"GP\",\"GP\",\"GP\",\"GP\",\"GP\",\"GP\",\"GP\",\"GP\",\"GP\",\"GP\",\"GP\",\"GP\",\"GP\",\"GP\",\"GP\",\"GP\",\"GP\",\"GP\",\"GP\",\"GP\",\"GP\",\"GP\",\"GP\",\"GP\",\"GP\",\"GP\",\"GP\",\"GP\",\"GP\",\"GP\",\"GP\",\"GP\",\"GP\",\"GP\",\"GP\",\"GP\",\"GP\",\"GP\",\"GP\",\"GP\",\"GP\",\"GP\",\"GP\",\"GP\",\"GP\",\"GP\",\"GP\",\"GP\",\"GP\",\"GP\",\"GP\",\"GP\",\"GP\",\"GP\",\"GP\",\"GP\",\"GP\",\"GP\",\"GP\",\"GP\",\"GP\",\"GP\",\"GP\",\"GP\",\"GP\",\"GP\",\"GP\",\"GP\",\"GP\",\"GP\",\"GP\",\"GP\",\"GP\",\"GP\",\"GP\",\"GP\",\"GP\",\"GP\",\"GP\",\"GP\",\"GP\",\"GP\",\"GP\",\"GP\",\"GP\",\"GP\",\"GP\",\"GP\",\"GP\",\"GP\",\"GP\",\"GP\",\"GP\",\"GP\",\"GP\",\"GP\",\"GP\",\"GP\",\"GP\",\"GP\",\"GP\",\"GP\",\"GP\",\"GP\",\"GP\",\"GP\",\"GP\",\"GP\",\"GP\",\"GP\",\"GP\",\"GP\",\"GP\",\"GP\",\"GP\",\"GP\",\"GP\",\"GP\",\"GP\",\"GP\",\"GP\",\"GP\",\"GP\",\"GP\",\"GP\",\"GP\",\"GP\",\"GP\",\"GP\",\"GP\",\"GP\",\"GP\",\"GP\",\"GP\",\"GP\",\"GP\",\"GP\",\"GP\",\"GP\",\"GP\",\"GP\",\"GP\",\"GP\",\"GP\",\"GP\",\"GP\",\"GP\",\"GP\",\"GP\",\"GP\",\"GP\",\"GP\",\"GP\",\"GP\"],\"player_name\":[\"LeBron James\",\"LeBron James\",\"Tyson Chandler\",\"Tyson Chandler\",\"Carmelo Anthony\",\"Carmelo Anthony\",\"Kyle Korver\",\"Kyle Korver\",\"Zaza Pachulia\",\"Udonis Haslem\",\"Dwight Howard\",\"Dwight Howard\",\"Dwight Howard\",\"Devin Harris\",\"Andre Iguodala\",\"Trevor Ariza\",\"Chris Paul\",\"Raymond Felton\",\"Jose Calderon\",\"LaMarcus Aldridge\",\"Rudy Gay\",\"Rudy Gay\",\"Thabo Sefolosha\",\"Thabo Sefolosha\",\"Rajon Rondo\",\"Rajon Rondo\",\"Kyle Lowry\",\"Kyle Lowry\",\"Paul Millsap\",\"Paul Millsap\",\"Paul Millsap\",\"Kevin Durant\",\"Kevin Durant\",\"Kevin Durant\",\"Kevin Durant\",\"Al Horford\",\"Al Horford\",\"Mike Conley\",\"Thaddeus Young\",\"Thaddeus Young\",\"Jared Dudley\",\"Jared Dudley\",\"Wilson Chandler\",\"Wilson Chandler\",\"Ian Mahinmi\",\"Derrick Rose\",\"Russell Westbrook\",\"Russell Westbrook\",\"Kevin Love\",\"Kevin Love\",\"Marc Gasol\",\"Marc Gasol\",\"Danilo Gallinari\",\"Danilo Gallinari\",\"Danilo Gallinari\",\"Eric Gordon\",\"Eric Gordon\",\"Brook Lopez\",\"Brook Lopez\",\"Goran Dragic\",\"Goran Dragic\",\"Robin Lopez\",\"Robin Lopez\",\"Robin Lopez\",\"JaVale McGee\",\"Nicolas Batum\",\"Nicolas Batum\",\"George Hill\",\"George Hill\",\"DeAndre Jordan\",\"DeAndre Jordan\",\"Blake Griffin\",\"James Harden\",\"James Harden\",\"Stephen Curry\",\"DeMar DeRozan\",\"James Johnson\",\"James Johnson\",\"Jrue Holiday\",\"Jeff Teague\",\"Jeff Teague\",\"Serge Ibaka\",\"Serge Ibaka\",\"Wayne Ellington\",\"Wayne Ellington\",\"Wayne Ellington\",\"Wesley Matthews\",\"Wesley Matthews\",\"Danny Green\",\"Danny Green\",\"Garrett Temple\",\"Garrett Temple\",\"John Wall\",\"Derrick Favors\",\"Derrick Favors\",\"DeMarcus Cousins\",\"Al-Farouq Aminu\",\"Gordon Hayward\",\"Gordon Hayward\",\"Paul George\",\"Ed Davis\",\"Patrick Patterson\",\"Patrick Patterson\",\"Eric Bledsoe\",\"Avery Bradley\",\"Avery Bradley\",\"Avery Bradley\",\"Quincy Pondexter\",\"Hassan Whiteside\",\"Patrick Beverley\",\"Kyrie Irving\",\"Enes Kanter\",\"Tristan Thompson\",\"Ricky Rubio\",\"Bismack Biyombo\",\"Bismack Biyombo\",\"Kemba Walker\",\"Klay Thompson\",\"Alec Burks\",\"Markieff Morris\",\"Kawhi Leonard\",\"Nikola Vucevic\",\"Tobias Harris\",\"Kenneth Faried\",\"Reggie Jackson\",\"Cory Joseph\",\"Jimmy Butler\",\"E'Twaun Moore\",\"E'Twaun Moore\",\"E'Twaun Moore\",\"Anthony Davis\",\"Jonas Valanciunas\",\"Harrison Barnes\",\"Terrence Ross\",\"Austin Rivers\",\"Austin Rivers\",\"Austin Rivers\",\"Meyers Leonard\",\"Jeremy Lamb\",\"Draymond Green\",\"Kyle O'Quinn\",\"Jae Crowder\",\"Will Barton\",\"Kent Bazemore\",\"Kent Bazemore\",\"Khris Middleton\",\"Mike Scott\",\"Aron Baynes\",\"Aron Baynes\",\"Justin Holiday\",\"Justin Holiday\",\"Nerlens Noel\",\"Ben McLemore\",\"Kentavious Caldwell-Pope\",\"Trey Burke\",\"Mason Plumlee\",\"Solomon Hill\",\"Reggie Bullock\",\"Robert Covington\",\"Matthew Dellavedova\",\"Mike Muscala\",\"Seth Curry\",\"Seth Curry\",\"Bojan Bogdanovic\",\"Julius Randle\",\"Elfrid Payton\",\"Rodney Hood\",\"Jerami Grant\",\"Joe Harris\",\"Joe Harris\",\"Spencer Dinwiddie\",\"Spencer Dinwiddie\",\"Joe Ingles\",\"JaKarr Sampson\",\"Glenn Robinson III\",\"Jordan Clarkson\",\"Dwight Powell\",\"Langston Galloway\",\"Langston Galloway\",\"Tyler Johnson\",\"JaMychal Green\",\"JaMychal Green\",\"Jahlil Okafor\",\"Willie Cauley-Stein\",\"Boban Marjanovic\",\"Montrezl Harrell\",\"Raul Neto\",\"Pat Connaughton\",\"Christian Wood\",\"Fred VanVleet\",\"Bryn Forbes\",\"Davis Bertans\",\"Patrick McCaw\",\"Quinn Cook\",\"Quinn Cook\",\"Quinn Cook\",\"Shaquille Harrison\",\"Edmond Sumner\",\"Torrey Craig\"],\"value\":[76,69,74,75,77,55,67,74,52,46,81,71,76,40,80,77,70,60,73,71,30,68,62,61,46,72,60,79,69,78,73,72,68,78,62,77,82,81,82,76,82,81,78,72,61,39,80,66,55,75,81,81,63,59,43,9,45,72,5,78,66,59,74,64,61,70,59,50,49,80,82,80,82,78,78,82,52,54,78,82,80,79,80,76,78,65,69,60,81,66,80,75,82,73,77,71,74,77,73,80,79,65,65,43,60,63,46,15,73,56,75,75,82,22,64,82,62,77,27,82,64,74,68,75,77,79,65,38,59,79,61,60,66,73,76,76,67,61,66,79,51,82,58,75,67,79,80,81,70,59,82,30,61,82,57,81,59,31,7,76,70,2,44,81,82,42,72,81,5,78,12,12,79,74,35,79,69,74,82,36,65,77,28,81,54,76,41,82,17,76,80,77,57,14,74,14,23,1,39]},\"selected\":{\"id\":\"7885\"},\"selection_policy\":{\"id\":\"7957\"}},\"id\":\"7884\",\"type\":\"ColumnDataSource\"},{\"attributes\":{\"source\":{\"id\":\"8472\"}},\"id\":\"8479\",\"type\":\"CDSView\"},{\"attributes\":{\"coordinates\":null,\"data_source\":{\"id\":\"7394\"},\"glyph\":{\"id\":\"7397\"},\"group\":null,\"hover_glyph\":null,\"muted_glyph\":{\"id\":\"7399\"},\"nonselection_glyph\":{\"id\":\"7398\"},\"selection_glyph\":{\"id\":\"7457\"},\"view\":{\"id\":\"7401\"}},\"id\":\"7400\",\"type\":\"GlyphRenderer\"},{\"attributes\":{},\"id\":\"8473\",\"type\":\"Selection\"},{\"attributes\":{},\"id\":\"8043\",\"type\":\"Selection\"},{\"attributes\":{},\"id\":\"7453\",\"type\":\"UnionRenderers\"},{\"attributes\":{\"line_color\":\"#e5ae38\",\"line_width\":2,\"x\":{\"field\":\"player_name\"},\"y\":{\"field\":\"value\"}},\"id\":\"7001\",\"type\":\"Line\"},{\"attributes\":{\"line_color\":\"#6d904f\",\"line_width\":2,\"x\":{\"field\":\"player_name\"},\"y\":{\"field\":\"value\"}},\"id\":\"10065\",\"type\":\"Line\"},{\"attributes\":{\"label\":{\"value\":\"2425_salary_predicted\"},\"renderers\":[{\"id\":\"7400\"}]},\"id\":\"7456\",\"type\":\"LegendItem\"},{\"attributes\":{\"data\":{\"Variable\":[\"AVG_SALARY\",\"AVG_SALARY\",\"AVG_SALARY\",\"AVG_SALARY\",\"AVG_SALARY\",\"AVG_SALARY\",\"AVG_SALARY\",\"AVG_SALARY\",\"AVG_SALARY\",\"AVG_SALARY\",\"AVG_SALARY\",\"AVG_SALARY\",\"AVG_SALARY\",\"AVG_SALARY\",\"AVG_SALARY\",\"AVG_SALARY\",\"AVG_SALARY\",\"AVG_SALARY\",\"AVG_SALARY\",\"AVG_SALARY\",\"AVG_SALARY\",\"AVG_SALARY\",\"AVG_SALARY\",\"AVG_SALARY\",\"AVG_SALARY\",\"AVG_SALARY\",\"AVG_SALARY\",\"AVG_SALARY\",\"AVG_SALARY\",\"AVG_SALARY\",\"AVG_SALARY\",\"AVG_SALARY\",\"AVG_SALARY\",\"AVG_SALARY\",\"AVG_SALARY\",\"AVG_SALARY\",\"AVG_SALARY\",\"AVG_SALARY\",\"AVG_SALARY\",\"AVG_SALARY\",\"AVG_SALARY\",\"AVG_SALARY\",\"AVG_SALARY\",\"AVG_SALARY\",\"AVG_SALARY\",\"AVG_SALARY\",\"AVG_SALARY\",\"AVG_SALARY\",\"AVG_SALARY\",\"AVG_SALARY\",\"AVG_SALARY\",\"AVG_SALARY\",\"AVG_SALARY\",\"AVG_SALARY\",\"AVG_SALARY\",\"AVG_SALARY\",\"AVG_SALARY\",\"AVG_SALARY\",\"AVG_SALARY\",\"AVG_SALARY\",\"AVG_SALARY\",\"AVG_SALARY\",\"AVG_SALARY\",\"AVG_SALARY\",\"AVG_SALARY\",\"AVG_SALARY\",\"AVG_SALARY\",\"AVG_SALARY\",\"AVG_SALARY\",\"AVG_SALARY\",\"AVG_SALARY\",\"AVG_SALARY\",\"AVG_SALARY\",\"AVG_SALARY\",\"AVG_SALARY\",\"AVG_SALARY\",\"AVG_SALARY\",\"AVG_SALARY\",\"AVG_SALARY\",\"AVG_SALARY\",\"AVG_SALARY\",\"AVG_SALARY\",\"AVG_SALARY\",\"AVG_SALARY\",\"AVG_SALARY\",\"AVG_SALARY\",\"AVG_SALARY\",\"AVG_SALARY\",\"AVG_SALARY\",\"AVG_SALARY\",\"AVG_SALARY\",\"AVG_SALARY\",\"AVG_SALARY\",\"AVG_SALARY\",\"AVG_SALARY\",\"AVG_SALARY\",\"AVG_SALARY\",\"AVG_SALARY\",\"AVG_SALARY\",\"AVG_SALARY\",\"AVG_SALARY\",\"AVG_SALARY\",\"AVG_SALARY\",\"AVG_SALARY\",\"AVG_SALARY\",\"AVG_SALARY\",\"AVG_SALARY\",\"AVG_SALARY\",\"AVG_SALARY\",\"AVG_SALARY\",\"AVG_SALARY\",\"AVG_SALARY\",\"AVG_SALARY\",\"AVG_SALARY\",\"AVG_SALARY\",\"AVG_SALARY\",\"AVG_SALARY\",\"AVG_SALARY\",\"AVG_SALARY\",\"AVG_SALARY\",\"AVG_SALARY\",\"AVG_SALARY\",\"AVG_SALARY\",\"AVG_SALARY\",\"AVG_SALARY\",\"AVG_SALARY\",\"AVG_SALARY\",\"AVG_SALARY\",\"AVG_SALARY\",\"AVG_SALARY\",\"AVG_SALARY\",\"AVG_SALARY\",\"AVG_SALARY\",\"AVG_SALARY\",\"AVG_SALARY\",\"AVG_SALARY\",\"AVG_SALARY\",\"AVG_SALARY\",\"AVG_SALARY\",\"AVG_SALARY\",\"AVG_SALARY\",\"AVG_SALARY\",\"AVG_SALARY\",\"AVG_SALARY\",\"AVG_SALARY\",\"AVG_SALARY\",\"AVG_SALARY\",\"AVG_SALARY\",\"AVG_SALARY\",\"AVG_SALARY\",\"AVG_SALARY\",\"AVG_SALARY\",\"AVG_SALARY\",\"AVG_SALARY\",\"AVG_SALARY\",\"AVG_SALARY\",\"AVG_SALARY\",\"AVG_SALARY\",\"AVG_SALARY\",\"AVG_SALARY\",\"AVG_SALARY\",\"AVG_SALARY\",\"AVG_SALARY\",\"AVG_SALARY\",\"AVG_SALARY\",\"AVG_SALARY\",\"AVG_SALARY\",\"AVG_SALARY\",\"AVG_SALARY\",\"AVG_SALARY\",\"AVG_SALARY\",\"AVG_SALARY\",\"AVG_SALARY\",\"AVG_SALARY\",\"AVG_SALARY\",\"AVG_SALARY\",\"AVG_SALARY\",\"AVG_SALARY\",\"AVG_SALARY\",\"AVG_SALARY\",\"AVG_SALARY\",\"AVG_SALARY\",\"AVG_SALARY\",\"AVG_SALARY\",\"AVG_SALARY\",\"AVG_SALARY\",\"AVG_SALARY\",\"AVG_SALARY\",\"AVG_SALARY\",\"AVG_SALARY\",\"AVG_SALARY\",\"AVG_SALARY\",\"AVG_SALARY\",\"AVG_SALARY\",\"AVG_SALARY\",\"AVG_SALARY\",\"AVG_SALARY\",\"AVG_SALARY\",\"AVG_SALARY\"],\"player_name\":[\"LeBron James\",\"LeBron James\",\"Tyson Chandler\",\"Tyson Chandler\",\"Carmelo Anthony\",\"Carmelo Anthony\",\"Kyle Korver\",\"Kyle Korver\",\"Zaza Pachulia\",\"Udonis Haslem\",\"Dwight Howard\",\"Dwight Howard\",\"Dwight Howard\",\"Devin Harris\",\"Andre Iguodala\",\"Trevor Ariza\",\"Chris Paul\",\"Raymond Felton\",\"Jose Calderon\",\"LaMarcus Aldridge\",\"Rudy Gay\",\"Rudy Gay\",\"Thabo Sefolosha\",\"Thabo Sefolosha\",\"Rajon Rondo\",\"Rajon Rondo\",\"Kyle Lowry\",\"Kyle Lowry\",\"Paul Millsap\",\"Paul Millsap\",\"Paul Millsap\",\"Kevin Durant\",\"Kevin Durant\",\"Kevin Durant\",\"Kevin Durant\",\"Al Horford\",\"Al Horford\",\"Mike Conley\",\"Thaddeus Young\",\"Thaddeus Young\",\"Jared Dudley\",\"Jared Dudley\",\"Wilson Chandler\",\"Wilson Chandler\",\"Ian Mahinmi\",\"Derrick Rose\",\"Russell Westbrook\",\"Russell Westbrook\",\"Kevin Love\",\"Kevin Love\",\"Marc Gasol\",\"Marc Gasol\",\"Danilo Gallinari\",\"Danilo Gallinari\",\"Danilo Gallinari\",\"Eric Gordon\",\"Eric Gordon\",\"Brook Lopez\",\"Brook Lopez\",\"Goran Dragic\",\"Goran Dragic\",\"Robin Lopez\",\"Robin Lopez\",\"Robin Lopez\",\"JaVale McGee\",\"Nicolas Batum\",\"Nicolas Batum\",\"George Hill\",\"George Hill\",\"DeAndre Jordan\",\"DeAndre Jordan\",\"Blake Griffin\",\"James Harden\",\"James Harden\",\"Stephen Curry\",\"DeMar DeRozan\",\"James Johnson\",\"James Johnson\",\"Jrue Holiday\",\"Jeff Teague\",\"Jeff Teague\",\"Serge Ibaka\",\"Serge Ibaka\",\"Wayne Ellington\",\"Wayne Ellington\",\"Wayne Ellington\",\"Wesley Matthews\",\"Wesley Matthews\",\"Danny Green\",\"Danny Green\",\"Garrett Temple\",\"Garrett Temple\",\"John Wall\",\"Derrick Favors\",\"Derrick Favors\",\"DeMarcus Cousins\",\"Al-Farouq Aminu\",\"Gordon Hayward\",\"Gordon Hayward\",\"Paul George\",\"Ed Davis\",\"Patrick Patterson\",\"Patrick Patterson\",\"Eric Bledsoe\",\"Avery Bradley\",\"Avery Bradley\",\"Avery Bradley\",\"Quincy Pondexter\",\"Hassan Whiteside\",\"Patrick Beverley\",\"Kyrie Irving\",\"Enes Kanter\",\"Tristan Thompson\",\"Ricky Rubio\",\"Bismack Biyombo\",\"Bismack Biyombo\",\"Kemba Walker\",\"Klay Thompson\",\"Alec Burks\",\"Markieff Morris\",\"Kawhi Leonard\",\"Nikola Vucevic\",\"Tobias Harris\",\"Kenneth Faried\",\"Reggie Jackson\",\"Cory Joseph\",\"Jimmy Butler\",\"E'Twaun Moore\",\"E'Twaun Moore\",\"E'Twaun Moore\",\"Anthony Davis\",\"Jonas Valanciunas\",\"Harrison Barnes\",\"Terrence Ross\",\"Austin Rivers\",\"Austin Rivers\",\"Austin Rivers\",\"Meyers Leonard\",\"Jeremy Lamb\",\"Draymond Green\",\"Kyle O'Quinn\",\"Jae Crowder\",\"Will Barton\",\"Kent Bazemore\",\"Kent Bazemore\",\"Khris Middleton\",\"Mike Scott\",\"Aron Baynes\",\"Aron Baynes\",\"Justin Holiday\",\"Justin Holiday\",\"Nerlens Noel\",\"Ben McLemore\",\"Kentavious Caldwell-Pope\",\"Trey Burke\",\"Mason Plumlee\",\"Solomon Hill\",\"Reggie Bullock\",\"Robert Covington\",\"Matthew Dellavedova\",\"Mike Muscala\",\"Seth Curry\",\"Seth Curry\",\"Bojan Bogdanovic\",\"Julius Randle\",\"Elfrid Payton\",\"Rodney Hood\",\"Jerami Grant\",\"Joe Harris\",\"Joe Harris\",\"Spencer Dinwiddie\",\"Spencer Dinwiddie\",\"Joe Ingles\",\"JaKarr Sampson\",\"Glenn Robinson III\",\"Jordan Clarkson\",\"Dwight Powell\",\"Langston Galloway\",\"Langston Galloway\",\"Tyler Johnson\",\"JaMychal Green\",\"JaMychal Green\",\"Jahlil Okafor\",\"Willie Cauley-Stein\",\"Boban Marjanovic\",\"Montrezl Harrell\",\"Raul Neto\",\"Pat Connaughton\",\"Christian Wood\",\"Fred VanVleet\",\"Bryn Forbes\",\"Davis Bertans\",\"Patrick McCaw\",\"Quinn Cook\",\"Quinn Cook\",\"Quinn Cook\",\"Shaquille Harrison\",\"Edmond Sumner\",\"Torrey Craig\"],\"value\":[32124579,26966975,13852362,13000000,19706085,20470000,5708251,6000000,5200000,2793470,13410739,23752241,21952203,4140721,12000000,8000000,21468695,4270000,7250000,21018007,9246600,11380811,5250000,4000000,2564753,10150000,31633333,16225926,30116666,9500000,23170974,25770050,33599500,18759601,27500000,12000000,27800803,8026314,8319565,12500000,4250000,10000000,11625000,7369732,4000000,18862876,30168166,17473207,14693906,23311776,22642350,14375941,21587579,16536533,11110193,14591390,13221697,21165675,14693666,17000450,9320750,13503875,4767000,5119761,11317741,23217391,11530375,8000000,16377969,10759763,21598556,20500805,30902124,19784243,11000000,13760025,2500000,1503704,11000000,19000000,8000000,21666666,12250000,6135000,1781692,3750000,2564753,17699435,10000000,3762500,8000000,1040843,16284036,12000000,17275000,15562595,7500000,18989152,31214295,20132140,6666666,6050000,4325064,14000000,8000000,4767000,8383500,3500000,24354884,5756757,20951075,17675529,16399826,13750000,9907000,17000000,12000000,17244862,10375000,8143323,21754050,12000000,16000000,12619684,12485153,7472500,21048050,823244,8680000,981792,24604884,15595506,23370934,10333333,7055398,2174310,11993441,10250000,7000000,16400000,4051312,7000000,3533333,17500000,2000000,17520689,3333333,5323440,5766666,981486,4500000,1820148,5330000,8139282,1289587,13666666,12500000,2500000,4928449,9607500,5000000,1922638,2963205,10500000,13320500,8000000,5718000,8839743,1252368,8000000,1125488,1302356,2100000,1103547,1224935,12500000,9317187,7000000,5933333,7719436,4767000,8300000,1634746,2177483,7000000,6000000,1918572,1682025,874636,9000000,3000000,7000000,2482052,867391,3000000,867391,1473047,1224897,2000000]},\"selected\":{\"id\":\"7735\"},\"selection_policy\":{\"id\":\"7803\"}},\"id\":\"7734\",\"type\":\"ColumnDataSource\"},{\"attributes\":{},\"id\":\"7593\",\"type\":\"Selection\"},{\"attributes\":{\"line_alpha\":0.1,\"line_color\":\"#6d904f\",\"line_width\":2,\"x\":{\"field\":\"player_name\"},\"y\":{\"field\":\"value\"}},\"id\":\"10066\",\"type\":\"Line\"},{\"attributes\":{\"coordinates\":null,\"data_source\":{\"id\":\"10062\"},\"glyph\":{\"id\":\"10065\"},\"group\":null,\"hover_glyph\":null,\"muted_glyph\":{\"id\":\"10067\"},\"nonselection_glyph\":{\"id\":\"10066\"},\"selection_glyph\":{\"id\":\"10183\"},\"view\":{\"id\":\"10069\"}},\"id\":\"10068\",\"type\":\"GlyphRenderer\"},{\"attributes\":{\"line_color\":\"#6d904f\",\"line_width\":2,\"x\":{\"field\":\"player_name\"},\"y\":{\"field\":\"value\"}},\"id\":\"7005\",\"type\":\"Line\"},{\"attributes\":{\"data\":{\"Variable\":[\"2425_salary_predicted\",\"2425_salary_predicted\",\"2425_salary_predicted\",\"2425_salary_predicted\",\"2425_salary_predicted\",\"2425_salary_predicted\",\"2425_salary_predicted\",\"2425_salary_predicted\",\"2425_salary_predicted\",\"2425_salary_predicted\",\"2425_salary_predicted\",\"2425_salary_predicted\",\"2425_salary_predicted\",\"2425_salary_predicted\",\"2425_salary_predicted\",\"2425_salary_predicted\",\"2425_salary_predicted\",\"2425_salary_predicted\",\"2425_salary_predicted\",\"2425_salary_predicted\",\"2425_salary_predicted\",\"2425_salary_predicted\",\"2425_salary_predicted\",\"2425_salary_predicted\",\"2425_salary_predicted\",\"2425_salary_predicted\",\"2425_salary_predicted\",\"2425_salary_predicted\",\"2425_salary_predicted\",\"2425_salary_predicted\",\"2425_salary_predicted\",\"2425_salary_predicted\",\"2425_salary_predicted\",\"2425_salary_predicted\",\"2425_salary_predicted\",\"2425_salary_predicted\",\"2425_salary_predicted\",\"2425_salary_predicted\",\"2425_salary_predicted\",\"2425_salary_predicted\",\"2425_salary_predicted\",\"2425_salary_predicted\",\"2425_salary_predicted\",\"2425_salary_predicted\",\"2425_salary_predicted\",\"2425_salary_predicted\",\"2425_salary_predicted\",\"2425_salary_predicted\",\"2425_salary_predicted\",\"2425_salary_predicted\",\"2425_salary_predicted\",\"2425_salary_predicted\",\"2425_salary_predicted\",\"2425_salary_predicted\",\"2425_salary_predicted\",\"2425_salary_predicted\",\"2425_salary_predicted\",\"2425_salary_predicted\",\"2425_salary_predicted\",\"2425_salary_predicted\",\"2425_salary_predicted\",\"2425_salary_predicted\",\"2425_salary_predicted\",\"2425_salary_predicted\",\"2425_salary_predicted\",\"2425_salary_predicted\",\"2425_salary_predicted\",\"2425_salary_predicted\",\"2425_salary_predicted\",\"2425_salary_predicted\",\"2425_salary_predicted\",\"2425_salary_predicted\",\"2425_salary_predicted\",\"2425_salary_predicted\",\"2425_salary_predicted\",\"2425_salary_predicted\",\"2425_salary_predicted\",\"2425_salary_predicted\",\"2425_salary_predicted\",\"2425_salary_predicted\",\"2425_salary_predicted\",\"2425_salary_predicted\",\"2425_salary_predicted\",\"2425_salary_predicted\",\"2425_salary_predicted\",\"2425_salary_predicted\",\"2425_salary_predicted\",\"2425_salary_predicted\",\"2425_salary_predicted\",\"2425_salary_predicted\",\"2425_salary_predicted\",\"2425_salary_predicted\",\"2425_salary_predicted\",\"2425_salary_predicted\",\"2425_salary_predicted\",\"2425_salary_predicted\",\"2425_salary_predicted\",\"2425_salary_predicted\",\"2425_salary_predicted\",\"2425_salary_predicted\",\"2425_salary_predicted\",\"2425_salary_predicted\",\"2425_salary_predicted\",\"2425_salary_predicted\",\"2425_salary_predicted\",\"2425_salary_predicted\",\"2425_salary_predicted\",\"2425_salary_predicted\",\"2425_salary_predicted\",\"2425_salary_predicted\",\"2425_salary_predicted\",\"2425_salary_predicted\",\"2425_salary_predicted\",\"2425_salary_predicted\",\"2425_salary_predicted\",\"2425_salary_predicted\",\"2425_salary_predicted\",\"2425_salary_predicted\",\"2425_salary_predicted\",\"2425_salary_predicted\",\"2425_salary_predicted\",\"2425_salary_predicted\",\"2425_salary_predicted\",\"2425_salary_predicted\",\"2425_salary_predicted\",\"2425_salary_predicted\",\"2425_salary_predicted\",\"2425_salary_predicted\",\"2425_salary_predicted\",\"2425_salary_predicted\",\"2425_salary_predicted\",\"2425_salary_predicted\",\"2425_salary_predicted\",\"2425_salary_predicted\",\"2425_salary_predicted\",\"2425_salary_predicted\",\"2425_salary_predicted\",\"2425_salary_predicted\",\"2425_salary_predicted\",\"2425_salary_predicted\",\"2425_salary_predicted\",\"2425_salary_predicted\",\"2425_salary_predicted\",\"2425_salary_predicted\",\"2425_salary_predicted\",\"2425_salary_predicted\",\"2425_salary_predicted\",\"2425_salary_predicted\",\"2425_salary_predicted\",\"2425_salary_predicted\",\"2425_salary_predicted\",\"2425_salary_predicted\",\"2425_salary_predicted\",\"2425_salary_predicted\",\"2425_salary_predicted\",\"2425_salary_predicted\",\"2425_salary_predicted\",\"2425_salary_predicted\",\"2425_salary_predicted\",\"2425_salary_predicted\",\"2425_salary_predicted\",\"2425_salary_predicted\",\"2425_salary_predicted\",\"2425_salary_predicted\",\"2425_salary_predicted\",\"2425_salary_predicted\",\"2425_salary_predicted\",\"2425_salary_predicted\",\"2425_salary_predicted\",\"2425_salary_predicted\",\"2425_salary_predicted\",\"2425_salary_predicted\",\"2425_salary_predicted\",\"2425_salary_predicted\",\"2425_salary_predicted\",\"2425_salary_predicted\",\"2425_salary_predicted\",\"2425_salary_predicted\",\"2425_salary_predicted\",\"2425_salary_predicted\",\"2425_salary_predicted\",\"2425_salary_predicted\",\"2425_salary_predicted\",\"2425_salary_predicted\",\"2425_salary_predicted\",\"2425_salary_predicted\",\"2425_salary_predicted\",\"2425_salary_predicted\",\"2425_salary_predicted\",\"2425_salary_predicted\",\"2425_salary_predicted\",\"2425_salary_predicted\",\"2425_salary_predicted\",\"2425_salary_predicted\",\"2425_salary_predicted\",\"2425_salary_predicted\",\"2425_salary_predicted\",\"2425_salary_predicted\",\"2425_salary_predicted\"],\"player_name\":[\"LeBron James\",\"LeBron James\",\"Tyson Chandler\",\"Tyson Chandler\",\"Carmelo Anthony\",\"Carmelo Anthony\",\"Kyle Korver\",\"Kyle Korver\",\"Zaza Pachulia\",\"Udonis Haslem\",\"Dwight Howard\",\"Dwight Howard\",\"Dwight Howard\",\"Devin Harris\",\"Andre Iguodala\",\"Trevor Ariza\",\"Chris Paul\",\"Raymond Felton\",\"Jose Calderon\",\"LaMarcus Aldridge\",\"Rudy Gay\",\"Rudy Gay\",\"Thabo Sefolosha\",\"Thabo Sefolosha\",\"Rajon Rondo\",\"Rajon Rondo\",\"Kyle Lowry\",\"Kyle Lowry\",\"Paul Millsap\",\"Paul Millsap\",\"Paul Millsap\",\"Kevin Durant\",\"Kevin Durant\",\"Kevin Durant\",\"Kevin Durant\",\"Al Horford\",\"Al Horford\",\"Mike Conley\",\"Thaddeus Young\",\"Thaddeus Young\",\"Jared Dudley\",\"Jared Dudley\",\"Wilson Chandler\",\"Wilson Chandler\",\"Ian Mahinmi\",\"Derrick Rose\",\"Russell Westbrook\",\"Russell Westbrook\",\"Kevin Love\",\"Kevin Love\",\"Marc Gasol\",\"Marc Gasol\",\"Danilo Gallinari\",\"Danilo Gallinari\",\"Danilo Gallinari\",\"Eric Gordon\",\"Eric Gordon\",\"Brook Lopez\",\"Brook Lopez\",\"Goran Dragic\",\"Goran Dragic\",\"Robin Lopez\",\"Robin Lopez\",\"Robin Lopez\",\"JaVale McGee\",\"Nicolas Batum\",\"Nicolas Batum\",\"George Hill\",\"George Hill\",\"DeAndre Jordan\",\"DeAndre Jordan\",\"Blake Griffin\",\"James Harden\",\"James Harden\",\"Stephen Curry\",\"DeMar DeRozan\",\"James Johnson\",\"James Johnson\",\"Jrue Holiday\",\"Jeff Teague\",\"Jeff Teague\",\"Serge Ibaka\",\"Serge Ibaka\",\"Wayne Ellington\",\"Wayne Ellington\",\"Wayne Ellington\",\"Wesley Matthews\",\"Wesley Matthews\",\"Danny Green\",\"Danny Green\",\"Garrett Temple\",\"Garrett Temple\",\"John Wall\",\"Derrick Favors\",\"Derrick Favors\",\"DeMarcus Cousins\",\"Al-Farouq Aminu\",\"Gordon Hayward\",\"Gordon Hayward\",\"Paul George\",\"Ed Davis\",\"Patrick Patterson\",\"Patrick Patterson\",\"Eric Bledsoe\",\"Avery Bradley\",\"Avery Bradley\",\"Avery Bradley\",\"Quincy Pondexter\",\"Hassan Whiteside\",\"Patrick Beverley\",\"Kyrie Irving\",\"Enes Kanter\",\"Tristan Thompson\",\"Ricky Rubio\",\"Bismack Biyombo\",\"Bismack Biyombo\",\"Kemba Walker\",\"Klay Thompson\",\"Alec Burks\",\"Markieff Morris\",\"Kawhi Leonard\",\"Nikola Vucevic\",\"Tobias Harris\",\"Kenneth Faried\",\"Reggie Jackson\",\"Cory Joseph\",\"Jimmy Butler\",\"E'Twaun Moore\",\"E'Twaun Moore\",\"E'Twaun Moore\",\"Anthony Davis\",\"Jonas Valanciunas\",\"Harrison Barnes\",\"Terrence Ross\",\"Austin Rivers\",\"Austin Rivers\",\"Austin Rivers\",\"Meyers Leonard\",\"Jeremy Lamb\",\"Draymond Green\",\"Kyle O'Quinn\",\"Jae Crowder\",\"Will Barton\",\"Kent Bazemore\",\"Kent Bazemore\",\"Khris Middleton\",\"Mike Scott\",\"Aron Baynes\",\"Aron Baynes\",\"Justin Holiday\",\"Justin Holiday\",\"Nerlens Noel\",\"Ben McLemore\",\"Kentavious Caldwell-Pope\",\"Trey Burke\",\"Mason Plumlee\",\"Solomon Hill\",\"Reggie Bullock\",\"Robert Covington\",\"Matthew Dellavedova\",\"Mike Muscala\",\"Seth Curry\",\"Seth Curry\",\"Bojan Bogdanovic\",\"Julius Randle\",\"Elfrid Payton\",\"Rodney Hood\",\"Jerami Grant\",\"Joe Harris\",\"Joe Harris\",\"Spencer Dinwiddie\",\"Spencer Dinwiddie\",\"Joe Ingles\",\"JaKarr Sampson\",\"Glenn Robinson III\",\"Jordan Clarkson\",\"Dwight Powell\",\"Langston Galloway\",\"Langston Galloway\",\"Tyler Johnson\",\"JaMychal Green\",\"JaMychal Green\",\"Jahlil Okafor\",\"Willie Cauley-Stein\",\"Boban Marjanovic\",\"Montrezl Harrell\",\"Raul Neto\",\"Pat Connaughton\",\"Christian Wood\",\"Fred VanVleet\",\"Bryn Forbes\",\"Davis Bertans\",\"Patrick McCaw\",\"Quinn Cook\",\"Quinn Cook\",\"Quinn Cook\",\"Shaquille Harrison\",\"Edmond Sumner\",\"Torrey Craig\"],\"value\":[51415938,51415938,0,0,0,0,0,0,0,0,0,0,0,0,0,0,30800000,0,0,0,0,0,0,0,0,0,0,0,0,0,0,51179020,51179020,51179020,51179020,9500000,9500000,0,0,0,0,0,0,0,0,3356271,4027525,4027525,4027525,4027525,0,0,0,0,0,3356271,3356271,23000000,23000000,0,0,0,0,0,6007341,0,0,0,0,0,0,0,0,0,55761217,0,0,0,39403894,0,0,0,0,0,0,0,0,0,0,0,0,0,0,0,0,0,0,0,0,48787676,0,0,0,1300000,0,0,0,0,0,0,40000000,0,0,6439025,0,0,0,0,0,0,48787676,20000000,0,0,5250000,0,48798677,0,0,0,43219440,0,18000000,0,0,0,0,0,0,24107143,0,0,0,0,0,31666667,0,0,0,0,0,0,0,15440185,0,0,0,0,0,0,0,4000000,4000000,19032850,30317760,0,0,29793104,0,0,0,0,11000000,0,0,14092577,4000000,0,0,0,0,0,0,0,0,0,0,9423869,0,42846615,0,16000000,0,0,0,0,0,0,2845342]},\"selected\":{\"id\":\"7395\"},\"selection_policy\":{\"id\":\"7453\"}},\"id\":\"7394\",\"type\":\"ColumnDataSource\"},{\"attributes\":{\"source\":{\"id\":\"7884\"}},\"id\":\"7891\",\"type\":\"CDSView\"},{\"attributes\":{},\"id\":\"7885\",\"type\":\"Selection\"},{\"attributes\":{\"data\":{\"Variable\":[\"CONTRACT_START\",\"CONTRACT_START\",\"CONTRACT_START\",\"CONTRACT_START\",\"CONTRACT_START\",\"CONTRACT_START\",\"CONTRACT_START\",\"CONTRACT_START\",\"CONTRACT_START\",\"CONTRACT_START\",\"CONTRACT_START\",\"CONTRACT_START\",\"CONTRACT_START\",\"CONTRACT_START\",\"CONTRACT_START\",\"CONTRACT_START\",\"CONTRACT_START\",\"CONTRACT_START\",\"CONTRACT_START\",\"CONTRACT_START\",\"CONTRACT_START\",\"CONTRACT_START\",\"CONTRACT_START\",\"CONTRACT_START\",\"CONTRACT_START\",\"CONTRACT_START\",\"CONTRACT_START\",\"CONTRACT_START\",\"CONTRACT_START\",\"CONTRACT_START\",\"CONTRACT_START\",\"CONTRACT_START\",\"CONTRACT_START\",\"CONTRACT_START\",\"CONTRACT_START\",\"CONTRACT_START\",\"CONTRACT_START\",\"CONTRACT_START\",\"CONTRACT_START\",\"CONTRACT_START\",\"CONTRACT_START\",\"CONTRACT_START\",\"CONTRACT_START\",\"CONTRACT_START\",\"CONTRACT_START\",\"CONTRACT_START\",\"CONTRACT_START\",\"CONTRACT_START\",\"CONTRACT_START\",\"CONTRACT_START\",\"CONTRACT_START\",\"CONTRACT_START\",\"CONTRACT_START\",\"CONTRACT_START\",\"CONTRACT_START\",\"CONTRACT_START\",\"CONTRACT_START\",\"CONTRACT_START\",\"CONTRACT_START\",\"CONTRACT_START\",\"CONTRACT_START\",\"CONTRACT_START\",\"CONTRACT_START\",\"CONTRACT_START\",\"CONTRACT_START\",\"CONTRACT_START\",\"CONTRACT_START\",\"CONTRACT_START\",\"CONTRACT_START\",\"CONTRACT_START\",\"CONTRACT_START\",\"CONTRACT_START\",\"CONTRACT_START\",\"CONTRACT_START\",\"CONTRACT_START\",\"CONTRACT_START\",\"CONTRACT_START\",\"CONTRACT_START\",\"CONTRACT_START\",\"CONTRACT_START\",\"CONTRACT_START\",\"CONTRACT_START\",\"CONTRACT_START\",\"CONTRACT_START\",\"CONTRACT_START\",\"CONTRACT_START\",\"CONTRACT_START\",\"CONTRACT_START\",\"CONTRACT_START\",\"CONTRACT_START\",\"CONTRACT_START\",\"CONTRACT_START\",\"CONTRACT_START\",\"CONTRACT_START\",\"CONTRACT_START\",\"CONTRACT_START\",\"CONTRACT_START\",\"CONTRACT_START\",\"CONTRACT_START\",\"CONTRACT_START\",\"CONTRACT_START\",\"CONTRACT_START\",\"CONTRACT_START\",\"CONTRACT_START\",\"CONTRACT_START\",\"CONTRACT_START\",\"CONTRACT_START\",\"CONTRACT_START\",\"CONTRACT_START\",\"CONTRACT_START\",\"CONTRACT_START\",\"CONTRACT_START\",\"CONTRACT_START\",\"CONTRACT_START\",\"CONTRACT_START\",\"CONTRACT_START\",\"CONTRACT_START\",\"CONTRACT_START\",\"CONTRACT_START\",\"CONTRACT_START\",\"CONTRACT_START\",\"CONTRACT_START\",\"CONTRACT_START\",\"CONTRACT_START\",\"CONTRACT_START\",\"CONTRACT_START\",\"CONTRACT_START\",\"CONTRACT_START\",\"CONTRACT_START\",\"CONTRACT_START\",\"CONTRACT_START\",\"CONTRACT_START\",\"CONTRACT_START\",\"CONTRACT_START\",\"CONTRACT_START\",\"CONTRACT_START\",\"CONTRACT_START\",\"CONTRACT_START\",\"CONTRACT_START\",\"CONTRACT_START\",\"CONTRACT_START\",\"CONTRACT_START\",\"CONTRACT_START\",\"CONTRACT_START\",\"CONTRACT_START\",\"CONTRACT_START\",\"CONTRACT_START\",\"CONTRACT_START\",\"CONTRACT_START\",\"CONTRACT_START\",\"CONTRACT_START\",\"CONTRACT_START\",\"CONTRACT_START\",\"CONTRACT_START\",\"CONTRACT_START\",\"CONTRACT_START\",\"CONTRACT_START\",\"CONTRACT_START\",\"CONTRACT_START\",\"CONTRACT_START\",\"CONTRACT_START\",\"CONTRACT_START\",\"CONTRACT_START\",\"CONTRACT_START\",\"CONTRACT_START\",\"CONTRACT_START\",\"CONTRACT_START\",\"CONTRACT_START\",\"CONTRACT_START\",\"CONTRACT_START\",\"CONTRACT_START\",\"CONTRACT_START\",\"CONTRACT_START\",\"CONTRACT_START\",\"CONTRACT_START\",\"CONTRACT_START\",\"CONTRACT_START\",\"CONTRACT_START\",\"CONTRACT_START\",\"CONTRACT_START\",\"CONTRACT_START\",\"CONTRACT_START\",\"CONTRACT_START\",\"CONTRACT_START\",\"CONTRACT_START\",\"CONTRACT_START\",\"CONTRACT_START\",\"CONTRACT_START\",\"CONTRACT_START\",\"CONTRACT_START\",\"CONTRACT_START\",\"CONTRACT_START\",\"CONTRACT_START\",\"CONTRACT_START\",\"CONTRACT_START\",\"CONTRACT_START\",\"CONTRACT_START\",\"CONTRACT_START\",\"CONTRACT_START\"],\"player_name\":[\"LeBron James\",\"LeBron James\",\"Tyson Chandler\",\"Tyson Chandler\",\"Carmelo Anthony\",\"Carmelo Anthony\",\"Kyle Korver\",\"Kyle Korver\",\"Zaza Pachulia\",\"Udonis Haslem\",\"Dwight Howard\",\"Dwight Howard\",\"Dwight Howard\",\"Devin Harris\",\"Andre Iguodala\",\"Trevor Ariza\",\"Chris Paul\",\"Raymond Felton\",\"Jose Calderon\",\"LaMarcus Aldridge\",\"Rudy Gay\",\"Rudy Gay\",\"Thabo Sefolosha\",\"Thabo Sefolosha\",\"Rajon Rondo\",\"Rajon Rondo\",\"Kyle Lowry\",\"Kyle Lowry\",\"Paul Millsap\",\"Paul Millsap\",\"Paul Millsap\",\"Kevin Durant\",\"Kevin Durant\",\"Kevin Durant\",\"Kevin Durant\",\"Al Horford\",\"Al Horford\",\"Mike Conley\",\"Thaddeus Young\",\"Thaddeus Young\",\"Jared Dudley\",\"Jared Dudley\",\"Wilson Chandler\",\"Wilson Chandler\",\"Ian Mahinmi\",\"Derrick Rose\",\"Russell Westbrook\",\"Russell Westbrook\",\"Kevin Love\",\"Kevin Love\",\"Marc Gasol\",\"Marc Gasol\",\"Danilo Gallinari\",\"Danilo Gallinari\",\"Danilo Gallinari\",\"Eric Gordon\",\"Eric Gordon\",\"Brook Lopez\",\"Brook Lopez\",\"Goran Dragic\",\"Goran Dragic\",\"Robin Lopez\",\"Robin Lopez\",\"Robin Lopez\",\"JaVale McGee\",\"Nicolas Batum\",\"Nicolas Batum\",\"George Hill\",\"George Hill\",\"DeAndre Jordan\",\"DeAndre Jordan\",\"Blake Griffin\",\"James Harden\",\"James Harden\",\"Stephen Curry\",\"DeMar DeRozan\",\"James Johnson\",\"James Johnson\",\"Jrue Holiday\",\"Jeff Teague\",\"Jeff Teague\",\"Serge Ibaka\",\"Serge Ibaka\",\"Wayne Ellington\",\"Wayne Ellington\",\"Wayne Ellington\",\"Wesley Matthews\",\"Wesley Matthews\",\"Danny Green\",\"Danny Green\",\"Garrett Temple\",\"Garrett Temple\",\"John Wall\",\"Derrick Favors\",\"Derrick Favors\",\"DeMarcus Cousins\",\"Al-Farouq Aminu\",\"Gordon Hayward\",\"Gordon Hayward\",\"Paul George\",\"Ed Davis\",\"Patrick Patterson\",\"Patrick Patterson\",\"Eric Bledsoe\",\"Avery Bradley\",\"Avery Bradley\",\"Avery Bradley\",\"Quincy Pondexter\",\"Hassan Whiteside\",\"Patrick Beverley\",\"Kyrie Irving\",\"Enes Kanter\",\"Tristan Thompson\",\"Ricky Rubio\",\"Bismack Biyombo\",\"Bismack Biyombo\",\"Kemba Walker\",\"Klay Thompson\",\"Alec Burks\",\"Markieff Morris\",\"Kawhi Leonard\",\"Nikola Vucevic\",\"Tobias Harris\",\"Kenneth Faried\",\"Reggie Jackson\",\"Cory Joseph\",\"Jimmy Butler\",\"E'Twaun Moore\",\"E'Twaun Moore\",\"E'Twaun Moore\",\"Anthony Davis\",\"Jonas Valanciunas\",\"Harrison Barnes\",\"Terrence Ross\",\"Austin Rivers\",\"Austin Rivers\",\"Austin Rivers\",\"Meyers Leonard\",\"Jeremy Lamb\",\"Draymond Green\",\"Kyle O'Quinn\",\"Jae Crowder\",\"Will Barton\",\"Kent Bazemore\",\"Kent Bazemore\",\"Khris Middleton\",\"Mike Scott\",\"Aron Baynes\",\"Aron Baynes\",\"Justin Holiday\",\"Justin Holiday\",\"Nerlens Noel\",\"Ben McLemore\",\"Kentavious Caldwell-Pope\",\"Trey Burke\",\"Mason Plumlee\",\"Solomon Hill\",\"Reggie Bullock\",\"Robert Covington\",\"Matthew Dellavedova\",\"Mike Muscala\",\"Seth Curry\",\"Seth Curry\",\"Bojan Bogdanovic\",\"Julius Randle\",\"Elfrid Payton\",\"Rodney Hood\",\"Jerami Grant\",\"Joe Harris\",\"Joe Harris\",\"Spencer Dinwiddie\",\"Spencer Dinwiddie\",\"Joe Ingles\",\"JaKarr Sampson\",\"Glenn Robinson III\",\"Jordan Clarkson\",\"Dwight Powell\",\"Langston Galloway\",\"Langston Galloway\",\"Tyler Johnson\",\"JaMychal Green\",\"JaMychal Green\",\"Jahlil Okafor\",\"Willie Cauley-Stein\",\"Boban Marjanovic\",\"Montrezl Harrell\",\"Raul Neto\",\"Pat Connaughton\",\"Christian Wood\",\"Fred VanVleet\",\"Bryn Forbes\",\"Davis Bertans\",\"Patrick McCaw\",\"Quinn Cook\",\"Quinn Cook\",\"Quinn Cook\",\"Shaquille Harrison\",\"Edmond Sumner\",\"Torrey Craig\"],\"value\":[2016,2015,2011,2015,2014,2012,2017,2013,2013,2014,2018,2016,2013,2014,2013,2014,2013,2012,2013,2015,2017,2015,2017,2014,2019,2016,2017,2014,2017,2013,2015,2016,2018,2011,2017,2011,2016,2011,2011,2015,2011,2016,2015,2011,2012,2012,2016,2012,2012,2015,2015,2011,2017,2015,2012,2012,2016,2015,2012,2015,2012,2015,2019,2012,2012,2016,2012,2012,2017,2011,2015,2013,2016,2013,2013,2013,2014,2013,2013,2017,2013,2017,2013,2016,2013,2015,2019,2015,2015,2012,2016,2014,2014,2014,2018,2014,2015,2014,2017,2014,2015,2014,2017,2014,2014,2019,2018,2014,2016,2015,2015,2015,2015,2015,2015,2016,2015,2015,2015,2015,2015,2015,2015,2015,2015,2015,2015,2012,2016,2014,2016,2016,2016,2016,2015,2019,2016,2016,2016,2015,2015,2015,2015,2016,2014,2015,2014,2018,2015,2015,2017,2018,2017,2019,2017,2017,2016,2017,2014,2016,2017,2015,2016,2017,2018,2019,2019,2018,2016,2018,2016,2016,2015,2015,2015,2016,2016,2017,2016,2016,2019,2017,2018,2019,2016,2018,2018,2018,2016,2018,2018,2018,2018,2017,2019,2017,2018,2018,2018]},\"selected\":{\"id\":\"7593\"},\"selection_policy\":{\"id\":\"7657\"}},\"id\":\"7592\",\"type\":\"ColumnDataSource\"},{\"attributes\":{},\"id\":\"10179\",\"type\":\"UnionRenderers\"},{\"attributes\":{\"line_alpha\":0.1,\"line_color\":\"#6d904f\",\"line_width\":2,\"x\":{\"field\":\"player_name\"},\"y\":{\"field\":\"value\"}},\"id\":\"7006\",\"type\":\"Line\"},{\"attributes\":{\"label\":{\"value\":\"+/-\"},\"renderers\":[{\"id\":\"10068\"}]},\"id\":\"10182\",\"type\":\"LegendItem\"},{\"attributes\":{\"coordinates\":null,\"data_source\":{\"id\":\"7002\"},\"glyph\":{\"id\":\"7005\"},\"group\":null,\"hover_glyph\":null,\"muted_glyph\":{\"id\":\"7007\"},\"nonselection_glyph\":{\"id\":\"7006\"},\"selection_glyph\":{\"id\":\"7051\"},\"view\":{\"id\":\"7009\"}},\"id\":\"7008\",\"type\":\"GlyphRenderer\"},{\"attributes\":{\"label\":{\"value\":\"Unnamed: 0\"},\"renderers\":[{\"id\":\"6497\"}]},\"id\":\"6510\",\"type\":\"LegendItem\"},{\"attributes\":{},\"id\":\"7047\",\"type\":\"UnionRenderers\"},{\"attributes\":{\"data\":{\"Variable\":[\"+/-\",\"+/-\",\"+/-\",\"+/-\",\"+/-\",\"+/-\",\"+/-\",\"+/-\",\"+/-\",\"+/-\",\"+/-\",\"+/-\",\"+/-\",\"+/-\",\"+/-\",\"+/-\",\"+/-\",\"+/-\",\"+/-\",\"+/-\",\"+/-\",\"+/-\",\"+/-\",\"+/-\",\"+/-\",\"+/-\",\"+/-\",\"+/-\",\"+/-\",\"+/-\",\"+/-\",\"+/-\",\"+/-\",\"+/-\",\"+/-\",\"+/-\",\"+/-\",\"+/-\",\"+/-\",\"+/-\",\"+/-\",\"+/-\",\"+/-\",\"+/-\",\"+/-\",\"+/-\",\"+/-\",\"+/-\",\"+/-\",\"+/-\",\"+/-\",\"+/-\",\"+/-\",\"+/-\",\"+/-\",\"+/-\",\"+/-\",\"+/-\",\"+/-\",\"+/-\",\"+/-\",\"+/-\",\"+/-\",\"+/-\",\"+/-\",\"+/-\",\"+/-\",\"+/-\",\"+/-\",\"+/-\",\"+/-\",\"+/-\",\"+/-\",\"+/-\",\"+/-\",\"+/-\",\"+/-\",\"+/-\",\"+/-\",\"+/-\",\"+/-\",\"+/-\",\"+/-\",\"+/-\",\"+/-\",\"+/-\",\"+/-\",\"+/-\",\"+/-\",\"+/-\",\"+/-\",\"+/-\",\"+/-\",\"+/-\",\"+/-\",\"+/-\",\"+/-\",\"+/-\",\"+/-\",\"+/-\",\"+/-\",\"+/-\",\"+/-\",\"+/-\",\"+/-\",\"+/-\",\"+/-\",\"+/-\",\"+/-\",\"+/-\",\"+/-\",\"+/-\",\"+/-\",\"+/-\",\"+/-\",\"+/-\",\"+/-\",\"+/-\",\"+/-\",\"+/-\",\"+/-\",\"+/-\",\"+/-\",\"+/-\",\"+/-\",\"+/-\",\"+/-\",\"+/-\",\"+/-\",\"+/-\",\"+/-\",\"+/-\",\"+/-\",\"+/-\",\"+/-\",\"+/-\",\"+/-\",\"+/-\",\"+/-\",\"+/-\",\"+/-\",\"+/-\",\"+/-\",\"+/-\",\"+/-\",\"+/-\",\"+/-\",\"+/-\",\"+/-\",\"+/-\",\"+/-\",\"+/-\",\"+/-\",\"+/-\",\"+/-\",\"+/-\",\"+/-\",\"+/-\",\"+/-\",\"+/-\",\"+/-\",\"+/-\",\"+/-\",\"+/-\",\"+/-\",\"+/-\",\"+/-\",\"+/-\",\"+/-\",\"+/-\",\"+/-\",\"+/-\",\"+/-\",\"+/-\",\"+/-\",\"+/-\",\"+/-\",\"+/-\",\"+/-\",\"+/-\",\"+/-\",\"+/-\",\"+/-\",\"+/-\",\"+/-\",\"+/-\",\"+/-\",\"+/-\",\"+/-\",\"+/-\",\"+/-\",\"+/-\",\"+/-\",\"+/-\",\"+/-\",\"+/-\",\"+/-\",\"+/-\",\"+/-\"],\"player_name\":[\"LeBron James\",\"LeBron James\",\"Tyson Chandler\",\"Tyson Chandler\",\"Carmelo Anthony\",\"Carmelo Anthony\",\"Kyle Korver\",\"Kyle Korver\",\"Zaza Pachulia\",\"Udonis Haslem\",\"Dwight Howard\",\"Dwight Howard\",\"Dwight Howard\",\"Devin Harris\",\"Andre Iguodala\",\"Trevor Ariza\",\"Chris Paul\",\"Raymond Felton\",\"Jose Calderon\",\"LaMarcus Aldridge\",\"Rudy Gay\",\"Rudy Gay\",\"Thabo Sefolosha\",\"Thabo Sefolosha\",\"Rajon Rondo\",\"Rajon Rondo\",\"Kyle Lowry\",\"Kyle Lowry\",\"Paul Millsap\",\"Paul Millsap\",\"Paul Millsap\",\"Kevin Durant\",\"Kevin Durant\",\"Kevin Durant\",\"Kevin Durant\",\"Al Horford\",\"Al Horford\",\"Mike Conley\",\"Thaddeus Young\",\"Thaddeus Young\",\"Jared Dudley\",\"Jared Dudley\",\"Wilson Chandler\",\"Wilson Chandler\",\"Ian Mahinmi\",\"Derrick Rose\",\"Russell Westbrook\",\"Russell Westbrook\",\"Kevin Love\",\"Kevin Love\",\"Marc Gasol\",\"Marc Gasol\",\"Danilo Gallinari\",\"Danilo Gallinari\",\"Danilo Gallinari\",\"Eric Gordon\",\"Eric Gordon\",\"Brook Lopez\",\"Brook Lopez\",\"Goran Dragic\",\"Goran Dragic\",\"Robin Lopez\",\"Robin Lopez\",\"Robin Lopez\",\"JaVale McGee\",\"Nicolas Batum\",\"Nicolas Batum\",\"George Hill\",\"George Hill\",\"DeAndre Jordan\",\"DeAndre Jordan\",\"Blake Griffin\",\"James Harden\",\"James Harden\",\"Stephen Curry\",\"DeMar DeRozan\",\"James Johnson\",\"James Johnson\",\"Jrue Holiday\",\"Jeff Teague\",\"Jeff Teague\",\"Serge Ibaka\",\"Serge Ibaka\",\"Wayne Ellington\",\"Wayne Ellington\",\"Wayne Ellington\",\"Wesley Matthews\",\"Wesley Matthews\",\"Danny Green\",\"Danny Green\",\"Garrett Temple\",\"Garrett Temple\",\"John Wall\",\"Derrick Favors\",\"Derrick Favors\",\"DeMarcus Cousins\",\"Al-Farouq Aminu\",\"Gordon Hayward\",\"Gordon Hayward\",\"Paul George\",\"Ed Davis\",\"Patrick Patterson\",\"Patrick Patterson\",\"Eric Bledsoe\",\"Avery Bradley\",\"Avery Bradley\",\"Avery Bradley\",\"Quincy Pondexter\",\"Hassan Whiteside\",\"Patrick Beverley\",\"Kyrie Irving\",\"Enes Kanter\",\"Tristan Thompson\",\"Ricky Rubio\",\"Bismack Biyombo\",\"Bismack Biyombo\",\"Kemba Walker\",\"Klay Thompson\",\"Alec Burks\",\"Markieff Morris\",\"Kawhi Leonard\",\"Nikola Vucevic\",\"Tobias Harris\",\"Kenneth Faried\",\"Reggie Jackson\",\"Cory Joseph\",\"Jimmy Butler\",\"E'Twaun Moore\",\"E'Twaun Moore\",\"E'Twaun Moore\",\"Anthony Davis\",\"Jonas Valanciunas\",\"Harrison Barnes\",\"Terrence Ross\",\"Austin Rivers\",\"Austin Rivers\",\"Austin Rivers\",\"Meyers Leonard\",\"Jeremy Lamb\",\"Draymond Green\",\"Kyle O'Quinn\",\"Jae Crowder\",\"Will Barton\",\"Kent Bazemore\",\"Kent Bazemore\",\"Khris Middleton\",\"Mike Scott\",\"Aron Baynes\",\"Aron Baynes\",\"Justin Holiday\",\"Justin Holiday\",\"Nerlens Noel\",\"Ben McLemore\",\"Kentavious Caldwell-Pope\",\"Trey Burke\",\"Mason Plumlee\",\"Solomon Hill\",\"Reggie Bullock\",\"Robert Covington\",\"Matthew Dellavedova\",\"Mike Muscala\",\"Seth Curry\",\"Seth Curry\",\"Bojan Bogdanovic\",\"Julius Randle\",\"Elfrid Payton\",\"Rodney Hood\",\"Jerami Grant\",\"Joe Harris\",\"Joe Harris\",\"Spencer Dinwiddie\",\"Spencer Dinwiddie\",\"Joe Ingles\",\"JaKarr Sampson\",\"Glenn Robinson III\",\"Jordan Clarkson\",\"Dwight Powell\",\"Langston Galloway\",\"Langston Galloway\",\"Tyler Johnson\",\"JaMychal Green\",\"JaMychal Green\",\"Jahlil Okafor\",\"Willie Cauley-Stein\",\"Boban Marjanovic\",\"Montrezl Harrell\",\"Raul Neto\",\"Pat Connaughton\",\"Christian Wood\",\"Fred VanVleet\",\"Bryn Forbes\",\"Davis Bertans\",\"Patrick McCaw\",\"Quinn Cook\",\"Quinn Cook\",\"Quinn Cook\",\"Shaquille Harrison\",\"Edmond Sumner\",\"Torrey Craig\"],\"value\":[618,541,295,230,104,108,-169,199,-26,-69,89,18,138,156,380,196,432,142,-251,338,66,-107,-65,119,-245,-154,356,269,135,4,408,646,351,269,711,44,231,297,161,-214,-31,60,-217,175,69,290,634,368,26,399,225,138,159,18,218,34,-70,-104,-27,20,69,146,-142,-64,-305,211,-59,77,258,-100,622,387,124,195,133,-112,96,-279,-127,49,74,-142,489,-322,17,-121,-90,272,430,244,-38,-86,196,-338,143,-17,105,-395,347,371,-265,168,347,136,-127,-82,-122,-106,86,71,422,-34,218,-12,-31,84,-188,776,-129,105,440,-302,-294,-38,113,173,238,31,-37,-147,-200,147,451,243,-128,104,-162,100,152,839,-123,73,-29,76,-251,320,-192,185,136,-13,-41,-119,-135,-156,-160,-1,46,55,17,381,-76,-4,-36,-264,-81,-69,-273,17,-21,-120,-56,-56,-49,-335,27,-628,-81,-60,-104,9,-214,-28,-163,54,54,53,119,141,-49,352,122,89,-85,-41,-133,-41,47,-6,-61]},\"selected\":{\"id\":\"10063\"},\"selection_policy\":{\"id\":\"10179\"}},\"id\":\"10062\",\"type\":\"ColumnDataSource\"},{\"attributes\":{\"source\":{\"id\":\"7394\"}},\"id\":\"7401\",\"type\":\"CDSView\"},{\"attributes\":{\"label\":{\"value\":\"1718_salary_adjusted\"},\"renderers\":[{\"id\":\"7008\"}]},\"id\":\"7050\",\"type\":\"LegendItem\"},{\"attributes\":{\"line_color\":\"#30a2da\",\"line_width\":2,\"x\":{\"field\":\"player_name\"},\"y\":{\"field\":\"value\"}},\"id\":\"6511\",\"type\":\"Line\"},{\"attributes\":{},\"id\":\"7395\",\"type\":\"Selection\"},{\"attributes\":{\"data\":{\"Variable\":[\"2021_salary_adjusted\",\"2021_salary_adjusted\",\"2021_salary_adjusted\",\"2021_salary_adjusted\",\"2021_salary_adjusted\",\"2021_salary_adjusted\",\"2021_salary_adjusted\",\"2021_salary_adjusted\",\"2021_salary_adjusted\",\"2021_salary_adjusted\",\"2021_salary_adjusted\",\"2021_salary_adjusted\",\"2021_salary_adjusted\",\"2021_salary_adjusted\",\"2021_salary_adjusted\",\"2021_salary_adjusted\",\"2021_salary_adjusted\",\"2021_salary_adjusted\",\"2021_salary_adjusted\",\"2021_salary_adjusted\",\"2021_salary_adjusted\",\"2021_salary_adjusted\",\"2021_salary_adjusted\",\"2021_salary_adjusted\",\"2021_salary_adjusted\",\"2021_salary_adjusted\",\"2021_salary_adjusted\",\"2021_salary_adjusted\",\"2021_salary_adjusted\",\"2021_salary_adjusted\",\"2021_salary_adjusted\",\"2021_salary_adjusted\",\"2021_salary_adjusted\",\"2021_salary_adjusted\",\"2021_salary_adjusted\",\"2021_salary_adjusted\",\"2021_salary_adjusted\",\"2021_salary_adjusted\",\"2021_salary_adjusted\",\"2021_salary_adjusted\",\"2021_salary_adjusted\",\"2021_salary_adjusted\",\"2021_salary_adjusted\",\"2021_salary_adjusted\",\"2021_salary_adjusted\",\"2021_salary_adjusted\",\"2021_salary_adjusted\",\"2021_salary_adjusted\",\"2021_salary_adjusted\",\"2021_salary_adjusted\",\"2021_salary_adjusted\",\"2021_salary_adjusted\",\"2021_salary_adjusted\",\"2021_salary_adjusted\",\"2021_salary_adjusted\",\"2021_salary_adjusted\",\"2021_salary_adjusted\",\"2021_salary_adjusted\",\"2021_salary_adjusted\",\"2021_salary_adjusted\",\"2021_salary_adjusted\",\"2021_salary_adjusted\",\"2021_salary_adjusted\",\"2021_salary_adjusted\",\"2021_salary_adjusted\",\"2021_salary_adjusted\",\"2021_salary_adjusted\",\"2021_salary_adjusted\",\"2021_salary_adjusted\",\"2021_salary_adjusted\",\"2021_salary_adjusted\",\"2021_salary_adjusted\",\"2021_salary_adjusted\",\"2021_salary_adjusted\",\"2021_salary_adjusted\",\"2021_salary_adjusted\",\"2021_salary_adjusted\",\"2021_salary_adjusted\",\"2021_salary_adjusted\",\"2021_salary_adjusted\",\"2021_salary_adjusted\",\"2021_salary_adjusted\",\"2021_salary_adjusted\",\"2021_salary_adjusted\",\"2021_salary_adjusted\",\"2021_salary_adjusted\",\"2021_salary_adjusted\",\"2021_salary_adjusted\",\"2021_salary_adjusted\",\"2021_salary_adjusted\",\"2021_salary_adjusted\",\"2021_salary_adjusted\",\"2021_salary_adjusted\",\"2021_salary_adjusted\",\"2021_salary_adjusted\",\"2021_salary_adjusted\",\"2021_salary_adjusted\",\"2021_salary_adjusted\",\"2021_salary_adjusted\",\"2021_salary_adjusted\",\"2021_salary_adjusted\",\"2021_salary_adjusted\",\"2021_salary_adjusted\",\"2021_salary_adjusted\",\"2021_salary_adjusted\",\"2021_salary_adjusted\",\"2021_salary_adjusted\",\"2021_salary_adjusted\",\"2021_salary_adjusted\",\"2021_salary_adjusted\",\"2021_salary_adjusted\",\"2021_salary_adjusted\",\"2021_salary_adjusted\",\"2021_salary_adjusted\",\"2021_salary_adjusted\",\"2021_salary_adjusted\",\"2021_salary_adjusted\",\"2021_salary_adjusted\",\"2021_salary_adjusted\",\"2021_salary_adjusted\",\"2021_salary_adjusted\",\"2021_salary_adjusted\",\"2021_salary_adjusted\",\"2021_salary_adjusted\",\"2021_salary_adjusted\",\"2021_salary_adjusted\",\"2021_salary_adjusted\",\"2021_salary_adjusted\",\"2021_salary_adjusted\",\"2021_salary_adjusted\",\"2021_salary_adjusted\",\"2021_salary_adjusted\",\"2021_salary_adjusted\",\"2021_salary_adjusted\",\"2021_salary_adjusted\",\"2021_salary_adjusted\",\"2021_salary_adjusted\",\"2021_salary_adjusted\",\"2021_salary_adjusted\",\"2021_salary_adjusted\",\"2021_salary_adjusted\",\"2021_salary_adjusted\",\"2021_salary_adjusted\",\"2021_salary_adjusted\",\"2021_salary_adjusted\",\"2021_salary_adjusted\",\"2021_salary_adjusted\",\"2021_salary_adjusted\",\"2021_salary_adjusted\",\"2021_salary_adjusted\",\"2021_salary_adjusted\",\"2021_salary_adjusted\",\"2021_salary_adjusted\",\"2021_salary_adjusted\",\"2021_salary_adjusted\",\"2021_salary_adjusted\",\"2021_salary_adjusted\",\"2021_salary_adjusted\",\"2021_salary_adjusted\",\"2021_salary_adjusted\",\"2021_salary_adjusted\",\"2021_salary_adjusted\",\"2021_salary_adjusted\",\"2021_salary_adjusted\",\"2021_salary_adjusted\",\"2021_salary_adjusted\",\"2021_salary_adjusted\",\"2021_salary_adjusted\",\"2021_salary_adjusted\",\"2021_salary_adjusted\",\"2021_salary_adjusted\",\"2021_salary_adjusted\",\"2021_salary_adjusted\",\"2021_salary_adjusted\",\"2021_salary_adjusted\",\"2021_salary_adjusted\",\"2021_salary_adjusted\",\"2021_salary_adjusted\",\"2021_salary_adjusted\",\"2021_salary_adjusted\",\"2021_salary_adjusted\",\"2021_salary_adjusted\",\"2021_salary_adjusted\",\"2021_salary_adjusted\",\"2021_salary_adjusted\",\"2021_salary_adjusted\",\"2021_salary_adjusted\",\"2021_salary_adjusted\",\"2021_salary_adjusted\",\"2021_salary_adjusted\",\"2021_salary_adjusted\",\"2021_salary_adjusted\",\"2021_salary_adjusted\",\"2021_salary_adjusted\",\"2021_salary_adjusted\",\"2021_salary_adjusted\",\"2021_salary_adjusted\",\"2021_salary_adjusted\",\"2021_salary_adjusted\"],\"player_name\":[\"LeBron James\",\"LeBron James\",\"Tyson Chandler\",\"Tyson Chandler\",\"Carmelo Anthony\",\"Carmelo Anthony\",\"Kyle Korver\",\"Kyle Korver\",\"Zaza Pachulia\",\"Udonis Haslem\",\"Dwight Howard\",\"Dwight Howard\",\"Dwight Howard\",\"Devin Harris\",\"Andre Iguodala\",\"Trevor Ariza\",\"Chris Paul\",\"Raymond Felton\",\"Jose Calderon\",\"LaMarcus Aldridge\",\"Rudy Gay\",\"Rudy Gay\",\"Thabo Sefolosha\",\"Thabo Sefolosha\",\"Rajon Rondo\",\"Rajon Rondo\",\"Kyle Lowry\",\"Kyle Lowry\",\"Paul Millsap\",\"Paul Millsap\",\"Paul Millsap\",\"Kevin Durant\",\"Kevin Durant\",\"Kevin Durant\",\"Kevin Durant\",\"Al Horford\",\"Al Horford\",\"Mike Conley\",\"Thaddeus Young\",\"Thaddeus Young\",\"Jared Dudley\",\"Jared Dudley\",\"Wilson Chandler\",\"Wilson Chandler\",\"Ian Mahinmi\",\"Derrick Rose\",\"Russell Westbrook\",\"Russell Westbrook\",\"Kevin Love\",\"Kevin Love\",\"Marc Gasol\",\"Marc Gasol\",\"Danilo Gallinari\",\"Danilo Gallinari\",\"Danilo Gallinari\",\"Eric Gordon\",\"Eric Gordon\",\"Brook Lopez\",\"Brook Lopez\",\"Goran Dragic\",\"Goran Dragic\",\"Robin Lopez\",\"Robin Lopez\",\"Robin Lopez\",\"JaVale McGee\",\"Nicolas Batum\",\"Nicolas Batum\",\"George Hill\",\"George Hill\",\"DeAndre Jordan\",\"DeAndre Jordan\",\"Blake Griffin\",\"James Harden\",\"James Harden\",\"Stephen Curry\",\"DeMar DeRozan\",\"James Johnson\",\"James Johnson\",\"Jrue Holiday\",\"Jeff Teague\",\"Jeff Teague\",\"Serge Ibaka\",\"Serge Ibaka\",\"Wayne Ellington\",\"Wayne Ellington\",\"Wayne Ellington\",\"Wesley Matthews\",\"Wesley Matthews\",\"Danny Green\",\"Danny Green\",\"Garrett Temple\",\"Garrett Temple\",\"John Wall\",\"Derrick Favors\",\"Derrick Favors\",\"DeMarcus Cousins\",\"Al-Farouq Aminu\",\"Gordon Hayward\",\"Gordon Hayward\",\"Paul George\",\"Ed Davis\",\"Patrick Patterson\",\"Patrick Patterson\",\"Eric Bledsoe\",\"Avery Bradley\",\"Avery Bradley\",\"Avery Bradley\",\"Quincy Pondexter\",\"Hassan Whiteside\",\"Patrick Beverley\",\"Kyrie Irving\",\"Enes Kanter\",\"Tristan Thompson\",\"Ricky Rubio\",\"Bismack Biyombo\",\"Bismack Biyombo\",\"Kemba Walker\",\"Klay Thompson\",\"Alec Burks\",\"Markieff Morris\",\"Kawhi Leonard\",\"Nikola Vucevic\",\"Tobias Harris\",\"Kenneth Faried\",\"Reggie Jackson\",\"Cory Joseph\",\"Jimmy Butler\",\"E'Twaun Moore\",\"E'Twaun Moore\",\"E'Twaun Moore\",\"Anthony Davis\",\"Jonas Valanciunas\",\"Harrison Barnes\",\"Terrence Ross\",\"Austin Rivers\",\"Austin Rivers\",\"Austin Rivers\",\"Meyers Leonard\",\"Jeremy Lamb\",\"Draymond Green\",\"Kyle O'Quinn\",\"Jae Crowder\",\"Will Barton\",\"Kent Bazemore\",\"Kent Bazemore\",\"Khris Middleton\",\"Mike Scott\",\"Aron Baynes\",\"Aron Baynes\",\"Justin Holiday\",\"Justin Holiday\",\"Nerlens Noel\",\"Ben McLemore\",\"Kentavious Caldwell-Pope\",\"Trey Burke\",\"Mason Plumlee\",\"Solomon Hill\",\"Reggie Bullock\",\"Robert Covington\",\"Matthew Dellavedova\",\"Mike Muscala\",\"Seth Curry\",\"Seth Curry\",\"Bojan Bogdanovic\",\"Julius Randle\",\"Elfrid Payton\",\"Rodney Hood\",\"Jerami Grant\",\"Joe Harris\",\"Joe Harris\",\"Spencer Dinwiddie\",\"Spencer Dinwiddie\",\"Joe Ingles\",\"JaKarr Sampson\",\"Glenn Robinson III\",\"Jordan Clarkson\",\"Dwight Powell\",\"Langston Galloway\",\"Langston Galloway\",\"Tyler Johnson\",\"JaMychal Green\",\"JaMychal Green\",\"Jahlil Okafor\",\"Willie Cauley-Stein\",\"Boban Marjanovic\",\"Montrezl Harrell\",\"Raul Neto\",\"Pat Connaughton\",\"Christian Wood\",\"Fred VanVleet\",\"Bryn Forbes\",\"Davis Bertans\",\"Patrick McCaw\",\"Quinn Cook\",\"Quinn Cook\",\"Quinn Cook\",\"Shaquille Harrison\",\"Edmond Sumner\",\"Torrey Craig\"],\"value\":[45078836,45078836,0,0,2947918,2947918,0,0,0,2947918,2947918,2947918,2947918,0,17240949,14712276,47537680,0,0,20261954,16666250,16666250,0,0,8620474,8620474,35056596,35056596,11608905,11608905,11608905,46101091,46101091,46101091,46101091,31608407,31608407,39656633,15568577,15568577,2947918,2947918,0,0,0,8830729,47537680,47537680,35928133,35928133,2947918,2947918,22413234,22413234,22413234,19389478,19389478,14594664,14594664,20689139,20689139,8390595,8390595,8390595,4827465,13342461,13342461,11023405,11023405,11925769,11925769,38964821,47418265,47418265,49431367,31884233,18444482,18444482,31063605,3876714,3876714,10641113,10641113,4097314,4097314,4097314,4164263,4164263,17661459,17661459,5479173,5479173,47418265,10641113,10641113,3507765,11173169,32757803,32757803,40746583,5753132,4384684,4384684,19396067,6476849,6476849,6476849,0,2666650,15325287,38760929,5753132,10641113,19539742,4022888,4022888,39515221,40644227,6896379,2679925,39515221,29884312,39491945,0,2679925,14482397,39515221,2679925,2679925,2679925,37633544,17240949,25534890,15516854,4516035,4516035,4516035,10804328,12068664,25570575,0,10641113,15773415,2666650,2666650,37989539,5753132,8045776,8045776,6575008,6575008,5746983,3325927,13876688,3448189,9195172,2499153,4827465,13951772,2499153,2624111,9004889,9004889,20516729,22809775,5479173,11548505,21896005,18472446,18472446,13165244,13165244,11911929,2164160,1339417,13218061,12735458,2331659,2331659,2331659,8275379,8275379,2164160,4712526,4022888,10641113,2164160,5676034,14960401,24424678,2686306,17240949,4597586,2277700,2277700,2277700,1051752,2482696,1929669]},\"selected\":{\"id\":\"7159\"},\"selection_policy\":{\"id\":\"7209\"}},\"id\":\"7158\",\"type\":\"ColumnDataSource\"},{\"attributes\":{\"data\":{\"Variable\":[\"1718_salary_adjusted\",\"1718_salary_adjusted\",\"1718_salary_adjusted\",\"1718_salary_adjusted\",\"1718_salary_adjusted\",\"1718_salary_adjusted\",\"1718_salary_adjusted\",\"1718_salary_adjusted\",\"1718_salary_adjusted\",\"1718_salary_adjusted\",\"1718_salary_adjusted\",\"1718_salary_adjusted\",\"1718_salary_adjusted\",\"1718_salary_adjusted\",\"1718_salary_adjusted\",\"1718_salary_adjusted\",\"1718_salary_adjusted\",\"1718_salary_adjusted\",\"1718_salary_adjusted\",\"1718_salary_adjusted\",\"1718_salary_adjusted\",\"1718_salary_adjusted\",\"1718_salary_adjusted\",\"1718_salary_adjusted\",\"1718_salary_adjusted\",\"1718_salary_adjusted\",\"1718_salary_adjusted\",\"1718_salary_adjusted\",\"1718_salary_adjusted\",\"1718_salary_adjusted\",\"1718_salary_adjusted\",\"1718_salary_adjusted\",\"1718_salary_adjusted\",\"1718_salary_adjusted\",\"1718_salary_adjusted\",\"1718_salary_adjusted\",\"1718_salary_adjusted\",\"1718_salary_adjusted\",\"1718_salary_adjusted\",\"1718_salary_adjusted\",\"1718_salary_adjusted\",\"1718_salary_adjusted\",\"1718_salary_adjusted\",\"1718_salary_adjusted\",\"1718_salary_adjusted\",\"1718_salary_adjusted\",\"1718_salary_adjusted\",\"1718_salary_adjusted\",\"1718_salary_adjusted\",\"1718_salary_adjusted\",\"1718_salary_adjusted\",\"1718_salary_adjusted\",\"1718_salary_adjusted\",\"1718_salary_adjusted\",\"1718_salary_adjusted\",\"1718_salary_adjusted\",\"1718_salary_adjusted\",\"1718_salary_adjusted\",\"1718_salary_adjusted\",\"1718_salary_adjusted\",\"1718_salary_adjusted\",\"1718_salary_adjusted\",\"1718_salary_adjusted\",\"1718_salary_adjusted\",\"1718_salary_adjusted\",\"1718_salary_adjusted\",\"1718_salary_adjusted\",\"1718_salary_adjusted\",\"1718_salary_adjusted\",\"1718_salary_adjusted\",\"1718_salary_adjusted\",\"1718_salary_adjusted\",\"1718_salary_adjusted\",\"1718_salary_adjusted\",\"1718_salary_adjusted\",\"1718_salary_adjusted\",\"1718_salary_adjusted\",\"1718_salary_adjusted\",\"1718_salary_adjusted\",\"1718_salary_adjusted\",\"1718_salary_adjusted\",\"1718_salary_adjusted\",\"1718_salary_adjusted\",\"1718_salary_adjusted\",\"1718_salary_adjusted\",\"1718_salary_adjusted\",\"1718_salary_adjusted\",\"1718_salary_adjusted\",\"1718_salary_adjusted\",\"1718_salary_adjusted\",\"1718_salary_adjusted\",\"1718_salary_adjusted\",\"1718_salary_adjusted\",\"1718_salary_adjusted\",\"1718_salary_adjusted\",\"1718_salary_adjusted\",\"1718_salary_adjusted\",\"1718_salary_adjusted\",\"1718_salary_adjusted\",\"1718_salary_adjusted\",\"1718_salary_adjusted\",\"1718_salary_adjusted\",\"1718_salary_adjusted\",\"1718_salary_adjusted\",\"1718_salary_adjusted\",\"1718_salary_adjusted\",\"1718_salary_adjusted\",\"1718_salary_adjusted\",\"1718_salary_adjusted\",\"1718_salary_adjusted\",\"1718_salary_adjusted\",\"1718_salary_adjusted\",\"1718_salary_adjusted\",\"1718_salary_adjusted\",\"1718_salary_adjusted\",\"1718_salary_adjusted\",\"1718_salary_adjusted\",\"1718_salary_adjusted\",\"1718_salary_adjusted\",\"1718_salary_adjusted\",\"1718_salary_adjusted\",\"1718_salary_adjusted\",\"1718_salary_adjusted\",\"1718_salary_adjusted\",\"1718_salary_adjusted\",\"1718_salary_adjusted\",\"1718_salary_adjusted\",\"1718_salary_adjusted\",\"1718_salary_adjusted\",\"1718_salary_adjusted\",\"1718_salary_adjusted\",\"1718_salary_adjusted\",\"1718_salary_adjusted\",\"1718_salary_adjusted\",\"1718_salary_adjusted\",\"1718_salary_adjusted\",\"1718_salary_adjusted\",\"1718_salary_adjusted\",\"1718_salary_adjusted\",\"1718_salary_adjusted\",\"1718_salary_adjusted\",\"1718_salary_adjusted\",\"1718_salary_adjusted\",\"1718_salary_adjusted\",\"1718_salary_adjusted\",\"1718_salary_adjusted\",\"1718_salary_adjusted\",\"1718_salary_adjusted\",\"1718_salary_adjusted\",\"1718_salary_adjusted\",\"1718_salary_adjusted\",\"1718_salary_adjusted\",\"1718_salary_adjusted\",\"1718_salary_adjusted\",\"1718_salary_adjusted\",\"1718_salary_adjusted\",\"1718_salary_adjusted\",\"1718_salary_adjusted\",\"1718_salary_adjusted\",\"1718_salary_adjusted\",\"1718_salary_adjusted\",\"1718_salary_adjusted\",\"1718_salary_adjusted\",\"1718_salary_adjusted\",\"1718_salary_adjusted\",\"1718_salary_adjusted\",\"1718_salary_adjusted\",\"1718_salary_adjusted\",\"1718_salary_adjusted\",\"1718_salary_adjusted\",\"1718_salary_adjusted\",\"1718_salary_adjusted\",\"1718_salary_adjusted\",\"1718_salary_adjusted\",\"1718_salary_adjusted\",\"1718_salary_adjusted\",\"1718_salary_adjusted\",\"1718_salary_adjusted\",\"1718_salary_adjusted\",\"1718_salary_adjusted\",\"1718_salary_adjusted\",\"1718_salary_adjusted\",\"1718_salary_adjusted\",\"1718_salary_adjusted\",\"1718_salary_adjusted\",\"1718_salary_adjusted\",\"1718_salary_adjusted\",\"1718_salary_adjusted\",\"1718_salary_adjusted\",\"1718_salary_adjusted\",\"1718_salary_adjusted\",\"1718_salary_adjusted\",\"1718_salary_adjusted\",\"1718_salary_adjusted\",\"1718_salary_adjusted\",\"1718_salary_adjusted\",\"1718_salary_adjusted\",\"1718_salary_adjusted\",\"1718_salary_adjusted\"],\"player_name\":[\"LeBron James\",\"LeBron James\",\"Tyson Chandler\",\"Tyson Chandler\",\"Carmelo Anthony\",\"Carmelo Anthony\",\"Kyle Korver\",\"Kyle Korver\",\"Zaza Pachulia\",\"Udonis Haslem\",\"Dwight Howard\",\"Dwight Howard\",\"Dwight Howard\",\"Devin Harris\",\"Andre Iguodala\",\"Trevor Ariza\",\"Chris Paul\",\"Raymond Felton\",\"Jose Calderon\",\"LaMarcus Aldridge\",\"Rudy Gay\",\"Rudy Gay\",\"Thabo Sefolosha\",\"Thabo Sefolosha\",\"Rajon Rondo\",\"Rajon Rondo\",\"Kyle Lowry\",\"Kyle Lowry\",\"Paul Millsap\",\"Paul Millsap\",\"Paul Millsap\",\"Kevin Durant\",\"Kevin Durant\",\"Kevin Durant\",\"Kevin Durant\",\"Al Horford\",\"Al Horford\",\"Mike Conley\",\"Thaddeus Young\",\"Thaddeus Young\",\"Jared Dudley\",\"Jared Dudley\",\"Wilson Chandler\",\"Wilson Chandler\",\"Ian Mahinmi\",\"Derrick Rose\",\"Russell Westbrook\",\"Russell Westbrook\",\"Kevin Love\",\"Kevin Love\",\"Marc Gasol\",\"Marc Gasol\",\"Danilo Gallinari\",\"Danilo Gallinari\",\"Danilo Gallinari\",\"Eric Gordon\",\"Eric Gordon\",\"Brook Lopez\",\"Brook Lopez\",\"Goran Dragic\",\"Goran Dragic\",\"Robin Lopez\",\"Robin Lopez\",\"Robin Lopez\",\"JaVale McGee\",\"Nicolas Batum\",\"Nicolas Batum\",\"George Hill\",\"George Hill\",\"DeAndre Jordan\",\"DeAndre Jordan\",\"Blake Griffin\",\"James Harden\",\"James Harden\",\"Stephen Curry\",\"DeMar DeRozan\",\"James Johnson\",\"James Johnson\",\"Jrue Holiday\",\"Jeff Teague\",\"Jeff Teague\",\"Serge Ibaka\",\"Serge Ibaka\",\"Wayne Ellington\",\"Wayne Ellington\",\"Wayne Ellington\",\"Wesley Matthews\",\"Wesley Matthews\",\"Danny Green\",\"Danny Green\",\"Garrett Temple\",\"Garrett Temple\",\"John Wall\",\"Derrick Favors\",\"Derrick Favors\",\"DeMarcus Cousins\",\"Al-Farouq Aminu\",\"Gordon Hayward\",\"Gordon Hayward\",\"Paul George\",\"Ed Davis\",\"Patrick Patterson\",\"Patrick Patterson\",\"Eric Bledsoe\",\"Avery Bradley\",\"Avery Bradley\",\"Avery Bradley\",\"Quincy Pondexter\",\"Hassan Whiteside\",\"Patrick Beverley\",\"Kyrie Irving\",\"Enes Kanter\",\"Tristan Thompson\",\"Ricky Rubio\",\"Bismack Biyombo\",\"Bismack Biyombo\",\"Kemba Walker\",\"Klay Thompson\",\"Alec Burks\",\"Markieff Morris\",\"Kawhi Leonard\",\"Nikola Vucevic\",\"Tobias Harris\",\"Kenneth Faried\",\"Reggie Jackson\",\"Cory Joseph\",\"Jimmy Butler\",\"E'Twaun Moore\",\"E'Twaun Moore\",\"E'Twaun Moore\",\"Anthony Davis\",\"Jonas Valanciunas\",\"Harrison Barnes\",\"Terrence Ross\",\"Austin Rivers\",\"Austin Rivers\",\"Austin Rivers\",\"Meyers Leonard\",\"Jeremy Lamb\",\"Draymond Green\",\"Kyle O'Quinn\",\"Jae Crowder\",\"Will Barton\",\"Kent Bazemore\",\"Kent Bazemore\",\"Khris Middleton\",\"Mike Scott\",\"Aron Baynes\",\"Aron Baynes\",\"Justin Holiday\",\"Justin Holiday\",\"Nerlens Noel\",\"Ben McLemore\",\"Kentavious Caldwell-Pope\",\"Trey Burke\",\"Mason Plumlee\",\"Solomon Hill\",\"Reggie Bullock\",\"Robert Covington\",\"Matthew Dellavedova\",\"Mike Muscala\",\"Seth Curry\",\"Seth Curry\",\"Bojan Bogdanovic\",\"Julius Randle\",\"Elfrid Payton\",\"Rodney Hood\",\"Jerami Grant\",\"Joe Harris\",\"Joe Harris\",\"Spencer Dinwiddie\",\"Spencer Dinwiddie\",\"Joe Ingles\",\"JaKarr Sampson\",\"Glenn Robinson III\",\"Jordan Clarkson\",\"Dwight Powell\",\"Langston Galloway\",\"Langston Galloway\",\"Tyler Johnson\",\"JaMychal Green\",\"JaMychal Green\",\"Jahlil Okafor\",\"Willie Cauley-Stein\",\"Boban Marjanovic\",\"Montrezl Harrell\",\"Raul Neto\",\"Pat Connaughton\",\"Christian Wood\",\"Fred VanVleet\",\"Bryn Forbes\",\"Davis Bertans\",\"Patrick McCaw\",\"Quinn Cook\",\"Quinn Cook\",\"Quinn Cook\",\"Shaquille Harrison\",\"Edmond Sumner\",\"Torrey Craig\"],\"value\":[40264218,40264218,15725512,15725512,31745891,31745891,8467583,8467583,4206695,2816865,28426888,28426888,28426888,5325561,17920812,8951445,29357063,2816865,2816865,25960414,10168358,10168358,6350687,6350687,7620824,7620824,34963505,34963505,37220149,37220149,37220149,30241370,30241370,30241370,30241370,33549057,33549057,34512187,15630371,15630371,12096548,12096548,14536245,14536245,19354477,3064645,34232504,34232504,27389428,27389428,27389428,27389428,24870018,24870018,24870018,15656586,15656586,27389428,27389428,20564676,20564676,16679325,16679325,16679325,2560784,27138343,27138343,24193096,24193096,27389428,27389428,35700422,34232504,34232504,41953914,33555794,16613399,16613399,31072000,22983441,22983441,24267767,24267767,7584535,7584535,7584535,21633678,21633678,12096548,12096548,9677238,9677238,21851023,14515858,14515858,21851023,8853506,35960497,35960497,23346338,7684369,6280527,6280527,17539995,10655836,10655836,10655836,4661926,28760155,6669448,22824524,21633679,19838339,17056133,20564132,20564132,14515858,21563488,13119318,9677238,22824523,14818271,19354477,15630371,19354477,9229666,22616817,10215564,10215564,10215564,28760155,18702080,27957547,12701375,14304168,14304168,14304168,11981020,8467583,19838339,4944464,8220955,4274113,20455398,20455398,17056133,2067950,5201515,5201515,5443446,5443446,5065549,6290205,21466406,948562,16984879,14801983,3024137,20198941,11621758,6048274,3663330,3663330,12701375,5019150,4030981,2887281,1843882,1843882,1843882,1843882,1843882,16495293,93445,1843882,13986634,10890673,8064365,8064365,7041715,10322387,10322387,6042371,4480755,7114294,1779864,1779864,1779864,0,1587806,1587806,1587806,1587806,229630,229630,229630,278703,93445,93445]},\"selected\":{\"id\":\"7003\"},\"selection_policy\":{\"id\":\"7047\"}},\"id\":\"7002\",\"type\":\"ColumnDataSource\"},{\"attributes\":{\"line_color\":\"#30a2da\",\"line_width\":2,\"x\":{\"field\":\"player_name\"},\"y\":{\"field\":\"value\"}},\"id\":\"8563\",\"type\":\"Line\"},{\"attributes\":{\"data\":{\"Variable\":[\"0506_salary_adjusted\",\"0506_salary_adjusted\",\"0506_salary_adjusted\",\"0506_salary_adjusted\",\"0506_salary_adjusted\",\"0506_salary_adjusted\",\"0506_salary_adjusted\",\"0506_salary_adjusted\",\"0506_salary_adjusted\",\"0506_salary_adjusted\",\"0506_salary_adjusted\",\"0506_salary_adjusted\",\"0506_salary_adjusted\",\"0506_salary_adjusted\",\"0506_salary_adjusted\",\"0506_salary_adjusted\",\"0506_salary_adjusted\",\"0506_salary_adjusted\",\"0506_salary_adjusted\",\"0506_salary_adjusted\",\"0506_salary_adjusted\",\"0506_salary_adjusted\",\"0506_salary_adjusted\",\"0506_salary_adjusted\",\"0506_salary_adjusted\",\"0506_salary_adjusted\",\"0506_salary_adjusted\",\"0506_salary_adjusted\",\"0506_salary_adjusted\",\"0506_salary_adjusted\",\"0506_salary_adjusted\",\"0506_salary_adjusted\",\"0506_salary_adjusted\",\"0506_salary_adjusted\",\"0506_salary_adjusted\",\"0506_salary_adjusted\",\"0506_salary_adjusted\",\"0506_salary_adjusted\",\"0506_salary_adjusted\",\"0506_salary_adjusted\",\"0506_salary_adjusted\",\"0506_salary_adjusted\",\"0506_salary_adjusted\",\"0506_salary_adjusted\",\"0506_salary_adjusted\",\"0506_salary_adjusted\",\"0506_salary_adjusted\",\"0506_salary_adjusted\",\"0506_salary_adjusted\",\"0506_salary_adjusted\",\"0506_salary_adjusted\",\"0506_salary_adjusted\",\"0506_salary_adjusted\",\"0506_salary_adjusted\",\"0506_salary_adjusted\",\"0506_salary_adjusted\",\"0506_salary_adjusted\",\"0506_salary_adjusted\",\"0506_salary_adjusted\",\"0506_salary_adjusted\",\"0506_salary_adjusted\",\"0506_salary_adjusted\",\"0506_salary_adjusted\",\"0506_salary_adjusted\",\"0506_salary_adjusted\",\"0506_salary_adjusted\",\"0506_salary_adjusted\",\"0506_salary_adjusted\",\"0506_salary_adjusted\",\"0506_salary_adjusted\",\"0506_salary_adjusted\",\"0506_salary_adjusted\",\"0506_salary_adjusted\",\"0506_salary_adjusted\",\"0506_salary_adjusted\",\"0506_salary_adjusted\",\"0506_salary_adjusted\",\"0506_salary_adjusted\",\"0506_salary_adjusted\",\"0506_salary_adjusted\",\"0506_salary_adjusted\",\"0506_salary_adjusted\",\"0506_salary_adjusted\",\"0506_salary_adjusted\",\"0506_salary_adjusted\",\"0506_salary_adjusted\",\"0506_salary_adjusted\",\"0506_salary_adjusted\",\"0506_salary_adjusted\",\"0506_salary_adjusted\",\"0506_salary_adjusted\",\"0506_salary_adjusted\",\"0506_salary_adjusted\",\"0506_salary_adjusted\",\"0506_salary_adjusted\",\"0506_salary_adjusted\",\"0506_salary_adjusted\",\"0506_salary_adjusted\",\"0506_salary_adjusted\",\"0506_salary_adjusted\",\"0506_salary_adjusted\",\"0506_salary_adjusted\",\"0506_salary_adjusted\",\"0506_salary_adjusted\",\"0506_salary_adjusted\",\"0506_salary_adjusted\",\"0506_salary_adjusted\",\"0506_salary_adjusted\",\"0506_salary_adjusted\",\"0506_salary_adjusted\",\"0506_salary_adjusted\",\"0506_salary_adjusted\",\"0506_salary_adjusted\",\"0506_salary_adjusted\",\"0506_salary_adjusted\",\"0506_salary_adjusted\",\"0506_salary_adjusted\",\"0506_salary_adjusted\",\"0506_salary_adjusted\",\"0506_salary_adjusted\",\"0506_salary_adjusted\",\"0506_salary_adjusted\",\"0506_salary_adjusted\",\"0506_salary_adjusted\",\"0506_salary_adjusted\",\"0506_salary_adjusted\",\"0506_salary_adjusted\",\"0506_salary_adjusted\",\"0506_salary_adjusted\",\"0506_salary_adjusted\",\"0506_salary_adjusted\",\"0506_salary_adjusted\",\"0506_salary_adjusted\",\"0506_salary_adjusted\",\"0506_salary_adjusted\",\"0506_salary_adjusted\",\"0506_salary_adjusted\",\"0506_salary_adjusted\",\"0506_salary_adjusted\",\"0506_salary_adjusted\",\"0506_salary_adjusted\",\"0506_salary_adjusted\",\"0506_salary_adjusted\",\"0506_salary_adjusted\",\"0506_salary_adjusted\",\"0506_salary_adjusted\",\"0506_salary_adjusted\",\"0506_salary_adjusted\",\"0506_salary_adjusted\",\"0506_salary_adjusted\",\"0506_salary_adjusted\",\"0506_salary_adjusted\",\"0506_salary_adjusted\",\"0506_salary_adjusted\",\"0506_salary_adjusted\",\"0506_salary_adjusted\",\"0506_salary_adjusted\",\"0506_salary_adjusted\",\"0506_salary_adjusted\",\"0506_salary_adjusted\",\"0506_salary_adjusted\",\"0506_salary_adjusted\",\"0506_salary_adjusted\",\"0506_salary_adjusted\",\"0506_salary_adjusted\",\"0506_salary_adjusted\",\"0506_salary_adjusted\",\"0506_salary_adjusted\",\"0506_salary_adjusted\",\"0506_salary_adjusted\",\"0506_salary_adjusted\",\"0506_salary_adjusted\",\"0506_salary_adjusted\",\"0506_salary_adjusted\",\"0506_salary_adjusted\",\"0506_salary_adjusted\",\"0506_salary_adjusted\",\"0506_salary_adjusted\",\"0506_salary_adjusted\",\"0506_salary_adjusted\",\"0506_salary_adjusted\",\"0506_salary_adjusted\",\"0506_salary_adjusted\",\"0506_salary_adjusted\",\"0506_salary_adjusted\",\"0506_salary_adjusted\",\"0506_salary_adjusted\",\"0506_salary_adjusted\",\"0506_salary_adjusted\",\"0506_salary_adjusted\",\"0506_salary_adjusted\",\"0506_salary_adjusted\",\"0506_salary_adjusted\",\"0506_salary_adjusted\",\"0506_salary_adjusted\",\"0506_salary_adjusted\",\"0506_salary_adjusted\",\"0506_salary_adjusted\",\"0506_salary_adjusted\"],\"player_name\":[\"LeBron James\",\"LeBron James\",\"Tyson Chandler\",\"Tyson Chandler\",\"Carmelo Anthony\",\"Carmelo Anthony\",\"Kyle Korver\",\"Kyle Korver\",\"Zaza Pachulia\",\"Udonis Haslem\",\"Dwight Howard\",\"Dwight Howard\",\"Dwight Howard\",\"Devin Harris\",\"Andre Iguodala\",\"Trevor Ariza\",\"Chris Paul\",\"Raymond Felton\",\"Jose Calderon\",\"LaMarcus Aldridge\",\"Rudy Gay\",\"Rudy Gay\",\"Thabo Sefolosha\",\"Thabo Sefolosha\",\"Rajon Rondo\",\"Rajon Rondo\",\"Kyle Lowry\",\"Kyle Lowry\",\"Paul Millsap\",\"Paul Millsap\",\"Paul Millsap\",\"Kevin Durant\",\"Kevin Durant\",\"Kevin Durant\",\"Kevin Durant\",\"Al Horford\",\"Al Horford\",\"Mike Conley\",\"Thaddeus Young\",\"Thaddeus Young\",\"Jared Dudley\",\"Jared Dudley\",\"Wilson Chandler\",\"Wilson Chandler\",\"Ian Mahinmi\",\"Derrick Rose\",\"Russell Westbrook\",\"Russell Westbrook\",\"Kevin Love\",\"Kevin Love\",\"Marc Gasol\",\"Marc Gasol\",\"Danilo Gallinari\",\"Danilo Gallinari\",\"Danilo Gallinari\",\"Eric Gordon\",\"Eric Gordon\",\"Brook Lopez\",\"Brook Lopez\",\"Goran Dragic\",\"Goran Dragic\",\"Robin Lopez\",\"Robin Lopez\",\"Robin Lopez\",\"JaVale McGee\",\"Nicolas Batum\",\"Nicolas Batum\",\"George Hill\",\"George Hill\",\"DeAndre Jordan\",\"DeAndre Jordan\",\"Blake Griffin\",\"James Harden\",\"James Harden\",\"Stephen Curry\",\"DeMar DeRozan\",\"James Johnson\",\"James Johnson\",\"Jrue Holiday\",\"Jeff Teague\",\"Jeff Teague\",\"Serge Ibaka\",\"Serge Ibaka\",\"Wayne Ellington\",\"Wayne Ellington\",\"Wayne Ellington\",\"Wesley Matthews\",\"Wesley Matthews\",\"Danny Green\",\"Danny Green\",\"Garrett Temple\",\"Garrett Temple\",\"John Wall\",\"Derrick Favors\",\"Derrick Favors\",\"DeMarcus Cousins\",\"Al-Farouq Aminu\",\"Gordon Hayward\",\"Gordon Hayward\",\"Paul George\",\"Ed Davis\",\"Patrick Patterson\",\"Patrick Patterson\",\"Eric Bledsoe\",\"Avery Bradley\",\"Avery Bradley\",\"Avery Bradley\",\"Quincy Pondexter\",\"Hassan Whiteside\",\"Patrick Beverley\",\"Kyrie Irving\",\"Enes Kanter\",\"Tristan Thompson\",\"Ricky Rubio\",\"Bismack Biyombo\",\"Bismack Biyombo\",\"Kemba Walker\",\"Klay Thompson\",\"Alec Burks\",\"Markieff Morris\",\"Kawhi Leonard\",\"Nikola Vucevic\",\"Tobias Harris\",\"Kenneth Faried\",\"Reggie Jackson\",\"Cory Joseph\",\"Jimmy Butler\",\"E'Twaun Moore\",\"E'Twaun Moore\",\"E'Twaun Moore\",\"Anthony Davis\",\"Jonas Valanciunas\",\"Harrison Barnes\",\"Terrence Ross\",\"Austin Rivers\",\"Austin Rivers\",\"Austin Rivers\",\"Meyers Leonard\",\"Jeremy Lamb\",\"Draymond Green\",\"Kyle O'Quinn\",\"Jae Crowder\",\"Will Barton\",\"Kent Bazemore\",\"Kent Bazemore\",\"Khris Middleton\",\"Mike Scott\",\"Aron Baynes\",\"Aron Baynes\",\"Justin Holiday\",\"Justin Holiday\",\"Nerlens Noel\",\"Ben McLemore\",\"Kentavious Caldwell-Pope\",\"Trey Burke\",\"Mason Plumlee\",\"Solomon Hill\",\"Reggie Bullock\",\"Robert Covington\",\"Matthew Dellavedova\",\"Mike Muscala\",\"Seth Curry\",\"Seth Curry\",\"Bojan Bogdanovic\",\"Julius Randle\",\"Elfrid Payton\",\"Rodney Hood\",\"Jerami Grant\",\"Joe Harris\",\"Joe Harris\",\"Spencer Dinwiddie\",\"Spencer Dinwiddie\",\"Joe Ingles\",\"JaKarr Sampson\",\"Glenn Robinson III\",\"Jordan Clarkson\",\"Dwight Powell\",\"Langston Galloway\",\"Langston Galloway\",\"Tyler Johnson\",\"JaMychal Green\",\"JaMychal Green\",\"Jahlil Okafor\",\"Willie Cauley-Stein\",\"Boban Marjanovic\",\"Montrezl Harrell\",\"Raul Neto\",\"Pat Connaughton\",\"Christian Wood\",\"Fred VanVleet\",\"Bryn Forbes\",\"Davis Bertans\",\"Patrick McCaw\",\"Quinn Cook\",\"Quinn Cook\",\"Quinn Cook\",\"Shaquille Harrison\",\"Edmond Sumner\",\"Torrey Craig\"],\"value\":[7041080,7041080,13711048,13711048,5657544,5657544,5530676,5530676,6093799,7617249,6845104,6845104,6845104,4490277,3135259,1039070,4790092,4337810,3336355,0,0,0,0,0,0,0,0,0,0,0,0,0,0,0,0,0,0,0,0,0,0,0,0,0,0,0,0,0,0,0,0,0,0,0,0,0,0,0,0,0,0,0,0,0,0,0,0,0,0,0,0,0,0,0,0,0,0,0,0,0,0,0,0,0,0,0,0,0,0,0,0,0,0,0,0,0,0,0,0,0,0,0,0,0,0,0,0,0,0,0,0,0,0,0,0,0,0,0,0,0,0,0,0,0,0,0,0,0,0,0,0,0,0,0,0,0,0,0,0,0,0,0,0,0,0,0,0,0,0,0,0,0,0,0,0,0,0,0,0,0,0,0,0,0,0,0,0,0,0,0,0,0,0,0,0,0,0,0,0,0,0,0,0,0,0,0,0,0,0,0,0,0,0,0,0,0,0,0,0]},\"selected\":{\"id\":\"6559\"},\"selection_policy\":{\"id\":\"6579\"}},\"id\":\"6558\",\"type\":\"ColumnDataSource\"},{\"attributes\":{\"line_color\":\"#fc4f30\",\"line_width\":2,\"x\":{\"field\":\"player_name\"},\"y\":{\"field\":\"value\"}},\"id\":\"6515\",\"type\":\"Line\"},{\"attributes\":{\"source\":{\"id\":\"10062\"}},\"id\":\"10069\",\"type\":\"CDSView\"},{\"attributes\":{\"line_color\":\"#fc4f30\",\"line_width\":2,\"x\":{\"field\":\"player_name\"},\"y\":{\"field\":\"value\"}},\"id\":\"8567\",\"type\":\"Line\"},{\"attributes\":{},\"id\":\"10063\",\"type\":\"Selection\"},{\"attributes\":{\"line_alpha\":0.1,\"line_color\":\"#fc4f30\",\"line_width\":2,\"x\":{\"field\":\"player_name\"},\"y\":{\"field\":\"value\"}},\"id\":\"6516\",\"type\":\"Line\"},{\"attributes\":{\"coordinates\":null,\"data_source\":{\"id\":\"6512\"},\"glyph\":{\"id\":\"6515\"},\"group\":null,\"hover_glyph\":null,\"muted_glyph\":{\"id\":\"6517\"},\"nonselection_glyph\":{\"id\":\"6516\"},\"selection_glyph\":{\"id\":\"6533\"},\"view\":{\"id\":\"6519\"}},\"id\":\"6518\",\"type\":\"GlyphRenderer\"},{\"attributes\":{\"source\":{\"id\":\"7002\"}},\"id\":\"7009\",\"type\":\"CDSView\"},{\"attributes\":{\"line_color\":\"#17becf\",\"line_width\":2,\"x\":{\"field\":\"player_name\"},\"y\":{\"field\":\"value\"}},\"id\":\"7961\",\"type\":\"Line\"},{\"attributes\":{\"line_alpha\":0.1,\"line_color\":\"#fc4f30\",\"line_width\":2,\"x\":{\"field\":\"player_name\"},\"y\":{\"field\":\"value\"}},\"id\":\"8568\",\"type\":\"Line\"},{\"attributes\":{\"coordinates\":null,\"data_source\":{\"id\":\"8564\"},\"glyph\":{\"id\":\"8567\"},\"group\":null,\"hover_glyph\":null,\"muted_glyph\":{\"id\":\"8569\"},\"nonselection_glyph\":{\"id\":\"8568\"},\"selection_glyph\":{\"id\":\"8657\"},\"view\":{\"id\":\"8571\"}},\"id\":\"8570\",\"type\":\"GlyphRenderer\"},{\"attributes\":{},\"id\":\"6529\",\"type\":\"UnionRenderers\"},{\"attributes\":{},\"id\":\"7003\",\"type\":\"Selection\"},{\"attributes\":{\"label\":{\"value\":\"0304_salary_adjusted\"},\"renderers\":[{\"id\":\"6518\"}]},\"id\":\"6532\",\"type\":\"LegendItem\"},{\"attributes\":{},\"id\":\"8653\",\"type\":\"UnionRenderers\"},{\"attributes\":{\"line_alpha\":0.2,\"line_color\":\"#fc4f30\",\"line_width\":2,\"x\":{\"field\":\"player_name\"},\"y\":{\"field\":\"value\"}},\"id\":\"6517\",\"type\":\"Line\"},{\"attributes\":{\"line_color\":\"#9467bd\",\"line_width\":2,\"x\":{\"field\":\"player_name\"},\"y\":{\"field\":\"value\"}},\"id\":\"7965\",\"type\":\"Line\"},{\"attributes\":{\"label\":{\"value\":\"2526_salary_predicted\"},\"renderers\":[{\"id\":\"7464\"}]},\"id\":\"7522\",\"type\":\"LegendItem\"},{\"attributes\":{\"label\":{\"value\":\"3PM\"},\"renderers\":[{\"id\":\"8570\"}]},\"id\":\"8656\",\"type\":\"LegendItem\"},{\"attributes\":{\"line_color\":\"#8c564b\",\"line_width\":2,\"x\":{\"field\":\"player_name\"},\"y\":{\"field\":\"value\"}},\"id\":\"7457\",\"type\":\"Line\"},{\"attributes\":{\"line_alpha\":0.1,\"line_color\":\"#9467bd\",\"line_width\":2,\"x\":{\"field\":\"player_name\"},\"y\":{\"field\":\"value\"}},\"id\":\"7966\",\"type\":\"Line\"},{\"attributes\":{\"coordinates\":null,\"data_source\":{\"id\":\"7962\"},\"glyph\":{\"id\":\"7965\"},\"group\":null,\"hover_glyph\":null,\"muted_glyph\":{\"id\":\"7967\"},\"nonselection_glyph\":{\"id\":\"7966\"},\"selection_glyph\":{\"id\":\"8041\"},\"view\":{\"id\":\"7969\"}},\"id\":\"7968\",\"type\":\"GlyphRenderer\"},{\"attributes\":{\"source\":{\"id\":\"8564\"}},\"id\":\"8571\",\"type\":\"CDSView\"},{\"attributes\":{},\"id\":\"8037\",\"type\":\"UnionRenderers\"},{\"attributes\":{},\"id\":\"8565\",\"type\":\"Selection\"},{\"attributes\":{\"line_color\":\"#bcbd22\",\"line_width\":2,\"x\":{\"field\":\"player_name\"},\"y\":{\"field\":\"value\"}},\"id\":\"7461\",\"type\":\"Line\"},{\"attributes\":{\"label\":{\"value\":\"W\"},\"renderers\":[{\"id\":\"7968\"}]},\"id\":\"8040\",\"type\":\"LegendItem\"},{\"attributes\":{},\"id\":\"6579\",\"type\":\"UnionRenderers\"},{\"attributes\":{\"source\":{\"id\":\"6512\"}},\"id\":\"6519\",\"type\":\"CDSView\"},{\"attributes\":{\"line_color\":\"#6d904f\",\"line_width\":2,\"x\":{\"field\":\"player_name\"},\"y\":{\"field\":\"value\"}},\"id\":\"7051\",\"type\":\"Line\"},{\"attributes\":{\"data\":{\"Variable\":[\"PTS\",\"PTS\",\"PTS\",\"PTS\",\"PTS\",\"PTS\",\"PTS\",\"PTS\",\"PTS\",\"PTS\",\"PTS\",\"PTS\",\"PTS\",\"PTS\",\"PTS\",\"PTS\",\"PTS\",\"PTS\",\"PTS\",\"PTS\",\"PTS\",\"PTS\",\"PTS\",\"PTS\",\"PTS\",\"PTS\",\"PTS\",\"PTS\",\"PTS\",\"PTS\",\"PTS\",\"PTS\",\"PTS\",\"PTS\",\"PTS\",\"PTS\",\"PTS\",\"PTS\",\"PTS\",\"PTS\",\"PTS\",\"PTS\",\"PTS\",\"PTS\",\"PTS\",\"PTS\",\"PTS\",\"PTS\",\"PTS\",\"PTS\",\"PTS\",\"PTS\",\"PTS\",\"PTS\",\"PTS\",\"PTS\",\"PTS\",\"PTS\",\"PTS\",\"PTS\",\"PTS\",\"PTS\",\"PTS\",\"PTS\",\"PTS\",\"PTS\",\"PTS\",\"PTS\",\"PTS\",\"PTS\",\"PTS\",\"PTS\",\"PTS\",\"PTS\",\"PTS\",\"PTS\",\"PTS\",\"PTS\",\"PTS\",\"PTS\",\"PTS\",\"PTS\",\"PTS\",\"PTS\",\"PTS\",\"PTS\",\"PTS\",\"PTS\",\"PTS\",\"PTS\",\"PTS\",\"PTS\",\"PTS\",\"PTS\",\"PTS\",\"PTS\",\"PTS\",\"PTS\",\"PTS\",\"PTS\",\"PTS\",\"PTS\",\"PTS\",\"PTS\",\"PTS\",\"PTS\",\"PTS\",\"PTS\",\"PTS\",\"PTS\",\"PTS\",\"PTS\",\"PTS\",\"PTS\",\"PTS\",\"PTS\",\"PTS\",\"PTS\",\"PTS\",\"PTS\",\"PTS\",\"PTS\",\"PTS\",\"PTS\",\"PTS\",\"PTS\",\"PTS\",\"PTS\",\"PTS\",\"PTS\",\"PTS\",\"PTS\",\"PTS\",\"PTS\",\"PTS\",\"PTS\",\"PTS\",\"PTS\",\"PTS\",\"PTS\",\"PTS\",\"PTS\",\"PTS\",\"PTS\",\"PTS\",\"PTS\",\"PTS\",\"PTS\",\"PTS\",\"PTS\",\"PTS\",\"PTS\",\"PTS\",\"PTS\",\"PTS\",\"PTS\",\"PTS\",\"PTS\",\"PTS\",\"PTS\",\"PTS\",\"PTS\",\"PTS\",\"PTS\",\"PTS\",\"PTS\",\"PTS\",\"PTS\",\"PTS\",\"PTS\",\"PTS\",\"PTS\",\"PTS\",\"PTS\",\"PTS\",\"PTS\",\"PTS\",\"PTS\",\"PTS\",\"PTS\",\"PTS\",\"PTS\",\"PTS\",\"PTS\",\"PTS\",\"PTS\",\"PTS\",\"PTS\",\"PTS\",\"PTS\",\"PTS\",\"PTS\",\"PTS\",\"PTS\",\"PTS\",\"PTS\",\"PTS\",\"PTS\",\"PTS\"],\"player_name\":[\"LeBron James\",\"LeBron James\",\"Tyson Chandler\",\"Tyson Chandler\",\"Carmelo Anthony\",\"Carmelo Anthony\",\"Kyle Korver\",\"Kyle Korver\",\"Zaza Pachulia\",\"Udonis Haslem\",\"Dwight Howard\",\"Dwight Howard\",\"Dwight Howard\",\"Devin Harris\",\"Andre Iguodala\",\"Trevor Ariza\",\"Chris Paul\",\"Raymond Felton\",\"Jose Calderon\",\"LaMarcus Aldridge\",\"Rudy Gay\",\"Rudy Gay\",\"Thabo Sefolosha\",\"Thabo Sefolosha\",\"Rajon Rondo\",\"Rajon Rondo\",\"Kyle Lowry\",\"Kyle Lowry\",\"Paul Millsap\",\"Paul Millsap\",\"Paul Millsap\",\"Kevin Durant\",\"Kevin Durant\",\"Kevin Durant\",\"Kevin Durant\",\"Al Horford\",\"Al Horford\",\"Mike Conley\",\"Thaddeus Young\",\"Thaddeus Young\",\"Jared Dudley\",\"Jared Dudley\",\"Wilson Chandler\",\"Wilson Chandler\",\"Ian Mahinmi\",\"Derrick Rose\",\"Russell Westbrook\",\"Russell Westbrook\",\"Kevin Love\",\"Kevin Love\",\"Marc Gasol\",\"Marc Gasol\",\"Danilo Gallinari\",\"Danilo Gallinari\",\"Danilo Gallinari\",\"Eric Gordon\",\"Eric Gordon\",\"Brook Lopez\",\"Brook Lopez\",\"Goran Dragic\",\"Goran Dragic\",\"Robin Lopez\",\"Robin Lopez\",\"Robin Lopez\",\"JaVale McGee\",\"Nicolas Batum\",\"Nicolas Batum\",\"George Hill\",\"George Hill\",\"DeAndre Jordan\",\"DeAndre Jordan\",\"Blake Griffin\",\"James Harden\",\"James Harden\",\"Stephen Curry\",\"DeMar DeRozan\",\"James Johnson\",\"James Johnson\",\"Jrue Holiday\",\"Jeff Teague\",\"Jeff Teague\",\"Serge Ibaka\",\"Serge Ibaka\",\"Wayne Ellington\",\"Wayne Ellington\",\"Wayne Ellington\",\"Wesley Matthews\",\"Wesley Matthews\",\"Danny Green\",\"Danny Green\",\"Garrett Temple\",\"Garrett Temple\",\"John Wall\",\"Derrick Favors\",\"Derrick Favors\",\"DeMarcus Cousins\",\"Al-Farouq Aminu\",\"Gordon Hayward\",\"Gordon Hayward\",\"Paul George\",\"Ed Davis\",\"Patrick Patterson\",\"Patrick Patterson\",\"Eric Bledsoe\",\"Avery Bradley\",\"Avery Bradley\",\"Avery Bradley\",\"Quincy Pondexter\",\"Hassan Whiteside\",\"Patrick Beverley\",\"Kyrie Irving\",\"Enes Kanter\",\"Tristan Thompson\",\"Ricky Rubio\",\"Bismack Biyombo\",\"Bismack Biyombo\",\"Kemba Walker\",\"Klay Thompson\",\"Alec Burks\",\"Markieff Morris\",\"Kawhi Leonard\",\"Nikola Vucevic\",\"Tobias Harris\",\"Kenneth Faried\",\"Reggie Jackson\",\"Cory Joseph\",\"Jimmy Butler\",\"E'Twaun Moore\",\"E'Twaun Moore\",\"E'Twaun Moore\",\"Anthony Davis\",\"Jonas Valanciunas\",\"Harrison Barnes\",\"Terrence Ross\",\"Austin Rivers\",\"Austin Rivers\",\"Austin Rivers\",\"Meyers Leonard\",\"Jeremy Lamb\",\"Draymond Green\",\"Kyle O'Quinn\",\"Jae Crowder\",\"Will Barton\",\"Kent Bazemore\",\"Kent Bazemore\",\"Khris Middleton\",\"Mike Scott\",\"Aron Baynes\",\"Aron Baynes\",\"Justin Holiday\",\"Justin Holiday\",\"Nerlens Noel\",\"Ben McLemore\",\"Kentavious Caldwell-Pope\",\"Trey Burke\",\"Mason Plumlee\",\"Solomon Hill\",\"Reggie Bullock\",\"Robert Covington\",\"Matthew Dellavedova\",\"Mike Muscala\",\"Seth Curry\",\"Seth Curry\",\"Bojan Bogdanovic\",\"Julius Randle\",\"Elfrid Payton\",\"Rodney Hood\",\"Jerami Grant\",\"Joe Harris\",\"Joe Harris\",\"Spencer Dinwiddie\",\"Spencer Dinwiddie\",\"Joe Ingles\",\"JaKarr Sampson\",\"Glenn Robinson III\",\"Jordan Clarkson\",\"Dwight Powell\",\"Langston Galloway\",\"Langston Galloway\",\"Tyler Johnson\",\"JaMychal Green\",\"JaMychal Green\",\"Jahlil Okafor\",\"Willie Cauley-Stein\",\"Boban Marjanovic\",\"Montrezl Harrell\",\"Raul Neto\",\"Pat Connaughton\",\"Christian Wood\",\"Fred VanVleet\",\"Bryn Forbes\",\"Davis Bertans\",\"Patrick McCaw\",\"Quinn Cook\",\"Quinn Cook\",\"Quinn Cook\",\"Shaquille Harrison\",\"Edmond Sumner\",\"Torrey Craig\"],\"value\":[1920,1743,748,771,2112,1245,678,810,306,173,1347,976,1296,315,1038,1107,1186,684,826,1661,562,1432,444,383,424,859,1344,1417,1246,1135,1218,2029,1792,2161,1555,1178,1249,1107,1045,1071,867,638,1085,1100,354,852,1878,1558,1432,1228,1413,951,1145,734,628,185,686,1236,96,1275,775,566,704,348,691,1046,818,481,829,566,946,1440,2376,2023,1786,1485,384,276,1383,1254,1166,1173,1055,586,614,650,840,956,946,603,582,138,1583,970,944,1614,412,1248,1601,1737,656,555,445,763,891,625,656,94,1040,568,1628,1163,693,226,304,454,1075,1668,374,1258,1057,1428,1164,946,1117,535,1301,110,443,499,1481,768,774,720,530,618,593,511,580,921,294,628,397,872,403,1055,767,482,461,254,629,131,495,938,285,842,246,141,16,569,435,0,299,1113,1323,446,805,682,3,846,58,58,396,386,73,1225,399,585,625,314,611,689,176,965,297,836,183,441,61,656,555,456,229,79,509,79,152,2,163]},\"selected\":{\"id\":\"8209\"},\"selection_policy\":{\"id\":\"8289\"}},\"id\":\"8208\",\"type\":\"ColumnDataSource\"},{\"attributes\":{},\"id\":\"6513\",\"type\":\"Selection\"},{\"attributes\":{\"line_color\":\"#6d904f\",\"line_width\":2,\"x\":{\"field\":\"player_name\"},\"y\":{\"field\":\"value\"}},\"id\":\"10183\",\"type\":\"Line\"},{\"attributes\":{},\"id\":\"7519\",\"type\":\"UnionRenderers\"},{\"attributes\":{\"line_alpha\":0.1,\"line_color\":\"#bcbd22\",\"line_width\":2,\"x\":{\"field\":\"player_name\"},\"y\":{\"field\":\"value\"}},\"id\":\"7462\",\"type\":\"Line\"},{\"attributes\":{\"data\":{\"Variable\":[\"W\",\"W\",\"W\",\"W\",\"W\",\"W\",\"W\",\"W\",\"W\",\"W\",\"W\",\"W\",\"W\",\"W\",\"W\",\"W\",\"W\",\"W\",\"W\",\"W\",\"W\",\"W\",\"W\",\"W\",\"W\",\"W\",\"W\",\"W\",\"W\",\"W\",\"W\",\"W\",\"W\",\"W\",\"W\",\"W\",\"W\",\"W\",\"W\",\"W\",\"W\",\"W\",\"W\",\"W\",\"W\",\"W\",\"W\",\"W\",\"W\",\"W\",\"W\",\"W\",\"W\",\"W\",\"W\",\"W\",\"W\",\"W\",\"W\",\"W\",\"W\",\"W\",\"W\",\"W\",\"W\",\"W\",\"W\",\"W\",\"W\",\"W\",\"W\",\"W\",\"W\",\"W\",\"W\",\"W\",\"W\",\"W\",\"W\",\"W\",\"W\",\"W\",\"W\",\"W\",\"W\",\"W\",\"W\",\"W\",\"W\",\"W\",\"W\",\"W\",\"W\",\"W\",\"W\",\"W\",\"W\",\"W\",\"W\",\"W\",\"W\",\"W\",\"W\",\"W\",\"W\",\"W\",\"W\",\"W\",\"W\",\"W\",\"W\",\"W\",\"W\",\"W\",\"W\",\"W\",\"W\",\"W\",\"W\",\"W\",\"W\",\"W\",\"W\",\"W\",\"W\",\"W\",\"W\",\"W\",\"W\",\"W\",\"W\",\"W\",\"W\",\"W\",\"W\",\"W\",\"W\",\"W\",\"W\",\"W\",\"W\",\"W\",\"W\",\"W\",\"W\",\"W\",\"W\",\"W\",\"W\",\"W\",\"W\",\"W\",\"W\",\"W\",\"W\",\"W\",\"W\",\"W\",\"W\",\"W\",\"W\",\"W\",\"W\",\"W\",\"W\",\"W\",\"W\",\"W\",\"W\",\"W\",\"W\",\"W\",\"W\",\"W\",\"W\",\"W\",\"W\",\"W\",\"W\",\"W\",\"W\",\"W\",\"W\",\"W\",\"W\",\"W\",\"W\",\"W\",\"W\",\"W\",\"W\",\"W\",\"W\",\"W\",\"W\",\"W\",\"W\",\"W\",\"W\"],\"player_name\":[\"LeBron James\",\"LeBron James\",\"Tyson Chandler\",\"Tyson Chandler\",\"Carmelo Anthony\",\"Carmelo Anthony\",\"Kyle Korver\",\"Kyle Korver\",\"Zaza Pachulia\",\"Udonis Haslem\",\"Dwight Howard\",\"Dwight Howard\",\"Dwight Howard\",\"Devin Harris\",\"Andre Iguodala\",\"Trevor Ariza\",\"Chris Paul\",\"Raymond Felton\",\"Jose Calderon\",\"LaMarcus Aldridge\",\"Rudy Gay\",\"Rudy Gay\",\"Thabo Sefolosha\",\"Thabo Sefolosha\",\"Rajon Rondo\",\"Rajon Rondo\",\"Kyle Lowry\",\"Kyle Lowry\",\"Paul Millsap\",\"Paul Millsap\",\"Paul Millsap\",\"Kevin Durant\",\"Kevin Durant\",\"Kevin Durant\",\"Kevin Durant\",\"Al Horford\",\"Al Horford\",\"Mike Conley\",\"Thaddeus Young\",\"Thaddeus Young\",\"Jared Dudley\",\"Jared Dudley\",\"Wilson Chandler\",\"Wilson Chandler\",\"Ian Mahinmi\",\"Derrick Rose\",\"Russell Westbrook\",\"Russell Westbrook\",\"Kevin Love\",\"Kevin Love\",\"Marc Gasol\",\"Marc Gasol\",\"Danilo Gallinari\",\"Danilo Gallinari\",\"Danilo Gallinari\",\"Eric Gordon\",\"Eric Gordon\",\"Brook Lopez\",\"Brook Lopez\",\"Goran Dragic\",\"Goran Dragic\",\"Robin Lopez\",\"Robin Lopez\",\"Robin Lopez\",\"JaVale McGee\",\"Nicolas Batum\",\"Nicolas Batum\",\"George Hill\",\"George Hill\",\"DeAndre Jordan\",\"DeAndre Jordan\",\"Blake Griffin\",\"James Harden\",\"James Harden\",\"Stephen Curry\",\"DeMar DeRozan\",\"James Johnson\",\"James Johnson\",\"Jrue Holiday\",\"Jeff Teague\",\"Jeff Teague\",\"Serge Ibaka\",\"Serge Ibaka\",\"Wayne Ellington\",\"Wayne Ellington\",\"Wayne Ellington\",\"Wesley Matthews\",\"Wesley Matthews\",\"Danny Green\",\"Danny Green\",\"Garrett Temple\",\"Garrett Temple\",\"John Wall\",\"Derrick Favors\",\"Derrick Favors\",\"DeMarcus Cousins\",\"Al-Farouq Aminu\",\"Gordon Hayward\",\"Gordon Hayward\",\"Paul George\",\"Ed Davis\",\"Patrick Patterson\",\"Patrick Patterson\",\"Eric Bledsoe\",\"Avery Bradley\",\"Avery Bradley\",\"Avery Bradley\",\"Quincy Pondexter\",\"Hassan Whiteside\",\"Patrick Beverley\",\"Kyrie Irving\",\"Enes Kanter\",\"Tristan Thompson\",\"Ricky Rubio\",\"Bismack Biyombo\",\"Bismack Biyombo\",\"Kemba Walker\",\"Klay Thompson\",\"Alec Burks\",\"Markieff Morris\",\"Kawhi Leonard\",\"Nikola Vucevic\",\"Tobias Harris\",\"Kenneth Faried\",\"Reggie Jackson\",\"Cory Joseph\",\"Jimmy Butler\",\"E'Twaun Moore\",\"E'Twaun Moore\",\"E'Twaun Moore\",\"Anthony Davis\",\"Jonas Valanciunas\",\"Harrison Barnes\",\"Terrence Ross\",\"Austin Rivers\",\"Austin Rivers\",\"Austin Rivers\",\"Meyers Leonard\",\"Jeremy Lamb\",\"Draymond Green\",\"Kyle O'Quinn\",\"Jae Crowder\",\"Will Barton\",\"Kent Bazemore\",\"Kent Bazemore\",\"Khris Middleton\",\"Mike Scott\",\"Aron Baynes\",\"Aron Baynes\",\"Justin Holiday\",\"Justin Holiday\",\"Nerlens Noel\",\"Ben McLemore\",\"Kentavious Caldwell-Pope\",\"Trey Burke\",\"Mason Plumlee\",\"Solomon Hill\",\"Reggie Bullock\",\"Robert Covington\",\"Matthew Dellavedova\",\"Mike Muscala\",\"Seth Curry\",\"Seth Curry\",\"Bojan Bogdanovic\",\"Julius Randle\",\"Elfrid Payton\",\"Rodney Hood\",\"Jerami Grant\",\"Joe Harris\",\"Joe Harris\",\"Spencer Dinwiddie\",\"Spencer Dinwiddie\",\"Joe Ingles\",\"JaKarr Sampson\",\"Glenn Robinson III\",\"Jordan Clarkson\",\"Dwight Powell\",\"Langston Galloway\",\"Langston Galloway\",\"Tyler Johnson\",\"JaMychal Green\",\"JaMychal Green\",\"Jahlil Okafor\",\"Willie Cauley-Stein\",\"Boban Marjanovic\",\"Montrezl Harrell\",\"Raul Neto\",\"Pat Connaughton\",\"Christian Wood\",\"Fred VanVleet\",\"Bryn Forbes\",\"Davis Bertans\",\"Patrick McCaw\",\"Quinn Cook\",\"Quinn Cook\",\"Quinn Cook\",\"Shaquille Harrison\",\"Edmond Sumner\",\"Torrey Craig\"],\"value\":[56,50,54,47,35,29,33,41,29,30,35,34,42,24,57,41,50,28,23,48,11,25,32,44,19,29,36,45,40,41,55,52,49,52,51,41,48,46,41,25,40,40,28,41,36,32,55,47,24,50,55,46,31,23,27,6,14,34,2,41,34,38,20,32,22,41,27,35,33,31,56,55,41,43,45,34,33,17,34,42,43,37,58,18,39,18,27,41,55,50,40,40,44,25,46,28,45,23,46,54,20,37,42,28,19,31,22,7,42,35,52,32,53,7,26,56,21,64,9,39,46,21,20,30,37,53,40,24,29,22,24,40,59,53,46,45,42,33,40,64,15,47,30,44,35,40,36,54,49,49,31,6,27,37,35,38,31,13,4,54,36,2,17,23,35,18,29,48,5,27,5,5,36,17,2,17,35,29,32,19,31,40,7,39,47,39,28,49,0,55,46,43,41,9,49,9,3,0,22]},\"selected\":{\"id\":\"7963\"},\"selection_policy\":{\"id\":\"8037\"}},\"id\":\"7962\",\"type\":\"ColumnDataSource\"},{\"attributes\":{\"line_color\":\"#8b8b8b\",\"line_width\":2,\"x\":{\"field\":\"player_name\"},\"y\":{\"field\":\"value\"}},\"id\":\"7055\",\"type\":\"Line\"},{\"attributes\":{\"coordinates\":null,\"data_source\":{\"id\":\"7458\"},\"glyph\":{\"id\":\"7461\"},\"group\":null,\"hover_glyph\":null,\"muted_glyph\":{\"id\":\"7463\"},\"nonselection_glyph\":{\"id\":\"7462\"},\"selection_glyph\":{\"id\":\"7523\"},\"view\":{\"id\":\"7465\"}},\"id\":\"7464\",\"type\":\"GlyphRenderer\"},{\"attributes\":{\"line_alpha\":0.1,\"line_color\":\"#8b8b8b\",\"line_width\":2,\"x\":{\"field\":\"player_name\"},\"y\":{\"field\":\"value\"}},\"id\":\"7056\",\"type\":\"Line\"},{\"attributes\":{\"data\":{\"Variable\":[\"CONTRACT_END\",\"CONTRACT_END\",\"CONTRACT_END\",\"CONTRACT_END\",\"CONTRACT_END\",\"CONTRACT_END\",\"CONTRACT_END\",\"CONTRACT_END\",\"CONTRACT_END\",\"CONTRACT_END\",\"CONTRACT_END\",\"CONTRACT_END\",\"CONTRACT_END\",\"CONTRACT_END\",\"CONTRACT_END\",\"CONTRACT_END\",\"CONTRACT_END\",\"CONTRACT_END\",\"CONTRACT_END\",\"CONTRACT_END\",\"CONTRACT_END\",\"CONTRACT_END\",\"CONTRACT_END\",\"CONTRACT_END\",\"CONTRACT_END\",\"CONTRACT_END\",\"CONTRACT_END\",\"CONTRACT_END\",\"CONTRACT_END\",\"CONTRACT_END\",\"CONTRACT_END\",\"CONTRACT_END\",\"CONTRACT_END\",\"CONTRACT_END\",\"CONTRACT_END\",\"CONTRACT_END\",\"CONTRACT_END\",\"CONTRACT_END\",\"CONTRACT_END\",\"CONTRACT_END\",\"CONTRACT_END\",\"CONTRACT_END\",\"CONTRACT_END\",\"CONTRACT_END\",\"CONTRACT_END\",\"CONTRACT_END\",\"CONTRACT_END\",\"CONTRACT_END\",\"CONTRACT_END\",\"CONTRACT_END\",\"CONTRACT_END\",\"CONTRACT_END\",\"CONTRACT_END\",\"CONTRACT_END\",\"CONTRACT_END\",\"CONTRACT_END\",\"CONTRACT_END\",\"CONTRACT_END\",\"CONTRACT_END\",\"CONTRACT_END\",\"CONTRACT_END\",\"CONTRACT_END\",\"CONTRACT_END\",\"CONTRACT_END\",\"CONTRACT_END\",\"CONTRACT_END\",\"CONTRACT_END\",\"CONTRACT_END\",\"CONTRACT_END\",\"CONTRACT_END\",\"CONTRACT_END\",\"CONTRACT_END\",\"CONTRACT_END\",\"CONTRACT_END\",\"CONTRACT_END\",\"CONTRACT_END\",\"CONTRACT_END\",\"CONTRACT_END\",\"CONTRACT_END\",\"CONTRACT_END\",\"CONTRACT_END\",\"CONTRACT_END\",\"CONTRACT_END\",\"CONTRACT_END\",\"CONTRACT_END\",\"CONTRACT_END\",\"CONTRACT_END\",\"CONTRACT_END\",\"CONTRACT_END\",\"CONTRACT_END\",\"CONTRACT_END\",\"CONTRACT_END\",\"CONTRACT_END\",\"CONTRACT_END\",\"CONTRACT_END\",\"CONTRACT_END\",\"CONTRACT_END\",\"CONTRACT_END\",\"CONTRACT_END\",\"CONTRACT_END\",\"CONTRACT_END\",\"CONTRACT_END\",\"CONTRACT_END\",\"CONTRACT_END\",\"CONTRACT_END\",\"CONTRACT_END\",\"CONTRACT_END\",\"CONTRACT_END\",\"CONTRACT_END\",\"CONTRACT_END\",\"CONTRACT_END\",\"CONTRACT_END\",\"CONTRACT_END\",\"CONTRACT_END\",\"CONTRACT_END\",\"CONTRACT_END\",\"CONTRACT_END\",\"CONTRACT_END\",\"CONTRACT_END\",\"CONTRACT_END\",\"CONTRACT_END\",\"CONTRACT_END\",\"CONTRACT_END\",\"CONTRACT_END\",\"CONTRACT_END\",\"CONTRACT_END\",\"CONTRACT_END\",\"CONTRACT_END\",\"CONTRACT_END\",\"CONTRACT_END\",\"CONTRACT_END\",\"CONTRACT_END\",\"CONTRACT_END\",\"CONTRACT_END\",\"CONTRACT_END\",\"CONTRACT_END\",\"CONTRACT_END\",\"CONTRACT_END\",\"CONTRACT_END\",\"CONTRACT_END\",\"CONTRACT_END\",\"CONTRACT_END\",\"CONTRACT_END\",\"CONTRACT_END\",\"CONTRACT_END\",\"CONTRACT_END\",\"CONTRACT_END\",\"CONTRACT_END\",\"CONTRACT_END\",\"CONTRACT_END\",\"CONTRACT_END\",\"CONTRACT_END\",\"CONTRACT_END\",\"CONTRACT_END\",\"CONTRACT_END\",\"CONTRACT_END\",\"CONTRACT_END\",\"CONTRACT_END\",\"CONTRACT_END\",\"CONTRACT_END\",\"CONTRACT_END\",\"CONTRACT_END\",\"CONTRACT_END\",\"CONTRACT_END\",\"CONTRACT_END\",\"CONTRACT_END\",\"CONTRACT_END\",\"CONTRACT_END\",\"CONTRACT_END\",\"CONTRACT_END\",\"CONTRACT_END\",\"CONTRACT_END\",\"CONTRACT_END\",\"CONTRACT_END\",\"CONTRACT_END\",\"CONTRACT_END\",\"CONTRACT_END\",\"CONTRACT_END\",\"CONTRACT_END\",\"CONTRACT_END\",\"CONTRACT_END\",\"CONTRACT_END\",\"CONTRACT_END\",\"CONTRACT_END\",\"CONTRACT_END\",\"CONTRACT_END\",\"CONTRACT_END\",\"CONTRACT_END\",\"CONTRACT_END\",\"CONTRACT_END\",\"CONTRACT_END\",\"CONTRACT_END\",\"CONTRACT_END\",\"CONTRACT_END\",\"CONTRACT_END\",\"CONTRACT_END\",\"CONTRACT_END\",\"CONTRACT_END\",\"CONTRACT_END\"],\"player_name\":[\"LeBron James\",\"LeBron James\",\"Tyson Chandler\",\"Tyson Chandler\",\"Carmelo Anthony\",\"Carmelo Anthony\",\"Kyle Korver\",\"Kyle Korver\",\"Zaza Pachulia\",\"Udonis Haslem\",\"Dwight Howard\",\"Dwight Howard\",\"Dwight Howard\",\"Devin Harris\",\"Andre Iguodala\",\"Trevor Ariza\",\"Chris Paul\",\"Raymond Felton\",\"Jose Calderon\",\"LaMarcus Aldridge\",\"Rudy Gay\",\"Rudy Gay\",\"Thabo Sefolosha\",\"Thabo Sefolosha\",\"Rajon Rondo\",\"Rajon Rondo\",\"Kyle Lowry\",\"Kyle Lowry\",\"Paul Millsap\",\"Paul Millsap\",\"Paul Millsap\",\"Kevin Durant\",\"Kevin Durant\",\"Kevin Durant\",\"Kevin Durant\",\"Al Horford\",\"Al Horford\",\"Mike Conley\",\"Thaddeus Young\",\"Thaddeus Young\",\"Jared Dudley\",\"Jared Dudley\",\"Wilson Chandler\",\"Wilson Chandler\",\"Ian Mahinmi\",\"Derrick Rose\",\"Russell Westbrook\",\"Russell Westbrook\",\"Kevin Love\",\"Kevin Love\",\"Marc Gasol\",\"Marc Gasol\",\"Danilo Gallinari\",\"Danilo Gallinari\",\"Danilo Gallinari\",\"Eric Gordon\",\"Eric Gordon\",\"Brook Lopez\",\"Brook Lopez\",\"Goran Dragic\",\"Goran Dragic\",\"Robin Lopez\",\"Robin Lopez\",\"Robin Lopez\",\"JaVale McGee\",\"Nicolas Batum\",\"Nicolas Batum\",\"George Hill\",\"George Hill\",\"DeAndre Jordan\",\"DeAndre Jordan\",\"Blake Griffin\",\"James Harden\",\"James Harden\",\"Stephen Curry\",\"DeMar DeRozan\",\"James Johnson\",\"James Johnson\",\"Jrue Holiday\",\"Jeff Teague\",\"Jeff Teague\",\"Serge Ibaka\",\"Serge Ibaka\",\"Wayne Ellington\",\"Wayne Ellington\",\"Wayne Ellington\",\"Wesley Matthews\",\"Wesley Matthews\",\"Danny Green\",\"Danny Green\",\"Garrett Temple\",\"Garrett Temple\",\"John Wall\",\"Derrick Favors\",\"Derrick Favors\",\"DeMarcus Cousins\",\"Al-Farouq Aminu\",\"Gordon Hayward\",\"Gordon Hayward\",\"Paul George\",\"Ed Davis\",\"Patrick Patterson\",\"Patrick Patterson\",\"Eric Bledsoe\",\"Avery Bradley\",\"Avery Bradley\",\"Avery Bradley\",\"Quincy Pondexter\",\"Hassan Whiteside\",\"Patrick Beverley\",\"Kyrie Irving\",\"Enes Kanter\",\"Tristan Thompson\",\"Ricky Rubio\",\"Bismack Biyombo\",\"Bismack Biyombo\",\"Kemba Walker\",\"Klay Thompson\",\"Alec Burks\",\"Markieff Morris\",\"Kawhi Leonard\",\"Nikola Vucevic\",\"Tobias Harris\",\"Kenneth Faried\",\"Reggie Jackson\",\"Cory Joseph\",\"Jimmy Butler\",\"E'Twaun Moore\",\"E'Twaun Moore\",\"E'Twaun Moore\",\"Anthony Davis\",\"Jonas Valanciunas\",\"Harrison Barnes\",\"Terrence Ross\",\"Austin Rivers\",\"Austin Rivers\",\"Austin Rivers\",\"Meyers Leonard\",\"Jeremy Lamb\",\"Draymond Green\",\"Kyle O'Quinn\",\"Jae Crowder\",\"Will Barton\",\"Kent Bazemore\",\"Kent Bazemore\",\"Khris Middleton\",\"Mike Scott\",\"Aron Baynes\",\"Aron Baynes\",\"Justin Holiday\",\"Justin Holiday\",\"Nerlens Noel\",\"Ben McLemore\",\"Kentavious Caldwell-Pope\",\"Trey Burke\",\"Mason Plumlee\",\"Solomon Hill\",\"Reggie Bullock\",\"Robert Covington\",\"Matthew Dellavedova\",\"Mike Muscala\",\"Seth Curry\",\"Seth Curry\",\"Bojan Bogdanovic\",\"Julius Randle\",\"Elfrid Payton\",\"Rodney Hood\",\"Jerami Grant\",\"Joe Harris\",\"Joe Harris\",\"Spencer Dinwiddie\",\"Spencer Dinwiddie\",\"Joe Ingles\",\"JaKarr Sampson\",\"Glenn Robinson III\",\"Jordan Clarkson\",\"Dwight Powell\",\"Langston Galloway\",\"Langston Galloway\",\"Tyler Johnson\",\"JaMychal Green\",\"JaMychal Green\",\"Jahlil Okafor\",\"Willie Cauley-Stein\",\"Boban Marjanovic\",\"Montrezl Harrell\",\"Raul Neto\",\"Pat Connaughton\",\"Christian Wood\",\"Fred VanVleet\",\"Bryn Forbes\",\"Davis Bertans\",\"Patrick McCaw\",\"Quinn Cook\",\"Quinn Cook\",\"Quinn Cook\",\"Shaquille Harrison\",\"Edmond Sumner\",\"Torrey Craig\"],\"value\":[2017,2016,2014,2018,2018,2013,2019,2016,2015,2015,2019,2018,2016,2017,2016,2017,2017,2015,2016,2018,2018,2017,2018,2016,2020,2017,2019,2017,2019,2014,2017,2017,2019,2015,2018,2015,2019,2015,2014,2018,2015,2018,2018,2015,2015,2016,2018,2016,2014,2019,2019,2014,2019,2017,2015,2015,2019,2017,2014,2019,2015,2018,2020,2014,2015,2020,2015,2016,2019,2014,2018,2017,2019,2017,2016,2016,2015,2014,2016,2019,2016,2019,2016,2017,2014,2016,2020,2018,2018,2014,2018,2015,2018,2017,2019,2017,2018,2017,2020,2018,2017,2016,2019,2018,2017,2020,2019,2017,2019,2018,2019,2018,2019,2018,2016,2019,2018,2018,2018,2018,2019,2018,2018,2018,2019,2018,2019,2013,2019,2015,2020,2019,2019,2018,2016,2020,2018,2019,2018,2019,2018,2019,2017,2019,2015,2019,2016,2019,2017,2016,2018,2019,2018,2020,2018,2019,2019,2018,2017,2019,2018,2016,2017,2018,2019,2020,2020,2020,2017,2019,2017,2018,2016,2016,2017,2019,2019,2019,2017,2019,2020,2018,2019,2020,2018,2019,2019,2019,2017,2019,2019,2019,2019,2018,2020,2018,2019,2019,2019]},\"selected\":{\"id\":\"7663\"},\"selection_policy\":{\"id\":\"7729\"}},\"id\":\"7662\",\"type\":\"ColumnDataSource\"},{\"attributes\":{\"data\":{\"Variable\":[\"2526_salary_predicted\",\"2526_salary_predicted\",\"2526_salary_predicted\",\"2526_salary_predicted\",\"2526_salary_predicted\",\"2526_salary_predicted\",\"2526_salary_predicted\",\"2526_salary_predicted\",\"2526_salary_predicted\",\"2526_salary_predicted\",\"2526_salary_predicted\",\"2526_salary_predicted\",\"2526_salary_predicted\",\"2526_salary_predicted\",\"2526_salary_predicted\",\"2526_salary_predicted\",\"2526_salary_predicted\",\"2526_salary_predicted\",\"2526_salary_predicted\",\"2526_salary_predicted\",\"2526_salary_predicted\",\"2526_salary_predicted\",\"2526_salary_predicted\",\"2526_salary_predicted\",\"2526_salary_predicted\",\"2526_salary_predicted\",\"2526_salary_predicted\",\"2526_salary_predicted\",\"2526_salary_predicted\",\"2526_salary_predicted\",\"2526_salary_predicted\",\"2526_salary_predicted\",\"2526_salary_predicted\",\"2526_salary_predicted\",\"2526_salary_predicted\",\"2526_salary_predicted\",\"2526_salary_predicted\",\"2526_salary_predicted\",\"2526_salary_predicted\",\"2526_salary_predicted\",\"2526_salary_predicted\",\"2526_salary_predicted\",\"2526_salary_predicted\",\"2526_salary_predicted\",\"2526_salary_predicted\",\"2526_salary_predicted\",\"2526_salary_predicted\",\"2526_salary_predicted\",\"2526_salary_predicted\",\"2526_salary_predicted\",\"2526_salary_predicted\",\"2526_salary_predicted\",\"2526_salary_predicted\",\"2526_salary_predicted\",\"2526_salary_predicted\",\"2526_salary_predicted\",\"2526_salary_predicted\",\"2526_salary_predicted\",\"2526_salary_predicted\",\"2526_salary_predicted\",\"2526_salary_predicted\",\"2526_salary_predicted\",\"2526_salary_predicted\",\"2526_salary_predicted\",\"2526_salary_predicted\",\"2526_salary_predicted\",\"2526_salary_predicted\",\"2526_salary_predicted\",\"2526_salary_predicted\",\"2526_salary_predicted\",\"2526_salary_predicted\",\"2526_salary_predicted\",\"2526_salary_predicted\",\"2526_salary_predicted\",\"2526_salary_predicted\",\"2526_salary_predicted\",\"2526_salary_predicted\",\"2526_salary_predicted\",\"2526_salary_predicted\",\"2526_salary_predicted\",\"2526_salary_predicted\",\"2526_salary_predicted\",\"2526_salary_predicted\",\"2526_salary_predicted\",\"2526_salary_predicted\",\"2526_salary_predicted\",\"2526_salary_predicted\",\"2526_salary_predicted\",\"2526_salary_predicted\",\"2526_salary_predicted\",\"2526_salary_predicted\",\"2526_salary_predicted\",\"2526_salary_predicted\",\"2526_salary_predicted\",\"2526_salary_predicted\",\"2526_salary_predicted\",\"2526_salary_predicted\",\"2526_salary_predicted\",\"2526_salary_predicted\",\"2526_salary_predicted\",\"2526_salary_predicted\",\"2526_salary_predicted\",\"2526_salary_predicted\",\"2526_salary_predicted\",\"2526_salary_predicted\",\"2526_salary_predicted\",\"2526_salary_predicted\",\"2526_salary_predicted\",\"2526_salary_predicted\",\"2526_salary_predicted\",\"2526_salary_predicted\",\"2526_salary_predicted\",\"2526_salary_predicted\",\"2526_salary_predicted\",\"2526_salary_predicted\",\"2526_salary_predicted\",\"2526_salary_predicted\",\"2526_salary_predicted\",\"2526_salary_predicted\",\"2526_salary_predicted\",\"2526_salary_predicted\",\"2526_salary_predicted\",\"2526_salary_predicted\",\"2526_salary_predicted\",\"2526_salary_predicted\",\"2526_salary_predicted\",\"2526_salary_predicted\",\"2526_salary_predicted\",\"2526_salary_predicted\",\"2526_salary_predicted\",\"2526_salary_predicted\",\"2526_salary_predicted\",\"2526_salary_predicted\",\"2526_salary_predicted\",\"2526_salary_predicted\",\"2526_salary_predicted\",\"2526_salary_predicted\",\"2526_salary_predicted\",\"2526_salary_predicted\",\"2526_salary_predicted\",\"2526_salary_predicted\",\"2526_salary_predicted\",\"2526_salary_predicted\",\"2526_salary_predicted\",\"2526_salary_predicted\",\"2526_salary_predicted\",\"2526_salary_predicted\",\"2526_salary_predicted\",\"2526_salary_predicted\",\"2526_salary_predicted\",\"2526_salary_predicted\",\"2526_salary_predicted\",\"2526_salary_predicted\",\"2526_salary_predicted\",\"2526_salary_predicted\",\"2526_salary_predicted\",\"2526_salary_predicted\",\"2526_salary_predicted\",\"2526_salary_predicted\",\"2526_salary_predicted\",\"2526_salary_predicted\",\"2526_salary_predicted\",\"2526_salary_predicted\",\"2526_salary_predicted\",\"2526_salary_predicted\",\"2526_salary_predicted\",\"2526_salary_predicted\",\"2526_salary_predicted\",\"2526_salary_predicted\",\"2526_salary_predicted\",\"2526_salary_predicted\",\"2526_salary_predicted\",\"2526_salary_predicted\",\"2526_salary_predicted\",\"2526_salary_predicted\",\"2526_salary_predicted\",\"2526_salary_predicted\",\"2526_salary_predicted\",\"2526_salary_predicted\",\"2526_salary_predicted\",\"2526_salary_predicted\",\"2526_salary_predicted\",\"2526_salary_predicted\",\"2526_salary_predicted\",\"2526_salary_predicted\",\"2526_salary_predicted\",\"2526_salary_predicted\",\"2526_salary_predicted\",\"2526_salary_predicted\",\"2526_salary_predicted\",\"2526_salary_predicted\",\"2526_salary_predicted\",\"2526_salary_predicted\",\"2526_salary_predicted\",\"2526_salary_predicted\",\"2526_salary_predicted\",\"2526_salary_predicted\",\"2526_salary_predicted\",\"2526_salary_predicted\"],\"player_name\":[\"LeBron James\",\"LeBron James\",\"Tyson Chandler\",\"Tyson Chandler\",\"Carmelo Anthony\",\"Carmelo Anthony\",\"Kyle Korver\",\"Kyle Korver\",\"Zaza Pachulia\",\"Udonis Haslem\",\"Dwight Howard\",\"Dwight Howard\",\"Dwight Howard\",\"Devin Harris\",\"Andre Iguodala\",\"Trevor Ariza\",\"Chris Paul\",\"Raymond Felton\",\"Jose Calderon\",\"LaMarcus Aldridge\",\"Rudy Gay\",\"Rudy Gay\",\"Thabo Sefolosha\",\"Thabo Sefolosha\",\"Rajon Rondo\",\"Rajon Rondo\",\"Kyle Lowry\",\"Kyle Lowry\",\"Paul Millsap\",\"Paul Millsap\",\"Paul Millsap\",\"Kevin Durant\",\"Kevin Durant\",\"Kevin Durant\",\"Kevin Durant\",\"Al Horford\",\"Al Horford\",\"Mike Conley\",\"Thaddeus Young\",\"Thaddeus Young\",\"Jared Dudley\",\"Jared Dudley\",\"Wilson Chandler\",\"Wilson Chandler\",\"Ian Mahinmi\",\"Derrick Rose\",\"Russell Westbrook\",\"Russell Westbrook\",\"Kevin Love\",\"Kevin Love\",\"Marc Gasol\",\"Marc Gasol\",\"Danilo Gallinari\",\"Danilo Gallinari\",\"Danilo Gallinari\",\"Eric Gordon\",\"Eric Gordon\",\"Brook Lopez\",\"Brook Lopez\",\"Goran Dragic\",\"Goran Dragic\",\"Robin Lopez\",\"Robin Lopez\",\"Robin Lopez\",\"JaVale McGee\",\"Nicolas Batum\",\"Nicolas Batum\",\"George Hill\",\"George Hill\",\"DeAndre Jordan\",\"DeAndre Jordan\",\"Blake Griffin\",\"James Harden\",\"James Harden\",\"Stephen Curry\",\"DeMar DeRozan\",\"James Johnson\",\"James Johnson\",\"Jrue Holiday\",\"Jeff Teague\",\"Jeff Teague\",\"Serge Ibaka\",\"Serge Ibaka\",\"Wayne Ellington\",\"Wayne Ellington\",\"Wayne Ellington\",\"Wesley Matthews\",\"Wesley Matthews\",\"Danny Green\",\"Danny Green\",\"Garrett Temple\",\"Garrett Temple\",\"John Wall\",\"Derrick Favors\",\"Derrick Favors\",\"DeMarcus Cousins\",\"Al-Farouq Aminu\",\"Gordon Hayward\",\"Gordon Hayward\",\"Paul George\",\"Ed Davis\",\"Patrick Patterson\",\"Patrick Patterson\",\"Eric Bledsoe\",\"Avery Bradley\",\"Avery Bradley\",\"Avery Bradley\",\"Quincy Pondexter\",\"Hassan Whiteside\",\"Patrick Beverley\",\"Kyrie Irving\",\"Enes Kanter\",\"Tristan Thompson\",\"Ricky Rubio\",\"Bismack Biyombo\",\"Bismack Biyombo\",\"Kemba Walker\",\"Klay Thompson\",\"Alec Burks\",\"Markieff Morris\",\"Kawhi Leonard\",\"Nikola Vucevic\",\"Tobias Harris\",\"Kenneth Faried\",\"Reggie Jackson\",\"Cory Joseph\",\"Jimmy Butler\",\"E'Twaun Moore\",\"E'Twaun Moore\",\"E'Twaun Moore\",\"Anthony Davis\",\"Jonas Valanciunas\",\"Harrison Barnes\",\"Terrence Ross\",\"Austin Rivers\",\"Austin Rivers\",\"Austin Rivers\",\"Meyers Leonard\",\"Jeremy Lamb\",\"Draymond Green\",\"Kyle O'Quinn\",\"Jae Crowder\",\"Will Barton\",\"Kent Bazemore\",\"Kent Bazemore\",\"Khris Middleton\",\"Mike Scott\",\"Aron Baynes\",\"Aron Baynes\",\"Justin Holiday\",\"Justin Holiday\",\"Nerlens Noel\",\"Ben McLemore\",\"Kentavious Caldwell-Pope\",\"Trey Burke\",\"Mason Plumlee\",\"Solomon Hill\",\"Reggie Bullock\",\"Robert Covington\",\"Matthew Dellavedova\",\"Mike Muscala\",\"Seth Curry\",\"Seth Curry\",\"Bojan Bogdanovic\",\"Julius Randle\",\"Elfrid Payton\",\"Rodney Hood\",\"Jerami Grant\",\"Joe Harris\",\"Joe Harris\",\"Spencer Dinwiddie\",\"Spencer Dinwiddie\",\"Joe Ingles\",\"JaKarr Sampson\",\"Glenn Robinson III\",\"Jordan Clarkson\",\"Dwight Powell\",\"Langston Galloway\",\"Langston Galloway\",\"Tyler Johnson\",\"JaMychal Green\",\"JaMychal Green\",\"Jahlil Okafor\",\"Willie Cauley-Stein\",\"Boban Marjanovic\",\"Montrezl Harrell\",\"Raul Neto\",\"Pat Connaughton\",\"Christian Wood\",\"Fred VanVleet\",\"Bryn Forbes\",\"Davis Bertans\",\"Patrick McCaw\",\"Quinn Cook\",\"Quinn Cook\",\"Quinn Cook\",\"Shaquille Harrison\",\"Edmond Sumner\",\"Torrey Craig\"],\"value\":[0,0,0,0,0,0,0,0,0,0,0,0,0,0,0,0,0,0,0,0,0,0,0,0,0,0,0,0,0,0,0,54708608,54708608,54708608,54708608,0,0,0,0,0,0,0,0,0,0,0,0,0,0,0,0,0,0,0,0,0,0,0,0,0,0,0,0,0,0,0,0,0,0,0,0,0,0,0,59606817,0,0,0,0,0,0,0,0,0,0,0,0,0,0,0,0,0,0,0,0,0,0,0,0,0,0,0,0,0,0,0,0,0,0,0,42962963,0,0,0,0,0,0,0,0,0,0,21481481,0,0,0,0,52413394,0,0,0,57604894,0,19000000,0,0,0,0,0,0,25892857,0,0,0,0,0,34012345,0,0,0,0,0,0,0,0,0,0,0,0,0,0,0,0,0,0,32408640,0,0,32000001,0,0,0,0,0,0,0,14285714,4000000,0,0,0,0,0,0,0,0,0,0,9423869,0,44886930,0,0,0,0,0,0,0,0,0]},\"selected\":{\"id\":\"7459\"},\"selection_policy\":{\"id\":\"7519\"}},\"id\":\"7458\",\"type\":\"ColumnDataSource\"},{\"attributes\":{\"source\":{\"id\":\"7962\"}},\"id\":\"7969\",\"type\":\"CDSView\"},{\"attributes\":{\"coordinates\":null,\"data_source\":{\"id\":\"7052\"},\"glyph\":{\"id\":\"7055\"},\"group\":null,\"hover_glyph\":null,\"muted_glyph\":{\"id\":\"7057\"},\"nonselection_glyph\":{\"id\":\"7056\"},\"selection_glyph\":{\"id\":\"7103\"},\"view\":{\"id\":\"7059\"}},\"id\":\"7058\",\"type\":\"GlyphRenderer\"},{\"attributes\":{},\"id\":\"7459\",\"type\":\"Selection\"},{\"attributes\":{},\"id\":\"7963\",\"type\":\"Selection\"},{\"attributes\":{\"label\":{\"value\":\"1819_salary_adjusted\"},\"renderers\":[{\"id\":\"7058\"}]},\"id\":\"7102\",\"type\":\"LegendItem\"},{\"attributes\":{\"data\":{\"Variable\":[\"2122_salary_adjusted\",\"2122_salary_adjusted\",\"2122_salary_adjusted\",\"2122_salary_adjusted\",\"2122_salary_adjusted\",\"2122_salary_adjusted\",\"2122_salary_adjusted\",\"2122_salary_adjusted\",\"2122_salary_adjusted\",\"2122_salary_adjusted\",\"2122_salary_adjusted\",\"2122_salary_adjusted\",\"2122_salary_adjusted\",\"2122_salary_adjusted\",\"2122_salary_adjusted\",\"2122_salary_adjusted\",\"2122_salary_adjusted\",\"2122_salary_adjusted\",\"2122_salary_adjusted\",\"2122_salary_adjusted\",\"2122_salary_adjusted\",\"2122_salary_adjusted\",\"2122_salary_adjusted\",\"2122_salary_adjusted\",\"2122_salary_adjusted\",\"2122_salary_adjusted\",\"2122_salary_adjusted\",\"2122_salary_adjusted\",\"2122_salary_adjusted\",\"2122_salary_adjusted\",\"2122_salary_adjusted\",\"2122_salary_adjusted\",\"2122_salary_adjusted\",\"2122_salary_adjusted\",\"2122_salary_adjusted\",\"2122_salary_adjusted\",\"2122_salary_adjusted\",\"2122_salary_adjusted\",\"2122_salary_adjusted\",\"2122_salary_adjusted\",\"2122_salary_adjusted\",\"2122_salary_adjusted\",\"2122_salary_adjusted\",\"2122_salary_adjusted\",\"2122_salary_adjusted\",\"2122_salary_adjusted\",\"2122_salary_adjusted\",\"2122_salary_adjusted\",\"2122_salary_adjusted\",\"2122_salary_adjusted\",\"2122_salary_adjusted\",\"2122_salary_adjusted\",\"2122_salary_adjusted\",\"2122_salary_adjusted\",\"2122_salary_adjusted\",\"2122_salary_adjusted\",\"2122_salary_adjusted\",\"2122_salary_adjusted\",\"2122_salary_adjusted\",\"2122_salary_adjusted\",\"2122_salary_adjusted\",\"2122_salary_adjusted\",\"2122_salary_adjusted\",\"2122_salary_adjusted\",\"2122_salary_adjusted\",\"2122_salary_adjusted\",\"2122_salary_adjusted\",\"2122_salary_adjusted\",\"2122_salary_adjusted\",\"2122_salary_adjusted\",\"2122_salary_adjusted\",\"2122_salary_adjusted\",\"2122_salary_adjusted\",\"2122_salary_adjusted\",\"2122_salary_adjusted\",\"2122_salary_adjusted\",\"2122_salary_adjusted\",\"2122_salary_adjusted\",\"2122_salary_adjusted\",\"2122_salary_adjusted\",\"2122_salary_adjusted\",\"2122_salary_adjusted\",\"2122_salary_adjusted\",\"2122_salary_adjusted\",\"2122_salary_adjusted\",\"2122_salary_adjusted\",\"2122_salary_adjusted\",\"2122_salary_adjusted\",\"2122_salary_adjusted\",\"2122_salary_adjusted\",\"2122_salary_adjusted\",\"2122_salary_adjusted\",\"2122_salary_adjusted\",\"2122_salary_adjusted\",\"2122_salary_adjusted\",\"2122_salary_adjusted\",\"2122_salary_adjusted\",\"2122_salary_adjusted\",\"2122_salary_adjusted\",\"2122_salary_adjusted\",\"2122_salary_adjusted\",\"2122_salary_adjusted\",\"2122_salary_adjusted\",\"2122_salary_adjusted\",\"2122_salary_adjusted\",\"2122_salary_adjusted\",\"2122_salary_adjusted\",\"2122_salary_adjusted\",\"2122_salary_adjusted\",\"2122_salary_adjusted\",\"2122_salary_adjusted\",\"2122_salary_adjusted\",\"2122_salary_adjusted\",\"2122_salary_adjusted\",\"2122_salary_adjusted\",\"2122_salary_adjusted\",\"2122_salary_adjusted\",\"2122_salary_adjusted\",\"2122_salary_adjusted\",\"2122_salary_adjusted\",\"2122_salary_adjusted\",\"2122_salary_adjusted\",\"2122_salary_adjusted\",\"2122_salary_adjusted\",\"2122_salary_adjusted\",\"2122_salary_adjusted\",\"2122_salary_adjusted\",\"2122_salary_adjusted\",\"2122_salary_adjusted\",\"2122_salary_adjusted\",\"2122_salary_adjusted\",\"2122_salary_adjusted\",\"2122_salary_adjusted\",\"2122_salary_adjusted\",\"2122_salary_adjusted\",\"2122_salary_adjusted\",\"2122_salary_adjusted\",\"2122_salary_adjusted\",\"2122_salary_adjusted\",\"2122_salary_adjusted\",\"2122_salary_adjusted\",\"2122_salary_adjusted\",\"2122_salary_adjusted\",\"2122_salary_adjusted\",\"2122_salary_adjusted\",\"2122_salary_adjusted\",\"2122_salary_adjusted\",\"2122_salary_adjusted\",\"2122_salary_adjusted\",\"2122_salary_adjusted\",\"2122_salary_adjusted\",\"2122_salary_adjusted\",\"2122_salary_adjusted\",\"2122_salary_adjusted\",\"2122_salary_adjusted\",\"2122_salary_adjusted\",\"2122_salary_adjusted\",\"2122_salary_adjusted\",\"2122_salary_adjusted\",\"2122_salary_adjusted\",\"2122_salary_adjusted\",\"2122_salary_adjusted\",\"2122_salary_adjusted\",\"2122_salary_adjusted\",\"2122_salary_adjusted\",\"2122_salary_adjusted\",\"2122_salary_adjusted\",\"2122_salary_adjusted\",\"2122_salary_adjusted\",\"2122_salary_adjusted\",\"2122_salary_adjusted\",\"2122_salary_adjusted\",\"2122_salary_adjusted\",\"2122_salary_adjusted\",\"2122_salary_adjusted\",\"2122_salary_adjusted\",\"2122_salary_adjusted\",\"2122_salary_adjusted\",\"2122_salary_adjusted\",\"2122_salary_adjusted\",\"2122_salary_adjusted\",\"2122_salary_adjusted\",\"2122_salary_adjusted\",\"2122_salary_adjusted\",\"2122_salary_adjusted\",\"2122_salary_adjusted\",\"2122_salary_adjusted\",\"2122_salary_adjusted\",\"2122_salary_adjusted\",\"2122_salary_adjusted\",\"2122_salary_adjusted\",\"2122_salary_adjusted\",\"2122_salary_adjusted\",\"2122_salary_adjusted\",\"2122_salary_adjusted\",\"2122_salary_adjusted\",\"2122_salary_adjusted\",\"2122_salary_adjusted\",\"2122_salary_adjusted\"],\"player_name\":[\"LeBron James\",\"LeBron James\",\"Tyson Chandler\",\"Tyson Chandler\",\"Carmelo Anthony\",\"Carmelo Anthony\",\"Kyle Korver\",\"Kyle Korver\",\"Zaza Pachulia\",\"Udonis Haslem\",\"Dwight Howard\",\"Dwight Howard\",\"Dwight Howard\",\"Devin Harris\",\"Andre Iguodala\",\"Trevor Ariza\",\"Chris Paul\",\"Raymond Felton\",\"Jose Calderon\",\"LaMarcus Aldridge\",\"Rudy Gay\",\"Rudy Gay\",\"Thabo Sefolosha\",\"Thabo Sefolosha\",\"Rajon Rondo\",\"Rajon Rondo\",\"Kyle Lowry\",\"Kyle Lowry\",\"Paul Millsap\",\"Paul Millsap\",\"Paul Millsap\",\"Kevin Durant\",\"Kevin Durant\",\"Kevin Durant\",\"Kevin Durant\",\"Al Horford\",\"Al Horford\",\"Mike Conley\",\"Thaddeus Young\",\"Thaddeus Young\",\"Jared Dudley\",\"Jared Dudley\",\"Wilson Chandler\",\"Wilson Chandler\",\"Ian Mahinmi\",\"Derrick Rose\",\"Russell Westbrook\",\"Russell Westbrook\",\"Kevin Love\",\"Kevin Love\",\"Marc Gasol\",\"Marc Gasol\",\"Danilo Gallinari\",\"Danilo Gallinari\",\"Danilo Gallinari\",\"Eric Gordon\",\"Eric Gordon\",\"Brook Lopez\",\"Brook Lopez\",\"Goran Dragic\",\"Goran Dragic\",\"Robin Lopez\",\"Robin Lopez\",\"Robin Lopez\",\"JaVale McGee\",\"Nicolas Batum\",\"Nicolas Batum\",\"George Hill\",\"George Hill\",\"DeAndre Jordan\",\"DeAndre Jordan\",\"Blake Griffin\",\"James Harden\",\"James Harden\",\"Stephen Curry\",\"DeMar DeRozan\",\"James Johnson\",\"James Johnson\",\"Jrue Holiday\",\"Jeff Teague\",\"Jeff Teague\",\"Serge Ibaka\",\"Serge Ibaka\",\"Wayne Ellington\",\"Wayne Ellington\",\"Wayne Ellington\",\"Wesley Matthews\",\"Wesley Matthews\",\"Danny Green\",\"Danny Green\",\"Garrett Temple\",\"Garrett Temple\",\"John Wall\",\"Derrick Favors\",\"Derrick Favors\",\"DeMarcus Cousins\",\"Al-Farouq Aminu\",\"Gordon Hayward\",\"Gordon Hayward\",\"Paul George\",\"Ed Davis\",\"Patrick Patterson\",\"Patrick Patterson\",\"Eric Bledsoe\",\"Avery Bradley\",\"Avery Bradley\",\"Avery Bradley\",\"Quincy Pondexter\",\"Hassan Whiteside\",\"Patrick Beverley\",\"Kyrie Irving\",\"Enes Kanter\",\"Tristan Thompson\",\"Ricky Rubio\",\"Bismack Biyombo\",\"Bismack Biyombo\",\"Kemba Walker\",\"Klay Thompson\",\"Alec Burks\",\"Markieff Morris\",\"Kawhi Leonard\",\"Nikola Vucevic\",\"Tobias Harris\",\"Kenneth Faried\",\"Reggie Jackson\",\"Cory Joseph\",\"Jimmy Butler\",\"E'Twaun Moore\",\"E'Twaun Moore\",\"E'Twaun Moore\",\"Anthony Davis\",\"Jonas Valanciunas\",\"Harrison Barnes\",\"Terrence Ross\",\"Austin Rivers\",\"Austin Rivers\",\"Austin Rivers\",\"Meyers Leonard\",\"Jeremy Lamb\",\"Draymond Green\",\"Kyle O'Quinn\",\"Jae Crowder\",\"Will Barton\",\"Kent Bazemore\",\"Kent Bazemore\",\"Khris Middleton\",\"Mike Scott\",\"Aron Baynes\",\"Aron Baynes\",\"Justin Holiday\",\"Justin Holiday\",\"Nerlens Noel\",\"Ben McLemore\",\"Kentavious Caldwell-Pope\",\"Trey Burke\",\"Mason Plumlee\",\"Solomon Hill\",\"Reggie Bullock\",\"Robert Covington\",\"Matthew Dellavedova\",\"Mike Muscala\",\"Seth Curry\",\"Seth Curry\",\"Bojan Bogdanovic\",\"Julius Randle\",\"Elfrid Payton\",\"Rodney Hood\",\"Jerami Grant\",\"Joe Harris\",\"Joe Harris\",\"Spencer Dinwiddie\",\"Spencer Dinwiddie\",\"Joe Ingles\",\"JaKarr Sampson\",\"Glenn Robinson III\",\"Jordan Clarkson\",\"Dwight Powell\",\"Langston Galloway\",\"Langston Galloway\",\"Tyler Johnson\",\"JaMychal Green\",\"JaMychal Green\",\"Jahlil Okafor\",\"Willie Cauley-Stein\",\"Boban Marjanovic\",\"Montrezl Harrell\",\"Raul Neto\",\"Pat Connaughton\",\"Christian Wood\",\"Fred VanVleet\",\"Bryn Forbes\",\"Davis Bertans\",\"Patrick McCaw\",\"Quinn Cook\",\"Quinn Cook\",\"Quinn Cook\",\"Shaquille Harrison\",\"Edmond Sumner\",\"Torrey Craig\"],\"value\":[44911401,44911401,0,0,2881021,2881021,0,0,0,2881021,2881021,2881021,2881021,0,2881021,2881021,33590405,0,0,2881021,6423619,6423619,0,0,8179481,8179481,29428824,29428824,2881021,2881021,2881021,45825710,45825710,45825710,45825710,29446134,29446134,22902549,15475579,15475579,0,0,0,0,0,14663215,48216568,48216568,34090178,34090178,2936969,2936969,22329985,22329985,22329985,19869398,19869398,14507483,14507483,21101870,21101870,5452987,5452987,5452987,5452987,13116613,13116613,5753437,5753437,12115804,12115804,35341704,48325294,48325294,49928610,28355537,2881021,2881021,33995380,0,0,10601590,10601590,2881021,2881021,2881021,2135929,2135929,10905975,10905975,5354834,5354834,48325294,10601590,10601590,2223664,11272002,32636132,32636132,42909529,2881021,803843,803843,19767081,2881021,2881021,2881021,0,2619110,15618433,38529394,2881021,10847749,19412636,1655759,1655759,38135407,41421681,10399938,2881021,42909452,26174341,39257095,0,11325310,7972268,39279180,2881021,2881021,2881021,38565013,15268366,22121780,13632469,2619110,2619110,2619110,0,11451274,26203473,0,10601590,17040587,2619110,2619110,38716214,0,0,0,6550587,6550587,9597258,2606136,14220151,3435382,10086209,2606136,10399938,14151017,0,3817091,8951099,8951099,20394174,21593832,2442441,2442441,21814678,18929658,18929658,21064111,21064111,14217427,0,0,13545221,12083957,421108,421108,280738,8942900,8942900,2322997,4602412,3817091,10601590,2278746,5816521,14904833,21458517,4907689,17449561,0,0,0,0,336441,2530186,5319988]},\"selected\":{\"id\":\"7215\"},\"selection_policy\":{\"id\":\"7267\"}},\"id\":\"7214\",\"type\":\"ColumnDataSource\"},{\"attributes\":{\"data\":{\"Variable\":[\"1819_salary_adjusted\",\"1819_salary_adjusted\",\"1819_salary_adjusted\",\"1819_salary_adjusted\",\"1819_salary_adjusted\",\"1819_salary_adjusted\",\"1819_salary_adjusted\",\"1819_salary_adjusted\",\"1819_salary_adjusted\",\"1819_salary_adjusted\",\"1819_salary_adjusted\",\"1819_salary_adjusted\",\"1819_salary_adjusted\",\"1819_salary_adjusted\",\"1819_salary_adjusted\",\"1819_salary_adjusted\",\"1819_salary_adjusted\",\"1819_salary_adjusted\",\"1819_salary_adjusted\",\"1819_salary_adjusted\",\"1819_salary_adjusted\",\"1819_salary_adjusted\",\"1819_salary_adjusted\",\"1819_salary_adjusted\",\"1819_salary_adjusted\",\"1819_salary_adjusted\",\"1819_salary_adjusted\",\"1819_salary_adjusted\",\"1819_salary_adjusted\",\"1819_salary_adjusted\",\"1819_salary_adjusted\",\"1819_salary_adjusted\",\"1819_salary_adjusted\",\"1819_salary_adjusted\",\"1819_salary_adjusted\",\"1819_salary_adjusted\",\"1819_salary_adjusted\",\"1819_salary_adjusted\",\"1819_salary_adjusted\",\"1819_salary_adjusted\",\"1819_salary_adjusted\",\"1819_salary_adjusted\",\"1819_salary_adjusted\",\"1819_salary_adjusted\",\"1819_salary_adjusted\",\"1819_salary_adjusted\",\"1819_salary_adjusted\",\"1819_salary_adjusted\",\"1819_salary_adjusted\",\"1819_salary_adjusted\",\"1819_salary_adjusted\",\"1819_salary_adjusted\",\"1819_salary_adjusted\",\"1819_salary_adjusted\",\"1819_salary_adjusted\",\"1819_salary_adjusted\",\"1819_salary_adjusted\",\"1819_salary_adjusted\",\"1819_salary_adjusted\",\"1819_salary_adjusted\",\"1819_salary_adjusted\",\"1819_salary_adjusted\",\"1819_salary_adjusted\",\"1819_salary_adjusted\",\"1819_salary_adjusted\",\"1819_salary_adjusted\",\"1819_salary_adjusted\",\"1819_salary_adjusted\",\"1819_salary_adjusted\",\"1819_salary_adjusted\",\"1819_salary_adjusted\",\"1819_salary_adjusted\",\"1819_salary_adjusted\",\"1819_salary_adjusted\",\"1819_salary_adjusted\",\"1819_salary_adjusted\",\"1819_salary_adjusted\",\"1819_salary_adjusted\",\"1819_salary_adjusted\",\"1819_salary_adjusted\",\"1819_salary_adjusted\",\"1819_salary_adjusted\",\"1819_salary_adjusted\",\"1819_salary_adjusted\",\"1819_salary_adjusted\",\"1819_salary_adjusted\",\"1819_salary_adjusted\",\"1819_salary_adjusted\",\"1819_salary_adjusted\",\"1819_salary_adjusted\",\"1819_salary_adjusted\",\"1819_salary_adjusted\",\"1819_salary_adjusted\",\"1819_salary_adjusted\",\"1819_salary_adjusted\",\"1819_salary_adjusted\",\"1819_salary_adjusted\",\"1819_salary_adjusted\",\"1819_salary_adjusted\",\"1819_salary_adjusted\",\"1819_salary_adjusted\",\"1819_salary_adjusted\",\"1819_salary_adjusted\",\"1819_salary_adjusted\",\"1819_salary_adjusted\",\"1819_salary_adjusted\",\"1819_salary_adjusted\",\"1819_salary_adjusted\",\"1819_salary_adjusted\",\"1819_salary_adjusted\",\"1819_salary_adjusted\",\"1819_salary_adjusted\",\"1819_salary_adjusted\",\"1819_salary_adjusted\",\"1819_salary_adjusted\",\"1819_salary_adjusted\",\"1819_salary_adjusted\",\"1819_salary_adjusted\",\"1819_salary_adjusted\",\"1819_salary_adjusted\",\"1819_salary_adjusted\",\"1819_salary_adjusted\",\"1819_salary_adjusted\",\"1819_salary_adjusted\",\"1819_salary_adjusted\",\"1819_salary_adjusted\",\"1819_salary_adjusted\",\"1819_salary_adjusted\",\"1819_salary_adjusted\",\"1819_salary_adjusted\",\"1819_salary_adjusted\",\"1819_salary_adjusted\",\"1819_salary_adjusted\",\"1819_salary_adjusted\",\"1819_salary_adjusted\",\"1819_salary_adjusted\",\"1819_salary_adjusted\",\"1819_salary_adjusted\",\"1819_salary_adjusted\",\"1819_salary_adjusted\",\"1819_salary_adjusted\",\"1819_salary_adjusted\",\"1819_salary_adjusted\",\"1819_salary_adjusted\",\"1819_salary_adjusted\",\"1819_salary_adjusted\",\"1819_salary_adjusted\",\"1819_salary_adjusted\",\"1819_salary_adjusted\",\"1819_salary_adjusted\",\"1819_salary_adjusted\",\"1819_salary_adjusted\",\"1819_salary_adjusted\",\"1819_salary_adjusted\",\"1819_salary_adjusted\",\"1819_salary_adjusted\",\"1819_salary_adjusted\",\"1819_salary_adjusted\",\"1819_salary_adjusted\",\"1819_salary_adjusted\",\"1819_salary_adjusted\",\"1819_salary_adjusted\",\"1819_salary_adjusted\",\"1819_salary_adjusted\",\"1819_salary_adjusted\",\"1819_salary_adjusted\",\"1819_salary_adjusted\",\"1819_salary_adjusted\",\"1819_salary_adjusted\",\"1819_salary_adjusted\",\"1819_salary_adjusted\",\"1819_salary_adjusted\",\"1819_salary_adjusted\",\"1819_salary_adjusted\",\"1819_salary_adjusted\",\"1819_salary_adjusted\",\"1819_salary_adjusted\",\"1819_salary_adjusted\",\"1819_salary_adjusted\",\"1819_salary_adjusted\",\"1819_salary_adjusted\",\"1819_salary_adjusted\",\"1819_salary_adjusted\",\"1819_salary_adjusted\",\"1819_salary_adjusted\",\"1819_salary_adjusted\",\"1819_salary_adjusted\",\"1819_salary_adjusted\",\"1819_salary_adjusted\",\"1819_salary_adjusted\",\"1819_salary_adjusted\",\"1819_salary_adjusted\",\"1819_salary_adjusted\",\"1819_salary_adjusted\",\"1819_salary_adjusted\",\"1819_salary_adjusted\",\"1819_salary_adjusted\",\"1819_salary_adjusted\",\"1819_salary_adjusted\"],\"player_name\":[\"LeBron James\",\"LeBron James\",\"Tyson Chandler\",\"Tyson Chandler\",\"Carmelo Anthony\",\"Carmelo Anthony\",\"Kyle Korver\",\"Kyle Korver\",\"Zaza Pachulia\",\"Udonis Haslem\",\"Dwight Howard\",\"Dwight Howard\",\"Dwight Howard\",\"Devin Harris\",\"Andre Iguodala\",\"Trevor Ariza\",\"Chris Paul\",\"Raymond Felton\",\"Jose Calderon\",\"LaMarcus Aldridge\",\"Rudy Gay\",\"Rudy Gay\",\"Thabo Sefolosha\",\"Thabo Sefolosha\",\"Rajon Rondo\",\"Rajon Rondo\",\"Kyle Lowry\",\"Kyle Lowry\",\"Paul Millsap\",\"Paul Millsap\",\"Paul Millsap\",\"Kevin Durant\",\"Kevin Durant\",\"Kevin Durant\",\"Kevin Durant\",\"Al Horford\",\"Al Horford\",\"Mike Conley\",\"Thaddeus Young\",\"Thaddeus Young\",\"Jared Dudley\",\"Jared Dudley\",\"Wilson Chandler\",\"Wilson Chandler\",\"Ian Mahinmi\",\"Derrick Rose\",\"Russell Westbrook\",\"Russell Westbrook\",\"Kevin Love\",\"Kevin Love\",\"Marc Gasol\",\"Marc Gasol\",\"Danilo Gallinari\",\"Danilo Gallinari\",\"Danilo Gallinari\",\"Eric Gordon\",\"Eric Gordon\",\"Brook Lopez\",\"Brook Lopez\",\"Goran Dragic\",\"Goran Dragic\",\"Robin Lopez\",\"Robin Lopez\",\"Robin Lopez\",\"JaVale McGee\",\"Nicolas Batum\",\"Nicolas Batum\",\"George Hill\",\"George Hill\",\"DeAndre Jordan\",\"DeAndre Jordan\",\"Blake Griffin\",\"James Harden\",\"James Harden\",\"Stephen Curry\",\"DeMar DeRozan\",\"James Johnson\",\"James Johnson\",\"Jrue Holiday\",\"Jeff Teague\",\"Jeff Teague\",\"Serge Ibaka\",\"Serge Ibaka\",\"Wayne Ellington\",\"Wayne Ellington\",\"Wayne Ellington\",\"Wesley Matthews\",\"Wesley Matthews\",\"Danny Green\",\"Danny Green\",\"Garrett Temple\",\"Garrett Temple\",\"John Wall\",\"Derrick Favors\",\"Derrick Favors\",\"DeMarcus Cousins\",\"Al-Farouq Aminu\",\"Gordon Hayward\",\"Gordon Hayward\",\"Paul George\",\"Ed Davis\",\"Patrick Patterson\",\"Patrick Patterson\",\"Eric Bledsoe\",\"Avery Bradley\",\"Avery Bradley\",\"Avery Bradley\",\"Quincy Pondexter\",\"Hassan Whiteside\",\"Patrick Beverley\",\"Kyrie Irving\",\"Enes Kanter\",\"Tristan Thompson\",\"Ricky Rubio\",\"Bismack Biyombo\",\"Bismack Biyombo\",\"Kemba Walker\",\"Klay Thompson\",\"Alec Burks\",\"Markieff Morris\",\"Kawhi Leonard\",\"Nikola Vucevic\",\"Tobias Harris\",\"Kenneth Faried\",\"Reggie Jackson\",\"Cory Joseph\",\"Jimmy Butler\",\"E'Twaun Moore\",\"E'Twaun Moore\",\"E'Twaun Moore\",\"Anthony Davis\",\"Jonas Valanciunas\",\"Harrison Barnes\",\"Terrence Ross\",\"Austin Rivers\",\"Austin Rivers\",\"Austin Rivers\",\"Meyers Leonard\",\"Jeremy Lamb\",\"Draymond Green\",\"Kyle O'Quinn\",\"Jae Crowder\",\"Will Barton\",\"Kent Bazemore\",\"Kent Bazemore\",\"Khris Middleton\",\"Mike Scott\",\"Aron Baynes\",\"Aron Baynes\",\"Justin Holiday\",\"Justin Holiday\",\"Nerlens Noel\",\"Ben McLemore\",\"Kentavious Caldwell-Pope\",\"Trey Burke\",\"Mason Plumlee\",\"Solomon Hill\",\"Reggie Bullock\",\"Robert Covington\",\"Matthew Dellavedova\",\"Mike Muscala\",\"Seth Curry\",\"Seth Curry\",\"Bojan Bogdanovic\",\"Julius Randle\",\"Elfrid Payton\",\"Rodney Hood\",\"Jerami Grant\",\"Joe Harris\",\"Joe Harris\",\"Spencer Dinwiddie\",\"Spencer Dinwiddie\",\"Joe Ingles\",\"JaKarr Sampson\",\"Glenn Robinson III\",\"Jordan Clarkson\",\"Dwight Powell\",\"Langston Galloway\",\"Langston Galloway\",\"Tyler Johnson\",\"JaMychal Green\",\"JaMychal Green\",\"Jahlil Okafor\",\"Willie Cauley-Stein\",\"Boban Marjanovic\",\"Montrezl Harrell\",\"Raul Neto\",\"Pat Connaughton\",\"Christian Wood\",\"Fred VanVleet\",\"Bryn Forbes\",\"Davis Bertans\",\"Patrick McCaw\",\"Quinn Cook\",\"Quinn Cook\",\"Quinn Cook\",\"Shaquille Harrison\",\"Edmond Sumner\",\"Torrey Craig\"],\"value\":[41925309,41925309,15974446,15974446,2814944,2814944,8889718,8889718,2814944,2814944,28523206,28523206,28523206,2814944,18814218,17638329,41925309,2814944,2814944,26277600,11861423,11861423,6173415,6173415,10582997,10582997,38451558,38451558,34372128,34372128,34372128,35276658,35276658,35276658,35276658,34016941,34016941,35889432,16184984,16184984,11206218,11206218,15052035,15052035,18814218,2559039,41938067,41938067,28361287,28361287,28361287,28361287,25384588,25384588,25384588,15874937,15874937,3976855,3976855,21294372,21294372,16883114,16883114,16883114,2814944,28221327,28221327,22341883,22341883,26924557,26924557,37480194,35946915,35946915,44045441,32619121,16957137,16957137,31326979,22341883,22341883,25477587,25477587,10175052,10175052,10175052,22765471,22765471,11758886,11758886,9407109,9407109,22541549,19872517,19872517,6275717,8180780,36704534,36704534,35935979,5231528,6410474,6410474,17638329,14110663,14110663,14110663,2546364,28731970,5911225,23634407,22653027,20542262,17403151,19990106,19990106,14110663,22328625,13565656,10786771,27179567,14992580,17403151,16747925,20041231,9342435,23331543,10358032,10358032,10358032,29907860,19448405,28347450,12346830,15469195,15469195,15469195,12459135,8231220,20542262,5231528,8590836,13911183,21271693,21271693,15286552,5080426,6107095,6107095,5291498,5291498,2066540,6420351,14110663,2110737,15189903,15008415,2939721,12304606,11297350,5879443,3286608,3286608,12346830,10160853,3527665,4083728,9799071,9799071,9799071,1947379,1947379,14752057,100487,4791746,14698607,11325277,8231220,8231220,22630411,9485502,9485502,1842625,5523000,11160053,7055331,2469366,1929633,1778650,10175960,3674651,8231220,1133678,1816690,1816690,1816690,1558676,528907,2351777]},\"selected\":{\"id\":\"7053\"},\"selection_policy\":{\"id\":\"7099\"}},\"id\":\"7052\",\"type\":\"ColumnDataSource\"},{\"attributes\":{\"source\":{\"id\":\"7052\"}},\"id\":\"7059\",\"type\":\"CDSView\"},{\"attributes\":{\"line_color\":\"#fc4f30\",\"line_width\":2,\"x\":{\"field\":\"player_name\"},\"y\":{\"field\":\"value\"}},\"id\":\"8657\",\"type\":\"Line\"},{\"attributes\":{\"source\":{\"id\":\"7458\"}},\"id\":\"7465\",\"type\":\"CDSView\"},{\"attributes\":{},\"id\":\"7053\",\"type\":\"Selection\"},{\"attributes\":{\"line_alpha\":0.2,\"line_color\":\"#e5ae38\",\"line_width\":2,\"x\":{\"field\":\"player_name\"},\"y\":{\"field\":\"value\"}},\"id\":\"8663\",\"type\":\"Line\"},{\"attributes\":{\"line_color\":\"#fc4f30\",\"line_width\":2,\"x\":{\"field\":\"player_name\"},\"y\":{\"field\":\"value\"}},\"id\":\"6533\",\"type\":\"Line\"},{\"attributes\":{\"line_color\":\"#e5ae38\",\"line_width\":2,\"x\":{\"field\":\"player_name\"},\"y\":{\"field\":\"value\"}},\"id\":\"8661\",\"type\":\"Line\"},{\"attributes\":{\"coordinates\":null,\"data_source\":{\"id\":\"8658\"},\"glyph\":{\"id\":\"8661\"},\"group\":null,\"hover_glyph\":null,\"muted_glyph\":{\"id\":\"8663\"},\"nonselection_glyph\":{\"id\":\"8662\"},\"selection_glyph\":{\"id\":\"8753\"},\"view\":{\"id\":\"8665\"}},\"id\":\"8664\",\"type\":\"GlyphRenderer\"},{\"attributes\":{\"line_alpha\":0.2,\"line_color\":\"#e5ae38\",\"line_width\":2,\"x\":{\"field\":\"player_name\"},\"y\":{\"field\":\"value\"}},\"id\":\"6539\",\"type\":\"Line\"},{\"attributes\":{},\"id\":\"8749\",\"type\":\"UnionRenderers\"},{\"attributes\":{\"label\":{\"value\":\"3PA\"},\"renderers\":[{\"id\":\"8664\"}]},\"id\":\"8752\",\"type\":\"LegendItem\"},{\"attributes\":{\"line_alpha\":0.1,\"line_color\":\"#e5ae38\",\"line_width\":2,\"x\":{\"field\":\"player_name\"},\"y\":{\"field\":\"value\"}},\"id\":\"6538\",\"type\":\"Line\"},{\"attributes\":{\"coordinates\":null,\"data_source\":{\"id\":\"6534\"},\"glyph\":{\"id\":\"6537\"},\"group\":null,\"hover_glyph\":null,\"muted_glyph\":{\"id\":\"6539\"},\"nonselection_glyph\":{\"id\":\"6538\"},\"selection_glyph\":{\"id\":\"6557\"},\"view\":{\"id\":\"6541\"}},\"id\":\"6540\",\"type\":\"GlyphRenderer\"},{\"attributes\":{\"line_color\":\"#8b8b8b\",\"line_width\":2,\"x\":{\"field\":\"player_name\"},\"y\":{\"field\":\"value\"}},\"id\":\"8855\",\"type\":\"Line\"},{\"attributes\":{\"line_alpha\":0.1,\"line_color\":\"#e5ae38\",\"line_width\":2,\"x\":{\"field\":\"player_name\"},\"y\":{\"field\":\"value\"}},\"id\":\"8662\",\"type\":\"Line\"},{\"attributes\":{},\"id\":\"6553\",\"type\":\"UnionRenderers\"},{\"attributes\":{\"data\":{\"Variable\":[\"AST\",\"AST\",\"AST\",\"AST\",\"AST\",\"AST\",\"AST\",\"AST\",\"AST\",\"AST\",\"AST\",\"AST\",\"AST\",\"AST\",\"AST\",\"AST\",\"AST\",\"AST\",\"AST\",\"AST\",\"AST\",\"AST\",\"AST\",\"AST\",\"AST\",\"AST\",\"AST\",\"AST\",\"AST\",\"AST\",\"AST\",\"AST\",\"AST\",\"AST\",\"AST\",\"AST\",\"AST\",\"AST\",\"AST\",\"AST\",\"AST\",\"AST\",\"AST\",\"AST\",\"AST\",\"AST\",\"AST\",\"AST\",\"AST\",\"AST\",\"AST\",\"AST\",\"AST\",\"AST\",\"AST\",\"AST\",\"AST\",\"AST\",\"AST\",\"AST\",\"AST\",\"AST\",\"AST\",\"AST\",\"AST\",\"AST\",\"AST\",\"AST\",\"AST\",\"AST\",\"AST\",\"AST\",\"AST\",\"AST\",\"AST\",\"AST\",\"AST\",\"AST\",\"AST\",\"AST\",\"AST\",\"AST\",\"AST\",\"AST\",\"AST\",\"AST\",\"AST\",\"AST\",\"AST\",\"AST\",\"AST\",\"AST\",\"AST\",\"AST\",\"AST\",\"AST\",\"AST\",\"AST\",\"AST\",\"AST\",\"AST\",\"AST\",\"AST\",\"AST\",\"AST\",\"AST\",\"AST\",\"AST\",\"AST\",\"AST\",\"AST\",\"AST\",\"AST\",\"AST\",\"AST\",\"AST\",\"AST\",\"AST\",\"AST\",\"AST\",\"AST\",\"AST\",\"AST\",\"AST\",\"AST\",\"AST\",\"AST\",\"AST\",\"AST\",\"AST\",\"AST\",\"AST\",\"AST\",\"AST\",\"AST\",\"AST\",\"AST\",\"AST\",\"AST\",\"AST\",\"AST\",\"AST\",\"AST\",\"AST\",\"AST\",\"AST\",\"AST\",\"AST\",\"AST\",\"AST\",\"AST\",\"AST\",\"AST\",\"AST\",\"AST\",\"AST\",\"AST\",\"AST\",\"AST\",\"AST\",\"AST\",\"AST\",\"AST\",\"AST\",\"AST\",\"AST\",\"AST\",\"AST\",\"AST\",\"AST\",\"AST\",\"AST\",\"AST\",\"AST\",\"AST\",\"AST\",\"AST\",\"AST\",\"AST\",\"AST\",\"AST\",\"AST\",\"AST\",\"AST\",\"AST\",\"AST\",\"AST\",\"AST\",\"AST\",\"AST\",\"AST\",\"AST\",\"AST\",\"AST\",\"AST\",\"AST\",\"AST\",\"AST\",\"AST\"],\"player_name\":[\"LeBron James\",\"LeBron James\",\"Tyson Chandler\",\"Tyson Chandler\",\"Carmelo Anthony\",\"Carmelo Anthony\",\"Kyle Korver\",\"Kyle Korver\",\"Zaza Pachulia\",\"Udonis Haslem\",\"Dwight Howard\",\"Dwight Howard\",\"Dwight Howard\",\"Devin Harris\",\"Andre Iguodala\",\"Trevor Ariza\",\"Chris Paul\",\"Raymond Felton\",\"Jose Calderon\",\"LaMarcus Aldridge\",\"Rudy Gay\",\"Rudy Gay\",\"Thabo Sefolosha\",\"Thabo Sefolosha\",\"Rajon Rondo\",\"Rajon Rondo\",\"Kyle Lowry\",\"Kyle Lowry\",\"Paul Millsap\",\"Paul Millsap\",\"Paul Millsap\",\"Kevin Durant\",\"Kevin Durant\",\"Kevin Durant\",\"Kevin Durant\",\"Al Horford\",\"Al Horford\",\"Mike Conley\",\"Thaddeus Young\",\"Thaddeus Young\",\"Jared Dudley\",\"Jared Dudley\",\"Wilson Chandler\",\"Wilson Chandler\",\"Ian Mahinmi\",\"Derrick Rose\",\"Russell Westbrook\",\"Russell Westbrook\",\"Kevin Love\",\"Kevin Love\",\"Marc Gasol\",\"Marc Gasol\",\"Danilo Gallinari\",\"Danilo Gallinari\",\"Danilo Gallinari\",\"Eric Gordon\",\"Eric Gordon\",\"Brook Lopez\",\"Brook Lopez\",\"Goran Dragic\",\"Goran Dragic\",\"Robin Lopez\",\"Robin Lopez\",\"Robin Lopez\",\"JaVale McGee\",\"Nicolas Batum\",\"Nicolas Batum\",\"George Hill\",\"George Hill\",\"DeAndre Jordan\",\"DeAndre Jordan\",\"Blake Griffin\",\"James Harden\",\"James Harden\",\"Stephen Curry\",\"DeMar DeRozan\",\"James Johnson\",\"James Johnson\",\"Jrue Holiday\",\"Jeff Teague\",\"Jeff Teague\",\"Serge Ibaka\",\"Serge Ibaka\",\"Wayne Ellington\",\"Wayne Ellington\",\"Wayne Ellington\",\"Wesley Matthews\",\"Wesley Matthews\",\"Danny Green\",\"Danny Green\",\"Garrett Temple\",\"Garrett Temple\",\"John Wall\",\"Derrick Favors\",\"Derrick Favors\",\"DeMarcus Cousins\",\"Al-Farouq Aminu\",\"Gordon Hayward\",\"Gordon Hayward\",\"Paul George\",\"Ed Davis\",\"Patrick Patterson\",\"Patrick Patterson\",\"Eric Bledsoe\",\"Avery Bradley\",\"Avery Bradley\",\"Avery Bradley\",\"Quincy Pondexter\",\"Hassan Whiteside\",\"Patrick Beverley\",\"Kyrie Irving\",\"Enes Kanter\",\"Tristan Thompson\",\"Ricky Rubio\",\"Bismack Biyombo\",\"Bismack Biyombo\",\"Kemba Walker\",\"Klay Thompson\",\"Alec Burks\",\"Markieff Morris\",\"Kawhi Leonard\",\"Nikola Vucevic\",\"Tobias Harris\",\"Kenneth Faried\",\"Reggie Jackson\",\"Cory Joseph\",\"Jimmy Butler\",\"E'Twaun Moore\",\"E'Twaun Moore\",\"E'Twaun Moore\",\"Anthony Davis\",\"Jonas Valanciunas\",\"Harrison Barnes\",\"Terrence Ross\",\"Austin Rivers\",\"Austin Rivers\",\"Austin Rivers\",\"Meyers Leonard\",\"Jeremy Lamb\",\"Draymond Green\",\"Kyle O'Quinn\",\"Jae Crowder\",\"Will Barton\",\"Kent Bazemore\",\"Kent Bazemore\",\"Khris Middleton\",\"Mike Scott\",\"Aron Baynes\",\"Aron Baynes\",\"Justin Holiday\",\"Justin Holiday\",\"Nerlens Noel\",\"Ben McLemore\",\"Kentavious Caldwell-Pope\",\"Trey Burke\",\"Mason Plumlee\",\"Solomon Hill\",\"Reggie Bullock\",\"Robert Covington\",\"Matthew Dellavedova\",\"Mike Muscala\",\"Seth Curry\",\"Seth Curry\",\"Bojan Bogdanovic\",\"Julius Randle\",\"Elfrid Payton\",\"Rodney Hood\",\"Jerami Grant\",\"Joe Harris\",\"Joe Harris\",\"Spencer Dinwiddie\",\"Spencer Dinwiddie\",\"Joe Ingles\",\"JaKarr Sampson\",\"Glenn Robinson III\",\"Jordan Clarkson\",\"Dwight Powell\",\"Langston Galloway\",\"Langston Galloway\",\"Tyler Johnson\",\"JaMychal Green\",\"JaMychal Green\",\"Jahlil Okafor\",\"Willie Cauley-Stein\",\"Boban Marjanovic\",\"Montrezl Harrell\",\"Raul Neto\",\"Pat Connaughton\",\"Christian Wood\",\"Fred VanVleet\",\"Bryn Forbes\",\"Davis Bertans\",\"Patrick McCaw\",\"Quinn Cook\",\"Quinn Cook\",\"Quinn Cook\",\"Shaquille Harrison\",\"Edmond Sumner\",\"Torrey Craig\"],\"value\":[514,511,32,84,242,200,110,146,79,13,105,98,108,178,433,191,678,390,518,124,83,250,107,94,367,839,417,586,252,201,223,361,366,214,300,266,263,528,82,173,108,171,134,120,12,307,834,362,111,168,307,200,135,83,116,31,121,50,6,350,351,55,89,20,31,403,84,145,204,42,61,299,612,455,539,204,111,58,625,639,579,75,43,83,104,105,160,139,158,86,140,72,721,91,102,207,59,400,252,283,94,78,76,235,85,152,94,20,29,192,389,55,39,193,16,29,318,222,82,192,161,147,124,89,462,188,212,34,99,112,116,42,117,56,155,167,99,92,77,291,59,94,81,171,91,182,75,93,35,48,102,20,51,110,100,284,57,29,0,337,95,1,67,111,210,320,126,57,2,128,22,22,182,77,11,192,44,93,207,79,50,84,12,194,21,74,75,91,3,243,80,74,81,26,116,26,55,0,25]},\"selected\":{\"id\":\"9483\"},\"selection_policy\":{\"id\":\"9589\"}},\"id\":\"9482\",\"type\":\"ColumnDataSource\"},{\"attributes\":{\"label\":{\"value\":\"0405_salary_adjusted\"},\"renderers\":[{\"id\":\"6540\"}]},\"id\":\"6556\",\"type\":\"LegendItem\"},{\"attributes\":{\"line_color\":\"#e5ae38\",\"line_width\":2,\"x\":{\"field\":\"player_name\"},\"y\":{\"field\":\"value\"}},\"id\":\"6537\",\"type\":\"Line\"},{\"attributes\":{\"line_alpha\":0.2,\"line_color\":\"#6d904f\",\"line_width\":2,\"x\":{\"field\":\"player_name\"},\"y\":{\"field\":\"value\"}},\"id\":\"6563\",\"type\":\"Line\"},{\"attributes\":{\"line_alpha\":0.2,\"line_color\":\"#6d904f\",\"line_width\":2,\"x\":{\"field\":\"player_name\"},\"y\":{\"field\":\"value\"}},\"id\":\"8759\",\"type\":\"Line\"},{\"attributes\":{\"source\":{\"id\":\"8658\"}},\"id\":\"8665\",\"type\":\"CDSView\"},{\"attributes\":{\"source\":{\"id\":\"6534\"}},\"id\":\"6541\",\"type\":\"CDSView\"},{\"attributes\":{},\"id\":\"6535\",\"type\":\"Selection\"},{\"attributes\":{\"line_alpha\":0.2,\"line_color\":\"#d62728\",\"line_width\":2,\"x\":{\"field\":\"player_name\"},\"y\":{\"field\":\"value\"}},\"id\":\"9163\",\"type\":\"Line\"},{\"attributes\":{\"line_color\":\"#e5ae38\",\"line_width\":2,\"x\":{\"field\":\"player_name\"},\"y\":{\"field\":\"value\"}},\"id\":\"8753\",\"type\":\"Line\"},{\"attributes\":{\"line_alpha\":0.1,\"line_color\":\"#9467bd\",\"line_width\":2,\"x\":{\"field\":\"player_name\"},\"y\":{\"field\":\"value\"}},\"id\":\"6646\",\"type\":\"Line\"},{\"attributes\":{\"line_color\":\"#6d904f\",\"line_width\":2,\"x\":{\"field\":\"player_name\"},\"y\":{\"field\":\"value\"}},\"id\":\"8757\",\"type\":\"Line\"},{\"attributes\":{\"line_color\":\"#e5ae38\",\"line_width\":2,\"x\":{\"field\":\"player_name\"},\"y\":{\"field\":\"value\"}},\"id\":\"6557\",\"type\":\"Line\"},{\"attributes\":{\"line_alpha\":0.1,\"line_color\":\"#6d904f\",\"line_width\":2,\"x\":{\"field\":\"player_name\"},\"y\":{\"field\":\"value\"}},\"id\":\"8758\",\"type\":\"Line\"},{\"attributes\":{\"coordinates\":null,\"data_source\":{\"id\":\"8754\"},\"glyph\":{\"id\":\"8757\"},\"group\":null,\"hover_glyph\":null,\"muted_glyph\":{\"id\":\"8759\"},\"nonselection_glyph\":{\"id\":\"8758\"},\"selection_glyph\":{\"id\":\"8851\"},\"view\":{\"id\":\"8761\"}},\"id\":\"8760\",\"type\":\"GlyphRenderer\"},{\"attributes\":{\"line_color\":\"#6d904f\",\"line_width\":2,\"x\":{\"field\":\"player_name\"},\"y\":{\"field\":\"value\"}},\"id\":\"6561\",\"type\":\"Line\"},{\"attributes\":{},\"id\":\"8847\",\"type\":\"UnionRenderers\"},{\"attributes\":{\"label\":{\"value\":\"3P%\"},\"renderers\":[{\"id\":\"8760\"}]},\"id\":\"8850\",\"type\":\"LegendItem\"},{\"attributes\":{\"data\":{\"Variable\":[\"Unnamed: 0\",\"Unnamed: 0\",\"Unnamed: 0\",\"Unnamed: 0\",\"Unnamed: 0\",\"Unnamed: 0\",\"Unnamed: 0\",\"Unnamed: 0\",\"Unnamed: 0\",\"Unnamed: 0\",\"Unnamed: 0\",\"Unnamed: 0\",\"Unnamed: 0\",\"Unnamed: 0\",\"Unnamed: 0\",\"Unnamed: 0\",\"Unnamed: 0\",\"Unnamed: 0\",\"Unnamed: 0\",\"Unnamed: 0\",\"Unnamed: 0\",\"Unnamed: 0\",\"Unnamed: 0\",\"Unnamed: 0\",\"Unnamed: 0\",\"Unnamed: 0\",\"Unnamed: 0\",\"Unnamed: 0\",\"Unnamed: 0\",\"Unnamed: 0\",\"Unnamed: 0\",\"Unnamed: 0\",\"Unnamed: 0\",\"Unnamed: 0\",\"Unnamed: 0\",\"Unnamed: 0\",\"Unnamed: 0\",\"Unnamed: 0\",\"Unnamed: 0\",\"Unnamed: 0\",\"Unnamed: 0\",\"Unnamed: 0\",\"Unnamed: 0\",\"Unnamed: 0\",\"Unnamed: 0\",\"Unnamed: 0\",\"Unnamed: 0\",\"Unnamed: 0\",\"Unnamed: 0\",\"Unnamed: 0\",\"Unnamed: 0\",\"Unnamed: 0\",\"Unnamed: 0\",\"Unnamed: 0\",\"Unnamed: 0\",\"Unnamed: 0\",\"Unnamed: 0\",\"Unnamed: 0\",\"Unnamed: 0\",\"Unnamed: 0\",\"Unnamed: 0\",\"Unnamed: 0\",\"Unnamed: 0\",\"Unnamed: 0\",\"Unnamed: 0\",\"Unnamed: 0\",\"Unnamed: 0\",\"Unnamed: 0\",\"Unnamed: 0\",\"Unnamed: 0\",\"Unnamed: 0\",\"Unnamed: 0\",\"Unnamed: 0\",\"Unnamed: 0\",\"Unnamed: 0\",\"Unnamed: 0\",\"Unnamed: 0\",\"Unnamed: 0\",\"Unnamed: 0\",\"Unnamed: 0\",\"Unnamed: 0\",\"Unnamed: 0\",\"Unnamed: 0\",\"Unnamed: 0\",\"Unnamed: 0\",\"Unnamed: 0\",\"Unnamed: 0\",\"Unnamed: 0\",\"Unnamed: 0\",\"Unnamed: 0\",\"Unnamed: 0\",\"Unnamed: 0\",\"Unnamed: 0\",\"Unnamed: 0\",\"Unnamed: 0\",\"Unnamed: 0\",\"Unnamed: 0\",\"Unnamed: 0\",\"Unnamed: 0\",\"Unnamed: 0\",\"Unnamed: 0\",\"Unnamed: 0\",\"Unnamed: 0\",\"Unnamed: 0\",\"Unnamed: 0\",\"Unnamed: 0\",\"Unnamed: 0\",\"Unnamed: 0\",\"Unnamed: 0\",\"Unnamed: 0\",\"Unnamed: 0\",\"Unnamed: 0\",\"Unnamed: 0\",\"Unnamed: 0\",\"Unnamed: 0\",\"Unnamed: 0\",\"Unnamed: 0\",\"Unnamed: 0\",\"Unnamed: 0\",\"Unnamed: 0\",\"Unnamed: 0\",\"Unnamed: 0\",\"Unnamed: 0\",\"Unnamed: 0\",\"Unnamed: 0\",\"Unnamed: 0\",\"Unnamed: 0\",\"Unnamed: 0\",\"Unnamed: 0\",\"Unnamed: 0\",\"Unnamed: 0\",\"Unnamed: 0\",\"Unnamed: 0\",\"Unnamed: 0\",\"Unnamed: 0\",\"Unnamed: 0\",\"Unnamed: 0\",\"Unnamed: 0\",\"Unnamed: 0\",\"Unnamed: 0\",\"Unnamed: 0\",\"Unnamed: 0\",\"Unnamed: 0\",\"Unnamed: 0\",\"Unnamed: 0\",\"Unnamed: 0\",\"Unnamed: 0\",\"Unnamed: 0\",\"Unnamed: 0\",\"Unnamed: 0\",\"Unnamed: 0\",\"Unnamed: 0\",\"Unnamed: 0\",\"Unnamed: 0\",\"Unnamed: 0\",\"Unnamed: 0\",\"Unnamed: 0\",\"Unnamed: 0\",\"Unnamed: 0\",\"Unnamed: 0\",\"Unnamed: 0\",\"Unnamed: 0\",\"Unnamed: 0\",\"Unnamed: 0\",\"Unnamed: 0\",\"Unnamed: 0\",\"Unnamed: 0\",\"Unnamed: 0\",\"Unnamed: 0\",\"Unnamed: 0\",\"Unnamed: 0\",\"Unnamed: 0\",\"Unnamed: 0\",\"Unnamed: 0\",\"Unnamed: 0\",\"Unnamed: 0\",\"Unnamed: 0\",\"Unnamed: 0\",\"Unnamed: 0\",\"Unnamed: 0\",\"Unnamed: 0\",\"Unnamed: 0\",\"Unnamed: 0\",\"Unnamed: 0\",\"Unnamed: 0\",\"Unnamed: 0\",\"Unnamed: 0\",\"Unnamed: 0\",\"Unnamed: 0\",\"Unnamed: 0\",\"Unnamed: 0\",\"Unnamed: 0\",\"Unnamed: 0\",\"Unnamed: 0\",\"Unnamed: 0\",\"Unnamed: 0\",\"Unnamed: 0\",\"Unnamed: 0\",\"Unnamed: 0\"],\"player_name\":[\"LeBron James\",\"LeBron James\",\"Tyson Chandler\",\"Tyson Chandler\",\"Carmelo Anthony\",\"Carmelo Anthony\",\"Kyle Korver\",\"Kyle Korver\",\"Zaza Pachulia\",\"Udonis Haslem\",\"Dwight Howard\",\"Dwight Howard\",\"Dwight Howard\",\"Devin Harris\",\"Andre Iguodala\",\"Trevor Ariza\",\"Chris Paul\",\"Raymond Felton\",\"Jose Calderon\",\"LaMarcus Aldridge\",\"Rudy Gay\",\"Rudy Gay\",\"Thabo Sefolosha\",\"Thabo Sefolosha\",\"Rajon Rondo\",\"Rajon Rondo\",\"Kyle Lowry\",\"Kyle Lowry\",\"Paul Millsap\",\"Paul Millsap\",\"Paul Millsap\",\"Kevin Durant\",\"Kevin Durant\",\"Kevin Durant\",\"Kevin Durant\",\"Al Horford\",\"Al Horford\",\"Mike Conley\",\"Thaddeus Young\",\"Thaddeus Young\",\"Jared Dudley\",\"Jared Dudley\",\"Wilson Chandler\",\"Wilson Chandler\",\"Ian Mahinmi\",\"Derrick Rose\",\"Russell Westbrook\",\"Russell Westbrook\",\"Kevin Love\",\"Kevin Love\",\"Marc Gasol\",\"Marc Gasol\",\"Danilo Gallinari\",\"Danilo Gallinari\",\"Danilo Gallinari\",\"Eric Gordon\",\"Eric Gordon\",\"Brook Lopez\",\"Brook Lopez\",\"Goran Dragic\",\"Goran Dragic\",\"Robin Lopez\",\"Robin Lopez\",\"Robin Lopez\",\"JaVale McGee\",\"Nicolas Batum\",\"Nicolas Batum\",\"George Hill\",\"George Hill\",\"DeAndre Jordan\",\"DeAndre Jordan\",\"Blake Griffin\",\"James Harden\",\"James Harden\",\"Stephen Curry\",\"DeMar DeRozan\",\"James Johnson\",\"James Johnson\",\"Jrue Holiday\",\"Jeff Teague\",\"Jeff Teague\",\"Serge Ibaka\",\"Serge Ibaka\",\"Wayne Ellington\",\"Wayne Ellington\",\"Wayne Ellington\",\"Wesley Matthews\",\"Wesley Matthews\",\"Danny Green\",\"Danny Green\",\"Garrett Temple\",\"Garrett Temple\",\"John Wall\",\"Derrick Favors\",\"Derrick Favors\",\"DeMarcus Cousins\",\"Al-Farouq Aminu\",\"Gordon Hayward\",\"Gordon Hayward\",\"Paul George\",\"Ed Davis\",\"Patrick Patterson\",\"Patrick Patterson\",\"Eric Bledsoe\",\"Avery Bradley\",\"Avery Bradley\",\"Avery Bradley\",\"Quincy Pondexter\",\"Hassan Whiteside\",\"Patrick Beverley\",\"Kyrie Irving\",\"Enes Kanter\",\"Tristan Thompson\",\"Ricky Rubio\",\"Bismack Biyombo\",\"Bismack Biyombo\",\"Kemba Walker\",\"Klay Thompson\",\"Alec Burks\",\"Markieff Morris\",\"Kawhi Leonard\",\"Nikola Vucevic\",\"Tobias Harris\",\"Kenneth Faried\",\"Reggie Jackson\",\"Cory Joseph\",\"Jimmy Butler\",\"E'Twaun Moore\",\"E'Twaun Moore\",\"E'Twaun Moore\",\"Anthony Davis\",\"Jonas Valanciunas\",\"Harrison Barnes\",\"Terrence Ross\",\"Austin Rivers\",\"Austin Rivers\",\"Austin Rivers\",\"Meyers Leonard\",\"Jeremy Lamb\",\"Draymond Green\",\"Kyle O'Quinn\",\"Jae Crowder\",\"Will Barton\",\"Kent Bazemore\",\"Kent Bazemore\",\"Khris Middleton\",\"Mike Scott\",\"Aron Baynes\",\"Aron Baynes\",\"Justin Holiday\",\"Justin Holiday\",\"Nerlens Noel\",\"Ben McLemore\",\"Kentavious Caldwell-Pope\",\"Trey Burke\",\"Mason Plumlee\",\"Solomon Hill\",\"Reggie Bullock\",\"Robert Covington\",\"Matthew Dellavedova\",\"Mike Muscala\",\"Seth Curry\",\"Seth Curry\",\"Bojan Bogdanovic\",\"Julius Randle\",\"Elfrid Payton\",\"Rodney Hood\",\"Jerami Grant\",\"Joe Harris\",\"Joe Harris\",\"Spencer Dinwiddie\",\"Spencer Dinwiddie\",\"Joe Ingles\",\"JaKarr Sampson\",\"Glenn Robinson III\",\"Jordan Clarkson\",\"Dwight Powell\",\"Langston Galloway\",\"Langston Galloway\",\"Tyler Johnson\",\"JaMychal Green\",\"JaMychal Green\",\"Jahlil Okafor\",\"Willie Cauley-Stein\",\"Boban Marjanovic\",\"Montrezl Harrell\",\"Raul Neto\",\"Pat Connaughton\",\"Christian Wood\",\"Fred VanVleet\",\"Bryn Forbes\",\"Davis Bertans\",\"Patrick McCaw\",\"Quinn Cook\",\"Quinn Cook\",\"Quinn Cook\",\"Shaquille Harrison\",\"Edmond Sumner\",\"Torrey Craig\"],\"value\":[0,1,2,3,4,5,6,7,8,9,10,11,12,13,14,15,16,17,18,19,20,21,22,23,24,25,26,27,28,29,30,31,32,33,34,35,36,37,38,39,40,41,42,43,44,45,46,47,48,49,50,51,52,53,54,55,56,57,58,59,60,61,62,63,64,65,66,67,68,69,70,71,72,73,74,75,76,77,78,79,80,81,82,83,84,85,86,87,88,89,90,91,92,93,94,95,96,97,98,99,100,101,102,103,104,105,106,107,108,109,110,111,112,113,114,115,116,117,118,119,120,121,122,123,124,125,126,127,128,129,130,131,132,133,134,135,136,137,138,139,140,141,142,143,144,145,146,147,148,149,150,151,152,153,154,155,156,157,158,159,160,161,162,163,164,165,166,167,168,169,170,171,172,173,174,175,176,177,178,179,180,181,182,183,184,185,186,187,188,189,190,191,192,193,194,195,196,197,198]},\"selected\":{\"id\":\"6492\"},\"selection_policy\":{\"id\":\"6506\"}},\"id\":\"6491\",\"type\":\"ColumnDataSource\"},{\"attributes\":{\"line_alpha\":0.1,\"line_color\":\"#6d904f\",\"line_width\":2,\"x\":{\"field\":\"player_name\"},\"y\":{\"field\":\"value\"}},\"id\":\"6562\",\"type\":\"Line\"},{\"attributes\":{\"coordinates\":null,\"data_source\":{\"id\":\"6558\"},\"glyph\":{\"id\":\"6561\"},\"group\":null,\"hover_glyph\":null,\"muted_glyph\":{\"id\":\"6563\"},\"nonselection_glyph\":{\"id\":\"6562\"},\"selection_glyph\":{\"id\":\"6583\"},\"view\":{\"id\":\"6565\"}},\"id\":\"6564\",\"type\":\"GlyphRenderer\"},{\"attributes\":{\"factors\":[\"LeBron James\",\"Tyson Chandler\",\"Carmelo Anthony\",\"Kyle Korver\",\"Zaza Pachulia\",\"Udonis Haslem\",\"Dwight Howard\",\"Devin Harris\",\"Andre Iguodala\",\"Trevor Ariza\",\"Chris Paul\",\"Raymond Felton\",\"Jose Calderon\",\"LaMarcus Aldridge\",\"Rudy Gay\",\"Thabo Sefolosha\",\"Rajon Rondo\",\"Kyle Lowry\",\"Paul Millsap\",\"Kevin Durant\",\"Al Horford\",\"Mike Conley\",\"Thaddeus Young\",\"Jared Dudley\",\"Wilson Chandler\",\"Ian Mahinmi\",\"Derrick Rose\",\"Russell Westbrook\",\"Kevin Love\",\"Marc Gasol\",\"Danilo Gallinari\",\"Eric Gordon\",\"Brook Lopez\",\"Goran Dragic\",\"Robin Lopez\",\"JaVale McGee\",\"Nicolas Batum\",\"George Hill\",\"DeAndre Jordan\",\"Blake Griffin\",\"James Harden\",\"Stephen Curry\",\"DeMar DeRozan\",\"James Johnson\",\"Jrue Holiday\",\"Jeff Teague\",\"Serge Ibaka\",\"Wayne Ellington\",\"Wesley Matthews\",\"Danny Green\",\"Garrett Temple\",\"John Wall\",\"Derrick Favors\",\"DeMarcus Cousins\",\"Al-Farouq Aminu\",\"Gordon Hayward\",\"Paul George\",\"Ed Davis\",\"Patrick Patterson\",\"Eric Bledsoe\",\"Avery Bradley\",\"Quincy Pondexter\",\"Hassan Whiteside\",\"Patrick Beverley\",\"Kyrie Irving\",\"Enes Kanter\",\"Tristan Thompson\",\"Ricky Rubio\",\"Bismack Biyombo\",\"Kemba Walker\",\"Klay Thompson\",\"Alec Burks\",\"Markieff Morris\",\"Kawhi Leonard\",\"Nikola Vucevic\",\"Tobias Harris\",\"Kenneth Faried\",\"Reggie Jackson\",\"Cory Joseph\",\"Jimmy Butler\",\"E'Twaun Moore\",\"Anthony Davis\",\"Jonas Valanciunas\",\"Harrison Barnes\",\"Terrence Ross\",\"Austin Rivers\",\"Meyers Leonard\",\"Jeremy Lamb\",\"Draymond Green\",\"Kyle O'Quinn\",\"Jae Crowder\",\"Will Barton\",\"Kent Bazemore\",\"Khris Middleton\",\"Mike Scott\",\"Aron Baynes\",\"Justin Holiday\",\"Nerlens Noel\",\"Ben McLemore\",\"Kentavious Caldwell-Pope\",\"Trey Burke\",\"Mason Plumlee\",\"Solomon Hill\",\"Reggie Bullock\",\"Robert Covington\",\"Matthew Dellavedova\",\"Mike Muscala\",\"Seth Curry\",\"Bojan Bogdanovic\",\"Julius Randle\",\"Elfrid Payton\",\"Rodney Hood\",\"Jerami Grant\",\"Joe Harris\",\"Spencer Dinwiddie\",\"Joe Ingles\",\"JaKarr Sampson\",\"Glenn Robinson III\",\"Jordan Clarkson\",\"Dwight Powell\",\"Langston Galloway\",\"Tyler Johnson\",\"JaMychal Green\",\"Jahlil Okafor\",\"Willie Cauley-Stein\",\"Boban Marjanovic\",\"Montrezl Harrell\",\"Raul Neto\",\"Pat Connaughton\",\"Christian Wood\",\"Fred VanVleet\",\"Bryn Forbes\",\"Davis Bertans\",\"Patrick McCaw\",\"Quinn Cook\",\"Shaquille Harrison\",\"Edmond Sumner\",\"Torrey Craig\"],\"tags\":[[[\"player_name\",\"player_name\",null]]]},\"id\":\"6402\",\"type\":\"FactorRange\"},{\"attributes\":{\"line_alpha\":0.2,\"line_color\":\"#17becf\",\"line_width\":2,\"x\":{\"field\":\"player_name\"},\"y\":{\"field\":\"value\"}},\"id\":\"8957\",\"type\":\"Line\"},{\"attributes\":{\"label\":{\"value\":\"0506_salary_adjusted\"},\"renderers\":[{\"id\":\"6564\"}]},\"id\":\"6582\",\"type\":\"LegendItem\"},{\"attributes\":{\"line_alpha\":0.2,\"line_color\":\"#8b8b8b\",\"line_width\":2,\"x\":{\"field\":\"player_name\"},\"y\":{\"field\":\"value\"}},\"id\":\"6589\",\"type\":\"Line\"},{\"attributes\":{\"source\":{\"id\":\"8754\"}},\"id\":\"8761\",\"type\":\"CDSView\"},{\"attributes\":{},\"id\":\"8755\",\"type\":\"Selection\"},{\"attributes\":{\"source\":{\"id\":\"6558\"}},\"id\":\"6565\",\"type\":\"CDSView\"},{\"attributes\":{},\"id\":\"6559\",\"type\":\"Selection\"},{\"attributes\":{\"coordinates\":null,\"data_source\":{\"id\":\"8852\"},\"glyph\":{\"id\":\"8855\"},\"group\":null,\"hover_glyph\":null,\"muted_glyph\":{\"id\":\"8857\"},\"nonselection_glyph\":{\"id\":\"8856\"},\"selection_glyph\":{\"id\":\"8951\"},\"view\":{\"id\":\"8859\"}},\"id\":\"8858\",\"type\":\"GlyphRenderer\"},{\"attributes\":{\"line_color\":\"#6d904f\",\"line_width\":2,\"x\":{\"field\":\"player_name\"},\"y\":{\"field\":\"value\"}},\"id\":\"6583\",\"type\":\"Line\"},{\"attributes\":{\"line_color\":\"#6d904f\",\"line_width\":2,\"x\":{\"field\":\"player_name\"},\"y\":{\"field\":\"value\"}},\"id\":\"8851\",\"type\":\"Line\"},{\"attributes\":{\"line_color\":\"#8b8b8b\",\"line_width\":2,\"x\":{\"field\":\"player_name\"},\"y\":{\"field\":\"value\"}},\"id\":\"6587\",\"type\":\"Line\"},{\"attributes\":{\"line_alpha\":0.2,\"line_color\":\"#8b8b8b\",\"line_width\":2,\"x\":{\"field\":\"player_name\"},\"y\":{\"field\":\"value\"}},\"id\":\"8857\",\"type\":\"Line\"},{\"attributes\":{},\"id\":\"8947\",\"type\":\"UnionRenderers\"},{\"attributes\":{\"line_alpha\":0.1,\"line_color\":\"#8b8b8b\",\"line_width\":2,\"x\":{\"field\":\"player_name\"},\"y\":{\"field\":\"value\"}},\"id\":\"6588\",\"type\":\"Line\"},{\"attributes\":{\"label\":{\"value\":\"FTM\"},\"renderers\":[{\"id\":\"8858\"}]},\"id\":\"8950\",\"type\":\"LegendItem\"},{\"attributes\":{\"coordinates\":null,\"data_source\":{\"id\":\"6584\"},\"glyph\":{\"id\":\"6587\"},\"group\":null,\"hover_glyph\":null,\"muted_glyph\":{\"id\":\"6589\"},\"nonselection_glyph\":{\"id\":\"6588\"},\"selection_glyph\":{\"id\":\"6611\"},\"view\":{\"id\":\"6591\"}},\"id\":\"6590\",\"type\":\"GlyphRenderer\"},{\"attributes\":{\"line_alpha\":0.1,\"line_color\":\"#8b8b8b\",\"line_width\":2,\"x\":{\"field\":\"player_name\"},\"y\":{\"field\":\"value\"}},\"id\":\"8856\",\"type\":\"Line\"},{\"attributes\":{},\"id\":\"6607\",\"type\":\"UnionRenderers\"},{\"attributes\":{\"line_color\":\"#8c564b\",\"line_width\":2,\"x\":{\"field\":\"player_name\"},\"y\":{\"field\":\"value\"}},\"id\":\"9485\",\"type\":\"Line\"},{\"attributes\":{\"label\":{\"value\":\"0607_salary_adjusted\"},\"renderers\":[{\"id\":\"6590\"}]},\"id\":\"6610\",\"type\":\"LegendItem\"},{\"attributes\":{\"line_alpha\":0.2,\"line_color\":\"#9467bd\",\"line_width\":2,\"x\":{\"field\":\"player_name\"},\"y\":{\"field\":\"value\"}},\"id\":\"6647\",\"type\":\"Line\"},{\"attributes\":{\"line_alpha\":0.2,\"line_color\":\"#17becf\",\"line_width\":2,\"x\":{\"field\":\"player_name\"},\"y\":{\"field\":\"value\"}},\"id\":\"6617\",\"type\":\"Line\"},{\"attributes\":{\"source\":{\"id\":\"8852\"}},\"id\":\"8859\",\"type\":\"CDSView\"},{\"attributes\":{},\"id\":\"8853\",\"type\":\"Selection\"},{\"attributes\":{\"source\":{\"id\":\"6584\"}},\"id\":\"6591\",\"type\":\"CDSView\"},{\"attributes\":{},\"id\":\"6585\",\"type\":\"Selection\"},{\"attributes\":{\"line_alpha\":0.2,\"line_color\":\"#1f77b4\",\"line_width\":2,\"x\":{\"field\":\"player_name\"},\"y\":{\"field\":\"value\"}},\"id\":\"9269\",\"type\":\"Line\"},{\"attributes\":{\"line_color\":\"#8b8b8b\",\"line_width\":2,\"x\":{\"field\":\"player_name\"},\"y\":{\"field\":\"value\"}},\"id\":\"8951\",\"type\":\"Line\"},{\"attributes\":{\"line_color\":\"#17becf\",\"line_width\":2,\"x\":{\"field\":\"player_name\"},\"y\":{\"field\":\"value\"}},\"id\":\"6615\",\"type\":\"Line\"},{\"attributes\":{\"line_color\":\"#17becf\",\"line_width\":2,\"x\":{\"field\":\"player_name\"},\"y\":{\"field\":\"value\"}},\"id\":\"8955\",\"type\":\"Line\"},{\"attributes\":{\"line_color\":\"#8b8b8b\",\"line_width\":2,\"x\":{\"field\":\"player_name\"},\"y\":{\"field\":\"value\"}},\"id\":\"6611\",\"type\":\"Line\"},{\"attributes\":{\"line_alpha\":0.1,\"line_color\":\"#17becf\",\"line_width\":2,\"x\":{\"field\":\"player_name\"},\"y\":{\"field\":\"value\"}},\"id\":\"8956\",\"type\":\"Line\"},{\"attributes\":{\"coordinates\":null,\"data_source\":{\"id\":\"8952\"},\"glyph\":{\"id\":\"8955\"},\"group\":null,\"hover_glyph\":null,\"muted_glyph\":{\"id\":\"8957\"},\"nonselection_glyph\":{\"id\":\"8956\"},\"selection_glyph\":{\"id\":\"9053\"},\"view\":{\"id\":\"8959\"}},\"id\":\"8958\",\"type\":\"GlyphRenderer\"},{\"attributes\":{\"line_alpha\":0.1,\"line_color\":\"#d62728\",\"line_width\":2,\"x\":{\"field\":\"player_name\"},\"y\":{\"field\":\"value\"}},\"id\":\"6678\",\"type\":\"Line\"},{\"attributes\":{},\"id\":\"9049\",\"type\":\"UnionRenderers\"},{\"attributes\":{\"label\":{\"value\":\"FTA\"},\"renderers\":[{\"id\":\"8958\"}]},\"id\":\"9052\",\"type\":\"LegendItem\"},{\"attributes\":{\"line_color\":\"#d62728\",\"line_width\":2,\"x\":{\"field\":\"player_name\"},\"y\":{\"field\":\"value\"}},\"id\":\"6677\",\"type\":\"Line\"},{\"attributes\":{},\"id\":\"9483\",\"type\":\"Selection\"},{\"attributes\":{\"line_alpha\":0.2,\"line_color\":\"#9467bd\",\"line_width\":2,\"x\":{\"field\":\"player_name\"},\"y\":{\"field\":\"value\"}},\"id\":\"9059\",\"type\":\"Line\"},{\"attributes\":{},\"id\":\"6637\",\"type\":\"UnionRenderers\"},{\"attributes\":{\"line_alpha\":0.1,\"line_color\":\"#17becf\",\"line_width\":2,\"x\":{\"field\":\"player_name\"},\"y\":{\"field\":\"value\"}},\"id\":\"6616\",\"type\":\"Line\"},{\"attributes\":{\"data\":{\"Variable\":[\"OREB\",\"OREB\",\"OREB\",\"OREB\",\"OREB\",\"OREB\",\"OREB\",\"OREB\",\"OREB\",\"OREB\",\"OREB\",\"OREB\",\"OREB\",\"OREB\",\"OREB\",\"OREB\",\"OREB\",\"OREB\",\"OREB\",\"OREB\",\"OREB\",\"OREB\",\"OREB\",\"OREB\",\"OREB\",\"OREB\",\"OREB\",\"OREB\",\"OREB\",\"OREB\",\"OREB\",\"OREB\",\"OREB\",\"OREB\",\"OREB\",\"OREB\",\"OREB\",\"OREB\",\"OREB\",\"OREB\",\"OREB\",\"OREB\",\"OREB\",\"OREB\",\"OREB\",\"OREB\",\"OREB\",\"OREB\",\"OREB\",\"OREB\",\"OREB\",\"OREB\",\"OREB\",\"OREB\",\"OREB\",\"OREB\",\"OREB\",\"OREB\",\"OREB\",\"OREB\",\"OREB\",\"OREB\",\"OREB\",\"OREB\",\"OREB\",\"OREB\",\"OREB\",\"OREB\",\"OREB\",\"OREB\",\"OREB\",\"OREB\",\"OREB\",\"OREB\",\"OREB\",\"OREB\",\"OREB\",\"OREB\",\"OREB\",\"OREB\",\"OREB\",\"OREB\",\"OREB\",\"OREB\",\"OREB\",\"OREB\",\"OREB\",\"OREB\",\"OREB\",\"OREB\",\"OREB\",\"OREB\",\"OREB\",\"OREB\",\"OREB\",\"OREB\",\"OREB\",\"OREB\",\"OREB\",\"OREB\",\"OREB\",\"OREB\",\"OREB\",\"OREB\",\"OREB\",\"OREB\",\"OREB\",\"OREB\",\"OREB\",\"OREB\",\"OREB\",\"OREB\",\"OREB\",\"OREB\",\"OREB\",\"OREB\",\"OREB\",\"OREB\",\"OREB\",\"OREB\",\"OREB\",\"OREB\",\"OREB\",\"OREB\",\"OREB\",\"OREB\",\"OREB\",\"OREB\",\"OREB\",\"OREB\",\"OREB\",\"OREB\",\"OREB\",\"OREB\",\"OREB\",\"OREB\",\"OREB\",\"OREB\",\"OREB\",\"OREB\",\"OREB\",\"OREB\",\"OREB\",\"OREB\",\"OREB\",\"OREB\",\"OREB\",\"OREB\",\"OREB\",\"OREB\",\"OREB\",\"OREB\",\"OREB\",\"OREB\",\"OREB\",\"OREB\",\"OREB\",\"OREB\",\"OREB\",\"OREB\",\"OREB\",\"OREB\",\"OREB\",\"OREB\",\"OREB\",\"OREB\",\"OREB\",\"OREB\",\"OREB\",\"OREB\",\"OREB\",\"OREB\",\"OREB\",\"OREB\",\"OREB\",\"OREB\",\"OREB\",\"OREB\",\"OREB\",\"OREB\",\"OREB\",\"OREB\",\"OREB\",\"OREB\",\"OREB\",\"OREB\",\"OREB\",\"OREB\",\"OREB\",\"OREB\",\"OREB\",\"OREB\",\"OREB\",\"OREB\",\"OREB\",\"OREB\",\"OREB\",\"OREB\",\"OREB\"],\"player_name\":[\"LeBron James\",\"LeBron James\",\"Tyson Chandler\",\"Tyson Chandler\",\"Carmelo Anthony\",\"Carmelo Anthony\",\"Kyle Korver\",\"Kyle Korver\",\"Zaza Pachulia\",\"Udonis Haslem\",\"Dwight Howard\",\"Dwight Howard\",\"Dwight Howard\",\"Devin Harris\",\"Andre Iguodala\",\"Trevor Ariza\",\"Chris Paul\",\"Raymond Felton\",\"Jose Calderon\",\"LaMarcus Aldridge\",\"Rudy Gay\",\"Rudy Gay\",\"Thabo Sefolosha\",\"Thabo Sefolosha\",\"Rajon Rondo\",\"Rajon Rondo\",\"Kyle Lowry\",\"Kyle Lowry\",\"Paul Millsap\",\"Paul Millsap\",\"Paul Millsap\",\"Kevin Durant\",\"Kevin Durant\",\"Kevin Durant\",\"Kevin Durant\",\"Al Horford\",\"Al Horford\",\"Mike Conley\",\"Thaddeus Young\",\"Thaddeus Young\",\"Jared Dudley\",\"Jared Dudley\",\"Wilson Chandler\",\"Wilson Chandler\",\"Ian Mahinmi\",\"Derrick Rose\",\"Russell Westbrook\",\"Russell Westbrook\",\"Kevin Love\",\"Kevin Love\",\"Marc Gasol\",\"Marc Gasol\",\"Danilo Gallinari\",\"Danilo Gallinari\",\"Danilo Gallinari\",\"Eric Gordon\",\"Eric Gordon\",\"Brook Lopez\",\"Brook Lopez\",\"Goran Dragic\",\"Goran Dragic\",\"Robin Lopez\",\"Robin Lopez\",\"Robin Lopez\",\"JaVale McGee\",\"Nicolas Batum\",\"Nicolas Batum\",\"George Hill\",\"George Hill\",\"DeAndre Jordan\",\"DeAndre Jordan\",\"Blake Griffin\",\"James Harden\",\"James Harden\",\"Stephen Curry\",\"DeMar DeRozan\",\"James Johnson\",\"James Johnson\",\"Jrue Holiday\",\"Jeff Teague\",\"Jeff Teague\",\"Serge Ibaka\",\"Serge Ibaka\",\"Wayne Ellington\",\"Wayne Ellington\",\"Wayne Ellington\",\"Wesley Matthews\",\"Wesley Matthews\",\"Danny Green\",\"Danny Green\",\"Garrett Temple\",\"Garrett Temple\",\"John Wall\",\"Derrick Favors\",\"Derrick Favors\",\"DeMarcus Cousins\",\"Al-Farouq Aminu\",\"Gordon Hayward\",\"Gordon Hayward\",\"Paul George\",\"Ed Davis\",\"Patrick Patterson\",\"Patrick Patterson\",\"Eric Bledsoe\",\"Avery Bradley\",\"Avery Bradley\",\"Avery Bradley\",\"Quincy Pondexter\",\"Hassan Whiteside\",\"Patrick Beverley\",\"Kyrie Irving\",\"Enes Kanter\",\"Tristan Thompson\",\"Ricky Rubio\",\"Bismack Biyombo\",\"Bismack Biyombo\",\"Kemba Walker\",\"Klay Thompson\",\"Alec Burks\",\"Markieff Morris\",\"Kawhi Leonard\",\"Nikola Vucevic\",\"Tobias Harris\",\"Kenneth Faried\",\"Reggie Jackson\",\"Cory Joseph\",\"Jimmy Butler\",\"E'Twaun Moore\",\"E'Twaun Moore\",\"E'Twaun Moore\",\"Anthony Davis\",\"Jonas Valanciunas\",\"Harrison Barnes\",\"Terrence Ross\",\"Austin Rivers\",\"Austin Rivers\",\"Austin Rivers\",\"Meyers Leonard\",\"Jeremy Lamb\",\"Draymond Green\",\"Kyle O'Quinn\",\"Jae Crowder\",\"Will Barton\",\"Kent Bazemore\",\"Kent Bazemore\",\"Khris Middleton\",\"Mike Scott\",\"Aron Baynes\",\"Aron Baynes\",\"Justin Holiday\",\"Justin Holiday\",\"Nerlens Noel\",\"Ben McLemore\",\"Kentavious Caldwell-Pope\",\"Trey Burke\",\"Mason Plumlee\",\"Solomon Hill\",\"Reggie Bullock\",\"Robert Covington\",\"Matthew Dellavedova\",\"Mike Muscala\",\"Seth Curry\",\"Seth Curry\",\"Bojan Bogdanovic\",\"Julius Randle\",\"Elfrid Payton\",\"Rodney Hood\",\"Jerami Grant\",\"Joe Harris\",\"Joe Harris\",\"Spencer Dinwiddie\",\"Spencer Dinwiddie\",\"Joe Ingles\",\"JaKarr Sampson\",\"Glenn Robinson III\",\"Jordan Clarkson\",\"Dwight Powell\",\"Langston Galloway\",\"Langston Galloway\",\"Tyler Johnson\",\"JaMychal Green\",\"JaMychal Green\",\"Jahlil Okafor\",\"Willie Cauley-Stein\",\"Boban Marjanovic\",\"Montrezl Harrell\",\"Raul Neto\",\"Pat Connaughton\",\"Christian Wood\",\"Fred VanVleet\",\"Bryn Forbes\",\"Davis Bertans\",\"Patrick McCaw\",\"Quinn Cook\",\"Quinn Cook\",\"Quinn Cook\",\"Shaquille Harrison\",\"Edmond Sumner\",\"Torrey Craig\"],\"value\":[111,51,206,294,145,88,7,23,132,42,255,238,251,8,82,99,53,27,20,177,35,98,54,50,34,77,48,88,111,177,139,45,31,57,39,182,148,32,153,127,111,54,96,75,108,26,145,96,226,142,115,154,39,31,28,2,10,214,8,81,53,190,140,90,163,55,81,31,23,207,397,186,63,62,59,48,60,49,89,33,25,129,222,20,25,31,32,38,54,54,36,21,38,199,198,218,114,62,49,64,230,117,62,27,48,43,22,10,238,67,55,277,274,19,159,182,35,27,19,110,85,238,73,242,56,44,114,4,19,29,130,184,77,21,27,25,22,51,44,114,46,72,26,28,10,48,62,130,109,12,27,48,19,48,7,170,39,13,2,33,76,0,9,37,181,49,25,86,0,51,4,4,22,35,15,93,84,27,43,28,104,167,21,181,73,103,7,36,13,25,12,18,16,1,22,1,9,0,40]},\"selected\":{\"id\":\"9159\"},\"selection_policy\":{\"id\":\"9259\"}},\"id\":\"9158\",\"type\":\"ColumnDataSource\"},{\"attributes\":{\"coordinates\":null,\"data_source\":{\"id\":\"6612\"},\"glyph\":{\"id\":\"6615\"},\"group\":null,\"hover_glyph\":null,\"muted_glyph\":{\"id\":\"6617\"},\"nonselection_glyph\":{\"id\":\"6616\"},\"selection_glyph\":{\"id\":\"6641\"},\"view\":{\"id\":\"6619\"}},\"id\":\"6618\",\"type\":\"GlyphRenderer\"},{\"attributes\":{\"data\":{\"Variable\":[\"0708_salary_adjusted\",\"0708_salary_adjusted\",\"0708_salary_adjusted\",\"0708_salary_adjusted\",\"0708_salary_adjusted\",\"0708_salary_adjusted\",\"0708_salary_adjusted\",\"0708_salary_adjusted\",\"0708_salary_adjusted\",\"0708_salary_adjusted\",\"0708_salary_adjusted\",\"0708_salary_adjusted\",\"0708_salary_adjusted\",\"0708_salary_adjusted\",\"0708_salary_adjusted\",\"0708_salary_adjusted\",\"0708_salary_adjusted\",\"0708_salary_adjusted\",\"0708_salary_adjusted\",\"0708_salary_adjusted\",\"0708_salary_adjusted\",\"0708_salary_adjusted\",\"0708_salary_adjusted\",\"0708_salary_adjusted\",\"0708_salary_adjusted\",\"0708_salary_adjusted\",\"0708_salary_adjusted\",\"0708_salary_adjusted\",\"0708_salary_adjusted\",\"0708_salary_adjusted\",\"0708_salary_adjusted\",\"0708_salary_adjusted\",\"0708_salary_adjusted\",\"0708_salary_adjusted\",\"0708_salary_adjusted\",\"0708_salary_adjusted\",\"0708_salary_adjusted\",\"0708_salary_adjusted\",\"0708_salary_adjusted\",\"0708_salary_adjusted\",\"0708_salary_adjusted\",\"0708_salary_adjusted\",\"0708_salary_adjusted\",\"0708_salary_adjusted\",\"0708_salary_adjusted\",\"0708_salary_adjusted\",\"0708_salary_adjusted\",\"0708_salary_adjusted\",\"0708_salary_adjusted\",\"0708_salary_adjusted\",\"0708_salary_adjusted\",\"0708_salary_adjusted\",\"0708_salary_adjusted\",\"0708_salary_adjusted\",\"0708_salary_adjusted\",\"0708_salary_adjusted\",\"0708_salary_adjusted\",\"0708_salary_adjusted\",\"0708_salary_adjusted\",\"0708_salary_adjusted\",\"0708_salary_adjusted\",\"0708_salary_adjusted\",\"0708_salary_adjusted\",\"0708_salary_adjusted\",\"0708_salary_adjusted\",\"0708_salary_adjusted\",\"0708_salary_adjusted\",\"0708_salary_adjusted\",\"0708_salary_adjusted\",\"0708_salary_adjusted\",\"0708_salary_adjusted\",\"0708_salary_adjusted\",\"0708_salary_adjusted\",\"0708_salary_adjusted\",\"0708_salary_adjusted\",\"0708_salary_adjusted\",\"0708_salary_adjusted\",\"0708_salary_adjusted\",\"0708_salary_adjusted\",\"0708_salary_adjusted\",\"0708_salary_adjusted\",\"0708_salary_adjusted\",\"0708_salary_adjusted\",\"0708_salary_adjusted\",\"0708_salary_adjusted\",\"0708_salary_adjusted\",\"0708_salary_adjusted\",\"0708_salary_adjusted\",\"0708_salary_adjusted\",\"0708_salary_adjusted\",\"0708_salary_adjusted\",\"0708_salary_adjusted\",\"0708_salary_adjusted\",\"0708_salary_adjusted\",\"0708_salary_adjusted\",\"0708_salary_adjusted\",\"0708_salary_adjusted\",\"0708_salary_adjusted\",\"0708_salary_adjusted\",\"0708_salary_adjusted\",\"0708_salary_adjusted\",\"0708_salary_adjusted\",\"0708_salary_adjusted\",\"0708_salary_adjusted\",\"0708_salary_adjusted\",\"0708_salary_adjusted\",\"0708_salary_adjusted\",\"0708_salary_adjusted\",\"0708_salary_adjusted\",\"0708_salary_adjusted\",\"0708_salary_adjusted\",\"0708_salary_adjusted\",\"0708_salary_adjusted\",\"0708_salary_adjusted\",\"0708_salary_adjusted\",\"0708_salary_adjusted\",\"0708_salary_adjusted\",\"0708_salary_adjusted\",\"0708_salary_adjusted\",\"0708_salary_adjusted\",\"0708_salary_adjusted\",\"0708_salary_adjusted\",\"0708_salary_adjusted\",\"0708_salary_adjusted\",\"0708_salary_adjusted\",\"0708_salary_adjusted\",\"0708_salary_adjusted\",\"0708_salary_adjusted\",\"0708_salary_adjusted\",\"0708_salary_adjusted\",\"0708_salary_adjusted\",\"0708_salary_adjusted\",\"0708_salary_adjusted\",\"0708_salary_adjusted\",\"0708_salary_adjusted\",\"0708_salary_adjusted\",\"0708_salary_adjusted\",\"0708_salary_adjusted\",\"0708_salary_adjusted\",\"0708_salary_adjusted\",\"0708_salary_adjusted\",\"0708_salary_adjusted\",\"0708_salary_adjusted\",\"0708_salary_adjusted\",\"0708_salary_adjusted\",\"0708_salary_adjusted\",\"0708_salary_adjusted\",\"0708_salary_adjusted\",\"0708_salary_adjusted\",\"0708_salary_adjusted\",\"0708_salary_adjusted\",\"0708_salary_adjusted\",\"0708_salary_adjusted\",\"0708_salary_adjusted\",\"0708_salary_adjusted\",\"0708_salary_adjusted\",\"0708_salary_adjusted\",\"0708_salary_adjusted\",\"0708_salary_adjusted\",\"0708_salary_adjusted\",\"0708_salary_adjusted\",\"0708_salary_adjusted\",\"0708_salary_adjusted\",\"0708_salary_adjusted\",\"0708_salary_adjusted\",\"0708_salary_adjusted\",\"0708_salary_adjusted\",\"0708_salary_adjusted\",\"0708_salary_adjusted\",\"0708_salary_adjusted\",\"0708_salary_adjusted\",\"0708_salary_adjusted\",\"0708_salary_adjusted\",\"0708_salary_adjusted\",\"0708_salary_adjusted\",\"0708_salary_adjusted\",\"0708_salary_adjusted\",\"0708_salary_adjusted\",\"0708_salary_adjusted\",\"0708_salary_adjusted\",\"0708_salary_adjusted\",\"0708_salary_adjusted\",\"0708_salary_adjusted\",\"0708_salary_adjusted\",\"0708_salary_adjusted\",\"0708_salary_adjusted\",\"0708_salary_adjusted\",\"0708_salary_adjusted\",\"0708_salary_adjusted\",\"0708_salary_adjusted\",\"0708_salary_adjusted\",\"0708_salary_adjusted\",\"0708_salary_adjusted\",\"0708_salary_adjusted\",\"0708_salary_adjusted\",\"0708_salary_adjusted\",\"0708_salary_adjusted\",\"0708_salary_adjusted\",\"0708_salary_adjusted\"],\"player_name\":[\"LeBron James\",\"LeBron James\",\"Tyson Chandler\",\"Tyson Chandler\",\"Carmelo Anthony\",\"Carmelo Anthony\",\"Kyle Korver\",\"Kyle Korver\",\"Zaza Pachulia\",\"Udonis Haslem\",\"Dwight Howard\",\"Dwight Howard\",\"Dwight Howard\",\"Devin Harris\",\"Andre Iguodala\",\"Trevor Ariza\",\"Chris Paul\",\"Raymond Felton\",\"Jose Calderon\",\"LaMarcus Aldridge\",\"Rudy Gay\",\"Rudy Gay\",\"Thabo Sefolosha\",\"Thabo Sefolosha\",\"Rajon Rondo\",\"Rajon Rondo\",\"Kyle Lowry\",\"Kyle Lowry\",\"Paul Millsap\",\"Paul Millsap\",\"Paul Millsap\",\"Kevin Durant\",\"Kevin Durant\",\"Kevin Durant\",\"Kevin Durant\",\"Al Horford\",\"Al Horford\",\"Mike Conley\",\"Thaddeus Young\",\"Thaddeus Young\",\"Jared Dudley\",\"Jared Dudley\",\"Wilson Chandler\",\"Wilson Chandler\",\"Ian Mahinmi\",\"Derrick Rose\",\"Russell Westbrook\",\"Russell Westbrook\",\"Kevin Love\",\"Kevin Love\",\"Marc Gasol\",\"Marc Gasol\",\"Danilo Gallinari\",\"Danilo Gallinari\",\"Danilo Gallinari\",\"Eric Gordon\",\"Eric Gordon\",\"Brook Lopez\",\"Brook Lopez\",\"Goran Dragic\",\"Goran Dragic\",\"Robin Lopez\",\"Robin Lopez\",\"Robin Lopez\",\"JaVale McGee\",\"Nicolas Batum\",\"Nicolas Batum\",\"George Hill\",\"George Hill\",\"DeAndre Jordan\",\"DeAndre Jordan\",\"Blake Griffin\",\"James Harden\",\"James Harden\",\"Stephen Curry\",\"DeMar DeRozan\",\"James Johnson\",\"James Johnson\",\"Jrue Holiday\",\"Jeff Teague\",\"Jeff Teague\",\"Serge Ibaka\",\"Serge Ibaka\",\"Wayne Ellington\",\"Wayne Ellington\",\"Wayne Ellington\",\"Wesley Matthews\",\"Wesley Matthews\",\"Danny Green\",\"Danny Green\",\"Garrett Temple\",\"Garrett Temple\",\"John Wall\",\"Derrick Favors\",\"Derrick Favors\",\"DeMarcus Cousins\",\"Al-Farouq Aminu\",\"Gordon Hayward\",\"Gordon Hayward\",\"Paul George\",\"Ed Davis\",\"Patrick Patterson\",\"Patrick Patterson\",\"Eric Bledsoe\",\"Avery Bradley\",\"Avery Bradley\",\"Avery Bradley\",\"Quincy Pondexter\",\"Hassan Whiteside\",\"Patrick Beverley\",\"Kyrie Irving\",\"Enes Kanter\",\"Tristan Thompson\",\"Ricky Rubio\",\"Bismack Biyombo\",\"Bismack Biyombo\",\"Kemba Walker\",\"Klay Thompson\",\"Alec Burks\",\"Markieff Morris\",\"Kawhi Leonard\",\"Nikola Vucevic\",\"Tobias Harris\",\"Kenneth Faried\",\"Reggie Jackson\",\"Cory Joseph\",\"Jimmy Butler\",\"E'Twaun Moore\",\"E'Twaun Moore\",\"E'Twaun Moore\",\"Anthony Davis\",\"Jonas Valanciunas\",\"Harrison Barnes\",\"Terrence Ross\",\"Austin Rivers\",\"Austin Rivers\",\"Austin Rivers\",\"Meyers Leonard\",\"Jeremy Lamb\",\"Draymond Green\",\"Kyle O'Quinn\",\"Jae Crowder\",\"Will Barton\",\"Kent Bazemore\",\"Kent Bazemore\",\"Khris Middleton\",\"Mike Scott\",\"Aron Baynes\",\"Aron Baynes\",\"Justin Holiday\",\"Justin Holiday\",\"Nerlens Noel\",\"Ben McLemore\",\"Kentavious Caldwell-Pope\",\"Trey Burke\",\"Mason Plumlee\",\"Solomon Hill\",\"Reggie Bullock\",\"Robert Covington\",\"Matthew Dellavedova\",\"Mike Muscala\",\"Seth Curry\",\"Seth Curry\",\"Bojan Bogdanovic\",\"Julius Randle\",\"Elfrid Payton\",\"Rodney Hood\",\"Jerami Grant\",\"Joe Harris\",\"Joe Harris\",\"Spencer Dinwiddie\",\"Spencer Dinwiddie\",\"Joe Ingles\",\"JaKarr Sampson\",\"Glenn Robinson III\",\"Jordan Clarkson\",\"Dwight Powell\",\"Langston Galloway\",\"Langston Galloway\",\"Tyler Johnson\",\"JaMychal Green\",\"JaMychal Green\",\"Jahlil Okafor\",\"Willie Cauley-Stein\",\"Boban Marjanovic\",\"Montrezl Harrell\",\"Raul Neto\",\"Pat Connaughton\",\"Christian Wood\",\"Fred VanVleet\",\"Bryn Forbes\",\"Davis Bertans\",\"Patrick McCaw\",\"Quinn Cook\",\"Quinn Cook\",\"Quinn Cook\",\"Shaquille Harrison\",\"Edmond Sumner\",\"Torrey Craig\"],\"value\":[18546814,18546814,14577195,14577195,18546814,18546814,6257527,6257527,5688661,8604100,8620134,8620134,8620134,5681554,3989016,4408712,5142493,4656795,3515029,6157065,3429068,3429068,2567236,2567236,1748239,1748239,1546860,1546860,977676,977676,977676,5932136,5932136,5932136,5932136,5327147,5327147,4802880,2603586,2603586,1617002,1617002,1552492,1552492,1335071,0,0,0,0,0,0,0,0,0,0,0,0,0,0,0,0,0,0,0,0,0,0,0,0,0,0,0,0,0,0,0,0,0,0,0,0,0,0,0,0,0,0,0,0,0,0,0,0,0,0,0,0,0,0,0,0,0,0,0,0,0,0,0,0,0,0,0,0,0,0,0,0,0,0,0,0,0,0,0,0,0,0,0,0,0,0,0,0,0,0,0,0,0,0,0,0,0,0,0,0,0,0,0,0,0,0,0,0,0,0,0,0,0,0,0,0,0,0,0,0,0,0,0,0,0,0,0,0,0,0,0,0,0,0,0,0,0,0,0,0,0,0,0,0,0,0,0,0,0,0,0,0,0,0]},\"selected\":{\"id\":\"6613\"},\"selection_policy\":{\"id\":\"6637\"}},\"id\":\"6612\",\"type\":\"ColumnDataSource\"},{\"attributes\":{\"label\":{\"value\":\"0708_salary_adjusted\"},\"renderers\":[{\"id\":\"6618\"}]},\"id\":\"6640\",\"type\":\"LegendItem\"},{\"attributes\":{\"source\":{\"id\":\"8952\"}},\"id\":\"8959\",\"type\":\"CDSView\"},{\"attributes\":{},\"id\":\"8953\",\"type\":\"Selection\"},{\"attributes\":{\"source\":{\"id\":\"6612\"}},\"id\":\"6619\",\"type\":\"CDSView\"},{\"attributes\":{},\"id\":\"6613\",\"type\":\"Selection\"},{\"attributes\":{\"line_color\":\"#17becf\",\"line_width\":2,\"x\":{\"field\":\"player_name\"},\"y\":{\"field\":\"value\"}},\"id\":\"9053\",\"type\":\"Line\"},{\"attributes\":{\"line_color\":\"#9467bd\",\"line_width\":2,\"x\":{\"field\":\"player_name\"},\"y\":{\"field\":\"value\"}},\"id\":\"9057\",\"type\":\"Line\"},{\"attributes\":{\"line_color\":\"#17becf\",\"line_width\":2,\"x\":{\"field\":\"player_name\"},\"y\":{\"field\":\"value\"}},\"id\":\"6641\",\"type\":\"Line\"},{\"attributes\":{\"line_alpha\":0.1,\"line_color\":\"#9467bd\",\"line_width\":2,\"x\":{\"field\":\"player_name\"},\"y\":{\"field\":\"value\"}},\"id\":\"9058\",\"type\":\"Line\"},{\"attributes\":{\"coordinates\":null,\"data_source\":{\"id\":\"9054\"},\"glyph\":{\"id\":\"9057\"},\"group\":null,\"hover_glyph\":null,\"muted_glyph\":{\"id\":\"9059\"},\"nonselection_glyph\":{\"id\":\"9058\"},\"selection_glyph\":{\"id\":\"9157\"},\"view\":{\"id\":\"9061\"}},\"id\":\"9060\",\"type\":\"GlyphRenderer\"},{\"attributes\":{},\"id\":\"6669\",\"type\":\"UnionRenderers\"},{\"attributes\":{\"line_alpha\":0.2,\"line_color\":\"#1f77b4\",\"line_width\":2,\"x\":{\"field\":\"player_name\"},\"y\":{\"field\":\"value\"}},\"id\":\"6713\",\"type\":\"Line\"},{\"attributes\":{},\"id\":\"9153\",\"type\":\"UnionRenderers\"},{\"attributes\":{\"line_color\":\"#9467bd\",\"line_width\":2,\"x\":{\"field\":\"player_name\"},\"y\":{\"field\":\"value\"}},\"id\":\"6645\",\"type\":\"Line\"},{\"attributes\":{\"label\":{\"value\":\"FT%\"},\"renderers\":[{\"id\":\"9060\"}]},\"id\":\"9156\",\"type\":\"LegendItem\"},{\"attributes\":{\"line_alpha\":0.1,\"line_color\":\"#e377c2\",\"line_width\":2,\"x\":{\"field\":\"player_name\"},\"y\":{\"field\":\"value\"}},\"id\":\"9376\",\"type\":\"Line\"},{\"attributes\":{\"coordinates\":null,\"data_source\":{\"id\":\"6642\"},\"glyph\":{\"id\":\"6645\"},\"group\":null,\"hover_glyph\":null,\"muted_glyph\":{\"id\":\"6647\"},\"nonselection_glyph\":{\"id\":\"6646\"},\"selection_glyph\":{\"id\":\"6673\"},\"view\":{\"id\":\"6649\"}},\"id\":\"6648\",\"type\":\"GlyphRenderer\"},{\"attributes\":{\"data\":{\"Variable\":[\"FT%\",\"FT%\",\"FT%\",\"FT%\",\"FT%\",\"FT%\",\"FT%\",\"FT%\",\"FT%\",\"FT%\",\"FT%\",\"FT%\",\"FT%\",\"FT%\",\"FT%\",\"FT%\",\"FT%\",\"FT%\",\"FT%\",\"FT%\",\"FT%\",\"FT%\",\"FT%\",\"FT%\",\"FT%\",\"FT%\",\"FT%\",\"FT%\",\"FT%\",\"FT%\",\"FT%\",\"FT%\",\"FT%\",\"FT%\",\"FT%\",\"FT%\",\"FT%\",\"FT%\",\"FT%\",\"FT%\",\"FT%\",\"FT%\",\"FT%\",\"FT%\",\"FT%\",\"FT%\",\"FT%\",\"FT%\",\"FT%\",\"FT%\",\"FT%\",\"FT%\",\"FT%\",\"FT%\",\"FT%\",\"FT%\",\"FT%\",\"FT%\",\"FT%\",\"FT%\",\"FT%\",\"FT%\",\"FT%\",\"FT%\",\"FT%\",\"FT%\",\"FT%\",\"FT%\",\"FT%\",\"FT%\",\"FT%\",\"FT%\",\"FT%\",\"FT%\",\"FT%\",\"FT%\",\"FT%\",\"FT%\",\"FT%\",\"FT%\",\"FT%\",\"FT%\",\"FT%\",\"FT%\",\"FT%\",\"FT%\",\"FT%\",\"FT%\",\"FT%\",\"FT%\",\"FT%\",\"FT%\",\"FT%\",\"FT%\",\"FT%\",\"FT%\",\"FT%\",\"FT%\",\"FT%\",\"FT%\",\"FT%\",\"FT%\",\"FT%\",\"FT%\",\"FT%\",\"FT%\",\"FT%\",\"FT%\",\"FT%\",\"FT%\",\"FT%\",\"FT%\",\"FT%\",\"FT%\",\"FT%\",\"FT%\",\"FT%\",\"FT%\",\"FT%\",\"FT%\",\"FT%\",\"FT%\",\"FT%\",\"FT%\",\"FT%\",\"FT%\",\"FT%\",\"FT%\",\"FT%\",\"FT%\",\"FT%\",\"FT%\",\"FT%\",\"FT%\",\"FT%\",\"FT%\",\"FT%\",\"FT%\",\"FT%\",\"FT%\",\"FT%\",\"FT%\",\"FT%\",\"FT%\",\"FT%\",\"FT%\",\"FT%\",\"FT%\",\"FT%\",\"FT%\",\"FT%\",\"FT%\",\"FT%\",\"FT%\",\"FT%\",\"FT%\",\"FT%\",\"FT%\",\"FT%\",\"FT%\",\"FT%\",\"FT%\",\"FT%\",\"FT%\",\"FT%\",\"FT%\",\"FT%\",\"FT%\",\"FT%\",\"FT%\",\"FT%\",\"FT%\",\"FT%\",\"FT%\",\"FT%\",\"FT%\",\"FT%\",\"FT%\",\"FT%\",\"FT%\",\"FT%\",\"FT%\",\"FT%\",\"FT%\",\"FT%\",\"FT%\",\"FT%\",\"FT%\",\"FT%\",\"FT%\",\"FT%\",\"FT%\",\"FT%\",\"FT%\",\"FT%\",\"FT%\",\"FT%\",\"FT%\",\"FT%\"],\"player_name\":[\"LeBron James\",\"LeBron James\",\"Tyson Chandler\",\"Tyson Chandler\",\"Carmelo Anthony\",\"Carmelo Anthony\",\"Kyle Korver\",\"Kyle Korver\",\"Zaza Pachulia\",\"Udonis Haslem\",\"Dwight Howard\",\"Dwight Howard\",\"Dwight Howard\",\"Devin Harris\",\"Andre Iguodala\",\"Trevor Ariza\",\"Chris Paul\",\"Raymond Felton\",\"Jose Calderon\",\"LaMarcus Aldridge\",\"Rudy Gay\",\"Rudy Gay\",\"Thabo Sefolosha\",\"Thabo Sefolosha\",\"Rajon Rondo\",\"Rajon Rondo\",\"Kyle Lowry\",\"Kyle Lowry\",\"Paul Millsap\",\"Paul Millsap\",\"Paul Millsap\",\"Kevin Durant\",\"Kevin Durant\",\"Kevin Durant\",\"Kevin Durant\",\"Al Horford\",\"Al Horford\",\"Mike Conley\",\"Thaddeus Young\",\"Thaddeus Young\",\"Jared Dudley\",\"Jared Dudley\",\"Wilson Chandler\",\"Wilson Chandler\",\"Ian Mahinmi\",\"Derrick Rose\",\"Russell Westbrook\",\"Russell Westbrook\",\"Kevin Love\",\"Kevin Love\",\"Marc Gasol\",\"Marc Gasol\",\"Danilo Gallinari\",\"Danilo Gallinari\",\"Danilo Gallinari\",\"Eric Gordon\",\"Eric Gordon\",\"Brook Lopez\",\"Brook Lopez\",\"Goran Dragic\",\"Goran Dragic\",\"Robin Lopez\",\"Robin Lopez\",\"Robin Lopez\",\"JaVale McGee\",\"Nicolas Batum\",\"Nicolas Batum\",\"George Hill\",\"George Hill\",\"DeAndre Jordan\",\"DeAndre Jordan\",\"Blake Griffin\",\"James Harden\",\"James Harden\",\"Stephen Curry\",\"DeMar DeRozan\",\"James Johnson\",\"James Johnson\",\"Jrue Holiday\",\"Jeff Teague\",\"Jeff Teague\",\"Serge Ibaka\",\"Serge Ibaka\",\"Wayne Ellington\",\"Wayne Ellington\",\"Wayne Ellington\",\"Wesley Matthews\",\"Wesley Matthews\",\"Danny Green\",\"Danny Green\",\"Garrett Temple\",\"Garrett Temple\",\"John Wall\",\"Derrick Favors\",\"Derrick Favors\",\"DeMarcus Cousins\",\"Al-Farouq Aminu\",\"Gordon Hayward\",\"Gordon Hayward\",\"Paul George\",\"Ed Davis\",\"Patrick Patterson\",\"Patrick Patterson\",\"Eric Bledsoe\",\"Avery Bradley\",\"Avery Bradley\",\"Avery Bradley\",\"Quincy Pondexter\",\"Hassan Whiteside\",\"Patrick Beverley\",\"Kyrie Irving\",\"Enes Kanter\",\"Tristan Thompson\",\"Ricky Rubio\",\"Bismack Biyombo\",\"Bismack Biyombo\",\"Kemba Walker\",\"Klay Thompson\",\"Alec Burks\",\"Markieff Morris\",\"Kawhi Leonard\",\"Nikola Vucevic\",\"Tobias Harris\",\"Kenneth Faried\",\"Reggie Jackson\",\"Cory Joseph\",\"Jimmy Butler\",\"E'Twaun Moore\",\"E'Twaun Moore\",\"E'Twaun Moore\",\"Anthony Davis\",\"Jonas Valanciunas\",\"Harrison Barnes\",\"Terrence Ross\",\"Austin Rivers\",\"Austin Rivers\",\"Austin Rivers\",\"Meyers Leonard\",\"Jeremy Lamb\",\"Draymond Green\",\"Kyle O'Quinn\",\"Jae Crowder\",\"Will Barton\",\"Kent Bazemore\",\"Kent Bazemore\",\"Khris Middleton\",\"Mike Scott\",\"Aron Baynes\",\"Aron Baynes\",\"Justin Holiday\",\"Justin Holiday\",\"Nerlens Noel\",\"Ben McLemore\",\"Kentavious Caldwell-Pope\",\"Trey Burke\",\"Mason Plumlee\",\"Solomon Hill\",\"Reggie Bullock\",\"Robert Covington\",\"Matthew Dellavedova\",\"Mike Muscala\",\"Seth Curry\",\"Seth Curry\",\"Bojan Bogdanovic\",\"Julius Randle\",\"Elfrid Payton\",\"Rodney Hood\",\"Jerami Grant\",\"Joe Harris\",\"Joe Harris\",\"Spencer Dinwiddie\",\"Spencer Dinwiddie\",\"Joe Ingles\",\"JaKarr Sampson\",\"Glenn Robinson III\",\"Jordan Clarkson\",\"Dwight Powell\",\"Langston Galloway\",\"Langston Galloway\",\"Tyler Johnson\",\"JaMychal Green\",\"JaMychal Green\",\"Jahlil Okafor\",\"Willie Cauley-Stein\",\"Boban Marjanovic\",\"Montrezl Harrell\",\"Raul Neto\",\"Pat Connaughton\",\"Christian Wood\",\"Fred VanVleet\",\"Bryn Forbes\",\"Davis Bertans\",\"Patrick McCaw\",\"Quinn Cook\",\"Quinn Cook\",\"Quinn Cook\",\"Shaquille Harrison\",\"Edmond Sumner\",\"Torrey Craig\"],\"value\":[73,71,73,72,84,80,90,85,75,56,57,48,49,80,57,77,88,80,90,84,85,85,73,76,63,58,81,81,76,74,75,89,88,88,87,79,79,73,70,65,74,73,77,80,63,81,81,82,82,80,79,74,90,89,87,75,88,81,62,77,80,77,72,71,46,84,83,77,80,45,39,66,86,85,90,83,84,59,75,86,88,85,74,85,90,81,81,75,87,79,72,69,80,66,65,72,71,81,84,86,48,70,71,77,80,86,76,80,65,75,86,78,64,80,58,62,82,87,82,76,80,75,78,69,83,73,83,100,62,76,75,76,76,79,67,52,68,76,72,66,77,77,78,81,60,85,78,75,86,82,82,75,75,86,75,58,85,71,0,86,76,0,83,89,71,74,88,67,0,82,57,57,75,67,66,80,73,79,75,79,79,80,72,55,76,62,74,84,61,83,66,81,76,40,76,40,73,0,62]},\"selected\":{\"id\":\"9055\"},\"selection_policy\":{\"id\":\"9153\"}},\"id\":\"9054\",\"type\":\"ColumnDataSource\"},{\"attributes\":{},\"id\":\"6745\",\"type\":\"Selection\"},{\"attributes\":{\"data\":{\"Variable\":[\"PF\",\"PF\",\"PF\",\"PF\",\"PF\",\"PF\",\"PF\",\"PF\",\"PF\",\"PF\",\"PF\",\"PF\",\"PF\",\"PF\",\"PF\",\"PF\",\"PF\",\"PF\",\"PF\",\"PF\",\"PF\",\"PF\",\"PF\",\"PF\",\"PF\",\"PF\",\"PF\",\"PF\",\"PF\",\"PF\",\"PF\",\"PF\",\"PF\",\"PF\",\"PF\",\"PF\",\"PF\",\"PF\",\"PF\",\"PF\",\"PF\",\"PF\",\"PF\",\"PF\",\"PF\",\"PF\",\"PF\",\"PF\",\"PF\",\"PF\",\"PF\",\"PF\",\"PF\",\"PF\",\"PF\",\"PF\",\"PF\",\"PF\",\"PF\",\"PF\",\"PF\",\"PF\",\"PF\",\"PF\",\"PF\",\"PF\",\"PF\",\"PF\",\"PF\",\"PF\",\"PF\",\"PF\",\"PF\",\"PF\",\"PF\",\"PF\",\"PF\",\"PF\",\"PF\",\"PF\",\"PF\",\"PF\",\"PF\",\"PF\",\"PF\",\"PF\",\"PF\",\"PF\",\"PF\",\"PF\",\"PF\",\"PF\",\"PF\",\"PF\",\"PF\",\"PF\",\"PF\",\"PF\",\"PF\",\"PF\",\"PF\",\"PF\",\"PF\",\"PF\",\"PF\",\"PF\",\"PF\",\"PF\",\"PF\",\"PF\",\"PF\",\"PF\",\"PF\",\"PF\",\"PF\",\"PF\",\"PF\",\"PF\",\"PF\",\"PF\",\"PF\",\"PF\",\"PF\",\"PF\",\"PF\",\"PF\",\"PF\",\"PF\",\"PF\",\"PF\",\"PF\",\"PF\",\"PF\",\"PF\",\"PF\",\"PF\",\"PF\",\"PF\",\"PF\",\"PF\",\"PF\",\"PF\",\"PF\",\"PF\",\"PF\",\"PF\",\"PF\",\"PF\",\"PF\",\"PF\",\"PF\",\"PF\",\"PF\",\"PF\",\"PF\",\"PF\",\"PF\",\"PF\",\"PF\",\"PF\",\"PF\",\"PF\",\"PF\",\"PF\",\"PF\",\"PF\",\"PF\",\"PF\",\"PF\",\"PF\",\"PF\",\"PF\",\"PF\",\"PF\",\"PF\",\"PF\",\"PF\",\"PF\",\"PF\",\"PF\",\"PF\",\"PF\",\"PF\",\"PF\",\"PF\",\"PF\",\"PF\",\"PF\",\"PF\",\"PF\",\"PF\",\"PF\",\"PF\",\"PF\",\"PF\",\"PF\",\"PF\",\"PF\",\"PF\"],\"player_name\":[\"LeBron James\",\"LeBron James\",\"Tyson Chandler\",\"Tyson Chandler\",\"Carmelo Anthony\",\"Carmelo Anthony\",\"Kyle Korver\",\"Kyle Korver\",\"Zaza Pachulia\",\"Udonis Haslem\",\"Dwight Howard\",\"Dwight Howard\",\"Dwight Howard\",\"Devin Harris\",\"Andre Iguodala\",\"Trevor Ariza\",\"Chris Paul\",\"Raymond Felton\",\"Jose Calderon\",\"LaMarcus Aldridge\",\"Rudy Gay\",\"Rudy Gay\",\"Thabo Sefolosha\",\"Thabo Sefolosha\",\"Rajon Rondo\",\"Rajon Rondo\",\"Kyle Lowry\",\"Kyle Lowry\",\"Paul Millsap\",\"Paul Millsap\",\"Paul Millsap\",\"Kevin Durant\",\"Kevin Durant\",\"Kevin Durant\",\"Kevin Durant\",\"Al Horford\",\"Al Horford\",\"Mike Conley\",\"Thaddeus Young\",\"Thaddeus Young\",\"Jared Dudley\",\"Jared Dudley\",\"Wilson Chandler\",\"Wilson Chandler\",\"Ian Mahinmi\",\"Derrick Rose\",\"Russell Westbrook\",\"Russell Westbrook\",\"Kevin Love\",\"Kevin Love\",\"Marc Gasol\",\"Marc Gasol\",\"Danilo Gallinari\",\"Danilo Gallinari\",\"Danilo Gallinari\",\"Eric Gordon\",\"Eric Gordon\",\"Brook Lopez\",\"Brook Lopez\",\"Goran Dragic\",\"Goran Dragic\",\"Robin Lopez\",\"Robin Lopez\",\"Robin Lopez\",\"JaVale McGee\",\"Nicolas Batum\",\"Nicolas Batum\",\"George Hill\",\"George Hill\",\"DeAndre Jordan\",\"DeAndre Jordan\",\"Blake Griffin\",\"James Harden\",\"James Harden\",\"Stephen Curry\",\"DeMar DeRozan\",\"James Johnson\",\"James Johnson\",\"Jrue Holiday\",\"Jeff Teague\",\"Jeff Teague\",\"Serge Ibaka\",\"Serge Ibaka\",\"Wayne Ellington\",\"Wayne Ellington\",\"Wayne Ellington\",\"Wesley Matthews\",\"Wesley Matthews\",\"Danny Green\",\"Danny Green\",\"Garrett Temple\",\"Garrett Temple\",\"John Wall\",\"Derrick Favors\",\"Derrick Favors\",\"DeMarcus Cousins\",\"Al-Farouq Aminu\",\"Gordon Hayward\",\"Gordon Hayward\",\"Paul George\",\"Ed Davis\",\"Patrick Patterson\",\"Patrick Patterson\",\"Eric Bledsoe\",\"Avery Bradley\",\"Avery Bradley\",\"Avery Bradley\",\"Quincy Pondexter\",\"Hassan Whiteside\",\"Patrick Beverley\",\"Kyrie Irving\",\"Enes Kanter\",\"Tristan Thompson\",\"Ricky Rubio\",\"Bismack Biyombo\",\"Bismack Biyombo\",\"Kemba Walker\",\"Klay Thompson\",\"Alec Burks\",\"Markieff Morris\",\"Kawhi Leonard\",\"Nikola Vucevic\",\"Tobias Harris\",\"Kenneth Faried\",\"Reggie Jackson\",\"Cory Joseph\",\"Jimmy Butler\",\"E'Twaun Moore\",\"E'Twaun Moore\",\"E'Twaun Moore\",\"Anthony Davis\",\"Jonas Valanciunas\",\"Harrison Barnes\",\"Terrence Ross\",\"Austin Rivers\",\"Austin Rivers\",\"Austin Rivers\",\"Meyers Leonard\",\"Jeremy Lamb\",\"Draymond Green\",\"Kyle O'Quinn\",\"Jae Crowder\",\"Will Barton\",\"Kent Bazemore\",\"Kent Bazemore\",\"Khris Middleton\",\"Mike Scott\",\"Aron Baynes\",\"Aron Baynes\",\"Justin Holiday\",\"Justin Holiday\",\"Nerlens Noel\",\"Ben McLemore\",\"Kentavious Caldwell-Pope\",\"Trey Burke\",\"Mason Plumlee\",\"Solomon Hill\",\"Reggie Bullock\",\"Robert Covington\",\"Matthew Dellavedova\",\"Mike Muscala\",\"Seth Curry\",\"Seth Curry\",\"Bojan Bogdanovic\",\"Julius Randle\",\"Elfrid Payton\",\"Rodney Hood\",\"Jerami Grant\",\"Joe Harris\",\"Joe Harris\",\"Spencer Dinwiddie\",\"Spencer Dinwiddie\",\"Joe Ingles\",\"JaKarr Sampson\",\"Glenn Robinson III\",\"Jordan Clarkson\",\"Dwight Powell\",\"Langston Galloway\",\"Langston Galloway\",\"Tyler Johnson\",\"JaMychal Green\",\"JaMychal Green\",\"Jahlil Okafor\",\"Willie Cauley-Stein\",\"Boban Marjanovic\",\"Montrezl Harrell\",\"Raul Neto\",\"Pat Connaughton\",\"Christian Wood\",\"Fred VanVleet\",\"Bryn Forbes\",\"Davis Bertans\",\"Patrick McCaw\",\"Quinn Cook\",\"Quinn Cook\",\"Quinn Cook\",\"Shaquille Harrison\",\"Edmond Sumner\",\"Torrey Craig\"],\"value\":[143,135,240,169,224,156,107,170,128,79,249,219,291,72,127,179,143,122,99,125,79,157,97,90,100,175,170,267,186,232,201,137,133,159,117,193,163,182,170,171,139,190,231,199,176,52,200,147,152,140,208,265,93,94,86,20,98,206,8,195,166,122,124,128,166,114,105,98,114,255,245,231,229,178,198,173,102,99,170,165,181,215,213,82,81,77,160,132,163,107,195,72,219,236,164,270,137,155,117,198,202,159,120,99,145,167,92,18,201,182,146,189,189,59,140,225,92,122,64,245,128,220,134,211,167,105,108,33,103,106,148,158,136,120,146,207,137,183,105,253,110,137,70,176,102,183,121,200,162,54,109,59,108,137,54,226,68,22,3,178,97,2,41,146,274,81,146,155,1,153,20,20,124,135,15,168,118,96,177,66,193,248,51,227,54,143,38,120,11,130,108,93,67,13,92,13,42,1,63]},\"selected\":{\"id\":\"9943\"},\"selection_policy\":{\"id\":\"10057\"}},\"id\":\"9942\",\"type\":\"ColumnDataSource\"},{\"attributes\":{\"data\":{\"Variable\":[\"0809_salary_adjusted\",\"0809_salary_adjusted\",\"0809_salary_adjusted\",\"0809_salary_adjusted\",\"0809_salary_adjusted\",\"0809_salary_adjusted\",\"0809_salary_adjusted\",\"0809_salary_adjusted\",\"0809_salary_adjusted\",\"0809_salary_adjusted\",\"0809_salary_adjusted\",\"0809_salary_adjusted\",\"0809_salary_adjusted\",\"0809_salary_adjusted\",\"0809_salary_adjusted\",\"0809_salary_adjusted\",\"0809_salary_adjusted\",\"0809_salary_adjusted\",\"0809_salary_adjusted\",\"0809_salary_adjusted\",\"0809_salary_adjusted\",\"0809_salary_adjusted\",\"0809_salary_adjusted\",\"0809_salary_adjusted\",\"0809_salary_adjusted\",\"0809_salary_adjusted\",\"0809_salary_adjusted\",\"0809_salary_adjusted\",\"0809_salary_adjusted\",\"0809_salary_adjusted\",\"0809_salary_adjusted\",\"0809_salary_adjusted\",\"0809_salary_adjusted\",\"0809_salary_adjusted\",\"0809_salary_adjusted\",\"0809_salary_adjusted\",\"0809_salary_adjusted\",\"0809_salary_adjusted\",\"0809_salary_adjusted\",\"0809_salary_adjusted\",\"0809_salary_adjusted\",\"0809_salary_adjusted\",\"0809_salary_adjusted\",\"0809_salary_adjusted\",\"0809_salary_adjusted\",\"0809_salary_adjusted\",\"0809_salary_adjusted\",\"0809_salary_adjusted\",\"0809_salary_adjusted\",\"0809_salary_adjusted\",\"0809_salary_adjusted\",\"0809_salary_adjusted\",\"0809_salary_adjusted\",\"0809_salary_adjusted\",\"0809_salary_adjusted\",\"0809_salary_adjusted\",\"0809_salary_adjusted\",\"0809_salary_adjusted\",\"0809_salary_adjusted\",\"0809_salary_adjusted\",\"0809_salary_adjusted\",\"0809_salary_adjusted\",\"0809_salary_adjusted\",\"0809_salary_adjusted\",\"0809_salary_adjusted\",\"0809_salary_adjusted\",\"0809_salary_adjusted\",\"0809_salary_adjusted\",\"0809_salary_adjusted\",\"0809_salary_adjusted\",\"0809_salary_adjusted\",\"0809_salary_adjusted\",\"0809_salary_adjusted\",\"0809_salary_adjusted\",\"0809_salary_adjusted\",\"0809_salary_adjusted\",\"0809_salary_adjusted\",\"0809_salary_adjusted\",\"0809_salary_adjusted\",\"0809_salary_adjusted\",\"0809_salary_adjusted\",\"0809_salary_adjusted\",\"0809_salary_adjusted\",\"0809_salary_adjusted\",\"0809_salary_adjusted\",\"0809_salary_adjusted\",\"0809_salary_adjusted\",\"0809_salary_adjusted\",\"0809_salary_adjusted\",\"0809_salary_adjusted\",\"0809_salary_adjusted\",\"0809_salary_adjusted\",\"0809_salary_adjusted\",\"0809_salary_adjusted\",\"0809_salary_adjusted\",\"0809_salary_adjusted\",\"0809_salary_adjusted\",\"0809_salary_adjusted\",\"0809_salary_adjusted\",\"0809_salary_adjusted\",\"0809_salary_adjusted\",\"0809_salary_adjusted\",\"0809_salary_adjusted\",\"0809_salary_adjusted\",\"0809_salary_adjusted\",\"0809_salary_adjusted\",\"0809_salary_adjusted\",\"0809_salary_adjusted\",\"0809_salary_adjusted\",\"0809_salary_adjusted\",\"0809_salary_adjusted\",\"0809_salary_adjusted\",\"0809_salary_adjusted\",\"0809_salary_adjusted\",\"0809_salary_adjusted\",\"0809_salary_adjusted\",\"0809_salary_adjusted\",\"0809_salary_adjusted\",\"0809_salary_adjusted\",\"0809_salary_adjusted\",\"0809_salary_adjusted\",\"0809_salary_adjusted\",\"0809_salary_adjusted\",\"0809_salary_adjusted\",\"0809_salary_adjusted\",\"0809_salary_adjusted\",\"0809_salary_adjusted\",\"0809_salary_adjusted\",\"0809_salary_adjusted\",\"0809_salary_adjusted\",\"0809_salary_adjusted\",\"0809_salary_adjusted\",\"0809_salary_adjusted\",\"0809_salary_adjusted\",\"0809_salary_adjusted\",\"0809_salary_adjusted\",\"0809_salary_adjusted\",\"0809_salary_adjusted\",\"0809_salary_adjusted\",\"0809_salary_adjusted\",\"0809_salary_adjusted\",\"0809_salary_adjusted\",\"0809_salary_adjusted\",\"0809_salary_adjusted\",\"0809_salary_adjusted\",\"0809_salary_adjusted\",\"0809_salary_adjusted\",\"0809_salary_adjusted\",\"0809_salary_adjusted\",\"0809_salary_adjusted\",\"0809_salary_adjusted\",\"0809_salary_adjusted\",\"0809_salary_adjusted\",\"0809_salary_adjusted\",\"0809_salary_adjusted\",\"0809_salary_adjusted\",\"0809_salary_adjusted\",\"0809_salary_adjusted\",\"0809_salary_adjusted\",\"0809_salary_adjusted\",\"0809_salary_adjusted\",\"0809_salary_adjusted\",\"0809_salary_adjusted\",\"0809_salary_adjusted\",\"0809_salary_adjusted\",\"0809_salary_adjusted\",\"0809_salary_adjusted\",\"0809_salary_adjusted\",\"0809_salary_adjusted\",\"0809_salary_adjusted\",\"0809_salary_adjusted\",\"0809_salary_adjusted\",\"0809_salary_adjusted\",\"0809_salary_adjusted\",\"0809_salary_adjusted\",\"0809_salary_adjusted\",\"0809_salary_adjusted\",\"0809_salary_adjusted\",\"0809_salary_adjusted\",\"0809_salary_adjusted\",\"0809_salary_adjusted\",\"0809_salary_adjusted\",\"0809_salary_adjusted\",\"0809_salary_adjusted\",\"0809_salary_adjusted\",\"0809_salary_adjusted\",\"0809_salary_adjusted\",\"0809_salary_adjusted\",\"0809_salary_adjusted\",\"0809_salary_adjusted\",\"0809_salary_adjusted\",\"0809_salary_adjusted\",\"0809_salary_adjusted\",\"0809_salary_adjusted\",\"0809_salary_adjusted\",\"0809_salary_adjusted\",\"0809_salary_adjusted\",\"0809_salary_adjusted\",\"0809_salary_adjusted\"],\"player_name\":[\"LeBron James\",\"LeBron James\",\"Tyson Chandler\",\"Tyson Chandler\",\"Carmelo Anthony\",\"Carmelo Anthony\",\"Kyle Korver\",\"Kyle Korver\",\"Zaza Pachulia\",\"Udonis Haslem\",\"Dwight Howard\",\"Dwight Howard\",\"Dwight Howard\",\"Devin Harris\",\"Andre Iguodala\",\"Trevor Ariza\",\"Chris Paul\",\"Raymond Felton\",\"Jose Calderon\",\"LaMarcus Aldridge\",\"Rudy Gay\",\"Rudy Gay\",\"Thabo Sefolosha\",\"Thabo Sefolosha\",\"Rajon Rondo\",\"Rajon Rondo\",\"Kyle Lowry\",\"Kyle Lowry\",\"Paul Millsap\",\"Paul Millsap\",\"Paul Millsap\",\"Kevin Durant\",\"Kevin Durant\",\"Kevin Durant\",\"Kevin Durant\",\"Al Horford\",\"Al Horford\",\"Mike Conley\",\"Thaddeus Young\",\"Thaddeus Young\",\"Jared Dudley\",\"Jared Dudley\",\"Wilson Chandler\",\"Wilson Chandler\",\"Ian Mahinmi\",\"Derrick Rose\",\"Russell Westbrook\",\"Russell Westbrook\",\"Kevin Love\",\"Kevin Love\",\"Marc Gasol\",\"Marc Gasol\",\"Danilo Gallinari\",\"Danilo Gallinari\",\"Danilo Gallinari\",\"Eric Gordon\",\"Eric Gordon\",\"Brook Lopez\",\"Brook Lopez\",\"Goran Dragic\",\"Goran Dragic\",\"Robin Lopez\",\"Robin Lopez\",\"Robin Lopez\",\"JaVale McGee\",\"Nicolas Batum\",\"Nicolas Batum\",\"George Hill\",\"George Hill\",\"DeAndre Jordan\",\"DeAndre Jordan\",\"Blake Griffin\",\"James Harden\",\"James Harden\",\"Stephen Curry\",\"DeMar DeRozan\",\"James Johnson\",\"James Johnson\",\"Jrue Holiday\",\"Jeff Teague\",\"Jeff Teague\",\"Serge Ibaka\",\"Serge Ibaka\",\"Wayne Ellington\",\"Wayne Ellington\",\"Wayne Ellington\",\"Wesley Matthews\",\"Wesley Matthews\",\"Danny Green\",\"Danny Green\",\"Garrett Temple\",\"Garrett Temple\",\"John Wall\",\"Derrick Favors\",\"Derrick Favors\",\"DeMarcus Cousins\",\"Al-Farouq Aminu\",\"Gordon Hayward\",\"Gordon Hayward\",\"Paul George\",\"Ed Davis\",\"Patrick Patterson\",\"Patrick Patterson\",\"Eric Bledsoe\",\"Avery Bradley\",\"Avery Bradley\",\"Avery Bradley\",\"Quincy Pondexter\",\"Hassan Whiteside\",\"Patrick Beverley\",\"Kyrie Irving\",\"Enes Kanter\",\"Tristan Thompson\",\"Ricky Rubio\",\"Bismack Biyombo\",\"Bismack Biyombo\",\"Kemba Walker\",\"Klay Thompson\",\"Alec Burks\",\"Markieff Morris\",\"Kawhi Leonard\",\"Nikola Vucevic\",\"Tobias Harris\",\"Kenneth Faried\",\"Reggie Jackson\",\"Cory Joseph\",\"Jimmy Butler\",\"E'Twaun Moore\",\"E'Twaun Moore\",\"E'Twaun Moore\",\"Anthony Davis\",\"Jonas Valanciunas\",\"Harrison Barnes\",\"Terrence Ross\",\"Austin Rivers\",\"Austin Rivers\",\"Austin Rivers\",\"Meyers Leonard\",\"Jeremy Lamb\",\"Draymond Green\",\"Kyle O'Quinn\",\"Jae Crowder\",\"Will Barton\",\"Kent Bazemore\",\"Kent Bazemore\",\"Khris Middleton\",\"Mike Scott\",\"Aron Baynes\",\"Aron Baynes\",\"Justin Holiday\",\"Justin Holiday\",\"Nerlens Noel\",\"Ben McLemore\",\"Kentavious Caldwell-Pope\",\"Trey Burke\",\"Mason Plumlee\",\"Solomon Hill\",\"Reggie Bullock\",\"Robert Covington\",\"Matthew Dellavedova\",\"Mike Muscala\",\"Seth Curry\",\"Seth Curry\",\"Bojan Bogdanovic\",\"Julius Randle\",\"Elfrid Payton\",\"Rodney Hood\",\"Jerami Grant\",\"Joe Harris\",\"Joe Harris\",\"Spencer Dinwiddie\",\"Spencer Dinwiddie\",\"Joe Ingles\",\"JaKarr Sampson\",\"Glenn Robinson III\",\"Jordan Clarkson\",\"Dwight Powell\",\"Langston Galloway\",\"Langston Galloway\",\"Tyler Johnson\",\"JaMychal Green\",\"JaMychal Green\",\"Jahlil Okafor\",\"Willie Cauley-Stein\",\"Boban Marjanovic\",\"Montrezl Harrell\",\"Raul Neto\",\"Pat Connaughton\",\"Christian Wood\",\"Fred VanVleet\",\"Bryn Forbes\",\"Davis Bertans\",\"Patrick McCaw\",\"Quinn Cook\",\"Quinn Cook\",\"Quinn Cook\",\"Shaquille Harrison\",\"Edmond Sumner\",\"Torrey Craig\"],\"value\":[19514263,19514263,15369740,15369740,19514263,19514263,6712335,6712335,5416648,8903616,18630563,18630563,18630563,10562465,15302032,4197902,6194193,5618034,10072282,6271666,3492925,3492925,2615103,2615103,1780831,1780831,1575594,1575594,1080054,1080054,1080054,6072117,6072117,6072117,6072117,5452831,5452831,4916258,2665153,2665153,1655219,1655219,1589082,1589082,1366620,6530853,4731009,4731009,4284135,4284135,4188874,4188874,3891212,3891212,3891212,3552238,3552238,2841790,2841790,2302075,2302075,2198780,2198780,2198780,1885318,1409195,1409195,1362557,1362557,744789,744789,0,0,0,0,0,0,0,0,0,0,0,0,0,0,0,0,0,0,0,0,0,0,0,0,0,0,0,0,0,0,0,0,0,0,0,0,0,0,0,0,0,0,0,0,0,0,0,0,0,0,0,0,0,0,0,0,0,0,0,0,0,0,0,0,0,0,0,0,0,0,0,0,0,0,0,0,0,0,0,0,0,0,0,0,0,0,0,0,0,0,0,0,0,0,0,0,0,0,0,0,0,0,0,0,0,0,0,0,0,0,0,0,0,0,0,0,0,0,0,0,0,0,0,0,0,0,0,0]},\"selected\":{\"id\":\"6643\"},\"selection_policy\":{\"id\":\"6669\"}},\"id\":\"6642\",\"type\":\"ColumnDataSource\"},{\"attributes\":{\"label\":{\"value\":\"0809_salary_adjusted\"},\"renderers\":[{\"id\":\"6648\"}]},\"id\":\"6672\",\"type\":\"LegendItem\"},{\"attributes\":{\"source\":{\"id\":\"9054\"}},\"id\":\"9061\",\"type\":\"CDSView\"},{\"attributes\":{},\"id\":\"9055\",\"type\":\"Selection\"},{\"attributes\":{\"source\":{\"id\":\"6642\"}},\"id\":\"6649\",\"type\":\"CDSView\"},{\"attributes\":{},\"id\":\"6643\",\"type\":\"Selection\"},{\"attributes\":{\"line_color\":\"#9467bd\",\"line_width\":2,\"x\":{\"field\":\"player_name\"},\"y\":{\"field\":\"value\"}},\"id\":\"9157\",\"type\":\"Line\"},{\"attributes\":{\"line_color\":\"#9467bd\",\"line_width\":2,\"x\":{\"field\":\"player_name\"},\"y\":{\"field\":\"value\"}},\"id\":\"6673\",\"type\":\"Line\"},{\"attributes\":{},\"id\":\"6703\",\"type\":\"UnionRenderers\"},{\"attributes\":{\"line_color\":\"#d62728\",\"line_width\":2,\"x\":{\"field\":\"player_name\"},\"y\":{\"field\":\"value\"}},\"id\":\"9161\",\"type\":\"Line\"},{\"attributes\":{\"data\":{\"Variable\":[\"1213_salary_adjusted\",\"1213_salary_adjusted\",\"1213_salary_adjusted\",\"1213_salary_adjusted\",\"1213_salary_adjusted\",\"1213_salary_adjusted\",\"1213_salary_adjusted\",\"1213_salary_adjusted\",\"1213_salary_adjusted\",\"1213_salary_adjusted\",\"1213_salary_adjusted\",\"1213_salary_adjusted\",\"1213_salary_adjusted\",\"1213_salary_adjusted\",\"1213_salary_adjusted\",\"1213_salary_adjusted\",\"1213_salary_adjusted\",\"1213_salary_adjusted\",\"1213_salary_adjusted\",\"1213_salary_adjusted\",\"1213_salary_adjusted\",\"1213_salary_adjusted\",\"1213_salary_adjusted\",\"1213_salary_adjusted\",\"1213_salary_adjusted\",\"1213_salary_adjusted\",\"1213_salary_adjusted\",\"1213_salary_adjusted\",\"1213_salary_adjusted\",\"1213_salary_adjusted\",\"1213_salary_adjusted\",\"1213_salary_adjusted\",\"1213_salary_adjusted\",\"1213_salary_adjusted\",\"1213_salary_adjusted\",\"1213_salary_adjusted\",\"1213_salary_adjusted\",\"1213_salary_adjusted\",\"1213_salary_adjusted\",\"1213_salary_adjusted\",\"1213_salary_adjusted\",\"1213_salary_adjusted\",\"1213_salary_adjusted\",\"1213_salary_adjusted\",\"1213_salary_adjusted\",\"1213_salary_adjusted\",\"1213_salary_adjusted\",\"1213_salary_adjusted\",\"1213_salary_adjusted\",\"1213_salary_adjusted\",\"1213_salary_adjusted\",\"1213_salary_adjusted\",\"1213_salary_adjusted\",\"1213_salary_adjusted\",\"1213_salary_adjusted\",\"1213_salary_adjusted\",\"1213_salary_adjusted\",\"1213_salary_adjusted\",\"1213_salary_adjusted\",\"1213_salary_adjusted\",\"1213_salary_adjusted\",\"1213_salary_adjusted\",\"1213_salary_adjusted\",\"1213_salary_adjusted\",\"1213_salary_adjusted\",\"1213_salary_adjusted\",\"1213_salary_adjusted\",\"1213_salary_adjusted\",\"1213_salary_adjusted\",\"1213_salary_adjusted\",\"1213_salary_adjusted\",\"1213_salary_adjusted\",\"1213_salary_adjusted\",\"1213_salary_adjusted\",\"1213_salary_adjusted\",\"1213_salary_adjusted\",\"1213_salary_adjusted\",\"1213_salary_adjusted\",\"1213_salary_adjusted\",\"1213_salary_adjusted\",\"1213_salary_adjusted\",\"1213_salary_adjusted\",\"1213_salary_adjusted\",\"1213_salary_adjusted\",\"1213_salary_adjusted\",\"1213_salary_adjusted\",\"1213_salary_adjusted\",\"1213_salary_adjusted\",\"1213_salary_adjusted\",\"1213_salary_adjusted\",\"1213_salary_adjusted\",\"1213_salary_adjusted\",\"1213_salary_adjusted\",\"1213_salary_adjusted\",\"1213_salary_adjusted\",\"1213_salary_adjusted\",\"1213_salary_adjusted\",\"1213_salary_adjusted\",\"1213_salary_adjusted\",\"1213_salary_adjusted\",\"1213_salary_adjusted\",\"1213_salary_adjusted\",\"1213_salary_adjusted\",\"1213_salary_adjusted\",\"1213_salary_adjusted\",\"1213_salary_adjusted\",\"1213_salary_adjusted\",\"1213_salary_adjusted\",\"1213_salary_adjusted\",\"1213_salary_adjusted\",\"1213_salary_adjusted\",\"1213_salary_adjusted\",\"1213_salary_adjusted\",\"1213_salary_adjusted\",\"1213_salary_adjusted\",\"1213_salary_adjusted\",\"1213_salary_adjusted\",\"1213_salary_adjusted\",\"1213_salary_adjusted\",\"1213_salary_adjusted\",\"1213_salary_adjusted\",\"1213_salary_adjusted\",\"1213_salary_adjusted\",\"1213_salary_adjusted\",\"1213_salary_adjusted\",\"1213_salary_adjusted\",\"1213_salary_adjusted\",\"1213_salary_adjusted\",\"1213_salary_adjusted\",\"1213_salary_adjusted\",\"1213_salary_adjusted\",\"1213_salary_adjusted\",\"1213_salary_adjusted\",\"1213_salary_adjusted\",\"1213_salary_adjusted\",\"1213_salary_adjusted\",\"1213_salary_adjusted\",\"1213_salary_adjusted\",\"1213_salary_adjusted\",\"1213_salary_adjusted\",\"1213_salary_adjusted\",\"1213_salary_adjusted\",\"1213_salary_adjusted\",\"1213_salary_adjusted\",\"1213_salary_adjusted\",\"1213_salary_adjusted\",\"1213_salary_adjusted\",\"1213_salary_adjusted\",\"1213_salary_adjusted\",\"1213_salary_adjusted\",\"1213_salary_adjusted\",\"1213_salary_adjusted\",\"1213_salary_adjusted\",\"1213_salary_adjusted\",\"1213_salary_adjusted\",\"1213_salary_adjusted\",\"1213_salary_adjusted\",\"1213_salary_adjusted\",\"1213_salary_adjusted\",\"1213_salary_adjusted\",\"1213_salary_adjusted\",\"1213_salary_adjusted\",\"1213_salary_adjusted\",\"1213_salary_adjusted\",\"1213_salary_adjusted\",\"1213_salary_adjusted\",\"1213_salary_adjusted\",\"1213_salary_adjusted\",\"1213_salary_adjusted\",\"1213_salary_adjusted\",\"1213_salary_adjusted\",\"1213_salary_adjusted\",\"1213_salary_adjusted\",\"1213_salary_adjusted\",\"1213_salary_adjusted\",\"1213_salary_adjusted\",\"1213_salary_adjusted\",\"1213_salary_adjusted\",\"1213_salary_adjusted\",\"1213_salary_adjusted\",\"1213_salary_adjusted\",\"1213_salary_adjusted\",\"1213_salary_adjusted\",\"1213_salary_adjusted\",\"1213_salary_adjusted\",\"1213_salary_adjusted\",\"1213_salary_adjusted\",\"1213_salary_adjusted\",\"1213_salary_adjusted\",\"1213_salary_adjusted\",\"1213_salary_adjusted\",\"1213_salary_adjusted\",\"1213_salary_adjusted\",\"1213_salary_adjusted\",\"1213_salary_adjusted\",\"1213_salary_adjusted\",\"1213_salary_adjusted\",\"1213_salary_adjusted\",\"1213_salary_adjusted\"],\"player_name\":[\"LeBron James\",\"LeBron James\",\"Tyson Chandler\",\"Tyson Chandler\",\"Carmelo Anthony\",\"Carmelo Anthony\",\"Kyle Korver\",\"Kyle Korver\",\"Zaza Pachulia\",\"Udonis Haslem\",\"Dwight Howard\",\"Dwight Howard\",\"Dwight Howard\",\"Devin Harris\",\"Andre Iguodala\",\"Trevor Ariza\",\"Chris Paul\",\"Raymond Felton\",\"Jose Calderon\",\"LaMarcus Aldridge\",\"Rudy Gay\",\"Rudy Gay\",\"Thabo Sefolosha\",\"Thabo Sefolosha\",\"Rajon Rondo\",\"Rajon Rondo\",\"Kyle Lowry\",\"Kyle Lowry\",\"Paul Millsap\",\"Paul Millsap\",\"Paul Millsap\",\"Kevin Durant\",\"Kevin Durant\",\"Kevin Durant\",\"Kevin Durant\",\"Al Horford\",\"Al Horford\",\"Mike Conley\",\"Thaddeus Young\",\"Thaddeus Young\",\"Jared Dudley\",\"Jared Dudley\",\"Wilson Chandler\",\"Wilson Chandler\",\"Ian Mahinmi\",\"Derrick Rose\",\"Russell Westbrook\",\"Russell Westbrook\",\"Kevin Love\",\"Kevin Love\",\"Marc Gasol\",\"Marc Gasol\",\"Danilo Gallinari\",\"Danilo Gallinari\",\"Danilo Gallinari\",\"Eric Gordon\",\"Eric Gordon\",\"Brook Lopez\",\"Brook Lopez\",\"Goran Dragic\",\"Goran Dragic\",\"Robin Lopez\",\"Robin Lopez\",\"Robin Lopez\",\"JaVale McGee\",\"Nicolas Batum\",\"Nicolas Batum\",\"George Hill\",\"George Hill\",\"DeAndre Jordan\",\"DeAndre Jordan\",\"Blake Griffin\",\"James Harden\",\"James Harden\",\"Stephen Curry\",\"DeMar DeRozan\",\"James Johnson\",\"James Johnson\",\"Jrue Holiday\",\"Jeff Teague\",\"Jeff Teague\",\"Serge Ibaka\",\"Serge Ibaka\",\"Wayne Ellington\",\"Wayne Ellington\",\"Wayne Ellington\",\"Wesley Matthews\",\"Wesley Matthews\",\"Danny Green\",\"Danny Green\",\"Garrett Temple\",\"Garrett Temple\",\"John Wall\",\"Derrick Favors\",\"Derrick Favors\",\"DeMarcus Cousins\",\"Al-Farouq Aminu\",\"Gordon Hayward\",\"Gordon Hayward\",\"Paul George\",\"Ed Davis\",\"Patrick Patterson\",\"Patrick Patterson\",\"Eric Bledsoe\",\"Avery Bradley\",\"Avery Bradley\",\"Avery Bradley\",\"Quincy Pondexter\",\"Hassan Whiteside\",\"Patrick Beverley\",\"Kyrie Irving\",\"Enes Kanter\",\"Tristan Thompson\",\"Ricky Rubio\",\"Bismack Biyombo\",\"Bismack Biyombo\",\"Kemba Walker\",\"Klay Thompson\",\"Alec Burks\",\"Markieff Morris\",\"Kawhi Leonard\",\"Nikola Vucevic\",\"Tobias Harris\",\"Kenneth Faried\",\"Reggie Jackson\",\"Cory Joseph\",\"Jimmy Butler\",\"E'Twaun Moore\",\"E'Twaun Moore\",\"E'Twaun Moore\",\"Anthony Davis\",\"Jonas Valanciunas\",\"Harrison Barnes\",\"Terrence Ross\",\"Austin Rivers\",\"Austin Rivers\",\"Austin Rivers\",\"Meyers Leonard\",\"Jeremy Lamb\",\"Draymond Green\",\"Kyle O'Quinn\",\"Jae Crowder\",\"Will Barton\",\"Kent Bazemore\",\"Kent Bazemore\",\"Khris Middleton\",\"Mike Scott\",\"Aron Baynes\",\"Aron Baynes\",\"Justin Holiday\",\"Justin Holiday\",\"Nerlens Noel\",\"Ben McLemore\",\"Kentavious Caldwell-Pope\",\"Trey Burke\",\"Mason Plumlee\",\"Solomon Hill\",\"Reggie Bullock\",\"Robert Covington\",\"Matthew Dellavedova\",\"Mike Muscala\",\"Seth Curry\",\"Seth Curry\",\"Bojan Bogdanovic\",\"Julius Randle\",\"Elfrid Payton\",\"Rodney Hood\",\"Jerami Grant\",\"Joe Harris\",\"Joe Harris\",\"Spencer Dinwiddie\",\"Spencer Dinwiddie\",\"Joe Ingles\",\"JaKarr Sampson\",\"Glenn Robinson III\",\"Jordan Clarkson\",\"Dwight Powell\",\"Langston Galloway\",\"Langston Galloway\",\"Tyler Johnson\",\"JaMychal Green\",\"JaMychal Green\",\"Jahlil Okafor\",\"Willie Cauley-Stein\",\"Boban Marjanovic\",\"Montrezl Harrell\",\"Raul Neto\",\"Pat Connaughton\",\"Christian Wood\",\"Fred VanVleet\",\"Bryn Forbes\",\"Davis Bertans\",\"Patrick McCaw\",\"Quinn Cook\",\"Quinn Cook\",\"Quinn Cook\",\"Shaquille Harrison\",\"Edmond Sumner\",\"Torrey Craig\"],\"value\":[22654792,22654792,17566261,17566261,25114603,25114603,6456196,6456196,6777391,5242431,24870817,24870817,24870817,10975533,19004782,9373054,22957532,5164956,14263791,16786110,21254484,21254484,4648461,4648461,14203631,14203631,7424625,7424625,9296922,9296922,9296922,22659748,22659748,22659748,22659748,15494870,15494870,9271097,10380440,10380440,5487766,5487766,7657584,7657584,5164956,21179551,17649626,17649626,17649626,17649626,17937067,17937067,12188007,12188007,12188007,17649626,17649626,17648658,17648658,9684294,9684294,6326159,6326159,6326159,12912392,15430309,15430309,10329913,10329913,13600593,13600593,9331645,7515549,7515549,5111683,4318226,3630972,3630972,3453872,3141683,3141683,2909240,2909240,2689705,2689705,2689705,8399924,8399924,4519337,4519337,739806,739806,7638816,6137673,6137673,5011041,3806315,3498896,3498896,3323804,2849816,2707418,2707418,2205075,2105752,2105752,2105752,1593802,0,384908,7140656,5737440,5172807,4830680,3883944,3883944,3270657,2869340,2804106,2663878,2404184,2283943,1968468,1741623,1605113,1427542,1417160,984176,984176,984176,6642496,4357467,3612939,3309859,2890258,2890258,2890258,2745846,2608561,1097553,1018622,775377,710181,611536,611536,611536,611536,309365,309365,98418,98418,0,0,0,0,0,0,0,0,0,0,0,0,0,0,0,0,0,0,0,0,0,0,0,0,0,0,0,0,0,0,0,0,0,0,0,0,0,0,0,0,0,0,0,0,0,0,0,0]},\"selected\":{\"id\":\"6783\"},\"selection_policy\":{\"id\":\"6817\"}},\"id\":\"6782\",\"type\":\"ColumnDataSource\"},{\"attributes\":{\"line_alpha\":0.2,\"line_color\":\"#d62728\",\"line_width\":2,\"x\":{\"field\":\"player_name\"},\"y\":{\"field\":\"value\"}},\"id\":\"6679\",\"type\":\"Line\"},{\"attributes\":{\"line_alpha\":0.1,\"line_color\":\"#d62728\",\"line_width\":2,\"x\":{\"field\":\"player_name\"},\"y\":{\"field\":\"value\"}},\"id\":\"9162\",\"type\":\"Line\"},{\"attributes\":{\"coordinates\":null,\"data_source\":{\"id\":\"9158\"},\"glyph\":{\"id\":\"9161\"},\"group\":null,\"hover_glyph\":null,\"muted_glyph\":{\"id\":\"9163\"},\"nonselection_glyph\":{\"id\":\"9162\"},\"selection_glyph\":{\"id\":\"9263\"},\"view\":{\"id\":\"9165\"}},\"id\":\"9164\",\"type\":\"GlyphRenderer\"},{\"attributes\":{},\"id\":\"9259\",\"type\":\"UnionRenderers\"},{\"attributes\":{\"coordinates\":null,\"data_source\":{\"id\":\"6674\"},\"glyph\":{\"id\":\"6677\"},\"group\":null,\"hover_glyph\":null,\"muted_glyph\":{\"id\":\"6679\"},\"nonselection_glyph\":{\"id\":\"6678\"},\"selection_glyph\":{\"id\":\"6707\"},\"view\":{\"id\":\"6681\"}},\"id\":\"6680\",\"type\":\"GlyphRenderer\"},{\"attributes\":{\"label\":{\"value\":\"OREB\"},\"renderers\":[{\"id\":\"9164\"}]},\"id\":\"9262\",\"type\":\"LegendItem\"},{\"attributes\":{\"label\":{\"value\":\"0910_salary_adjusted\"},\"renderers\":[{\"id\":\"6680\"}]},\"id\":\"6706\",\"type\":\"LegendItem\"},{\"attributes\":{\"line_color\":\"#e377c2\",\"line_width\":2,\"x\":{\"field\":\"player_name\"},\"y\":{\"field\":\"value\"}},\"id\":\"6747\",\"type\":\"Line\"},{\"attributes\":{\"data\":{\"Variable\":[\"0910_salary_adjusted\",\"0910_salary_adjusted\",\"0910_salary_adjusted\",\"0910_salary_adjusted\",\"0910_salary_adjusted\",\"0910_salary_adjusted\",\"0910_salary_adjusted\",\"0910_salary_adjusted\",\"0910_salary_adjusted\",\"0910_salary_adjusted\",\"0910_salary_adjusted\",\"0910_salary_adjusted\",\"0910_salary_adjusted\",\"0910_salary_adjusted\",\"0910_salary_adjusted\",\"0910_salary_adjusted\",\"0910_salary_adjusted\",\"0910_salary_adjusted\",\"0910_salary_adjusted\",\"0910_salary_adjusted\",\"0910_salary_adjusted\",\"0910_salary_adjusted\",\"0910_salary_adjusted\",\"0910_salary_adjusted\",\"0910_salary_adjusted\",\"0910_salary_adjusted\",\"0910_salary_adjusted\",\"0910_salary_adjusted\",\"0910_salary_adjusted\",\"0910_salary_adjusted\",\"0910_salary_adjusted\",\"0910_salary_adjusted\",\"0910_salary_adjusted\",\"0910_salary_adjusted\",\"0910_salary_adjusted\",\"0910_salary_adjusted\",\"0910_salary_adjusted\",\"0910_salary_adjusted\",\"0910_salary_adjusted\",\"0910_salary_adjusted\",\"0910_salary_adjusted\",\"0910_salary_adjusted\",\"0910_salary_adjusted\",\"0910_salary_adjusted\",\"0910_salary_adjusted\",\"0910_salary_adjusted\",\"0910_salary_adjusted\",\"0910_salary_adjusted\",\"0910_salary_adjusted\",\"0910_salary_adjusted\",\"0910_salary_adjusted\",\"0910_salary_adjusted\",\"0910_salary_adjusted\",\"0910_salary_adjusted\",\"0910_salary_adjusted\",\"0910_salary_adjusted\",\"0910_salary_adjusted\",\"0910_salary_adjusted\",\"0910_salary_adjusted\",\"0910_salary_adjusted\",\"0910_salary_adjusted\",\"0910_salary_adjusted\",\"0910_salary_adjusted\",\"0910_salary_adjusted\",\"0910_salary_adjusted\",\"0910_salary_adjusted\",\"0910_salary_adjusted\",\"0910_salary_adjusted\",\"0910_salary_adjusted\",\"0910_salary_adjusted\",\"0910_salary_adjusted\",\"0910_salary_adjusted\",\"0910_salary_adjusted\",\"0910_salary_adjusted\",\"0910_salary_adjusted\",\"0910_salary_adjusted\",\"0910_salary_adjusted\",\"0910_salary_adjusted\",\"0910_salary_adjusted\",\"0910_salary_adjusted\",\"0910_salary_adjusted\",\"0910_salary_adjusted\",\"0910_salary_adjusted\",\"0910_salary_adjusted\",\"0910_salary_adjusted\",\"0910_salary_adjusted\",\"0910_salary_adjusted\",\"0910_salary_adjusted\",\"0910_salary_adjusted\",\"0910_salary_adjusted\",\"0910_salary_adjusted\",\"0910_salary_adjusted\",\"0910_salary_adjusted\",\"0910_salary_adjusted\",\"0910_salary_adjusted\",\"0910_salary_adjusted\",\"0910_salary_adjusted\",\"0910_salary_adjusted\",\"0910_salary_adjusted\",\"0910_salary_adjusted\",\"0910_salary_adjusted\",\"0910_salary_adjusted\",\"0910_salary_adjusted\",\"0910_salary_adjusted\",\"0910_salary_adjusted\",\"0910_salary_adjusted\",\"0910_salary_adjusted\",\"0910_salary_adjusted\",\"0910_salary_adjusted\",\"0910_salary_adjusted\",\"0910_salary_adjusted\",\"0910_salary_adjusted\",\"0910_salary_adjusted\",\"0910_salary_adjusted\",\"0910_salary_adjusted\",\"0910_salary_adjusted\",\"0910_salary_adjusted\",\"0910_salary_adjusted\",\"0910_salary_adjusted\",\"0910_salary_adjusted\",\"0910_salary_adjusted\",\"0910_salary_adjusted\",\"0910_salary_adjusted\",\"0910_salary_adjusted\",\"0910_salary_adjusted\",\"0910_salary_adjusted\",\"0910_salary_adjusted\",\"0910_salary_adjusted\",\"0910_salary_adjusted\",\"0910_salary_adjusted\",\"0910_salary_adjusted\",\"0910_salary_adjusted\",\"0910_salary_adjusted\",\"0910_salary_adjusted\",\"0910_salary_adjusted\",\"0910_salary_adjusted\",\"0910_salary_adjusted\",\"0910_salary_adjusted\",\"0910_salary_adjusted\",\"0910_salary_adjusted\",\"0910_salary_adjusted\",\"0910_salary_adjusted\",\"0910_salary_adjusted\",\"0910_salary_adjusted\",\"0910_salary_adjusted\",\"0910_salary_adjusted\",\"0910_salary_adjusted\",\"0910_salary_adjusted\",\"0910_salary_adjusted\",\"0910_salary_adjusted\",\"0910_salary_adjusted\",\"0910_salary_adjusted\",\"0910_salary_adjusted\",\"0910_salary_adjusted\",\"0910_salary_adjusted\",\"0910_salary_adjusted\",\"0910_salary_adjusted\",\"0910_salary_adjusted\",\"0910_salary_adjusted\",\"0910_salary_adjusted\",\"0910_salary_adjusted\",\"0910_salary_adjusted\",\"0910_salary_adjusted\",\"0910_salary_adjusted\",\"0910_salary_adjusted\",\"0910_salary_adjusted\",\"0910_salary_adjusted\",\"0910_salary_adjusted\",\"0910_salary_adjusted\",\"0910_salary_adjusted\",\"0910_salary_adjusted\",\"0910_salary_adjusted\",\"0910_salary_adjusted\",\"0910_salary_adjusted\",\"0910_salary_adjusted\",\"0910_salary_adjusted\",\"0910_salary_adjusted\",\"0910_salary_adjusted\",\"0910_salary_adjusted\",\"0910_salary_adjusted\",\"0910_salary_adjusted\",\"0910_salary_adjusted\",\"0910_salary_adjusted\",\"0910_salary_adjusted\",\"0910_salary_adjusted\",\"0910_salary_adjusted\",\"0910_salary_adjusted\",\"0910_salary_adjusted\",\"0910_salary_adjusted\",\"0910_salary_adjusted\",\"0910_salary_adjusted\",\"0910_salary_adjusted\",\"0910_salary_adjusted\",\"0910_salary_adjusted\",\"0910_salary_adjusted\",\"0910_salary_adjusted\",\"0910_salary_adjusted\",\"0910_salary_adjusted\",\"0910_salary_adjusted\"],\"player_name\":[\"LeBron James\",\"LeBron James\",\"Tyson Chandler\",\"Tyson Chandler\",\"Carmelo Anthony\",\"Carmelo Anthony\",\"Kyle Korver\",\"Kyle Korver\",\"Zaza Pachulia\",\"Udonis Haslem\",\"Dwight Howard\",\"Dwight Howard\",\"Dwight Howard\",\"Devin Harris\",\"Andre Iguodala\",\"Trevor Ariza\",\"Chris Paul\",\"Raymond Felton\",\"Jose Calderon\",\"LaMarcus Aldridge\",\"Rudy Gay\",\"Rudy Gay\",\"Thabo Sefolosha\",\"Thabo Sefolosha\",\"Rajon Rondo\",\"Rajon Rondo\",\"Kyle Lowry\",\"Kyle Lowry\",\"Paul Millsap\",\"Paul Millsap\",\"Paul Millsap\",\"Kevin Durant\",\"Kevin Durant\",\"Kevin Durant\",\"Kevin Durant\",\"Al Horford\",\"Al Horford\",\"Mike Conley\",\"Thaddeus Young\",\"Thaddeus Young\",\"Jared Dudley\",\"Jared Dudley\",\"Wilson Chandler\",\"Wilson Chandler\",\"Ian Mahinmi\",\"Derrick Rose\",\"Russell Westbrook\",\"Russell Westbrook\",\"Kevin Love\",\"Kevin Love\",\"Marc Gasol\",\"Marc Gasol\",\"Danilo Gallinari\",\"Danilo Gallinari\",\"Danilo Gallinari\",\"Eric Gordon\",\"Eric Gordon\",\"Brook Lopez\",\"Brook Lopez\",\"Goran Dragic\",\"Goran Dragic\",\"Robin Lopez\",\"Robin Lopez\",\"Robin Lopez\",\"JaVale McGee\",\"Nicolas Batum\",\"Nicolas Batum\",\"George Hill\",\"George Hill\",\"DeAndre Jordan\",\"DeAndre Jordan\",\"Blake Griffin\",\"James Harden\",\"James Harden\",\"Stephen Curry\",\"DeMar DeRozan\",\"James Johnson\",\"James Johnson\",\"Jrue Holiday\",\"Jeff Teague\",\"Jeff Teague\",\"Serge Ibaka\",\"Serge Ibaka\",\"Wayne Ellington\",\"Wayne Ellington\",\"Wayne Ellington\",\"Wesley Matthews\",\"Wesley Matthews\",\"Danny Green\",\"Danny Green\",\"Garrett Temple\",\"Garrett Temple\",\"John Wall\",\"Derrick Favors\",\"Derrick Favors\",\"DeMarcus Cousins\",\"Al-Farouq Aminu\",\"Gordon Hayward\",\"Gordon Hayward\",\"Paul George\",\"Ed Davis\",\"Patrick Patterson\",\"Patrick Patterson\",\"Eric Bledsoe\",\"Avery Bradley\",\"Avery Bradley\",\"Avery Bradley\",\"Quincy Pondexter\",\"Hassan Whiteside\",\"Patrick Beverley\",\"Kyrie Irving\",\"Enes Kanter\",\"Tristan Thompson\",\"Ricky Rubio\",\"Bismack Biyombo\",\"Bismack Biyombo\",\"Kemba Walker\",\"Klay Thompson\",\"Alec Burks\",\"Markieff Morris\",\"Kawhi Leonard\",\"Nikola Vucevic\",\"Tobias Harris\",\"Kenneth Faried\",\"Reggie Jackson\",\"Cory Joseph\",\"Jimmy Butler\",\"E'Twaun Moore\",\"E'Twaun Moore\",\"E'Twaun Moore\",\"Anthony Davis\",\"Jonas Valanciunas\",\"Harrison Barnes\",\"Terrence Ross\",\"Austin Rivers\",\"Austin Rivers\",\"Austin Rivers\",\"Meyers Leonard\",\"Jeremy Lamb\",\"Draymond Green\",\"Kyle O'Quinn\",\"Jae Crowder\",\"Will Barton\",\"Kent Bazemore\",\"Kent Bazemore\",\"Khris Middleton\",\"Mike Scott\",\"Aron Baynes\",\"Aron Baynes\",\"Justin Holiday\",\"Justin Holiday\",\"Nerlens Noel\",\"Ben McLemore\",\"Kentavious Caldwell-Pope\",\"Trey Burke\",\"Mason Plumlee\",\"Solomon Hill\",\"Reggie Bullock\",\"Robert Covington\",\"Matthew Dellavedova\",\"Mike Muscala\",\"Seth Curry\",\"Seth Curry\",\"Bojan Bogdanovic\",\"Julius Randle\",\"Elfrid Payton\",\"Rodney Hood\",\"Jerami Grant\",\"Joe Harris\",\"Joe Harris\",\"Spencer Dinwiddie\",\"Spencer Dinwiddie\",\"Joe Ingles\",\"JaKarr Sampson\",\"Glenn Robinson III\",\"Jordan Clarkson\",\"Dwight Powell\",\"Langston Galloway\",\"Langston Galloway\",\"Tyler Johnson\",\"JaMychal Green\",\"JaMychal Green\",\"Jahlil Okafor\",\"Willie Cauley-Stein\",\"Boban Marjanovic\",\"Montrezl Harrell\",\"Raul Neto\",\"Pat Connaughton\",\"Christian Wood\",\"Fred VanVleet\",\"Bryn Forbes\",\"Davis Bertans\",\"Patrick McCaw\",\"Quinn Cook\",\"Quinn Cook\",\"Quinn Cook\",\"Shaquille Harrison\",\"Edmond Sumner\",\"Torrey Craig\"],\"value\":[21677854,21677854,16279088,16279088,21677854,21677854,7081904,7081904,6525372,9753715,20884751,20884751,20884751,11539606,16759905,8042006,18573958,7557337,11290968,8029405,4507311,4507311,3791074,3791074,2877925,2877925,2795602,2795602,10568263,10568263,10568263,6589774,6589774,6589774,6589774,5917675,5917675,5335419,2892320,2892320,1796387,1796387,1724676,1724676,1483169,7122245,5159358,5159358,4672221,4672221,4450991,4450991,4243607,4243607,4243607,3873845,3873845,3057830,3057830,2522228,2522228,2397930,2397930,2397930,2056028,1536910,1536910,1485971,1485971,1011666,1011666,6846118,5569453,5569453,3723666,3135805,2189887,2189887,2080261,1887385,1887385,1538888,1538888,1378653,1378653,1378653,628617,628617,628617,628617,247749,247749,0,0,0,0,0,0,0,0,0,0,0,0,0,0,0,0,0,0,0,0,0,0,0,0,0,0,0,0,0,0,0,0,0,0,0,0,0,0,0,0,0,0,0,0,0,0,0,0,0,0,0,0,0,0,0,0,0,0,0,0,0,0,0,0,0,0,0,0,0,0,0,0,0,0,0,0,0,0,0,0,0,0,0,0,0,0,0,0,0,0,0,0,0,0,0,0,0,0,0,0,0,0,0,0,0,0,0]},\"selected\":{\"id\":\"6675\"},\"selection_policy\":{\"id\":\"6703\"}},\"id\":\"6674\",\"type\":\"ColumnDataSource\"},{\"attributes\":{\"children\":[{\"id\":\"6456\"}],\"height\":400,\"margin\":[0,0,0,0],\"name\":\"Row05663\",\"sizing_mode\":\"fixed\",\"tags\":[\"embedded\"],\"width\":800},\"id\":\"6401\",\"type\":\"Row\"},{\"attributes\":{\"source\":{\"id\":\"9158\"}},\"id\":\"9165\",\"type\":\"CDSView\"},{\"attributes\":{},\"id\":\"9159\",\"type\":\"Selection\"},{\"attributes\":{\"source\":{\"id\":\"6674\"}},\"id\":\"6681\",\"type\":\"CDSView\"},{\"attributes\":{},\"id\":\"6675\",\"type\":\"Selection\"},{\"attributes\":{\"data\":{\"Variable\":[\"BLK\",\"BLK\",\"BLK\",\"BLK\",\"BLK\",\"BLK\",\"BLK\",\"BLK\",\"BLK\",\"BLK\",\"BLK\",\"BLK\",\"BLK\",\"BLK\",\"BLK\",\"BLK\",\"BLK\",\"BLK\",\"BLK\",\"BLK\",\"BLK\",\"BLK\",\"BLK\",\"BLK\",\"BLK\",\"BLK\",\"BLK\",\"BLK\",\"BLK\",\"BLK\",\"BLK\",\"BLK\",\"BLK\",\"BLK\",\"BLK\",\"BLK\",\"BLK\",\"BLK\",\"BLK\",\"BLK\",\"BLK\",\"BLK\",\"BLK\",\"BLK\",\"BLK\",\"BLK\",\"BLK\",\"BLK\",\"BLK\",\"BLK\",\"BLK\",\"BLK\",\"BLK\",\"BLK\",\"BLK\",\"BLK\",\"BLK\",\"BLK\",\"BLK\",\"BLK\",\"BLK\",\"BLK\",\"BLK\",\"BLK\",\"BLK\",\"BLK\",\"BLK\",\"BLK\",\"BLK\",\"BLK\",\"BLK\",\"BLK\",\"BLK\",\"BLK\",\"BLK\",\"BLK\",\"BLK\",\"BLK\",\"BLK\",\"BLK\",\"BLK\",\"BLK\",\"BLK\",\"BLK\",\"BLK\",\"BLK\",\"BLK\",\"BLK\",\"BLK\",\"BLK\",\"BLK\",\"BLK\",\"BLK\",\"BLK\",\"BLK\",\"BLK\",\"BLK\",\"BLK\",\"BLK\",\"BLK\",\"BLK\",\"BLK\",\"BLK\",\"BLK\",\"BLK\",\"BLK\",\"BLK\",\"BLK\",\"BLK\",\"BLK\",\"BLK\",\"BLK\",\"BLK\",\"BLK\",\"BLK\",\"BLK\",\"BLK\",\"BLK\",\"BLK\",\"BLK\",\"BLK\",\"BLK\",\"BLK\",\"BLK\",\"BLK\",\"BLK\",\"BLK\",\"BLK\",\"BLK\",\"BLK\",\"BLK\",\"BLK\",\"BLK\",\"BLK\",\"BLK\",\"BLK\",\"BLK\",\"BLK\",\"BLK\",\"BLK\",\"BLK\",\"BLK\",\"BLK\",\"BLK\",\"BLK\",\"BLK\",\"BLK\",\"BLK\",\"BLK\",\"BLK\",\"BLK\",\"BLK\",\"BLK\",\"BLK\",\"BLK\",\"BLK\",\"BLK\",\"BLK\",\"BLK\",\"BLK\",\"BLK\",\"BLK\",\"BLK\",\"BLK\",\"BLK\",\"BLK\",\"BLK\",\"BLK\",\"BLK\",\"BLK\",\"BLK\",\"BLK\",\"BLK\",\"BLK\",\"BLK\",\"BLK\",\"BLK\",\"BLK\",\"BLK\",\"BLK\",\"BLK\",\"BLK\",\"BLK\",\"BLK\",\"BLK\",\"BLK\",\"BLK\",\"BLK\",\"BLK\",\"BLK\",\"BLK\",\"BLK\",\"BLK\",\"BLK\",\"BLK\",\"BLK\",\"BLK\",\"BLK\",\"BLK\"],\"player_name\":[\"LeBron James\",\"LeBron James\",\"Tyson Chandler\",\"Tyson Chandler\",\"Carmelo Anthony\",\"Carmelo Anthony\",\"Kyle Korver\",\"Kyle Korver\",\"Zaza Pachulia\",\"Udonis Haslem\",\"Dwight Howard\",\"Dwight Howard\",\"Dwight Howard\",\"Devin Harris\",\"Andre Iguodala\",\"Trevor Ariza\",\"Chris Paul\",\"Raymond Felton\",\"Jose Calderon\",\"LaMarcus Aldridge\",\"Rudy Gay\",\"Rudy Gay\",\"Thabo Sefolosha\",\"Thabo Sefolosha\",\"Rajon Rondo\",\"Rajon Rondo\",\"Kyle Lowry\",\"Kyle Lowry\",\"Paul Millsap\",\"Paul Millsap\",\"Paul Millsap\",\"Kevin Durant\",\"Kevin Durant\",\"Kevin Durant\",\"Kevin Durant\",\"Al Horford\",\"Al Horford\",\"Mike Conley\",\"Thaddeus Young\",\"Thaddeus Young\",\"Jared Dudley\",\"Jared Dudley\",\"Wilson Chandler\",\"Wilson Chandler\",\"Ian Mahinmi\",\"Derrick Rose\",\"Russell Westbrook\",\"Russell Westbrook\",\"Kevin Love\",\"Kevin Love\",\"Marc Gasol\",\"Marc Gasol\",\"Danilo Gallinari\",\"Danilo Gallinari\",\"Danilo Gallinari\",\"Eric Gordon\",\"Eric Gordon\",\"Brook Lopez\",\"Brook Lopez\",\"Goran Dragic\",\"Goran Dragic\",\"Robin Lopez\",\"Robin Lopez\",\"Robin Lopez\",\"JaVale McGee\",\"Nicolas Batum\",\"Nicolas Batum\",\"George Hill\",\"George Hill\",\"DeAndre Jordan\",\"DeAndre Jordan\",\"Blake Griffin\",\"James Harden\",\"James Harden\",\"Stephen Curry\",\"DeMar DeRozan\",\"James Johnson\",\"James Johnson\",\"Jrue Holiday\",\"Jeff Teague\",\"Jeff Teague\",\"Serge Ibaka\",\"Serge Ibaka\",\"Wayne Ellington\",\"Wayne Ellington\",\"Wayne Ellington\",\"Wesley Matthews\",\"Wesley Matthews\",\"Danny Green\",\"Danny Green\",\"Garrett Temple\",\"Garrett Temple\",\"John Wall\",\"Derrick Favors\",\"Derrick Favors\",\"DeMarcus Cousins\",\"Al-Farouq Aminu\",\"Gordon Hayward\",\"Gordon Hayward\",\"Paul George\",\"Ed Davis\",\"Patrick Patterson\",\"Patrick Patterson\",\"Eric Bledsoe\",\"Avery Bradley\",\"Avery Bradley\",\"Avery Bradley\",\"Quincy Pondexter\",\"Hassan Whiteside\",\"Patrick Beverley\",\"Kyrie Irving\",\"Enes Kanter\",\"Tristan Thompson\",\"Ricky Rubio\",\"Bismack Biyombo\",\"Bismack Biyombo\",\"Kemba Walker\",\"Klay Thompson\",\"Alec Burks\",\"Markieff Morris\",\"Kawhi Leonard\",\"Nikola Vucevic\",\"Tobias Harris\",\"Kenneth Faried\",\"Reggie Jackson\",\"Cory Joseph\",\"Jimmy Butler\",\"E'Twaun Moore\",\"E'Twaun Moore\",\"E'Twaun Moore\",\"Anthony Davis\",\"Jonas Valanciunas\",\"Harrison Barnes\",\"Terrence Ross\",\"Austin Rivers\",\"Austin Rivers\",\"Austin Rivers\",\"Meyers Leonard\",\"Jeremy Lamb\",\"Draymond Green\",\"Kyle O'Quinn\",\"Jae Crowder\",\"Will Barton\",\"Kent Bazemore\",\"Kent Bazemore\",\"Khris Middleton\",\"Mike Scott\",\"Aron Baynes\",\"Aron Baynes\",\"Justin Holiday\",\"Justin Holiday\",\"Nerlens Noel\",\"Ben McLemore\",\"Kentavious Caldwell-Pope\",\"Trey Burke\",\"Mason Plumlee\",\"Solomon Hill\",\"Reggie Bullock\",\"Robert Covington\",\"Matthew Dellavedova\",\"Mike Muscala\",\"Seth Curry\",\"Seth Curry\",\"Bojan Bogdanovic\",\"Julius Randle\",\"Elfrid Payton\",\"Rodney Hood\",\"Jerami Grant\",\"Joe Harris\",\"Joe Harris\",\"Spencer Dinwiddie\",\"Spencer Dinwiddie\",\"Joe Ingles\",\"JaKarr Sampson\",\"Glenn Robinson III\",\"Jordan Clarkson\",\"Dwight Powell\",\"Langston Galloway\",\"Langston Galloway\",\"Tyler Johnson\",\"JaMychal Green\",\"JaMychal Green\",\"Jahlil Okafor\",\"Willie Cauley-Stein\",\"Boban Marjanovic\",\"Montrezl Harrell\",\"Raul Neto\",\"Pat Connaughton\",\"Christian Wood\",\"Fred VanVleet\",\"Bryn Forbes\",\"Davis Bertans\",\"Patrick McCaw\",\"Quinn Cook\",\"Quinn Cook\",\"Quinn Cook\",\"Shaquille Harrison\",\"Edmond Sumner\",\"Torrey Craig\"],\"value\":[49,49,80,91,51,24,21,37,12,15,131,113,186,2,52,20,10,10,8,68,26,41,31,17,7,10,19,15,62,80,69,85,119,76,99,80,121,18,26,25,20,18,29,94,31,28,20,21,28,39,131,136,15,20,23,4,14,126,4,15,10,84,78,60,132,43,60,17,11,142,183,50,51,38,12,24,57,50,32,32,28,124,242,5,3,2,17,10,87,46,18,11,40,108,82,91,62,40,20,22,98,37,23,14,11,16,8,1,269,23,20,29,61,1,99,133,31,60,5,39,48,54,36,57,9,17,36,3,18,13,125,80,10,25,14,23,9,18,30,99,39,25,19,38,13,11,7,51,22,12,31,22,6,13,5,92,11,3,0,9,41,0,3,7,45,17,12,77,0,20,0,0,10,26,1,7,24,6,22,14,34,34,18,51,23,52,4,22,7,19,2,28,10,0,3,0,7,0,15]},\"selected\":{\"id\":\"9825\"},\"selection_policy\":{\"id\":\"9937\"}},\"id\":\"9824\",\"type\":\"ColumnDataSource\"},{\"attributes\":{\"line_color\":\"#d62728\",\"line_width\":2,\"x\":{\"field\":\"player_name\"},\"y\":{\"field\":\"value\"}},\"id\":\"9263\",\"type\":\"Line\"},{\"attributes\":{\"line_color\":\"#1f77b4\",\"line_width\":2,\"x\":{\"field\":\"player_name\"},\"y\":{\"field\":\"value\"}},\"id\":\"9267\",\"type\":\"Line\"},{\"attributes\":{\"line_color\":\"#d62728\",\"line_width\":2,\"x\":{\"field\":\"player_name\"},\"y\":{\"field\":\"value\"}},\"id\":\"6707\",\"type\":\"Line\"},{\"attributes\":{\"line_alpha\":0.1,\"line_color\":\"#1f77b4\",\"line_width\":2,\"x\":{\"field\":\"player_name\"},\"y\":{\"field\":\"value\"}},\"id\":\"9268\",\"type\":\"Line\"},{\"attributes\":{\"coordinates\":null,\"data_source\":{\"id\":\"9264\"},\"glyph\":{\"id\":\"9267\"},\"group\":null,\"hover_glyph\":null,\"muted_glyph\":{\"id\":\"9269\"},\"nonselection_glyph\":{\"id\":\"9268\"},\"selection_glyph\":{\"id\":\"9371\"},\"view\":{\"id\":\"9271\"}},\"id\":\"9270\",\"type\":\"GlyphRenderer\"},{\"attributes\":{\"line_color\":\"#1f77b4\",\"line_width\":2,\"x\":{\"field\":\"player_name\"},\"y\":{\"field\":\"value\"}},\"id\":\"6711\",\"type\":\"Line\"},{\"attributes\":{},\"id\":\"9367\",\"type\":\"UnionRenderers\"},{\"attributes\":{\"label\":{\"value\":\"DREB\"},\"renderers\":[{\"id\":\"9270\"}]},\"id\":\"9370\",\"type\":\"LegendItem\"},{\"attributes\":{\"line_alpha\":0.1,\"line_color\":\"#1f77b4\",\"line_width\":2,\"x\":{\"field\":\"player_name\"},\"y\":{\"field\":\"value\"}},\"id\":\"6712\",\"type\":\"Line\"},{\"attributes\":{},\"id\":\"9373\",\"type\":\"Selection\"},{\"attributes\":{\"coordinates\":null,\"data_source\":{\"id\":\"6708\"},\"glyph\":{\"id\":\"6711\"},\"group\":null,\"hover_glyph\":null,\"muted_glyph\":{\"id\":\"6713\"},\"nonselection_glyph\":{\"id\":\"6712\"},\"selection_glyph\":{\"id\":\"6743\"},\"view\":{\"id\":\"6715\"}},\"id\":\"6714\",\"type\":\"GlyphRenderer\"},{\"attributes\":{\"data\":{\"Variable\":[\"TOV\",\"TOV\",\"TOV\",\"TOV\",\"TOV\",\"TOV\",\"TOV\",\"TOV\",\"TOV\",\"TOV\",\"TOV\",\"TOV\",\"TOV\",\"TOV\",\"TOV\",\"TOV\",\"TOV\",\"TOV\",\"TOV\",\"TOV\",\"TOV\",\"TOV\",\"TOV\",\"TOV\",\"TOV\",\"TOV\",\"TOV\",\"TOV\",\"TOV\",\"TOV\",\"TOV\",\"TOV\",\"TOV\",\"TOV\",\"TOV\",\"TOV\",\"TOV\",\"TOV\",\"TOV\",\"TOV\",\"TOV\",\"TOV\",\"TOV\",\"TOV\",\"TOV\",\"TOV\",\"TOV\",\"TOV\",\"TOV\",\"TOV\",\"TOV\",\"TOV\",\"TOV\",\"TOV\",\"TOV\",\"TOV\",\"TOV\",\"TOV\",\"TOV\",\"TOV\",\"TOV\",\"TOV\",\"TOV\",\"TOV\",\"TOV\",\"TOV\",\"TOV\",\"TOV\",\"TOV\",\"TOV\",\"TOV\",\"TOV\",\"TOV\",\"TOV\",\"TOV\",\"TOV\",\"TOV\",\"TOV\",\"TOV\",\"TOV\",\"TOV\",\"TOV\",\"TOV\",\"TOV\",\"TOV\",\"TOV\",\"TOV\",\"TOV\",\"TOV\",\"TOV\",\"TOV\",\"TOV\",\"TOV\",\"TOV\",\"TOV\",\"TOV\",\"TOV\",\"TOV\",\"TOV\",\"TOV\",\"TOV\",\"TOV\",\"TOV\",\"TOV\",\"TOV\",\"TOV\",\"TOV\",\"TOV\",\"TOV\",\"TOV\",\"TOV\",\"TOV\",\"TOV\",\"TOV\",\"TOV\",\"TOV\",\"TOV\",\"TOV\",\"TOV\",\"TOV\",\"TOV\",\"TOV\",\"TOV\",\"TOV\",\"TOV\",\"TOV\",\"TOV\",\"TOV\",\"TOV\",\"TOV\",\"TOV\",\"TOV\",\"TOV\",\"TOV\",\"TOV\",\"TOV\",\"TOV\",\"TOV\",\"TOV\",\"TOV\",\"TOV\",\"TOV\",\"TOV\",\"TOV\",\"TOV\",\"TOV\",\"TOV\",\"TOV\",\"TOV\",\"TOV\",\"TOV\",\"TOV\",\"TOV\",\"TOV\",\"TOV\",\"TOV\",\"TOV\",\"TOV\",\"TOV\",\"TOV\",\"TOV\",\"TOV\",\"TOV\",\"TOV\",\"TOV\",\"TOV\",\"TOV\",\"TOV\",\"TOV\",\"TOV\",\"TOV\",\"TOV\",\"TOV\",\"TOV\",\"TOV\",\"TOV\",\"TOV\",\"TOV\",\"TOV\",\"TOV\",\"TOV\",\"TOV\",\"TOV\",\"TOV\",\"TOV\",\"TOV\",\"TOV\",\"TOV\",\"TOV\",\"TOV\",\"TOV\",\"TOV\",\"TOV\",\"TOV\",\"TOV\",\"TOV\",\"TOV\",\"TOV\",\"TOV\"],\"player_name\":[\"LeBron James\",\"LeBron James\",\"Tyson Chandler\",\"Tyson Chandler\",\"Carmelo Anthony\",\"Carmelo Anthony\",\"Kyle Korver\",\"Kyle Korver\",\"Zaza Pachulia\",\"Udonis Haslem\",\"Dwight Howard\",\"Dwight Howard\",\"Dwight Howard\",\"Devin Harris\",\"Andre Iguodala\",\"Trevor Ariza\",\"Chris Paul\",\"Raymond Felton\",\"Jose Calderon\",\"LaMarcus Aldridge\",\"Rudy Gay\",\"Rudy Gay\",\"Thabo Sefolosha\",\"Thabo Sefolosha\",\"Rajon Rondo\",\"Rajon Rondo\",\"Kyle Lowry\",\"Kyle Lowry\",\"Paul Millsap\",\"Paul Millsap\",\"Paul Millsap\",\"Kevin Durant\",\"Kevin Durant\",\"Kevin Durant\",\"Kevin Durant\",\"Al Horford\",\"Al Horford\",\"Mike Conley\",\"Thaddeus Young\",\"Thaddeus Young\",\"Jared Dudley\",\"Jared Dudley\",\"Wilson Chandler\",\"Wilson Chandler\",\"Ian Mahinmi\",\"Derrick Rose\",\"Russell Westbrook\",\"Russell Westbrook\",\"Kevin Love\",\"Kevin Love\",\"Marc Gasol\",\"Marc Gasol\",\"Danilo Gallinari\",\"Danilo Gallinari\",\"Danilo Gallinari\",\"Eric Gordon\",\"Eric Gordon\",\"Brook Lopez\",\"Brook Lopez\",\"Goran Dragic\",\"Goran Dragic\",\"Robin Lopez\",\"Robin Lopez\",\"Robin Lopez\",\"JaVale McGee\",\"Nicolas Batum\",\"Nicolas Batum\",\"George Hill\",\"George Hill\",\"DeAndre Jordan\",\"DeAndre Jordan\",\"Blake Griffin\",\"James Harden\",\"James Harden\",\"Stephen Curry\",\"DeMar DeRozan\",\"James Johnson\",\"James Johnson\",\"Jrue Holiday\",\"Jeff Teague\",\"Jeff Teague\",\"Serge Ibaka\",\"Serge Ibaka\",\"Wayne Ellington\",\"Wayne Ellington\",\"Wayne Ellington\",\"Wesley Matthews\",\"Wesley Matthews\",\"Danny Green\",\"Danny Green\",\"Garrett Temple\",\"Garrett Temple\",\"John Wall\",\"Derrick Favors\",\"Derrick Favors\",\"DeMarcus Cousins\",\"Al-Farouq Aminu\",\"Gordon Hayward\",\"Gordon Hayward\",\"Paul George\",\"Ed Davis\",\"Patrick Patterson\",\"Patrick Patterson\",\"Eric Bledsoe\",\"Avery Bradley\",\"Avery Bradley\",\"Avery Bradley\",\"Quincy Pondexter\",\"Hassan Whiteside\",\"Patrick Beverley\",\"Kyrie Irving\",\"Enes Kanter\",\"Tristan Thompson\",\"Ricky Rubio\",\"Bismack Biyombo\",\"Bismack Biyombo\",\"Kemba Walker\",\"Klay Thompson\",\"Alec Burks\",\"Markieff Morris\",\"Kawhi Leonard\",\"Nikola Vucevic\",\"Tobias Harris\",\"Kenneth Faried\",\"Reggie Jackson\",\"Cory Joseph\",\"Jimmy Butler\",\"E'Twaun Moore\",\"E'Twaun Moore\",\"E'Twaun Moore\",\"Anthony Davis\",\"Jonas Valanciunas\",\"Harrison Barnes\",\"Terrence Ross\",\"Austin Rivers\",\"Austin Rivers\",\"Austin Rivers\",\"Meyers Leonard\",\"Jeremy Lamb\",\"Draymond Green\",\"Kyle O'Quinn\",\"Jae Crowder\",\"Will Barton\",\"Kent Bazemore\",\"Kent Bazemore\",\"Khris Middleton\",\"Mike Scott\",\"Aron Baynes\",\"Aron Baynes\",\"Justin Holiday\",\"Justin Holiday\",\"Nerlens Noel\",\"Ben McLemore\",\"Kentavious Caldwell-Pope\",\"Trey Burke\",\"Mason Plumlee\",\"Solomon Hill\",\"Reggie Bullock\",\"Robert Covington\",\"Matthew Dellavedova\",\"Mike Muscala\",\"Seth Curry\",\"Seth Curry\",\"Bojan Bogdanovic\",\"Julius Randle\",\"Elfrid Payton\",\"Rodney Hood\",\"Jerami Grant\",\"Joe Harris\",\"Joe Harris\",\"Spencer Dinwiddie\",\"Spencer Dinwiddie\",\"Joe Ingles\",\"JaKarr Sampson\",\"Glenn Robinson III\",\"Jordan Clarkson\",\"Dwight Powell\",\"Langston Galloway\",\"Langston Galloway\",\"Tyler Johnson\",\"JaMychal Green\",\"JaMychal Green\",\"Jahlil Okafor\",\"Willie Cauley-Stein\",\"Boban Marjanovic\",\"Montrezl Harrell\",\"Raul Neto\",\"Pat Connaughton\",\"Christian Wood\",\"Fred VanVleet\",\"Bryn Forbes\",\"Davis Bertans\",\"Patrick McCaw\",\"Quinn Cook\",\"Quinn Cook\",\"Quinn Cook\",\"Shaquille Harrison\",\"Edmond Sumner\",\"Torrey Craig\"],\"value\":[249,272,88,105,198,144,69,70,70,24,208,166,225,59,206,132,159,170,126,122,74,183,58,55,127,278,173,194,158,138,166,250,207,218,138,119,107,176,99,117,77,80,110,104,50,119,342,239,128,122,176,146,82,57,68,24,73,104,6,173,157,73,96,43,87,205,90,52,85,101,109,185,374,295,240,151,66,68,292,216,230,105,125,45,57,50,91,81,93,67,64,42,295,129,88,251,55,212,140,224,58,65,38,143,96,89,101,15,137,83,186,145,83,64,52,71,100,149,52,170,97,148,115,118,186,67,93,21,53,55,121,85,57,46,65,68,61,77,50,133,55,49,61,138,79,113,79,80,65,29,66,26,62,65,48,134,33,10,1,116,55,0,36,131,213,112,55,54,1,91,7,7,98,76,11,135,40,46,61,47,87,94,21,84,29,68,36,43,2,74,37,36,41,13,50,13,22,0,20]},\"selected\":{\"id\":\"9595\"},\"selection_policy\":{\"id\":\"9703\"}},\"id\":\"9594\",\"type\":\"ColumnDataSource\"},{\"attributes\":{\"data\":{\"Variable\":[\"DREB\",\"DREB\",\"DREB\",\"DREB\",\"DREB\",\"DREB\",\"DREB\",\"DREB\",\"DREB\",\"DREB\",\"DREB\",\"DREB\",\"DREB\",\"DREB\",\"DREB\",\"DREB\",\"DREB\",\"DREB\",\"DREB\",\"DREB\",\"DREB\",\"DREB\",\"DREB\",\"DREB\",\"DREB\",\"DREB\",\"DREB\",\"DREB\",\"DREB\",\"DREB\",\"DREB\",\"DREB\",\"DREB\",\"DREB\",\"DREB\",\"DREB\",\"DREB\",\"DREB\",\"DREB\",\"DREB\",\"DREB\",\"DREB\",\"DREB\",\"DREB\",\"DREB\",\"DREB\",\"DREB\",\"DREB\",\"DREB\",\"DREB\",\"DREB\",\"DREB\",\"DREB\",\"DREB\",\"DREB\",\"DREB\",\"DREB\",\"DREB\",\"DREB\",\"DREB\",\"DREB\",\"DREB\",\"DREB\",\"DREB\",\"DREB\",\"DREB\",\"DREB\",\"DREB\",\"DREB\",\"DREB\",\"DREB\",\"DREB\",\"DREB\",\"DREB\",\"DREB\",\"DREB\",\"DREB\",\"DREB\",\"DREB\",\"DREB\",\"DREB\",\"DREB\",\"DREB\",\"DREB\",\"DREB\",\"DREB\",\"DREB\",\"DREB\",\"DREB\",\"DREB\",\"DREB\",\"DREB\",\"DREB\",\"DREB\",\"DREB\",\"DREB\",\"DREB\",\"DREB\",\"DREB\",\"DREB\",\"DREB\",\"DREB\",\"DREB\",\"DREB\",\"DREB\",\"DREB\",\"DREB\",\"DREB\",\"DREB\",\"DREB\",\"DREB\",\"DREB\",\"DREB\",\"DREB\",\"DREB\",\"DREB\",\"DREB\",\"DREB\",\"DREB\",\"DREB\",\"DREB\",\"DREB\",\"DREB\",\"DREB\",\"DREB\",\"DREB\",\"DREB\",\"DREB\",\"DREB\",\"DREB\",\"DREB\",\"DREB\",\"DREB\",\"DREB\",\"DREB\",\"DREB\",\"DREB\",\"DREB\",\"DREB\",\"DREB\",\"DREB\",\"DREB\",\"DREB\",\"DREB\",\"DREB\",\"DREB\",\"DREB\",\"DREB\",\"DREB\",\"DREB\",\"DREB\",\"DREB\",\"DREB\",\"DREB\",\"DREB\",\"DREB\",\"DREB\",\"DREB\",\"DREB\",\"DREB\",\"DREB\",\"DREB\",\"DREB\",\"DREB\",\"DREB\",\"DREB\",\"DREB\",\"DREB\",\"DREB\",\"DREB\",\"DREB\",\"DREB\",\"DREB\",\"DREB\",\"DREB\",\"DREB\",\"DREB\",\"DREB\",\"DREB\",\"DREB\",\"DREB\",\"DREB\",\"DREB\",\"DREB\",\"DREB\",\"DREB\",\"DREB\",\"DREB\",\"DREB\",\"DREB\",\"DREB\",\"DREB\",\"DREB\",\"DREB\",\"DREB\",\"DREB\",\"DREB\",\"DREB\",\"DREB\"],\"player_name\":[\"LeBron James\",\"LeBron James\",\"Tyson Chandler\",\"Tyson Chandler\",\"Carmelo Anthony\",\"Carmelo Anthony\",\"Kyle Korver\",\"Kyle Korver\",\"Zaza Pachulia\",\"Udonis Haslem\",\"Dwight Howard\",\"Dwight Howard\",\"Dwight Howard\",\"Devin Harris\",\"Andre Iguodala\",\"Trevor Ariza\",\"Chris Paul\",\"Raymond Felton\",\"Jose Calderon\",\"LaMarcus Aldridge\",\"Rudy Gay\",\"Rudy Gay\",\"Thabo Sefolosha\",\"Thabo Sefolosha\",\"Rajon Rondo\",\"Rajon Rondo\",\"Kyle Lowry\",\"Kyle Lowry\",\"Paul Millsap\",\"Paul Millsap\",\"Paul Millsap\",\"Kevin Durant\",\"Kevin Durant\",\"Kevin Durant\",\"Kevin Durant\",\"Al Horford\",\"Al Horford\",\"Mike Conley\",\"Thaddeus Young\",\"Thaddeus Young\",\"Jared Dudley\",\"Jared Dudley\",\"Wilson Chandler\",\"Wilson Chandler\",\"Ian Mahinmi\",\"Derrick Rose\",\"Russell Westbrook\",\"Russell Westbrook\",\"Kevin Love\",\"Kevin Love\",\"Marc Gasol\",\"Marc Gasol\",\"Danilo Gallinari\",\"Danilo Gallinari\",\"Danilo Gallinari\",\"Eric Gordon\",\"Eric Gordon\",\"Brook Lopez\",\"Brook Lopez\",\"Goran Dragic\",\"Goran Dragic\",\"Robin Lopez\",\"Robin Lopez\",\"Robin Lopez\",\"JaVale McGee\",\"Nicolas Batum\",\"Nicolas Batum\",\"George Hill\",\"George Hill\",\"DeAndre Jordan\",\"DeAndre Jordan\",\"Blake Griffin\",\"James Harden\",\"James Harden\",\"Stephen Curry\",\"DeMar DeRozan\",\"James Johnson\",\"James Johnson\",\"Jrue Holiday\",\"Jeff Teague\",\"Jeff Teague\",\"Serge Ibaka\",\"Serge Ibaka\",\"Wayne Ellington\",\"Wayne Ellington\",\"Wayne Ellington\",\"Wesley Matthews\",\"Wesley Matthews\",\"Danny Green\",\"Danny Green\",\"Garrett Temple\",\"Garrett Temple\",\"John Wall\",\"Derrick Favors\",\"Derrick Favors\",\"DeMarcus Cousins\",\"Al-Farouq Aminu\",\"Gordon Hayward\",\"Gordon Hayward\",\"Paul George\",\"Ed Davis\",\"Patrick Patterson\",\"Patrick Patterson\",\"Eric Bledsoe\",\"Avery Bradley\",\"Avery Bradley\",\"Avery Bradley\",\"Quincy Pondexter\",\"Hassan Whiteside\",\"Patrick Beverley\",\"Kyrie Irving\",\"Enes Kanter\",\"Tristan Thompson\",\"Ricky Rubio\",\"Bismack Biyombo\",\"Bismack Biyombo\",\"Kemba Walker\",\"Klay Thompson\",\"Alec Burks\",\"Markieff Morris\",\"Kawhi Leonard\",\"Nikola Vucevic\",\"Tobias Harris\",\"Kenneth Faried\",\"Reggie Jackson\",\"Cory Joseph\",\"Jimmy Butler\",\"E'Twaun Moore\",\"E'Twaun Moore\",\"E'Twaun Moore\",\"Anthony Davis\",\"Jonas Valanciunas\",\"Harrison Barnes\",\"Terrence Ross\",\"Austin Rivers\",\"Austin Rivers\",\"Austin Rivers\",\"Meyers Leonard\",\"Jeremy Lamb\",\"Draymond Green\",\"Kyle O'Quinn\",\"Jae Crowder\",\"Will Barton\",\"Kent Bazemore\",\"Kent Bazemore\",\"Khris Middleton\",\"Mike Scott\",\"Aron Baynes\",\"Aron Baynes\",\"Justin Holiday\",\"Justin Holiday\",\"Nerlens Noel\",\"Ben McLemore\",\"Kentavious Caldwell-Pope\",\"Trey Burke\",\"Mason Plumlee\",\"Solomon Hill\",\"Reggie Bullock\",\"Robert Covington\",\"Matthew Dellavedova\",\"Mike Muscala\",\"Seth Curry\",\"Seth Curry\",\"Bojan Bogdanovic\",\"Julius Randle\",\"Elfrid Payton\",\"Rodney Hood\",\"Jerami Grant\",\"Joe Harris\",\"Joe Harris\",\"Spencer Dinwiddie\",\"Spencer Dinwiddie\",\"Joe Ingles\",\"JaKarr Sampson\",\"Glenn Robinson III\",\"Jordan Clarkson\",\"Dwight Powell\",\"Langston Galloway\",\"Langston Galloway\",\"Tyler Johnson\",\"JaMychal Green\",\"JaMychal Green\",\"Jahlil Okafor\",\"Willie Cauley-Stein\",\"Boban Marjanovic\",\"Montrezl Harrell\",\"Raul Neto\",\"Pat Connaughton\",\"Christian Wood\",\"Fred VanVleet\",\"Bryn Forbes\",\"Davis Bertans\",\"Patrick McCaw\",\"Quinn Cook\",\"Quinn Cook\",\"Quinn Cook\",\"Shaquille Harrison\",\"Edmond Sumner\",\"Torrey Craig\"],\"value\":[454,365,486,570,477,256,179,270,204,133,757,597,694,77,341,376,209,122,156,549,155,301,216,170,209,358,238,281,422,377,431,544,433,476,474,536,448,215,281,284,207,232,379,333,181,105,481,205,508,589,515,415,286,187,174,23,89,321,10,193,115,204,146,119,314,373,190,120,144,368,829,476,438,317,255,272,106,96,240,297,155,409,395,154,141,179,138,184,289,174,176,47,295,438,354,613,228,329,345,478,370,225,231,175,178,132,94,16,627,170,182,394,383,106,248,473,185,220,95,396,376,572,357,426,271,148,265,29,114,107,497,363,248,164,125,137,108,263,208,533,153,221,136,351,107,299,222,304,209,61,198,120,110,190,40,435,127,51,3,129,164,2,51,240,473,171,132,233,3,209,13,13,153,128,24,220,189,129,245,81,305,377,64,497,121,203,42,125,25,159,98,135,66,6,135,6,52,1,87]},\"selected\":{\"id\":\"9265\"},\"selection_policy\":{\"id\":\"9367\"}},\"id\":\"9264\",\"type\":\"ColumnDataSource\"},{\"attributes\":{},\"id\":\"6739\",\"type\":\"UnionRenderers\"},{\"attributes\":{\"label\":{\"value\":\"1011_salary_adjusted\"},\"renderers\":[{\"id\":\"6714\"}]},\"id\":\"6742\",\"type\":\"LegendItem\"},{\"attributes\":{\"data\":{\"Variable\":[\"1314_salary_adjusted\",\"1314_salary_adjusted\",\"1314_salary_adjusted\",\"1314_salary_adjusted\",\"1314_salary_adjusted\",\"1314_salary_adjusted\",\"1314_salary_adjusted\",\"1314_salary_adjusted\",\"1314_salary_adjusted\",\"1314_salary_adjusted\",\"1314_salary_adjusted\",\"1314_salary_adjusted\",\"1314_salary_adjusted\",\"1314_salary_adjusted\",\"1314_salary_adjusted\",\"1314_salary_adjusted\",\"1314_salary_adjusted\",\"1314_salary_adjusted\",\"1314_salary_adjusted\",\"1314_salary_adjusted\",\"1314_salary_adjusted\",\"1314_salary_adjusted\",\"1314_salary_adjusted\",\"1314_salary_adjusted\",\"1314_salary_adjusted\",\"1314_salary_adjusted\",\"1314_salary_adjusted\",\"1314_salary_adjusted\",\"1314_salary_adjusted\",\"1314_salary_adjusted\",\"1314_salary_adjusted\",\"1314_salary_adjusted\",\"1314_salary_adjusted\",\"1314_salary_adjusted\",\"1314_salary_adjusted\",\"1314_salary_adjusted\",\"1314_salary_adjusted\",\"1314_salary_adjusted\",\"1314_salary_adjusted\",\"1314_salary_adjusted\",\"1314_salary_adjusted\",\"1314_salary_adjusted\",\"1314_salary_adjusted\",\"1314_salary_adjusted\",\"1314_salary_adjusted\",\"1314_salary_adjusted\",\"1314_salary_adjusted\",\"1314_salary_adjusted\",\"1314_salary_adjusted\",\"1314_salary_adjusted\",\"1314_salary_adjusted\",\"1314_salary_adjusted\",\"1314_salary_adjusted\",\"1314_salary_adjusted\",\"1314_salary_adjusted\",\"1314_salary_adjusted\",\"1314_salary_adjusted\",\"1314_salary_adjusted\",\"1314_salary_adjusted\",\"1314_salary_adjusted\",\"1314_salary_adjusted\",\"1314_salary_adjusted\",\"1314_salary_adjusted\",\"1314_salary_adjusted\",\"1314_salary_adjusted\",\"1314_salary_adjusted\",\"1314_salary_adjusted\",\"1314_salary_adjusted\",\"1314_salary_adjusted\",\"1314_salary_adjusted\",\"1314_salary_adjusted\",\"1314_salary_adjusted\",\"1314_salary_adjusted\",\"1314_salary_adjusted\",\"1314_salary_adjusted\",\"1314_salary_adjusted\",\"1314_salary_adjusted\",\"1314_salary_adjusted\",\"1314_salary_adjusted\",\"1314_salary_adjusted\",\"1314_salary_adjusted\",\"1314_salary_adjusted\",\"1314_salary_adjusted\",\"1314_salary_adjusted\",\"1314_salary_adjusted\",\"1314_salary_adjusted\",\"1314_salary_adjusted\",\"1314_salary_adjusted\",\"1314_salary_adjusted\",\"1314_salary_adjusted\",\"1314_salary_adjusted\",\"1314_salary_adjusted\",\"1314_salary_adjusted\",\"1314_salary_adjusted\",\"1314_salary_adjusted\",\"1314_salary_adjusted\",\"1314_salary_adjusted\",\"1314_salary_adjusted\",\"1314_salary_adjusted\",\"1314_salary_adjusted\",\"1314_salary_adjusted\",\"1314_salary_adjusted\",\"1314_salary_adjusted\",\"1314_salary_adjusted\",\"1314_salary_adjusted\",\"1314_salary_adjusted\",\"1314_salary_adjusted\",\"1314_salary_adjusted\",\"1314_salary_adjusted\",\"1314_salary_adjusted\",\"1314_salary_adjusted\",\"1314_salary_adjusted\",\"1314_salary_adjusted\",\"1314_salary_adjusted\",\"1314_salary_adjusted\",\"1314_salary_adjusted\",\"1314_salary_adjusted\",\"1314_salary_adjusted\",\"1314_salary_adjusted\",\"1314_salary_adjusted\",\"1314_salary_adjusted\",\"1314_salary_adjusted\",\"1314_salary_adjusted\",\"1314_salary_adjusted\",\"1314_salary_adjusted\",\"1314_salary_adjusted\",\"1314_salary_adjusted\",\"1314_salary_adjusted\",\"1314_salary_adjusted\",\"1314_salary_adjusted\",\"1314_salary_adjusted\",\"1314_salary_adjusted\",\"1314_salary_adjusted\",\"1314_salary_adjusted\",\"1314_salary_adjusted\",\"1314_salary_adjusted\",\"1314_salary_adjusted\",\"1314_salary_adjusted\",\"1314_salary_adjusted\",\"1314_salary_adjusted\",\"1314_salary_adjusted\",\"1314_salary_adjusted\",\"1314_salary_adjusted\",\"1314_salary_adjusted\",\"1314_salary_adjusted\",\"1314_salary_adjusted\",\"1314_salary_adjusted\",\"1314_salary_adjusted\",\"1314_salary_adjusted\",\"1314_salary_adjusted\",\"1314_salary_adjusted\",\"1314_salary_adjusted\",\"1314_salary_adjusted\",\"1314_salary_adjusted\",\"1314_salary_adjusted\",\"1314_salary_adjusted\",\"1314_salary_adjusted\",\"1314_salary_adjusted\",\"1314_salary_adjusted\",\"1314_salary_adjusted\",\"1314_salary_adjusted\",\"1314_salary_adjusted\",\"1314_salary_adjusted\",\"1314_salary_adjusted\",\"1314_salary_adjusted\",\"1314_salary_adjusted\",\"1314_salary_adjusted\",\"1314_salary_adjusted\",\"1314_salary_adjusted\",\"1314_salary_adjusted\",\"1314_salary_adjusted\",\"1314_salary_adjusted\",\"1314_salary_adjusted\",\"1314_salary_adjusted\",\"1314_salary_adjusted\",\"1314_salary_adjusted\",\"1314_salary_adjusted\",\"1314_salary_adjusted\",\"1314_salary_adjusted\",\"1314_salary_adjusted\",\"1314_salary_adjusted\",\"1314_salary_adjusted\",\"1314_salary_adjusted\",\"1314_salary_adjusted\",\"1314_salary_adjusted\",\"1314_salary_adjusted\",\"1314_salary_adjusted\",\"1314_salary_adjusted\",\"1314_salary_adjusted\",\"1314_salary_adjusted\",\"1314_salary_adjusted\",\"1314_salary_adjusted\",\"1314_salary_adjusted\",\"1314_salary_adjusted\",\"1314_salary_adjusted\",\"1314_salary_adjusted\",\"1314_salary_adjusted\",\"1314_salary_adjusted\",\"1314_salary_adjusted\"],\"player_name\":[\"LeBron James\",\"LeBron James\",\"Tyson Chandler\",\"Tyson Chandler\",\"Carmelo Anthony\",\"Carmelo Anthony\",\"Kyle Korver\",\"Kyle Korver\",\"Zaza Pachulia\",\"Udonis Haslem\",\"Dwight Howard\",\"Dwight Howard\",\"Dwight Howard\",\"Devin Harris\",\"Andre Iguodala\",\"Trevor Ariza\",\"Chris Paul\",\"Raymond Felton\",\"Jose Calderon\",\"LaMarcus Aldridge\",\"Rudy Gay\",\"Rudy Gay\",\"Thabo Sefolosha\",\"Thabo Sefolosha\",\"Rajon Rondo\",\"Rajon Rondo\",\"Kyle Lowry\",\"Kyle Lowry\",\"Paul Millsap\",\"Paul Millsap\",\"Paul Millsap\",\"Kevin Durant\",\"Kevin Durant\",\"Kevin Durant\",\"Kevin Durant\",\"Al Horford\",\"Al Horford\",\"Mike Conley\",\"Thaddeus Young\",\"Thaddeus Young\",\"Jared Dudley\",\"Jared Dudley\",\"Wilson Chandler\",\"Wilson Chandler\",\"Ian Mahinmi\",\"Derrick Rose\",\"Russell Westbrook\",\"Russell Westbrook\",\"Kevin Love\",\"Kevin Love\",\"Marc Gasol\",\"Marc Gasol\",\"Danilo Gallinari\",\"Danilo Gallinari\",\"Danilo Gallinari\",\"Eric Gordon\",\"Eric Gordon\",\"Brook Lopez\",\"Brook Lopez\",\"Goran Dragic\",\"Goran Dragic\",\"Robin Lopez\",\"Robin Lopez\",\"Robin Lopez\",\"JaVale McGee\",\"Nicolas Batum\",\"Nicolas Batum\",\"George Hill\",\"George Hill\",\"DeAndre Jordan\",\"DeAndre Jordan\",\"Blake Griffin\",\"James Harden\",\"James Harden\",\"Stephen Curry\",\"DeMar DeRozan\",\"James Johnson\",\"James Johnson\",\"Jrue Holiday\",\"Jeff Teague\",\"Jeff Teague\",\"Serge Ibaka\",\"Serge Ibaka\",\"Wayne Ellington\",\"Wayne Ellington\",\"Wayne Ellington\",\"Wesley Matthews\",\"Wesley Matthews\",\"Danny Green\",\"Danny Green\",\"Garrett Temple\",\"Garrett Temple\",\"John Wall\",\"Derrick Favors\",\"Derrick Favors\",\"DeMarcus Cousins\",\"Al-Farouq Aminu\",\"Gordon Hayward\",\"Gordon Hayward\",\"Paul George\",\"Ed Davis\",\"Patrick Patterson\",\"Patrick Patterson\",\"Eric Bledsoe\",\"Avery Bradley\",\"Avery Bradley\",\"Avery Bradley\",\"Quincy Pondexter\",\"Hassan Whiteside\",\"Patrick Beverley\",\"Kyrie Irving\",\"Enes Kanter\",\"Tristan Thompson\",\"Ricky Rubio\",\"Bismack Biyombo\",\"Bismack Biyombo\",\"Kemba Walker\",\"Klay Thompson\",\"Alec Burks\",\"Markieff Morris\",\"Kawhi Leonard\",\"Nikola Vucevic\",\"Tobias Harris\",\"Kenneth Faried\",\"Reggie Jackson\",\"Cory Joseph\",\"Jimmy Butler\",\"E'Twaun Moore\",\"E'Twaun Moore\",\"E'Twaun Moore\",\"Anthony Davis\",\"Jonas Valanciunas\",\"Harrison Barnes\",\"Terrence Ross\",\"Austin Rivers\",\"Austin Rivers\",\"Austin Rivers\",\"Meyers Leonard\",\"Jeremy Lamb\",\"Draymond Green\",\"Kyle O'Quinn\",\"Jae Crowder\",\"Will Barton\",\"Kent Bazemore\",\"Kent Bazemore\",\"Khris Middleton\",\"Mike Scott\",\"Aron Baynes\",\"Aron Baynes\",\"Justin Holiday\",\"Justin Holiday\",\"Nerlens Noel\",\"Ben McLemore\",\"Kentavious Caldwell-Pope\",\"Trey Burke\",\"Mason Plumlee\",\"Solomon Hill\",\"Reggie Bullock\",\"Robert Covington\",\"Matthew Dellavedova\",\"Mike Muscala\",\"Seth Curry\",\"Seth Curry\",\"Bojan Bogdanovic\",\"Julius Randle\",\"Elfrid Payton\",\"Rodney Hood\",\"Jerami Grant\",\"Joe Harris\",\"Joe Harris\",\"Spencer Dinwiddie\",\"Spencer Dinwiddie\",\"Joe Ingles\",\"JaKarr Sampson\",\"Glenn Robinson III\",\"Jordan Clarkson\",\"Dwight Powell\",\"Langston Galloway\",\"Langston Galloway\",\"Tyler Johnson\",\"JaMychal Green\",\"JaMychal Green\",\"Jahlil Okafor\",\"Willie Cauley-Stein\",\"Boban Marjanovic\",\"Montrezl Harrell\",\"Raul Neto\",\"Pat Connaughton\",\"Christian Wood\",\"Fred VanVleet\",\"Bryn Forbes\",\"Davis Bertans\",\"Patrick McCaw\",\"Quinn Cook\",\"Quinn Cook\",\"Quinn Cook\",\"Shaquille Harrison\",\"Edmond Sumner\",\"Torrey Craig\"],\"value\":[24196202,24196202,17893246,17893246,27270296,27270296,8578993,8578993,6598675,5507356,26030733,26030733,26030733,1614491,16329986,9805733,23689793,5304320,8618340,17892563,22700627,22700627,4949006,4949006,15227713,15227713,7880341,7880341,12055273,12055273,12055273,23822712,23822712,23822712,23822712,15227713,15227713,10024911,10913194,10913194,5393148,5393148,8050592,8050592,5075904,22375460,18646215,18646215,18646215,18646215,18857648,18857648,12876205,12876205,12876205,18125856,18125856,18646335,18646335,9517320,9517320,6496854,6496854,6496854,13641493,13857536,13857536,10151808,10151808,13941669,13941669,20814380,17345317,17345317,12547181,12055273,643889,643889,13958737,10151808,10151808,15544957,15544957,3172440,3172440,3172440,8724819,8724819,4774522,4774522,1162507,1162507,9466465,7624143,7624143,6239521,4695211,4380737,4380737,4164783,4002173,3940552,3940552,3332931,3186947,3186947,3186947,2824078,0,1001059,7507110,6031849,5438273,5078594,4083159,4083159,3438569,4118019,2948085,2800681,2527495,2401258,2069446,1830980,1687382,1500691,1489879,1122146,1122146,1122146,6821711,4474968,3710384,3399130,2968185,2968185,2968185,2819867,2679011,1110988,1001059,1001059,1001059,967207,967207,1001059,1001059,1001059,1001059,0,0,4025598,3674904,3366695,3094728,1647943,1582007,1458053,622026,622026,204902,84155,84155,0,0,0,0,0,0,0,0,0,0,0,0,0,0,0,0,0,0,0,0,0,0,0,0,0,0,0,0,0,0,0,0,0,0,0,0]},\"selected\":{\"id\":\"6823\"},\"selection_policy\":{\"id\":\"6859\"}},\"id\":\"6822\",\"type\":\"ColumnDataSource\"},{\"attributes\":{\"data\":{\"Variable\":[\"1011_salary_adjusted\",\"1011_salary_adjusted\",\"1011_salary_adjusted\",\"1011_salary_adjusted\",\"1011_salary_adjusted\",\"1011_salary_adjusted\",\"1011_salary_adjusted\",\"1011_salary_adjusted\",\"1011_salary_adjusted\",\"1011_salary_adjusted\",\"1011_salary_adjusted\",\"1011_salary_adjusted\",\"1011_salary_adjusted\",\"1011_salary_adjusted\",\"1011_salary_adjusted\",\"1011_salary_adjusted\",\"1011_salary_adjusted\",\"1011_salary_adjusted\",\"1011_salary_adjusted\",\"1011_salary_adjusted\",\"1011_salary_adjusted\",\"1011_salary_adjusted\",\"1011_salary_adjusted\",\"1011_salary_adjusted\",\"1011_salary_adjusted\",\"1011_salary_adjusted\",\"1011_salary_adjusted\",\"1011_salary_adjusted\",\"1011_salary_adjusted\",\"1011_salary_adjusted\",\"1011_salary_adjusted\",\"1011_salary_adjusted\",\"1011_salary_adjusted\",\"1011_salary_adjusted\",\"1011_salary_adjusted\",\"1011_salary_adjusted\",\"1011_salary_adjusted\",\"1011_salary_adjusted\",\"1011_salary_adjusted\",\"1011_salary_adjusted\",\"1011_salary_adjusted\",\"1011_salary_adjusted\",\"1011_salary_adjusted\",\"1011_salary_adjusted\",\"1011_salary_adjusted\",\"1011_salary_adjusted\",\"1011_salary_adjusted\",\"1011_salary_adjusted\",\"1011_salary_adjusted\",\"1011_salary_adjusted\",\"1011_salary_adjusted\",\"1011_salary_adjusted\",\"1011_salary_adjusted\",\"1011_salary_adjusted\",\"1011_salary_adjusted\",\"1011_salary_adjusted\",\"1011_salary_adjusted\",\"1011_salary_adjusted\",\"1011_salary_adjusted\",\"1011_salary_adjusted\",\"1011_salary_adjusted\",\"1011_salary_adjusted\",\"1011_salary_adjusted\",\"1011_salary_adjusted\",\"1011_salary_adjusted\",\"1011_salary_adjusted\",\"1011_salary_adjusted\",\"1011_salary_adjusted\",\"1011_salary_adjusted\",\"1011_salary_adjusted\",\"1011_salary_adjusted\",\"1011_salary_adjusted\",\"1011_salary_adjusted\",\"1011_salary_adjusted\",\"1011_salary_adjusted\",\"1011_salary_adjusted\",\"1011_salary_adjusted\",\"1011_salary_adjusted\",\"1011_salary_adjusted\",\"1011_salary_adjusted\",\"1011_salary_adjusted\",\"1011_salary_adjusted\",\"1011_salary_adjusted\",\"1011_salary_adjusted\",\"1011_salary_adjusted\",\"1011_salary_adjusted\",\"1011_salary_adjusted\",\"1011_salary_adjusted\",\"1011_salary_adjusted\",\"1011_salary_adjusted\",\"1011_salary_adjusted\",\"1011_salary_adjusted\",\"1011_salary_adjusted\",\"1011_salary_adjusted\",\"1011_salary_adjusted\",\"1011_salary_adjusted\",\"1011_salary_adjusted\",\"1011_salary_adjusted\",\"1011_salary_adjusted\",\"1011_salary_adjusted\",\"1011_salary_adjusted\",\"1011_salary_adjusted\",\"1011_salary_adjusted\",\"1011_salary_adjusted\",\"1011_salary_adjusted\",\"1011_salary_adjusted\",\"1011_salary_adjusted\",\"1011_salary_adjusted\",\"1011_salary_adjusted\",\"1011_salary_adjusted\",\"1011_salary_adjusted\",\"1011_salary_adjusted\",\"1011_salary_adjusted\",\"1011_salary_adjusted\",\"1011_salary_adjusted\",\"1011_salary_adjusted\",\"1011_salary_adjusted\",\"1011_salary_adjusted\",\"1011_salary_adjusted\",\"1011_salary_adjusted\",\"1011_salary_adjusted\",\"1011_salary_adjusted\",\"1011_salary_adjusted\",\"1011_salary_adjusted\",\"1011_salary_adjusted\",\"1011_salary_adjusted\",\"1011_salary_adjusted\",\"1011_salary_adjusted\",\"1011_salary_adjusted\",\"1011_salary_adjusted\",\"1011_salary_adjusted\",\"1011_salary_adjusted\",\"1011_salary_adjusted\",\"1011_salary_adjusted\",\"1011_salary_adjusted\",\"1011_salary_adjusted\",\"1011_salary_adjusted\",\"1011_salary_adjusted\",\"1011_salary_adjusted\",\"1011_salary_adjusted\",\"1011_salary_adjusted\",\"1011_salary_adjusted\",\"1011_salary_adjusted\",\"1011_salary_adjusted\",\"1011_salary_adjusted\",\"1011_salary_adjusted\",\"1011_salary_adjusted\",\"1011_salary_adjusted\",\"1011_salary_adjusted\",\"1011_salary_adjusted\",\"1011_salary_adjusted\",\"1011_salary_adjusted\",\"1011_salary_adjusted\",\"1011_salary_adjusted\",\"1011_salary_adjusted\",\"1011_salary_adjusted\",\"1011_salary_adjusted\",\"1011_salary_adjusted\",\"1011_salary_adjusted\",\"1011_salary_adjusted\",\"1011_salary_adjusted\",\"1011_salary_adjusted\",\"1011_salary_adjusted\",\"1011_salary_adjusted\",\"1011_salary_adjusted\",\"1011_salary_adjusted\",\"1011_salary_adjusted\",\"1011_salary_adjusted\",\"1011_salary_adjusted\",\"1011_salary_adjusted\",\"1011_salary_adjusted\",\"1011_salary_adjusted\",\"1011_salary_adjusted\",\"1011_salary_adjusted\",\"1011_salary_adjusted\",\"1011_salary_adjusted\",\"1011_salary_adjusted\",\"1011_salary_adjusted\",\"1011_salary_adjusted\",\"1011_salary_adjusted\",\"1011_salary_adjusted\",\"1011_salary_adjusted\",\"1011_salary_adjusted\",\"1011_salary_adjusted\",\"1011_salary_adjusted\",\"1011_salary_adjusted\",\"1011_salary_adjusted\",\"1011_salary_adjusted\",\"1011_salary_adjusted\",\"1011_salary_adjusted\",\"1011_salary_adjusted\",\"1011_salary_adjusted\",\"1011_salary_adjusted\",\"1011_salary_adjusted\",\"1011_salary_adjusted\",\"1011_salary_adjusted\",\"1011_salary_adjusted\",\"1011_salary_adjusted\",\"1011_salary_adjusted\"],\"player_name\":[\"LeBron James\",\"LeBron James\",\"Tyson Chandler\",\"Tyson Chandler\",\"Carmelo Anthony\",\"Carmelo Anthony\",\"Kyle Korver\",\"Kyle Korver\",\"Zaza Pachulia\",\"Udonis Haslem\",\"Dwight Howard\",\"Dwight Howard\",\"Dwight Howard\",\"Devin Harris\",\"Andre Iguodala\",\"Trevor Ariza\",\"Chris Paul\",\"Raymond Felton\",\"Jose Calderon\",\"LaMarcus Aldridge\",\"Rudy Gay\",\"Rudy Gay\",\"Thabo Sefolosha\",\"Thabo Sefolosha\",\"Rajon Rondo\",\"Rajon Rondo\",\"Kyle Lowry\",\"Kyle Lowry\",\"Paul Millsap\",\"Paul Millsap\",\"Paul Millsap\",\"Kevin Durant\",\"Kevin Durant\",\"Kevin Durant\",\"Kevin Durant\",\"Al Horford\",\"Al Horford\",\"Mike Conley\",\"Thaddeus Young\",\"Thaddeus Young\",\"Jared Dudley\",\"Jared Dudley\",\"Wilson Chandler\",\"Wilson Chandler\",\"Ian Mahinmi\",\"Derrick Rose\",\"Russell Westbrook\",\"Russell Westbrook\",\"Kevin Love\",\"Kevin Love\",\"Marc Gasol\",\"Marc Gasol\",\"Danilo Gallinari\",\"Danilo Gallinari\",\"Danilo Gallinari\",\"Eric Gordon\",\"Eric Gordon\",\"Brook Lopez\",\"Brook Lopez\",\"Goran Dragic\",\"Goran Dragic\",\"Robin Lopez\",\"Robin Lopez\",\"Robin Lopez\",\"JaVale McGee\",\"Nicolas Batum\",\"Nicolas Batum\",\"George Hill\",\"George Hill\",\"DeAndre Jordan\",\"DeAndre Jordan\",\"Blake Griffin\",\"James Harden\",\"James Harden\",\"Stephen Curry\",\"DeMar DeRozan\",\"James Johnson\",\"James Johnson\",\"Jrue Holiday\",\"Jeff Teague\",\"Jeff Teague\",\"Serge Ibaka\",\"Serge Ibaka\",\"Wayne Ellington\",\"Wayne Ellington\",\"Wayne Ellington\",\"Wesley Matthews\",\"Wesley Matthews\",\"Danny Green\",\"Danny Green\",\"Garrett Temple\",\"Garrett Temple\",\"John Wall\",\"Derrick Favors\",\"Derrick Favors\",\"DeMarcus Cousins\",\"Al-Farouq Aminu\",\"Gordon Hayward\",\"Gordon Hayward\",\"Paul George\",\"Ed Davis\",\"Patrick Patterson\",\"Patrick Patterson\",\"Eric Bledsoe\",\"Avery Bradley\",\"Avery Bradley\",\"Avery Bradley\",\"Quincy Pondexter\",\"Hassan Whiteside\",\"Patrick Beverley\",\"Kyrie Irving\",\"Enes Kanter\",\"Tristan Thompson\",\"Ricky Rubio\",\"Bismack Biyombo\",\"Bismack Biyombo\",\"Kemba Walker\",\"Klay Thompson\",\"Alec Burks\",\"Markieff Morris\",\"Kawhi Leonard\",\"Nikola Vucevic\",\"Tobias Harris\",\"Kenneth Faried\",\"Reggie Jackson\",\"Cory Joseph\",\"Jimmy Butler\",\"E'Twaun Moore\",\"E'Twaun Moore\",\"E'Twaun Moore\",\"Anthony Davis\",\"Jonas Valanciunas\",\"Harrison Barnes\",\"Terrence Ross\",\"Austin Rivers\",\"Austin Rivers\",\"Austin Rivers\",\"Meyers Leonard\",\"Jeremy Lamb\",\"Draymond Green\",\"Kyle O'Quinn\",\"Jae Crowder\",\"Will Barton\",\"Kent Bazemore\",\"Kent Bazemore\",\"Khris Middleton\",\"Mike Scott\",\"Aron Baynes\",\"Aron Baynes\",\"Justin Holiday\",\"Justin Holiday\",\"Nerlens Noel\",\"Ben McLemore\",\"Kentavious Caldwell-Pope\",\"Trey Burke\",\"Mason Plumlee\",\"Solomon Hill\",\"Reggie Bullock\",\"Robert Covington\",\"Matthew Dellavedova\",\"Mike Muscala\",\"Seth Curry\",\"Seth Curry\",\"Bojan Bogdanovic\",\"Julius Randle\",\"Elfrid Payton\",\"Rodney Hood\",\"Jerami Grant\",\"Joe Harris\",\"Joe Harris\",\"Spencer Dinwiddie\",\"Spencer Dinwiddie\",\"Joe Ingles\",\"JaKarr Sampson\",\"Glenn Robinson III\",\"Jordan Clarkson\",\"Dwight Powell\",\"Langston Galloway\",\"Langston Galloway\",\"Tyler Johnson\",\"JaMychal Green\",\"JaMychal Green\",\"Jahlil Okafor\",\"Willie Cauley-Stein\",\"Boban Marjanovic\",\"Montrezl Harrell\",\"Raul Neto\",\"Pat Connaughton\",\"Christian Wood\",\"Fred VanVleet\",\"Bryn Forbes\",\"Davis Bertans\",\"Patrick McCaw\",\"Quinn Cook\",\"Quinn Cook\",\"Quinn Cook\",\"Shaquille Harrison\",\"Edmond Sumner\",\"Torrey Craig\"],\"value\":[19711923,19711923,17128982,17128982,23313418,23313418,6797215,6797215,5779332,4758050,22630892,22630892,22630892,12209157,16782664,8594833,20310286,10195822,12234987,15285577,18493523,18493523,4418189,4418189,12358575,12358575,7816797,7816797,10331767,10331767,10331767,8229609,8229609,8229609,8229609,7401972,7401972,6678953,3944071,3944071,2924254,2924254,2896268,2896268,1036162,7539688,5461861,5461861,4946034,4946034,4730861,4730861,4492361,4492361,4492361,4101004,4101004,3280771,3280771,2680821,2680821,2538515,2538515,2538515,2176522,1626927,1626927,1573093,1573093,1161493,1161493,7282916,5851749,5851749,3961199,3335910,2329541,2329541,2213064,2007679,2007679,1637041,1637041,1466567,1466567,1466567,7837189,7837189,127996,127996,231612,231612,6993355,5618958,5618958,4587630,3484687,3203282,3203282,3042922,2608988,2478645,2478645,2018772,1927907,1927907,1927907,1459063,992987,643837,0,0,0,0,0,0,0,0,0,0,0,0,0,0,0,0,0,0,0,0,0,0,0,0,0,0,0,0,0,0,0,0,0,0,0,0,0,0,0,0,0,0,0,0,0,0,0,0,0,0,0,0,0,0,0,0,0,0,0,0,0,0,0,0,0,0,0,0,0,0,0,0,0,0,0,0,0,0,0,0,0,0,0,0,0,0,0,0,0]},\"selected\":{\"id\":\"6709\"},\"selection_policy\":{\"id\":\"6739\"}},\"id\":\"6708\",\"type\":\"ColumnDataSource\"},{\"attributes\":{\"click_policy\":\"mute\",\"coordinates\":null,\"group\":null,\"items\":[{\"id\":\"6510\"},{\"id\":\"6532\"},{\"id\":\"6556\"},{\"id\":\"6582\"},{\"id\":\"6610\"},{\"id\":\"6640\"},{\"id\":\"6672\"},{\"id\":\"6706\"},{\"id\":\"6742\"},{\"id\":\"6780\"},{\"id\":\"6820\"},{\"id\":\"6862\"},{\"id\":\"6906\"},{\"id\":\"6952\"},{\"id\":\"7000\"},{\"id\":\"7050\"},{\"id\":\"7102\"},{\"id\":\"7156\"},{\"id\":\"7212\"},{\"id\":\"7270\"},{\"id\":\"7330\"},{\"id\":\"7392\"},{\"id\":\"7456\"},{\"id\":\"7522\"},{\"id\":\"7590\"},{\"id\":\"7660\"},{\"id\":\"7732\"},{\"id\":\"7806\"},{\"id\":\"7882\"},{\"id\":\"7960\"},{\"id\":\"8040\"},{\"id\":\"8122\"},{\"id\":\"8206\"},{\"id\":\"8292\"},{\"id\":\"8380\"},{\"id\":\"8470\"},{\"id\":\"8562\"},{\"id\":\"8656\"},{\"id\":\"8752\"},{\"id\":\"8850\"},{\"id\":\"8950\"},{\"id\":\"9052\"},{\"id\":\"9156\"},{\"id\":\"9262\"},{\"id\":\"9370\"},{\"id\":\"9480\"},{\"id\":\"9592\"},{\"id\":\"9706\"},{\"id\":\"9822\"},{\"id\":\"9940\"},{\"id\":\"10060\"},{\"id\":\"10182\"}],\"location\":[0,0],\"title\":\"Variable\"},\"id\":\"6509\",\"type\":\"Legend\"},{\"attributes\":{},\"id\":\"6777\",\"type\":\"UnionRenderers\"},{\"attributes\":{\"source\":{\"id\":\"9264\"}},\"id\":\"9271\",\"type\":\"CDSView\"},{\"attributes\":{},\"id\":\"9265\",\"type\":\"Selection\"},{\"attributes\":{\"data\":{\"Variable\":[\"0304_salary_adjusted\",\"0304_salary_adjusted\",\"0304_salary_adjusted\",\"0304_salary_adjusted\",\"0304_salary_adjusted\",\"0304_salary_adjusted\",\"0304_salary_adjusted\",\"0304_salary_adjusted\",\"0304_salary_adjusted\",\"0304_salary_adjusted\",\"0304_salary_adjusted\",\"0304_salary_adjusted\",\"0304_salary_adjusted\",\"0304_salary_adjusted\",\"0304_salary_adjusted\",\"0304_salary_adjusted\",\"0304_salary_adjusted\",\"0304_salary_adjusted\",\"0304_salary_adjusted\",\"0304_salary_adjusted\",\"0304_salary_adjusted\",\"0304_salary_adjusted\",\"0304_salary_adjusted\",\"0304_salary_adjusted\",\"0304_salary_adjusted\",\"0304_salary_adjusted\",\"0304_salary_adjusted\",\"0304_salary_adjusted\",\"0304_salary_adjusted\",\"0304_salary_adjusted\",\"0304_salary_adjusted\",\"0304_salary_adjusted\",\"0304_salary_adjusted\",\"0304_salary_adjusted\",\"0304_salary_adjusted\",\"0304_salary_adjusted\",\"0304_salary_adjusted\",\"0304_salary_adjusted\",\"0304_salary_adjusted\",\"0304_salary_adjusted\",\"0304_salary_adjusted\",\"0304_salary_adjusted\",\"0304_salary_adjusted\",\"0304_salary_adjusted\",\"0304_salary_adjusted\",\"0304_salary_adjusted\",\"0304_salary_adjusted\",\"0304_salary_adjusted\",\"0304_salary_adjusted\",\"0304_salary_adjusted\",\"0304_salary_adjusted\",\"0304_salary_adjusted\",\"0304_salary_adjusted\",\"0304_salary_adjusted\",\"0304_salary_adjusted\",\"0304_salary_adjusted\",\"0304_salary_adjusted\",\"0304_salary_adjusted\",\"0304_salary_adjusted\",\"0304_salary_adjusted\",\"0304_salary_adjusted\",\"0304_salary_adjusted\",\"0304_salary_adjusted\",\"0304_salary_adjusted\",\"0304_salary_adjusted\",\"0304_salary_adjusted\",\"0304_salary_adjusted\",\"0304_salary_adjusted\",\"0304_salary_adjusted\",\"0304_salary_adjusted\",\"0304_salary_adjusted\",\"0304_salary_adjusted\",\"0304_salary_adjusted\",\"0304_salary_adjusted\",\"0304_salary_adjusted\",\"0304_salary_adjusted\",\"0304_salary_adjusted\",\"0304_salary_adjusted\",\"0304_salary_adjusted\",\"0304_salary_adjusted\",\"0304_salary_adjusted\",\"0304_salary_adjusted\",\"0304_salary_adjusted\",\"0304_salary_adjusted\",\"0304_salary_adjusted\",\"0304_salary_adjusted\",\"0304_salary_adjusted\",\"0304_salary_adjusted\",\"0304_salary_adjusted\",\"0304_salary_adjusted\",\"0304_salary_adjusted\",\"0304_salary_adjusted\",\"0304_salary_adjusted\",\"0304_salary_adjusted\",\"0304_salary_adjusted\",\"0304_salary_adjusted\",\"0304_salary_adjusted\",\"0304_salary_adjusted\",\"0304_salary_adjusted\",\"0304_salary_adjusted\",\"0304_salary_adjusted\",\"0304_salary_adjusted\",\"0304_salary_adjusted\",\"0304_salary_adjusted\",\"0304_salary_adjusted\",\"0304_salary_adjusted\",\"0304_salary_adjusted\",\"0304_salary_adjusted\",\"0304_salary_adjusted\",\"0304_salary_adjusted\",\"0304_salary_adjusted\",\"0304_salary_adjusted\",\"0304_salary_adjusted\",\"0304_salary_adjusted\",\"0304_salary_adjusted\",\"0304_salary_adjusted\",\"0304_salary_adjusted\",\"0304_salary_adjusted\",\"0304_salary_adjusted\",\"0304_salary_adjusted\",\"0304_salary_adjusted\",\"0304_salary_adjusted\",\"0304_salary_adjusted\",\"0304_salary_adjusted\",\"0304_salary_adjusted\",\"0304_salary_adjusted\",\"0304_salary_adjusted\",\"0304_salary_adjusted\",\"0304_salary_adjusted\",\"0304_salary_adjusted\",\"0304_salary_adjusted\",\"0304_salary_adjusted\",\"0304_salary_adjusted\",\"0304_salary_adjusted\",\"0304_salary_adjusted\",\"0304_salary_adjusted\",\"0304_salary_adjusted\",\"0304_salary_adjusted\",\"0304_salary_adjusted\",\"0304_salary_adjusted\",\"0304_salary_adjusted\",\"0304_salary_adjusted\",\"0304_salary_adjusted\",\"0304_salary_adjusted\",\"0304_salary_adjusted\",\"0304_salary_adjusted\",\"0304_salary_adjusted\",\"0304_salary_adjusted\",\"0304_salary_adjusted\",\"0304_salary_adjusted\",\"0304_salary_adjusted\",\"0304_salary_adjusted\",\"0304_salary_adjusted\",\"0304_salary_adjusted\",\"0304_salary_adjusted\",\"0304_salary_adjusted\",\"0304_salary_adjusted\",\"0304_salary_adjusted\",\"0304_salary_adjusted\",\"0304_salary_adjusted\",\"0304_salary_adjusted\",\"0304_salary_adjusted\",\"0304_salary_adjusted\",\"0304_salary_adjusted\",\"0304_salary_adjusted\",\"0304_salary_adjusted\",\"0304_salary_adjusted\",\"0304_salary_adjusted\",\"0304_salary_adjusted\",\"0304_salary_adjusted\",\"0304_salary_adjusted\",\"0304_salary_adjusted\",\"0304_salary_adjusted\",\"0304_salary_adjusted\",\"0304_salary_adjusted\",\"0304_salary_adjusted\",\"0304_salary_adjusted\",\"0304_salary_adjusted\",\"0304_salary_adjusted\",\"0304_salary_adjusted\",\"0304_salary_adjusted\",\"0304_salary_adjusted\",\"0304_salary_adjusted\",\"0304_salary_adjusted\",\"0304_salary_adjusted\",\"0304_salary_adjusted\",\"0304_salary_adjusted\",\"0304_salary_adjusted\",\"0304_salary_adjusted\",\"0304_salary_adjusted\",\"0304_salary_adjusted\",\"0304_salary_adjusted\",\"0304_salary_adjusted\",\"0304_salary_adjusted\",\"0304_salary_adjusted\",\"0304_salary_adjusted\",\"0304_salary_adjusted\",\"0304_salary_adjusted\",\"0304_salary_adjusted\"],\"player_name\":[\"LeBron James\",\"LeBron James\",\"Tyson Chandler\",\"Tyson Chandler\",\"Carmelo Anthony\",\"Carmelo Anthony\",\"Kyle Korver\",\"Kyle Korver\",\"Zaza Pachulia\",\"Udonis Haslem\",\"Dwight Howard\",\"Dwight Howard\",\"Dwight Howard\",\"Devin Harris\",\"Andre Iguodala\",\"Trevor Ariza\",\"Chris Paul\",\"Raymond Felton\",\"Jose Calderon\",\"LaMarcus Aldridge\",\"Rudy Gay\",\"Rudy Gay\",\"Thabo Sefolosha\",\"Thabo Sefolosha\",\"Rajon Rondo\",\"Rajon Rondo\",\"Kyle Lowry\",\"Kyle Lowry\",\"Paul Millsap\",\"Paul Millsap\",\"Paul Millsap\",\"Kevin Durant\",\"Kevin Durant\",\"Kevin Durant\",\"Kevin Durant\",\"Al Horford\",\"Al Horford\",\"Mike Conley\",\"Thaddeus Young\",\"Thaddeus Young\",\"Jared Dudley\",\"Jared Dudley\",\"Wilson Chandler\",\"Wilson Chandler\",\"Ian Mahinmi\",\"Derrick Rose\",\"Russell Westbrook\",\"Russell Westbrook\",\"Kevin Love\",\"Kevin Love\",\"Marc Gasol\",\"Marc Gasol\",\"Danilo Gallinari\",\"Danilo Gallinari\",\"Danilo Gallinari\",\"Eric Gordon\",\"Eric Gordon\",\"Brook Lopez\",\"Brook Lopez\",\"Goran Dragic\",\"Goran Dragic\",\"Robin Lopez\",\"Robin Lopez\",\"Robin Lopez\",\"JaVale McGee\",\"Nicolas Batum\",\"Nicolas Batum\",\"George Hill\",\"George Hill\",\"DeAndre Jordan\",\"DeAndre Jordan\",\"Blake Griffin\",\"James Harden\",\"James Harden\",\"Stephen Curry\",\"DeMar DeRozan\",\"James Johnson\",\"James Johnson\",\"Jrue Holiday\",\"Jeff Teague\",\"Jeff Teague\",\"Serge Ibaka\",\"Serge Ibaka\",\"Wayne Ellington\",\"Wayne Ellington\",\"Wayne Ellington\",\"Wesley Matthews\",\"Wesley Matthews\",\"Danny Green\",\"Danny Green\",\"Garrett Temple\",\"Garrett Temple\",\"John Wall\",\"Derrick Favors\",\"Derrick Favors\",\"DeMarcus Cousins\",\"Al-Farouq Aminu\",\"Gordon Hayward\",\"Gordon Hayward\",\"Paul George\",\"Ed Davis\",\"Patrick Patterson\",\"Patrick Patterson\",\"Eric Bledsoe\",\"Avery Bradley\",\"Avery Bradley\",\"Avery Bradley\",\"Quincy Pondexter\",\"Hassan Whiteside\",\"Patrick Beverley\",\"Kyrie Irving\",\"Enes Kanter\",\"Tristan Thompson\",\"Ricky Rubio\",\"Bismack Biyombo\",\"Bismack Biyombo\",\"Kemba Walker\",\"Klay Thompson\",\"Alec Burks\",\"Markieff Morris\",\"Kawhi Leonard\",\"Nikola Vucevic\",\"Tobias Harris\",\"Kenneth Faried\",\"Reggie Jackson\",\"Cory Joseph\",\"Jimmy Butler\",\"E'Twaun Moore\",\"E'Twaun Moore\",\"E'Twaun Moore\",\"Anthony Davis\",\"Jonas Valanciunas\",\"Harrison Barnes\",\"Terrence Ross\",\"Austin Rivers\",\"Austin Rivers\",\"Austin Rivers\",\"Meyers Leonard\",\"Jeremy Lamb\",\"Draymond Green\",\"Kyle O'Quinn\",\"Jae Crowder\",\"Will Barton\",\"Kent Bazemore\",\"Kent Bazemore\",\"Khris Middleton\",\"Mike Scott\",\"Aron Baynes\",\"Aron Baynes\",\"Justin Holiday\",\"Justin Holiday\",\"Nerlens Noel\",\"Ben McLemore\",\"Kentavious Caldwell-Pope\",\"Trey Burke\",\"Mason Plumlee\",\"Solomon Hill\",\"Reggie Bullock\",\"Robert Covington\",\"Matthew Dellavedova\",\"Mike Muscala\",\"Seth Curry\",\"Seth Curry\",\"Bojan Bogdanovic\",\"Julius Randle\",\"Elfrid Payton\",\"Rodney Hood\",\"Jerami Grant\",\"Joe Harris\",\"Joe Harris\",\"Spencer Dinwiddie\",\"Spencer Dinwiddie\",\"Joe Ingles\",\"JaKarr Sampson\",\"Glenn Robinson III\",\"Jordan Clarkson\",\"Dwight Powell\",\"Langston Galloway\",\"Langston Galloway\",\"Tyler Johnson\",\"JaMychal Green\",\"JaMychal Green\",\"Jahlil Okafor\",\"Willie Cauley-Stein\",\"Boban Marjanovic\",\"Montrezl Harrell\",\"Raul Neto\",\"Pat Connaughton\",\"Christian Wood\",\"Fred VanVleet\",\"Bryn Forbes\",\"Davis Bertans\",\"Patrick McCaw\",\"Quinn Cook\",\"Quinn Cook\",\"Quinn Cook\",\"Shaquille Harrison\",\"Edmond Sumner\",\"Torrey Craig\"],\"value\":[6482581,6482581,6136492,6136492,5208750,5208750,591865,591865,591865,591865,0,0,0,0,0,0,0,0,0,0,0,0,0,0,0,0,0,0,0,0,0,0,0,0,0,0,0,0,0,0,0,0,0,0,0,0,0,0,0,0,0,0,0,0,0,0,0,0,0,0,0,0,0,0,0,0,0,0,0,0,0,0,0,0,0,0,0,0,0,0,0,0,0,0,0,0,0,0,0,0,0,0,0,0,0,0,0,0,0,0,0,0,0,0,0,0,0,0,0,0,0,0,0,0,0,0,0,0,0,0,0,0,0,0,0,0,0,0,0,0,0,0,0,0,0,0,0,0,0,0,0,0,0,0,0,0,0,0,0,0,0,0,0,0,0,0,0,0,0,0,0,0,0,0,0,0,0,0,0,0,0,0,0,0,0,0,0,0,0,0,0,0,0,0,0,0,0,0,0,0,0,0,0,0,0,0,0,0,0]},\"selected\":{\"id\":\"6513\"},\"selection_policy\":{\"id\":\"6529\"}},\"id\":\"6512\",\"type\":\"ColumnDataSource\"},{\"attributes\":{\"source\":{\"id\":\"6708\"}},\"id\":\"6715\",\"type\":\"CDSView\"},{\"attributes\":{},\"id\":\"6709\",\"type\":\"Selection\"},{\"attributes\":{\"below\":[{\"id\":\"6465\"}],\"center\":[{\"id\":\"6467\"},{\"id\":\"6471\"}],\"height\":400,\"left\":[{\"id\":\"6468\"}],\"margin\":[5,5,5,5],\"min_border_bottom\":10,\"min_border_left\":10,\"min_border_right\":10,\"min_border_top\":10,\"renderers\":[{\"id\":\"6497\"},{\"id\":\"6518\"},{\"id\":\"6540\"},{\"id\":\"6564\"},{\"id\":\"6590\"},{\"id\":\"6618\"},{\"id\":\"6648\"},{\"id\":\"6680\"},{\"id\":\"6714\"},{\"id\":\"6750\"},{\"id\":\"6788\"},{\"id\":\"6828\"},{\"id\":\"6870\"},{\"id\":\"6914\"},{\"id\":\"6960\"},{\"id\":\"7008\"},{\"id\":\"7058\"},{\"id\":\"7110\"},{\"id\":\"7164\"},{\"id\":\"7220\"},{\"id\":\"7278\"},{\"id\":\"7338\"},{\"id\":\"7400\"},{\"id\":\"7464\"},{\"id\":\"7530\"},{\"id\":\"7598\"},{\"id\":\"7668\"},{\"id\":\"7740\"},{\"id\":\"7814\"},{\"id\":\"7890\"},{\"id\":\"7968\"},{\"id\":\"8048\"},{\"id\":\"8130\"},{\"id\":\"8214\"},{\"id\":\"8300\"},{\"id\":\"8388\"},{\"id\":\"8478\"},{\"id\":\"8570\"},{\"id\":\"8664\"},{\"id\":\"8760\"},{\"id\":\"8858\"},{\"id\":\"8958\"},{\"id\":\"9060\"},{\"id\":\"9164\"},{\"id\":\"9270\"},{\"id\":\"9378\"},{\"id\":\"9488\"},{\"id\":\"9600\"},{\"id\":\"9714\"},{\"id\":\"9830\"},{\"id\":\"9948\"},{\"id\":\"10068\"}],\"right\":[{\"id\":\"6509\"}],\"sizing_mode\":\"fixed\",\"title\":{\"id\":\"6457\"},\"toolbar\":{\"id\":\"6478\"},\"width\":800,\"x_range\":{\"id\":\"6402\"},\"x_scale\":{\"id\":\"6461\"},\"y_range\":{\"id\":\"6403\"},\"y_scale\":{\"id\":\"6463\"}},\"id\":\"6456\",\"subtype\":\"Figure\",\"type\":\"Plot\"},{\"attributes\":{\"data\":{\"Variable\":[\"REB\",\"REB\",\"REB\",\"REB\",\"REB\",\"REB\",\"REB\",\"REB\",\"REB\",\"REB\",\"REB\",\"REB\",\"REB\",\"REB\",\"REB\",\"REB\",\"REB\",\"REB\",\"REB\",\"REB\",\"REB\",\"REB\",\"REB\",\"REB\",\"REB\",\"REB\",\"REB\",\"REB\",\"REB\",\"REB\",\"REB\",\"REB\",\"REB\",\"REB\",\"REB\",\"REB\",\"REB\",\"REB\",\"REB\",\"REB\",\"REB\",\"REB\",\"REB\",\"REB\",\"REB\",\"REB\",\"REB\",\"REB\",\"REB\",\"REB\",\"REB\",\"REB\",\"REB\",\"REB\",\"REB\",\"REB\",\"REB\",\"REB\",\"REB\",\"REB\",\"REB\",\"REB\",\"REB\",\"REB\",\"REB\",\"REB\",\"REB\",\"REB\",\"REB\",\"REB\",\"REB\",\"REB\",\"REB\",\"REB\",\"REB\",\"REB\",\"REB\",\"REB\",\"REB\",\"REB\",\"REB\",\"REB\",\"REB\",\"REB\",\"REB\",\"REB\",\"REB\",\"REB\",\"REB\",\"REB\",\"REB\",\"REB\",\"REB\",\"REB\",\"REB\",\"REB\",\"REB\",\"REB\",\"REB\",\"REB\",\"REB\",\"REB\",\"REB\",\"REB\",\"REB\",\"REB\",\"REB\",\"REB\",\"REB\",\"REB\",\"REB\",\"REB\",\"REB\",\"REB\",\"REB\",\"REB\",\"REB\",\"REB\",\"REB\",\"REB\",\"REB\",\"REB\",\"REB\",\"REB\",\"REB\",\"REB\",\"REB\",\"REB\",\"REB\",\"REB\",\"REB\",\"REB\",\"REB\",\"REB\",\"REB\",\"REB\",\"REB\",\"REB\",\"REB\",\"REB\",\"REB\",\"REB\",\"REB\",\"REB\",\"REB\",\"REB\",\"REB\",\"REB\",\"REB\",\"REB\",\"REB\",\"REB\",\"REB\",\"REB\",\"REB\",\"REB\",\"REB\",\"REB\",\"REB\",\"REB\",\"REB\",\"REB\",\"REB\",\"REB\",\"REB\",\"REB\",\"REB\",\"REB\",\"REB\",\"REB\",\"REB\",\"REB\",\"REB\",\"REB\",\"REB\",\"REB\",\"REB\",\"REB\",\"REB\",\"REB\",\"REB\",\"REB\",\"REB\",\"REB\",\"REB\",\"REB\",\"REB\",\"REB\",\"REB\",\"REB\",\"REB\",\"REB\",\"REB\",\"REB\",\"REB\",\"REB\",\"REB\",\"REB\",\"REB\"],\"player_name\":[\"LeBron James\",\"LeBron James\",\"Tyson Chandler\",\"Tyson Chandler\",\"Carmelo Anthony\",\"Carmelo Anthony\",\"Kyle Korver\",\"Kyle Korver\",\"Zaza Pachulia\",\"Udonis Haslem\",\"Dwight Howard\",\"Dwight Howard\",\"Dwight Howard\",\"Devin Harris\",\"Andre Iguodala\",\"Trevor Ariza\",\"Chris Paul\",\"Raymond Felton\",\"Jose Calderon\",\"LaMarcus Aldridge\",\"Rudy Gay\",\"Rudy Gay\",\"Thabo Sefolosha\",\"Thabo Sefolosha\",\"Rajon Rondo\",\"Rajon Rondo\",\"Kyle Lowry\",\"Kyle Lowry\",\"Paul Millsap\",\"Paul Millsap\",\"Paul Millsap\",\"Kevin Durant\",\"Kevin Durant\",\"Kevin Durant\",\"Kevin Durant\",\"Al Horford\",\"Al Horford\",\"Mike Conley\",\"Thaddeus Young\",\"Thaddeus Young\",\"Jared Dudley\",\"Jared Dudley\",\"Wilson Chandler\",\"Wilson Chandler\",\"Ian Mahinmi\",\"Derrick Rose\",\"Russell Westbrook\",\"Russell Westbrook\",\"Kevin Love\",\"Kevin Love\",\"Marc Gasol\",\"Marc Gasol\",\"Danilo Gallinari\",\"Danilo Gallinari\",\"Danilo Gallinari\",\"Eric Gordon\",\"Eric Gordon\",\"Brook Lopez\",\"Brook Lopez\",\"Goran Dragic\",\"Goran Dragic\",\"Robin Lopez\",\"Robin Lopez\",\"Robin Lopez\",\"JaVale McGee\",\"Nicolas Batum\",\"Nicolas Batum\",\"George Hill\",\"George Hill\",\"DeAndre Jordan\",\"DeAndre Jordan\",\"Blake Griffin\",\"James Harden\",\"James Harden\",\"Stephen Curry\",\"DeMar DeRozan\",\"James Johnson\",\"James Johnson\",\"Jrue Holiday\",\"Jeff Teague\",\"Jeff Teague\",\"Serge Ibaka\",\"Serge Ibaka\",\"Wayne Ellington\",\"Wayne Ellington\",\"Wayne Ellington\",\"Wesley Matthews\",\"Wesley Matthews\",\"Danny Green\",\"Danny Green\",\"Garrett Temple\",\"Garrett Temple\",\"John Wall\",\"Derrick Favors\",\"Derrick Favors\",\"DeMarcus Cousins\",\"Al-Farouq Aminu\",\"Gordon Hayward\",\"Gordon Hayward\",\"Paul George\",\"Ed Davis\",\"Patrick Patterson\",\"Patrick Patterson\",\"Eric Bledsoe\",\"Avery Bradley\",\"Avery Bradley\",\"Avery Bradley\",\"Quincy Pondexter\",\"Hassan Whiteside\",\"Patrick Beverley\",\"Kyrie Irving\",\"Enes Kanter\",\"Tristan Thompson\",\"Ricky Rubio\",\"Bismack Biyombo\",\"Bismack Biyombo\",\"Kemba Walker\",\"Klay Thompson\",\"Alec Burks\",\"Markieff Morris\",\"Kawhi Leonard\",\"Nikola Vucevic\",\"Tobias Harris\",\"Kenneth Faried\",\"Reggie Jackson\",\"Cory Joseph\",\"Jimmy Butler\",\"E'Twaun Moore\",\"E'Twaun Moore\",\"E'Twaun Moore\",\"Anthony Davis\",\"Jonas Valanciunas\",\"Harrison Barnes\",\"Terrence Ross\",\"Austin Rivers\",\"Austin Rivers\",\"Austin Rivers\",\"Meyers Leonard\",\"Jeremy Lamb\",\"Draymond Green\",\"Kyle O'Quinn\",\"Jae Crowder\",\"Will Barton\",\"Kent Bazemore\",\"Kent Bazemore\",\"Khris Middleton\",\"Mike Scott\",\"Aron Baynes\",\"Aron Baynes\",\"Justin Holiday\",\"Justin Holiday\",\"Nerlens Noel\",\"Ben McLemore\",\"Kentavious Caldwell-Pope\",\"Trey Burke\",\"Mason Plumlee\",\"Solomon Hill\",\"Reggie Bullock\",\"Robert Covington\",\"Matthew Dellavedova\",\"Mike Muscala\",\"Seth Curry\",\"Seth Curry\",\"Bojan Bogdanovic\",\"Julius Randle\",\"Elfrid Payton\",\"Rodney Hood\",\"Jerami Grant\",\"Joe Harris\",\"Joe Harris\",\"Spencer Dinwiddie\",\"Spencer Dinwiddie\",\"Joe Ingles\",\"JaKarr Sampson\",\"Glenn Robinson III\",\"Jordan Clarkson\",\"Dwight Powell\",\"Langston Galloway\",\"Langston Galloway\",\"Tyler Johnson\",\"JaMychal Green\",\"JaMychal Green\",\"Jahlil Okafor\",\"Willie Cauley-Stein\",\"Boban Marjanovic\",\"Montrezl Harrell\",\"Raul Neto\",\"Pat Connaughton\",\"Christian Wood\",\"Fred VanVleet\",\"Bryn Forbes\",\"Davis Bertans\",\"Patrick McCaw\",\"Quinn Cook\",\"Quinn Cook\",\"Quinn Cook\",\"Shaquille Harrison\",\"Edmond Sumner\",\"Torrey Craig\"],\"value\":[565,416,692,864,622,344,186,293,336,175,1012,835,945,85,423,475,262,149,176,726,190,399,270,220,243,435,286,369,533,554,570,589,464,533,513,718,596,247,434,411,318,286,475,408,289,131,626,301,734,731,630,569,325,218,202,25,99,535,18,274,168,394,286,209,477,428,271,151,167,575,1226,662,501,379,314,320,166,145,329,330,180,538,617,174,166,210,170,222,343,228,212,68,333,637,552,831,342,391,394,542,600,342,293,202,226,175,116,26,865,237,237,671,657,125,407,655,220,247,114,506,461,810,430,668,327,192,379,33,133,136,627,547,325,185,152,162,130,314,252,647,199,293,162,379,117,347,284,434,318,73,225,168,129,238,47,605,166,64,5,162,240,2,60,277,654,220,157,319,3,260,17,17,175,163,39,313,273,156,288,109,409,544,85,678,194,306,49,161,38,184,110,153,82,7,157,7,61,1,127]},\"selected\":{\"id\":\"9373\"},\"selection_policy\":{\"id\":\"9477\"}},\"id\":\"9372\",\"type\":\"ColumnDataSource\"},{\"attributes\":{\"end\":68434676.3,\"reset_end\":68434676.3,\"reset_start\":-6222019.300000001,\"start\":-6222019.300000001,\"tags\":[[[\"value\",\"value\",null]]]},\"id\":\"6403\",\"type\":\"Range1d\"},{\"attributes\":{\"line_color\":\"#1f77b4\",\"line_width\":2,\"x\":{\"field\":\"player_name\"},\"y\":{\"field\":\"value\"}},\"id\":\"9371\",\"type\":\"Line\"},{\"attributes\":{\"data\":{\"Variable\":[\"1112_salary_adjusted\",\"1112_salary_adjusted\",\"1112_salary_adjusted\",\"1112_salary_adjusted\",\"1112_salary_adjusted\",\"1112_salary_adjusted\",\"1112_salary_adjusted\",\"1112_salary_adjusted\",\"1112_salary_adjusted\",\"1112_salary_adjusted\",\"1112_salary_adjusted\",\"1112_salary_adjusted\",\"1112_salary_adjusted\",\"1112_salary_adjusted\",\"1112_salary_adjusted\",\"1112_salary_adjusted\",\"1112_salary_adjusted\",\"1112_salary_adjusted\",\"1112_salary_adjusted\",\"1112_salary_adjusted\",\"1112_salary_adjusted\",\"1112_salary_adjusted\",\"1112_salary_adjusted\",\"1112_salary_adjusted\",\"1112_salary_adjusted\",\"1112_salary_adjusted\",\"1112_salary_adjusted\",\"1112_salary_adjusted\",\"1112_salary_adjusted\",\"1112_salary_adjusted\",\"1112_salary_adjusted\",\"1112_salary_adjusted\",\"1112_salary_adjusted\",\"1112_salary_adjusted\",\"1112_salary_adjusted\",\"1112_salary_adjusted\",\"1112_salary_adjusted\",\"1112_salary_adjusted\",\"1112_salary_adjusted\",\"1112_salary_adjusted\",\"1112_salary_adjusted\",\"1112_salary_adjusted\",\"1112_salary_adjusted\",\"1112_salary_adjusted\",\"1112_salary_adjusted\",\"1112_salary_adjusted\",\"1112_salary_adjusted\",\"1112_salary_adjusted\",\"1112_salary_adjusted\",\"1112_salary_adjusted\",\"1112_salary_adjusted\",\"1112_salary_adjusted\",\"1112_salary_adjusted\",\"1112_salary_adjusted\",\"1112_salary_adjusted\",\"1112_salary_adjusted\",\"1112_salary_adjusted\",\"1112_salary_adjusted\",\"1112_salary_adjusted\",\"1112_salary_adjusted\",\"1112_salary_adjusted\",\"1112_salary_adjusted\",\"1112_salary_adjusted\",\"1112_salary_adjusted\",\"1112_salary_adjusted\",\"1112_salary_adjusted\",\"1112_salary_adjusted\",\"1112_salary_adjusted\",\"1112_salary_adjusted\",\"1112_salary_adjusted\",\"1112_salary_adjusted\",\"1112_salary_adjusted\",\"1112_salary_adjusted\",\"1112_salary_adjusted\",\"1112_salary_adjusted\",\"1112_salary_adjusted\",\"1112_salary_adjusted\",\"1112_salary_adjusted\",\"1112_salary_adjusted\",\"1112_salary_adjusted\",\"1112_salary_adjusted\",\"1112_salary_adjusted\",\"1112_salary_adjusted\",\"1112_salary_adjusted\",\"1112_salary_adjusted\",\"1112_salary_adjusted\",\"1112_salary_adjusted\",\"1112_salary_adjusted\",\"1112_salary_adjusted\",\"1112_salary_adjusted\",\"1112_salary_adjusted\",\"1112_salary_adjusted\",\"1112_salary_adjusted\",\"1112_salary_adjusted\",\"1112_salary_adjusted\",\"1112_salary_adjusted\",\"1112_salary_adjusted\",\"1112_salary_adjusted\",\"1112_salary_adjusted\",\"1112_salary_adjusted\",\"1112_salary_adjusted\",\"1112_salary_adjusted\",\"1112_salary_adjusted\",\"1112_salary_adjusted\",\"1112_salary_adjusted\",\"1112_salary_adjusted\",\"1112_salary_adjusted\",\"1112_salary_adjusted\",\"1112_salary_adjusted\",\"1112_salary_adjusted\",\"1112_salary_adjusted\",\"1112_salary_adjusted\",\"1112_salary_adjusted\",\"1112_salary_adjusted\",\"1112_salary_adjusted\",\"1112_salary_adjusted\",\"1112_salary_adjusted\",\"1112_salary_adjusted\",\"1112_salary_adjusted\",\"1112_salary_adjusted\",\"1112_salary_adjusted\",\"1112_salary_adjusted\",\"1112_salary_adjusted\",\"1112_salary_adjusted\",\"1112_salary_adjusted\",\"1112_salary_adjusted\",\"1112_salary_adjusted\",\"1112_salary_adjusted\",\"1112_salary_adjusted\",\"1112_salary_adjusted\",\"1112_salary_adjusted\",\"1112_salary_adjusted\",\"1112_salary_adjusted\",\"1112_salary_adjusted\",\"1112_salary_adjusted\",\"1112_salary_adjusted\",\"1112_salary_adjusted\",\"1112_salary_adjusted\",\"1112_salary_adjusted\",\"1112_salary_adjusted\",\"1112_salary_adjusted\",\"1112_salary_adjusted\",\"1112_salary_adjusted\",\"1112_salary_adjusted\",\"1112_salary_adjusted\",\"1112_salary_adjusted\",\"1112_salary_adjusted\",\"1112_salary_adjusted\",\"1112_salary_adjusted\",\"1112_salary_adjusted\",\"1112_salary_adjusted\",\"1112_salary_adjusted\",\"1112_salary_adjusted\",\"1112_salary_adjusted\",\"1112_salary_adjusted\",\"1112_salary_adjusted\",\"1112_salary_adjusted\",\"1112_salary_adjusted\",\"1112_salary_adjusted\",\"1112_salary_adjusted\",\"1112_salary_adjusted\",\"1112_salary_adjusted\",\"1112_salary_adjusted\",\"1112_salary_adjusted\",\"1112_salary_adjusted\",\"1112_salary_adjusted\",\"1112_salary_adjusted\",\"1112_salary_adjusted\",\"1112_salary_adjusted\",\"1112_salary_adjusted\",\"1112_salary_adjusted\",\"1112_salary_adjusted\",\"1112_salary_adjusted\",\"1112_salary_adjusted\",\"1112_salary_adjusted\",\"1112_salary_adjusted\",\"1112_salary_adjusted\",\"1112_salary_adjusted\",\"1112_salary_adjusted\",\"1112_salary_adjusted\",\"1112_salary_adjusted\",\"1112_salary_adjusted\",\"1112_salary_adjusted\",\"1112_salary_adjusted\",\"1112_salary_adjusted\",\"1112_salary_adjusted\",\"1112_salary_adjusted\",\"1112_salary_adjusted\",\"1112_salary_adjusted\",\"1112_salary_adjusted\",\"1112_salary_adjusted\",\"1112_salary_adjusted\",\"1112_salary_adjusted\",\"1112_salary_adjusted\",\"1112_salary_adjusted\",\"1112_salary_adjusted\",\"1112_salary_adjusted\",\"1112_salary_adjusted\",\"1112_salary_adjusted\"],\"player_name\":[\"LeBron James\",\"LeBron James\",\"Tyson Chandler\",\"Tyson Chandler\",\"Carmelo Anthony\",\"Carmelo Anthony\",\"Kyle Korver\",\"Kyle Korver\",\"Zaza Pachulia\",\"Udonis Haslem\",\"Dwight Howard\",\"Dwight Howard\",\"Dwight Howard\",\"Devin Harris\",\"Andre Iguodala\",\"Trevor Ariza\",\"Chris Paul\",\"Raymond Felton\",\"Jose Calderon\",\"LaMarcus Aldridge\",\"Rudy Gay\",\"Rudy Gay\",\"Thabo Sefolosha\",\"Thabo Sefolosha\",\"Rajon Rondo\",\"Rajon Rondo\",\"Kyle Lowry\",\"Kyle Lowry\",\"Paul Millsap\",\"Paul Millsap\",\"Paul Millsap\",\"Kevin Durant\",\"Kevin Durant\",\"Kevin Durant\",\"Kevin Durant\",\"Al Horford\",\"Al Horford\",\"Mike Conley\",\"Thaddeus Young\",\"Thaddeus Young\",\"Jared Dudley\",\"Jared Dudley\",\"Wilson Chandler\",\"Wilson Chandler\",\"Ian Mahinmi\",\"Derrick Rose\",\"Russell Westbrook\",\"Russell Westbrook\",\"Kevin Love\",\"Kevin Love\",\"Marc Gasol\",\"Marc Gasol\",\"Danilo Gallinari\",\"Danilo Gallinari\",\"Danilo Gallinari\",\"Eric Gordon\",\"Eric Gordon\",\"Brook Lopez\",\"Brook Lopez\",\"Goran Dragic\",\"Goran Dragic\",\"Robin Lopez\",\"Robin Lopez\",\"Robin Lopez\",\"JaVale McGee\",\"Nicolas Batum\",\"Nicolas Batum\",\"George Hill\",\"George Hill\",\"DeAndre Jordan\",\"DeAndre Jordan\",\"Blake Griffin\",\"James Harden\",\"James Harden\",\"Stephen Curry\",\"DeMar DeRozan\",\"James Johnson\",\"James Johnson\",\"Jrue Holiday\",\"Jeff Teague\",\"Jeff Teague\",\"Serge Ibaka\",\"Serge Ibaka\",\"Wayne Ellington\",\"Wayne Ellington\",\"Wayne Ellington\",\"Wesley Matthews\",\"Wesley Matthews\",\"Danny Green\",\"Danny Green\",\"Garrett Temple\",\"Garrett Temple\",\"John Wall\",\"Derrick Favors\",\"Derrick Favors\",\"DeMarcus Cousins\",\"Al-Farouq Aminu\",\"Gordon Hayward\",\"Gordon Hayward\",\"Paul George\",\"Ed Davis\",\"Patrick Patterson\",\"Patrick Patterson\",\"Eric Bledsoe\",\"Avery Bradley\",\"Avery Bradley\",\"Avery Bradley\",\"Quincy Pondexter\",\"Hassan Whiteside\",\"Patrick Beverley\",\"Kyrie Irving\",\"Enes Kanter\",\"Tristan Thompson\",\"Ricky Rubio\",\"Bismack Biyombo\",\"Bismack Biyombo\",\"Kemba Walker\",\"Klay Thompson\",\"Alec Burks\",\"Markieff Morris\",\"Kawhi Leonard\",\"Nikola Vucevic\",\"Tobias Harris\",\"Kenneth Faried\",\"Reggie Jackson\",\"Cory Joseph\",\"Jimmy Butler\",\"E'Twaun Moore\",\"E'Twaun Moore\",\"E'Twaun Moore\",\"Anthony Davis\",\"Jonas Valanciunas\",\"Harrison Barnes\",\"Terrence Ross\",\"Austin Rivers\",\"Austin Rivers\",\"Austin Rivers\",\"Meyers Leonard\",\"Jeremy Lamb\",\"Draymond Green\",\"Kyle O'Quinn\",\"Jae Crowder\",\"Will Barton\",\"Kent Bazemore\",\"Kent Bazemore\",\"Khris Middleton\",\"Mike Scott\",\"Aron Baynes\",\"Aron Baynes\",\"Justin Holiday\",\"Justin Holiday\",\"Nerlens Noel\",\"Ben McLemore\",\"Kentavious Caldwell-Pope\",\"Trey Burke\",\"Mason Plumlee\",\"Solomon Hill\",\"Reggie Bullock\",\"Robert Covington\",\"Matthew Dellavedova\",\"Mike Muscala\",\"Seth Curry\",\"Seth Curry\",\"Bojan Bogdanovic\",\"Julius Randle\",\"Elfrid Payton\",\"Rodney Hood\",\"Jerami Grant\",\"Joe Harris\",\"Joe Harris\",\"Spencer Dinwiddie\",\"Spencer Dinwiddie\",\"Joe Ingles\",\"JaKarr Sampson\",\"Glenn Robinson III\",\"Jordan Clarkson\",\"Dwight Powell\",\"Langston Galloway\",\"Langston Galloway\",\"Tyler Johnson\",\"JaMychal Green\",\"JaMychal Green\",\"Jahlil Okafor\",\"Willie Cauley-Stein\",\"Boban Marjanovic\",\"Montrezl Harrell\",\"Raul Neto\",\"Pat Connaughton\",\"Christian Wood\",\"Fred VanVleet\",\"Bryn Forbes\",\"Davis Bertans\",\"Patrick McCaw\",\"Quinn Cook\",\"Quinn Cook\",\"Quinn Cook\",\"Shaquille Harrison\",\"Edmond Sumner\",\"Torrey Craig\"],\"value\":[21033142,21033142,17206990,17206990,24309802,24309802,6563626,6563626,6235445,4962101,23749525,23749525,23749525,12233287,17763471,8914245,21475931,9924203,12839756,16241038,19733077,19733077,4331993,4331993,13186923,13186923,7548170,7548170,10637584,10637584,10637584,20355949,20355949,20355949,20355949,15752704,15752704,8679177,9816903,9816903,5579082,5579082,0,0,1202262,9180818,6671816,6671816,6051271,6051271,16963292,16963292,5500558,5500558,5500558,5029292,5029292,4039233,4039233,2767225,2767225,3757810,3757810,3757810,3232454,2829402,2829402,2738817,2738817,13231489,13231489,7523334,6044785,6044785,4091922,3445904,2406383,2406383,2286032,2074001,2074001,1691052,1691052,1514937,1514937,1514937,8053780,8053780,1121578,1121578,0,0,7259476,5832911,5832911,4762200,3617293,3325080,3325080,3158732,2708204,2572889,2572889,2095582,2001223,2001223,2001223,1514622,1000552,0,6753026,5425861,4892002,4568441,3673058,3673058,3093201,2791536,2651967,2519330,2273587,2159958,1861654,1647102,1517930,1350006,1340240,621711,621711,621711,0,0,0,0,0,0,0,0,0,0,0,0,0,0,0,0,0,0,0,0,0,0,0,0,0,0,0,0,0,0,0,0,0,0,0,0,0,0,0,0,0,0,0,0,0,0,0,0,0,0,0,0,0,0,0,0,0,0,0,0,0,0,0,0,0,0,0,0,0]},\"selected\":{\"id\":\"6745\"},\"selection_policy\":{\"id\":\"6777\"}},\"id\":\"6744\",\"type\":\"ColumnDataSource\"},{\"attributes\":{\"line_color\":\"#e377c2\",\"line_width\":2,\"x\":{\"field\":\"player_name\"},\"y\":{\"field\":\"value\"}},\"id\":\"9375\",\"type\":\"Line\"},{\"attributes\":{\"callback\":null,\"renderers\":[{\"id\":\"6497\"},{\"id\":\"6518\"},{\"id\":\"6540\"},{\"id\":\"6564\"},{\"id\":\"6590\"},{\"id\":\"6618\"},{\"id\":\"6648\"},{\"id\":\"6680\"},{\"id\":\"6714\"},{\"id\":\"6750\"},{\"id\":\"6788\"},{\"id\":\"6828\"},{\"id\":\"6870\"},{\"id\":\"6914\"},{\"id\":\"6960\"},{\"id\":\"7008\"},{\"id\":\"7058\"},{\"id\":\"7110\"},{\"id\":\"7164\"},{\"id\":\"7220\"},{\"id\":\"7278\"},{\"id\":\"7338\"},{\"id\":\"7400\"},{\"id\":\"7464\"},{\"id\":\"7530\"},{\"id\":\"7598\"},{\"id\":\"7668\"},{\"id\":\"7740\"},{\"id\":\"7814\"},{\"id\":\"7890\"},{\"id\":\"7968\"},{\"id\":\"8048\"},{\"id\":\"8130\"},{\"id\":\"8214\"},{\"id\":\"8300\"},{\"id\":\"8388\"},{\"id\":\"8478\"},{\"id\":\"8570\"},{\"id\":\"8664\"},{\"id\":\"8760\"},{\"id\":\"8858\"},{\"id\":\"8958\"},{\"id\":\"9060\"},{\"id\":\"9164\"},{\"id\":\"9270\"},{\"id\":\"9378\"},{\"id\":\"9488\"},{\"id\":\"9600\"},{\"id\":\"9714\"},{\"id\":\"9830\"},{\"id\":\"9948\"},{\"id\":\"10068\"}],\"tags\":[\"hv_created\"],\"tooltips\":[[\"Variable\",\"@{Variable}\"],[\"player_name\",\"@{player_name}\"],[\"value\",\"@{value}\"]]},\"id\":\"6404\",\"type\":\"HoverTool\"},{\"attributes\":{\"line_color\":\"#1f77b4\",\"line_width\":2,\"x\":{\"field\":\"player_name\"},\"y\":{\"field\":\"value\"}},\"id\":\"6743\",\"type\":\"Line\"},{\"attributes\":{\"data\":{\"Variable\":[\"1415_salary_adjusted\",\"1415_salary_adjusted\",\"1415_salary_adjusted\",\"1415_salary_adjusted\",\"1415_salary_adjusted\",\"1415_salary_adjusted\",\"1415_salary_adjusted\",\"1415_salary_adjusted\",\"1415_salary_adjusted\",\"1415_salary_adjusted\",\"1415_salary_adjusted\",\"1415_salary_adjusted\",\"1415_salary_adjusted\",\"1415_salary_adjusted\",\"1415_salary_adjusted\",\"1415_salary_adjusted\",\"1415_salary_adjusted\",\"1415_salary_adjusted\",\"1415_salary_adjusted\",\"1415_salary_adjusted\",\"1415_salary_adjusted\",\"1415_salary_adjusted\",\"1415_salary_adjusted\",\"1415_salary_adjusted\",\"1415_salary_adjusted\",\"1415_salary_adjusted\",\"1415_salary_adjusted\",\"1415_salary_adjusted\",\"1415_salary_adjusted\",\"1415_salary_adjusted\",\"1415_salary_adjusted\",\"1415_salary_adjusted\",\"1415_salary_adjusted\",\"1415_salary_adjusted\",\"1415_salary_adjusted\",\"1415_salary_adjusted\",\"1415_salary_adjusted\",\"1415_salary_adjusted\",\"1415_salary_adjusted\",\"1415_salary_adjusted\",\"1415_salary_adjusted\",\"1415_salary_adjusted\",\"1415_salary_adjusted\",\"1415_salary_adjusted\",\"1415_salary_adjusted\",\"1415_salary_adjusted\",\"1415_salary_adjusted\",\"1415_salary_adjusted\",\"1415_salary_adjusted\",\"1415_salary_adjusted\",\"1415_salary_adjusted\",\"1415_salary_adjusted\",\"1415_salary_adjusted\",\"1415_salary_adjusted\",\"1415_salary_adjusted\",\"1415_salary_adjusted\",\"1415_salary_adjusted\",\"1415_salary_adjusted\",\"1415_salary_adjusted\",\"1415_salary_adjusted\",\"1415_salary_adjusted\",\"1415_salary_adjusted\",\"1415_salary_adjusted\",\"1415_salary_adjusted\",\"1415_salary_adjusted\",\"1415_salary_adjusted\",\"1415_salary_adjusted\",\"1415_salary_adjusted\",\"1415_salary_adjusted\",\"1415_salary_adjusted\",\"1415_salary_adjusted\",\"1415_salary_adjusted\",\"1415_salary_adjusted\",\"1415_salary_adjusted\",\"1415_salary_adjusted\",\"1415_salary_adjusted\",\"1415_salary_adjusted\",\"1415_salary_adjusted\",\"1415_salary_adjusted\",\"1415_salary_adjusted\",\"1415_salary_adjusted\",\"1415_salary_adjusted\",\"1415_salary_adjusted\",\"1415_salary_adjusted\",\"1415_salary_adjusted\",\"1415_salary_adjusted\",\"1415_salary_adjusted\",\"1415_salary_adjusted\",\"1415_salary_adjusted\",\"1415_salary_adjusted\",\"1415_salary_adjusted\",\"1415_salary_adjusted\",\"1415_salary_adjusted\",\"1415_salary_adjusted\",\"1415_salary_adjusted\",\"1415_salary_adjusted\",\"1415_salary_adjusted\",\"1415_salary_adjusted\",\"1415_salary_adjusted\",\"1415_salary_adjusted\",\"1415_salary_adjusted\",\"1415_salary_adjusted\",\"1415_salary_adjusted\",\"1415_salary_adjusted\",\"1415_salary_adjusted\",\"1415_salary_adjusted\",\"1415_salary_adjusted\",\"1415_salary_adjusted\",\"1415_salary_adjusted\",\"1415_salary_adjusted\",\"1415_salary_adjusted\",\"1415_salary_adjusted\",\"1415_salary_adjusted\",\"1415_salary_adjusted\",\"1415_salary_adjusted\",\"1415_salary_adjusted\",\"1415_salary_adjusted\",\"1415_salary_adjusted\",\"1415_salary_adjusted\",\"1415_salary_adjusted\",\"1415_salary_adjusted\",\"1415_salary_adjusted\",\"1415_salary_adjusted\",\"1415_salary_adjusted\",\"1415_salary_adjusted\",\"1415_salary_adjusted\",\"1415_salary_adjusted\",\"1415_salary_adjusted\",\"1415_salary_adjusted\",\"1415_salary_adjusted\",\"1415_salary_adjusted\",\"1415_salary_adjusted\",\"1415_salary_adjusted\",\"1415_salary_adjusted\",\"1415_salary_adjusted\",\"1415_salary_adjusted\",\"1415_salary_adjusted\",\"1415_salary_adjusted\",\"1415_salary_adjusted\",\"1415_salary_adjusted\",\"1415_salary_adjusted\",\"1415_salary_adjusted\",\"1415_salary_adjusted\",\"1415_salary_adjusted\",\"1415_salary_adjusted\",\"1415_salary_adjusted\",\"1415_salary_adjusted\",\"1415_salary_adjusted\",\"1415_salary_adjusted\",\"1415_salary_adjusted\",\"1415_salary_adjusted\",\"1415_salary_adjusted\",\"1415_salary_adjusted\",\"1415_salary_adjusted\",\"1415_salary_adjusted\",\"1415_salary_adjusted\",\"1415_salary_adjusted\",\"1415_salary_adjusted\",\"1415_salary_adjusted\",\"1415_salary_adjusted\",\"1415_salary_adjusted\",\"1415_salary_adjusted\",\"1415_salary_adjusted\",\"1415_salary_adjusted\",\"1415_salary_adjusted\",\"1415_salary_adjusted\",\"1415_salary_adjusted\",\"1415_salary_adjusted\",\"1415_salary_adjusted\",\"1415_salary_adjusted\",\"1415_salary_adjusted\",\"1415_salary_adjusted\",\"1415_salary_adjusted\",\"1415_salary_adjusted\",\"1415_salary_adjusted\",\"1415_salary_adjusted\",\"1415_salary_adjusted\",\"1415_salary_adjusted\",\"1415_salary_adjusted\",\"1415_salary_adjusted\",\"1415_salary_adjusted\",\"1415_salary_adjusted\",\"1415_salary_adjusted\",\"1415_salary_adjusted\",\"1415_salary_adjusted\",\"1415_salary_adjusted\",\"1415_salary_adjusted\",\"1415_salary_adjusted\",\"1415_salary_adjusted\",\"1415_salary_adjusted\",\"1415_salary_adjusted\",\"1415_salary_adjusted\",\"1415_salary_adjusted\",\"1415_salary_adjusted\",\"1415_salary_adjusted\",\"1415_salary_adjusted\",\"1415_salary_adjusted\",\"1415_salary_adjusted\",\"1415_salary_adjusted\"],\"player_name\":[\"LeBron James\",\"LeBron James\",\"Tyson Chandler\",\"Tyson Chandler\",\"Carmelo Anthony\",\"Carmelo Anthony\",\"Kyle Korver\",\"Kyle Korver\",\"Zaza Pachulia\",\"Udonis Haslem\",\"Dwight Howard\",\"Dwight Howard\",\"Dwight Howard\",\"Devin Harris\",\"Andre Iguodala\",\"Trevor Ariza\",\"Chris Paul\",\"Raymond Felton\",\"Jose Calderon\",\"LaMarcus Aldridge\",\"Rudy Gay\",\"Rudy Gay\",\"Thabo Sefolosha\",\"Thabo Sefolosha\",\"Rajon Rondo\",\"Rajon Rondo\",\"Kyle Lowry\",\"Kyle Lowry\",\"Paul Millsap\",\"Paul Millsap\",\"Paul Millsap\",\"Kevin Durant\",\"Kevin Durant\",\"Kevin Durant\",\"Kevin Durant\",\"Al Horford\",\"Al Horford\",\"Mike Conley\",\"Thaddeus Young\",\"Thaddeus Young\",\"Jared Dudley\",\"Jared Dudley\",\"Wilson Chandler\",\"Wilson Chandler\",\"Ian Mahinmi\",\"Derrick Rose\",\"Russell Westbrook\",\"Russell Westbrook\",\"Kevin Love\",\"Kevin Love\",\"Marc Gasol\",\"Marc Gasol\",\"Danilo Gallinari\",\"Danilo Gallinari\",\"Danilo Gallinari\",\"Eric Gordon\",\"Eric Gordon\",\"Brook Lopez\",\"Brook Lopez\",\"Goran Dragic\",\"Goran Dragic\",\"Robin Lopez\",\"Robin Lopez\",\"Robin Lopez\",\"JaVale McGee\",\"Nicolas Batum\",\"Nicolas Batum\",\"George Hill\",\"George Hill\",\"DeAndre Jordan\",\"DeAndre Jordan\",\"Blake Griffin\",\"James Harden\",\"James Harden\",\"Stephen Curry\",\"DeMar DeRozan\",\"James Johnson\",\"James Johnson\",\"Jrue Holiday\",\"Jeff Teague\",\"Jeff Teague\",\"Serge Ibaka\",\"Serge Ibaka\",\"Wayne Ellington\",\"Wayne Ellington\",\"Wayne Ellington\",\"Wesley Matthews\",\"Wesley Matthews\",\"Danny Green\",\"Danny Green\",\"Garrett Temple\",\"Garrett Temple\",\"John Wall\",\"Derrick Favors\",\"Derrick Favors\",\"DeMarcus Cousins\",\"Al-Farouq Aminu\",\"Gordon Hayward\",\"Gordon Hayward\",\"Paul George\",\"Ed Davis\",\"Patrick Patterson\",\"Patrick Patterson\",\"Eric Bledsoe\",\"Avery Bradley\",\"Avery Bradley\",\"Avery Bradley\",\"Quincy Pondexter\",\"Hassan Whiteside\",\"Patrick Beverley\",\"Kyrie Irving\",\"Enes Kanter\",\"Tristan Thompson\",\"Ricky Rubio\",\"Bismack Biyombo\",\"Bismack Biyombo\",\"Kemba Walker\",\"Klay Thompson\",\"Alec Burks\",\"Markieff Morris\",\"Kawhi Leonard\",\"Nikola Vucevic\",\"Tobias Harris\",\"Kenneth Faried\",\"Reggie Jackson\",\"Cory Joseph\",\"Jimmy Butler\",\"E'Twaun Moore\",\"E'Twaun Moore\",\"E'Twaun Moore\",\"Anthony Davis\",\"Jonas Valanciunas\",\"Harrison Barnes\",\"Terrence Ross\",\"Austin Rivers\",\"Austin Rivers\",\"Austin Rivers\",\"Meyers Leonard\",\"Jeremy Lamb\",\"Draymond Green\",\"Kyle O'Quinn\",\"Jae Crowder\",\"Will Barton\",\"Kent Bazemore\",\"Kent Bazemore\",\"Khris Middleton\",\"Mike Scott\",\"Aron Baynes\",\"Aron Baynes\",\"Justin Holiday\",\"Justin Holiday\",\"Nerlens Noel\",\"Ben McLemore\",\"Kentavious Caldwell-Pope\",\"Trey Burke\",\"Mason Plumlee\",\"Solomon Hill\",\"Reggie Bullock\",\"Robert Covington\",\"Matthew Dellavedova\",\"Mike Muscala\",\"Seth Curry\",\"Seth Curry\",\"Bojan Bogdanovic\",\"Julius Randle\",\"Elfrid Payton\",\"Rodney Hood\",\"Jerami Grant\",\"Joe Harris\",\"Joe Harris\",\"Spencer Dinwiddie\",\"Spencer Dinwiddie\",\"Joe Ingles\",\"JaKarr Sampson\",\"Glenn Robinson III\",\"Jordan Clarkson\",\"Dwight Powell\",\"Langston Galloway\",\"Langston Galloway\",\"Tyler Johnson\",\"JaMychal Green\",\"JaMychal Green\",\"Jahlil Okafor\",\"Willie Cauley-Stein\",\"Boban Marjanovic\",\"Montrezl Harrell\",\"Raul Neto\",\"Pat Connaughton\",\"Christian Wood\",\"Fred VanVleet\",\"Bryn Forbes\",\"Davis Bertans\",\"Patrick McCaw\",\"Quinn Cook\",\"Quinn Cook\",\"Quinn Cook\",\"Shaquille Harrison\",\"Edmond Sumner\",\"Torrey Craig\"],\"value\":[25665376,25665376,18147033,18147033,27920565,27920565,7774455,7774455,6464705,3396456,26649840,26649840,26649840,4822292,15278514,10691627,24949488,5420406,8823316,18896830,24015541,24015541,4972850,4972850,16048742,16048742,14918550,14918550,11810518,11810518,11810518,24861158,24861158,24861158,24861158,14918550,14918550,10890541,11388908,11388908,5283653,5283653,8397792,8397792,4972850,23450563,19542134,19542134,19542135,19542135,19679666,19679666,13494885,13494885,13494885,18522546,18522546,19542057,19542057,9324093,9324093,6639039,6639039,6639039,13986140,14160812,14160812,9945700,9945700,14222504,14222504,21921178,18267647,18267647,13214370,11810518,3108031,3108031,13675337,9945700,9945700,15229353,15229353,1322012,1322012,1322012,9007870,9007870,5003930,5003930,1219695,1219695,17033565,16099602,16099602,17033565,1219695,18332411,18332411,19642757,1219695,7249577,7249577,16161762,8939954,8939954,8939954,3911231,963726,1137841,9274270,7469352,6739744,6303940,5080329,5080329,4291797,3823972,3979981,3920918,3795985,3608743,3122243,2950810,2891314,2653752,2634633,1178768,1178768,1178768,6970990,4572983,3791698,3473486,3033239,3033239,3033239,2881667,2737553,1137841,1137841,1137841,1137841,2486425,2486425,1137841,4144041,2610746,2610746,1015060,1015060,4121398,3762309,3446781,3168401,1687138,1619706,1492750,1243212,1015060,1015060,59709,59709,4075250,3726355,2981024,1604191,1100092,1100092,1100092,870248,870248,630726,630726,630726,630726,630726,367313,367313,348753,304228,304228,0,0,0,0,0,0,0,0,0,0,0,0,0,0,0,0,0]},\"selected\":{\"id\":\"6865\"},\"selection_policy\":{\"id\":\"6903\"}},\"id\":\"6864\",\"type\":\"ColumnDataSource\"},{\"attributes\":{\"data\":{\"Variable\":[\"STL\",\"STL\",\"STL\",\"STL\",\"STL\",\"STL\",\"STL\",\"STL\",\"STL\",\"STL\",\"STL\",\"STL\",\"STL\",\"STL\",\"STL\",\"STL\",\"STL\",\"STL\",\"STL\",\"STL\",\"STL\",\"STL\",\"STL\",\"STL\",\"STL\",\"STL\",\"STL\",\"STL\",\"STL\",\"STL\",\"STL\",\"STL\",\"STL\",\"STL\",\"STL\",\"STL\",\"STL\",\"STL\",\"STL\",\"STL\",\"STL\",\"STL\",\"STL\",\"STL\",\"STL\",\"STL\",\"STL\",\"STL\",\"STL\",\"STL\",\"STL\",\"STL\",\"STL\",\"STL\",\"STL\",\"STL\",\"STL\",\"STL\",\"STL\",\"STL\",\"STL\",\"STL\",\"STL\",\"STL\",\"STL\",\"STL\",\"STL\",\"STL\",\"STL\",\"STL\",\"STL\",\"STL\",\"STL\",\"STL\",\"STL\",\"STL\",\"STL\",\"STL\",\"STL\",\"STL\",\"STL\",\"STL\",\"STL\",\"STL\",\"STL\",\"STL\",\"STL\",\"STL\",\"STL\",\"STL\",\"STL\",\"STL\",\"STL\",\"STL\",\"STL\",\"STL\",\"STL\",\"STL\",\"STL\",\"STL\",\"STL\",\"STL\",\"STL\",\"STL\",\"STL\",\"STL\",\"STL\",\"STL\",\"STL\",\"STL\",\"STL\",\"STL\",\"STL\",\"STL\",\"STL\",\"STL\",\"STL\",\"STL\",\"STL\",\"STL\",\"STL\",\"STL\",\"STL\",\"STL\",\"STL\",\"STL\",\"STL\",\"STL\",\"STL\",\"STL\",\"STL\",\"STL\",\"STL\",\"STL\",\"STL\",\"STL\",\"STL\",\"STL\",\"STL\",\"STL\",\"STL\",\"STL\",\"STL\",\"STL\",\"STL\",\"STL\",\"STL\",\"STL\",\"STL\",\"STL\",\"STL\",\"STL\",\"STL\",\"STL\",\"STL\",\"STL\",\"STL\",\"STL\",\"STL\",\"STL\",\"STL\",\"STL\",\"STL\",\"STL\",\"STL\",\"STL\",\"STL\",\"STL\",\"STL\",\"STL\",\"STL\",\"STL\",\"STL\",\"STL\",\"STL\",\"STL\",\"STL\",\"STL\",\"STL\",\"STL\",\"STL\",\"STL\",\"STL\",\"STL\",\"STL\",\"STL\",\"STL\",\"STL\",\"STL\",\"STL\",\"STL\",\"STL\",\"STL\",\"STL\",\"STL\",\"STL\",\"STL\",\"STL\",\"STL\"],\"player_name\":[\"LeBron James\",\"LeBron James\",\"Tyson Chandler\",\"Tyson Chandler\",\"Carmelo Anthony\",\"Carmelo Anthony\",\"Kyle Korver\",\"Kyle Korver\",\"Zaza Pachulia\",\"Udonis Haslem\",\"Dwight Howard\",\"Dwight Howard\",\"Dwight Howard\",\"Devin Harris\",\"Andre Iguodala\",\"Trevor Ariza\",\"Chris Paul\",\"Raymond Felton\",\"Jose Calderon\",\"LaMarcus Aldridge\",\"Rudy Gay\",\"Rudy Gay\",\"Thabo Sefolosha\",\"Thabo Sefolosha\",\"Rajon Rondo\",\"Rajon Rondo\",\"Kyle Lowry\",\"Kyle Lowry\",\"Paul Millsap\",\"Paul Millsap\",\"Paul Millsap\",\"Kevin Durant\",\"Kevin Durant\",\"Kevin Durant\",\"Kevin Durant\",\"Al Horford\",\"Al Horford\",\"Mike Conley\",\"Thaddeus Young\",\"Thaddeus Young\",\"Jared Dudley\",\"Jared Dudley\",\"Wilson Chandler\",\"Wilson Chandler\",\"Ian Mahinmi\",\"Derrick Rose\",\"Russell Westbrook\",\"Russell Westbrook\",\"Kevin Love\",\"Kevin Love\",\"Marc Gasol\",\"Marc Gasol\",\"Danilo Gallinari\",\"Danilo Gallinari\",\"Danilo Gallinari\",\"Eric Gordon\",\"Eric Gordon\",\"Brook Lopez\",\"Brook Lopez\",\"Goran Dragic\",\"Goran Dragic\",\"Robin Lopez\",\"Robin Lopez\",\"Robin Lopez\",\"JaVale McGee\",\"Nicolas Batum\",\"Nicolas Batum\",\"George Hill\",\"George Hill\",\"DeAndre Jordan\",\"DeAndre Jordan\",\"Blake Griffin\",\"James Harden\",\"James Harden\",\"Stephen Curry\",\"DeMar DeRozan\",\"James Johnson\",\"James Johnson\",\"Jrue Holiday\",\"Jeff Teague\",\"Jeff Teague\",\"Serge Ibaka\",\"Serge Ibaka\",\"Wayne Ellington\",\"Wayne Ellington\",\"Wayne Ellington\",\"Wesley Matthews\",\"Wesley Matthews\",\"Danny Green\",\"Danny Green\",\"Garrett Temple\",\"Garrett Temple\",\"John Wall\",\"Derrick Favors\",\"Derrick Favors\",\"DeMarcus Cousins\",\"Al-Farouq Aminu\",\"Gordon Hayward\",\"Gordon Hayward\",\"Paul George\",\"Ed Davis\",\"Patrick Patterson\",\"Patrick Patterson\",\"Eric Bledsoe\",\"Avery Bradley\",\"Avery Bradley\",\"Avery Bradley\",\"Quincy Pondexter\",\"Hassan Whiteside\",\"Patrick Beverley\",\"Kyrie Irving\",\"Enes Kanter\",\"Tristan Thompson\",\"Ricky Rubio\",\"Bismack Biyombo\",\"Bismack Biyombo\",\"Kemba Walker\",\"Klay Thompson\",\"Alec Burks\",\"Markieff Morris\",\"Kawhi Leonard\",\"Nikola Vucevic\",\"Tobias Harris\",\"Kenneth Faried\",\"Reggie Jackson\",\"Cory Joseph\",\"Jimmy Butler\",\"E'Twaun Moore\",\"E'Twaun Moore\",\"E'Twaun Moore\",\"Anthony Davis\",\"Jonas Valanciunas\",\"Harrison Barnes\",\"Terrence Ross\",\"Austin Rivers\",\"Austin Rivers\",\"Austin Rivers\",\"Meyers Leonard\",\"Jeremy Lamb\",\"Draymond Green\",\"Kyle O'Quinn\",\"Jae Crowder\",\"Will Barton\",\"Kent Bazemore\",\"Kent Bazemore\",\"Khris Middleton\",\"Mike Scott\",\"Aron Baynes\",\"Aron Baynes\",\"Justin Holiday\",\"Justin Holiday\",\"Nerlens Noel\",\"Ben McLemore\",\"Kentavious Caldwell-Pope\",\"Trey Burke\",\"Mason Plumlee\",\"Solomon Hill\",\"Reggie Bullock\",\"Robert Covington\",\"Matthew Dellavedova\",\"Mike Muscala\",\"Seth Curry\",\"Seth Curry\",\"Bojan Bogdanovic\",\"Julius Randle\",\"Elfrid Payton\",\"Rodney Hood\",\"Jerami Grant\",\"Joe Harris\",\"Joe Harris\",\"Spencer Dinwiddie\",\"Spencer Dinwiddie\",\"Joe Ingles\",\"JaKarr Sampson\",\"Glenn Robinson III\",\"Jordan Clarkson\",\"Dwight Powell\",\"Langston Galloway\",\"Langston Galloway\",\"Tyler Johnson\",\"JaMychal Green\",\"JaMychal Green\",\"Jahlil Okafor\",\"Willie Cauley-Stein\",\"Boban Marjanovic\",\"Montrezl Harrell\",\"Raul Neto\",\"Pat Connaughton\",\"Christian Wood\",\"Fred VanVleet\",\"Bryn Forbes\",\"Davis Bertans\",\"Patrick McCaw\",\"Quinn Cook\",\"Quinn Cook\",\"Quinn Cook\",\"Shaquille Harrison\",\"Edmond Sumner\",\"Torrey Craig\"],\"value\":[104,109,36,42,95,62,34,70,35,11,48,69,84,28,139,126,169,78,58,48,44,71,96,79,57,141,88,121,90,102,130,69,50,88,66,59,68,144,90,124,87,75,58,48,38,35,163,112,47,51,70,74,40,47,42,13,43,43,1,78,85,16,11,18,35,65,57,42,50,41,81,97,139,142,126,76,42,41,123,100,117,41,28,48,45,33,54,77,101,58,69,35,149,75,54,109,70,110,73,151,49,55,40,69,63,41,51,5,44,59,114,36,34,38,18,19,89,87,17,101,148,54,69,62,62,46,114,11,37,60,78,25,41,54,48,47,48,8,42,123,31,72,48,98,43,122,30,22,16,40,65,31,29,73,11,69,37,18,2,44,30,0,22,34,43,44,59,31,0,35,3,3,72,38,6,88,36,46,77,24,45,47,3,96,12,36,13,23,5,68,28,26,43,4,20,4,26,0,12]},\"selected\":{\"id\":\"9709\"},\"selection_policy\":{\"id\":\"9819\"}},\"id\":\"9708\",\"type\":\"ColumnDataSource\"}],\"root_ids\":[\"6401\"]},\"title\":\"Bokeh Application\",\"version\":\"2.4.3\"}};\n",
       "    var render_items = [{\"docid\":\"c8b12e61-6520-48fe-975e-8f59adf0f69f\",\"root_ids\":[\"6401\"],\"roots\":{\"6401\":\"27222c67-afe1-49a4-934d-19ecf0cbb733\"}}];\n",
       "    root.Bokeh.embed.embed_items_notebook(docs_json, render_items);\n",
       "    for (const render_item of render_items) {\n",
       "      for (const root_id of render_item.root_ids) {\n",
       "\tconst id_el = document.getElementById(root_id)\n",
       "\tif (id_el.children.length && (id_el.children[0].className === 'bk-root')) {\n",
       "\t  const root_el = id_el.children[0]\n",
       "\t  root_el.id = root_el.id + '-rendered'\n",
       "\t}\n",
       "      }\n",
       "    }\n",
       "  }\n",
       "  if (root.Bokeh !== undefined && root.Bokeh.Panel !== undefined) {\n",
       "    embed_document(root);\n",
       "  } else {\n",
       "    var attempts = 0;\n",
       "    var timer = setInterval(function(root) {\n",
       "      if (root.Bokeh !== undefined && root.Bokeh.Panel !== undefined) {\n",
       "        clearInterval(timer);\n",
       "        embed_document(root);\n",
       "      } else if (document.readyState == \"complete\") {\n",
       "        attempts++;\n",
       "        if (attempts > 200) {\n",
       "          clearInterval(timer);\n",
       "          console.log(\"Bokeh: ERROR: Unable to run BokehJS code because BokehJS library is missing\");\n",
       "        }\n",
       "      }\n",
       "    }, 25, root)\n",
       "  }\n",
       "})(window);</script>"
      ],
      "text/plain": [
       ":NdOverlay   [Variable]\n",
       "   :Curve   [player_name]   (value)"
      ]
     },
     "execution_count": 65,
     "metadata": {
      "application/vnd.holoviews_exec.v0+json": {
       "id": "6401"
      }
     },
     "output_type": "execute_result"
    }
   ],
   "source": [
    "# Plot your data to see what's in your DataFrame\n",
    "df_player_data.hvplot.line(\n",
    "    width=800,\n",
    "    height=400,\n",
    "    rot=90\n",
    ")"
   ]
  },
  {
   "cell_type": "code",
   "execution_count": null,
   "metadata": {},
   "outputs": [],
   "source": []
  },
  {
   "cell_type": "markdown",
   "metadata": {},
   "source": [
    "---"
   ]
  },
  {
   "cell_type": "markdown",
   "metadata": {},
   "source": [
    "### Prepare the Data"
   ]
  },
  {
   "cell_type": "code",
   "execution_count": 66,
   "metadata": {},
   "outputs": [],
   "source": [
    "df_player_data_scaled = StandardScaler().fit_transform(df_player_data[[ '0304_salary_adjusted','0405_salary_adjusted','0506_salary_adjusted','0607_salary_adjusted','0708_salary_adjusted','0809_salary_adjusted','0910_salary_adjusted','1011_salary_adjusted','1112_salary_adjusted','2425_salary_predicted', '2526_salary_predicted',\n",
    "       '2627_salary_predicted', 'CONTRACT_START', 'CONTRACT_END', 'AVG_SALARY',\n",
    "       'AGE', 'GP', 'W', 'L', 'MIN', 'PTS', 'FGM', 'FGA', 'FG%', '3PM', '3PA',\n",
    "       '3P%', 'FTM', 'FTA', 'FT%', 'OREB', 'DREB', 'REB', 'AST', 'TOV', 'STL',\n",
    "       'BLK', 'PF', '+/-']])"
   ]
  },
  {
   "cell_type": "code",
   "execution_count": 73,
   "metadata": {},
   "outputs": [
    {
     "name": "stdout",
     "output_type": "stream",
     "text": [
      "                 0304_salary_adjusted  0405_salary_adjusted  \\\n",
      "player_name                                                   \n",
      "LeBron James                 6.157458              4.529054   \n",
      "LeBron James                 6.157458              4.529054   \n",
      "Tyson Chandler               5.818743              5.061014   \n",
      "Tyson Chandler               5.818743              5.061014   \n",
      "Carmelo Anthony              4.910768              3.589603   \n",
      "\n",
      "                 0506_salary_adjusted  0607_salary_adjusted  \\\n",
      "player_name                                                   \n",
      "LeBron James                 3.119569              3.485302   \n",
      "LeBron James                 3.119569              3.485302   \n",
      "Tyson Chandler               6.349632              5.672958   \n",
      "Tyson Chandler               6.349632              5.672958   \n",
      "Carmelo Anthony              2.449565              2.738469   \n",
      "\n",
      "                 0708_salary_adjusted  0809_salary_adjusted  \\\n",
      "player_name                                                   \n",
      "LeBron James                 5.041307              4.119668   \n",
      "LeBron James                 5.041307              4.119668   \n",
      "Tyson Chandler               3.879469              3.143223   \n",
      "Tyson Chandler               3.879469              3.143223   \n",
      "Carmelo Anthony              5.041307              4.119668   \n",
      "\n",
      "                 0910_salary_adjusted  1011_salary_adjusted  \\\n",
      "player_name                                                   \n",
      "LeBron James                 3.861192              2.969470   \n",
      "LeBron James                 3.861192              2.969470   \n",
      "Tyson Chandler               2.761520              2.495044   \n",
      "Tyson Chandler               2.761520              2.495044   \n",
      "Carmelo Anthony              3.861192              3.630980   \n",
      "\n",
      "                 1112_salary_adjusted  2425_salary_predicted  ...       FT%  \\\n",
      "player_name                                                   ...             \n",
      "LeBron James                 2.581450               3.474116  ... -0.040462   \n",
      "LeBron James                 2.581450               3.474116  ... -0.174660   \n",
      "Tyson Chandler               1.977651              -0.405676  ... -0.040462   \n",
      "Tyson Chandler               1.977651              -0.405676  ... -0.107561   \n",
      "Carmelo Anthony              3.098535              -0.405676  ...  0.697629   \n",
      "\n",
      "                     OREB      DREB       REB       AST       TOV       STL  \\\n",
      "player_name                                                                   \n",
      "LeBron James     0.436436  1.253067  1.049353  2.094254  2.059274  1.230996   \n",
      "LeBron James    -0.390845  0.709092  0.388709  2.075900  2.384543  1.365357   \n",
      "Tyson Chandler   1.746298  1.448653  1.612453 -0.854481 -0.217604 -0.596323   \n",
      "Tyson Chandler   2.959644  1.962067  2.375076 -0.536360  0.022812 -0.435089   \n",
      "Carmelo Anthony  0.905229  1.393644  1.302083  0.430238  1.338027  0.989145   \n",
      "\n",
      "                      BLK        PF       +/-  \n",
      "player_name                                    \n",
      "LeBron James     0.216625  0.083156  2.444314  \n",
      "LeBron James     0.216625 -0.041617  2.105269  \n",
      "Tyson Chandler   0.933558  1.596039  1.022089  \n",
      "Tyson Chandler   1.187953  0.488671  0.735883  \n",
      "Carmelo Anthony  0.262879  1.346491  0.181083  \n",
      "\n",
      "[5 rows x 39 columns]\n"
     ]
    }
   ],
   "source": [
    "from sklearn.preprocessing import StandardScaler\n",
    "import pandas as pd\n",
    "\n",
    "# Assuming df_player_data is your original DataFrame\n",
    "\n",
    "columns_to_scale = [\n",
    "    '0304_salary_adjusted','0405_salary_adjusted','0506_salary_adjusted','0607_salary_adjusted',\n",
    "    '0708_salary_adjusted','0809_salary_adjusted','0910_salary_adjusted','1011_salary_adjusted',\n",
    "    '1112_salary_adjusted','2425_salary_predicted','2526_salary_predicted',\n",
    "    '2627_salary_predicted','CONTRACT_START','CONTRACT_END','AVG_SALARY',\n",
    "    'AGE','GP','W','L','MIN','PTS','FGM','FGA','FG%','3PM','3PA',\n",
    "    '3P%','FTM','FTA','FT%','OREB','DREB','REB','AST','TOV','STL',\n",
    "    'BLK','PF','+/-'\n",
    "]\n",
    "\n",
    "# Scale the selected columns\n",
    "scaler = StandardScaler()\n",
    "df_player_data_scaled = scaler.fit_transform(df_player_data[columns_to_scale])\n",
    "\n",
    "# Create a DataFrame with the scaled data\n",
    "df_player_data_scaled = pd.DataFrame(df_player_data_scaled, columns=columns_to_scale)\n",
    "\n",
    "# Copy the player names from the original data\n",
    "df_player_data_scaled['player_name'] = df_player_data.index\n",
    "\n",
    "# Set the player names column as index\n",
    "df_player_data_scaled = df_player_data_scaled.set_index('player_name')\n",
    "\n",
    "# Display sample data\n",
    "print(df_player_data_scaled.head())\n"
   ]
  },
  {
   "cell_type": "code",
   "execution_count": 118,
   "metadata": {},
   "outputs": [
    {
     "data": {
      "text/html": [
       "<div>\n",
       "<style scoped>\n",
       "    .dataframe tbody tr th:only-of-type {\n",
       "        vertical-align: middle;\n",
       "    }\n",
       "\n",
       "    .dataframe tbody tr th {\n",
       "        vertical-align: top;\n",
       "    }\n",
       "\n",
       "    .dataframe thead th {\n",
       "        text-align: right;\n",
       "    }\n",
       "</style>\n",
       "<table border=\"1\" class=\"dataframe\">\n",
       "  <thead>\n",
       "    <tr style=\"text-align: right;\">\n",
       "      <th></th>\n",
       "      <th>0304_salary_adjusted</th>\n",
       "      <th>0405_salary_adjusted</th>\n",
       "      <th>0506_salary_adjusted</th>\n",
       "      <th>0607_salary_adjusted</th>\n",
       "      <th>0708_salary_adjusted</th>\n",
       "      <th>0809_salary_adjusted</th>\n",
       "      <th>0910_salary_adjusted</th>\n",
       "      <th>1011_salary_adjusted</th>\n",
       "      <th>1112_salary_adjusted</th>\n",
       "      <th>2425_salary_predicted</th>\n",
       "      <th>...</th>\n",
       "      <th>FT%</th>\n",
       "      <th>OREB</th>\n",
       "      <th>DREB</th>\n",
       "      <th>REB</th>\n",
       "      <th>AST</th>\n",
       "      <th>TOV</th>\n",
       "      <th>STL</th>\n",
       "      <th>BLK</th>\n",
       "      <th>PF</th>\n",
       "      <th>+/-</th>\n",
       "    </tr>\n",
       "    <tr>\n",
       "      <th>player_name</th>\n",
       "      <th></th>\n",
       "      <th></th>\n",
       "      <th></th>\n",
       "      <th></th>\n",
       "      <th></th>\n",
       "      <th></th>\n",
       "      <th></th>\n",
       "      <th></th>\n",
       "      <th></th>\n",
       "      <th></th>\n",
       "      <th></th>\n",
       "      <th></th>\n",
       "      <th></th>\n",
       "      <th></th>\n",
       "      <th></th>\n",
       "      <th></th>\n",
       "      <th></th>\n",
       "      <th></th>\n",
       "      <th></th>\n",
       "      <th></th>\n",
       "      <th></th>\n",
       "    </tr>\n",
       "  </thead>\n",
       "  <tbody>\n",
       "    <tr>\n",
       "      <th>LeBron James</th>\n",
       "      <td>6.157458</td>\n",
       "      <td>4.529054</td>\n",
       "      <td>3.119569</td>\n",
       "      <td>3.485302</td>\n",
       "      <td>5.041307</td>\n",
       "      <td>4.119668</td>\n",
       "      <td>3.861192</td>\n",
       "      <td>2.969470</td>\n",
       "      <td>2.581450</td>\n",
       "      <td>3.474116</td>\n",
       "      <td>...</td>\n",
       "      <td>-0.040462</td>\n",
       "      <td>0.436436</td>\n",
       "      <td>1.253067</td>\n",
       "      <td>1.049353</td>\n",
       "      <td>2.094254</td>\n",
       "      <td>2.059274</td>\n",
       "      <td>1.230996</td>\n",
       "      <td>0.216625</td>\n",
       "      <td>0.083156</td>\n",
       "      <td>2.444314</td>\n",
       "    </tr>\n",
       "    <tr>\n",
       "      <th>LeBron James</th>\n",
       "      <td>6.157458</td>\n",
       "      <td>4.529054</td>\n",
       "      <td>3.119569</td>\n",
       "      <td>3.485302</td>\n",
       "      <td>5.041307</td>\n",
       "      <td>4.119668</td>\n",
       "      <td>3.861192</td>\n",
       "      <td>2.969470</td>\n",
       "      <td>2.581450</td>\n",
       "      <td>3.474116</td>\n",
       "      <td>...</td>\n",
       "      <td>-0.174660</td>\n",
       "      <td>-0.390845</td>\n",
       "      <td>0.709092</td>\n",
       "      <td>0.388709</td>\n",
       "      <td>2.075900</td>\n",
       "      <td>2.384543</td>\n",
       "      <td>1.365357</td>\n",
       "      <td>0.216625</td>\n",
       "      <td>-0.041617</td>\n",
       "      <td>2.105269</td>\n",
       "    </tr>\n",
       "    <tr>\n",
       "      <th>Tyson Chandler</th>\n",
       "      <td>5.818743</td>\n",
       "      <td>5.061014</td>\n",
       "      <td>6.349632</td>\n",
       "      <td>5.672958</td>\n",
       "      <td>3.879469</td>\n",
       "      <td>3.143223</td>\n",
       "      <td>2.761520</td>\n",
       "      <td>2.495044</td>\n",
       "      <td>1.977651</td>\n",
       "      <td>-0.405676</td>\n",
       "      <td>...</td>\n",
       "      <td>-0.040462</td>\n",
       "      <td>1.746298</td>\n",
       "      <td>1.448653</td>\n",
       "      <td>1.612453</td>\n",
       "      <td>-0.854481</td>\n",
       "      <td>-0.217604</td>\n",
       "      <td>-0.596323</td>\n",
       "      <td>0.933558</td>\n",
       "      <td>1.596039</td>\n",
       "      <td>1.022089</td>\n",
       "    </tr>\n",
       "    <tr>\n",
       "      <th>Tyson Chandler</th>\n",
       "      <td>5.818743</td>\n",
       "      <td>5.061014</td>\n",
       "      <td>6.349632</td>\n",
       "      <td>5.672958</td>\n",
       "      <td>3.879469</td>\n",
       "      <td>3.143223</td>\n",
       "      <td>2.761520</td>\n",
       "      <td>2.495044</td>\n",
       "      <td>1.977651</td>\n",
       "      <td>-0.405676</td>\n",
       "      <td>...</td>\n",
       "      <td>-0.107561</td>\n",
       "      <td>2.959644</td>\n",
       "      <td>1.962067</td>\n",
       "      <td>2.375076</td>\n",
       "      <td>-0.536360</td>\n",
       "      <td>0.022812</td>\n",
       "      <td>-0.435089</td>\n",
       "      <td>1.187953</td>\n",
       "      <td>0.488671</td>\n",
       "      <td>0.735883</td>\n",
       "    </tr>\n",
       "    <tr>\n",
       "      <th>Carmelo Anthony</th>\n",
       "      <td>4.910768</td>\n",
       "      <td>3.589603</td>\n",
       "      <td>2.449565</td>\n",
       "      <td>2.738469</td>\n",
       "      <td>5.041307</td>\n",
       "      <td>4.119668</td>\n",
       "      <td>3.861192</td>\n",
       "      <td>3.630980</td>\n",
       "      <td>3.098535</td>\n",
       "      <td>-0.405676</td>\n",
       "      <td>...</td>\n",
       "      <td>0.697629</td>\n",
       "      <td>0.905229</td>\n",
       "      <td>1.393644</td>\n",
       "      <td>1.302083</td>\n",
       "      <td>0.430238</td>\n",
       "      <td>1.338027</td>\n",
       "      <td>0.989145</td>\n",
       "      <td>0.262879</td>\n",
       "      <td>1.346491</td>\n",
       "      <td>0.181083</td>\n",
       "    </tr>\n",
       "    <tr>\n",
       "      <th>Carmelo Anthony</th>\n",
       "      <td>4.910768</td>\n",
       "      <td>3.589603</td>\n",
       "      <td>2.449565</td>\n",
       "      <td>2.738469</td>\n",
       "      <td>5.041307</td>\n",
       "      <td>4.119668</td>\n",
       "      <td>3.861192</td>\n",
       "      <td>3.630980</td>\n",
       "      <td>3.098535</td>\n",
       "      <td>-0.405676</td>\n",
       "      <td>...</td>\n",
       "      <td>0.429232</td>\n",
       "      <td>0.119311</td>\n",
       "      <td>0.042877</td>\n",
       "      <td>0.069471</td>\n",
       "      <td>0.173294</td>\n",
       "      <td>0.574354</td>\n",
       "      <td>0.102358</td>\n",
       "      <td>-0.361546</td>\n",
       "      <td>0.285914</td>\n",
       "      <td>0.198696</td>\n",
       "    </tr>\n",
       "    <tr>\n",
       "      <th>Kyle Korver</th>\n",
       "      <td>0.392254</td>\n",
       "      <td>0.434511</td>\n",
       "      <td>2.388127</td>\n",
       "      <td>2.293380</td>\n",
       "      <td>1.444447</td>\n",
       "      <td>1.103548</td>\n",
       "      <td>0.888150</td>\n",
       "      <td>0.597339</td>\n",
       "      <td>0.298039</td>\n",
       "      <td>-0.405676</td>\n",
       "      <td>...</td>\n",
       "      <td>1.100224</td>\n",
       "      <td>-0.997518</td>\n",
       "      <td>-0.427753</td>\n",
       "      <td>-0.631078</td>\n",
       "      <td>-0.377299</td>\n",
       "      <td>-0.486303</td>\n",
       "      <td>-0.650067</td>\n",
       "      <td>-0.430926</td>\n",
       "      <td>-0.478326</td>\n",
       "      <td>-1.020983</td>\n",
       "    </tr>\n",
       "    <tr>\n",
       "      <th>Kyle Korver</th>\n",
       "      <td>0.392254</td>\n",
       "      <td>0.434511</td>\n",
       "      <td>2.388127</td>\n",
       "      <td>2.293380</td>\n",
       "      <td>1.444447</td>\n",
       "      <td>1.103548</td>\n",
       "      <td>0.888150</td>\n",
       "      <td>0.597339</td>\n",
       "      <td>0.298039</td>\n",
       "      <td>-0.405676</td>\n",
       "      <td>...</td>\n",
       "      <td>0.764728</td>\n",
       "      <td>-0.776910</td>\n",
       "      <td>0.128446</td>\n",
       "      <td>-0.156655</td>\n",
       "      <td>-0.157062</td>\n",
       "      <td>-0.472161</td>\n",
       "      <td>0.317337</td>\n",
       "      <td>-0.060897</td>\n",
       "      <td>0.504268</td>\n",
       "      <td>0.599385</td>\n",
       "    </tr>\n",
       "    <tr>\n",
       "      <th>Zaza Pachulia</th>\n",
       "      <td>0.392254</td>\n",
       "      <td>0.434511</td>\n",
       "      <td>2.660830</td>\n",
       "      <td>2.281406</td>\n",
       "      <td>1.277950</td>\n",
       "      <td>0.798286</td>\n",
       "      <td>0.774791</td>\n",
       "      <td>0.410378</td>\n",
       "      <td>0.246250</td>\n",
       "      <td>-0.405676</td>\n",
       "      <td>...</td>\n",
       "      <td>0.093737</td>\n",
       "      <td>0.725984</td>\n",
       "      <td>-0.274951</td>\n",
       "      <td>0.034000</td>\n",
       "      <td>-0.566948</td>\n",
       "      <td>-0.472161</td>\n",
       "      <td>-0.623195</td>\n",
       "      <td>-0.639068</td>\n",
       "      <td>-0.150794</td>\n",
       "      <td>-0.391329</td>\n",
       "    </tr>\n",
       "    <tr>\n",
       "      <th>Udonis Haslem</th>\n",
       "      <td>0.392254</td>\n",
       "      <td>0.434511</td>\n",
       "      <td>3.398591</td>\n",
       "      <td>3.285700</td>\n",
       "      <td>2.131248</td>\n",
       "      <td>1.619811</td>\n",
       "      <td>1.432370</td>\n",
       "      <td>0.222792</td>\n",
       "      <td>0.045305</td>\n",
       "      <td>-0.405676</td>\n",
       "      <td>...</td>\n",
       "      <td>-1.181148</td>\n",
       "      <td>-0.514938</td>\n",
       "      <td>-0.708908</td>\n",
       "      <td>-0.679850</td>\n",
       "      <td>-0.970717</td>\n",
       "      <td>-1.122698</td>\n",
       "      <td>-1.268131</td>\n",
       "      <td>-0.569687</td>\n",
       "      <td>-0.915034</td>\n",
       "      <td>-0.580666</td>\n",
       "    </tr>\n",
       "    <tr>\n",
       "      <th>Dwight Howard</th>\n",
       "      <td>-0.187000</td>\n",
       "      <td>4.373430</td>\n",
       "      <td>3.024664</td>\n",
       "      <td>2.812674</td>\n",
       "      <td>2.135941</td>\n",
       "      <td>3.911469</td>\n",
       "      <td>3.699645</td>\n",
       "      <td>3.505616</td>\n",
       "      <td>3.010118</td>\n",
       "      <td>-0.405676</td>\n",
       "      <td>...</td>\n",
       "      <td>-1.114049</td>\n",
       "      <td>2.421911</td>\n",
       "      <td>3.105024</td>\n",
       "      <td>3.031286</td>\n",
       "      <td>-0.407888</td>\n",
       "      <td>1.479448</td>\n",
       "      <td>-0.273855</td>\n",
       "      <td>2.113027</td>\n",
       "      <td>1.736409</td>\n",
       "      <td>0.115036</td>\n",
       "    </tr>\n",
       "    <tr>\n",
       "      <th>Dwight Howard</th>\n",
       "      <td>-0.187000</td>\n",
       "      <td>4.373430</td>\n",
       "      <td>3.024664</td>\n",
       "      <td>2.812674</td>\n",
       "      <td>2.135941</td>\n",
       "      <td>3.911469</td>\n",
       "      <td>3.699645</td>\n",
       "      <td>3.505616</td>\n",
       "      <td>3.010118</td>\n",
       "      <td>-0.405676</td>\n",
       "      <td>...</td>\n",
       "      <td>-1.717941</td>\n",
       "      <td>2.187515</td>\n",
       "      <td>2.127093</td>\n",
       "      <td>2.246494</td>\n",
       "      <td>-0.450712</td>\n",
       "      <td>0.885480</td>\n",
       "      <td>0.290464</td>\n",
       "      <td>1.696744</td>\n",
       "      <td>1.268507</td>\n",
       "      <td>-0.197590</td>\n",
       "    </tr>\n",
       "    <tr>\n",
       "      <th>Dwight Howard</th>\n",
       "      <td>-0.187000</td>\n",
       "      <td>4.373430</td>\n",
       "      <td>3.024664</td>\n",
       "      <td>2.812674</td>\n",
       "      <td>2.135941</td>\n",
       "      <td>3.911469</td>\n",
       "      <td>3.699645</td>\n",
       "      <td>3.505616</td>\n",
       "      <td>3.010118</td>\n",
       "      <td>-0.405676</td>\n",
       "      <td>...</td>\n",
       "      <td>-1.650842</td>\n",
       "      <td>2.366759</td>\n",
       "      <td>2.719963</td>\n",
       "      <td>2.734218</td>\n",
       "      <td>-0.389535</td>\n",
       "      <td>1.719864</td>\n",
       "      <td>0.693549</td>\n",
       "      <td>3.385003</td>\n",
       "      <td>2.391472</td>\n",
       "      <td>0.330791</td>\n",
       "    </tr>\n",
       "    <tr>\n",
       "      <th>Devin Harris</th>\n",
       "      <td>-0.187000</td>\n",
       "      <td>2.782404</td>\n",
       "      <td>1.884293</td>\n",
       "      <td>1.723690</td>\n",
       "      <td>1.275870</td>\n",
       "      <td>2.010634</td>\n",
       "      <td>1.796137</td>\n",
       "      <td>1.591387</td>\n",
       "      <td>1.192759</td>\n",
       "      <td>-0.405676</td>\n",
       "      <td>...</td>\n",
       "      <td>0.429232</td>\n",
       "      <td>-0.983730</td>\n",
       "      <td>-1.051184</td>\n",
       "      <td>-1.078897</td>\n",
       "      <td>0.038704</td>\n",
       "      <td>-0.627724</td>\n",
       "      <td>-0.811301</td>\n",
       "      <td>-0.870336</td>\n",
       "      <td>-1.024211</td>\n",
       "      <td>0.410048</td>\n",
       "    </tr>\n",
       "    <tr>\n",
       "      <th>Andre Iguodala</th>\n",
       "      <td>-0.187000</td>\n",
       "      <td>1.866853</td>\n",
       "      <td>1.228099</td>\n",
       "      <td>1.097089</td>\n",
       "      <td>0.780493</td>\n",
       "      <td>3.127271</td>\n",
       "      <td>2.859457</td>\n",
       "      <td>2.431433</td>\n",
       "      <td>2.065469</td>\n",
       "      <td>-0.405676</td>\n",
       "      <td>...</td>\n",
       "      <td>-1.114049</td>\n",
       "      <td>0.036583</td>\n",
       "      <td>0.562403</td>\n",
       "      <td>0.419746</td>\n",
       "      <td>1.598719</td>\n",
       "      <td>1.451164</td>\n",
       "      <td>2.171527</td>\n",
       "      <td>0.286006</td>\n",
       "      <td>-0.166391</td>\n",
       "      <td>1.396359</td>\n",
       "    </tr>\n",
       "    <tr>\n",
       "      <th>Trevor Ariza</th>\n",
       "      <td>-0.187000</td>\n",
       "      <td>0.174730</td>\n",
       "      <td>0.212979</td>\n",
       "      <td>1.688707</td>\n",
       "      <td>0.903331</td>\n",
       "      <td>0.511151</td>\n",
       "      <td>1.083713</td>\n",
       "      <td>0.927520</td>\n",
       "      <td>0.668987</td>\n",
       "      <td>-0.405676</td>\n",
       "      <td>...</td>\n",
       "      <td>0.227935</td>\n",
       "      <td>0.270980</td>\n",
       "      <td>0.776325</td>\n",
       "      <td>0.650306</td>\n",
       "      <td>0.118235</td>\n",
       "      <td>0.404649</td>\n",
       "      <td>1.822187</td>\n",
       "      <td>-0.454053</td>\n",
       "      <td>0.644638</td>\n",
       "      <td>0.586175</td>\n",
       "    </tr>\n",
       "    <tr>\n",
       "      <th>Chris Paul</th>\n",
       "      <td>-0.187000</td>\n",
       "      <td>-0.251594</td>\n",
       "      <td>2.029485</td>\n",
       "      <td>1.873208</td>\n",
       "      <td>1.118096</td>\n",
       "      <td>0.981474</td>\n",
       "      <td>3.228961</td>\n",
       "      <td>3.079375</td>\n",
       "      <td>2.651326</td>\n",
       "      <td>1.918459</td>\n",
       "      <td>...</td>\n",
       "      <td>0.966026</td>\n",
       "      <td>-0.363269</td>\n",
       "      <td>-0.244391</td>\n",
       "      <td>-0.294105</td>\n",
       "      <td>3.097557</td>\n",
       "      <td>0.786485</td>\n",
       "      <td>2.977697</td>\n",
       "      <td>-0.685322</td>\n",
       "      <td>0.083156</td>\n",
       "      <td>1.625324</td>\n",
       "    </tr>\n",
       "    <tr>\n",
       "      <th>Raymond Felton</th>\n",
       "      <td>-0.187000</td>\n",
       "      <td>-0.251594</td>\n",
       "      <td>1.810458</td>\n",
       "      <td>1.662918</td>\n",
       "      <td>0.975940</td>\n",
       "      <td>0.845732</td>\n",
       "      <td>0.984991</td>\n",
       "      <td>1.221584</td>\n",
       "      <td>0.828366</td>\n",
       "      <td>-0.405676</td>\n",
       "      <td>...</td>\n",
       "      <td>0.429232</td>\n",
       "      <td>-0.721758</td>\n",
       "      <td>-0.776141</td>\n",
       "      <td>-0.795131</td>\n",
       "      <td>1.335658</td>\n",
       "      <td>0.942049</td>\n",
       "      <td>0.532315</td>\n",
       "      <td>-0.685322</td>\n",
       "      <td>-0.244375</td>\n",
       "      <td>0.348404</td>\n",
       "    </tr>\n",
       "    <tr>\n",
       "      <th>Jose Calderon</th>\n",
       "      <td>-0.187000</td>\n",
       "      <td>-0.251594</td>\n",
       "      <td>1.325484</td>\n",
       "      <td>1.183817</td>\n",
       "      <td>0.641765</td>\n",
       "      <td>1.895148</td>\n",
       "      <td>1.745492</td>\n",
       "      <td>1.596131</td>\n",
       "      <td>1.288465</td>\n",
       "      <td>-0.405676</td>\n",
       "      <td>...</td>\n",
       "      <td>1.100224</td>\n",
       "      <td>-0.818274</td>\n",
       "      <td>-0.568330</td>\n",
       "      <td>-0.675416</td>\n",
       "      <td>2.118724</td>\n",
       "      <td>0.319796</td>\n",
       "      <td>-0.005131</td>\n",
       "      <td>-0.731575</td>\n",
       "      <td>-0.603099</td>\n",
       "      <td>-1.382043</td>\n",
       "    </tr>\n",
       "    <tr>\n",
       "      <th>LaMarcus Aldridge</th>\n",
       "      <td>-0.187000</td>\n",
       "      <td>-0.251594</td>\n",
       "      <td>-0.290211</td>\n",
       "      <td>2.299397</td>\n",
       "      <td>1.415043</td>\n",
       "      <td>0.999727</td>\n",
       "      <td>1.081146</td>\n",
       "      <td>2.156453</td>\n",
       "      <td>1.825216</td>\n",
       "      <td>-0.405676</td>\n",
       "      <td>...</td>\n",
       "      <td>0.697629</td>\n",
       "      <td>1.346445</td>\n",
       "      <td>1.833713</td>\n",
       "      <td>1.763204</td>\n",
       "      <td>-0.291652</td>\n",
       "      <td>0.263228</td>\n",
       "      <td>-0.273855</td>\n",
       "      <td>0.656035</td>\n",
       "      <td>-0.197585</td>\n",
       "      <td>1.211425</td>\n",
       "    </tr>\n",
       "  </tbody>\n",
       "</table>\n",
       "<p>20 rows × 41 columns</p>\n",
       "</div>"
      ],
      "text/plain": [
       "                   0304_salary_adjusted  0405_salary_adjusted  \\\n",
       "player_name                                                     \n",
       "LeBron James                   6.157458              4.529054   \n",
       "LeBron James                   6.157458              4.529054   \n",
       "Tyson Chandler                 5.818743              5.061014   \n",
       "Tyson Chandler                 5.818743              5.061014   \n",
       "Carmelo Anthony                4.910768              3.589603   \n",
       "Carmelo Anthony                4.910768              3.589603   \n",
       "Kyle Korver                    0.392254              0.434511   \n",
       "Kyle Korver                    0.392254              0.434511   \n",
       "Zaza Pachulia                  0.392254              0.434511   \n",
       "Udonis Haslem                  0.392254              0.434511   \n",
       "Dwight Howard                 -0.187000              4.373430   \n",
       "Dwight Howard                 -0.187000              4.373430   \n",
       "Dwight Howard                 -0.187000              4.373430   \n",
       "Devin Harris                  -0.187000              2.782404   \n",
       "Andre Iguodala                -0.187000              1.866853   \n",
       "Trevor Ariza                  -0.187000              0.174730   \n",
       "Chris Paul                    -0.187000             -0.251594   \n",
       "Raymond Felton                -0.187000             -0.251594   \n",
       "Jose Calderon                 -0.187000             -0.251594   \n",
       "LaMarcus Aldridge             -0.187000             -0.251594   \n",
       "\n",
       "                   0506_salary_adjusted  0607_salary_adjusted  \\\n",
       "player_name                                                     \n",
       "LeBron James                   3.119569              3.485302   \n",
       "LeBron James                   3.119569              3.485302   \n",
       "Tyson Chandler                 6.349632              5.672958   \n",
       "Tyson Chandler                 6.349632              5.672958   \n",
       "Carmelo Anthony                2.449565              2.738469   \n",
       "Carmelo Anthony                2.449565              2.738469   \n",
       "Kyle Korver                    2.388127              2.293380   \n",
       "Kyle Korver                    2.388127              2.293380   \n",
       "Zaza Pachulia                  2.660830              2.281406   \n",
       "Udonis Haslem                  3.398591              3.285700   \n",
       "Dwight Howard                  3.024664              2.812674   \n",
       "Dwight Howard                  3.024664              2.812674   \n",
       "Dwight Howard                  3.024664              2.812674   \n",
       "Devin Harris                   1.884293              1.723690   \n",
       "Andre Iguodala                 1.228099              1.097089   \n",
       "Trevor Ariza                   0.212979              1.688707   \n",
       "Chris Paul                     2.029485              1.873208   \n",
       "Raymond Felton                 1.810458              1.662918   \n",
       "Jose Calderon                  1.325484              1.183817   \n",
       "LaMarcus Aldridge             -0.290211              2.299397   \n",
       "\n",
       "                   0708_salary_adjusted  0809_salary_adjusted  \\\n",
       "player_name                                                     \n",
       "LeBron James                   5.041307              4.119668   \n",
       "LeBron James                   5.041307              4.119668   \n",
       "Tyson Chandler                 3.879469              3.143223   \n",
       "Tyson Chandler                 3.879469              3.143223   \n",
       "Carmelo Anthony                5.041307              4.119668   \n",
       "Carmelo Anthony                5.041307              4.119668   \n",
       "Kyle Korver                    1.444447              1.103548   \n",
       "Kyle Korver                    1.444447              1.103548   \n",
       "Zaza Pachulia                  1.277950              0.798286   \n",
       "Udonis Haslem                  2.131248              1.619811   \n",
       "Dwight Howard                  2.135941              3.911469   \n",
       "Dwight Howard                  2.135941              3.911469   \n",
       "Dwight Howard                  2.135941              3.911469   \n",
       "Devin Harris                   1.275870              2.010634   \n",
       "Andre Iguodala                 0.780493              3.127271   \n",
       "Trevor Ariza                   0.903331              0.511151   \n",
       "Chris Paul                     1.118096              0.981474   \n",
       "Raymond Felton                 0.975940              0.845732   \n",
       "Jose Calderon                  0.641765              1.895148   \n",
       "LaMarcus Aldridge              1.415043              0.999727   \n",
       "\n",
       "                   0910_salary_adjusted  1011_salary_adjusted  \\\n",
       "player_name                                                     \n",
       "LeBron James                   3.861192              2.969470   \n",
       "LeBron James                   3.861192              2.969470   \n",
       "Tyson Chandler                 2.761520              2.495044   \n",
       "Tyson Chandler                 2.761520              2.495044   \n",
       "Carmelo Anthony                3.861192              3.630980   \n",
       "Carmelo Anthony                3.861192              3.630980   \n",
       "Kyle Korver                    0.888150              0.597339   \n",
       "Kyle Korver                    0.888150              0.597339   \n",
       "Zaza Pachulia                  0.774791              0.410378   \n",
       "Udonis Haslem                  1.432370              0.222792   \n",
       "Dwight Howard                  3.699645              3.505616   \n",
       "Dwight Howard                  3.699645              3.505616   \n",
       "Dwight Howard                  3.699645              3.505616   \n",
       "Devin Harris                   1.796137              1.591387   \n",
       "Andre Iguodala                 2.859457              2.431433   \n",
       "Trevor Ariza                   1.083713              0.927520   \n",
       "Chris Paul                     3.228961              3.079375   \n",
       "Raymond Felton                 0.984991              1.221584   \n",
       "Jose Calderon                  1.745492              1.596131   \n",
       "LaMarcus Aldridge              1.081146              2.156453   \n",
       "\n",
       "                   1112_salary_adjusted  2425_salary_predicted  ...       FT%  \\\n",
       "player_name                                                     ...             \n",
       "LeBron James                   2.581450               3.474116  ... -0.040462   \n",
       "LeBron James                   2.581450               3.474116  ... -0.174660   \n",
       "Tyson Chandler                 1.977651              -0.405676  ... -0.040462   \n",
       "Tyson Chandler                 1.977651              -0.405676  ... -0.107561   \n",
       "Carmelo Anthony                3.098535              -0.405676  ...  0.697629   \n",
       "Carmelo Anthony                3.098535              -0.405676  ...  0.429232   \n",
       "Kyle Korver                    0.298039              -0.405676  ...  1.100224   \n",
       "Kyle Korver                    0.298039              -0.405676  ...  0.764728   \n",
       "Zaza Pachulia                  0.246250              -0.405676  ...  0.093737   \n",
       "Udonis Haslem                  0.045305              -0.405676  ... -1.181148   \n",
       "Dwight Howard                  3.010118              -0.405676  ... -1.114049   \n",
       "Dwight Howard                  3.010118              -0.405676  ... -1.717941   \n",
       "Dwight Howard                  3.010118              -0.405676  ... -1.650842   \n",
       "Devin Harris                   1.192759              -0.405676  ...  0.429232   \n",
       "Andre Iguodala                 2.065469              -0.405676  ... -1.114049   \n",
       "Trevor Ariza                   0.668987              -0.405676  ...  0.227935   \n",
       "Chris Paul                     2.651326               1.918459  ...  0.966026   \n",
       "Raymond Felton                 0.828366              -0.405676  ...  0.429232   \n",
       "Jose Calderon                  1.288465              -0.405676  ...  1.100224   \n",
       "LaMarcus Aldridge              1.825216              -0.405676  ...  0.697629   \n",
       "\n",
       "                       OREB      DREB       REB       AST       TOV       STL  \\\n",
       "player_name                                                                     \n",
       "LeBron James       0.436436  1.253067  1.049353  2.094254  2.059274  1.230996   \n",
       "LeBron James      -0.390845  0.709092  0.388709  2.075900  2.384543  1.365357   \n",
       "Tyson Chandler     1.746298  1.448653  1.612453 -0.854481 -0.217604 -0.596323   \n",
       "Tyson Chandler     2.959644  1.962067  2.375076 -0.536360  0.022812 -0.435089   \n",
       "Carmelo Anthony    0.905229  1.393644  1.302083  0.430238  1.338027  0.989145   \n",
       "Carmelo Anthony    0.119311  0.042877  0.069471  0.173294  0.574354  0.102358   \n",
       "Kyle Korver       -0.997518 -0.427753 -0.631078 -0.377299 -0.486303 -0.650067   \n",
       "Kyle Korver       -0.776910  0.128446 -0.156655 -0.157062 -0.472161  0.317337   \n",
       "Zaza Pachulia      0.725984 -0.274951  0.034000 -0.566948 -0.472161 -0.623195   \n",
       "Udonis Haslem     -0.514938 -0.708908 -0.679850 -0.970717 -1.122698 -1.268131   \n",
       "Dwight Howard      2.421911  3.105024  3.031286 -0.407888  1.479448 -0.273855   \n",
       "Dwight Howard      2.187515  2.127093  2.246494 -0.450712  0.885480  0.290464   \n",
       "Dwight Howard      2.366759  2.719963  2.734218 -0.389535  1.719864  0.693549   \n",
       "Devin Harris      -0.983730 -1.051184 -1.078897  0.038704 -0.627724 -0.811301   \n",
       "Andre Iguodala     0.036583  0.562403  0.419746  1.598719  1.451164  2.171527   \n",
       "Trevor Ariza       0.270980  0.776325  0.650306  0.118235  0.404649  1.822187   \n",
       "Chris Paul        -0.363269 -0.244391 -0.294105  3.097557  0.786485  2.977697   \n",
       "Raymond Felton    -0.721758 -0.776141 -0.795131  1.335658  0.942049  0.532315   \n",
       "Jose Calderon     -0.818274 -0.568330 -0.675416  2.118724  0.319796 -0.005131   \n",
       "LaMarcus Aldridge  1.346445  1.833713  1.763204 -0.291652  0.263228 -0.273855   \n",
       "\n",
       "                        BLK        PF       +/-  \n",
       "player_name                                      \n",
       "LeBron James       0.216625  0.083156  2.444314  \n",
       "LeBron James       0.216625 -0.041617  2.105269  \n",
       "Tyson Chandler     0.933558  1.596039  1.022089  \n",
       "Tyson Chandler     1.187953  0.488671  0.735883  \n",
       "Carmelo Anthony    0.262879  1.346491  0.181083  \n",
       "Carmelo Anthony   -0.361546  0.285914  0.198696  \n",
       "Kyle Korver       -0.430926 -0.478326 -1.020983  \n",
       "Kyle Korver       -0.060897  0.504268  0.599385  \n",
       "Zaza Pachulia     -0.639068 -0.150794 -0.391329  \n",
       "Udonis Haslem     -0.569687 -0.915034 -0.580666  \n",
       "Dwight Howard      2.113027  1.736409  0.115036  \n",
       "Dwight Howard      1.696744  1.268507 -0.197590  \n",
       "Dwight Howard      3.385003  2.391472  0.330791  \n",
       "Devin Harris      -0.870336 -1.024211  0.410048  \n",
       "Andre Iguodala     0.286006 -0.166391  1.396359  \n",
       "Trevor Ariza      -0.454053  0.644638  0.586175  \n",
       "Chris Paul        -0.685322  0.083156  1.625324  \n",
       "Raymond Felton    -0.685322 -0.244375  0.348404  \n",
       "Jose Calderon     -0.731575 -0.603099 -1.382043  \n",
       "LaMarcus Aldridge  0.656035 -0.197585  1.211425  \n",
       "\n",
       "[20 rows x 41 columns]"
      ]
     },
     "execution_count": 118,
     "metadata": {},
     "output_type": "execute_result"
    }
   ],
   "source": [
    "# Create a DataFrame with the scaled data\n",
    "df_player_data_scaled=pd.DataFrame(df_player_data_scaled, \n",
    "                             columns= ['0304_salary_adjusted','0405_salary_adjusted','0506_salary_adjusted',\n",
    "       '0607_salary_adjusted','0708_salary_adjusted','0809_salary_adjusted','0910_salary_adjusted',\n",
    "       '1011_salary_adjusted','1112_salary_adjusted','2425_salary_predicted', '2526_salary_predicted',\n",
    "       '2425_salary_predicted', '2526_salary_predicted',\n",
    "       '2627_salary_predicted', 'CONTRACT_START', 'CONTRACT_END', 'AVG_SALARY',\n",
    "       'AGE', 'GP', 'W', 'L', 'MIN', 'PTS', 'FGM', 'FGA', 'FG%', '3PM', '3PA',\n",
    "       '3P%', 'FTM', 'FTA', 'FT%', 'OREB', 'DREB', 'REB', 'AST', 'TOV', 'STL',\n",
    "       'BLK', 'PF', '+/-'])\n",
    "# Copy the crypto names from the original data\n",
    "df_player_data_scaled['player_name']=df_player_data_scaled.index\n",
    "# Set the coinid column as index\n",
    "df_player_data_scaled=df_player_data_scaled.set_index('player_name')\n",
    "\n",
    "# Display sample data\n",
    "df_player_data_scaled.head(20)"
   ]
  },
  {
   "cell_type": "markdown",
   "metadata": {},
   "source": [
    "---"
   ]
  },
  {
   "cell_type": "markdown",
   "metadata": {},
   "source": [
    "### Find the Best Value for k Using the Original Data."
   ]
  },
  {
   "cell_type": "code",
   "execution_count": 119,
   "metadata": {},
   "outputs": [],
   "source": [
    "# Create a list with the number of k-values from 1 to 11\n",
    "k=list(range(1,20))"
   ]
  },
  {
   "cell_type": "code",
   "execution_count": 120,
   "metadata": {},
   "outputs": [
    {
     "name": "stderr",
     "output_type": "stream",
     "text": [
      "C:\\Users\\KandelLabDoric\\anaconda3a\\lib\\site-packages\\sklearn\\cluster\\_kmeans.py:870: FutureWarning:\n",
      "\n",
      "The default value of `n_init` will change from 10 to 'auto' in 1.4. Set the value of `n_init` explicitly to suppress the warning\n",
      "\n",
      "C:\\Users\\KandelLabDoric\\anaconda3a\\lib\\site-packages\\sklearn\\cluster\\_kmeans.py:1382: UserWarning:\n",
      "\n",
      "KMeans is known to have a memory leak on Windows with MKL, when there are less chunks than available threads. You can avoid it by setting the environment variable OMP_NUM_THREADS=1.\n",
      "\n",
      "C:\\Users\\KandelLabDoric\\anaconda3a\\lib\\site-packages\\sklearn\\cluster\\_kmeans.py:870: FutureWarning:\n",
      "\n",
      "The default value of `n_init` will change from 10 to 'auto' in 1.4. Set the value of `n_init` explicitly to suppress the warning\n",
      "\n",
      "C:\\Users\\KandelLabDoric\\anaconda3a\\lib\\site-packages\\sklearn\\cluster\\_kmeans.py:1382: UserWarning:\n",
      "\n",
      "KMeans is known to have a memory leak on Windows with MKL, when there are less chunks than available threads. You can avoid it by setting the environment variable OMP_NUM_THREADS=1.\n",
      "\n",
      "C:\\Users\\KandelLabDoric\\anaconda3a\\lib\\site-packages\\sklearn\\cluster\\_kmeans.py:870: FutureWarning:\n",
      "\n",
      "The default value of `n_init` will change from 10 to 'auto' in 1.4. Set the value of `n_init` explicitly to suppress the warning\n",
      "\n",
      "C:\\Users\\KandelLabDoric\\anaconda3a\\lib\\site-packages\\sklearn\\cluster\\_kmeans.py:1382: UserWarning:\n",
      "\n",
      "KMeans is known to have a memory leak on Windows with MKL, when there are less chunks than available threads. You can avoid it by setting the environment variable OMP_NUM_THREADS=1.\n",
      "\n",
      "C:\\Users\\KandelLabDoric\\anaconda3a\\lib\\site-packages\\sklearn\\cluster\\_kmeans.py:870: FutureWarning:\n",
      "\n",
      "The default value of `n_init` will change from 10 to 'auto' in 1.4. Set the value of `n_init` explicitly to suppress the warning\n",
      "\n",
      "C:\\Users\\KandelLabDoric\\anaconda3a\\lib\\site-packages\\sklearn\\cluster\\_kmeans.py:1382: UserWarning:\n",
      "\n",
      "KMeans is known to have a memory leak on Windows with MKL, when there are less chunks than available threads. You can avoid it by setting the environment variable OMP_NUM_THREADS=1.\n",
      "\n",
      "C:\\Users\\KandelLabDoric\\anaconda3a\\lib\\site-packages\\sklearn\\cluster\\_kmeans.py:870: FutureWarning:\n",
      "\n",
      "The default value of `n_init` will change from 10 to 'auto' in 1.4. Set the value of `n_init` explicitly to suppress the warning\n",
      "\n",
      "C:\\Users\\KandelLabDoric\\anaconda3a\\lib\\site-packages\\sklearn\\cluster\\_kmeans.py:1382: UserWarning:\n",
      "\n",
      "KMeans is known to have a memory leak on Windows with MKL, when there are less chunks than available threads. You can avoid it by setting the environment variable OMP_NUM_THREADS=1.\n",
      "\n",
      "C:\\Users\\KandelLabDoric\\anaconda3a\\lib\\site-packages\\sklearn\\cluster\\_kmeans.py:870: FutureWarning:\n",
      "\n",
      "The default value of `n_init` will change from 10 to 'auto' in 1.4. Set the value of `n_init` explicitly to suppress the warning\n",
      "\n",
      "C:\\Users\\KandelLabDoric\\anaconda3a\\lib\\site-packages\\sklearn\\cluster\\_kmeans.py:1382: UserWarning:\n",
      "\n",
      "KMeans is known to have a memory leak on Windows with MKL, when there are less chunks than available threads. You can avoid it by setting the environment variable OMP_NUM_THREADS=1.\n",
      "\n",
      "C:\\Users\\KandelLabDoric\\anaconda3a\\lib\\site-packages\\sklearn\\cluster\\_kmeans.py:870: FutureWarning:\n",
      "\n",
      "The default value of `n_init` will change from 10 to 'auto' in 1.4. Set the value of `n_init` explicitly to suppress the warning\n",
      "\n",
      "C:\\Users\\KandelLabDoric\\anaconda3a\\lib\\site-packages\\sklearn\\cluster\\_kmeans.py:1382: UserWarning:\n",
      "\n",
      "KMeans is known to have a memory leak on Windows with MKL, when there are less chunks than available threads. You can avoid it by setting the environment variable OMP_NUM_THREADS=1.\n",
      "\n",
      "C:\\Users\\KandelLabDoric\\anaconda3a\\lib\\site-packages\\sklearn\\cluster\\_kmeans.py:870: FutureWarning:\n",
      "\n",
      "The default value of `n_init` will change from 10 to 'auto' in 1.4. Set the value of `n_init` explicitly to suppress the warning\n",
      "\n",
      "C:\\Users\\KandelLabDoric\\anaconda3a\\lib\\site-packages\\sklearn\\cluster\\_kmeans.py:1382: UserWarning:\n",
      "\n",
      "KMeans is known to have a memory leak on Windows with MKL, when there are less chunks than available threads. You can avoid it by setting the environment variable OMP_NUM_THREADS=1.\n",
      "\n",
      "C:\\Users\\KandelLabDoric\\anaconda3a\\lib\\site-packages\\sklearn\\cluster\\_kmeans.py:870: FutureWarning:\n",
      "\n",
      "The default value of `n_init` will change from 10 to 'auto' in 1.4. Set the value of `n_init` explicitly to suppress the warning\n",
      "\n",
      "C:\\Users\\KandelLabDoric\\anaconda3a\\lib\\site-packages\\sklearn\\cluster\\_kmeans.py:1382: UserWarning:\n",
      "\n",
      "KMeans is known to have a memory leak on Windows with MKL, when there are less chunks than available threads. You can avoid it by setting the environment variable OMP_NUM_THREADS=1.\n",
      "\n",
      "C:\\Users\\KandelLabDoric\\anaconda3a\\lib\\site-packages\\sklearn\\cluster\\_kmeans.py:870: FutureWarning:\n",
      "\n",
      "The default value of `n_init` will change from 10 to 'auto' in 1.4. Set the value of `n_init` explicitly to suppress the warning\n",
      "\n",
      "C:\\Users\\KandelLabDoric\\anaconda3a\\lib\\site-packages\\sklearn\\cluster\\_kmeans.py:1382: UserWarning:\n",
      "\n",
      "KMeans is known to have a memory leak on Windows with MKL, when there are less chunks than available threads. You can avoid it by setting the environment variable OMP_NUM_THREADS=1.\n",
      "\n",
      "C:\\Users\\KandelLabDoric\\anaconda3a\\lib\\site-packages\\sklearn\\cluster\\_kmeans.py:870: FutureWarning:\n",
      "\n",
      "The default value of `n_init` will change from 10 to 'auto' in 1.4. Set the value of `n_init` explicitly to suppress the warning\n",
      "\n",
      "C:\\Users\\KandelLabDoric\\anaconda3a\\lib\\site-packages\\sklearn\\cluster\\_kmeans.py:1382: UserWarning:\n",
      "\n",
      "KMeans is known to have a memory leak on Windows with MKL, when there are less chunks than available threads. You can avoid it by setting the environment variable OMP_NUM_THREADS=1.\n",
      "\n",
      "C:\\Users\\KandelLabDoric\\anaconda3a\\lib\\site-packages\\sklearn\\cluster\\_kmeans.py:870: FutureWarning:\n",
      "\n",
      "The default value of `n_init` will change from 10 to 'auto' in 1.4. Set the value of `n_init` explicitly to suppress the warning\n",
      "\n",
      "C:\\Users\\KandelLabDoric\\anaconda3a\\lib\\site-packages\\sklearn\\cluster\\_kmeans.py:1382: UserWarning:\n",
      "\n",
      "KMeans is known to have a memory leak on Windows with MKL, when there are less chunks than available threads. You can avoid it by setting the environment variable OMP_NUM_THREADS=1.\n",
      "\n",
      "C:\\Users\\KandelLabDoric\\anaconda3a\\lib\\site-packages\\sklearn\\cluster\\_kmeans.py:870: FutureWarning:\n",
      "\n",
      "The default value of `n_init` will change from 10 to 'auto' in 1.4. Set the value of `n_init` explicitly to suppress the warning\n",
      "\n",
      "C:\\Users\\KandelLabDoric\\anaconda3a\\lib\\site-packages\\sklearn\\cluster\\_kmeans.py:1382: UserWarning:\n",
      "\n",
      "KMeans is known to have a memory leak on Windows with MKL, when there are less chunks than available threads. You can avoid it by setting the environment variable OMP_NUM_THREADS=1.\n",
      "\n",
      "C:\\Users\\KandelLabDoric\\anaconda3a\\lib\\site-packages\\sklearn\\cluster\\_kmeans.py:870: FutureWarning:\n",
      "\n",
      "The default value of `n_init` will change from 10 to 'auto' in 1.4. Set the value of `n_init` explicitly to suppress the warning\n",
      "\n",
      "C:\\Users\\KandelLabDoric\\anaconda3a\\lib\\site-packages\\sklearn\\cluster\\_kmeans.py:1382: UserWarning:\n",
      "\n",
      "KMeans is known to have a memory leak on Windows with MKL, when there are less chunks than available threads. You can avoid it by setting the environment variable OMP_NUM_THREADS=1.\n",
      "\n",
      "C:\\Users\\KandelLabDoric\\anaconda3a\\lib\\site-packages\\sklearn\\cluster\\_kmeans.py:870: FutureWarning:\n",
      "\n",
      "The default value of `n_init` will change from 10 to 'auto' in 1.4. Set the value of `n_init` explicitly to suppress the warning\n",
      "\n",
      "C:\\Users\\KandelLabDoric\\anaconda3a\\lib\\site-packages\\sklearn\\cluster\\_kmeans.py:1382: UserWarning:\n",
      "\n",
      "KMeans is known to have a memory leak on Windows with MKL, when there are less chunks than available threads. You can avoid it by setting the environment variable OMP_NUM_THREADS=1.\n",
      "\n",
      "C:\\Users\\KandelLabDoric\\anaconda3a\\lib\\site-packages\\sklearn\\cluster\\_kmeans.py:870: FutureWarning:\n",
      "\n",
      "The default value of `n_init` will change from 10 to 'auto' in 1.4. Set the value of `n_init` explicitly to suppress the warning\n",
      "\n",
      "C:\\Users\\KandelLabDoric\\anaconda3a\\lib\\site-packages\\sklearn\\cluster\\_kmeans.py:1382: UserWarning:\n",
      "\n",
      "KMeans is known to have a memory leak on Windows with MKL, when there are less chunks than available threads. You can avoid it by setting the environment variable OMP_NUM_THREADS=1.\n",
      "\n"
     ]
    },
    {
     "name": "stderr",
     "output_type": "stream",
     "text": [
      "C:\\Users\\KandelLabDoric\\anaconda3a\\lib\\site-packages\\sklearn\\cluster\\_kmeans.py:870: FutureWarning:\n",
      "\n",
      "The default value of `n_init` will change from 10 to 'auto' in 1.4. Set the value of `n_init` explicitly to suppress the warning\n",
      "\n",
      "C:\\Users\\KandelLabDoric\\anaconda3a\\lib\\site-packages\\sklearn\\cluster\\_kmeans.py:1382: UserWarning:\n",
      "\n",
      "KMeans is known to have a memory leak on Windows with MKL, when there are less chunks than available threads. You can avoid it by setting the environment variable OMP_NUM_THREADS=1.\n",
      "\n",
      "C:\\Users\\KandelLabDoric\\anaconda3a\\lib\\site-packages\\sklearn\\cluster\\_kmeans.py:870: FutureWarning:\n",
      "\n",
      "The default value of `n_init` will change from 10 to 'auto' in 1.4. Set the value of `n_init` explicitly to suppress the warning\n",
      "\n",
      "C:\\Users\\KandelLabDoric\\anaconda3a\\lib\\site-packages\\sklearn\\cluster\\_kmeans.py:1382: UserWarning:\n",
      "\n",
      "KMeans is known to have a memory leak on Windows with MKL, when there are less chunks than available threads. You can avoid it by setting the environment variable OMP_NUM_THREADS=1.\n",
      "\n",
      "C:\\Users\\KandelLabDoric\\anaconda3a\\lib\\site-packages\\sklearn\\cluster\\_kmeans.py:870: FutureWarning:\n",
      "\n",
      "The default value of `n_init` will change from 10 to 'auto' in 1.4. Set the value of `n_init` explicitly to suppress the warning\n",
      "\n",
      "C:\\Users\\KandelLabDoric\\anaconda3a\\lib\\site-packages\\sklearn\\cluster\\_kmeans.py:1382: UserWarning:\n",
      "\n",
      "KMeans is known to have a memory leak on Windows with MKL, when there are less chunks than available threads. You can avoid it by setting the environment variable OMP_NUM_THREADS=1.\n",
      "\n"
     ]
    }
   ],
   "source": [
    "# Create an empty list to store the inertia values\n",
    "inertia=[]\n",
    "\n",
    "# Create a for loop to compute the inertia with each possible value of k\n",
    "# Inside the loop:\n",
    "# 1. Create a KMeans model using the loop counter for the n_clusters\n",
    "# 2. Fit the model to the data using `df_market_data_scaled`\n",
    "# 3. Append the model.inertia_ to the inertia list\n",
    "for i in k:\n",
    "    k_model = KMeans(n_clusters=i, random_state=0)\n",
    "    k_model.fit(df_player_data_scaled)\n",
    "    inertia.append(k_model.inertia_)"
   ]
  },
  {
   "cell_type": "code",
   "execution_count": 89,
   "metadata": {},
   "outputs": [],
   "source": [
    "# Create a dictionary with the data to plot the Elbow curve\n",
    "elbow_data = {\"k_original\": k, \"inertia\": inertia}\n",
    "\n",
    "# Create a DataFrame with the data to plot the Elbow curve\n",
    "df_elbow_original = pd.DataFrame(elbow_data)"
   ]
  },
  {
   "cell_type": "code",
   "execution_count": 121,
   "metadata": {},
   "outputs": [
    {
     "data": {},
     "metadata": {},
     "output_type": "display_data"
    },
    {
     "data": {
      "application/vnd.holoviews_exec.v0+json": "",
      "text/html": [
       "<div id='12553'>\n",
       "  <div class=\"bk-root\" id=\"fc9d6b9e-e6c0-45cb-818c-c12fcdc1693b\" data-root-id=\"12553\"></div>\n",
       "</div>\n",
       "<script type=\"application/javascript\">(function(root) {\n",
       "  function embed_document(root) {\n",
       "    var docs_json = {\"53734159-fb8e-4f9e-b07f-8b741b631f82\":{\"defs\":[{\"extends\":null,\"module\":null,\"name\":\"ReactiveHTML1\",\"overrides\":[],\"properties\":[]},{\"extends\":null,\"module\":null,\"name\":\"FlexBox1\",\"overrides\":[],\"properties\":[{\"default\":\"flex-start\",\"kind\":null,\"name\":\"align_content\"},{\"default\":\"flex-start\",\"kind\":null,\"name\":\"align_items\"},{\"default\":\"row\",\"kind\":null,\"name\":\"flex_direction\"},{\"default\":\"wrap\",\"kind\":null,\"name\":\"flex_wrap\"},{\"default\":\"flex-start\",\"kind\":null,\"name\":\"justify_content\"}]},{\"extends\":null,\"module\":null,\"name\":\"GridStack1\",\"overrides\":[],\"properties\":[{\"default\":\"warn\",\"kind\":null,\"name\":\"mode\"},{\"default\":null,\"kind\":null,\"name\":\"ncols\"},{\"default\":null,\"kind\":null,\"name\":\"nrows\"},{\"default\":true,\"kind\":null,\"name\":\"allow_resize\"},{\"default\":true,\"kind\":null,\"name\":\"allow_drag\"},{\"default\":[],\"kind\":null,\"name\":\"state\"}]},{\"extends\":null,\"module\":null,\"name\":\"click1\",\"overrides\":[],\"properties\":[{\"default\":\"\",\"kind\":null,\"name\":\"terminal_output\"},{\"default\":\"\",\"kind\":null,\"name\":\"debug_name\"},{\"default\":0,\"kind\":null,\"name\":\"clears\"}]},{\"extends\":null,\"module\":null,\"name\":\"NotificationAreaBase1\",\"overrides\":[],\"properties\":[{\"default\":\"bottom-right\",\"kind\":null,\"name\":\"position\"},{\"default\":0,\"kind\":null,\"name\":\"_clear\"}]},{\"extends\":null,\"module\":null,\"name\":\"NotificationArea1\",\"overrides\":[],\"properties\":[{\"default\":[],\"kind\":null,\"name\":\"notifications\"},{\"default\":\"bottom-right\",\"kind\":null,\"name\":\"position\"},{\"default\":0,\"kind\":null,\"name\":\"_clear\"},{\"default\":[{\"background\":\"#ffc107\",\"icon\":{\"className\":\"fas fa-exclamation-triangle\",\"color\":\"white\",\"tagName\":\"i\"},\"type\":\"warning\"},{\"background\":\"#007bff\",\"icon\":{\"className\":\"fas fa-info-circle\",\"color\":\"white\",\"tagName\":\"i\"},\"type\":\"info\"}],\"kind\":null,\"name\":\"types\"}]},{\"extends\":null,\"module\":null,\"name\":\"Notification\",\"overrides\":[],\"properties\":[{\"default\":null,\"kind\":null,\"name\":\"background\"},{\"default\":3000,\"kind\":null,\"name\":\"duration\"},{\"default\":null,\"kind\":null,\"name\":\"icon\"},{\"default\":\"\",\"kind\":null,\"name\":\"message\"},{\"default\":null,\"kind\":null,\"name\":\"notification_type\"},{\"default\":false,\"kind\":null,\"name\":\"_destroyed\"}]},{\"extends\":null,\"module\":null,\"name\":\"TemplateActions1\",\"overrides\":[],\"properties\":[{\"default\":0,\"kind\":null,\"name\":\"open_modal\"},{\"default\":0,\"kind\":null,\"name\":\"close_modal\"}]},{\"extends\":null,\"module\":null,\"name\":\"MaterialTemplateActions1\",\"overrides\":[],\"properties\":[{\"default\":0,\"kind\":null,\"name\":\"open_modal\"},{\"default\":0,\"kind\":null,\"name\":\"close_modal\"}]}],\"roots\":{\"references\":[{\"attributes\":{\"axis_label\":\"inertia\",\"coordinates\":null,\"formatter\":{\"id\":\"12603\"},\"group\":null,\"major_label_policy\":{\"id\":\"12604\"},\"ticker\":{\"id\":\"12571\"}},\"id\":\"12570\",\"type\":\"LinearAxis\"},{\"attributes\":{},\"id\":\"12604\",\"type\":\"AllLabels\"},{\"attributes\":{\"axis_label\":\"k_original\",\"coordinates\":null,\"formatter\":{\"id\":\"12598\"},\"group\":null,\"major_label_policy\":{\"id\":\"12599\"},\"ticker\":{\"id\":\"12596\"}},\"id\":\"12566\",\"type\":\"LinearAxis\"},{\"attributes\":{},\"id\":\"12575\",\"type\":\"PanTool\"},{\"attributes\":{},\"id\":\"12574\",\"type\":\"SaveTool\"},{\"attributes\":{},\"id\":\"12615\",\"type\":\"UnionRenderers\"},{\"attributes\":{\"end\":8514.29447395527,\"reset_end\":8514.29447395527,\"reset_start\":1648.02711815033,\"start\":1648.02711815033,\"tags\":[[[\"inertia\",\"inertia\",null]]]},\"id\":\"12555\",\"type\":\"Range1d\"},{\"attributes\":{\"axis\":{\"id\":\"12570\"},\"coordinates\":null,\"dimension\":1,\"grid_line_color\":null,\"group\":null,\"ticker\":null},\"id\":\"12573\",\"type\":\"Grid\"},{\"attributes\":{\"coordinates\":null,\"group\":null,\"text\":\"Elbow Curve\",\"text_color\":\"black\",\"text_font_size\":\"12pt\"},\"id\":\"12558\",\"type\":\"Title\"},{\"attributes\":{\"overlay\":{\"id\":\"12579\"}},\"id\":\"12577\",\"type\":\"BoxZoomTool\"},{\"attributes\":{\"axis\":{\"id\":\"12566\"},\"coordinates\":null,\"grid_line_color\":null,\"group\":null,\"ticker\":null},\"id\":\"12569\",\"type\":\"Grid\"},{\"attributes\":{\"children\":[{\"id\":\"12557\"}],\"height\":300,\"margin\":[0,0,0,0],\"name\":\"Row08168\",\"sizing_mode\":\"fixed\",\"tags\":[\"embedded\"],\"width\":700},\"id\":\"12553\",\"type\":\"Row\"},{\"attributes\":{\"below\":[{\"id\":\"12566\"}],\"center\":[{\"id\":\"12569\"},{\"id\":\"12573\"}],\"height\":300,\"left\":[{\"id\":\"12570\"}],\"margin\":[5,5,5,5],\"min_border_bottom\":10,\"min_border_left\":10,\"min_border_right\":10,\"min_border_top\":10,\"renderers\":[{\"id\":\"12593\"}],\"sizing_mode\":\"fixed\",\"title\":{\"id\":\"12558\"},\"toolbar\":{\"id\":\"12580\"},\"width\":700,\"x_range\":{\"id\":\"12554\"},\"x_scale\":{\"id\":\"12562\"},\"y_range\":{\"id\":\"12555\"},\"y_scale\":{\"id\":\"12564\"}},\"id\":\"12557\",\"subtype\":\"Figure\",\"type\":\"Plot\"},{\"attributes\":{\"callback\":null,\"renderers\":[{\"id\":\"12593\"}],\"tags\":[\"hv_created\"],\"tooltips\":[[\"k_original\",\"@{k_original}\"],[\"inertia\",\"@{inertia}\"]]},\"id\":\"12556\",\"type\":\"HoverTool\"},{\"attributes\":{\"coordinates\":null,\"data_source\":{\"id\":\"12587\"},\"glyph\":{\"id\":\"12590\"},\"group\":null,\"hover_glyph\":null,\"muted_glyph\":{\"id\":\"12592\"},\"nonselection_glyph\":{\"id\":\"12591\"},\"selection_glyph\":{\"id\":\"12595\"},\"view\":{\"id\":\"12594\"}},\"id\":\"12593\",\"type\":\"GlyphRenderer\"},{\"attributes\":{\"line_color\":\"#30a2da\",\"line_width\":2,\"x\":{\"field\":\"k_original\"},\"y\":{\"field\":\"inertia\"}},\"id\":\"12595\",\"type\":\"Line\"},{\"attributes\":{\"line_alpha\":0.2,\"line_color\":\"#30a2da\",\"line_width\":2,\"x\":{\"field\":\"k_original\"},\"y\":{\"field\":\"inertia\"}},\"id\":\"12592\",\"type\":\"Line\"},{\"attributes\":{},\"id\":\"12578\",\"type\":\"ResetTool\"},{\"attributes\":{},\"id\":\"12576\",\"type\":\"WheelZoomTool\"},{\"attributes\":{\"bottom_units\":\"screen\",\"coordinates\":null,\"fill_alpha\":0.5,\"fill_color\":\"lightgrey\",\"group\":null,\"left_units\":\"screen\",\"level\":\"overlay\",\"line_alpha\":1.0,\"line_color\":\"black\",\"line_dash\":[4,4],\"line_width\":2,\"right_units\":\"screen\",\"syncable\":false,\"top_units\":\"screen\"},\"id\":\"12579\",\"type\":\"BoxAnnotation\"},{\"attributes\":{},\"id\":\"12598\",\"type\":\"BasicTickFormatter\"},{\"attributes\":{},\"id\":\"12603\",\"type\":\"BasicTickFormatter\"},{\"attributes\":{\"source\":{\"id\":\"12587\"}},\"id\":\"12594\",\"type\":\"CDSView\"},{\"attributes\":{\"end\":19.0,\"reset_end\":19.0,\"reset_start\":1.0,\"start\":1.0,\"tags\":[[[\"k_original\",\"k_original\",null]]]},\"id\":\"12554\",\"type\":\"Range1d\"},{\"attributes\":{\"line_alpha\":0.1,\"line_color\":\"#30a2da\",\"line_width\":2,\"x\":{\"field\":\"k_original\"},\"y\":{\"field\":\"inertia\"}},\"id\":\"12591\",\"type\":\"Line\"},{\"attributes\":{\"line_color\":\"#30a2da\",\"line_width\":2,\"x\":{\"field\":\"k_original\"},\"y\":{\"field\":\"inertia\"}},\"id\":\"12590\",\"type\":\"Line\"},{\"attributes\":{},\"id\":\"12562\",\"type\":\"LinearScale\"},{\"attributes\":{},\"id\":\"12571\",\"type\":\"BasicTicker\"},{\"attributes\":{},\"id\":\"12588\",\"type\":\"Selection\"},{\"attributes\":{\"active_drag\":{\"id\":\"12575\"},\"active_scroll\":{\"id\":\"12576\"},\"tools\":[{\"id\":\"12556\"},{\"id\":\"12574\"},{\"id\":\"12575\"},{\"id\":\"12576\"},{\"id\":\"12577\"},{\"id\":\"12578\"}]},\"id\":\"12580\",\"type\":\"Toolbar\"},{\"attributes\":{\"data\":{\"inertia\":{\"__ndarray__\":\"2/rbAxsGv0DhOiOKnX23QJK99k11WbNA3Kmg+Lz9sECpZVmE5KiuQPM9/zQ9saxAdu32GElnq0ButqMfneepQKe1Id7swKhAXEUDBKHNp0B7CEMdpYmmQNANF6Sw06VAqKb+wgo0pUBIn2lt5h2kQOmwZi/ql6NA6mpwV1OjokBkjx/9UrSiQLop2skj56FAsXoAoG5YoUA=\",\"dtype\":\"float64\",\"order\":\"little\",\"shape\":[19]},\"k_original\":[1,2,3,4,5,6,7,8,9,10,11,12,13,14,15,16,17,18,19]},\"selected\":{\"id\":\"12588\"},\"selection_policy\":{\"id\":\"12615\"}},\"id\":\"12587\",\"type\":\"ColumnDataSource\"},{\"attributes\":{},\"id\":\"12599\",\"type\":\"AllLabels\"},{\"attributes\":{},\"id\":\"12564\",\"type\":\"LinearScale\"},{\"attributes\":{\"ticks\":[1,2,3,4,5,6,7,8,9,10,11,12,13,14,15,16,17,18,19]},\"id\":\"12596\",\"type\":\"FixedTicker\"}],\"root_ids\":[\"12553\"]},\"title\":\"Bokeh Application\",\"version\":\"2.4.3\"}};\n",
       "    var render_items = [{\"docid\":\"53734159-fb8e-4f9e-b07f-8b741b631f82\",\"root_ids\":[\"12553\"],\"roots\":{\"12553\":\"fc9d6b9e-e6c0-45cb-818c-c12fcdc1693b\"}}];\n",
       "    root.Bokeh.embed.embed_items_notebook(docs_json, render_items);\n",
       "    for (const render_item of render_items) {\n",
       "      for (const root_id of render_item.root_ids) {\n",
       "\tconst id_el = document.getElementById(root_id)\n",
       "\tif (id_el.children.length && (id_el.children[0].className === 'bk-root')) {\n",
       "\t  const root_el = id_el.children[0]\n",
       "\t  root_el.id = root_el.id + '-rendered'\n",
       "\t}\n",
       "      }\n",
       "    }\n",
       "  }\n",
       "  if (root.Bokeh !== undefined && root.Bokeh.Panel !== undefined) {\n",
       "    embed_document(root);\n",
       "  } else {\n",
       "    var attempts = 0;\n",
       "    var timer = setInterval(function(root) {\n",
       "      if (root.Bokeh !== undefined && root.Bokeh.Panel !== undefined) {\n",
       "        clearInterval(timer);\n",
       "        embed_document(root);\n",
       "      } else if (document.readyState == \"complete\") {\n",
       "        attempts++;\n",
       "        if (attempts > 200) {\n",
       "          clearInterval(timer);\n",
       "          console.log(\"Bokeh: ERROR: Unable to run BokehJS code because BokehJS library is missing\");\n",
       "        }\n",
       "      }\n",
       "    }, 25, root)\n",
       "  }\n",
       "})(window);</script>"
      ],
      "text/plain": [
       ":Curve   [k_original]   (inertia)"
      ]
     },
     "execution_count": 121,
     "metadata": {
      "application/vnd.holoviews_exec.v0+json": {
       "id": "12553"
      }
     },
     "output_type": "execute_result"
    }
   ],
   "source": [
    "# Plot a line chart with all the inertia values computed with \n",
    "# the different values of k to visually identify the optimal value for k.\n",
    "elbow_plot = df_elbow_original.hvplot.line(\n",
    "    x=\"k_original\", \n",
    "    y=\"inertia\", \n",
    "    title=\"Elbow Curve\", \n",
    "    xticks=k\n",
    ")\n",
    "\n",
    "elbow_plot"
   ]
  },
  {
   "cell_type": "markdown",
   "metadata": {},
   "source": [
    "#### Answer the following question: \n",
    "\n",
    "**Question:** What is the best value for `k`?\n",
    "\n",
    "**Answer:6"
   ]
  },
  {
   "cell_type": "markdown",
   "metadata": {},
   "source": [
    "---"
   ]
  },
  {
   "cell_type": "markdown",
   "metadata": {},
   "source": [
    "### Cluster Cryptocurrencies with K-means Using the Original Data"
   ]
  },
  {
   "cell_type": "code",
   "execution_count": 122,
   "metadata": {},
   "outputs": [],
   "source": [
    "# Initialize the K-Means model using the best value for k\n",
    "model = KMeans(n_clusters=4, random_state=0)"
   ]
  },
  {
   "cell_type": "code",
   "execution_count": 123,
   "metadata": {},
   "outputs": [
    {
     "name": "stderr",
     "output_type": "stream",
     "text": [
      "C:\\Users\\KandelLabDoric\\anaconda3a\\lib\\site-packages\\sklearn\\cluster\\_kmeans.py:870: FutureWarning:\n",
      "\n",
      "The default value of `n_init` will change from 10 to 'auto' in 1.4. Set the value of `n_init` explicitly to suppress the warning\n",
      "\n",
      "C:\\Users\\KandelLabDoric\\anaconda3a\\lib\\site-packages\\sklearn\\cluster\\_kmeans.py:1382: UserWarning:\n",
      "\n",
      "KMeans is known to have a memory leak on Windows with MKL, when there are less chunks than available threads. You can avoid it by setting the environment variable OMP_NUM_THREADS=1.\n",
      "\n"
     ]
    },
    {
     "data": {
      "text/html": [
       "<style>#sk-container-id-8 {color: black;background-color: white;}#sk-container-id-8 pre{padding: 0;}#sk-container-id-8 div.sk-toggleable {background-color: white;}#sk-container-id-8 label.sk-toggleable__label {cursor: pointer;display: block;width: 100%;margin-bottom: 0;padding: 0.3em;box-sizing: border-box;text-align: center;}#sk-container-id-8 label.sk-toggleable__label-arrow:before {content: \"▸\";float: left;margin-right: 0.25em;color: #696969;}#sk-container-id-8 label.sk-toggleable__label-arrow:hover:before {color: black;}#sk-container-id-8 div.sk-estimator:hover label.sk-toggleable__label-arrow:before {color: black;}#sk-container-id-8 div.sk-toggleable__content {max-height: 0;max-width: 0;overflow: hidden;text-align: left;background-color: #f0f8ff;}#sk-container-id-8 div.sk-toggleable__content pre {margin: 0.2em;color: black;border-radius: 0.25em;background-color: #f0f8ff;}#sk-container-id-8 input.sk-toggleable__control:checked~div.sk-toggleable__content {max-height: 200px;max-width: 100%;overflow: auto;}#sk-container-id-8 input.sk-toggleable__control:checked~label.sk-toggleable__label-arrow:before {content: \"▾\";}#sk-container-id-8 div.sk-estimator input.sk-toggleable__control:checked~label.sk-toggleable__label {background-color: #d4ebff;}#sk-container-id-8 div.sk-label input.sk-toggleable__control:checked~label.sk-toggleable__label {background-color: #d4ebff;}#sk-container-id-8 input.sk-hidden--visually {border: 0;clip: rect(1px 1px 1px 1px);clip: rect(1px, 1px, 1px, 1px);height: 1px;margin: -1px;overflow: hidden;padding: 0;position: absolute;width: 1px;}#sk-container-id-8 div.sk-estimator {font-family: monospace;background-color: #f0f8ff;border: 1px dotted black;border-radius: 0.25em;box-sizing: border-box;margin-bottom: 0.5em;}#sk-container-id-8 div.sk-estimator:hover {background-color: #d4ebff;}#sk-container-id-8 div.sk-parallel-item::after {content: \"\";width: 100%;border-bottom: 1px solid gray;flex-grow: 1;}#sk-container-id-8 div.sk-label:hover label.sk-toggleable__label {background-color: #d4ebff;}#sk-container-id-8 div.sk-serial::before {content: \"\";position: absolute;border-left: 1px solid gray;box-sizing: border-box;top: 0;bottom: 0;left: 50%;z-index: 0;}#sk-container-id-8 div.sk-serial {display: flex;flex-direction: column;align-items: center;background-color: white;padding-right: 0.2em;padding-left: 0.2em;position: relative;}#sk-container-id-8 div.sk-item {position: relative;z-index: 1;}#sk-container-id-8 div.sk-parallel {display: flex;align-items: stretch;justify-content: center;background-color: white;position: relative;}#sk-container-id-8 div.sk-item::before, #sk-container-id-8 div.sk-parallel-item::before {content: \"\";position: absolute;border-left: 1px solid gray;box-sizing: border-box;top: 0;bottom: 0;left: 50%;z-index: -1;}#sk-container-id-8 div.sk-parallel-item {display: flex;flex-direction: column;z-index: 1;position: relative;background-color: white;}#sk-container-id-8 div.sk-parallel-item:first-child::after {align-self: flex-end;width: 50%;}#sk-container-id-8 div.sk-parallel-item:last-child::after {align-self: flex-start;width: 50%;}#sk-container-id-8 div.sk-parallel-item:only-child::after {width: 0;}#sk-container-id-8 div.sk-dashed-wrapped {border: 1px dashed gray;margin: 0 0.4em 0.5em 0.4em;box-sizing: border-box;padding-bottom: 0.4em;background-color: white;}#sk-container-id-8 div.sk-label label {font-family: monospace;font-weight: bold;display: inline-block;line-height: 1.2em;}#sk-container-id-8 div.sk-label-container {text-align: center;}#sk-container-id-8 div.sk-container {/* jupyter's `normalize.less` sets `[hidden] { display: none; }` but bootstrap.min.css set `[hidden] { display: none !important; }` so we also need the `!important` here to be able to override the default hidden behavior on the sphinx rendered scikit-learn.org. See: https://github.com/scikit-learn/scikit-learn/issues/21755 */display: inline-block !important;position: relative;}#sk-container-id-8 div.sk-text-repr-fallback {display: none;}</style><div id=\"sk-container-id-8\" class=\"sk-top-container\"><div class=\"sk-text-repr-fallback\"><pre>KMeans(n_clusters=4, random_state=0)</pre><b>In a Jupyter environment, please rerun this cell to show the HTML representation or trust the notebook. <br />On GitHub, the HTML representation is unable to render, please try loading this page with nbviewer.org.</b></div><div class=\"sk-container\" hidden><div class=\"sk-item\"><div class=\"sk-estimator sk-toggleable\"><input class=\"sk-toggleable__control sk-hidden--visually\" id=\"sk-estimator-id-8\" type=\"checkbox\" checked><label for=\"sk-estimator-id-8\" class=\"sk-toggleable__label sk-toggleable__label-arrow\">KMeans</label><div class=\"sk-toggleable__content\"><pre>KMeans(n_clusters=4, random_state=0)</pre></div></div></div></div></div>"
      ],
      "text/plain": [
       "KMeans(n_clusters=4, random_state=0)"
      ]
     },
     "execution_count": 123,
     "metadata": {},
     "output_type": "execute_result"
    }
   ],
   "source": [
    "# Fit the K-Means model using the scaled data\n",
    "model.fit(df_player_data_scaled)"
   ]
  },
  {
   "cell_type": "code",
   "execution_count": 124,
   "metadata": {},
   "outputs": [
    {
     "data": {
      "text/plain": [
       "array([3, 3, 3, 3, 3, 3, 2, 0, 2, 2, 3, 3, 3, 2, 0, 0, 0, 0, 0, 0, 2, 0,\n",
       "       2, 2, 2, 0, 0, 0, 0, 0, 0, 1, 1, 1, 1, 0, 0, 0, 0, 0, 0, 0, 0, 0,\n",
       "       2, 2, 0, 0, 0, 0, 0, 0, 0, 2, 2, 2, 2, 0, 2, 0, 0, 2, 2, 2, 0, 0,\n",
       "       2, 2, 2, 0, 0, 0, 0, 0, 1, 0, 2, 2, 0, 0, 0, 0, 0, 2, 2, 2, 2, 0,\n",
       "       0, 2, 2, 2, 0, 0, 0, 0, 2, 0, 0, 1, 0, 2, 2, 2, 2, 2, 2, 2, 0, 2,\n",
       "       1, 0, 0, 2, 2, 0, 0, 0, 2, 0, 0, 0, 0, 0, 0, 2, 1, 2, 2, 2, 1, 0,\n",
       "       0, 2, 2, 2, 2, 2, 2, 1, 2, 2, 2, 0, 2, 1, 2, 2, 2, 2, 2, 2, 2, 0,\n",
       "       2, 0, 2, 2, 2, 2, 2, 2, 2, 0, 1, 2, 2, 1, 2, 2, 2, 2, 2, 2, 2, 0,\n",
       "       2, 2, 2, 2, 2, 0, 2, 0, 2, 2, 2, 2, 2, 1, 2, 2, 2, 2, 2, 2, 2, 2,\n",
       "       2])"
      ]
     },
     "execution_count": 124,
     "metadata": {},
     "output_type": "execute_result"
    }
   ],
   "source": [
    "# Predict the clusters to group the cryptocurrencies using the scaled data\n",
    "kmeans_predictions = model.predict(df_player_data_scaled)\n",
    "\n",
    "# Print the resulting array of cluster values.\n",
    "kmeans_predictions"
   ]
  },
  {
   "cell_type": "code",
   "execution_count": 125,
   "metadata": {},
   "outputs": [],
   "source": [
    "# Create a copy of the DataFrame\n",
    "df_player_data_scaled=df_player_data_scaled.copy()"
   ]
  },
  {
   "cell_type": "code",
   "execution_count": 97,
   "metadata": {},
   "outputs": [
    {
     "name": "stdout",
     "output_type": "stream",
     "text": [
      "<class 'pandas.core.frame.DataFrame'>\n",
      "Index: 199 entries, LeBron James to Torrey Craig\n",
      "Data columns (total 40 columns):\n",
      " #   Column                 Non-Null Count  Dtype  \n",
      "---  ------                 --------------  -----  \n",
      " 0   0304_salary_adjusted   199 non-null    float64\n",
      " 1   0405_salary_adjusted   199 non-null    float64\n",
      " 2   0506_salary_adjusted   199 non-null    float64\n",
      " 3   0607_salary_adjusted   199 non-null    float64\n",
      " 4   0708_salary_adjusted   199 non-null    float64\n",
      " 5   0809_salary_adjusted   199 non-null    float64\n",
      " 6   0910_salary_adjusted   199 non-null    float64\n",
      " 7   1011_salary_adjusted   199 non-null    float64\n",
      " 8   1112_salary_adjusted   199 non-null    float64\n",
      " 9   2425_salary_predicted  199 non-null    float64\n",
      " 10  2526_salary_predicted  199 non-null    float64\n",
      " 11  2627_salary_predicted  199 non-null    float64\n",
      " 12  CONTRACT_START         199 non-null    float64\n",
      " 13  CONTRACT_END           199 non-null    float64\n",
      " 14  AVG_SALARY             199 non-null    float64\n",
      " 15  AGE                    199 non-null    float64\n",
      " 16  GP                     199 non-null    float64\n",
      " 17  W                      199 non-null    float64\n",
      " 18  L                      199 non-null    float64\n",
      " 19  MIN                    199 non-null    float64\n",
      " 20  PTS                    199 non-null    float64\n",
      " 21  FGM                    199 non-null    float64\n",
      " 22  FGA                    199 non-null    float64\n",
      " 23  FG%                    199 non-null    float64\n",
      " 24  3PM                    199 non-null    float64\n",
      " 25  3PA                    199 non-null    float64\n",
      " 26  3P%                    199 non-null    float64\n",
      " 27  FTM                    199 non-null    float64\n",
      " 28  FTA                    199 non-null    float64\n",
      " 29  FT%                    199 non-null    float64\n",
      " 30  OREB                   199 non-null    float64\n",
      " 31  DREB                   199 non-null    float64\n",
      " 32  REB                    199 non-null    float64\n",
      " 33  AST                    199 non-null    float64\n",
      " 34  TOV                    199 non-null    float64\n",
      " 35  STL                    199 non-null    float64\n",
      " 36  BLK                    199 non-null    float64\n",
      " 37  PF                     199 non-null    float64\n",
      " 38  +/-                    199 non-null    float64\n",
      " 39  Prediction             199 non-null    int32  \n",
      "dtypes: float64(39), int32(1)\n",
      "memory usage: 63.0+ KB\n"
     ]
    }
   ],
   "source": [
    "# Add a new column to the DataFrame with the predicted clusters\n",
    "df_player_data_scaled['Prediction']=kmeans_predictions\n",
    "\n",
    "# Display sample data\n",
    "df_player_data_scaled.info()"
   ]
  },
  {
   "cell_type": "code",
   "execution_count": 134,
   "metadata": {},
   "outputs": [
    {
     "ename": "DataError",
     "evalue": "Dimensions may not reference duplicated DataFrame columns (found duplicate '2425_salary_predicted' columns). If you want to plot a column against itself simply declare two dimensions with the same name. \n\nPandasInterface expects tabular data, for more information on supported datatypes see http://holoviews.org/user_guide/Tabular_Datasets.html",
     "output_type": "error",
     "traceback": [
      "\u001b[1;31m---------------------------------------------------------------------------\u001b[0m",
      "\u001b[1;31mDataError\u001b[0m                                 Traceback (most recent call last)",
      "File \u001b[1;32m~\\anaconda3a\\lib\\site-packages\\hvplot\\converter.py:1236\u001b[0m, in \u001b[0;36mHoloViewsConverter.__call__\u001b[1;34m(self, kind, x, y)\u001b[0m\n\u001b[0;32m   1235\u001b[0m \u001b[38;5;28;01mtry\u001b[39;00m:\n\u001b[1;32m-> 1236\u001b[0m     dataset \u001b[38;5;241m=\u001b[39m \u001b[43mDataset\u001b[49m\u001b[43m(\u001b[49m\u001b[43mdata\u001b[49m\u001b[43m,\u001b[49m\u001b[43m \u001b[49m\u001b[38;5;28;43mself\u001b[39;49m\u001b[38;5;241;43m.\u001b[39;49m\u001b[43mindexes\u001b[49m\u001b[43m)\u001b[49m\n\u001b[0;32m   1237\u001b[0m \u001b[38;5;28;01mexcept\u001b[39;00m \u001b[38;5;167;01mException\u001b[39;00m:\n",
      "File \u001b[1;32m~\\anaconda3a\\lib\\site-packages\\holoviews\\core\\data\\__init__.py:331\u001b[0m, in \u001b[0;36mDataset.__init__\u001b[1;34m(self, data, kdims, vdims, **kwargs)\u001b[0m\n\u001b[0;32m    330\u001b[0m validate_vdims \u001b[38;5;241m=\u001b[39m kwargs\u001b[38;5;241m.\u001b[39mpop(\u001b[38;5;124m'\u001b[39m\u001b[38;5;124m_validate_vdims\u001b[39m\u001b[38;5;124m'\u001b[39m, \u001b[38;5;28;01mTrue\u001b[39;00m)\n\u001b[1;32m--> 331\u001b[0m initialized \u001b[38;5;241m=\u001b[39m \u001b[43mInterface\u001b[49m\u001b[38;5;241;43m.\u001b[39;49m\u001b[43minitialize\u001b[49m\u001b[43m(\u001b[49m\u001b[38;5;28;43mtype\u001b[39;49m\u001b[43m(\u001b[49m\u001b[38;5;28;43mself\u001b[39;49m\u001b[43m)\u001b[49m\u001b[43m,\u001b[49m\u001b[43m \u001b[49m\u001b[43mdata\u001b[49m\u001b[43m,\u001b[49m\u001b[43m \u001b[49m\u001b[43mkdims\u001b[49m\u001b[43m,\u001b[49m\u001b[43m \u001b[49m\u001b[43mvdims\u001b[49m\u001b[43m,\u001b[49m\n\u001b[0;32m    332\u001b[0m \u001b[43m                                   \u001b[49m\u001b[43mdatatype\u001b[49m\u001b[38;5;241;43m=\u001b[39;49m\u001b[43mkwargs\u001b[49m\u001b[38;5;241;43m.\u001b[39;49m\u001b[43mget\u001b[49m\u001b[43m(\u001b[49m\u001b[38;5;124;43m'\u001b[39;49m\u001b[38;5;124;43mdatatype\u001b[39;49m\u001b[38;5;124;43m'\u001b[39;49m\u001b[43m)\u001b[49m\u001b[43m)\u001b[49m\n\u001b[0;32m    333\u001b[0m (data, \u001b[38;5;28mself\u001b[39m\u001b[38;5;241m.\u001b[39minterface, dims, extra_kws) \u001b[38;5;241m=\u001b[39m initialized\n",
      "File \u001b[1;32m~\\anaconda3a\\lib\\site-packages\\holoviews\\core\\data\\interface.py:253\u001b[0m, in \u001b[0;36mInterface.initialize\u001b[1;34m(cls, eltype, data, kdims, vdims, datatype)\u001b[0m\n\u001b[0;32m    252\u001b[0m \u001b[38;5;28;01mtry\u001b[39;00m:\n\u001b[1;32m--> 253\u001b[0m     (data, dims, extra_kws) \u001b[38;5;241m=\u001b[39m \u001b[43minterface\u001b[49m\u001b[38;5;241;43m.\u001b[39;49m\u001b[43minit\u001b[49m\u001b[43m(\u001b[49m\u001b[43meltype\u001b[49m\u001b[43m,\u001b[49m\u001b[43m \u001b[49m\u001b[43mdata\u001b[49m\u001b[43m,\u001b[49m\u001b[43m \u001b[49m\u001b[43mkdims\u001b[49m\u001b[43m,\u001b[49m\u001b[43m \u001b[49m\u001b[43mvdims\u001b[49m\u001b[43m)\u001b[49m\n\u001b[0;32m    254\u001b[0m     \u001b[38;5;28;01mbreak\u001b[39;00m\n",
      "File \u001b[1;32m~\\anaconda3a\\lib\\site-packages\\holoviews\\core\\data\\pandas.py:90\u001b[0m, in \u001b[0;36mPandasInterface.init\u001b[1;34m(cls, eltype, data, kdims, vdims)\u001b[0m\n\u001b[0;32m     89\u001b[0m         \u001b[38;5;28;01mif\u001b[39;00m \u001b[38;5;28mlen\u001b[39m([c \u001b[38;5;28;01mfor\u001b[39;00m c \u001b[38;5;129;01min\u001b[39;00m data\u001b[38;5;241m.\u001b[39mcolumns \u001b[38;5;28;01mif\u001b[39;00m c \u001b[38;5;241m==\u001b[39m d]) \u001b[38;5;241m>\u001b[39m \u001b[38;5;241m1\u001b[39m:\n\u001b[1;32m---> 90\u001b[0m             \u001b[38;5;28;01mraise\u001b[39;00m DataError(\u001b[38;5;124m'\u001b[39m\u001b[38;5;124mDimensions may not reference duplicated DataFrame \u001b[39m\u001b[38;5;124m'\u001b[39m\n\u001b[0;32m     91\u001b[0m                             \u001b[38;5;124m'\u001b[39m\u001b[38;5;124mcolumns (found duplicate \u001b[39m\u001b[38;5;132;01m%r\u001b[39;00m\u001b[38;5;124m columns). If you want to plot \u001b[39m\u001b[38;5;124m'\u001b[39m\n\u001b[0;32m     92\u001b[0m                             \u001b[38;5;124m'\u001b[39m\u001b[38;5;124ma column against itself simply declare two dimensions \u001b[39m\u001b[38;5;124m'\u001b[39m\n\u001b[0;32m     93\u001b[0m                             \u001b[38;5;124m'\u001b[39m\u001b[38;5;124mwith the same name. \u001b[39m\u001b[38;5;124m'\u001b[39m\u001b[38;5;241m%\u001b[39m d, \u001b[38;5;28mcls\u001b[39m)\n\u001b[0;32m     94\u001b[0m \u001b[38;5;28;01melse\u001b[39;00m:\n\u001b[0;32m     95\u001b[0m     \u001b[38;5;66;03m# Check if data is of non-numeric type\u001b[39;00m\n\u001b[0;32m     96\u001b[0m     \u001b[38;5;66;03m# Then use defined data type\u001b[39;00m\n",
      "\u001b[1;31mDataError\u001b[0m: Dimensions may not reference duplicated DataFrame columns (found duplicate '2425_salary_predicted' columns). If you want to plot a column against itself simply declare two dimensions with the same name. \n\nPandasInterface expects tabular data, for more information on supported datatypes see http://holoviews.org/user_guide/Tabular_Datasets.html",
      "\nDuring handling of the above exception, another exception occurred:\n",
      "\u001b[1;31mDataError\u001b[0m                                 Traceback (most recent call last)",
      "Cell \u001b[1;32mIn[134], line 6\u001b[0m\n\u001b[0;32m      1\u001b[0m \u001b[38;5;66;03m# Create a scatter plot using hvPlot by setting \u001b[39;00m\n\u001b[0;32m      2\u001b[0m \u001b[38;5;66;03m# `x=\"price_change_percentage_24h\"` and `y=\"price_change_percentage_7d\"`. \u001b[39;00m\n\u001b[0;32m      3\u001b[0m \u001b[38;5;66;03m# Color the graph points with the labels found using K-Means and \u001b[39;00m\n\u001b[0;32m      4\u001b[0m \u001b[38;5;66;03m# add the crypto name in the `hover_cols` parameter to identify \u001b[39;00m\n\u001b[0;32m      5\u001b[0m \u001b[38;5;66;03m# the cryptocurrency represented by each data point.\u001b[39;00m\n\u001b[1;32m----> 6\u001b[0m player_scaled_plot\u001b[38;5;241m=\u001b[39m\u001b[43mdf_player_data_scaled\u001b[49m\u001b[38;5;241;43m.\u001b[39;49m\u001b[43mhvplot\u001b[49m\u001b[38;5;241;43m.\u001b[39;49m\u001b[43mscatter\u001b[49m\u001b[43m(\u001b[49m\n\u001b[0;32m      7\u001b[0m \u001b[43m                    \u001b[49m\u001b[43mx\u001b[49m\u001b[38;5;241;43m=\u001b[39;49m\u001b[38;5;124;43m\"\u001b[39;49m\u001b[38;5;124;43mAVG_SALARY\u001b[39;49m\u001b[38;5;124;43m\"\u001b[39;49m\u001b[43m,\u001b[49m\n\u001b[0;32m      8\u001b[0m \u001b[43m                    \u001b[49m\u001b[43my\u001b[49m\u001b[38;5;241;43m=\u001b[39;49m\u001b[38;5;124;43m\"\u001b[39;49m\u001b[38;5;124;43mAGE\u001b[39;49m\u001b[38;5;124;43m\"\u001b[39;49m\u001b[43m,\u001b[49m\n\u001b[0;32m      9\u001b[0m \u001b[43m                    \u001b[49m\u001b[43mby\u001b[49m\u001b[38;5;241;43m=\u001b[39;49m\u001b[38;5;124;43m\"\u001b[39;49m\u001b[38;5;124;43mPrediction\u001b[39;49m\u001b[38;5;124;43m\"\u001b[39;49m\u001b[43m,\u001b[49m\n\u001b[0;32m     10\u001b[0m \u001b[43m                    \u001b[49m\u001b[43mhover_cols\u001b[49m\u001b[38;5;241;43m=\u001b[39;49m\u001b[43m[\u001b[49m\u001b[38;5;124;43m'\u001b[39;49m\u001b[38;5;124;43mplayer_name\u001b[39;49m\u001b[38;5;124;43m'\u001b[39;49m\u001b[43m]\u001b[49m\n\u001b[0;32m     11\u001b[0m \u001b[43m                \u001b[49m\u001b[43m)\u001b[49m\n\u001b[0;32m     13\u001b[0m player_scaled_plot\n",
      "File \u001b[1;32m~\\anaconda3a\\lib\\site-packages\\hvplot\\plotting\\core.py:530\u001b[0m, in \u001b[0;36mhvPlotTabular.scatter\u001b[1;34m(self, x, y, **kwds)\u001b[0m\n\u001b[0;32m    425\u001b[0m \u001b[38;5;28;01mdef\u001b[39;00m \u001b[38;5;21mscatter\u001b[39m(\u001b[38;5;28mself\u001b[39m, x\u001b[38;5;241m=\u001b[39m\u001b[38;5;28;01mNone\u001b[39;00m, y\u001b[38;5;241m=\u001b[39m\u001b[38;5;28;01mNone\u001b[39;00m, \u001b[38;5;241m*\u001b[39m\u001b[38;5;241m*\u001b[39mkwds):\n\u001b[0;32m    426\u001b[0m     \u001b[38;5;124;03m\"\"\"\u001b[39;00m\n\u001b[0;32m    427\u001b[0m \u001b[38;5;124;03m    The `scatter` plot visualizes your points as markers in 2D space. You can visualize\u001b[39;00m\n\u001b[0;32m    428\u001b[0m \u001b[38;5;124;03m    one more dimension by using colors.\u001b[39;00m\n\u001b[1;32m   (...)\u001b[0m\n\u001b[0;32m    528\u001b[0m \u001b[38;5;124;03m    - Wiki: https://en.wikipedia.org/wiki/Scatter_plot\u001b[39;00m\n\u001b[0;32m    529\u001b[0m \u001b[38;5;124;03m    \"\"\"\u001b[39;00m\n\u001b[1;32m--> 530\u001b[0m     \u001b[38;5;28;01mreturn\u001b[39;00m \u001b[38;5;28mself\u001b[39m(x, y, kind\u001b[38;5;241m=\u001b[39m\u001b[38;5;124m\"\u001b[39m\u001b[38;5;124mscatter\u001b[39m\u001b[38;5;124m\"\u001b[39m, \u001b[38;5;241m*\u001b[39m\u001b[38;5;241m*\u001b[39mkwds)\n",
      "File \u001b[1;32m~\\anaconda3a\\lib\\site-packages\\hvplot\\plotting\\core.py:92\u001b[0m, in \u001b[0;36mhvPlotBase.__call__\u001b[1;34m(self, x, y, kind, **kwds)\u001b[0m\n\u001b[0;32m     89\u001b[0m         plot \u001b[38;5;241m=\u001b[39m \u001b[38;5;28mself\u001b[39m\u001b[38;5;241m.\u001b[39m_get_converter(x, y, kind, \u001b[38;5;241m*\u001b[39m\u001b[38;5;241m*\u001b[39mkwds)(kind, x, y)\n\u001b[0;32m     90\u001b[0m         \u001b[38;5;28;01mreturn\u001b[39;00m pn\u001b[38;5;241m.\u001b[39mpanel(plot, \u001b[38;5;241m*\u001b[39m\u001b[38;5;241m*\u001b[39mpanel_dict)\n\u001b[1;32m---> 92\u001b[0m \u001b[38;5;28;01mreturn\u001b[39;00m \u001b[38;5;28;43mself\u001b[39;49m\u001b[38;5;241;43m.\u001b[39;49m\u001b[43m_get_converter\u001b[49m\u001b[43m(\u001b[49m\u001b[43mx\u001b[49m\u001b[43m,\u001b[49m\u001b[43m \u001b[49m\u001b[43my\u001b[49m\u001b[43m,\u001b[49m\u001b[43m \u001b[49m\u001b[43mkind\u001b[49m\u001b[43m,\u001b[49m\u001b[43m \u001b[49m\u001b[38;5;241;43m*\u001b[39;49m\u001b[38;5;241;43m*\u001b[39;49m\u001b[43mkwds\u001b[49m\u001b[43m)\u001b[49m\u001b[43m(\u001b[49m\u001b[43mkind\u001b[49m\u001b[43m,\u001b[49m\u001b[43m \u001b[49m\u001b[43mx\u001b[49m\u001b[43m,\u001b[49m\u001b[43m \u001b[49m\u001b[43my\u001b[49m\u001b[43m)\u001b[49m\n",
      "File \u001b[1;32m~\\anaconda3a\\lib\\site-packages\\hvplot\\converter.py:1238\u001b[0m, in \u001b[0;36mHoloViewsConverter.__call__\u001b[1;34m(self, kind, x, y)\u001b[0m\n\u001b[0;32m   1236\u001b[0m         dataset \u001b[38;5;241m=\u001b[39m Dataset(data, \u001b[38;5;28mself\u001b[39m\u001b[38;5;241m.\u001b[39mindexes)\n\u001b[0;32m   1237\u001b[0m     \u001b[38;5;28;01mexcept\u001b[39;00m \u001b[38;5;167;01mException\u001b[39;00m:\n\u001b[1;32m-> 1238\u001b[0m         dataset \u001b[38;5;241m=\u001b[39m \u001b[43mDataset\u001b[49m\u001b[43m(\u001b[49m\u001b[43mdata\u001b[49m\u001b[43m)\u001b[49m\n\u001b[0;32m   1239\u001b[0m     dataset \u001b[38;5;241m=\u001b[39m dataset\u001b[38;5;241m.\u001b[39mredim(\u001b[38;5;241m*\u001b[39m\u001b[38;5;241m*\u001b[39m\u001b[38;5;28mself\u001b[39m\u001b[38;5;241m.\u001b[39m_redim)\n\u001b[0;32m   1240\u001b[0m obj \u001b[38;5;241m=\u001b[39m method(x, y)\n",
      "File \u001b[1;32m~\\anaconda3a\\lib\\site-packages\\holoviews\\core\\data\\__init__.py:331\u001b[0m, in \u001b[0;36mDataset.__init__\u001b[1;34m(self, data, kdims, vdims, **kwargs)\u001b[0m\n\u001b[0;32m    328\u001b[0m kdims, vdims \u001b[38;5;241m=\u001b[39m kwargs\u001b[38;5;241m.\u001b[39mget(\u001b[38;5;124m'\u001b[39m\u001b[38;5;124mkdims\u001b[39m\u001b[38;5;124m'\u001b[39m), kwargs\u001b[38;5;241m.\u001b[39mget(\u001b[38;5;124m'\u001b[39m\u001b[38;5;124mvdims\u001b[39m\u001b[38;5;124m'\u001b[39m)\n\u001b[0;32m    330\u001b[0m validate_vdims \u001b[38;5;241m=\u001b[39m kwargs\u001b[38;5;241m.\u001b[39mpop(\u001b[38;5;124m'\u001b[39m\u001b[38;5;124m_validate_vdims\u001b[39m\u001b[38;5;124m'\u001b[39m, \u001b[38;5;28;01mTrue\u001b[39;00m)\n\u001b[1;32m--> 331\u001b[0m initialized \u001b[38;5;241m=\u001b[39m \u001b[43mInterface\u001b[49m\u001b[38;5;241;43m.\u001b[39;49m\u001b[43minitialize\u001b[49m\u001b[43m(\u001b[49m\u001b[38;5;28;43mtype\u001b[39;49m\u001b[43m(\u001b[49m\u001b[38;5;28;43mself\u001b[39;49m\u001b[43m)\u001b[49m\u001b[43m,\u001b[49m\u001b[43m \u001b[49m\u001b[43mdata\u001b[49m\u001b[43m,\u001b[49m\u001b[43m \u001b[49m\u001b[43mkdims\u001b[49m\u001b[43m,\u001b[49m\u001b[43m \u001b[49m\u001b[43mvdims\u001b[49m\u001b[43m,\u001b[49m\n\u001b[0;32m    332\u001b[0m \u001b[43m                                   \u001b[49m\u001b[43mdatatype\u001b[49m\u001b[38;5;241;43m=\u001b[39;49m\u001b[43mkwargs\u001b[49m\u001b[38;5;241;43m.\u001b[39;49m\u001b[43mget\u001b[49m\u001b[43m(\u001b[49m\u001b[38;5;124;43m'\u001b[39;49m\u001b[38;5;124;43mdatatype\u001b[39;49m\u001b[38;5;124;43m'\u001b[39;49m\u001b[43m)\u001b[49m\u001b[43m)\u001b[49m\n\u001b[0;32m    333\u001b[0m (data, \u001b[38;5;28mself\u001b[39m\u001b[38;5;241m.\u001b[39minterface, dims, extra_kws) \u001b[38;5;241m=\u001b[39m initialized\n\u001b[0;32m    334\u001b[0m \u001b[38;5;28msuper\u001b[39m()\u001b[38;5;241m.\u001b[39m\u001b[38;5;21m__init__\u001b[39m(data, \u001b[38;5;241m*\u001b[39m\u001b[38;5;241m*\u001b[39m\u001b[38;5;28mdict\u001b[39m(kwargs, \u001b[38;5;241m*\u001b[39m\u001b[38;5;241m*\u001b[39m\u001b[38;5;28mdict\u001b[39m(dims, \u001b[38;5;241m*\u001b[39m\u001b[38;5;241m*\u001b[39mextra_kws)))\n",
      "File \u001b[1;32m~\\anaconda3a\\lib\\site-packages\\holoviews\\core\\data\\interface.py:253\u001b[0m, in \u001b[0;36mInterface.initialize\u001b[1;34m(cls, eltype, data, kdims, vdims, datatype)\u001b[0m\n\u001b[0;32m    251\u001b[0m     \u001b[38;5;28;01mcontinue\u001b[39;00m\n\u001b[0;32m    252\u001b[0m \u001b[38;5;28;01mtry\u001b[39;00m:\n\u001b[1;32m--> 253\u001b[0m     (data, dims, extra_kws) \u001b[38;5;241m=\u001b[39m \u001b[43minterface\u001b[49m\u001b[38;5;241;43m.\u001b[39;49m\u001b[43minit\u001b[49m\u001b[43m(\u001b[49m\u001b[43meltype\u001b[49m\u001b[43m,\u001b[49m\u001b[43m \u001b[49m\u001b[43mdata\u001b[49m\u001b[43m,\u001b[49m\u001b[43m \u001b[49m\u001b[43mkdims\u001b[49m\u001b[43m,\u001b[49m\u001b[43m \u001b[49m\u001b[43mvdims\u001b[49m\u001b[43m)\u001b[49m\n\u001b[0;32m    254\u001b[0m     \u001b[38;5;28;01mbreak\u001b[39;00m\n\u001b[0;32m    255\u001b[0m \u001b[38;5;28;01mexcept\u001b[39;00m DataError:\n",
      "File \u001b[1;32m~\\anaconda3a\\lib\\site-packages\\holoviews\\core\\data\\pandas.py:90\u001b[0m, in \u001b[0;36mPandasInterface.init\u001b[1;34m(cls, eltype, data, kdims, vdims)\u001b[0m\n\u001b[0;32m     88\u001b[0m         d \u001b[38;5;241m=\u001b[39m dimension_name(d)\n\u001b[0;32m     89\u001b[0m         \u001b[38;5;28;01mif\u001b[39;00m \u001b[38;5;28mlen\u001b[39m([c \u001b[38;5;28;01mfor\u001b[39;00m c \u001b[38;5;129;01min\u001b[39;00m data\u001b[38;5;241m.\u001b[39mcolumns \u001b[38;5;28;01mif\u001b[39;00m c \u001b[38;5;241m==\u001b[39m d]) \u001b[38;5;241m>\u001b[39m \u001b[38;5;241m1\u001b[39m:\n\u001b[1;32m---> 90\u001b[0m             \u001b[38;5;28;01mraise\u001b[39;00m DataError(\u001b[38;5;124m'\u001b[39m\u001b[38;5;124mDimensions may not reference duplicated DataFrame \u001b[39m\u001b[38;5;124m'\u001b[39m\n\u001b[0;32m     91\u001b[0m                             \u001b[38;5;124m'\u001b[39m\u001b[38;5;124mcolumns (found duplicate \u001b[39m\u001b[38;5;132;01m%r\u001b[39;00m\u001b[38;5;124m columns). If you want to plot \u001b[39m\u001b[38;5;124m'\u001b[39m\n\u001b[0;32m     92\u001b[0m                             \u001b[38;5;124m'\u001b[39m\u001b[38;5;124ma column against itself simply declare two dimensions \u001b[39m\u001b[38;5;124m'\u001b[39m\n\u001b[0;32m     93\u001b[0m                             \u001b[38;5;124m'\u001b[39m\u001b[38;5;124mwith the same name. \u001b[39m\u001b[38;5;124m'\u001b[39m\u001b[38;5;241m%\u001b[39m d, \u001b[38;5;28mcls\u001b[39m)\n\u001b[0;32m     94\u001b[0m \u001b[38;5;28;01melse\u001b[39;00m:\n\u001b[0;32m     95\u001b[0m     \u001b[38;5;66;03m# Check if data is of non-numeric type\u001b[39;00m\n\u001b[0;32m     96\u001b[0m     \u001b[38;5;66;03m# Then use defined data type\u001b[39;00m\n\u001b[0;32m     97\u001b[0m     kdims \u001b[38;5;241m=\u001b[39m kdims \u001b[38;5;28;01mif\u001b[39;00m kdims \u001b[38;5;28;01melse\u001b[39;00m kdim_param\u001b[38;5;241m.\u001b[39mdefault\n",
      "\u001b[1;31mDataError\u001b[0m: Dimensions may not reference duplicated DataFrame columns (found duplicate '2425_salary_predicted' columns). If you want to plot a column against itself simply declare two dimensions with the same name. \n\nPandasInterface expects tabular data, for more information on supported datatypes see http://holoviews.org/user_guide/Tabular_Datasets.html"
     ]
    }
   ],
   "source": [
    "# Create a scatter plot using hvPlot by setting \n",
    "# `x=\"price_change_percentage_24h\"` and `y=\"price_change_percentage_7d\"`. \n",
    "# Color the graph points with the labels found using K-Means and \n",
    "# add the crypto name in the `hover_cols` parameter to identify \n",
    "# the cryptocurrency represented by each data point.\n",
    "player_scaled_plot=df_player_data_scaled.hvplot.scatter(\n",
    "                    x=\"AVG_SALARY\",\n",
    "                    y=\"AGE\",\n",
    "                    by=\"Prediction\",\n",
    "                    hover_cols=['player_name']\n",
    "                )\n",
    "\n",
    "player_scaled_plot"
   ]
  },
  {
   "cell_type": "markdown",
   "metadata": {},
   "source": [
    "---"
   ]
  },
  {
   "cell_type": "markdown",
   "metadata": {},
   "source": [
    "### Optimize Clusters with Principal Component Analysis."
   ]
  },
  {
   "cell_type": "code",
   "execution_count": 135,
   "metadata": {},
   "outputs": [],
   "source": [
    "# Create a PCA model instance and set `n_components=3`.\n",
    "pca = PCA(n_components=3)"
   ]
  },
  {
   "cell_type": "code",
   "execution_count": 136,
   "metadata": {},
   "outputs": [
    {
     "data": {
      "text/plain": [
       "array([[11.63678593,  6.61264567, -5.07300974],\n",
       "       [10.80957469,  6.57165531, -6.21546069],\n",
       "       [ 6.53033748, 11.84751173, -0.15279892],\n",
       "       [ 6.85222924, 11.69320949,  0.42509585],\n",
       "       [10.59496789,  6.08456894, -3.2487687 ]])"
      ]
     },
     "execution_count": 136,
     "metadata": {},
     "output_type": "execute_result"
    }
   ],
   "source": [
    "# Use the PCA model with `fit_transform` to reduce to \n",
    "# three principal components.\n",
    "player_pca = pca.fit_transform(df_player_data_scaled)\n",
    "# View the first five rows of the DataFrame. \n",
    "player_pca[:5]"
   ]
  },
  {
   "cell_type": "code",
   "execution_count": 137,
   "metadata": {},
   "outputs": [
    {
     "data": {
      "text/plain": [
       "array([0.34528068, 0.16269572, 0.10405852])"
      ]
     },
     "execution_count": 137,
     "metadata": {},
     "output_type": "execute_result"
    }
   ],
   "source": [
    "# Retrieve the explained variance to determine how much information \n",
    "# can be attributed to each principal component.\n",
    "pca.explained_variance_ratio_"
   ]
  },
  {
   "cell_type": "code",
   "execution_count": 138,
   "metadata": {},
   "outputs": [
    {
     "data": {
      "text/plain": [
       "0.6120349226009077"
      ]
     },
     "execution_count": 138,
     "metadata": {},
     "output_type": "execute_result"
    }
   ],
   "source": [
    "total_explained_variance = sum(pca.explained_variance_ratio_)\n",
    "total_explained_variance"
   ]
  },
  {
   "cell_type": "markdown",
   "metadata": {},
   "source": [
    "#### Answer the following question: \n",
    "\n",
    "**Question:** What is the total explained variance of the three principal components?\n",
    "\n",
    "**Answer:62.4%"
   ]
  },
  {
   "cell_type": "code",
   "execution_count": 139,
   "metadata": {},
   "outputs": [
    {
     "data": {
      "text/html": [
       "<div>\n",
       "<style scoped>\n",
       "    .dataframe tbody tr th:only-of-type {\n",
       "        vertical-align: middle;\n",
       "    }\n",
       "\n",
       "    .dataframe tbody tr th {\n",
       "        vertical-align: top;\n",
       "    }\n",
       "\n",
       "    .dataframe thead th {\n",
       "        text-align: right;\n",
       "    }\n",
       "</style>\n",
       "<table border=\"1\" class=\"dataframe\">\n",
       "  <thead>\n",
       "    <tr style=\"text-align: right;\">\n",
       "      <th></th>\n",
       "      <th>PCA1</th>\n",
       "      <th>PCA2</th>\n",
       "      <th>PCA3</th>\n",
       "    </tr>\n",
       "    <tr>\n",
       "      <th>player_name</th>\n",
       "      <th></th>\n",
       "      <th></th>\n",
       "      <th></th>\n",
       "    </tr>\n",
       "  </thead>\n",
       "  <tbody>\n",
       "    <tr>\n",
       "      <th>0</th>\n",
       "      <td>11.636786</td>\n",
       "      <td>6.612646</td>\n",
       "      <td>-5.073010</td>\n",
       "    </tr>\n",
       "    <tr>\n",
       "      <th>1</th>\n",
       "      <td>10.809575</td>\n",
       "      <td>6.571655</td>\n",
       "      <td>-6.215461</td>\n",
       "    </tr>\n",
       "    <tr>\n",
       "      <th>2</th>\n",
       "      <td>6.530337</td>\n",
       "      <td>11.847512</td>\n",
       "      <td>-0.152799</td>\n",
       "    </tr>\n",
       "    <tr>\n",
       "      <th>3</th>\n",
       "      <td>6.852229</td>\n",
       "      <td>11.693209</td>\n",
       "      <td>0.425096</td>\n",
       "    </tr>\n",
       "    <tr>\n",
       "      <th>4</th>\n",
       "      <td>10.594968</td>\n",
       "      <td>6.084569</td>\n",
       "      <td>-3.248769</td>\n",
       "    </tr>\n",
       "    <tr>\n",
       "      <th>5</th>\n",
       "      <td>6.517417</td>\n",
       "      <td>8.455350</td>\n",
       "      <td>-4.206892</td>\n",
       "    </tr>\n",
       "    <tr>\n",
       "      <th>6</th>\n",
       "      <td>0.259048</td>\n",
       "      <td>2.555738</td>\n",
       "      <td>-3.271047</td>\n",
       "    </tr>\n",
       "    <tr>\n",
       "      <th>7</th>\n",
       "      <td>1.803199</td>\n",
       "      <td>2.168546</td>\n",
       "      <td>-2.720531</td>\n",
       "    </tr>\n",
       "    <tr>\n",
       "      <th>8</th>\n",
       "      <td>-0.989860</td>\n",
       "      <td>4.951114</td>\n",
       "      <td>-0.036730</td>\n",
       "    </tr>\n",
       "    <tr>\n",
       "      <th>9</th>\n",
       "      <td>-1.963786</td>\n",
       "      <td>6.821792</td>\n",
       "      <td>-1.448295</td>\n",
       "    </tr>\n",
       "  </tbody>\n",
       "</table>\n",
       "</div>"
      ],
      "text/plain": [
       "                  PCA1       PCA2      PCA3\n",
       "player_name                                \n",
       "0            11.636786   6.612646 -5.073010\n",
       "1            10.809575   6.571655 -6.215461\n",
       "2             6.530337  11.847512 -0.152799\n",
       "3             6.852229  11.693209  0.425096\n",
       "4            10.594968   6.084569 -3.248769\n",
       "5             6.517417   8.455350 -4.206892\n",
       "6             0.259048   2.555738 -3.271047\n",
       "7             1.803199   2.168546 -2.720531\n",
       "8            -0.989860   4.951114 -0.036730\n",
       "9            -1.963786   6.821792 -1.448295"
      ]
     },
     "execution_count": 139,
     "metadata": {},
     "output_type": "execute_result"
    }
   ],
   "source": [
    "# Create a new DataFrame with the PCA data.\n",
    "player_pca = pd.DataFrame(\n",
    "    player_pca,\n",
    "    columns=[\"PCA1\", \"PCA2\" , \"PCA3\"]\n",
    ")\n",
    "\n",
    "# Creating a DataFrame with the PCA data\n",
    "player_pca[\"player_name\"]=player_pca.index\n",
    "# Copy the crypto names from the original data\n",
    "player_pca=player_pca.set_index('player_name')\n",
    "\n",
    "# Set the coinid column as index\n",
    "\n",
    "\n",
    "# Display sample data\n",
    "player_pca.head(10)"
   ]
  },
  {
   "cell_type": "markdown",
   "metadata": {},
   "source": [
    "---"
   ]
  },
  {
   "cell_type": "markdown",
   "metadata": {},
   "source": [
    "### Find the Best Value for k Using the PCA Data"
   ]
  },
  {
   "cell_type": "code",
   "execution_count": 140,
   "metadata": {},
   "outputs": [],
   "source": [
    "# Create a list with the number of k-values from 1 to 11\n",
    "k_pca=list(range(1,11))"
   ]
  },
  {
   "cell_type": "code",
   "execution_count": 141,
   "metadata": {},
   "outputs": [
    {
     "name": "stderr",
     "output_type": "stream",
     "text": [
      "C:\\Users\\KandelLabDoric\\anaconda3a\\lib\\site-packages\\sklearn\\cluster\\_kmeans.py:870: FutureWarning:\n",
      "\n",
      "The default value of `n_init` will change from 10 to 'auto' in 1.4. Set the value of `n_init` explicitly to suppress the warning\n",
      "\n",
      "C:\\Users\\KandelLabDoric\\anaconda3a\\lib\\site-packages\\sklearn\\cluster\\_kmeans.py:1382: UserWarning:\n",
      "\n",
      "KMeans is known to have a memory leak on Windows with MKL, when there are less chunks than available threads. You can avoid it by setting the environment variable OMP_NUM_THREADS=1.\n",
      "\n",
      "C:\\Users\\KandelLabDoric\\anaconda3a\\lib\\site-packages\\sklearn\\cluster\\_kmeans.py:870: FutureWarning:\n",
      "\n",
      "The default value of `n_init` will change from 10 to 'auto' in 1.4. Set the value of `n_init` explicitly to suppress the warning\n",
      "\n",
      "C:\\Users\\KandelLabDoric\\anaconda3a\\lib\\site-packages\\sklearn\\cluster\\_kmeans.py:1382: UserWarning:\n",
      "\n",
      "KMeans is known to have a memory leak on Windows with MKL, when there are less chunks than available threads. You can avoid it by setting the environment variable OMP_NUM_THREADS=1.\n",
      "\n",
      "C:\\Users\\KandelLabDoric\\anaconda3a\\lib\\site-packages\\sklearn\\cluster\\_kmeans.py:870: FutureWarning:\n",
      "\n",
      "The default value of `n_init` will change from 10 to 'auto' in 1.4. Set the value of `n_init` explicitly to suppress the warning\n",
      "\n",
      "C:\\Users\\KandelLabDoric\\anaconda3a\\lib\\site-packages\\sklearn\\cluster\\_kmeans.py:1382: UserWarning:\n",
      "\n",
      "KMeans is known to have a memory leak on Windows with MKL, when there are less chunks than available threads. You can avoid it by setting the environment variable OMP_NUM_THREADS=1.\n",
      "\n",
      "C:\\Users\\KandelLabDoric\\anaconda3a\\lib\\site-packages\\sklearn\\cluster\\_kmeans.py:870: FutureWarning:\n",
      "\n",
      "The default value of `n_init` will change from 10 to 'auto' in 1.4. Set the value of `n_init` explicitly to suppress the warning\n",
      "\n",
      "C:\\Users\\KandelLabDoric\\anaconda3a\\lib\\site-packages\\sklearn\\cluster\\_kmeans.py:1382: UserWarning:\n",
      "\n",
      "KMeans is known to have a memory leak on Windows with MKL, when there are less chunks than available threads. You can avoid it by setting the environment variable OMP_NUM_THREADS=1.\n",
      "\n",
      "C:\\Users\\KandelLabDoric\\anaconda3a\\lib\\site-packages\\sklearn\\cluster\\_kmeans.py:870: FutureWarning:\n",
      "\n",
      "The default value of `n_init` will change from 10 to 'auto' in 1.4. Set the value of `n_init` explicitly to suppress the warning\n",
      "\n",
      "C:\\Users\\KandelLabDoric\\anaconda3a\\lib\\site-packages\\sklearn\\cluster\\_kmeans.py:1382: UserWarning:\n",
      "\n",
      "KMeans is known to have a memory leak on Windows with MKL, when there are less chunks than available threads. You can avoid it by setting the environment variable OMP_NUM_THREADS=1.\n",
      "\n",
      "C:\\Users\\KandelLabDoric\\anaconda3a\\lib\\site-packages\\sklearn\\cluster\\_kmeans.py:870: FutureWarning:\n",
      "\n",
      "The default value of `n_init` will change from 10 to 'auto' in 1.4. Set the value of `n_init` explicitly to suppress the warning\n",
      "\n",
      "C:\\Users\\KandelLabDoric\\anaconda3a\\lib\\site-packages\\sklearn\\cluster\\_kmeans.py:1382: UserWarning:\n",
      "\n",
      "KMeans is known to have a memory leak on Windows with MKL, when there are less chunks than available threads. You can avoid it by setting the environment variable OMP_NUM_THREADS=1.\n",
      "\n",
      "C:\\Users\\KandelLabDoric\\anaconda3a\\lib\\site-packages\\sklearn\\cluster\\_kmeans.py:870: FutureWarning:\n",
      "\n",
      "The default value of `n_init` will change from 10 to 'auto' in 1.4. Set the value of `n_init` explicitly to suppress the warning\n",
      "\n",
      "C:\\Users\\KandelLabDoric\\anaconda3a\\lib\\site-packages\\sklearn\\cluster\\_kmeans.py:1382: UserWarning:\n",
      "\n",
      "KMeans is known to have a memory leak on Windows with MKL, when there are less chunks than available threads. You can avoid it by setting the environment variable OMP_NUM_THREADS=1.\n",
      "\n",
      "C:\\Users\\KandelLabDoric\\anaconda3a\\lib\\site-packages\\sklearn\\cluster\\_kmeans.py:870: FutureWarning:\n",
      "\n",
      "The default value of `n_init` will change from 10 to 'auto' in 1.4. Set the value of `n_init` explicitly to suppress the warning\n",
      "\n",
      "C:\\Users\\KandelLabDoric\\anaconda3a\\lib\\site-packages\\sklearn\\cluster\\_kmeans.py:1382: UserWarning:\n",
      "\n",
      "KMeans is known to have a memory leak on Windows with MKL, when there are less chunks than available threads. You can avoid it by setting the environment variable OMP_NUM_THREADS=1.\n",
      "\n",
      "C:\\Users\\KandelLabDoric\\anaconda3a\\lib\\site-packages\\sklearn\\cluster\\_kmeans.py:870: FutureWarning:\n",
      "\n",
      "The default value of `n_init` will change from 10 to 'auto' in 1.4. Set the value of `n_init` explicitly to suppress the warning\n",
      "\n",
      "C:\\Users\\KandelLabDoric\\anaconda3a\\lib\\site-packages\\sklearn\\cluster\\_kmeans.py:1382: UserWarning:\n",
      "\n",
      "KMeans is known to have a memory leak on Windows with MKL, when there are less chunks than available threads. You can avoid it by setting the environment variable OMP_NUM_THREADS=1.\n",
      "\n",
      "C:\\Users\\KandelLabDoric\\anaconda3a\\lib\\site-packages\\sklearn\\cluster\\_kmeans.py:870: FutureWarning:\n",
      "\n",
      "The default value of `n_init` will change from 10 to 'auto' in 1.4. Set the value of `n_init` explicitly to suppress the warning\n",
      "\n",
      "C:\\Users\\KandelLabDoric\\anaconda3a\\lib\\site-packages\\sklearn\\cluster\\_kmeans.py:1382: UserWarning:\n",
      "\n",
      "KMeans is known to have a memory leak on Windows with MKL, when there are less chunks than available threads. You can avoid it by setting the environment variable OMP_NUM_THREADS=1.\n",
      "\n"
     ]
    }
   ],
   "source": [
    "# Create an empty list to store the inertia values\n",
    "inertia=[]\n",
    "\n",
    "# Create a for loop to compute the inertia with each possible value of k\n",
    "# Inside the loop:\n",
    "# 1. Create a KMeans model using the loop counter for the n_clusters\n",
    "# 2. Fit the model to the data using `df_market_data_pca`\n",
    "# 3. Append the model.inertia_ to the inertia list\n",
    "for i in k_pca:\n",
    "    k_model = KMeans(n_clusters=i, random_state=0)\n",
    "    k_model.fit(player_pca)\n",
    "    inertia.append(k_model.inertia_)"
   ]
  },
  {
   "cell_type": "code",
   "execution_count": 142,
   "metadata": {},
   "outputs": [
    {
     "data": {
      "text/html": [
       "<div>\n",
       "<style scoped>\n",
       "    .dataframe tbody tr th:only-of-type {\n",
       "        vertical-align: middle;\n",
       "    }\n",
       "\n",
       "    .dataframe tbody tr th {\n",
       "        vertical-align: top;\n",
       "    }\n",
       "\n",
       "    .dataframe thead th {\n",
       "        text-align: right;\n",
       "    }\n",
       "</style>\n",
       "<table border=\"1\" class=\"dataframe\">\n",
       "  <thead>\n",
       "    <tr style=\"text-align: right;\">\n",
       "      <th></th>\n",
       "      <th>k_pca</th>\n",
       "      <th>inertia</th>\n",
       "    </tr>\n",
       "  </thead>\n",
       "  <tbody>\n",
       "    <tr>\n",
       "      <th>0</th>\n",
       "      <td>1</td>\n",
       "      <td>4993.592934</td>\n",
       "    </tr>\n",
       "    <tr>\n",
       "      <th>1</th>\n",
       "      <td>2</td>\n",
       "      <td>3138.896144</td>\n",
       "    </tr>\n",
       "    <tr>\n",
       "      <th>2</th>\n",
       "      <td>3</td>\n",
       "      <td>2094.077161</td>\n",
       "    </tr>\n",
       "    <tr>\n",
       "      <th>3</th>\n",
       "      <td>4</td>\n",
       "      <td>1625.245806</td>\n",
       "    </tr>\n",
       "    <tr>\n",
       "      <th>4</th>\n",
       "      <td>5</td>\n",
       "      <td>1277.534521</td>\n",
       "    </tr>\n",
       "  </tbody>\n",
       "</table>\n",
       "</div>"
      ],
      "text/plain": [
       "   k_pca      inertia\n",
       "0      1  4993.592934\n",
       "1      2  3138.896144\n",
       "2      3  2094.077161\n",
       "3      4  1625.245806\n",
       "4      5  1277.534521"
      ]
     },
     "execution_count": 142,
     "metadata": {},
     "output_type": "execute_result"
    }
   ],
   "source": [
    "# Create a dictionary with the data to plot the Elbow curve\n",
    "elbow_data = {'k_pca': k_pca , 'inertia': inertia}\n",
    "# Create a DataFrame with the data to plot the Elbow curve\n",
    "df_elbow_pca = pd.DataFrame(elbow_data)\n",
    "df_elbow_pca.head()"
   ]
  },
  {
   "cell_type": "code",
   "execution_count": 143,
   "metadata": {},
   "outputs": [
    {
     "data": {},
     "metadata": {},
     "output_type": "display_data"
    },
    {
     "data": {
      "application/vnd.holoviews_exec.v0+json": "",
      "text/html": [
       "<div id='12664'>\n",
       "  <div class=\"bk-root\" id=\"d4b744e7-29ad-4423-a7dd-a78383bf2206\" data-root-id=\"12664\"></div>\n",
       "</div>\n",
       "<script type=\"application/javascript\">(function(root) {\n",
       "  function embed_document(root) {\n",
       "    var docs_json = {\"8a3bbffd-080c-437e-a0cc-b30624d64592\":{\"defs\":[{\"extends\":null,\"module\":null,\"name\":\"ReactiveHTML1\",\"overrides\":[],\"properties\":[]},{\"extends\":null,\"module\":null,\"name\":\"FlexBox1\",\"overrides\":[],\"properties\":[{\"default\":\"flex-start\",\"kind\":null,\"name\":\"align_content\"},{\"default\":\"flex-start\",\"kind\":null,\"name\":\"align_items\"},{\"default\":\"row\",\"kind\":null,\"name\":\"flex_direction\"},{\"default\":\"wrap\",\"kind\":null,\"name\":\"flex_wrap\"},{\"default\":\"flex-start\",\"kind\":null,\"name\":\"justify_content\"}]},{\"extends\":null,\"module\":null,\"name\":\"GridStack1\",\"overrides\":[],\"properties\":[{\"default\":\"warn\",\"kind\":null,\"name\":\"mode\"},{\"default\":null,\"kind\":null,\"name\":\"ncols\"},{\"default\":null,\"kind\":null,\"name\":\"nrows\"},{\"default\":true,\"kind\":null,\"name\":\"allow_resize\"},{\"default\":true,\"kind\":null,\"name\":\"allow_drag\"},{\"default\":[],\"kind\":null,\"name\":\"state\"}]},{\"extends\":null,\"module\":null,\"name\":\"click1\",\"overrides\":[],\"properties\":[{\"default\":\"\",\"kind\":null,\"name\":\"terminal_output\"},{\"default\":\"\",\"kind\":null,\"name\":\"debug_name\"},{\"default\":0,\"kind\":null,\"name\":\"clears\"}]},{\"extends\":null,\"module\":null,\"name\":\"NotificationAreaBase1\",\"overrides\":[],\"properties\":[{\"default\":\"bottom-right\",\"kind\":null,\"name\":\"position\"},{\"default\":0,\"kind\":null,\"name\":\"_clear\"}]},{\"extends\":null,\"module\":null,\"name\":\"NotificationArea1\",\"overrides\":[],\"properties\":[{\"default\":[],\"kind\":null,\"name\":\"notifications\"},{\"default\":\"bottom-right\",\"kind\":null,\"name\":\"position\"},{\"default\":0,\"kind\":null,\"name\":\"_clear\"},{\"default\":[{\"background\":\"#ffc107\",\"icon\":{\"className\":\"fas fa-exclamation-triangle\",\"color\":\"white\",\"tagName\":\"i\"},\"type\":\"warning\"},{\"background\":\"#007bff\",\"icon\":{\"className\":\"fas fa-info-circle\",\"color\":\"white\",\"tagName\":\"i\"},\"type\":\"info\"}],\"kind\":null,\"name\":\"types\"}]},{\"extends\":null,\"module\":null,\"name\":\"Notification\",\"overrides\":[],\"properties\":[{\"default\":null,\"kind\":null,\"name\":\"background\"},{\"default\":3000,\"kind\":null,\"name\":\"duration\"},{\"default\":null,\"kind\":null,\"name\":\"icon\"},{\"default\":\"\",\"kind\":null,\"name\":\"message\"},{\"default\":null,\"kind\":null,\"name\":\"notification_type\"},{\"default\":false,\"kind\":null,\"name\":\"_destroyed\"}]},{\"extends\":null,\"module\":null,\"name\":\"TemplateActions1\",\"overrides\":[],\"properties\":[{\"default\":0,\"kind\":null,\"name\":\"open_modal\"},{\"default\":0,\"kind\":null,\"name\":\"close_modal\"}]},{\"extends\":null,\"module\":null,\"name\":\"MaterialTemplateActions1\",\"overrides\":[],\"properties\":[{\"default\":0,\"kind\":null,\"name\":\"open_modal\"},{\"default\":0,\"kind\":null,\"name\":\"close_modal\"}]}],\"roots\":{\"references\":[{\"attributes\":{\"axis_label\":\"k_pca\",\"coordinates\":null,\"formatter\":{\"id\":\"12709\"},\"group\":null,\"major_label_policy\":{\"id\":\"12710\"},\"ticker\":{\"id\":\"12707\"}},\"id\":\"12677\",\"type\":\"LinearAxis\"},{\"attributes\":{\"line_color\":\"#30a2da\",\"line_width\":2,\"x\":{\"field\":\"k_pca\"},\"y\":{\"field\":\"inertia\"}},\"id\":\"12701\",\"type\":\"Line\"},{\"attributes\":{\"line_color\":\"#30a2da\",\"line_width\":2,\"x\":{\"field\":\"k_pca\"},\"y\":{\"field\":\"inertia\"}},\"id\":\"12706\",\"type\":\"Line\"},{\"attributes\":{\"line_alpha\":0.1,\"line_color\":\"#30a2da\",\"line_width\":2,\"x\":{\"field\":\"k_pca\"},\"y\":{\"field\":\"inertia\"}},\"id\":\"12702\",\"type\":\"Line\"},{\"attributes\":{},\"id\":\"12682\",\"type\":\"BasicTicker\"},{\"attributes\":{},\"id\":\"12715\",\"type\":\"AllLabels\"},{\"attributes\":{\"coordinates\":null,\"data_source\":{\"id\":\"12698\"},\"glyph\":{\"id\":\"12701\"},\"group\":null,\"hover_glyph\":null,\"muted_glyph\":{\"id\":\"12703\"},\"nonselection_glyph\":{\"id\":\"12702\"},\"selection_glyph\":{\"id\":\"12706\"},\"view\":{\"id\":\"12705\"}},\"id\":\"12704\",\"type\":\"GlyphRenderer\"},{\"attributes\":{},\"id\":\"12726\",\"type\":\"UnionRenderers\"},{\"attributes\":{\"ticks\":[1,2,3,4,5,6,7,8,9,10,11,12,13,14,15,16,17,18,19]},\"id\":\"12707\",\"type\":\"FixedTicker\"},{\"attributes\":{},\"id\":\"12710\",\"type\":\"AllLabels\"},{\"attributes\":{},\"id\":\"12686\",\"type\":\"PanTool\"},{\"attributes\":{\"axis\":{\"id\":\"12677\"},\"coordinates\":null,\"grid_line_color\":null,\"group\":null,\"ticker\":null},\"id\":\"12680\",\"type\":\"Grid\"},{\"attributes\":{\"axis\":{\"id\":\"12681\"},\"coordinates\":null,\"dimension\":1,\"grid_line_color\":null,\"group\":null,\"ticker\":null},\"id\":\"12684\",\"type\":\"Grid\"},{\"attributes\":{\"children\":[{\"id\":\"12668\"}],\"height\":300,\"margin\":[0,0,0,0],\"name\":\"Row08276\",\"sizing_mode\":\"fixed\",\"tags\":[\"embedded\"],\"width\":700},\"id\":\"12664\",\"type\":\"Row\"},{\"attributes\":{\"active_drag\":{\"id\":\"12686\"},\"active_scroll\":{\"id\":\"12687\"},\"tools\":[{\"id\":\"12667\"},{\"id\":\"12685\"},{\"id\":\"12686\"},{\"id\":\"12687\"},{\"id\":\"12688\"},{\"id\":\"12689\"}]},\"id\":\"12691\",\"type\":\"Toolbar\"},{\"attributes\":{\"below\":[{\"id\":\"12677\"}],\"center\":[{\"id\":\"12680\"},{\"id\":\"12684\"}],\"height\":300,\"left\":[{\"id\":\"12681\"}],\"margin\":[5,5,5,5],\"min_border_bottom\":10,\"min_border_left\":10,\"min_border_right\":10,\"min_border_top\":10,\"renderers\":[{\"id\":\"12704\"}],\"sizing_mode\":\"fixed\",\"title\":{\"id\":\"12669\"},\"toolbar\":{\"id\":\"12691\"},\"width\":700,\"x_range\":{\"id\":\"12665\"},\"x_scale\":{\"id\":\"12673\"},\"y_range\":{\"id\":\"12666\"},\"y_scale\":{\"id\":\"12675\"}},\"id\":\"12668\",\"subtype\":\"Figure\",\"type\":\"Plot\"},{\"attributes\":{},\"id\":\"12673\",\"type\":\"LinearScale\"},{\"attributes\":{},\"id\":\"12714\",\"type\":\"BasicTickFormatter\"},{\"attributes\":{\"axis_label\":\"inertia\",\"coordinates\":null,\"formatter\":{\"id\":\"12714\"},\"group\":null,\"major_label_policy\":{\"id\":\"12715\"},\"ticker\":{\"id\":\"12682\"}},\"id\":\"12681\",\"type\":\"LinearAxis\"},{\"attributes\":{},\"id\":\"12675\",\"type\":\"LinearScale\"},{\"attributes\":{\"callback\":null,\"renderers\":[{\"id\":\"12704\"}],\"tags\":[\"hv_created\"],\"tooltips\":[[\"k_pca\",\"@{k_pca}\"],[\"inertia\",\"@{inertia}\"]]},\"id\":\"12667\",\"type\":\"HoverTool\"},{\"attributes\":{\"bottom_units\":\"screen\",\"coordinates\":null,\"fill_alpha\":0.5,\"fill_color\":\"lightgrey\",\"group\":null,\"left_units\":\"screen\",\"level\":\"overlay\",\"line_alpha\":1.0,\"line_color\":\"black\",\"line_dash\":[4,4],\"line_width\":2,\"right_units\":\"screen\",\"syncable\":false,\"top_units\":\"screen\"},\"id\":\"12690\",\"type\":\"BoxAnnotation\"},{\"attributes\":{\"end\":10.0,\"reset_end\":10.0,\"reset_start\":1.0,\"start\":1.0,\"tags\":[[[\"k_pca\",\"k_pca\",null]]]},\"id\":\"12665\",\"type\":\"Range1d\"},{\"attributes\":{\"data\":{\"inertia\":{\"__ndarray__\":\"rWp9ypeBs0BDiW/TyoWoQNxsm4EnXKBAUPertPtkmUA32JJZI/aTQOM5bCPN/5BAYGpmEVi9jEBvhSgc50GJQFlkNOTtVIZAexg+XQSLhEA=\",\"dtype\":\"float64\",\"order\":\"little\",\"shape\":[10]},\"k_pca\":[1,2,3,4,5,6,7,8,9,10]},\"selected\":{\"id\":\"12699\"},\"selection_policy\":{\"id\":\"12726\"}},\"id\":\"12698\",\"type\":\"ColumnDataSource\"},{\"attributes\":{},\"id\":\"12689\",\"type\":\"ResetTool\"},{\"attributes\":{\"source\":{\"id\":\"12698\"}},\"id\":\"12705\",\"type\":\"CDSView\"},{\"attributes\":{},\"id\":\"12685\",\"type\":\"SaveTool\"},{\"attributes\":{},\"id\":\"12687\",\"type\":\"WheelZoomTool\"},{\"attributes\":{\"overlay\":{\"id\":\"12690\"}},\"id\":\"12688\",\"type\":\"BoxZoomTool\"},{\"attributes\":{},\"id\":\"12709\",\"type\":\"BasicTickFormatter\"},{\"attributes\":{},\"id\":\"12699\",\"type\":\"Selection\"},{\"attributes\":{\"end\":5427.214513753783,\"reset_end\":5427.214513753783,\"reset_start\":223.75555071809754,\"start\":223.75555071809754,\"tags\":[[[\"inertia\",\"inertia\",null]]]},\"id\":\"12666\",\"type\":\"Range1d\"},{\"attributes\":{\"line_alpha\":0.2,\"line_color\":\"#30a2da\",\"line_width\":2,\"x\":{\"field\":\"k_pca\"},\"y\":{\"field\":\"inertia\"}},\"id\":\"12703\",\"type\":\"Line\"},{\"attributes\":{\"coordinates\":null,\"group\":null,\"text\":\"Elbow Curve\",\"text_color\":\"black\",\"text_font_size\":\"12pt\"},\"id\":\"12669\",\"type\":\"Title\"}],\"root_ids\":[\"12664\"]},\"title\":\"Bokeh Application\",\"version\":\"2.4.3\"}};\n",
       "    var render_items = [{\"docid\":\"8a3bbffd-080c-437e-a0cc-b30624d64592\",\"root_ids\":[\"12664\"],\"roots\":{\"12664\":\"d4b744e7-29ad-4423-a7dd-a78383bf2206\"}}];\n",
       "    root.Bokeh.embed.embed_items_notebook(docs_json, render_items);\n",
       "    for (const render_item of render_items) {\n",
       "      for (const root_id of render_item.root_ids) {\n",
       "\tconst id_el = document.getElementById(root_id)\n",
       "\tif (id_el.children.length && (id_el.children[0].className === 'bk-root')) {\n",
       "\t  const root_el = id_el.children[0]\n",
       "\t  root_el.id = root_el.id + '-rendered'\n",
       "\t}\n",
       "      }\n",
       "    }\n",
       "  }\n",
       "  if (root.Bokeh !== undefined && root.Bokeh.Panel !== undefined) {\n",
       "    embed_document(root);\n",
       "  } else {\n",
       "    var attempts = 0;\n",
       "    var timer = setInterval(function(root) {\n",
       "      if (root.Bokeh !== undefined && root.Bokeh.Panel !== undefined) {\n",
       "        clearInterval(timer);\n",
       "        embed_document(root);\n",
       "      } else if (document.readyState == \"complete\") {\n",
       "        attempts++;\n",
       "        if (attempts > 200) {\n",
       "          clearInterval(timer);\n",
       "          console.log(\"Bokeh: ERROR: Unable to run BokehJS code because BokehJS library is missing\");\n",
       "        }\n",
       "      }\n",
       "    }, 25, root)\n",
       "  }\n",
       "})(window);</script>"
      ],
      "text/plain": [
       ":Curve   [k_pca]   (inertia)"
      ]
     },
     "execution_count": 143,
     "metadata": {
      "application/vnd.holoviews_exec.v0+json": {
       "id": "12664"
      }
     },
     "output_type": "execute_result"
    }
   ],
   "source": [
    "# Plot a line chart with all the inertia values computed with \n",
    "# the different values of k to visually identify the optimal value for k.\n",
    "elbow_pca_plot = df_elbow_pca.hvplot.line(\n",
    "    x=\"k_pca\", \n",
    "    y=\"inertia\", \n",
    "    title=\"Elbow Curve\", \n",
    "    xticks=k\n",
    ")\n",
    "elbow_pca_plot"
   ]
  },
  {
   "cell_type": "markdown",
   "metadata": {},
   "source": [
    "#### Answer the following questions: \n",
    "\n",
    "* **Question:** What is the best value for `k` when using the PCA data?\n",
    "\n",
    "  * **Answer:2\n",
    "\n",
    "\n",
    "* **Question:** Does it differ from the best k value found using the original data?\n",
    "\n",
    "  * **Answer:YES"
   ]
  },
  {
   "cell_type": "markdown",
   "metadata": {},
   "source": [
    "### Cluster player name with K-means Using the PCA Data"
   ]
  },
  {
   "cell_type": "code",
   "execution_count": 144,
   "metadata": {},
   "outputs": [],
   "source": [
    "# Initialize the K-Means model using the best value for k\n",
    "model = KMeans(n_clusters=3, random_state=0)"
   ]
  },
  {
   "cell_type": "code",
   "execution_count": 145,
   "metadata": {},
   "outputs": [
    {
     "name": "stderr",
     "output_type": "stream",
     "text": [
      "C:\\Users\\KandelLabDoric\\anaconda3a\\lib\\site-packages\\sklearn\\cluster\\_kmeans.py:870: FutureWarning:\n",
      "\n",
      "The default value of `n_init` will change from 10 to 'auto' in 1.4. Set the value of `n_init` explicitly to suppress the warning\n",
      "\n",
      "C:\\Users\\KandelLabDoric\\anaconda3a\\lib\\site-packages\\sklearn\\cluster\\_kmeans.py:1382: UserWarning:\n",
      "\n",
      "KMeans is known to have a memory leak on Windows with MKL, when there are less chunks than available threads. You can avoid it by setting the environment variable OMP_NUM_THREADS=1.\n",
      "\n"
     ]
    },
    {
     "data": {
      "text/html": [
       "<style>#sk-container-id-9 {color: black;background-color: white;}#sk-container-id-9 pre{padding: 0;}#sk-container-id-9 div.sk-toggleable {background-color: white;}#sk-container-id-9 label.sk-toggleable__label {cursor: pointer;display: block;width: 100%;margin-bottom: 0;padding: 0.3em;box-sizing: border-box;text-align: center;}#sk-container-id-9 label.sk-toggleable__label-arrow:before {content: \"▸\";float: left;margin-right: 0.25em;color: #696969;}#sk-container-id-9 label.sk-toggleable__label-arrow:hover:before {color: black;}#sk-container-id-9 div.sk-estimator:hover label.sk-toggleable__label-arrow:before {color: black;}#sk-container-id-9 div.sk-toggleable__content {max-height: 0;max-width: 0;overflow: hidden;text-align: left;background-color: #f0f8ff;}#sk-container-id-9 div.sk-toggleable__content pre {margin: 0.2em;color: black;border-radius: 0.25em;background-color: #f0f8ff;}#sk-container-id-9 input.sk-toggleable__control:checked~div.sk-toggleable__content {max-height: 200px;max-width: 100%;overflow: auto;}#sk-container-id-9 input.sk-toggleable__control:checked~label.sk-toggleable__label-arrow:before {content: \"▾\";}#sk-container-id-9 div.sk-estimator input.sk-toggleable__control:checked~label.sk-toggleable__label {background-color: #d4ebff;}#sk-container-id-9 div.sk-label input.sk-toggleable__control:checked~label.sk-toggleable__label {background-color: #d4ebff;}#sk-container-id-9 input.sk-hidden--visually {border: 0;clip: rect(1px 1px 1px 1px);clip: rect(1px, 1px, 1px, 1px);height: 1px;margin: -1px;overflow: hidden;padding: 0;position: absolute;width: 1px;}#sk-container-id-9 div.sk-estimator {font-family: monospace;background-color: #f0f8ff;border: 1px dotted black;border-radius: 0.25em;box-sizing: border-box;margin-bottom: 0.5em;}#sk-container-id-9 div.sk-estimator:hover {background-color: #d4ebff;}#sk-container-id-9 div.sk-parallel-item::after {content: \"\";width: 100%;border-bottom: 1px solid gray;flex-grow: 1;}#sk-container-id-9 div.sk-label:hover label.sk-toggleable__label {background-color: #d4ebff;}#sk-container-id-9 div.sk-serial::before {content: \"\";position: absolute;border-left: 1px solid gray;box-sizing: border-box;top: 0;bottom: 0;left: 50%;z-index: 0;}#sk-container-id-9 div.sk-serial {display: flex;flex-direction: column;align-items: center;background-color: white;padding-right: 0.2em;padding-left: 0.2em;position: relative;}#sk-container-id-9 div.sk-item {position: relative;z-index: 1;}#sk-container-id-9 div.sk-parallel {display: flex;align-items: stretch;justify-content: center;background-color: white;position: relative;}#sk-container-id-9 div.sk-item::before, #sk-container-id-9 div.sk-parallel-item::before {content: \"\";position: absolute;border-left: 1px solid gray;box-sizing: border-box;top: 0;bottom: 0;left: 50%;z-index: -1;}#sk-container-id-9 div.sk-parallel-item {display: flex;flex-direction: column;z-index: 1;position: relative;background-color: white;}#sk-container-id-9 div.sk-parallel-item:first-child::after {align-self: flex-end;width: 50%;}#sk-container-id-9 div.sk-parallel-item:last-child::after {align-self: flex-start;width: 50%;}#sk-container-id-9 div.sk-parallel-item:only-child::after {width: 0;}#sk-container-id-9 div.sk-dashed-wrapped {border: 1px dashed gray;margin: 0 0.4em 0.5em 0.4em;box-sizing: border-box;padding-bottom: 0.4em;background-color: white;}#sk-container-id-9 div.sk-label label {font-family: monospace;font-weight: bold;display: inline-block;line-height: 1.2em;}#sk-container-id-9 div.sk-label-container {text-align: center;}#sk-container-id-9 div.sk-container {/* jupyter's `normalize.less` sets `[hidden] { display: none; }` but bootstrap.min.css set `[hidden] { display: none !important; }` so we also need the `!important` here to be able to override the default hidden behavior on the sphinx rendered scikit-learn.org. See: https://github.com/scikit-learn/scikit-learn/issues/21755 */display: inline-block !important;position: relative;}#sk-container-id-9 div.sk-text-repr-fallback {display: none;}</style><div id=\"sk-container-id-9\" class=\"sk-top-container\"><div class=\"sk-text-repr-fallback\"><pre>KMeans(n_clusters=3, random_state=0)</pre><b>In a Jupyter environment, please rerun this cell to show the HTML representation or trust the notebook. <br />On GitHub, the HTML representation is unable to render, please try loading this page with nbviewer.org.</b></div><div class=\"sk-container\" hidden><div class=\"sk-item\"><div class=\"sk-estimator sk-toggleable\"><input class=\"sk-toggleable__control sk-hidden--visually\" id=\"sk-estimator-id-9\" type=\"checkbox\" checked><label for=\"sk-estimator-id-9\" class=\"sk-toggleable__label sk-toggleable__label-arrow\">KMeans</label><div class=\"sk-toggleable__content\"><pre>KMeans(n_clusters=3, random_state=0)</pre></div></div></div></div></div>"
      ],
      "text/plain": [
       "KMeans(n_clusters=3, random_state=0)"
      ]
     },
     "execution_count": 145,
     "metadata": {},
     "output_type": "execute_result"
    }
   ],
   "source": [
    "# Fit the K-Means model using the PCA data\n",
    "model.fit(player_pca)"
   ]
  },
  {
   "cell_type": "code",
   "execution_count": 146,
   "metadata": {},
   "outputs": [
    {
     "data": {
      "text/plain": [
       "array([2, 2, 2, 2, 2, 2, 0, 1, 0, 0, 2, 2, 2, 0, 1, 1, 1, 0, 1, 1, 0, 1,\n",
       "       0, 0, 0, 1, 1, 1, 1, 1, 1, 1, 1, 1, 1, 1, 1, 1, 1, 1, 1, 0, 1, 1,\n",
       "       0, 0, 1, 1, 1, 1, 1, 1, 1, 0, 0, 0, 0, 1, 0, 1, 0, 0, 0, 0, 0, 1,\n",
       "       0, 0, 0, 1, 1, 1, 1, 1, 1, 1, 0, 0, 1, 1, 1, 1, 1, 0, 0, 0, 0, 1,\n",
       "       1, 0, 0, 0, 1, 1, 1, 1, 0, 1, 1, 1, 0, 0, 0, 0, 0, 0, 0, 0, 1, 0,\n",
       "       1, 1, 1, 0, 0, 1, 1, 1, 0, 1, 1, 1, 1, 1, 1, 0, 1, 0, 0, 0, 1, 0,\n",
       "       1, 0, 0, 0, 0, 0, 0, 1, 0, 0, 0, 1, 0, 1, 0, 0, 0, 0, 0, 0, 0, 1,\n",
       "       0, 1, 0, 0, 0, 0, 0, 0, 0, 1, 1, 0, 0, 1, 0, 0, 0, 0, 0, 0, 0, 1,\n",
       "       0, 0, 0, 0, 0, 1, 0, 1, 0, 0, 0, 0, 0, 1, 0, 0, 0, 0, 0, 0, 0, 0,\n",
       "       0])"
      ]
     },
     "execution_count": 146,
     "metadata": {},
     "output_type": "execute_result"
    }
   ],
   "source": [
    "# Predict the clusters to group the cryptocurrencies using the PCA data\n",
    "k_predict = model.predict(player_pca)\n",
    "# Print the resulting array of cluster values.\n",
    "k_predict"
   ]
  },
  {
   "cell_type": "code",
   "execution_count": 147,
   "metadata": {},
   "outputs": [
    {
     "data": {
      "text/html": [
       "<div>\n",
       "<style scoped>\n",
       "    .dataframe tbody tr th:only-of-type {\n",
       "        vertical-align: middle;\n",
       "    }\n",
       "\n",
       "    .dataframe tbody tr th {\n",
       "        vertical-align: top;\n",
       "    }\n",
       "\n",
       "    .dataframe thead th {\n",
       "        text-align: right;\n",
       "    }\n",
       "</style>\n",
       "<table border=\"1\" class=\"dataframe\">\n",
       "  <thead>\n",
       "    <tr style=\"text-align: right;\">\n",
       "      <th></th>\n",
       "      <th>PCA1</th>\n",
       "      <th>PCA2</th>\n",
       "      <th>PCA3</th>\n",
       "      <th>pca_prediction</th>\n",
       "    </tr>\n",
       "    <tr>\n",
       "      <th>player_name</th>\n",
       "      <th></th>\n",
       "      <th></th>\n",
       "      <th></th>\n",
       "      <th></th>\n",
       "    </tr>\n",
       "  </thead>\n",
       "  <tbody>\n",
       "    <tr>\n",
       "      <th>0</th>\n",
       "      <td>11.636786</td>\n",
       "      <td>6.612646</td>\n",
       "      <td>-5.073010</td>\n",
       "      <td>2</td>\n",
       "    </tr>\n",
       "    <tr>\n",
       "      <th>1</th>\n",
       "      <td>10.809575</td>\n",
       "      <td>6.571655</td>\n",
       "      <td>-6.215461</td>\n",
       "      <td>2</td>\n",
       "    </tr>\n",
       "    <tr>\n",
       "      <th>2</th>\n",
       "      <td>6.530337</td>\n",
       "      <td>11.847512</td>\n",
       "      <td>-0.152799</td>\n",
       "      <td>2</td>\n",
       "    </tr>\n",
       "    <tr>\n",
       "      <th>3</th>\n",
       "      <td>6.852229</td>\n",
       "      <td>11.693209</td>\n",
       "      <td>0.425096</td>\n",
       "      <td>2</td>\n",
       "    </tr>\n",
       "    <tr>\n",
       "      <th>4</th>\n",
       "      <td>10.594968</td>\n",
       "      <td>6.084569</td>\n",
       "      <td>-3.248769</td>\n",
       "      <td>2</td>\n",
       "    </tr>\n",
       "  </tbody>\n",
       "</table>\n",
       "</div>"
      ],
      "text/plain": [
       "                  PCA1       PCA2      PCA3  pca_prediction\n",
       "player_name                                                \n",
       "0            11.636786   6.612646 -5.073010               2\n",
       "1            10.809575   6.571655 -6.215461               2\n",
       "2             6.530337  11.847512 -0.152799               2\n",
       "3             6.852229  11.693209  0.425096               2\n",
       "4            10.594968   6.084569 -3.248769               2"
      ]
     },
     "execution_count": 147,
     "metadata": {},
     "output_type": "execute_result"
    }
   ],
   "source": [
    "# Create a copy of the DataFrame with the PCA data\n",
    "player_pca_prediction_df = player_pca.copy()\n",
    "\n",
    "# Add a new column to the DataFrame with the predicted clusters\n",
    "player_pca_prediction_df['pca_prediction']= k_predict\n",
    "\n",
    "# Display sample data\n",
    "player_pca_prediction_df.head()"
   ]
  },
  {
   "cell_type": "code",
   "execution_count": 148,
   "metadata": {},
   "outputs": [
    {
     "data": {},
     "metadata": {},
     "output_type": "display_data"
    },
    {
     "data": {
      "application/vnd.holoviews_exec.v0+json": "",
      "text/html": [
       "<div id='12775'>\n",
       "  <div class=\"bk-root\" id=\"beefb5a3-6500-472e-a0b6-6003e1951cfd\" data-root-id=\"12775\"></div>\n",
       "</div>\n",
       "<script type=\"application/javascript\">(function(root) {\n",
       "  function embed_document(root) {\n",
       "    var docs_json = {\"a43fc6a0-db03-4a10-8952-f6451ea407c3\":{\"defs\":[{\"extends\":null,\"module\":null,\"name\":\"ReactiveHTML1\",\"overrides\":[],\"properties\":[]},{\"extends\":null,\"module\":null,\"name\":\"FlexBox1\",\"overrides\":[],\"properties\":[{\"default\":\"flex-start\",\"kind\":null,\"name\":\"align_content\"},{\"default\":\"flex-start\",\"kind\":null,\"name\":\"align_items\"},{\"default\":\"row\",\"kind\":null,\"name\":\"flex_direction\"},{\"default\":\"wrap\",\"kind\":null,\"name\":\"flex_wrap\"},{\"default\":\"flex-start\",\"kind\":null,\"name\":\"justify_content\"}]},{\"extends\":null,\"module\":null,\"name\":\"GridStack1\",\"overrides\":[],\"properties\":[{\"default\":\"warn\",\"kind\":null,\"name\":\"mode\"},{\"default\":null,\"kind\":null,\"name\":\"ncols\"},{\"default\":null,\"kind\":null,\"name\":\"nrows\"},{\"default\":true,\"kind\":null,\"name\":\"allow_resize\"},{\"default\":true,\"kind\":null,\"name\":\"allow_drag\"},{\"default\":[],\"kind\":null,\"name\":\"state\"}]},{\"extends\":null,\"module\":null,\"name\":\"click1\",\"overrides\":[],\"properties\":[{\"default\":\"\",\"kind\":null,\"name\":\"terminal_output\"},{\"default\":\"\",\"kind\":null,\"name\":\"debug_name\"},{\"default\":0,\"kind\":null,\"name\":\"clears\"}]},{\"extends\":null,\"module\":null,\"name\":\"NotificationAreaBase1\",\"overrides\":[],\"properties\":[{\"default\":\"bottom-right\",\"kind\":null,\"name\":\"position\"},{\"default\":0,\"kind\":null,\"name\":\"_clear\"}]},{\"extends\":null,\"module\":null,\"name\":\"NotificationArea1\",\"overrides\":[],\"properties\":[{\"default\":[],\"kind\":null,\"name\":\"notifications\"},{\"default\":\"bottom-right\",\"kind\":null,\"name\":\"position\"},{\"default\":0,\"kind\":null,\"name\":\"_clear\"},{\"default\":[{\"background\":\"#ffc107\",\"icon\":{\"className\":\"fas fa-exclamation-triangle\",\"color\":\"white\",\"tagName\":\"i\"},\"type\":\"warning\"},{\"background\":\"#007bff\",\"icon\":{\"className\":\"fas fa-info-circle\",\"color\":\"white\",\"tagName\":\"i\"},\"type\":\"info\"}],\"kind\":null,\"name\":\"types\"}]},{\"extends\":null,\"module\":null,\"name\":\"Notification\",\"overrides\":[],\"properties\":[{\"default\":null,\"kind\":null,\"name\":\"background\"},{\"default\":3000,\"kind\":null,\"name\":\"duration\"},{\"default\":null,\"kind\":null,\"name\":\"icon\"},{\"default\":\"\",\"kind\":null,\"name\":\"message\"},{\"default\":null,\"kind\":null,\"name\":\"notification_type\"},{\"default\":false,\"kind\":null,\"name\":\"_destroyed\"}]},{\"extends\":null,\"module\":null,\"name\":\"TemplateActions1\",\"overrides\":[],\"properties\":[{\"default\":0,\"kind\":null,\"name\":\"open_modal\"},{\"default\":0,\"kind\":null,\"name\":\"close_modal\"}]},{\"extends\":null,\"module\":null,\"name\":\"MaterialTemplateActions1\",\"overrides\":[],\"properties\":[{\"default\":0,\"kind\":null,\"name\":\"open_modal\"},{\"default\":0,\"kind\":null,\"name\":\"close_modal\"}]}],\"roots\":{\"references\":[{\"attributes\":{},\"id\":\"12800\",\"type\":\"WheelZoomTool\"},{\"attributes\":{\"source\":{\"id\":\"12838\"}},\"id\":\"12845\",\"type\":\"CDSView\"},{\"attributes\":{\"coordinates\":null,\"data_source\":{\"id\":\"12817\"},\"glyph\":{\"id\":\"12820\"},\"group\":null,\"hover_glyph\":null,\"muted_glyph\":{\"id\":\"12822\"},\"nonselection_glyph\":{\"id\":\"12821\"},\"selection_glyph\":{\"id\":\"12837\"},\"view\":{\"id\":\"12824\"}},\"id\":\"12823\",\"type\":\"GlyphRenderer\"},{\"attributes\":{},\"id\":\"12798\",\"type\":\"SaveTool\"},{\"attributes\":{},\"id\":\"12786\",\"type\":\"LinearScale\"},{\"attributes\":{\"fill_alpha\":{\"value\":0.1},\"fill_color\":{\"value\":\"#fc4f30\"},\"hatch_alpha\":{\"value\":0.1},\"hatch_color\":{\"value\":\"#fc4f30\"},\"line_alpha\":{\"value\":0.1},\"line_color\":{\"value\":\"#fc4f30\"},\"size\":{\"value\":5.477225575051661},\"x\":{\"field\":\"PCA1\"},\"y\":{\"field\":\"PCA2\"}},\"id\":\"12842\",\"type\":\"Scatter\"},{\"attributes\":{\"overlay\":{\"id\":\"12803\"}},\"id\":\"12801\",\"type\":\"BoxZoomTool\"},{\"attributes\":{},\"id\":\"12802\",\"type\":\"ResetTool\"},{\"attributes\":{\"label\":{\"value\":\"2\"},\"renderers\":[{\"id\":\"12866\"}]},\"id\":\"12882\",\"type\":\"LegendItem\"},{\"attributes\":{\"fill_alpha\":{\"value\":0.2},\"fill_color\":{\"value\":\"#fc4f30\"},\"hatch_alpha\":{\"value\":0.2},\"hatch_color\":{\"value\":\"#fc4f30\"},\"line_alpha\":{\"value\":0.2},\"line_color\":{\"value\":\"#fc4f30\"},\"size\":{\"value\":5.477225575051661},\"x\":{\"field\":\"PCA1\"},\"y\":{\"field\":\"PCA2\"}},\"id\":\"12843\",\"type\":\"Scatter\"},{\"attributes\":{\"bottom_units\":\"screen\",\"coordinates\":null,\"fill_alpha\":0.5,\"fill_color\":\"lightgrey\",\"group\":null,\"left_units\":\"screen\",\"level\":\"overlay\",\"line_alpha\":1.0,\"line_color\":\"black\",\"line_dash\":[4,4],\"line_width\":2,\"right_units\":\"screen\",\"syncable\":false,\"top_units\":\"screen\"},\"id\":\"12803\",\"type\":\"BoxAnnotation\"},{\"attributes\":{\"fill_color\":{\"value\":\"#e5ae38\"},\"hatch_color\":{\"value\":\"#e5ae38\"},\"line_color\":{\"value\":\"#e5ae38\"},\"size\":{\"value\":5.477225575051661},\"x\":{\"field\":\"PCA1\"},\"y\":{\"field\":\"PCA2\"}},\"id\":\"12863\",\"type\":\"Scatter\"},{\"attributes\":{\"end\":12.455853392088464,\"reset_end\":12.455853392088464,\"reset_start\":-8.293855672475022,\"start\":-8.293855672475022,\"tags\":[[[\"PCA1\",\"PCA1\",null]]]},\"id\":\"12776\",\"type\":\"Range1d\"},{\"attributes\":{},\"id\":\"12839\",\"type\":\"Selection\"},{\"attributes\":{\"coordinates\":null,\"data_source\":{\"id\":\"12860\"},\"glyph\":{\"id\":\"12863\"},\"group\":null,\"hover_glyph\":null,\"muted_glyph\":{\"id\":\"12865\"},\"nonselection_glyph\":{\"id\":\"12864\"},\"selection_glyph\":{\"id\":\"12883\"},\"view\":{\"id\":\"12867\"}},\"id\":\"12866\",\"type\":\"GlyphRenderer\"},{\"attributes\":{\"end\":13.655980051102265,\"reset_end\":13.655980051102265,\"reset_start\":-8.04563986139937,\"start\":-8.04563986139937,\"tags\":[[[\"PCA2\",\"PCA2\",null]]]},\"id\":\"12777\",\"type\":\"Range1d\"},{\"attributes\":{\"active_drag\":{\"id\":\"12799\"},\"active_scroll\":{\"id\":\"12800\"},\"tools\":[{\"id\":\"12778\"},{\"id\":\"12798\"},{\"id\":\"12799\"},{\"id\":\"12800\"},{\"id\":\"12801\"},{\"id\":\"12802\"}]},\"id\":\"12804\",\"type\":\"Toolbar\"},{\"attributes\":{},\"id\":\"12855\",\"type\":\"UnionRenderers\"},{\"attributes\":{},\"id\":\"12812\",\"type\":\"BasicTickFormatter\"},{\"attributes\":{},\"id\":\"12879\",\"type\":\"UnionRenderers\"},{\"attributes\":{\"data\":{\"PCA1\":{\"__ndarray__\":\"4QmnoT+U0D+PCWcM7qzvv703Nf+qa/+/EuOHyZ917r8qlzlvpjLmP7Mhu1FiEfG/lkdOBFUy9r/b2cKqrED6v9WK5UyNxPm/rAHpnXNs0L9N3znmx3EDwFajEyReidO/sghYYMRm7b+1QEcDq8n3vypn/WCWxhLAfjtC6OZO+79gYe6v4oAUwJPrAD/cLMy/wB8lVzCk87/UvUF5Hvn2v6g63SzmYwbA+v8TSPR37b9OIY55EEHqvykUzxHldgPA21p03qX17L/fhXgnHgoGwIm7PIt7ow3A18ft9HWVAsDg8WhK84f/v/4bXKFiWQLAq332oAIR4L9sjy2mPmX5v+dQRe72efO/CDLlDimmEMBDGhvPQg76v44F4+4/m+O/0EJfdYSM+L+GOX4W8SgAwPTMtjkRgPO/228FEH+Q9L/6shCwSdD9v0OxmAQ6XQTA5oWZr7Y8F8BP14DPA8D6v9acwsa4PxDAHtJ7awc3A8C6DYdvTT0QwG9knxLqWP+/OuNnirbYFMD4ayfL59EIwGV5Men5NAXAaD5naJ8V5b9nci+Xd/H2v+FBHNsmXgLAIhJYhXk2+7+GPXFjOtQCwOS2G4i8KAHAFug1BHMaAsDjPBBJzqgNwOSb6xOyHvW/ZQtbqFq5CsCa9v9G2boKwHeOpS5Za/q/PftR2iJ99b8u89fesgIBwP/HlqgMRxDAZCtyHaLH+r87AosCi5oUwIkruII8aQnApikmmf7XEcC4NEZCeLUMwLJhjtBFexXAo0sojjiGG8C6knhD8rzxv6mFRXXw7QXAoplf4S7mHcCkv/f+8XkRwBa7jgFVlQfAH7DT7jSO+r/x97K96RQdwNLzQ77jGPC/wPUVLKIHGsBLv3UJFwcawL8uGIfqbwDAJegSYt0/CsCaGRkfCeEXwPdjaklmgwXAajiThyAiA8ALK0JTh3fzvxrlN3kpehDAPrqNoHCB+b+je8UakD4WwGWlL6ubuQ3AUhdbhNQ89789fIzDJJUTwPRcV2QxdwLAmpRXtHm/GcD6mo2gmm8FwMx/F2i2zwPA06hPv7cXEcD1JQpW4HkZwAVu1trVMAjA9SUKVuB5GcCuiewF/+8VwCSQ1A2ZlRvAUPzUtB51E8A=\",\"dtype\":\"float64\",\"order\":\"little\",\"shape\":[106]},\"PCA2\":{\"__ndarray__\":\"Vi/i1SZyBED0gnzM8M0TQDUZ/uyDSRtAaUfArkLaFEBHXXIeT8kBQOuSOr70igRA1hbYoH7N8T/umN9w8zr0P3JH5C17IPQ/9lrU8pdQ4r8N9AmtqdD6P+i/xlitEuU//vcKmxbQ0b84zN58JGzgP3U24Jy+JQFAbGC85eXZ2b/4ALqm3e4EQHAH/atUKeG/lFoGdeWS9T8UBAMKYjjkP5VKCj2ZLPw/etNtA0Rn+D89V4w6Iu3ivzBX2fLQ1dQ/hPbncJth5b/UQ9LlsYHrP1c2SvxlCvk/FhIaBVWm6L+Z19eymQTkv+Yi0R3dIt+/ufMSWrDV8r+RcYWfjVfcv+IpLbOfVfC/r2srDDrz6z95OXKbpChvP8vWgrNPDvE/E1uCVSKBmb9Ua8FD9Sfbv691XImnJOS/eita3qTN8L/6cRA/SSnxv4hy9HUudOO/Mxcm9nJe9z+PBF/hX57vvyn64jSpVuA/mNK4/4e+9T/Ere2PtxDTP/k+s90hgNy/jCVeTEbm7j+xPTpjLk7Ev4362g0bpNy/x/64K6aL2z827Q8seHL2v1MjwyRGpeG/PDXn9Xa+9L84rRi+DYzov5Yfw0X5Tea/IGJdibro3L8XbF5A5+vhP1myxiAgg/C/QWfPVvQLuD+3PCQ8DBa9P+ulB68SnuO/4gV2WAM60j+85UrXrGDhPwn6fmAm2tQ/6cRBPgpR8r/It9mz0Xj2P+Mq1qK3euC/lL9KtJsgtj/hyf1AjWipP1UTgtgxOOo/XM9C8i/jAUBXkaqmkgr6v/+2gOBZ2M2/yBX8arH6AkD1rA6prT+5PxxHEfiSqdi/Lv9rVQbn+L8d0r6PLwwCQFUVyRjpPvy/I8Ke41Jr/D/G/T0BRDP7P8hLWUyrSuu/Cld3JBQNrb+3jgNW39jxP7rJaxoYlMg/r4f2leaw9b+upHNtQM30vxAdx4dwhNE/4LN2CacZ5b8KN7I/8sbxPwOODbw2ZvY/Tu/Q1J6irj/I0imAX9DgP6k7w4ICy/S/xJTtawWq9D/eD6P+3Z/wv4jRSqirlPK/PUqwvBjBoj9nwLkCC3r4P9bHtEHQkOm/Z8C5Agt6+D//SDtDbgTwP2/K79uwxAlAiSizGD7/7D8=\",\"dtype\":\"float64\",\"order\":\"little\",\"shape\":[106]},\"pca_prediction\":[0,0,0,0,0,0,0,0,0,0,0,0,0,0,0,0,0,0,0,0,0,0,0,0,0,0,0,0,0,0,0,0,0,0,0,0,0,0,0,0,0,0,0,0,0,0,0,0,0,0,0,0,0,0,0,0,0,0,0,0,0,0,0,0,0,0,0,0,0,0,0,0,0,0,0,0,0,0,0,0,0,0,0,0,0,0,0,0,0,0,0,0,0,0,0,0,0,0,0,0,0,0,0,0,0,0]},\"selected\":{\"id\":\"12818\"},\"selection_policy\":{\"id\":\"12832\"}},\"id\":\"12817\",\"type\":\"ColumnDataSource\"},{\"attributes\":{},\"id\":\"12816\",\"type\":\"AllLabels\"},{\"attributes\":{\"angle\":{\"value\":0.0},\"fill_alpha\":{\"value\":1.0},\"fill_color\":{\"value\":\"#30a2da\"},\"hatch_alpha\":{\"value\":1.0},\"hatch_color\":{\"value\":\"#30a2da\"},\"hatch_scale\":{\"value\":12.0},\"hatch_weight\":{\"value\":1.0},\"line_alpha\":{\"value\":1.0},\"line_cap\":{\"value\":\"butt\"},\"line_color\":{\"value\":\"#30a2da\"},\"line_dash\":{\"value\":[]},\"line_dash_offset\":{\"value\":0},\"line_join\":{\"value\":\"bevel\"},\"line_width\":{\"value\":1},\"marker\":{\"value\":\"circle\"},\"size\":{\"value\":5.477225575051661},\"x\":{\"field\":\"PCA1\"},\"y\":{\"field\":\"PCA2\"}},\"id\":\"12837\",\"type\":\"Scatter\"},{\"attributes\":{\"callback\":null,\"renderers\":[{\"id\":\"12823\"},{\"id\":\"12844\"},{\"id\":\"12866\"}],\"tags\":[\"hv_created\"],\"tooltips\":[[\"pca_prediction\",\"@{pca_prediction}\"],[\"PCA1\",\"@{PCA1}\"],[\"PCA2\",\"@{PCA2}\"]]},\"id\":\"12778\",\"type\":\"HoverTool\"},{\"attributes\":{\"fill_alpha\":{\"value\":0.1},\"fill_color\":{\"value\":\"#30a2da\"},\"hatch_alpha\":{\"value\":0.1},\"hatch_color\":{\"value\":\"#30a2da\"},\"line_alpha\":{\"value\":0.1},\"line_color\":{\"value\":\"#30a2da\"},\"size\":{\"value\":5.477225575051661},\"x\":{\"field\":\"PCA1\"},\"y\":{\"field\":\"PCA2\"}},\"id\":\"12821\",\"type\":\"Scatter\"},{\"attributes\":{},\"id\":\"12815\",\"type\":\"BasicTickFormatter\"},{\"attributes\":{\"source\":{\"id\":\"12860\"}},\"id\":\"12867\",\"type\":\"CDSView\"},{\"attributes\":{\"data\":{\"PCA1\":{\"__ndarray__\":\"K1UnzghGJ0AJsdqSgJ4lQF75F8oQHxpAKkMgyK5oG0ComKWhnzAlQM/jn6rVERpAPfh2wfVPIEASfZ0219waQOiGyNxAzyFA\",\"dtype\":\"float64\",\"order\":\"little\",\"shape\":[9]},\"PCA2\":{\"__ndarray__\":\"658aY1lzGkDShGkCYEkaQPM4jA7tsSdAQIrGWuxiJ0Chg849mVYYQL2drKcj6SBAhzt60YNxHUDbtPNjYVIgQHLGWCqizh1A\",\"dtype\":\"float64\",\"order\":\"little\",\"shape\":[9]},\"pca_prediction\":[2,2,2,2,2,2,2,2,2]},\"selected\":{\"id\":\"12861\"},\"selection_policy\":{\"id\":\"12879\"}},\"id\":\"12860\",\"type\":\"ColumnDataSource\"},{\"attributes\":{},\"id\":\"12788\",\"type\":\"LinearScale\"},{\"attributes\":{\"angle\":{\"value\":0.0},\"fill_alpha\":{\"value\":1.0},\"fill_color\":{\"value\":\"#e5ae38\"},\"hatch_alpha\":{\"value\":1.0},\"hatch_color\":{\"value\":\"#e5ae38\"},\"hatch_scale\":{\"value\":12.0},\"hatch_weight\":{\"value\":1.0},\"line_alpha\":{\"value\":1.0},\"line_cap\":{\"value\":\"butt\"},\"line_color\":{\"value\":\"#e5ae38\"},\"line_dash\":{\"value\":[]},\"line_dash_offset\":{\"value\":0},\"line_join\":{\"value\":\"bevel\"},\"line_width\":{\"value\":1},\"marker\":{\"value\":\"circle\"},\"size\":{\"value\":5.477225575051661},\"x\":{\"field\":\"PCA1\"},\"y\":{\"field\":\"PCA2\"}},\"id\":\"12883\",\"type\":\"Scatter\"},{\"attributes\":{\"label\":{\"value\":\"1\"},\"renderers\":[{\"id\":\"12844\"}]},\"id\":\"12858\",\"type\":\"LegendItem\"},{\"attributes\":{\"fill_alpha\":{\"value\":0.1},\"fill_color\":{\"value\":\"#e5ae38\"},\"hatch_alpha\":{\"value\":0.1},\"hatch_color\":{\"value\":\"#e5ae38\"},\"line_alpha\":{\"value\":0.1},\"line_color\":{\"value\":\"#e5ae38\"},\"size\":{\"value\":5.477225575051661},\"x\":{\"field\":\"PCA1\"},\"y\":{\"field\":\"PCA2\"}},\"id\":\"12864\",\"type\":\"Scatter\"},{\"attributes\":{\"fill_color\":{\"value\":\"#fc4f30\"},\"hatch_color\":{\"value\":\"#fc4f30\"},\"line_color\":{\"value\":\"#fc4f30\"},\"size\":{\"value\":5.477225575051661},\"x\":{\"field\":\"PCA1\"},\"y\":{\"field\":\"PCA2\"}},\"id\":\"12841\",\"type\":\"Scatter\"},{\"attributes\":{\"below\":[{\"id\":\"12790\"}],\"center\":[{\"id\":\"12793\"},{\"id\":\"12797\"}],\"height\":300,\"left\":[{\"id\":\"12794\"}],\"margin\":[5,5,5,5],\"min_border_bottom\":10,\"min_border_left\":10,\"min_border_right\":10,\"min_border_top\":10,\"renderers\":[{\"id\":\"12823\"},{\"id\":\"12844\"},{\"id\":\"12866\"}],\"right\":[{\"id\":\"12835\"}],\"sizing_mode\":\"fixed\",\"title\":{\"id\":\"12782\"},\"toolbar\":{\"id\":\"12804\"},\"width\":700,\"x_range\":{\"id\":\"12776\"},\"x_scale\":{\"id\":\"12786\"},\"y_range\":{\"id\":\"12777\"},\"y_scale\":{\"id\":\"12788\"}},\"id\":\"12781\",\"subtype\":\"Figure\",\"type\":\"Plot\"},{\"attributes\":{\"coordinates\":null,\"group\":null,\"text_color\":\"black\",\"text_font_size\":\"12pt\"},\"id\":\"12782\",\"type\":\"Title\"},{\"attributes\":{\"coordinates\":null,\"data_source\":{\"id\":\"12838\"},\"glyph\":{\"id\":\"12841\"},\"group\":null,\"hover_glyph\":null,\"muted_glyph\":{\"id\":\"12843\"},\"nonselection_glyph\":{\"id\":\"12842\"},\"selection_glyph\":{\"id\":\"12859\"},\"view\":{\"id\":\"12845\"}},\"id\":\"12844\",\"type\":\"GlyphRenderer\"},{\"attributes\":{\"data\":{\"PCA1\":{\"__ndarray__\":\"+8/DEefZ/D/6RD6tIjQUQCW13wreuQhA2cR1DU7wFkCB8oB53fr1P1Y3cBurHBRAkfrT8I++C0DD/zsC55IDQNdODjuD2QhAOxEhzP/yEEB+T2WWX14NQKhMzlr5VgdA+u2qFp2nD0BFMnHYl3QgQPA5XDh/IBxAcbn1H/mpIEDdSOjfoo4YQH+uRs3P8glAnmWwIrbXDkDsgITQNMQEQIi+VtCtle8/BWBapOeU8z+iDx7oc3bEPwg3rz1d0fA/R+6knmSB7z+ENz7hsj4cQJHxQ2DAUQpAJdxqvom1BUBzcP3TgVAJQO3GsoedKxFA/B5SmbgpBkCh1c1NbfLwPwBqTe7CKgBAuziOloaV/D8dhhE8ZLL6P5CdRJgEo84/kCb47AD1EEBAhUBAAjoPQB5WTqWq5R9Au9yR4E+TF0Bbbn41OogXQHMrXrZAmwBAMK1UhqP7CUAYIHnZyUcFQFI1Dt4FYfo/kAzORS4m+D9zjYU/F4b9P3vIuPZ/xtI/uDzJ3kHn7z8Kn3BTJDIRQIy1/Vr+g+8/DThqLYMW6T+2M+NrdYAQQHpk/4kPxwBAcyMYDUt+B0ASA27ZAgQWQKVeN+nYaQJA5hbgI3AVEUAGMvurkILyP7OnZzi+q9Y/wJyz6pdNzL/wZtqmmcC9vy1a65N88wVA8CUPxBkQ/T9Av3t0IXIAQNFlZMon/gNAK8rSzA7L1T+ol0MhlvrmPz2AFTOih/A/HCL3X08NCkDC3ChA5zkOQD1Yvv/xj6M/+b2dqznqCkApHgAdJMTaP8pbVVoFyf4/Hye9ZgXS1b91elMMPDHrP0K1QO4InNQ/Ikre/o8zCEDN/fbC3Hq+vxJP4vvzHeo/s97p+2VPxr/q+tLaqiTkP0NXjLp+tb4/\",\"dtype\":\"float64\",\"order\":\"little\",\"shape\":[84]},\"PCA2\":{\"__ndarray__\":\"ZxDbtC5ZAUCG3XPeIgAJQKAiV45tFso/n5+hyH6S+j96K4B6wtX8PwO3Vz/hGPo/mTIkGOTm4j+jUpqwW83Rv2LIq6TAtPu/escKGej6AcBGoOy0FsbPv3S6vI9RUeo/H+rYPQpBw78cts0xM5MNwE7ajinydgrAiS6MIk/1DMDFUFmEr3UDwKLK0AKHT+o/DzkUh43dtr+6/YtdDN7nv79HB/RvUOE/kQp6fIvj1b+NrJLYnrTgv/eJkUgTx/e/48qwn4uf7b8LGgC4+1kHwHyk0SUkVvW/At6Tcxqq4L8cXfocbgb2vzb0S3iSsru/8JWyDPh14z905w9+f3/xv+DFkH5hP7i//EGmXefG+b/zy4RsEAMBwOzfRLQkGvs/hrsGWGrb6T/FGeNGtifavw0vZ8fPmRLAWxev4JvUC8CGnE8Y3fIYwHATLIbJsfm/ZnRHb9RVCcCXm0GlpwkEwHfq8S66lgHADRG0PVC4+r91hCKDsC/Ev8qdn9QsYvO/AFY7Z4aQAcDgN0m9+j0JwDNVUhlqrNM/LjDdniNfsL8Srd07f0Trv8SgD9TBqQHAnZlcuF0yBsCr+EOznOQRwEqVpJw5Ddo/DwLniyVuFMB7I2isdcLnv02p3IqCDds/0zpLszUs5D+EW9BFZp77v3raY8AgMQvAPLFEhHoq/b9lqXzWriEEwOqykMge0/6/Ear4P9Zm+7+yXIV4G9LFvymSiHGJSAHAFR16ej7JEMAf/9oDTGkSwGt1iM65WgDA+Gwvc+OEC8ChbaAR03/+v0u+D+4i1Q7AuwF9ess4BMDsYxAfI0TIv0t3lw9/OwPAuCWlHcjnBcD+PZADyM4CwOS5ahML7QfAq0/7B88b6L/t247r1MTwv67qpCKy9AzA\",\"dtype\":\"float64\",\"order\":\"little\",\"shape\":[84]},\"pca_prediction\":[1,1,1,1,1,1,1,1,1,1,1,1,1,1,1,1,1,1,1,1,1,1,1,1,1,1,1,1,1,1,1,1,1,1,1,1,1,1,1,1,1,1,1,1,1,1,1,1,1,1,1,1,1,1,1,1,1,1,1,1,1,1,1,1,1,1,1,1,1,1,1,1,1,1,1,1,1,1,1,1,1,1,1,1]},\"selected\":{\"id\":\"12839\"},\"selection_policy\":{\"id\":\"12855\"}},\"id\":\"12838\",\"type\":\"ColumnDataSource\"},{\"attributes\":{\"fill_color\":{\"value\":\"#30a2da\"},\"hatch_color\":{\"value\":\"#30a2da\"},\"line_color\":{\"value\":\"#30a2da\"},\"size\":{\"value\":5.477225575051661},\"x\":{\"field\":\"PCA1\"},\"y\":{\"field\":\"PCA2\"}},\"id\":\"12820\",\"type\":\"Scatter\"},{\"attributes\":{},\"id\":\"12818\",\"type\":\"Selection\"},{\"attributes\":{\"angle\":{\"value\":0.0},\"fill_alpha\":{\"value\":1.0},\"fill_color\":{\"value\":\"#fc4f30\"},\"hatch_alpha\":{\"value\":1.0},\"hatch_color\":{\"value\":\"#fc4f30\"},\"hatch_scale\":{\"value\":12.0},\"hatch_weight\":{\"value\":1.0},\"line_alpha\":{\"value\":1.0},\"line_cap\":{\"value\":\"butt\"},\"line_color\":{\"value\":\"#fc4f30\"},\"line_dash\":{\"value\":[]},\"line_dash_offset\":{\"value\":0},\"line_join\":{\"value\":\"bevel\"},\"line_width\":{\"value\":1},\"marker\":{\"value\":\"circle\"},\"size\":{\"value\":5.477225575051661},\"x\":{\"field\":\"PCA1\"},\"y\":{\"field\":\"PCA2\"}},\"id\":\"12859\",\"type\":\"Scatter\"},{\"attributes\":{},\"id\":\"12813\",\"type\":\"AllLabels\"},{\"attributes\":{\"fill_alpha\":{\"value\":0.2},\"fill_color\":{\"value\":\"#e5ae38\"},\"hatch_alpha\":{\"value\":0.2},\"hatch_color\":{\"value\":\"#e5ae38\"},\"line_alpha\":{\"value\":0.2},\"line_color\":{\"value\":\"#e5ae38\"},\"size\":{\"value\":5.477225575051661},\"x\":{\"field\":\"PCA1\"},\"y\":{\"field\":\"PCA2\"}},\"id\":\"12865\",\"type\":\"Scatter\"},{\"attributes\":{\"axis_label\":\"PCA1\",\"coordinates\":null,\"formatter\":{\"id\":\"12812\"},\"group\":null,\"major_label_policy\":{\"id\":\"12813\"},\"ticker\":{\"id\":\"12791\"}},\"id\":\"12790\",\"type\":\"LinearAxis\"},{\"attributes\":{},\"id\":\"12832\",\"type\":\"UnionRenderers\"},{\"attributes\":{},\"id\":\"12799\",\"type\":\"PanTool\"},{\"attributes\":{},\"id\":\"12861\",\"type\":\"Selection\"},{\"attributes\":{},\"id\":\"12791\",\"type\":\"BasicTicker\"},{\"attributes\":{\"source\":{\"id\":\"12817\"}},\"id\":\"12824\",\"type\":\"CDSView\"},{\"attributes\":{\"axis\":{\"id\":\"12790\"},\"coordinates\":null,\"grid_line_color\":null,\"group\":null,\"ticker\":null},\"id\":\"12793\",\"type\":\"Grid\"},{\"attributes\":{\"fill_alpha\":{\"value\":0.2},\"fill_color\":{\"value\":\"#30a2da\"},\"hatch_alpha\":{\"value\":0.2},\"hatch_color\":{\"value\":\"#30a2da\"},\"line_alpha\":{\"value\":0.2},\"line_color\":{\"value\":\"#30a2da\"},\"size\":{\"value\":5.477225575051661},\"x\":{\"field\":\"PCA1\"},\"y\":{\"field\":\"PCA2\"}},\"id\":\"12822\",\"type\":\"Scatter\"},{\"attributes\":{\"children\":[{\"id\":\"12781\"}],\"height\":300,\"margin\":[0,0,0,0],\"name\":\"Row08429\",\"sizing_mode\":\"fixed\",\"tags\":[\"embedded\"],\"width\":700},\"id\":\"12775\",\"type\":\"Row\"},{\"attributes\":{\"axis_label\":\"PCA2\",\"coordinates\":null,\"formatter\":{\"id\":\"12815\"},\"group\":null,\"major_label_policy\":{\"id\":\"12816\"},\"ticker\":{\"id\":\"12795\"}},\"id\":\"12794\",\"type\":\"LinearAxis\"},{\"attributes\":{\"click_policy\":\"mute\",\"coordinates\":null,\"group\":null,\"items\":[{\"id\":\"12836\"},{\"id\":\"12858\"},{\"id\":\"12882\"}],\"location\":[0,0],\"title\":\"pca_prediction\"},\"id\":\"12835\",\"type\":\"Legend\"},{\"attributes\":{\"axis\":{\"id\":\"12794\"},\"coordinates\":null,\"dimension\":1,\"grid_line_color\":null,\"group\":null,\"ticker\":null},\"id\":\"12797\",\"type\":\"Grid\"},{\"attributes\":{\"label\":{\"value\":\"0\"},\"renderers\":[{\"id\":\"12823\"}]},\"id\":\"12836\",\"type\":\"LegendItem\"},{\"attributes\":{},\"id\":\"12795\",\"type\":\"BasicTicker\"}],\"root_ids\":[\"12775\"]},\"title\":\"Bokeh Application\",\"version\":\"2.4.3\"}};\n",
       "    var render_items = [{\"docid\":\"a43fc6a0-db03-4a10-8952-f6451ea407c3\",\"root_ids\":[\"12775\"],\"roots\":{\"12775\":\"beefb5a3-6500-472e-a0b6-6003e1951cfd\"}}];\n",
       "    root.Bokeh.embed.embed_items_notebook(docs_json, render_items);\n",
       "    for (const render_item of render_items) {\n",
       "      for (const root_id of render_item.root_ids) {\n",
       "\tconst id_el = document.getElementById(root_id)\n",
       "\tif (id_el.children.length && (id_el.children[0].className === 'bk-root')) {\n",
       "\t  const root_el = id_el.children[0]\n",
       "\t  root_el.id = root_el.id + '-rendered'\n",
       "\t}\n",
       "      }\n",
       "    }\n",
       "  }\n",
       "  if (root.Bokeh !== undefined && root.Bokeh.Panel !== undefined) {\n",
       "    embed_document(root);\n",
       "  } else {\n",
       "    var attempts = 0;\n",
       "    var timer = setInterval(function(root) {\n",
       "      if (root.Bokeh !== undefined && root.Bokeh.Panel !== undefined) {\n",
       "        clearInterval(timer);\n",
       "        embed_document(root);\n",
       "      } else if (document.readyState == \"complete\") {\n",
       "        attempts++;\n",
       "        if (attempts > 200) {\n",
       "          clearInterval(timer);\n",
       "          console.log(\"Bokeh: ERROR: Unable to run BokehJS code because BokehJS library is missing\");\n",
       "        }\n",
       "      }\n",
       "    }, 25, root)\n",
       "  }\n",
       "})(window);</script>"
      ],
      "text/plain": [
       ":NdOverlay   [pca_prediction]\n",
       "   :Scatter   [PCA1]   (PCA2)"
      ]
     },
     "execution_count": 148,
     "metadata": {
      "application/vnd.holoviews_exec.v0+json": {
       "id": "12775"
      }
     },
     "output_type": "execute_result"
    }
   ],
   "source": [
    "# Create a scatter plot using hvPlot by setting \n",
    "# `x=\"PC1\"` and `y=\"PC2\"`. \n",
    "# Color the graph points with the labels found using K-Means and \n",
    "# add the player name in the `hover_cols` parameter to identify \n",
    "# the player represented by each data point.\n",
    "player_pca_plot=player_pca_prediction_df.hvplot.scatter(\n",
    "    x=\"PCA1\",\n",
    "    y=\"PCA2\",\n",
    "    by=\"pca_prediction\",\n",
    "    hover_cols=['player_names']\n",
    ")\n",
    "player_pca_plot"
   ]
  },
  {
   "cell_type": "markdown",
   "metadata": {},
   "source": [
    "### Visualize and Compare the Results\n",
    "\n",
    "In this section, you will visually analyze the cluster analysis results by contrasting the outcome with and without using the optimization techniques."
   ]
  },
  {
   "cell_type": "code",
   "execution_count": 149,
   "metadata": {},
   "outputs": [
    {
     "data": {
      "application/vnd.plotly.v1+json": {
       "config": {
        "plotlyServerURL": "https://plot.ly"
       },
       "data": [
        {
         "customdata": [
          [
           0
          ],
          [
           1
          ],
          [
           2
          ],
          [
           3
          ],
          [
           4
          ],
          [
           5
          ],
          [
           6
          ],
          [
           7
          ],
          [
           8
          ],
          [
           9
          ],
          [
           10
          ],
          [
           11
          ],
          [
           12
          ],
          [
           13
          ],
          [
           14
          ],
          [
           15
          ],
          [
           16
          ],
          [
           17
          ],
          [
           18
          ],
          [
           19
          ],
          [
           20
          ],
          [
           21
          ],
          [
           22
          ],
          [
           23
          ],
          [
           24
          ],
          [
           25
          ],
          [
           26
          ],
          [
           27
          ],
          [
           28
          ],
          [
           29
          ],
          [
           30
          ],
          [
           31
          ],
          [
           32
          ],
          [
           33
          ],
          [
           34
          ],
          [
           35
          ],
          [
           36
          ],
          [
           37
          ],
          [
           38
          ],
          [
           39
          ],
          [
           40
          ],
          [
           41
          ],
          [
           42
          ],
          [
           43
          ],
          [
           44
          ],
          [
           45
          ],
          [
           46
          ],
          [
           47
          ],
          [
           48
          ],
          [
           49
          ],
          [
           50
          ],
          [
           51
          ],
          [
           52
          ],
          [
           53
          ],
          [
           54
          ],
          [
           55
          ],
          [
           56
          ],
          [
           57
          ],
          [
           58
          ],
          [
           59
          ],
          [
           60
          ],
          [
           61
          ],
          [
           62
          ],
          [
           63
          ],
          [
           64
          ],
          [
           65
          ],
          [
           66
          ],
          [
           67
          ],
          [
           68
          ],
          [
           69
          ],
          [
           70
          ],
          [
           71
          ],
          [
           72
          ],
          [
           73
          ],
          [
           74
          ],
          [
           75
          ],
          [
           76
          ],
          [
           77
          ],
          [
           78
          ],
          [
           79
          ],
          [
           80
          ],
          [
           81
          ],
          [
           82
          ],
          [
           83
          ],
          [
           84
          ],
          [
           85
          ],
          [
           86
          ],
          [
           87
          ],
          [
           88
          ],
          [
           89
          ],
          [
           90
          ],
          [
           91
          ],
          [
           92
          ],
          [
           93
          ],
          [
           94
          ],
          [
           95
          ],
          [
           96
          ],
          [
           97
          ],
          [
           98
          ],
          [
           99
          ],
          [
           100
          ],
          [
           101
          ],
          [
           102
          ],
          [
           103
          ],
          [
           104
          ],
          [
           105
          ],
          [
           106
          ],
          [
           107
          ],
          [
           108
          ],
          [
           109
          ],
          [
           110
          ],
          [
           111
          ],
          [
           112
          ],
          [
           113
          ],
          [
           114
          ],
          [
           115
          ],
          [
           116
          ],
          [
           117
          ],
          [
           118
          ],
          [
           119
          ],
          [
           120
          ],
          [
           121
          ],
          [
           122
          ],
          [
           123
          ],
          [
           124
          ],
          [
           125
          ],
          [
           126
          ],
          [
           127
          ],
          [
           128
          ],
          [
           129
          ],
          [
           130
          ],
          [
           131
          ],
          [
           132
          ],
          [
           133
          ],
          [
           134
          ],
          [
           135
          ],
          [
           136
          ],
          [
           137
          ],
          [
           138
          ],
          [
           139
          ],
          [
           140
          ],
          [
           141
          ],
          [
           142
          ],
          [
           143
          ],
          [
           144
          ],
          [
           145
          ],
          [
           146
          ],
          [
           147
          ],
          [
           148
          ],
          [
           149
          ],
          [
           150
          ],
          [
           151
          ],
          [
           152
          ],
          [
           153
          ],
          [
           154
          ],
          [
           155
          ],
          [
           156
          ],
          [
           157
          ],
          [
           158
          ],
          [
           159
          ],
          [
           160
          ],
          [
           161
          ],
          [
           162
          ],
          [
           163
          ],
          [
           164
          ],
          [
           165
          ],
          [
           166
          ],
          [
           167
          ],
          [
           168
          ],
          [
           169
          ],
          [
           170
          ],
          [
           171
          ],
          [
           172
          ],
          [
           173
          ],
          [
           174
          ],
          [
           175
          ],
          [
           176
          ],
          [
           177
          ],
          [
           178
          ],
          [
           179
          ],
          [
           180
          ],
          [
           181
          ],
          [
           182
          ],
          [
           183
          ],
          [
           184
          ],
          [
           185
          ],
          [
           186
          ],
          [
           187
          ],
          [
           188
          ],
          [
           189
          ],
          [
           190
          ],
          [
           191
          ],
          [
           192
          ],
          [
           193
          ],
          [
           194
          ],
          [
           195
          ],
          [
           196
          ],
          [
           197
          ],
          [
           198
          ]
         ],
         "hovertemplate": "PCA1=%{x}<br>PCA2=%{y}<br>PCA3=%{z}<br>player_name=%{customdata[0]}<br>pca_prediction=%{marker.color}<extra></extra>",
         "legendgroup": "",
         "marker": {
          "color": [
           2,
           2,
           2,
           2,
           2,
           2,
           0,
           1,
           0,
           0,
           2,
           2,
           2,
           0,
           1,
           1,
           1,
           0,
           1,
           1,
           0,
           1,
           0,
           0,
           0,
           1,
           1,
           1,
           1,
           1,
           1,
           1,
           1,
           1,
           1,
           1,
           1,
           1,
           1,
           1,
           1,
           0,
           1,
           1,
           0,
           0,
           1,
           1,
           1,
           1,
           1,
           1,
           1,
           0,
           0,
           0,
           0,
           1,
           0,
           1,
           0,
           0,
           0,
           0,
           0,
           1,
           0,
           0,
           0,
           1,
           1,
           1,
           1,
           1,
           1,
           1,
           0,
           0,
           1,
           1,
           1,
           1,
           1,
           0,
           0,
           0,
           0,
           1,
           1,
           0,
           0,
           0,
           1,
           1,
           1,
           1,
           0,
           1,
           1,
           1,
           0,
           0,
           0,
           0,
           0,
           0,
           0,
           0,
           1,
           0,
           1,
           1,
           1,
           0,
           0,
           1,
           1,
           1,
           0,
           1,
           1,
           1,
           1,
           1,
           1,
           0,
           1,
           0,
           0,
           0,
           1,
           0,
           1,
           0,
           0,
           0,
           0,
           0,
           0,
           1,
           0,
           0,
           0,
           1,
           0,
           1,
           0,
           0,
           0,
           0,
           0,
           0,
           0,
           1,
           0,
           1,
           0,
           0,
           0,
           0,
           0,
           0,
           0,
           1,
           1,
           0,
           0,
           1,
           0,
           0,
           0,
           0,
           0,
           0,
           0,
           1,
           0,
           0,
           0,
           0,
           0,
           1,
           0,
           1,
           0,
           0,
           0,
           0,
           0,
           1,
           0,
           0,
           0,
           0,
           0,
           0,
           0,
           0,
           0
          ],
          "coloraxis": "coloraxis",
          "symbol": "circle"
         },
         "mode": "markers",
         "name": "",
         "scene": "scene",
         "showlegend": false,
         "type": "scatter3d",
         "x": [
          11.63678592901359,
          10.809574689098115,
          6.530337484086287,
          6.852229239434374,
          10.594967891182321,
          6.517416635521797,
          0.25904837404610076,
          1.8031988805714707,
          -0.9898596040950894,
          -1.963786122232235,
          8.15617184235827,
          6.715664723741854,
          8.904791736105338,
          -0.9518584190510373,
          5.050913531232476,
          3.0907555436630383,
          5.734672746956869,
          0.6936828777658992,
          1.3737463709104818,
          5.027996472095614,
          -1.0667441551796457,
          3.4680479826632298,
          -1.3872881096071743,
          -1.6407896681172278,
          -1.6104863170409562,
          2.4467296766815436,
          3.1062073339215703,
          4.2373039145643885,
          3.671080756155731,
          2.917467793865928,
          3.9568425913728307,
          8.227720989053646,
          7.0317353063860395,
          8.331978796716358,
          6.139293192436722,
          3.2435604130931206,
          3.855327864654739,
          2.5958038607060328,
          0.9870213574522078,
          1.2238537235298292,
          0.15986489137514776,
          -0.2566193620769137,
          1.0511143121288473,
          0.9845450495262832,
          -2.4305570589457717,
          -0.305259261351741,
          7.061229247496048,
          3.289917709420657,
          2.7136416317330423,
          3.164310127422192,
          4.292593117033658,
          2.7703716257273054,
          1.0591862715931273,
          -0.9187948114124735,
          -1.4867353561458405,
          -4.693933024851313,
          -1.7067631790739308,
          2.0208796136259934,
          -5.125864743160804,
          1.78650530634654,
          -0.22011902881953613,
          -1.227585163507669,
          -1.4358200775712833,
          -2.798778868199708,
          -0.9208928497100708,
          1.6685526224540645,
          -0.8204424261212269,
          -2.433054103023569,
          -0.90498631904742,
          0.2393499129768597,
          4.23926134361831,
          3.9033246059122177,
          7.974283774286532,
          5.893859394934391,
          5.883034549562207,
          2.0758070228088683,
          -2.7549403270393067,
          -3.704825485030089,
          3.2478704924193593,
          2.660052966126397,
          1.648687236217786,
          1.509321472811994,
          1.8452370148960113,
          -2.3229788909020317,
          -1.970691004432517,
          -2.2936451536402265,
          -0.5020764488034976,
          0.29336546987463635,
          0.9969796515741995,
          -1.5872179499937955,
          -1.2172765071346079,
          -4.1622659995450775,
          4.298966697453361,
          0.9848624970597242,
          0.7839980971346009,
          4.125447927229223,
          -1.6284816827843691,
          2.0971976071419336,
          2.9366665862075307,
          5.503917119350051,
          -0.6127013841398126,
          -1.5343060097549603,
          -2.0199910886069032,
          -1.2187664274650247,
          -1.2852774263219462,
          -1.8633515241191945,
          -2.54552081671696,
          -5.80929064154177,
          2.301683256151437,
          -1.671878634032925,
          4.270935593178114,
          1.1568762510315778,
          0.35423236377993844,
          -4.062228303554738,
          -2.4018696210062123,
          -0.22111796340980128,
          -0.11622009585917303,
          2.7438899570654685,
          -4.059865706079501,
          1.8164308222352439,
          2.055727872873746,
          2.4990993320359185,
          0.3405186653355112,
          0.7180891656578199,
          1.0331136699169428,
          -1.959207604164728,
          3.256499051789673,
          -5.211633837309643,
          -3.102492892399365,
          -2.650867292234738,
          3.7782731068105884,
          -0.6588894881369471,
          0.03820759055012999,
          -1.4339519410779304,
          -2.2959725492475944,
          -1.7007994850874941,
          -2.3536269921239095,
          -2.1448908456285256,
          -2.262914688963984,
          3.364367810012251,
          -3.7074247081833263,
          -1.3199940469873974,
          -3.3405049469742374,
          0.4182215007026309,
          -3.341234736143474,
          1.9240773705148393,
          -1.651208097661678,
          -1.3430508163580293,
          -2.126317730870503,
          -4.069384226038891,
          -1.6737385893090613,
          -5.150920905813616,
          -3.1763849461035005,
          -0.34094367058843206,
          -4.460932152704492,
          0.8497600785011189,
          -3.5886082818675185,
          -5.370383509340558,
          -6.881075116357269,
          -1.1086294780335906,
          -2.7411812936631645,
          -7.474788209400147,
          -4.369087203856825,
          0.32202361361381204,
          3.025176993521442,
          -2.947916042488383,
          -1.6597184495140096,
          -0.11906223068125783,
          -7.270422901199695,
          -1.0060765678638188,
          -6.507454575386362,
          -6.506923816501351,
          -2.054646544862265,
          -3.281183973505011,
          -5.9697613581724,
          0.8161563796624896,
          -2.689159940299301,
          -2.391663607769307,
          -1.2166817905696827,
          -4.119298833881908,
          -1.594101550257292,
          -0.17429804611650965,
          -5.561096590331462,
          0.6294760011586196,
          -3.7156289457240512,
          -1.4523511095189474,
          -4.895648055505316,
          -2.3081996764336683,
          -6.43698770317601,
          0.11995689443969319,
          -2.6794941466536075,
          -2.476422131745471,
          -4.273161877858189,
          -6.36901983677807,
          -3.0238453957260867,
          -6.36901983677807,
          -5.484371273576853,
          -6.896091667269534,
          -4.864374948024377
         ],
         "y": [
          6.612645672321359,
          6.571655309381827,
          11.847511725060462,
          11.693209492431492,
          6.0845689446731805,
          8.455350150891599,
          2.555738135304561,
          2.1685461167672204,
          4.951113886928159,
          6.821792319306316,
          7.360854409299356,
          8.160899280070614,
          7.451790486973197,
          5.213144999013687,
          3.125066507254533,
          0.20380944681371194,
          1.6607654416238586,
          2.223295438637851,
          1.8021874222929157,
          1.6310741876908998,
          2.5678496228814445,
          0.5906849357139264,
          1.1126695902798267,
          1.2643923195951703,
          1.2579299729008793,
          -0.27815906759614445,
          -1.731629031416127,
          -2.2475130039610436,
          -0.24823268732257214,
          0.8224265868537501,
          -0.15042236347092428,
          -3.6968749895957114,
          -3.3080790755005074,
          -3.619779844191559,
          -2.4324636783368043,
          0.8222079329483061,
          -0.08931812808825533,
          -0.7458555056654668,
          0.5410690084629478,
          -0.34201323657922794,
          -0.5220483999195423,
          -0.5723380797161031,
          -1.4861023745257833,
          -0.9257257574994039,
          1.6759430655795342,
          0.6585299238122362,
          -2.9189371466666265,
          -1.3335305669118318,
          -0.520764566171181,
          -1.3765698558762045,
          -0.10819354474001916,
          0.6081505058288581,
          -1.0936274456311965,
          -0.27832570210364327,
          0.5132009924767607,
          2.1434299713062566,
          -0.4039244407190441,
          -0.09471711482981204,
          2.6166337037576533,
          -1.6110604913884563,
          -0.5362952574871382,
          1.3483633586198822,
          0.6318826861898992,
          1.760888327062877,
          1.5252113470025663,
          -2.1264961698557214,
          -0.5914469855804111,
          0.3255503055164466,
          -0.6681649403760308,
          1.693882660079903,
          0.8080341071380281,
          -0.4086738292939141,
          -4.650206676171149,
          -3.478812938063965,
          -6.237171535357566,
          -1.6059050789928868,
          0.85958189856512,
          1.5650386672090428,
          -3.1669090932542074,
          -2.5047142897269157,
          -2.1985973041130893,
          -1.6699983988083347,
          -0.15770536807125138,
          -0.7703042125363619,
          -0.6255615704565002,
          -0.4865029135876696,
          -1.1771701353566029,
          -1.211468535004189,
          -2.1955688538535014,
          -0.44284382417915774,
          -1.020904254825489,
          0.8734407651603443,
          -3.155263403698868,
          0.30739834282697415,
          -0.06395170811191583,
          -0.8521114510780612,
          0.0038035597786524847,
          -2.2078892295140538,
          -2.7745928195246976,
          -4.473254014037745,
          1.065993977751918,
          -0.02490667006403686,
          -0.4243138467478975,
          -0.6294744189105382,
          -1.0502060590394806,
          -1.072579618782696,
          -0.6079323104673486,
          1.4605588545977752,
          0.4070571927753305,
          -0.9880828286915334,
          -5.107565103506672,
          -0.7424877517051834,
          0.42269958077180975,
          0.5105787308637605,
          1.3590164174212642,
          0.6303967000802352,
          -1.7261717536073045,
          -3.3989882498238417,
          0.2978953271437741,
          -1.8228707472545258,
          -2.51644675796449,
          -1.9265430292681978,
          -1.7126066683655419,
          -0.17047446617900658,
          -2.16041840265304,
          -0.44532057428749244,
          -4.1965273987800815,
          0.9656096927221127,
          -0.1586359009274765,
          -0.44751621583046913,
          -4.602829036942949,
          0.43039850492276027,
          -2.044299710788143,
          -1.4029466363125045,
          -0.5514250486386153,
          -1.2965001683799775,
          -0.7670963967151812,
          -0.6970182764571173,
          -0.4517046300366321,
          -3.4398869513366854,
          0.5600467927173466,
          -1.0320130615538317,
          0.09393241042508028,
          -1.906207150320235,
          0.11361767261790844,
          -3.854070529799889,
          -0.6130460184623961,
          0.28479083670398897,
          0.5430511670048683,
          0.32581481383741157,
          -1.14478515929323,
          1.4044968629273047,
          -0.5149801426317392,
          -2.5277318543814693,
          0.08643506194743927,
          -0.189579382102948,
          0.04962579172469695,
          0.8193597057985281,
          2.2359312941206735,
          -1.627581263580472,
          -0.23316501104402929,
          2.3724087103061926,
          0.09862790467620981,
          -2.4040509431933166,
          -2.73817465934982,
          -0.3853499815496535,
          -1.556402524642134,
          -2.3509674337763036,
          2.2559500913723824,
          -1.7653590171988374,
          1.776202096120081,
          1.700016026355898,
          -0.8528648844897981,
          -0.05674040742057514,
          1.1154473647992924,
          -2.9907437817521316,
          0.1920194748887079,
          -1.3556886537485118,
          -1.3001102710207237,
          0.27370846995877773,
          -0.6593814072454016,
          -0.7533946185962938,
          1.1110708702212286,
          -1.0480546189771716,
          1.3999545427149094,
          0.05983444545606052,
          0.5254361632529134,
          -1.2995629413523864,
          1.2915090766849042,
          -3.619480391176089,
          -1.0390300699955257,
          -1.1612965177456278,
          0.036629460366516466,
          1.5297956568211022,
          -0.798927429516193,
          1.5297956568211022,
          1.001081717131967,
          3.2210404570153552,
          0.9061575395983407
         ],
         "z": [
          -5.073009735335275,
          -6.215460686873373,
          -0.15279892377612958,
          0.4250958465963034,
          -3.248768697851269,
          -4.206892344359696,
          -3.271046723023845,
          -2.720530944774409,
          -0.036729805955676494,
          -1.4482953780027978,
          2.579984448722592,
          2.227767065594422,
          3.0539536272327377,
          -3.567508019896048,
          -1.7812817151587834,
          -1.2531917279129683,
          -3.6729361048178353,
          -2.373474141017294,
          -2.837621107092292,
          0.7146559408531891,
          -2.1189530019203526,
          -0.3930674501575056,
          -0.6809056903658762,
          -1.1923633647021379,
          -1.5841461116685869,
          -0.4093709115370463,
          -2.060922748484228,
          -1.1758460362102734,
          0.4431919679660609,
          2.1101785846189816,
          0.6173758237210512,
          -3.272642550843557,
          -3.2897119926112945,
          -2.4277469459400893,
          -3.0289729094959794,
          2.0116524917479817,
          0.8597150766007444,
          -0.9244187838183398,
          1.9750289892580897,
          1.1967228437461397,
          0.17278881872219795,
          -0.22413822268333944,
          0.6154313606412503,
          0.7314026173594468,
          2.0256654461685915,
          -1.971672138300403,
          0.008659050947509152,
          -0.4345347964477975,
          1.248525909566395,
          0.47995791954733774,
          2.751740617039337,
          2.8797481364893773,
          -1.102207897993888,
          -1.3083039371365408,
          -1.2401516939852366,
          -1.8440893380666168,
          -2.0436415142870796,
          3.107188739486061,
          -1.5067715401448918,
          0.09695577138854104,
          -0.6274035740551602,
          2.4634192946296505,
          2.0112056649496908,
          1.583819391556504,
          3.82111094177521,
          -0.623842961652352,
          -0.16237422834395285,
          -0.9816091390888548,
          -1.534349757813834,
          5.4936926827115675,
          7.307817977960134,
          3.032983281185157,
          -0.6145975154088785,
          -0.6333418760491976,
          -4.336901919955702,
          1.1272605682569758,
          -0.10875181469919992,
          0.7648631046665942,
          -0.756187443097663,
          -0.2656916924724671,
          -0.6356093030723167,
          1.8905908043688457,
          4.352696900563858,
          -0.8247010818351551,
          -1.037927060345119,
          -0.8520468373037723,
          -1.4788513686799876,
          -1.8182414738269768,
          -0.6669493036593132,
          -0.7101963120965628,
          -0.19783370958142774,
          -0.27890883640353975,
          -0.21366498269320508,
          4.680960216697633,
          3.0367861120401334,
          4.896606715376278,
          1.113749061850978,
          0.7193304450896194,
          -0.5872363245457597,
          -1.4329524523583088,
          4.943735700815454,
          0.7138650451456525,
          -0.6203312437084144,
          -0.7411257833804116,
          -0.1638861581753175,
          -0.6973439504076929,
          -1.2448206147827727,
          -1.7649813381889607,
          6.428191368501919,
          -0.762162802022794,
          -2.802500403087834,
          3.3460252051057275,
          4.408542852554847,
          -1.4269695712059345,
          3.4201413368241456,
          4.778437373088781,
          -0.5859268562972492,
          -1.8386652499711942,
          -1.1045367194398072,
          1.8963194612609584,
          -0.6034634530556907,
          3.361213270492727,
          1.0642724503185135,
          4.056499951316231,
          0.010492395040282003,
          0.3835005758114777,
          -1.6648894716240799,
          -1.7367400507833943,
          -0.4237108173864042,
          -0.12093486262989651,
          1.2370152181017533,
          3.4422357877603096,
          -0.9273654923405652,
          -1.0462188897935965,
          0.18066077786318155,
          -0.2230158673833774,
          -0.2558526041500603,
          0.11637652476533139,
          0.10234019610919642,
          0.6144670483643461,
          0.6162107757836431,
          0.5331823343638373,
          -0.22694730545043362,
          0.12376411435162453,
          -0.2368254382000493,
          -1.2883872088113832,
          0.5526707998546015,
          2.1782730571173894,
          1.4201470511010152,
          -1.265218314183019,
          -0.28173382005215925,
          0.6729437073728805,
          -0.5629757362034833,
          -0.9609343935252289,
          -1.0248346462619051,
          4.166273558852937,
          -0.3376142057380358,
          -1.476234853947536,
          -1.1017653051383578,
          -1.0807568850734386,
          0.45785006464243355,
          -1.8724462396158357,
          -1.553757030414984,
          -0.7621257388682146,
          2.6733543337716577,
          -0.4464745231605481,
          -0.34379338538542054,
          0.8228395933301973,
          -1.4827692674068196,
          -0.18534162271893515,
          -1.1125947144767652,
          -1.0970932952422439,
          -0.7460614015681171,
          0.8436003433170748,
          -0.8021994561482121,
          0.10271494693201154,
          1.4034038118828083,
          -1.0439263936819783,
          0.383391857628409,
          -0.7681437469901382,
          0.9501126053742309,
          2.1873398535853408,
          -0.010000737400016899,
          3.293285041856226,
          1.0116299542838172,
          2.6013999957818594,
          -1.3503378222314741,
          -0.7795878279089253,
          -1.118142188326975,
          -2.913376051317431,
          -0.7418193019469523,
          -1.069718385590657,
          -0.5277959515096617,
          -1.3171177303278148,
          -0.7416361231799268,
          -1.3171177303278148,
          -0.7929846485196721,
          1.3227761753653042,
          -0.4814485451298123
         ]
        }
       ],
       "layout": {
        "coloraxis": {
         "colorbar": {
          "title": {
           "text": "pca_prediction"
          }
         },
         "colorscale": [
          [
           0,
           "#0d0887"
          ],
          [
           0.1111111111111111,
           "#46039f"
          ],
          [
           0.2222222222222222,
           "#7201a8"
          ],
          [
           0.3333333333333333,
           "#9c179e"
          ],
          [
           0.4444444444444444,
           "#bd3786"
          ],
          [
           0.5555555555555556,
           "#d8576b"
          ],
          [
           0.6666666666666666,
           "#ed7953"
          ],
          [
           0.7777777777777778,
           "#fb9f3a"
          ],
          [
           0.8888888888888888,
           "#fdca26"
          ],
          [
           1,
           "#f0f921"
          ]
         ]
        },
        "legend": {
         "tracegroupgap": 0
        },
        "margin": {
         "t": 60
        },
        "scene": {
         "domain": {
          "x": [
           0,
           1
          ],
          "y": [
           0,
           1
          ]
         },
         "xaxis": {
          "title": {
           "text": "PCA1"
          }
         },
         "yaxis": {
          "title": {
           "text": "PCA2"
          }
         },
         "zaxis": {
          "title": {
           "text": "PCA3"
          }
         }
        },
        "template": {
         "data": {
          "bar": [
           {
            "error_x": {
             "color": "#2a3f5f"
            },
            "error_y": {
             "color": "#2a3f5f"
            },
            "marker": {
             "line": {
              "color": "#E5ECF6",
              "width": 0.5
             },
             "pattern": {
              "fillmode": "overlay",
              "size": 10,
              "solidity": 0.2
             }
            },
            "type": "bar"
           }
          ],
          "barpolar": [
           {
            "marker": {
             "line": {
              "color": "#E5ECF6",
              "width": 0.5
             },
             "pattern": {
              "fillmode": "overlay",
              "size": 10,
              "solidity": 0.2
             }
            },
            "type": "barpolar"
           }
          ],
          "carpet": [
           {
            "aaxis": {
             "endlinecolor": "#2a3f5f",
             "gridcolor": "white",
             "linecolor": "white",
             "minorgridcolor": "white",
             "startlinecolor": "#2a3f5f"
            },
            "baxis": {
             "endlinecolor": "#2a3f5f",
             "gridcolor": "white",
             "linecolor": "white",
             "minorgridcolor": "white",
             "startlinecolor": "#2a3f5f"
            },
            "type": "carpet"
           }
          ],
          "choropleth": [
           {
            "colorbar": {
             "outlinewidth": 0,
             "ticks": ""
            },
            "type": "choropleth"
           }
          ],
          "contour": [
           {
            "colorbar": {
             "outlinewidth": 0,
             "ticks": ""
            },
            "colorscale": [
             [
              0,
              "#0d0887"
             ],
             [
              0.1111111111111111,
              "#46039f"
             ],
             [
              0.2222222222222222,
              "#7201a8"
             ],
             [
              0.3333333333333333,
              "#9c179e"
             ],
             [
              0.4444444444444444,
              "#bd3786"
             ],
             [
              0.5555555555555556,
              "#d8576b"
             ],
             [
              0.6666666666666666,
              "#ed7953"
             ],
             [
              0.7777777777777778,
              "#fb9f3a"
             ],
             [
              0.8888888888888888,
              "#fdca26"
             ],
             [
              1,
              "#f0f921"
             ]
            ],
            "type": "contour"
           }
          ],
          "contourcarpet": [
           {
            "colorbar": {
             "outlinewidth": 0,
             "ticks": ""
            },
            "type": "contourcarpet"
           }
          ],
          "heatmap": [
           {
            "colorbar": {
             "outlinewidth": 0,
             "ticks": ""
            },
            "colorscale": [
             [
              0,
              "#0d0887"
             ],
             [
              0.1111111111111111,
              "#46039f"
             ],
             [
              0.2222222222222222,
              "#7201a8"
             ],
             [
              0.3333333333333333,
              "#9c179e"
             ],
             [
              0.4444444444444444,
              "#bd3786"
             ],
             [
              0.5555555555555556,
              "#d8576b"
             ],
             [
              0.6666666666666666,
              "#ed7953"
             ],
             [
              0.7777777777777778,
              "#fb9f3a"
             ],
             [
              0.8888888888888888,
              "#fdca26"
             ],
             [
              1,
              "#f0f921"
             ]
            ],
            "type": "heatmap"
           }
          ],
          "heatmapgl": [
           {
            "colorbar": {
             "outlinewidth": 0,
             "ticks": ""
            },
            "colorscale": [
             [
              0,
              "#0d0887"
             ],
             [
              0.1111111111111111,
              "#46039f"
             ],
             [
              0.2222222222222222,
              "#7201a8"
             ],
             [
              0.3333333333333333,
              "#9c179e"
             ],
             [
              0.4444444444444444,
              "#bd3786"
             ],
             [
              0.5555555555555556,
              "#d8576b"
             ],
             [
              0.6666666666666666,
              "#ed7953"
             ],
             [
              0.7777777777777778,
              "#fb9f3a"
             ],
             [
              0.8888888888888888,
              "#fdca26"
             ],
             [
              1,
              "#f0f921"
             ]
            ],
            "type": "heatmapgl"
           }
          ],
          "histogram": [
           {
            "marker": {
             "pattern": {
              "fillmode": "overlay",
              "size": 10,
              "solidity": 0.2
             }
            },
            "type": "histogram"
           }
          ],
          "histogram2d": [
           {
            "colorbar": {
             "outlinewidth": 0,
             "ticks": ""
            },
            "colorscale": [
             [
              0,
              "#0d0887"
             ],
             [
              0.1111111111111111,
              "#46039f"
             ],
             [
              0.2222222222222222,
              "#7201a8"
             ],
             [
              0.3333333333333333,
              "#9c179e"
             ],
             [
              0.4444444444444444,
              "#bd3786"
             ],
             [
              0.5555555555555556,
              "#d8576b"
             ],
             [
              0.6666666666666666,
              "#ed7953"
             ],
             [
              0.7777777777777778,
              "#fb9f3a"
             ],
             [
              0.8888888888888888,
              "#fdca26"
             ],
             [
              1,
              "#f0f921"
             ]
            ],
            "type": "histogram2d"
           }
          ],
          "histogram2dcontour": [
           {
            "colorbar": {
             "outlinewidth": 0,
             "ticks": ""
            },
            "colorscale": [
             [
              0,
              "#0d0887"
             ],
             [
              0.1111111111111111,
              "#46039f"
             ],
             [
              0.2222222222222222,
              "#7201a8"
             ],
             [
              0.3333333333333333,
              "#9c179e"
             ],
             [
              0.4444444444444444,
              "#bd3786"
             ],
             [
              0.5555555555555556,
              "#d8576b"
             ],
             [
              0.6666666666666666,
              "#ed7953"
             ],
             [
              0.7777777777777778,
              "#fb9f3a"
             ],
             [
              0.8888888888888888,
              "#fdca26"
             ],
             [
              1,
              "#f0f921"
             ]
            ],
            "type": "histogram2dcontour"
           }
          ],
          "mesh3d": [
           {
            "colorbar": {
             "outlinewidth": 0,
             "ticks": ""
            },
            "type": "mesh3d"
           }
          ],
          "parcoords": [
           {
            "line": {
             "colorbar": {
              "outlinewidth": 0,
              "ticks": ""
             }
            },
            "type": "parcoords"
           }
          ],
          "pie": [
           {
            "automargin": true,
            "type": "pie"
           }
          ],
          "scatter": [
           {
            "fillpattern": {
             "fillmode": "overlay",
             "size": 10,
             "solidity": 0.2
            },
            "type": "scatter"
           }
          ],
          "scatter3d": [
           {
            "line": {
             "colorbar": {
              "outlinewidth": 0,
              "ticks": ""
             }
            },
            "marker": {
             "colorbar": {
              "outlinewidth": 0,
              "ticks": ""
             }
            },
            "type": "scatter3d"
           }
          ],
          "scattercarpet": [
           {
            "marker": {
             "colorbar": {
              "outlinewidth": 0,
              "ticks": ""
             }
            },
            "type": "scattercarpet"
           }
          ],
          "scattergeo": [
           {
            "marker": {
             "colorbar": {
              "outlinewidth": 0,
              "ticks": ""
             }
            },
            "type": "scattergeo"
           }
          ],
          "scattergl": [
           {
            "marker": {
             "colorbar": {
              "outlinewidth": 0,
              "ticks": ""
             }
            },
            "type": "scattergl"
           }
          ],
          "scattermapbox": [
           {
            "marker": {
             "colorbar": {
              "outlinewidth": 0,
              "ticks": ""
             }
            },
            "type": "scattermapbox"
           }
          ],
          "scatterpolar": [
           {
            "marker": {
             "colorbar": {
              "outlinewidth": 0,
              "ticks": ""
             }
            },
            "type": "scatterpolar"
           }
          ],
          "scatterpolargl": [
           {
            "marker": {
             "colorbar": {
              "outlinewidth": 0,
              "ticks": ""
             }
            },
            "type": "scatterpolargl"
           }
          ],
          "scatterternary": [
           {
            "marker": {
             "colorbar": {
              "outlinewidth": 0,
              "ticks": ""
             }
            },
            "type": "scatterternary"
           }
          ],
          "surface": [
           {
            "colorbar": {
             "outlinewidth": 0,
             "ticks": ""
            },
            "colorscale": [
             [
              0,
              "#0d0887"
             ],
             [
              0.1111111111111111,
              "#46039f"
             ],
             [
              0.2222222222222222,
              "#7201a8"
             ],
             [
              0.3333333333333333,
              "#9c179e"
             ],
             [
              0.4444444444444444,
              "#bd3786"
             ],
             [
              0.5555555555555556,
              "#d8576b"
             ],
             [
              0.6666666666666666,
              "#ed7953"
             ],
             [
              0.7777777777777778,
              "#fb9f3a"
             ],
             [
              0.8888888888888888,
              "#fdca26"
             ],
             [
              1,
              "#f0f921"
             ]
            ],
            "type": "surface"
           }
          ],
          "table": [
           {
            "cells": {
             "fill": {
              "color": "#EBF0F8"
             },
             "line": {
              "color": "white"
             }
            },
            "header": {
             "fill": {
              "color": "#C8D4E3"
             },
             "line": {
              "color": "white"
             }
            },
            "type": "table"
           }
          ]
         },
         "layout": {
          "annotationdefaults": {
           "arrowcolor": "#2a3f5f",
           "arrowhead": 0,
           "arrowwidth": 1
          },
          "autotypenumbers": "strict",
          "coloraxis": {
           "colorbar": {
            "outlinewidth": 0,
            "ticks": ""
           }
          },
          "colorscale": {
           "diverging": [
            [
             0,
             "#8e0152"
            ],
            [
             0.1,
             "#c51b7d"
            ],
            [
             0.2,
             "#de77ae"
            ],
            [
             0.3,
             "#f1b6da"
            ],
            [
             0.4,
             "#fde0ef"
            ],
            [
             0.5,
             "#f7f7f7"
            ],
            [
             0.6,
             "#e6f5d0"
            ],
            [
             0.7,
             "#b8e186"
            ],
            [
             0.8,
             "#7fbc41"
            ],
            [
             0.9,
             "#4d9221"
            ],
            [
             1,
             "#276419"
            ]
           ],
           "sequential": [
            [
             0,
             "#0d0887"
            ],
            [
             0.1111111111111111,
             "#46039f"
            ],
            [
             0.2222222222222222,
             "#7201a8"
            ],
            [
             0.3333333333333333,
             "#9c179e"
            ],
            [
             0.4444444444444444,
             "#bd3786"
            ],
            [
             0.5555555555555556,
             "#d8576b"
            ],
            [
             0.6666666666666666,
             "#ed7953"
            ],
            [
             0.7777777777777778,
             "#fb9f3a"
            ],
            [
             0.8888888888888888,
             "#fdca26"
            ],
            [
             1,
             "#f0f921"
            ]
           ],
           "sequentialminus": [
            [
             0,
             "#0d0887"
            ],
            [
             0.1111111111111111,
             "#46039f"
            ],
            [
             0.2222222222222222,
             "#7201a8"
            ],
            [
             0.3333333333333333,
             "#9c179e"
            ],
            [
             0.4444444444444444,
             "#bd3786"
            ],
            [
             0.5555555555555556,
             "#d8576b"
            ],
            [
             0.6666666666666666,
             "#ed7953"
            ],
            [
             0.7777777777777778,
             "#fb9f3a"
            ],
            [
             0.8888888888888888,
             "#fdca26"
            ],
            [
             1,
             "#f0f921"
            ]
           ]
          },
          "colorway": [
           "#636efa",
           "#EF553B",
           "#00cc96",
           "#ab63fa",
           "#FFA15A",
           "#19d3f3",
           "#FF6692",
           "#B6E880",
           "#FF97FF",
           "#FECB52"
          ],
          "font": {
           "color": "#2a3f5f"
          },
          "geo": {
           "bgcolor": "white",
           "lakecolor": "white",
           "landcolor": "#E5ECF6",
           "showlakes": true,
           "showland": true,
           "subunitcolor": "white"
          },
          "hoverlabel": {
           "align": "left"
          },
          "hovermode": "closest",
          "mapbox": {
           "style": "light"
          },
          "paper_bgcolor": "white",
          "plot_bgcolor": "#E5ECF6",
          "polar": {
           "angularaxis": {
            "gridcolor": "white",
            "linecolor": "white",
            "ticks": ""
           },
           "bgcolor": "#E5ECF6",
           "radialaxis": {
            "gridcolor": "white",
            "linecolor": "white",
            "ticks": ""
           }
          },
          "scene": {
           "xaxis": {
            "backgroundcolor": "#E5ECF6",
            "gridcolor": "white",
            "gridwidth": 2,
            "linecolor": "white",
            "showbackground": true,
            "ticks": "",
            "zerolinecolor": "white"
           },
           "yaxis": {
            "backgroundcolor": "#E5ECF6",
            "gridcolor": "white",
            "gridwidth": 2,
            "linecolor": "white",
            "showbackground": true,
            "ticks": "",
            "zerolinecolor": "white"
           },
           "zaxis": {
            "backgroundcolor": "#E5ECF6",
            "gridcolor": "white",
            "gridwidth": 2,
            "linecolor": "white",
            "showbackground": true,
            "ticks": "",
            "zerolinecolor": "white"
           }
          },
          "shapedefaults": {
           "line": {
            "color": "#2a3f5f"
           }
          },
          "ternary": {
           "aaxis": {
            "gridcolor": "white",
            "linecolor": "white",
            "ticks": ""
           },
           "baxis": {
            "gridcolor": "white",
            "linecolor": "white",
            "ticks": ""
           },
           "bgcolor": "#E5ECF6",
           "caxis": {
            "gridcolor": "white",
            "linecolor": "white",
            "ticks": ""
           }
          },
          "title": {
           "x": 0.05
          },
          "xaxis": {
           "automargin": true,
           "gridcolor": "white",
           "linecolor": "white",
           "ticks": "",
           "title": {
            "standoff": 15
           },
           "zerolinecolor": "white",
           "zerolinewidth": 2
          },
          "yaxis": {
           "automargin": true,
           "gridcolor": "white",
           "linecolor": "white",
           "ticks": "",
           "title": {
            "standoff": 15
           },
           "zerolinecolor": "white",
           "zerolinewidth": 2
          }
         }
        }
       }
      },
      "text/html": [
       "<div>                            <div id=\"14fd5faf-0bd9-454a-9eb7-05e344faaed8\" class=\"plotly-graph-div\" style=\"height:525px; width:100%;\"></div>            <script type=\"text/javascript\">                require([\"plotly\"], function(Plotly) {                    window.PLOTLYENV=window.PLOTLYENV || {};                                    if (document.getElementById(\"14fd5faf-0bd9-454a-9eb7-05e344faaed8\")) {                    Plotly.newPlot(                        \"14fd5faf-0bd9-454a-9eb7-05e344faaed8\",                        [{\"customdata\":[[0],[1],[2],[3],[4],[5],[6],[7],[8],[9],[10],[11],[12],[13],[14],[15],[16],[17],[18],[19],[20],[21],[22],[23],[24],[25],[26],[27],[28],[29],[30],[31],[32],[33],[34],[35],[36],[37],[38],[39],[40],[41],[42],[43],[44],[45],[46],[47],[48],[49],[50],[51],[52],[53],[54],[55],[56],[57],[58],[59],[60],[61],[62],[63],[64],[65],[66],[67],[68],[69],[70],[71],[72],[73],[74],[75],[76],[77],[78],[79],[80],[81],[82],[83],[84],[85],[86],[87],[88],[89],[90],[91],[92],[93],[94],[95],[96],[97],[98],[99],[100],[101],[102],[103],[104],[105],[106],[107],[108],[109],[110],[111],[112],[113],[114],[115],[116],[117],[118],[119],[120],[121],[122],[123],[124],[125],[126],[127],[128],[129],[130],[131],[132],[133],[134],[135],[136],[137],[138],[139],[140],[141],[142],[143],[144],[145],[146],[147],[148],[149],[150],[151],[152],[153],[154],[155],[156],[157],[158],[159],[160],[161],[162],[163],[164],[165],[166],[167],[168],[169],[170],[171],[172],[173],[174],[175],[176],[177],[178],[179],[180],[181],[182],[183],[184],[185],[186],[187],[188],[189],[190],[191],[192],[193],[194],[195],[196],[197],[198]],\"hovertemplate\":\"PCA1=%{x}<br>PCA2=%{y}<br>PCA3=%{z}<br>player_name=%{customdata[0]}<br>pca_prediction=%{marker.color}<extra></extra>\",\"legendgroup\":\"\",\"marker\":{\"color\":[2,2,2,2,2,2,0,1,0,0,2,2,2,0,1,1,1,0,1,1,0,1,0,0,0,1,1,1,1,1,1,1,1,1,1,1,1,1,1,1,1,0,1,1,0,0,1,1,1,1,1,1,1,0,0,0,0,1,0,1,0,0,0,0,0,1,0,0,0,1,1,1,1,1,1,1,0,0,1,1,1,1,1,0,0,0,0,1,1,0,0,0,1,1,1,1,0,1,1,1,0,0,0,0,0,0,0,0,1,0,1,1,1,0,0,1,1,1,0,1,1,1,1,1,1,0,1,0,0,0,1,0,1,0,0,0,0,0,0,1,0,0,0,1,0,1,0,0,0,0,0,0,0,1,0,1,0,0,0,0,0,0,0,1,1,0,0,1,0,0,0,0,0,0,0,1,0,0,0,0,0,1,0,1,0,0,0,0,0,1,0,0,0,0,0,0,0,0,0],\"coloraxis\":\"coloraxis\",\"symbol\":\"circle\"},\"mode\":\"markers\",\"name\":\"\",\"scene\":\"scene\",\"showlegend\":false,\"x\":[11.63678592901359,10.809574689098115,6.530337484086287,6.852229239434374,10.594967891182321,6.517416635521797,0.25904837404610076,1.8031988805714707,-0.9898596040950894,-1.963786122232235,8.15617184235827,6.715664723741854,8.904791736105338,-0.9518584190510373,5.050913531232476,3.0907555436630383,5.734672746956869,0.6936828777658992,1.3737463709104818,5.027996472095614,-1.0667441551796457,3.4680479826632298,-1.3872881096071743,-1.6407896681172278,-1.6104863170409562,2.4467296766815436,3.1062073339215703,4.2373039145643885,3.671080756155731,2.917467793865928,3.9568425913728307,8.227720989053646,7.0317353063860395,8.331978796716358,6.139293192436722,3.2435604130931206,3.855327864654739,2.5958038607060328,0.9870213574522078,1.2238537235298292,0.15986489137514776,-0.2566193620769137,1.0511143121288473,0.9845450495262832,-2.4305570589457717,-0.305259261351741,7.061229247496048,3.289917709420657,2.7136416317330423,3.164310127422192,4.292593117033658,2.7703716257273054,1.0591862715931273,-0.9187948114124735,-1.4867353561458405,-4.693933024851313,-1.7067631790739308,2.0208796136259934,-5.125864743160804,1.78650530634654,-0.22011902881953613,-1.227585163507669,-1.4358200775712833,-2.798778868199708,-0.9208928497100708,1.6685526224540645,-0.8204424261212269,-2.433054103023569,-0.90498631904742,0.2393499129768597,4.23926134361831,3.9033246059122177,7.974283774286532,5.893859394934391,5.883034549562207,2.0758070228088683,-2.7549403270393067,-3.704825485030089,3.2478704924193593,2.660052966126397,1.648687236217786,1.509321472811994,1.8452370148960113,-2.3229788909020317,-1.970691004432517,-2.2936451536402265,-0.5020764488034976,0.29336546987463635,0.9969796515741995,-1.5872179499937955,-1.2172765071346079,-4.1622659995450775,4.298966697453361,0.9848624970597242,0.7839980971346009,4.125447927229223,-1.6284816827843691,2.0971976071419336,2.9366665862075307,5.503917119350051,-0.6127013841398126,-1.5343060097549603,-2.0199910886069032,-1.2187664274650247,-1.2852774263219462,-1.8633515241191945,-2.54552081671696,-5.80929064154177,2.301683256151437,-1.671878634032925,4.270935593178114,1.1568762510315778,0.35423236377993844,-4.062228303554738,-2.4018696210062123,-0.22111796340980128,-0.11622009585917303,2.7438899570654685,-4.059865706079501,1.8164308222352439,2.055727872873746,2.4990993320359185,0.3405186653355112,0.7180891656578199,1.0331136699169428,-1.959207604164728,3.256499051789673,-5.211633837309643,-3.102492892399365,-2.650867292234738,3.7782731068105884,-0.6588894881369471,0.03820759055012999,-1.4339519410779304,-2.2959725492475944,-1.7007994850874941,-2.3536269921239095,-2.1448908456285256,-2.262914688963984,3.364367810012251,-3.7074247081833263,-1.3199940469873974,-3.3405049469742374,0.4182215007026309,-3.341234736143474,1.9240773705148393,-1.651208097661678,-1.3430508163580293,-2.126317730870503,-4.069384226038891,-1.6737385893090613,-5.150920905813616,-3.1763849461035005,-0.34094367058843206,-4.460932152704492,0.8497600785011189,-3.5886082818675185,-5.370383509340558,-6.881075116357269,-1.1086294780335906,-2.7411812936631645,-7.474788209400147,-4.369087203856825,0.32202361361381204,3.025176993521442,-2.947916042488383,-1.6597184495140096,-0.11906223068125783,-7.270422901199695,-1.0060765678638188,-6.507454575386362,-6.506923816501351,-2.054646544862265,-3.281183973505011,-5.9697613581724,0.8161563796624896,-2.689159940299301,-2.391663607769307,-1.2166817905696827,-4.119298833881908,-1.594101550257292,-0.17429804611650965,-5.561096590331462,0.6294760011586196,-3.7156289457240512,-1.4523511095189474,-4.895648055505316,-2.3081996764336683,-6.43698770317601,0.11995689443969319,-2.6794941466536075,-2.476422131745471,-4.273161877858189,-6.36901983677807,-3.0238453957260867,-6.36901983677807,-5.484371273576853,-6.896091667269534,-4.864374948024377],\"y\":[6.612645672321359,6.571655309381827,11.847511725060462,11.693209492431492,6.0845689446731805,8.455350150891599,2.555738135304561,2.1685461167672204,4.951113886928159,6.821792319306316,7.360854409299356,8.160899280070614,7.451790486973197,5.213144999013687,3.125066507254533,0.20380944681371194,1.6607654416238586,2.223295438637851,1.8021874222929157,1.6310741876908998,2.5678496228814445,0.5906849357139264,1.1126695902798267,1.2643923195951703,1.2579299729008793,-0.27815906759614445,-1.731629031416127,-2.2475130039610436,-0.24823268732257214,0.8224265868537501,-0.15042236347092428,-3.6968749895957114,-3.3080790755005074,-3.619779844191559,-2.4324636783368043,0.8222079329483061,-0.08931812808825533,-0.7458555056654668,0.5410690084629478,-0.34201323657922794,-0.5220483999195423,-0.5723380797161031,-1.4861023745257833,-0.9257257574994039,1.6759430655795342,0.6585299238122362,-2.9189371466666265,-1.3335305669118318,-0.520764566171181,-1.3765698558762045,-0.10819354474001916,0.6081505058288581,-1.0936274456311965,-0.27832570210364327,0.5132009924767607,2.1434299713062566,-0.4039244407190441,-0.09471711482981204,2.6166337037576533,-1.6110604913884563,-0.5362952574871382,1.3483633586198822,0.6318826861898992,1.760888327062877,1.5252113470025663,-2.1264961698557214,-0.5914469855804111,0.3255503055164466,-0.6681649403760308,1.693882660079903,0.8080341071380281,-0.4086738292939141,-4.650206676171149,-3.478812938063965,-6.237171535357566,-1.6059050789928868,0.85958189856512,1.5650386672090428,-3.1669090932542074,-2.5047142897269157,-2.1985973041130893,-1.6699983988083347,-0.15770536807125138,-0.7703042125363619,-0.6255615704565002,-0.4865029135876696,-1.1771701353566029,-1.211468535004189,-2.1955688538535014,-0.44284382417915774,-1.020904254825489,0.8734407651603443,-3.155263403698868,0.30739834282697415,-0.06395170811191583,-0.8521114510780612,0.0038035597786524847,-2.2078892295140538,-2.7745928195246976,-4.473254014037745,1.065993977751918,-0.02490667006403686,-0.4243138467478975,-0.6294744189105382,-1.0502060590394806,-1.072579618782696,-0.6079323104673486,1.4605588545977752,0.4070571927753305,-0.9880828286915334,-5.107565103506672,-0.7424877517051834,0.42269958077180975,0.5105787308637605,1.3590164174212642,0.6303967000802352,-1.7261717536073045,-3.3989882498238417,0.2978953271437741,-1.8228707472545258,-2.51644675796449,-1.9265430292681978,-1.7126066683655419,-0.17047446617900658,-2.16041840265304,-0.44532057428749244,-4.1965273987800815,0.9656096927221127,-0.1586359009274765,-0.44751621583046913,-4.602829036942949,0.43039850492276027,-2.044299710788143,-1.4029466363125045,-0.5514250486386153,-1.2965001683799775,-0.7670963967151812,-0.6970182764571173,-0.4517046300366321,-3.4398869513366854,0.5600467927173466,-1.0320130615538317,0.09393241042508028,-1.906207150320235,0.11361767261790844,-3.854070529799889,-0.6130460184623961,0.28479083670398897,0.5430511670048683,0.32581481383741157,-1.14478515929323,1.4044968629273047,-0.5149801426317392,-2.5277318543814693,0.08643506194743927,-0.189579382102948,0.04962579172469695,0.8193597057985281,2.2359312941206735,-1.627581263580472,-0.23316501104402929,2.3724087103061926,0.09862790467620981,-2.4040509431933166,-2.73817465934982,-0.3853499815496535,-1.556402524642134,-2.3509674337763036,2.2559500913723824,-1.7653590171988374,1.776202096120081,1.700016026355898,-0.8528648844897981,-0.05674040742057514,1.1154473647992924,-2.9907437817521316,0.1920194748887079,-1.3556886537485118,-1.3001102710207237,0.27370846995877773,-0.6593814072454016,-0.7533946185962938,1.1110708702212286,-1.0480546189771716,1.3999545427149094,0.05983444545606052,0.5254361632529134,-1.2995629413523864,1.2915090766849042,-3.619480391176089,-1.0390300699955257,-1.1612965177456278,0.036629460366516466,1.5297956568211022,-0.798927429516193,1.5297956568211022,1.001081717131967,3.2210404570153552,0.9061575395983407],\"z\":[-5.073009735335275,-6.215460686873373,-0.15279892377612958,0.4250958465963034,-3.248768697851269,-4.206892344359696,-3.271046723023845,-2.720530944774409,-0.036729805955676494,-1.4482953780027978,2.579984448722592,2.227767065594422,3.0539536272327377,-3.567508019896048,-1.7812817151587834,-1.2531917279129683,-3.6729361048178353,-2.373474141017294,-2.837621107092292,0.7146559408531891,-2.1189530019203526,-0.3930674501575056,-0.6809056903658762,-1.1923633647021379,-1.5841461116685869,-0.4093709115370463,-2.060922748484228,-1.1758460362102734,0.4431919679660609,2.1101785846189816,0.6173758237210512,-3.272642550843557,-3.2897119926112945,-2.4277469459400893,-3.0289729094959794,2.0116524917479817,0.8597150766007444,-0.9244187838183398,1.9750289892580897,1.1967228437461397,0.17278881872219795,-0.22413822268333944,0.6154313606412503,0.7314026173594468,2.0256654461685915,-1.971672138300403,0.008659050947509152,-0.4345347964477975,1.248525909566395,0.47995791954733774,2.751740617039337,2.8797481364893773,-1.102207897993888,-1.3083039371365408,-1.2401516939852366,-1.8440893380666168,-2.0436415142870796,3.107188739486061,-1.5067715401448918,0.09695577138854104,-0.6274035740551602,2.4634192946296505,2.0112056649496908,1.583819391556504,3.82111094177521,-0.623842961652352,-0.16237422834395285,-0.9816091390888548,-1.534349757813834,5.4936926827115675,7.307817977960134,3.032983281185157,-0.6145975154088785,-0.6333418760491976,-4.336901919955702,1.1272605682569758,-0.10875181469919992,0.7648631046665942,-0.756187443097663,-0.2656916924724671,-0.6356093030723167,1.8905908043688457,4.352696900563858,-0.8247010818351551,-1.037927060345119,-0.8520468373037723,-1.4788513686799876,-1.8182414738269768,-0.6669493036593132,-0.7101963120965628,-0.19783370958142774,-0.27890883640353975,-0.21366498269320508,4.680960216697633,3.0367861120401334,4.896606715376278,1.113749061850978,0.7193304450896194,-0.5872363245457597,-1.4329524523583088,4.943735700815454,0.7138650451456525,-0.6203312437084144,-0.7411257833804116,-0.1638861581753175,-0.6973439504076929,-1.2448206147827727,-1.7649813381889607,6.428191368501919,-0.762162802022794,-2.802500403087834,3.3460252051057275,4.408542852554847,-1.4269695712059345,3.4201413368241456,4.778437373088781,-0.5859268562972492,-1.8386652499711942,-1.1045367194398072,1.8963194612609584,-0.6034634530556907,3.361213270492727,1.0642724503185135,4.056499951316231,0.010492395040282003,0.3835005758114777,-1.6648894716240799,-1.7367400507833943,-0.4237108173864042,-0.12093486262989651,1.2370152181017533,3.4422357877603096,-0.9273654923405652,-1.0462188897935965,0.18066077786318155,-0.2230158673833774,-0.2558526041500603,0.11637652476533139,0.10234019610919642,0.6144670483643461,0.6162107757836431,0.5331823343638373,-0.22694730545043362,0.12376411435162453,-0.2368254382000493,-1.2883872088113832,0.5526707998546015,2.1782730571173894,1.4201470511010152,-1.265218314183019,-0.28173382005215925,0.6729437073728805,-0.5629757362034833,-0.9609343935252289,-1.0248346462619051,4.166273558852937,-0.3376142057380358,-1.476234853947536,-1.1017653051383578,-1.0807568850734386,0.45785006464243355,-1.8724462396158357,-1.553757030414984,-0.7621257388682146,2.6733543337716577,-0.4464745231605481,-0.34379338538542054,0.8228395933301973,-1.4827692674068196,-0.18534162271893515,-1.1125947144767652,-1.0970932952422439,-0.7460614015681171,0.8436003433170748,-0.8021994561482121,0.10271494693201154,1.4034038118828083,-1.0439263936819783,0.383391857628409,-0.7681437469901382,0.9501126053742309,2.1873398535853408,-0.010000737400016899,3.293285041856226,1.0116299542838172,2.6013999957818594,-1.3503378222314741,-0.7795878279089253,-1.118142188326975,-2.913376051317431,-0.7418193019469523,-1.069718385590657,-0.5277959515096617,-1.3171177303278148,-0.7416361231799268,-1.3171177303278148,-0.7929846485196721,1.3227761753653042,-0.4814485451298123],\"type\":\"scatter3d\"}],                        {\"template\":{\"data\":{\"histogram2dcontour\":[{\"type\":\"histogram2dcontour\",\"colorbar\":{\"outlinewidth\":0,\"ticks\":\"\"},\"colorscale\":[[0.0,\"#0d0887\"],[0.1111111111111111,\"#46039f\"],[0.2222222222222222,\"#7201a8\"],[0.3333333333333333,\"#9c179e\"],[0.4444444444444444,\"#bd3786\"],[0.5555555555555556,\"#d8576b\"],[0.6666666666666666,\"#ed7953\"],[0.7777777777777778,\"#fb9f3a\"],[0.8888888888888888,\"#fdca26\"],[1.0,\"#f0f921\"]]}],\"choropleth\":[{\"type\":\"choropleth\",\"colorbar\":{\"outlinewidth\":0,\"ticks\":\"\"}}],\"histogram2d\":[{\"type\":\"histogram2d\",\"colorbar\":{\"outlinewidth\":0,\"ticks\":\"\"},\"colorscale\":[[0.0,\"#0d0887\"],[0.1111111111111111,\"#46039f\"],[0.2222222222222222,\"#7201a8\"],[0.3333333333333333,\"#9c179e\"],[0.4444444444444444,\"#bd3786\"],[0.5555555555555556,\"#d8576b\"],[0.6666666666666666,\"#ed7953\"],[0.7777777777777778,\"#fb9f3a\"],[0.8888888888888888,\"#fdca26\"],[1.0,\"#f0f921\"]]}],\"heatmap\":[{\"type\":\"heatmap\",\"colorbar\":{\"outlinewidth\":0,\"ticks\":\"\"},\"colorscale\":[[0.0,\"#0d0887\"],[0.1111111111111111,\"#46039f\"],[0.2222222222222222,\"#7201a8\"],[0.3333333333333333,\"#9c179e\"],[0.4444444444444444,\"#bd3786\"],[0.5555555555555556,\"#d8576b\"],[0.6666666666666666,\"#ed7953\"],[0.7777777777777778,\"#fb9f3a\"],[0.8888888888888888,\"#fdca26\"],[1.0,\"#f0f921\"]]}],\"heatmapgl\":[{\"type\":\"heatmapgl\",\"colorbar\":{\"outlinewidth\":0,\"ticks\":\"\"},\"colorscale\":[[0.0,\"#0d0887\"],[0.1111111111111111,\"#46039f\"],[0.2222222222222222,\"#7201a8\"],[0.3333333333333333,\"#9c179e\"],[0.4444444444444444,\"#bd3786\"],[0.5555555555555556,\"#d8576b\"],[0.6666666666666666,\"#ed7953\"],[0.7777777777777778,\"#fb9f3a\"],[0.8888888888888888,\"#fdca26\"],[1.0,\"#f0f921\"]]}],\"contourcarpet\":[{\"type\":\"contourcarpet\",\"colorbar\":{\"outlinewidth\":0,\"ticks\":\"\"}}],\"contour\":[{\"type\":\"contour\",\"colorbar\":{\"outlinewidth\":0,\"ticks\":\"\"},\"colorscale\":[[0.0,\"#0d0887\"],[0.1111111111111111,\"#46039f\"],[0.2222222222222222,\"#7201a8\"],[0.3333333333333333,\"#9c179e\"],[0.4444444444444444,\"#bd3786\"],[0.5555555555555556,\"#d8576b\"],[0.6666666666666666,\"#ed7953\"],[0.7777777777777778,\"#fb9f3a\"],[0.8888888888888888,\"#fdca26\"],[1.0,\"#f0f921\"]]}],\"surface\":[{\"type\":\"surface\",\"colorbar\":{\"outlinewidth\":0,\"ticks\":\"\"},\"colorscale\":[[0.0,\"#0d0887\"],[0.1111111111111111,\"#46039f\"],[0.2222222222222222,\"#7201a8\"],[0.3333333333333333,\"#9c179e\"],[0.4444444444444444,\"#bd3786\"],[0.5555555555555556,\"#d8576b\"],[0.6666666666666666,\"#ed7953\"],[0.7777777777777778,\"#fb9f3a\"],[0.8888888888888888,\"#fdca26\"],[1.0,\"#f0f921\"]]}],\"mesh3d\":[{\"type\":\"mesh3d\",\"colorbar\":{\"outlinewidth\":0,\"ticks\":\"\"}}],\"scatter\":[{\"fillpattern\":{\"fillmode\":\"overlay\",\"size\":10,\"solidity\":0.2},\"type\":\"scatter\"}],\"parcoords\":[{\"type\":\"parcoords\",\"line\":{\"colorbar\":{\"outlinewidth\":0,\"ticks\":\"\"}}}],\"scatterpolargl\":[{\"type\":\"scatterpolargl\",\"marker\":{\"colorbar\":{\"outlinewidth\":0,\"ticks\":\"\"}}}],\"bar\":[{\"error_x\":{\"color\":\"#2a3f5f\"},\"error_y\":{\"color\":\"#2a3f5f\"},\"marker\":{\"line\":{\"color\":\"#E5ECF6\",\"width\":0.5},\"pattern\":{\"fillmode\":\"overlay\",\"size\":10,\"solidity\":0.2}},\"type\":\"bar\"}],\"scattergeo\":[{\"type\":\"scattergeo\",\"marker\":{\"colorbar\":{\"outlinewidth\":0,\"ticks\":\"\"}}}],\"scatterpolar\":[{\"type\":\"scatterpolar\",\"marker\":{\"colorbar\":{\"outlinewidth\":0,\"ticks\":\"\"}}}],\"histogram\":[{\"marker\":{\"pattern\":{\"fillmode\":\"overlay\",\"size\":10,\"solidity\":0.2}},\"type\":\"histogram\"}],\"scattergl\":[{\"type\":\"scattergl\",\"marker\":{\"colorbar\":{\"outlinewidth\":0,\"ticks\":\"\"}}}],\"scatter3d\":[{\"type\":\"scatter3d\",\"line\":{\"colorbar\":{\"outlinewidth\":0,\"ticks\":\"\"}},\"marker\":{\"colorbar\":{\"outlinewidth\":0,\"ticks\":\"\"}}}],\"scattermapbox\":[{\"type\":\"scattermapbox\",\"marker\":{\"colorbar\":{\"outlinewidth\":0,\"ticks\":\"\"}}}],\"scatterternary\":[{\"type\":\"scatterternary\",\"marker\":{\"colorbar\":{\"outlinewidth\":0,\"ticks\":\"\"}}}],\"scattercarpet\":[{\"type\":\"scattercarpet\",\"marker\":{\"colorbar\":{\"outlinewidth\":0,\"ticks\":\"\"}}}],\"carpet\":[{\"aaxis\":{\"endlinecolor\":\"#2a3f5f\",\"gridcolor\":\"white\",\"linecolor\":\"white\",\"minorgridcolor\":\"white\",\"startlinecolor\":\"#2a3f5f\"},\"baxis\":{\"endlinecolor\":\"#2a3f5f\",\"gridcolor\":\"white\",\"linecolor\":\"white\",\"minorgridcolor\":\"white\",\"startlinecolor\":\"#2a3f5f\"},\"type\":\"carpet\"}],\"table\":[{\"cells\":{\"fill\":{\"color\":\"#EBF0F8\"},\"line\":{\"color\":\"white\"}},\"header\":{\"fill\":{\"color\":\"#C8D4E3\"},\"line\":{\"color\":\"white\"}},\"type\":\"table\"}],\"barpolar\":[{\"marker\":{\"line\":{\"color\":\"#E5ECF6\",\"width\":0.5},\"pattern\":{\"fillmode\":\"overlay\",\"size\":10,\"solidity\":0.2}},\"type\":\"barpolar\"}],\"pie\":[{\"automargin\":true,\"type\":\"pie\"}]},\"layout\":{\"autotypenumbers\":\"strict\",\"colorway\":[\"#636efa\",\"#EF553B\",\"#00cc96\",\"#ab63fa\",\"#FFA15A\",\"#19d3f3\",\"#FF6692\",\"#B6E880\",\"#FF97FF\",\"#FECB52\"],\"font\":{\"color\":\"#2a3f5f\"},\"hovermode\":\"closest\",\"hoverlabel\":{\"align\":\"left\"},\"paper_bgcolor\":\"white\",\"plot_bgcolor\":\"#E5ECF6\",\"polar\":{\"bgcolor\":\"#E5ECF6\",\"angularaxis\":{\"gridcolor\":\"white\",\"linecolor\":\"white\",\"ticks\":\"\"},\"radialaxis\":{\"gridcolor\":\"white\",\"linecolor\":\"white\",\"ticks\":\"\"}},\"ternary\":{\"bgcolor\":\"#E5ECF6\",\"aaxis\":{\"gridcolor\":\"white\",\"linecolor\":\"white\",\"ticks\":\"\"},\"baxis\":{\"gridcolor\":\"white\",\"linecolor\":\"white\",\"ticks\":\"\"},\"caxis\":{\"gridcolor\":\"white\",\"linecolor\":\"white\",\"ticks\":\"\"}},\"coloraxis\":{\"colorbar\":{\"outlinewidth\":0,\"ticks\":\"\"}},\"colorscale\":{\"sequential\":[[0.0,\"#0d0887\"],[0.1111111111111111,\"#46039f\"],[0.2222222222222222,\"#7201a8\"],[0.3333333333333333,\"#9c179e\"],[0.4444444444444444,\"#bd3786\"],[0.5555555555555556,\"#d8576b\"],[0.6666666666666666,\"#ed7953\"],[0.7777777777777778,\"#fb9f3a\"],[0.8888888888888888,\"#fdca26\"],[1.0,\"#f0f921\"]],\"sequentialminus\":[[0.0,\"#0d0887\"],[0.1111111111111111,\"#46039f\"],[0.2222222222222222,\"#7201a8\"],[0.3333333333333333,\"#9c179e\"],[0.4444444444444444,\"#bd3786\"],[0.5555555555555556,\"#d8576b\"],[0.6666666666666666,\"#ed7953\"],[0.7777777777777778,\"#fb9f3a\"],[0.8888888888888888,\"#fdca26\"],[1.0,\"#f0f921\"]],\"diverging\":[[0,\"#8e0152\"],[0.1,\"#c51b7d\"],[0.2,\"#de77ae\"],[0.3,\"#f1b6da\"],[0.4,\"#fde0ef\"],[0.5,\"#f7f7f7\"],[0.6,\"#e6f5d0\"],[0.7,\"#b8e186\"],[0.8,\"#7fbc41\"],[0.9,\"#4d9221\"],[1,\"#276419\"]]},\"xaxis\":{\"gridcolor\":\"white\",\"linecolor\":\"white\",\"ticks\":\"\",\"title\":{\"standoff\":15},\"zerolinecolor\":\"white\",\"automargin\":true,\"zerolinewidth\":2},\"yaxis\":{\"gridcolor\":\"white\",\"linecolor\":\"white\",\"ticks\":\"\",\"title\":{\"standoff\":15},\"zerolinecolor\":\"white\",\"automargin\":true,\"zerolinewidth\":2},\"scene\":{\"xaxis\":{\"backgroundcolor\":\"#E5ECF6\",\"gridcolor\":\"white\",\"linecolor\":\"white\",\"showbackground\":true,\"ticks\":\"\",\"zerolinecolor\":\"white\",\"gridwidth\":2},\"yaxis\":{\"backgroundcolor\":\"#E5ECF6\",\"gridcolor\":\"white\",\"linecolor\":\"white\",\"showbackground\":true,\"ticks\":\"\",\"zerolinecolor\":\"white\",\"gridwidth\":2},\"zaxis\":{\"backgroundcolor\":\"#E5ECF6\",\"gridcolor\":\"white\",\"linecolor\":\"white\",\"showbackground\":true,\"ticks\":\"\",\"zerolinecolor\":\"white\",\"gridwidth\":2}},\"shapedefaults\":{\"line\":{\"color\":\"#2a3f5f\"}},\"annotationdefaults\":{\"arrowcolor\":\"#2a3f5f\",\"arrowhead\":0,\"arrowwidth\":1},\"geo\":{\"bgcolor\":\"white\",\"landcolor\":\"#E5ECF6\",\"subunitcolor\":\"white\",\"showland\":true,\"showlakes\":true,\"lakecolor\":\"white\"},\"title\":{\"x\":0.05},\"mapbox\":{\"style\":\"light\"}}},\"scene\":{\"domain\":{\"x\":[0.0,1.0],\"y\":[0.0,1.0]},\"xaxis\":{\"title\":{\"text\":\"PCA1\"}},\"yaxis\":{\"title\":{\"text\":\"PCA2\"}},\"zaxis\":{\"title\":{\"text\":\"PCA3\"}}},\"coloraxis\":{\"colorbar\":{\"title\":{\"text\":\"pca_prediction\"}},\"colorscale\":[[0.0,\"#0d0887\"],[0.1111111111111111,\"#46039f\"],[0.2222222222222222,\"#7201a8\"],[0.3333333333333333,\"#9c179e\"],[0.4444444444444444,\"#bd3786\"],[0.5555555555555556,\"#d8576b\"],[0.6666666666666666,\"#ed7953\"],[0.7777777777777778,\"#fb9f3a\"],[0.8888888888888888,\"#fdca26\"],[1.0,\"#f0f921\"]]},\"legend\":{\"tracegroupgap\":0},\"margin\":{\"t\":60}},                        {\"responsive\": true}                    ).then(function(){\n",
       "                            \n",
       "var gd = document.getElementById('14fd5faf-0bd9-454a-9eb7-05e344faaed8');\n",
       "var x = new MutationObserver(function (mutations, observer) {{\n",
       "        var display = window.getComputedStyle(gd).display;\n",
       "        if (!display || display === 'none') {{\n",
       "            console.log([gd, 'removed!']);\n",
       "            Plotly.purge(gd);\n",
       "            observer.disconnect();\n",
       "        }}\n",
       "}});\n",
       "\n",
       "// Listen for the removal of the full notebook cells\n",
       "var notebookContainer = gd.closest('#notebook-container');\n",
       "if (notebookContainer) {{\n",
       "    x.observe(notebookContainer, {childList: true});\n",
       "}}\n",
       "\n",
       "// Listen for the clearing of the current output cell\n",
       "var outputEl = gd.closest('.output');\n",
       "if (outputEl) {{\n",
       "    x.observe(outputEl, {childList: true});\n",
       "}}\n",
       "\n",
       "                        })                };                });            </script>        </div>"
      ]
     },
     "metadata": {},
     "output_type": "display_data"
    }
   ],
   "source": [
    "# Composite plot to contrast the Elbow curves\n",
    "import plotly.express as px\n",
    "player_pca_prediction_df = player_pca_prediction_df.reset_index()\n",
    "fig = px.scatter_3d(player_pca_prediction_df, x='PCA1', y='PCA2', z='PCA3' ,\n",
    "                    color='pca_prediction' , hover_data=['player_name'])\n",
    "\n",
    "fig.show()"
   ]
  },
  {
   "cell_type": "code",
   "execution_count": 150,
   "metadata": {},
   "outputs": [
    {
     "data": {},
     "metadata": {},
     "output_type": "display_data"
    },
    {
     "data": {
      "application/vnd.holoviews_exec.v0+json": "",
      "text/html": [
       "<div id='12973'>\n",
       "  <div class=\"bk-root\" id=\"61bfe151-39ee-4ead-97c5-9a22edc6b700\" data-root-id=\"12973\"></div>\n",
       "</div>\n",
       "<script type=\"application/javascript\">(function(root) {\n",
       "  function embed_document(root) {\n",
       "    var docs_json = {\"65c02635-0bcd-4b47-a3d2-32b1e532bffd\":{\"defs\":[{\"extends\":null,\"module\":null,\"name\":\"ReactiveHTML1\",\"overrides\":[],\"properties\":[]},{\"extends\":null,\"module\":null,\"name\":\"FlexBox1\",\"overrides\":[],\"properties\":[{\"default\":\"flex-start\",\"kind\":null,\"name\":\"align_content\"},{\"default\":\"flex-start\",\"kind\":null,\"name\":\"align_items\"},{\"default\":\"row\",\"kind\":null,\"name\":\"flex_direction\"},{\"default\":\"wrap\",\"kind\":null,\"name\":\"flex_wrap\"},{\"default\":\"flex-start\",\"kind\":null,\"name\":\"justify_content\"}]},{\"extends\":null,\"module\":null,\"name\":\"GridStack1\",\"overrides\":[],\"properties\":[{\"default\":\"warn\",\"kind\":null,\"name\":\"mode\"},{\"default\":null,\"kind\":null,\"name\":\"ncols\"},{\"default\":null,\"kind\":null,\"name\":\"nrows\"},{\"default\":true,\"kind\":null,\"name\":\"allow_resize\"},{\"default\":true,\"kind\":null,\"name\":\"allow_drag\"},{\"default\":[],\"kind\":null,\"name\":\"state\"}]},{\"extends\":null,\"module\":null,\"name\":\"click1\",\"overrides\":[],\"properties\":[{\"default\":\"\",\"kind\":null,\"name\":\"terminal_output\"},{\"default\":\"\",\"kind\":null,\"name\":\"debug_name\"},{\"default\":0,\"kind\":null,\"name\":\"clears\"}]},{\"extends\":null,\"module\":null,\"name\":\"NotificationAreaBase1\",\"overrides\":[],\"properties\":[{\"default\":\"bottom-right\",\"kind\":null,\"name\":\"position\"},{\"default\":0,\"kind\":null,\"name\":\"_clear\"}]},{\"extends\":null,\"module\":null,\"name\":\"NotificationArea1\",\"overrides\":[],\"properties\":[{\"default\":[],\"kind\":null,\"name\":\"notifications\"},{\"default\":\"bottom-right\",\"kind\":null,\"name\":\"position\"},{\"default\":0,\"kind\":null,\"name\":\"_clear\"},{\"default\":[{\"background\":\"#ffc107\",\"icon\":{\"className\":\"fas fa-exclamation-triangle\",\"color\":\"white\",\"tagName\":\"i\"},\"type\":\"warning\"},{\"background\":\"#007bff\",\"icon\":{\"className\":\"fas fa-info-circle\",\"color\":\"white\",\"tagName\":\"i\"},\"type\":\"info\"}],\"kind\":null,\"name\":\"types\"}]},{\"extends\":null,\"module\":null,\"name\":\"Notification\",\"overrides\":[],\"properties\":[{\"default\":null,\"kind\":null,\"name\":\"background\"},{\"default\":3000,\"kind\":null,\"name\":\"duration\"},{\"default\":null,\"kind\":null,\"name\":\"icon\"},{\"default\":\"\",\"kind\":null,\"name\":\"message\"},{\"default\":null,\"kind\":null,\"name\":\"notification_type\"},{\"default\":false,\"kind\":null,\"name\":\"_destroyed\"}]},{\"extends\":null,\"module\":null,\"name\":\"TemplateActions1\",\"overrides\":[],\"properties\":[{\"default\":0,\"kind\":null,\"name\":\"open_modal\"},{\"default\":0,\"kind\":null,\"name\":\"close_modal\"}]},{\"extends\":null,\"module\":null,\"name\":\"MaterialTemplateActions1\",\"overrides\":[],\"properties\":[{\"default\":0,\"kind\":null,\"name\":\"open_modal\"},{\"default\":0,\"kind\":null,\"name\":\"close_modal\"}]}],\"roots\":{\"references\":[{\"attributes\":{},\"id\":\"13024\",\"type\":\"AllLabels\"},{\"attributes\":{},\"id\":\"13072\",\"type\":\"BasicTickFormatter\"},{\"attributes\":{},\"id\":\"13036\",\"type\":\"LinearScale\"},{\"attributes\":{\"source\":{\"id\":\"13061\"}},\"id\":\"13068\",\"type\":\"CDSView\"},{\"attributes\":{\"ticks\":[1,2,3,4,5,6,7,8,9,10,11,12,13,14,15,16,17,18,19]},\"id\":\"13070\",\"type\":\"FixedTicker\"},{\"attributes\":{\"children\":[{\"id\":\"13106\"}],\"margin\":[0,0,0,0],\"name\":\"Row08489\",\"tags\":[\"embedded\"]},\"id\":\"12973\",\"type\":\"Row\"},{\"attributes\":{\"data\":{\"inertia\":{\"__ndarray__\":\"rWp9ypeBs0BDiW/TyoWoQNxsm4EnXKBAUPertPtkmUA32JJZI/aTQOM5bCPN/5BAYGpmEVi9jEBvhSgc50GJQFlkNOTtVIZAexg+XQSLhEA=\",\"dtype\":\"float64\",\"order\":\"little\",\"shape\":[10]},\"k_pca\":[1,2,3,4,5,6,7,8,9,10]},\"selected\":{\"id\":\"13062\"},\"selection_policy\":{\"id\":\"13099\"}},\"id\":\"13061\",\"type\":\"ColumnDataSource\"},{\"attributes\":{\"end\":8670.578367304903,\"reset_end\":8670.578367304903,\"reset_start\":-71.09570869564072,\"start\":-71.09570869564072,\"tags\":[[[\"inertia\",\"inertia\",null]]]},\"id\":\"12975\",\"type\":\"Range1d\"},{\"attributes\":{},\"id\":\"13073\",\"type\":\"AllLabels\"},{\"attributes\":{},\"id\":\"12982\",\"type\":\"LinearScale\"},{\"attributes\":{\"end\":10.0,\"reset_end\":10.0,\"reset_start\":1.0,\"start\":1.0,\"tags\":[[[\"k_pca\",\"k_pca\",null]]]},\"id\":\"13029\",\"type\":\"Range1d\"},{\"attributes\":{\"below\":[{\"id\":\"13040\"}],\"center\":[{\"id\":\"13043\"},{\"id\":\"13047\"}],\"height\":300,\"left\":[{\"id\":\"13044\"}],\"margin\":null,\"min_border_bottom\":10,\"min_border_left\":10,\"min_border_right\":10,\"min_border_top\":10,\"renderers\":[{\"id\":\"13067\"}],\"sizing_mode\":\"fixed\",\"title\":{\"id\":\"13032\"},\"toolbar\":{\"id\":\"13054\"},\"toolbar_location\":null,\"width\":700,\"x_range\":{\"id\":\"13029\"},\"x_scale\":{\"id\":\"13036\"},\"y_range\":{\"id\":\"12975\"},\"y_scale\":{\"id\":\"13038\"}},\"id\":\"13031\",\"subtype\":\"Figure\",\"type\":\"Plot\"},{\"attributes\":{\"children\":[{\"id\":\"13105\"},{\"id\":\"13103\"}]},\"id\":\"13106\",\"type\":\"Column\"},{\"attributes\":{},\"id\":\"13078\",\"type\":\"AllLabels\"},{\"attributes\":{},\"id\":\"13048\",\"type\":\"SaveTool\"},{\"attributes\":{},\"id\":\"13052\",\"type\":\"ResetTool\"},{\"attributes\":{\"line_alpha\":0.1,\"line_color\":\"#30a2da\",\"line_width\":2,\"x\":{\"field\":\"k_pca\"},\"y\":{\"field\":\"inertia\"}},\"id\":\"13065\",\"type\":\"Line\"},{\"attributes\":{\"callback\":null,\"renderers\":[{\"id\":\"13067\"}],\"tags\":[\"hv_created\"],\"tooltips\":[[\"k_pca\",\"@{k_pca}\"],[\"inertia\",\"@{inertia}\"]]},\"id\":\"13030\",\"type\":\"HoverTool\"},{\"attributes\":{\"overlay\":{\"id\":\"13053\"}},\"id\":\"13051\",\"type\":\"BoxZoomTool\"},{\"attributes\":{\"end\":19.0,\"reset_end\":19.0,\"reset_start\":1.0,\"start\":1.0,\"tags\":[[[\"k_original\",\"k_original\",null]]]},\"id\":\"12974\",\"type\":\"Range1d\"},{\"attributes\":{\"callback\":null,\"renderers\":[{\"id\":\"13013\"}],\"tags\":[\"hv_created\"],\"tooltips\":[[\"k_original\",\"@{k_original}\"],[\"inertia\",\"@{inertia}\"]]},\"id\":\"12976\",\"type\":\"HoverTool\"},{\"attributes\":{\"children\":[[{\"id\":\"12977\"},0,0],[{\"id\":\"13031\"},0,1]]},\"id\":\"13103\",\"type\":\"GridBox\"},{\"attributes\":{\"bottom_units\":\"screen\",\"coordinates\":null,\"fill_alpha\":0.5,\"fill_color\":\"lightgrey\",\"group\":null,\"left_units\":\"screen\",\"level\":\"overlay\",\"line_alpha\":1.0,\"line_color\":\"black\",\"line_dash\":[4,4],\"line_width\":2,\"right_units\":\"screen\",\"syncable\":false,\"top_units\":\"screen\"},\"id\":\"13053\",\"type\":\"BoxAnnotation\"},{\"attributes\":{},\"id\":\"12984\",\"type\":\"LinearScale\"},{\"attributes\":{},\"id\":\"12995\",\"type\":\"PanTool\"},{\"attributes\":{\"coordinates\":null,\"data_source\":{\"id\":\"13007\"},\"glyph\":{\"id\":\"13010\"},\"group\":null,\"hover_glyph\":null,\"muted_glyph\":{\"id\":\"13012\"},\"nonselection_glyph\":{\"id\":\"13011\"},\"selection_glyph\":{\"id\":\"13015\"},\"view\":{\"id\":\"13014\"}},\"id\":\"13013\",\"type\":\"GlyphRenderer\"},{\"attributes\":{\"coordinates\":null,\"group\":null,\"text\":\"Elbow Curve\",\"text_color\":\"black\",\"text_font_size\":\"12pt\"},\"id\":\"12978\",\"type\":\"Title\"},{\"attributes\":{\"line_color\":\"#30a2da\",\"line_width\":2,\"x\":{\"field\":\"k_original\"},\"y\":{\"field\":\"inertia\"}},\"id\":\"13015\",\"type\":\"Line\"},{\"attributes\":{\"axis\":{\"id\":\"12986\"},\"coordinates\":null,\"grid_line_color\":null,\"group\":null,\"ticker\":null},\"id\":\"12989\",\"type\":\"Grid\"},{\"attributes\":{\"axis_label\":\"k_original\",\"coordinates\":null,\"formatter\":{\"id\":\"13018\"},\"group\":null,\"major_label_policy\":{\"id\":\"13019\"},\"ticker\":{\"id\":\"13016\"}},\"id\":\"12986\",\"type\":\"LinearAxis\"},{\"attributes\":{},\"id\":\"13050\",\"type\":\"WheelZoomTool\"},{\"attributes\":{},\"id\":\"13045\",\"type\":\"BasicTicker\"},{\"attributes\":{},\"id\":\"13023\",\"type\":\"BasicTickFormatter\"},{\"attributes\":{},\"id\":\"13018\",\"type\":\"BasicTickFormatter\"},{\"attributes\":{\"axis_label\":\"inertia\",\"coordinates\":null,\"formatter\":{\"id\":\"13023\"},\"group\":null,\"major_label_policy\":{\"id\":\"13024\"},\"ticker\":{\"id\":\"12991\"}},\"id\":\"12990\",\"type\":\"LinearAxis\"},{\"attributes\":{\"axis\":{\"id\":\"13044\"},\"coordinates\":null,\"dimension\":1,\"grid_line_color\":null,\"group\":null,\"ticker\":null},\"id\":\"13047\",\"type\":\"Grid\"},{\"attributes\":{\"axis\":{\"id\":\"12990\"},\"coordinates\":null,\"dimension\":1,\"grid_line_color\":null,\"group\":null,\"ticker\":null},\"id\":\"12993\",\"type\":\"Grid\"},{\"attributes\":{\"axis_label\":\"inertia\",\"coordinates\":null,\"formatter\":{\"id\":\"13077\"},\"group\":null,\"major_label_policy\":{\"id\":\"13078\"},\"ticker\":{\"id\":\"13045\"}},\"id\":\"13044\",\"type\":\"LinearAxis\"},{\"attributes\":{},\"id\":\"12991\",\"type\":\"BasicTicker\"},{\"attributes\":{\"line_color\":\"#30a2da\",\"line_width\":2,\"x\":{\"field\":\"k_pca\"},\"y\":{\"field\":\"inertia\"}},\"id\":\"13064\",\"type\":\"Line\"},{\"attributes\":{},\"id\":\"12996\",\"type\":\"WheelZoomTool\"},{\"attributes\":{},\"id\":\"13077\",\"type\":\"BasicTickFormatter\"},{\"attributes\":{},\"id\":\"12994\",\"type\":\"SaveTool\"},{\"attributes\":{\"overlay\":{\"id\":\"12999\"}},\"id\":\"12997\",\"type\":\"BoxZoomTool\"},{\"attributes\":{},\"id\":\"13038\",\"type\":\"LinearScale\"},{\"attributes\":{},\"id\":\"12998\",\"type\":\"ResetTool\"},{\"attributes\":{},\"id\":\"13062\",\"type\":\"Selection\"},{\"attributes\":{},\"id\":\"13049\",\"type\":\"PanTool\"},{\"attributes\":{\"axis\":{\"id\":\"13040\"},\"coordinates\":null,\"grid_line_color\":null,\"group\":null,\"ticker\":null},\"id\":\"13043\",\"type\":\"Grid\"},{\"attributes\":{\"coordinates\":null,\"group\":null,\"text\":\"Elbow Curve\",\"text_color\":\"black\",\"text_font_size\":\"12pt\"},\"id\":\"13032\",\"type\":\"Title\"},{\"attributes\":{\"bottom_units\":\"screen\",\"coordinates\":null,\"fill_alpha\":0.5,\"fill_color\":\"lightgrey\",\"group\":null,\"left_units\":\"screen\",\"level\":\"overlay\",\"line_alpha\":1.0,\"line_color\":\"black\",\"line_dash\":[4,4],\"line_width\":2,\"right_units\":\"screen\",\"syncable\":false,\"top_units\":\"screen\"},\"id\":\"12999\",\"type\":\"BoxAnnotation\"},{\"attributes\":{\"axis_label\":\"k_pca\",\"coordinates\":null,\"formatter\":{\"id\":\"13072\"},\"group\":null,\"major_label_policy\":{\"id\":\"13073\"},\"ticker\":{\"id\":\"13070\"}},\"id\":\"13040\",\"type\":\"LinearAxis\"},{\"attributes\":{},\"id\":\"13089\",\"type\":\"UnionRenderers\"},{\"attributes\":{},\"id\":\"13099\",\"type\":\"UnionRenderers\"},{\"attributes\":{\"source\":{\"id\":\"13007\"}},\"id\":\"13014\",\"type\":\"CDSView\"},{\"attributes\":{\"active_drag\":{\"id\":\"13049\"},\"active_scroll\":{\"id\":\"13050\"},\"tools\":[{\"id\":\"13030\"},{\"id\":\"13048\"},{\"id\":\"13049\"},{\"id\":\"13050\"},{\"id\":\"13051\"},{\"id\":\"13052\"}]},\"id\":\"13054\",\"type\":\"Toolbar\"},{\"attributes\":{\"line_alpha\":0.1,\"line_color\":\"#30a2da\",\"line_width\":2,\"x\":{\"field\":\"k_original\"},\"y\":{\"field\":\"inertia\"}},\"id\":\"13011\",\"type\":\"Line\"},{\"attributes\":{\"active_drag\":{\"id\":\"12995\"},\"active_scroll\":{\"id\":\"12996\"},\"tools\":[{\"id\":\"12976\"},{\"id\":\"12994\"},{\"id\":\"12995\"},{\"id\":\"12996\"},{\"id\":\"12997\"},{\"id\":\"12998\"}]},\"id\":\"13000\",\"type\":\"Toolbar\"},{\"attributes\":{},\"id\":\"13008\",\"type\":\"Selection\"},{\"attributes\":{\"data\":{\"inertia\":{\"__ndarray__\":\"2/rbAxsGv0DhOiOKnX23QJK99k11WbNA3Kmg+Lz9sECpZVmE5KiuQPM9/zQ9saxAdu32GElnq0ButqMfneepQKe1Id7swKhAXEUDBKHNp0B7CEMdpYmmQNANF6Sw06VAqKb+wgo0pUBIn2lt5h2kQOmwZi/ql6NA6mpwV1OjokBkjx/9UrSiQLop2skj56FAsXoAoG5YoUA=\",\"dtype\":\"float64\",\"order\":\"little\",\"shape\":[19]},\"k_original\":[1,2,3,4,5,6,7,8,9,10,11,12,13,14,15,16,17,18,19]},\"selected\":{\"id\":\"13008\"},\"selection_policy\":{\"id\":\"13089\"}},\"id\":\"13007\",\"type\":\"ColumnDataSource\"},{\"attributes\":{\"line_color\":\"#30a2da\",\"line_width\":2,\"x\":{\"field\":\"k_original\"},\"y\":{\"field\":\"inertia\"}},\"id\":\"13010\",\"type\":\"Line\"},{\"attributes\":{\"line_alpha\":0.2,\"line_color\":\"#30a2da\",\"line_width\":2,\"x\":{\"field\":\"k_original\"},\"y\":{\"field\":\"inertia\"}},\"id\":\"13012\",\"type\":\"Line\"},{\"attributes\":{\"line_alpha\":0.2,\"line_color\":\"#30a2da\",\"line_width\":2,\"x\":{\"field\":\"k_pca\"},\"y\":{\"field\":\"inertia\"}},\"id\":\"13066\",\"type\":\"Line\"},{\"attributes\":{\"ticks\":[1,2,3,4,5,6,7,8,9,10,11,12,13,14,15,16,17,18,19]},\"id\":\"13016\",\"type\":\"FixedTicker\"},{\"attributes\":{\"line_color\":\"#30a2da\",\"line_width\":2,\"x\":{\"field\":\"k_pca\"},\"y\":{\"field\":\"inertia\"}},\"id\":\"13069\",\"type\":\"Line\"},{\"attributes\":{\"coordinates\":null,\"data_source\":{\"id\":\"13061\"},\"glyph\":{\"id\":\"13064\"},\"group\":null,\"hover_glyph\":null,\"muted_glyph\":{\"id\":\"13066\"},\"nonselection_glyph\":{\"id\":\"13065\"},\"selection_glyph\":{\"id\":\"13069\"},\"view\":{\"id\":\"13068\"}},\"id\":\"13067\",\"type\":\"GlyphRenderer\"},{\"attributes\":{\"toolbar\":{\"id\":\"13104\"},\"toolbar_location\":\"above\"},\"id\":\"13105\",\"type\":\"ToolbarBox\"},{\"attributes\":{},\"id\":\"13019\",\"type\":\"AllLabels\"},{\"attributes\":{\"below\":[{\"id\":\"12986\"}],\"center\":[{\"id\":\"12989\"},{\"id\":\"12993\"}],\"height\":300,\"left\":[{\"id\":\"12990\"}],\"margin\":null,\"min_border_bottom\":10,\"min_border_left\":10,\"min_border_right\":10,\"min_border_top\":10,\"renderers\":[{\"id\":\"13013\"}],\"sizing_mode\":\"fixed\",\"title\":{\"id\":\"12978\"},\"toolbar\":{\"id\":\"13000\"},\"toolbar_location\":null,\"width\":700,\"x_range\":{\"id\":\"12974\"},\"x_scale\":{\"id\":\"12982\"},\"y_range\":{\"id\":\"12975\"},\"y_scale\":{\"id\":\"12984\"}},\"id\":\"12977\",\"subtype\":\"Figure\",\"type\":\"Plot\"},{\"attributes\":{\"toolbars\":[{\"id\":\"13000\"},{\"id\":\"13054\"}],\"tools\":[{\"id\":\"12976\"},{\"id\":\"12994\"},{\"id\":\"12995\"},{\"id\":\"12996\"},{\"id\":\"12997\"},{\"id\":\"12998\"},{\"id\":\"13030\"},{\"id\":\"13048\"},{\"id\":\"13049\"},{\"id\":\"13050\"},{\"id\":\"13051\"},{\"id\":\"13052\"}]},\"id\":\"13104\",\"type\":\"ProxyToolbar\"}],\"root_ids\":[\"12973\"]},\"title\":\"Bokeh Application\",\"version\":\"2.4.3\"}};\n",
       "    var render_items = [{\"docid\":\"65c02635-0bcd-4b47-a3d2-32b1e532bffd\",\"root_ids\":[\"12973\"],\"roots\":{\"12973\":\"61bfe151-39ee-4ead-97c5-9a22edc6b700\"}}];\n",
       "    root.Bokeh.embed.embed_items_notebook(docs_json, render_items);\n",
       "    for (const render_item of render_items) {\n",
       "      for (const root_id of render_item.root_ids) {\n",
       "\tconst id_el = document.getElementById(root_id)\n",
       "\tif (id_el.children.length && (id_el.children[0].className === 'bk-root')) {\n",
       "\t  const root_el = id_el.children[0]\n",
       "\t  root_el.id = root_el.id + '-rendered'\n",
       "\t}\n",
       "      }\n",
       "    }\n",
       "  }\n",
       "  if (root.Bokeh !== undefined && root.Bokeh.Panel !== undefined) {\n",
       "    embed_document(root);\n",
       "  } else {\n",
       "    var attempts = 0;\n",
       "    var timer = setInterval(function(root) {\n",
       "      if (root.Bokeh !== undefined && root.Bokeh.Panel !== undefined) {\n",
       "        clearInterval(timer);\n",
       "        embed_document(root);\n",
       "      } else if (document.readyState == \"complete\") {\n",
       "        attempts++;\n",
       "        if (attempts > 200) {\n",
       "          clearInterval(timer);\n",
       "          console.log(\"Bokeh: ERROR: Unable to run BokehJS code because BokehJS library is missing\");\n",
       "        }\n",
       "      }\n",
       "    }, 25, root)\n",
       "  }\n",
       "})(window);</script>"
      ],
      "text/plain": [
       ":Layout\n",
       "   .Curve.I  :Curve   [k_original]   (inertia)\n",
       "   .Curve.II :Curve   [k_pca]   (inertia)"
      ]
     },
     "execution_count": 150,
     "metadata": {
      "application/vnd.holoviews_exec.v0+json": {
       "id": "12973"
      }
     },
     "output_type": "execute_result"
    }
   ],
   "source": [
    "# Composite plot to contrast the clusters\n",
    "elbow_plot + elbow_pca_plot\n",
    "# YOUR CODE HERE!"
   ]
  },
  {
   "cell_type": "markdown",
   "metadata": {},
   "source": [
    "#### Answer the following question: \n",
    "\n",
    "  * **Question:** After visually analyzing the cluster analysis results, what is the impact of using fewer features to cluster the data using K-Means?\n",
    "\n",
    "  * **Answer:In the first elbow plot the K value was 4 whereas in the PCA plot the new K value is 2. Of the 4 clusters in the initial plot contaned a single value. With the new PCA analysis the results were more accurate to cluster the data. "
   ]
  },
  {
   "cell_type": "code",
   "execution_count": 190,
   "metadata": {},
   "outputs": [],
   "source": [
    "# Import the modules\n",
    "import numpy as np\n",
    "import pandas as pd\n",
    "from pathlib import Path\n",
    "from sklearn.metrics import balanced_accuracy_score, confusion_matrix, classification_report"
   ]
  },
  {
   "cell_type": "code",
   "execution_count": 191,
   "metadata": {},
   "outputs": [
    {
     "data": {
      "text/html": [
       "<div>\n",
       "<style scoped>\n",
       "    .dataframe tbody tr th:only-of-type {\n",
       "        vertical-align: middle;\n",
       "    }\n",
       "\n",
       "    .dataframe tbody tr th {\n",
       "        vertical-align: top;\n",
       "    }\n",
       "\n",
       "    .dataframe thead th {\n",
       "        text-align: right;\n",
       "    }\n",
       "</style>\n",
       "<table border=\"1\" class=\"dataframe\">\n",
       "  <thead>\n",
       "    <tr style=\"text-align: right;\">\n",
       "      <th></th>\n",
       "      <th>Unnamed: 0</th>\n",
       "      <th>player_name</th>\n",
       "      <th>0304_salary_adjusted</th>\n",
       "      <th>0405_salary_adjusted</th>\n",
       "      <th>0506_salary_adjusted</th>\n",
       "      <th>0607_salary_adjusted</th>\n",
       "      <th>0708_salary_adjusted</th>\n",
       "      <th>0809_salary_adjusted</th>\n",
       "      <th>0910_salary_adjusted</th>\n",
       "      <th>1011_salary_adjusted</th>\n",
       "      <th>...</th>\n",
       "      <th>FT%</th>\n",
       "      <th>OREB</th>\n",
       "      <th>DREB</th>\n",
       "      <th>REB</th>\n",
       "      <th>AST</th>\n",
       "      <th>TOV</th>\n",
       "      <th>STL</th>\n",
       "      <th>BLK</th>\n",
       "      <th>PF</th>\n",
       "      <th>+/-</th>\n",
       "    </tr>\n",
       "  </thead>\n",
       "  <tbody>\n",
       "    <tr>\n",
       "      <th>0</th>\n",
       "      <td>0</td>\n",
       "      <td>LeBron James</td>\n",
       "      <td>6482581</td>\n",
       "      <td>6748393</td>\n",
       "      <td>7041080</td>\n",
       "      <td>8511223</td>\n",
       "      <td>18546814</td>\n",
       "      <td>19514263</td>\n",
       "      <td>21677854</td>\n",
       "      <td>19711923</td>\n",
       "      <td>...</td>\n",
       "      <td>73</td>\n",
       "      <td>111</td>\n",
       "      <td>454</td>\n",
       "      <td>565</td>\n",
       "      <td>514</td>\n",
       "      <td>249</td>\n",
       "      <td>104</td>\n",
       "      <td>49</td>\n",
       "      <td>143</td>\n",
       "      <td>618</td>\n",
       "    </tr>\n",
       "    <tr>\n",
       "      <th>1</th>\n",
       "      <td>1</td>\n",
       "      <td>LeBron James</td>\n",
       "      <td>6482581</td>\n",
       "      <td>6748393</td>\n",
       "      <td>7041080</td>\n",
       "      <td>8511223</td>\n",
       "      <td>18546814</td>\n",
       "      <td>19514263</td>\n",
       "      <td>21677854</td>\n",
       "      <td>19711923</td>\n",
       "      <td>...</td>\n",
       "      <td>71</td>\n",
       "      <td>51</td>\n",
       "      <td>365</td>\n",
       "      <td>416</td>\n",
       "      <td>511</td>\n",
       "      <td>272</td>\n",
       "      <td>109</td>\n",
       "      <td>49</td>\n",
       "      <td>135</td>\n",
       "      <td>541</td>\n",
       "    </tr>\n",
       "    <tr>\n",
       "      <th>2</th>\n",
       "      <td>2</td>\n",
       "      <td>Tyson Chandler</td>\n",
       "      <td>6136492</td>\n",
       "      <td>7499311</td>\n",
       "      <td>13711048</td>\n",
       "      <td>13362472</td>\n",
       "      <td>14577195</td>\n",
       "      <td>15369740</td>\n",
       "      <td>16279088</td>\n",
       "      <td>17128982</td>\n",
       "      <td>...</td>\n",
       "      <td>73</td>\n",
       "      <td>206</td>\n",
       "      <td>486</td>\n",
       "      <td>692</td>\n",
       "      <td>32</td>\n",
       "      <td>88</td>\n",
       "      <td>36</td>\n",
       "      <td>80</td>\n",
       "      <td>240</td>\n",
       "      <td>295</td>\n",
       "    </tr>\n",
       "    <tr>\n",
       "      <th>3</th>\n",
       "      <td>3</td>\n",
       "      <td>Tyson Chandler</td>\n",
       "      <td>6136492</td>\n",
       "      <td>7499311</td>\n",
       "      <td>13711048</td>\n",
       "      <td>13362472</td>\n",
       "      <td>14577195</td>\n",
       "      <td>15369740</td>\n",
       "      <td>16279088</td>\n",
       "      <td>17128982</td>\n",
       "      <td>...</td>\n",
       "      <td>72</td>\n",
       "      <td>294</td>\n",
       "      <td>570</td>\n",
       "      <td>864</td>\n",
       "      <td>84</td>\n",
       "      <td>105</td>\n",
       "      <td>42</td>\n",
       "      <td>91</td>\n",
       "      <td>169</td>\n",
       "      <td>230</td>\n",
       "    </tr>\n",
       "    <tr>\n",
       "      <th>4</th>\n",
       "      <td>4</td>\n",
       "      <td>Carmelo Anthony</td>\n",
       "      <td>5208750</td>\n",
       "      <td>5422257</td>\n",
       "      <td>5657544</td>\n",
       "      <td>6855081</td>\n",
       "      <td>18546814</td>\n",
       "      <td>19514263</td>\n",
       "      <td>21677854</td>\n",
       "      <td>23313418</td>\n",
       "      <td>...</td>\n",
       "      <td>84</td>\n",
       "      <td>145</td>\n",
       "      <td>477</td>\n",
       "      <td>622</td>\n",
       "      <td>242</td>\n",
       "      <td>198</td>\n",
       "      <td>95</td>\n",
       "      <td>51</td>\n",
       "      <td>224</td>\n",
       "      <td>104</td>\n",
       "    </tr>\n",
       "  </tbody>\n",
       "</table>\n",
       "<p>5 rows × 53 columns</p>\n",
       "</div>"
      ],
      "text/plain": [
       "   Unnamed: 0      player_name  0304_salary_adjusted  0405_salary_adjusted  \\\n",
       "0           0     LeBron James               6482581               6748393   \n",
       "1           1     LeBron James               6482581               6748393   \n",
       "2           2   Tyson Chandler               6136492               7499311   \n",
       "3           3   Tyson Chandler               6136492               7499311   \n",
       "4           4  Carmelo Anthony               5208750               5422257   \n",
       "\n",
       "   0506_salary_adjusted  0607_salary_adjusted  0708_salary_adjusted  \\\n",
       "0               7041080               8511223              18546814   \n",
       "1               7041080               8511223              18546814   \n",
       "2              13711048              13362472              14577195   \n",
       "3              13711048              13362472              14577195   \n",
       "4               5657544               6855081              18546814   \n",
       "\n",
       "   0809_salary_adjusted  0910_salary_adjusted  1011_salary_adjusted  ...  FT%  \\\n",
       "0              19514263              21677854              19711923  ...   73   \n",
       "1              19514263              21677854              19711923  ...   71   \n",
       "2              15369740              16279088              17128982  ...   73   \n",
       "3              15369740              16279088              17128982  ...   72   \n",
       "4              19514263              21677854              23313418  ...   84   \n",
       "\n",
       "   OREB  DREB  REB  AST  TOV  STL  BLK   PF  +/-  \n",
       "0   111   454  565  514  249  104   49  143  618  \n",
       "1    51   365  416  511  272  109   49  135  541  \n",
       "2   206   486  692   32   88   36   80  240  295  \n",
       "3   294   570  864   84  105   42   91  169  230  \n",
       "4   145   477  622  242  198   95   51  224  104  \n",
       "\n",
       "[5 rows x 53 columns]"
      ]
     },
     "execution_count": 191,
     "metadata": {},
     "output_type": "execute_result"
    }
   ],
   "source": [
    "df = pd.read_csv(\"Resources/player_info_reduced.csv\")\n",
    "# Review the DataFrame\n",
    "df.head()"
   ]
  },
  {
   "cell_type": "code",
   "execution_count": 183,
   "metadata": {},
   "outputs": [],
   "source": [
    "# Separate the y variable, the labels\n",
    "# YOUR CODE HERE!]\n",
    "y = df[\"player_name\"]\n",
    "# Separate the X variable, the features\n",
    "x = df.drop(columns=\"Unnamed: 0\")\n",
    "# YOUR CODE HERE!"
   ]
  },
  {
   "cell_type": "code",
   "execution_count": 184,
   "metadata": {},
   "outputs": [
    {
     "name": "stdout",
     "output_type": "stream",
     "text": [
      "0            LeBron James\n",
      "1            LeBron James\n",
      "2          Tyson Chandler\n",
      "3          Tyson Chandler\n",
      "4         Carmelo Anthony\n",
      "              ...        \n",
      "194            Quinn Cook\n",
      "195            Quinn Cook\n",
      "196    Shaquille Harrison\n",
      "197         Edmond Sumner\n",
      "198          Torrey Craig\n",
      "Name: player_name, Length: 199, dtype: object\n"
     ]
    }
   ],
   "source": [
    "# Review the y variable Series\n",
    "print(y)"
   ]
  },
  {
   "cell_type": "code",
   "execution_count": 185,
   "metadata": {},
   "outputs": [
    {
     "name": "stdout",
     "output_type": "stream",
     "text": [
      "     Unnamed: 0  0304_salary_adjusted  0405_salary_adjusted  \\\n",
      "0             0               6482581               6748393   \n",
      "1             1               6482581               6748393   \n",
      "2             2               6136492               7499311   \n",
      "3             3               6136492               7499311   \n",
      "4             4               5208750               5422257   \n",
      "..          ...                   ...                   ...   \n",
      "194         194                     0                     0   \n",
      "195         195                     0                     0   \n",
      "196         196                     0                     0   \n",
      "197         197                     0                     0   \n",
      "198         198                     0                     0   \n",
      "\n",
      "     0506_salary_adjusted  0607_salary_adjusted  0708_salary_adjusted  \\\n",
      "0                 7041080               8511223              18546814   \n",
      "1                 7041080               8511223              18546814   \n",
      "2                13711048              13362472              14577195   \n",
      "3                13711048              13362472              14577195   \n",
      "4                 5657544               6855081              18546814   \n",
      "..                    ...                   ...                   ...   \n",
      "194                     0                     0                     0   \n",
      "195                     0                     0                     0   \n",
      "196                     0                     0                     0   \n",
      "197                     0                     0                     0   \n",
      "198                     0                     0                     0   \n",
      "\n",
      "     0809_salary_adjusted  0910_salary_adjusted  1011_salary_adjusted  \\\n",
      "0                19514263              21677854              19711923   \n",
      "1                19514263              21677854              19711923   \n",
      "2                15369740              16279088              17128982   \n",
      "3                15369740              16279088              17128982   \n",
      "4                19514263              21677854              23313418   \n",
      "..                    ...                   ...                   ...   \n",
      "194                     0                     0                     0   \n",
      "195                     0                     0                     0   \n",
      "196                     0                     0                     0   \n",
      "197                     0                     0                     0   \n",
      "198                     0                     0                     0   \n",
      "\n",
      "     1112_salary_adjusted  ...  FT%  OREB  DREB  REB  AST  TOV  STL  BLK   PF  \\\n",
      "0                21033142  ...   73   111   454  565  514  249  104   49  143   \n",
      "1                21033142  ...   71    51   365  416  511  272  109   49  135   \n",
      "2                17206990  ...   73   206   486  692   32   88   36   80  240   \n",
      "3                17206990  ...   72   294   570  864   84  105   42   91  169   \n",
      "4                24309802  ...   84   145   477  622  242  198   95   51  224   \n",
      "..                    ...  ...  ...   ...   ...  ...  ...  ...  ...  ...  ...   \n",
      "194                     0  ...   76    22   135  157  116   50   20    3   92   \n",
      "195                     0  ...   40     1     6    7   26   13    4    0   13   \n",
      "196                     0  ...   73     9    52   61   55   22   26    7   42   \n",
      "197                     0  ...    0     0     1    1    0    0    0    0    1   \n",
      "198                     0  ...   62    40    87  127   25   20   12   15   63   \n",
      "\n",
      "     +/-  \n",
      "0    618  \n",
      "1    541  \n",
      "2    295  \n",
      "3    230  \n",
      "4    104  \n",
      "..   ...  \n",
      "194 -133  \n",
      "195  -41  \n",
      "196   47  \n",
      "197   -6  \n",
      "198  -61  \n",
      "\n",
      "[199 rows x 52 columns]\n"
     ]
    }
   ],
   "source": [
    "# Review the X variable DataFrame\n",
    "print(x)\n"
   ]
  },
  {
   "cell_type": "code",
   "execution_count": 186,
   "metadata": {},
   "outputs": [
    {
     "name": "stdout",
     "output_type": "stream",
     "text": [
      "Kevin Durant        4\n",
      "Avery Bradley       3\n",
      "Paul Millsap        3\n",
      "Austin Rivers       3\n",
      "Danilo Gallinari    3\n",
      "                   ..\n",
      "Tristan Thompson    1\n",
      "Enes Kanter         1\n",
      "Kyrie Irving        1\n",
      "Patrick Beverley    1\n",
      "Torrey Craig        1\n",
      "Name: player_name, Length: 138, dtype: int64\n"
     ]
    }
   ],
   "source": [
    "# Check the balance of our target values\n",
    "print(y.value_counts())"
   ]
  },
  {
   "cell_type": "code",
   "execution_count": 192,
   "metadata": {},
   "outputs": [],
   "source": [
    "# Generate some example data (replace this with your actual data)\n",
    "X = np.random.rand(100, 5)  # Example feature matrix with 100 samples and 5 features\n",
    "y = np.random.randint(2, size=100)  # Example binary target variable (0 or 1)\n",
    "\n",
    "# Split the data using train_test_split\n",
    "# Assign a random_state of 1 to the function\n",
    "X_train, X_test, y_train, y_test = train_test_split(X, \n",
    "                                                    y, \n",
    "                                                    random_state=1, \n",
    "                                                    stratify=y)\n",
    "\n"
   ]
  },
  {
   "cell_type": "code",
   "execution_count": 193,
   "metadata": {},
   "outputs": [
    {
     "data": {
      "text/html": [
       "<style>#sk-container-id-10 {color: black;background-color: white;}#sk-container-id-10 pre{padding: 0;}#sk-container-id-10 div.sk-toggleable {background-color: white;}#sk-container-id-10 label.sk-toggleable__label {cursor: pointer;display: block;width: 100%;margin-bottom: 0;padding: 0.3em;box-sizing: border-box;text-align: center;}#sk-container-id-10 label.sk-toggleable__label-arrow:before {content: \"▸\";float: left;margin-right: 0.25em;color: #696969;}#sk-container-id-10 label.sk-toggleable__label-arrow:hover:before {color: black;}#sk-container-id-10 div.sk-estimator:hover label.sk-toggleable__label-arrow:before {color: black;}#sk-container-id-10 div.sk-toggleable__content {max-height: 0;max-width: 0;overflow: hidden;text-align: left;background-color: #f0f8ff;}#sk-container-id-10 div.sk-toggleable__content pre {margin: 0.2em;color: black;border-radius: 0.25em;background-color: #f0f8ff;}#sk-container-id-10 input.sk-toggleable__control:checked~div.sk-toggleable__content {max-height: 200px;max-width: 100%;overflow: auto;}#sk-container-id-10 input.sk-toggleable__control:checked~label.sk-toggleable__label-arrow:before {content: \"▾\";}#sk-container-id-10 div.sk-estimator input.sk-toggleable__control:checked~label.sk-toggleable__label {background-color: #d4ebff;}#sk-container-id-10 div.sk-label input.sk-toggleable__control:checked~label.sk-toggleable__label {background-color: #d4ebff;}#sk-container-id-10 input.sk-hidden--visually {border: 0;clip: rect(1px 1px 1px 1px);clip: rect(1px, 1px, 1px, 1px);height: 1px;margin: -1px;overflow: hidden;padding: 0;position: absolute;width: 1px;}#sk-container-id-10 div.sk-estimator {font-family: monospace;background-color: #f0f8ff;border: 1px dotted black;border-radius: 0.25em;box-sizing: border-box;margin-bottom: 0.5em;}#sk-container-id-10 div.sk-estimator:hover {background-color: #d4ebff;}#sk-container-id-10 div.sk-parallel-item::after {content: \"\";width: 100%;border-bottom: 1px solid gray;flex-grow: 1;}#sk-container-id-10 div.sk-label:hover label.sk-toggleable__label {background-color: #d4ebff;}#sk-container-id-10 div.sk-serial::before {content: \"\";position: absolute;border-left: 1px solid gray;box-sizing: border-box;top: 0;bottom: 0;left: 50%;z-index: 0;}#sk-container-id-10 div.sk-serial {display: flex;flex-direction: column;align-items: center;background-color: white;padding-right: 0.2em;padding-left: 0.2em;position: relative;}#sk-container-id-10 div.sk-item {position: relative;z-index: 1;}#sk-container-id-10 div.sk-parallel {display: flex;align-items: stretch;justify-content: center;background-color: white;position: relative;}#sk-container-id-10 div.sk-item::before, #sk-container-id-10 div.sk-parallel-item::before {content: \"\";position: absolute;border-left: 1px solid gray;box-sizing: border-box;top: 0;bottom: 0;left: 50%;z-index: -1;}#sk-container-id-10 div.sk-parallel-item {display: flex;flex-direction: column;z-index: 1;position: relative;background-color: white;}#sk-container-id-10 div.sk-parallel-item:first-child::after {align-self: flex-end;width: 50%;}#sk-container-id-10 div.sk-parallel-item:last-child::after {align-self: flex-start;width: 50%;}#sk-container-id-10 div.sk-parallel-item:only-child::after {width: 0;}#sk-container-id-10 div.sk-dashed-wrapped {border: 1px dashed gray;margin: 0 0.4em 0.5em 0.4em;box-sizing: border-box;padding-bottom: 0.4em;background-color: white;}#sk-container-id-10 div.sk-label label {font-family: monospace;font-weight: bold;display: inline-block;line-height: 1.2em;}#sk-container-id-10 div.sk-label-container {text-align: center;}#sk-container-id-10 div.sk-container {/* jupyter's `normalize.less` sets `[hidden] { display: none; }` but bootstrap.min.css set `[hidden] { display: none !important; }` so we also need the `!important` here to be able to override the default hidden behavior on the sphinx rendered scikit-learn.org. See: https://github.com/scikit-learn/scikit-learn/issues/21755 */display: inline-block !important;position: relative;}#sk-container-id-10 div.sk-text-repr-fallback {display: none;}</style><div id=\"sk-container-id-10\" class=\"sk-top-container\"><div class=\"sk-text-repr-fallback\"><pre>LogisticRegression(random_state=1)</pre><b>In a Jupyter environment, please rerun this cell to show the HTML representation or trust the notebook. <br />On GitHub, the HTML representation is unable to render, please try loading this page with nbviewer.org.</b></div><div class=\"sk-container\" hidden><div class=\"sk-item\"><div class=\"sk-estimator sk-toggleable\"><input class=\"sk-toggleable__control sk-hidden--visually\" id=\"sk-estimator-id-10\" type=\"checkbox\" checked><label for=\"sk-estimator-id-10\" class=\"sk-toggleable__label sk-toggleable__label-arrow\">LogisticRegression</label><div class=\"sk-toggleable__content\"><pre>LogisticRegression(random_state=1)</pre></div></div></div></div></div>"
      ],
      "text/plain": [
       "LogisticRegression(random_state=1)"
      ]
     },
     "execution_count": 193,
     "metadata": {},
     "output_type": "execute_result"
    }
   ],
   "source": [
    "# Import the LogisticRegression module from SKLearn\n",
    "from sklearn.linear_model import LogisticRegression\n",
    "\n",
    "# Instantiate the Logistic Regression model\n",
    "# Assign a random_state parameter of 1 to the model\n",
    "classifier = LogisticRegression(solver='lbfgs', random_state=1)\n",
    "# Fit the model using training data\n",
    "classifier.fit(X_train,y_train)"
   ]
  },
  {
   "cell_type": "code",
   "execution_count": 194,
   "metadata": {},
   "outputs": [
    {
     "data": {
      "text/html": [
       "<div>\n",
       "<style scoped>\n",
       "    .dataframe tbody tr th:only-of-type {\n",
       "        vertical-align: middle;\n",
       "    }\n",
       "\n",
       "    .dataframe tbody tr th {\n",
       "        vertical-align: top;\n",
       "    }\n",
       "\n",
       "    .dataframe thead th {\n",
       "        text-align: right;\n",
       "    }\n",
       "</style>\n",
       "<table border=\"1\" class=\"dataframe\">\n",
       "  <thead>\n",
       "    <tr style=\"text-align: right;\">\n",
       "      <th></th>\n",
       "      <th>Prediction</th>\n",
       "      <th>Actual</th>\n",
       "    </tr>\n",
       "  </thead>\n",
       "  <tbody>\n",
       "    <tr>\n",
       "      <th>0</th>\n",
       "      <td>1</td>\n",
       "      <td>1</td>\n",
       "    </tr>\n",
       "    <tr>\n",
       "      <th>1</th>\n",
       "      <td>0</td>\n",
       "      <td>0</td>\n",
       "    </tr>\n",
       "    <tr>\n",
       "      <th>2</th>\n",
       "      <td>0</td>\n",
       "      <td>1</td>\n",
       "    </tr>\n",
       "    <tr>\n",
       "      <th>3</th>\n",
       "      <td>0</td>\n",
       "      <td>1</td>\n",
       "    </tr>\n",
       "    <tr>\n",
       "      <th>4</th>\n",
       "      <td>0</td>\n",
       "      <td>1</td>\n",
       "    </tr>\n",
       "    <tr>\n",
       "      <th>5</th>\n",
       "      <td>0</td>\n",
       "      <td>0</td>\n",
       "    </tr>\n",
       "    <tr>\n",
       "      <th>6</th>\n",
       "      <td>0</td>\n",
       "      <td>0</td>\n",
       "    </tr>\n",
       "    <tr>\n",
       "      <th>7</th>\n",
       "      <td>0</td>\n",
       "      <td>1</td>\n",
       "    </tr>\n",
       "    <tr>\n",
       "      <th>8</th>\n",
       "      <td>0</td>\n",
       "      <td>1</td>\n",
       "    </tr>\n",
       "    <tr>\n",
       "      <th>9</th>\n",
       "      <td>0</td>\n",
       "      <td>0</td>\n",
       "    </tr>\n",
       "    <tr>\n",
       "      <th>10</th>\n",
       "      <td>0</td>\n",
       "      <td>0</td>\n",
       "    </tr>\n",
       "    <tr>\n",
       "      <th>11</th>\n",
       "      <td>0</td>\n",
       "      <td>1</td>\n",
       "    </tr>\n",
       "    <tr>\n",
       "      <th>12</th>\n",
       "      <td>0</td>\n",
       "      <td>1</td>\n",
       "    </tr>\n",
       "    <tr>\n",
       "      <th>13</th>\n",
       "      <td>1</td>\n",
       "      <td>0</td>\n",
       "    </tr>\n",
       "    <tr>\n",
       "      <th>14</th>\n",
       "      <td>0</td>\n",
       "      <td>1</td>\n",
       "    </tr>\n",
       "    <tr>\n",
       "      <th>15</th>\n",
       "      <td>1</td>\n",
       "      <td>0</td>\n",
       "    </tr>\n",
       "    <tr>\n",
       "      <th>16</th>\n",
       "      <td>0</td>\n",
       "      <td>0</td>\n",
       "    </tr>\n",
       "    <tr>\n",
       "      <th>17</th>\n",
       "      <td>0</td>\n",
       "      <td>0</td>\n",
       "    </tr>\n",
       "    <tr>\n",
       "      <th>18</th>\n",
       "      <td>0</td>\n",
       "      <td>0</td>\n",
       "    </tr>\n",
       "    <tr>\n",
       "      <th>19</th>\n",
       "      <td>0</td>\n",
       "      <td>0</td>\n",
       "    </tr>\n",
       "    <tr>\n",
       "      <th>20</th>\n",
       "      <td>0</td>\n",
       "      <td>1</td>\n",
       "    </tr>\n",
       "    <tr>\n",
       "      <th>21</th>\n",
       "      <td>0</td>\n",
       "      <td>0</td>\n",
       "    </tr>\n",
       "    <tr>\n",
       "      <th>22</th>\n",
       "      <td>1</td>\n",
       "      <td>0</td>\n",
       "    </tr>\n",
       "    <tr>\n",
       "      <th>23</th>\n",
       "      <td>1</td>\n",
       "      <td>0</td>\n",
       "    </tr>\n",
       "    <tr>\n",
       "      <th>24</th>\n",
       "      <td>0</td>\n",
       "      <td>1</td>\n",
       "    </tr>\n",
       "  </tbody>\n",
       "</table>\n",
       "</div>"
      ],
      "text/plain": [
       "    Prediction  Actual\n",
       "0            1       1\n",
       "1            0       0\n",
       "2            0       1\n",
       "3            0       1\n",
       "4            0       1\n",
       "5            0       0\n",
       "6            0       0\n",
       "7            0       1\n",
       "8            0       1\n",
       "9            0       0\n",
       "10           0       0\n",
       "11           0       1\n",
       "12           0       1\n",
       "13           1       0\n",
       "14           0       1\n",
       "15           1       0\n",
       "16           0       0\n",
       "17           0       0\n",
       "18           0       0\n",
       "19           0       0\n",
       "20           0       1\n",
       "21           0       0\n",
       "22           1       0\n",
       "23           1       0\n",
       "24           0       1"
      ]
     },
     "execution_count": 194,
     "metadata": {},
     "output_type": "execute_result"
    }
   ],
   "source": [
    "predictions = classifier.predict(X_test)\n",
    "pd.DataFrame({\"Prediction\": predictions, \"Actual\": y_test})"
   ]
  },
  {
   "cell_type": "code",
   "execution_count": 195,
   "metadata": {},
   "outputs": [
    {
     "name": "stdout",
     "output_type": "stream",
     "text": [
      "balanced accuracy score of the model is : 0.4025974025974026\n"
     ]
    }
   ],
   "source": [
    "# Print the balanced_accuracy score of the model\n",
    "print( f'balanced accuracy score of the model is : {balanced_accuracy_score(y_test, predictions)}')"
   ]
  },
  {
   "cell_type": "code",
   "execution_count": 196,
   "metadata": {},
   "outputs": [
    {
     "data": {
      "text/plain": [
       "array([[10,  4],\n",
       "       [10,  1]], dtype=int64)"
      ]
     },
     "execution_count": 196,
     "metadata": {},
     "output_type": "execute_result"
    }
   ],
   "source": [
    "test_matrix = confusion_matrix(y_test, predictions)\n",
    "test_matrix"
   ]
  },
  {
   "cell_type": "code",
   "execution_count": 199,
   "metadata": {},
   "outputs": [],
   "source": [
    "from imblearn.over_sampling import RandomOverSampler\n",
    "\n",
    "# Instantiate the random oversampler model\n",
    "# # Assign a random_state parameter of 1 to the model\n",
    "random_over_sampler = RandomOverSampler(random_state=1)\n",
    "\n",
    "# Fit the original training data to the random_oversampler model\n",
    "X_resampled, y_resampled = random_over_sampler.fit_resample(X_train, y_train)"
   ]
  },
  {
   "cell_type": "code",
   "execution_count": 200,
   "metadata": {},
   "outputs": [
    {
     "name": "stdout",
     "output_type": "stream",
     "text": [
      "              precision    recall  f1-score   support\n",
      "\n",
      "           0       0.50      0.71      0.59        14\n",
      "           1       0.20      0.09      0.13        11\n",
      "\n",
      "    accuracy                           0.44        25\n",
      "   macro avg       0.35      0.40      0.36        25\n",
      "weighted avg       0.37      0.44      0.38        25\n",
      "\n"
     ]
    }
   ],
   "source": [
    "testing_report = classification_report(y_test, predictions)\n",
    "print(testing_report)"
   ]
  },
  {
   "cell_type": "code",
   "execution_count": 201,
   "metadata": {},
   "outputs": [],
   "source": [
    "# Instantiate the Logistic Regression model\n",
    "# Assign a random_state parameter of 1 to the model\n",
    "\n",
    "classifier = LogisticRegression(solver='lbfgs', random_state=1)\n",
    "\n",
    "# Fit the model using the resampled training data\n",
    "\n",
    "classifier.fit(X_resampled, y_resampled)\n",
    "\n",
    "# Make a prediction using the testing data\n",
    "pred_resampled = classifier.predict(X_resampled)"
   ]
  },
  {
   "cell_type": "code",
   "execution_count": 202,
   "metadata": {},
   "outputs": [
    {
     "name": "stdout",
     "output_type": "stream",
     "text": [
      "balanced accuracy score of the resampled model is : 0.5975609756097562\n"
     ]
    }
   ],
   "source": [
    "print( f'balanced accuracy score of the resampled model is : {balanced_accuracy_score(y_resampled, pred_resampled)}')"
   ]
  },
  {
   "cell_type": "code",
   "execution_count": 203,
   "metadata": {},
   "outputs": [
    {
     "data": {
      "text/plain": [
       "array([[26, 15],\n",
       "       [18, 23]], dtype=int64)"
      ]
     },
     "execution_count": 203,
     "metadata": {},
     "output_type": "execute_result"
    }
   ],
   "source": [
    "# Generate a confusion matrix for the model\n",
    "Conf_matrix = confusion_matrix(y_resampled, pred_resampled)\n",
    "Conf_matrix"
   ]
  },
  {
   "cell_type": "code",
   "execution_count": 204,
   "metadata": {},
   "outputs": [
    {
     "name": "stdout",
     "output_type": "stream",
     "text": [
      "              precision    recall  f1-score   support\n",
      "\n",
      "           0       0.59      0.63      0.61        41\n",
      "           1       0.61      0.56      0.58        41\n",
      "\n",
      "    accuracy                           0.60        82\n",
      "   macro avg       0.60      0.60      0.60        82\n",
      "weighted avg       0.60      0.60      0.60        82\n",
      "\n"
     ]
    }
   ],
   "source": [
    "resampled_report = classification_report(y_resampled, pred_resampled)\n",
    "print(resampled_report)"
   ]
  },
  {
   "cell_type": "code",
   "execution_count": null,
   "metadata": {},
   "outputs": [],
   "source": []
  }
 ],
 "metadata": {
  "kernelspec": {
   "display_name": "Python 3 (ipykernel)",
   "language": "python",
   "name": "python3"
  },
  "language_info": {
   "codemirror_mode": {
    "name": "ipython",
    "version": 3
   },
   "file_extension": ".py",
   "mimetype": "text/x-python",
   "name": "python",
   "nbconvert_exporter": "python",
   "pygments_lexer": "ipython3",
   "version": "3.10.9"
  },
  "nteract": {
   "version": "0.28.0"
  },
  "vscode": {
   "interpreter": {
    "hash": "40d3a090f54c6569ab1632332b64b2c03c39dcf918b08424e98f38b5ae0af88f"
   }
  }
 },
 "nbformat": 4,
 "nbformat_minor": 4
}
