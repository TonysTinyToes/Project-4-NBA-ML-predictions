{
  "nbformat": 4,
  "nbformat_minor": 0,
  "metadata": {
    "colab": {
      "provenance": [],
      "authorship_tag": "ABX9TyMDIql41xtaanFMTkms8yMC",
      "include_colab_link": true
    },
    "kernelspec": {
      "name": "python3",
      "display_name": "Python 3"
    },
    "language_info": {
      "name": "python"
    }
  },
  "cells": [
    {
      "cell_type": "markdown",
      "metadata": {
        "id": "view-in-github",
        "colab_type": "text"
      },
      "source": [
        "<a href=\"https://colab.research.google.com/github/TonysTinyToes/Project-4-NBA-ML-predictions/blob/SteliosKosmidis-patch-1/Untitled0.ipynb\" target=\"_parent\"><img src=\"https://colab.research.google.com/assets/colab-badge.svg\" alt=\"Open In Colab\"/></a>"
      ]
    },
    {
      "cell_type": "code",
      "source": [
        "from sklearn.model_selection import train_test_split\n",
        "from sklearn.preprocessing import StandardScaler, MinMaxScaler\n",
        "from sklearn.decomposition import PCA\n",
        "from sklearn.linear_model import LinearRegression\n",
        "from sklearn.linear_model import SGDRegressor\n",
        "from sklearn.metrics import mean_absolute_error, mean_squared_error, r2_score\n",
        "import pandas as pd\n",
        "import numpy as np\n",
        "from matplotlib import pyplot as plt\n",
        "import sqlite3"
      ],
      "metadata": {
        "id": "DnldzLT0gOhK"
      },
      "execution_count": 2,
      "outputs": []
    },
    {
      "cell_type": "code",
      "source": [
        "conn = sqlite3.connect('nba_databas.sql')\n",
        "\n",
        "sql_query = pd.read_sql_query ('''\n",
        "                               SELECT\n",
        "                               *\n",
        "                               FROM products\n",
        "                               ''', conn)\n",
        "\n",
        "df = pd.DataFrame(sql_query, columns = ['product_id', 'product_name', 'price'])\n",
        "print (df)\n",
        "\n",
        "# # Load the data into a Pandas DataFrame\n",
        "# df_player_data = pd.read_csv(\n",
        "#     \"Resources/freeagent_2024_salary.csv\")\n",
        "\n",
        "# # Display sample data\n",
        "# df_player_data.head()"
      ],
      "metadata": {
        "id": "Gs7_G7IKlrND"
      },
      "execution_count": null,
      "outputs": []
    },
    {
      "cell_type": "code",
      "source": [
        "data=pd.read_csv('/content/sample_data/player_info_reduced.csv')"
      ],
      "metadata": {
        "id": "7y1Pf8h1qjEF"
      },
      "execution_count": 28,
      "outputs": []
    },
    {
      "cell_type": "code",
      "source": [
        "data.head()"
      ],
      "metadata": {
        "colab": {
          "base_uri": "https://localhost:8080/",
          "height": 359
        },
        "id": "MeOKE4oAq30i",
        "outputId": "92dfaba7-544b-483c-d05f-e9c0878bd7b1"
      },
      "execution_count": 30,
      "outputs": [
        {
          "output_type": "execute_result",
          "data": {
            "text/plain": [
              "   Unnamed: 0      player_name  0304_salary_adjusted  0405_salary_adjusted  \\\n",
              "0           0     LeBron James               6482581               6748393   \n",
              "1           1     LeBron James               6482581               6748393   \n",
              "2           2   Tyson Chandler               6136492               7499311   \n",
              "3           3   Tyson Chandler               6136492               7499311   \n",
              "4           4  Carmelo Anthony               5208750               5422257   \n",
              "\n",
              "   0506_salary_adjusted  0607_salary_adjusted  0708_salary_adjusted  \\\n",
              "0               7041080               8511223              18546814   \n",
              "1               7041080               8511223              18546814   \n",
              "2              13711048              13362472              14577195   \n",
              "3              13711048              13362472              14577195   \n",
              "4               5657544               6855081              18546814   \n",
              "\n",
              "   0809_salary_adjusted  0910_salary_adjusted  1011_salary_adjusted  ...  FT%  \\\n",
              "0              19514263              21677854              19711923  ...   73   \n",
              "1              19514263              21677854              19711923  ...   71   \n",
              "2              15369740              16279088              17128982  ...   73   \n",
              "3              15369740              16279088              17128982  ...   72   \n",
              "4              19514263              21677854              23313418  ...   84   \n",
              "\n",
              "   OREB  DREB  REB  AST  TOV  STL  BLK   PF  +/-  \n",
              "0   111   454  565  514  249  104   49  143  618  \n",
              "1    51   365  416  511  272  109   49  135  541  \n",
              "2   206   486  692   32   88   36   80  240  295  \n",
              "3   294   570  864   84  105   42   91  169  230  \n",
              "4   145   477  622  242  198   95   51  224  104  \n",
              "\n",
              "[5 rows x 53 columns]"
            ],
            "text/html": [
              "\n",
              "  <div id=\"df-98bace96-ec29-4a35-9bd8-b3c0406e0ebf\" class=\"colab-df-container\">\n",
              "    <div>\n",
              "<style scoped>\n",
              "    .dataframe tbody tr th:only-of-type {\n",
              "        vertical-align: middle;\n",
              "    }\n",
              "\n",
              "    .dataframe tbody tr th {\n",
              "        vertical-align: top;\n",
              "    }\n",
              "\n",
              "    .dataframe thead th {\n",
              "        text-align: right;\n",
              "    }\n",
              "</style>\n",
              "<table border=\"1\" class=\"dataframe\">\n",
              "  <thead>\n",
              "    <tr style=\"text-align: right;\">\n",
              "      <th></th>\n",
              "      <th>Unnamed: 0</th>\n",
              "      <th>player_name</th>\n",
              "      <th>0304_salary_adjusted</th>\n",
              "      <th>0405_salary_adjusted</th>\n",
              "      <th>0506_salary_adjusted</th>\n",
              "      <th>0607_salary_adjusted</th>\n",
              "      <th>0708_salary_adjusted</th>\n",
              "      <th>0809_salary_adjusted</th>\n",
              "      <th>0910_salary_adjusted</th>\n",
              "      <th>1011_salary_adjusted</th>\n",
              "      <th>...</th>\n",
              "      <th>FT%</th>\n",
              "      <th>OREB</th>\n",
              "      <th>DREB</th>\n",
              "      <th>REB</th>\n",
              "      <th>AST</th>\n",
              "      <th>TOV</th>\n",
              "      <th>STL</th>\n",
              "      <th>BLK</th>\n",
              "      <th>PF</th>\n",
              "      <th>+/-</th>\n",
              "    </tr>\n",
              "  </thead>\n",
              "  <tbody>\n",
              "    <tr>\n",
              "      <th>0</th>\n",
              "      <td>0</td>\n",
              "      <td>LeBron James</td>\n",
              "      <td>6482581</td>\n",
              "      <td>6748393</td>\n",
              "      <td>7041080</td>\n",
              "      <td>8511223</td>\n",
              "      <td>18546814</td>\n",
              "      <td>19514263</td>\n",
              "      <td>21677854</td>\n",
              "      <td>19711923</td>\n",
              "      <td>...</td>\n",
              "      <td>73</td>\n",
              "      <td>111</td>\n",
              "      <td>454</td>\n",
              "      <td>565</td>\n",
              "      <td>514</td>\n",
              "      <td>249</td>\n",
              "      <td>104</td>\n",
              "      <td>49</td>\n",
              "      <td>143</td>\n",
              "      <td>618</td>\n",
              "    </tr>\n",
              "    <tr>\n",
              "      <th>1</th>\n",
              "      <td>1</td>\n",
              "      <td>LeBron James</td>\n",
              "      <td>6482581</td>\n",
              "      <td>6748393</td>\n",
              "      <td>7041080</td>\n",
              "      <td>8511223</td>\n",
              "      <td>18546814</td>\n",
              "      <td>19514263</td>\n",
              "      <td>21677854</td>\n",
              "      <td>19711923</td>\n",
              "      <td>...</td>\n",
              "      <td>71</td>\n",
              "      <td>51</td>\n",
              "      <td>365</td>\n",
              "      <td>416</td>\n",
              "      <td>511</td>\n",
              "      <td>272</td>\n",
              "      <td>109</td>\n",
              "      <td>49</td>\n",
              "      <td>135</td>\n",
              "      <td>541</td>\n",
              "    </tr>\n",
              "    <tr>\n",
              "      <th>2</th>\n",
              "      <td>2</td>\n",
              "      <td>Tyson Chandler</td>\n",
              "      <td>6136492</td>\n",
              "      <td>7499311</td>\n",
              "      <td>13711048</td>\n",
              "      <td>13362472</td>\n",
              "      <td>14577195</td>\n",
              "      <td>15369740</td>\n",
              "      <td>16279088</td>\n",
              "      <td>17128982</td>\n",
              "      <td>...</td>\n",
              "      <td>73</td>\n",
              "      <td>206</td>\n",
              "      <td>486</td>\n",
              "      <td>692</td>\n",
              "      <td>32</td>\n",
              "      <td>88</td>\n",
              "      <td>36</td>\n",
              "      <td>80</td>\n",
              "      <td>240</td>\n",
              "      <td>295</td>\n",
              "    </tr>\n",
              "    <tr>\n",
              "      <th>3</th>\n",
              "      <td>3</td>\n",
              "      <td>Tyson Chandler</td>\n",
              "      <td>6136492</td>\n",
              "      <td>7499311</td>\n",
              "      <td>13711048</td>\n",
              "      <td>13362472</td>\n",
              "      <td>14577195</td>\n",
              "      <td>15369740</td>\n",
              "      <td>16279088</td>\n",
              "      <td>17128982</td>\n",
              "      <td>...</td>\n",
              "      <td>72</td>\n",
              "      <td>294</td>\n",
              "      <td>570</td>\n",
              "      <td>864</td>\n",
              "      <td>84</td>\n",
              "      <td>105</td>\n",
              "      <td>42</td>\n",
              "      <td>91</td>\n",
              "      <td>169</td>\n",
              "      <td>230</td>\n",
              "    </tr>\n",
              "    <tr>\n",
              "      <th>4</th>\n",
              "      <td>4</td>\n",
              "      <td>Carmelo Anthony</td>\n",
              "      <td>5208750</td>\n",
              "      <td>5422257</td>\n",
              "      <td>5657544</td>\n",
              "      <td>6855081</td>\n",
              "      <td>18546814</td>\n",
              "      <td>19514263</td>\n",
              "      <td>21677854</td>\n",
              "      <td>23313418</td>\n",
              "      <td>...</td>\n",
              "      <td>84</td>\n",
              "      <td>145</td>\n",
              "      <td>477</td>\n",
              "      <td>622</td>\n",
              "      <td>242</td>\n",
              "      <td>198</td>\n",
              "      <td>95</td>\n",
              "      <td>51</td>\n",
              "      <td>224</td>\n",
              "      <td>104</td>\n",
              "    </tr>\n",
              "  </tbody>\n",
              "</table>\n",
              "<p>5 rows × 53 columns</p>\n",
              "</div>\n",
              "    <div class=\"colab-df-buttons\">\n",
              "\n",
              "  <div class=\"colab-df-container\">\n",
              "    <button class=\"colab-df-convert\" onclick=\"convertToInteractive('df-98bace96-ec29-4a35-9bd8-b3c0406e0ebf')\"\n",
              "            title=\"Convert this dataframe to an interactive table.\"\n",
              "            style=\"display:none;\">\n",
              "\n",
              "  <svg xmlns=\"http://www.w3.org/2000/svg\" height=\"24px\" viewBox=\"0 -960 960 960\">\n",
              "    <path d=\"M120-120v-720h720v720H120Zm60-500h600v-160H180v160Zm220 220h160v-160H400v160Zm0 220h160v-160H400v160ZM180-400h160v-160H180v160Zm440 0h160v-160H620v160ZM180-180h160v-160H180v160Zm440 0h160v-160H620v160Z\"/>\n",
              "  </svg>\n",
              "    </button>\n",
              "\n",
              "  <style>\n",
              "    .colab-df-container {\n",
              "      display:flex;\n",
              "      gap: 12px;\n",
              "    }\n",
              "\n",
              "    .colab-df-convert {\n",
              "      background-color: #E8F0FE;\n",
              "      border: none;\n",
              "      border-radius: 50%;\n",
              "      cursor: pointer;\n",
              "      display: none;\n",
              "      fill: #1967D2;\n",
              "      height: 32px;\n",
              "      padding: 0 0 0 0;\n",
              "      width: 32px;\n",
              "    }\n",
              "\n",
              "    .colab-df-convert:hover {\n",
              "      background-color: #E2EBFA;\n",
              "      box-shadow: 0px 1px 2px rgba(60, 64, 67, 0.3), 0px 1px 3px 1px rgba(60, 64, 67, 0.15);\n",
              "      fill: #174EA6;\n",
              "    }\n",
              "\n",
              "    .colab-df-buttons div {\n",
              "      margin-bottom: 4px;\n",
              "    }\n",
              "\n",
              "    [theme=dark] .colab-df-convert {\n",
              "      background-color: #3B4455;\n",
              "      fill: #D2E3FC;\n",
              "    }\n",
              "\n",
              "    [theme=dark] .colab-df-convert:hover {\n",
              "      background-color: #434B5C;\n",
              "      box-shadow: 0px 1px 3px 1px rgba(0, 0, 0, 0.15);\n",
              "      filter: drop-shadow(0px 1px 2px rgba(0, 0, 0, 0.3));\n",
              "      fill: #FFFFFF;\n",
              "    }\n",
              "  </style>\n",
              "\n",
              "    <script>\n",
              "      const buttonEl =\n",
              "        document.querySelector('#df-98bace96-ec29-4a35-9bd8-b3c0406e0ebf button.colab-df-convert');\n",
              "      buttonEl.style.display =\n",
              "        google.colab.kernel.accessAllowed ? 'block' : 'none';\n",
              "\n",
              "      async function convertToInteractive(key) {\n",
              "        const element = document.querySelector('#df-98bace96-ec29-4a35-9bd8-b3c0406e0ebf');\n",
              "        const dataTable =\n",
              "          await google.colab.kernel.invokeFunction('convertToInteractive',\n",
              "                                                    [key], {});\n",
              "        if (!dataTable) return;\n",
              "\n",
              "        const docLinkHtml = 'Like what you see? Visit the ' +\n",
              "          '<a target=\"_blank\" href=https://colab.research.google.com/notebooks/data_table.ipynb>data table notebook</a>'\n",
              "          + ' to learn more about interactive tables.';\n",
              "        element.innerHTML = '';\n",
              "        dataTable['output_type'] = 'display_data';\n",
              "        await google.colab.output.renderOutput(dataTable, element);\n",
              "        const docLink = document.createElement('div');\n",
              "        docLink.innerHTML = docLinkHtml;\n",
              "        element.appendChild(docLink);\n",
              "      }\n",
              "    </script>\n",
              "  </div>\n",
              "\n",
              "\n",
              "<div id=\"df-f7245034-aa4a-41f5-800b-65a653563451\">\n",
              "  <button class=\"colab-df-quickchart\" onclick=\"quickchart('df-f7245034-aa4a-41f5-800b-65a653563451')\"\n",
              "            title=\"Suggest charts.\"\n",
              "            style=\"display:none;\">\n",
              "\n",
              "<svg xmlns=\"http://www.w3.org/2000/svg\" height=\"24px\"viewBox=\"0 0 24 24\"\n",
              "     width=\"24px\">\n",
              "    <g>\n",
              "        <path d=\"M19 3H5c-1.1 0-2 .9-2 2v14c0 1.1.9 2 2 2h14c1.1 0 2-.9 2-2V5c0-1.1-.9-2-2-2zM9 17H7v-7h2v7zm4 0h-2V7h2v10zm4 0h-2v-4h2v4z\"/>\n",
              "    </g>\n",
              "</svg>\n",
              "  </button>\n",
              "\n",
              "<style>\n",
              "  .colab-df-quickchart {\n",
              "    background-color: #E8F0FE;\n",
              "    border: none;\n",
              "    border-radius: 50%;\n",
              "    cursor: pointer;\n",
              "    display: none;\n",
              "    fill: #1967D2;\n",
              "    height: 32px;\n",
              "    padding: 0 0 0 0;\n",
              "    width: 32px;\n",
              "  }\n",
              "\n",
              "  .colab-df-quickchart:hover {\n",
              "    background-color: #E2EBFA;\n",
              "    box-shadow: 0px 1px 2px rgba(60, 64, 67, 0.3), 0px 1px 3px 1px rgba(60, 64, 67, 0.15);\n",
              "    fill: #174EA6;\n",
              "  }\n",
              "\n",
              "  [theme=dark] .colab-df-quickchart {\n",
              "    background-color: #3B4455;\n",
              "    fill: #D2E3FC;\n",
              "  }\n",
              "\n",
              "  [theme=dark] .colab-df-quickchart:hover {\n",
              "    background-color: #434B5C;\n",
              "    box-shadow: 0px 1px 3px 1px rgba(0, 0, 0, 0.15);\n",
              "    filter: drop-shadow(0px 1px 2px rgba(0, 0, 0, 0.3));\n",
              "    fill: #FFFFFF;\n",
              "  }\n",
              "</style>\n",
              "\n",
              "  <script>\n",
              "    async function quickchart(key) {\n",
              "      const charts = await google.colab.kernel.invokeFunction(\n",
              "          'suggestCharts', [key], {});\n",
              "    }\n",
              "    (() => {\n",
              "      let quickchartButtonEl =\n",
              "        document.querySelector('#df-f7245034-aa4a-41f5-800b-65a653563451 button');\n",
              "      quickchartButtonEl.style.display =\n",
              "        google.colab.kernel.accessAllowed ? 'block' : 'none';\n",
              "    })();\n",
              "  </script>\n",
              "</div>\n",
              "    </div>\n",
              "  </div>\n"
            ]
          },
          "metadata": {},
          "execution_count": 30
        }
      ]
    },
    {
      "cell_type": "code",
      "source": [
        "data = data.drop(columns=['Unnamed: 0', 'player_name','2526_salary_predicted', '2627_salary_predicted', 'AVG_SALARY',\n",
        "                         '1920_salary_adjusted','2021_salary_adjusted', '2122_salary_adjusted', '2223_salary_adjusted',\n",
        "                         '2324_salary', '2425_salary_predicted'])\n",
        "data"
      ],
      "metadata": {
        "colab": {
          "base_uri": "https://localhost:8080/",
          "height": 443
        },
        "id": "lAv_E3ptrZ2B",
        "outputId": "97327430-43a9-40a5-d0a6-fd6448485609"
      },
      "execution_count": 31,
      "outputs": [
        {
          "output_type": "execute_result",
          "data": {
            "text/plain": [
              "     0304_salary_adjusted  0405_salary_adjusted  0506_salary_adjusted  \\\n",
              "0                 6482581               6748393               7041080   \n",
              "1                 6482581               6748393               7041080   \n",
              "2                 6136492               7499311              13711048   \n",
              "3                 6136492               7499311              13711048   \n",
              "4                 5208750               5422257               5657544   \n",
              "..                    ...                   ...                   ...   \n",
              "194                     0                     0                     0   \n",
              "195                     0                     0                     0   \n",
              "196                     0                     0                     0   \n",
              "197                     0                     0                     0   \n",
              "198                     0                     0                     0   \n",
              "\n",
              "     0607_salary_adjusted  0708_salary_adjusted  0809_salary_adjusted  \\\n",
              "0                 8511223              18546814              19514263   \n",
              "1                 8511223              18546814              19514263   \n",
              "2                13362472              14577195              15369740   \n",
              "3                13362472              14577195              15369740   \n",
              "4                 6855081              18546814              19514263   \n",
              "..                    ...                   ...                   ...   \n",
              "194                     0                     0                     0   \n",
              "195                     0                     0                     0   \n",
              "196                     0                     0                     0   \n",
              "197                     0                     0                     0   \n",
              "198                     0                     0                     0   \n",
              "\n",
              "     0910_salary_adjusted  1011_salary_adjusted  1112_salary_adjusted  \\\n",
              "0                21677854              19711923              21033142   \n",
              "1                21677854              19711923              21033142   \n",
              "2                16279088              17128982              17206990   \n",
              "3                16279088              17128982              17206990   \n",
              "4                21677854              23313418              24309802   \n",
              "..                    ...                   ...                   ...   \n",
              "194                     0                     0                     0   \n",
              "195                     0                     0                     0   \n",
              "196                     0                     0                     0   \n",
              "197                     0                     0                     0   \n",
              "198                     0                     0                     0   \n",
              "\n",
              "     1213_salary_adjusted  ...  FT%  OREB  DREB  REB  AST  TOV  STL  BLK   PF  \\\n",
              "0                22654792  ...   73   111   454  565  514  249  104   49  143   \n",
              "1                22654792  ...   71    51   365  416  511  272  109   49  135   \n",
              "2                17566261  ...   73   206   486  692   32   88   36   80  240   \n",
              "3                17566261  ...   72   294   570  864   84  105   42   91  169   \n",
              "4                25114603  ...   84   145   477  622  242  198   95   51  224   \n",
              "..                    ...  ...  ...   ...   ...  ...  ...  ...  ...  ...  ...   \n",
              "194                     0  ...   76    22   135  157  116   50   20    3   92   \n",
              "195                     0  ...   40     1     6    7   26   13    4    0   13   \n",
              "196                     0  ...   73     9    52   61   55   22   26    7   42   \n",
              "197                     0  ...    0     0     1    1    0    0    0    0    1   \n",
              "198                     0  ...   62    40    87  127   25   20   12   15   63   \n",
              "\n",
              "     +/-  \n",
              "0    618  \n",
              "1    541  \n",
              "2    295  \n",
              "3    230  \n",
              "4    104  \n",
              "..   ...  \n",
              "194 -133  \n",
              "195  -41  \n",
              "196   47  \n",
              "197   -6  \n",
              "198  -61  \n",
              "\n",
              "[199 rows x 42 columns]"
            ],
            "text/html": [
              "\n",
              "  <div id=\"df-9888c228-2a62-4a4e-8b66-e58501205d48\" class=\"colab-df-container\">\n",
              "    <div>\n",
              "<style scoped>\n",
              "    .dataframe tbody tr th:only-of-type {\n",
              "        vertical-align: middle;\n",
              "    }\n",
              "\n",
              "    .dataframe tbody tr th {\n",
              "        vertical-align: top;\n",
              "    }\n",
              "\n",
              "    .dataframe thead th {\n",
              "        text-align: right;\n",
              "    }\n",
              "</style>\n",
              "<table border=\"1\" class=\"dataframe\">\n",
              "  <thead>\n",
              "    <tr style=\"text-align: right;\">\n",
              "      <th></th>\n",
              "      <th>0304_salary_adjusted</th>\n",
              "      <th>0405_salary_adjusted</th>\n",
              "      <th>0506_salary_adjusted</th>\n",
              "      <th>0607_salary_adjusted</th>\n",
              "      <th>0708_salary_adjusted</th>\n",
              "      <th>0809_salary_adjusted</th>\n",
              "      <th>0910_salary_adjusted</th>\n",
              "      <th>1011_salary_adjusted</th>\n",
              "      <th>1112_salary_adjusted</th>\n",
              "      <th>1213_salary_adjusted</th>\n",
              "      <th>...</th>\n",
              "      <th>FT%</th>\n",
              "      <th>OREB</th>\n",
              "      <th>DREB</th>\n",
              "      <th>REB</th>\n",
              "      <th>AST</th>\n",
              "      <th>TOV</th>\n",
              "      <th>STL</th>\n",
              "      <th>BLK</th>\n",
              "      <th>PF</th>\n",
              "      <th>+/-</th>\n",
              "    </tr>\n",
              "  </thead>\n",
              "  <tbody>\n",
              "    <tr>\n",
              "      <th>0</th>\n",
              "      <td>6482581</td>\n",
              "      <td>6748393</td>\n",
              "      <td>7041080</td>\n",
              "      <td>8511223</td>\n",
              "      <td>18546814</td>\n",
              "      <td>19514263</td>\n",
              "      <td>21677854</td>\n",
              "      <td>19711923</td>\n",
              "      <td>21033142</td>\n",
              "      <td>22654792</td>\n",
              "      <td>...</td>\n",
              "      <td>73</td>\n",
              "      <td>111</td>\n",
              "      <td>454</td>\n",
              "      <td>565</td>\n",
              "      <td>514</td>\n",
              "      <td>249</td>\n",
              "      <td>104</td>\n",
              "      <td>49</td>\n",
              "      <td>143</td>\n",
              "      <td>618</td>\n",
              "    </tr>\n",
              "    <tr>\n",
              "      <th>1</th>\n",
              "      <td>6482581</td>\n",
              "      <td>6748393</td>\n",
              "      <td>7041080</td>\n",
              "      <td>8511223</td>\n",
              "      <td>18546814</td>\n",
              "      <td>19514263</td>\n",
              "      <td>21677854</td>\n",
              "      <td>19711923</td>\n",
              "      <td>21033142</td>\n",
              "      <td>22654792</td>\n",
              "      <td>...</td>\n",
              "      <td>71</td>\n",
              "      <td>51</td>\n",
              "      <td>365</td>\n",
              "      <td>416</td>\n",
              "      <td>511</td>\n",
              "      <td>272</td>\n",
              "      <td>109</td>\n",
              "      <td>49</td>\n",
              "      <td>135</td>\n",
              "      <td>541</td>\n",
              "    </tr>\n",
              "    <tr>\n",
              "      <th>2</th>\n",
              "      <td>6136492</td>\n",
              "      <td>7499311</td>\n",
              "      <td>13711048</td>\n",
              "      <td>13362472</td>\n",
              "      <td>14577195</td>\n",
              "      <td>15369740</td>\n",
              "      <td>16279088</td>\n",
              "      <td>17128982</td>\n",
              "      <td>17206990</td>\n",
              "      <td>17566261</td>\n",
              "      <td>...</td>\n",
              "      <td>73</td>\n",
              "      <td>206</td>\n",
              "      <td>486</td>\n",
              "      <td>692</td>\n",
              "      <td>32</td>\n",
              "      <td>88</td>\n",
              "      <td>36</td>\n",
              "      <td>80</td>\n",
              "      <td>240</td>\n",
              "      <td>295</td>\n",
              "    </tr>\n",
              "    <tr>\n",
              "      <th>3</th>\n",
              "      <td>6136492</td>\n",
              "      <td>7499311</td>\n",
              "      <td>13711048</td>\n",
              "      <td>13362472</td>\n",
              "      <td>14577195</td>\n",
              "      <td>15369740</td>\n",
              "      <td>16279088</td>\n",
              "      <td>17128982</td>\n",
              "      <td>17206990</td>\n",
              "      <td>17566261</td>\n",
              "      <td>...</td>\n",
              "      <td>72</td>\n",
              "      <td>294</td>\n",
              "      <td>570</td>\n",
              "      <td>864</td>\n",
              "      <td>84</td>\n",
              "      <td>105</td>\n",
              "      <td>42</td>\n",
              "      <td>91</td>\n",
              "      <td>169</td>\n",
              "      <td>230</td>\n",
              "    </tr>\n",
              "    <tr>\n",
              "      <th>4</th>\n",
              "      <td>5208750</td>\n",
              "      <td>5422257</td>\n",
              "      <td>5657544</td>\n",
              "      <td>6855081</td>\n",
              "      <td>18546814</td>\n",
              "      <td>19514263</td>\n",
              "      <td>21677854</td>\n",
              "      <td>23313418</td>\n",
              "      <td>24309802</td>\n",
              "      <td>25114603</td>\n",
              "      <td>...</td>\n",
              "      <td>84</td>\n",
              "      <td>145</td>\n",
              "      <td>477</td>\n",
              "      <td>622</td>\n",
              "      <td>242</td>\n",
              "      <td>198</td>\n",
              "      <td>95</td>\n",
              "      <td>51</td>\n",
              "      <td>224</td>\n",
              "      <td>104</td>\n",
              "    </tr>\n",
              "    <tr>\n",
              "      <th>...</th>\n",
              "      <td>...</td>\n",
              "      <td>...</td>\n",
              "      <td>...</td>\n",
              "      <td>...</td>\n",
              "      <td>...</td>\n",
              "      <td>...</td>\n",
              "      <td>...</td>\n",
              "      <td>...</td>\n",
              "      <td>...</td>\n",
              "      <td>...</td>\n",
              "      <td>...</td>\n",
              "      <td>...</td>\n",
              "      <td>...</td>\n",
              "      <td>...</td>\n",
              "      <td>...</td>\n",
              "      <td>...</td>\n",
              "      <td>...</td>\n",
              "      <td>...</td>\n",
              "      <td>...</td>\n",
              "      <td>...</td>\n",
              "      <td>...</td>\n",
              "    </tr>\n",
              "    <tr>\n",
              "      <th>194</th>\n",
              "      <td>0</td>\n",
              "      <td>0</td>\n",
              "      <td>0</td>\n",
              "      <td>0</td>\n",
              "      <td>0</td>\n",
              "      <td>0</td>\n",
              "      <td>0</td>\n",
              "      <td>0</td>\n",
              "      <td>0</td>\n",
              "      <td>0</td>\n",
              "      <td>...</td>\n",
              "      <td>76</td>\n",
              "      <td>22</td>\n",
              "      <td>135</td>\n",
              "      <td>157</td>\n",
              "      <td>116</td>\n",
              "      <td>50</td>\n",
              "      <td>20</td>\n",
              "      <td>3</td>\n",
              "      <td>92</td>\n",
              "      <td>-133</td>\n",
              "    </tr>\n",
              "    <tr>\n",
              "      <th>195</th>\n",
              "      <td>0</td>\n",
              "      <td>0</td>\n",
              "      <td>0</td>\n",
              "      <td>0</td>\n",
              "      <td>0</td>\n",
              "      <td>0</td>\n",
              "      <td>0</td>\n",
              "      <td>0</td>\n",
              "      <td>0</td>\n",
              "      <td>0</td>\n",
              "      <td>...</td>\n",
              "      <td>40</td>\n",
              "      <td>1</td>\n",
              "      <td>6</td>\n",
              "      <td>7</td>\n",
              "      <td>26</td>\n",
              "      <td>13</td>\n",
              "      <td>4</td>\n",
              "      <td>0</td>\n",
              "      <td>13</td>\n",
              "      <td>-41</td>\n",
              "    </tr>\n",
              "    <tr>\n",
              "      <th>196</th>\n",
              "      <td>0</td>\n",
              "      <td>0</td>\n",
              "      <td>0</td>\n",
              "      <td>0</td>\n",
              "      <td>0</td>\n",
              "      <td>0</td>\n",
              "      <td>0</td>\n",
              "      <td>0</td>\n",
              "      <td>0</td>\n",
              "      <td>0</td>\n",
              "      <td>...</td>\n",
              "      <td>73</td>\n",
              "      <td>9</td>\n",
              "      <td>52</td>\n",
              "      <td>61</td>\n",
              "      <td>55</td>\n",
              "      <td>22</td>\n",
              "      <td>26</td>\n",
              "      <td>7</td>\n",
              "      <td>42</td>\n",
              "      <td>47</td>\n",
              "    </tr>\n",
              "    <tr>\n",
              "      <th>197</th>\n",
              "      <td>0</td>\n",
              "      <td>0</td>\n",
              "      <td>0</td>\n",
              "      <td>0</td>\n",
              "      <td>0</td>\n",
              "      <td>0</td>\n",
              "      <td>0</td>\n",
              "      <td>0</td>\n",
              "      <td>0</td>\n",
              "      <td>0</td>\n",
              "      <td>...</td>\n",
              "      <td>0</td>\n",
              "      <td>0</td>\n",
              "      <td>1</td>\n",
              "      <td>1</td>\n",
              "      <td>0</td>\n",
              "      <td>0</td>\n",
              "      <td>0</td>\n",
              "      <td>0</td>\n",
              "      <td>1</td>\n",
              "      <td>-6</td>\n",
              "    </tr>\n",
              "    <tr>\n",
              "      <th>198</th>\n",
              "      <td>0</td>\n",
              "      <td>0</td>\n",
              "      <td>0</td>\n",
              "      <td>0</td>\n",
              "      <td>0</td>\n",
              "      <td>0</td>\n",
              "      <td>0</td>\n",
              "      <td>0</td>\n",
              "      <td>0</td>\n",
              "      <td>0</td>\n",
              "      <td>...</td>\n",
              "      <td>62</td>\n",
              "      <td>40</td>\n",
              "      <td>87</td>\n",
              "      <td>127</td>\n",
              "      <td>25</td>\n",
              "      <td>20</td>\n",
              "      <td>12</td>\n",
              "      <td>15</td>\n",
              "      <td>63</td>\n",
              "      <td>-61</td>\n",
              "    </tr>\n",
              "  </tbody>\n",
              "</table>\n",
              "<p>199 rows × 42 columns</p>\n",
              "</div>\n",
              "    <div class=\"colab-df-buttons\">\n",
              "\n",
              "  <div class=\"colab-df-container\">\n",
              "    <button class=\"colab-df-convert\" onclick=\"convertToInteractive('df-9888c228-2a62-4a4e-8b66-e58501205d48')\"\n",
              "            title=\"Convert this dataframe to an interactive table.\"\n",
              "            style=\"display:none;\">\n",
              "\n",
              "  <svg xmlns=\"http://www.w3.org/2000/svg\" height=\"24px\" viewBox=\"0 -960 960 960\">\n",
              "    <path d=\"M120-120v-720h720v720H120Zm60-500h600v-160H180v160Zm220 220h160v-160H400v160Zm0 220h160v-160H400v160ZM180-400h160v-160H180v160Zm440 0h160v-160H620v160ZM180-180h160v-160H180v160Zm440 0h160v-160H620v160Z\"/>\n",
              "  </svg>\n",
              "    </button>\n",
              "\n",
              "  <style>\n",
              "    .colab-df-container {\n",
              "      display:flex;\n",
              "      gap: 12px;\n",
              "    }\n",
              "\n",
              "    .colab-df-convert {\n",
              "      background-color: #E8F0FE;\n",
              "      border: none;\n",
              "      border-radius: 50%;\n",
              "      cursor: pointer;\n",
              "      display: none;\n",
              "      fill: #1967D2;\n",
              "      height: 32px;\n",
              "      padding: 0 0 0 0;\n",
              "      width: 32px;\n",
              "    }\n",
              "\n",
              "    .colab-df-convert:hover {\n",
              "      background-color: #E2EBFA;\n",
              "      box-shadow: 0px 1px 2px rgba(60, 64, 67, 0.3), 0px 1px 3px 1px rgba(60, 64, 67, 0.15);\n",
              "      fill: #174EA6;\n",
              "    }\n",
              "\n",
              "    .colab-df-buttons div {\n",
              "      margin-bottom: 4px;\n",
              "    }\n",
              "\n",
              "    [theme=dark] .colab-df-convert {\n",
              "      background-color: #3B4455;\n",
              "      fill: #D2E3FC;\n",
              "    }\n",
              "\n",
              "    [theme=dark] .colab-df-convert:hover {\n",
              "      background-color: #434B5C;\n",
              "      box-shadow: 0px 1px 3px 1px rgba(0, 0, 0, 0.15);\n",
              "      filter: drop-shadow(0px 1px 2px rgba(0, 0, 0, 0.3));\n",
              "      fill: #FFFFFF;\n",
              "    }\n",
              "  </style>\n",
              "\n",
              "    <script>\n",
              "      const buttonEl =\n",
              "        document.querySelector('#df-9888c228-2a62-4a4e-8b66-e58501205d48 button.colab-df-convert');\n",
              "      buttonEl.style.display =\n",
              "        google.colab.kernel.accessAllowed ? 'block' : 'none';\n",
              "\n",
              "      async function convertToInteractive(key) {\n",
              "        const element = document.querySelector('#df-9888c228-2a62-4a4e-8b66-e58501205d48');\n",
              "        const dataTable =\n",
              "          await google.colab.kernel.invokeFunction('convertToInteractive',\n",
              "                                                    [key], {});\n",
              "        if (!dataTable) return;\n",
              "\n",
              "        const docLinkHtml = 'Like what you see? Visit the ' +\n",
              "          '<a target=\"_blank\" href=https://colab.research.google.com/notebooks/data_table.ipynb>data table notebook</a>'\n",
              "          + ' to learn more about interactive tables.';\n",
              "        element.innerHTML = '';\n",
              "        dataTable['output_type'] = 'display_data';\n",
              "        await google.colab.output.renderOutput(dataTable, element);\n",
              "        const docLink = document.createElement('div');\n",
              "        docLink.innerHTML = docLinkHtml;\n",
              "        element.appendChild(docLink);\n",
              "      }\n",
              "    </script>\n",
              "  </div>\n",
              "\n",
              "\n",
              "<div id=\"df-ef81fcec-ebca-4430-9799-fe01073fb6f1\">\n",
              "  <button class=\"colab-df-quickchart\" onclick=\"quickchart('df-ef81fcec-ebca-4430-9799-fe01073fb6f1')\"\n",
              "            title=\"Suggest charts.\"\n",
              "            style=\"display:none;\">\n",
              "\n",
              "<svg xmlns=\"http://www.w3.org/2000/svg\" height=\"24px\"viewBox=\"0 0 24 24\"\n",
              "     width=\"24px\">\n",
              "    <g>\n",
              "        <path d=\"M19 3H5c-1.1 0-2 .9-2 2v14c0 1.1.9 2 2 2h14c1.1 0 2-.9 2-2V5c0-1.1-.9-2-2-2zM9 17H7v-7h2v7zm4 0h-2V7h2v10zm4 0h-2v-4h2v4z\"/>\n",
              "    </g>\n",
              "</svg>\n",
              "  </button>\n",
              "\n",
              "<style>\n",
              "  .colab-df-quickchart {\n",
              "    background-color: #E8F0FE;\n",
              "    border: none;\n",
              "    border-radius: 50%;\n",
              "    cursor: pointer;\n",
              "    display: none;\n",
              "    fill: #1967D2;\n",
              "    height: 32px;\n",
              "    padding: 0 0 0 0;\n",
              "    width: 32px;\n",
              "  }\n",
              "\n",
              "  .colab-df-quickchart:hover {\n",
              "    background-color: #E2EBFA;\n",
              "    box-shadow: 0px 1px 2px rgba(60, 64, 67, 0.3), 0px 1px 3px 1px rgba(60, 64, 67, 0.15);\n",
              "    fill: #174EA6;\n",
              "  }\n",
              "\n",
              "  [theme=dark] .colab-df-quickchart {\n",
              "    background-color: #3B4455;\n",
              "    fill: #D2E3FC;\n",
              "  }\n",
              "\n",
              "  [theme=dark] .colab-df-quickchart:hover {\n",
              "    background-color: #434B5C;\n",
              "    box-shadow: 0px 1px 3px 1px rgba(0, 0, 0, 0.15);\n",
              "    filter: drop-shadow(0px 1px 2px rgba(0, 0, 0, 0.3));\n",
              "    fill: #FFFFFF;\n",
              "  }\n",
              "</style>\n",
              "\n",
              "  <script>\n",
              "    async function quickchart(key) {\n",
              "      const charts = await google.colab.kernel.invokeFunction(\n",
              "          'suggestCharts', [key], {});\n",
              "    }\n",
              "    (() => {\n",
              "      let quickchartButtonEl =\n",
              "        document.querySelector('#df-ef81fcec-ebca-4430-9799-fe01073fb6f1 button');\n",
              "      quickchartButtonEl.style.display =\n",
              "        google.colab.kernel.accessAllowed ? 'block' : 'none';\n",
              "    })();\n",
              "  </script>\n",
              "</div>\n",
              "    </div>\n",
              "  </div>\n"
            ]
          },
          "metadata": {},
          "execution_count": 31
        }
      ]
    },
    {
      "cell_type": "code",
      "source": [
        "# Create scaler instance\n",
        "scaler = StandardScaler()\n",
        "\n",
        "#isolate features\n",
        "x = data.drop(columns='1819_salary_adjusted').values.astype(float)\n",
        "\n",
        "# # separate preprocessed data into features and target arrays\n",
        "# y = data['1819_salary_adjusted']np.reshape(-1,1)\n",
        "# x = data.drop(columns='1819_salary_adjusted')\n",
        "\n",
        "# y = np.reshapeX[:,1].reshape(-1,1)\n",
        "\n",
        "#fit standardscaler\n",
        "data_scaler_x = scaler.fit(x)\n",
        "\n",
        "# scale the data\n",
        "scaled_x = data_scaler_x.transform(x)"
      ],
      "metadata": {
        "id": "mFy9tl6mrsAQ"
      },
      "execution_count": 32,
      "outputs": []
    },
    {
      "cell_type": "code",
      "source": [
        "#Isolate target values\n",
        "y = data['1819_salary_adjusted'].values.astype(float)\n",
        "\n",
        "\n",
        "# split preprocessed data into training and testing data\n",
        "X_train, X_test, y_train, y_test = train_test_split(scaled_x, y, random_state=8)"
      ],
      "metadata": {
        "id": "Hf59lpWGr8vB"
      },
      "execution_count": 33,
      "outputs": []
    },
    {
      "cell_type": "code",
      "source": [
        "# create linear regression model\n",
        "reg = SGDRegressor(alpha=0.001, penalty= None)\n",
        "reg.fit(X_train, y_train)\n",
        "\n",
        "\n",
        "X_test"
      ],
      "metadata": {
        "colab": {
          "base_uri": "https://localhost:8080/"
        },
        "id": "BviUNpbJsWa_",
        "outputId": "fecc0a88-d480-4c3f-9923-d286a5892ec5"
      },
      "execution_count": 34,
      "outputs": [
        {
          "output_type": "execute_result",
          "data": {
            "text/plain": [
              "array([[-0.18699978, -0.25159379, -0.2902111 , ..., -0.52343375,\n",
              "        -0.61869619,  0.06219757],\n",
              "       [-0.18699978, -0.25159379, -0.2902111 , ...,  2.36742205,\n",
              "         1.82998954, -0.71716385],\n",
              "       [-0.18699978, -0.25159379, -0.2902111 , ..., -0.68532168,\n",
              "        -1.10219465, -0.65111628],\n",
              "       ...,\n",
              "       [-0.18699978, -0.25159379, -0.2902111 , ...,  1.37296766,\n",
              "         0.03636623, -0.41334499],\n",
              "       [-0.18699978, -0.25159379, -0.2902111 , ...,  0.97981127,\n",
              "         0.41068762,  0.35280691],\n",
              "       [-0.18699978, -0.25159379, -0.2902111 , ...,  2.11302674,\n",
              "         1.09694349,  0.71386701]])"
            ]
          },
          "metadata": {},
          "execution_count": 34
        }
      ]
    },
    {
      "cell_type": "code",
      "source": [
        "# examine the error rate of our models predictions\n",
        "error = y_test - reg.predict(X_test)\n",
        "error"
      ],
      "metadata": {
        "colab": {
          "base_uri": "https://localhost:8080/"
        },
        "id": "9IQ_8wxps23n",
        "outputId": "59462c5f-3f28-4a67-f66c-c15be7c2d07d"
      },
      "execution_count": 35,
      "outputs": [
        {
          "output_type": "execute_result",
          "data": {
            "text/plain": [
              "array([  2364287.78384231,   2995294.6325455 ,  -3697156.67292187,\n",
              "        -1984791.70584696,  -1378078.34308243,  -4636078.13159075,\n",
              "        -1338147.98374157,  -1595030.11374423,    807022.4623813 ,\n",
              "        -4632188.59423809,   9912649.01563048,  -5249300.01253397,\n",
              "        -2240981.28073939,  -1890208.7733465 ,   2579265.40339519,\n",
              "        19166384.75084733,   6446978.66281054,   -264269.07580719,\n",
              "        18916178.79751586,  -2275889.61470613,   3021007.49943738,\n",
              "          985780.77540381,  -1313341.48199454,   2329991.67012537,\n",
              "         -894839.10020117,   -412545.08474087,  -1006085.33763251,\n",
              "        -3413821.96947525,   3545441.9293478 ,   3464680.18275904,\n",
              "         4292781.12919123,   6628057.42510603,     67641.35576809,\n",
              "        -3530116.4666078 ,   -804603.55784946,   2344391.91337303,\n",
              "         7332904.76667197,   1853551.81997355,   5978798.20679459,\n",
              "          432691.68396054,  -3472168.52001268, -12291696.18244389,\n",
              "         1597895.22149257,   1224006.6882807 ,    204998.15815589,\n",
              "        -6667119.03901791,  -1223620.73666654,    611827.07438334,\n",
              "         3500779.28688419,    784306.4167938 ])"
            ]
          },
          "metadata": {},
          "execution_count": 35
        }
      ]
    },
    {
      "cell_type": "code",
      "source": [
        "# Test model\n",
        "y_pred = reg.predict(X_test)\n",
        "\n",
        "mae = mean_absolute_error(y_test, y_pred)\n",
        "mse = mean_squared_error(y_test, y_pred)\n",
        "rmse = mean_squared_error(y_test, y_pred, squared=False)  # setting squared=False gives RMSE directly\n",
        "r2 = r2_score(y_test, y_pred)\n",
        "\n",
        "#Print Results\n",
        "print(f\"Mean Absolute Error: {mae}\")\n",
        "print(f\"Mean Squared Error: {mse}\")\n",
        "print(f\"Root Mean Squared Error: {rmse}\")\n",
        "print(f\"R-squared: {r2}\")"
      ],
      "metadata": {
        "colab": {
          "base_uri": "https://localhost:8080/"
        },
        "id": "Q6gHFnDrtD5F",
        "outputId": "707a2cad-1150-4a46-e324-2fe502dd34ea"
      },
      "execution_count": 36,
      "outputs": [
        {
          "output_type": "stream",
          "name": "stdout",
          "text": [
            "Mean Absolute Error: 3592033.449836262\n",
            "Mean Squared Error: 29021093882089.344\n",
            "Root Mean Squared Error: 5387122.968903656\n",
            "R-squared: 0.7448599961136361\n"
          ]
        }
      ]
    },
    {
      "cell_type": "code",
      "source": [
        "# Adjust the data scaling\n",
        "# Create scaler instance\n",
        "scaler2 = MinMaxScaler()\n",
        "\n",
        "#fit MinMaxScaler\n",
        "data_scaler2x = scaler.fit(x)\n",
        "\n",
        "#scale the data\n",
        "scaled_data2x = data_scaler2x.transform(x)"
      ],
      "metadata": {
        "id": "ZAuIUhw3tthf"
      },
      "execution_count": 37,
      "outputs": []
    },
    {
      "cell_type": "code",
      "source": [
        "data.columns"
      ],
      "metadata": {
        "colab": {
          "base_uri": "https://localhost:8080/"
        },
        "id": "hXtipBp9v2Tw",
        "outputId": "992d1c9a-d4eb-433d-f586-cbb63688810d"
      },
      "execution_count": 38,
      "outputs": [
        {
          "output_type": "execute_result",
          "data": {
            "text/plain": [
              "Index(['0304_salary_adjusted', '0405_salary_adjusted', '0506_salary_adjusted',\n",
              "       '0607_salary_adjusted', '0708_salary_adjusted', '0809_salary_adjusted',\n",
              "       '0910_salary_adjusted', '1011_salary_adjusted', '1112_salary_adjusted',\n",
              "       '1213_salary_adjusted', '1314_salary_adjusted', '1415_salary_adjusted',\n",
              "       '1516_salary_adjusted', '1617_salary_adjusted', '1718_salary_adjusted',\n",
              "       '1819_salary_adjusted', 'CONTRACT_START', 'CONTRACT_END', 'AGE', 'GP',\n",
              "       'W', 'L', 'MIN', 'PTS', 'FGM', 'FGA', 'FG%', '3PM', '3PA', '3P%', 'FTM',\n",
              "       'FTA', 'FT%', 'OREB', 'DREB', 'REB', 'AST', 'TOV', 'STL', 'BLK', 'PF',\n",
              "       '+/-'],\n",
              "      dtype='object')"
            ]
          },
          "metadata": {},
          "execution_count": 38
        }
      ]
    },
    {
      "cell_type": "code",
      "source": [
        "# REPEAT - separate preprocessed data into features and target arrays using re-scaled data\n",
        "X_train, X_test, y_train, y_test = train_test_split(scaled_data2x, y, random_state=22)\n",
        "\n",
        "#examine target array\n",
        "data[\"1819_salary_adjusted\"].describe()"
      ],
      "metadata": {
        "colab": {
          "base_uri": "https://localhost:8080/"
        },
        "id": "wJ93W12Lv-wy",
        "outputId": "2445e789-c80c-4afb-c032-76193bc7ddd0"
      },
      "execution_count": 39,
      "outputs": [
        {
          "output_type": "execute_result",
          "data": {
            "text/plain": [
              "count    1.990000e+02\n",
              "mean     1.620615e+07\n",
              "std      1.120543e+07\n",
              "min      1.004870e+05\n",
              "25%      6.415412e+06\n",
              "50%      1.469861e+07\n",
              "75%      2.276547e+07\n",
              "max      4.404544e+07\n",
              "Name: 1819_salary_adjusted, dtype: float64"
            ]
          },
          "metadata": {},
          "execution_count": 39
        }
      ]
    },
    {
      "cell_type": "code",
      "source": [
        "# create linear regression model and change learning rate to 0.01\n",
        "reg = SGDRegressor(alpha=0.01, penalty= None)\n",
        "reg.fit(X_train, y_train)\n",
        "\n",
        "\n",
        "reg"
      ],
      "metadata": {
        "colab": {
          "base_uri": "https://localhost:8080/",
          "height": 74
        },
        "id": "2pguiE3ix5YD",
        "outputId": "58b4b0ee-77db-41a5-a02d-181e2b1f2f87"
      },
      "execution_count": 40,
      "outputs": [
        {
          "output_type": "execute_result",
          "data": {
            "text/plain": [
              "SGDRegressor(alpha=0.01, penalty=None)"
            ],
            "text/html": [
              "<style>#sk-container-id-2 {color: black;background-color: white;}#sk-container-id-2 pre{padding: 0;}#sk-container-id-2 div.sk-toggleable {background-color: white;}#sk-container-id-2 label.sk-toggleable__label {cursor: pointer;display: block;width: 100%;margin-bottom: 0;padding: 0.3em;box-sizing: border-box;text-align: center;}#sk-container-id-2 label.sk-toggleable__label-arrow:before {content: \"▸\";float: left;margin-right: 0.25em;color: #696969;}#sk-container-id-2 label.sk-toggleable__label-arrow:hover:before {color: black;}#sk-container-id-2 div.sk-estimator:hover label.sk-toggleable__label-arrow:before {color: black;}#sk-container-id-2 div.sk-toggleable__content {max-height: 0;max-width: 0;overflow: hidden;text-align: left;background-color: #f0f8ff;}#sk-container-id-2 div.sk-toggleable__content pre {margin: 0.2em;color: black;border-radius: 0.25em;background-color: #f0f8ff;}#sk-container-id-2 input.sk-toggleable__control:checked~div.sk-toggleable__content {max-height: 200px;max-width: 100%;overflow: auto;}#sk-container-id-2 input.sk-toggleable__control:checked~label.sk-toggleable__label-arrow:before {content: \"▾\";}#sk-container-id-2 div.sk-estimator input.sk-toggleable__control:checked~label.sk-toggleable__label {background-color: #d4ebff;}#sk-container-id-2 div.sk-label input.sk-toggleable__control:checked~label.sk-toggleable__label {background-color: #d4ebff;}#sk-container-id-2 input.sk-hidden--visually {border: 0;clip: rect(1px 1px 1px 1px);clip: rect(1px, 1px, 1px, 1px);height: 1px;margin: -1px;overflow: hidden;padding: 0;position: absolute;width: 1px;}#sk-container-id-2 div.sk-estimator {font-family: monospace;background-color: #f0f8ff;border: 1px dotted black;border-radius: 0.25em;box-sizing: border-box;margin-bottom: 0.5em;}#sk-container-id-2 div.sk-estimator:hover {background-color: #d4ebff;}#sk-container-id-2 div.sk-parallel-item::after {content: \"\";width: 100%;border-bottom: 1px solid gray;flex-grow: 1;}#sk-container-id-2 div.sk-label:hover label.sk-toggleable__label {background-color: #d4ebff;}#sk-container-id-2 div.sk-serial::before {content: \"\";position: absolute;border-left: 1px solid gray;box-sizing: border-box;top: 0;bottom: 0;left: 50%;z-index: 0;}#sk-container-id-2 div.sk-serial {display: flex;flex-direction: column;align-items: center;background-color: white;padding-right: 0.2em;padding-left: 0.2em;position: relative;}#sk-container-id-2 div.sk-item {position: relative;z-index: 1;}#sk-container-id-2 div.sk-parallel {display: flex;align-items: stretch;justify-content: center;background-color: white;position: relative;}#sk-container-id-2 div.sk-item::before, #sk-container-id-2 div.sk-parallel-item::before {content: \"\";position: absolute;border-left: 1px solid gray;box-sizing: border-box;top: 0;bottom: 0;left: 50%;z-index: -1;}#sk-container-id-2 div.sk-parallel-item {display: flex;flex-direction: column;z-index: 1;position: relative;background-color: white;}#sk-container-id-2 div.sk-parallel-item:first-child::after {align-self: flex-end;width: 50%;}#sk-container-id-2 div.sk-parallel-item:last-child::after {align-self: flex-start;width: 50%;}#sk-container-id-2 div.sk-parallel-item:only-child::after {width: 0;}#sk-container-id-2 div.sk-dashed-wrapped {border: 1px dashed gray;margin: 0 0.4em 0.5em 0.4em;box-sizing: border-box;padding-bottom: 0.4em;background-color: white;}#sk-container-id-2 div.sk-label label {font-family: monospace;font-weight: bold;display: inline-block;line-height: 1.2em;}#sk-container-id-2 div.sk-label-container {text-align: center;}#sk-container-id-2 div.sk-container {/* jupyter's `normalize.less` sets `[hidden] { display: none; }` but bootstrap.min.css set `[hidden] { display: none !important; }` so we also need the `!important` here to be able to override the default hidden behavior on the sphinx rendered scikit-learn.org. See: https://github.com/scikit-learn/scikit-learn/issues/21755 */display: inline-block !important;position: relative;}#sk-container-id-2 div.sk-text-repr-fallback {display: none;}</style><div id=\"sk-container-id-2\" class=\"sk-top-container\"><div class=\"sk-text-repr-fallback\"><pre>SGDRegressor(alpha=0.01, penalty=None)</pre><b>In a Jupyter environment, please rerun this cell to show the HTML representation or trust the notebook. <br />On GitHub, the HTML representation is unable to render, please try loading this page with nbviewer.org.</b></div><div class=\"sk-container\" hidden><div class=\"sk-item\"><div class=\"sk-estimator sk-toggleable\"><input class=\"sk-toggleable__control sk-hidden--visually\" id=\"sk-estimator-id-2\" type=\"checkbox\" checked><label for=\"sk-estimator-id-2\" class=\"sk-toggleable__label sk-toggleable__label-arrow\">SGDRegressor</label><div class=\"sk-toggleable__content\"><pre>SGDRegressor(alpha=0.01, penalty=None)</pre></div></div></div></div></div>"
            ]
          },
          "metadata": {},
          "execution_count": 40
        }
      ]
    },
    {
      "cell_type": "code",
      "source": [
        "# Test model\n",
        "y_pred = reg.predict(X_test)\n",
        "\n",
        "mae = mean_absolute_error(y_test, y_pred)\n",
        "mse = mean_squared_error(y_test, y_pred)\n",
        "rmse = mean_squared_error(y_test, y_pred, squared=False)  # setting squared=False gives RMSE directly\n",
        "r2 = r2_score(y_test, y_pred)"
      ],
      "metadata": {
        "id": "0Gc66nwEf9ZN"
      },
      "execution_count": 41,
      "outputs": []
    },
    {
      "cell_type": "code",
      "source": [
        "#Print Results\n",
        "print(f\"Mean Absolute Error: {mae}\")\n",
        "print(f\"Mean Squared Error: {mse}\")\n",
        "print(f\"Root Mean Squared Error: {rmse}\")\n",
        "print(f\"R-squared: {r2}\")"
      ],
      "metadata": {
        "colab": {
          "base_uri": "https://localhost:8080/"
        },
        "id": "hJEc7vsOgGNt",
        "outputId": "53d0da78-8a35-421d-85cf-1fa9f6f15034"
      },
      "execution_count": 42,
      "outputs": [
        {
          "output_type": "stream",
          "name": "stdout",
          "text": [
            "Mean Absolute Error: 2704655.9750218308\n",
            "Mean Squared Error: 14818718412349.66\n",
            "Root Mean Squared Error: 3849508.8533928143\n",
            "R-squared: 0.8852846133463319\n"
          ]
        }
      ]
    },
    {
      "cell_type": "code",
      "source": [
        "#plot the predicted salaries against the actual salaries using a scatter plotplt.figure(figsize=(10, 6))\n",
        "plt.scatter(y_test, y_pred, color='blue')\n",
        "plt.plot([0, max(y_test)], [0, max(y_test)], color='red', linestyle='--')\n",
        "plt.xlabel('Actual Salary')\n",
        "plt.ylabel('Predicted Salary')\n",
        "plt.title('Actual vs Predicted Salary')\n",
        "plt.show()"
      ],
      "metadata": {
        "colab": {
          "base_uri": "https://localhost:8080/",
          "height": 472
        },
        "id": "cF6FIFYrAZMB",
        "outputId": "f8b2183b-7a4a-4030-f8ab-4882d8b26bff"
      },
      "execution_count": 43,
      "outputs": [
        {
          "output_type": "display_data",
          "data": {
            "text/plain": [
              "<Figure size 640x480 with 1 Axes>"
            ],
            "image/png": "[encoded data removed]"
          },
          "metadata": {}
        }
      ]
    },
    {
      "cell_type": "code",
      "source": [
        "# Test model\n",
        "y_pred = reg.predict(X_test)\n",
        "\n",
        "mae = mean_absolute_error(y_test, y_pred)\n",
        "mse = mean_squared_error(y_test, y_pred)\n",
        "rmse = mean_squared_error(y_test, y_pred, squared=False)  # setting squared=False gives RMSE directly\n",
        "r2 = r2_score(y_test, y_pred)\n",
        "\n",
        "#Print Results\n",
        "print(f\"Mean Absolute Error: {mae}\")\n",
        "print(f\"Mean Squared Error: {mse}\")\n",
        "print(f\"Root Mean Squared Error: {rmse}\")\n",
        "print(f\"R-squared: {r2}\")"
      ],
      "metadata": {
        "colab": {
          "base_uri": "https://localhost:8080/"
        },
        "id": "ZDpRGgo8ysXm",
        "outputId": "df642d07-0f98-43d8-92a7-d1c8ddd58a1b"
      },
      "execution_count": 44,
      "outputs": [
        {
          "output_type": "stream",
          "name": "stdout",
          "text": [
            "Mean Absolute Error: 2704655.9750218308\n",
            "Mean Squared Error: 14818718412349.66\n",
            "Root Mean Squared Error: 3849508.8533928143\n",
            "R-squared: 0.8852846133463319\n"
          ]
        }
      ]
    },
    {
      "cell_type": "code",
      "source": [
        "# Create linear regression model and change learning rate to 0.01\n",
        "reg = SGDRegressor(alpha=0.01, penalty=None)\n",
        "reg.fit(X_train, y_train)\n",
        "\n",
        "# Train the model and track the loss over iterations\n",
        "losses = []  # to store the loss values\n",
        "\n",
        "num_epochs = 1000  # you can adjust this value as needed\n",
        "for epoch in range(num_epochs):\n",
        "    reg.partial_fit(X_train, y_train)  # perform partial fitting (online learning)\n",
        "    y_pred_train = reg.predict(X_train)\n",
        "    mse_train = mean_squared_error(y_train, y_pred_train)\n",
        "    losses.append(mse_train)\n",
        "\n",
        "# Plot the loss over iterations\n",
        "plt.plot(range(num_epochs), losses, label='Mean Squared Error')\n",
        "plt.xlabel('Epochs')\n",
        "plt.ylabel('Loss')\n",
        "plt.title('Loss Over Training Epochs')\n",
        "plt.legend()\n",
        "plt.show()"
      ],
      "metadata": {
        "colab": {
          "base_uri": "https://localhost:8080/",
          "height": 472
        },
        "id": "KkLFiXnViyjT",
        "outputId": "0f88f88b-5954-4357-cdf4-44ea82480a33"
      },
      "execution_count": 49,
      "outputs": [
        {
          "output_type": "display_data",
          "data": {
            "text/plain": [
              "<Figure size 640x480 with 1 Axes>"
            ],
            "image/png": "[encoded data removed]"
          },
          "metadata": {}
        }
      ]
    },
    {
      "cell_type": "code",
      "source": [
        "# Create linear regression model and change learning rate to 0.01\n",
        "reg = SGDRegressor(alpha=0.7, penalty='l2', learning_rate='constant', eta0=0.01)\n",
        "reg.fit(X_train, y_train)\n",
        "\n",
        "\n",
        "# Train the model and track the loss over iterations\n",
        "losses = []  # to store the loss values\n",
        "\n",
        "num_epochs = 1000  # you can adjust this value as needed\n",
        "for epoch in range(num_epochs):\n",
        "    reg.partial_fit(X_train, y_train)  # perform partial fitting (online learning)\n",
        "    y_pred_train = reg.predict(X_train)\n",
        "    mse_train = mean_squared_error(y_train, y_pred_train)\n",
        "    losses.append(mse_train)\n",
        "\n",
        "# Plot the loss over iterations\n",
        "plt.plot(range(num_epochs), losses, label='Mean Squared Error')\n",
        "plt.xlabel('Epochs')\n",
        "plt.ylabel('Loss')\n",
        "plt.title('Loss Over Training Epochs')\n",
        "plt.legend()\n",
        "plt.show()\n"
      ],
      "metadata": {
        "colab": {
          "base_uri": "https://localhost:8080/",
          "height": 472
        },
        "id": "ttufzUWk-J23",
        "outputId": "8542390b-6348-4972-fea8-edc426075465"
      },
      "execution_count": 73,
      "outputs": [
        {
          "output_type": "display_data",
          "data": {
            "text/plain": [
              "<Figure size 640x480 with 1 Axes>"
            ],
            "image/png": "[encoded data removed]"
          },
          "metadata": {}
        }
      ]
    },
    {
      "cell_type": "code",
      "source": [
        "#plot the predicted salaries against the actual salaries using a scatter plotplt.figure(figsize=(10, 6))\n",
        "plt.scatter(y_test, y_pred, color='blue')\n",
        "plt.plot([0, max(y_test)], [0, max(y_test)], color='red', linestyle='--')\n",
        "plt.xlabel('Actual Salary')\n",
        "plt.ylabel('Predicted Salary')\n",
        "plt.title('Actual vs Predicted Salary')\n",
        "plt.show()\n"
      ],
      "metadata": {
        "colab": {
          "base_uri": "https://localhost:8080/",
          "height": 472
        },
        "id": "lb_hKsm0-7sh",
        "outputId": "c29df969-e91f-493f-d24e-dafce86243eb"
      },
      "execution_count": 21,
      "outputs": [
        {
          "output_type": "display_data",
          "data": {
            "text/plain": [
              "<Figure size 640x480 with 1 Axes>"
            ],
            "image/png": "[encoded data removed]"
          },
          "metadata": {}
        }
      ]
    },
    {
      "cell_type": "code",
      "source": [],
      "metadata": {
        "id": "I95OfLdBDVqJ"
      },
      "execution_count": 20,
      "outputs": []
    },
    {
      "cell_type": "code",
      "source": [
        "# Extract age and predicted salaries\n",
        "player_age = X_test[:, -2]  # Assuming age is the second-to-last feature\n",
        "predicted_salaries = y_pred"
      ],
      "metadata": {
        "id": "IYHkMq13A9ut"
      },
      "execution_count": 62,
      "outputs": []
    },
    {
      "cell_type": "code",
      "source": [
        "# Create scatter plot\n",
        "plt.figure(figsize=(10, 6))\n",
        "plt.scatter( player_age, predicted_salaries, color='blue', alpha=0.7)\n",
        "plt.title(\"Predicted Salary vs. Age\")\n",
        "plt.xlabel(\"Age\")\n",
        "plt.ylabel(\"Predicted Salary\")\n",
        "plt.show()\n"
      ],
      "metadata": {
        "colab": {
          "base_uri": "https://localhost:8080/",
          "height": 534
        },
        "id": "0VcFLcX1BjxT",
        "outputId": "1f30168f-26c8-4ce7-fa52-f0f027a6f68f"
      },
      "execution_count": 65,
      "outputs": [
        {
          "output_type": "display_data",
          "data": {
            "text/plain": [
              "<Figure size 1000x600 with 1 Axes>"
            ],
            "image/png": "[encoded data removed]"
          },
          "metadata": {}
        }
      ]
    },
    {
      "cell_type": "code",
      "source": [
        "# Extract age and predicted salaries\n",
        "player_age = X_test[:, -1]  # Assuming age is the second-to-last feature\n",
        "predicted_salaries = y_pred"
      ],
      "metadata": {
        "id": "76ToW6esB-iJ"
      },
      "execution_count": 59,
      "outputs": []
    },
    {
      "cell_type": "code",
      "source": [
        "# Create scatter plot\n",
        "plt.figure(figsize=(10, 6))\n",
        "\n",
        "plt.scatter(player_age, predicted_salaries, color='blue', alpha=0.7)\n",
        "plt.title(\"Predicted Salary vs GP\")\n",
        "plt.xlabel(\"GP\")\n",
        "plt.ylabel(\"Predicted Salary\")\n",
        "plt.show()"
      ],
      "metadata": {
        "colab": {
          "base_uri": "https://localhost:8080/",
          "height": 534
        },
        "id": "e_7Db8z6CHGF",
        "outputId": "d7ab1780-e581-4ae7-f5a9-bd4e749da89a"
      },
      "execution_count": 64,
      "outputs": [
        {
          "output_type": "display_data",
          "data": {
            "text/plain": [
              "<Figure size 1000x600 with 1 Axes>"
            ],
            "image/png": "[encoded data removed]"
          },
          "metadata": {}
        }
      ]
    }
  ]
}